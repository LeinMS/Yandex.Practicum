{
 "cells": [
  {
   "cell_type": "markdown",
   "metadata": {
    "id": "E0vqbgi9ay0H"
   },
   "source": [
    "# Yandex.Music"
   ]
  },
  {
   "cell_type": "markdown",
   "metadata": {
    "id": "VUC88oWjTJw2"
   },
   "source": [
    "Comparison of Moscow and St. Petersburg is surrounded by myths. For example:\n",
    "\n",
    "- Moscow is a metropolis subject to the rigid rhythm of the working week;\n",
    "- St. Petersburg is a cultural capital, with its own tastes.\n",
    "\n",
    "Using Yandex.Music data, you will compare the behavior of users in the two capitals.\n",
    "\n",
    "**Research Purpose** - Test three hypotheses:\n",
    "\n",
    "1. User activity depends on the day of the week. Moreover, in Moscow and St. Petersburg this manifests itself in different ways.\n",
    "2. On Monday morning, certain genres prevail in Moscow, while others prevail in St. Petersburg. Similarly, Friday evenings are dominated by different genres, depending on the city.\n",
    "3. Moscow and St. Petersburg prefer different genres of music. In Moscow, they listen to pop music more often, in St. Petersburg Russian rap.\n",
    "\n",
    "**Research Progress**\n",
    "\n",
    "You will receive data on user behavior from the yandex_music_project.csv file. Nothing is known about the quality of the data. Therefore, before testing hypotheses, a review of the data is required.\n",
    "\n",
    "You will check the data for errors and assess their impact on the study. Then, during the pre-processing phase, you will look for opportunities to correct the most critical data errors.\n",
    "\n",
    "Thus, the study will take place in three stages:\n",
    "\n",
    "- Data review.\n",
    "- Data preprocessing.\n",
    "- Hypothesis testing.\n",
    "\n"
   ]
  },
  {
   "cell_type": "markdown",
   "metadata": {
    "id": "Ml1hmfXC_Zcs"
   },
   "source": [
    "### **Browse data**"
   ]
  },
  {
   "cell_type": "code",
   "execution_count": 1,
   "metadata": {
    "id": "AXN7PHPN_Zcs"
   },
   "outputs": [],
   "source": [
    "import pandas as pd"
   ]
  },
  {
   "cell_type": "markdown",
   "metadata": {
    "id": "SG23P8tt_Zcs"
   },
   "source": [
    "Read the ```yandex_music_project.csv file``` from the ```/datasets folder``` and save it in the df variable:"
   ]
  },
  {
   "cell_type": "code",
   "execution_count": 2,
   "metadata": {
    "id": "fFVu7vqh_Zct"
   },
   "outputs": [],
   "source": [
    "df = pd.read_csv('yandex_music_project.csv')\n",
    "\n",
    "pd.set_option('display.max_rows', 500)\n",
    "pd.set_option('display.max_columns', 500)\n",
    "pd.set_option('display.width', 1000)"
   ]
  },
  {
   "cell_type": "markdown",
   "metadata": {
    "id": "rDoOMd3uTqnZ"
   },
   "source": [
    "Display the first 10 rows of the table:"
   ]
  },
  {
   "cell_type": "code",
   "execution_count": 3,
   "metadata": {
    "id": "oWTVX3gW_Zct"
   },
   "outputs": [
    {
     "data": {
      "text/html": [
       "<div>\n",
       "<style scoped>\n",
       "    .dataframe tbody tr th:only-of-type {\n",
       "        vertical-align: middle;\n",
       "    }\n",
       "\n",
       "    .dataframe tbody tr th {\n",
       "        vertical-align: top;\n",
       "    }\n",
       "\n",
       "    .dataframe thead th {\n",
       "        text-align: right;\n",
       "    }\n",
       "</style>\n",
       "<table border=\"1\" class=\"dataframe\">\n",
       "  <thead>\n",
       "    <tr style=\"text-align: right;\">\n",
       "      <th></th>\n",
       "      <th>userID</th>\n",
       "      <th>Track</th>\n",
       "      <th>artist</th>\n",
       "      <th>genre</th>\n",
       "      <th>City</th>\n",
       "      <th>time</th>\n",
       "      <th>Day</th>\n",
       "    </tr>\n",
       "  </thead>\n",
       "  <tbody>\n",
       "    <tr>\n",
       "      <th>0</th>\n",
       "      <td>FFB692EC</td>\n",
       "      <td>Kamigata To Boots</td>\n",
       "      <td>The Mass Missile</td>\n",
       "      <td>rock</td>\n",
       "      <td>Saint-Petersburg</td>\n",
       "      <td>20:28:33</td>\n",
       "      <td>Wednesday</td>\n",
       "    </tr>\n",
       "    <tr>\n",
       "      <th>1</th>\n",
       "      <td>55204538</td>\n",
       "      <td>Delayed Because of Accident</td>\n",
       "      <td>Andreas Rönnberg</td>\n",
       "      <td>rock</td>\n",
       "      <td>Moscow</td>\n",
       "      <td>14:07:09</td>\n",
       "      <td>Friday</td>\n",
       "    </tr>\n",
       "    <tr>\n",
       "      <th>2</th>\n",
       "      <td>20EC38</td>\n",
       "      <td>Funiculì funiculà</td>\n",
       "      <td>Mario Lanza</td>\n",
       "      <td>pop</td>\n",
       "      <td>Saint-Petersburg</td>\n",
       "      <td>20:58:07</td>\n",
       "      <td>Wednesday</td>\n",
       "    </tr>\n",
       "    <tr>\n",
       "      <th>3</th>\n",
       "      <td>A3DD03C9</td>\n",
       "      <td>Dragons in the Sunset</td>\n",
       "      <td>Fire + Ice</td>\n",
       "      <td>folk</td>\n",
       "      <td>Saint-Petersburg</td>\n",
       "      <td>08:37:09</td>\n",
       "      <td>Monday</td>\n",
       "    </tr>\n",
       "    <tr>\n",
       "      <th>4</th>\n",
       "      <td>E2DC1FAE</td>\n",
       "      <td>Soul People</td>\n",
       "      <td>Space Echo</td>\n",
       "      <td>dance</td>\n",
       "      <td>Moscow</td>\n",
       "      <td>08:34:34</td>\n",
       "      <td>Monday</td>\n",
       "    </tr>\n",
       "    <tr>\n",
       "      <th>5</th>\n",
       "      <td>842029A1</td>\n",
       "      <td>Преданная</td>\n",
       "      <td>IMPERVTOR</td>\n",
       "      <td>rusrap</td>\n",
       "      <td>Saint-Petersburg</td>\n",
       "      <td>13:09:41</td>\n",
       "      <td>Friday</td>\n",
       "    </tr>\n",
       "    <tr>\n",
       "      <th>6</th>\n",
       "      <td>4CB90AA5</td>\n",
       "      <td>True</td>\n",
       "      <td>Roman Messer</td>\n",
       "      <td>dance</td>\n",
       "      <td>Moscow</td>\n",
       "      <td>13:00:07</td>\n",
       "      <td>Wednesday</td>\n",
       "    </tr>\n",
       "    <tr>\n",
       "      <th>7</th>\n",
       "      <td>F03E1C1F</td>\n",
       "      <td>Feeling This Way</td>\n",
       "      <td>Polina Griffith</td>\n",
       "      <td>dance</td>\n",
       "      <td>Moscow</td>\n",
       "      <td>20:47:49</td>\n",
       "      <td>Wednesday</td>\n",
       "    </tr>\n",
       "    <tr>\n",
       "      <th>8</th>\n",
       "      <td>8FA1D3BE</td>\n",
       "      <td>И вновь продолжается бой</td>\n",
       "      <td>NaN</td>\n",
       "      <td>ruspop</td>\n",
       "      <td>Moscow</td>\n",
       "      <td>09:17:40</td>\n",
       "      <td>Friday</td>\n",
       "    </tr>\n",
       "    <tr>\n",
       "      <th>9</th>\n",
       "      <td>E772D5C0</td>\n",
       "      <td>Pessimist</td>\n",
       "      <td>NaN</td>\n",
       "      <td>dance</td>\n",
       "      <td>Saint-Petersburg</td>\n",
       "      <td>21:20:49</td>\n",
       "      <td>Wednesday</td>\n",
       "    </tr>\n",
       "  </tbody>\n",
       "</table>\n",
       "</div>"
      ],
      "text/plain": [
       "     userID                        Track            artist   genre            City        time        Day\n",
       "0  FFB692EC            Kamigata To Boots  The Mass Missile    rock  Saint-Petersburg  20:28:33  Wednesday\n",
       "1  55204538  Delayed Because of Accident  Andreas Rönnberg    rock            Moscow  14:07:09     Friday\n",
       "2    20EC38            Funiculì funiculà       Mario Lanza     pop  Saint-Petersburg  20:58:07  Wednesday\n",
       "3  A3DD03C9        Dragons in the Sunset        Fire + Ice    folk  Saint-Petersburg  08:37:09     Monday\n",
       "4  E2DC1FAE                  Soul People        Space Echo   dance            Moscow  08:34:34     Monday\n",
       "5  842029A1                    Преданная         IMPERVTOR  rusrap  Saint-Petersburg  13:09:41     Friday\n",
       "6  4CB90AA5                         True      Roman Messer   dance            Moscow  13:00:07  Wednesday\n",
       "7  F03E1C1F             Feeling This Way   Polina Griffith   dance            Moscow  20:47:49  Wednesday\n",
       "8  8FA1D3BE     И вновь продолжается бой               NaN  ruspop            Moscow  09:17:40     Friday\n",
       "9  E772D5C0                    Pessimist               NaN   dance  Saint-Petersburg  21:20:49  Wednesday"
      ]
     },
     "execution_count": 3,
     "metadata": {},
     "output_type": "execute_result"
    }
   ],
   "source": [
    "df.head(10)"
   ]
  },
  {
   "cell_type": "markdown",
   "metadata": {
    "id": "EO73Kwic_Zct"
   },
   "source": [
    "One command to get general information about the table:"
   ]
  },
  {
   "cell_type": "code",
   "execution_count": 4,
   "metadata": {
    "id": "DSf2kIb-_Zct"
   },
   "outputs": [
    {
     "name": "stdout",
     "output_type": "stream",
     "text": [
      "<class 'pandas.core.frame.DataFrame'>\n",
      "RangeIndex: 65079 entries, 0 to 65078\n",
      "Data columns (total 7 columns):\n",
      " #   Column    Non-Null Count  Dtype \n",
      "---  ------    --------------  ----- \n",
      " 0     userID  65079 non-null  object\n",
      " 1   Track     63848 non-null  object\n",
      " 2   artist    57876 non-null  object\n",
      " 3   genre     63881 non-null  object\n",
      " 4     City    65079 non-null  object\n",
      " 5   time      65079 non-null  object\n",
      " 6   Day       65079 non-null  object\n",
      "dtypes: object(7)\n",
      "memory usage: 3.5+ MB\n"
     ]
    }
   ],
   "source": [
    "df.info()"
   ]
  },
  {
   "cell_type": "markdown",
   "metadata": {
    "id": "TaQ2Iwbr_Zct"
   },
   "source": [
    "So the table has seven columns. The data type in all columns is object.\n",
    "\n",
    "According to the data documentation:\n",
    "* `userID` - user ID;\n",
    "* `Track` — track name;\n",
    "* `artist` — artist name;\n",
    "* `genre` — genre name;\n",
    "* `City` — user's city;\n",
    "* `Day` — the day of the week.\n",
    "There are three style violations in the column headings:\n",
    "\n",
    "Lowercase letters are combined with uppercase.\n",
    "There are three style violations in the column headings:\n",
    "\n",
    "1. Lowercase letters are combined with uppercase.\n",
    "2. There are gaps.\n",
    "3. Not using _ in user ID\n",
    "\n",
    "The number of values in the columns varies. This means there are missing values in the data"
   ]
  },
  {
   "cell_type": "markdown",
   "metadata": {
    "id": "MCB6-dXG_Zct"
   },
   "source": [
    "**Conclusions**\n",
    "\n",
    "Each line of the table contains data about the track you have listened to. Some of the columns describe the composition itself: title, artist and genre. The rest of the data tells about the user: what city he is from, when he listened to music.\n",
    "\n",
    "Preliminarily, it can be argued that there is enough data to test hypotheses. But there are gaps in the data, and discrepancies in the names of the columns with good style.\n",
    "\n",
    "To move forward, you need to fix problems in the data."
   ]
  },
  {
   "cell_type": "markdown",
   "metadata": {
    "id": "SjYF6Ub9_Zct"
   },
   "source": [
    "## Data preprocessing\n",
    "Correct the style in the column headings, eliminate gaps. Then check the data for duplicates.\n",
    "\n",
    "### Heading style\n",
    "Display the column names:"
   ]
  },
  {
   "cell_type": "code",
   "execution_count": 5,
   "metadata": {
    "id": "oKOTdF_Q_Zct"
   },
   "outputs": [
    {
     "data": {
      "text/plain": [
       "Index(['  userID', 'Track', 'artist', 'genre', '  City  ', 'time', 'Day'], dtype='object')"
      ]
     },
     "execution_count": 5,
     "metadata": {},
     "output_type": "execute_result"
    }
   ],
   "source": [
    "df.columns"
   ]
  },
  {
   "cell_type": "markdown",
   "metadata": {
    "id": "zj5534cv_Zct"
   },
   "source": [
    "Bring titles in line with good style:\n",
    "\n",
    "* write a few words in the title in \"snake_register\";\n",
    "* make all characters lowercase;\n",
    "* eliminate spaces.\n",
    "\n",
    "To do this, rename the columns like this:\n",
    "* `'  userID'` → `'user_id'`;\n",
    "* `'Track'` → `'track'`;\n",
    "* `'  City  '` → `'city'`;\n",
    "* `'Day'` → `'day'`."
   ]
  },
  {
   "cell_type": "code",
   "execution_count": 6,
   "metadata": {
    "id": "ISlFqs5y_Zct"
   },
   "outputs": [],
   "source": [
    "df = df.rename(columns={'  userID':'user_id','Track':'track','  City  ':'city','Day':'day'})"
   ]
  },
  {
   "cell_type": "markdown",
   "metadata": {
    "id": "1dqbh00J_Zct"
   },
   "source": [
    "Check the result. To do this, display the column names again:"
   ]
  },
  {
   "cell_type": "code",
   "execution_count": 7,
   "metadata": {
    "id": "d4NOAmTW_Zct"
   },
   "outputs": [
    {
     "data": {
      "text/html": [
       "<div>\n",
       "<style scoped>\n",
       "    .dataframe tbody tr th:only-of-type {\n",
       "        vertical-align: middle;\n",
       "    }\n",
       "\n",
       "    .dataframe tbody tr th {\n",
       "        vertical-align: top;\n",
       "    }\n",
       "\n",
       "    .dataframe thead th {\n",
       "        text-align: right;\n",
       "    }\n",
       "</style>\n",
       "<table border=\"1\" class=\"dataframe\">\n",
       "  <thead>\n",
       "    <tr style=\"text-align: right;\">\n",
       "      <th></th>\n",
       "      <th>user_id</th>\n",
       "      <th>track</th>\n",
       "      <th>artist</th>\n",
       "      <th>genre</th>\n",
       "      <th>city</th>\n",
       "      <th>time</th>\n",
       "      <th>day</th>\n",
       "    </tr>\n",
       "  </thead>\n",
       "  <tbody>\n",
       "    <tr>\n",
       "      <th>0</th>\n",
       "      <td>FFB692EC</td>\n",
       "      <td>Kamigata To Boots</td>\n",
       "      <td>The Mass Missile</td>\n",
       "      <td>rock</td>\n",
       "      <td>Saint-Petersburg</td>\n",
       "      <td>20:28:33</td>\n",
       "      <td>Wednesday</td>\n",
       "    </tr>\n",
       "    <tr>\n",
       "      <th>1</th>\n",
       "      <td>55204538</td>\n",
       "      <td>Delayed Because of Accident</td>\n",
       "      <td>Andreas Rönnberg</td>\n",
       "      <td>rock</td>\n",
       "      <td>Moscow</td>\n",
       "      <td>14:07:09</td>\n",
       "      <td>Friday</td>\n",
       "    </tr>\n",
       "    <tr>\n",
       "      <th>2</th>\n",
       "      <td>20EC38</td>\n",
       "      <td>Funiculì funiculà</td>\n",
       "      <td>Mario Lanza</td>\n",
       "      <td>pop</td>\n",
       "      <td>Saint-Petersburg</td>\n",
       "      <td>20:58:07</td>\n",
       "      <td>Wednesday</td>\n",
       "    </tr>\n",
       "    <tr>\n",
       "      <th>3</th>\n",
       "      <td>A3DD03C9</td>\n",
       "      <td>Dragons in the Sunset</td>\n",
       "      <td>Fire + Ice</td>\n",
       "      <td>folk</td>\n",
       "      <td>Saint-Petersburg</td>\n",
       "      <td>08:37:09</td>\n",
       "      <td>Monday</td>\n",
       "    </tr>\n",
       "    <tr>\n",
       "      <th>4</th>\n",
       "      <td>E2DC1FAE</td>\n",
       "      <td>Soul People</td>\n",
       "      <td>Space Echo</td>\n",
       "      <td>dance</td>\n",
       "      <td>Moscow</td>\n",
       "      <td>08:34:34</td>\n",
       "      <td>Monday</td>\n",
       "    </tr>\n",
       "    <tr>\n",
       "      <th>...</th>\n",
       "      <td>...</td>\n",
       "      <td>...</td>\n",
       "      <td>...</td>\n",
       "      <td>...</td>\n",
       "      <td>...</td>\n",
       "      <td>...</td>\n",
       "      <td>...</td>\n",
       "    </tr>\n",
       "    <tr>\n",
       "      <th>65074</th>\n",
       "      <td>729CBB09</td>\n",
       "      <td>My Name</td>\n",
       "      <td>McLean</td>\n",
       "      <td>rnb</td>\n",
       "      <td>Moscow</td>\n",
       "      <td>13:32:28</td>\n",
       "      <td>Wednesday</td>\n",
       "    </tr>\n",
       "    <tr>\n",
       "      <th>65075</th>\n",
       "      <td>D08D4A55</td>\n",
       "      <td>Maybe One Day (feat. Black Spade)</td>\n",
       "      <td>Blu &amp; Exile</td>\n",
       "      <td>hip</td>\n",
       "      <td>Saint-Petersburg</td>\n",
       "      <td>10:00:00</td>\n",
       "      <td>Monday</td>\n",
       "    </tr>\n",
       "    <tr>\n",
       "      <th>65076</th>\n",
       "      <td>C5E3A0D5</td>\n",
       "      <td>Jalopiina</td>\n",
       "      <td>NaN</td>\n",
       "      <td>industrial</td>\n",
       "      <td>Moscow</td>\n",
       "      <td>20:09:26</td>\n",
       "      <td>Friday</td>\n",
       "    </tr>\n",
       "    <tr>\n",
       "      <th>65077</th>\n",
       "      <td>321D0506</td>\n",
       "      <td>Freight Train</td>\n",
       "      <td>Chas McDevitt</td>\n",
       "      <td>rock</td>\n",
       "      <td>Moscow</td>\n",
       "      <td>21:43:59</td>\n",
       "      <td>Friday</td>\n",
       "    </tr>\n",
       "    <tr>\n",
       "      <th>65078</th>\n",
       "      <td>3A64EF84</td>\n",
       "      <td>Tell Me Sweet Little Lies</td>\n",
       "      <td>Monica Lopez</td>\n",
       "      <td>country</td>\n",
       "      <td>Moscow</td>\n",
       "      <td>21:59:46</td>\n",
       "      <td>Friday</td>\n",
       "    </tr>\n",
       "  </tbody>\n",
       "</table>\n",
       "<p>65079 rows × 7 columns</p>\n",
       "</div>"
      ],
      "text/plain": [
       "        user_id                              track            artist       genre              city      time        day\n",
       "0      FFB692EC                  Kamigata To Boots  The Mass Missile        rock  Saint-Petersburg  20:28:33  Wednesday\n",
       "1      55204538        Delayed Because of Accident  Andreas Rönnberg        rock            Moscow  14:07:09     Friday\n",
       "2        20EC38                  Funiculì funiculà       Mario Lanza         pop  Saint-Petersburg  20:58:07  Wednesday\n",
       "3      A3DD03C9              Dragons in the Sunset        Fire + Ice        folk  Saint-Petersburg  08:37:09     Monday\n",
       "4      E2DC1FAE                        Soul People        Space Echo       dance            Moscow  08:34:34     Monday\n",
       "...         ...                                ...               ...         ...               ...       ...        ...\n",
       "65074  729CBB09                            My Name            McLean         rnb            Moscow  13:32:28  Wednesday\n",
       "65075  D08D4A55  Maybe One Day (feat. Black Spade)       Blu & Exile         hip  Saint-Petersburg  10:00:00     Monday\n",
       "65076  C5E3A0D5                          Jalopiina               NaN  industrial            Moscow  20:09:26     Friday\n",
       "65077  321D0506                      Freight Train     Chas McDevitt        rock            Moscow  21:43:59     Friday\n",
       "65078  3A64EF84          Tell Me Sweet Little Lies      Monica Lopez     country            Moscow  21:59:46     Friday\n",
       "\n",
       "[65079 rows x 7 columns]"
      ]
     },
     "metadata": {},
     "output_type": "display_data"
    }
   ],
   "source": [
    "display(df)"
   ]
  },
  {
   "cell_type": "markdown",
   "metadata": {
    "id": "5ISfbcfY_Zct"
   },
   "source": [
    "### Missing values\n",
    "First, count how many missing values are in the table. Two `pandas` methods are sufficient for this:"
   ]
  },
  {
   "cell_type": "code",
   "execution_count": 8,
   "metadata": {
    "id": "RskX29qr_Zct"
   },
   "outputs": [
    {
     "data": {
      "text/plain": [
       "user_id       0\n",
       "track      1231\n",
       "artist     7203\n",
       "genre      1198\n",
       "city          0\n",
       "time          0\n",
       "day           0\n",
       "dtype: int64"
      ]
     },
     "execution_count": 8,
     "metadata": {},
     "output_type": "execute_result"
    }
   ],
   "source": [
    "df.isna().sum()"
   ]
  },
  {
   "cell_type": "markdown",
   "metadata": {
    "id": "qubhgnlO_Zct"
   },
   "source": [
    "Not all missing values affect the study. So in `track` and `artist` the gaps are not important for your work. It suffices to replace them with explicit notation.\n",
    "\n",
    "But omissions in `genre` can interfere with the comparison of musical tastes in Moscow and St. Petersburg. In practice, it would be correct to determine the cause of the gaps and restore the data. This option is not available in the curriculum. Have to:\n",
    "\n",
    "* fill in these gaps with explicit notation,\n",
    "* estimate how much they will damage the calculations.\n",
    "\n",
    "\n",
    "Replace the missing values in the `track`, `artist` and `genre` columns with the string `'unknown'`. To do this, create a `columns_to_replace` list, iterate through its elements with a `for` loop, and for each column, replace the missing values:\n",
    "\n"
   ]
  },
  {
   "cell_type": "code",
   "execution_count": 9,
   "metadata": {
    "id": "KplB5qWs_Zct"
   },
   "outputs": [],
   "source": [
    "# перебор названий столбцов в цикле и замена пропущенных значений на 'unknown'\n",
    "# избавляюсь от пропущенных начения во всех столбцах сразу, а не только в трёх\n",
    "columns_to_replace = ['track', 'artist', 'genre','city', 'time', 'day']\n",
    "for i in columns_to_replace:\n",
    "    df[i] = df[i].fillna('unknown')\n",
    "    \n",
    "# хочу создать новый столбец df['day'], так как в начальном варианте данные содержат символы \";\"\n",
    "days = [] # создаю список для занесения значений \n",
    "for i in range(len(df)):\n",
    "    w = df['day'][i].replace(\";\", \"\")\n",
    "    days.append(w) # цикл убирает \";\"\n",
    "df['day'].update(days) # обновление столбца df['day']\n",
    "#display(df['day'])\n",
    "#df.info()"
   ]
  },
  {
   "cell_type": "markdown",
   "metadata": {
    "id": "Ilsm-MZo_Zct"
   },
   "source": [
    "Make sure there are no gaps in the table. To do this, count the missing values ​​again."
   ]
  },
  {
   "cell_type": "code",
   "execution_count": 10,
   "metadata": {
    "id": "Tq4nYRX4_Zct"
   },
   "outputs": [
    {
     "data": {
      "text/plain": [
       "user_id    0\n",
       "track      0\n",
       "artist     0\n",
       "genre      0\n",
       "city       0\n",
       "time       0\n",
       "day        0\n",
       "dtype: int64"
      ]
     },
     "execution_count": 10,
     "metadata": {},
     "output_type": "execute_result"
    }
   ],
   "source": [
    "df.isna().sum()"
   ]
  },
  {
   "cell_type": "markdown",
   "metadata": {
    "id": "BWKRtBJ3_Zct"
   },
   "source": [
    "### Duplicates\n",
    "Count explicit duplicates in a table with one command:"
   ]
  },
  {
   "cell_type": "code",
   "execution_count": 11,
   "metadata": {
    "id": "36eES_S0_Zct"
   },
   "outputs": [
    {
     "name": "stdout",
     "output_type": "stream",
     "text": [
      "3826\n"
     ]
    }
   ],
   "source": [
    "print(df.duplicated().sum())"
   ]
  },
  {
   "cell_type": "markdown",
   "metadata": {
    "id": "Ot25h6XR_Zct"
   },
   "source": [
    "Call the special `pandas` method to remove obvious duplicates:"
   ]
  },
  {
   "cell_type": "code",
   "execution_count": 12,
   "metadata": {
    "id": "exFHq6tt_Zct"
   },
   "outputs": [],
   "source": [
    "# удаление явных дубликатов (с удалением старых индексов и формированием новых)\n",
    "df = df.drop_duplicates().reset_index(drop=True)"
   ]
  },
  {
   "cell_type": "markdown",
   "metadata": {
    "id": "Im2YwBEG_Zct"
   },
   "source": [
    "Once again, count the obvious duplicates in the table - make sure you get rid of them completely:"
   ]
  },
  {
   "cell_type": "code",
   "execution_count": 13,
   "metadata": {
    "id": "-8PuNWQ0_Zct"
   },
   "outputs": [
    {
     "name": "stdout",
     "output_type": "stream",
     "text": [
      "0\n"
     ]
    }
   ],
   "source": [
    "print(df.duplicated().sum())"
   ]
  },
  {
   "cell_type": "markdown",
   "metadata": {
    "id": "QlFBsxAr_Zct"
   },
   "source": [
    "Now get rid of the implicit duplicates in the `genre` column. For example, the name of the same genre can be spelled slightly differently. Such errors will also affect the result of the study.\n",
    "\n",
    "Display a list of unique genre names sorted alphabetically. For this:\n",
    "\n",
    "* extract the desired dataframe column,\n",
    "* apply a sort method to it,\n",
    "* for a sorted column, call a method that will return the unique values from the column.\n",
    "\n",
    "\n"
   ]
  },
  {
   "cell_type": "code",
   "execution_count": 14,
   "metadata": {
    "id": "JIUcqzZN_Zct"
   },
   "outputs": [
    {
     "data": {
      "text/plain": [
       "array(['acid', 'acoustic', 'action', 'adult', 'africa', 'afrikaans',\n",
       "       'alternative', 'alternativepunk', 'ambient', 'americana',\n",
       "       'animated', 'anime', 'arabesk', 'arabic', 'arena',\n",
       "       'argentinetango', 'art', 'audiobook', 'author', 'avantgarde',\n",
       "       'axé', 'baile', 'balkan', 'beats', 'bigroom', 'black', 'bluegrass',\n",
       "       'blues', 'bollywood', 'bossa', 'brazilian', 'breakbeat', 'breaks',\n",
       "       'broadway', 'cantautori', 'cantopop', 'canzone', 'caribbean',\n",
       "       'caucasian', 'celtic', 'chamber', 'chanson', 'children', 'chill',\n",
       "       'chinese', 'choral', 'christian', 'christmas', 'classical',\n",
       "       'classicmetal', 'club', 'colombian', 'comedy', 'conjazz',\n",
       "       'contemporary', 'country', 'cuban', 'dance', 'dancehall',\n",
       "       'dancepop', 'dark', 'death', 'deep', 'deutschrock', 'deutschspr',\n",
       "       'dirty', 'disco', 'dnb', 'documentary', 'downbeat', 'downtempo',\n",
       "       'drum', 'dub', 'dubstep', 'eastern', 'easy', 'electronic',\n",
       "       'electropop', 'emo', 'entehno', 'epicmetal', 'estrada', 'ethnic',\n",
       "       'eurofolk', 'european', 'experimental', 'extrememetal', 'fado',\n",
       "       'fairytail', 'film', 'fitness', 'flamenco', 'folk', 'folklore',\n",
       "       'folkmetal', 'folkrock', 'folktronica', 'forró', 'frankreich',\n",
       "       'französisch', 'french', 'funk', 'future', 'gangsta', 'garage',\n",
       "       'german', 'ghazal', 'gitarre', 'glitch', 'gospel', 'gothic',\n",
       "       'grime', 'grunge', 'gypsy', 'handsup', \"hard'n'heavy\", 'hardcore',\n",
       "       'hardstyle', 'hardtechno', 'hip', 'hip-hop', 'hiphop',\n",
       "       'historisch', 'holiday', 'hop', 'horror', 'house', 'hymn', 'idm',\n",
       "       'independent', 'indian', 'indie', 'indipop', 'industrial',\n",
       "       'inspirational', 'instrumental', 'international', 'irish', 'jam',\n",
       "       'japanese', 'jazz', 'jewish', 'jpop', 'jungle', 'k-pop',\n",
       "       'karadeniz', 'karaoke', 'kayokyoku', 'korean', 'laiko', 'latin',\n",
       "       'latino', 'leftfield', 'local', 'lounge', 'loungeelectronic',\n",
       "       'lovers', 'malaysian', 'mandopop', 'marschmusik', 'meditative',\n",
       "       'mediterranean', 'melodic', 'metal', 'metalcore', 'mexican',\n",
       "       'middle', 'minimal', 'miscellaneous', 'modern', 'mood', 'mpb',\n",
       "       'muslim', 'native', 'neoklassik', 'neue', 'new', 'newage',\n",
       "       'newwave', 'nu', 'nujazz', 'numetal', 'oceania', 'old', 'opera',\n",
       "       'orchestral', 'other', 'piano', 'podcasts', 'pop', 'popdance',\n",
       "       'popelectronic', 'popeurodance', 'poprussian', 'post',\n",
       "       'posthardcore', 'postrock', 'power', 'progmetal', 'progressive',\n",
       "       'psychedelic', 'punjabi', 'punk', 'quebecois', 'ragga', 'ram',\n",
       "       'rancheras', 'rap', 'rave', 'reggae', 'reggaeton', 'regional',\n",
       "       'relax', 'religious', 'retro', 'rhythm', 'rnb', 'rnr', 'rock',\n",
       "       'rockabilly', 'rockalternative', 'rockindie', 'rockother',\n",
       "       'romance', 'roots', 'ruspop', 'rusrap', 'rusrock', 'russian',\n",
       "       'salsa', 'samba', 'scenic', 'schlager', 'self', 'sertanejo',\n",
       "       'shanson', 'shoegazing', 'showtunes', 'singer', 'ska', 'skarock',\n",
       "       'slow', 'smooth', 'soft', 'soul', 'soulful', 'sound', 'soundtrack',\n",
       "       'southern', 'specialty', 'speech', 'spiritual', 'sport',\n",
       "       'stonerrock', 'surf', 'swing', 'synthpop', 'synthrock',\n",
       "       'sängerportrait', 'tango', 'tanzorchester', 'taraftar', 'tatar',\n",
       "       'tech', 'techno', 'teen', 'thrash', 'top', 'traditional',\n",
       "       'tradjazz', 'trance', 'tribal', 'trip', 'triphop', 'tropical',\n",
       "       'türk', 'türkçe', 'ukrrock', 'unknown', 'urban', 'uzbek',\n",
       "       'variété', 'vi', 'videogame', 'vocal', 'western', 'world',\n",
       "       'worldbeat', 'ïîï', 'электроника'], dtype=object)"
      ]
     },
     "metadata": {},
     "output_type": "display_data"
    }
   ],
   "source": [
    "genre_uniq_values = df['genre'].sort_values()\n",
    "genre_uniq_values = genre_uniq_values.unique()\n",
    "display(genre_uniq_values)"
   ]
  },
  {
   "cell_type": "markdown",
   "metadata": {
    "id": "qej-Qmuo_Zct"
   },
   "source": [
    "Look through the list and look for implicit duplicates of the name `hiphop`. These may be misspelled titles or alternative titles in the same genre.\n",
    "\n",
    "You will see the following implicit duplicates:\n",
    "\n",
    "* hip,\n",
    "* hop,\n",
    "* hip-hop.\n",
    "\n",
    "To clear the table of them, write the `replace_wrong_genres()` function with two parameters:\n",
    "\n",
    "* `wrong_genres` - list of duplicates,\n",
    "* `correct_genre` is a string with the correct value.\n",
    "The function should correct the `genre` column in the `df` table: replace each value from the `wrong_genres` list with a value from `correct_genre`."
   ]
  },
  {
   "cell_type": "code",
   "execution_count": 15,
   "metadata": {
    "id": "ErNDkmns_Zct"
   },
   "outputs": [],
   "source": [
    "def replace_wrong_genres(wrong_genres,correct_genre):\n",
    "    for i in wrong_genres:\n",
    "        df['genre'] = df['genre'].replace(wrong_genres,correct_genre)\n",
    "        \n",
    "wrong_genres = ['hip','hop','hip-hop']\n",
    "correct_genre = 'hiphop'"
   ]
  },
  {
   "cell_type": "markdown",
   "metadata": {
    "id": "aDoBJxbA_Zct"
   },
   "source": [
    "Call `replace_wrong_genres()` and pass it arguments such that it eliminates implicit duplicates: instead of `hip`, `hop` and `hip-hop` the table should have the value `hiphop`:"
   ]
  },
  {
   "cell_type": "code",
   "execution_count": 16,
   "metadata": {
    "id": "YN5i2hpmSo09"
   },
   "outputs": [],
   "source": [
    "replace_wrong_genres(wrong_genres,correct_genre)"
   ]
  },
  {
   "cell_type": "markdown",
   "metadata": {
    "id": "zQKF16_RG15m"
   },
   "source": [
    "Check that you have replaced the wrong names:\n",
    "\n",
    "* hip\n",
    "* hop\n",
    "* hip-hop\n",
    "Print a sorted list of unique values in the `genre` column:"
   ]
  },
  {
   "cell_type": "code",
   "execution_count": 17,
   "metadata": {
    "id": "wvixALnFG15m"
   },
   "outputs": [
    {
     "data": {
      "text/plain": [
       "array(['rock', 'pop', 'folk', 'dance', 'rusrap', 'ruspop', 'world',\n",
       "       'electronic', 'unknown', 'alternative', 'children', 'rnb',\n",
       "       'hiphop', 'jazz', 'postrock', 'latin', 'classical', 'metal',\n",
       "       'reggae', 'tatar', 'blues', 'instrumental', 'rusrock', 'dnb',\n",
       "       'türk', 'post', 'country', 'psychedelic', 'conjazz', 'indie',\n",
       "       'posthardcore', 'local', 'avantgarde', 'punk', 'videogame',\n",
       "       'techno', 'house', 'christmas', 'melodic', 'caucasian',\n",
       "       'reggaeton', 'soundtrack', 'singer', 'ska', 'shanson', 'ambient',\n",
       "       'film', 'western', 'rap', 'beats', \"hard'n'heavy\", 'progmetal',\n",
       "       'minimal', 'contemporary', 'new', 'soul', 'holiday', 'german',\n",
       "       'tropical', 'fairytail', 'spiritual', 'urban', 'gospel', 'nujazz',\n",
       "       'folkmetal', 'trance', 'miscellaneous', 'anime', 'hardcore',\n",
       "       'progressive', 'chanson', 'numetal', 'vocal', 'estrada', 'russian',\n",
       "       'classicmetal', 'dubstep', 'club', 'deep', 'southern', 'black',\n",
       "       'folkrock', 'fitness', 'french', 'disco', 'religious', 'drum',\n",
       "       'extrememetal', 'türkçe', 'experimental', 'easy', 'metalcore',\n",
       "       'modern', 'argentinetango', 'old', 'breaks', 'eurofolk',\n",
       "       'stonerrock', 'industrial', 'funk', 'jpop', 'middle', 'variété',\n",
       "       'other', 'adult', 'christian', 'gothic', 'international', 'muslim',\n",
       "       'relax', 'schlager', 'caribbean', 'ukrrock', 'nu', 'breakbeat',\n",
       "       'comedy', 'chill', 'newage', 'specialty', 'uzbek', 'k-pop',\n",
       "       'balkan', 'chinese', 'meditative', 'dub', 'power', 'death',\n",
       "       'grime', 'arabesk', 'romance', 'flamenco', 'leftfield', 'european',\n",
       "       'tech', 'newwave', 'dancehall', 'mpb', 'piano', 'top', 'bigroom',\n",
       "       'opera', 'celtic', 'tradjazz', 'acoustic', 'epicmetal',\n",
       "       'historisch', 'downbeat', 'downtempo', 'africa', 'audiobook',\n",
       "       'jewish', 'sängerportrait', 'deutschrock', 'eastern', 'action',\n",
       "       'future', 'electropop', 'folklore', 'bollywood', 'marschmusik',\n",
       "       'rnr', 'karaoke', 'indian', 'rancheras', 'электроника',\n",
       "       'afrikaans', 'tango', 'rhythm', 'sound', 'deutschspr', 'trip',\n",
       "       'lovers', 'choral', 'dancepop', 'podcasts', 'retro', 'smooth',\n",
       "       'mexican', 'brazilian', 'ïîï', 'mood', 'surf', 'author', 'gangsta',\n",
       "       'triphop', 'inspirational', 'idm', 'ethnic', 'bluegrass',\n",
       "       'broadway', 'animated', 'americana', 'karadeniz', 'rockabilly',\n",
       "       'colombian', 'self', 'synthrock', 'sertanejo', 'japanese',\n",
       "       'canzone', 'swing', 'lounge', 'sport', 'korean', 'ragga',\n",
       "       'traditional', 'gitarre', 'frankreich', 'alternativepunk', 'emo',\n",
       "       'laiko', 'cantopop', 'glitch', 'documentary', 'rockalternative',\n",
       "       'thrash', 'hymn', 'oceania', 'rockother', 'popeurodance', 'dark',\n",
       "       'vi', 'grunge', 'hardstyle', 'samba', 'garage', 'soft', 'art',\n",
       "       'folktronica', 'entehno', 'mediterranean', 'chamber', 'cuban',\n",
       "       'taraftar', 'rockindie', 'gypsy', 'hardtechno', 'shoegazing',\n",
       "       'skarock', 'bossa', 'salsa', 'latino', 'worldbeat', 'malaysian',\n",
       "       'baile', 'ghazal', 'loungeelectronic', 'arabic', 'popelectronic',\n",
       "       'acid', 'kayokyoku', 'neoklassik', 'tribal', 'tanzorchester',\n",
       "       'native', 'independent', 'cantautori', 'handsup', 'poprussian',\n",
       "       'punjabi', 'synthpop', 'rave', 'französisch', 'quebecois',\n",
       "       'speech', 'soulful', 'teen', 'jam', 'ram', 'horror', 'scenic',\n",
       "       'orchestral', 'neue', 'roots', 'slow', 'jungle', 'indipop', 'axé',\n",
       "       'fado', 'showtunes', 'arena', 'irish', 'mandopop', 'forró',\n",
       "       'popdance', 'dirty', 'regional'], dtype=object)"
      ]
     },
     "metadata": {},
     "output_type": "display_data"
    }
   ],
   "source": [
    "genre_uniq_values = df['genre'].unique()\n",
    "display(genre_uniq_values)"
   ]
  },
  {
   "cell_type": "markdown",
   "metadata": {
    "id": "jz6a9-7HQUDd"
   },
   "source": [
    "**Conclusions**\n",
    "\n",
    "Preprocessing found three problems in the data:\n",
    "\n",
    "- headline style violations,\n",
    "- missing values,\n",
    "- duplicates - explicit and implicit.\n",
    "\n",
    "You've fixed the headers to make the table easier to work with. Without duplicates, the study will become more accurate.\n",
    "\n",
    "You have replaced missing values with `'unknown'`. It remains to be seen whether the gaps in the `genre` column will harm the study.\n",
    "\n",
    "Now we can move on to hypothesis testing."
   ]
  },
  {
   "cell_type": "markdown",
   "metadata": {
    "id": "WttZHXH0SqKk"
   },
   "source": [
    "## Hypothesis testing\n",
    "\n",
    "### Comparison of user behavior of two capitals\n",
    "The first hypothesis states that users listen to music differently in Moscow and St. Petersburg. Check this assumption against the data on the three days of the week - Monday, Wednesday and Friday. For this:\n",
    "\n",
    "* Separate Moscow and St. Petersburg users\n",
    "* Compare how many tracks each user group listened to on Monday, Wednesday and Friday.\n",
    "\n",
    "For training, first perform each of the calculations separately.\n",
    "Estimate user activity in each city. Group the data by city and count the plays in each group."
   ]
  },
  {
   "cell_type": "markdown",
   "metadata": {
    "id": "nwt_MuaL_Zcu"
   },
   "source": [
    "\n"
   ]
  },
  {
   "cell_type": "code",
   "execution_count": 18,
   "metadata": {
    "id": "0_Qs96oh_Zcu"
   },
   "outputs": [
    {
     "name": "stdout",
     "output_type": "stream",
     "text": [
      "Прослушиваний в Москве:  42741\n",
      "Прослушиваний в Санкт-Петербурге:  18512\n"
     ]
    },
    {
     "data": {
      "text/html": [
       "<div>\n",
       "<style scoped>\n",
       "    .dataframe tbody tr th:only-of-type {\n",
       "        vertical-align: middle;\n",
       "    }\n",
       "\n",
       "    .dataframe tbody tr th {\n",
       "        vertical-align: top;\n",
       "    }\n",
       "\n",
       "    .dataframe thead th {\n",
       "        text-align: right;\n",
       "    }\n",
       "</style>\n",
       "<table border=\"1\" class=\"dataframe\">\n",
       "  <thead>\n",
       "    <tr style=\"text-align: right;\">\n",
       "      <th></th>\n",
       "      <th>genre</th>\n",
       "    </tr>\n",
       "    <tr>\n",
       "      <th>city</th>\n",
       "      <th></th>\n",
       "    </tr>\n",
       "  </thead>\n",
       "  <tbody>\n",
       "    <tr>\n",
       "      <th>Moscow</th>\n",
       "      <td>42741</td>\n",
       "    </tr>\n",
       "    <tr>\n",
       "      <th>Saint-Petersburg</th>\n",
       "      <td>18512</td>\n",
       "    </tr>\n",
       "  </tbody>\n",
       "</table>\n",
       "</div>"
      ],
      "text/plain": [
       "                  genre\n",
       "city                   \n",
       "Moscow            42741\n",
       "Saint-Petersburg  18512"
      ]
     },
     "metadata": {},
     "output_type": "display_data"
    }
   ],
   "source": [
    "print('Прослушиваний в Москве: ',df[df['city'] == 'Moscow']['user_id'].count())\n",
    "print('Прослушиваний в Санкт-Петербурге: ', df[df['city'] == 'Saint-Petersburg']['user_id'].count())\n",
    "\n",
    "display(df.groupby('city')['genre'].count().to_frame())"
   ]
  },
  {
   "cell_type": "markdown",
   "metadata": {
    "id": "dzli3w8o_Zcu"
   },
   "source": [
    "There are more auditions in Moscow than in St. Petersburg. It does not follow from this that Moscow users listen to music more often. There are simply more users in Moscow.\n",
    "\n",
    "Now group the data by day of the week and count the plays on Monday, Wednesday, and Friday. Please note that the data contains information about the plays for these days only."
   ]
  },
  {
   "cell_type": "code",
   "execution_count": 19,
   "metadata": {
    "id": "uZMKjiJz_Zcu"
   },
   "outputs": [
    {
     "name": "stdout",
     "output_type": "stream",
     "text": [
      "Прослушиваний в понедельник:  21354\n",
      "Прослушиваний в среду:  18059\n",
      "Прослушиваний в пятницу:  21840\n"
     ]
    }
   ],
   "source": [
    "print('Прослушиваний в понедельник: ',df[df['day'] == 'Monday']['user_id'].count())\n",
    "print('Прослушиваний в среду: ',df[df['day'] == 'Wednesday']['user_id'].count())\n",
    "print('Прослушиваний в пятницу: ',df[df['day'] == 'Friday']['user_id'].count())"
   ]
  },
  {
   "cell_type": "markdown",
   "metadata": {
    "id": "cC2tNrlL_Zcu"
   },
   "source": [
    "On average, users from the two cities are less active on Wednesdays. But the picture may change if we consider each city separately.\n",
    "\n",
    "You have seen how grouping by city and by day of the week works. Now write a function that combines these two calculations.\n",
    "\n",
    "Create a `number_tracks()` function that will count the plays for a given day and city. She needs two parameters:\n",
    "\n",
    "* day of the week,\n",
    "* city name.\n",
    "\n",
    "In the function, save to a variable the rows of the source table that have the value:\n",
    "\n",
    "* in the `day` column is equal to the `day` parameter,\n",
    "* in the `city` column is equal to the `city` parameter.\n",
    "\n",
    "To do this, apply sequential filtering with logical indexing.\n",
    "\n",
    "Then count the values in the `user_id` column of the resulting table. Save the result to a new variable. Return this variable from the function.\n"
   ]
  },
  {
   "cell_type": "code",
   "execution_count": 20,
   "metadata": {
    "id": "Nz3GdQB1_Zcu"
   },
   "outputs": [],
   "source": [
    "def number_tracks(day,city):\n",
    "    track_list1 = df[df['day'] == day]\n",
    "    track_list = track_list1[track_list1['city'] == city]\n",
    "    track_list_count = track_list['user_id'].count()\n",
    "    return track_list_count"
   ]
  },
  {
   "cell_type": "markdown",
   "metadata": {
    "id": "ytf7xFrFJQ2r"
   },
   "source": [
    "Call `number_tracks()` six times, changing the parameters so that you get data for each city on each of the three days."
   ]
  },
  {
   "cell_type": "code",
   "execution_count": 21,
   "metadata": {
    "id": "rJcRATNQ_Zcu"
   },
   "outputs": [
    {
     "name": "stdout",
     "output_type": "stream",
     "text": [
      "15740\n"
     ]
    }
   ],
   "source": [
    "# количество прослушиваний в Москве по понедельникам\n",
    "print(number_tracks('Monday','Moscow'))"
   ]
  },
  {
   "cell_type": "code",
   "execution_count": 22,
   "metadata": {
    "id": "hq_ncZ5T_Zcu"
   },
   "outputs": [
    {
     "name": "stdout",
     "output_type": "stream",
     "text": [
      "5614\n"
     ]
    }
   ],
   "source": [
    "# количество прослушиваний в Санкт-Петербурге по понедельникам\n",
    "print(number_tracks('Monday','Saint-Petersburg'))"
   ]
  },
  {
   "cell_type": "code",
   "execution_count": 23,
   "metadata": {
    "id": "_NTy2VPU_Zcu"
   },
   "outputs": [
    {
     "name": "stdout",
     "output_type": "stream",
     "text": [
      "11056\n"
     ]
    }
   ],
   "source": [
    "# количество прослушиваний в Москве по средам\n",
    "print(number_tracks('Wednesday','Moscow'))"
   ]
  },
  {
   "cell_type": "code",
   "execution_count": 24,
   "metadata": {
    "id": "j2y3TAwo_Zcu"
   },
   "outputs": [
    {
     "name": "stdout",
     "output_type": "stream",
     "text": [
      "7003\n"
     ]
    }
   ],
   "source": [
    "# количество прослушиваний в Санкт-Петербурге по средам\n",
    "print(number_tracks('Wednesday','Saint-Petersburg'))"
   ]
  },
  {
   "cell_type": "code",
   "execution_count": 25,
   "metadata": {
    "id": "vYDw5u_K_Zcu"
   },
   "outputs": [
    {
     "name": "stdout",
     "output_type": "stream",
     "text": [
      "15945\n"
     ]
    }
   ],
   "source": [
    "# количество прослушиваний в Москве по пятницам\n",
    "print(number_tracks('Friday','Moscow'))"
   ]
  },
  {
   "cell_type": "code",
   "execution_count": 26,
   "metadata": {
    "id": "8_yzFtW3_Zcu"
   },
   "outputs": [
    {
     "name": "stdout",
     "output_type": "stream",
     "text": [
      "5895\n"
     ]
    }
   ],
   "source": [
    "# количество прослушиваний в Санкт-Петербурге по пятницам\n",
    "print(number_tracks('Friday','Saint-Petersburg'))"
   ]
  },
  {
   "cell_type": "markdown",
   "metadata": {
    "id": "7QXffbO-_Zcu"
   },
   "source": [
    "Create a table using the `pd.DataFrame` constructor, where\n",
    "\n",
    "* column names - `['city', 'monday', 'wednesday', 'friday']`;\n",
    "* data is the results you got with `number_tracks`."
   ]
  },
  {
   "cell_type": "code",
   "execution_count": 27,
   "metadata": {
    "id": "APAcLpOr_Zcu"
   },
   "outputs": [
    {
     "name": "stdout",
     "output_type": "stream",
     "text": [
      "               city  monday  wednesday  friday\n",
      "0            Moscow   15740      11056   15945\n",
      "1  Saint-Petersburg    5614       7003    5895\n"
     ]
    }
   ],
   "source": [
    "data = [['Moscow',number_tracks('Monday','Moscow'),number_tracks('Wednesday','Moscow'),number_tracks('Friday','Moscow')],\n",
    "        ['Saint-Petersburg',number_tracks('Monday','Saint-Petersburg'),number_tracks('Wednesday','Saint-Petersburg'),number_tracks('Friday','Saint-Petersburg')]]\n",
    "\n",
    "columns=['city', 'monday', 'wednesday', 'friday']\n",
    "results = pd.DataFrame(data=data, columns=columns)\n",
    "print(results)"
   ]
  },
  {
   "cell_type": "markdown",
   "metadata": {
    "id": "-EgPIHYu_Zcu"
   },
   "source": [
    "**Conclusions**\n",
    "\n",
    "The data shows the difference in user behavior:\n",
    "\n",
    "- In Moscow, the peak of listening falls on Monday and Friday, and on Wednesday there is a noticeable decline.\n",
    "- In St. Petersburg, on the contrary, they listen to music more on Wednesdays. Activity on Monday and Friday here is almost equally inferior to Wednesday.\n",
    "\n",
    "So the data support the first hypothesis."
   ]
  },
  {
   "cell_type": "markdown",
   "metadata": {
    "id": "atZAxtq4_Zcu"
   },
   "source": [
    "### Music at the beginning and end of the week\n",
    "\n",
    "According to the second hypothesis, on Monday morning certain genres predominate in Moscow, while others dominate in St. Petersburg. Similarly, Friday evenings are dominated by different genres, depending on the city.\n",
    "\n",
    "Save tables with data in two variables:\n",
    "\n",
    "* by Moscow — in `moscow_general';\n",
    "* in St. Petersburg - in `spb_general`."
   ]
  },
  {
   "cell_type": "code",
   "execution_count": 28,
   "metadata": {
    "id": "qeaFfM_P_Zcu"
   },
   "outputs": [],
   "source": [
    "moscow_general = df[df['city']=='Moscow']"
   ]
  },
  {
   "cell_type": "code",
   "execution_count": 29,
   "metadata": {
    "id": "ORaVRKto_Zcu"
   },
   "outputs": [],
   "source": [
    "spb_general = df[df['city']=='Saint-Petersburg']"
   ]
  },
  {
   "cell_type": "markdown",
   "metadata": {
    "id": "MEJV-CX2_Zcu"
   },
   "source": [
    "Create a function `genre_weekday()` with four parameters:\n",
    "\n",
    "* table (dataframe) with data,\n",
    "* day of the week,\n",
    "* start timestamp in 'hh:mm' format,\n",
    "* last timestamp in 'hh:mm' format.\n",
    "\n",
    "The function should return information about the top 10 genres of those tracks that were listened to on the specified day, in the interval between two timestamps."
   ]
  },
  {
   "cell_type": "code",
   "execution_count": 30,
   "metadata": {
    "id": "laJT9BYl_Zcu"
   },
   "outputs": [],
   "source": [
    "def genre_weekday(table, day, time1, time2):\n",
    "    genre_df = table[table['day'] == day]\n",
    "    genre_df_time1 = genre_df[genre_df['time'] > time1]                  \n",
    "    genre_df_time2 = genre_df_time1[genre_df_time1['time'] < time2]\n",
    "    genre_df = genre_df_time2.groupby('genre')['day']\n",
    "    genre_df_count = genre_df.count()\n",
    "    genre_df_sorted = genre_df_count.sort_values(ascending=False)\n",
    "    return genre_df_sorted.head(10)"
   ]
  },
  {
   "cell_type": "markdown",
   "metadata": {
    "id": "la2s2_PF_Zcu"
   },
   "source": [
    "Compare the results of the `genre_weekday()` function for Moscow and St. Petersburg on Monday morning (from 7:00 to 11:00) and Friday evening (from 17:00 to 23:00):"
   ]
  },
  {
   "cell_type": "code",
   "execution_count": 31,
   "metadata": {
    "id": "yz7itPUQ_Zcu"
   },
   "outputs": [
    {
     "data": {
      "text/plain": [
       "genre\n",
       "pop            781\n",
       "dance          549\n",
       "electronic     480\n",
       "rock           474\n",
       "hiphop         286\n",
       "ruspop         186\n",
       "world          181\n",
       "rusrap         175\n",
       "alternative    164\n",
       "unknown        161\n",
       "Name: day, dtype: int64"
      ]
     },
     "metadata": {},
     "output_type": "display_data"
    }
   ],
   "source": [
    "display(genre_weekday(moscow_general, 'Monday', '07:00', '11:00'))"
   ]
  },
  {
   "cell_type": "code",
   "execution_count": 32,
   "metadata": {
    "id": "kwUcHPdy_Zcu"
   },
   "outputs": [
    {
     "name": "stdout",
     "output_type": "stream",
     "text": [
      "genre\n",
      "pop            218\n",
      "dance          182\n",
      "rock           162\n",
      "electronic     147\n",
      "hiphop          80\n",
      "ruspop          64\n",
      "alternative     58\n",
      "rusrap          55\n",
      "jazz            44\n",
      "classical       40\n",
      "Name: day, dtype: int64\n"
     ]
    }
   ],
   "source": [
    "print(genre_weekday(spb_general, 'Monday', '07:00', '11:00'))"
   ]
  },
  {
   "cell_type": "code",
   "execution_count": 33,
   "metadata": {
    "id": "EzXVRE1o_Zcu"
   },
   "outputs": [
    {
     "data": {
      "text/plain": [
       "genre\n",
       "pop            713\n",
       "rock           517\n",
       "dance          495\n",
       "electronic     482\n",
       "hiphop         273\n",
       "world          208\n",
       "ruspop         170\n",
       "alternative    163\n",
       "classical      163\n",
       "rusrap         142\n",
       "Name: day, dtype: int64"
      ]
     },
     "metadata": {},
     "output_type": "display_data"
    }
   ],
   "source": [
    "display(genre_weekday(moscow_general, 'Friday', '17:00', '23:00'))"
   ]
  },
  {
   "cell_type": "code",
   "execution_count": 34,
   "metadata": {
    "id": "JZaEKu5v_Zcu"
   },
   "outputs": [
    {
     "data": {
      "text/plain": [
       "genre\n",
       "pop            256\n",
       "electronic     216\n",
       "rock           216\n",
       "dance          210\n",
       "hiphop          97\n",
       "alternative     63\n",
       "jazz            61\n",
       "classical       60\n",
       "rusrap          59\n",
       "world           54\n",
       "Name: day, dtype: int64"
      ]
     },
     "metadata": {},
     "output_type": "display_data"
    }
   ],
   "source": [
    "display(genre_weekday(spb_general, 'Friday', '17:00', '23:00'))"
   ]
  },
  {
   "cell_type": "markdown",
   "metadata": {
    "id": "wrCe4MNX_Zcu"
   },
   "source": [
    "**Conclusions**\n",
    "\n",
    "If we compare the top 10 genres on Monday morning, we can draw the following conclusions:\n",
    "\n",
    "1. In Moscow and St. Petersburg they listen to similar music. The only difference is that the Moscow rating includes the “world” genre, while the St. Petersburg rating includes jazz and classical.\n",
    "\n",
    "2. There were so many missing values in Moscow that the value `'unknown'` took tenth place among the most popular genres. This means that missing values occupy a significant share in the data and threaten the reliability of the study.\n",
    "\n",
    "Friday night does not change this picture. Some genres rise a little higher, others go down, but overall the top 10 stays the same.\n",
    "\n",
    "Thus, the second hypothesis was only partially confirmed:\n",
    "\n",
    "* Users listen to similar music at the beginning of the week and at the end.\n",
    "* The difference between Moscow and St. Petersburg is not very pronounced. In Moscow, they listen to Russian popular music more often, in St. Petersburg - jazz.\n",
    "\n",
    "However, gaps in the data cast doubt on this result. There are so many of them in Moscow that the top 10 ranking could look different if it were not for the lost genre data."
   ]
  },
  {
   "cell_type": "markdown",
   "metadata": {
    "id": "JolODAqr_Zcu"
   },
   "source": [
    "### Genre preferences in Moscow and St. Petersburg\n",
    "\n",
    "**Hypothesis**: St. Petersburg is the capital of rap, the music of this genre is listened to more often than in Moscow. And Moscow is a city of contrasts, which, nevertheless, is dominated by pop music.\n",
    "\n",
    "Group the `moscow_general` table by genre and count the plays of each genre's tracks using the `count()` method. Then sort the result in descending order and store it in the `moscow_genres` table."
   ]
  },
  {
   "cell_type": "code",
   "execution_count": 35,
   "metadata": {
    "id": "r19lIPke_Zcu"
   },
   "outputs": [],
   "source": [
    "moscow_genres_grp = moscow_general.groupby('genre')['day'].count()\n",
    "moscow_genres = moscow_genres_grp.sort_values(ascending=False)"
   ]
  },
  {
   "cell_type": "markdown",
   "metadata": {
    "id": "6kMuomxTiIr8"
   },
   "source": [
    "Print the first ten lines of `moscow_genres` to the screen:"
   ]
  },
  {
   "cell_type": "code",
   "execution_count": 36,
   "metadata": {
    "id": "WhCSooF8_Zcv"
   },
   "outputs": [
    {
     "data": {
      "text/plain": [
       "genre\n",
       "pop            5892\n",
       "dance          4435\n",
       "rock           3965\n",
       "electronic     3786\n",
       "hiphop         2096\n",
       "classical      1616\n",
       "world          1432\n",
       "alternative    1379\n",
       "ruspop         1372\n",
       "rusrap         1161\n",
       "Name: day, dtype: int64"
      ]
     },
     "metadata": {},
     "output_type": "display_data"
    }
   ],
   "source": [
    "display(moscow_genres.head(10))"
   ]
  },
  {
   "cell_type": "markdown",
   "metadata": {
    "id": "cnPG2vnN_Zcv"
   },
   "source": [
    "Now repeat the same for Petersburg.\n",
    "\n",
    "Group the `spb_general` table by genre. Count the number of listens to tracks of each genre. Sort the result in descending order and store it in the `spb_genres` table:"
   ]
  },
  {
   "cell_type": "code",
   "execution_count": 37,
   "metadata": {
    "id": "gluLIpE7_Zcv"
   },
   "outputs": [],
   "source": [
    "spb_general_grp = spb_general.groupby('genre')['day'].count()\n",
    "spb_genres = spb_general_grp.sort_values(ascending=False)"
   ]
  },
  {
   "cell_type": "markdown",
   "metadata": {
    "id": "5Doha_ODgyQ8"
   },
   "source": [
    "Print the first ten lines of `spb_genres` to the screen:"
   ]
  },
  {
   "cell_type": "code",
   "execution_count": 38,
   "metadata": {
    "id": "uaGJHjVU_Zcv"
   },
   "outputs": [
    {
     "data": {
      "text/plain": [
       "genre\n",
       "pop            2431\n",
       "dance          1932\n",
       "rock           1879\n",
       "electronic     1736\n",
       "hiphop          960\n",
       "alternative     649\n",
       "classical       646\n",
       "rusrap          564\n",
       "ruspop          538\n",
       "world           515\n",
       "Name: day, dtype: int64"
      ]
     },
     "metadata": {},
     "output_type": "display_data"
    }
   ],
   "source": [
    "display(spb_genres.head(10))"
   ]
  },
  {
   "cell_type": "markdown",
   "metadata": {
    "id": "RY51YJYu_Zcv"
   },
   "source": [
    "**Conclusions**\n",
    "\n",
    "The hypothesis was partially confirmed:\n",
    "\n",
    "* Pop music is the most popular genre in Moscow, as the hypothesis suggested. Moreover, in the top 10 genres there is a close genre - Russian popular music.\n",
    "* Contrary to expectations, rap is equally popular in Moscow and St. Petersburg."
   ]
  },
  {
   "cell_type": "markdown",
   "metadata": {
    "id": "ykKQ0N65_Zcv"
   },
   "source": [
    "## Research results\n",
    "You tested three hypotheses and found:\n",
    "\n",
    "1. The day of the week has a different effect on the activity of users in Moscow and St. Petersburg.\n",
    "\n",
    "The first hypothesis was fully confirmed.\n",
    "\n",
    "2. Musical preferences do not change much during the week - be it Moscow or St. Petersburg. Small differences are noticeable at the beginning of the week, on Mondays:\n",
    "\n",
    "* in Moscow they listen to music of the “world” genre,\n",
    "* in St. Petersburg - jazz and classical music.\n",
    "\n",
    "Thus, the second hypothesis was only partly confirmed. This result could have been different were it not for gaps in the data.\n",
    "\n",
    "3. The tastes of users of Moscow and St. Petersburg have more in common than differences. Contrary to expectations, genre preferences in St. Petersburg resemble those in Moscow.\n",
    "\n",
    "**The third hypothesis was not confirmed. If there are differences in preferences, they are invisible to the bulk of users.**\n",
    "\n",
    "In practice, studies contain tests of statistical hypotheses. From the data of one service, it is not always possible to draw a conclusion about all the inhabitants of the city. Tests of statistical hypotheses will show how reliable they are, based on the available data. You will learn more about hypothesis testing methods in the following topics."
   ]
  }
 ],
 "metadata": {
  "ExecuteTimeLog": [
   {
    "duration": 51,
    "start_time": "2022-04-30T06:57:20.007Z"
   },
   {
    "duration": 7,
    "start_time": "2022-04-30T06:57:40.605Z"
   },
   {
    "duration": 435,
    "start_time": "2022-04-30T06:58:02.133Z"
   },
   {
    "duration": 132,
    "start_time": "2022-04-30T06:58:02.570Z"
   },
   {
    "duration": 0,
    "start_time": "2022-04-30T06:58:02.705Z"
   },
   {
    "duration": 0,
    "start_time": "2022-04-30T06:58:02.706Z"
   },
   {
    "duration": 0,
    "start_time": "2022-04-30T06:58:02.707Z"
   },
   {
    "duration": 0,
    "start_time": "2022-04-30T06:58:02.708Z"
   },
   {
    "duration": 0,
    "start_time": "2022-04-30T06:58:02.709Z"
   },
   {
    "duration": 0,
    "start_time": "2022-04-30T06:58:02.710Z"
   },
   {
    "duration": 0,
    "start_time": "2022-04-30T06:58:02.711Z"
   },
   {
    "duration": 0,
    "start_time": "2022-04-30T06:58:02.712Z"
   },
   {
    "duration": 0,
    "start_time": "2022-04-30T06:58:02.713Z"
   },
   {
    "duration": 0,
    "start_time": "2022-04-30T06:58:02.714Z"
   },
   {
    "duration": 0,
    "start_time": "2022-04-30T06:58:02.715Z"
   },
   {
    "duration": 0,
    "start_time": "2022-04-30T06:58:02.716Z"
   },
   {
    "duration": 0,
    "start_time": "2022-04-30T06:58:02.717Z"
   },
   {
    "duration": 0,
    "start_time": "2022-04-30T06:58:02.718Z"
   },
   {
    "duration": 0,
    "start_time": "2022-04-30T06:58:02.719Z"
   },
   {
    "duration": 0,
    "start_time": "2022-04-30T06:58:02.720Z"
   },
   {
    "duration": 0,
    "start_time": "2022-04-30T06:58:02.721Z"
   },
   {
    "duration": 0,
    "start_time": "2022-04-30T06:58:02.722Z"
   },
   {
    "duration": 0,
    "start_time": "2022-04-30T06:58:02.723Z"
   },
   {
    "duration": 0,
    "start_time": "2022-04-30T06:58:02.724Z"
   },
   {
    "duration": 0,
    "start_time": "2022-04-30T06:58:02.725Z"
   },
   {
    "duration": 0,
    "start_time": "2022-04-30T06:58:02.725Z"
   },
   {
    "duration": 0,
    "start_time": "2022-04-30T06:58:02.727Z"
   },
   {
    "duration": 0,
    "start_time": "2022-04-30T06:58:02.728Z"
   },
   {
    "duration": 0,
    "start_time": "2022-04-30T06:58:02.729Z"
   },
   {
    "duration": 0,
    "start_time": "2022-04-30T06:58:02.730Z"
   },
   {
    "duration": 0,
    "start_time": "2022-04-30T06:58:02.731Z"
   },
   {
    "duration": 0,
    "start_time": "2022-04-30T06:58:02.732Z"
   },
   {
    "duration": 0,
    "start_time": "2022-04-30T06:58:02.733Z"
   },
   {
    "duration": 0,
    "start_time": "2022-04-30T06:58:02.734Z"
   },
   {
    "duration": 0,
    "start_time": "2022-04-30T06:58:02.735Z"
   },
   {
    "duration": 0,
    "start_time": "2022-04-30T06:58:02.736Z"
   },
   {
    "duration": 0,
    "start_time": "2022-04-30T06:58:02.737Z"
   },
   {
    "duration": 0,
    "start_time": "2022-04-30T06:58:02.738Z"
   },
   {
    "duration": 0,
    "start_time": "2022-04-30T06:58:02.739Z"
   },
   {
    "duration": 0,
    "start_time": "2022-04-30T06:58:02.793Z"
   },
   {
    "duration": 6,
    "start_time": "2022-04-30T06:58:29.946Z"
   },
   {
    "duration": 2,
    "start_time": "2022-04-30T06:58:52.433Z"
   },
   {
    "duration": 72,
    "start_time": "2022-04-30T06:58:59.472Z"
   },
   {
    "duration": 7,
    "start_time": "2022-04-30T07:01:03.655Z"
   },
   {
    "duration": 7,
    "start_time": "2022-04-30T07:01:36.948Z"
   },
   {
    "duration": 5,
    "start_time": "2022-04-30T07:01:41.373Z"
   },
   {
    "duration": 68,
    "start_time": "2022-04-30T07:01:43.171Z"
   },
   {
    "duration": 131,
    "start_time": "2022-04-30T07:01:51.488Z"
   },
   {
    "duration": 59,
    "start_time": "2022-04-30T07:02:30.924Z"
   },
   {
    "duration": 57,
    "start_time": "2022-04-30T07:02:51.665Z"
   },
   {
    "duration": 2,
    "start_time": "2022-04-30T07:16:55.810Z"
   },
   {
    "duration": 72,
    "start_time": "2022-04-30T07:16:55.816Z"
   },
   {
    "duration": 0,
    "start_time": "2022-04-30T07:16:55.890Z"
   },
   {
    "duration": 0,
    "start_time": "2022-04-30T07:16:55.891Z"
   },
   {
    "duration": 0,
    "start_time": "2022-04-30T07:16:55.892Z"
   },
   {
    "duration": 0,
    "start_time": "2022-04-30T07:16:55.893Z"
   },
   {
    "duration": 0,
    "start_time": "2022-04-30T07:16:55.894Z"
   },
   {
    "duration": 0,
    "start_time": "2022-04-30T07:16:55.895Z"
   },
   {
    "duration": 0,
    "start_time": "2022-04-30T07:16:55.896Z"
   },
   {
    "duration": 0,
    "start_time": "2022-04-30T07:16:55.897Z"
   },
   {
    "duration": 0,
    "start_time": "2022-04-30T07:16:55.898Z"
   },
   {
    "duration": 0,
    "start_time": "2022-04-30T07:16:55.899Z"
   },
   {
    "duration": 0,
    "start_time": "2022-04-30T07:16:55.899Z"
   },
   {
    "duration": 0,
    "start_time": "2022-04-30T07:16:55.901Z"
   },
   {
    "duration": 0,
    "start_time": "2022-04-30T07:16:55.902Z"
   },
   {
    "duration": 0,
    "start_time": "2022-04-30T07:16:55.902Z"
   },
   {
    "duration": 0,
    "start_time": "2022-04-30T07:16:55.903Z"
   },
   {
    "duration": 0,
    "start_time": "2022-04-30T07:16:55.904Z"
   },
   {
    "duration": 0,
    "start_time": "2022-04-30T07:16:55.905Z"
   },
   {
    "duration": 0,
    "start_time": "2022-04-30T07:16:55.906Z"
   },
   {
    "duration": 0,
    "start_time": "2022-04-30T07:16:55.907Z"
   },
   {
    "duration": 0,
    "start_time": "2022-04-30T07:16:55.908Z"
   },
   {
    "duration": 0,
    "start_time": "2022-04-30T07:16:55.909Z"
   },
   {
    "duration": 0,
    "start_time": "2022-04-30T07:16:55.909Z"
   },
   {
    "duration": 0,
    "start_time": "2022-04-30T07:16:55.910Z"
   },
   {
    "duration": 0,
    "start_time": "2022-04-30T07:16:55.911Z"
   },
   {
    "duration": 0,
    "start_time": "2022-04-30T07:16:55.912Z"
   },
   {
    "duration": 1,
    "start_time": "2022-04-30T07:16:55.914Z"
   },
   {
    "duration": 0,
    "start_time": "2022-04-30T07:16:55.915Z"
   },
   {
    "duration": 0,
    "start_time": "2022-04-30T07:16:55.916Z"
   },
   {
    "duration": 0,
    "start_time": "2022-04-30T07:16:55.917Z"
   },
   {
    "duration": 0,
    "start_time": "2022-04-30T07:16:55.918Z"
   },
   {
    "duration": 0,
    "start_time": "2022-04-30T07:16:55.919Z"
   },
   {
    "duration": 0,
    "start_time": "2022-04-30T07:16:55.920Z"
   },
   {
    "duration": 4,
    "start_time": "2022-04-30T07:16:55.923Z"
   },
   {
    "duration": 3,
    "start_time": "2022-04-30T07:16:55.928Z"
   },
   {
    "duration": 64,
    "start_time": "2022-04-30T07:16:55.932Z"
   },
   {
    "duration": 3,
    "start_time": "2022-04-30T07:16:55.998Z"
   },
   {
    "duration": 259,
    "start_time": "2022-04-30T07:19:25.211Z"
   },
   {
    "duration": 17,
    "start_time": "2022-04-30T07:19:32.819Z"
   },
   {
    "duration": 10,
    "start_time": "2022-04-30T07:22:40.525Z"
   },
   {
    "duration": 30,
    "start_time": "2022-04-30T07:22:46.610Z"
   },
   {
    "duration": 2,
    "start_time": "2022-04-30T07:23:28.762Z"
   },
   {
    "duration": 10,
    "start_time": "2022-04-30T07:23:34.320Z"
   },
   {
    "duration": 10,
    "start_time": "2022-04-30T07:26:43.956Z"
   },
   {
    "duration": 10,
    "start_time": "2022-04-30T07:35:48.970Z"
   },
   {
    "duration": 12,
    "start_time": "2022-04-30T07:36:08.368Z"
   },
   {
    "duration": 12,
    "start_time": "2022-04-30T07:36:17.608Z"
   },
   {
    "duration": 10,
    "start_time": "2022-04-30T07:36:22.712Z"
   },
   {
    "duration": 12,
    "start_time": "2022-04-30T07:36:24.607Z"
   },
   {
    "duration": 12,
    "start_time": "2022-04-30T07:36:29.604Z"
   },
   {
    "duration": 2,
    "start_time": "2022-04-30T07:36:32.889Z"
   },
   {
    "duration": 368,
    "start_time": "2022-04-30T07:36:32.896Z"
   },
   {
    "duration": 10,
    "start_time": "2022-04-30T07:36:33.265Z"
   },
   {
    "duration": 10,
    "start_time": "2022-04-30T07:36:33.277Z"
   },
   {
    "duration": 7,
    "start_time": "2022-04-30T07:36:33.292Z"
   },
   {
    "duration": 8,
    "start_time": "2022-04-30T07:36:33.302Z"
   },
   {
    "duration": 12,
    "start_time": "2022-04-30T07:36:33.312Z"
   },
   {
    "duration": 10,
    "start_time": "2022-04-30T07:36:33.325Z"
   },
   {
    "duration": 5,
    "start_time": "2022-04-30T07:36:33.337Z"
   },
   {
    "duration": 11,
    "start_time": "2022-04-30T07:36:33.343Z"
   },
   {
    "duration": 17,
    "start_time": "2022-04-30T07:36:33.356Z"
   },
   {
    "duration": 13,
    "start_time": "2022-04-30T07:36:33.375Z"
   },
   {
    "duration": 22,
    "start_time": "2022-04-30T07:36:33.389Z"
   },
   {
    "duration": 28,
    "start_time": "2022-04-30T07:36:33.412Z"
   },
   {
    "duration": 18,
    "start_time": "2022-04-30T07:36:33.443Z"
   },
   {
    "duration": 15,
    "start_time": "2022-04-30T07:36:33.462Z"
   },
   {
    "duration": 20,
    "start_time": "2022-04-30T07:36:33.478Z"
   },
   {
    "duration": 8,
    "start_time": "2022-04-30T07:36:33.500Z"
   },
   {
    "duration": 28,
    "start_time": "2022-04-30T07:36:33.509Z"
   },
   {
    "duration": 22,
    "start_time": "2022-04-30T07:36:33.539Z"
   },
   {
    "duration": 32,
    "start_time": "2022-04-30T07:36:33.562Z"
   },
   {
    "duration": 12,
    "start_time": "2022-04-30T07:36:33.595Z"
   },
   {
    "duration": 19,
    "start_time": "2022-04-30T07:36:33.608Z"
   },
   {
    "duration": 19,
    "start_time": "2022-04-30T07:36:33.628Z"
   },
   {
    "duration": 19,
    "start_time": "2022-04-30T07:36:33.648Z"
   },
   {
    "duration": 29,
    "start_time": "2022-04-30T07:36:33.668Z"
   },
   {
    "duration": 21,
    "start_time": "2022-04-30T07:36:33.698Z"
   },
   {
    "duration": 20,
    "start_time": "2022-04-30T07:36:33.721Z"
   },
   {
    "duration": 13,
    "start_time": "2022-04-30T07:36:33.743Z"
   },
   {
    "duration": 20,
    "start_time": "2022-04-30T07:36:33.758Z"
   },
   {
    "duration": 32,
    "start_time": "2022-04-30T07:36:33.780Z"
   },
   {
    "duration": 24,
    "start_time": "2022-04-30T07:36:33.813Z"
   },
   {
    "duration": 20,
    "start_time": "2022-04-30T07:36:33.838Z"
   },
   {
    "duration": 20,
    "start_time": "2022-04-30T07:36:33.860Z"
   },
   {
    "duration": 22,
    "start_time": "2022-04-30T07:36:33.881Z"
   },
   {
    "duration": 20,
    "start_time": "2022-04-30T07:36:33.905Z"
   },
   {
    "duration": 27,
    "start_time": "2022-04-30T07:36:33.927Z"
   },
   {
    "duration": 22,
    "start_time": "2022-04-30T07:36:33.955Z"
   },
   {
    "duration": 12,
    "start_time": "2022-04-30T07:37:09.703Z"
   },
   {
    "duration": 12,
    "start_time": "2022-04-30T07:37:18.176Z"
   },
   {
    "duration": 2,
    "start_time": "2022-04-30T07:37:19.917Z"
   },
   {
    "duration": 11,
    "start_time": "2022-04-30T07:37:28.796Z"
   },
   {
    "duration": 8,
    "start_time": "2022-04-30T07:37:37.426Z"
   },
   {
    "duration": 7,
    "start_time": "2022-04-30T07:37:52.464Z"
   },
   {
    "duration": 13,
    "start_time": "2022-04-30T07:37:54.684Z"
   },
   {
    "duration": 2,
    "start_time": "2022-04-30T07:37:56.202Z"
   },
   {
    "duration": 7,
    "start_time": "2022-04-30T07:38:14.266Z"
   },
   {
    "duration": 12,
    "start_time": "2022-04-30T07:38:17.299Z"
   },
   {
    "duration": 2,
    "start_time": "2022-04-30T07:38:21.871Z"
   },
   {
    "duration": 301,
    "start_time": "2022-04-30T07:38:21.877Z"
   },
   {
    "duration": 13,
    "start_time": "2022-04-30T07:38:22.179Z"
   },
   {
    "duration": 2,
    "start_time": "2022-04-30T07:38:22.194Z"
   },
   {
    "duration": 4,
    "start_time": "2022-04-30T07:38:22.197Z"
   },
   {
    "duration": 9,
    "start_time": "2022-04-30T07:38:22.204Z"
   },
   {
    "duration": 12,
    "start_time": "2022-04-30T07:38:22.215Z"
   },
   {
    "duration": 10,
    "start_time": "2022-04-30T07:38:22.229Z"
   },
   {
    "duration": 11,
    "start_time": "2022-04-30T07:38:22.241Z"
   },
   {
    "duration": 14,
    "start_time": "2022-04-30T07:38:22.254Z"
   },
   {
    "duration": 8,
    "start_time": "2022-04-30T07:38:22.269Z"
   },
   {
    "duration": 14,
    "start_time": "2022-04-30T07:38:22.279Z"
   },
   {
    "duration": 7,
    "start_time": "2022-04-30T07:38:22.295Z"
   },
   {
    "duration": 8,
    "start_time": "2022-04-30T07:38:22.304Z"
   },
   {
    "duration": 6,
    "start_time": "2022-04-30T07:38:22.316Z"
   },
   {
    "duration": 8,
    "start_time": "2022-04-30T07:38:22.324Z"
   },
   {
    "duration": 8,
    "start_time": "2022-04-30T07:38:22.334Z"
   },
   {
    "duration": 7,
    "start_time": "2022-04-30T07:38:22.344Z"
   },
   {
    "duration": 8,
    "start_time": "2022-04-30T07:38:22.353Z"
   },
   {
    "duration": 9,
    "start_time": "2022-04-30T07:38:22.362Z"
   },
   {
    "duration": 11,
    "start_time": "2022-04-30T07:38:22.373Z"
   },
   {
    "duration": 8,
    "start_time": "2022-04-30T07:38:22.385Z"
   },
   {
    "duration": 9,
    "start_time": "2022-04-30T07:38:22.395Z"
   },
   {
    "duration": 7,
    "start_time": "2022-04-30T07:38:22.406Z"
   },
   {
    "duration": 7,
    "start_time": "2022-04-30T07:38:22.415Z"
   },
   {
    "duration": 12,
    "start_time": "2022-04-30T07:38:22.424Z"
   },
   {
    "duration": 7,
    "start_time": "2022-04-30T07:38:22.437Z"
   },
   {
    "duration": 7,
    "start_time": "2022-04-30T07:38:22.446Z"
   },
   {
    "duration": 9,
    "start_time": "2022-04-30T07:38:22.454Z"
   },
   {
    "duration": 13,
    "start_time": "2022-04-30T07:38:22.464Z"
   },
   {
    "duration": 13,
    "start_time": "2022-04-30T07:38:22.479Z"
   },
   {
    "duration": 8,
    "start_time": "2022-04-30T07:38:22.494Z"
   },
   {
    "duration": 10,
    "start_time": "2022-04-30T07:38:22.504Z"
   },
   {
    "duration": 7,
    "start_time": "2022-04-30T07:38:22.516Z"
   },
   {
    "duration": 8,
    "start_time": "2022-04-30T07:38:22.525Z"
   },
   {
    "duration": 8,
    "start_time": "2022-04-30T07:38:22.534Z"
   },
   {
    "duration": 7,
    "start_time": "2022-04-30T07:38:22.544Z"
   },
   {
    "duration": 10,
    "start_time": "2022-04-30T07:38:22.553Z"
   },
   {
    "duration": 12,
    "start_time": "2022-04-30T07:38:36.528Z"
   },
   {
    "duration": 358,
    "start_time": "2022-04-30T07:38:51.344Z"
   },
   {
    "duration": 264,
    "start_time": "2022-04-30T07:38:51.704Z"
   },
   {
    "duration": 16,
    "start_time": "2022-04-30T07:38:51.970Z"
   },
   {
    "duration": 5,
    "start_time": "2022-04-30T07:38:51.988Z"
   },
   {
    "duration": 4,
    "start_time": "2022-04-30T07:38:51.994Z"
   },
   {
    "duration": 20,
    "start_time": "2022-04-30T07:38:52.000Z"
   },
   {
    "duration": 14,
    "start_time": "2022-04-30T07:38:52.022Z"
   },
   {
    "duration": 11,
    "start_time": "2022-04-30T07:38:52.038Z"
   },
   {
    "duration": 6,
    "start_time": "2022-04-30T07:38:52.051Z"
   },
   {
    "duration": 13,
    "start_time": "2022-04-30T07:38:52.060Z"
   },
   {
    "duration": 8,
    "start_time": "2022-04-30T07:38:52.074Z"
   },
   {
    "duration": 7,
    "start_time": "2022-04-30T07:38:52.084Z"
   },
   {
    "duration": 7,
    "start_time": "2022-04-30T07:38:52.093Z"
   },
   {
    "duration": 11,
    "start_time": "2022-04-30T07:38:52.101Z"
   },
   {
    "duration": 10,
    "start_time": "2022-04-30T07:38:52.113Z"
   },
   {
    "duration": 7,
    "start_time": "2022-04-30T07:38:52.125Z"
   },
   {
    "duration": 7,
    "start_time": "2022-04-30T07:38:52.134Z"
   },
   {
    "duration": 8,
    "start_time": "2022-04-30T07:38:52.143Z"
   },
   {
    "duration": 8,
    "start_time": "2022-04-30T07:38:52.152Z"
   },
   {
    "duration": 7,
    "start_time": "2022-04-30T07:38:52.162Z"
   },
   {
    "duration": 12,
    "start_time": "2022-04-30T07:38:52.171Z"
   },
   {
    "duration": 7,
    "start_time": "2022-04-30T07:38:52.184Z"
   },
   {
    "duration": 8,
    "start_time": "2022-04-30T07:38:52.193Z"
   },
   {
    "duration": 10,
    "start_time": "2022-04-30T07:38:52.202Z"
   },
   {
    "duration": 8,
    "start_time": "2022-04-30T07:38:52.213Z"
   },
   {
    "duration": 12,
    "start_time": "2022-04-30T07:38:52.222Z"
   },
   {
    "duration": 7,
    "start_time": "2022-04-30T07:38:52.236Z"
   },
   {
    "duration": 6,
    "start_time": "2022-04-30T07:38:52.247Z"
   },
   {
    "duration": 8,
    "start_time": "2022-04-30T07:38:52.254Z"
   },
   {
    "duration": 7,
    "start_time": "2022-04-30T07:38:52.263Z"
   },
   {
    "duration": 11,
    "start_time": "2022-04-30T07:38:52.272Z"
   },
   {
    "duration": 8,
    "start_time": "2022-04-30T07:38:52.284Z"
   },
   {
    "duration": 10,
    "start_time": "2022-04-30T07:38:52.293Z"
   },
   {
    "duration": 7,
    "start_time": "2022-04-30T07:38:52.305Z"
   },
   {
    "duration": 7,
    "start_time": "2022-04-30T07:38:52.314Z"
   },
   {
    "duration": 7,
    "start_time": "2022-04-30T07:38:52.323Z"
   },
   {
    "duration": 7,
    "start_time": "2022-04-30T07:38:52.332Z"
   },
   {
    "duration": 8,
    "start_time": "2022-04-30T07:38:52.340Z"
   },
   {
    "duration": 107,
    "start_time": "2022-04-30T07:46:01.766Z"
   },
   {
    "duration": 24,
    "start_time": "2022-04-30T07:46:07.152Z"
   },
   {
    "duration": 24,
    "start_time": "2022-04-30T07:55:16.792Z"
   },
   {
    "duration": 18,
    "start_time": "2022-04-30T07:55:25.637Z"
   },
   {
    "duration": 2,
    "start_time": "2022-04-30T07:57:05.832Z"
   },
   {
    "duration": 322,
    "start_time": "2022-04-30T07:57:05.839Z"
   },
   {
    "duration": 10,
    "start_time": "2022-04-30T07:57:06.163Z"
   },
   {
    "duration": 17,
    "start_time": "2022-04-30T07:57:06.174Z"
   },
   {
    "duration": 20,
    "start_time": "2022-04-30T07:57:06.193Z"
   },
   {
    "duration": 27,
    "start_time": "2022-04-30T07:57:06.216Z"
   },
   {
    "duration": 15,
    "start_time": "2022-04-30T07:57:06.244Z"
   },
   {
    "duration": 36,
    "start_time": "2022-04-30T07:57:06.261Z"
   },
   {
    "duration": 18,
    "start_time": "2022-04-30T07:57:06.298Z"
   },
   {
    "duration": 29,
    "start_time": "2022-04-30T07:57:06.318Z"
   },
   {
    "duration": 12,
    "start_time": "2022-04-30T07:57:06.348Z"
   },
   {
    "duration": 8,
    "start_time": "2022-04-30T07:57:06.362Z"
   },
   {
    "duration": 7,
    "start_time": "2022-04-30T07:57:06.372Z"
   },
   {
    "duration": 10,
    "start_time": "2022-04-30T07:57:06.381Z"
   },
   {
    "duration": 2,
    "start_time": "2022-04-30T07:57:06.395Z"
   },
   {
    "duration": 7,
    "start_time": "2022-04-30T07:57:06.399Z"
   },
   {
    "duration": 10,
    "start_time": "2022-04-30T07:57:06.408Z"
   },
   {
    "duration": 7,
    "start_time": "2022-04-30T07:57:06.420Z"
   },
   {
    "duration": 7,
    "start_time": "2022-04-30T07:57:06.428Z"
   },
   {
    "duration": 8,
    "start_time": "2022-04-30T07:57:06.437Z"
   },
   {
    "duration": 14,
    "start_time": "2022-04-30T07:57:06.446Z"
   },
   {
    "duration": 10,
    "start_time": "2022-04-30T07:57:06.461Z"
   },
   {
    "duration": 9,
    "start_time": "2022-04-30T07:57:06.473Z"
   },
   {
    "duration": 10,
    "start_time": "2022-04-30T07:57:06.483Z"
   },
   {
    "duration": 8,
    "start_time": "2022-04-30T07:57:06.495Z"
   },
   {
    "duration": 12,
    "start_time": "2022-04-30T07:57:06.505Z"
   },
   {
    "duration": 7,
    "start_time": "2022-04-30T07:57:06.518Z"
   },
   {
    "duration": 10,
    "start_time": "2022-04-30T07:57:06.527Z"
   },
   {
    "duration": 8,
    "start_time": "2022-04-30T07:57:06.539Z"
   },
   {
    "duration": 11,
    "start_time": "2022-04-30T07:57:06.549Z"
   },
   {
    "duration": 10,
    "start_time": "2022-04-30T07:57:06.562Z"
   },
   {
    "duration": 8,
    "start_time": "2022-04-30T07:57:06.574Z"
   },
   {
    "duration": 13,
    "start_time": "2022-04-30T07:57:06.583Z"
   },
   {
    "duration": 13,
    "start_time": "2022-04-30T07:57:06.598Z"
   },
   {
    "duration": 13,
    "start_time": "2022-04-30T07:57:06.613Z"
   },
   {
    "duration": 9,
    "start_time": "2022-04-30T07:57:06.628Z"
   },
   {
    "duration": 8,
    "start_time": "2022-04-30T07:57:06.639Z"
   },
   {
    "duration": 12,
    "start_time": "2022-04-30T07:57:06.649Z"
   },
   {
    "duration": 28,
    "start_time": "2022-04-30T07:59:30.405Z"
   },
   {
    "duration": 25,
    "start_time": "2022-04-30T07:59:32.920Z"
   },
   {
    "duration": 2,
    "start_time": "2022-04-30T08:01:09.538Z"
   },
   {
    "duration": 403,
    "start_time": "2022-04-30T08:01:09.544Z"
   },
   {
    "duration": 11,
    "start_time": "2022-04-30T08:01:09.949Z"
   },
   {
    "duration": 5,
    "start_time": "2022-04-30T08:01:09.961Z"
   },
   {
    "duration": 8,
    "start_time": "2022-04-30T08:01:09.967Z"
   },
   {
    "duration": 21,
    "start_time": "2022-04-30T08:01:09.977Z"
   },
   {
    "duration": 12,
    "start_time": "2022-04-30T08:01:10.000Z"
   },
   {
    "duration": 37,
    "start_time": "2022-04-30T08:01:10.014Z"
   },
   {
    "duration": 42,
    "start_time": "2022-04-30T08:01:10.053Z"
   },
   {
    "duration": 2,
    "start_time": "2022-04-30T08:11:02.373Z"
   },
   {
    "duration": 258,
    "start_time": "2022-04-30T08:11:02.382Z"
   },
   {
    "duration": 10,
    "start_time": "2022-04-30T08:11:02.643Z"
   },
   {
    "duration": 12,
    "start_time": "2022-04-30T08:11:02.655Z"
   },
   {
    "duration": 12,
    "start_time": "2022-04-30T08:11:02.668Z"
   },
   {
    "duration": 10,
    "start_time": "2022-04-30T08:11:02.682Z"
   },
   {
    "duration": 11,
    "start_time": "2022-04-30T08:11:02.694Z"
   },
   {
    "duration": 32,
    "start_time": "2022-04-30T08:11:02.706Z"
   },
   {
    "duration": 47,
    "start_time": "2022-04-30T08:11:02.739Z"
   },
   {
    "duration": 24,
    "start_time": "2022-04-30T08:11:02.788Z"
   },
   {
    "duration": 64,
    "start_time": "2022-04-30T08:11:18.199Z"
   },
   {
    "duration": 58,
    "start_time": "2022-04-30T08:11:28.292Z"
   },
   {
    "duration": 58,
    "start_time": "2022-04-30T08:11:38.742Z"
   },
   {
    "duration": 2,
    "start_time": "2022-04-30T08:27:59.354Z"
   },
   {
    "duration": 336,
    "start_time": "2022-04-30T08:27:59.362Z"
   },
   {
    "duration": 11,
    "start_time": "2022-04-30T08:27:59.700Z"
   },
   {
    "duration": 4,
    "start_time": "2022-04-30T08:27:59.713Z"
   },
   {
    "duration": 5,
    "start_time": "2022-04-30T08:27:59.719Z"
   },
   {
    "duration": 9,
    "start_time": "2022-04-30T08:27:59.726Z"
   },
   {
    "duration": 15,
    "start_time": "2022-04-30T08:27:59.737Z"
   },
   {
    "duration": 53,
    "start_time": "2022-04-30T08:27:59.754Z"
   },
   {
    "duration": 30,
    "start_time": "2022-04-30T08:27:59.809Z"
   },
   {
    "duration": 29,
    "start_time": "2022-04-30T08:27:59.841Z"
   },
   {
    "duration": 81,
    "start_time": "2022-04-30T08:27:59.872Z"
   },
   {
    "duration": 95,
    "start_time": "2022-04-30T08:27:59.955Z"
   },
   {
    "duration": 2,
    "start_time": "2022-04-30T08:28:15.952Z"
   },
   {
    "duration": 359,
    "start_time": "2022-04-30T08:28:15.959Z"
   },
   {
    "duration": 10,
    "start_time": "2022-04-30T08:28:16.320Z"
   },
   {
    "duration": 16,
    "start_time": "2022-04-30T08:28:16.332Z"
   },
   {
    "duration": 14,
    "start_time": "2022-04-30T08:28:16.350Z"
   },
   {
    "duration": 25,
    "start_time": "2022-04-30T08:28:16.366Z"
   },
   {
    "duration": 13,
    "start_time": "2022-04-30T08:28:16.392Z"
   },
   {
    "duration": 27,
    "start_time": "2022-04-30T08:28:16.407Z"
   },
   {
    "duration": 42,
    "start_time": "2022-04-30T08:28:16.436Z"
   },
   {
    "duration": 23,
    "start_time": "2022-04-30T08:28:16.480Z"
   },
   {
    "duration": 61,
    "start_time": "2022-04-30T08:28:16.505Z"
   },
   {
    "duration": 80,
    "start_time": "2022-04-30T08:28:16.568Z"
   },
   {
    "duration": 57,
    "start_time": "2022-04-30T08:28:31.743Z"
   },
   {
    "duration": 2,
    "start_time": "2022-04-30T08:28:37.247Z"
   },
   {
    "duration": 285,
    "start_time": "2022-04-30T08:28:37.254Z"
   },
   {
    "duration": 10,
    "start_time": "2022-04-30T08:28:37.541Z"
   },
   {
    "duration": 6,
    "start_time": "2022-04-30T08:28:37.553Z"
   },
   {
    "duration": 11,
    "start_time": "2022-04-30T08:28:37.561Z"
   },
   {
    "duration": 17,
    "start_time": "2022-04-30T08:28:37.573Z"
   },
   {
    "duration": 31,
    "start_time": "2022-04-30T08:28:37.592Z"
   },
   {
    "duration": 30,
    "start_time": "2022-04-30T08:28:37.625Z"
   },
   {
    "duration": 32,
    "start_time": "2022-04-30T08:28:37.657Z"
   },
   {
    "duration": 26,
    "start_time": "2022-04-30T08:28:37.691Z"
   },
   {
    "duration": 3,
    "start_time": "2022-04-30T08:28:37.720Z"
   },
   {
    "duration": 95,
    "start_time": "2022-04-30T08:28:37.724Z"
   },
   {
    "duration": 58,
    "start_time": "2022-04-30T08:28:37.821Z"
   },
   {
    "duration": 12,
    "start_time": "2022-04-30T08:28:37.881Z"
   },
   {
    "duration": 7,
    "start_time": "2022-04-30T08:28:37.895Z"
   },
   {
    "duration": 5,
    "start_time": "2022-04-30T08:28:37.904Z"
   },
   {
    "duration": 11,
    "start_time": "2022-04-30T08:28:37.911Z"
   },
   {
    "duration": 5,
    "start_time": "2022-04-30T08:28:37.924Z"
   },
   {
    "duration": 7,
    "start_time": "2022-04-30T08:28:37.931Z"
   },
   {
    "duration": 7,
    "start_time": "2022-04-30T08:28:37.939Z"
   },
   {
    "duration": 10,
    "start_time": "2022-04-30T08:28:37.948Z"
   },
   {
    "duration": 15,
    "start_time": "2022-04-30T08:28:37.960Z"
   },
   {
    "duration": 16,
    "start_time": "2022-04-30T08:28:37.977Z"
   },
   {
    "duration": 7,
    "start_time": "2022-04-30T08:28:37.996Z"
   },
   {
    "duration": 8,
    "start_time": "2022-04-30T08:28:38.005Z"
   },
   {
    "duration": 12,
    "start_time": "2022-04-30T08:28:38.014Z"
   },
   {
    "duration": 12,
    "start_time": "2022-04-30T08:28:38.028Z"
   },
   {
    "duration": 10,
    "start_time": "2022-04-30T08:28:38.042Z"
   },
   {
    "duration": 9,
    "start_time": "2022-04-30T08:28:38.056Z"
   },
   {
    "duration": 19,
    "start_time": "2022-04-30T08:28:38.067Z"
   },
   {
    "duration": 12,
    "start_time": "2022-04-30T08:28:38.088Z"
   },
   {
    "duration": 7,
    "start_time": "2022-04-30T08:28:38.102Z"
   },
   {
    "duration": 21,
    "start_time": "2022-04-30T08:28:38.110Z"
   },
   {
    "duration": 28,
    "start_time": "2022-04-30T08:28:38.133Z"
   },
   {
    "duration": 10,
    "start_time": "2022-04-30T08:28:38.163Z"
   },
   {
    "duration": 7,
    "start_time": "2022-04-30T08:28:38.175Z"
   },
   {
    "duration": 13,
    "start_time": "2022-04-30T08:28:38.184Z"
   },
   {
    "duration": 9,
    "start_time": "2022-04-30T08:28:38.198Z"
   },
   {
    "duration": 3,
    "start_time": "2022-04-30T08:34:39.938Z"
   },
   {
    "duration": 289,
    "start_time": "2022-04-30T08:34:39.946Z"
   },
   {
    "duration": 10,
    "start_time": "2022-04-30T08:34:40.237Z"
   },
   {
    "duration": 25,
    "start_time": "2022-04-30T08:34:40.249Z"
   },
   {
    "duration": 17,
    "start_time": "2022-04-30T08:34:40.276Z"
   },
   {
    "duration": 15,
    "start_time": "2022-04-30T08:34:40.295Z"
   },
   {
    "duration": 18,
    "start_time": "2022-04-30T08:34:40.312Z"
   },
   {
    "duration": 34,
    "start_time": "2022-04-30T08:34:40.331Z"
   },
   {
    "duration": 41,
    "start_time": "2022-04-30T08:34:40.366Z"
   },
   {
    "duration": 29,
    "start_time": "2022-04-30T08:34:40.409Z"
   },
   {
    "duration": 4,
    "start_time": "2022-04-30T08:34:40.440Z"
   },
   {
    "duration": 88,
    "start_time": "2022-04-30T08:34:40.446Z"
   },
   {
    "duration": 61,
    "start_time": "2022-04-30T08:34:40.536Z"
   },
   {
    "duration": 6,
    "start_time": "2022-04-30T08:34:43.341Z"
   },
   {
    "duration": 6,
    "start_time": "2022-04-30T08:34:46.207Z"
   },
   {
    "duration": 5,
    "start_time": "2022-04-30T08:34:48.591Z"
   },
   {
    "duration": 6,
    "start_time": "2022-04-30T08:34:50.744Z"
   },
   {
    "duration": 7,
    "start_time": "2022-04-30T08:35:06.498Z"
   },
   {
    "duration": 8,
    "start_time": "2022-04-30T08:36:20.014Z"
   },
   {
    "duration": 3,
    "start_time": "2022-04-30T09:02:27.355Z"
   },
   {
    "duration": 449,
    "start_time": "2022-04-30T09:02:27.363Z"
   },
   {
    "duration": 11,
    "start_time": "2022-04-30T09:02:27.814Z"
   },
   {
    "duration": 5,
    "start_time": "2022-04-30T09:02:27.826Z"
   },
   {
    "duration": 11,
    "start_time": "2022-04-30T09:02:27.832Z"
   },
   {
    "duration": 17,
    "start_time": "2022-04-30T09:02:27.845Z"
   },
   {
    "duration": 19,
    "start_time": "2022-04-30T09:02:27.863Z"
   },
   {
    "duration": 38,
    "start_time": "2022-04-30T09:02:27.883Z"
   },
   {
    "duration": 29,
    "start_time": "2022-04-30T09:02:27.922Z"
   },
   {
    "duration": 41,
    "start_time": "2022-04-30T09:02:27.952Z"
   },
   {
    "duration": 3,
    "start_time": "2022-04-30T09:02:27.995Z"
   },
   {
    "duration": 79,
    "start_time": "2022-04-30T09:02:27.999Z"
   },
   {
    "duration": 60,
    "start_time": "2022-04-30T09:02:28.093Z"
   },
   {
    "duration": 8,
    "start_time": "2022-04-30T09:02:28.155Z"
   },
   {
    "duration": 3,
    "start_time": "2022-04-30T09:02:28.165Z"
   },
   {
    "duration": 19,
    "start_time": "2022-04-30T09:02:35.242Z"
   },
   {
    "duration": 18,
    "start_time": "2022-04-30T09:03:22.598Z"
   },
   {
    "duration": 4,
    "start_time": "2022-04-30T09:04:14.252Z"
   },
   {
    "duration": 17,
    "start_time": "2022-04-30T09:04:17.004Z"
   },
   {
    "duration": 24,
    "start_time": "2022-04-30T09:05:22.234Z"
   },
   {
    "duration": 20,
    "start_time": "2022-04-30T09:05:33.705Z"
   },
   {
    "duration": 2,
    "start_time": "2022-04-30T09:05:35.446Z"
   },
   {
    "duration": 2,
    "start_time": "2022-04-30T09:05:41.784Z"
   },
   {
    "duration": 287,
    "start_time": "2022-04-30T09:05:41.791Z"
   },
   {
    "duration": 15,
    "start_time": "2022-04-30T09:05:42.081Z"
   },
   {
    "duration": 6,
    "start_time": "2022-04-30T09:05:42.098Z"
   },
   {
    "duration": 5,
    "start_time": "2022-04-30T09:05:42.106Z"
   },
   {
    "duration": 17,
    "start_time": "2022-04-30T09:05:42.113Z"
   },
   {
    "duration": 13,
    "start_time": "2022-04-30T09:05:42.132Z"
   },
   {
    "duration": 31,
    "start_time": "2022-04-30T09:05:42.146Z"
   },
   {
    "duration": 48,
    "start_time": "2022-04-30T09:05:42.179Z"
   },
   {
    "duration": 41,
    "start_time": "2022-04-30T09:05:42.229Z"
   },
   {
    "duration": 4,
    "start_time": "2022-04-30T09:05:42.273Z"
   },
   {
    "duration": 127,
    "start_time": "2022-04-30T09:05:42.293Z"
   },
   {
    "duration": 71,
    "start_time": "2022-04-30T09:05:42.422Z"
   },
   {
    "duration": 10,
    "start_time": "2022-04-30T09:05:42.495Z"
   },
   {
    "duration": 4,
    "start_time": "2022-04-30T09:05:42.509Z"
   },
   {
    "duration": 3,
    "start_time": "2022-04-30T09:05:43.747Z"
   },
   {
    "duration": 22,
    "start_time": "2022-04-30T09:05:45.561Z"
   },
   {
    "duration": 21,
    "start_time": "2022-04-30T09:06:01.112Z"
   },
   {
    "duration": 25,
    "start_time": "2022-04-30T09:06:06.926Z"
   },
   {
    "duration": 2,
    "start_time": "2022-04-30T09:21:21.653Z"
   },
   {
    "duration": 507,
    "start_time": "2022-04-30T09:21:21.660Z"
   },
   {
    "duration": 10,
    "start_time": "2022-04-30T09:21:22.169Z"
   },
   {
    "duration": 3,
    "start_time": "2022-04-30T09:21:22.193Z"
   },
   {
    "duration": 7,
    "start_time": "2022-04-30T09:21:22.197Z"
   },
   {
    "duration": 11,
    "start_time": "2022-04-30T09:21:22.206Z"
   },
   {
    "duration": 13,
    "start_time": "2022-04-30T09:21:22.218Z"
   },
   {
    "duration": 33,
    "start_time": "2022-04-30T09:21:22.232Z"
   },
   {
    "duration": 46,
    "start_time": "2022-04-30T09:21:22.267Z"
   },
   {
    "duration": 24,
    "start_time": "2022-04-30T09:21:22.315Z"
   },
   {
    "duration": 3,
    "start_time": "2022-04-30T09:21:22.341Z"
   },
   {
    "duration": 89,
    "start_time": "2022-04-30T09:21:22.346Z"
   },
   {
    "duration": 66,
    "start_time": "2022-04-30T09:21:22.436Z"
   },
   {
    "duration": 2,
    "start_time": "2022-04-30T09:21:22.504Z"
   },
   {
    "duration": 4,
    "start_time": "2022-04-30T09:21:22.509Z"
   },
   {
    "duration": 17,
    "start_time": "2022-04-30T09:21:22.514Z"
   },
   {
    "duration": 8,
    "start_time": "2022-04-30T09:21:33.110Z"
   },
   {
    "duration": 2,
    "start_time": "2022-04-30T09:35:10.140Z"
   },
   {
    "duration": 434,
    "start_time": "2022-04-30T09:35:10.147Z"
   },
   {
    "duration": 14,
    "start_time": "2022-04-30T09:35:10.584Z"
   },
   {
    "duration": 6,
    "start_time": "2022-04-30T09:35:10.600Z"
   },
   {
    "duration": 4,
    "start_time": "2022-04-30T09:35:10.607Z"
   },
   {
    "duration": 9,
    "start_time": "2022-04-30T09:35:10.614Z"
   },
   {
    "duration": 11,
    "start_time": "2022-04-30T09:35:10.625Z"
   },
   {
    "duration": 26,
    "start_time": "2022-04-30T09:35:10.638Z"
   },
   {
    "duration": 53,
    "start_time": "2022-04-30T09:35:10.666Z"
   },
   {
    "duration": 26,
    "start_time": "2022-04-30T09:35:10.721Z"
   },
   {
    "duration": 81,
    "start_time": "2022-04-30T09:35:10.748Z"
   },
   {
    "duration": 91,
    "start_time": "2022-04-30T09:35:10.831Z"
   },
   {
    "duration": 57,
    "start_time": "2022-04-30T09:35:10.924Z"
   },
   {
    "duration": 21,
    "start_time": "2022-04-30T09:35:10.982Z"
   },
   {
    "duration": 3,
    "start_time": "2022-04-30T09:35:11.006Z"
   },
   {
    "duration": 20,
    "start_time": "2022-04-30T09:35:11.011Z"
   },
   {
    "duration": 8,
    "start_time": "2022-04-30T09:35:11.033Z"
   },
   {
    "duration": 5,
    "start_time": "2022-04-30T09:35:12.780Z"
   },
   {
    "duration": 3,
    "start_time": "2022-04-30T09:35:32.416Z"
   },
   {
    "duration": 13,
    "start_time": "2022-04-30T09:35:48.273Z"
   },
   {
    "duration": 302,
    "start_time": "2022-04-30T09:36:32.407Z"
   },
   {
    "duration": 12,
    "start_time": "2022-04-30T09:36:45.704Z"
   },
   {
    "duration": 3,
    "start_time": "2022-04-30T09:42:23.960Z"
   },
   {
    "duration": 260,
    "start_time": "2022-04-30T09:42:23.969Z"
   },
   {
    "duration": 11,
    "start_time": "2022-04-30T09:42:24.232Z"
   },
   {
    "duration": 5,
    "start_time": "2022-04-30T09:42:24.244Z"
   },
   {
    "duration": 4,
    "start_time": "2022-04-30T09:42:24.250Z"
   },
   {
    "duration": 17,
    "start_time": "2022-04-30T09:42:24.257Z"
   },
   {
    "duration": 31,
    "start_time": "2022-04-30T09:42:24.276Z"
   },
   {
    "duration": 52,
    "start_time": "2022-04-30T09:42:24.308Z"
   },
   {
    "duration": 69,
    "start_time": "2022-04-30T09:42:24.362Z"
   },
   {
    "duration": 32,
    "start_time": "2022-04-30T09:42:24.433Z"
   },
   {
    "duration": 77,
    "start_time": "2022-04-30T09:42:24.467Z"
   },
   {
    "duration": 88,
    "start_time": "2022-04-30T09:42:24.546Z"
   },
   {
    "duration": 65,
    "start_time": "2022-04-30T09:42:24.636Z"
   },
   {
    "duration": 9,
    "start_time": "2022-04-30T09:42:24.703Z"
   },
   {
    "duration": 4,
    "start_time": "2022-04-30T09:42:24.716Z"
   },
   {
    "duration": 30,
    "start_time": "2022-04-30T09:42:24.722Z"
   },
   {
    "duration": 40,
    "start_time": "2022-04-30T09:42:24.754Z"
   },
   {
    "duration": 19,
    "start_time": "2022-04-30T09:42:24.796Z"
   },
   {
    "duration": 10,
    "start_time": "2022-04-30T09:42:26.995Z"
   },
   {
    "duration": 11,
    "start_time": "2022-04-30T09:42:48.102Z"
   },
   {
    "duration": 13,
    "start_time": "2022-04-30T09:51:35.507Z"
   },
   {
    "duration": 71,
    "start_time": "2022-04-30T09:55:21.473Z"
   },
   {
    "duration": 18,
    "start_time": "2022-04-30T09:55:34.570Z"
   },
   {
    "duration": 17,
    "start_time": "2022-04-30T09:55:47.980Z"
   },
   {
    "duration": 18,
    "start_time": "2022-04-30T09:59:45.556Z"
   },
   {
    "duration": 17,
    "start_time": "2022-04-30T10:02:59.613Z"
   },
   {
    "duration": 13,
    "start_time": "2022-04-30T10:03:08.771Z"
   },
   {
    "duration": 3,
    "start_time": "2022-04-30T10:03:17.778Z"
   },
   {
    "duration": 343,
    "start_time": "2022-04-30T10:03:17.786Z"
   },
   {
    "duration": 1636,
    "start_time": "2022-04-30T10:03:18.131Z"
   },
   {
    "duration": 0,
    "start_time": "2022-04-30T10:03:19.770Z"
   },
   {
    "duration": 0,
    "start_time": "2022-04-30T10:03:19.772Z"
   },
   {
    "duration": 0,
    "start_time": "2022-04-30T10:03:19.773Z"
   },
   {
    "duration": 0,
    "start_time": "2022-04-30T10:03:19.775Z"
   },
   {
    "duration": 0,
    "start_time": "2022-04-30T10:03:19.776Z"
   },
   {
    "duration": 0,
    "start_time": "2022-04-30T10:03:19.778Z"
   },
   {
    "duration": 0,
    "start_time": "2022-04-30T10:03:19.779Z"
   },
   {
    "duration": 0,
    "start_time": "2022-04-30T10:03:19.781Z"
   },
   {
    "duration": 0,
    "start_time": "2022-04-30T10:03:19.783Z"
   },
   {
    "duration": 0,
    "start_time": "2022-04-30T10:03:19.784Z"
   },
   {
    "duration": 0,
    "start_time": "2022-04-30T10:03:19.786Z"
   },
   {
    "duration": 0,
    "start_time": "2022-04-30T10:03:19.787Z"
   },
   {
    "duration": 0,
    "start_time": "2022-04-30T10:03:19.789Z"
   },
   {
    "duration": 0,
    "start_time": "2022-04-30T10:03:19.791Z"
   },
   {
    "duration": 0,
    "start_time": "2022-04-30T10:03:19.793Z"
   },
   {
    "duration": 12,
    "start_time": "2022-04-30T10:03:22.851Z"
   },
   {
    "duration": 145,
    "start_time": "2022-04-30T10:04:44.565Z"
   },
   {
    "duration": 114,
    "start_time": "2022-04-30T10:04:59.112Z"
   },
   {
    "duration": 2009,
    "start_time": "2022-04-30T10:05:04.577Z"
   },
   {
    "duration": 1713,
    "start_time": "2022-04-30T10:05:18.741Z"
   },
   {
    "duration": 1719,
    "start_time": "2022-04-30T10:05:35.453Z"
   },
   {
    "duration": 2017,
    "start_time": "2022-04-30T10:06:15.855Z"
   },
   {
    "duration": 10,
    "start_time": "2022-04-30T10:07:09.308Z"
   },
   {
    "duration": 2,
    "start_time": "2022-04-30T10:07:14.253Z"
   },
   {
    "duration": 341,
    "start_time": "2022-04-30T10:07:14.260Z"
   },
   {
    "duration": 11,
    "start_time": "2022-04-30T10:07:14.603Z"
   },
   {
    "duration": 8,
    "start_time": "2022-04-30T10:07:14.615Z"
   },
   {
    "duration": 7,
    "start_time": "2022-04-30T10:07:14.625Z"
   },
   {
    "duration": 13,
    "start_time": "2022-04-30T10:07:14.634Z"
   },
   {
    "duration": 13,
    "start_time": "2022-04-30T10:07:14.649Z"
   },
   {
    "duration": 37,
    "start_time": "2022-04-30T10:07:14.664Z"
   },
   {
    "duration": 29,
    "start_time": "2022-04-30T10:07:14.703Z"
   },
   {
    "duration": 27,
    "start_time": "2022-04-30T10:07:14.733Z"
   },
   {
    "duration": 82,
    "start_time": "2022-04-30T10:07:14.761Z"
   },
   {
    "duration": 83,
    "start_time": "2022-04-30T10:07:14.844Z"
   },
   {
    "duration": 64,
    "start_time": "2022-04-30T10:07:14.929Z"
   },
   {
    "duration": 7,
    "start_time": "2022-04-30T10:07:14.994Z"
   },
   {
    "duration": 4,
    "start_time": "2022-04-30T10:07:15.004Z"
   },
   {
    "duration": 24,
    "start_time": "2022-04-30T10:07:15.009Z"
   },
   {
    "duration": 9,
    "start_time": "2022-04-30T10:07:15.035Z"
   },
   {
    "duration": 14,
    "start_time": "2022-04-30T10:07:15.046Z"
   },
   {
    "duration": 12,
    "start_time": "2022-04-30T10:07:16.769Z"
   },
   {
    "duration": 3,
    "start_time": "2022-04-30T10:26:38.191Z"
   },
   {
    "duration": 2172,
    "start_time": "2022-04-30T10:26:38.201Z"
   },
   {
    "duration": 0,
    "start_time": "2022-04-30T10:26:40.377Z"
   },
   {
    "duration": 0,
    "start_time": "2022-04-30T10:26:40.378Z"
   },
   {
    "duration": 0,
    "start_time": "2022-04-30T10:26:40.379Z"
   },
   {
    "duration": 0,
    "start_time": "2022-04-30T10:26:40.380Z"
   },
   {
    "duration": 0,
    "start_time": "2022-04-30T10:26:40.382Z"
   },
   {
    "duration": 0,
    "start_time": "2022-04-30T10:26:40.383Z"
   },
   {
    "duration": 0,
    "start_time": "2022-04-30T10:26:40.385Z"
   },
   {
    "duration": 0,
    "start_time": "2022-04-30T10:26:40.386Z"
   },
   {
    "duration": 0,
    "start_time": "2022-04-30T10:26:40.387Z"
   },
   {
    "duration": 0,
    "start_time": "2022-04-30T10:26:40.389Z"
   },
   {
    "duration": 0,
    "start_time": "2022-04-30T10:26:40.390Z"
   },
   {
    "duration": 0,
    "start_time": "2022-04-30T10:26:40.391Z"
   },
   {
    "duration": 0,
    "start_time": "2022-04-30T10:26:40.393Z"
   },
   {
    "duration": 0,
    "start_time": "2022-04-30T10:26:40.394Z"
   },
   {
    "duration": 0,
    "start_time": "2022-04-30T10:26:40.395Z"
   },
   {
    "duration": 0,
    "start_time": "2022-04-30T10:26:40.397Z"
   },
   {
    "duration": 0,
    "start_time": "2022-04-30T10:26:40.398Z"
   },
   {
    "duration": 0,
    "start_time": "2022-04-30T10:26:40.399Z"
   },
   {
    "duration": 0,
    "start_time": "2022-04-30T10:26:40.401Z"
   },
   {
    "duration": 0,
    "start_time": "2022-04-30T10:26:40.402Z"
   },
   {
    "duration": 0,
    "start_time": "2022-04-30T10:26:40.403Z"
   },
   {
    "duration": 0,
    "start_time": "2022-04-30T10:26:40.405Z"
   },
   {
    "duration": 0,
    "start_time": "2022-04-30T10:26:40.406Z"
   },
   {
    "duration": 0,
    "start_time": "2022-04-30T10:26:40.408Z"
   },
   {
    "duration": 0,
    "start_time": "2022-04-30T10:26:40.409Z"
   },
   {
    "duration": 0,
    "start_time": "2022-04-30T10:26:40.410Z"
   },
   {
    "duration": 0,
    "start_time": "2022-04-30T10:26:40.411Z"
   },
   {
    "duration": 0,
    "start_time": "2022-04-30T10:26:40.413Z"
   },
   {
    "duration": 0,
    "start_time": "2022-04-30T10:26:40.414Z"
   },
   {
    "duration": 0,
    "start_time": "2022-04-30T10:26:40.416Z"
   },
   {
    "duration": 0,
    "start_time": "2022-04-30T10:26:40.417Z"
   },
   {
    "duration": 0,
    "start_time": "2022-04-30T10:26:40.419Z"
   },
   {
    "duration": 0,
    "start_time": "2022-04-30T10:26:40.420Z"
   },
   {
    "duration": 0,
    "start_time": "2022-04-30T10:26:40.421Z"
   },
   {
    "duration": 0,
    "start_time": "2022-04-30T10:26:40.423Z"
   },
   {
    "duration": 0,
    "start_time": "2022-04-30T10:26:40.424Z"
   },
   {
    "duration": 12,
    "start_time": "2022-04-30T10:26:52.433Z"
   },
   {
    "duration": 2373,
    "start_time": "2022-04-30T10:27:19.356Z"
   },
   {
    "duration": 2831,
    "start_time": "2022-04-30T10:27:39.245Z"
   },
   {
    "duration": 332,
    "start_time": "2022-04-30T10:29:01.935Z"
   },
   {
    "duration": 356,
    "start_time": "2022-04-30T10:29:08.674Z"
   },
   {
    "duration": 10,
    "start_time": "2022-04-30T10:29:13.855Z"
   },
   {
    "duration": 2,
    "start_time": "2022-04-30T10:29:20.063Z"
   },
   {
    "duration": 253,
    "start_time": "2022-04-30T10:29:20.067Z"
   },
   {
    "duration": 10,
    "start_time": "2022-04-30T10:29:20.322Z"
   },
   {
    "duration": 4,
    "start_time": "2022-04-30T10:29:20.333Z"
   },
   {
    "duration": 10,
    "start_time": "2022-04-30T10:29:20.339Z"
   },
   {
    "duration": 15,
    "start_time": "2022-04-30T10:29:20.351Z"
   },
   {
    "duration": 12,
    "start_time": "2022-04-30T10:29:20.368Z"
   },
   {
    "duration": 28,
    "start_time": "2022-04-30T10:29:20.382Z"
   },
   {
    "duration": 27,
    "start_time": "2022-04-30T10:29:20.412Z"
   },
   {
    "duration": 24,
    "start_time": "2022-04-30T10:29:20.441Z"
   },
   {
    "duration": 75,
    "start_time": "2022-04-30T10:29:20.468Z"
   },
   {
    "duration": 81,
    "start_time": "2022-04-30T10:29:20.545Z"
   },
   {
    "duration": 56,
    "start_time": "2022-04-30T10:29:20.627Z"
   },
   {
    "duration": 8,
    "start_time": "2022-04-30T10:29:20.692Z"
   },
   {
    "duration": 8,
    "start_time": "2022-04-30T10:29:20.701Z"
   },
   {
    "duration": 22,
    "start_time": "2022-04-30T10:29:20.710Z"
   },
   {
    "duration": 8,
    "start_time": "2022-04-30T10:29:20.733Z"
   },
   {
    "duration": 11,
    "start_time": "2022-04-30T10:29:20.743Z"
   },
   {
    "duration": 37,
    "start_time": "2022-04-30T10:29:20.756Z"
   },
   {
    "duration": 91,
    "start_time": "2022-04-30T10:29:20.794Z"
   },
   {
    "duration": 0,
    "start_time": "2022-04-30T10:29:20.886Z"
   },
   {
    "duration": 1,
    "start_time": "2022-04-30T10:29:20.887Z"
   },
   {
    "duration": 0,
    "start_time": "2022-04-30T10:29:20.888Z"
   },
   {
    "duration": 0,
    "start_time": "2022-04-30T10:29:20.889Z"
   },
   {
    "duration": 0,
    "start_time": "2022-04-30T10:29:20.890Z"
   },
   {
    "duration": 0,
    "start_time": "2022-04-30T10:29:20.891Z"
   },
   {
    "duration": 0,
    "start_time": "2022-04-30T10:29:20.892Z"
   },
   {
    "duration": 0,
    "start_time": "2022-04-30T10:29:20.901Z"
   },
   {
    "duration": 0,
    "start_time": "2022-04-30T10:29:20.902Z"
   },
   {
    "duration": 0,
    "start_time": "2022-04-30T10:29:20.903Z"
   },
   {
    "duration": 0,
    "start_time": "2022-04-30T10:29:20.904Z"
   },
   {
    "duration": 0,
    "start_time": "2022-04-30T10:29:20.905Z"
   },
   {
    "duration": 0,
    "start_time": "2022-04-30T10:29:20.906Z"
   },
   {
    "duration": 0,
    "start_time": "2022-04-30T10:29:20.907Z"
   },
   {
    "duration": 0,
    "start_time": "2022-04-30T10:29:20.908Z"
   },
   {
    "duration": 0,
    "start_time": "2022-04-30T10:29:20.909Z"
   },
   {
    "duration": 0,
    "start_time": "2022-04-30T10:29:20.910Z"
   },
   {
    "duration": 0,
    "start_time": "2022-04-30T10:29:20.911Z"
   },
   {
    "duration": 11,
    "start_time": "2022-04-30T10:29:26.668Z"
   },
   {
    "duration": 3,
    "start_time": "2022-04-30T10:44:57.144Z"
   },
   {
    "duration": 244,
    "start_time": "2022-04-30T10:44:57.151Z"
   },
   {
    "duration": 10,
    "start_time": "2022-04-30T10:44:57.397Z"
   },
   {
    "duration": 4,
    "start_time": "2022-04-30T10:44:57.409Z"
   },
   {
    "duration": 4,
    "start_time": "2022-04-30T10:44:57.415Z"
   },
   {
    "duration": 13,
    "start_time": "2022-04-30T10:44:57.421Z"
   },
   {
    "duration": 12,
    "start_time": "2022-04-30T10:44:57.435Z"
   },
   {
    "duration": 51,
    "start_time": "2022-04-30T10:44:57.449Z"
   },
   {
    "duration": 32,
    "start_time": "2022-04-30T10:44:57.503Z"
   },
   {
    "duration": 29,
    "start_time": "2022-04-30T10:44:57.537Z"
   },
   {
    "duration": 90,
    "start_time": "2022-04-30T10:44:57.568Z"
   },
   {
    "duration": 90,
    "start_time": "2022-04-30T10:44:57.660Z"
   },
   {
    "duration": 68,
    "start_time": "2022-04-30T10:44:57.752Z"
   },
   {
    "duration": 8,
    "start_time": "2022-04-30T10:44:57.822Z"
   },
   {
    "duration": 4,
    "start_time": "2022-04-30T10:44:57.832Z"
   },
   {
    "duration": 17,
    "start_time": "2022-04-30T10:44:57.837Z"
   },
   {
    "duration": 8,
    "start_time": "2022-04-30T10:44:57.855Z"
   },
   {
    "duration": 37,
    "start_time": "2022-04-30T10:44:57.865Z"
   },
   {
    "duration": 11,
    "start_time": "2022-04-30T10:44:57.904Z"
   },
   {
    "duration": 8,
    "start_time": "2022-04-30T10:44:59.325Z"
   },
   {
    "duration": 8,
    "start_time": "2022-04-30T10:45:08.375Z"
   },
   {
    "duration": 8,
    "start_time": "2022-04-30T10:45:18.377Z"
   },
   {
    "duration": 18,
    "start_time": "2022-04-30T10:45:23.746Z"
   },
   {
    "duration": 22,
    "start_time": "2022-04-30T10:57:10.928Z"
   },
   {
    "duration": 3,
    "start_time": "2022-04-30T10:57:26.405Z"
   },
   {
    "duration": 530,
    "start_time": "2022-04-30T10:57:26.413Z"
   },
   {
    "duration": 11,
    "start_time": "2022-04-30T10:57:26.945Z"
   },
   {
    "duration": 6,
    "start_time": "2022-04-30T10:57:26.958Z"
   },
   {
    "duration": 12,
    "start_time": "2022-04-30T10:57:26.966Z"
   },
   {
    "duration": 18,
    "start_time": "2022-04-30T10:57:26.981Z"
   },
   {
    "duration": 0,
    "start_time": "2022-04-30T10:57:27.001Z"
   },
   {
    "duration": 0,
    "start_time": "2022-04-30T10:57:27.002Z"
   },
   {
    "duration": 0,
    "start_time": "2022-04-30T10:57:27.003Z"
   },
   {
    "duration": 0,
    "start_time": "2022-04-30T10:57:27.004Z"
   },
   {
    "duration": 0,
    "start_time": "2022-04-30T10:57:27.005Z"
   },
   {
    "duration": 0,
    "start_time": "2022-04-30T10:57:27.006Z"
   },
   {
    "duration": 0,
    "start_time": "2022-04-30T10:57:27.007Z"
   },
   {
    "duration": 0,
    "start_time": "2022-04-30T10:57:27.008Z"
   },
   {
    "duration": 0,
    "start_time": "2022-04-30T10:57:27.009Z"
   },
   {
    "duration": 0,
    "start_time": "2022-04-30T10:57:27.010Z"
   },
   {
    "duration": 0,
    "start_time": "2022-04-30T10:57:27.057Z"
   },
   {
    "duration": 0,
    "start_time": "2022-04-30T10:57:27.058Z"
   },
   {
    "duration": 0,
    "start_time": "2022-04-30T10:57:27.059Z"
   },
   {
    "duration": 12,
    "start_time": "2022-04-30T10:57:40.988Z"
   },
   {
    "duration": 0,
    "start_time": "2022-04-30T11:02:05.407Z"
   },
   {
    "duration": 0,
    "start_time": "2022-04-30T11:02:05.409Z"
   },
   {
    "duration": 20,
    "start_time": "2022-04-30T11:02:06.148Z"
   },
   {
    "duration": 12,
    "start_time": "2022-04-30T11:02:32.180Z"
   },
   {
    "duration": 50,
    "start_time": "2022-04-30T11:04:36.123Z"
   },
   {
    "duration": 427,
    "start_time": "2022-04-30T11:04:52.384Z"
   },
   {
    "duration": 286,
    "start_time": "2022-04-30T11:04:52.813Z"
   },
   {
    "duration": 16,
    "start_time": "2022-04-30T11:04:53.101Z"
   },
   {
    "duration": 11,
    "start_time": "2022-04-30T11:04:53.119Z"
   },
   {
    "duration": 6,
    "start_time": "2022-04-30T11:04:53.132Z"
   },
   {
    "duration": 51,
    "start_time": "2022-04-30T11:05:19.972Z"
   },
   {
    "duration": 7,
    "start_time": "2022-04-30T11:06:23.431Z"
   },
   {
    "duration": 8,
    "start_time": "2022-04-30T11:06:41.215Z"
   },
   {
    "duration": 421,
    "start_time": "2022-04-30T11:06:45.914Z"
   },
   {
    "duration": 479,
    "start_time": "2022-04-30T11:06:46.337Z"
   },
   {
    "duration": 19,
    "start_time": "2022-04-30T11:06:46.818Z"
   },
   {
    "duration": 5,
    "start_time": "2022-04-30T11:06:46.840Z"
   },
   {
    "duration": 9,
    "start_time": "2022-04-30T11:06:46.846Z"
   },
   {
    "duration": 36,
    "start_time": "2022-04-30T11:06:46.857Z"
   },
   {
    "duration": 13,
    "start_time": "2022-04-30T11:06:49.767Z"
   },
   {
    "duration": 20,
    "start_time": "2022-04-30T11:06:58.540Z"
   },
   {
    "duration": 16,
    "start_time": "2022-04-30T11:07:48.672Z"
   },
   {
    "duration": 17,
    "start_time": "2022-04-30T11:08:10.984Z"
   },
   {
    "duration": 18,
    "start_time": "2022-04-30T11:33:47.520Z"
   },
   {
    "duration": 7,
    "start_time": "2022-04-30T11:35:09.281Z"
   },
   {
    "duration": 17,
    "start_time": "2022-04-30T11:35:15.423Z"
   },
   {
    "duration": 25,
    "start_time": "2022-04-30T11:35:30.090Z"
   },
   {
    "duration": 10,
    "start_time": "2022-04-30T11:35:41.509Z"
   },
   {
    "duration": 10,
    "start_time": "2022-04-30T11:35:50.490Z"
   },
   {
    "duration": 25,
    "start_time": "2022-04-30T11:35:59.185Z"
   },
   {
    "duration": 12,
    "start_time": "2022-04-30T11:36:01.790Z"
   },
   {
    "duration": 8,
    "start_time": "2022-04-30T11:36:05.751Z"
   },
   {
    "duration": 19,
    "start_time": "2022-04-30T11:36:09.393Z"
   },
   {
    "duration": 10,
    "start_time": "2022-04-30T11:36:22.814Z"
   },
   {
    "duration": 578,
    "start_time": "2022-04-30T11:56:47.921Z"
   },
   {
    "duration": 2125,
    "start_time": "2022-04-30T11:58:03.566Z"
   },
   {
    "duration": 2068,
    "start_time": "2022-04-30T11:58:18.314Z"
   },
   {
    "duration": 1831,
    "start_time": "2022-04-30T11:58:23.636Z"
   },
   {
    "duration": 2000,
    "start_time": "2022-04-30T11:58:36.562Z"
   },
   {
    "duration": 2055,
    "start_time": "2022-04-30T11:58:41.339Z"
   },
   {
    "duration": 2603,
    "start_time": "2022-04-30T11:58:58.379Z"
   },
   {
    "duration": 443,
    "start_time": "2022-04-30T11:59:23.154Z"
   },
   {
    "duration": 437,
    "start_time": "2022-04-30T11:59:38.360Z"
   },
   {
    "duration": 257,
    "start_time": "2022-04-30T11:59:45.358Z"
   },
   {
    "duration": 251,
    "start_time": "2022-04-30T12:03:21.424Z"
   },
   {
    "duration": 3,
    "start_time": "2022-04-30T12:06:16.910Z"
   },
   {
    "duration": 239,
    "start_time": "2022-04-30T12:06:19.310Z"
   },
   {
    "duration": 229,
    "start_time": "2022-04-30T12:06:28.000Z"
   },
   {
    "duration": 323,
    "start_time": "2022-04-30T12:07:24.327Z"
   },
   {
    "duration": 517,
    "start_time": "2022-04-30T12:08:25.342Z"
   },
   {
    "duration": 276,
    "start_time": "2022-04-30T12:09:16.814Z"
   },
   {
    "duration": 254,
    "start_time": "2022-04-30T12:09:54.365Z"
   },
   {
    "duration": 397,
    "start_time": "2022-04-30T12:10:09.359Z"
   },
   {
    "duration": 286,
    "start_time": "2022-04-30T12:10:39.840Z"
   },
   {
    "duration": 5,
    "start_time": "2022-04-30T12:11:02.011Z"
   },
   {
    "duration": 4,
    "start_time": "2022-04-30T12:11:16.186Z"
   },
   {
    "duration": 260,
    "start_time": "2022-04-30T12:11:20.459Z"
   },
   {
    "duration": 564,
    "start_time": "2022-04-30T12:11:29.597Z"
   },
   {
    "duration": 266,
    "start_time": "2022-04-30T12:11:49.944Z"
   },
   {
    "duration": 2151,
    "start_time": "2022-04-30T12:19:01.516Z"
   },
   {
    "duration": 0,
    "start_time": "2022-04-30T12:19:03.669Z"
   },
   {
    "duration": 405,
    "start_time": "2022-04-30T12:19:14.831Z"
   },
   {
    "duration": 1875,
    "start_time": "2022-04-30T12:19:20.511Z"
   },
   {
    "duration": 2,
    "start_time": "2022-04-30T12:19:41.952Z"
   },
   {
    "duration": 323,
    "start_time": "2022-04-30T12:19:41.968Z"
   },
   {
    "duration": 17,
    "start_time": "2022-04-30T12:19:42.298Z"
   },
   {
    "duration": 3,
    "start_time": "2022-04-30T12:19:42.317Z"
   },
   {
    "duration": 4,
    "start_time": "2022-04-30T12:19:42.323Z"
   },
   {
    "duration": 10,
    "start_time": "2022-04-30T12:19:42.329Z"
   },
   {
    "duration": 13,
    "start_time": "2022-04-30T12:19:42.341Z"
   },
   {
    "duration": 46,
    "start_time": "2022-04-30T12:19:42.400Z"
   },
   {
    "duration": 71,
    "start_time": "2022-04-30T12:19:42.449Z"
   },
   {
    "duration": 26,
    "start_time": "2022-04-30T12:19:42.522Z"
   },
   {
    "duration": 92,
    "start_time": "2022-04-30T12:19:42.552Z"
   },
   {
    "duration": 76,
    "start_time": "2022-04-30T12:19:42.646Z"
   },
   {
    "duration": 126,
    "start_time": "2022-04-30T12:19:42.725Z"
   },
   {
    "duration": 11,
    "start_time": "2022-04-30T12:19:42.854Z"
   },
   {
    "duration": 4,
    "start_time": "2022-04-30T12:19:42.868Z"
   },
   {
    "duration": 42,
    "start_time": "2022-04-30T12:19:42.874Z"
   },
   {
    "duration": 8,
    "start_time": "2022-04-30T12:19:42.917Z"
   },
   {
    "duration": 15,
    "start_time": "2022-04-30T12:19:42.927Z"
   },
   {
    "duration": 11,
    "start_time": "2022-04-30T12:19:42.943Z"
   },
   {
    "duration": 57,
    "start_time": "2022-04-30T12:19:42.956Z"
   },
   {
    "duration": 15,
    "start_time": "2022-04-30T12:19:43.015Z"
   },
   {
    "duration": 14,
    "start_time": "2022-04-30T12:19:43.032Z"
   },
   {
    "duration": 50,
    "start_time": "2022-04-30T12:19:43.048Z"
   },
   {
    "duration": 19,
    "start_time": "2022-04-30T12:19:43.100Z"
   },
   {
    "duration": 16,
    "start_time": "2022-04-30T12:19:43.121Z"
   },
   {
    "duration": 17,
    "start_time": "2022-04-30T12:19:43.139Z"
   },
   {
    "duration": 103,
    "start_time": "2022-04-30T12:19:43.158Z"
   },
   {
    "duration": 0,
    "start_time": "2022-04-30T12:19:43.264Z"
   },
   {
    "duration": 0,
    "start_time": "2022-04-30T12:19:43.265Z"
   },
   {
    "duration": 0,
    "start_time": "2022-04-30T12:19:43.267Z"
   },
   {
    "duration": 0,
    "start_time": "2022-04-30T12:19:43.269Z"
   },
   {
    "duration": 0,
    "start_time": "2022-04-30T12:19:43.271Z"
   },
   {
    "duration": 0,
    "start_time": "2022-04-30T12:19:43.272Z"
   },
   {
    "duration": 0,
    "start_time": "2022-04-30T12:19:43.274Z"
   },
   {
    "duration": 0,
    "start_time": "2022-04-30T12:19:43.276Z"
   },
   {
    "duration": 0,
    "start_time": "2022-04-30T12:19:43.277Z"
   },
   {
    "duration": 0,
    "start_time": "2022-04-30T12:19:43.279Z"
   },
   {
    "duration": 0,
    "start_time": "2022-04-30T12:19:43.281Z"
   },
   {
    "duration": 16,
    "start_time": "2022-04-30T12:19:51.626Z"
   },
   {
    "duration": 120,
    "start_time": "2022-04-30T12:21:37.941Z"
   },
   {
    "duration": 6,
    "start_time": "2022-04-30T12:22:27.520Z"
   },
   {
    "duration": 13,
    "start_time": "2022-04-30T12:22:38.082Z"
   },
   {
    "duration": 12,
    "start_time": "2022-04-30T12:22:45.970Z"
   },
   {
    "duration": 12,
    "start_time": "2022-04-30T12:24:59.486Z"
   },
   {
    "duration": 13,
    "start_time": "2022-04-30T12:25:11.299Z"
   },
   {
    "duration": 13,
    "start_time": "2022-04-30T12:25:15.273Z"
   },
   {
    "duration": 2,
    "start_time": "2022-04-30T12:25:17.848Z"
   },
   {
    "duration": 597,
    "start_time": "2022-04-30T12:25:17.852Z"
   },
   {
    "duration": 10,
    "start_time": "2022-04-30T12:25:18.450Z"
   },
   {
    "duration": 3,
    "start_time": "2022-04-30T12:25:18.462Z"
   },
   {
    "duration": 7,
    "start_time": "2022-04-30T12:25:18.467Z"
   },
   {
    "duration": 18,
    "start_time": "2022-04-30T12:25:18.476Z"
   },
   {
    "duration": 11,
    "start_time": "2022-04-30T12:25:18.496Z"
   },
   {
    "duration": 26,
    "start_time": "2022-04-30T12:25:18.509Z"
   },
   {
    "duration": 58,
    "start_time": "2022-04-30T12:25:18.537Z"
   },
   {
    "duration": 26,
    "start_time": "2022-04-30T12:25:18.596Z"
   },
   {
    "duration": 75,
    "start_time": "2022-04-30T12:25:18.624Z"
   },
   {
    "duration": 70,
    "start_time": "2022-04-30T12:25:18.701Z"
   },
   {
    "duration": 71,
    "start_time": "2022-04-30T12:25:18.773Z"
   },
   {
    "duration": 8,
    "start_time": "2022-04-30T12:25:18.846Z"
   },
   {
    "duration": 4,
    "start_time": "2022-04-30T12:25:18.855Z"
   },
   {
    "duration": 42,
    "start_time": "2022-04-30T12:25:18.860Z"
   },
   {
    "duration": 8,
    "start_time": "2022-04-30T12:25:18.904Z"
   },
   {
    "duration": 11,
    "start_time": "2022-04-30T12:25:18.913Z"
   },
   {
    "duration": 10,
    "start_time": "2022-04-30T12:25:18.926Z"
   },
   {
    "duration": 18,
    "start_time": "2022-04-30T12:25:18.938Z"
   },
   {
    "duration": 49,
    "start_time": "2022-04-30T12:25:18.957Z"
   },
   {
    "duration": 14,
    "start_time": "2022-04-30T12:25:19.007Z"
   },
   {
    "duration": 14,
    "start_time": "2022-04-30T12:25:19.023Z"
   },
   {
    "duration": 13,
    "start_time": "2022-04-30T12:25:19.041Z"
   },
   {
    "duration": 16,
    "start_time": "2022-04-30T12:25:19.092Z"
   },
   {
    "duration": 14,
    "start_time": "2022-04-30T12:25:19.110Z"
   },
   {
    "duration": 14,
    "start_time": "2022-04-30T12:25:19.125Z"
   },
   {
    "duration": 0,
    "start_time": "2022-04-30T12:25:19.140Z"
   },
   {
    "duration": 0,
    "start_time": "2022-04-30T12:25:19.142Z"
   },
   {
    "duration": 0,
    "start_time": "2022-04-30T12:25:19.143Z"
   },
   {
    "duration": 0,
    "start_time": "2022-04-30T12:25:19.144Z"
   },
   {
    "duration": 0,
    "start_time": "2022-04-30T12:25:19.146Z"
   },
   {
    "duration": 0,
    "start_time": "2022-04-30T12:25:19.147Z"
   },
   {
    "duration": 0,
    "start_time": "2022-04-30T12:25:19.194Z"
   },
   {
    "duration": 0,
    "start_time": "2022-04-30T12:25:19.195Z"
   },
   {
    "duration": 0,
    "start_time": "2022-04-30T12:25:19.197Z"
   },
   {
    "duration": 0,
    "start_time": "2022-04-30T12:25:19.198Z"
   },
   {
    "duration": 0,
    "start_time": "2022-04-30T12:25:19.199Z"
   },
   {
    "duration": 14,
    "start_time": "2022-04-30T12:25:22.178Z"
   },
   {
    "duration": 13,
    "start_time": "2022-04-30T12:27:24.919Z"
   },
   {
    "duration": 2247,
    "start_time": "2022-04-30T12:30:57.966Z"
   },
   {
    "duration": 2489,
    "start_time": "2022-04-30T12:31:15.237Z"
   },
   {
    "duration": 257,
    "start_time": "2022-04-30T12:31:34.705Z"
   },
   {
    "duration": 297,
    "start_time": "2022-04-30T12:31:45.547Z"
   },
   {
    "duration": 1712,
    "start_time": "2022-04-30T12:32:54.371Z"
   },
   {
    "duration": 3,
    "start_time": "2022-04-30T12:33:12.250Z"
   },
   {
    "duration": 230,
    "start_time": "2022-04-30T12:33:12.259Z"
   },
   {
    "duration": 10,
    "start_time": "2022-04-30T12:33:12.491Z"
   },
   {
    "duration": 6,
    "start_time": "2022-04-30T12:33:12.503Z"
   },
   {
    "duration": 3,
    "start_time": "2022-04-30T12:33:12.511Z"
   },
   {
    "duration": 10,
    "start_time": "2022-04-30T12:33:12.516Z"
   },
   {
    "duration": 12,
    "start_time": "2022-04-30T12:33:12.528Z"
   },
   {
    "duration": 55,
    "start_time": "2022-04-30T12:33:12.542Z"
   },
   {
    "duration": 33,
    "start_time": "2022-04-30T12:33:12.599Z"
   },
   {
    "duration": 0,
    "start_time": "2022-04-30T12:33:12.635Z"
   },
   {
    "duration": 0,
    "start_time": "2022-04-30T12:33:12.636Z"
   },
   {
    "duration": 0,
    "start_time": "2022-04-30T12:33:12.637Z"
   },
   {
    "duration": 0,
    "start_time": "2022-04-30T12:33:12.638Z"
   },
   {
    "duration": 0,
    "start_time": "2022-04-30T12:33:12.639Z"
   },
   {
    "duration": 0,
    "start_time": "2022-04-30T12:33:12.640Z"
   },
   {
    "duration": 0,
    "start_time": "2022-04-30T12:33:12.641Z"
   },
   {
    "duration": 0,
    "start_time": "2022-04-30T12:33:12.642Z"
   },
   {
    "duration": 0,
    "start_time": "2022-04-30T12:33:12.642Z"
   },
   {
    "duration": 0,
    "start_time": "2022-04-30T12:33:12.643Z"
   },
   {
    "duration": 0,
    "start_time": "2022-04-30T12:33:12.644Z"
   },
   {
    "duration": 0,
    "start_time": "2022-04-30T12:33:12.645Z"
   },
   {
    "duration": 0,
    "start_time": "2022-04-30T12:33:12.646Z"
   },
   {
    "duration": 0,
    "start_time": "2022-04-30T12:33:12.647Z"
   },
   {
    "duration": 0,
    "start_time": "2022-04-30T12:33:12.648Z"
   },
   {
    "duration": 0,
    "start_time": "2022-04-30T12:33:12.649Z"
   },
   {
    "duration": 0,
    "start_time": "2022-04-30T12:33:12.649Z"
   },
   {
    "duration": 0,
    "start_time": "2022-04-30T12:33:12.650Z"
   },
   {
    "duration": 0,
    "start_time": "2022-04-30T12:33:12.692Z"
   },
   {
    "duration": 0,
    "start_time": "2022-04-30T12:33:12.693Z"
   },
   {
    "duration": 0,
    "start_time": "2022-04-30T12:33:12.694Z"
   },
   {
    "duration": 0,
    "start_time": "2022-04-30T12:33:12.695Z"
   },
   {
    "duration": 0,
    "start_time": "2022-04-30T12:33:12.696Z"
   },
   {
    "duration": 0,
    "start_time": "2022-04-30T12:33:12.696Z"
   },
   {
    "duration": 0,
    "start_time": "2022-04-30T12:33:12.697Z"
   },
   {
    "duration": 0,
    "start_time": "2022-04-30T12:33:12.698Z"
   },
   {
    "duration": 0,
    "start_time": "2022-04-30T12:33:12.699Z"
   },
   {
    "duration": 0,
    "start_time": "2022-04-30T12:33:12.700Z"
   },
   {
    "duration": 0,
    "start_time": "2022-04-30T12:33:12.701Z"
   },
   {
    "duration": 31,
    "start_time": "2022-04-30T12:33:29.258Z"
   },
   {
    "duration": 296,
    "start_time": "2022-04-30T12:33:57.255Z"
   },
   {
    "duration": 301,
    "start_time": "2022-04-30T12:36:37.218Z"
   },
   {
    "duration": 13,
    "start_time": "2022-04-30T12:37:06.551Z"
   },
   {
    "duration": 13,
    "start_time": "2022-04-30T12:37:13.600Z"
   },
   {
    "duration": 12,
    "start_time": "2022-04-30T13:40:31.494Z"
   },
   {
    "duration": 12,
    "start_time": "2022-04-30T13:40:42.914Z"
   },
   {
    "duration": 18,
    "start_time": "2022-04-30T13:41:52.301Z"
   },
   {
    "duration": 21,
    "start_time": "2022-04-30T13:42:04.626Z"
   },
   {
    "duration": 18,
    "start_time": "2022-04-30T13:42:06.330Z"
   },
   {
    "duration": 16,
    "start_time": "2022-04-30T13:42:08.444Z"
   },
   {
    "duration": 17,
    "start_time": "2022-04-30T13:42:10.794Z"
   },
   {
    "duration": 20,
    "start_time": "2022-04-30T13:42:12.256Z"
   },
   {
    "duration": 14,
    "start_time": "2022-04-30T13:42:28.903Z"
   },
   {
    "duration": 6,
    "start_time": "2022-04-30T13:43:44.496Z"
   },
   {
    "duration": 90,
    "start_time": "2022-04-30T13:45:43.857Z"
   },
   {
    "duration": 67,
    "start_time": "2022-04-30T13:47:43.809Z"
   },
   {
    "duration": 72,
    "start_time": "2022-04-30T13:47:59.563Z"
   },
   {
    "duration": 83,
    "start_time": "2022-04-30T13:48:41.214Z"
   },
   {
    "duration": 89,
    "start_time": "2022-04-30T13:48:44.746Z"
   },
   {
    "duration": 82,
    "start_time": "2022-04-30T13:49:19.432Z"
   },
   {
    "duration": 75,
    "start_time": "2022-04-30T13:49:56.088Z"
   },
   {
    "duration": 12,
    "start_time": "2022-04-30T14:19:27.846Z"
   },
   {
    "duration": 10,
    "start_time": "2022-04-30T14:27:56.345Z"
   },
   {
    "duration": 13,
    "start_time": "2022-04-30T14:28:03.369Z"
   },
   {
    "duration": 23,
    "start_time": "2022-04-30T14:28:05.229Z"
   },
   {
    "duration": 22,
    "start_time": "2022-04-30T14:28:30.668Z"
   },
   {
    "duration": 21,
    "start_time": "2022-04-30T14:29:27.554Z"
   },
   {
    "duration": 24,
    "start_time": "2022-04-30T14:29:42.114Z"
   },
   {
    "duration": 26,
    "start_time": "2022-04-30T14:29:54.577Z"
   },
   {
    "duration": 22,
    "start_time": "2022-04-30T14:30:30.640Z"
   },
   {
    "duration": 17,
    "start_time": "2022-04-30T14:30:36.626Z"
   },
   {
    "duration": 26,
    "start_time": "2022-04-30T14:31:10.063Z"
   },
   {
    "duration": 17,
    "start_time": "2022-04-30T14:31:26.943Z"
   },
   {
    "duration": 17,
    "start_time": "2022-04-30T14:32:38.801Z"
   },
   {
    "duration": 17,
    "start_time": "2022-04-30T14:32:41.902Z"
   },
   {
    "duration": 3,
    "start_time": "2022-04-30T14:32:44.666Z"
   },
   {
    "duration": 627,
    "start_time": "2022-04-30T14:32:44.674Z"
   },
   {
    "duration": 10,
    "start_time": "2022-04-30T14:32:45.303Z"
   },
   {
    "duration": 4,
    "start_time": "2022-04-30T14:32:45.315Z"
   },
   {
    "duration": 4,
    "start_time": "2022-04-30T14:32:45.320Z"
   },
   {
    "duration": 10,
    "start_time": "2022-04-30T14:32:45.327Z"
   },
   {
    "duration": 11,
    "start_time": "2022-04-30T14:32:45.339Z"
   },
   {
    "duration": 58,
    "start_time": "2022-04-30T14:32:45.352Z"
   },
   {
    "duration": 311,
    "start_time": "2022-04-30T14:32:45.412Z"
   },
   {
    "duration": 26,
    "start_time": "2022-04-30T14:32:45.725Z"
   },
   {
    "duration": 76,
    "start_time": "2022-04-30T14:32:45.753Z"
   },
   {
    "duration": 80,
    "start_time": "2022-04-30T14:32:45.831Z"
   },
   {
    "duration": 61,
    "start_time": "2022-04-30T14:32:45.913Z"
   },
   {
    "duration": 22,
    "start_time": "2022-04-30T14:32:45.975Z"
   },
   {
    "duration": 3,
    "start_time": "2022-04-30T14:32:46.000Z"
   },
   {
    "duration": 26,
    "start_time": "2022-04-30T14:32:46.005Z"
   },
   {
    "duration": 8,
    "start_time": "2022-04-30T14:32:46.033Z"
   },
   {
    "duration": 17,
    "start_time": "2022-04-30T14:32:46.042Z"
   },
   {
    "duration": 33,
    "start_time": "2022-04-30T14:32:46.060Z"
   },
   {
    "duration": 5,
    "start_time": "2022-04-30T14:32:46.095Z"
   },
   {
    "duration": 25,
    "start_time": "2022-04-30T14:32:46.101Z"
   },
   {
    "duration": 13,
    "start_time": "2022-04-30T14:32:46.128Z"
   },
   {
    "duration": 22,
    "start_time": "2022-04-30T14:32:46.143Z"
   },
   {
    "duration": 31,
    "start_time": "2022-04-30T14:32:46.167Z"
   },
   {
    "duration": 17,
    "start_time": "2022-04-30T14:32:46.200Z"
   },
   {
    "duration": 14,
    "start_time": "2022-04-30T14:32:46.219Z"
   },
   {
    "duration": 111,
    "start_time": "2022-04-30T14:32:46.235Z"
   },
   {
    "duration": 11,
    "start_time": "2022-04-30T14:32:46.347Z"
   },
   {
    "duration": 10,
    "start_time": "2022-04-30T14:32:46.359Z"
   },
   {
    "duration": 34,
    "start_time": "2022-04-30T14:32:46.371Z"
   },
   {
    "duration": 2,
    "start_time": "2022-04-30T14:32:46.407Z"
   },
   {
    "duration": 6,
    "start_time": "2022-04-30T14:32:46.411Z"
   },
   {
    "duration": 5,
    "start_time": "2022-04-30T14:32:46.419Z"
   },
   {
    "duration": 5,
    "start_time": "2022-04-30T14:32:46.425Z"
   },
   {
    "duration": 8,
    "start_time": "2022-04-30T14:32:46.431Z"
   },
   {
    "duration": 8,
    "start_time": "2022-04-30T14:32:46.441Z"
   },
   {
    "duration": 42,
    "start_time": "2022-04-30T14:32:46.450Z"
   },
   {
    "duration": 3,
    "start_time": "2022-04-30T14:32:46.495Z"
   },
   {
    "duration": 16,
    "start_time": "2022-04-30T14:32:49.107Z"
   },
   {
    "duration": 21,
    "start_time": "2022-04-30T14:33:14.827Z"
   },
   {
    "duration": 17,
    "start_time": "2022-04-30T14:33:26.515Z"
   },
   {
    "duration": 22,
    "start_time": "2022-04-30T15:06:57.469Z"
   },
   {
    "duration": 19,
    "start_time": "2022-04-30T15:09:41.483Z"
   },
   {
    "duration": 14,
    "start_time": "2022-04-30T15:09:46.853Z"
   },
   {
    "duration": 4,
    "start_time": "2022-04-30T15:11:52.282Z"
   },
   {
    "duration": 4,
    "start_time": "2022-04-30T15:11:58.324Z"
   },
   {
    "duration": 3,
    "start_time": "2022-04-30T15:12:00.635Z"
   },
   {
    "duration": 15,
    "start_time": "2022-04-30T15:12:15.760Z"
   },
   {
    "duration": 15,
    "start_time": "2022-04-30T15:12:24.595Z"
   },
   {
    "duration": 20,
    "start_time": "2022-04-30T15:13:04.561Z"
   },
   {
    "duration": 17,
    "start_time": "2022-04-30T15:13:41.559Z"
   },
   {
    "duration": 16,
    "start_time": "2022-04-30T15:13:49.003Z"
   },
   {
    "duration": 16,
    "start_time": "2022-04-30T15:13:59.984Z"
   },
   {
    "duration": 16,
    "start_time": "2022-04-30T15:14:36.446Z"
   },
   {
    "duration": 26,
    "start_time": "2022-04-30T15:14:54.758Z"
   },
   {
    "duration": 34,
    "start_time": "2022-04-30T15:15:07.732Z"
   },
   {
    "duration": 23,
    "start_time": "2022-04-30T15:15:21.893Z"
   },
   {
    "duration": 29,
    "start_time": "2022-04-30T15:16:24.653Z"
   },
   {
    "duration": 28,
    "start_time": "2022-04-30T15:16:41.838Z"
   },
   {
    "duration": 21,
    "start_time": "2022-04-30T15:17:27.503Z"
   },
   {
    "duration": 20,
    "start_time": "2022-04-30T15:17:35.395Z"
   },
   {
    "duration": 128,
    "start_time": "2022-04-30T15:17:54.866Z"
   },
   {
    "duration": 112,
    "start_time": "2022-04-30T15:18:03.753Z"
   },
   {
    "duration": 99,
    "start_time": "2022-04-30T15:18:10.513Z"
   },
   {
    "duration": 112,
    "start_time": "2022-04-30T15:18:23.303Z"
   },
   {
    "duration": 122,
    "start_time": "2022-04-30T15:18:33.424Z"
   },
   {
    "duration": 18,
    "start_time": "2022-04-30T15:18:41.425Z"
   },
   {
    "duration": 1660,
    "start_time": "2022-04-30T15:18:53.825Z"
   },
   {
    "duration": 1643,
    "start_time": "2022-04-30T15:19:02.685Z"
   },
   {
    "duration": 1464,
    "start_time": "2022-04-30T15:19:08.746Z"
   },
   {
    "duration": 23,
    "start_time": "2022-04-30T15:19:15.327Z"
   },
   {
    "duration": 17,
    "start_time": "2022-04-30T15:19:54.407Z"
   },
   {
    "duration": 21,
    "start_time": "2022-04-30T15:20:05.152Z"
   },
   {
    "duration": 20,
    "start_time": "2022-04-30T15:20:53.518Z"
   },
   {
    "duration": 28,
    "start_time": "2022-04-30T15:21:10.874Z"
   },
   {
    "duration": 22,
    "start_time": "2022-04-30T15:25:08.592Z"
   },
   {
    "duration": 22,
    "start_time": "2022-04-30T15:25:15.722Z"
   },
   {
    "duration": 25,
    "start_time": "2022-04-30T15:25:22.956Z"
   },
   {
    "duration": 25,
    "start_time": "2022-04-30T15:27:15.849Z"
   },
   {
    "duration": 3,
    "start_time": "2022-04-30T15:27:18.239Z"
   },
   {
    "duration": 3,
    "start_time": "2022-04-30T15:27:18.753Z"
   },
   {
    "duration": 22,
    "start_time": "2022-04-30T15:27:20.568Z"
   },
   {
    "duration": 33,
    "start_time": "2022-04-30T15:27:27.739Z"
   },
   {
    "duration": 26,
    "start_time": "2022-04-30T15:28:22.888Z"
   },
   {
    "duration": 25,
    "start_time": "2022-04-30T15:28:41.505Z"
   },
   {
    "duration": 28,
    "start_time": "2022-04-30T15:32:04.288Z"
   },
   {
    "duration": 101,
    "start_time": "2022-04-30T15:33:48.264Z"
   },
   {
    "duration": 30,
    "start_time": "2022-04-30T15:34:18.519Z"
   },
   {
    "duration": 27,
    "start_time": "2022-04-30T15:34:41.375Z"
   },
   {
    "duration": 27,
    "start_time": "2022-04-30T15:34:46.366Z"
   },
   {
    "duration": 103,
    "start_time": "2022-04-30T15:34:59.908Z"
   },
   {
    "duration": 27,
    "start_time": "2022-04-30T15:35:04.135Z"
   },
   {
    "duration": 26,
    "start_time": "2022-04-30T15:35:09.587Z"
   },
   {
    "duration": 31,
    "start_time": "2022-04-30T15:35:32.561Z"
   },
   {
    "duration": 41,
    "start_time": "2022-04-30T15:35:40.156Z"
   },
   {
    "duration": 36,
    "start_time": "2022-04-30T15:35:59.516Z"
   },
   {
    "duration": 20,
    "start_time": "2022-04-30T15:36:32.687Z"
   },
   {
    "duration": 25,
    "start_time": "2022-04-30T15:39:40.066Z"
   },
   {
    "duration": 28,
    "start_time": "2022-04-30T15:40:10.219Z"
   },
   {
    "duration": 4,
    "start_time": "2022-04-30T15:40:29.884Z"
   },
   {
    "duration": 15,
    "start_time": "2022-04-30T15:41:16.488Z"
   },
   {
    "duration": 23,
    "start_time": "2022-04-30T15:42:43.016Z"
   },
   {
    "duration": 4,
    "start_time": "2022-04-30T15:43:00.299Z"
   },
   {
    "duration": 29,
    "start_time": "2022-04-30T15:43:12.331Z"
   },
   {
    "duration": 4,
    "start_time": "2022-04-30T15:43:35.649Z"
   },
   {
    "duration": 16,
    "start_time": "2022-04-30T15:43:43.923Z"
   },
   {
    "duration": 26,
    "start_time": "2022-04-30T15:43:47.928Z"
   },
   {
    "duration": 31,
    "start_time": "2022-04-30T15:44:15.338Z"
   },
   {
    "duration": 23,
    "start_time": "2022-04-30T15:44:55.012Z"
   },
   {
    "duration": 28,
    "start_time": "2022-04-30T15:45:52.278Z"
   },
   {
    "duration": 24,
    "start_time": "2022-04-30T15:46:09.510Z"
   },
   {
    "duration": 21,
    "start_time": "2022-04-30T15:46:35.174Z"
   },
   {
    "duration": 27,
    "start_time": "2022-04-30T15:46:39.510Z"
   },
   {
    "duration": 22,
    "start_time": "2022-04-30T15:47:13.576Z"
   },
   {
    "duration": 25,
    "start_time": "2022-04-30T15:47:27.601Z"
   },
   {
    "duration": 4,
    "start_time": "2022-04-30T15:48:11.063Z"
   },
   {
    "duration": 15,
    "start_time": "2022-04-30T15:48:14.141Z"
   },
   {
    "duration": 16,
    "start_time": "2022-04-30T15:48:17.088Z"
   },
   {
    "duration": 12,
    "start_time": "2022-04-30T15:48:50.803Z"
   },
   {
    "duration": 3,
    "start_time": "2022-04-30T15:48:57.087Z"
   },
   {
    "duration": 301,
    "start_time": "2022-04-30T15:48:57.092Z"
   },
   {
    "duration": 11,
    "start_time": "2022-04-30T15:48:57.395Z"
   },
   {
    "duration": 5,
    "start_time": "2022-04-30T15:48:57.408Z"
   },
   {
    "duration": 4,
    "start_time": "2022-04-30T15:48:57.415Z"
   },
   {
    "duration": 10,
    "start_time": "2022-04-30T15:48:57.421Z"
   },
   {
    "duration": 13,
    "start_time": "2022-04-30T15:48:57.432Z"
   },
   {
    "duration": 56,
    "start_time": "2022-04-30T15:48:57.446Z"
   },
   {
    "duration": 324,
    "start_time": "2022-04-30T15:48:57.503Z"
   },
   {
    "duration": 26,
    "start_time": "2022-04-30T15:48:57.830Z"
   },
   {
    "duration": 89,
    "start_time": "2022-04-30T15:48:57.858Z"
   },
   {
    "duration": 79,
    "start_time": "2022-04-30T15:48:57.949Z"
   },
   {
    "duration": 72,
    "start_time": "2022-04-30T15:48:58.030Z"
   },
   {
    "duration": 8,
    "start_time": "2022-04-30T15:48:58.103Z"
   },
   {
    "duration": 3,
    "start_time": "2022-04-30T15:48:58.113Z"
   },
   {
    "duration": 15,
    "start_time": "2022-04-30T15:48:58.118Z"
   },
   {
    "duration": 9,
    "start_time": "2022-04-30T15:48:58.135Z"
   },
   {
    "duration": 53,
    "start_time": "2022-04-30T15:48:58.146Z"
   },
   {
    "duration": 15,
    "start_time": "2022-04-30T15:48:58.202Z"
   },
   {
    "duration": 5,
    "start_time": "2022-04-30T15:48:58.219Z"
   },
   {
    "duration": 33,
    "start_time": "2022-04-30T15:48:58.227Z"
   },
   {
    "duration": 44,
    "start_time": "2022-04-30T15:48:58.262Z"
   },
   {
    "duration": 24,
    "start_time": "2022-04-30T15:48:58.308Z"
   },
   {
    "duration": 23,
    "start_time": "2022-04-30T15:48:58.334Z"
   },
   {
    "duration": 55,
    "start_time": "2022-04-30T15:48:58.359Z"
   },
   {
    "duration": 24,
    "start_time": "2022-04-30T15:48:58.417Z"
   },
   {
    "duration": 99,
    "start_time": "2022-04-30T15:48:58.443Z"
   },
   {
    "duration": 13,
    "start_time": "2022-04-30T15:48:58.546Z"
   },
   {
    "duration": 35,
    "start_time": "2022-04-30T15:48:58.561Z"
   },
   {
    "duration": 6,
    "start_time": "2022-04-30T15:48:58.598Z"
   },
   {
    "duration": 9,
    "start_time": "2022-04-30T15:48:58.606Z"
   },
   {
    "duration": 18,
    "start_time": "2022-04-30T15:48:58.618Z"
   },
   {
    "duration": 19,
    "start_time": "2022-04-30T15:48:58.638Z"
   },
   {
    "duration": 33,
    "start_time": "2022-04-30T15:48:58.660Z"
   },
   {
    "duration": 3,
    "start_time": "2022-04-30T15:48:58.696Z"
   },
   {
    "duration": 6,
    "start_time": "2022-04-30T15:48:58.701Z"
   },
   {
    "duration": 11,
    "start_time": "2022-04-30T15:48:58.709Z"
   },
   {
    "duration": 16,
    "start_time": "2022-04-30T15:48:58.722Z"
   },
   {
    "duration": 25,
    "start_time": "2022-04-30T15:49:02.196Z"
   },
   {
    "duration": 12,
    "start_time": "2022-04-30T15:50:03.647Z"
   },
   {
    "duration": 16,
    "start_time": "2022-04-30T15:50:04.318Z"
   },
   {
    "duration": 13,
    "start_time": "2022-04-30T15:50:07.410Z"
   },
   {
    "duration": 13,
    "start_time": "2022-04-30T15:50:09.723Z"
   },
   {
    "duration": 13,
    "start_time": "2022-04-30T15:50:19.863Z"
   },
   {
    "duration": 11,
    "start_time": "2022-04-30T15:50:21.367Z"
   },
   {
    "duration": 12,
    "start_time": "2022-04-30T15:50:39.782Z"
   },
   {
    "duration": 5,
    "start_time": "2022-04-30T15:50:50.148Z"
   },
   {
    "duration": 13,
    "start_time": "2022-04-30T15:50:53.590Z"
   },
   {
    "duration": 18,
    "start_time": "2022-04-30T15:51:17.005Z"
   },
   {
    "duration": 3,
    "start_time": "2022-04-30T15:51:35.420Z"
   },
   {
    "duration": 311,
    "start_time": "2022-04-30T15:51:35.424Z"
   },
   {
    "duration": 10,
    "start_time": "2022-04-30T15:51:35.737Z"
   },
   {
    "duration": 4,
    "start_time": "2022-04-30T15:51:35.749Z"
   },
   {
    "duration": 7,
    "start_time": "2022-04-30T15:51:35.755Z"
   },
   {
    "duration": 29,
    "start_time": "2022-04-30T15:51:35.763Z"
   },
   {
    "duration": 14,
    "start_time": "2022-04-30T15:51:35.794Z"
   },
   {
    "duration": 29,
    "start_time": "2022-04-30T15:51:35.810Z"
   },
   {
    "duration": 310,
    "start_time": "2022-04-30T15:51:35.841Z"
   },
   {
    "duration": 30,
    "start_time": "2022-04-30T15:51:36.154Z"
   },
   {
    "duration": 69,
    "start_time": "2022-04-30T15:51:36.193Z"
   },
   {
    "duration": 90,
    "start_time": "2022-04-30T15:51:36.264Z"
   },
   {
    "duration": 76,
    "start_time": "2022-04-30T15:51:36.356Z"
   },
   {
    "duration": 7,
    "start_time": "2022-04-30T15:51:36.434Z"
   },
   {
    "duration": 11,
    "start_time": "2022-04-30T15:51:36.442Z"
   },
   {
    "duration": 29,
    "start_time": "2022-04-30T15:51:36.454Z"
   },
   {
    "duration": 13,
    "start_time": "2022-04-30T15:51:36.492Z"
   },
   {
    "duration": 14,
    "start_time": "2022-04-30T15:51:36.507Z"
   },
   {
    "duration": 11,
    "start_time": "2022-04-30T15:51:36.523Z"
   },
   {
    "duration": 3,
    "start_time": "2022-04-30T15:51:36.536Z"
   },
   {
    "duration": 52,
    "start_time": "2022-04-30T15:51:36.541Z"
   },
   {
    "duration": 29,
    "start_time": "2022-04-30T15:51:36.595Z"
   },
   {
    "duration": 17,
    "start_time": "2022-04-30T15:51:36.626Z"
   },
   {
    "duration": 17,
    "start_time": "2022-04-30T15:51:36.645Z"
   },
   {
    "duration": 20,
    "start_time": "2022-04-30T15:51:36.692Z"
   },
   {
    "duration": 16,
    "start_time": "2022-04-30T15:51:36.714Z"
   },
   {
    "duration": 107,
    "start_time": "2022-04-30T15:51:36.731Z"
   },
   {
    "duration": 15,
    "start_time": "2022-04-30T15:51:36.842Z"
   },
   {
    "duration": 13,
    "start_time": "2022-04-30T15:51:36.859Z"
   },
   {
    "duration": 19,
    "start_time": "2022-04-30T15:51:36.893Z"
   },
   {
    "duration": 18,
    "start_time": "2022-04-30T15:51:42.080Z"
   },
   {
    "duration": 22,
    "start_time": "2022-04-30T15:51:48.406Z"
   },
   {
    "duration": 22,
    "start_time": "2022-04-30T15:51:54.333Z"
   },
   {
    "duration": 22,
    "start_time": "2022-04-30T15:52:00.638Z"
   },
   {
    "duration": 24,
    "start_time": "2022-04-30T15:52:16.096Z"
   },
   {
    "duration": 22,
    "start_time": "2022-04-30T15:52:42.968Z"
   },
   {
    "duration": 19,
    "start_time": "2022-04-30T15:52:59.348Z"
   },
   {
    "duration": 19,
    "start_time": "2022-04-30T15:53:21.500Z"
   },
   {
    "duration": 13,
    "start_time": "2022-04-30T15:53:28.631Z"
   },
   {
    "duration": 19,
    "start_time": "2022-04-30T15:53:31.780Z"
   },
   {
    "duration": 17,
    "start_time": "2022-04-30T15:53:37.750Z"
   },
   {
    "duration": 25,
    "start_time": "2022-04-30T15:53:44.470Z"
   },
   {
    "duration": 25,
    "start_time": "2022-04-30T15:53:57.408Z"
   },
   {
    "duration": 24,
    "start_time": "2022-04-30T15:54:13.365Z"
   },
   {
    "duration": 25,
    "start_time": "2022-04-30T15:54:21.504Z"
   },
   {
    "duration": 27,
    "start_time": "2022-04-30T15:54:29.040Z"
   },
   {
    "duration": 24,
    "start_time": "2022-04-30T15:54:34.641Z"
   },
   {
    "duration": 26,
    "start_time": "2022-04-30T15:54:41.802Z"
   },
   {
    "duration": 16,
    "start_time": "2022-04-30T15:55:03.876Z"
   },
   {
    "duration": 22,
    "start_time": "2022-04-30T15:55:07.742Z"
   },
   {
    "duration": 5,
    "start_time": "2022-04-30T15:55:13.834Z"
   },
   {
    "duration": 14,
    "start_time": "2022-04-30T15:55:35.743Z"
   },
   {
    "duration": 25,
    "start_time": "2022-04-30T15:56:16.039Z"
   },
   {
    "duration": 11,
    "start_time": "2022-04-30T16:27:25.439Z"
   },
   {
    "duration": 33,
    "start_time": "2022-04-30T16:27:46.165Z"
   },
   {
    "duration": 35,
    "start_time": "2022-04-30T16:28:29.145Z"
   },
   {
    "duration": 1621,
    "start_time": "2022-04-30T16:30:37.164Z"
   },
   {
    "duration": 1860,
    "start_time": "2022-04-30T16:31:00.606Z"
   },
   {
    "duration": 37,
    "start_time": "2022-04-30T16:31:34.184Z"
   },
   {
    "duration": 33,
    "start_time": "2022-04-30T16:31:41.761Z"
   },
   {
    "duration": 131,
    "start_time": "2022-04-30T16:31:46.899Z"
   },
   {
    "duration": 34,
    "start_time": "2022-04-30T16:31:57.807Z"
   },
   {
    "duration": 34,
    "start_time": "2022-04-30T16:32:39.854Z"
   },
   {
    "duration": 37,
    "start_time": "2022-04-30T16:33:03.081Z"
   },
   {
    "duration": 11,
    "start_time": "2022-04-30T16:34:02.859Z"
   },
   {
    "duration": 14,
    "start_time": "2022-04-30T16:34:25.506Z"
   },
   {
    "duration": 14,
    "start_time": "2022-04-30T16:34:36.384Z"
   },
   {
    "duration": 18,
    "start_time": "2022-04-30T16:34:54.996Z"
   },
   {
    "duration": 4,
    "start_time": "2022-04-30T16:35:13.794Z"
   },
   {
    "duration": 9,
    "start_time": "2022-04-30T16:35:15.628Z"
   },
   {
    "duration": 7,
    "start_time": "2022-04-30T16:37:09.352Z"
   },
   {
    "duration": 7,
    "start_time": "2022-04-30T16:37:44.838Z"
   },
   {
    "duration": 5,
    "start_time": "2022-04-30T16:37:46.588Z"
   },
   {
    "duration": 390,
    "start_time": "2022-05-04T16:09:19.070Z"
   },
   {
    "duration": 346,
    "start_time": "2022-05-04T16:09:19.463Z"
   },
   {
    "duration": 18,
    "start_time": "2022-05-04T16:09:19.810Z"
   },
   {
    "duration": 4,
    "start_time": "2022-05-04T16:09:19.830Z"
   },
   {
    "duration": 8,
    "start_time": "2022-05-04T16:09:19.835Z"
   },
   {
    "duration": 16,
    "start_time": "2022-05-04T16:09:19.845Z"
   },
   {
    "duration": 16,
    "start_time": "2022-05-04T16:09:19.863Z"
   },
   {
    "duration": 29,
    "start_time": "2022-05-04T16:09:19.880Z"
   },
   {
    "duration": 2635,
    "start_time": "2022-05-04T16:09:19.910Z"
   },
   {
    "duration": 0,
    "start_time": "2022-05-04T16:09:22.547Z"
   },
   {
    "duration": 0,
    "start_time": "2022-05-04T16:09:22.550Z"
   },
   {
    "duration": 0,
    "start_time": "2022-05-04T16:09:22.551Z"
   },
   {
    "duration": 0,
    "start_time": "2022-05-04T16:09:22.552Z"
   },
   {
    "duration": 0,
    "start_time": "2022-05-04T16:09:22.553Z"
   },
   {
    "duration": 0,
    "start_time": "2022-05-04T16:09:22.554Z"
   },
   {
    "duration": 0,
    "start_time": "2022-05-04T16:09:22.556Z"
   },
   {
    "duration": 0,
    "start_time": "2022-05-04T16:09:22.557Z"
   },
   {
    "duration": 0,
    "start_time": "2022-05-04T16:09:22.558Z"
   },
   {
    "duration": 0,
    "start_time": "2022-05-04T16:09:22.560Z"
   },
   {
    "duration": 0,
    "start_time": "2022-05-04T16:09:22.560Z"
   },
   {
    "duration": 0,
    "start_time": "2022-05-04T16:09:22.562Z"
   },
   {
    "duration": 0,
    "start_time": "2022-05-04T16:09:22.563Z"
   },
   {
    "duration": 0,
    "start_time": "2022-05-04T16:09:22.564Z"
   },
   {
    "duration": 0,
    "start_time": "2022-05-04T16:09:22.565Z"
   },
   {
    "duration": 0,
    "start_time": "2022-05-04T16:09:22.566Z"
   },
   {
    "duration": 0,
    "start_time": "2022-05-04T16:09:22.566Z"
   },
   {
    "duration": 0,
    "start_time": "2022-05-04T16:09:22.568Z"
   },
   {
    "duration": 0,
    "start_time": "2022-05-04T16:09:22.568Z"
   },
   {
    "duration": 0,
    "start_time": "2022-05-04T16:09:22.569Z"
   },
   {
    "duration": 0,
    "start_time": "2022-05-04T16:09:22.570Z"
   },
   {
    "duration": 0,
    "start_time": "2022-05-04T16:09:22.571Z"
   },
   {
    "duration": 0,
    "start_time": "2022-05-04T16:09:22.573Z"
   },
   {
    "duration": 0,
    "start_time": "2022-05-04T16:09:22.574Z"
   },
   {
    "duration": 0,
    "start_time": "2022-05-04T16:09:22.575Z"
   },
   {
    "duration": 0,
    "start_time": "2022-05-04T16:09:22.576Z"
   },
   {
    "duration": 0,
    "start_time": "2022-05-04T16:09:22.577Z"
   },
   {
    "duration": 0,
    "start_time": "2022-05-04T16:09:22.578Z"
   },
   {
    "duration": 0,
    "start_time": "2022-05-04T16:09:22.579Z"
   },
   {
    "duration": 27,
    "start_time": "2022-05-04T16:10:52.105Z"
   },
   {
    "duration": 75,
    "start_time": "2022-05-04T16:11:12.754Z"
   },
   {
    "duration": 109,
    "start_time": "2022-05-04T16:11:13.095Z"
   },
   {
    "duration": 82,
    "start_time": "2022-05-04T16:11:14.528Z"
   },
   {
    "duration": 9,
    "start_time": "2022-05-04T16:11:14.612Z"
   },
   {
    "duration": 4,
    "start_time": "2022-05-04T16:11:14.633Z"
   },
   {
    "duration": 27,
    "start_time": "2022-05-04T16:11:14.750Z"
   },
   {
    "duration": 12,
    "start_time": "2022-05-04T16:11:15.433Z"
   },
   {
    "duration": 12,
    "start_time": "2022-05-04T16:11:16.510Z"
   },
   {
    "duration": 10,
    "start_time": "2022-05-04T16:11:16.863Z"
   },
   {
    "duration": 3,
    "start_time": "2022-05-04T16:11:17.404Z"
   },
   {
    "duration": 2880,
    "start_time": "2022-05-04T16:11:17.751Z"
   },
   {
    "duration": 0,
    "start_time": "2022-05-04T16:11:20.632Z"
   },
   {
    "duration": 0,
    "start_time": "2022-05-04T16:11:20.634Z"
   },
   {
    "duration": 0,
    "start_time": "2022-05-04T16:11:20.635Z"
   },
   {
    "duration": 117,
    "start_time": "2022-05-14T06:41:52.200Z"
   },
   {
    "duration": 53,
    "start_time": "2022-05-14T06:42:02.598Z"
   },
   {
    "duration": 419,
    "start_time": "2022-05-14T06:42:07.550Z"
   },
   {
    "duration": 430,
    "start_time": "2022-05-14T06:42:07.971Z"
   },
   {
    "duration": 8,
    "start_time": "2022-05-14T06:42:08.403Z"
   },
   {
    "duration": 5,
    "start_time": "2022-05-14T06:42:08.413Z"
   },
   {
    "duration": 8,
    "start_time": "2022-05-14T06:42:08.420Z"
   },
   {
    "duration": 41,
    "start_time": "2022-05-14T06:42:08.429Z"
   },
   {
    "duration": 26,
    "start_time": "2022-05-14T06:42:08.472Z"
   },
   {
    "duration": 34,
    "start_time": "2022-05-14T06:42:08.499Z"
   },
   {
    "duration": 427,
    "start_time": "2022-05-14T06:42:08.535Z"
   },
   {
    "duration": 27,
    "start_time": "2022-05-14T06:42:08.964Z"
   },
   {
    "duration": 86,
    "start_time": "2022-05-14T06:42:08.992Z"
   },
   {
    "duration": 92,
    "start_time": "2022-05-14T06:42:09.080Z"
   },
   {
    "duration": 58,
    "start_time": "2022-05-14T06:42:09.174Z"
   },
   {
    "duration": 26,
    "start_time": "2022-05-14T06:42:09.237Z"
   },
   {
    "duration": 3,
    "start_time": "2022-05-14T06:42:09.265Z"
   },
   {
    "duration": 25,
    "start_time": "2022-05-14T06:42:09.270Z"
   },
   {
    "duration": 10,
    "start_time": "2022-05-14T06:42:09.298Z"
   },
   {
    "duration": 51,
    "start_time": "2022-05-14T06:42:09.311Z"
   },
   {
    "duration": 10,
    "start_time": "2022-05-14T06:42:09.365Z"
   },
   {
    "duration": 4,
    "start_time": "2022-05-14T06:42:09.376Z"
   },
   {
    "duration": 22,
    "start_time": "2022-05-14T06:42:09.382Z"
   },
   {
    "duration": 16,
    "start_time": "2022-05-14T06:42:09.406Z"
   },
   {
    "duration": 49,
    "start_time": "2022-05-14T06:42:09.424Z"
   },
   {
    "duration": 14,
    "start_time": "2022-05-14T06:42:09.475Z"
   },
   {
    "duration": 17,
    "start_time": "2022-05-14T06:42:09.490Z"
   },
   {
    "duration": 53,
    "start_time": "2022-05-14T06:42:09.509Z"
   },
   {
    "duration": 77,
    "start_time": "2022-05-14T06:42:09.564Z"
   },
   {
    "duration": 25,
    "start_time": "2022-05-14T06:42:09.643Z"
   },
   {
    "duration": 12,
    "start_time": "2022-05-14T06:42:09.670Z"
   },
   {
    "duration": 5,
    "start_time": "2022-05-14T06:42:09.684Z"
   },
   {
    "duration": 27,
    "start_time": "2022-05-14T06:42:09.691Z"
   },
   {
    "duration": 46,
    "start_time": "2022-05-14T06:42:09.720Z"
   },
   {
    "duration": 20,
    "start_time": "2022-05-14T06:42:09.767Z"
   },
   {
    "duration": 13,
    "start_time": "2022-05-14T06:42:09.789Z"
   },
   {
    "duration": 9,
    "start_time": "2022-05-14T06:42:09.804Z"
   },
   {
    "duration": 7,
    "start_time": "2022-05-14T06:42:09.814Z"
   },
   {
    "duration": 42,
    "start_time": "2022-05-14T06:42:09.822Z"
   },
   {
    "duration": 5,
    "start_time": "2022-05-14T06:42:09.866Z"
   },
   {
    "duration": 357,
    "start_time": "2022-05-14T06:43:14.121Z"
   },
   {
    "duration": 6,
    "start_time": "2022-05-14T06:43:16.191Z"
   },
   {
    "duration": 28,
    "start_time": "2022-05-14T06:45:09.288Z"
   },
   {
    "duration": 25,
    "start_time": "2022-05-14T06:51:43.414Z"
   },
   {
    "duration": 4,
    "start_time": "2022-05-14T06:52:13.993Z"
   },
   {
    "duration": 13,
    "start_time": "2022-05-14T06:52:59.444Z"
   },
   {
    "duration": 9,
    "start_time": "2022-05-14T06:53:03.522Z"
   },
   {
    "duration": 11,
    "start_time": "2022-05-14T06:53:06.031Z"
   },
   {
    "duration": 325,
    "start_time": "2022-05-14T06:59:33.151Z"
   },
   {
    "duration": 278,
    "start_time": "2022-05-14T06:59:37.393Z"
   },
   {
    "duration": 3,
    "start_time": "2022-05-14T06:59:40.291Z"
   },
   {
    "duration": 306,
    "start_time": "2022-05-14T06:59:40.296Z"
   },
   {
    "duration": 6,
    "start_time": "2022-05-14T06:59:40.604Z"
   },
   {
    "duration": 35,
    "start_time": "2022-05-14T06:59:40.612Z"
   },
   {
    "duration": 3,
    "start_time": "2022-05-14T06:59:40.649Z"
   },
   {
    "duration": 10,
    "start_time": "2022-05-14T06:59:40.662Z"
   },
   {
    "duration": 101,
    "start_time": "2022-05-14T06:59:40.674Z"
   },
   {
    "duration": 0,
    "start_time": "2022-05-14T06:59:40.776Z"
   },
   {
    "duration": 0,
    "start_time": "2022-05-14T06:59:40.777Z"
   },
   {
    "duration": 0,
    "start_time": "2022-05-14T06:59:40.778Z"
   },
   {
    "duration": 0,
    "start_time": "2022-05-14T06:59:40.780Z"
   },
   {
    "duration": 0,
    "start_time": "2022-05-14T06:59:40.780Z"
   },
   {
    "duration": 0,
    "start_time": "2022-05-14T06:59:40.781Z"
   },
   {
    "duration": 0,
    "start_time": "2022-05-14T06:59:40.782Z"
   },
   {
    "duration": 0,
    "start_time": "2022-05-14T06:59:40.783Z"
   },
   {
    "duration": 1,
    "start_time": "2022-05-14T06:59:40.783Z"
   },
   {
    "duration": 0,
    "start_time": "2022-05-14T06:59:40.784Z"
   },
   {
    "duration": 0,
    "start_time": "2022-05-14T06:59:40.785Z"
   },
   {
    "duration": 0,
    "start_time": "2022-05-14T06:59:40.786Z"
   },
   {
    "duration": 0,
    "start_time": "2022-05-14T06:59:40.787Z"
   },
   {
    "duration": 0,
    "start_time": "2022-05-14T06:59:40.788Z"
   },
   {
    "duration": 0,
    "start_time": "2022-05-14T06:59:40.788Z"
   },
   {
    "duration": 0,
    "start_time": "2022-05-14T06:59:40.789Z"
   },
   {
    "duration": 0,
    "start_time": "2022-05-14T06:59:40.790Z"
   },
   {
    "duration": 0,
    "start_time": "2022-05-14T06:59:40.791Z"
   },
   {
    "duration": 0,
    "start_time": "2022-05-14T06:59:40.792Z"
   },
   {
    "duration": 0,
    "start_time": "2022-05-14T06:59:40.792Z"
   },
   {
    "duration": 0,
    "start_time": "2022-05-14T06:59:40.794Z"
   },
   {
    "duration": 0,
    "start_time": "2022-05-14T06:59:40.795Z"
   },
   {
    "duration": 0,
    "start_time": "2022-05-14T06:59:40.796Z"
   },
   {
    "duration": 0,
    "start_time": "2022-05-14T06:59:40.797Z"
   },
   {
    "duration": 0,
    "start_time": "2022-05-14T06:59:40.798Z"
   },
   {
    "duration": 0,
    "start_time": "2022-05-14T06:59:40.799Z"
   },
   {
    "duration": 0,
    "start_time": "2022-05-14T06:59:40.800Z"
   },
   {
    "duration": 0,
    "start_time": "2022-05-14T06:59:40.801Z"
   },
   {
    "duration": 0,
    "start_time": "2022-05-14T06:59:40.802Z"
   },
   {
    "duration": 0,
    "start_time": "2022-05-14T06:59:40.803Z"
   },
   {
    "duration": 0,
    "start_time": "2022-05-14T06:59:40.804Z"
   },
   {
    "duration": 284,
    "start_time": "2022-05-14T07:00:12.212Z"
   },
   {
    "duration": 286,
    "start_time": "2022-05-14T07:01:18.362Z"
   },
   {
    "duration": 25,
    "start_time": "2022-05-14T07:01:27.393Z"
   },
   {
    "duration": 324,
    "start_time": "2022-05-14T07:01:44.200Z"
   },
   {
    "duration": 61,
    "start_time": "2022-05-14T07:03:08.751Z"
   },
   {
    "duration": 75,
    "start_time": "2022-05-14T07:03:11.958Z"
   },
   {
    "duration": 3,
    "start_time": "2022-05-14T07:03:36.661Z"
   },
   {
    "duration": 309,
    "start_time": "2022-05-14T07:03:36.665Z"
   },
   {
    "duration": 7,
    "start_time": "2022-05-14T07:03:36.976Z"
   },
   {
    "duration": 35,
    "start_time": "2022-05-14T07:03:36.984Z"
   },
   {
    "duration": 4,
    "start_time": "2022-05-14T07:03:37.021Z"
   },
   {
    "duration": 19,
    "start_time": "2022-05-14T07:03:37.027Z"
   },
   {
    "duration": 109,
    "start_time": "2022-05-14T07:03:37.048Z"
   },
   {
    "duration": 0,
    "start_time": "2022-05-14T07:03:37.161Z"
   },
   {
    "duration": 0,
    "start_time": "2022-05-14T07:03:37.162Z"
   },
   {
    "duration": 0,
    "start_time": "2022-05-14T07:03:37.163Z"
   },
   {
    "duration": 0,
    "start_time": "2022-05-14T07:03:37.164Z"
   },
   {
    "duration": 0,
    "start_time": "2022-05-14T07:03:37.165Z"
   },
   {
    "duration": 0,
    "start_time": "2022-05-14T07:03:37.166Z"
   },
   {
    "duration": 0,
    "start_time": "2022-05-14T07:03:37.167Z"
   },
   {
    "duration": 0,
    "start_time": "2022-05-14T07:03:37.168Z"
   },
   {
    "duration": 0,
    "start_time": "2022-05-14T07:03:37.169Z"
   },
   {
    "duration": 0,
    "start_time": "2022-05-14T07:03:37.170Z"
   },
   {
    "duration": 0,
    "start_time": "2022-05-14T07:03:37.171Z"
   },
   {
    "duration": 0,
    "start_time": "2022-05-14T07:03:37.172Z"
   },
   {
    "duration": 0,
    "start_time": "2022-05-14T07:03:37.173Z"
   },
   {
    "duration": 0,
    "start_time": "2022-05-14T07:03:37.174Z"
   },
   {
    "duration": 0,
    "start_time": "2022-05-14T07:03:37.175Z"
   },
   {
    "duration": 0,
    "start_time": "2022-05-14T07:03:37.176Z"
   },
   {
    "duration": 0,
    "start_time": "2022-05-14T07:03:37.177Z"
   },
   {
    "duration": 0,
    "start_time": "2022-05-14T07:03:37.178Z"
   },
   {
    "duration": 0,
    "start_time": "2022-05-14T07:03:37.178Z"
   },
   {
    "duration": 0,
    "start_time": "2022-05-14T07:03:37.180Z"
   },
   {
    "duration": 0,
    "start_time": "2022-05-14T07:03:37.180Z"
   },
   {
    "duration": 0,
    "start_time": "2022-05-14T07:03:37.181Z"
   },
   {
    "duration": 0,
    "start_time": "2022-05-14T07:03:37.182Z"
   },
   {
    "duration": 0,
    "start_time": "2022-05-14T07:03:37.183Z"
   },
   {
    "duration": 0,
    "start_time": "2022-05-14T07:03:37.184Z"
   },
   {
    "duration": 0,
    "start_time": "2022-05-14T07:03:37.185Z"
   },
   {
    "duration": 0,
    "start_time": "2022-05-14T07:03:37.186Z"
   },
   {
    "duration": 0,
    "start_time": "2022-05-14T07:03:37.187Z"
   },
   {
    "duration": 0,
    "start_time": "2022-05-14T07:03:37.188Z"
   },
   {
    "duration": 0,
    "start_time": "2022-05-14T07:03:37.189Z"
   },
   {
    "duration": 0,
    "start_time": "2022-05-14T07:03:37.190Z"
   },
   {
    "duration": 5,
    "start_time": "2022-05-14T07:03:43.322Z"
   },
   {
    "duration": 7,
    "start_time": "2022-05-14T07:03:46.093Z"
   },
   {
    "duration": 406,
    "start_time": "2022-05-14T07:04:22.547Z"
   },
   {
    "duration": 292,
    "start_time": "2022-05-14T07:04:22.955Z"
   },
   {
    "duration": 8,
    "start_time": "2022-05-14T07:04:23.248Z"
   },
   {
    "duration": 34,
    "start_time": "2022-05-14T07:04:23.258Z"
   },
   {
    "duration": 8,
    "start_time": "2022-05-14T07:04:23.293Z"
   },
   {
    "duration": 13,
    "start_time": "2022-05-14T07:04:23.302Z"
   },
   {
    "duration": 98,
    "start_time": "2022-05-14T07:04:23.317Z"
   },
   {
    "duration": 0,
    "start_time": "2022-05-14T07:04:23.418Z"
   },
   {
    "duration": 0,
    "start_time": "2022-05-14T07:04:23.419Z"
   },
   {
    "duration": 0,
    "start_time": "2022-05-14T07:04:23.420Z"
   },
   {
    "duration": 0,
    "start_time": "2022-05-14T07:04:23.421Z"
   },
   {
    "duration": 0,
    "start_time": "2022-05-14T07:04:23.422Z"
   },
   {
    "duration": 0,
    "start_time": "2022-05-14T07:04:23.422Z"
   },
   {
    "duration": 0,
    "start_time": "2022-05-14T07:04:23.423Z"
   },
   {
    "duration": 0,
    "start_time": "2022-05-14T07:04:23.425Z"
   },
   {
    "duration": 0,
    "start_time": "2022-05-14T07:04:23.425Z"
   },
   {
    "duration": 0,
    "start_time": "2022-05-14T07:04:23.426Z"
   },
   {
    "duration": 0,
    "start_time": "2022-05-14T07:04:23.427Z"
   },
   {
    "duration": 0,
    "start_time": "2022-05-14T07:04:23.428Z"
   },
   {
    "duration": 0,
    "start_time": "2022-05-14T07:04:23.428Z"
   },
   {
    "duration": 0,
    "start_time": "2022-05-14T07:04:23.429Z"
   },
   {
    "duration": 0,
    "start_time": "2022-05-14T07:04:23.431Z"
   },
   {
    "duration": 0,
    "start_time": "2022-05-14T07:04:23.432Z"
   },
   {
    "duration": 0,
    "start_time": "2022-05-14T07:04:23.433Z"
   },
   {
    "duration": 0,
    "start_time": "2022-05-14T07:04:23.435Z"
   },
   {
    "duration": 0,
    "start_time": "2022-05-14T07:04:23.436Z"
   },
   {
    "duration": 0,
    "start_time": "2022-05-14T07:04:23.437Z"
   },
   {
    "duration": 0,
    "start_time": "2022-05-14T07:04:23.438Z"
   },
   {
    "duration": 0,
    "start_time": "2022-05-14T07:04:23.439Z"
   },
   {
    "duration": 0,
    "start_time": "2022-05-14T07:04:23.440Z"
   },
   {
    "duration": 0,
    "start_time": "2022-05-14T07:04:23.441Z"
   },
   {
    "duration": 0,
    "start_time": "2022-05-14T07:04:23.442Z"
   },
   {
    "duration": 0,
    "start_time": "2022-05-14T07:04:23.443Z"
   },
   {
    "duration": 0,
    "start_time": "2022-05-14T07:04:23.444Z"
   },
   {
    "duration": 0,
    "start_time": "2022-05-14T07:04:23.445Z"
   },
   {
    "duration": 0,
    "start_time": "2022-05-14T07:04:23.446Z"
   },
   {
    "duration": 0,
    "start_time": "2022-05-14T07:04:23.447Z"
   },
   {
    "duration": 0,
    "start_time": "2022-05-14T07:04:23.448Z"
   },
   {
    "duration": 13,
    "start_time": "2022-05-14T07:04:43.504Z"
   },
   {
    "duration": 2,
    "start_time": "2022-05-14T07:04:59.161Z"
   },
   {
    "duration": 288,
    "start_time": "2022-05-14T07:04:59.168Z"
   },
   {
    "duration": 7,
    "start_time": "2022-05-14T07:04:59.458Z"
   },
   {
    "duration": 34,
    "start_time": "2022-05-14T07:04:59.467Z"
   },
   {
    "duration": 4,
    "start_time": "2022-05-14T07:04:59.503Z"
   },
   {
    "duration": 11,
    "start_time": "2022-05-14T07:04:59.508Z"
   },
   {
    "duration": 11,
    "start_time": "2022-05-14T07:04:59.521Z"
   },
   {
    "duration": 26,
    "start_time": "2022-05-14T07:04:59.561Z"
   },
   {
    "duration": 330,
    "start_time": "2022-05-14T07:04:59.589Z"
   },
   {
    "duration": 24,
    "start_time": "2022-05-14T07:04:59.921Z"
   },
   {
    "duration": 64,
    "start_time": "2022-05-14T07:04:59.961Z"
   },
   {
    "duration": 85,
    "start_time": "2022-05-14T07:05:00.027Z"
   },
   {
    "duration": 65,
    "start_time": "2022-05-14T07:05:00.114Z"
   },
   {
    "duration": 8,
    "start_time": "2022-05-14T07:05:00.181Z"
   },
   {
    "duration": 11,
    "start_time": "2022-05-14T07:05:00.190Z"
   },
   {
    "duration": 23,
    "start_time": "2022-05-14T07:05:00.203Z"
   },
   {
    "duration": 7,
    "start_time": "2022-05-14T07:05:00.228Z"
   },
   {
    "duration": 31,
    "start_time": "2022-05-14T07:05:00.237Z"
   },
   {
    "duration": 31,
    "start_time": "2022-05-14T07:05:00.269Z"
   },
   {
    "duration": 10,
    "start_time": "2022-05-14T07:05:00.302Z"
   },
   {
    "duration": 39,
    "start_time": "2022-05-14T07:05:00.314Z"
   },
   {
    "duration": 15,
    "start_time": "2022-05-14T07:05:00.355Z"
   },
   {
    "duration": 15,
    "start_time": "2022-05-14T07:05:00.371Z"
   },
   {
    "duration": 15,
    "start_time": "2022-05-14T07:05:00.387Z"
   },
   {
    "duration": 18,
    "start_time": "2022-05-14T07:05:00.403Z"
   },
   {
    "duration": 47,
    "start_time": "2022-05-14T07:05:00.423Z"
   },
   {
    "duration": 90,
    "start_time": "2022-05-14T07:05:00.472Z"
   },
   {
    "duration": 11,
    "start_time": "2022-05-14T07:05:00.564Z"
   },
   {
    "duration": 11,
    "start_time": "2022-05-14T07:05:00.579Z"
   },
   {
    "duration": 10,
    "start_time": "2022-05-14T07:05:00.592Z"
   },
   {
    "duration": 32,
    "start_time": "2022-05-14T07:05:00.603Z"
   },
   {
    "duration": 32,
    "start_time": "2022-05-14T07:05:00.637Z"
   },
   {
    "duration": 17,
    "start_time": "2022-05-14T07:05:00.672Z"
   },
   {
    "duration": 13,
    "start_time": "2022-05-14T07:05:00.691Z"
   },
   {
    "duration": 11,
    "start_time": "2022-05-14T07:05:00.706Z"
   },
   {
    "duration": 11,
    "start_time": "2022-05-14T07:05:00.719Z"
   },
   {
    "duration": 7,
    "start_time": "2022-05-14T07:05:00.763Z"
   },
   {
    "duration": 12,
    "start_time": "2022-05-14T07:05:00.771Z"
   },
   {
    "duration": 2,
    "start_time": "2022-05-14T07:06:16.322Z"
   },
   {
    "duration": 226,
    "start_time": "2022-05-14T07:06:16.331Z"
   },
   {
    "duration": 7,
    "start_time": "2022-05-14T07:06:16.559Z"
   },
   {
    "duration": 29,
    "start_time": "2022-05-14T07:06:16.568Z"
   },
   {
    "duration": 3,
    "start_time": "2022-05-14T07:06:16.599Z"
   },
   {
    "duration": 9,
    "start_time": "2022-05-14T07:06:16.605Z"
   },
   {
    "duration": 11,
    "start_time": "2022-05-14T07:06:16.616Z"
   },
   {
    "duration": 50,
    "start_time": "2022-05-14T07:06:16.629Z"
   },
   {
    "duration": 318,
    "start_time": "2022-05-14T07:06:16.681Z"
   },
   {
    "duration": 24,
    "start_time": "2022-05-14T07:06:17.001Z"
   },
   {
    "duration": 76,
    "start_time": "2022-05-14T07:06:17.026Z"
   },
   {
    "duration": 76,
    "start_time": "2022-05-14T07:06:17.104Z"
   },
   {
    "duration": 52,
    "start_time": "2022-05-14T07:06:17.182Z"
   },
   {
    "duration": 27,
    "start_time": "2022-05-14T07:06:17.235Z"
   },
   {
    "duration": 3,
    "start_time": "2022-05-14T07:06:17.266Z"
   },
   {
    "duration": 16,
    "start_time": "2022-05-14T07:06:17.270Z"
   },
   {
    "duration": 6,
    "start_time": "2022-05-14T07:06:17.288Z"
   },
   {
    "duration": 9,
    "start_time": "2022-05-14T07:06:17.296Z"
   },
   {
    "duration": 10,
    "start_time": "2022-05-14T07:06:17.306Z"
   },
   {
    "duration": 5,
    "start_time": "2022-05-14T07:06:17.317Z"
   },
   {
    "duration": 48,
    "start_time": "2022-05-14T07:06:17.324Z"
   },
   {
    "duration": 13,
    "start_time": "2022-05-14T07:06:17.373Z"
   },
   {
    "duration": 13,
    "start_time": "2022-05-14T07:06:17.388Z"
   },
   {
    "duration": 12,
    "start_time": "2022-05-14T07:06:17.402Z"
   },
   {
    "duration": 52,
    "start_time": "2022-05-14T07:06:17.416Z"
   },
   {
    "duration": 13,
    "start_time": "2022-05-14T07:06:17.470Z"
   },
   {
    "duration": 86,
    "start_time": "2022-05-14T07:06:17.484Z"
   },
   {
    "duration": 14,
    "start_time": "2022-05-14T07:06:17.571Z"
   },
   {
    "duration": 11,
    "start_time": "2022-05-14T07:06:17.587Z"
   },
   {
    "duration": 4,
    "start_time": "2022-05-14T07:06:17.600Z"
   },
   {
    "duration": 22,
    "start_time": "2022-05-14T07:06:17.605Z"
   },
   {
    "duration": 41,
    "start_time": "2022-05-14T07:06:17.628Z"
   },
   {
    "duration": 15,
    "start_time": "2022-05-14T07:06:17.671Z"
   },
   {
    "duration": 12,
    "start_time": "2022-05-14T07:06:17.687Z"
   },
   {
    "duration": 8,
    "start_time": "2022-05-14T07:06:17.700Z"
   },
   {
    "duration": 6,
    "start_time": "2022-05-14T07:06:17.710Z"
   },
   {
    "duration": 17,
    "start_time": "2022-05-14T07:06:17.717Z"
   },
   {
    "duration": 8,
    "start_time": "2022-05-14T07:06:17.761Z"
   },
   {
    "duration": 261,
    "start_time": "2022-05-14T07:07:10.613Z"
   },
   {
    "duration": 410,
    "start_time": "2022-05-14T16:34:17.241Z"
   },
   {
    "duration": 309,
    "start_time": "2022-05-14T16:34:17.653Z"
   },
   {
    "duration": 7,
    "start_time": "2022-05-14T16:34:17.964Z"
   },
   {
    "duration": 29,
    "start_time": "2022-05-14T16:34:17.973Z"
   },
   {
    "duration": 8,
    "start_time": "2022-05-14T16:34:18.004Z"
   },
   {
    "duration": 12,
    "start_time": "2022-05-14T16:34:18.014Z"
   },
   {
    "duration": 34,
    "start_time": "2022-05-14T16:34:18.028Z"
   },
   {
    "duration": 23,
    "start_time": "2022-05-14T16:34:18.063Z"
   },
   {
    "duration": 2196,
    "start_time": "2022-05-14T16:34:18.087Z"
   },
   {
    "duration": 0,
    "start_time": "2022-05-14T16:34:20.286Z"
   },
   {
    "duration": 0,
    "start_time": "2022-05-14T16:34:20.288Z"
   },
   {
    "duration": 0,
    "start_time": "2022-05-14T16:34:20.289Z"
   },
   {
    "duration": 0,
    "start_time": "2022-05-14T16:34:20.289Z"
   },
   {
    "duration": 0,
    "start_time": "2022-05-14T16:34:20.290Z"
   },
   {
    "duration": 0,
    "start_time": "2022-05-14T16:34:20.291Z"
   },
   {
    "duration": 0,
    "start_time": "2022-05-14T16:34:20.292Z"
   },
   {
    "duration": 0,
    "start_time": "2022-05-14T16:34:20.293Z"
   },
   {
    "duration": 0,
    "start_time": "2022-05-14T16:34:20.294Z"
   },
   {
    "duration": 0,
    "start_time": "2022-05-14T16:34:20.294Z"
   },
   {
    "duration": 0,
    "start_time": "2022-05-14T16:34:20.295Z"
   },
   {
    "duration": 0,
    "start_time": "2022-05-14T16:34:20.296Z"
   },
   {
    "duration": 0,
    "start_time": "2022-05-14T16:34:20.297Z"
   },
   {
    "duration": 0,
    "start_time": "2022-05-14T16:34:20.298Z"
   },
   {
    "duration": 0,
    "start_time": "2022-05-14T16:34:20.299Z"
   },
   {
    "duration": 0,
    "start_time": "2022-05-14T16:34:20.300Z"
   },
   {
    "duration": 0,
    "start_time": "2022-05-14T16:34:20.300Z"
   },
   {
    "duration": 0,
    "start_time": "2022-05-14T16:34:20.301Z"
   },
   {
    "duration": 0,
    "start_time": "2022-05-14T16:34:20.302Z"
   },
   {
    "duration": 0,
    "start_time": "2022-05-14T16:34:20.303Z"
   },
   {
    "duration": 0,
    "start_time": "2022-05-14T16:34:20.304Z"
   },
   {
    "duration": 0,
    "start_time": "2022-05-14T16:34:20.305Z"
   },
   {
    "duration": 0,
    "start_time": "2022-05-14T16:34:20.306Z"
   },
   {
    "duration": 0,
    "start_time": "2022-05-14T16:34:20.306Z"
   },
   {
    "duration": 0,
    "start_time": "2022-05-14T16:34:20.307Z"
   },
   {
    "duration": 0,
    "start_time": "2022-05-14T16:34:20.308Z"
   },
   {
    "duration": 0,
    "start_time": "2022-05-14T16:34:20.309Z"
   },
   {
    "duration": 0,
    "start_time": "2022-05-14T16:34:20.309Z"
   },
   {
    "duration": 0,
    "start_time": "2022-05-14T16:34:20.310Z"
   },
   {
    "duration": 403,
    "start_time": "2022-05-14T16:36:35.441Z"
   },
   {
    "duration": 257,
    "start_time": "2022-05-14T16:36:35.847Z"
   },
   {
    "duration": 8,
    "start_time": "2022-05-14T16:36:36.105Z"
   },
   {
    "duration": 30,
    "start_time": "2022-05-14T16:36:36.115Z"
   },
   {
    "duration": 17,
    "start_time": "2022-05-14T16:36:36.147Z"
   },
   {
    "duration": 12,
    "start_time": "2022-05-14T16:36:36.166Z"
   },
   {
    "duration": 14,
    "start_time": "2022-05-14T16:36:36.180Z"
   },
   {
    "duration": 25,
    "start_time": "2022-05-14T16:36:36.196Z"
   },
   {
    "duration": 2159,
    "start_time": "2022-05-14T16:36:36.222Z"
   },
   {
    "duration": 1,
    "start_time": "2022-05-14T16:36:38.385Z"
   },
   {
    "duration": 0,
    "start_time": "2022-05-14T16:36:38.387Z"
   },
   {
    "duration": 0,
    "start_time": "2022-05-14T16:36:38.388Z"
   },
   {
    "duration": 0,
    "start_time": "2022-05-14T16:36:38.390Z"
   },
   {
    "duration": 0,
    "start_time": "2022-05-14T16:36:38.391Z"
   },
   {
    "duration": 0,
    "start_time": "2022-05-14T16:36:38.392Z"
   },
   {
    "duration": 0,
    "start_time": "2022-05-14T16:36:38.394Z"
   },
   {
    "duration": 0,
    "start_time": "2022-05-14T16:36:38.395Z"
   },
   {
    "duration": 0,
    "start_time": "2022-05-14T16:36:38.396Z"
   },
   {
    "duration": 0,
    "start_time": "2022-05-14T16:36:38.398Z"
   },
   {
    "duration": 0,
    "start_time": "2022-05-14T16:36:38.399Z"
   },
   {
    "duration": 0,
    "start_time": "2022-05-14T16:36:38.401Z"
   },
   {
    "duration": 0,
    "start_time": "2022-05-14T16:36:38.402Z"
   },
   {
    "duration": 0,
    "start_time": "2022-05-14T16:36:38.404Z"
   },
   {
    "duration": 0,
    "start_time": "2022-05-14T16:36:38.405Z"
   },
   {
    "duration": 0,
    "start_time": "2022-05-14T16:36:38.406Z"
   },
   {
    "duration": 0,
    "start_time": "2022-05-14T16:36:38.407Z"
   },
   {
    "duration": 0,
    "start_time": "2022-05-14T16:36:38.409Z"
   },
   {
    "duration": 0,
    "start_time": "2022-05-14T16:36:38.410Z"
   },
   {
    "duration": 0,
    "start_time": "2022-05-14T16:36:38.411Z"
   },
   {
    "duration": 0,
    "start_time": "2022-05-14T16:36:38.413Z"
   },
   {
    "duration": 0,
    "start_time": "2022-05-14T16:36:38.415Z"
   },
   {
    "duration": 0,
    "start_time": "2022-05-14T16:36:38.416Z"
   },
   {
    "duration": 0,
    "start_time": "2022-05-14T16:36:38.418Z"
   },
   {
    "duration": 0,
    "start_time": "2022-05-14T16:36:38.419Z"
   },
   {
    "duration": 0,
    "start_time": "2022-05-14T16:36:38.420Z"
   },
   {
    "duration": 0,
    "start_time": "2022-05-14T16:36:38.421Z"
   },
   {
    "duration": 0,
    "start_time": "2022-05-14T16:36:38.462Z"
   },
   {
    "duration": 0,
    "start_time": "2022-05-14T16:36:38.463Z"
   },
   {
    "duration": 28,
    "start_time": "2022-05-14T16:36:43.886Z"
   },
   {
    "duration": 469,
    "start_time": "2022-05-19T06:55:59.733Z"
   },
   {
    "duration": 267,
    "start_time": "2022-05-19T06:56:00.204Z"
   },
   {
    "duration": 10,
    "start_time": "2022-05-19T06:56:00.473Z"
   },
   {
    "duration": 45,
    "start_time": "2022-05-19T06:56:00.484Z"
   },
   {
    "duration": 30,
    "start_time": "2022-05-19T06:56:00.531Z"
   },
   {
    "duration": 18,
    "start_time": "2022-05-19T06:56:00.563Z"
   },
   {
    "duration": 28,
    "start_time": "2022-05-19T06:56:00.583Z"
   },
   {
    "duration": 57,
    "start_time": "2022-05-19T06:56:00.613Z"
   },
   {
    "duration": 350,
    "start_time": "2022-05-19T06:56:00.671Z"
   },
   {
    "duration": 26,
    "start_time": "2022-05-19T06:56:01.023Z"
   },
   {
    "duration": 116,
    "start_time": "2022-05-19T06:56:01.050Z"
   },
   {
    "duration": 97,
    "start_time": "2022-05-19T06:56:01.168Z"
   },
   {
    "duration": 76,
    "start_time": "2022-05-19T06:56:01.267Z"
   },
   {
    "duration": 20,
    "start_time": "2022-05-19T06:56:01.348Z"
   },
   {
    "duration": 39,
    "start_time": "2022-05-19T06:56:01.369Z"
   },
   {
    "duration": 19,
    "start_time": "2022-05-19T06:56:01.410Z"
   },
   {
    "duration": 14,
    "start_time": "2022-05-19T06:56:01.431Z"
   },
   {
    "duration": 24,
    "start_time": "2022-05-19T06:56:01.447Z"
   },
   {
    "duration": 18,
    "start_time": "2022-05-19T06:56:01.473Z"
   },
   {
    "duration": 6,
    "start_time": "2022-05-19T06:56:01.494Z"
   },
   {
    "duration": 53,
    "start_time": "2022-05-19T06:56:01.502Z"
   },
   {
    "duration": 17,
    "start_time": "2022-05-19T06:56:01.557Z"
   },
   {
    "duration": 37,
    "start_time": "2022-05-19T06:56:01.577Z"
   },
   {
    "duration": 17,
    "start_time": "2022-05-19T06:56:01.617Z"
   },
   {
    "duration": 29,
    "start_time": "2022-05-19T06:56:01.636Z"
   },
   {
    "duration": 19,
    "start_time": "2022-05-19T06:56:01.666Z"
   },
   {
    "duration": 120,
    "start_time": "2022-05-19T06:56:01.687Z"
   },
   {
    "duration": 11,
    "start_time": "2022-05-19T06:56:01.809Z"
   },
   {
    "duration": 13,
    "start_time": "2022-05-19T06:56:01.822Z"
   },
   {
    "duration": 7,
    "start_time": "2022-05-19T06:56:01.837Z"
   },
   {
    "duration": 42,
    "start_time": "2022-05-19T06:56:01.864Z"
   },
   {
    "duration": 17,
    "start_time": "2022-05-19T06:56:01.909Z"
   },
   {
    "duration": 43,
    "start_time": "2022-05-19T06:56:01.928Z"
   },
   {
    "duration": 18,
    "start_time": "2022-05-19T06:56:01.973Z"
   },
   {
    "duration": 14,
    "start_time": "2022-05-19T06:56:01.994Z"
   },
   {
    "duration": 7,
    "start_time": "2022-05-19T06:56:02.012Z"
   },
   {
    "duration": 44,
    "start_time": "2022-05-19T06:56:02.021Z"
   },
   {
    "duration": 6,
    "start_time": "2022-05-19T06:56:02.067Z"
   },
   {
    "duration": 20,
    "start_time": "2022-05-19T06:57:15.144Z"
   },
   {
    "duration": 24,
    "start_time": "2022-05-19T07:12:51.599Z"
   },
   {
    "duration": 10,
    "start_time": "2022-05-19T07:13:43.589Z"
   },
   {
    "duration": 12,
    "start_time": "2022-05-19T07:13:47.019Z"
   },
   {
    "duration": 457,
    "start_time": "2022-05-19T07:14:31.526Z"
   },
   {
    "duration": 175,
    "start_time": "2022-05-19T07:14:31.985Z"
   },
   {
    "duration": 8,
    "start_time": "2022-05-19T07:14:32.162Z"
   },
   {
    "duration": 32,
    "start_time": "2022-05-19T07:14:32.173Z"
   },
   {
    "duration": 9,
    "start_time": "2022-05-19T07:14:32.207Z"
   },
   {
    "duration": 22,
    "start_time": "2022-05-19T07:14:32.218Z"
   },
   {
    "duration": 31,
    "start_time": "2022-05-19T07:14:32.242Z"
   },
   {
    "duration": 26,
    "start_time": "2022-05-19T07:14:32.275Z"
   },
   {
    "duration": 136,
    "start_time": "2022-05-19T07:14:32.303Z"
   },
   {
    "duration": 0,
    "start_time": "2022-05-19T07:14:32.442Z"
   },
   {
    "duration": 0,
    "start_time": "2022-05-19T07:14:32.443Z"
   },
   {
    "duration": 0,
    "start_time": "2022-05-19T07:14:32.445Z"
   },
   {
    "duration": 0,
    "start_time": "2022-05-19T07:14:32.446Z"
   },
   {
    "duration": 0,
    "start_time": "2022-05-19T07:14:32.447Z"
   },
   {
    "duration": 0,
    "start_time": "2022-05-19T07:14:32.448Z"
   },
   {
    "duration": 0,
    "start_time": "2022-05-19T07:14:32.450Z"
   },
   {
    "duration": 0,
    "start_time": "2022-05-19T07:14:32.465Z"
   },
   {
    "duration": 0,
    "start_time": "2022-05-19T07:14:32.466Z"
   },
   {
    "duration": 0,
    "start_time": "2022-05-19T07:14:32.468Z"
   },
   {
    "duration": 0,
    "start_time": "2022-05-19T07:14:32.469Z"
   },
   {
    "duration": 0,
    "start_time": "2022-05-19T07:14:32.470Z"
   },
   {
    "duration": 0,
    "start_time": "2022-05-19T07:14:32.471Z"
   },
   {
    "duration": 0,
    "start_time": "2022-05-19T07:14:32.472Z"
   },
   {
    "duration": 0,
    "start_time": "2022-05-19T07:14:32.473Z"
   },
   {
    "duration": 0,
    "start_time": "2022-05-19T07:14:32.478Z"
   },
   {
    "duration": 0,
    "start_time": "2022-05-19T07:14:32.479Z"
   },
   {
    "duration": 0,
    "start_time": "2022-05-19T07:14:32.480Z"
   },
   {
    "duration": 0,
    "start_time": "2022-05-19T07:14:32.482Z"
   },
   {
    "duration": 0,
    "start_time": "2022-05-19T07:14:32.483Z"
   },
   {
    "duration": 0,
    "start_time": "2022-05-19T07:14:32.485Z"
   },
   {
    "duration": 0,
    "start_time": "2022-05-19T07:14:32.486Z"
   },
   {
    "duration": 0,
    "start_time": "2022-05-19T07:14:32.487Z"
   },
   {
    "duration": 0,
    "start_time": "2022-05-19T07:14:32.488Z"
   },
   {
    "duration": 0,
    "start_time": "2022-05-19T07:14:32.489Z"
   },
   {
    "duration": 0,
    "start_time": "2022-05-19T07:14:32.490Z"
   },
   {
    "duration": 0,
    "start_time": "2022-05-19T07:14:32.491Z"
   },
   {
    "duration": 0,
    "start_time": "2022-05-19T07:14:32.493Z"
   },
   {
    "duration": 0,
    "start_time": "2022-05-19T07:14:32.494Z"
   },
   {
    "duration": 465,
    "start_time": "2022-05-19T07:38:59.343Z"
   },
   {
    "duration": 170,
    "start_time": "2022-05-19T07:38:59.810Z"
   },
   {
    "duration": 8,
    "start_time": "2022-05-19T07:38:59.982Z"
   },
   {
    "duration": 36,
    "start_time": "2022-05-19T07:38:59.992Z"
   },
   {
    "duration": 14,
    "start_time": "2022-05-19T07:39:00.030Z"
   },
   {
    "duration": 38,
    "start_time": "2022-05-19T07:39:00.047Z"
   },
   {
    "duration": 39,
    "start_time": "2022-05-19T07:39:00.087Z"
   },
   {
    "duration": 36,
    "start_time": "2022-05-19T07:39:00.128Z"
   },
   {
    "duration": 133,
    "start_time": "2022-05-19T07:39:00.166Z"
   },
   {
    "duration": 0,
    "start_time": "2022-05-19T07:39:00.302Z"
   },
   {
    "duration": 0,
    "start_time": "2022-05-19T07:39:00.303Z"
   },
   {
    "duration": 0,
    "start_time": "2022-05-19T07:39:00.304Z"
   },
   {
    "duration": 0,
    "start_time": "2022-05-19T07:39:00.305Z"
   },
   {
    "duration": 0,
    "start_time": "2022-05-19T07:39:00.306Z"
   },
   {
    "duration": 0,
    "start_time": "2022-05-19T07:39:00.307Z"
   },
   {
    "duration": 0,
    "start_time": "2022-05-19T07:39:00.308Z"
   },
   {
    "duration": 0,
    "start_time": "2022-05-19T07:39:00.309Z"
   },
   {
    "duration": 0,
    "start_time": "2022-05-19T07:39:00.311Z"
   },
   {
    "duration": 0,
    "start_time": "2022-05-19T07:39:00.312Z"
   },
   {
    "duration": 0,
    "start_time": "2022-05-19T07:39:00.313Z"
   },
   {
    "duration": 0,
    "start_time": "2022-05-19T07:39:00.314Z"
   },
   {
    "duration": 0,
    "start_time": "2022-05-19T07:39:00.315Z"
   },
   {
    "duration": 0,
    "start_time": "2022-05-19T07:39:00.316Z"
   },
   {
    "duration": 0,
    "start_time": "2022-05-19T07:39:00.317Z"
   },
   {
    "duration": 0,
    "start_time": "2022-05-19T07:39:00.318Z"
   },
   {
    "duration": 0,
    "start_time": "2022-05-19T07:39:00.319Z"
   },
   {
    "duration": 0,
    "start_time": "2022-05-19T07:39:00.321Z"
   },
   {
    "duration": 0,
    "start_time": "2022-05-19T07:39:00.322Z"
   },
   {
    "duration": 0,
    "start_time": "2022-05-19T07:39:00.323Z"
   },
   {
    "duration": 0,
    "start_time": "2022-05-19T07:39:00.324Z"
   },
   {
    "duration": 0,
    "start_time": "2022-05-19T07:39:00.325Z"
   },
   {
    "duration": 0,
    "start_time": "2022-05-19T07:39:00.326Z"
   },
   {
    "duration": 0,
    "start_time": "2022-05-19T07:39:00.327Z"
   },
   {
    "duration": 0,
    "start_time": "2022-05-19T07:39:00.365Z"
   },
   {
    "duration": 0,
    "start_time": "2022-05-19T07:39:00.366Z"
   },
   {
    "duration": 0,
    "start_time": "2022-05-19T07:39:00.367Z"
   },
   {
    "duration": 0,
    "start_time": "2022-05-19T07:39:00.368Z"
   },
   {
    "duration": 0,
    "start_time": "2022-05-19T07:39:00.369Z"
   },
   {
    "duration": 8,
    "start_time": "2022-05-19T07:39:21.177Z"
   },
   {
    "duration": 13,
    "start_time": "2022-05-19T07:39:23.851Z"
   },
   {
    "duration": 13,
    "start_time": "2022-05-19T07:39:53.012Z"
   },
   {
    "duration": 13,
    "start_time": "2022-05-19T07:39:56.053Z"
   },
   {
    "duration": 411,
    "start_time": "2022-05-19T07:40:05.702Z"
   },
   {
    "duration": 181,
    "start_time": "2022-05-19T07:40:06.115Z"
   },
   {
    "duration": 9,
    "start_time": "2022-05-19T07:40:06.297Z"
   },
   {
    "duration": 38,
    "start_time": "2022-05-19T07:40:06.307Z"
   },
   {
    "duration": 19,
    "start_time": "2022-05-19T07:40:06.347Z"
   },
   {
    "duration": 19,
    "start_time": "2022-05-19T07:40:06.368Z"
   },
   {
    "duration": 26,
    "start_time": "2022-05-19T07:40:06.389Z"
   },
   {
    "duration": 52,
    "start_time": "2022-05-19T07:40:06.417Z"
   },
   {
    "duration": 352,
    "start_time": "2022-05-19T07:40:06.471Z"
   },
   {
    "duration": 27,
    "start_time": "2022-05-19T07:40:06.825Z"
   },
   {
    "duration": 81,
    "start_time": "2022-05-19T07:40:06.854Z"
   },
   {
    "duration": 117,
    "start_time": "2022-05-19T07:40:06.937Z"
   },
   {
    "duration": 69,
    "start_time": "2022-05-19T07:40:07.056Z"
   },
   {
    "duration": 9,
    "start_time": "2022-05-19T07:40:07.130Z"
   },
   {
    "duration": 26,
    "start_time": "2022-05-19T07:40:07.141Z"
   },
   {
    "duration": 39,
    "start_time": "2022-05-19T07:40:07.170Z"
   },
   {
    "duration": 9,
    "start_time": "2022-05-19T07:40:07.211Z"
   },
   {
    "duration": 14,
    "start_time": "2022-05-19T07:40:07.222Z"
   },
   {
    "duration": 27,
    "start_time": "2022-05-19T07:40:07.238Z"
   },
   {
    "duration": 6,
    "start_time": "2022-05-19T07:40:07.267Z"
   },
   {
    "duration": 37,
    "start_time": "2022-05-19T07:40:07.275Z"
   },
   {
    "duration": 20,
    "start_time": "2022-05-19T07:40:07.314Z"
   },
   {
    "duration": 42,
    "start_time": "2022-05-19T07:40:07.337Z"
   },
   {
    "duration": 25,
    "start_time": "2022-05-19T07:40:07.381Z"
   },
   {
    "duration": 29,
    "start_time": "2022-05-19T07:40:07.408Z"
   },
   {
    "duration": 38,
    "start_time": "2022-05-19T07:40:07.440Z"
   },
   {
    "duration": 123,
    "start_time": "2022-05-19T07:40:07.480Z"
   },
   {
    "duration": 13,
    "start_time": "2022-05-19T07:40:07.605Z"
   },
   {
    "duration": 11,
    "start_time": "2022-05-19T07:40:07.620Z"
   },
   {
    "duration": 9,
    "start_time": "2022-05-19T07:40:07.633Z"
   },
   {
    "duration": 53,
    "start_time": "2022-05-19T07:40:07.644Z"
   },
   {
    "duration": 17,
    "start_time": "2022-05-19T07:40:07.700Z"
   },
   {
    "duration": 47,
    "start_time": "2022-05-19T07:40:07.719Z"
   },
   {
    "duration": 19,
    "start_time": "2022-05-19T07:40:07.768Z"
   },
   {
    "duration": 9,
    "start_time": "2022-05-19T07:40:07.789Z"
   },
   {
    "duration": 11,
    "start_time": "2022-05-19T07:40:07.800Z"
   },
   {
    "duration": 10,
    "start_time": "2022-05-19T07:40:07.813Z"
   },
   {
    "duration": 14,
    "start_time": "2022-05-19T07:40:07.825Z"
   },
   {
    "duration": 4,
    "start_time": "2022-05-19T07:42:19.834Z"
   },
   {
    "duration": 5,
    "start_time": "2022-05-19T07:42:24.338Z"
   },
   {
    "duration": 464,
    "start_time": "2022-05-19T19:28:35.198Z"
   },
   {
    "duration": 458,
    "start_time": "2022-05-19T19:28:35.664Z"
   },
   {
    "duration": 10,
    "start_time": "2022-05-19T19:28:36.124Z"
   },
   {
    "duration": 37,
    "start_time": "2022-05-19T19:28:36.137Z"
   },
   {
    "duration": 10,
    "start_time": "2022-05-19T19:28:36.176Z"
   },
   {
    "duration": 42,
    "start_time": "2022-05-19T19:28:36.188Z"
   },
   {
    "duration": 21,
    "start_time": "2022-05-19T19:28:36.232Z"
   },
   {
    "duration": 31,
    "start_time": "2022-05-19T19:28:36.254Z"
   },
   {
    "duration": 131,
    "start_time": "2022-05-19T19:28:36.287Z"
   },
   {
    "duration": 0,
    "start_time": "2022-05-19T19:28:36.420Z"
   },
   {
    "duration": 0,
    "start_time": "2022-05-19T19:28:36.423Z"
   },
   {
    "duration": 0,
    "start_time": "2022-05-19T19:28:36.425Z"
   },
   {
    "duration": 0,
    "start_time": "2022-05-19T19:28:36.426Z"
   },
   {
    "duration": 0,
    "start_time": "2022-05-19T19:28:36.428Z"
   },
   {
    "duration": 0,
    "start_time": "2022-05-19T19:28:36.429Z"
   },
   {
    "duration": 0,
    "start_time": "2022-05-19T19:28:36.430Z"
   },
   {
    "duration": 0,
    "start_time": "2022-05-19T19:28:36.432Z"
   },
   {
    "duration": 0,
    "start_time": "2022-05-19T19:28:36.434Z"
   },
   {
    "duration": 0,
    "start_time": "2022-05-19T19:28:36.435Z"
   },
   {
    "duration": 0,
    "start_time": "2022-05-19T19:28:36.437Z"
   },
   {
    "duration": 0,
    "start_time": "2022-05-19T19:28:36.438Z"
   },
   {
    "duration": 0,
    "start_time": "2022-05-19T19:28:36.440Z"
   },
   {
    "duration": 0,
    "start_time": "2022-05-19T19:28:36.441Z"
   },
   {
    "duration": 0,
    "start_time": "2022-05-19T19:28:36.443Z"
   },
   {
    "duration": 0,
    "start_time": "2022-05-19T19:28:36.444Z"
   },
   {
    "duration": 0,
    "start_time": "2022-05-19T19:28:36.445Z"
   },
   {
    "duration": 0,
    "start_time": "2022-05-19T19:28:36.447Z"
   },
   {
    "duration": 0,
    "start_time": "2022-05-19T19:28:36.448Z"
   },
   {
    "duration": 0,
    "start_time": "2022-05-19T19:28:36.449Z"
   },
   {
    "duration": 0,
    "start_time": "2022-05-19T19:28:36.450Z"
   },
   {
    "duration": 0,
    "start_time": "2022-05-19T19:28:36.451Z"
   },
   {
    "duration": 0,
    "start_time": "2022-05-19T19:28:36.452Z"
   },
   {
    "duration": 0,
    "start_time": "2022-05-19T19:28:36.453Z"
   },
   {
    "duration": 0,
    "start_time": "2022-05-19T19:28:36.455Z"
   },
   {
    "duration": 0,
    "start_time": "2022-05-19T19:28:36.456Z"
   },
   {
    "duration": 0,
    "start_time": "2022-05-19T19:28:36.457Z"
   },
   {
    "duration": 0,
    "start_time": "2022-05-19T19:28:36.458Z"
   },
   {
    "duration": 0,
    "start_time": "2022-05-19T19:28:36.459Z"
   },
   {
    "duration": 512,
    "start_time": "2022-05-19T19:32:10.515Z"
   },
   {
    "duration": 196,
    "start_time": "2022-05-19T19:32:11.030Z"
   },
   {
    "duration": 19,
    "start_time": "2022-05-19T19:32:11.228Z"
   },
   {
    "duration": 47,
    "start_time": "2022-05-19T19:32:11.249Z"
   },
   {
    "duration": 27,
    "start_time": "2022-05-19T19:32:11.300Z"
   },
   {
    "duration": 27,
    "start_time": "2022-05-19T19:32:11.329Z"
   },
   {
    "duration": 23,
    "start_time": "2022-05-19T19:32:11.358Z"
   },
   {
    "duration": 49,
    "start_time": "2022-05-19T19:32:11.384Z"
   },
   {
    "duration": 132,
    "start_time": "2022-05-19T19:32:11.436Z"
   },
   {
    "duration": 0,
    "start_time": "2022-05-19T19:32:11.572Z"
   },
   {
    "duration": 0,
    "start_time": "2022-05-19T19:32:11.573Z"
   },
   {
    "duration": 0,
    "start_time": "2022-05-19T19:32:11.574Z"
   },
   {
    "duration": 0,
    "start_time": "2022-05-19T19:32:11.575Z"
   },
   {
    "duration": 0,
    "start_time": "2022-05-19T19:32:11.576Z"
   },
   {
    "duration": 1,
    "start_time": "2022-05-19T19:32:11.577Z"
   },
   {
    "duration": 0,
    "start_time": "2022-05-19T19:32:11.579Z"
   },
   {
    "duration": 0,
    "start_time": "2022-05-19T19:32:11.580Z"
   },
   {
    "duration": 0,
    "start_time": "2022-05-19T19:32:11.581Z"
   },
   {
    "duration": 0,
    "start_time": "2022-05-19T19:32:11.582Z"
   },
   {
    "duration": 0,
    "start_time": "2022-05-19T19:32:11.583Z"
   },
   {
    "duration": 0,
    "start_time": "2022-05-19T19:32:11.584Z"
   },
   {
    "duration": 0,
    "start_time": "2022-05-19T19:32:11.585Z"
   },
   {
    "duration": 0,
    "start_time": "2022-05-19T19:32:11.586Z"
   },
   {
    "duration": 0,
    "start_time": "2022-05-19T19:32:11.587Z"
   },
   {
    "duration": 0,
    "start_time": "2022-05-19T19:32:11.589Z"
   },
   {
    "duration": 0,
    "start_time": "2022-05-19T19:32:11.590Z"
   },
   {
    "duration": 0,
    "start_time": "2022-05-19T19:32:11.591Z"
   },
   {
    "duration": 0,
    "start_time": "2022-05-19T19:32:11.623Z"
   },
   {
    "duration": 0,
    "start_time": "2022-05-19T19:32:11.625Z"
   },
   {
    "duration": 0,
    "start_time": "2022-05-19T19:32:11.627Z"
   },
   {
    "duration": 0,
    "start_time": "2022-05-19T19:32:11.630Z"
   },
   {
    "duration": 1,
    "start_time": "2022-05-19T19:32:11.631Z"
   },
   {
    "duration": 0,
    "start_time": "2022-05-19T19:32:11.633Z"
   },
   {
    "duration": 0,
    "start_time": "2022-05-19T19:32:11.635Z"
   },
   {
    "duration": 0,
    "start_time": "2022-05-19T19:32:11.636Z"
   },
   {
    "duration": 0,
    "start_time": "2022-05-19T19:32:11.638Z"
   },
   {
    "duration": 0,
    "start_time": "2022-05-19T19:32:11.639Z"
   },
   {
    "duration": 0,
    "start_time": "2022-05-19T19:32:11.641Z"
   },
   {
    "duration": 454,
    "start_time": "2022-05-19T19:32:40.406Z"
   },
   {
    "duration": 253,
    "start_time": "2022-05-19T19:32:40.862Z"
   },
   {
    "duration": 14,
    "start_time": "2022-05-19T19:32:41.118Z"
   },
   {
    "duration": 34,
    "start_time": "2022-05-19T19:32:41.134Z"
   },
   {
    "duration": 9,
    "start_time": "2022-05-19T19:32:41.169Z"
   },
   {
    "duration": 44,
    "start_time": "2022-05-19T19:32:41.179Z"
   },
   {
    "duration": 18,
    "start_time": "2022-05-19T19:32:41.225Z"
   },
   {
    "duration": 27,
    "start_time": "2022-05-19T19:32:41.245Z"
   },
   {
    "duration": 338,
    "start_time": "2022-05-19T19:32:41.275Z"
   },
   {
    "duration": 31,
    "start_time": "2022-05-19T19:32:41.617Z"
   },
   {
    "duration": 82,
    "start_time": "2022-05-19T19:32:41.650Z"
   },
   {
    "duration": 93,
    "start_time": "2022-05-19T19:32:41.734Z"
   },
   {
    "duration": 70,
    "start_time": "2022-05-19T19:32:41.829Z"
   },
   {
    "duration": 24,
    "start_time": "2022-05-19T19:32:41.900Z"
   },
   {
    "duration": 3,
    "start_time": "2022-05-19T19:32:41.927Z"
   },
   {
    "duration": 20,
    "start_time": "2022-05-19T19:32:41.932Z"
   },
   {
    "duration": 10,
    "start_time": "2022-05-19T19:32:41.954Z"
   },
   {
    "duration": 15,
    "start_time": "2022-05-19T19:32:41.966Z"
   },
   {
    "duration": 40,
    "start_time": "2022-05-19T19:32:41.983Z"
   },
   {
    "duration": 6,
    "start_time": "2022-05-19T19:32:42.025Z"
   },
   {
    "duration": 32,
    "start_time": "2022-05-19T19:32:42.033Z"
   },
   {
    "duration": 16,
    "start_time": "2022-05-19T19:32:42.068Z"
   },
   {
    "duration": 42,
    "start_time": "2022-05-19T19:32:42.086Z"
   },
   {
    "duration": 18,
    "start_time": "2022-05-19T19:32:42.129Z"
   },
   {
    "duration": 27,
    "start_time": "2022-05-19T19:32:42.149Z"
   },
   {
    "duration": 49,
    "start_time": "2022-05-19T19:32:42.179Z"
   },
   {
    "duration": 82,
    "start_time": "2022-05-19T19:32:42.231Z"
   },
   {
    "duration": 18,
    "start_time": "2022-05-19T19:32:42.316Z"
   },
   {
    "duration": 15,
    "start_time": "2022-05-19T19:32:42.336Z"
   },
   {
    "duration": 6,
    "start_time": "2022-05-19T19:32:42.354Z"
   },
   {
    "duration": 26,
    "start_time": "2022-05-19T19:32:42.363Z"
   },
   {
    "duration": 44,
    "start_time": "2022-05-19T19:32:42.391Z"
   },
   {
    "duration": 16,
    "start_time": "2022-05-19T19:32:42.437Z"
   },
   {
    "duration": 12,
    "start_time": "2022-05-19T19:32:42.454Z"
   },
   {
    "duration": 9,
    "start_time": "2022-05-19T19:32:42.467Z"
   },
   {
    "duration": 4,
    "start_time": "2022-05-19T19:32:42.478Z"
   },
   {
    "duration": 45,
    "start_time": "2022-05-19T19:32:42.484Z"
   },
   {
    "duration": 10,
    "start_time": "2022-05-19T19:32:42.531Z"
   },
   {
    "duration": 56,
    "start_time": "2022-05-19T19:39:40.627Z"
   },
   {
    "duration": 6,
    "start_time": "2022-05-19T19:45:46.898Z"
   },
   {
    "duration": 64,
    "start_time": "2022-05-20T13:42:36.440Z"
   },
   {
    "duration": 416,
    "start_time": "2022-05-20T13:42:43.279Z"
   },
   {
    "duration": 427,
    "start_time": "2022-05-20T13:42:43.697Z"
   },
   {
    "duration": 8,
    "start_time": "2022-05-20T13:42:44.126Z"
   },
   {
    "duration": 42,
    "start_time": "2022-05-20T13:42:44.135Z"
   },
   {
    "duration": 9,
    "start_time": "2022-05-20T13:42:44.180Z"
   },
   {
    "duration": 16,
    "start_time": "2022-05-20T13:42:44.191Z"
   },
   {
    "duration": 18,
    "start_time": "2022-05-20T13:42:44.209Z"
   },
   {
    "duration": 43,
    "start_time": "2022-05-20T13:42:44.228Z"
   },
   {
    "duration": 133,
    "start_time": "2022-05-20T13:42:44.272Z"
   },
   {
    "duration": 0,
    "start_time": "2022-05-20T13:42:44.407Z"
   },
   {
    "duration": 0,
    "start_time": "2022-05-20T13:42:44.408Z"
   },
   {
    "duration": 0,
    "start_time": "2022-05-20T13:42:44.410Z"
   },
   {
    "duration": 0,
    "start_time": "2022-05-20T13:42:44.411Z"
   },
   {
    "duration": 0,
    "start_time": "2022-05-20T13:42:44.413Z"
   },
   {
    "duration": 0,
    "start_time": "2022-05-20T13:42:44.414Z"
   },
   {
    "duration": 0,
    "start_time": "2022-05-20T13:42:44.415Z"
   },
   {
    "duration": 0,
    "start_time": "2022-05-20T13:42:44.416Z"
   },
   {
    "duration": 0,
    "start_time": "2022-05-20T13:42:44.418Z"
   },
   {
    "duration": 0,
    "start_time": "2022-05-20T13:42:44.419Z"
   },
   {
    "duration": 0,
    "start_time": "2022-05-20T13:42:44.420Z"
   },
   {
    "duration": 0,
    "start_time": "2022-05-20T13:42:44.421Z"
   },
   {
    "duration": 0,
    "start_time": "2022-05-20T13:42:44.422Z"
   },
   {
    "duration": 0,
    "start_time": "2022-05-20T13:42:44.423Z"
   },
   {
    "duration": 0,
    "start_time": "2022-05-20T13:42:44.424Z"
   },
   {
    "duration": 0,
    "start_time": "2022-05-20T13:42:44.425Z"
   },
   {
    "duration": 0,
    "start_time": "2022-05-20T13:42:44.426Z"
   },
   {
    "duration": 0,
    "start_time": "2022-05-20T13:42:44.427Z"
   },
   {
    "duration": 0,
    "start_time": "2022-05-20T13:42:44.452Z"
   },
   {
    "duration": 0,
    "start_time": "2022-05-20T13:42:44.458Z"
   },
   {
    "duration": 0,
    "start_time": "2022-05-20T13:42:44.459Z"
   },
   {
    "duration": 0,
    "start_time": "2022-05-20T13:42:44.459Z"
   },
   {
    "duration": 0,
    "start_time": "2022-05-20T13:42:44.460Z"
   },
   {
    "duration": 0,
    "start_time": "2022-05-20T13:42:44.461Z"
   },
   {
    "duration": 0,
    "start_time": "2022-05-20T13:42:44.461Z"
   },
   {
    "duration": 0,
    "start_time": "2022-05-20T13:42:44.462Z"
   },
   {
    "duration": 0,
    "start_time": "2022-05-20T13:42:44.463Z"
   },
   {
    "duration": 0,
    "start_time": "2022-05-20T13:42:44.463Z"
   },
   {
    "duration": 0,
    "start_time": "2022-05-20T13:42:44.464Z"
   },
   {
    "duration": 12,
    "start_time": "2022-05-20T13:42:52.664Z"
   },
   {
    "duration": 11,
    "start_time": "2022-05-20T13:43:31.805Z"
   },
   {
    "duration": 38,
    "start_time": "2022-05-20T13:44:03.692Z"
   },
   {
    "duration": 3,
    "start_time": "2022-05-20T13:44:36.834Z"
   },
   {
    "duration": 38,
    "start_time": "2022-05-20T13:44:43.110Z"
   },
   {
    "duration": 36,
    "start_time": "2022-05-20T13:44:51.283Z"
   },
   {
    "duration": 3,
    "start_time": "2022-05-20T13:45:11.437Z"
   },
   {
    "duration": 177,
    "start_time": "2022-05-20T13:45:11.444Z"
   },
   {
    "duration": 7,
    "start_time": "2022-05-20T13:45:11.623Z"
   },
   {
    "duration": 28,
    "start_time": "2022-05-20T13:45:11.632Z"
   },
   {
    "duration": 4,
    "start_time": "2022-05-20T13:45:11.662Z"
   },
   {
    "duration": 10,
    "start_time": "2022-05-20T13:45:11.668Z"
   },
   {
    "duration": 11,
    "start_time": "2022-05-20T13:45:11.680Z"
   },
   {
    "duration": 25,
    "start_time": "2022-05-20T13:45:11.693Z"
   },
   {
    "duration": 496,
    "start_time": "2022-05-20T13:45:11.720Z"
   },
   {
    "duration": 0,
    "start_time": "2022-05-20T13:45:12.218Z"
   },
   {
    "duration": 0,
    "start_time": "2022-05-20T13:45:12.220Z"
   },
   {
    "duration": 0,
    "start_time": "2022-05-20T13:45:12.221Z"
   },
   {
    "duration": 0,
    "start_time": "2022-05-20T13:45:12.222Z"
   },
   {
    "duration": 0,
    "start_time": "2022-05-20T13:45:12.222Z"
   },
   {
    "duration": 0,
    "start_time": "2022-05-20T13:45:12.224Z"
   },
   {
    "duration": 0,
    "start_time": "2022-05-20T13:45:12.225Z"
   },
   {
    "duration": 0,
    "start_time": "2022-05-20T13:45:12.226Z"
   },
   {
    "duration": 0,
    "start_time": "2022-05-20T13:45:12.227Z"
   },
   {
    "duration": 0,
    "start_time": "2022-05-20T13:45:12.228Z"
   },
   {
    "duration": 0,
    "start_time": "2022-05-20T13:45:12.229Z"
   },
   {
    "duration": 0,
    "start_time": "2022-05-20T13:45:12.230Z"
   },
   {
    "duration": 0,
    "start_time": "2022-05-20T13:45:12.231Z"
   },
   {
    "duration": 0,
    "start_time": "2022-05-20T13:45:12.232Z"
   },
   {
    "duration": 0,
    "start_time": "2022-05-20T13:45:12.233Z"
   },
   {
    "duration": 0,
    "start_time": "2022-05-20T13:45:12.234Z"
   },
   {
    "duration": 0,
    "start_time": "2022-05-20T13:45:12.236Z"
   },
   {
    "duration": 0,
    "start_time": "2022-05-20T13:45:12.236Z"
   },
   {
    "duration": 0,
    "start_time": "2022-05-20T13:45:12.238Z"
   },
   {
    "duration": 0,
    "start_time": "2022-05-20T13:45:12.239Z"
   },
   {
    "duration": 0,
    "start_time": "2022-05-20T13:45:12.240Z"
   },
   {
    "duration": 0,
    "start_time": "2022-05-20T13:45:12.241Z"
   },
   {
    "duration": 0,
    "start_time": "2022-05-20T13:45:12.242Z"
   },
   {
    "duration": 0,
    "start_time": "2022-05-20T13:45:12.243Z"
   },
   {
    "duration": 0,
    "start_time": "2022-05-20T13:45:12.243Z"
   },
   {
    "duration": 0,
    "start_time": "2022-05-20T13:45:12.244Z"
   },
   {
    "duration": 0,
    "start_time": "2022-05-20T13:45:12.245Z"
   },
   {
    "duration": 0,
    "start_time": "2022-05-20T13:45:12.246Z"
   },
   {
    "duration": 0,
    "start_time": "2022-05-20T13:45:12.247Z"
   },
   {
    "duration": 3,
    "start_time": "2022-05-20T13:45:21.873Z"
   },
   {
    "duration": 154,
    "start_time": "2022-05-20T13:45:21.878Z"
   },
   {
    "duration": 7,
    "start_time": "2022-05-20T13:45:22.034Z"
   },
   {
    "duration": 26,
    "start_time": "2022-05-20T13:45:22.051Z"
   },
   {
    "duration": 4,
    "start_time": "2022-05-20T13:45:22.080Z"
   },
   {
    "duration": 11,
    "start_time": "2022-05-20T13:45:22.086Z"
   },
   {
    "duration": 13,
    "start_time": "2022-05-20T13:45:22.099Z"
   },
   {
    "duration": 53,
    "start_time": "2022-05-20T13:45:22.113Z"
   },
   {
    "duration": 586,
    "start_time": "2022-05-20T13:45:22.168Z"
   },
   {
    "duration": 0,
    "start_time": "2022-05-20T13:45:22.756Z"
   },
   {
    "duration": 0,
    "start_time": "2022-05-20T13:45:22.757Z"
   },
   {
    "duration": 0,
    "start_time": "2022-05-20T13:45:22.758Z"
   },
   {
    "duration": 0,
    "start_time": "2022-05-20T13:45:22.759Z"
   },
   {
    "duration": 0,
    "start_time": "2022-05-20T13:45:22.760Z"
   },
   {
    "duration": 0,
    "start_time": "2022-05-20T13:45:22.761Z"
   },
   {
    "duration": 0,
    "start_time": "2022-05-20T13:45:22.762Z"
   },
   {
    "duration": 0,
    "start_time": "2022-05-20T13:45:22.763Z"
   },
   {
    "duration": 0,
    "start_time": "2022-05-20T13:45:22.764Z"
   },
   {
    "duration": 0,
    "start_time": "2022-05-20T13:45:22.765Z"
   },
   {
    "duration": 0,
    "start_time": "2022-05-20T13:45:22.766Z"
   },
   {
    "duration": 0,
    "start_time": "2022-05-20T13:45:22.767Z"
   },
   {
    "duration": 0,
    "start_time": "2022-05-20T13:45:22.768Z"
   },
   {
    "duration": 0,
    "start_time": "2022-05-20T13:45:22.769Z"
   },
   {
    "duration": 0,
    "start_time": "2022-05-20T13:45:22.771Z"
   },
   {
    "duration": 0,
    "start_time": "2022-05-20T13:45:22.772Z"
   },
   {
    "duration": 0,
    "start_time": "2022-05-20T13:45:22.773Z"
   },
   {
    "duration": 1,
    "start_time": "2022-05-20T13:45:22.774Z"
   },
   {
    "duration": 0,
    "start_time": "2022-05-20T13:45:22.775Z"
   },
   {
    "duration": 0,
    "start_time": "2022-05-20T13:45:22.776Z"
   },
   {
    "duration": 0,
    "start_time": "2022-05-20T13:45:22.777Z"
   },
   {
    "duration": 0,
    "start_time": "2022-05-20T13:45:22.779Z"
   },
   {
    "duration": 0,
    "start_time": "2022-05-20T13:45:22.780Z"
   },
   {
    "duration": 0,
    "start_time": "2022-05-20T13:45:22.781Z"
   },
   {
    "duration": 0,
    "start_time": "2022-05-20T13:45:22.782Z"
   },
   {
    "duration": 0,
    "start_time": "2022-05-20T13:45:22.783Z"
   },
   {
    "duration": 0,
    "start_time": "2022-05-20T13:45:22.784Z"
   },
   {
    "duration": 0,
    "start_time": "2022-05-20T13:45:22.785Z"
   },
   {
    "duration": 0,
    "start_time": "2022-05-20T13:45:22.786Z"
   },
   {
    "duration": 7,
    "start_time": "2022-05-20T13:45:47.224Z"
   },
   {
    "duration": 13,
    "start_time": "2022-05-20T13:45:50.132Z"
   },
   {
    "duration": 3,
    "start_time": "2022-05-20T13:45:59.795Z"
   },
   {
    "duration": 163,
    "start_time": "2022-05-20T13:45:59.801Z"
   },
   {
    "duration": 7,
    "start_time": "2022-05-20T13:45:59.966Z"
   },
   {
    "duration": 31,
    "start_time": "2022-05-20T13:45:59.975Z"
   },
   {
    "duration": 14,
    "start_time": "2022-05-20T13:46:00.008Z"
   },
   {
    "duration": 16,
    "start_time": "2022-05-20T13:46:00.025Z"
   },
   {
    "duration": 33,
    "start_time": "2022-05-20T13:46:00.043Z"
   },
   {
    "duration": 74,
    "start_time": "2022-05-20T13:46:00.077Z"
   },
   {
    "duration": 349,
    "start_time": "2022-05-20T13:46:00.153Z"
   },
   {
    "duration": 20,
    "start_time": "2022-05-20T13:46:00.505Z"
   },
   {
    "duration": 79,
    "start_time": "2022-05-20T13:46:00.527Z"
   },
   {
    "duration": 82,
    "start_time": "2022-05-20T13:46:00.608Z"
   },
   {
    "duration": 60,
    "start_time": "2022-05-20T13:46:00.692Z"
   },
   {
    "duration": 33,
    "start_time": "2022-05-20T13:46:00.754Z"
   },
   {
    "duration": 14,
    "start_time": "2022-05-20T13:46:00.789Z"
   },
   {
    "duration": 38,
    "start_time": "2022-05-20T13:46:00.805Z"
   },
   {
    "duration": 21,
    "start_time": "2022-05-20T13:46:00.844Z"
   },
   {
    "duration": 55,
    "start_time": "2022-05-20T13:46:00.867Z"
   },
   {
    "duration": 13,
    "start_time": "2022-05-20T13:46:00.924Z"
   },
   {
    "duration": 21,
    "start_time": "2022-05-20T13:46:00.939Z"
   },
   {
    "duration": 65,
    "start_time": "2022-05-20T13:46:00.961Z"
   },
   {
    "duration": 33,
    "start_time": "2022-05-20T13:46:01.028Z"
   },
   {
    "duration": 45,
    "start_time": "2022-05-20T13:46:01.063Z"
   },
   {
    "duration": 22,
    "start_time": "2022-05-20T13:46:01.111Z"
   },
   {
    "duration": 30,
    "start_time": "2022-05-20T13:46:01.136Z"
   },
   {
    "duration": 17,
    "start_time": "2022-05-20T13:46:01.168Z"
   },
   {
    "duration": 81,
    "start_time": "2022-05-20T13:46:01.187Z"
   },
   {
    "duration": 16,
    "start_time": "2022-05-20T13:46:01.273Z"
   },
   {
    "duration": 34,
    "start_time": "2022-05-20T13:46:01.291Z"
   },
   {
    "duration": 12,
    "start_time": "2022-05-20T13:46:01.328Z"
   },
   {
    "duration": 47,
    "start_time": "2022-05-20T13:46:01.341Z"
   },
   {
    "duration": 21,
    "start_time": "2022-05-20T13:46:01.390Z"
   },
   {
    "duration": 37,
    "start_time": "2022-05-20T13:46:01.413Z"
   },
   {
    "duration": 15,
    "start_time": "2022-05-20T13:46:01.452Z"
   },
   {
    "duration": 19,
    "start_time": "2022-05-20T13:46:01.469Z"
   },
   {
    "duration": 9,
    "start_time": "2022-05-20T13:46:01.490Z"
   },
   {
    "duration": 22,
    "start_time": "2022-05-20T13:46:01.500Z"
   },
   {
    "duration": 25,
    "start_time": "2022-05-20T13:46:01.524Z"
   },
   {
    "duration": 34,
    "start_time": "2022-05-20T13:46:34.657Z"
   },
   {
    "duration": 8,
    "start_time": "2022-05-20T13:47:02.548Z"
   },
   {
    "duration": 33,
    "start_time": "2022-05-20T13:47:21.699Z"
   },
   {
    "duration": 35,
    "start_time": "2022-05-20T13:48:00.976Z"
   },
   {
    "duration": 34,
    "start_time": "2022-05-20T13:48:27.204Z"
   },
   {
    "duration": 7,
    "start_time": "2022-05-20T13:48:48.226Z"
   },
   {
    "duration": 7,
    "start_time": "2022-05-20T13:49:16.544Z"
   },
   {
    "duration": 10,
    "start_time": "2022-05-20T13:50:35.774Z"
   },
   {
    "duration": 7,
    "start_time": "2022-05-20T13:50:57.824Z"
   },
   {
    "duration": 14,
    "start_time": "2022-05-20T13:51:12.625Z"
   },
   {
    "duration": 49,
    "start_time": "2022-05-20T13:51:41.146Z"
   },
   {
    "duration": 48,
    "start_time": "2022-05-20T13:51:49.837Z"
   },
   {
    "duration": 32,
    "start_time": "2022-05-20T13:52:07.179Z"
   },
   {
    "duration": 60,
    "start_time": "2022-05-20T13:52:23.272Z"
   },
   {
    "duration": 50,
    "start_time": "2022-05-20T13:53:03.144Z"
   },
   {
    "duration": 24,
    "start_time": "2022-05-20T13:54:02.176Z"
   },
   {
    "duration": 3,
    "start_time": "2022-05-20T13:57:07.282Z"
   },
   {
    "duration": 32,
    "start_time": "2022-05-20T13:57:18.844Z"
   },
   {
    "duration": 3,
    "start_time": "2022-05-20T13:58:06.811Z"
   },
   {
    "duration": 20,
    "start_time": "2022-05-20T13:58:08.776Z"
   },
   {
    "duration": 52,
    "start_time": "2022-05-20T13:58:11.031Z"
   },
   {
    "duration": 17,
    "start_time": "2022-05-20T14:00:44.624Z"
   },
   {
    "duration": 11,
    "start_time": "2022-05-20T14:00:48.592Z"
   },
   {
    "duration": 393,
    "start_time": "2022-05-21T06:47:40.786Z"
   },
   {
    "duration": 255,
    "start_time": "2022-05-21T06:47:41.181Z"
   },
   {
    "duration": 8,
    "start_time": "2022-05-21T06:47:41.438Z"
   },
   {
    "duration": 69,
    "start_time": "2022-05-21T06:47:41.452Z"
   },
   {
    "duration": 28,
    "start_time": "2022-05-21T06:47:41.522Z"
   },
   {
    "duration": 37,
    "start_time": "2022-05-21T06:47:41.552Z"
   },
   {
    "duration": 50,
    "start_time": "2022-05-21T06:47:41.591Z"
   },
   {
    "duration": 72,
    "start_time": "2022-05-21T06:47:41.642Z"
   },
   {
    "duration": 136,
    "start_time": "2022-05-21T06:47:41.716Z"
   },
   {
    "duration": 0,
    "start_time": "2022-05-21T06:47:41.855Z"
   },
   {
    "duration": 0,
    "start_time": "2022-05-21T06:47:41.856Z"
   },
   {
    "duration": 0,
    "start_time": "2022-05-21T06:47:41.858Z"
   },
   {
    "duration": 0,
    "start_time": "2022-05-21T06:47:41.859Z"
   },
   {
    "duration": 0,
    "start_time": "2022-05-21T06:47:41.860Z"
   },
   {
    "duration": 0,
    "start_time": "2022-05-21T06:47:41.862Z"
   },
   {
    "duration": 0,
    "start_time": "2022-05-21T06:47:41.863Z"
   },
   {
    "duration": 0,
    "start_time": "2022-05-21T06:47:41.865Z"
   },
   {
    "duration": 0,
    "start_time": "2022-05-21T06:47:41.866Z"
   },
   {
    "duration": 0,
    "start_time": "2022-05-21T06:47:41.868Z"
   },
   {
    "duration": 0,
    "start_time": "2022-05-21T06:47:41.869Z"
   },
   {
    "duration": 0,
    "start_time": "2022-05-21T06:47:41.871Z"
   },
   {
    "duration": 0,
    "start_time": "2022-05-21T06:47:41.872Z"
   },
   {
    "duration": 0,
    "start_time": "2022-05-21T06:47:41.874Z"
   },
   {
    "duration": 0,
    "start_time": "2022-05-21T06:47:41.875Z"
   },
   {
    "duration": 0,
    "start_time": "2022-05-21T06:47:41.876Z"
   },
   {
    "duration": 0,
    "start_time": "2022-05-21T06:47:41.878Z"
   },
   {
    "duration": 0,
    "start_time": "2022-05-21T06:47:41.879Z"
   },
   {
    "duration": 0,
    "start_time": "2022-05-21T06:47:41.880Z"
   },
   {
    "duration": 0,
    "start_time": "2022-05-21T06:47:41.881Z"
   },
   {
    "duration": 0,
    "start_time": "2022-05-21T06:47:41.882Z"
   },
   {
    "duration": 0,
    "start_time": "2022-05-21T06:47:41.883Z"
   },
   {
    "duration": 0,
    "start_time": "2022-05-21T06:47:41.885Z"
   },
   {
    "duration": 0,
    "start_time": "2022-05-21T06:47:41.886Z"
   },
   {
    "duration": 1,
    "start_time": "2022-05-21T06:47:41.887Z"
   },
   {
    "duration": 0,
    "start_time": "2022-05-21T06:47:41.889Z"
   },
   {
    "duration": 0,
    "start_time": "2022-05-21T06:47:41.890Z"
   },
   {
    "duration": 0,
    "start_time": "2022-05-21T06:47:41.891Z"
   },
   {
    "duration": 0,
    "start_time": "2022-05-21T06:47:41.952Z"
   },
   {
    "duration": 22,
    "start_time": "2022-05-21T06:48:09.312Z"
   },
   {
    "duration": 77,
    "start_time": "2022-05-21T06:48:10.085Z"
   },
   {
    "duration": 77,
    "start_time": "2022-05-21T06:48:10.457Z"
   },
   {
    "duration": 63,
    "start_time": "2022-05-21T06:48:10.811Z"
   },
   {
    "duration": 38,
    "start_time": "2022-05-21T06:48:11.519Z"
   },
   {
    "duration": 5,
    "start_time": "2022-05-21T06:48:12.265Z"
   },
   {
    "duration": 22,
    "start_time": "2022-05-21T06:48:12.661Z"
   },
   {
    "duration": 7,
    "start_time": "2022-05-21T06:48:13.417Z"
   },
   {
    "duration": 10,
    "start_time": "2022-05-21T06:48:14.600Z"
   },
   {
    "duration": 11,
    "start_time": "2022-05-21T06:48:14.971Z"
   },
   {
    "duration": 5,
    "start_time": "2022-05-21T06:48:15.527Z"
   },
   {
    "duration": 486,
    "start_time": "2022-05-21T06:48:15.917Z"
   },
   {
    "duration": 0,
    "start_time": "2022-05-21T06:48:16.404Z"
   },
   {
    "duration": 0,
    "start_time": "2022-05-21T06:48:16.406Z"
   },
   {
    "duration": 492,
    "start_time": "2022-05-21T06:48:16.501Z"
   },
   {
    "duration": 0,
    "start_time": "2022-05-21T06:48:16.995Z"
   },
   {
    "duration": 0,
    "start_time": "2022-05-21T06:48:16.996Z"
   },
   {
    "duration": 634,
    "start_time": "2022-05-21T06:48:17.267Z"
   },
   {
    "duration": 434,
    "start_time": "2022-05-21T06:48:33.314Z"
   },
   {
    "duration": 163,
    "start_time": "2022-05-21T06:48:33.751Z"
   },
   {
    "duration": 8,
    "start_time": "2022-05-21T06:48:33.916Z"
   },
   {
    "duration": 54,
    "start_time": "2022-05-21T06:48:33.926Z"
   },
   {
    "duration": 23,
    "start_time": "2022-05-21T06:48:33.983Z"
   },
   {
    "duration": 38,
    "start_time": "2022-05-21T06:48:34.008Z"
   },
   {
    "duration": 38,
    "start_time": "2022-05-21T06:48:34.048Z"
   },
   {
    "duration": 43,
    "start_time": "2022-05-21T06:48:34.088Z"
   },
   {
    "duration": 312,
    "start_time": "2022-05-21T06:48:34.132Z"
   },
   {
    "duration": 22,
    "start_time": "2022-05-21T06:48:34.446Z"
   },
   {
    "duration": 80,
    "start_time": "2022-05-21T06:48:34.470Z"
   },
   {
    "duration": 75,
    "start_time": "2022-05-21T06:48:34.551Z"
   },
   {
    "duration": 76,
    "start_time": "2022-05-21T06:48:34.628Z"
   },
   {
    "duration": 46,
    "start_time": "2022-05-21T06:48:34.707Z"
   },
   {
    "duration": 15,
    "start_time": "2022-05-21T06:48:34.755Z"
   },
   {
    "duration": 53,
    "start_time": "2022-05-21T06:48:34.772Z"
   },
   {
    "duration": 54,
    "start_time": "2022-05-21T06:48:34.827Z"
   },
   {
    "duration": 122,
    "start_time": "2022-05-21T06:48:34.883Z"
   },
   {
    "duration": 56,
    "start_time": "2022-05-21T06:48:35.006Z"
   },
   {
    "duration": 46,
    "start_time": "2022-05-21T06:48:35.063Z"
   },
   {
    "duration": 85,
    "start_time": "2022-05-21T06:48:35.110Z"
   },
   {
    "duration": 44,
    "start_time": "2022-05-21T06:48:35.198Z"
   },
   {
    "duration": 98,
    "start_time": "2022-05-21T06:48:35.244Z"
   },
   {
    "duration": 48,
    "start_time": "2022-05-21T06:48:35.344Z"
   },
   {
    "duration": 89,
    "start_time": "2022-05-21T06:48:35.394Z"
   },
   {
    "duration": 57,
    "start_time": "2022-05-21T06:48:35.486Z"
   },
   {
    "duration": 102,
    "start_time": "2022-05-21T06:48:35.544Z"
   },
   {
    "duration": 12,
    "start_time": "2022-05-21T06:48:35.648Z"
   },
   {
    "duration": 71,
    "start_time": "2022-05-21T06:48:35.662Z"
   },
   {
    "duration": 37,
    "start_time": "2022-05-21T06:48:35.735Z"
   },
   {
    "duration": 72,
    "start_time": "2022-05-21T06:48:35.774Z"
   },
   {
    "duration": 164,
    "start_time": "2022-05-21T06:48:35.848Z"
   },
   {
    "duration": 69,
    "start_time": "2022-05-21T06:48:36.015Z"
   },
   {
    "duration": 28,
    "start_time": "2022-05-21T06:48:36.087Z"
   },
   {
    "duration": 36,
    "start_time": "2022-05-21T06:48:36.117Z"
   },
   {
    "duration": 40,
    "start_time": "2022-05-21T06:48:36.155Z"
   },
   {
    "duration": 29,
    "start_time": "2022-05-21T06:48:36.197Z"
   },
   {
    "duration": 81,
    "start_time": "2022-05-21T06:48:36.228Z"
   }
  ],
  "colab": {
   "collapsed_sections": [
    "E0vqbgi9ay0H",
    "VUC88oWjTJw2"
   ],
   "name": "yandex_music_project.ipynb",
   "provenance": []
  },
  "kernelspec": {
   "display_name": "Python 3 (ipykernel)",
   "language": "python",
   "name": "python3"
  },
  "language_info": {
   "codemirror_mode": {
    "name": "ipython",
    "version": 3
   },
   "file_extension": ".py",
   "mimetype": "text/x-python",
   "name": "python",
   "nbconvert_exporter": "python",
   "pygments_lexer": "ipython3",
   "version": "3.9.12"
  },
  "toc": {
   "base_numbering": 1,
   "nav_menu": {},
   "number_sections": true,
   "sideBar": true,
   "skip_h1_title": true,
   "title_cell": "Table of Contents",
   "title_sidebar": "Contents",
   "toc_cell": false,
   "toc_position": {
    "height": "calc(100% - 180px)",
    "left": "10px",
    "top": "150px",
    "width": "165px"
   },
   "toc_section_display": true,
   "toc_window_display": false
  }
 },
 "nbformat": 4,
 "nbformat_minor": 1
}
