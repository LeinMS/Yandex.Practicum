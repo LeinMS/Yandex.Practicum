{
 "cells": [
  {
   "cell_type": "markdown",
   "id": "60b41f70",
   "metadata": {},
   "source": [
    "# Project Description"
   ]
  },
  {
   "cell_type": "markdown",
   "id": "764452d2",
   "metadata": {},
   "source": [
    "We work in the online store \"Streamchik\" which sells computer games all over the world. Historical data on game sales user and expert ratings, genres and platforms (for example Xbox or PlayStation) are available from open sources. It is necessary to identify patterns that determine the success of the game. This will allow you to bet on a potentially popular product and plan advertising campaigns.\n",
    "\n",
    "Data is available up to 2016. Let's imagine that it's December 2016 and we are planning a campaign for 2017. We need to work out the principle of working with data. It doesn't matter whether you forecast sales for 2017 according to 2016 data or 2027 according to 2026 data.\n",
    "\n",
    "The data set contains the abbreviation ESRB (Entertainment Software Rating Board) an association that determines the age rating of computer games. ESRB evaluates game content and assigns it a suitable age category for example \"For adults\", \"For younger children\" or \"For teenagers\"."
   ]
  },
  {
   "cell_type": "markdown",
   "id": "3f92f03a",
   "metadata": {},
   "source": [
    "**Data Description**\n",
    "\n",
    "- `Name` - the name of the game\n",
    "- `Platform` - platform\n",
    "- `Year_of_Release` - year of release\n",
    "- `Genre` - game genre\n",
    "- `NA_sales` - sales in North America (millions of copies sold)\n",
    "- `EU_sales` - sales in Europe (millions of copies sold)\n",
    "-`JP_sales` - sales in Japan (millions of copies sold)\n",
    "- `Other_sales` - sales in other countries (millions of copies sold)\n",
    "- `Critic_Score` - Critics score (maximum 100)\n",
    "- `User_Score` - user score (maximum 10)\n",
    "- `Rating` - rating from the ESRB (Entertainment Software Rating Board). This association determines the rating of computer games and assigns them an appropriate age category.\n",
    "\n",
    "`Data for 2016 may not be complete."
   ]
  },
  {
   "cell_type": "markdown",
   "id": "e6eb8518",
   "metadata": {},
   "source": [
    "# Step 1. Data Overview"
   ]
  },
  {
   "cell_type": "code",
   "execution_count": 1,
   "id": "f2f2b65a",
   "metadata": {},
   "outputs": [],
   "source": [
    "# connection of libraries\n",
    "import pandas as pd\n",
    "import numpy as np\n",
    "import seaborn as sb\n",
    "import matplotlib.pyplot as plt\n",
    "from scipy import stats as st\n",
    "# pd.options.mode.chained_assignment = None\n",
    "from matplotlib.ticker import MaxNLocator"
   ]
  },
  {
   "cell_type": "code",
   "execution_count": 2,
   "id": "3a962079",
   "metadata": {},
   "outputs": [],
   "source": [
    "data = pd.read_csv('/datasets/games.csv')"
   ]
  },
  {
   "cell_type": "code",
   "execution_count": 3,
   "id": "c697ac87",
   "metadata": {},
   "outputs": [
    {
     "data": {
      "text/plain": [
       "Name                  2\n",
       "Platform              0\n",
       "Year_of_Release     269\n",
       "Genre                 2\n",
       "NA_sales              0\n",
       "EU_sales              0\n",
       "JP_sales              0\n",
       "Other_sales           0\n",
       "Critic_Score       8578\n",
       "User_Score         6701\n",
       "Rating             6766\n",
       "dtype: int64"
      ]
     },
     "execution_count": 3,
     "metadata": {},
     "output_type": "execute_result"
    }
   ],
   "source": [
    "# checking the number of missing values in a dataframe\n",
    "data.isna().sum()"
   ]
  },
  {
   "cell_type": "code",
   "execution_count": 4,
   "id": "e4804d62",
   "metadata": {},
   "outputs": [
    {
     "data": {
      "text/html": [
       "<style  type=\"text/css\" >\n",
       "#T_de615_row0_col0,#T_de615_row1_col0,#T_de615_row3_col0,#T_de615_row4_col0,#T_de615_row5_col0,#T_de615_row6_col0,#T_de615_row7_col0{\n",
       "            background-color:  #3b4cc0;\n",
       "            color:  #f1f1f1;\n",
       "        }#T_de615_row2_col0{\n",
       "            background-color:  #445acc;\n",
       "            color:  #f1f1f1;\n",
       "        }#T_de615_row8_col0{\n",
       "            background-color:  #b40426;\n",
       "            color:  #f1f1f1;\n",
       "        }#T_de615_row9_col0{\n",
       "            background-color:  #f18d6f;\n",
       "            color:  #000000;\n",
       "        }#T_de615_row10_col0{\n",
       "            background-color:  #f08a6c;\n",
       "            color:  #000000;\n",
       "        }</style><table id=\"T_de615_\" ><thead>    <tr>        <th class=\"blank level0\" ></th>        <th class=\"col_heading level0 col0\" >NaNs, %</th>    </tr></thead><tbody>\n",
       "                <tr>\n",
       "                        <th id=\"T_de615_level0_row0\" class=\"row_heading level0 row0\" >Name</th>\n",
       "                        <td id=\"T_de615_row0_col0\" class=\"data row0 col0\" >0.01</td>\n",
       "            </tr>\n",
       "            <tr>\n",
       "                        <th id=\"T_de615_level0_row1\" class=\"row_heading level0 row1\" >Platform</th>\n",
       "                        <td id=\"T_de615_row1_col0\" class=\"data row1 col0\" >0.00</td>\n",
       "            </tr>\n",
       "            <tr>\n",
       "                        <th id=\"T_de615_level0_row2\" class=\"row_heading level0 row2\" >Year_of_Release</th>\n",
       "                        <td id=\"T_de615_row2_col0\" class=\"data row2 col0\" >1.61</td>\n",
       "            </tr>\n",
       "            <tr>\n",
       "                        <th id=\"T_de615_level0_row3\" class=\"row_heading level0 row3\" >Genre</th>\n",
       "                        <td id=\"T_de615_row3_col0\" class=\"data row3 col0\" >0.01</td>\n",
       "            </tr>\n",
       "            <tr>\n",
       "                        <th id=\"T_de615_level0_row4\" class=\"row_heading level0 row4\" >NA_sales</th>\n",
       "                        <td id=\"T_de615_row4_col0\" class=\"data row4 col0\" >0.00</td>\n",
       "            </tr>\n",
       "            <tr>\n",
       "                        <th id=\"T_de615_level0_row5\" class=\"row_heading level0 row5\" >EU_sales</th>\n",
       "                        <td id=\"T_de615_row5_col0\" class=\"data row5 col0\" >0.00</td>\n",
       "            </tr>\n",
       "            <tr>\n",
       "                        <th id=\"T_de615_level0_row6\" class=\"row_heading level0 row6\" >JP_sales</th>\n",
       "                        <td id=\"T_de615_row6_col0\" class=\"data row6 col0\" >0.00</td>\n",
       "            </tr>\n",
       "            <tr>\n",
       "                        <th id=\"T_de615_level0_row7\" class=\"row_heading level0 row7\" >Other_sales</th>\n",
       "                        <td id=\"T_de615_row7_col0\" class=\"data row7 col0\" >0.00</td>\n",
       "            </tr>\n",
       "            <tr>\n",
       "                        <th id=\"T_de615_level0_row8\" class=\"row_heading level0 row8\" >Critic_Score</th>\n",
       "                        <td id=\"T_de615_row8_col0\" class=\"data row8 col0\" >51.32</td>\n",
       "            </tr>\n",
       "            <tr>\n",
       "                        <th id=\"T_de615_level0_row9\" class=\"row_heading level0 row9\" >User_Score</th>\n",
       "                        <td id=\"T_de615_row9_col0\" class=\"data row9 col0\" >40.09</td>\n",
       "            </tr>\n",
       "            <tr>\n",
       "                        <th id=\"T_de615_level0_row10\" class=\"row_heading level0 row10\" >Rating</th>\n",
       "                        <td id=\"T_de615_row10_col0\" class=\"data row10 col0\" >40.48</td>\n",
       "            </tr>\n",
       "    </tbody></table>"
      ],
      "text/plain": [
       "<pandas.io.formats.style.Styler at 0x7f0f507459a0>"
      ]
     },
     "metadata": {},
     "output_type": "display_data"
    }
   ],
   "source": [
    "# missigs visualization\n",
    "display(pd.DataFrame(round((data.isna().mean() * 100), 2), columns=['NaNs, %'])\n",
    "        .style.format('{:.2f}').background_gradient('coolwarm'))"
   ]
  },
  {
   "cell_type": "code",
   "execution_count": 5,
   "id": "649d0a99",
   "metadata": {
    "scrolled": true
   },
   "outputs": [
    {
     "name": "stdout",
     "output_type": "stream",
     "text": [
      "<class 'pandas.core.frame.DataFrame'>\n",
      "RangeIndex: 16715 entries, 0 to 16714\n",
      "Data columns (total 11 columns):\n",
      " #   Column           Non-Null Count  Dtype  \n",
      "---  ------           --------------  -----  \n",
      " 0   Name             16713 non-null  object \n",
      " 1   Platform         16715 non-null  object \n",
      " 2   Year_of_Release  16446 non-null  float64\n",
      " 3   Genre            16713 non-null  object \n",
      " 4   NA_sales         16715 non-null  float64\n",
      " 5   EU_sales         16715 non-null  float64\n",
      " 6   JP_sales         16715 non-null  float64\n",
      " 7   Other_sales      16715 non-null  float64\n",
      " 8   Critic_Score     8137 non-null   float64\n",
      " 9   User_Score       10014 non-null  object \n",
      " 10  Rating           9949 non-null   object \n",
      "dtypes: float64(6), object(5)\n",
      "memory usage: 1.4+ MB\n"
     ]
    }
   ],
   "source": [
    "data.info()"
   ]
  },
  {
   "cell_type": "markdown",
   "id": "089d4f41",
   "metadata": {},
   "source": [
    "- No duplicates found\n",
    "- in the column \"Year of Release\" change the data type to int  \n",
    "- Replace column names (bring to lower case)   \n",
    "- empty values in columns \"Critic_Score\" , \"User_Score\", \"Rating\""
   ]
  },
  {
   "cell_type": "markdown",
   "id": "271b12e4",
   "metadata": {},
   "source": [
    "# Step 2. Data Processing"
   ]
  },
  {
   "cell_type": "code",
   "execution_count": 6,
   "id": "fd635592",
   "metadata": {},
   "outputs": [],
   "source": [
    "# convert column names to lowercase\n",
    "data.columns = data.columns.str.lower()"
   ]
  },
  {
   "cell_type": "markdown",
   "id": "b1fe662f",
   "metadata": {},
   "source": [
    "Year_of_Release , Critic_Score , User_Score , Rating - don't change NaN's"
   ]
  },
  {
   "cell_type": "code",
   "execution_count": 7,
   "id": "68dfa0a2",
   "metadata": {},
   "outputs": [
    {
     "name": "stdout",
     "output_type": "stream",
     "text": [
      "0\n"
     ]
    },
    {
     "name": "stderr",
     "output_type": "stream",
     "text": [
      "/tmp/ipykernel_178/1422540032.py:7: SettingWithCopyWarning: \n",
      "A value is trying to be set on a copy of a slice from a DataFrame\n",
      "\n",
      "See the caveats in the documentation: https://pandas.pydata.org/pandas-docs/stable/user_guide/indexing.html#returning-a-view-versus-a-copy\n",
      "  data['year_of_release'][i] = data.loc[data['name'] == data['name'][i], 'year_of_release'].max()\n"
     ]
    }
   ],
   "source": [
    "# check for duplicates\n",
    "print(data.duplicated().sum())\n",
    "\n",
    "# creating a loop sets the NaN values of the \"year_of_release\" \n",
    "# column to the values of the same game but a different gaming platform\n",
    "for i in data.loc[data['year_of_release'].isna()].index:\n",
    "    data['year_of_release'][i] = data.loc[data['name'] == data['name'][i], 'year_of_release'].max()\n",
    "    \n",
    "\n",
    "# change data type from float to int in \"year_of_release\" column to save RAM\n",
    "data['year_of_release'] = data['year_of_release'].astype('Int64')\n",
    "\n",
    "# creating a loop to lowercase\n",
    "for i in data[['name','platform','genre']]:\n",
    "    data[i] = data[i].str.lower()\n",
    "    \n",
    "# it was found out that \"tbd\" in the \"User_Score\" column means \"to be done\".\n",
    "# the data was not filled in on purpose. Fill it with NaNs.\n",
    "data.loc[data['user_score'] == 'tbd','user_score'] = np.nan\n",
    "\n",
    "# change data type to float\n",
    "data['user_score'] = data['user_score'].astype(float)\n",
    "\n",
    "# replacing missing values with a new rating category\n",
    "data['rating'] = data['rating'].fillna('without rating')"
   ]
  },
  {
   "cell_type": "markdown",
   "id": "8ae0bb07",
   "metadata": {},
   "source": [
    "- The missings in the columns year_of_release , critic_score , user_score , rating will be left blank. Filling them out can distort the statistics.\n",
    "\n",
    "- There are few gaps in the \"name\" and \"genre\" columns, so it was decided to leave them. They will not greatly affect further research.\n",
    "\n",
    "Calculate the total sales in all regions and write them in a separate column"
   ]
  },
  {
   "cell_type": "code",
   "execution_count": 8,
   "id": "16929a18",
   "metadata": {},
   "outputs": [
    {
     "data": {
      "text/html": [
       "<div>\n",
       "<style scoped>\n",
       "    .dataframe tbody tr th:only-of-type {\n",
       "        vertical-align: middle;\n",
       "    }\n",
       "\n",
       "    .dataframe tbody tr th {\n",
       "        vertical-align: top;\n",
       "    }\n",
       "\n",
       "    .dataframe thead th {\n",
       "        text-align: right;\n",
       "    }\n",
       "</style>\n",
       "<table border=\"1\" class=\"dataframe\">\n",
       "  <thead>\n",
       "    <tr style=\"text-align: right;\">\n",
       "      <th></th>\n",
       "      <th>name</th>\n",
       "      <th>platform</th>\n",
       "      <th>year_of_release</th>\n",
       "      <th>genre</th>\n",
       "      <th>na_sales</th>\n",
       "      <th>eu_sales</th>\n",
       "      <th>jp_sales</th>\n",
       "      <th>other_sales</th>\n",
       "      <th>critic_score</th>\n",
       "      <th>user_score</th>\n",
       "      <th>rating</th>\n",
       "      <th>sum_sales</th>\n",
       "    </tr>\n",
       "  </thead>\n",
       "  <tbody>\n",
       "    <tr>\n",
       "      <th>0</th>\n",
       "      <td>wii sports</td>\n",
       "      <td>wii</td>\n",
       "      <td>2006</td>\n",
       "      <td>sports</td>\n",
       "      <td>41.36</td>\n",
       "      <td>28.96</td>\n",
       "      <td>3.77</td>\n",
       "      <td>8.45</td>\n",
       "      <td>76.0</td>\n",
       "      <td>8.0</td>\n",
       "      <td>E</td>\n",
       "      <td>82.54</td>\n",
       "    </tr>\n",
       "    <tr>\n",
       "      <th>1</th>\n",
       "      <td>super mario bros.</td>\n",
       "      <td>nes</td>\n",
       "      <td>1985</td>\n",
       "      <td>platform</td>\n",
       "      <td>29.08</td>\n",
       "      <td>3.58</td>\n",
       "      <td>6.81</td>\n",
       "      <td>0.77</td>\n",
       "      <td>NaN</td>\n",
       "      <td>NaN</td>\n",
       "      <td>without rating</td>\n",
       "      <td>40.24</td>\n",
       "    </tr>\n",
       "    <tr>\n",
       "      <th>2</th>\n",
       "      <td>mario kart wii</td>\n",
       "      <td>wii</td>\n",
       "      <td>2008</td>\n",
       "      <td>racing</td>\n",
       "      <td>15.68</td>\n",
       "      <td>12.76</td>\n",
       "      <td>3.79</td>\n",
       "      <td>3.29</td>\n",
       "      <td>82.0</td>\n",
       "      <td>8.3</td>\n",
       "      <td>E</td>\n",
       "      <td>35.52</td>\n",
       "    </tr>\n",
       "    <tr>\n",
       "      <th>3</th>\n",
       "      <td>wii sports resort</td>\n",
       "      <td>wii</td>\n",
       "      <td>2009</td>\n",
       "      <td>sports</td>\n",
       "      <td>15.61</td>\n",
       "      <td>10.93</td>\n",
       "      <td>3.28</td>\n",
       "      <td>2.95</td>\n",
       "      <td>80.0</td>\n",
       "      <td>8.0</td>\n",
       "      <td>E</td>\n",
       "      <td>32.77</td>\n",
       "    </tr>\n",
       "    <tr>\n",
       "      <th>4</th>\n",
       "      <td>pokemon red/pokemon blue</td>\n",
       "      <td>gb</td>\n",
       "      <td>1996</td>\n",
       "      <td>role-playing</td>\n",
       "      <td>11.27</td>\n",
       "      <td>8.89</td>\n",
       "      <td>10.22</td>\n",
       "      <td>1.00</td>\n",
       "      <td>NaN</td>\n",
       "      <td>NaN</td>\n",
       "      <td>without rating</td>\n",
       "      <td>31.38</td>\n",
       "    </tr>\n",
       "    <tr>\n",
       "      <th>...</th>\n",
       "      <td>...</td>\n",
       "      <td>...</td>\n",
       "      <td>...</td>\n",
       "      <td>...</td>\n",
       "      <td>...</td>\n",
       "      <td>...</td>\n",
       "      <td>...</td>\n",
       "      <td>...</td>\n",
       "      <td>...</td>\n",
       "      <td>...</td>\n",
       "      <td>...</td>\n",
       "      <td>...</td>\n",
       "    </tr>\n",
       "    <tr>\n",
       "      <th>16710</th>\n",
       "      <td>samurai warriors: sanada maru</td>\n",
       "      <td>ps3</td>\n",
       "      <td>2016</td>\n",
       "      <td>action</td>\n",
       "      <td>0.00</td>\n",
       "      <td>0.00</td>\n",
       "      <td>0.01</td>\n",
       "      <td>0.00</td>\n",
       "      <td>NaN</td>\n",
       "      <td>NaN</td>\n",
       "      <td>without rating</td>\n",
       "      <td>0.01</td>\n",
       "    </tr>\n",
       "    <tr>\n",
       "      <th>16711</th>\n",
       "      <td>lma manager 2007</td>\n",
       "      <td>x360</td>\n",
       "      <td>2006</td>\n",
       "      <td>sports</td>\n",
       "      <td>0.00</td>\n",
       "      <td>0.01</td>\n",
       "      <td>0.00</td>\n",
       "      <td>0.00</td>\n",
       "      <td>NaN</td>\n",
       "      <td>NaN</td>\n",
       "      <td>without rating</td>\n",
       "      <td>0.01</td>\n",
       "    </tr>\n",
       "    <tr>\n",
       "      <th>16712</th>\n",
       "      <td>haitaka no psychedelica</td>\n",
       "      <td>psv</td>\n",
       "      <td>2016</td>\n",
       "      <td>adventure</td>\n",
       "      <td>0.00</td>\n",
       "      <td>0.00</td>\n",
       "      <td>0.01</td>\n",
       "      <td>0.00</td>\n",
       "      <td>NaN</td>\n",
       "      <td>NaN</td>\n",
       "      <td>without rating</td>\n",
       "      <td>0.01</td>\n",
       "    </tr>\n",
       "    <tr>\n",
       "      <th>16713</th>\n",
       "      <td>spirits &amp; spells</td>\n",
       "      <td>gba</td>\n",
       "      <td>2003</td>\n",
       "      <td>platform</td>\n",
       "      <td>0.01</td>\n",
       "      <td>0.00</td>\n",
       "      <td>0.00</td>\n",
       "      <td>0.00</td>\n",
       "      <td>NaN</td>\n",
       "      <td>NaN</td>\n",
       "      <td>without rating</td>\n",
       "      <td>0.01</td>\n",
       "    </tr>\n",
       "    <tr>\n",
       "      <th>16714</th>\n",
       "      <td>winning post 8 2016</td>\n",
       "      <td>psv</td>\n",
       "      <td>2016</td>\n",
       "      <td>simulation</td>\n",
       "      <td>0.00</td>\n",
       "      <td>0.00</td>\n",
       "      <td>0.01</td>\n",
       "      <td>0.00</td>\n",
       "      <td>NaN</td>\n",
       "      <td>NaN</td>\n",
       "      <td>without rating</td>\n",
       "      <td>0.01</td>\n",
       "    </tr>\n",
       "  </tbody>\n",
       "</table>\n",
       "<p>16715 rows × 12 columns</p>\n",
       "</div>"
      ],
      "text/plain": [
       "                                name platform  year_of_release         genre  \\\n",
       "0                         wii sports      wii             2006        sports   \n",
       "1                  super mario bros.      nes             1985      platform   \n",
       "2                     mario kart wii      wii             2008        racing   \n",
       "3                  wii sports resort      wii             2009        sports   \n",
       "4           pokemon red/pokemon blue       gb             1996  role-playing   \n",
       "...                              ...      ...              ...           ...   \n",
       "16710  samurai warriors: sanada maru      ps3             2016        action   \n",
       "16711               lma manager 2007     x360             2006        sports   \n",
       "16712        haitaka no psychedelica      psv             2016     adventure   \n",
       "16713               spirits & spells      gba             2003      platform   \n",
       "16714            winning post 8 2016      psv             2016    simulation   \n",
       "\n",
       "       na_sales  eu_sales  jp_sales  other_sales  critic_score  user_score  \\\n",
       "0         41.36     28.96      3.77         8.45          76.0         8.0   \n",
       "1         29.08      3.58      6.81         0.77           NaN         NaN   \n",
       "2         15.68     12.76      3.79         3.29          82.0         8.3   \n",
       "3         15.61     10.93      3.28         2.95          80.0         8.0   \n",
       "4         11.27      8.89     10.22         1.00           NaN         NaN   \n",
       "...         ...       ...       ...          ...           ...         ...   \n",
       "16710      0.00      0.00      0.01         0.00           NaN         NaN   \n",
       "16711      0.00      0.01      0.00         0.00           NaN         NaN   \n",
       "16712      0.00      0.00      0.01         0.00           NaN         NaN   \n",
       "16713      0.01      0.00      0.00         0.00           NaN         NaN   \n",
       "16714      0.00      0.00      0.01         0.00           NaN         NaN   \n",
       "\n",
       "               rating  sum_sales  \n",
       "0                   E      82.54  \n",
       "1      without rating      40.24  \n",
       "2                   E      35.52  \n",
       "3                   E      32.77  \n",
       "4      without rating      31.38  \n",
       "...               ...        ...  \n",
       "16710  without rating       0.01  \n",
       "16711  without rating       0.01  \n",
       "16712  without rating       0.01  \n",
       "16713  without rating       0.01  \n",
       "16714  without rating       0.01  \n",
       "\n",
       "[16715 rows x 12 columns]"
      ]
     },
     "metadata": {},
     "output_type": "display_data"
    }
   ],
   "source": [
    "# Creating a new column total_sales\n",
    "data['sum_sales'] = data['na_sales'] + data['eu_sales'] + data['jp_sales'] + data['other_sales']\n",
    "display(data)"
   ]
  },
  {
   "cell_type": "markdown",
   "id": "fa30b90f",
   "metadata": {},
   "source": [
    "**Conclusion on data preparation:**\n",
    "\n",
    "- It is necessary to cast the column to the correct type : `\"Year of Release\"`\n",
    "- Also need to lowercase the columns of our table as well as the names of the columns themselves\n",
    "- There are empty values in the `\"rating\"`, `\"user_score\"`, `\"critic_score\"` columns.\n",
    "- Replace the existing empty values in the table: `\"year of release\"` with years from the same game only on a different platform in other cases we will decide in the preprocessing process\n",
    "- There are no duplicates"
   ]
  },
  {
   "cell_type": "markdown",
   "id": "446a552a",
   "metadata": {},
   "source": [
    "# Step 3. Research data analysis"
   ]
  },
  {
   "cell_type": "markdown",
   "id": "4f076d5c",
   "metadata": {},
   "source": [
    "### How many games were released in different years?\n",
    "### Is the data for all periods important?"
   ]
  },
  {
   "cell_type": "markdown",
   "id": "0a7f83a3",
   "metadata": {},
   "source": [
    "- It can be seen from the chart that the number of games on game consoles and computers began to grow at a high rate from the 90s to 2008.\n",
    "- Since 2008 after the mass creation of mobile applications and mobile games a sharp decline in console games is visible."
   ]
  },
  {
   "cell_type": "code",
   "execution_count": 9,
   "id": "ac2cc33a",
   "metadata": {},
   "outputs": [
    {
     "data": {
      "text/plain": [
       "Text(0.5, 1.0, 'Number_of_games_by_year')"
      ]
     },
     "execution_count": 9,
     "metadata": {},
     "output_type": "execute_result"
    },
    {
     "data": {
      "image/png": "[encoded data removed]",
      "text/plain": [
       "<Figure size 864x432 with 1 Axes>"
      ]
     },
     "metadata": {
      "needs_background": "light"
     },
     "output_type": "display_data"
    }
   ],
   "source": [
    "# creating a pivot table with games by year\n",
    "games_by_years = data.pivot_table(index='year_of_release',values='name',aggfunc='count')\\\n",
    "                     .reset_index()\n",
    "#print(games_by_years)\n",
    "games_by_years = games_by_years.rename(columns={'name':'games_count','year_of_release':'year'})\n",
    "plt.figure(figsize=(12,6))\n",
    "ax = sb.barplot(data=games_by_years,y='games_count',x='year')\n",
    "ax.set_xticklabels(ax.get_xticklabels(),rotation = 90)\n",
    "ax.grid(alpha = 0.25)\n",
    "plt.title(\"Number_of_games_by_year\")"
   ]
  },
  {
   "cell_type": "markdown",
   "id": "2375ef27",
   "metadata": {},
   "source": [
    "### How did sales change by platform?\n",
    "Select the platforms with the highest total sales and plot the distribution by year.\n",
    "\n",
    "### How long does it take for new platforms to appear and old ones to disappear?"
   ]
  },
  {
   "cell_type": "code",
   "execution_count": 10,
   "id": "31e6816a",
   "metadata": {},
   "outputs": [
    {
     "name": "stdout",
     "output_type": "stream",
     "text": [
      "   platform  sum_sales\n",
      "16      ps2    1255.77\n",
      "28     x360     971.42\n",
      "17      ps3     939.65\n",
      "25      wii     907.51\n",
      "4        ds     806.12\n",
      "15       ps     730.86\n"
     ]
    },
    {
     "data": {
      "text/plain": [
       "Text(0.5, 1.0, 'Sales by gaming platforms')"
      ]
     },
     "execution_count": 10,
     "metadata": {},
     "output_type": "execute_result"
    },
    {
     "data": {
      "image/png": "[encoded data removed]",
      "text/plain": [
       "<Figure size 864x432 with 1 Axes>"
      ]
     },
     "metadata": {
      "needs_background": "light"
     },
     "output_type": "display_data"
    }
   ],
   "source": [
    "platform_sales = data.pivot_table(index='platform',values=['sum_sales'],aggfunc='sum').reset_index().sort_values(by='sum_sales',ascending=False)\n",
    "best_platform_sales = platform_sales.loc[platform_sales['sum_sales'] >= 650]\n",
    "#print(platform_sales)\n",
    "print(best_platform_sales)\n",
    "plt.figure(figsize=(12,6))\n",
    "ax = sb.barplot(data=platform_sales,y='sum_sales',x='platform')\n",
    "ax.set_xticklabels(ax.get_xticklabels(),rotation = 90)\n",
    "ax.grid(alpha = 0.25)\n",
    "plt.title(\"Sales by gaming platforms\")\n"
   ]
  },
  {
   "cell_type": "code",
   "execution_count": 11,
   "id": "1a484c1a",
   "metadata": {},
   "outputs": [],
   "source": [
    "# выдяляю три необходимых столбца в один датафрейм\n",
    "dat = data[['year_of_release','platform','sum_sales']]\n",
    "# создаю таблицу с данными продаж игр по годам\n",
    "d = dat.pivot_table(index='year_of_release',columns='platform',values='sum_sales',aggfunc='sum')\n",
    "d = d[['ps2','x360','ps3','wii','ds','ps']].reset_index()\n",
    "# тут берем все года, где были приставки, чтобы увидеть полную картуну (1994-2016)\n",
    "d = d.loc[d['year_of_release'] > 1994]\n",
    "d = d.reset_index()\n",
    "d.set_index('year_of_release', inplace=True)\n",
    "# display(d)"
   ]
  },
  {
   "cell_type": "code",
   "execution_count": 12,
   "id": "e424d582",
   "metadata": {},
   "outputs": [
    {
     "data": {
      "image/png": "[encoded data removed]",
      "text/plain": [
       "<Figure size 864x432 with 1 Axes>"
      ]
     },
     "metadata": {
      "needs_background": "light"
     },
     "output_type": "display_data"
    }
   ],
   "source": [
    "# all gaming platforms and their behavior over the past 10 years\n",
    "plt.figure(figsize=(12,6))\n",
    "plt.title('Number of sales of popular gaming platforms')\n",
    "plt.xlabel('Years of game releases')\n",
    "plt.ylabel('Sales')\n",
    "\n",
    "for i in d[['ps2','x360','ps3','wii','ds','ps']]:\n",
    "    sb.lineplot(data=d[i],label=i)\n",
    "    plt.legend()"
   ]
  },
  {
   "cell_type": "markdown",
   "id": "8a1bdbaa",
   "metadata": {},
   "source": [
    "**Conclusion:**\n",
    "\n",
    "- Almost all gaming platforms exist on average for 10 years;\n",
    "- Top sellers are Sony Play Station and XBOX;\n",
    "- The peak comes about 5 years after the release of the console;\n",
    "- Nintento WII had a quick jump in 2009 and a similarly sharp dip."
   ]
  },
  {
   "cell_type": "markdown",
   "id": "87331273",
   "metadata": {},
   "source": [
    "### Take the data for the corresponding actual period.\n",
    "- Determine the current period yourself as a result of the study of previous questions.\n",
    "- The main factor - these data will help build a forecast for 2017."
   ]
  },
  {
   "cell_type": "code",
   "execution_count": 13,
   "id": "2ce3703a",
   "metadata": {},
   "outputs": [
    {
     "data": {
      "text/html": [
       "<div>\n",
       "<style scoped>\n",
       "    .dataframe tbody tr th:only-of-type {\n",
       "        vertical-align: middle;\n",
       "    }\n",
       "\n",
       "    .dataframe tbody tr th {\n",
       "        vertical-align: top;\n",
       "    }\n",
       "\n",
       "    .dataframe thead th {\n",
       "        text-align: right;\n",
       "    }\n",
       "</style>\n",
       "<table border=\"1\" class=\"dataframe\">\n",
       "  <thead>\n",
       "    <tr style=\"text-align: right;\">\n",
       "      <th></th>\n",
       "      <th>platform</th>\n",
       "      <th>sum_sales</th>\n",
       "    </tr>\n",
       "  </thead>\n",
       "  <tbody>\n",
       "    <tr>\n",
       "      <th>3</th>\n",
       "      <td>ps4</td>\n",
       "      <td>288.15</td>\n",
       "    </tr>\n",
       "    <tr>\n",
       "      <th>9</th>\n",
       "      <td>xone</td>\n",
       "      <td>140.36</td>\n",
       "    </tr>\n",
       "    <tr>\n",
       "      <th>0</th>\n",
       "      <td>3ds</td>\n",
       "      <td>86.68</td>\n",
       "    </tr>\n",
       "    <tr>\n",
       "      <th>2</th>\n",
       "      <td>ps3</td>\n",
       "      <td>68.18</td>\n",
       "    </tr>\n",
       "    <tr>\n",
       "      <th>8</th>\n",
       "      <td>x360</td>\n",
       "      <td>48.22</td>\n",
       "    </tr>\n",
       "    <tr>\n",
       "      <th>7</th>\n",
       "      <td>wiiu</td>\n",
       "      <td>42.98</td>\n",
       "    </tr>\n",
       "    <tr>\n",
       "      <th>1</th>\n",
       "      <td>pc</td>\n",
       "      <td>27.40</td>\n",
       "    </tr>\n",
       "    <tr>\n",
       "      <th>5</th>\n",
       "      <td>psv</td>\n",
       "      <td>22.40</td>\n",
       "    </tr>\n",
       "    <tr>\n",
       "      <th>6</th>\n",
       "      <td>wii</td>\n",
       "      <td>5.07</td>\n",
       "    </tr>\n",
       "    <tr>\n",
       "      <th>4</th>\n",
       "      <td>psp</td>\n",
       "      <td>0.36</td>\n",
       "    </tr>\n",
       "  </tbody>\n",
       "</table>\n",
       "</div>"
      ],
      "text/plain": [
       "  platform  sum_sales\n",
       "3      ps4     288.15\n",
       "9     xone     140.36\n",
       "0      3ds      86.68\n",
       "2      ps3      68.18\n",
       "8     x360      48.22\n",
       "7     wiiu      42.98\n",
       "1       pc      27.40\n",
       "5      psv      22.40\n",
       "6      wii       5.07\n",
       "4      psp       0.36"
      ]
     },
     "metadata": {},
     "output_type": "display_data"
    },
    {
     "data": {
      "text/html": [
       "<div>\n",
       "<style scoped>\n",
       "    .dataframe tbody tr th:only-of-type {\n",
       "        vertical-align: middle;\n",
       "    }\n",
       "\n",
       "    .dataframe tbody tr th {\n",
       "        vertical-align: top;\n",
       "    }\n",
       "\n",
       "    .dataframe thead th {\n",
       "        text-align: right;\n",
       "    }\n",
       "</style>\n",
       "<table border=\"1\" class=\"dataframe\">\n",
       "  <thead>\n",
       "    <tr style=\"text-align: right;\">\n",
       "      <th></th>\n",
       "      <th>index</th>\n",
       "      <th>name</th>\n",
       "      <th>platform</th>\n",
       "      <th>year_of_release</th>\n",
       "      <th>genre</th>\n",
       "      <th>na_sales</th>\n",
       "      <th>eu_sales</th>\n",
       "      <th>jp_sales</th>\n",
       "      <th>other_sales</th>\n",
       "      <th>critic_score</th>\n",
       "      <th>user_score</th>\n",
       "      <th>rating</th>\n",
       "      <th>sum_sales</th>\n",
       "    </tr>\n",
       "  </thead>\n",
       "  <tbody>\n",
       "    <tr>\n",
       "      <th>0</th>\n",
       "      <td>31</td>\n",
       "      <td>call of duty: black ops 3</td>\n",
       "      <td>ps4</td>\n",
       "      <td>2015</td>\n",
       "      <td>shooter</td>\n",
       "      <td>6.03</td>\n",
       "      <td>5.86</td>\n",
       "      <td>0.36</td>\n",
       "      <td>2.38</td>\n",
       "      <td>NaN</td>\n",
       "      <td>NaN</td>\n",
       "      <td>without rating</td>\n",
       "      <td>14.63</td>\n",
       "    </tr>\n",
       "    <tr>\n",
       "      <th>1</th>\n",
       "      <td>42</td>\n",
       "      <td>grand theft auto v</td>\n",
       "      <td>ps4</td>\n",
       "      <td>2014</td>\n",
       "      <td>action</td>\n",
       "      <td>3.96</td>\n",
       "      <td>6.31</td>\n",
       "      <td>0.38</td>\n",
       "      <td>1.97</td>\n",
       "      <td>97.0</td>\n",
       "      <td>8.3</td>\n",
       "      <td>M</td>\n",
       "      <td>12.62</td>\n",
       "    </tr>\n",
       "    <tr>\n",
       "      <th>2</th>\n",
       "      <td>47</td>\n",
       "      <td>pokemon omega ruby/pokemon alpha sapphire</td>\n",
       "      <td>3ds</td>\n",
       "      <td>2014</td>\n",
       "      <td>role-playing</td>\n",
       "      <td>4.35</td>\n",
       "      <td>3.49</td>\n",
       "      <td>3.10</td>\n",
       "      <td>0.74</td>\n",
       "      <td>NaN</td>\n",
       "      <td>NaN</td>\n",
       "      <td>without rating</td>\n",
       "      <td>11.68</td>\n",
       "    </tr>\n",
       "    <tr>\n",
       "      <th>3</th>\n",
       "      <td>77</td>\n",
       "      <td>fifa 16</td>\n",
       "      <td>ps4</td>\n",
       "      <td>2015</td>\n",
       "      <td>sports</td>\n",
       "      <td>1.12</td>\n",
       "      <td>6.12</td>\n",
       "      <td>0.06</td>\n",
       "      <td>1.28</td>\n",
       "      <td>82.0</td>\n",
       "      <td>4.3</td>\n",
       "      <td>E</td>\n",
       "      <td>8.58</td>\n",
       "    </tr>\n",
       "    <tr>\n",
       "      <th>4</th>\n",
       "      <td>87</td>\n",
       "      <td>star wars battlefront (2015)</td>\n",
       "      <td>ps4</td>\n",
       "      <td>2015</td>\n",
       "      <td>shooter</td>\n",
       "      <td>2.99</td>\n",
       "      <td>3.49</td>\n",
       "      <td>0.22</td>\n",
       "      <td>1.28</td>\n",
       "      <td>NaN</td>\n",
       "      <td>NaN</td>\n",
       "      <td>without rating</td>\n",
       "      <td>7.98</td>\n",
       "    </tr>\n",
       "    <tr>\n",
       "      <th>...</th>\n",
       "      <td>...</td>\n",
       "      <td>...</td>\n",
       "      <td>...</td>\n",
       "      <td>...</td>\n",
       "      <td>...</td>\n",
       "      <td>...</td>\n",
       "      <td>...</td>\n",
       "      <td>...</td>\n",
       "      <td>...</td>\n",
       "      <td>...</td>\n",
       "      <td>...</td>\n",
       "      <td>...</td>\n",
       "      <td>...</td>\n",
       "    </tr>\n",
       "    <tr>\n",
       "      <th>1141</th>\n",
       "      <td>16672</td>\n",
       "      <td>metal gear solid v: the definitive experience</td>\n",
       "      <td>xone</td>\n",
       "      <td>2016</td>\n",
       "      <td>action</td>\n",
       "      <td>0.01</td>\n",
       "      <td>0.00</td>\n",
       "      <td>0.00</td>\n",
       "      <td>0.00</td>\n",
       "      <td>NaN</td>\n",
       "      <td>NaN</td>\n",
       "      <td>M</td>\n",
       "      <td>0.01</td>\n",
       "    </tr>\n",
       "    <tr>\n",
       "      <th>1142</th>\n",
       "      <td>16674</td>\n",
       "      <td>tsukigime ranko's longest day</td>\n",
       "      <td>ps3</td>\n",
       "      <td>2014</td>\n",
       "      <td>action</td>\n",
       "      <td>0.00</td>\n",
       "      <td>0.01</td>\n",
       "      <td>0.00</td>\n",
       "      <td>0.00</td>\n",
       "      <td>NaN</td>\n",
       "      <td>NaN</td>\n",
       "      <td>without rating</td>\n",
       "      <td>0.01</td>\n",
       "    </tr>\n",
       "    <tr>\n",
       "      <th>1143</th>\n",
       "      <td>16677</td>\n",
       "      <td>aikatsu stars! my special appeal</td>\n",
       "      <td>3ds</td>\n",
       "      <td>2016</td>\n",
       "      <td>action</td>\n",
       "      <td>0.00</td>\n",
       "      <td>0.00</td>\n",
       "      <td>0.01</td>\n",
       "      <td>0.00</td>\n",
       "      <td>NaN</td>\n",
       "      <td>NaN</td>\n",
       "      <td>without rating</td>\n",
       "      <td>0.01</td>\n",
       "    </tr>\n",
       "    <tr>\n",
       "      <th>1144</th>\n",
       "      <td>16691</td>\n",
       "      <td>dynasty warriors: eiketsuden</td>\n",
       "      <td>ps3</td>\n",
       "      <td>2016</td>\n",
       "      <td>action</td>\n",
       "      <td>0.00</td>\n",
       "      <td>0.00</td>\n",
       "      <td>0.01</td>\n",
       "      <td>0.00</td>\n",
       "      <td>NaN</td>\n",
       "      <td>NaN</td>\n",
       "      <td>without rating</td>\n",
       "      <td>0.01</td>\n",
       "    </tr>\n",
       "    <tr>\n",
       "      <th>1145</th>\n",
       "      <td>16710</td>\n",
       "      <td>samurai warriors: sanada maru</td>\n",
       "      <td>ps3</td>\n",
       "      <td>2016</td>\n",
       "      <td>action</td>\n",
       "      <td>0.00</td>\n",
       "      <td>0.00</td>\n",
       "      <td>0.01</td>\n",
       "      <td>0.00</td>\n",
       "      <td>NaN</td>\n",
       "      <td>NaN</td>\n",
       "      <td>without rating</td>\n",
       "      <td>0.01</td>\n",
       "    </tr>\n",
       "  </tbody>\n",
       "</table>\n",
       "<p>1146 rows × 13 columns</p>\n",
       "</div>"
      ],
      "text/plain": [
       "      index                                           name platform  \\\n",
       "0        31                      call of duty: black ops 3      ps4   \n",
       "1        42                             grand theft auto v      ps4   \n",
       "2        47      pokemon omega ruby/pokemon alpha sapphire      3ds   \n",
       "3        77                                        fifa 16      ps4   \n",
       "4        87                   star wars battlefront (2015)      ps4   \n",
       "...     ...                                            ...      ...   \n",
       "1141  16672  metal gear solid v: the definitive experience     xone   \n",
       "1142  16674                  tsukigime ranko's longest day      ps3   \n",
       "1143  16677               aikatsu stars! my special appeal      3ds   \n",
       "1144  16691                   dynasty warriors: eiketsuden      ps3   \n",
       "1145  16710                  samurai warriors: sanada maru      ps3   \n",
       "\n",
       "      year_of_release         genre  na_sales  eu_sales  jp_sales  \\\n",
       "0                2015       shooter      6.03      5.86      0.36   \n",
       "1                2014        action      3.96      6.31      0.38   \n",
       "2                2014  role-playing      4.35      3.49      3.10   \n",
       "3                2015        sports      1.12      6.12      0.06   \n",
       "4                2015       shooter      2.99      3.49      0.22   \n",
       "...               ...           ...       ...       ...       ...   \n",
       "1141             2016        action      0.01      0.00      0.00   \n",
       "1142             2014        action      0.00      0.01      0.00   \n",
       "1143             2016        action      0.00      0.00      0.01   \n",
       "1144             2016        action      0.00      0.00      0.01   \n",
       "1145             2016        action      0.00      0.00      0.01   \n",
       "\n",
       "      other_sales  critic_score  user_score          rating  sum_sales  \n",
       "0            2.38           NaN         NaN  without rating      14.63  \n",
       "1            1.97          97.0         8.3               M      12.62  \n",
       "2            0.74           NaN         NaN  without rating      11.68  \n",
       "3            1.28          82.0         4.3               E       8.58  \n",
       "4            1.28           NaN         NaN  without rating       7.98  \n",
       "...           ...           ...         ...             ...        ...  \n",
       "1141         0.00           NaN         NaN               M       0.01  \n",
       "1142         0.00           NaN         NaN  without rating       0.01  \n",
       "1143         0.00           NaN         NaN  without rating       0.01  \n",
       "1144         0.00           NaN         NaN  without rating       0.01  \n",
       "1145         0.00           NaN         NaN  without rating       0.01  \n",
       "\n",
       "[1146 rows x 13 columns]"
      ]
     },
     "metadata": {},
     "output_type": "display_data"
    }
   ],
   "source": [
    "# creating a table with a slice of data by dates (2014 - 2016)\n",
    "slicee =  data.query('year_of_release >= 2014 and year_of_release <= 2016')\n",
    "# slicee = data[((data['year_of_release'] >= 2014) & (data['year_of_release'] <= 2016))]\n",
    "\n",
    "# 5 best gaming platform selection [\"xone\",\"3ds\",\"ps4\",\"ps3\",\"x360\"]\n",
    "platform1 = slicee.pivot_table(index='platform',values=['sum_sales'],aggfunc='sum').reset_index().sort_values(by='sum_sales',ascending=False)\n",
    "display(platform1)\n",
    "\n",
    "# new slice on the best platforms\n",
    "slicee =  data.query('(platform == [\"ps4\",\"xone\",\"3ds\",\"ps3\",\"x360\"]) and ((year_of_release >= 2014) and (year_of_release <= 2016))')\n",
    "slicee = slicee.reset_index()\n",
    "display(slicee)     "
   ]
  },
  {
   "cell_type": "code",
   "execution_count": 14,
   "id": "f88fb56c",
   "metadata": {},
   "outputs": [
    {
     "name": "stdout",
     "output_type": "stream",
     "text": [
      "  platform  sum_sales\n",
      "0      ps4     288.15\n",
      "1     xone     140.36\n",
      "2      3ds      86.68\n",
      "3      ps3      68.18\n",
      "4     x360      48.22\n"
     ]
    },
    {
     "data": {
      "image/png": "[encoded data removed]",
      "text/plain": [
       "<Figure size 864x432 with 1 Axes>"
      ]
     },
     "metadata": {
      "needs_background": "light"
     },
     "output_type": "display_data"
    }
   ],
   "source": [
    "# return desired pivot table and display data since 2005\n",
    "\n",
    "def year_total_sale_for_platform(name, data):\n",
    "    slicee = data[(data['platform']== i) & (data['year_of_release'] >= 2014) & (data['year_of_release'] <= 2016)]\n",
    "    total = slicee.pivot_table(index='year_of_release', values='sum_sales', aggfunc='sum').sort_values('year_of_release', ascending=False)\n",
    "    return total\n",
    "\n",
    "\n",
    "\n",
    "# table by platforms and total sales. sort them in descending order and leave only the top 5.\n",
    "top_5_platforms = slicee.pivot_table(index='platform',values='sum_sales',aggfunc='sum').sort_values(by='sum_sales', ascending=False).head(5)\n",
    "top_5_platforms = top_5_platforms.reset_index()\n",
    "print(top_5_platforms)\n",
    "\n",
    "# all gaming platforms and their behavior over the past 10 years\n",
    "ax = plt.figure(figsize=(12,6)).gca()\n",
    "plt.title('Number of sales of popular gaming platforms')\n",
    "plt.xlabel('Years of game releases')\n",
    "plt.ylabel('Sales')\n",
    "ax.xaxis.set_major_locator(MaxNLocator(integer=True))\n",
    "\n",
    "for i in list(top_5_platforms['platform']):\n",
    "    sb.lineplot(data=year_total_sale_for_platform(i,data)['sum_sales'], label=i)\n",
    "    plt.legend()"
   ]
  },
  {
   "cell_type": "markdown",
   "id": "259d9685",
   "metadata": {},
   "source": [
    "**Three main stages of development:**\n",
    "- growth up to 2008;\n",
    "- the peak of 2008 and 2009;\n",
    "- reduction of the market until 2016;\n",
    "- Also most of the platforms are no longer in 2016. They will not help us in building a forecast for 2017;\n",
    "- When the period is reduced only the latest generations of platforms will be considered. We will also consider only the final interval of the development of the gaming industry;\n",
    "- The data was taken from 2011 to 2013. This year is the most representative."
   ]
  },
  {
   "cell_type": "markdown",
   "id": "f38fc66f",
   "metadata": {},
   "source": [
    "### Plot a box-plot of global game sales by gaming platform"
   ]
  },
  {
   "cell_type": "markdown",
   "id": "cf9213f4",
   "metadata": {},
   "source": [
    "- Sliced data by years (2014-2016) in order to draw boxes with whiskers.\n",
    "- Based on the plot it can be seen that the median is expressed differently for everyone\n",
    "- Most sold by ps4 then by xone after 360 by ps3 and last by 3ds."
   ]
  },
  {
   "cell_type": "code",
   "execution_count": 15,
   "id": "e5790cf0",
   "metadata": {},
   "outputs": [
    {
     "data": {
      "image/png": "[encoded data removed]",
      "text/plain": [
       "<Figure size 864x432 with 1 Axes>"
      ]
     },
     "metadata": {
      "needs_background": "light"
     },
     "output_type": "display_data"
    }
   ],
   "source": [
    "# plot whisker\n",
    "plt.figure(figsize=(12,6))\n",
    "ax = sb.boxplot(data=slicee, x='platform', y='sum_sales')\n",
    "plt.xlabel('Gaming platform', fontsize=12)\n",
    "plt.ylabel('Global sales',fontsize=12)\n",
    "ax.set_ylim([-0.2,2])\n",
    "plt.grid(alpha=0.35)"
   ]
  },
  {
   "cell_type": "code",
   "execution_count": 16,
   "id": "385f96dd",
   "metadata": {},
   "outputs": [
    {
     "data": {
      "image/png": "[encoded data removed]",
      "text/plain": [
       "<Figure size 864x432 with 1 Axes>"
      ]
     },
     "metadata": {
      "needs_background": "light"
     },
     "output_type": "display_data"
    }
   ],
   "source": [
    "# plot whisker\n",
    "plt.figure(figsize=(12,6))\n",
    "ax = sb.boxplot(data=slicee, x='platform', y='sum_sales')\n",
    "plt.xlabel('Gaming platform', fontsize=12)\n",
    "plt.ylabel('Global sales',fontsize=12)\n",
    "ax.set_ylim([-0.2,2])\n",
    "plt.grid(alpha=0.35)"
   ]
  },
  {
   "cell_type": "markdown",
   "id": "73be5241",
   "metadata": {},
   "source": [
    "### How do user reviews and critics influence sales within one popular platform?\n",
    "- Plot a scatterplot and calculate the correlation between reviews and sales;\n",
    "- Make conclusions."
   ]
  },
  {
   "cell_type": "code",
   "execution_count": 17,
   "id": "2362b5e3",
   "metadata": {},
   "outputs": [],
   "source": [
    "# Correlation between user ratings and sales\n",
    "xbox = slicee[slicee['platform']=='x360']\n",
    "#display(xbox)"
   ]
  },
  {
   "cell_type": "code",
   "execution_count": 18,
   "id": "0b9c0634",
   "metadata": {},
   "outputs": [
    {
     "data": {
      "image/png": "[encoded data removed]",
      "text/plain": [
       "<Figure size 864x432 with 1 Axes>"
      ]
     },
     "metadata": {
      "needs_background": "light"
     },
     "output_type": "display_data"
    },
    {
     "data": {
      "image/png": "[encoded data removed]",
      "text/plain": [
       "<Figure size 864x432 with 1 Axes>"
      ]
     },
     "metadata": {
      "needs_background": "light"
     },
     "output_type": "display_data"
    }
   ],
   "source": [
    "# Scatter plot\n",
    "for i in xbox[['user_score','critic_score']]:\n",
    "    plt.figure(figsize=(12,6))\n",
    "    sb.scatterplot(x=i, y='sum_sales', data=xbox)\n",
    "    plt.title('test')"
   ]
  },
  {
   "cell_type": "code",
   "execution_count": 19,
   "id": "493b86d5",
   "metadata": {
    "scrolled": true
   },
   "outputs": [
    {
     "data": {
      "image/png": "[encoded data removed]",
      "text/plain": [
       "<Figure size 720x360 with 1 Axes>"
      ]
     },
     "metadata": {
      "needs_background": "light"
     },
     "output_type": "display_data"
    },
    {
     "data": {
      "image/png": "[encoded data removed]",
      "text/plain": [
       "<Figure size 720x360 with 1 Axes>"
      ]
     },
     "metadata": {
      "needs_background": "light"
     },
     "output_type": "display_data"
    },
    {
     "name": "stdout",
     "output_type": "stream",
     "text": [
      "Correlation PS4 : Weak 0.40266141068104083\n"
     ]
    },
    {
     "data": {
      "image/png": "[encoded data removed]",
      "text/plain": [
       "<Figure size 720x360 with 1 Axes>"
      ]
     },
     "metadata": {
      "needs_background": "light"
     },
     "output_type": "display_data"
    },
    {
     "data": {
      "image/png": "[encoded data removed]",
      "text/plain": [
       "<Figure size 720x360 with 1 Axes>"
      ]
     },
     "metadata": {
      "needs_background": "light"
     },
     "output_type": "display_data"
    },
    {
     "name": "stdout",
     "output_type": "stream",
     "text": [
      "Correlation XONE : Weak 0.42867694370333226\n"
     ]
    },
    {
     "data": {
      "image/png": "[encoded data removed]",
      "text/plain": [
       "<Figure size 720x360 with 1 Axes>"
      ]
     },
     "metadata": {
      "needs_background": "light"
     },
     "output_type": "display_data"
    },
    {
     "name": "stdout",
     "output_type": "stream",
     "text": [
      "Correlation 3DS : No correlation 0.2151932718527028\n"
     ]
    },
    {
     "data": {
      "image/png": "[encoded data removed]",
      "text/plain": [
       "<Figure size 720x360 with 1 Axes>"
      ]
     },
     "metadata": {
      "needs_background": "light"
     },
     "output_type": "display_data"
    },
    {
     "name": "stdout",
     "output_type": "stream",
     "text": [
      "Correlation 3DS : Weak 0.314117492869051\n"
     ]
    },
    {
     "data": {
      "image/png": "[encoded data removed]",
      "text/plain": [
       "<Figure size 720x360 with 1 Axes>"
      ]
     },
     "metadata": {
      "needs_background": "light"
     },
     "output_type": "display_data"
    },
    {
     "data": {
      "image/png": "[encoded data removed]",
      "text/plain": [
       "<Figure size 720x360 with 1 Axes>"
      ]
     },
     "metadata": {
      "needs_background": "light"
     },
     "output_type": "display_data"
    },
    {
     "name": "stdout",
     "output_type": "stream",
     "text": [
      "Correlation PS3 : Weak 0.44657460493190704\n"
     ]
    },
    {
     "data": {
      "image/png": "[encoded data removed]",
      "text/plain": [
       "<Figure size 720x360 with 1 Axes>"
      ]
     },
     "metadata": {
      "needs_background": "light"
     },
     "output_type": "display_data"
    },
    {
     "data": {
      "image/png": "[encoded data removed]",
      "text/plain": [
       "<Figure size 720x360 with 1 Axes>"
      ]
     },
     "metadata": {
      "needs_background": "light"
     },
     "output_type": "display_data"
    },
    {
     "name": "stdout",
     "output_type": "stream",
     "text": [
      "Correlation X360 : Weak 0.5257228356581523\n"
     ]
    }
   ],
   "source": [
    "for i in [\"ps4\",\"xone\",\"3ds\",\"ps3\",\"x360\"]:\n",
    "    platform_data = slicee.loc[slicee['platform'] == i ][['user_score','critic_score','sum_sales']]\n",
    "    #print(platform_data)\n",
    "    for z in platform_data[['user_score','critic_score']]:\n",
    "        #print(z)\n",
    "        #fig, ax = plt.figure(1 ,2, figsize=(1,5))\n",
    "        plt.figure(figsize=(10,5))\n",
    "        sb.scatterplot(x=z, y='sum_sales', data=platform_data)\n",
    "        plt.title(i)\n",
    "        plt.show()\n",
    "        #plt.text(12,20,'Корреляция: ' + str(round(platform_data[z].corr(platform_data['sum_sales']),3)))\n",
    "        \n",
    "        correl = platform_data[z].corr(platform_data['sum_sales'])\n",
    "        \n",
    "        if 0.3 >= correl >= 0:\n",
    "            print('Correlation', i.upper(), ': No correlation', correl)\n",
    "        if 0.6 >= correl > 0.3:\n",
    "            print('Correlation',  i.upper(), ': Weak', correl)\n",
    "        if 1 >= correl > 0.6:\n",
    "            print('Correlation', i.upper(), ': High', correl)\n",
    "      \n",
    "    \n",
    "            "
   ]
  },
  {
   "cell_type": "markdown",
   "id": "ceaf0218",
   "metadata": {},
   "source": [
    "- Almost all platforms have a weak correlation between user and critic ratings for sales;\n",
    "- The rating of users has little effect on sales which cannot be said about the rating of critics. Buyers listen more to critics than to other users' ratings."
   ]
  },
  {
   "cell_type": "markdown",
   "id": "69160f5c",
   "metadata": {},
   "source": [
    "### What about the most profitable genres?\n",
    "### Do high and low selling genres stand out?"
   ]
  },
  {
   "cell_type": "markdown",
   "id": "b2d65354",
   "metadata": {},
   "source": [
    "Лучше всего в 2014 - 2016 года продаются жанры \"action\".В тройку входят жанры \"shooter\" и \"спорт\". \"strategy\" на последнем месте. "
   ]
  },
  {
   "cell_type": "code",
   "execution_count": 20,
   "id": "9fed0c0c",
   "metadata": {
    "scrolled": true
   },
   "outputs": [
    {
     "name": "stdout",
     "output_type": "stream",
     "text": [
      "           genre  sum_sales\n",
      "0         action     175.17\n",
      "1        shooter     159.68\n",
      "2         sports     105.88\n",
      "3   role-playing      88.95\n",
      "4           misc      26.32\n",
      "5       fighting      21.55\n",
      "6         racing      19.69\n",
      "7      adventure      14.47\n",
      "8       platform      10.97\n",
      "9     simulation       6.49\n",
      "10      strategy       1.49\n",
      "11        puzzle       0.93\n"
     ]
    }
   ],
   "source": [
    "genre_distribution = slicee.pivot_table(index='genre',values='sum_sales',aggfunc='sum')\\\n",
    "                         .sort_values(by='sum_sales',ascending=False)\\\n",
    "                         .reset_index()\n",
    "print(genre_distribution)"
   ]
  },
  {
   "cell_type": "code",
   "execution_count": 21,
   "id": "f60205f8",
   "metadata": {
    "scrolled": true
   },
   "outputs": [
    {
     "data": {
      "image/png": "[encoded data removed]",
      "text/plain": [
       "<Figure size 864x432 with 1 Axes>"
      ]
     },
     "metadata": {
      "needs_background": "light"
     },
     "output_type": "display_data"
    }
   ],
   "source": [
    "# which genres are leading and which remain at the bottom?\n",
    "plt.figure(figsize=(12,6))\n",
    "plt.title('Distribution of games by genre',fontsize=15)\n",
    "sb.barplot(data=genre_distribution, x='genre', y='sum_sales')\n",
    "plt.xlabel('Game genres',fontsize=12)\n",
    "plt.ylabel('Sales',fontsize=12)\n",
    "plt.show()"
   ]
  },
  {
   "cell_type": "markdown",
   "id": "7c31d616",
   "metadata": {},
   "source": [
    "Despite the fact that the `\"action\"` genre has the most sales the average amount of sales is higher for the `\"shooter\"` genre."
   ]
  },
  {
   "cell_type": "code",
   "execution_count": 22,
   "id": "03d4cec9",
   "metadata": {},
   "outputs": [
    {
     "name": "stdout",
     "output_type": "stream",
     "text": [
      "           genre  mean_sum_sales  count_sales\n",
      "8        shooter        1.550291          103\n",
      "10        sports        0.778529          136\n",
      "7   role-playing        0.635357          140\n",
      "2       fighting        0.439796           49\n",
      "4       platform        0.421923           26\n",
      "0         action        0.415095          422\n",
      "6         racing        0.378654           52\n",
      "3           misc        0.350933           75\n",
      "9     simulation        0.282174           23\n",
      "1      adventure        0.152316           95\n",
      "5         puzzle        0.103333            9\n",
      "11      strategy        0.093125           16\n"
     ]
    },
    {
     "data": {
      "image/png": "[encoded data removed]",
      "text/plain": [
       "<Figure size 864x432 with 1 Axes>"
      ]
     },
     "metadata": {
      "needs_background": "light"
     },
     "output_type": "display_data"
    },
    {
     "data": {
      "image/png": "[encoded data removed]",
      "text/plain": [
       "<Figure size 864x432 with 1 Axes>"
      ]
     },
     "metadata": {
      "needs_background": "light"
     },
     "output_type": "display_data"
    }
   ],
   "source": [
    "genre_distribution = slicee.pivot_table(index='genre',\\\n",
    "                                        values='sum_sales',aggfunc=['mean','count']).reset_index()\n",
    "\n",
    "genre_distribution.columns = ['genre' ,'mean_sum_sales','count_sales']\n",
    "genre_distribution = genre_distribution.sort_values(by='mean_sum_sales',ascending=False)\n",
    "print(genre_distribution)\n",
    "\n",
    "# which genres are leading and which remain at the bottom?\n",
    "plt.figure(figsize=(12,6))\n",
    "plt.title('Distribution of games by genre',fontsize=15)\n",
    "sb.barplot(data=genre_distribution.sort_values(by='mean_sum_sales',ascending=False),\\\n",
    "           x='genre', y='mean_sum_sales')\n",
    "plt.xlabel('Game genres',fontsize=12)\n",
    "plt.ylabel('Average sales',fontsize=12)\n",
    "plt.show()\n",
    "\n",
    "# which genres are leading and which remain at the bottom?\n",
    "plt.figure(figsize=(12,6))\n",
    "plt.title('Distribution of games by genre',fontsize=15)\n",
    "sb.barplot(data=genre_distribution.sort_values(by='count_sales',ascending=False),\\\n",
    "           x='genre', y='count_sales')\n",
    "plt.xlabel('Game genres',fontsize=12)\n",
    "plt.ylabel('Average sales',fontsize=12)\n",
    "plt.show()"
   ]
  },
  {
   "cell_type": "markdown",
   "id": "c2372b89",
   "metadata": {},
   "source": [
    "**Conclusion on exploratory data analysis:**\n",
    "\n",
    "- The number of games for game consoles and computers began to grow at a high rate from the 90s until 2008;\n",
    "- The most popular gaming platforms of the entire period: PS 3, Xbox 360, PS 4, Nintendo WII, DS.\n",
    "- The most popular platforms for the current period: xone, 3ds, PS4, PS3, Xbox 360;\n",
    "- The average life of a gaming platform is 8-9 years. The peak of sales occurs approximately 5 years after the release of the set-top box;\n",
    "- Most sold games on Sony Playstation and Xbox 360;\n",
    "- Nintendo Wii has become popular dramatically but was just as quickly forgotten;\n",
    "- For all platforms there is a weak relationship between sales and ratings from critics and users.\n",
    "\n",
    "The most noticeable correlation is between critics ratings and sales. This means for people the opinion of critics is more important than the opinions of other users."
   ]
  },
  {
   "cell_type": "markdown",
   "id": "8e1a2111",
   "metadata": {},
   "source": [
    "# Step 4. Portrait of the user of each region"
   ]
  },
  {
   "cell_type": "markdown",
   "id": "fac4d11c",
   "metadata": {},
   "source": [
    "#### The most popular platforms (top 5) for the user of each region? Describe the differences in sales shares.\n",
    "#### The most popular genres (top 5). Explain the difference?\n",
    "#### Does the ESRB rating affect sales in a particular region?"
   ]
  },
  {
   "cell_type": "markdown",
   "id": "7f3cbee3",
   "metadata": {},
   "source": [
    "Conclusion on drawing up a portrait of the user of each region:\n",
    "\n",
    "- The most popular gaming platforms in north america are: `ps4, xone, x360, ps3, 3ds`. Top 5 genres in north america : `shooter, action, sports, role-playing, misc`. The ratings show that games with a rating of `M\"` in the second place of the game with a rating of `\"without rating\"` and in the third place of the game with an `\"E\"` rating\n",
    "\n",
    "\n",
    "- The most popular gaming platforms in Europe are: `ps4, xone, ps3, x360, 3ds`. Top 5 genres in Europe : `action, shooter, sports, role-playing, misc`. The ratings show that the most sold games are rated `\"M\"`, in the second place of the game with a rating of `\"without rating\"` and in the third place of the game with an `\"E\"` rating\n",
    "\n",
    "\n",
    "- The most popular gaming platforms in Japan are: `ps4, ps3, 3ds, xone, x360`. Top 5 genres in Japan : `role-playing, action, fighting, sports`. According to the ratings, it can be seen that the most sold games are rated `\"unrated\"`"
   ]
  },
  {
   "cell_type": "code",
   "execution_count": 23,
   "id": "4786ada4",
   "metadata": {},
   "outputs": [
    {
     "data": {
      "text/html": [
       "<div>\n",
       "<style scoped>\n",
       "    .dataframe tbody tr th:only-of-type {\n",
       "        vertical-align: middle;\n",
       "    }\n",
       "\n",
       "    .dataframe tbody tr th {\n",
       "        vertical-align: top;\n",
       "    }\n",
       "\n",
       "    .dataframe thead th {\n",
       "        text-align: right;\n",
       "    }\n",
       "</style>\n",
       "<table border=\"1\" class=\"dataframe\">\n",
       "  <thead>\n",
       "    <tr style=\"text-align: right;\">\n",
       "      <th></th>\n",
       "      <th>platform</th>\n",
       "      <th>na_sales</th>\n",
       "    </tr>\n",
       "  </thead>\n",
       "  <tbody>\n",
       "    <tr>\n",
       "      <th>0</th>\n",
       "      <td>ps4</td>\n",
       "      <td>98.61</td>\n",
       "    </tr>\n",
       "    <tr>\n",
       "      <th>1</th>\n",
       "      <td>xone</td>\n",
       "      <td>81.27</td>\n",
       "    </tr>\n",
       "    <tr>\n",
       "      <th>2</th>\n",
       "      <td>x360</td>\n",
       "      <td>28.30</td>\n",
       "    </tr>\n",
       "    <tr>\n",
       "      <th>3</th>\n",
       "      <td>3ds</td>\n",
       "      <td>22.64</td>\n",
       "    </tr>\n",
       "    <tr>\n",
       "      <th>4</th>\n",
       "      <td>ps3</td>\n",
       "      <td>22.05</td>\n",
       "    </tr>\n",
       "  </tbody>\n",
       "</table>\n",
       "</div>"
      ],
      "text/plain": [
       "  platform  na_sales\n",
       "0      ps4     98.61\n",
       "1     xone     81.27\n",
       "2     x360     28.30\n",
       "3      3ds     22.64\n",
       "4      ps3     22.05"
      ]
     },
     "metadata": {},
     "output_type": "display_data"
    },
    {
     "name": "stdout",
     "output_type": "stream",
     "text": [
      "\n",
      "\n"
     ]
    },
    {
     "data": {
      "image/png": "[encoded data removed]",
      "text/plain": [
       "<Figure size 432x288 with 1 Axes>"
      ]
     },
     "metadata": {
      "needs_background": "light"
     },
     "output_type": "display_data"
    },
    {
     "data": {
      "text/html": [
       "<div>\n",
       "<style scoped>\n",
       "    .dataframe tbody tr th:only-of-type {\n",
       "        vertical-align: middle;\n",
       "    }\n",
       "\n",
       "    .dataframe tbody tr th {\n",
       "        vertical-align: top;\n",
       "    }\n",
       "\n",
       "    .dataframe thead th {\n",
       "        text-align: right;\n",
       "    }\n",
       "</style>\n",
       "<table border=\"1\" class=\"dataframe\">\n",
       "  <thead>\n",
       "    <tr style=\"text-align: right;\">\n",
       "      <th></th>\n",
       "      <th>genre</th>\n",
       "      <th>na_sales</th>\n",
       "    </tr>\n",
       "  </thead>\n",
       "  <tbody>\n",
       "    <tr>\n",
       "      <th>0</th>\n",
       "      <td>shooter</td>\n",
       "      <td>75.10</td>\n",
       "    </tr>\n",
       "    <tr>\n",
       "      <th>1</th>\n",
       "      <td>action</td>\n",
       "      <td>64.87</td>\n",
       "    </tr>\n",
       "    <tr>\n",
       "      <th>2</th>\n",
       "      <td>sports</td>\n",
       "      <td>45.41</td>\n",
       "    </tr>\n",
       "    <tr>\n",
       "      <th>3</th>\n",
       "      <td>role-playing</td>\n",
       "      <td>30.46</td>\n",
       "    </tr>\n",
       "    <tr>\n",
       "      <th>4</th>\n",
       "      <td>misc</td>\n",
       "      <td>11.19</td>\n",
       "    </tr>\n",
       "  </tbody>\n",
       "</table>\n",
       "</div>"
      ],
      "text/plain": [
       "          genre  na_sales\n",
       "0       shooter     75.10\n",
       "1        action     64.87\n",
       "2        sports     45.41\n",
       "3  role-playing     30.46\n",
       "4          misc     11.19"
      ]
     },
     "metadata": {},
     "output_type": "display_data"
    },
    {
     "name": "stdout",
     "output_type": "stream",
     "text": [
      "\n",
      "\n"
     ]
    },
    {
     "data": {
      "image/png": "[encoded data removed]",
      "text/plain": [
       "<Figure size 432x288 with 1 Axes>"
      ]
     },
     "metadata": {
      "needs_background": "light"
     },
     "output_type": "display_data"
    },
    {
     "data": {
      "text/html": [
       "<div>\n",
       "<style scoped>\n",
       "    .dataframe tbody tr th:only-of-type {\n",
       "        vertical-align: middle;\n",
       "    }\n",
       "\n",
       "    .dataframe tbody tr th {\n",
       "        vertical-align: top;\n",
       "    }\n",
       "\n",
       "    .dataframe thead th {\n",
       "        text-align: right;\n",
       "    }\n",
       "</style>\n",
       "<table border=\"1\" class=\"dataframe\">\n",
       "  <thead>\n",
       "    <tr style=\"text-align: right;\">\n",
       "      <th></th>\n",
       "      <th>rating</th>\n",
       "      <th>na_sales</th>\n",
       "    </tr>\n",
       "  </thead>\n",
       "  <tbody>\n",
       "    <tr>\n",
       "      <th>0</th>\n",
       "      <td>M</td>\n",
       "      <td>90.82</td>\n",
       "    </tr>\n",
       "    <tr>\n",
       "      <th>1</th>\n",
       "      <td>without rating</td>\n",
       "      <td>59.98</td>\n",
       "    </tr>\n",
       "    <tr>\n",
       "      <th>2</th>\n",
       "      <td>E</td>\n",
       "      <td>42.38</td>\n",
       "    </tr>\n",
       "    <tr>\n",
       "      <th>3</th>\n",
       "      <td>T</td>\n",
       "      <td>34.41</td>\n",
       "    </tr>\n",
       "    <tr>\n",
       "      <th>4</th>\n",
       "      <td>E10+</td>\n",
       "      <td>25.28</td>\n",
       "    </tr>\n",
       "  </tbody>\n",
       "</table>\n",
       "</div>"
      ],
      "text/plain": [
       "           rating  na_sales\n",
       "0               M     90.82\n",
       "1  without rating     59.98\n",
       "2               E     42.38\n",
       "3               T     34.41\n",
       "4            E10+     25.28"
      ]
     },
     "metadata": {},
     "output_type": "display_data"
    },
    {
     "name": "stdout",
     "output_type": "stream",
     "text": [
      "\n",
      "\n"
     ]
    },
    {
     "data": {
      "image/png": "[encoded data removed]",
      "text/plain": [
       "<Figure size 432x288 with 1 Axes>"
      ]
     },
     "metadata": {
      "needs_background": "light"
     },
     "output_type": "display_data"
    },
    {
     "data": {
      "text/html": [
       "<div>\n",
       "<style scoped>\n",
       "    .dataframe tbody tr th:only-of-type {\n",
       "        vertical-align: middle;\n",
       "    }\n",
       "\n",
       "    .dataframe tbody tr th {\n",
       "        vertical-align: top;\n",
       "    }\n",
       "\n",
       "    .dataframe thead th {\n",
       "        text-align: right;\n",
       "    }\n",
       "</style>\n",
       "<table border=\"1\" class=\"dataframe\">\n",
       "  <thead>\n",
       "    <tr style=\"text-align: right;\">\n",
       "      <th></th>\n",
       "      <th>platform</th>\n",
       "      <th>eu_sales</th>\n",
       "    </tr>\n",
       "  </thead>\n",
       "  <tbody>\n",
       "    <tr>\n",
       "      <th>0</th>\n",
       "      <td>ps4</td>\n",
       "      <td>130.04</td>\n",
       "    </tr>\n",
       "    <tr>\n",
       "      <th>1</th>\n",
       "      <td>xone</td>\n",
       "      <td>46.25</td>\n",
       "    </tr>\n",
       "    <tr>\n",
       "      <th>2</th>\n",
       "      <td>ps3</td>\n",
       "      <td>25.54</td>\n",
       "    </tr>\n",
       "    <tr>\n",
       "      <th>3</th>\n",
       "      <td>3ds</td>\n",
       "      <td>16.12</td>\n",
       "    </tr>\n",
       "    <tr>\n",
       "      <th>4</th>\n",
       "      <td>x360</td>\n",
       "      <td>15.49</td>\n",
       "    </tr>\n",
       "  </tbody>\n",
       "</table>\n",
       "</div>"
      ],
      "text/plain": [
       "  platform  eu_sales\n",
       "0      ps4    130.04\n",
       "1     xone     46.25\n",
       "2      ps3     25.54\n",
       "3      3ds     16.12\n",
       "4     x360     15.49"
      ]
     },
     "metadata": {},
     "output_type": "display_data"
    },
    {
     "name": "stdout",
     "output_type": "stream",
     "text": [
      "\n",
      "\n"
     ]
    },
    {
     "data": {
      "image/png": "[encoded data removed]",
      "text/plain": [
       "<Figure size 432x288 with 1 Axes>"
      ]
     },
     "metadata": {
      "needs_background": "light"
     },
     "output_type": "display_data"
    },
    {
     "data": {
      "text/html": [
       "<div>\n",
       "<style scoped>\n",
       "    .dataframe tbody tr th:only-of-type {\n",
       "        vertical-align: middle;\n",
       "    }\n",
       "\n",
       "    .dataframe tbody tr th {\n",
       "        vertical-align: top;\n",
       "    }\n",
       "\n",
       "    .dataframe thead th {\n",
       "        text-align: right;\n",
       "    }\n",
       "</style>\n",
       "<table border=\"1\" class=\"dataframe\">\n",
       "  <thead>\n",
       "    <tr style=\"text-align: right;\">\n",
       "      <th></th>\n",
       "      <th>genre</th>\n",
       "      <th>eu_sales</th>\n",
       "    </tr>\n",
       "  </thead>\n",
       "  <tbody>\n",
       "    <tr>\n",
       "      <th>0</th>\n",
       "      <td>action</td>\n",
       "      <td>65.79</td>\n",
       "    </tr>\n",
       "    <tr>\n",
       "      <th>1</th>\n",
       "      <td>shooter</td>\n",
       "      <td>60.59</td>\n",
       "    </tr>\n",
       "    <tr>\n",
       "      <th>2</th>\n",
       "      <td>sports</td>\n",
       "      <td>43.88</td>\n",
       "    </tr>\n",
       "    <tr>\n",
       "      <th>3</th>\n",
       "      <td>role-playing</td>\n",
       "      <td>24.44</td>\n",
       "    </tr>\n",
       "    <tr>\n",
       "      <th>4</th>\n",
       "      <td>racing</td>\n",
       "      <td>11.36</td>\n",
       "    </tr>\n",
       "  </tbody>\n",
       "</table>\n",
       "</div>"
      ],
      "text/plain": [
       "          genre  eu_sales\n",
       "0        action     65.79\n",
       "1       shooter     60.59\n",
       "2        sports     43.88\n",
       "3  role-playing     24.44\n",
       "4        racing     11.36"
      ]
     },
     "metadata": {},
     "output_type": "display_data"
    },
    {
     "name": "stdout",
     "output_type": "stream",
     "text": [
      "\n",
      "\n"
     ]
    },
    {
     "data": {
      "image/png": "[encoded data removed]",
      "text/plain": [
       "<Figure size 432x288 with 1 Axes>"
      ]
     },
     "metadata": {
      "needs_background": "light"
     },
     "output_type": "display_data"
    },
    {
     "data": {
      "text/html": [
       "<div>\n",
       "<style scoped>\n",
       "    .dataframe tbody tr th:only-of-type {\n",
       "        vertical-align: middle;\n",
       "    }\n",
       "\n",
       "    .dataframe tbody tr th {\n",
       "        vertical-align: top;\n",
       "    }\n",
       "\n",
       "    .dataframe thead th {\n",
       "        text-align: right;\n",
       "    }\n",
       "</style>\n",
       "<table border=\"1\" class=\"dataframe\">\n",
       "  <thead>\n",
       "    <tr style=\"text-align: right;\">\n",
       "      <th></th>\n",
       "      <th>rating</th>\n",
       "      <th>eu_sales</th>\n",
       "    </tr>\n",
       "  </thead>\n",
       "  <tbody>\n",
       "    <tr>\n",
       "      <th>0</th>\n",
       "      <td>M</td>\n",
       "      <td>85.02</td>\n",
       "    </tr>\n",
       "    <tr>\n",
       "      <th>1</th>\n",
       "      <td>without rating</td>\n",
       "      <td>52.76</td>\n",
       "    </tr>\n",
       "    <tr>\n",
       "      <th>2</th>\n",
       "      <td>E</td>\n",
       "      <td>49.46</td>\n",
       "    </tr>\n",
       "    <tr>\n",
       "      <th>3</th>\n",
       "      <td>T</td>\n",
       "      <td>28.08</td>\n",
       "    </tr>\n",
       "    <tr>\n",
       "      <th>4</th>\n",
       "      <td>E10+</td>\n",
       "      <td>18.12</td>\n",
       "    </tr>\n",
       "  </tbody>\n",
       "</table>\n",
       "</div>"
      ],
      "text/plain": [
       "           rating  eu_sales\n",
       "0               M     85.02\n",
       "1  without rating     52.76\n",
       "2               E     49.46\n",
       "3               T     28.08\n",
       "4            E10+     18.12"
      ]
     },
     "metadata": {},
     "output_type": "display_data"
    },
    {
     "name": "stdout",
     "output_type": "stream",
     "text": [
      "\n",
      "\n"
     ]
    },
    {
     "data": {
      "image/png": "[encoded data removed]",
      "text/plain": [
       "<Figure size 432x288 with 1 Axes>"
      ]
     },
     "metadata": {
      "needs_background": "light"
     },
     "output_type": "display_data"
    },
    {
     "data": {
      "text/html": [
       "<div>\n",
       "<style scoped>\n",
       "    .dataframe tbody tr th:only-of-type {\n",
       "        vertical-align: middle;\n",
       "    }\n",
       "\n",
       "    .dataframe tbody tr th {\n",
       "        vertical-align: top;\n",
       "    }\n",
       "\n",
       "    .dataframe thead th {\n",
       "        text-align: right;\n",
       "    }\n",
       "</style>\n",
       "<table border=\"1\" class=\"dataframe\">\n",
       "  <thead>\n",
       "    <tr style=\"text-align: right;\">\n",
       "      <th></th>\n",
       "      <th>platform</th>\n",
       "      <th>jp_sales</th>\n",
       "    </tr>\n",
       "  </thead>\n",
       "  <tbody>\n",
       "    <tr>\n",
       "      <th>0</th>\n",
       "      <td>3ds</td>\n",
       "      <td>44.24</td>\n",
       "    </tr>\n",
       "    <tr>\n",
       "      <th>1</th>\n",
       "      <td>ps4</td>\n",
       "      <td>15.02</td>\n",
       "    </tr>\n",
       "    <tr>\n",
       "      <th>2</th>\n",
       "      <td>ps3</td>\n",
       "      <td>11.22</td>\n",
       "    </tr>\n",
       "    <tr>\n",
       "      <th>3</th>\n",
       "      <td>xone</td>\n",
       "      <td>0.32</td>\n",
       "    </tr>\n",
       "    <tr>\n",
       "      <th>4</th>\n",
       "      <td>x360</td>\n",
       "      <td>0.08</td>\n",
       "    </tr>\n",
       "  </tbody>\n",
       "</table>\n",
       "</div>"
      ],
      "text/plain": [
       "  platform  jp_sales\n",
       "0      3ds     44.24\n",
       "1      ps4     15.02\n",
       "2      ps3     11.22\n",
       "3     xone      0.32\n",
       "4     x360      0.08"
      ]
     },
     "metadata": {},
     "output_type": "display_data"
    },
    {
     "name": "stdout",
     "output_type": "stream",
     "text": [
      "\n",
      "\n"
     ]
    },
    {
     "data": {
      "image/png": "[encoded data removed]",
      "text/plain": [
       "<Figure size 432x288 with 1 Axes>"
      ]
     },
     "metadata": {
      "needs_background": "light"
     },
     "output_type": "display_data"
    },
    {
     "data": {
      "text/html": [
       "<div>\n",
       "<style scoped>\n",
       "    .dataframe tbody tr th:only-of-type {\n",
       "        vertical-align: middle;\n",
       "    }\n",
       "\n",
       "    .dataframe tbody tr th {\n",
       "        vertical-align: top;\n",
       "    }\n",
       "\n",
       "    .dataframe thead th {\n",
       "        text-align: right;\n",
       "    }\n",
       "</style>\n",
       "<table border=\"1\" class=\"dataframe\">\n",
       "  <thead>\n",
       "    <tr style=\"text-align: right;\">\n",
       "      <th></th>\n",
       "      <th>genre</th>\n",
       "      <th>jp_sales</th>\n",
       "    </tr>\n",
       "  </thead>\n",
       "  <tbody>\n",
       "    <tr>\n",
       "      <th>0</th>\n",
       "      <td>role-playing</td>\n",
       "      <td>26.21</td>\n",
       "    </tr>\n",
       "    <tr>\n",
       "      <th>1</th>\n",
       "      <td>action</td>\n",
       "      <td>23.79</td>\n",
       "    </tr>\n",
       "    <tr>\n",
       "      <th>2</th>\n",
       "      <td>fighting</td>\n",
       "      <td>4.93</td>\n",
       "    </tr>\n",
       "    <tr>\n",
       "      <th>3</th>\n",
       "      <td>shooter</td>\n",
       "      <td>3.33</td>\n",
       "    </tr>\n",
       "    <tr>\n",
       "      <th>4</th>\n",
       "      <td>misc</td>\n",
       "      <td>2.90</td>\n",
       "    </tr>\n",
       "  </tbody>\n",
       "</table>\n",
       "</div>"
      ],
      "text/plain": [
       "          genre  jp_sales\n",
       "0  role-playing     26.21\n",
       "1        action     23.79\n",
       "2      fighting      4.93\n",
       "3       shooter      3.33\n",
       "4          misc      2.90"
      ]
     },
     "metadata": {},
     "output_type": "display_data"
    },
    {
     "name": "stdout",
     "output_type": "stream",
     "text": [
      "\n",
      "\n"
     ]
    },
    {
     "data": {
      "image/png": "[encoded data removed]",
      "text/plain": [
       "<Figure size 432x288 with 1 Axes>"
      ]
     },
     "metadata": {
      "needs_background": "light"
     },
     "output_type": "display_data"
    },
    {
     "data": {
      "text/html": [
       "<div>\n",
       "<style scoped>\n",
       "    .dataframe tbody tr th:only-of-type {\n",
       "        vertical-align: middle;\n",
       "    }\n",
       "\n",
       "    .dataframe tbody tr th {\n",
       "        vertical-align: top;\n",
       "    }\n",
       "\n",
       "    .dataframe thead th {\n",
       "        text-align: right;\n",
       "    }\n",
       "</style>\n",
       "<table border=\"1\" class=\"dataframe\">\n",
       "  <thead>\n",
       "    <tr style=\"text-align: right;\">\n",
       "      <th></th>\n",
       "      <th>rating</th>\n",
       "      <th>jp_sales</th>\n",
       "    </tr>\n",
       "  </thead>\n",
       "  <tbody>\n",
       "    <tr>\n",
       "      <th>0</th>\n",
       "      <td>without rating</td>\n",
       "      <td>45.65</td>\n",
       "    </tr>\n",
       "    <tr>\n",
       "      <th>1</th>\n",
       "      <td>T</td>\n",
       "      <td>10.36</td>\n",
       "    </tr>\n",
       "    <tr>\n",
       "      <th>2</th>\n",
       "      <td>M</td>\n",
       "      <td>7.03</td>\n",
       "    </tr>\n",
       "    <tr>\n",
       "      <th>3</th>\n",
       "      <td>E</td>\n",
       "      <td>5.47</td>\n",
       "    </tr>\n",
       "    <tr>\n",
       "      <th>4</th>\n",
       "      <td>E10+</td>\n",
       "      <td>2.37</td>\n",
       "    </tr>\n",
       "  </tbody>\n",
       "</table>\n",
       "</div>"
      ],
      "text/plain": [
       "           rating  jp_sales\n",
       "0  without rating     45.65\n",
       "1               T     10.36\n",
       "2               M      7.03\n",
       "3               E      5.47\n",
       "4            E10+      2.37"
      ]
     },
     "metadata": {},
     "output_type": "display_data"
    },
    {
     "name": "stdout",
     "output_type": "stream",
     "text": [
      "\n",
      "\n"
     ]
    },
    {
     "data": {
      "image/png": "[encoded data removed]",
      "text/plain": [
       "<Figure size 432x288 with 1 Axes>"
      ]
     },
     "metadata": {
      "needs_background": "light"
     },
     "output_type": "display_data"
    },
    {
     "data": {
      "text/html": [
       "<div>\n",
       "<style scoped>\n",
       "    .dataframe tbody tr th:only-of-type {\n",
       "        vertical-align: middle;\n",
       "    }\n",
       "\n",
       "    .dataframe tbody tr th {\n",
       "        vertical-align: top;\n",
       "    }\n",
       "\n",
       "    .dataframe thead th {\n",
       "        text-align: right;\n",
       "    }\n",
       "</style>\n",
       "<table border=\"1\" class=\"dataframe\">\n",
       "  <thead>\n",
       "    <tr style=\"text-align: right;\">\n",
       "      <th></th>\n",
       "      <th>platform</th>\n",
       "      <th>other_sales</th>\n",
       "    </tr>\n",
       "  </thead>\n",
       "  <tbody>\n",
       "    <tr>\n",
       "      <th>0</th>\n",
       "      <td>ps4</td>\n",
       "      <td>44.48</td>\n",
       "    </tr>\n",
       "    <tr>\n",
       "      <th>1</th>\n",
       "      <td>xone</td>\n",
       "      <td>12.52</td>\n",
       "    </tr>\n",
       "    <tr>\n",
       "      <th>2</th>\n",
       "      <td>ps3</td>\n",
       "      <td>9.37</td>\n",
       "    </tr>\n",
       "    <tr>\n",
       "      <th>3</th>\n",
       "      <td>x360</td>\n",
       "      <td>4.35</td>\n",
       "    </tr>\n",
       "    <tr>\n",
       "      <th>4</th>\n",
       "      <td>3ds</td>\n",
       "      <td>3.68</td>\n",
       "    </tr>\n",
       "  </tbody>\n",
       "</table>\n",
       "</div>"
      ],
      "text/plain": [
       "  platform  other_sales\n",
       "0      ps4        44.48\n",
       "1     xone        12.52\n",
       "2      ps3         9.37\n",
       "3     x360         4.35\n",
       "4      3ds         3.68"
      ]
     },
     "metadata": {},
     "output_type": "display_data"
    },
    {
     "name": "stdout",
     "output_type": "stream",
     "text": [
      "\n",
      "\n"
     ]
    },
    {
     "data": {
      "image/png": "[encoded data removed]",
      "text/plain": [
       "<Figure size 432x288 with 1 Axes>"
      ]
     },
     "metadata": {
      "needs_background": "light"
     },
     "output_type": "display_data"
    },
    {
     "data": {
      "text/html": [
       "<div>\n",
       "<style scoped>\n",
       "    .dataframe tbody tr th:only-of-type {\n",
       "        vertical-align: middle;\n",
       "    }\n",
       "\n",
       "    .dataframe tbody tr th {\n",
       "        vertical-align: top;\n",
       "    }\n",
       "\n",
       "    .dataframe thead th {\n",
       "        text-align: right;\n",
       "    }\n",
       "</style>\n",
       "<table border=\"1\" class=\"dataframe\">\n",
       "  <thead>\n",
       "    <tr style=\"text-align: right;\">\n",
       "      <th></th>\n",
       "      <th>genre</th>\n",
       "      <th>other_sales</th>\n",
       "    </tr>\n",
       "  </thead>\n",
       "  <tbody>\n",
       "    <tr>\n",
       "      <th>0</th>\n",
       "      <td>action</td>\n",
       "      <td>20.72</td>\n",
       "    </tr>\n",
       "    <tr>\n",
       "      <th>1</th>\n",
       "      <td>shooter</td>\n",
       "      <td>20.66</td>\n",
       "    </tr>\n",
       "    <tr>\n",
       "      <th>2</th>\n",
       "      <td>sports</td>\n",
       "      <td>14.05</td>\n",
       "    </tr>\n",
       "    <tr>\n",
       "      <th>3</th>\n",
       "      <td>role-playing</td>\n",
       "      <td>7.84</td>\n",
       "    </tr>\n",
       "    <tr>\n",
       "      <th>4</th>\n",
       "      <td>misc</td>\n",
       "      <td>3.08</td>\n",
       "    </tr>\n",
       "  </tbody>\n",
       "</table>\n",
       "</div>"
      ],
      "text/plain": [
       "          genre  other_sales\n",
       "0        action        20.72\n",
       "1       shooter        20.66\n",
       "2        sports        14.05\n",
       "3  role-playing         7.84\n",
       "4          misc         3.08"
      ]
     },
     "metadata": {},
     "output_type": "display_data"
    },
    {
     "name": "stdout",
     "output_type": "stream",
     "text": [
      "\n",
      "\n"
     ]
    },
    {
     "data": {
      "image/png": "[encoded data removed]",
      "text/plain": [
       "<Figure size 432x288 with 1 Axes>"
      ]
     },
     "metadata": {
      "needs_background": "light"
     },
     "output_type": "display_data"
    },
    {
     "data": {
      "text/html": [
       "<div>\n",
       "<style scoped>\n",
       "    .dataframe tbody tr th:only-of-type {\n",
       "        vertical-align: middle;\n",
       "    }\n",
       "\n",
       "    .dataframe tbody tr th {\n",
       "        vertical-align: top;\n",
       "    }\n",
       "\n",
       "    .dataframe thead th {\n",
       "        text-align: right;\n",
       "    }\n",
       "</style>\n",
       "<table border=\"1\" class=\"dataframe\">\n",
       "  <thead>\n",
       "    <tr style=\"text-align: right;\">\n",
       "      <th></th>\n",
       "      <th>rating</th>\n",
       "      <th>other_sales</th>\n",
       "    </tr>\n",
       "  </thead>\n",
       "  <tbody>\n",
       "    <tr>\n",
       "      <th>0</th>\n",
       "      <td>M</td>\n",
       "      <td>27.22</td>\n",
       "    </tr>\n",
       "    <tr>\n",
       "      <th>1</th>\n",
       "      <td>without rating</td>\n",
       "      <td>17.20</td>\n",
       "    </tr>\n",
       "    <tr>\n",
       "      <th>2</th>\n",
       "      <td>E</td>\n",
       "      <td>13.75</td>\n",
       "    </tr>\n",
       "    <tr>\n",
       "      <th>3</th>\n",
       "      <td>T</td>\n",
       "      <td>10.12</td>\n",
       "    </tr>\n",
       "    <tr>\n",
       "      <th>4</th>\n",
       "      <td>E10+</td>\n",
       "      <td>6.11</td>\n",
       "    </tr>\n",
       "  </tbody>\n",
       "</table>\n",
       "</div>"
      ],
      "text/plain": [
       "           rating  other_sales\n",
       "0               M        27.22\n",
       "1  without rating        17.20\n",
       "2               E        13.75\n",
       "3               T        10.12\n",
       "4            E10+         6.11"
      ]
     },
     "metadata": {},
     "output_type": "display_data"
    },
    {
     "name": "stdout",
     "output_type": "stream",
     "text": [
      "\n",
      "\n"
     ]
    },
    {
     "data": {
      "image/png": "[encoded data removed]",
      "text/plain": [
       "<Figure size 432x288 with 1 Axes>"
      ]
     },
     "metadata": {
      "needs_background": "light"
     },
     "output_type": "display_data"
    }
   ],
   "source": [
    "for region in ['na_sales','eu_sales','jp_sales','other_sales']:\n",
    "    for i in ['platform','genre','rating']:\n",
    "        t = slicee.pivot_table(index=[i],values=region,aggfunc='sum')\\\n",
    "                .sort_values(by=region,ascending=False)\\\n",
    "                .head(5)\\\n",
    "                .reset_index()\n",
    "        display(t)\n",
    "        print('\\n')\n",
    "\n",
    "        sb.set_palette(\"Blues\")\n",
    "        sb.barplot(data=t, x=i, y=region)\n",
    "        plt.suptitle('Top 5 platforms, genres and ratings for the entire period', fontsize=15)\n",
    "        plt.show()\n",
    "  "
   ]
  },
  {
   "cell_type": "markdown",
   "id": "495e1d67",
   "metadata": {},
   "source": [
    "# Step 5. Hypothesis testing"
   ]
  },
  {
   "cell_type": "markdown",
   "id": "43561a43",
   "metadata": {},
   "source": [
    "- The average user ratings of the Xbox One and PC platforms are the same;\n",
    "- The average user ratings of the genres `\"Action\"` and `\"Sports\"` are different."
   ]
  },
  {
   "cell_type": "markdown",
   "id": "5332a2c3",
   "metadata": {},
   "source": [
    "**We formulate null hypotheses:**\n",
    "\n",
    "`Null Hypothesis H₀`: The average user ratings of the Xbox One and PC platforms are the same;\n",
    "\n",
    "`Alternative Hypothesis H₁`: Average User Ratings for Xbox One and PC Platforms Differ"
   ]
  },
  {
   "cell_type": "markdown",
   "id": "71f79d24",
   "metadata": {},
   "source": [
    "**Conclusion:** \n",
    "\n",
    "The p-value is just under 4%. Thus it was not possible to disprove the Null hypothesis. That is with a probability of 4% you can get the difference in the ratings of the two platforms"
   ]
  },
  {
   "cell_type": "markdown",
   "id": "651ce4ef",
   "metadata": {},
   "source": [
    "- The generally accepted threshold values are -5% and 1% The final decision on which threshold to consider is sufficient at all times but remains with the analyst;\n",
    "- `equal_var=False` because the variances of the two samples are not equal;\n",
    "- I take up-to-date data from 2014 to 2016;\n",
    "- I remove missings."
   ]
  },
  {
   "cell_type": "code",
   "execution_count": 24,
   "id": "92308069",
   "metadata": {},
   "outputs": [
    {
     "name": "stdout",
     "output_type": "stream",
     "text": [
      "average user rating for xbox 6.594545454545456\n",
      "average user rating for PC 6.316260162601626\n"
     ]
    }
   ],
   "source": [
    "# Save the appropriate data in xbox_hyp and pc_hyp variables\n",
    "# (recent data for the last 10 years)\n",
    "xone_hyp = data[(data['platform']=='xone') & (data['year_of_release'] >= 2014)\\\n",
    "                & (data['year_of_release'] <= 2016)]['user_score']\n",
    "pc_hyp = data[(data['platform']=='pc') & (data['year_of_release'] >= 2014)\\\n",
    "                & (data['year_of_release'] <= 2016)]['user_score']\n",
    "\n",
    "# drop NaN's\n",
    "xone_hyp = xone_hyp.dropna()\n",
    "pc_hyp = pc_hyp.dropna()\n",
    "\n",
    "# average user rating for xbox platforms\n",
    "print('average user rating for xbox',xone_hyp.mean())\n",
    "# average user rating for PC platforms\n",
    "print('average user rating for PC',pc_hyp.mean())"
   ]
  },
  {
   "cell_type": "code",
   "execution_count": 25,
   "id": "44fd07c8",
   "metadata": {},
   "outputs": [
    {
     "name": "stdout",
     "output_type": "stream",
     "text": [
      "1.8795460055096425\n",
      "2.8930689404455023\n"
     ]
    }
   ],
   "source": [
    "# check the variance of the samples\n",
    "print(np.var(xone_hyp))\n",
    "print(np.var(pc_hyp))"
   ]
  },
  {
   "cell_type": "code",
   "execution_count": 26,
   "id": "af779d89",
   "metadata": {
    "scrolled": true
   },
   "outputs": [
    {
     "name": "stdout",
     "output_type": "stream",
     "text": [
      "p-значение: 0.139237120435483\n",
      "Failed to reject the null hypothesis\n"
     ]
    }
   ],
   "source": [
    "# test the hypothesis. use the ttest_ind method\n",
    "\n",
    "alpha = 0.01\n",
    "\n",
    "results = st.ttest_ind(xone_hyp, pc_hyp, equal_var=False)\n",
    "\n",
    "print('p-значение:', results.pvalue)\n",
    "\n",
    "\n",
    "if (results.pvalue < alpha):\n",
    "    print(\"Rejecting the null hypothesis\")\n",
    "else:\n",
    "    print(\"Failed to reject the null hypothesis\")"
   ]
  },
  {
   "cell_type": "markdown",
   "id": "353541fa",
   "metadata": {},
   "source": [
    "**We formulate null hypotheses:**\n",
    "\n",
    "`Null Hypothesis H₀`: The average user ratings of the Action and Sports genres are the same\n",
    "\n",
    "`Alternative hypothesis H₁`: Average user ratings of Action and Sports genres differ"
   ]
  },
  {
   "cell_type": "markdown",
   "id": "6f660c8c",
   "metadata": {},
   "source": [
    "**Conclusion:**\n",
    "\n",
    "Having received the p-value we rejected the null hypothesis. Thus we have almost no chance of getting the same average ratings for the two genres."
   ]
  },
  {
   "cell_type": "code",
   "execution_count": 27,
   "id": "02a5bf1e",
   "metadata": {},
   "outputs": [
    {
     "name": "stdout",
     "output_type": "stream",
     "text": [
      "average rating for action genre 6.766442953020134\n",
      "average rating for sport genre 5.2251968503937\n"
     ]
    }
   ],
   "source": [
    "# Save the corresponding data with user ratings in the genre_action_hyp and genre_sports_hyp variables\n",
    "genre_action_hyp = data[(data['genre']=='action') & (data['year_of_release'] >= 2014)\\\n",
    "                        & (data['year_of_release'] <= 2016)]['user_score']\n",
    "genre_sports_hyp = data[(data['genre']=='sports') & (data['year_of_release'] >= 2014)\\\n",
    "                        & (data['year_of_release'] <= 2016)]['user_score']\n",
    "\n",
    "# drop NaN's\n",
    "genre_action_hyp = genre_action_hyp.dropna()\n",
    "genre_sports_hyp = genre_sports_hyp.dropna()\n",
    "\n",
    "# average rating for action genre\n",
    "print('average rating for action genre',genre_action_hyp.mean())\n",
    "# average rating for sport genre\n",
    "print('average rating for sport genre',genre_sports_hyp.mean())"
   ]
  },
  {
   "cell_type": "code",
   "execution_count": 28,
   "id": "41d34446",
   "metadata": {},
   "outputs": [
    {
     "name": "stdout",
     "output_type": "stream",
     "text": [
      "1.895853790369803\n",
      "3.4198375596751185\n"
     ]
    }
   ],
   "source": [
    "# sampling variance test\n",
    "print(np.var(genre_action_hyp))\n",
    "print(np.var(genre_sports_hyp))"
   ]
  },
  {
   "cell_type": "code",
   "execution_count": 29,
   "id": "ddb48bce",
   "metadata": {},
   "outputs": [
    {
     "name": "stdout",
     "output_type": "stream",
     "text": [
      "p-значение: 9.658176026869598e-15\n",
      "Rejecting the null hypothesis\n"
     ]
    }
   ],
   "source": [
    "# hypothesis testing. use the ttest_ind method\n",
    "\n",
    "alpha = 0.01\n",
    "\n",
    "results = st.ttest_ind(genre_action_hyp, genre_sports_hyp, equal_var=False)\n",
    "\n",
    "print('p-значение:', results.pvalue)\n",
    "\n",
    "\n",
    "if (results.pvalue < alpha):\n",
    "    print(\"Rejecting the null hypothesis\")\n",
    "else:\n",
    "    print(\"Failed to reject the null hypothesis\")"
   ]
  },
  {
   "cell_type": "markdown",
   "id": "4099234a",
   "metadata": {},
   "source": [
    "**Conclusion**:\n",
    "\n",
    "- Hypothesis: \"The average user ratings of the Xbox one and PC platforms are the same.\" The null hypothesis could not be disproven.\n",
    "\n",
    "- Hypothesis: \"Average user ratings for the Action and Sports genres are different.\" We reject the null hypothesis."
   ]
  },
  {
   "cell_type": "markdown",
   "id": "914edb00",
   "metadata": {},
   "source": [
    "# Step 6. General Conclusion"
   ]
  },
  {
   "cell_type": "markdown",
   "id": "f6aaedd0",
   "metadata": {},
   "source": [
    "- Before analysis data preparation was carried out.\n",
    "- Fixed data types in dataframe.\n",
    "- Column names and their data are reduced to lower case.\n",
    "- It is determined that the abbreviation TBD means to be determined to be done. The data was left blank on purpose. Therefore we replaced tbd with nan for further analysis.\n",
    "\n",
    "- After analyzing we found that the number of games on game consoles and computers began to grow at a high rate from the 90s to 2008. Since 2008 after the mass creation of mobile applications and mobile games there has been a sharp decline in the development of console games.\n",
    "\n",
    "- The current period was chosen from 2014 to 2016.\n",
    "- The most relevant platforms for the entire period: 'ps2','x360','ps3','wii','ds','ps'\n",
    "- Most popular platforms for the current period: xone, wiiu, PS4, PS3, Xbox 360\n",
    "- It has also been found that the average life expectancy of a game console is about 10 years. The peak of sales comes about 5 years after the release of the console.\n",
    "\n",
    "- Based on the analysis we saw that the Nintendo WII had a sharp jump in 2009 and the same sharp dip. Most likely because people did not have much interest in the console, when there was always a smartphone at hand.\n",
    "- After analyzing the ratings of users and critics, it was found that the ratings of critics and users have a weak relationship with game sales. However, the higher the rating of critics or users the better the sale of the game.\n",
    "- that the most popular genre of all time is Action. Last in strategy\n",
    "\n",
    "Based on all the data an assumption was made that it is best to sell games for consoles such as the Sony Playstation 4\n",
    "You need to choose a genre shooter and choose games with an \"M\" rating then sales will be much higher than if you sell other games."
   ]
  }
 ],
 "metadata": {
  "ExecuteTimeLog": [
   {
    "duration": 1658,
    "start_time": "2022-06-22T07:02:45.533Z"
   },
   {
    "duration": 127,
    "start_time": "2022-06-22T07:02:47.193Z"
   },
   {
    "duration": 21,
    "start_time": "2022-06-22T07:02:47.322Z"
   },
   {
    "duration": 23,
    "start_time": "2022-06-22T07:02:47.344Z"
   },
   {
    "duration": 29,
    "start_time": "2022-06-22T07:02:47.372Z"
   },
   {
    "duration": 9,
    "start_time": "2022-06-22T07:02:47.405Z"
   },
   {
    "duration": 5,
    "start_time": "2022-06-22T07:03:03.212Z"
   },
   {
    "duration": 7,
    "start_time": "2022-06-22T07:03:18.135Z"
   },
   {
    "duration": 29,
    "start_time": "2022-06-22T07:03:42.770Z"
   },
   {
    "duration": 4,
    "start_time": "2022-06-22T07:23:22.597Z"
   },
   {
    "duration": 77,
    "start_time": "2022-06-22T07:23:22.605Z"
   },
   {
    "duration": 25,
    "start_time": "2022-06-22T07:23:22.685Z"
   },
   {
    "duration": 12,
    "start_time": "2022-06-22T07:23:22.713Z"
   },
   {
    "duration": 51,
    "start_time": "2022-06-22T07:23:22.727Z"
   },
   {
    "duration": 7,
    "start_time": "2022-06-22T07:23:22.783Z"
   },
   {
    "duration": 639,
    "start_time": "2022-06-22T07:23:22.791Z"
   },
   {
    "duration": 6,
    "start_time": "2022-06-22T07:23:23.433Z"
   },
   {
    "duration": 45,
    "start_time": "2022-06-22T07:23:23.441Z"
   },
   {
    "duration": 505,
    "start_time": "2022-06-22T07:23:23.489Z"
   },
   {
    "duration": 10,
    "start_time": "2022-06-22T07:23:28.532Z"
   },
   {
    "duration": 3,
    "start_time": "2022-06-22T09:41:48.986Z"
   },
   {
    "duration": 93,
    "start_time": "2022-06-22T09:41:48.993Z"
   },
   {
    "duration": 35,
    "start_time": "2022-06-22T09:41:49.088Z"
   },
   {
    "duration": 12,
    "start_time": "2022-06-22T09:41:49.126Z"
   },
   {
    "duration": 61,
    "start_time": "2022-06-22T09:41:49.140Z"
   },
   {
    "duration": 5,
    "start_time": "2022-06-22T09:41:49.204Z"
   },
   {
    "duration": 650,
    "start_time": "2022-06-22T09:41:49.211Z"
   },
   {
    "duration": 8,
    "start_time": "2022-06-22T09:41:49.876Z"
   },
   {
    "duration": 66,
    "start_time": "2022-06-22T09:41:49.887Z"
   },
   {
    "duration": 734,
    "start_time": "2022-06-22T09:41:49.958Z"
   },
   {
    "duration": 447,
    "start_time": "2022-06-22T09:41:50.697Z"
   },
   {
    "duration": 26,
    "start_time": "2022-06-22T09:41:51.153Z"
   },
   {
    "duration": 21,
    "start_time": "2022-06-22T09:41:53.204Z"
   },
   {
    "duration": 28,
    "start_time": "2022-06-22T09:41:57.577Z"
   },
   {
    "duration": 38,
    "start_time": "2022-06-22T09:42:30.392Z"
   },
   {
    "duration": 29,
    "start_time": "2022-06-22T09:43:13.086Z"
   },
   {
    "duration": 19,
    "start_time": "2022-06-22T09:43:23.903Z"
   },
   {
    "duration": 5,
    "start_time": "2022-06-22T11:26:34.011Z"
   },
   {
    "duration": 99,
    "start_time": "2022-06-22T11:26:34.019Z"
   },
   {
    "duration": 51,
    "start_time": "2022-06-22T11:26:34.121Z"
   },
   {
    "duration": 37,
    "start_time": "2022-06-22T11:26:34.174Z"
   },
   {
    "duration": 57,
    "start_time": "2022-06-22T11:26:34.213Z"
   },
   {
    "duration": 16,
    "start_time": "2022-06-22T11:26:34.273Z"
   },
   {
    "duration": 796,
    "start_time": "2022-06-22T11:26:34.291Z"
   },
   {
    "duration": 11,
    "start_time": "2022-06-22T11:26:35.090Z"
   },
   {
    "duration": 75,
    "start_time": "2022-06-22T11:26:35.105Z"
   },
   {
    "duration": 806,
    "start_time": "2022-06-22T11:26:35.186Z"
   },
   {
    "duration": 603,
    "start_time": "2022-06-22T11:26:35.995Z"
   },
   {
    "duration": 20,
    "start_time": "2022-06-22T11:26:36.601Z"
   },
   {
    "duration": 41,
    "start_time": "2022-06-22T11:26:36.623Z"
   },
   {
    "duration": 468,
    "start_time": "2022-06-22T11:26:36.674Z"
   },
   {
    "duration": 550,
    "start_time": "2022-06-22T11:26:37.145Z"
   },
   {
    "duration": 60,
    "start_time": "2022-06-22T11:26:37.697Z"
   },
   {
    "duration": 352,
    "start_time": "2022-06-22T11:26:37.760Z"
   },
   {
    "duration": 7,
    "start_time": "2022-06-22T11:26:38.116Z"
   },
   {
    "duration": 558,
    "start_time": "2022-06-22T11:26:38.126Z"
   },
   {
    "duration": 2186,
    "start_time": "2022-06-22T11:26:38.692Z"
   },
   {
    "duration": 19,
    "start_time": "2022-06-22T11:26:40.881Z"
   },
   {
    "duration": 377,
    "start_time": "2022-06-22T11:26:40.903Z"
   },
   {
    "duration": 2383,
    "start_time": "2022-06-22T11:26:41.283Z"
   },
   {
    "duration": 16,
    "start_time": "2022-06-22T11:26:43.671Z"
   },
   {
    "duration": 15,
    "start_time": "2022-06-22T11:27:10.141Z"
   },
   {
    "duration": 7,
    "start_time": "2022-06-22T11:27:12.498Z"
   },
   {
    "duration": 5,
    "start_time": "2022-06-22T11:30:52.949Z"
   },
   {
    "duration": 64,
    "start_time": "2022-06-22T11:30:52.965Z"
   },
   {
    "duration": 38,
    "start_time": "2022-06-22T11:30:53.030Z"
   },
   {
    "duration": 14,
    "start_time": "2022-06-22T11:30:53.070Z"
   },
   {
    "duration": 16,
    "start_time": "2022-06-22T11:30:53.087Z"
   },
   {
    "duration": 4,
    "start_time": "2022-06-22T11:30:53.105Z"
   },
   {
    "duration": 635,
    "start_time": "2022-06-22T11:30:53.111Z"
   },
   {
    "duration": 12,
    "start_time": "2022-06-22T11:30:53.748Z"
   },
   {
    "duration": 41,
    "start_time": "2022-06-22T11:30:53.768Z"
   },
   {
    "duration": 477,
    "start_time": "2022-06-22T11:30:53.811Z"
   },
   {
    "duration": 548,
    "start_time": "2022-06-22T11:30:54.291Z"
   },
   {
    "duration": 28,
    "start_time": "2022-06-22T11:30:54.843Z"
   },
   {
    "duration": 63,
    "start_time": "2022-06-22T11:30:54.875Z"
   },
   {
    "duration": 489,
    "start_time": "2022-06-22T11:30:54.941Z"
   },
   {
    "duration": 387,
    "start_time": "2022-06-22T11:30:55.433Z"
   },
   {
    "duration": 61,
    "start_time": "2022-06-22T11:30:55.823Z"
   },
   {
    "duration": 268,
    "start_time": "2022-06-22T11:30:55.887Z"
   },
   {
    "duration": 6,
    "start_time": "2022-06-22T11:30:56.164Z"
   },
   {
    "duration": 398,
    "start_time": "2022-06-22T11:30:56.173Z"
   },
   {
    "duration": 1901,
    "start_time": "2022-06-22T11:30:56.573Z"
   },
   {
    "duration": 19,
    "start_time": "2022-06-22T11:30:58.476Z"
   },
   {
    "duration": 246,
    "start_time": "2022-06-22T11:30:58.498Z"
   },
   {
    "duration": 2225,
    "start_time": "2022-06-22T11:30:58.746Z"
   },
   {
    "duration": 14,
    "start_time": "2022-06-22T11:31:00.973Z"
   },
   {
    "duration": 15,
    "start_time": "2022-06-22T11:31:00.989Z"
   },
   {
    "duration": 35,
    "start_time": "2022-06-22T11:31:01.006Z"
   },
   {
    "duration": 42,
    "start_time": "2022-06-22T11:31:01.043Z"
   },
   {
    "duration": 47,
    "start_time": "2022-06-23T16:33:20.602Z"
   },
   {
    "duration": 1383,
    "start_time": "2022-06-23T16:33:28.939Z"
   },
   {
    "duration": 92,
    "start_time": "2022-06-23T16:33:30.324Z"
   },
   {
    "duration": 26,
    "start_time": "2022-06-23T16:33:30.417Z"
   },
   {
    "duration": 10,
    "start_time": "2022-06-23T16:33:30.576Z"
   },
   {
    "duration": 2,
    "start_time": "2022-06-23T16:33:34.498Z"
   },
   {
    "duration": 79,
    "start_time": "2022-06-23T16:33:37.204Z"
   },
   {
    "duration": 89,
    "start_time": "2022-06-23T16:33:52.583Z"
   },
   {
    "duration": 15,
    "start_time": "2022-06-23T16:34:17.856Z"
   },
   {
    "duration": 1076,
    "start_time": "2022-06-23T16:43:59.159Z"
   },
   {
    "duration": 53,
    "start_time": "2022-06-23T16:44:00.237Z"
   },
   {
    "duration": 24,
    "start_time": "2022-06-23T16:44:00.291Z"
   },
   {
    "duration": 10,
    "start_time": "2022-06-23T16:44:00.317Z"
   },
   {
    "duration": 69,
    "start_time": "2022-06-23T16:44:00.328Z"
   },
   {
    "duration": 15,
    "start_time": "2022-06-23T16:44:00.399Z"
   },
   {
    "duration": 11,
    "start_time": "2022-06-23T16:44:00.416Z"
   },
   {
    "duration": 483,
    "start_time": "2022-06-23T16:44:00.429Z"
   },
   {
    "duration": 10,
    "start_time": "2022-06-23T16:44:00.914Z"
   },
   {
    "duration": 31,
    "start_time": "2022-06-23T16:44:00.925Z"
   },
   {
    "duration": 399,
    "start_time": "2022-06-23T16:44:00.958Z"
   },
   {
    "duration": 358,
    "start_time": "2022-06-23T16:44:01.358Z"
   },
   {
    "duration": 20,
    "start_time": "2022-06-23T16:44:01.719Z"
   },
   {
    "duration": 36,
    "start_time": "2022-06-23T16:44:01.742Z"
   },
   {
    "duration": 324,
    "start_time": "2022-06-23T16:44:01.779Z"
   },
   {
    "duration": 299,
    "start_time": "2022-06-23T16:44:02.106Z"
   },
   {
    "duration": 42,
    "start_time": "2022-06-23T16:44:02.407Z"
   },
   {
    "duration": 334,
    "start_time": "2022-06-23T16:44:02.450Z"
   },
   {
    "duration": 5,
    "start_time": "2022-06-23T16:44:02.786Z"
   },
   {
    "duration": 323,
    "start_time": "2022-06-23T16:44:02.792Z"
   },
   {
    "duration": 1470,
    "start_time": "2022-06-23T16:44:03.117Z"
   },
   {
    "duration": 15,
    "start_time": "2022-06-23T16:44:04.589Z"
   },
   {
    "duration": 235,
    "start_time": "2022-06-23T16:44:04.606Z"
   },
   {
    "duration": 1801,
    "start_time": "2022-06-23T16:44:04.842Z"
   },
   {
    "duration": 10,
    "start_time": "2022-06-23T16:44:06.644Z"
   },
   {
    "duration": 9,
    "start_time": "2022-06-23T16:44:06.655Z"
   },
   {
    "duration": 12,
    "start_time": "2022-06-23T16:44:06.665Z"
   },
   {
    "duration": 6,
    "start_time": "2022-06-23T16:44:06.679Z"
   },
   {
    "duration": 1102,
    "start_time": "2022-06-23T16:45:13.580Z"
   },
   {
    "duration": 11,
    "start_time": "2022-06-23T16:45:28.173Z"
   },
   {
    "duration": 13,
    "start_time": "2022-06-23T16:45:47.215Z"
   },
   {
    "duration": 11,
    "start_time": "2022-06-23T16:45:54.035Z"
   },
   {
    "duration": 6,
    "start_time": "2022-06-23T16:49:17.884Z"
   },
   {
    "duration": 7,
    "start_time": "2022-06-23T16:49:46.148Z"
   },
   {
    "duration": 7,
    "start_time": "2022-06-23T16:50:15.917Z"
   },
   {
    "duration": 10,
    "start_time": "2022-06-23T16:50:29.387Z"
   },
   {
    "duration": 167,
    "start_time": "2022-06-23T16:52:22.531Z"
   },
   {
    "duration": 46,
    "start_time": "2022-06-23T16:52:32.494Z"
   },
   {
    "duration": 1118,
    "start_time": "2022-06-23T16:52:55.528Z"
   },
   {
    "duration": 51,
    "start_time": "2022-06-23T16:52:56.648Z"
   },
   {
    "duration": 23,
    "start_time": "2022-06-23T16:52:56.701Z"
   },
   {
    "duration": 8,
    "start_time": "2022-06-23T16:52:56.725Z"
   },
   {
    "duration": 53,
    "start_time": "2022-06-23T16:52:56.735Z"
   },
   {
    "duration": 13,
    "start_time": "2022-06-23T16:52:56.790Z"
   },
   {
    "duration": 3,
    "start_time": "2022-06-23T16:52:56.823Z"
   },
   {
    "duration": 16,
    "start_time": "2022-06-23T16:52:56.827Z"
   },
   {
    "duration": 464,
    "start_time": "2022-06-23T16:53:00.373Z"
   },
   {
    "duration": 15,
    "start_time": "2022-06-23T16:53:28.685Z"
   },
   {
    "duration": 22,
    "start_time": "2022-06-23T16:53:43.659Z"
   },
   {
    "duration": 14,
    "start_time": "2022-06-23T16:55:55.998Z"
   },
   {
    "duration": 53,
    "start_time": "2022-06-23T16:56:08.556Z"
   },
   {
    "duration": 15,
    "start_time": "2022-06-23T16:56:13.672Z"
   },
   {
    "duration": 15,
    "start_time": "2022-06-23T16:56:22.267Z"
   },
   {
    "duration": 3,
    "start_time": "2022-06-23T16:59:04.340Z"
   },
   {
    "duration": 21,
    "start_time": "2022-06-23T16:59:08.900Z"
   },
   {
    "duration": 25,
    "start_time": "2022-06-23T16:59:25.330Z"
   },
   {
    "duration": 12,
    "start_time": "2022-06-23T16:59:32.915Z"
   },
   {
    "duration": 3,
    "start_time": "2022-06-23T16:59:58.493Z"
   },
   {
    "duration": 925,
    "start_time": "2022-06-23T16:59:59.019Z"
   },
   {
    "duration": 0,
    "start_time": "2022-06-23T16:59:59.946Z"
   },
   {
    "duration": 9,
    "start_time": "2022-06-23T17:00:27.834Z"
   },
   {
    "duration": 1117,
    "start_time": "2022-06-23T17:01:33.241Z"
   },
   {
    "duration": 52,
    "start_time": "2022-06-23T17:01:34.360Z"
   },
   {
    "duration": 24,
    "start_time": "2022-06-23T17:01:34.413Z"
   },
   {
    "duration": 8,
    "start_time": "2022-06-23T17:01:34.439Z"
   },
   {
    "duration": 64,
    "start_time": "2022-06-23T17:01:34.449Z"
   },
   {
    "duration": 16,
    "start_time": "2022-06-23T17:01:34.514Z"
   },
   {
    "duration": 13,
    "start_time": "2022-06-23T17:01:34.531Z"
   },
   {
    "duration": 19,
    "start_time": "2022-06-23T17:01:34.545Z"
   },
   {
    "duration": 487,
    "start_time": "2022-06-23T17:01:34.566Z"
   },
   {
    "duration": 10,
    "start_time": "2022-06-23T17:01:35.056Z"
   },
   {
    "duration": 21,
    "start_time": "2022-06-23T17:01:35.068Z"
   },
   {
    "duration": 34,
    "start_time": "2022-06-23T17:01:35.091Z"
   },
   {
    "duration": 4,
    "start_time": "2022-06-23T17:01:35.127Z"
   },
   {
    "duration": 27,
    "start_time": "2022-06-23T17:01:35.133Z"
   },
   {
    "duration": 429,
    "start_time": "2022-06-23T17:01:35.162Z"
   },
   {
    "duration": 386,
    "start_time": "2022-06-23T17:01:35.593Z"
   },
   {
    "duration": 17,
    "start_time": "2022-06-23T17:01:35.981Z"
   },
   {
    "duration": 38,
    "start_time": "2022-06-23T17:01:36.000Z"
   },
   {
    "duration": 304,
    "start_time": "2022-06-23T17:01:36.039Z"
   },
   {
    "duration": 321,
    "start_time": "2022-06-23T17:01:36.345Z"
   },
   {
    "duration": 33,
    "start_time": "2022-06-23T17:01:36.668Z"
   },
   {
    "duration": 271,
    "start_time": "2022-06-23T17:01:36.703Z"
   },
   {
    "duration": 6,
    "start_time": "2022-06-23T17:01:36.975Z"
   },
   {
    "duration": 598,
    "start_time": "2022-06-23T17:01:36.982Z"
   },
   {
    "duration": 0,
    "start_time": "2022-06-23T17:01:37.583Z"
   },
   {
    "duration": 0,
    "start_time": "2022-06-23T17:01:37.585Z"
   },
   {
    "duration": 0,
    "start_time": "2022-06-23T17:01:37.586Z"
   },
   {
    "duration": 0,
    "start_time": "2022-06-23T17:01:37.588Z"
   },
   {
    "duration": 0,
    "start_time": "2022-06-23T17:01:37.590Z"
   },
   {
    "duration": 0,
    "start_time": "2022-06-23T17:01:37.591Z"
   },
   {
    "duration": 0,
    "start_time": "2022-06-23T17:01:37.593Z"
   },
   {
    "duration": 0,
    "start_time": "2022-06-23T17:01:37.594Z"
   },
   {
    "duration": 483,
    "start_time": "2022-06-23T17:03:11.540Z"
   },
   {
    "duration": 285,
    "start_time": "2022-06-23T17:04:30.321Z"
   },
   {
    "duration": 1136,
    "start_time": "2022-06-23T17:04:45.215Z"
   },
   {
    "duration": 52,
    "start_time": "2022-06-23T17:04:46.352Z"
   },
   {
    "duration": 22,
    "start_time": "2022-06-23T17:04:46.405Z"
   },
   {
    "duration": 7,
    "start_time": "2022-06-23T17:04:46.429Z"
   },
   {
    "duration": 50,
    "start_time": "2022-06-23T17:04:46.437Z"
   },
   {
    "duration": 13,
    "start_time": "2022-06-23T17:04:46.488Z"
   },
   {
    "duration": 21,
    "start_time": "2022-06-23T17:04:46.503Z"
   },
   {
    "duration": 22,
    "start_time": "2022-06-23T17:04:46.525Z"
   },
   {
    "duration": 475,
    "start_time": "2022-06-23T17:04:46.549Z"
   },
   {
    "duration": 9,
    "start_time": "2022-06-23T17:04:47.027Z"
   },
   {
    "duration": 18,
    "start_time": "2022-06-23T17:04:47.037Z"
   },
   {
    "duration": 21,
    "start_time": "2022-06-23T17:04:47.057Z"
   },
   {
    "duration": 5,
    "start_time": "2022-06-23T17:04:47.080Z"
   },
   {
    "duration": 50,
    "start_time": "2022-06-23T17:04:47.086Z"
   },
   {
    "duration": 392,
    "start_time": "2022-06-23T17:04:47.139Z"
   },
   {
    "duration": 334,
    "start_time": "2022-06-23T17:04:47.533Z"
   },
   {
    "duration": 15,
    "start_time": "2022-06-23T17:04:47.869Z"
   },
   {
    "duration": 18,
    "start_time": "2022-06-23T17:04:47.885Z"
   },
   {
    "duration": 316,
    "start_time": "2022-06-23T17:04:47.923Z"
   },
   {
    "duration": 298,
    "start_time": "2022-06-23T17:04:48.241Z"
   },
   {
    "duration": 31,
    "start_time": "2022-06-23T17:04:48.541Z"
   },
   {
    "duration": 338,
    "start_time": "2022-06-23T17:04:48.574Z"
   },
   {
    "duration": 13,
    "start_time": "2022-06-23T17:04:48.913Z"
   },
   {
    "duration": 316,
    "start_time": "2022-06-23T17:04:48.928Z"
   },
   {
    "duration": 634,
    "start_time": "2022-06-23T17:04:49.246Z"
   },
   {
    "duration": 0,
    "start_time": "2022-06-23T17:04:49.883Z"
   },
   {
    "duration": 0,
    "start_time": "2022-06-23T17:04:49.884Z"
   },
   {
    "duration": 0,
    "start_time": "2022-06-23T17:04:49.885Z"
   },
   {
    "duration": 0,
    "start_time": "2022-06-23T17:04:49.886Z"
   },
   {
    "duration": 0,
    "start_time": "2022-06-23T17:04:49.887Z"
   },
   {
    "duration": 0,
    "start_time": "2022-06-23T17:04:49.888Z"
   },
   {
    "duration": 0,
    "start_time": "2022-06-23T17:04:49.889Z"
   },
   {
    "duration": 1504,
    "start_time": "2022-06-23T17:07:12.040Z"
   },
   {
    "duration": 1086,
    "start_time": "2022-06-23T17:08:30.977Z"
   },
   {
    "duration": 53,
    "start_time": "2022-06-23T17:08:32.065Z"
   },
   {
    "duration": 24,
    "start_time": "2022-06-23T17:08:32.120Z"
   },
   {
    "duration": 20,
    "start_time": "2022-06-23T17:08:32.146Z"
   },
   {
    "duration": 63,
    "start_time": "2022-06-23T17:08:32.168Z"
   },
   {
    "duration": 17,
    "start_time": "2022-06-23T17:08:32.233Z"
   },
   {
    "duration": 3,
    "start_time": "2022-06-23T17:08:32.252Z"
   },
   {
    "duration": 18,
    "start_time": "2022-06-23T17:08:32.257Z"
   },
   {
    "duration": 559,
    "start_time": "2022-06-23T17:08:32.277Z"
   },
   {
    "duration": 9,
    "start_time": "2022-06-23T17:08:32.838Z"
   },
   {
    "duration": 15,
    "start_time": "2022-06-23T17:08:32.849Z"
   },
   {
    "duration": 28,
    "start_time": "2022-06-23T17:08:32.866Z"
   },
   {
    "duration": 14,
    "start_time": "2022-06-23T17:08:32.895Z"
   },
   {
    "duration": 44,
    "start_time": "2022-06-23T17:08:32.911Z"
   },
   {
    "duration": 382,
    "start_time": "2022-06-23T17:08:32.957Z"
   },
   {
    "duration": 329,
    "start_time": "2022-06-23T17:08:33.340Z"
   },
   {
    "duration": 14,
    "start_time": "2022-06-23T17:08:33.671Z"
   },
   {
    "duration": 16,
    "start_time": "2022-06-23T17:08:33.687Z"
   },
   {
    "duration": 314,
    "start_time": "2022-06-23T17:08:33.705Z"
   },
   {
    "duration": 297,
    "start_time": "2022-06-23T17:08:34.021Z"
   },
   {
    "duration": 32,
    "start_time": "2022-06-23T17:08:34.320Z"
   },
   {
    "duration": 275,
    "start_time": "2022-06-23T17:08:34.353Z"
   },
   {
    "duration": 5,
    "start_time": "2022-06-23T17:08:34.630Z"
   },
   {
    "duration": 960,
    "start_time": "2022-06-23T17:08:34.637Z"
   },
   {
    "duration": 828,
    "start_time": "2022-06-23T17:08:35.599Z"
   },
   {
    "duration": 0,
    "start_time": "2022-06-23T17:08:36.429Z"
   },
   {
    "duration": 0,
    "start_time": "2022-06-23T17:08:36.430Z"
   },
   {
    "duration": 0,
    "start_time": "2022-06-23T17:08:36.432Z"
   },
   {
    "duration": 0,
    "start_time": "2022-06-23T17:08:36.433Z"
   },
   {
    "duration": 1,
    "start_time": "2022-06-23T17:08:36.434Z"
   },
   {
    "duration": 0,
    "start_time": "2022-06-23T17:08:36.436Z"
   },
   {
    "duration": 0,
    "start_time": "2022-06-23T17:08:36.438Z"
   },
   {
    "duration": 913,
    "start_time": "2022-06-23T17:08:49.417Z"
   },
   {
    "duration": 924,
    "start_time": "2022-06-23T17:09:18.979Z"
   },
   {
    "duration": 1140,
    "start_time": "2022-06-23T17:11:24.313Z"
   },
   {
    "duration": 58,
    "start_time": "2022-06-23T17:11:25.455Z"
   },
   {
    "duration": 23,
    "start_time": "2022-06-23T17:11:25.515Z"
   },
   {
    "duration": 10,
    "start_time": "2022-06-23T17:11:25.540Z"
   },
   {
    "duration": 53,
    "start_time": "2022-06-23T17:11:25.553Z"
   },
   {
    "duration": 15,
    "start_time": "2022-06-23T17:11:25.622Z"
   },
   {
    "duration": 6,
    "start_time": "2022-06-23T17:11:25.639Z"
   },
   {
    "duration": 19,
    "start_time": "2022-06-23T17:11:25.646Z"
   },
   {
    "duration": 519,
    "start_time": "2022-06-23T17:11:25.667Z"
   },
   {
    "duration": 10,
    "start_time": "2022-06-23T17:11:26.187Z"
   },
   {
    "duration": 24,
    "start_time": "2022-06-23T17:11:26.199Z"
   },
   {
    "duration": 22,
    "start_time": "2022-06-23T17:11:26.225Z"
   },
   {
    "duration": 4,
    "start_time": "2022-06-23T17:11:26.249Z"
   },
   {
    "duration": 26,
    "start_time": "2022-06-23T17:11:26.256Z"
   },
   {
    "duration": 422,
    "start_time": "2022-06-23T17:11:26.284Z"
   },
   {
    "duration": 351,
    "start_time": "2022-06-23T17:11:26.708Z"
   },
   {
    "duration": 15,
    "start_time": "2022-06-23T17:11:27.061Z"
   },
   {
    "duration": 18,
    "start_time": "2022-06-23T17:11:27.077Z"
   },
   {
    "duration": 327,
    "start_time": "2022-06-23T17:11:27.096Z"
   },
   {
    "duration": 330,
    "start_time": "2022-06-23T17:11:27.425Z"
   },
   {
    "duration": 35,
    "start_time": "2022-06-23T17:11:27.757Z"
   },
   {
    "duration": 295,
    "start_time": "2022-06-23T17:11:27.795Z"
   },
   {
    "duration": 6,
    "start_time": "2022-06-23T17:11:28.091Z"
   },
   {
    "duration": 303,
    "start_time": "2022-06-23T17:11:28.098Z"
   },
   {
    "duration": 567,
    "start_time": "2022-06-23T17:11:28.403Z"
   },
   {
    "duration": 0,
    "start_time": "2022-06-23T17:11:28.972Z"
   },
   {
    "duration": 0,
    "start_time": "2022-06-23T17:11:28.973Z"
   },
   {
    "duration": 0,
    "start_time": "2022-06-23T17:11:28.974Z"
   },
   {
    "duration": 0,
    "start_time": "2022-06-23T17:11:28.975Z"
   },
   {
    "duration": 0,
    "start_time": "2022-06-23T17:11:28.976Z"
   },
   {
    "duration": 0,
    "start_time": "2022-06-23T17:11:28.977Z"
   },
   {
    "duration": 0,
    "start_time": "2022-06-23T17:11:28.978Z"
   },
   {
    "duration": 1164,
    "start_time": "2022-06-23T17:12:28.302Z"
   },
   {
    "duration": 53,
    "start_time": "2022-06-23T17:12:29.467Z"
   },
   {
    "duration": 24,
    "start_time": "2022-06-23T17:12:29.521Z"
   },
   {
    "duration": 8,
    "start_time": "2022-06-23T17:12:29.547Z"
   },
   {
    "duration": 50,
    "start_time": "2022-06-23T17:12:29.557Z"
   },
   {
    "duration": 27,
    "start_time": "2022-06-23T17:12:29.609Z"
   },
   {
    "duration": 4,
    "start_time": "2022-06-23T17:12:29.638Z"
   },
   {
    "duration": 31,
    "start_time": "2022-06-23T17:12:29.644Z"
   },
   {
    "duration": 9,
    "start_time": "2022-06-23T17:12:29.677Z"
   },
   {
    "duration": 511,
    "start_time": "2022-06-23T17:12:29.688Z"
   },
   {
    "duration": 9,
    "start_time": "2022-06-23T17:12:30.201Z"
   },
   {
    "duration": 14,
    "start_time": "2022-06-23T17:12:30.223Z"
   },
   {
    "duration": 21,
    "start_time": "2022-06-23T17:12:30.239Z"
   },
   {
    "duration": 5,
    "start_time": "2022-06-23T17:12:30.263Z"
   },
   {
    "duration": 26,
    "start_time": "2022-06-23T17:12:30.269Z"
   },
   {
    "duration": 389,
    "start_time": "2022-06-23T17:12:30.297Z"
   },
   {
    "duration": 324,
    "start_time": "2022-06-23T17:12:30.689Z"
   },
   {
    "duration": 22,
    "start_time": "2022-06-23T17:12:31.015Z"
   },
   {
    "duration": 31,
    "start_time": "2022-06-23T17:12:31.039Z"
   },
   {
    "duration": 296,
    "start_time": "2022-06-23T17:12:31.071Z"
   },
   {
    "duration": 295,
    "start_time": "2022-06-23T17:12:31.369Z"
   },
   {
    "duration": 37,
    "start_time": "2022-06-23T17:12:31.666Z"
   },
   {
    "duration": 284,
    "start_time": "2022-06-23T17:12:31.704Z"
   },
   {
    "duration": 4,
    "start_time": "2022-06-23T17:12:31.990Z"
   },
   {
    "duration": 283,
    "start_time": "2022-06-23T17:12:31.996Z"
   },
   {
    "duration": 1455,
    "start_time": "2022-06-23T17:12:32.281Z"
   },
   {
    "duration": 15,
    "start_time": "2022-06-23T17:12:33.738Z"
   },
   {
    "duration": 230,
    "start_time": "2022-06-23T17:12:33.754Z"
   },
   {
    "duration": 1759,
    "start_time": "2022-06-23T17:12:33.986Z"
   },
   {
    "duration": 12,
    "start_time": "2022-06-23T17:12:35.747Z"
   },
   {
    "duration": 7,
    "start_time": "2022-06-23T17:12:35.760Z"
   },
   {
    "duration": 16,
    "start_time": "2022-06-23T17:12:35.769Z"
   },
   {
    "duration": 8,
    "start_time": "2022-06-23T17:12:35.787Z"
   },
   {
    "duration": 4,
    "start_time": "2022-06-23T17:15:07.952Z"
   },
   {
    "duration": 41,
    "start_time": "2022-06-23T17:15:11.946Z"
   },
   {
    "duration": 54,
    "start_time": "2022-06-23T17:23:39.079Z"
   },
   {
    "duration": 477,
    "start_time": "2022-06-23T17:26:34.610Z"
   },
   {
    "duration": 404,
    "start_time": "2022-06-23T17:26:53.794Z"
   },
   {
    "duration": 401,
    "start_time": "2022-06-23T17:26:59.443Z"
   },
   {
    "duration": 44,
    "start_time": "2022-06-23T17:27:39.188Z"
   },
   {
    "duration": 68,
    "start_time": "2022-06-23T17:27:50.498Z"
   },
   {
    "duration": 326,
    "start_time": "2022-06-23T17:28:38.337Z"
   },
   {
    "duration": 46,
    "start_time": "2022-06-23T17:33:46.441Z"
   },
   {
    "duration": 64,
    "start_time": "2022-06-23T17:46:54.975Z"
   },
   {
    "duration": 101,
    "start_time": "2022-06-23T17:51:32.094Z"
   },
   {
    "duration": 290,
    "start_time": "2022-06-23T17:51:36.045Z"
   },
   {
    "duration": 9,
    "start_time": "2022-06-23T17:51:43.633Z"
   },
   {
    "duration": 387,
    "start_time": "2022-06-23T17:52:20.640Z"
   },
   {
    "duration": 320,
    "start_time": "2022-06-23T17:52:28.848Z"
   },
   {
    "duration": 343,
    "start_time": "2022-06-23T17:52:36.988Z"
   },
   {
    "duration": 323,
    "start_time": "2022-06-23T17:53:04.884Z"
   },
   {
    "duration": 330,
    "start_time": "2022-06-23T17:53:07.702Z"
   },
   {
    "duration": 319,
    "start_time": "2022-06-23T17:53:15.967Z"
   },
   {
    "duration": 317,
    "start_time": "2022-06-23T17:53:47.553Z"
   },
   {
    "duration": 8,
    "start_time": "2022-06-23T17:56:39.438Z"
   },
   {
    "duration": 12,
    "start_time": "2022-06-23T17:56:47.817Z"
   },
   {
    "duration": 308,
    "start_time": "2022-06-23T17:57:15.121Z"
   },
   {
    "duration": 8,
    "start_time": "2022-06-23T17:57:17.649Z"
   },
   {
    "duration": 304,
    "start_time": "2022-06-23T17:58:24.222Z"
   },
   {
    "duration": 8,
    "start_time": "2022-06-23T17:58:29.743Z"
   },
   {
    "duration": 9,
    "start_time": "2022-06-23T17:59:11.641Z"
   },
   {
    "duration": 23,
    "start_time": "2022-06-23T17:59:48.372Z"
   },
   {
    "duration": 298,
    "start_time": "2022-06-23T18:03:07.419Z"
   },
   {
    "duration": 967,
    "start_time": "2022-06-23T18:03:34.587Z"
   },
   {
    "duration": 15,
    "start_time": "2022-06-23T18:03:50.023Z"
   },
   {
    "duration": 7,
    "start_time": "2022-06-23T18:03:59.616Z"
   },
   {
    "duration": 25,
    "start_time": "2022-06-23T18:04:24.943Z"
   },
   {
    "duration": 33,
    "start_time": "2022-06-23T18:06:02.255Z"
   },
   {
    "duration": 1409,
    "start_time": "2022-06-23T18:09:33.377Z"
   },
   {
    "duration": 1488,
    "start_time": "2022-06-23T18:10:50.738Z"
   },
   {
    "duration": 185,
    "start_time": "2022-06-23T18:11:58.328Z"
   },
   {
    "duration": 37,
    "start_time": "2022-06-23T18:14:28.015Z"
   },
   {
    "duration": 15,
    "start_time": "2022-06-23T18:14:38.472Z"
   },
   {
    "duration": 25,
    "start_time": "2022-06-23T18:14:50.682Z"
   },
   {
    "duration": 18,
    "start_time": "2022-06-23T18:14:57.554Z"
   },
   {
    "duration": 19,
    "start_time": "2022-06-23T18:15:03.892Z"
   },
   {
    "duration": 4,
    "start_time": "2022-06-23T18:15:16.394Z"
   },
   {
    "duration": 54,
    "start_time": "2022-06-23T18:15:16.400Z"
   },
   {
    "duration": 22,
    "start_time": "2022-06-23T18:15:16.456Z"
   },
   {
    "duration": 19,
    "start_time": "2022-06-23T18:15:16.480Z"
   },
   {
    "duration": 25,
    "start_time": "2022-06-23T18:15:16.502Z"
   },
   {
    "duration": 14,
    "start_time": "2022-06-23T18:15:16.529Z"
   },
   {
    "duration": 3,
    "start_time": "2022-06-23T18:15:16.545Z"
   },
   {
    "duration": 483,
    "start_time": "2022-06-23T18:15:16.549Z"
   },
   {
    "duration": 5,
    "start_time": "2022-06-23T18:15:17.034Z"
   },
   {
    "duration": 23,
    "start_time": "2022-06-23T18:15:17.040Z"
   },
   {
    "duration": 391,
    "start_time": "2022-06-23T18:15:17.064Z"
   },
   {
    "duration": 456,
    "start_time": "2022-06-23T18:15:17.457Z"
   },
   {
    "duration": 20,
    "start_time": "2022-06-23T18:15:17.915Z"
   },
   {
    "duration": 20,
    "start_time": "2022-06-23T18:15:17.938Z"
   },
   {
    "duration": 295,
    "start_time": "2022-06-23T18:15:17.960Z"
   },
   {
    "duration": 31,
    "start_time": "2022-06-23T18:15:18.257Z"
   },
   {
    "duration": 44,
    "start_time": "2022-06-23T18:15:18.290Z"
   },
   {
    "duration": 190,
    "start_time": "2022-06-23T18:15:18.335Z"
   },
   {
    "duration": 5,
    "start_time": "2022-06-23T18:15:18.527Z"
   },
   {
    "duration": 296,
    "start_time": "2022-06-23T18:15:18.533Z"
   },
   {
    "duration": 1440,
    "start_time": "2022-06-23T18:15:18.832Z"
   },
   {
    "duration": 15,
    "start_time": "2022-06-23T18:15:20.274Z"
   },
   {
    "duration": 204,
    "start_time": "2022-06-23T18:15:20.291Z"
   },
   {
    "duration": 20,
    "start_time": "2022-06-23T18:15:24.161Z"
   },
   {
    "duration": 15,
    "start_time": "2022-06-23T18:15:35.658Z"
   },
   {
    "duration": 19,
    "start_time": "2022-06-23T18:15:44.660Z"
   },
   {
    "duration": 14,
    "start_time": "2022-06-23T18:15:56.880Z"
   },
   {
    "duration": 51,
    "start_time": "2022-06-23T18:17:29.972Z"
   },
   {
    "duration": 24,
    "start_time": "2022-06-23T18:17:37.402Z"
   },
   {
    "duration": 13,
    "start_time": "2022-06-23T18:17:53.048Z"
   },
   {
    "duration": 23,
    "start_time": "2022-06-23T18:18:17.660Z"
   },
   {
    "duration": 14,
    "start_time": "2022-06-23T18:19:14.797Z"
   },
   {
    "duration": 110,
    "start_time": "2022-06-23T18:19:59.967Z"
   },
   {
    "duration": 13,
    "start_time": "2022-06-23T18:20:05.324Z"
   },
   {
    "duration": 155,
    "start_time": "2022-06-23T18:20:24.134Z"
   },
   {
    "duration": 19,
    "start_time": "2022-06-23T18:21:44.820Z"
   },
   {
    "duration": 14,
    "start_time": "2022-06-23T18:21:58.064Z"
   },
   {
    "duration": 32,
    "start_time": "2022-06-23T18:25:09.364Z"
   },
   {
    "duration": 31,
    "start_time": "2022-06-23T18:25:58.329Z"
   },
   {
    "duration": 30,
    "start_time": "2022-06-23T18:26:02.435Z"
   },
   {
    "duration": 319,
    "start_time": "2022-06-23T18:26:55.719Z"
   },
   {
    "duration": 33,
    "start_time": "2022-06-23T18:28:03.503Z"
   },
   {
    "duration": 19,
    "start_time": "2022-06-23T18:28:12.028Z"
   },
   {
    "duration": 24,
    "start_time": "2022-06-23T18:28:22.653Z"
   },
   {
    "duration": 125,
    "start_time": "2022-06-23T18:28:37.103Z"
   },
   {
    "duration": 18,
    "start_time": "2022-06-23T18:28:54.117Z"
   },
   {
    "duration": 199,
    "start_time": "2022-06-23T18:28:54.733Z"
   },
   {
    "duration": 19,
    "start_time": "2022-06-23T18:31:53.681Z"
   },
   {
    "duration": 85,
    "start_time": "2022-06-23T18:32:30.457Z"
   },
   {
    "duration": 20,
    "start_time": "2022-06-23T18:32:39.153Z"
   },
   {
    "duration": 199,
    "start_time": "2022-06-23T18:34:53.832Z"
   },
   {
    "duration": 408,
    "start_time": "2022-06-23T18:35:41.699Z"
   },
   {
    "duration": 421,
    "start_time": "2022-06-23T18:36:47.819Z"
   },
   {
    "duration": 1671,
    "start_time": "2022-06-23T18:41:50.252Z"
   },
   {
    "duration": 1932,
    "start_time": "2022-06-23T18:42:01.162Z"
   },
   {
    "duration": 1610,
    "start_time": "2022-06-23T18:42:07.180Z"
   },
   {
    "duration": 22,
    "start_time": "2022-06-23T18:43:19.561Z"
   },
   {
    "duration": 357,
    "start_time": "2022-06-23T18:46:08.410Z"
   },
   {
    "duration": 22,
    "start_time": "2022-06-23T18:46:18.644Z"
   },
   {
    "duration": 1567,
    "start_time": "2022-06-23T18:46:46.701Z"
   },
   {
    "duration": 1082,
    "start_time": "2022-06-23T18:47:25.175Z"
   },
   {
    "duration": 54,
    "start_time": "2022-06-23T18:47:26.259Z"
   },
   {
    "duration": 28,
    "start_time": "2022-06-23T18:47:26.315Z"
   },
   {
    "duration": 9,
    "start_time": "2022-06-23T18:47:26.344Z"
   },
   {
    "duration": 51,
    "start_time": "2022-06-23T18:47:26.355Z"
   },
   {
    "duration": 14,
    "start_time": "2022-06-23T18:47:26.424Z"
   },
   {
    "duration": 4,
    "start_time": "2022-06-23T18:47:26.440Z"
   },
   {
    "duration": 481,
    "start_time": "2022-06-23T18:47:26.446Z"
   },
   {
    "duration": 5,
    "start_time": "2022-06-23T18:47:26.929Z"
   },
   {
    "duration": 24,
    "start_time": "2022-06-23T18:47:26.935Z"
   },
   {
    "duration": 391,
    "start_time": "2022-06-23T18:47:26.960Z"
   },
   {
    "duration": 336,
    "start_time": "2022-06-23T18:47:27.353Z"
   },
   {
    "duration": 14,
    "start_time": "2022-06-23T18:47:27.691Z"
   },
   {
    "duration": 31,
    "start_time": "2022-06-23T18:47:27.707Z"
   },
   {
    "duration": 299,
    "start_time": "2022-06-23T18:47:27.740Z"
   },
   {
    "duration": 304,
    "start_time": "2022-06-23T18:47:28.042Z"
   },
   {
    "duration": 30,
    "start_time": "2022-06-23T18:47:28.347Z"
   },
   {
    "duration": 279,
    "start_time": "2022-06-23T18:47:28.379Z"
   },
   {
    "duration": 5,
    "start_time": "2022-06-23T18:47:28.659Z"
   },
   {
    "duration": 319,
    "start_time": "2022-06-23T18:47:28.666Z"
   },
   {
    "duration": 1477,
    "start_time": "2022-06-23T18:47:28.986Z"
   },
   {
    "duration": 14,
    "start_time": "2022-06-23T18:47:30.465Z"
   },
   {
    "duration": 210,
    "start_time": "2022-06-23T18:47:30.480Z"
   },
   {
    "duration": 507,
    "start_time": "2022-06-23T18:47:30.691Z"
   },
   {
    "duration": 1781,
    "start_time": "2022-06-23T18:47:31.200Z"
   },
   {
    "duration": 24,
    "start_time": "2022-06-23T18:47:32.984Z"
   },
   {
    "duration": 20,
    "start_time": "2022-06-23T18:47:33.010Z"
   },
   {
    "duration": 6,
    "start_time": "2022-06-23T18:47:33.032Z"
   },
   {
    "duration": 12,
    "start_time": "2022-06-23T18:47:33.039Z"
   },
   {
    "duration": 8,
    "start_time": "2022-06-23T18:47:33.053Z"
   },
   {
    "duration": 11,
    "start_time": "2022-06-23T19:06:06.239Z"
   },
   {
    "duration": 11,
    "start_time": "2022-06-23T19:06:26.713Z"
   },
   {
    "duration": 12,
    "start_time": "2022-06-23T19:11:18.773Z"
   },
   {
    "duration": 10,
    "start_time": "2022-06-23T19:11:19.477Z"
   },
   {
    "duration": 15,
    "start_time": "2022-06-23T19:11:24.227Z"
   },
   {
    "duration": 11,
    "start_time": "2022-06-23T19:11:27.989Z"
   },
   {
    "duration": 6,
    "start_time": "2022-06-23T19:11:29.557Z"
   },
   {
    "duration": 6,
    "start_time": "2022-06-23T19:11:47.463Z"
   },
   {
    "duration": 7,
    "start_time": "2022-06-23T19:12:10.909Z"
   },
   {
    "duration": 3,
    "start_time": "2022-06-23T19:12:38.048Z"
   },
   {
    "duration": 11,
    "start_time": "2022-06-23T19:13:41.173Z"
   },
   {
    "duration": 10,
    "start_time": "2022-06-23T19:13:44.538Z"
   },
   {
    "duration": 9,
    "start_time": "2022-06-23T19:14:07.737Z"
   },
   {
    "duration": 4,
    "start_time": "2022-06-23T19:14:23.814Z"
   },
   {
    "duration": 4,
    "start_time": "2022-06-23T19:14:32.955Z"
   },
   {
    "duration": 12,
    "start_time": "2022-06-23T19:16:37.874Z"
   },
   {
    "duration": 13,
    "start_time": "2022-06-23T19:16:42.515Z"
   },
   {
    "duration": 5,
    "start_time": "2022-06-23T19:18:19.603Z"
   },
   {
    "duration": 5,
    "start_time": "2022-06-23T19:18:27.449Z"
   },
   {
    "duration": 1172,
    "start_time": "2022-06-23T19:38:24.475Z"
   },
   {
    "duration": 52,
    "start_time": "2022-06-23T19:38:25.649Z"
   },
   {
    "duration": 23,
    "start_time": "2022-06-23T19:38:25.703Z"
   },
   {
    "duration": 17,
    "start_time": "2022-06-23T19:38:25.727Z"
   },
   {
    "duration": 62,
    "start_time": "2022-06-23T19:38:25.747Z"
   },
   {
    "duration": 16,
    "start_time": "2022-06-23T19:38:25.811Z"
   },
   {
    "duration": 11,
    "start_time": "2022-06-23T19:38:25.829Z"
   },
   {
    "duration": 488,
    "start_time": "2022-06-23T19:38:25.842Z"
   },
   {
    "duration": 5,
    "start_time": "2022-06-23T19:38:26.332Z"
   },
   {
    "duration": 24,
    "start_time": "2022-06-23T19:38:26.339Z"
   },
   {
    "duration": 407,
    "start_time": "2022-06-23T19:38:26.364Z"
   },
   {
    "duration": 365,
    "start_time": "2022-06-23T19:38:26.773Z"
   },
   {
    "duration": 20,
    "start_time": "2022-06-23T19:38:27.139Z"
   },
   {
    "duration": 334,
    "start_time": "2022-06-23T19:38:27.161Z"
   },
   {
    "duration": 312,
    "start_time": "2022-06-23T19:38:27.497Z"
   },
   {
    "duration": 37,
    "start_time": "2022-06-23T19:38:27.811Z"
   },
   {
    "duration": 284,
    "start_time": "2022-06-23T19:38:27.850Z"
   },
   {
    "duration": 5,
    "start_time": "2022-06-23T19:38:28.135Z"
   },
   {
    "duration": 288,
    "start_time": "2022-06-23T19:38:28.142Z"
   },
   {
    "duration": 1492,
    "start_time": "2022-06-23T19:38:28.431Z"
   },
   {
    "duration": 17,
    "start_time": "2022-06-23T19:38:29.924Z"
   },
   {
    "duration": 258,
    "start_time": "2022-06-23T19:38:29.943Z"
   },
   {
    "duration": 528,
    "start_time": "2022-06-23T19:38:30.202Z"
   },
   {
    "duration": 1774,
    "start_time": "2022-06-23T19:38:30.732Z"
   },
   {
    "duration": 20,
    "start_time": "2022-06-23T19:38:32.508Z"
   },
   {
    "duration": 34,
    "start_time": "2022-06-23T19:38:32.534Z"
   },
   {
    "duration": 17,
    "start_time": "2022-06-23T19:38:32.570Z"
   },
   {
    "duration": 22,
    "start_time": "2022-06-23T19:38:32.590Z"
   },
   {
    "duration": 6,
    "start_time": "2022-06-23T19:38:32.614Z"
   },
   {
    "duration": 12,
    "start_time": "2022-06-23T19:38:32.622Z"
   },
   {
    "duration": 67,
    "start_time": "2022-06-24T11:36:19.532Z"
   },
   {
    "duration": 1307,
    "start_time": "2022-06-24T11:36:29.085Z"
   },
   {
    "duration": 116,
    "start_time": "2022-06-24T11:36:30.394Z"
   },
   {
    "duration": 26,
    "start_time": "2022-06-24T11:36:30.512Z"
   },
   {
    "duration": 11,
    "start_time": "2022-06-24T11:36:30.540Z"
   },
   {
    "duration": 126,
    "start_time": "2022-06-24T11:36:30.556Z"
   },
   {
    "duration": 14,
    "start_time": "2022-06-24T11:36:30.683Z"
   },
   {
    "duration": 20,
    "start_time": "2022-06-24T11:36:30.699Z"
   },
   {
    "duration": 539,
    "start_time": "2022-06-24T11:36:30.721Z"
   },
   {
    "duration": 11,
    "start_time": "2022-06-24T11:36:31.261Z"
   },
   {
    "duration": 38,
    "start_time": "2022-06-24T11:36:31.278Z"
   },
   {
    "duration": 461,
    "start_time": "2022-06-24T11:36:31.318Z"
   },
   {
    "duration": 401,
    "start_time": "2022-06-24T11:36:31.781Z"
   },
   {
    "duration": 19,
    "start_time": "2022-06-24T11:36:32.183Z"
   },
   {
    "duration": 349,
    "start_time": "2022-06-24T11:36:32.203Z"
   },
   {
    "duration": 374,
    "start_time": "2022-06-24T11:36:32.554Z"
   },
   {
    "duration": 50,
    "start_time": "2022-06-24T11:36:32.929Z"
   },
   {
    "duration": 265,
    "start_time": "2022-06-24T11:36:32.980Z"
   },
   {
    "duration": 7,
    "start_time": "2022-06-24T11:36:33.246Z"
   },
   {
    "duration": 335,
    "start_time": "2022-06-24T11:36:33.256Z"
   },
   {
    "duration": 1562,
    "start_time": "2022-06-24T11:36:33.593Z"
   },
   {
    "duration": 23,
    "start_time": "2022-06-24T11:36:35.156Z"
   },
   {
    "duration": 299,
    "start_time": "2022-06-24T11:36:35.184Z"
   },
   {
    "duration": 525,
    "start_time": "2022-06-24T11:36:35.485Z"
   },
   {
    "duration": 1788,
    "start_time": "2022-06-24T11:36:36.012Z"
   },
   {
    "duration": 10,
    "start_time": "2022-06-24T11:36:37.801Z"
   },
   {
    "duration": 9,
    "start_time": "2022-06-24T11:36:37.812Z"
   },
   {
    "duration": 8,
    "start_time": "2022-06-24T11:36:37.822Z"
   },
   {
    "duration": 36,
    "start_time": "2022-06-24T11:36:37.833Z"
   },
   {
    "duration": 21,
    "start_time": "2022-06-24T11:36:37.870Z"
   },
   {
    "duration": 11,
    "start_time": "2022-06-24T11:36:37.893Z"
   },
   {
    "duration": 1218,
    "start_time": "2022-06-24T11:37:42.226Z"
   },
   {
    "duration": 1349,
    "start_time": "2022-06-24T11:38:22.833Z"
   },
   {
    "duration": 7,
    "start_time": "2022-06-24T11:38:40.329Z"
   },
   {
    "duration": 5,
    "start_time": "2022-06-24T11:38:43.216Z"
   },
   {
    "duration": 13,
    "start_time": "2022-06-24T11:38:53.336Z"
   },
   {
    "duration": 1466,
    "start_time": "2022-06-24T11:39:09.367Z"
   },
   {
    "duration": 210,
    "start_time": "2022-06-24T11:43:12.444Z"
   },
   {
    "duration": 176,
    "start_time": "2022-06-24T11:43:32.733Z"
   },
   {
    "duration": 164,
    "start_time": "2022-06-24T11:43:38.880Z"
   },
   {
    "duration": 1244,
    "start_time": "2022-06-24T11:43:56.376Z"
   },
   {
    "duration": 12,
    "start_time": "2022-06-24T11:45:42.091Z"
   },
   {
    "duration": 18,
    "start_time": "2022-06-24T11:45:49.243Z"
   },
   {
    "duration": 1181,
    "start_time": "2022-06-24T11:46:06.359Z"
   },
   {
    "duration": 14,
    "start_time": "2022-06-24T11:46:51.562Z"
   },
   {
    "duration": 9,
    "start_time": "2022-06-24T11:49:50.525Z"
   },
   {
    "duration": 13,
    "start_time": "2022-06-24T11:49:53.853Z"
   },
   {
    "duration": 1019,
    "start_time": "2022-06-24T11:50:48.965Z"
   },
   {
    "duration": 1082,
    "start_time": "2022-06-24T11:51:18.167Z"
   },
   {
    "duration": 55,
    "start_time": "2022-06-24T11:51:19.252Z"
   },
   {
    "duration": 23,
    "start_time": "2022-06-24T11:51:19.309Z"
   },
   {
    "duration": 31,
    "start_time": "2022-06-24T11:51:19.334Z"
   },
   {
    "duration": 54,
    "start_time": "2022-06-24T11:51:19.368Z"
   },
   {
    "duration": 40,
    "start_time": "2022-06-24T11:51:19.423Z"
   },
   {
    "duration": 15,
    "start_time": "2022-06-24T11:51:19.465Z"
   },
   {
    "duration": 510,
    "start_time": "2022-06-24T11:51:19.481Z"
   },
   {
    "duration": 4,
    "start_time": "2022-06-24T11:51:19.993Z"
   },
   {
    "duration": 32,
    "start_time": "2022-06-24T11:51:20.000Z"
   },
   {
    "duration": 443,
    "start_time": "2022-06-24T11:51:20.034Z"
   },
   {
    "duration": 354,
    "start_time": "2022-06-24T11:51:20.478Z"
   },
   {
    "duration": 29,
    "start_time": "2022-06-24T11:51:20.834Z"
   },
   {
    "duration": 316,
    "start_time": "2022-06-24T11:51:20.864Z"
   },
   {
    "duration": 102,
    "start_time": "2022-06-24T11:51:21.181Z"
   },
   {
    "duration": 0,
    "start_time": "2022-06-24T11:51:21.285Z"
   },
   {
    "duration": 0,
    "start_time": "2022-06-24T11:51:21.286Z"
   },
   {
    "duration": 0,
    "start_time": "2022-06-24T11:51:21.288Z"
   },
   {
    "duration": 0,
    "start_time": "2022-06-24T11:51:21.289Z"
   },
   {
    "duration": 0,
    "start_time": "2022-06-24T11:51:21.289Z"
   },
   {
    "duration": 0,
    "start_time": "2022-06-24T11:51:21.291Z"
   },
   {
    "duration": 0,
    "start_time": "2022-06-24T11:51:21.292Z"
   },
   {
    "duration": 0,
    "start_time": "2022-06-24T11:51:21.293Z"
   },
   {
    "duration": 0,
    "start_time": "2022-06-24T11:51:21.294Z"
   },
   {
    "duration": 0,
    "start_time": "2022-06-24T11:51:21.295Z"
   },
   {
    "duration": 0,
    "start_time": "2022-06-24T11:51:21.296Z"
   },
   {
    "duration": 0,
    "start_time": "2022-06-24T11:51:21.297Z"
   },
   {
    "duration": 0,
    "start_time": "2022-06-24T11:51:21.299Z"
   },
   {
    "duration": 0,
    "start_time": "2022-06-24T11:51:21.300Z"
   },
   {
    "duration": 0,
    "start_time": "2022-06-24T11:51:21.301Z"
   },
   {
    "duration": 372,
    "start_time": "2022-06-24T11:51:30.765Z"
   },
   {
    "duration": 1434,
    "start_time": "2022-06-24T11:51:52.097Z"
   },
   {
    "duration": 1075,
    "start_time": "2022-06-24T11:52:08.616Z"
   },
   {
    "duration": 50,
    "start_time": "2022-06-24T11:52:09.693Z"
   },
   {
    "duration": 31,
    "start_time": "2022-06-24T11:52:09.744Z"
   },
   {
    "duration": 16,
    "start_time": "2022-06-24T11:52:09.778Z"
   },
   {
    "duration": 49,
    "start_time": "2022-06-24T11:52:09.795Z"
   },
   {
    "duration": 23,
    "start_time": "2022-06-24T11:52:09.858Z"
   },
   {
    "duration": 18,
    "start_time": "2022-06-24T11:52:09.883Z"
   },
   {
    "duration": 502,
    "start_time": "2022-06-24T11:52:09.902Z"
   },
   {
    "duration": 4,
    "start_time": "2022-06-24T11:52:10.405Z"
   },
   {
    "duration": 24,
    "start_time": "2022-06-24T11:52:10.412Z"
   },
   {
    "duration": 450,
    "start_time": "2022-06-24T11:52:10.438Z"
   },
   {
    "duration": 388,
    "start_time": "2022-06-24T11:52:10.890Z"
   },
   {
    "duration": 19,
    "start_time": "2022-06-24T11:52:11.280Z"
   },
   {
    "duration": 348,
    "start_time": "2022-06-24T11:52:11.300Z"
   },
   {
    "duration": 1193,
    "start_time": "2022-06-24T11:52:11.650Z"
   },
   {
    "duration": 0,
    "start_time": "2022-06-24T11:52:12.845Z"
   },
   {
    "duration": 0,
    "start_time": "2022-06-24T11:52:12.846Z"
   },
   {
    "duration": 0,
    "start_time": "2022-06-24T11:52:12.852Z"
   },
   {
    "duration": 0,
    "start_time": "2022-06-24T11:52:12.853Z"
   },
   {
    "duration": 0,
    "start_time": "2022-06-24T11:52:12.855Z"
   },
   {
    "duration": 0,
    "start_time": "2022-06-24T11:52:12.856Z"
   },
   {
    "duration": 0,
    "start_time": "2022-06-24T11:52:12.858Z"
   },
   {
    "duration": 0,
    "start_time": "2022-06-24T11:52:12.858Z"
   },
   {
    "duration": 0,
    "start_time": "2022-06-24T11:52:12.860Z"
   },
   {
    "duration": 0,
    "start_time": "2022-06-24T11:52:12.861Z"
   },
   {
    "duration": 0,
    "start_time": "2022-06-24T11:52:12.862Z"
   },
   {
    "duration": 0,
    "start_time": "2022-06-24T11:52:12.863Z"
   },
   {
    "duration": 0,
    "start_time": "2022-06-24T11:52:12.864Z"
   },
   {
    "duration": 0,
    "start_time": "2022-06-24T11:52:12.865Z"
   },
   {
    "duration": 0,
    "start_time": "2022-06-24T11:52:12.867Z"
   },
   {
    "duration": 1007,
    "start_time": "2022-06-24T11:52:51.522Z"
   },
   {
    "duration": 74,
    "start_time": "2022-06-24T11:53:04.822Z"
   },
   {
    "duration": 1086,
    "start_time": "2022-06-24T11:53:13.202Z"
   },
   {
    "duration": 1098,
    "start_time": "2022-06-24T11:53:16.210Z"
   },
   {
    "duration": 1138,
    "start_time": "2022-06-24T11:53:28.797Z"
   },
   {
    "duration": 1155,
    "start_time": "2022-06-24T11:53:42.667Z"
   },
   {
    "duration": 61,
    "start_time": "2022-06-24T11:54:23.739Z"
   },
   {
    "duration": 6,
    "start_time": "2022-06-24T11:54:28.571Z"
   },
   {
    "duration": 5,
    "start_time": "2022-06-24T11:54:34.251Z"
   },
   {
    "duration": 1130,
    "start_time": "2022-06-24T11:54:57.536Z"
   },
   {
    "duration": 48,
    "start_time": "2022-06-24T11:54:58.669Z"
   },
   {
    "duration": 23,
    "start_time": "2022-06-24T11:54:58.719Z"
   },
   {
    "duration": 20,
    "start_time": "2022-06-24T11:54:58.744Z"
   },
   {
    "duration": 50,
    "start_time": "2022-06-24T11:54:58.766Z"
   },
   {
    "duration": 14,
    "start_time": "2022-06-24T11:54:58.817Z"
   },
   {
    "duration": 6,
    "start_time": "2022-06-24T11:54:58.832Z"
   },
   {
    "duration": 491,
    "start_time": "2022-06-24T11:54:58.840Z"
   },
   {
    "duration": 4,
    "start_time": "2022-06-24T11:54:59.333Z"
   },
   {
    "duration": 32,
    "start_time": "2022-06-24T11:54:59.339Z"
   },
   {
    "duration": 450,
    "start_time": "2022-06-24T11:54:59.373Z"
   },
   {
    "duration": 374,
    "start_time": "2022-06-24T11:54:59.825Z"
   },
   {
    "duration": 17,
    "start_time": "2022-06-24T11:55:00.201Z"
   },
   {
    "duration": 316,
    "start_time": "2022-06-24T11:55:00.220Z"
   },
   {
    "duration": 2159,
    "start_time": "2022-06-24T11:55:04.706Z"
   },
   {
    "duration": 480,
    "start_time": "2022-06-24T11:55:25.297Z"
   },
   {
    "duration": 353,
    "start_time": "2022-06-24T11:56:02.541Z"
   },
   {
    "duration": 354,
    "start_time": "2022-06-24T11:56:26.350Z"
   },
   {
    "duration": 323,
    "start_time": "2022-06-24T11:56:28.926Z"
   },
   {
    "duration": 215,
    "start_time": "2022-06-24T11:58:42.495Z"
   },
   {
    "duration": 188,
    "start_time": "2022-06-24T11:58:52.328Z"
   },
   {
    "duration": 723,
    "start_time": "2022-06-24T11:59:45.568Z"
   },
   {
    "duration": 747,
    "start_time": "2022-06-24T12:00:14.760Z"
   },
   {
    "duration": 736,
    "start_time": "2022-06-24T12:00:18.953Z"
   },
   {
    "duration": 173,
    "start_time": "2022-06-24T12:01:50.944Z"
   },
   {
    "duration": 171,
    "start_time": "2022-06-24T12:02:02.409Z"
   },
   {
    "duration": 526,
    "start_time": "2022-06-24T12:02:07.320Z"
   },
   {
    "duration": 1170,
    "start_time": "2022-06-24T12:03:50.396Z"
   },
   {
    "duration": 51,
    "start_time": "2022-06-24T12:03:58.791Z"
   },
   {
    "duration": 1220,
    "start_time": "2022-06-24T12:04:17.193Z"
   },
   {
    "duration": 56,
    "start_time": "2022-06-24T12:04:18.414Z"
   },
   {
    "duration": 36,
    "start_time": "2022-06-24T12:04:18.475Z"
   },
   {
    "duration": 9,
    "start_time": "2022-06-24T12:04:18.513Z"
   },
   {
    "duration": 83,
    "start_time": "2022-06-24T12:04:18.524Z"
   },
   {
    "duration": 15,
    "start_time": "2022-06-24T12:04:18.609Z"
   },
   {
    "duration": 3,
    "start_time": "2022-06-24T12:04:18.626Z"
   },
   {
    "duration": 566,
    "start_time": "2022-06-24T12:04:18.651Z"
   },
   {
    "duration": 4,
    "start_time": "2022-06-24T12:04:19.219Z"
   },
   {
    "duration": 54,
    "start_time": "2022-06-24T12:04:19.226Z"
   },
   {
    "duration": 447,
    "start_time": "2022-06-24T12:04:19.283Z"
   },
   {
    "duration": 410,
    "start_time": "2022-06-24T12:04:19.732Z"
   },
   {
    "duration": 26,
    "start_time": "2022-06-24T12:04:20.144Z"
   },
   {
    "duration": 411,
    "start_time": "2022-06-24T12:04:20.178Z"
   },
   {
    "duration": 2735,
    "start_time": "2022-06-24T12:04:22.271Z"
   },
   {
    "duration": 1227,
    "start_time": "2022-06-24T12:04:37.491Z"
   },
   {
    "duration": 67,
    "start_time": "2022-06-24T12:04:38.721Z"
   },
   {
    "duration": 36,
    "start_time": "2022-06-24T12:04:38.790Z"
   },
   {
    "duration": 30,
    "start_time": "2022-06-24T12:04:38.828Z"
   },
   {
    "duration": 104,
    "start_time": "2022-06-24T12:04:38.860Z"
   },
   {
    "duration": 27,
    "start_time": "2022-06-24T12:04:38.966Z"
   },
   {
    "duration": 4,
    "start_time": "2022-06-24T12:04:38.994Z"
   },
   {
    "duration": 648,
    "start_time": "2022-06-24T12:04:38.999Z"
   },
   {
    "duration": 15,
    "start_time": "2022-06-24T12:04:39.649Z"
   },
   {
    "duration": 36,
    "start_time": "2022-06-24T12:04:39.669Z"
   },
   {
    "duration": 517,
    "start_time": "2022-06-24T12:04:39.708Z"
   },
   {
    "duration": 399,
    "start_time": "2022-06-24T12:04:40.227Z"
   },
   {
    "duration": 31,
    "start_time": "2022-06-24T12:04:40.628Z"
   },
   {
    "duration": 329,
    "start_time": "2022-06-24T12:04:40.667Z"
   },
   {
    "duration": 1677,
    "start_time": "2022-06-24T12:04:40.998Z"
   },
   {
    "duration": 0,
    "start_time": "2022-06-24T12:04:42.678Z"
   },
   {
    "duration": 0,
    "start_time": "2022-06-24T12:04:42.680Z"
   },
   {
    "duration": 0,
    "start_time": "2022-06-24T12:04:42.682Z"
   },
   {
    "duration": 0,
    "start_time": "2022-06-24T12:04:42.684Z"
   },
   {
    "duration": 0,
    "start_time": "2022-06-24T12:04:42.686Z"
   },
   {
    "duration": 0,
    "start_time": "2022-06-24T12:04:42.688Z"
   },
   {
    "duration": 0,
    "start_time": "2022-06-24T12:04:42.690Z"
   },
   {
    "duration": 0,
    "start_time": "2022-06-24T12:04:42.692Z"
   },
   {
    "duration": 0,
    "start_time": "2022-06-24T12:04:42.694Z"
   },
   {
    "duration": 0,
    "start_time": "2022-06-24T12:04:42.695Z"
   },
   {
    "duration": 0,
    "start_time": "2022-06-24T12:04:42.697Z"
   },
   {
    "duration": 0,
    "start_time": "2022-06-24T12:04:42.698Z"
   },
   {
    "duration": 0,
    "start_time": "2022-06-24T12:04:42.699Z"
   },
   {
    "duration": 0,
    "start_time": "2022-06-24T12:04:42.700Z"
   },
   {
    "duration": 0,
    "start_time": "2022-06-24T12:04:42.703Z"
   },
   {
    "duration": 1572,
    "start_time": "2022-06-24T12:05:58.326Z"
   },
   {
    "duration": 1378,
    "start_time": "2022-06-24T12:06:25.342Z"
   },
   {
    "duration": 55,
    "start_time": "2022-06-24T12:06:26.723Z"
   },
   {
    "duration": 26,
    "start_time": "2022-06-24T12:06:26.780Z"
   },
   {
    "duration": 8,
    "start_time": "2022-06-24T12:06:26.808Z"
   },
   {
    "duration": 104,
    "start_time": "2022-06-24T12:06:26.818Z"
   },
   {
    "duration": 18,
    "start_time": "2022-06-24T12:06:26.924Z"
   },
   {
    "duration": 14,
    "start_time": "2022-06-24T12:06:26.954Z"
   },
   {
    "duration": 516,
    "start_time": "2022-06-24T12:06:26.972Z"
   },
   {
    "duration": 6,
    "start_time": "2022-06-24T12:06:27.489Z"
   },
   {
    "duration": 32,
    "start_time": "2022-06-24T12:06:27.497Z"
   },
   {
    "duration": 480,
    "start_time": "2022-06-24T12:06:27.532Z"
   },
   {
    "duration": 391,
    "start_time": "2022-06-24T12:06:28.014Z"
   },
   {
    "duration": 19,
    "start_time": "2022-06-24T12:06:28.406Z"
   },
   {
    "duration": 349,
    "start_time": "2022-06-24T12:06:28.426Z"
   },
   {
    "duration": 2220,
    "start_time": "2022-06-24T12:06:28.777Z"
   },
   {
    "duration": 0,
    "start_time": "2022-06-24T12:06:30.999Z"
   },
   {
    "duration": 0,
    "start_time": "2022-06-24T12:06:31.001Z"
   },
   {
    "duration": 0,
    "start_time": "2022-06-24T12:06:31.002Z"
   },
   {
    "duration": 0,
    "start_time": "2022-06-24T12:06:31.003Z"
   },
   {
    "duration": 0,
    "start_time": "2022-06-24T12:06:31.005Z"
   },
   {
    "duration": 0,
    "start_time": "2022-06-24T12:06:31.006Z"
   },
   {
    "duration": 0,
    "start_time": "2022-06-24T12:06:31.007Z"
   },
   {
    "duration": 0,
    "start_time": "2022-06-24T12:06:31.008Z"
   },
   {
    "duration": 0,
    "start_time": "2022-06-24T12:06:31.009Z"
   },
   {
    "duration": 0,
    "start_time": "2022-06-24T12:06:31.010Z"
   },
   {
    "duration": 0,
    "start_time": "2022-06-24T12:06:31.011Z"
   },
   {
    "duration": 0,
    "start_time": "2022-06-24T12:06:31.013Z"
   },
   {
    "duration": 0,
    "start_time": "2022-06-24T12:06:31.014Z"
   },
   {
    "duration": 0,
    "start_time": "2022-06-24T12:06:31.015Z"
   },
   {
    "duration": 0,
    "start_time": "2022-06-24T12:06:31.016Z"
   },
   {
    "duration": 15,
    "start_time": "2022-06-24T12:07:31.315Z"
   },
   {
    "duration": 12,
    "start_time": "2022-06-24T12:07:41.827Z"
   },
   {
    "duration": 15,
    "start_time": "2022-06-24T12:08:00.434Z"
   },
   {
    "duration": 247,
    "start_time": "2022-06-24T12:09:16.699Z"
   },
   {
    "duration": 12,
    "start_time": "2022-06-24T12:09:44.276Z"
   },
   {
    "duration": 26,
    "start_time": "2022-06-24T12:09:52.071Z"
   },
   {
    "duration": 31,
    "start_time": "2022-06-24T12:10:01.367Z"
   },
   {
    "duration": 395,
    "start_time": "2022-06-24T12:10:33.143Z"
   },
   {
    "duration": 27,
    "start_time": "2022-06-24T12:10:46.177Z"
   },
   {
    "duration": 41,
    "start_time": "2022-06-24T12:10:52.940Z"
   },
   {
    "duration": 15,
    "start_time": "2022-06-24T12:11:13.637Z"
   },
   {
    "duration": 12,
    "start_time": "2022-06-24T12:11:15.212Z"
   },
   {
    "duration": 288,
    "start_time": "2022-06-24T12:11:27.804Z"
   },
   {
    "duration": 79,
    "start_time": "2022-06-24T12:12:42.171Z"
   },
   {
    "duration": 27,
    "start_time": "2022-06-24T12:13:03.185Z"
   },
   {
    "duration": 30,
    "start_time": "2022-06-24T12:13:05.149Z"
   },
   {
    "duration": 94,
    "start_time": "2022-06-24T12:13:31.647Z"
   },
   {
    "duration": 74,
    "start_time": "2022-06-24T12:13:52.488Z"
   },
   {
    "duration": 117,
    "start_time": "2022-06-24T12:14:07.351Z"
   },
   {
    "duration": 70,
    "start_time": "2022-06-24T12:15:48.000Z"
   },
   {
    "duration": 12,
    "start_time": "2022-06-24T12:16:07.829Z"
   },
   {
    "duration": 120,
    "start_time": "2022-06-24T12:16:17.356Z"
   },
   {
    "duration": 483,
    "start_time": "2022-06-24T12:16:45.193Z"
   },
   {
    "duration": 118,
    "start_time": "2022-06-24T12:18:58.677Z"
   },
   {
    "duration": 110,
    "start_time": "2022-06-24T12:19:24.617Z"
   },
   {
    "duration": 1353,
    "start_time": "2022-06-24T12:20:11.382Z"
   },
   {
    "duration": 131,
    "start_time": "2022-06-24T12:20:30.119Z"
   },
   {
    "duration": 119,
    "start_time": "2022-06-24T12:21:14.539Z"
   },
   {
    "duration": 118,
    "start_time": "2022-06-24T12:21:25.523Z"
   },
   {
    "duration": 371,
    "start_time": "2022-06-24T12:21:41.165Z"
   },
   {
    "duration": 13,
    "start_time": "2022-06-24T12:33:57.679Z"
   },
   {
    "duration": 20,
    "start_time": "2022-06-24T12:34:14.375Z"
   },
   {
    "duration": 7,
    "start_time": "2022-06-24T12:34:27.397Z"
   },
   {
    "duration": 9,
    "start_time": "2022-06-24T12:34:39.534Z"
   },
   {
    "duration": 57,
    "start_time": "2022-06-24T12:36:48.014Z"
   },
   {
    "duration": 4,
    "start_time": "2022-06-24T12:37:34.999Z"
   },
   {
    "duration": 4,
    "start_time": "2022-06-24T12:37:45.926Z"
   },
   {
    "duration": 12,
    "start_time": "2022-06-24T12:39:13.903Z"
   },
   {
    "duration": 11,
    "start_time": "2022-06-24T12:40:16.943Z"
   },
   {
    "duration": 18,
    "start_time": "2022-06-24T12:40:23.135Z"
   },
   {
    "duration": 19,
    "start_time": "2022-06-24T12:40:33.781Z"
   },
   {
    "duration": 20,
    "start_time": "2022-06-24T12:40:59.887Z"
   },
   {
    "duration": 30,
    "start_time": "2022-06-24T12:41:08.071Z"
   },
   {
    "duration": 29,
    "start_time": "2022-06-24T12:41:44.491Z"
   },
   {
    "duration": 40,
    "start_time": "2022-06-24T12:42:04.135Z"
   },
   {
    "duration": 349,
    "start_time": "2022-06-24T12:43:03.719Z"
   },
   {
    "duration": 81,
    "start_time": "2022-06-24T12:43:49.621Z"
   },
   {
    "duration": 4,
    "start_time": "2022-06-24T12:46:08.673Z"
   },
   {
    "duration": 1128,
    "start_time": "2022-06-24T12:46:27.193Z"
   },
   {
    "duration": 340,
    "start_time": "2022-06-24T12:46:39.092Z"
   },
   {
    "duration": 6,
    "start_time": "2022-06-24T12:47:28.522Z"
   },
   {
    "duration": 4,
    "start_time": "2022-06-24T12:48:02.915Z"
   },
   {
    "duration": 8,
    "start_time": "2022-06-24T12:48:18.043Z"
   },
   {
    "duration": 32,
    "start_time": "2022-06-24T12:48:19.867Z"
   },
   {
    "duration": 3,
    "start_time": "2022-06-24T12:48:22.706Z"
   },
   {
    "duration": 43,
    "start_time": "2022-06-24T12:48:40.421Z"
   },
   {
    "duration": 1168,
    "start_time": "2022-06-24T12:52:46.737Z"
   },
   {
    "duration": 53,
    "start_time": "2022-06-24T12:52:47.907Z"
   },
   {
    "duration": 29,
    "start_time": "2022-06-24T12:52:47.966Z"
   },
   {
    "duration": 15,
    "start_time": "2022-06-24T12:52:47.997Z"
   },
   {
    "duration": 62,
    "start_time": "2022-06-24T12:52:48.013Z"
   },
   {
    "duration": 13,
    "start_time": "2022-06-24T12:52:48.080Z"
   },
   {
    "duration": 3,
    "start_time": "2022-06-24T12:52:48.094Z"
   },
   {
    "duration": 522,
    "start_time": "2022-06-24T12:52:48.098Z"
   },
   {
    "duration": 5,
    "start_time": "2022-06-24T12:52:48.622Z"
   },
   {
    "duration": 35,
    "start_time": "2022-06-24T12:52:48.629Z"
   },
   {
    "duration": 447,
    "start_time": "2022-06-24T12:52:48.667Z"
   },
   {
    "duration": 381,
    "start_time": "2022-06-24T12:52:49.116Z"
   },
   {
    "duration": 20,
    "start_time": "2022-06-24T12:52:49.499Z"
   },
   {
    "duration": 343,
    "start_time": "2022-06-24T12:52:49.521Z"
   },
   {
    "duration": 35,
    "start_time": "2022-06-24T12:52:49.866Z"
   },
   {
    "duration": 341,
    "start_time": "2022-06-24T12:52:49.903Z"
   },
   {
    "duration": 45,
    "start_time": "2022-06-24T12:52:50.246Z"
   },
   {
    "duration": 11,
    "start_time": "2022-06-24T12:52:50.293Z"
   },
   {
    "duration": 284,
    "start_time": "2022-06-24T12:52:50.306Z"
   },
   {
    "duration": 5,
    "start_time": "2022-06-24T12:52:50.591Z"
   },
   {
    "duration": 327,
    "start_time": "2022-06-24T12:52:50.597Z"
   },
   {
    "duration": 1585,
    "start_time": "2022-06-24T12:52:50.926Z"
   },
   {
    "duration": 16,
    "start_time": "2022-06-24T12:52:52.512Z"
   },
   {
    "duration": 264,
    "start_time": "2022-06-24T12:52:52.530Z"
   },
   {
    "duration": 577,
    "start_time": "2022-06-24T12:52:52.796Z"
   },
   {
    "duration": 1925,
    "start_time": "2022-06-24T12:52:53.374Z"
   },
   {
    "duration": 14,
    "start_time": "2022-06-24T12:52:55.301Z"
   },
   {
    "duration": 8,
    "start_time": "2022-06-24T12:52:55.318Z"
   },
   {
    "duration": 27,
    "start_time": "2022-06-24T12:52:55.328Z"
   },
   {
    "duration": 49,
    "start_time": "2022-06-24T12:52:55.357Z"
   },
   {
    "duration": 11,
    "start_time": "2022-06-24T12:52:55.408Z"
   },
   {
    "duration": 14,
    "start_time": "2022-06-24T12:52:55.421Z"
   },
   {
    "duration": 496,
    "start_time": "2022-06-24T12:55:24.977Z"
   },
   {
    "duration": 442,
    "start_time": "2022-06-24T12:55:38.209Z"
   },
   {
    "duration": 442,
    "start_time": "2022-06-24T12:55:58.675Z"
   },
   {
    "duration": 1106,
    "start_time": "2022-06-24T12:57:52.900Z"
   },
   {
    "duration": 59,
    "start_time": "2022-06-24T12:57:54.008Z"
   },
   {
    "duration": 27,
    "start_time": "2022-06-24T12:57:54.075Z"
   },
   {
    "duration": 10,
    "start_time": "2022-06-24T12:57:54.105Z"
   },
   {
    "duration": 78,
    "start_time": "2022-06-24T12:57:54.116Z"
   },
   {
    "duration": 14,
    "start_time": "2022-06-24T12:57:54.196Z"
   },
   {
    "duration": 3,
    "start_time": "2022-06-24T12:57:54.211Z"
   },
   {
    "duration": 520,
    "start_time": "2022-06-24T12:57:54.216Z"
   },
   {
    "duration": 4,
    "start_time": "2022-06-24T12:57:54.738Z"
   },
   {
    "duration": 65,
    "start_time": "2022-06-24T12:57:54.744Z"
   },
   {
    "duration": 456,
    "start_time": "2022-06-24T12:57:54.810Z"
   },
   {
    "duration": 466,
    "start_time": "2022-06-24T12:57:55.274Z"
   },
   {
    "duration": 26,
    "start_time": "2022-06-24T12:57:55.742Z"
   },
   {
    "duration": 354,
    "start_time": "2022-06-24T12:57:55.770Z"
   },
   {
    "duration": 46,
    "start_time": "2022-06-24T12:57:56.126Z"
   },
   {
    "duration": 356,
    "start_time": "2022-06-24T12:57:56.176Z"
   },
   {
    "duration": 48,
    "start_time": "2022-06-24T12:57:56.533Z"
   },
   {
    "duration": 12,
    "start_time": "2022-06-24T12:57:56.583Z"
   },
   {
    "duration": 290,
    "start_time": "2022-06-24T12:57:56.597Z"
   },
   {
    "duration": 6,
    "start_time": "2022-06-24T12:57:56.891Z"
   },
   {
    "duration": 321,
    "start_time": "2022-06-24T12:57:56.899Z"
   },
   {
    "duration": 1611,
    "start_time": "2022-06-24T12:57:57.222Z"
   },
   {
    "duration": 29,
    "start_time": "2022-06-24T12:57:58.835Z"
   },
   {
    "duration": 284,
    "start_time": "2022-06-24T12:57:58.865Z"
   },
   {
    "duration": 567,
    "start_time": "2022-06-24T12:57:59.151Z"
   },
   {
    "duration": 1920,
    "start_time": "2022-06-24T12:57:59.720Z"
   },
   {
    "duration": 23,
    "start_time": "2022-06-24T12:58:01.642Z"
   },
   {
    "duration": 46,
    "start_time": "2022-06-24T12:58:01.669Z"
   },
   {
    "duration": 32,
    "start_time": "2022-06-24T12:58:01.716Z"
   },
   {
    "duration": 57,
    "start_time": "2022-06-24T12:58:01.750Z"
   },
   {
    "duration": 14,
    "start_time": "2022-06-24T12:58:01.809Z"
   },
   {
    "duration": 12,
    "start_time": "2022-06-24T12:58:01.825Z"
   },
   {
    "duration": 1105,
    "start_time": "2022-06-24T13:00:03.600Z"
   },
   {
    "duration": 58,
    "start_time": "2022-06-24T13:00:04.707Z"
   },
   {
    "duration": 29,
    "start_time": "2022-06-24T13:00:04.775Z"
   },
   {
    "duration": 35,
    "start_time": "2022-06-24T13:00:04.806Z"
   },
   {
    "duration": 93,
    "start_time": "2022-06-24T13:00:04.842Z"
   },
   {
    "duration": 13,
    "start_time": "2022-06-24T13:00:04.937Z"
   },
   {
    "duration": 45,
    "start_time": "2022-06-24T13:00:04.951Z"
   },
   {
    "duration": 606,
    "start_time": "2022-06-24T13:00:04.998Z"
   },
   {
    "duration": 5,
    "start_time": "2022-06-24T13:00:05.605Z"
   },
   {
    "duration": 39,
    "start_time": "2022-06-24T13:00:05.613Z"
   },
   {
    "duration": 470,
    "start_time": "2022-06-24T13:00:05.653Z"
   },
   {
    "duration": 400,
    "start_time": "2022-06-24T13:00:06.125Z"
   },
   {
    "duration": 17,
    "start_time": "2022-06-24T13:00:06.527Z"
   },
   {
    "duration": 350,
    "start_time": "2022-06-24T13:00:06.554Z"
   },
   {
    "duration": 30,
    "start_time": "2022-06-24T13:00:06.906Z"
   },
   {
    "duration": 349,
    "start_time": "2022-06-24T13:00:06.938Z"
   },
   {
    "duration": 41,
    "start_time": "2022-06-24T13:00:07.289Z"
   },
   {
    "duration": 4,
    "start_time": "2022-06-24T13:00:07.332Z"
   },
   {
    "duration": 324,
    "start_time": "2022-06-24T13:00:07.358Z"
   },
   {
    "duration": 5,
    "start_time": "2022-06-24T13:00:07.684Z"
   },
   {
    "duration": 331,
    "start_time": "2022-06-24T13:00:07.691Z"
   },
   {
    "duration": 1570,
    "start_time": "2022-06-24T13:00:08.024Z"
   },
   {
    "duration": 13,
    "start_time": "2022-06-24T13:00:09.596Z"
   },
   {
    "duration": 230,
    "start_time": "2022-06-24T13:00:09.611Z"
   },
   {
    "duration": 543,
    "start_time": "2022-06-24T13:00:09.853Z"
   },
   {
    "duration": 1879,
    "start_time": "2022-06-24T13:00:10.398Z"
   },
   {
    "duration": 14,
    "start_time": "2022-06-24T13:00:12.279Z"
   },
   {
    "duration": 21,
    "start_time": "2022-06-24T13:00:12.296Z"
   },
   {
    "duration": 14,
    "start_time": "2022-06-24T13:00:12.319Z"
   },
   {
    "duration": 16,
    "start_time": "2022-06-24T13:00:12.335Z"
   },
   {
    "duration": 35,
    "start_time": "2022-06-24T13:00:12.355Z"
   },
   {
    "duration": 13,
    "start_time": "2022-06-24T13:00:12.392Z"
   },
   {
    "duration": 1221,
    "start_time": "2022-06-25T08:53:12.497Z"
   },
   {
    "duration": 104,
    "start_time": "2022-06-25T08:53:13.720Z"
   },
   {
    "duration": 26,
    "start_time": "2022-06-25T08:53:13.826Z"
   },
   {
    "duration": 10,
    "start_time": "2022-06-25T08:53:13.855Z"
   },
   {
    "duration": 78,
    "start_time": "2022-06-25T08:53:13.867Z"
   },
   {
    "duration": 20,
    "start_time": "2022-06-25T08:53:13.947Z"
   },
   {
    "duration": 4,
    "start_time": "2022-06-25T08:53:13.969Z"
   },
   {
    "duration": 667,
    "start_time": "2022-06-25T08:53:13.975Z"
   },
   {
    "duration": 7,
    "start_time": "2022-06-25T08:53:14.645Z"
   },
   {
    "duration": 68,
    "start_time": "2022-06-25T08:53:14.655Z"
   },
   {
    "duration": 476,
    "start_time": "2022-06-25T08:53:14.726Z"
   },
   {
    "duration": 387,
    "start_time": "2022-06-25T08:53:15.205Z"
   },
   {
    "duration": 39,
    "start_time": "2022-06-25T08:53:15.594Z"
   },
   {
    "duration": 355,
    "start_time": "2022-06-25T08:53:15.635Z"
   },
   {
    "duration": 18,
    "start_time": "2022-06-25T08:53:15.993Z"
   },
   {
    "duration": 17,
    "start_time": "2022-06-25T09:06:33.639Z"
   },
   {
    "duration": 66,
    "start_time": "2022-06-25T09:06:49.786Z"
   },
   {
    "duration": 20,
    "start_time": "2022-06-25T09:07:28.193Z"
   },
   {
    "duration": 110,
    "start_time": "2022-06-25T09:11:02.218Z"
   },
   {
    "duration": 4,
    "start_time": "2022-06-25T09:11:06.689Z"
   },
   {
    "duration": 63,
    "start_time": "2022-06-25T09:11:06.695Z"
   },
   {
    "duration": 22,
    "start_time": "2022-06-25T09:11:06.760Z"
   },
   {
    "duration": 9,
    "start_time": "2022-06-25T09:11:06.784Z"
   },
   {
    "duration": 34,
    "start_time": "2022-06-25T09:11:06.795Z"
   },
   {
    "duration": 21,
    "start_time": "2022-06-25T09:11:06.831Z"
   },
   {
    "duration": 3,
    "start_time": "2022-06-25T09:11:06.853Z"
   },
   {
    "duration": 545,
    "start_time": "2022-06-25T09:11:06.858Z"
   },
   {
    "duration": 6,
    "start_time": "2022-06-25T09:11:07.405Z"
   },
   {
    "duration": 39,
    "start_time": "2022-06-25T09:11:07.414Z"
   },
   {
    "duration": 440,
    "start_time": "2022-06-25T09:11:07.455Z"
   },
   {
    "duration": 485,
    "start_time": "2022-06-25T09:11:07.897Z"
   },
   {
    "duration": 17,
    "start_time": "2022-06-25T09:11:08.384Z"
   },
   {
    "duration": 311,
    "start_time": "2022-06-25T09:11:08.403Z"
   },
   {
    "duration": 46,
    "start_time": "2022-06-25T09:11:08.716Z"
   },
   {
    "duration": 362,
    "start_time": "2022-06-25T09:11:08.764Z"
   },
   {
    "duration": 160,
    "start_time": "2022-06-25T09:11:09.129Z"
   },
   {
    "duration": 5,
    "start_time": "2022-06-25T09:32:01.966Z"
   },
   {
    "duration": 4,
    "start_time": "2022-06-25T09:32:13.499Z"
   },
   {
    "duration": 33,
    "start_time": "2022-06-25T09:35:16.404Z"
   },
   {
    "duration": 46,
    "start_time": "2022-06-25T17:58:27.697Z"
   },
   {
    "duration": 1444,
    "start_time": "2022-06-25T17:58:38.362Z"
   },
   {
    "duration": 95,
    "start_time": "2022-06-25T17:58:39.808Z"
   },
   {
    "duration": 32,
    "start_time": "2022-06-25T17:58:39.905Z"
   },
   {
    "duration": 7,
    "start_time": "2022-06-25T17:58:39.939Z"
   },
   {
    "duration": 65,
    "start_time": "2022-06-25T17:58:39.948Z"
   },
   {
    "duration": 14,
    "start_time": "2022-06-25T17:58:40.015Z"
   },
   {
    "duration": 4,
    "start_time": "2022-06-25T17:58:40.031Z"
   },
   {
    "duration": 520,
    "start_time": "2022-06-25T17:58:40.037Z"
   },
   {
    "duration": 11,
    "start_time": "2022-06-25T17:58:40.559Z"
   },
   {
    "duration": 46,
    "start_time": "2022-06-25T17:58:40.574Z"
   },
   {
    "duration": 414,
    "start_time": "2022-06-25T17:58:40.622Z"
   },
   {
    "duration": 372,
    "start_time": "2022-06-25T17:58:41.038Z"
   },
   {
    "duration": 22,
    "start_time": "2022-06-25T17:58:41.411Z"
   },
   {
    "duration": 356,
    "start_time": "2022-06-25T17:58:41.434Z"
   },
   {
    "duration": 39,
    "start_time": "2022-06-25T17:58:41.792Z"
   },
   {
    "duration": 270,
    "start_time": "2022-06-25T17:58:41.833Z"
   },
   {
    "duration": 37,
    "start_time": "2022-06-25T17:58:42.106Z"
   },
   {
    "duration": 4,
    "start_time": "2022-06-25T17:58:42.144Z"
   },
   {
    "duration": 194,
    "start_time": "2022-06-25T17:58:42.149Z"
   },
   {
    "duration": 4,
    "start_time": "2022-06-25T17:58:42.345Z"
   },
   {
    "duration": 378,
    "start_time": "2022-06-25T17:58:42.351Z"
   },
   {
    "duration": 1412,
    "start_time": "2022-06-25T17:58:42.730Z"
   },
   {
    "duration": 13,
    "start_time": "2022-06-25T17:58:44.143Z"
   },
   {
    "duration": 227,
    "start_time": "2022-06-25T17:58:44.169Z"
   },
   {
    "duration": 565,
    "start_time": "2022-06-25T17:58:44.397Z"
   },
   {
    "duration": 1654,
    "start_time": "2022-06-25T17:58:44.967Z"
   },
   {
    "duration": 11,
    "start_time": "2022-06-25T17:58:46.623Z"
   },
   {
    "duration": 6,
    "start_time": "2022-06-25T17:58:46.637Z"
   },
   {
    "duration": 33,
    "start_time": "2022-06-25T17:58:46.645Z"
   },
   {
    "duration": 26,
    "start_time": "2022-06-25T17:58:46.684Z"
   },
   {
    "duration": 5,
    "start_time": "2022-06-25T17:58:46.711Z"
   },
   {
    "duration": 6,
    "start_time": "2022-06-25T17:58:46.718Z"
   },
   {
    "duration": 37,
    "start_time": "2022-06-25T17:59:05.054Z"
   },
   {
    "duration": 371,
    "start_time": "2022-06-25T18:00:18.141Z"
   },
   {
    "duration": 1168,
    "start_time": "2022-06-25T18:00:35.615Z"
   },
   {
    "duration": 51,
    "start_time": "2022-06-25T18:00:36.787Z"
   },
   {
    "duration": 28,
    "start_time": "2022-06-25T18:00:36.839Z"
   },
   {
    "duration": 42,
    "start_time": "2022-06-25T18:00:36.872Z"
   },
   {
    "duration": 87,
    "start_time": "2022-06-25T18:00:36.916Z"
   },
   {
    "duration": 13,
    "start_time": "2022-06-25T18:00:37.005Z"
   },
   {
    "duration": 8,
    "start_time": "2022-06-25T18:00:37.020Z"
   },
   {
    "duration": 510,
    "start_time": "2022-06-25T18:00:37.030Z"
   },
   {
    "duration": 4,
    "start_time": "2022-06-25T18:00:37.542Z"
   },
   {
    "duration": 44,
    "start_time": "2022-06-25T18:00:37.548Z"
   },
   {
    "duration": 454,
    "start_time": "2022-06-25T18:00:37.594Z"
   },
   {
    "duration": 385,
    "start_time": "2022-06-25T18:00:38.049Z"
   },
   {
    "duration": 19,
    "start_time": "2022-06-25T18:00:38.436Z"
   },
   {
    "duration": 378,
    "start_time": "2022-06-25T18:00:38.468Z"
   },
   {
    "duration": 58,
    "start_time": "2022-06-25T18:00:38.848Z"
   },
   {
    "duration": 1531,
    "start_time": "2022-06-25T18:00:38.908Z"
   },
   {
    "duration": 0,
    "start_time": "2022-06-25T18:00:40.441Z"
   },
   {
    "duration": 0,
    "start_time": "2022-06-25T18:00:40.442Z"
   },
   {
    "duration": 0,
    "start_time": "2022-06-25T18:00:40.443Z"
   },
   {
    "duration": 0,
    "start_time": "2022-06-25T18:00:40.444Z"
   },
   {
    "duration": 0,
    "start_time": "2022-06-25T18:00:40.445Z"
   },
   {
    "duration": 0,
    "start_time": "2022-06-25T18:00:40.446Z"
   },
   {
    "duration": 0,
    "start_time": "2022-06-25T18:00:40.447Z"
   },
   {
    "duration": 0,
    "start_time": "2022-06-25T18:00:40.449Z"
   },
   {
    "duration": 0,
    "start_time": "2022-06-25T18:00:40.468Z"
   },
   {
    "duration": 0,
    "start_time": "2022-06-25T18:00:40.469Z"
   },
   {
    "duration": 0,
    "start_time": "2022-06-25T18:00:40.470Z"
   },
   {
    "duration": 0,
    "start_time": "2022-06-25T18:00:40.471Z"
   },
   {
    "duration": 0,
    "start_time": "2022-06-25T18:00:40.472Z"
   },
   {
    "duration": 0,
    "start_time": "2022-06-25T18:00:40.472Z"
   },
   {
    "duration": 0,
    "start_time": "2022-06-25T18:00:40.473Z"
   },
   {
    "duration": 0,
    "start_time": "2022-06-25T18:00:40.474Z"
   },
   {
    "duration": 70,
    "start_time": "2022-06-25T18:01:43.663Z"
   },
   {
    "duration": 36,
    "start_time": "2022-06-25T18:02:14.447Z"
   },
   {
    "duration": 52,
    "start_time": "2022-06-25T18:02:45.249Z"
   },
   {
    "duration": 42,
    "start_time": "2022-06-25T18:03:22.511Z"
   },
   {
    "duration": 37,
    "start_time": "2022-06-25T18:03:34.166Z"
   },
   {
    "duration": 39,
    "start_time": "2022-06-25T18:03:49.036Z"
   },
   {
    "duration": 47,
    "start_time": "2022-06-25T18:04:10.447Z"
   },
   {
    "duration": 30,
    "start_time": "2022-06-25T18:04:15.512Z"
   },
   {
    "duration": 36,
    "start_time": "2022-06-25T18:04:25.090Z"
   },
   {
    "duration": 34,
    "start_time": "2022-06-25T18:05:06.857Z"
   },
   {
    "duration": 32,
    "start_time": "2022-06-25T18:05:20.326Z"
   },
   {
    "duration": 27,
    "start_time": "2022-06-25T18:05:46.019Z"
   },
   {
    "duration": 49,
    "start_time": "2022-06-25T18:05:55.966Z"
   },
   {
    "duration": 28,
    "start_time": "2022-06-25T18:06:17.026Z"
   },
   {
    "duration": 30,
    "start_time": "2022-06-25T18:06:51.495Z"
   },
   {
    "duration": 8,
    "start_time": "2022-06-25T18:07:02.450Z"
   },
   {
    "duration": 1332,
    "start_time": "2022-06-25T18:07:04.229Z"
   },
   {
    "duration": 94,
    "start_time": "2022-06-25T18:07:40.350Z"
   },
   {
    "duration": 452,
    "start_time": "2022-06-25T18:07:47.205Z"
   },
   {
    "duration": 1152,
    "start_time": "2022-06-25T18:08:02.703Z"
   },
   {
    "duration": 74,
    "start_time": "2022-06-25T18:08:03.857Z"
   },
   {
    "duration": 24,
    "start_time": "2022-06-25T18:08:03.933Z"
   },
   {
    "duration": 9,
    "start_time": "2022-06-25T18:08:03.959Z"
   },
   {
    "duration": 91,
    "start_time": "2022-06-25T18:08:03.977Z"
   },
   {
    "duration": 23,
    "start_time": "2022-06-25T18:08:04.078Z"
   },
   {
    "duration": 4,
    "start_time": "2022-06-25T18:08:04.103Z"
   },
   {
    "duration": 504,
    "start_time": "2022-06-25T18:08:04.109Z"
   },
   {
    "duration": 6,
    "start_time": "2022-06-25T18:08:04.615Z"
   },
   {
    "duration": 30,
    "start_time": "2022-06-25T18:08:04.623Z"
   },
   {
    "duration": 461,
    "start_time": "2022-06-25T18:08:04.654Z"
   },
   {
    "duration": 372,
    "start_time": "2022-06-25T18:08:05.117Z"
   },
   {
    "duration": 19,
    "start_time": "2022-06-25T18:08:05.491Z"
   },
   {
    "duration": 329,
    "start_time": "2022-06-25T18:08:05.513Z"
   },
   {
    "duration": 9,
    "start_time": "2022-06-25T18:08:05.844Z"
   },
   {
    "duration": 346,
    "start_time": "2022-06-25T18:08:05.855Z"
   },
   {
    "duration": 31,
    "start_time": "2022-06-25T18:08:06.203Z"
   },
   {
    "duration": 4,
    "start_time": "2022-06-25T18:08:06.235Z"
   },
   {
    "duration": 297,
    "start_time": "2022-06-25T18:08:06.240Z"
   },
   {
    "duration": 4,
    "start_time": "2022-06-25T18:08:06.539Z"
   },
   {
    "duration": 337,
    "start_time": "2022-06-25T18:08:06.545Z"
   },
   {
    "duration": 1439,
    "start_time": "2022-06-25T18:08:06.887Z"
   },
   {
    "duration": 13,
    "start_time": "2022-06-25T18:08:08.327Z"
   },
   {
    "duration": 253,
    "start_time": "2022-06-25T18:08:08.342Z"
   },
   {
    "duration": 546,
    "start_time": "2022-06-25T18:08:08.598Z"
   },
   {
    "duration": 1798,
    "start_time": "2022-06-25T18:08:09.146Z"
   },
   {
    "duration": 11,
    "start_time": "2022-06-25T18:08:10.946Z"
   },
   {
    "duration": 59,
    "start_time": "2022-06-25T18:08:10.967Z"
   },
   {
    "duration": 28,
    "start_time": "2022-06-25T18:08:11.028Z"
   },
   {
    "duration": 52,
    "start_time": "2022-06-25T18:08:11.059Z"
   },
   {
    "duration": 19,
    "start_time": "2022-06-25T18:08:11.113Z"
   },
   {
    "duration": 23,
    "start_time": "2022-06-25T18:08:11.133Z"
   },
   {
    "duration": 487,
    "start_time": "2022-06-25T18:11:58.229Z"
   },
   {
    "duration": 483,
    "start_time": "2022-06-25T18:12:30.502Z"
   },
   {
    "duration": 157,
    "start_time": "2022-06-25T18:14:29.420Z"
   },
   {
    "duration": 13,
    "start_time": "2022-06-25T18:14:37.048Z"
   },
   {
    "duration": 21,
    "start_time": "2022-06-25T18:14:51.106Z"
   },
   {
    "duration": 30,
    "start_time": "2022-06-25T18:16:37.969Z"
   },
   {
    "duration": 28,
    "start_time": "2022-06-25T18:16:45.667Z"
   },
   {
    "duration": 26,
    "start_time": "2022-06-25T18:16:53.291Z"
   },
   {
    "duration": 23,
    "start_time": "2022-06-25T18:17:32.614Z"
   },
   {
    "duration": 18,
    "start_time": "2022-06-25T18:17:37.819Z"
   },
   {
    "duration": 45,
    "start_time": "2022-06-25T18:18:53.130Z"
   },
   {
    "duration": 53,
    "start_time": "2022-06-25T18:19:22.451Z"
   },
   {
    "duration": 357,
    "start_time": "2022-06-25T18:19:43.340Z"
   },
   {
    "duration": 1409,
    "start_time": "2022-06-25T18:19:59.601Z"
   },
   {
    "duration": 63,
    "start_time": "2022-06-25T18:20:01.013Z"
   },
   {
    "duration": 32,
    "start_time": "2022-06-25T18:20:01.078Z"
   },
   {
    "duration": 39,
    "start_time": "2022-06-25T18:20:01.112Z"
   },
   {
    "duration": 75,
    "start_time": "2022-06-25T18:20:01.153Z"
   },
   {
    "duration": 13,
    "start_time": "2022-06-25T18:20:01.229Z"
   },
   {
    "duration": 16,
    "start_time": "2022-06-25T18:20:01.243Z"
   },
   {
    "duration": 604,
    "start_time": "2022-06-25T18:20:01.261Z"
   },
   {
    "duration": 7,
    "start_time": "2022-06-25T18:20:01.867Z"
   },
   {
    "duration": 102,
    "start_time": "2022-06-25T18:20:01.876Z"
   },
   {
    "duration": 542,
    "start_time": "2022-06-25T18:20:01.980Z"
   },
   {
    "duration": 423,
    "start_time": "2022-06-25T18:20:02.524Z"
   },
   {
    "duration": 29,
    "start_time": "2022-06-25T18:20:02.949Z"
   },
   {
    "duration": 398,
    "start_time": "2022-06-25T18:20:02.984Z"
   },
   {
    "duration": 53,
    "start_time": "2022-06-25T18:20:03.383Z"
   },
   {
    "duration": 414,
    "start_time": "2022-06-25T18:20:03.438Z"
   },
   {
    "duration": 48,
    "start_time": "2022-06-25T18:20:03.854Z"
   },
   {
    "duration": 22,
    "start_time": "2022-06-25T18:20:03.903Z"
   },
   {
    "duration": 305,
    "start_time": "2022-06-25T18:20:03.927Z"
   },
   {
    "duration": 5,
    "start_time": "2022-06-25T18:20:04.233Z"
   },
   {
    "duration": 378,
    "start_time": "2022-06-25T18:20:04.240Z"
   },
   {
    "duration": 1577,
    "start_time": "2022-06-25T18:20:04.621Z"
   },
   {
    "duration": 20,
    "start_time": "2022-06-25T18:20:06.201Z"
   },
   {
    "duration": 270,
    "start_time": "2022-06-25T18:20:06.223Z"
   },
   {
    "duration": 614,
    "start_time": "2022-06-25T18:20:06.494Z"
   },
   {
    "duration": 2190,
    "start_time": "2022-06-25T18:20:07.111Z"
   },
   {
    "duration": 16,
    "start_time": "2022-06-25T18:20:09.303Z"
   },
   {
    "duration": 41,
    "start_time": "2022-06-25T18:20:09.321Z"
   },
   {
    "duration": 70,
    "start_time": "2022-06-25T18:20:09.364Z"
   },
   {
    "duration": 17,
    "start_time": "2022-06-25T18:20:09.436Z"
   },
   {
    "duration": 79,
    "start_time": "2022-06-25T18:20:09.455Z"
   },
   {
    "duration": 25,
    "start_time": "2022-06-25T18:20:09.536Z"
   },
   {
    "duration": 43,
    "start_time": "2022-06-25T18:21:05.822Z"
   },
   {
    "duration": 1638,
    "start_time": "2022-06-25T18:22:33.197Z"
   },
   {
    "duration": 298,
    "start_time": "2022-06-25T18:31:00.506Z"
   },
   {
    "duration": 3,
    "start_time": "2022-06-25T18:31:42.111Z"
   },
   {
    "duration": 49,
    "start_time": "2022-06-25T18:32:51.263Z"
   },
   {
    "duration": 530,
    "start_time": "2022-06-25T18:33:07.355Z"
   },
   {
    "duration": 1149,
    "start_time": "2022-06-25T18:33:19.464Z"
   },
   {
    "duration": 662,
    "start_time": "2022-06-25T18:33:40.157Z"
   },
   {
    "duration": 2113,
    "start_time": "2022-06-25T18:34:22.948Z"
   },
   {
    "duration": 50,
    "start_time": "2022-06-26T08:43:15.731Z"
   },
   {
    "duration": 1202,
    "start_time": "2022-06-26T08:43:26.812Z"
   },
   {
    "duration": 88,
    "start_time": "2022-06-26T08:43:28.017Z"
   },
   {
    "duration": 25,
    "start_time": "2022-06-26T08:43:28.107Z"
   },
   {
    "duration": 8,
    "start_time": "2022-06-26T08:43:28.134Z"
   },
   {
    "duration": 55,
    "start_time": "2022-06-26T08:43:28.144Z"
   },
   {
    "duration": 12,
    "start_time": "2022-06-26T08:43:28.201Z"
   },
   {
    "duration": 2,
    "start_time": "2022-06-26T08:43:28.215Z"
   },
   {
    "duration": 444,
    "start_time": "2022-06-26T08:43:28.219Z"
   },
   {
    "duration": 4,
    "start_time": "2022-06-26T08:43:28.665Z"
   },
   {
    "duration": 31,
    "start_time": "2022-06-26T08:43:28.671Z"
   },
   {
    "duration": 380,
    "start_time": "2022-06-26T08:43:28.704Z"
   },
   {
    "duration": 331,
    "start_time": "2022-06-26T08:43:29.086Z"
   },
   {
    "duration": 17,
    "start_time": "2022-06-26T08:43:29.419Z"
   },
   {
    "duration": 306,
    "start_time": "2022-06-26T08:43:29.438Z"
   },
   {
    "duration": 38,
    "start_time": "2022-06-26T08:43:29.745Z"
   },
   {
    "duration": 301,
    "start_time": "2022-06-26T08:43:29.785Z"
   },
   {
    "duration": 2,
    "start_time": "2022-06-26T08:43:30.088Z"
   },
   {
    "duration": 254,
    "start_time": "2022-06-26T08:43:30.091Z"
   },
   {
    "duration": 6,
    "start_time": "2022-06-26T08:43:30.346Z"
   },
   {
    "duration": 303,
    "start_time": "2022-06-26T08:43:30.353Z"
   },
   {
    "duration": 1351,
    "start_time": "2022-06-26T08:43:30.658Z"
   },
   {
    "duration": 94,
    "start_time": "2022-06-26T08:43:32.010Z"
   },
   {
    "duration": 0,
    "start_time": "2022-06-26T08:43:32.105Z"
   },
   {
    "duration": 0,
    "start_time": "2022-06-26T08:43:32.106Z"
   },
   {
    "duration": 0,
    "start_time": "2022-06-26T08:43:32.107Z"
   },
   {
    "duration": 0,
    "start_time": "2022-06-26T08:43:32.108Z"
   },
   {
    "duration": 0,
    "start_time": "2022-06-26T08:43:32.109Z"
   },
   {
    "duration": 0,
    "start_time": "2022-06-26T08:43:32.111Z"
   },
   {
    "duration": 0,
    "start_time": "2022-06-26T08:43:32.111Z"
   },
   {
    "duration": 0,
    "start_time": "2022-06-26T08:43:32.112Z"
   },
   {
    "duration": 0,
    "start_time": "2022-06-26T08:43:32.113Z"
   },
   {
    "duration": 1424,
    "start_time": "2022-06-26T08:44:43.349Z"
   },
   {
    "duration": 1503,
    "start_time": "2022-06-26T08:50:19.683Z"
   },
   {
    "duration": 13,
    "start_time": "2022-06-26T08:52:40.712Z"
   },
   {
    "duration": 11,
    "start_time": "2022-06-26T08:57:13.179Z"
   },
   {
    "duration": 385,
    "start_time": "2022-06-26T08:57:31.426Z"
   },
   {
    "duration": 11,
    "start_time": "2022-06-26T09:03:14.159Z"
   },
   {
    "duration": 1787,
    "start_time": "2022-06-26T09:03:25.108Z"
   },
   {
    "duration": 16,
    "start_time": "2022-06-26T09:14:43.363Z"
   },
   {
    "duration": 13,
    "start_time": "2022-06-26T09:14:55.618Z"
   },
   {
    "duration": 5,
    "start_time": "2022-06-26T09:14:57.160Z"
   },
   {
    "duration": 5,
    "start_time": "2022-06-26T09:15:01.137Z"
   },
   {
    "duration": 5,
    "start_time": "2022-06-26T09:16:21.203Z"
   },
   {
    "duration": 52,
    "start_time": "2022-06-26T09:16:42.354Z"
   },
   {
    "duration": 13,
    "start_time": "2022-06-26T09:16:48.956Z"
   },
   {
    "duration": 5,
    "start_time": "2022-06-26T09:16:50.966Z"
   },
   {
    "duration": 5,
    "start_time": "2022-06-26T09:16:53.873Z"
   },
   {
    "duration": 1194,
    "start_time": "2022-06-26T09:18:53.429Z"
   },
   {
    "duration": 53,
    "start_time": "2022-06-26T09:18:54.625Z"
   },
   {
    "duration": 27,
    "start_time": "2022-06-26T09:18:54.680Z"
   },
   {
    "duration": 10,
    "start_time": "2022-06-26T09:18:54.709Z"
   },
   {
    "duration": 79,
    "start_time": "2022-06-26T09:18:54.722Z"
   },
   {
    "duration": 23,
    "start_time": "2022-06-26T09:18:54.803Z"
   },
   {
    "duration": 4,
    "start_time": "2022-06-26T09:18:54.828Z"
   },
   {
    "duration": 574,
    "start_time": "2022-06-26T09:18:54.853Z"
   },
   {
    "duration": 8,
    "start_time": "2022-06-26T09:18:55.429Z"
   },
   {
    "duration": 42,
    "start_time": "2022-06-26T09:18:55.440Z"
   },
   {
    "duration": 460,
    "start_time": "2022-06-26T09:18:55.484Z"
   },
   {
    "duration": 373,
    "start_time": "2022-06-26T09:18:55.946Z"
   },
   {
    "duration": 33,
    "start_time": "2022-06-26T09:18:56.321Z"
   },
   {
    "duration": 331,
    "start_time": "2022-06-26T09:18:56.357Z"
   },
   {
    "duration": 65,
    "start_time": "2022-06-26T09:18:56.691Z"
   },
   {
    "duration": 338,
    "start_time": "2022-06-26T09:18:56.758Z"
   },
   {
    "duration": 3,
    "start_time": "2022-06-26T09:18:57.098Z"
   },
   {
    "duration": 278,
    "start_time": "2022-06-26T09:18:57.102Z"
   },
   {
    "duration": 5,
    "start_time": "2022-06-26T09:18:57.383Z"
   },
   {
    "duration": 763,
    "start_time": "2022-06-26T09:18:57.390Z"
   },
   {
    "duration": 1499,
    "start_time": "2022-06-26T09:18:58.156Z"
   },
   {
    "duration": 13,
    "start_time": "2022-06-26T09:18:59.657Z"
   },
   {
    "duration": 217,
    "start_time": "2022-06-26T09:18:59.672Z"
   },
   {
    "duration": 537,
    "start_time": "2022-06-26T09:18:59.891Z"
   },
   {
    "duration": 1836,
    "start_time": "2022-06-26T09:19:00.430Z"
   },
   {
    "duration": 12,
    "start_time": "2022-06-26T09:19:02.268Z"
   },
   {
    "duration": 18,
    "start_time": "2022-06-26T09:19:02.282Z"
   },
   {
    "duration": 26,
    "start_time": "2022-06-26T09:19:02.302Z"
   },
   {
    "duration": 23,
    "start_time": "2022-06-26T09:19:02.330Z"
   },
   {
    "duration": 5,
    "start_time": "2022-06-26T09:19:02.355Z"
   },
   {
    "duration": 12,
    "start_time": "2022-06-26T09:19:02.362Z"
   },
   {
    "duration": 12,
    "start_time": "2022-06-26T09:21:42.691Z"
   },
   {
    "duration": 43,
    "start_time": "2022-06-26T09:22:43.326Z"
   },
   {
    "duration": 54,
    "start_time": "2022-06-26T09:24:25.006Z"
   },
   {
    "duration": 352,
    "start_time": "2022-06-26T09:24:32.543Z"
   },
   {
    "duration": 337,
    "start_time": "2022-06-26T09:25:00.122Z"
   },
   {
    "duration": 182,
    "start_time": "2022-06-26T09:25:09.261Z"
   },
   {
    "duration": 6,
    "start_time": "2022-06-26T09:26:20.699Z"
   },
   {
    "duration": 822,
    "start_time": "2022-06-26T09:26:21.724Z"
   },
   {
    "duration": 334,
    "start_time": "2022-06-26T09:27:08.576Z"
   },
   {
    "duration": 1642,
    "start_time": "2022-06-26T09:27:18.682Z"
   },
   {
    "duration": 15,
    "start_time": "2022-06-26T09:27:45.065Z"
   },
   {
    "duration": 1064,
    "start_time": "2022-06-26T09:27:57.713Z"
   },
   {
    "duration": 50,
    "start_time": "2022-06-26T09:27:58.779Z"
   },
   {
    "duration": 27,
    "start_time": "2022-06-26T09:27:58.830Z"
   },
   {
    "duration": 11,
    "start_time": "2022-06-26T09:27:58.859Z"
   },
   {
    "duration": 51,
    "start_time": "2022-06-26T09:27:58.872Z"
   },
   {
    "duration": 14,
    "start_time": "2022-06-26T09:27:58.924Z"
   },
   {
    "duration": 33,
    "start_time": "2022-06-26T09:27:58.939Z"
   },
   {
    "duration": 475,
    "start_time": "2022-06-26T09:27:58.973Z"
   },
   {
    "duration": 14,
    "start_time": "2022-06-26T09:27:59.451Z"
   },
   {
    "duration": 30,
    "start_time": "2022-06-26T09:27:59.467Z"
   },
   {
    "duration": 384,
    "start_time": "2022-06-26T09:27:59.498Z"
   },
   {
    "duration": 359,
    "start_time": "2022-06-26T09:27:59.884Z"
   },
   {
    "duration": 28,
    "start_time": "2022-06-26T09:28:00.245Z"
   },
   {
    "duration": 316,
    "start_time": "2022-06-26T09:28:00.276Z"
   },
   {
    "duration": 41,
    "start_time": "2022-06-26T09:28:00.593Z"
   },
   {
    "duration": 336,
    "start_time": "2022-06-26T09:28:00.636Z"
   },
   {
    "duration": 3,
    "start_time": "2022-06-26T09:28:00.974Z"
   },
   {
    "duration": 291,
    "start_time": "2022-06-26T09:28:00.979Z"
   },
   {
    "duration": 5,
    "start_time": "2022-06-26T09:28:01.272Z"
   },
   {
    "duration": 321,
    "start_time": "2022-06-26T09:28:01.279Z"
   },
   {
    "duration": 1530,
    "start_time": "2022-06-26T09:28:01.602Z"
   },
   {
    "duration": 21,
    "start_time": "2022-06-26T09:28:03.134Z"
   },
   {
    "duration": 220,
    "start_time": "2022-06-26T09:28:03.158Z"
   },
   {
    "duration": 500,
    "start_time": "2022-06-26T09:28:03.380Z"
   },
   {
    "duration": 1751,
    "start_time": "2022-06-26T09:28:03.881Z"
   },
   {
    "duration": 26,
    "start_time": "2022-06-26T09:28:05.634Z"
   },
   {
    "duration": 4,
    "start_time": "2022-06-26T09:28:05.662Z"
   },
   {
    "duration": 23,
    "start_time": "2022-06-26T09:28:05.667Z"
   },
   {
    "duration": 16,
    "start_time": "2022-06-26T09:28:05.692Z"
   },
   {
    "duration": 16,
    "start_time": "2022-06-26T09:28:05.710Z"
   },
   {
    "duration": 21,
    "start_time": "2022-06-26T09:28:05.728Z"
   },
   {
    "duration": 524,
    "start_time": "2022-06-26T09:30:04.987Z"
   },
   {
    "duration": 344,
    "start_time": "2022-06-26T09:39:54.233Z"
   },
   {
    "duration": 364,
    "start_time": "2022-06-26T09:40:01.639Z"
   },
   {
    "duration": 287,
    "start_time": "2022-06-26T09:40:28.849Z"
   },
   {
    "duration": 428,
    "start_time": "2022-06-26T09:40:42.602Z"
   },
   {
    "duration": 4,
    "start_time": "2022-06-26T09:41:39.403Z"
   },
   {
    "duration": 246,
    "start_time": "2022-06-26T09:42:10.595Z"
   },
   {
    "duration": 159,
    "start_time": "2022-06-26T09:42:28.526Z"
   },
   {
    "duration": 320,
    "start_time": "2022-06-26T09:43:05.662Z"
   },
   {
    "duration": 424,
    "start_time": "2022-06-26T09:43:31.251Z"
   },
   {
    "duration": 60,
    "start_time": "2022-06-26T09:43:40.820Z"
   },
   {
    "duration": 326,
    "start_time": "2022-06-26T09:43:41.528Z"
   },
   {
    "duration": 314,
    "start_time": "2022-06-26T09:43:48.148Z"
   },
   {
    "duration": 1099,
    "start_time": "2022-06-26T09:44:05.376Z"
   },
   {
    "duration": 50,
    "start_time": "2022-06-26T09:44:06.478Z"
   },
   {
    "duration": 28,
    "start_time": "2022-06-26T09:44:06.530Z"
   },
   {
    "duration": 10,
    "start_time": "2022-06-26T09:44:06.560Z"
   },
   {
    "duration": 61,
    "start_time": "2022-06-26T09:44:06.571Z"
   },
   {
    "duration": 25,
    "start_time": "2022-06-26T09:44:06.634Z"
   },
   {
    "duration": 4,
    "start_time": "2022-06-26T09:44:06.661Z"
   },
   {
    "duration": 483,
    "start_time": "2022-06-26T09:44:06.667Z"
   },
   {
    "duration": 4,
    "start_time": "2022-06-26T09:44:07.152Z"
   },
   {
    "duration": 30,
    "start_time": "2022-06-26T09:44:07.159Z"
   },
   {
    "duration": 412,
    "start_time": "2022-06-26T09:44:07.191Z"
   },
   {
    "duration": 383,
    "start_time": "2022-06-26T09:44:07.605Z"
   },
   {
    "duration": 18,
    "start_time": "2022-06-26T09:44:07.990Z"
   },
   {
    "duration": 358,
    "start_time": "2022-06-26T09:44:08.010Z"
   },
   {
    "duration": 54,
    "start_time": "2022-06-26T09:44:08.370Z"
   },
   {
    "duration": 337,
    "start_time": "2022-06-26T09:44:08.427Z"
   },
   {
    "duration": 3,
    "start_time": "2022-06-26T09:44:08.766Z"
   },
   {
    "duration": 274,
    "start_time": "2022-06-26T09:44:08.771Z"
   },
   {
    "duration": 5,
    "start_time": "2022-06-26T09:44:09.052Z"
   },
   {
    "duration": 327,
    "start_time": "2022-06-26T09:44:09.059Z"
   },
   {
    "duration": 1550,
    "start_time": "2022-06-26T09:44:09.388Z"
   },
   {
    "duration": 18,
    "start_time": "2022-06-26T09:44:10.940Z"
   },
   {
    "duration": 212,
    "start_time": "2022-06-26T09:44:10.960Z"
   },
   {
    "duration": 525,
    "start_time": "2022-06-26T09:44:11.173Z"
   },
   {
    "duration": 1743,
    "start_time": "2022-06-26T09:44:11.700Z"
   },
   {
    "duration": 15,
    "start_time": "2022-06-26T09:44:13.446Z"
   },
   {
    "duration": 7,
    "start_time": "2022-06-26T09:44:13.463Z"
   },
   {
    "duration": 21,
    "start_time": "2022-06-26T09:44:13.474Z"
   },
   {
    "duration": 24,
    "start_time": "2022-06-26T09:44:13.498Z"
   },
   {
    "duration": 5,
    "start_time": "2022-06-26T09:44:13.524Z"
   },
   {
    "duration": 10,
    "start_time": "2022-06-26T09:44:13.551Z"
   },
   {
    "duration": 48,
    "start_time": "2022-06-26T10:05:36.818Z"
   },
   {
    "duration": 1239,
    "start_time": "2022-06-26T10:05:40.039Z"
   },
   {
    "duration": 88,
    "start_time": "2022-06-26T10:05:41.280Z"
   },
   {
    "duration": 21,
    "start_time": "2022-06-26T10:05:41.370Z"
   },
   {
    "duration": 7,
    "start_time": "2022-06-26T10:05:41.393Z"
   },
   {
    "duration": 51,
    "start_time": "2022-06-26T10:05:41.402Z"
   },
   {
    "duration": 12,
    "start_time": "2022-06-26T10:05:41.455Z"
   },
   {
    "duration": 3,
    "start_time": "2022-06-26T10:05:41.469Z"
   },
   {
    "duration": 453,
    "start_time": "2022-06-26T10:05:41.473Z"
   },
   {
    "duration": 4,
    "start_time": "2022-06-26T10:05:41.927Z"
   },
   {
    "duration": 33,
    "start_time": "2022-06-26T10:05:41.933Z"
   },
   {
    "duration": 412,
    "start_time": "2022-06-26T10:05:41.968Z"
   },
   {
    "duration": 321,
    "start_time": "2022-06-26T10:05:42.382Z"
   },
   {
    "duration": 16,
    "start_time": "2022-06-26T10:05:42.705Z"
   },
   {
    "duration": 292,
    "start_time": "2022-06-26T10:05:42.722Z"
   },
   {
    "duration": 40,
    "start_time": "2022-06-26T10:05:43.016Z"
   },
   {
    "duration": 31,
    "start_time": "2022-06-26T10:05:43.775Z"
   },
   {
    "duration": 5,
    "start_time": "2022-06-26T10:08:04.614Z"
   },
   {
    "duration": 71,
    "start_time": "2022-06-26T10:08:56.245Z"
   },
   {
    "duration": 17,
    "start_time": "2022-06-26T10:09:32.306Z"
   },
   {
    "duration": 47,
    "start_time": "2022-06-26T10:09:41.098Z"
   },
   {
    "duration": 26,
    "start_time": "2022-06-26T10:10:17.132Z"
   },
   {
    "duration": 3,
    "start_time": "2022-06-26T10:10:32.054Z"
   },
   {
    "duration": 54,
    "start_time": "2022-06-26T10:10:32.059Z"
   },
   {
    "duration": 18,
    "start_time": "2022-06-26T10:10:32.115Z"
   },
   {
    "duration": 8,
    "start_time": "2022-06-26T10:10:32.135Z"
   },
   {
    "duration": 14,
    "start_time": "2022-06-26T10:10:32.145Z"
   },
   {
    "duration": 10,
    "start_time": "2022-06-26T10:10:32.181Z"
   },
   {
    "duration": 3,
    "start_time": "2022-06-26T10:10:32.193Z"
   },
   {
    "duration": 396,
    "start_time": "2022-06-26T10:10:32.238Z"
   },
   {
    "duration": 3,
    "start_time": "2022-06-26T10:10:32.636Z"
   },
   {
    "duration": 25,
    "start_time": "2022-06-26T10:10:32.641Z"
   },
   {
    "duration": 343,
    "start_time": "2022-06-26T10:10:32.667Z"
   },
   {
    "duration": 370,
    "start_time": "2022-06-26T10:10:33.012Z"
   },
   {
    "duration": 17,
    "start_time": "2022-06-26T10:10:33.383Z"
   },
   {
    "duration": 256,
    "start_time": "2022-06-26T10:10:33.401Z"
   },
   {
    "duration": 36,
    "start_time": "2022-06-26T10:10:33.659Z"
   },
   {
    "duration": 39,
    "start_time": "2022-06-26T10:10:37.215Z"
   },
   {
    "duration": 27,
    "start_time": "2022-06-26T10:10:53.199Z"
   },
   {
    "duration": 5,
    "start_time": "2022-06-26T10:11:28.849Z"
   },
   {
    "duration": 30,
    "start_time": "2022-06-26T10:11:41.050Z"
   },
   {
    "duration": 38,
    "start_time": "2022-06-26T10:11:57.425Z"
   },
   {
    "duration": 3,
    "start_time": "2022-06-26T10:12:09.115Z"
   },
   {
    "duration": 28,
    "start_time": "2022-06-26T10:12:26.784Z"
   },
   {
    "duration": 27,
    "start_time": "2022-06-26T10:13:56.562Z"
   },
   {
    "duration": 15,
    "start_time": "2022-06-26T10:14:47.566Z"
   },
   {
    "duration": 9,
    "start_time": "2022-06-26T10:14:52.439Z"
   },
   {
    "duration": 11,
    "start_time": "2022-06-26T10:15:00.539Z"
   },
   {
    "duration": 20,
    "start_time": "2022-06-26T10:15:19.430Z"
   },
   {
    "duration": 13,
    "start_time": "2022-06-26T10:18:06.313Z"
   },
   {
    "duration": 126,
    "start_time": "2022-06-26T10:18:18.161Z"
   },
   {
    "duration": 12,
    "start_time": "2022-06-26T10:18:31.901Z"
   },
   {
    "duration": 13,
    "start_time": "2022-06-26T10:19:02.116Z"
   },
   {
    "duration": 12,
    "start_time": "2022-06-26T10:19:31.180Z"
   },
   {
    "duration": 15,
    "start_time": "2022-06-26T10:20:12.750Z"
   },
   {
    "duration": 16,
    "start_time": "2022-06-26T10:20:16.577Z"
   },
   {
    "duration": 136,
    "start_time": "2022-06-26T10:20:22.781Z"
   },
   {
    "duration": 168,
    "start_time": "2022-06-26T10:20:43.301Z"
   },
   {
    "duration": 235,
    "start_time": "2022-06-26T10:21:25.550Z"
   },
   {
    "duration": 169,
    "start_time": "2022-06-26T10:21:46.404Z"
   },
   {
    "duration": 206,
    "start_time": "2022-06-26T10:22:37.456Z"
   },
   {
    "duration": 211,
    "start_time": "2022-06-26T10:23:02.462Z"
   },
   {
    "duration": 1360,
    "start_time": "2022-06-26T14:25:26.208Z"
   },
   {
    "duration": 204,
    "start_time": "2022-06-26T14:25:27.571Z"
   },
   {
    "duration": 39,
    "start_time": "2022-06-26T14:25:27.777Z"
   },
   {
    "duration": 19,
    "start_time": "2022-06-26T14:25:27.818Z"
   },
   {
    "duration": 50,
    "start_time": "2022-06-26T14:25:27.839Z"
   },
   {
    "duration": 21,
    "start_time": "2022-06-26T14:25:27.890Z"
   },
   {
    "duration": 24,
    "start_time": "2022-06-26T14:25:27.916Z"
   },
   {
    "duration": 496,
    "start_time": "2022-06-26T14:25:27.941Z"
   },
   {
    "duration": 5,
    "start_time": "2022-06-26T14:25:28.438Z"
   },
   {
    "duration": 24,
    "start_time": "2022-06-26T14:25:28.445Z"
   },
   {
    "duration": 419,
    "start_time": "2022-06-26T14:25:28.470Z"
   },
   {
    "duration": 353,
    "start_time": "2022-06-26T14:25:28.891Z"
   },
   {
    "duration": 19,
    "start_time": "2022-06-26T14:25:29.246Z"
   },
   {
    "duration": 342,
    "start_time": "2022-06-26T14:25:29.267Z"
   },
   {
    "duration": 47,
    "start_time": "2022-06-26T14:25:29.611Z"
   },
   {
    "duration": 283,
    "start_time": "2022-06-26T14:25:29.659Z"
   },
   {
    "duration": 2,
    "start_time": "2022-06-26T14:25:29.944Z"
   },
   {
    "duration": 284,
    "start_time": "2022-06-26T14:25:29.948Z"
   },
   {
    "duration": 1376,
    "start_time": "2022-12-13T09:58:36.096Z"
   },
   {
    "duration": 193,
    "start_time": "2022-12-13T09:58:37.474Z"
   },
   {
    "duration": 26,
    "start_time": "2022-12-13T09:58:37.668Z"
   },
   {
    "duration": 8,
    "start_time": "2022-12-13T09:58:37.696Z"
   },
   {
    "duration": 54,
    "start_time": "2022-12-13T09:58:37.705Z"
   },
   {
    "duration": 25,
    "start_time": "2022-12-13T09:58:37.761Z"
   },
   {
    "duration": 2,
    "start_time": "2022-12-13T09:58:37.788Z"
   },
   {
    "duration": 468,
    "start_time": "2022-12-13T09:58:37.792Z"
   },
   {
    "duration": 5,
    "start_time": "2022-12-13T09:58:38.262Z"
   },
   {
    "duration": 25,
    "start_time": "2022-12-13T09:58:38.277Z"
   },
   {
    "duration": 401,
    "start_time": "2022-12-13T09:58:38.304Z"
   },
   {
    "duration": 360,
    "start_time": "2022-12-13T09:58:38.707Z"
   },
   {
    "duration": 22,
    "start_time": "2022-12-13T09:58:39.068Z"
   },
   {
    "duration": 336,
    "start_time": "2022-12-13T09:58:39.092Z"
   },
   {
    "duration": 44,
    "start_time": "2022-12-13T09:58:39.430Z"
   },
   {
    "duration": 320,
    "start_time": "2022-12-13T09:58:39.475Z"
   },
   {
    "duration": 2,
    "start_time": "2022-12-13T09:58:39.797Z"
   },
   {
    "duration": 261,
    "start_time": "2022-12-13T09:58:39.801Z"
   },
   {
    "duration": 4,
    "start_time": "2022-12-13T09:58:40.063Z"
   },
   {
    "duration": 325,
    "start_time": "2022-12-13T09:58:40.069Z"
   },
   {
    "duration": 1561,
    "start_time": "2022-12-13T09:58:40.395Z"
   },
   {
    "duration": 21,
    "start_time": "2022-12-13T09:58:41.957Z"
   },
   {
    "duration": 195,
    "start_time": "2022-12-13T09:58:41.979Z"
   },
   {
    "duration": 529,
    "start_time": "2022-12-13T09:58:42.178Z"
   },
   {
    "duration": 1730,
    "start_time": "2022-12-13T09:58:42.709Z"
   },
   {
    "duration": 12,
    "start_time": "2022-12-13T09:58:44.441Z"
   },
   {
    "duration": 5,
    "start_time": "2022-12-13T09:58:44.455Z"
   },
   {
    "duration": 5,
    "start_time": "2022-12-13T09:58:44.480Z"
   },
   {
    "duration": 14,
    "start_time": "2022-12-13T09:58:44.487Z"
   },
   {
    "duration": 10,
    "start_time": "2022-12-13T09:58:44.503Z"
   },
   {
    "duration": 12,
    "start_time": "2022-12-13T09:58:44.515Z"
   },
   {
    "duration": 12,
    "start_time": "2022-12-13T10:00:11.894Z"
   },
   {
    "duration": 1282,
    "start_time": "2022-12-13T10:37:49.886Z"
   },
   {
    "duration": 71,
    "start_time": "2022-12-13T10:37:51.171Z"
   },
   {
    "duration": 39,
    "start_time": "2022-12-13T10:37:51.245Z"
   },
   {
    "duration": 10,
    "start_time": "2022-12-13T10:37:51.287Z"
   },
   {
    "duration": 66,
    "start_time": "2022-12-13T10:37:51.299Z"
   },
   {
    "duration": 16,
    "start_time": "2022-12-13T10:37:51.379Z"
   },
   {
    "duration": 10,
    "start_time": "2022-12-13T10:37:51.397Z"
   },
   {
    "duration": 576,
    "start_time": "2022-12-13T10:37:51.410Z"
   },
   {
    "duration": 5,
    "start_time": "2022-12-13T10:37:51.987Z"
   },
   {
    "duration": 34,
    "start_time": "2022-12-13T10:37:51.995Z"
   },
   {
    "duration": 414,
    "start_time": "2022-12-13T10:37:52.030Z"
   },
   {
    "duration": 387,
    "start_time": "2022-12-13T10:37:52.446Z"
   },
   {
    "duration": 19,
    "start_time": "2022-12-13T10:37:52.835Z"
   },
   {
    "duration": 368,
    "start_time": "2022-12-13T10:37:52.856Z"
   },
   {
    "duration": 17,
    "start_time": "2022-12-13T10:37:53.226Z"
   },
   {
    "duration": 76,
    "start_time": "2022-12-13T10:37:53.245Z"
   },
   {
    "duration": 374,
    "start_time": "2022-12-13T10:37:53.324Z"
   },
   {
    "duration": 6,
    "start_time": "2022-12-13T10:37:53.700Z"
   },
   {
    "duration": 329,
    "start_time": "2022-12-13T10:37:53.708Z"
   },
   {
    "duration": 9,
    "start_time": "2022-12-13T10:37:54.039Z"
   },
   {
    "duration": 414,
    "start_time": "2022-12-13T10:37:54.051Z"
   },
   {
    "duration": 1622,
    "start_time": "2022-12-13T10:37:54.467Z"
   },
   {
    "duration": 14,
    "start_time": "2022-12-13T10:37:56.091Z"
   },
   {
    "duration": 220,
    "start_time": "2022-12-13T10:37:56.107Z"
   },
   {
    "duration": 537,
    "start_time": "2022-12-13T10:37:56.329Z"
   },
   {
    "duration": 1794,
    "start_time": "2022-12-13T10:37:56.868Z"
   },
   {
    "duration": 24,
    "start_time": "2022-12-13T10:37:58.664Z"
   },
   {
    "duration": 51,
    "start_time": "2022-12-13T10:37:58.693Z"
   },
   {
    "duration": 40,
    "start_time": "2022-12-13T10:37:58.746Z"
   },
   {
    "duration": 34,
    "start_time": "2022-12-13T10:37:58.787Z"
   },
   {
    "duration": 22,
    "start_time": "2022-12-13T10:37:58.824Z"
   },
   {
    "duration": 17,
    "start_time": "2022-12-13T10:37:58.849Z"
   },
   {
    "duration": 1214,
    "start_time": "2022-12-13T10:38:35.423Z"
   },
   {
    "duration": 57,
    "start_time": "2022-12-13T10:38:36.639Z"
   },
   {
    "duration": 29,
    "start_time": "2022-12-13T10:38:36.698Z"
   },
   {
    "duration": 16,
    "start_time": "2022-12-13T10:38:36.730Z"
   },
   {
    "duration": 77,
    "start_time": "2022-12-13T10:38:36.748Z"
   },
   {
    "duration": 20,
    "start_time": "2022-12-13T10:38:36.828Z"
   },
   {
    "duration": 4,
    "start_time": "2022-12-13T10:38:36.851Z"
   },
   {
    "duration": 538,
    "start_time": "2022-12-13T10:38:36.857Z"
   },
   {
    "duration": 5,
    "start_time": "2022-12-13T10:38:37.397Z"
   },
   {
    "duration": 47,
    "start_time": "2022-12-13T10:38:37.406Z"
   },
   {
    "duration": 445,
    "start_time": "2022-12-13T10:38:37.455Z"
   },
   {
    "duration": 504,
    "start_time": "2022-12-13T10:38:37.902Z"
   },
   {
    "duration": 22,
    "start_time": "2022-12-13T10:38:38.408Z"
   },
   {
    "duration": 344,
    "start_time": "2022-12-13T10:38:38.432Z"
   },
   {
    "duration": 17,
    "start_time": "2022-12-13T10:38:38.779Z"
   },
   {
    "duration": 44,
    "start_time": "2022-12-13T10:38:38.799Z"
   },
   {
    "duration": 372,
    "start_time": "2022-12-13T10:38:38.845Z"
   },
   {
    "duration": 3,
    "start_time": "2022-12-13T10:38:39.218Z"
   },
   {
    "duration": 351,
    "start_time": "2022-12-13T10:38:39.223Z"
   },
   {
    "duration": 8,
    "start_time": "2022-12-13T10:38:39.578Z"
   },
   {
    "duration": 391,
    "start_time": "2022-12-13T10:38:39.588Z"
   },
   {
    "duration": 1627,
    "start_time": "2022-12-13T10:38:39.981Z"
   },
   {
    "duration": 15,
    "start_time": "2022-12-13T10:38:41.609Z"
   },
   {
    "duration": 247,
    "start_time": "2022-12-13T10:38:41.626Z"
   },
   {
    "duration": 620,
    "start_time": "2022-12-13T10:38:41.875Z"
   },
   {
    "duration": 1899,
    "start_time": "2022-12-13T10:38:42.497Z"
   },
   {
    "duration": 14,
    "start_time": "2022-12-13T10:38:44.397Z"
   },
   {
    "duration": 4,
    "start_time": "2022-12-13T10:38:44.414Z"
   },
   {
    "duration": 8,
    "start_time": "2022-12-13T10:38:44.421Z"
   },
   {
    "duration": 47,
    "start_time": "2022-12-13T10:38:44.431Z"
   },
   {
    "duration": 6,
    "start_time": "2022-12-13T10:38:44.480Z"
   },
   {
    "duration": 10,
    "start_time": "2022-12-13T10:38:44.488Z"
   },
   {
    "duration": 43,
    "start_time": "2022-12-13T10:41:46.733Z"
   },
   {
    "duration": 73,
    "start_time": "2022-12-13T11:12:07.425Z"
   },
   {
    "duration": 1196,
    "start_time": "2022-12-13T11:23:23.343Z"
   },
   {
    "duration": 55,
    "start_time": "2022-12-13T11:23:24.541Z"
   },
   {
    "duration": 11,
    "start_time": "2022-12-13T11:23:24.597Z"
   },
   {
    "duration": 49,
    "start_time": "2022-12-13T11:23:24.610Z"
   },
   {
    "duration": 26,
    "start_time": "2022-12-13T11:23:24.661Z"
   },
   {
    "duration": 3,
    "start_time": "2022-12-13T11:23:24.695Z"
   },
   {
    "duration": 511,
    "start_time": "2022-12-13T11:23:24.700Z"
   },
   {
    "duration": 28,
    "start_time": "2022-12-13T11:23:25.213Z"
   },
   {
    "duration": 475,
    "start_time": "2022-12-13T11:23:25.243Z"
   },
   {
    "duration": 383,
    "start_time": "2022-12-13T11:23:25.721Z"
   },
   {
    "duration": 17,
    "start_time": "2022-12-13T11:23:26.105Z"
   },
   {
    "duration": 320,
    "start_time": "2022-12-13T11:23:26.124Z"
   },
   {
    "duration": 29,
    "start_time": "2022-12-13T11:23:26.446Z"
   },
   {
    "duration": 125,
    "start_time": "2022-12-13T11:23:26.476Z"
   },
   {
    "duration": 0,
    "start_time": "2022-12-13T11:23:26.602Z"
   },
   {
    "duration": 0,
    "start_time": "2022-12-13T11:23:26.604Z"
   },
   {
    "duration": 0,
    "start_time": "2022-12-13T11:23:26.605Z"
   },
   {
    "duration": 0,
    "start_time": "2022-12-13T11:23:26.606Z"
   },
   {
    "duration": 0,
    "start_time": "2022-12-13T11:23:26.607Z"
   },
   {
    "duration": 0,
    "start_time": "2022-12-13T11:23:26.608Z"
   },
   {
    "duration": 0,
    "start_time": "2022-12-13T11:23:26.609Z"
   },
   {
    "duration": 0,
    "start_time": "2022-12-13T11:23:26.610Z"
   },
   {
    "duration": 0,
    "start_time": "2022-12-13T11:23:26.611Z"
   },
   {
    "duration": 0,
    "start_time": "2022-12-13T11:23:26.613Z"
   },
   {
    "duration": 0,
    "start_time": "2022-12-13T11:23:26.614Z"
   },
   {
    "duration": 0,
    "start_time": "2022-12-13T11:23:26.615Z"
   },
   {
    "duration": 0,
    "start_time": "2022-12-13T11:23:26.616Z"
   },
   {
    "duration": 0,
    "start_time": "2022-12-13T11:23:26.617Z"
   },
   {
    "duration": 0,
    "start_time": "2022-12-13T11:23:26.619Z"
   },
   {
    "duration": 45,
    "start_time": "2022-12-13T11:24:05.511Z"
   },
   {
    "duration": 309,
    "start_time": "2022-12-13T11:24:12.101Z"
   },
   {
    "duration": 1207,
    "start_time": "2022-12-13T11:24:27.334Z"
   },
   {
    "duration": 62,
    "start_time": "2022-12-13T11:24:28.543Z"
   },
   {
    "duration": 12,
    "start_time": "2022-12-13T11:24:28.607Z"
   },
   {
    "duration": 72,
    "start_time": "2022-12-13T11:24:28.621Z"
   },
   {
    "duration": 15,
    "start_time": "2022-12-13T11:24:28.695Z"
   },
   {
    "duration": 6,
    "start_time": "2022-12-13T11:24:28.712Z"
   },
   {
    "duration": 566,
    "start_time": "2022-12-13T11:24:28.720Z"
   },
   {
    "duration": 26,
    "start_time": "2022-12-13T11:24:29.288Z"
   },
   {
    "duration": 456,
    "start_time": "2022-12-13T11:24:29.316Z"
   },
   {
    "duration": 422,
    "start_time": "2022-12-13T11:24:29.779Z"
   },
   {
    "duration": 19,
    "start_time": "2022-12-13T11:24:30.203Z"
   },
   {
    "duration": 384,
    "start_time": "2022-12-13T11:24:30.224Z"
   },
   {
    "duration": 59,
    "start_time": "2022-12-13T11:24:30.610Z"
   },
   {
    "duration": 376,
    "start_time": "2022-12-13T11:24:30.670Z"
   },
   {
    "duration": 318,
    "start_time": "2022-12-13T11:24:31.048Z"
   },
   {
    "duration": 257,
    "start_time": "2022-12-13T11:24:31.368Z"
   },
   {
    "duration": 5,
    "start_time": "2022-12-13T11:24:31.627Z"
   },
   {
    "duration": 405,
    "start_time": "2022-12-13T11:24:31.634Z"
   },
   {
    "duration": 1670,
    "start_time": "2022-12-13T11:24:32.042Z"
   },
   {
    "duration": 14,
    "start_time": "2022-12-13T11:24:33.714Z"
   },
   {
    "duration": 384,
    "start_time": "2022-12-13T11:24:33.730Z"
   },
   {
    "duration": 568,
    "start_time": "2022-12-13T11:24:34.117Z"
   },
   {
    "duration": 1923,
    "start_time": "2022-12-13T11:24:34.691Z"
   },
   {
    "duration": 12,
    "start_time": "2022-12-13T11:24:36.615Z"
   },
   {
    "duration": 6,
    "start_time": "2022-12-13T11:24:36.629Z"
   },
   {
    "duration": 9,
    "start_time": "2022-12-13T11:24:36.636Z"
   },
   {
    "duration": 43,
    "start_time": "2022-12-13T11:24:36.647Z"
   },
   {
    "duration": 3,
    "start_time": "2022-12-13T11:24:36.697Z"
   },
   {
    "duration": 11,
    "start_time": "2022-12-13T11:24:36.702Z"
   }
  ],
  "kernelspec": {
   "display_name": "Python 3 (ipykernel)",
   "language": "python",
   "name": "python3"
  },
  "language_info": {
   "codemirror_mode": {
    "name": "ipython",
    "version": 3
   },
   "file_extension": ".py",
   "mimetype": "text/x-python",
   "name": "python",
   "nbconvert_exporter": "python",
   "pygments_lexer": "ipython3",
   "version": "3.9.5"
  },
  "toc": {
   "base_numbering": 1,
   "nav_menu": {},
   "number_sections": true,
   "sideBar": true,
   "skip_h1_title": true,
   "title_cell": "Table of Contents",
   "title_sidebar": "Contents",
   "toc_cell": false,
   "toc_position": {},
   "toc_section_display": true,
   "toc_window_display": false
  }
 },
 "nbformat": 4,
 "nbformat_minor": 5
}
