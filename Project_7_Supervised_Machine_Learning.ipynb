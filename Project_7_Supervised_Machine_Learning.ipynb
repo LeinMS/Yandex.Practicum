{
 "cells": [
  {
   "cell_type": "markdown",
   "metadata": {
    "toc": true
   },
   "source": [
    "# Customer churn"
   ]
  },
  {
   "cell_type": "markdown",
   "metadata": {},
   "source": [
    "Customers began to leave \"Beta Bank\". Every month. A little, but noticeable. Bank marketers have calculated that it is cheaper to retain current customers than to attract new ones.\n",
    "\n",
    "It is necessary to predict whether the client will leave the bank in the near future or not. We are presented with historical data on the behavior of customers and the termination of contracts with the bank.\n",
    "\n",
    "It is necessary to build a model with an extremely large value of F1-measures. To pass the project successfully, we need to bring the metric to 0.59. Check the F1 measure on the test sample yourself.\n",
    "\n",
    "Additionally measure AUC-ROC, compare its value with F1-measure.\n",
    "\n",
    "Data source: https://www.kaggle.com/barelydedicated/bank-customer-churn-modeling"
   ]
  },
  {
   "cell_type": "markdown",
   "metadata": {},
   "source": [
    "**Features:**\n",
    "\n",
    "- `RowNumber` - row index in data;\n",
    "- `CustomerId` - unique customer identifier;\n",
    "- `Surname` - surname;\n",
    "- `CreditScore` - credit rating;\n",
    "- `Geography` - country of residence;\n",
    "- `gender` - gender;\n",
    "- `Age` - age;\n",
    "- `Tenure` - how many years a person has been a bank client;\n",
    "- `Balance` - account balance;\n",
    "- `NumOfProducts` - the number of bank products used by the client;\n",
    "- `HasCrCard` - the presence of a credit card;\n",
    "- `IsActiveMember` - client activity;\n",
    "- `EstimatedSalary` - estimated salary.\n",
    "\n",
    "**Target feature:**\n",
    "\n",
    "- `Exited` - the fact that the client left."
   ]
  },
  {
   "cell_type": "markdown",
   "metadata": {},
   "source": [
    "## Data preprocessing"
   ]
  },
  {
   "cell_type": "markdown",
   "metadata": {},
   "source": [
    "The sample includes clients where:\n",
    "- 79% - stayed with the bank;\n",
    "- 20.4% - left the bank.\n",
    "\n",
    "The data is rather unbalanced.\n",
    "    \n",
    "The bank's clients are residents of the following countries:\n",
    "- France 50%;\n",
    "- Germany 25%;\n",
    "- Spain 25%."
   ]
  },
  {
   "cell_type": "markdown",
   "metadata": {},
   "source": [
    "There is a clear imbalance of classes in favor of the negative class. If we predict all people that they will not leave the bank then in 80% of cases we will be right."
   ]
  },
  {
   "cell_type": "code",
   "execution_count": 1,
   "metadata": {},
   "outputs": [],
   "source": [
    "import pandas as pd\n",
    "from sklearn.model_selection import train_test_split\n",
    "from sklearn.linear_model import LogisticRegression\n",
    "from sklearn.ensemble import RandomForestRegressor\n",
    "from sklearn.tree import DecisionTreeClassifier\n",
    "from sklearn.ensemble import RandomForestClassifier\n",
    "import matplotlib.pyplot as plt\n",
    "import seaborn as sb\n",
    "import numpy as np\n",
    "from sklearn.utils import shuffle\n",
    "from sklearn.preprocessing import OrdinalEncoder\n",
    "from sklearn.metrics import f1_score\n",
    "import time\n",
    "from sklearn.metrics import recall_score\n",
    "from sklearn.metrics import precision_score\n",
    "from sklearn.metrics import roc_curve\n",
    "from sklearn.metrics import roc_auc_score"
   ]
  },
  {
   "cell_type": "code",
   "execution_count": 2,
   "metadata": {
    "scrolled": true
   },
   "outputs": [
    {
     "data": {
      "text/html": [
       "<div>\n",
       "<style scoped>\n",
       "    .dataframe tbody tr th:only-of-type {\n",
       "        vertical-align: middle;\n",
       "    }\n",
       "\n",
       "    .dataframe tbody tr th {\n",
       "        vertical-align: top;\n",
       "    }\n",
       "\n",
       "    .dataframe thead th {\n",
       "        text-align: right;\n",
       "    }\n",
       "</style>\n",
       "<table border=\"1\" class=\"dataframe\">\n",
       "  <thead>\n",
       "    <tr style=\"text-align: right;\">\n",
       "      <th></th>\n",
       "      <th>RowNumber</th>\n",
       "      <th>CustomerId</th>\n",
       "      <th>Surname</th>\n",
       "      <th>CreditScore</th>\n",
       "      <th>Geography</th>\n",
       "      <th>Gender</th>\n",
       "      <th>Age</th>\n",
       "      <th>Tenure</th>\n",
       "      <th>Balance</th>\n",
       "      <th>NumOfProducts</th>\n",
       "      <th>HasCrCard</th>\n",
       "      <th>IsActiveMember</th>\n",
       "      <th>EstimatedSalary</th>\n",
       "      <th>Exited</th>\n",
       "    </tr>\n",
       "  </thead>\n",
       "  <tbody>\n",
       "    <tr>\n",
       "      <th>0</th>\n",
       "      <td>1</td>\n",
       "      <td>15634602</td>\n",
       "      <td>Hargrave</td>\n",
       "      <td>619</td>\n",
       "      <td>France</td>\n",
       "      <td>Female</td>\n",
       "      <td>42</td>\n",
       "      <td>2.0</td>\n",
       "      <td>0.00</td>\n",
       "      <td>1</td>\n",
       "      <td>1</td>\n",
       "      <td>1</td>\n",
       "      <td>101348.88</td>\n",
       "      <td>1</td>\n",
       "    </tr>\n",
       "    <tr>\n",
       "      <th>1</th>\n",
       "      <td>2</td>\n",
       "      <td>15647311</td>\n",
       "      <td>Hill</td>\n",
       "      <td>608</td>\n",
       "      <td>Spain</td>\n",
       "      <td>Female</td>\n",
       "      <td>41</td>\n",
       "      <td>1.0</td>\n",
       "      <td>83807.86</td>\n",
       "      <td>1</td>\n",
       "      <td>0</td>\n",
       "      <td>1</td>\n",
       "      <td>112542.58</td>\n",
       "      <td>0</td>\n",
       "    </tr>\n",
       "    <tr>\n",
       "      <th>2</th>\n",
       "      <td>3</td>\n",
       "      <td>15619304</td>\n",
       "      <td>Onio</td>\n",
       "      <td>502</td>\n",
       "      <td>France</td>\n",
       "      <td>Female</td>\n",
       "      <td>42</td>\n",
       "      <td>8.0</td>\n",
       "      <td>159660.80</td>\n",
       "      <td>3</td>\n",
       "      <td>1</td>\n",
       "      <td>0</td>\n",
       "      <td>113931.57</td>\n",
       "      <td>1</td>\n",
       "    </tr>\n",
       "    <tr>\n",
       "      <th>3</th>\n",
       "      <td>4</td>\n",
       "      <td>15701354</td>\n",
       "      <td>Boni</td>\n",
       "      <td>699</td>\n",
       "      <td>France</td>\n",
       "      <td>Female</td>\n",
       "      <td>39</td>\n",
       "      <td>1.0</td>\n",
       "      <td>0.00</td>\n",
       "      <td>2</td>\n",
       "      <td>0</td>\n",
       "      <td>0</td>\n",
       "      <td>93826.63</td>\n",
       "      <td>0</td>\n",
       "    </tr>\n",
       "    <tr>\n",
       "      <th>4</th>\n",
       "      <td>5</td>\n",
       "      <td>15737888</td>\n",
       "      <td>Mitchell</td>\n",
       "      <td>850</td>\n",
       "      <td>Spain</td>\n",
       "      <td>Female</td>\n",
       "      <td>43</td>\n",
       "      <td>2.0</td>\n",
       "      <td>125510.82</td>\n",
       "      <td>1</td>\n",
       "      <td>1</td>\n",
       "      <td>1</td>\n",
       "      <td>79084.10</td>\n",
       "      <td>0</td>\n",
       "    </tr>\n",
       "    <tr>\n",
       "      <th>...</th>\n",
       "      <td>...</td>\n",
       "      <td>...</td>\n",
       "      <td>...</td>\n",
       "      <td>...</td>\n",
       "      <td>...</td>\n",
       "      <td>...</td>\n",
       "      <td>...</td>\n",
       "      <td>...</td>\n",
       "      <td>...</td>\n",
       "      <td>...</td>\n",
       "      <td>...</td>\n",
       "      <td>...</td>\n",
       "      <td>...</td>\n",
       "      <td>...</td>\n",
       "    </tr>\n",
       "    <tr>\n",
       "      <th>9995</th>\n",
       "      <td>9996</td>\n",
       "      <td>15606229</td>\n",
       "      <td>Obijiaku</td>\n",
       "      <td>771</td>\n",
       "      <td>France</td>\n",
       "      <td>Male</td>\n",
       "      <td>39</td>\n",
       "      <td>5.0</td>\n",
       "      <td>0.00</td>\n",
       "      <td>2</td>\n",
       "      <td>1</td>\n",
       "      <td>0</td>\n",
       "      <td>96270.64</td>\n",
       "      <td>0</td>\n",
       "    </tr>\n",
       "    <tr>\n",
       "      <th>9996</th>\n",
       "      <td>9997</td>\n",
       "      <td>15569892</td>\n",
       "      <td>Johnstone</td>\n",
       "      <td>516</td>\n",
       "      <td>France</td>\n",
       "      <td>Male</td>\n",
       "      <td>35</td>\n",
       "      <td>10.0</td>\n",
       "      <td>57369.61</td>\n",
       "      <td>1</td>\n",
       "      <td>1</td>\n",
       "      <td>1</td>\n",
       "      <td>101699.77</td>\n",
       "      <td>0</td>\n",
       "    </tr>\n",
       "    <tr>\n",
       "      <th>9997</th>\n",
       "      <td>9998</td>\n",
       "      <td>15584532</td>\n",
       "      <td>Liu</td>\n",
       "      <td>709</td>\n",
       "      <td>France</td>\n",
       "      <td>Female</td>\n",
       "      <td>36</td>\n",
       "      <td>7.0</td>\n",
       "      <td>0.00</td>\n",
       "      <td>1</td>\n",
       "      <td>0</td>\n",
       "      <td>1</td>\n",
       "      <td>42085.58</td>\n",
       "      <td>1</td>\n",
       "    </tr>\n",
       "    <tr>\n",
       "      <th>9998</th>\n",
       "      <td>9999</td>\n",
       "      <td>15682355</td>\n",
       "      <td>Sabbatini</td>\n",
       "      <td>772</td>\n",
       "      <td>Germany</td>\n",
       "      <td>Male</td>\n",
       "      <td>42</td>\n",
       "      <td>3.0</td>\n",
       "      <td>75075.31</td>\n",
       "      <td>2</td>\n",
       "      <td>1</td>\n",
       "      <td>0</td>\n",
       "      <td>92888.52</td>\n",
       "      <td>1</td>\n",
       "    </tr>\n",
       "    <tr>\n",
       "      <th>9999</th>\n",
       "      <td>10000</td>\n",
       "      <td>15628319</td>\n",
       "      <td>Walker</td>\n",
       "      <td>792</td>\n",
       "      <td>France</td>\n",
       "      <td>Female</td>\n",
       "      <td>28</td>\n",
       "      <td>NaN</td>\n",
       "      <td>130142.79</td>\n",
       "      <td>1</td>\n",
       "      <td>1</td>\n",
       "      <td>0</td>\n",
       "      <td>38190.78</td>\n",
       "      <td>0</td>\n",
       "    </tr>\n",
       "  </tbody>\n",
       "</table>\n",
       "<p>10000 rows × 14 columns</p>\n",
       "</div>"
      ],
      "text/plain": [
       "      RowNumber  CustomerId    Surname  CreditScore Geography  Gender  Age  \\\n",
       "0             1    15634602   Hargrave          619    France  Female   42   \n",
       "1             2    15647311       Hill          608     Spain  Female   41   \n",
       "2             3    15619304       Onio          502    France  Female   42   \n",
       "3             4    15701354       Boni          699    France  Female   39   \n",
       "4             5    15737888   Mitchell          850     Spain  Female   43   \n",
       "...         ...         ...        ...          ...       ...     ...  ...   \n",
       "9995       9996    15606229   Obijiaku          771    France    Male   39   \n",
       "9996       9997    15569892  Johnstone          516    France    Male   35   \n",
       "9997       9998    15584532        Liu          709    France  Female   36   \n",
       "9998       9999    15682355  Sabbatini          772   Germany    Male   42   \n",
       "9999      10000    15628319     Walker          792    France  Female   28   \n",
       "\n",
       "      Tenure    Balance  NumOfProducts  HasCrCard  IsActiveMember  \\\n",
       "0        2.0       0.00              1          1               1   \n",
       "1        1.0   83807.86              1          0               1   \n",
       "2        8.0  159660.80              3          1               0   \n",
       "3        1.0       0.00              2          0               0   \n",
       "4        2.0  125510.82              1          1               1   \n",
       "...      ...        ...            ...        ...             ...   \n",
       "9995     5.0       0.00              2          1               0   \n",
       "9996    10.0   57369.61              1          1               1   \n",
       "9997     7.0       0.00              1          0               1   \n",
       "9998     3.0   75075.31              2          1               0   \n",
       "9999     NaN  130142.79              1          1               0   \n",
       "\n",
       "      EstimatedSalary  Exited  \n",
       "0           101348.88       1  \n",
       "1           112542.58       0  \n",
       "2           113931.57       1  \n",
       "3            93826.63       0  \n",
       "4            79084.10       0  \n",
       "...               ...     ...  \n",
       "9995         96270.64       0  \n",
       "9996        101699.77       0  \n",
       "9997         42085.58       1  \n",
       "9998         92888.52       1  \n",
       "9999         38190.78       0  \n",
       "\n",
       "[10000 rows x 14 columns]"
      ]
     },
     "metadata": {},
     "output_type": "display_data"
    }
   ],
   "source": [
    "data = pd.read_csv('Churn.csv')\n",
    "display(data)"
   ]
  },
  {
   "cell_type": "code",
   "execution_count": 3,
   "metadata": {},
   "outputs": [
    {
     "data": {
      "text/html": [
       "<div>\n",
       "<style scoped>\n",
       "    .dataframe tbody tr th:only-of-type {\n",
       "        vertical-align: middle;\n",
       "    }\n",
       "\n",
       "    .dataframe tbody tr th {\n",
       "        vertical-align: top;\n",
       "    }\n",
       "\n",
       "    .dataframe thead th {\n",
       "        text-align: right;\n",
       "    }\n",
       "</style>\n",
       "<table border=\"1\" class=\"dataframe\">\n",
       "  <thead>\n",
       "    <tr style=\"text-align: right;\">\n",
       "      <th></th>\n",
       "      <th>RowNumber</th>\n",
       "      <th>CustomerId</th>\n",
       "      <th>CreditScore</th>\n",
       "      <th>Age</th>\n",
       "      <th>Tenure</th>\n",
       "      <th>Balance</th>\n",
       "      <th>NumOfProducts</th>\n",
       "      <th>HasCrCard</th>\n",
       "      <th>IsActiveMember</th>\n",
       "      <th>EstimatedSalary</th>\n",
       "      <th>Exited</th>\n",
       "    </tr>\n",
       "  </thead>\n",
       "  <tbody>\n",
       "    <tr>\n",
       "      <th>count</th>\n",
       "      <td>10000.00000</td>\n",
       "      <td>1.000000e+04</td>\n",
       "      <td>10000.000000</td>\n",
       "      <td>10000.000000</td>\n",
       "      <td>9091.000000</td>\n",
       "      <td>10000.000000</td>\n",
       "      <td>10000.000000</td>\n",
       "      <td>10000.00000</td>\n",
       "      <td>10000.000000</td>\n",
       "      <td>10000.000000</td>\n",
       "      <td>10000.000000</td>\n",
       "    </tr>\n",
       "    <tr>\n",
       "      <th>mean</th>\n",
       "      <td>5000.50000</td>\n",
       "      <td>1.569094e+07</td>\n",
       "      <td>650.528800</td>\n",
       "      <td>38.921800</td>\n",
       "      <td>4.997690</td>\n",
       "      <td>76485.889288</td>\n",
       "      <td>1.530200</td>\n",
       "      <td>0.70550</td>\n",
       "      <td>0.515100</td>\n",
       "      <td>100090.239881</td>\n",
       "      <td>0.203700</td>\n",
       "    </tr>\n",
       "    <tr>\n",
       "      <th>std</th>\n",
       "      <td>2886.89568</td>\n",
       "      <td>7.193619e+04</td>\n",
       "      <td>96.653299</td>\n",
       "      <td>10.487806</td>\n",
       "      <td>2.894723</td>\n",
       "      <td>62397.405202</td>\n",
       "      <td>0.581654</td>\n",
       "      <td>0.45584</td>\n",
       "      <td>0.499797</td>\n",
       "      <td>57510.492818</td>\n",
       "      <td>0.402769</td>\n",
       "    </tr>\n",
       "    <tr>\n",
       "      <th>min</th>\n",
       "      <td>1.00000</td>\n",
       "      <td>1.556570e+07</td>\n",
       "      <td>350.000000</td>\n",
       "      <td>18.000000</td>\n",
       "      <td>0.000000</td>\n",
       "      <td>0.000000</td>\n",
       "      <td>1.000000</td>\n",
       "      <td>0.00000</td>\n",
       "      <td>0.000000</td>\n",
       "      <td>11.580000</td>\n",
       "      <td>0.000000</td>\n",
       "    </tr>\n",
       "    <tr>\n",
       "      <th>25%</th>\n",
       "      <td>2500.75000</td>\n",
       "      <td>1.562853e+07</td>\n",
       "      <td>584.000000</td>\n",
       "      <td>32.000000</td>\n",
       "      <td>2.000000</td>\n",
       "      <td>0.000000</td>\n",
       "      <td>1.000000</td>\n",
       "      <td>0.00000</td>\n",
       "      <td>0.000000</td>\n",
       "      <td>51002.110000</td>\n",
       "      <td>0.000000</td>\n",
       "    </tr>\n",
       "    <tr>\n",
       "      <th>50%</th>\n",
       "      <td>5000.50000</td>\n",
       "      <td>1.569074e+07</td>\n",
       "      <td>652.000000</td>\n",
       "      <td>37.000000</td>\n",
       "      <td>5.000000</td>\n",
       "      <td>97198.540000</td>\n",
       "      <td>1.000000</td>\n",
       "      <td>1.00000</td>\n",
       "      <td>1.000000</td>\n",
       "      <td>100193.915000</td>\n",
       "      <td>0.000000</td>\n",
       "    </tr>\n",
       "    <tr>\n",
       "      <th>75%</th>\n",
       "      <td>7500.25000</td>\n",
       "      <td>1.575323e+07</td>\n",
       "      <td>718.000000</td>\n",
       "      <td>44.000000</td>\n",
       "      <td>7.000000</td>\n",
       "      <td>127644.240000</td>\n",
       "      <td>2.000000</td>\n",
       "      <td>1.00000</td>\n",
       "      <td>1.000000</td>\n",
       "      <td>149388.247500</td>\n",
       "      <td>0.000000</td>\n",
       "    </tr>\n",
       "    <tr>\n",
       "      <th>max</th>\n",
       "      <td>10000.00000</td>\n",
       "      <td>1.581569e+07</td>\n",
       "      <td>850.000000</td>\n",
       "      <td>92.000000</td>\n",
       "      <td>10.000000</td>\n",
       "      <td>250898.090000</td>\n",
       "      <td>4.000000</td>\n",
       "      <td>1.00000</td>\n",
       "      <td>1.000000</td>\n",
       "      <td>199992.480000</td>\n",
       "      <td>1.000000</td>\n",
       "    </tr>\n",
       "  </tbody>\n",
       "</table>\n",
       "</div>"
      ],
      "text/plain": [
       "         RowNumber    CustomerId   CreditScore           Age       Tenure  \\\n",
       "count  10000.00000  1.000000e+04  10000.000000  10000.000000  9091.000000   \n",
       "mean    5000.50000  1.569094e+07    650.528800     38.921800     4.997690   \n",
       "std     2886.89568  7.193619e+04     96.653299     10.487806     2.894723   \n",
       "min        1.00000  1.556570e+07    350.000000     18.000000     0.000000   \n",
       "25%     2500.75000  1.562853e+07    584.000000     32.000000     2.000000   \n",
       "50%     5000.50000  1.569074e+07    652.000000     37.000000     5.000000   \n",
       "75%     7500.25000  1.575323e+07    718.000000     44.000000     7.000000   \n",
       "max    10000.00000  1.581569e+07    850.000000     92.000000    10.000000   \n",
       "\n",
       "             Balance  NumOfProducts    HasCrCard  IsActiveMember  \\\n",
       "count   10000.000000   10000.000000  10000.00000    10000.000000   \n",
       "mean    76485.889288       1.530200      0.70550        0.515100   \n",
       "std     62397.405202       0.581654      0.45584        0.499797   \n",
       "min         0.000000       1.000000      0.00000        0.000000   \n",
       "25%         0.000000       1.000000      0.00000        0.000000   \n",
       "50%     97198.540000       1.000000      1.00000        1.000000   \n",
       "75%    127644.240000       2.000000      1.00000        1.000000   \n",
       "max    250898.090000       4.000000      1.00000        1.000000   \n",
       "\n",
       "       EstimatedSalary        Exited  \n",
       "count     10000.000000  10000.000000  \n",
       "mean     100090.239881      0.203700  \n",
       "std       57510.492818      0.402769  \n",
       "min          11.580000      0.000000  \n",
       "25%       51002.110000      0.000000  \n",
       "50%      100193.915000      0.000000  \n",
       "75%      149388.247500      0.000000  \n",
       "max      199992.480000      1.000000  "
      ]
     },
     "execution_count": 3,
     "metadata": {},
     "output_type": "execute_result"
    }
   ],
   "source": [
    "data.describe()"
   ]
  },
  {
   "cell_type": "code",
   "execution_count": 4,
   "metadata": {},
   "outputs": [
    {
     "data": {
      "text/plain": [
       "0"
      ]
     },
     "execution_count": 4,
     "metadata": {},
     "output_type": "execute_result"
    }
   ],
   "source": [
    "# no duplicates found\n",
    "data.duplicated().sum()"
   ]
  },
  {
   "cell_type": "markdown",
   "metadata": {},
   "source": [
    "There are missings in the data in the `\"Tenure\"` column. This is too individual a parameter to fill in the missings with some value.\n",
    "It is necessary to check its dependence on customer care in order to decide what to do with it."
   ]
  },
  {
   "cell_type": "code",
   "execution_count": 5,
   "metadata": {},
   "outputs": [
    {
     "name": "stdout",
     "output_type": "stream",
     "text": [
      "<class 'pandas.core.frame.DataFrame'>\n",
      "RangeIndex: 10000 entries, 0 to 9999\n",
      "Data columns (total 14 columns):\n",
      " #   Column           Non-Null Count  Dtype  \n",
      "---  ------           --------------  -----  \n",
      " 0   RowNumber        10000 non-null  int64  \n",
      " 1   CustomerId       10000 non-null  int64  \n",
      " 2   Surname          10000 non-null  object \n",
      " 3   CreditScore      10000 non-null  int64  \n",
      " 4   Geography        10000 non-null  object \n",
      " 5   Gender           10000 non-null  object \n",
      " 6   Age              10000 non-null  int64  \n",
      " 7   Tenure           9091 non-null   float64\n",
      " 8   Balance          10000 non-null  float64\n",
      " 9   NumOfProducts    10000 non-null  int64  \n",
      " 10  HasCrCard        10000 non-null  int64  \n",
      " 11  IsActiveMember   10000 non-null  int64  \n",
      " 12  EstimatedSalary  10000 non-null  float64\n",
      " 13  Exited           10000 non-null  int64  \n",
      "dtypes: float64(3), int64(8), object(3)\n",
      "memory usage: 1.1+ MB\n"
     ]
    }
   ],
   "source": [
    "data.info()"
   ]
  },
  {
   "cell_type": "code",
   "execution_count": 6,
   "metadata": {},
   "outputs": [
    {
     "data": {
      "text/plain": [
       "Text(0.5, 1.0, 'Distribution of clients by country')"
      ]
     },
     "execution_count": 6,
     "metadata": {},
     "output_type": "execute_result"
    },
    {
     "data": {
      "image/png": "[encoded data removed]",
      "text/plain": [
       "<Figure size 720x720 with 1 Axes>"
      ]
     },
     "metadata": {},
     "output_type": "display_data"
    }
   ],
   "source": [
    "data['Geography'].value_counts().plot(kind='pie', autopct='%1.1f%%' , figsize=(10,10))\n",
    "plt.legend(['France', 'Spain','Germany'], fontsize=15)\n",
    "plt.title('Distribution of clients by country')"
   ]
  },
  {
   "cell_type": "code",
   "execution_count": 7,
   "metadata": {},
   "outputs": [
    {
     "data": {
      "text/plain": [
       "Text(0.5, 1.0, 'Clients')"
      ]
     },
     "execution_count": 7,
     "metadata": {},
     "output_type": "execute_result"
    },
    {
     "data": {
      "image/png": "[encoded data removed]",
      "text/plain": [
       "<Figure size 720x720 with 1 Axes>"
      ]
     },
     "metadata": {},
     "output_type": "display_data"
    }
   ],
   "source": [
    "data['Exited'].value_counts().plot(kind='pie', autopct='%1.1f%%' , figsize=(10,10))\n",
    "plt.legend(['Stayed', 'Gone'], fontsize=15)\n",
    "plt.title('Clients')\n"
   ]
  },
  {
   "cell_type": "markdown",
   "metadata": {},
   "source": [
    "## Task research"
   ]
  },
  {
   "cell_type": "markdown",
   "metadata": {},
   "source": [
    "Leaving clients:\n",
    "\n",
    "- low credit rating;\n",
    "- less active;\n",
    "- women;\n",
    "- older people\n",
    "- less balance;\n",
    "- citizens of Germany;\n",
    "- with a lower salary."
   ]
  },
  {
   "cell_type": "markdown",
   "metadata": {},
   "source": [
    "**How many customers LEFT and how many REMAIN depending on the country ?**\n",
    "\n",
    "It can be seen that most of the customers left France.  Also France and Spain approximately the same percentage of those who left - 16%. But in Germany twice as many people left as a percentage."
   ]
  },
  {
   "cell_type": "code",
   "execution_count": 8,
   "metadata": {},
   "outputs": [
    {
     "data": {
      "text/html": [
       "<div>\n",
       "<style scoped>\n",
       "    .dataframe tbody tr th:only-of-type {\n",
       "        vertical-align: middle;\n",
       "    }\n",
       "\n",
       "    .dataframe tbody tr th {\n",
       "        vertical-align: top;\n",
       "    }\n",
       "\n",
       "    .dataframe thead th {\n",
       "        text-align: right;\n",
       "    }\n",
       "</style>\n",
       "<table border=\"1\" class=\"dataframe\">\n",
       "  <thead>\n",
       "    <tr style=\"text-align: right;\">\n",
       "      <th></th>\n",
       "      <th>stay_in</th>\n",
       "      <th>outflow</th>\n",
       "      <th>fraction_outlay</th>\n",
       "    </tr>\n",
       "    <tr>\n",
       "      <th>Geography</th>\n",
       "      <th></th>\n",
       "      <th></th>\n",
       "      <th></th>\n",
       "    </tr>\n",
       "  </thead>\n",
       "  <tbody>\n",
       "    <tr>\n",
       "      <th>France</th>\n",
       "      <td>4204</td>\n",
       "      <td>810</td>\n",
       "      <td>0.161548</td>\n",
       "    </tr>\n",
       "    <tr>\n",
       "      <th>Germany</th>\n",
       "      <td>1695</td>\n",
       "      <td>814</td>\n",
       "      <td>0.324432</td>\n",
       "    </tr>\n",
       "    <tr>\n",
       "      <th>Spain</th>\n",
       "      <td>2064</td>\n",
       "      <td>413</td>\n",
       "      <td>0.166734</td>\n",
       "    </tr>\n",
       "  </tbody>\n",
       "</table>\n",
       "</div>"
      ],
      "text/plain": [
       "           stay_in  outflow  fraction_outlay\n",
       "Geography                                   \n",
       "France        4204      810         0.161548\n",
       "Germany       1695      814         0.324432\n",
       "Spain         2064      413         0.166734"
      ]
     },
     "metadata": {},
     "output_type": "display_data"
    }
   ],
   "source": [
    "data[['Geography','Exited']]\n",
    "geography_outflow = data.pivot_table(index='Geography',values='Exited',columns=data['Exited'].values,aggfunc='count')\n",
    "geography_outflow.columns = ['stay_in','outflow']\n",
    "geography_outflow['fraction_outlay'] = geography_outflow['outflow'] / (geography_outflow['outflow'] + geography_outflow['stay_in'])\n",
    "display(geography_outflow)"
   ]
  },
  {
   "cell_type": "code",
   "execution_count": 9,
   "metadata": {},
   "outputs": [
    {
     "data": {
      "image/png": "[encoded data removed]",
      "text/plain": [
       "<Figure size 720x720 with 1 Axes>"
      ]
     },
     "metadata": {
      "needs_background": "light"
     },
     "output_type": "display_data"
    },
    {
     "data": {
      "image/png": "[encoded data removed]",
      "text/plain": [
       "<Figure size 720x720 with 1 Axes>"
      ]
     },
     "metadata": {
      "needs_background": "light"
     },
     "output_type": "display_data"
    },
    {
     "data": {
      "image/png": "[encoded data removed]",
      "text/plain": [
       "<Figure size 720x720 with 1 Axes>"
      ]
     },
     "metadata": {
      "needs_background": "light"
     },
     "output_type": "display_data"
    }
   ],
   "source": [
    "for i in geography_outflow.columns:\n",
    "    geography_outflow[i].plot(kind='bar',color=['b','g','r'], figsize=(10,10))\n",
    "    plt.title(i)\n",
    "    plt.show()"
   ]
  },
  {
   "cell_type": "markdown",
   "metadata": {},
   "source": [
    "**Percentage of \"churn\" in dependence on gender:**\n",
    "\n",
    "More women leave than men."
   ]
  },
  {
   "cell_type": "code",
   "execution_count": 10,
   "metadata": {},
   "outputs": [
    {
     "data": {
      "text/html": [
       "<div>\n",
       "<style scoped>\n",
       "    .dataframe tbody tr th:only-of-type {\n",
       "        vertical-align: middle;\n",
       "    }\n",
       "\n",
       "    .dataframe tbody tr th {\n",
       "        vertical-align: top;\n",
       "    }\n",
       "\n",
       "    .dataframe thead th {\n",
       "        text-align: right;\n",
       "    }\n",
       "</style>\n",
       "<table border=\"1\" class=\"dataframe\">\n",
       "  <thead>\n",
       "    <tr style=\"text-align: right;\">\n",
       "      <th></th>\n",
       "      <th>stay_in</th>\n",
       "      <th>outflow</th>\n",
       "      <th>fraction_outlay</th>\n",
       "    </tr>\n",
       "    <tr>\n",
       "      <th>Gender</th>\n",
       "      <th></th>\n",
       "      <th></th>\n",
       "      <th></th>\n",
       "    </tr>\n",
       "  </thead>\n",
       "  <tbody>\n",
       "    <tr>\n",
       "      <th>Female</th>\n",
       "      <td>3404</td>\n",
       "      <td>1139</td>\n",
       "      <td>0.250715</td>\n",
       "    </tr>\n",
       "    <tr>\n",
       "      <th>Male</th>\n",
       "      <td>4559</td>\n",
       "      <td>898</td>\n",
       "      <td>0.164559</td>\n",
       "    </tr>\n",
       "  </tbody>\n",
       "</table>\n",
       "</div>"
      ],
      "text/plain": [
       "        stay_in  outflow  fraction_outlay\n",
       "Gender                                   \n",
       "Female     3404     1139         0.250715\n",
       "Male       4559      898         0.164559"
      ]
     },
     "metadata": {},
     "output_type": "display_data"
    }
   ],
   "source": [
    "data[['Gender','Exited']]\n",
    "gender_outflow = data.pivot_table(index='Gender',values='Exited',columns=data['Exited'].values,aggfunc='count')\n",
    "gender_outflow.columns = ['stay_in','outflow']\n",
    "gender_outflow['fraction_outlay'] = gender_outflow['outflow'] / (gender_outflow['outflow'] + gender_outflow['stay_in'])\n",
    "display(gender_outflow)"
   ]
  },
  {
   "cell_type": "markdown",
   "metadata": {},
   "source": [
    "**Ratio of \"churn\" of clients depending on age:**\n",
    "\n",
    "It can be seen that most people who leave the bank do so at the age of 45. And most of those who remain are 35 years old."
   ]
  },
  {
   "cell_type": "code",
   "execution_count": 11,
   "metadata": {},
   "outputs": [
    {
     "data": {
      "text/plain": [
       "Text(0, 0.5, 'Number of clients')"
      ]
     },
     "execution_count": 11,
     "metadata": {},
     "output_type": "execute_result"
    },
    {
     "data": {
      "image/png": "[encoded data removed]",
      "text/plain": [
       "<Figure size 1080x720 with 1 Axes>"
      ]
     },
     "metadata": {
      "needs_background": "light"
     },
     "output_type": "display_data"
    }
   ],
   "source": [
    "fig, ax = plt.subplots(figsize=(15,10))\n",
    "sb.histplot(data=data, x='Age', hue='Exited', kde=True, bins=100, ax=ax)\n",
    "plt.title('Age of clients')\n",
    "plt.xlabel('Age')\n",
    "plt.ylabel('Number of clients')"
   ]
  },
  {
   "cell_type": "markdown",
   "metadata": {},
   "source": [
    "**Customer \"churn\" ratio depending on the number of products used:**\n",
    "\n",
    "According to the data it can be concluded that those people who use TWO applications in contrast to those who use 1,3,4 applications remain the bank's customers."
   ]
  },
  {
   "cell_type": "code",
   "execution_count": 12,
   "metadata": {},
   "outputs": [
    {
     "data": {
      "text/html": [
       "<div>\n",
       "<style scoped>\n",
       "    .dataframe tbody tr th:only-of-type {\n",
       "        vertical-align: middle;\n",
       "    }\n",
       "\n",
       "    .dataframe tbody tr th {\n",
       "        vertical-align: top;\n",
       "    }\n",
       "\n",
       "    .dataframe thead th {\n",
       "        text-align: right;\n",
       "    }\n",
       "</style>\n",
       "<table border=\"1\" class=\"dataframe\">\n",
       "  <thead>\n",
       "    <tr style=\"text-align: right;\">\n",
       "      <th></th>\n",
       "      <th>stay_in</th>\n",
       "      <th>outflow</th>\n",
       "      <th>fraction_outlay</th>\n",
       "    </tr>\n",
       "    <tr>\n",
       "      <th>NumOfProducts</th>\n",
       "      <th></th>\n",
       "      <th></th>\n",
       "      <th></th>\n",
       "    </tr>\n",
       "  </thead>\n",
       "  <tbody>\n",
       "    <tr>\n",
       "      <th>1</th>\n",
       "      <td>3675.0</td>\n",
       "      <td>1409.0</td>\n",
       "      <td>0.277144</td>\n",
       "    </tr>\n",
       "    <tr>\n",
       "      <th>2</th>\n",
       "      <td>4242.0</td>\n",
       "      <td>348.0</td>\n",
       "      <td>0.075817</td>\n",
       "    </tr>\n",
       "    <tr>\n",
       "      <th>3</th>\n",
       "      <td>46.0</td>\n",
       "      <td>220.0</td>\n",
       "      <td>0.827068</td>\n",
       "    </tr>\n",
       "    <tr>\n",
       "      <th>4</th>\n",
       "      <td>NaN</td>\n",
       "      <td>60.0</td>\n",
       "      <td>NaN</td>\n",
       "    </tr>\n",
       "  </tbody>\n",
       "</table>\n",
       "</div>"
      ],
      "text/plain": [
       "               stay_in  outflow  fraction_outlay\n",
       "NumOfProducts                                   \n",
       "1               3675.0   1409.0         0.277144\n",
       "2               4242.0    348.0         0.075817\n",
       "3                 46.0    220.0         0.827068\n",
       "4                  NaN     60.0              NaN"
      ]
     },
     "metadata": {},
     "output_type": "display_data"
    }
   ],
   "source": [
    "data[['NumOfProducts','Exited']]\n",
    "NumOfProducts_outflow = data.pivot_table(index='NumOfProducts',values='Exited',columns=data['Exited'].values,aggfunc='count')\n",
    "NumOfProducts_outflow.columns = ['stay_in','outflow']\n",
    "NumOfProducts_outflow['fraction_outlay'] = NumOfProducts_outflow['outflow'] / (NumOfProducts_outflow['outflow'] + NumOfProducts_outflow['stay_in'])\n",
    "display(NumOfProducts_outflow)"
   ]
  },
  {
   "cell_type": "markdown",
   "metadata": {},
   "source": [
    "**Customer churn ratio depending on their salary:**\n",
    "\n",
    "Clients who leave earn less than those who stay. The difference is 4 times. Perhaps this is due to the fact that customers who earn little are looking for more favorable conditions."
   ]
  },
  {
   "cell_type": "code",
   "execution_count": 13,
   "metadata": {},
   "outputs": [
    {
     "data": {
      "text/plain": [
       "Text(0, 0.5, 'Number of clients')"
      ]
     },
     "execution_count": 13,
     "metadata": {},
     "output_type": "execute_result"
    },
    {
     "data": {
      "image/png": "[encoded data removed]",
      "text/plain": [
       "<Figure size 1080x720 with 1 Axes>"
      ]
     },
     "metadata": {
      "needs_background": "light"
     },
     "output_type": "display_data"
    }
   ],
   "source": [
    "fig, ax = plt.subplots(figsize=(15,10))\n",
    "sb.histplot(data=data, x='EstimatedSalary',hue='Exited',bins=40, ax=ax)\n",
    "plt.title('Distribution of clients by salary')\n",
    "plt.xlabel('Client salary')\n",
    "plt.ylabel('Number of clients')"
   ]
  },
  {
   "cell_type": "markdown",
   "metadata": {},
   "source": [
    "Those who leave have a lower credit rating than those who stay with the bank."
   ]
  },
  {
   "cell_type": "code",
   "execution_count": 14,
   "metadata": {},
   "outputs": [
    {
     "data": {
      "text/plain": [
       "Text(0, 0.5, 'Number of clients')"
      ]
     },
     "execution_count": 14,
     "metadata": {},
     "output_type": "execute_result"
    },
    {
     "data": {
      "image/png": "[encoded data removed]",
      "text/plain": [
       "<Figure size 1080x720 with 1 Axes>"
      ]
     },
     "metadata": {
      "needs_background": "light"
     },
     "output_type": "display_data"
    }
   ],
   "source": [
    "fig, ax = plt.subplots(figsize=(15,10))\n",
    "\n",
    "sb.histplot(data=data, x='CreditScore', hue='Exited', bins=100, ax=ax)\n",
    "plt.title('Dependence of customer churn on Credit rating')\n",
    "plt.xlabel('Credit rating')\n",
    "plt.ylabel('Number of clients')"
   ]
  },
  {
   "cell_type": "markdown",
   "metadata": {},
   "source": [
    "**Dependence of Customer churn on the number of years that a person has been a client of the bank:**\n",
    "\n",
    "The churn rate is almost the same. This feature can be removed. No relationship."
   ]
  },
  {
   "cell_type": "code",
   "execution_count": 15,
   "metadata": {},
   "outputs": [
    {
     "data": {
      "text/html": [
       "<div>\n",
       "<style scoped>\n",
       "    .dataframe tbody tr th:only-of-type {\n",
       "        vertical-align: middle;\n",
       "    }\n",
       "\n",
       "    .dataframe tbody tr th {\n",
       "        vertical-align: top;\n",
       "    }\n",
       "\n",
       "    .dataframe thead th {\n",
       "        text-align: right;\n",
       "    }\n",
       "</style>\n",
       "<table border=\"1\" class=\"dataframe\">\n",
       "  <thead>\n",
       "    <tr style=\"text-align: right;\">\n",
       "      <th></th>\n",
       "      <th>stay_in</th>\n",
       "      <th>outflow</th>\n",
       "      <th>fraction_outlay</th>\n",
       "    </tr>\n",
       "    <tr>\n",
       "      <th>Tenure</th>\n",
       "      <th></th>\n",
       "      <th></th>\n",
       "      <th></th>\n",
       "    </tr>\n",
       "  </thead>\n",
       "  <tbody>\n",
       "    <tr>\n",
       "      <th>0.0</th>\n",
       "      <td>292</td>\n",
       "      <td>90</td>\n",
       "      <td>0.235602</td>\n",
       "    </tr>\n",
       "    <tr>\n",
       "      <th>1.0</th>\n",
       "      <td>739</td>\n",
       "      <td>213</td>\n",
       "      <td>0.223739</td>\n",
       "    </tr>\n",
       "    <tr>\n",
       "      <th>2.0</th>\n",
       "      <td>765</td>\n",
       "      <td>185</td>\n",
       "      <td>0.194737</td>\n",
       "    </tr>\n",
       "    <tr>\n",
       "      <th>3.0</th>\n",
       "      <td>730</td>\n",
       "      <td>198</td>\n",
       "      <td>0.213362</td>\n",
       "    </tr>\n",
       "    <tr>\n",
       "      <th>4.0</th>\n",
       "      <td>701</td>\n",
       "      <td>184</td>\n",
       "      <td>0.207910</td>\n",
       "    </tr>\n",
       "    <tr>\n",
       "      <th>5.0</th>\n",
       "      <td>740</td>\n",
       "      <td>187</td>\n",
       "      <td>0.201726</td>\n",
       "    </tr>\n",
       "    <tr>\n",
       "      <th>6.0</th>\n",
       "      <td>704</td>\n",
       "      <td>177</td>\n",
       "      <td>0.200908</td>\n",
       "    </tr>\n",
       "    <tr>\n",
       "      <th>7.0</th>\n",
       "      <td>765</td>\n",
       "      <td>160</td>\n",
       "      <td>0.172973</td>\n",
       "    </tr>\n",
       "    <tr>\n",
       "      <th>8.0</th>\n",
       "      <td>759</td>\n",
       "      <td>174</td>\n",
       "      <td>0.186495</td>\n",
       "    </tr>\n",
       "    <tr>\n",
       "      <th>9.0</th>\n",
       "      <td>688</td>\n",
       "      <td>194</td>\n",
       "      <td>0.219955</td>\n",
       "    </tr>\n",
       "    <tr>\n",
       "      <th>10.0</th>\n",
       "      <td>354</td>\n",
       "      <td>92</td>\n",
       "      <td>0.206278</td>\n",
       "    </tr>\n",
       "  </tbody>\n",
       "</table>\n",
       "</div>"
      ],
      "text/plain": [
       "        stay_in  outflow  fraction_outlay\n",
       "Tenure                                   \n",
       "0.0         292       90         0.235602\n",
       "1.0         739      213         0.223739\n",
       "2.0         765      185         0.194737\n",
       "3.0         730      198         0.213362\n",
       "4.0         701      184         0.207910\n",
       "5.0         740      187         0.201726\n",
       "6.0         704      177         0.200908\n",
       "7.0         765      160         0.172973\n",
       "8.0         759      174         0.186495\n",
       "9.0         688      194         0.219955\n",
       "10.0        354       92         0.206278"
      ]
     },
     "metadata": {},
     "output_type": "display_data"
    }
   ],
   "source": [
    "data[['Tenure','Exited']]\n",
    "\n",
    "Tenure_outflow = data.pivot_table(index='Tenure',values='Exited',\\\n",
    "                                  columns=data['Exited'].values,aggfunc='count')\n",
    "\n",
    "Tenure_outflow.columns = ['stay_in','outflow']\n",
    "\n",
    "Tenure_outflow['fraction_outlay'] =\\\n",
    "                Tenure_outflow['outflow'] / (Tenure_outflow['outflow'] + Tenure_outflow['stay_in'])\n",
    "\n",
    "display(Tenure_outflow)"
   ]
  },
  {
   "cell_type": "markdown",
   "metadata": {},
   "source": [
    "**Dependence of  Customer churn on the cash account in the bank:**\n",
    "\n",
    "Leaving people with less cash account."
   ]
  },
  {
   "cell_type": "code",
   "execution_count": 16,
   "metadata": {},
   "outputs": [
    {
     "data": {
      "text/plain": [
       "Text(0, 0.5, 'Number of people')"
      ]
     },
     "execution_count": 16,
     "metadata": {},
     "output_type": "execute_result"
    },
    {
     "data": {
      "image/png": "[encoded data removed]",
      "text/plain": [
       "<Figure size 1080x720 with 1 Axes>"
      ]
     },
     "metadata": {
      "needs_background": "light"
     },
     "output_type": "display_data"
    }
   ],
   "source": [
    "fig, ax = plt.subplots(figsize=(15,10))\n",
    "sb.histplot(data=data, x='Balance',hue='Exited',bins=100, ax=ax)\n",
    "plt.title('Customer churn vs cash account')\n",
    "plt.xlabel('cash account')\n",
    "plt.ylabel('Number of people')"
   ]
  },
  {
   "cell_type": "markdown",
   "metadata": {},
   "source": [
    "The ratio shows that less active customers are leaving - 6%."
   ]
  },
  {
   "cell_type": "code",
   "execution_count": 17,
   "metadata": {},
   "outputs": [
    {
     "data": {
      "text/html": [
       "<div>\n",
       "<style scoped>\n",
       "    .dataframe tbody tr th:only-of-type {\n",
       "        vertical-align: middle;\n",
       "    }\n",
       "\n",
       "    .dataframe tbody tr th {\n",
       "        vertical-align: top;\n",
       "    }\n",
       "\n",
       "    .dataframe thead th {\n",
       "        text-align: right;\n",
       "    }\n",
       "</style>\n",
       "<table border=\"1\" class=\"dataframe\">\n",
       "  <thead>\n",
       "    <tr style=\"text-align: right;\">\n",
       "      <th></th>\n",
       "      <th>stay_in</th>\n",
       "      <th>outflow</th>\n",
       "      <th>fraction_outlay</th>\n",
       "    </tr>\n",
       "    <tr>\n",
       "      <th>IsActiveMember</th>\n",
       "      <th></th>\n",
       "      <th></th>\n",
       "      <th></th>\n",
       "    </tr>\n",
       "  </thead>\n",
       "  <tbody>\n",
       "    <tr>\n",
       "      <th>0</th>\n",
       "      <td>3547</td>\n",
       "      <td>1302</td>\n",
       "      <td>0.268509</td>\n",
       "    </tr>\n",
       "    <tr>\n",
       "      <th>1</th>\n",
       "      <td>4416</td>\n",
       "      <td>735</td>\n",
       "      <td>0.142691</td>\n",
       "    </tr>\n",
       "  </tbody>\n",
       "</table>\n",
       "</div>"
      ],
      "text/plain": [
       "                stay_in  outflow  fraction_outlay\n",
       "IsActiveMember                                   \n",
       "0                  3547     1302         0.268509\n",
       "1                  4416      735         0.142691"
      ]
     },
     "metadata": {},
     "output_type": "display_data"
    }
   ],
   "source": [
    "data[['IsActiveMember','Exited']]\n",
    "\n",
    "IsActiveMember_outflow = data.pivot_table(index='IsActiveMember',\\\n",
    "                                values='Exited',columns=data['Exited'].values,aggfunc='count')\n",
    "\n",
    "IsActiveMember_outflow.columns = ['stay_in','outflow']\n",
    "\n",
    "IsActiveMember_outflow['fraction_outlay'] =\\\n",
    "                            IsActiveMember_outflow['outflow'] / (IsActiveMember_outflow['outflow'] +\\\n",
    "                            IsActiveMember_outflow['stay_in'])\n",
    "\n",
    "display(IsActiveMember_outflow)"
   ]
  },
  {
   "cell_type": "markdown",
   "metadata": {},
   "source": [
    "The ratio shows that there is no special relationship between outgoing and the presence of a credit card. The FEATURE may not be used."
   ]
  },
  {
   "cell_type": "code",
   "execution_count": 18,
   "metadata": {},
   "outputs": [
    {
     "data": {
      "text/html": [
       "<div>\n",
       "<style scoped>\n",
       "    .dataframe tbody tr th:only-of-type {\n",
       "        vertical-align: middle;\n",
       "    }\n",
       "\n",
       "    .dataframe tbody tr th {\n",
       "        vertical-align: top;\n",
       "    }\n",
       "\n",
       "    .dataframe thead th {\n",
       "        text-align: right;\n",
       "    }\n",
       "</style>\n",
       "<table border=\"1\" class=\"dataframe\">\n",
       "  <thead>\n",
       "    <tr style=\"text-align: right;\">\n",
       "      <th></th>\n",
       "      <th>stay_in</th>\n",
       "      <th>outflow</th>\n",
       "      <th>fraction_outlay</th>\n",
       "    </tr>\n",
       "    <tr>\n",
       "      <th>HasCrCard</th>\n",
       "      <th></th>\n",
       "      <th></th>\n",
       "      <th></th>\n",
       "    </tr>\n",
       "  </thead>\n",
       "  <tbody>\n",
       "    <tr>\n",
       "      <th>0</th>\n",
       "      <td>2332</td>\n",
       "      <td>613</td>\n",
       "      <td>0.208149</td>\n",
       "    </tr>\n",
       "    <tr>\n",
       "      <th>1</th>\n",
       "      <td>5631</td>\n",
       "      <td>1424</td>\n",
       "      <td>0.201843</td>\n",
       "    </tr>\n",
       "  </tbody>\n",
       "</table>\n",
       "</div>"
      ],
      "text/plain": [
       "           stay_in  outflow  fraction_outlay\n",
       "HasCrCard                                   \n",
       "0             2332      613         0.208149\n",
       "1             5631     1424         0.201843"
      ]
     },
     "metadata": {},
     "output_type": "display_data"
    }
   ],
   "source": [
    "data[['HasCrCard','Exited']]\n",
    "\n",
    "HasCrCard_outflow = data.pivot_table(index='HasCrCard',values='Exited',\\\n",
    "                                     columns=data['Exited'].values, aggfunc='count')\n",
    "\n",
    "HasCrCard_outflow.columns = ['stay_in','outflow']\n",
    "\n",
    "HasCrCard_outflow['fraction_outlay'] =\\\n",
    "                                HasCrCard_outflow['outflow'] / (HasCrCard_outflow['outflow'] +\\\n",
    "                                HasCrCard_outflow['stay_in'])\n",
    "\n",
    "display(HasCrCard_outflow)"
   ]
  },
  {
   "cell_type": "code",
   "execution_count": 19,
   "metadata": {},
   "outputs": [
    {
     "data": {
      "text/html": [
       "<div>\n",
       "<style scoped>\n",
       "    .dataframe tbody tr th:only-of-type {\n",
       "        vertical-align: middle;\n",
       "    }\n",
       "\n",
       "    .dataframe tbody tr th {\n",
       "        vertical-align: top;\n",
       "    }\n",
       "\n",
       "    .dataframe thead th {\n",
       "        text-align: right;\n",
       "    }\n",
       "</style>\n",
       "<table border=\"1\" class=\"dataframe\">\n",
       "  <thead>\n",
       "    <tr style=\"text-align: right;\">\n",
       "      <th></th>\n",
       "      <th>RowNumber</th>\n",
       "      <th>CustomerId</th>\n",
       "      <th>Surname</th>\n",
       "      <th>CreditScore</th>\n",
       "      <th>Geography</th>\n",
       "      <th>Gender</th>\n",
       "      <th>Age</th>\n",
       "      <th>Tenure</th>\n",
       "      <th>Balance</th>\n",
       "      <th>NumOfProducts</th>\n",
       "      <th>HasCrCard</th>\n",
       "      <th>IsActiveMember</th>\n",
       "      <th>EstimatedSalary</th>\n",
       "      <th>Exited</th>\n",
       "    </tr>\n",
       "  </thead>\n",
       "  <tbody>\n",
       "    <tr>\n",
       "      <th>0</th>\n",
       "      <td>1</td>\n",
       "      <td>15634602</td>\n",
       "      <td>Hargrave</td>\n",
       "      <td>619</td>\n",
       "      <td>France</td>\n",
       "      <td>Female</td>\n",
       "      <td>42</td>\n",
       "      <td>2.0</td>\n",
       "      <td>0.00</td>\n",
       "      <td>1</td>\n",
       "      <td>1</td>\n",
       "      <td>1</td>\n",
       "      <td>101348.88</td>\n",
       "      <td>1</td>\n",
       "    </tr>\n",
       "    <tr>\n",
       "      <th>1</th>\n",
       "      <td>2</td>\n",
       "      <td>15647311</td>\n",
       "      <td>Hill</td>\n",
       "      <td>608</td>\n",
       "      <td>Spain</td>\n",
       "      <td>Female</td>\n",
       "      <td>41</td>\n",
       "      <td>1.0</td>\n",
       "      <td>83807.86</td>\n",
       "      <td>1</td>\n",
       "      <td>0</td>\n",
       "      <td>1</td>\n",
       "      <td>112542.58</td>\n",
       "      <td>0</td>\n",
       "    </tr>\n",
       "    <tr>\n",
       "      <th>2</th>\n",
       "      <td>3</td>\n",
       "      <td>15619304</td>\n",
       "      <td>Onio</td>\n",
       "      <td>502</td>\n",
       "      <td>France</td>\n",
       "      <td>Female</td>\n",
       "      <td>42</td>\n",
       "      <td>8.0</td>\n",
       "      <td>159660.80</td>\n",
       "      <td>3</td>\n",
       "      <td>1</td>\n",
       "      <td>0</td>\n",
       "      <td>113931.57</td>\n",
       "      <td>1</td>\n",
       "    </tr>\n",
       "    <tr>\n",
       "      <th>3</th>\n",
       "      <td>4</td>\n",
       "      <td>15701354</td>\n",
       "      <td>Boni</td>\n",
       "      <td>699</td>\n",
       "      <td>France</td>\n",
       "      <td>Female</td>\n",
       "      <td>39</td>\n",
       "      <td>1.0</td>\n",
       "      <td>0.00</td>\n",
       "      <td>2</td>\n",
       "      <td>0</td>\n",
       "      <td>0</td>\n",
       "      <td>93826.63</td>\n",
       "      <td>0</td>\n",
       "    </tr>\n",
       "    <tr>\n",
       "      <th>4</th>\n",
       "      <td>5</td>\n",
       "      <td>15737888</td>\n",
       "      <td>Mitchell</td>\n",
       "      <td>850</td>\n",
       "      <td>Spain</td>\n",
       "      <td>Female</td>\n",
       "      <td>43</td>\n",
       "      <td>2.0</td>\n",
       "      <td>125510.82</td>\n",
       "      <td>1</td>\n",
       "      <td>1</td>\n",
       "      <td>1</td>\n",
       "      <td>79084.10</td>\n",
       "      <td>0</td>\n",
       "    </tr>\n",
       "    <tr>\n",
       "      <th>...</th>\n",
       "      <td>...</td>\n",
       "      <td>...</td>\n",
       "      <td>...</td>\n",
       "      <td>...</td>\n",
       "      <td>...</td>\n",
       "      <td>...</td>\n",
       "      <td>...</td>\n",
       "      <td>...</td>\n",
       "      <td>...</td>\n",
       "      <td>...</td>\n",
       "      <td>...</td>\n",
       "      <td>...</td>\n",
       "      <td>...</td>\n",
       "      <td>...</td>\n",
       "    </tr>\n",
       "    <tr>\n",
       "      <th>9995</th>\n",
       "      <td>9996</td>\n",
       "      <td>15606229</td>\n",
       "      <td>Obijiaku</td>\n",
       "      <td>771</td>\n",
       "      <td>France</td>\n",
       "      <td>Male</td>\n",
       "      <td>39</td>\n",
       "      <td>5.0</td>\n",
       "      <td>0.00</td>\n",
       "      <td>2</td>\n",
       "      <td>1</td>\n",
       "      <td>0</td>\n",
       "      <td>96270.64</td>\n",
       "      <td>0</td>\n",
       "    </tr>\n",
       "    <tr>\n",
       "      <th>9996</th>\n",
       "      <td>9997</td>\n",
       "      <td>15569892</td>\n",
       "      <td>Johnstone</td>\n",
       "      <td>516</td>\n",
       "      <td>France</td>\n",
       "      <td>Male</td>\n",
       "      <td>35</td>\n",
       "      <td>10.0</td>\n",
       "      <td>57369.61</td>\n",
       "      <td>1</td>\n",
       "      <td>1</td>\n",
       "      <td>1</td>\n",
       "      <td>101699.77</td>\n",
       "      <td>0</td>\n",
       "    </tr>\n",
       "    <tr>\n",
       "      <th>9997</th>\n",
       "      <td>9998</td>\n",
       "      <td>15584532</td>\n",
       "      <td>Liu</td>\n",
       "      <td>709</td>\n",
       "      <td>France</td>\n",
       "      <td>Female</td>\n",
       "      <td>36</td>\n",
       "      <td>7.0</td>\n",
       "      <td>0.00</td>\n",
       "      <td>1</td>\n",
       "      <td>0</td>\n",
       "      <td>1</td>\n",
       "      <td>42085.58</td>\n",
       "      <td>1</td>\n",
       "    </tr>\n",
       "    <tr>\n",
       "      <th>9998</th>\n",
       "      <td>9999</td>\n",
       "      <td>15682355</td>\n",
       "      <td>Sabbatini</td>\n",
       "      <td>772</td>\n",
       "      <td>Germany</td>\n",
       "      <td>Male</td>\n",
       "      <td>42</td>\n",
       "      <td>3.0</td>\n",
       "      <td>75075.31</td>\n",
       "      <td>2</td>\n",
       "      <td>1</td>\n",
       "      <td>0</td>\n",
       "      <td>92888.52</td>\n",
       "      <td>1</td>\n",
       "    </tr>\n",
       "    <tr>\n",
       "      <th>9999</th>\n",
       "      <td>10000</td>\n",
       "      <td>15628319</td>\n",
       "      <td>Walker</td>\n",
       "      <td>792</td>\n",
       "      <td>France</td>\n",
       "      <td>Female</td>\n",
       "      <td>28</td>\n",
       "      <td>NaN</td>\n",
       "      <td>130142.79</td>\n",
       "      <td>1</td>\n",
       "      <td>1</td>\n",
       "      <td>0</td>\n",
       "      <td>38190.78</td>\n",
       "      <td>0</td>\n",
       "    </tr>\n",
       "  </tbody>\n",
       "</table>\n",
       "<p>10000 rows × 14 columns</p>\n",
       "</div>"
      ],
      "text/plain": [
       "      RowNumber  CustomerId    Surname  CreditScore Geography  Gender  Age  \\\n",
       "0             1    15634602   Hargrave          619    France  Female   42   \n",
       "1             2    15647311       Hill          608     Spain  Female   41   \n",
       "2             3    15619304       Onio          502    France  Female   42   \n",
       "3             4    15701354       Boni          699    France  Female   39   \n",
       "4             5    15737888   Mitchell          850     Spain  Female   43   \n",
       "...         ...         ...        ...          ...       ...     ...  ...   \n",
       "9995       9996    15606229   Obijiaku          771    France    Male   39   \n",
       "9996       9997    15569892  Johnstone          516    France    Male   35   \n",
       "9997       9998    15584532        Liu          709    France  Female   36   \n",
       "9998       9999    15682355  Sabbatini          772   Germany    Male   42   \n",
       "9999      10000    15628319     Walker          792    France  Female   28   \n",
       "\n",
       "      Tenure    Balance  NumOfProducts  HasCrCard  IsActiveMember  \\\n",
       "0        2.0       0.00              1          1               1   \n",
       "1        1.0   83807.86              1          0               1   \n",
       "2        8.0  159660.80              3          1               0   \n",
       "3        1.0       0.00              2          0               0   \n",
       "4        2.0  125510.82              1          1               1   \n",
       "...      ...        ...            ...        ...             ...   \n",
       "9995     5.0       0.00              2          1               0   \n",
       "9996    10.0   57369.61              1          1               1   \n",
       "9997     7.0       0.00              1          0               1   \n",
       "9998     3.0   75075.31              2          1               0   \n",
       "9999     NaN  130142.79              1          1               0   \n",
       "\n",
       "      EstimatedSalary  Exited  \n",
       "0           101348.88       1  \n",
       "1           112542.58       0  \n",
       "2           113931.57       1  \n",
       "3            93826.63       0  \n",
       "4            79084.10       0  \n",
       "...               ...     ...  \n",
       "9995         96270.64       0  \n",
       "9996        101699.77       0  \n",
       "9997         42085.58       1  \n",
       "9998         92888.52       1  \n",
       "9999         38190.78       0  \n",
       "\n",
       "[10000 rows x 14 columns]"
      ]
     },
     "execution_count": 19,
     "metadata": {},
     "output_type": "execute_result"
    }
   ],
   "source": [
    "data"
   ]
  },
  {
   "cell_type": "markdown",
   "metadata": {},
   "source": [
    "Let's train several models on an unbalanced sample."
   ]
  },
  {
   "cell_type": "code",
   "execution_count": 20,
   "metadata": {},
   "outputs": [],
   "source": [
    "data1 = data.drop(['RowNumber','CustomerId','Surname'], axis=1)\n",
    "data_ohe = pd.get_dummies(data1, drop_first=True)\n",
    "data_ohe = data_ohe.dropna()"
   ]
  },
  {
   "cell_type": "code",
   "execution_count": 21,
   "metadata": {},
   "outputs": [],
   "source": [
    "# creation training, validation and test samples (70/15/15)\n",
    "data_train, data_valid, data_test = np.split(data_ohe, [int(0.7 * len(data)), int(0.85 * len(data))])"
   ]
  },
  {
   "cell_type": "code",
   "execution_count": 22,
   "metadata": {},
   "outputs": [],
   "source": [
    "# creation training sample with features\n",
    "features_train = data_train.drop(['Exited'], axis=1)\n",
    "# creation training sample with target features\n",
    "target_train = data_train['Exited']\n",
    "\n",
    "# creation validation sample with features\n",
    "features_valid = data_valid.drop(['Exited'], axis=1)\n",
    "# creation validation sample with target features\n",
    "target_valid = data_valid['Exited']\n",
    "\n",
    "# creation test sample with features\n",
    "features_test = data_test.drop(['Exited'], axis=1)\n",
    "# creation test sample with target features\n",
    "target_test = data_test['Exited']"
   ]
  },
  {
   "cell_type": "markdown",
   "metadata": {},
   "source": [
    "**In an unbalanced validation set the tree has an accuracy of 57%. This is not enough**\n",
    "    \n",
    "- f1 - 0.58\n",
    "- depth - 9\n",
    "- execution time - 0.154 s"
   ]
  },
  {
   "cell_type": "code",
   "execution_count": 23,
   "metadata": {},
   "outputs": [
    {
     "name": "stdout",
     "output_type": "stream",
     "text": [
      "f1_score = 0.5771324863883848\n",
      "n_estim = fraction_outlay,depth = 9\n",
      "--- 0.12363815307617188 seconds ---\n",
      "\n"
     ]
    }
   ],
   "source": [
    "# unbalanced selection tree\n",
    "start_time = time.time()\n",
    "a = 0\n",
    "b = 0.577\n",
    "model_tree = None\n",
    "for y in range(1,30):\n",
    "    model_tree = DecisionTreeClassifier(max_depth=y, random_state=12345)\n",
    "    model_tree = model_tree.fit(features_train, target_train)\n",
    "    prediction = model_tree.predict(features_valid)\n",
    "    #print(prediction.round())\n",
    "    a = f1_score(target_valid,prediction.round())\n",
    "    if a > b:\n",
    "        print (f'f1_score = {a}')\n",
    "        print(f'n_estim = {i},depth = {y}')\n",
    "        print(\"--- %s seconds ---\" % (time.time() - start_time))\n",
    "        print('')   \n",
    "        break"
   ]
  },
  {
   "cell_type": "markdown",
   "metadata": {},
   "source": [
    "In an unbalanced validation set the random forest has an accuracy of 60%. This is sufficient for the condition of the problem.\n",
    "    \n",
    "- f1 - 0.61;\n",
    "- number of trees - 12;\n",
    "- depth - 15;\n",
    "- execution time - 19.9 s."
   ]
  },
  {
   "cell_type": "code",
   "execution_count": 24,
   "metadata": {},
   "outputs": [
    {
     "name": "stdout",
     "output_type": "stream",
     "text": [
      "f1_score = 0.6106870229007633\n",
      "n_estim = 12,depth = 15\n",
      "--- 14.568325281143188 seconds ---\n",
      "\n"
     ]
    }
   ],
   "source": [
    "# random forest with unbalanced sample\n",
    "start_time = time.time()\n",
    "model_random_forest = None\n",
    "for i in range(1,100): \n",
    "    a = 0\n",
    "    b = 0.60\n",
    "    for y in range(1,20):\n",
    "        model_random_forest = RandomForestRegressor(n_estimators=i,max_depth=y, random_state=12345)\n",
    "        model_random_forest.fit(features_train, target_train)\n",
    "        model_random_forest = model_random_forest\n",
    "        prediction = model_random_forest.predict(features_valid)\n",
    "        #print(prediction.round())\n",
    "        a = f1_score(target_valid,prediction.round())\n",
    "        if a > b:\n",
    "            break\n",
    "    if a > b:\n",
    "        print (f'f1_score = {a}')\n",
    "        print(f'n_estim = {i},depth = {y}')\n",
    "        print(\"--- %s seconds ---\" % (time.time() - start_time))\n",
    "        print('')   \n",
    "        break"
   ]
  },
  {
   "cell_type": "code",
   "execution_count": 25,
   "metadata": {},
   "outputs": [],
   "source": [
    "# разделили на выборки\n",
    "features = data_ohe.drop(['Exited'], axis=1)\n",
    "target = data_ohe['Exited']\n",
    "features_train, features_valid, target_train, target_valid = train_test_split(features,target,test_size=0.25,random_state=12345)"
   ]
  },
  {
   "cell_type": "markdown",
   "metadata": {},
   "source": [
    "**Now let's test our algorithms on a test unbalanced sample.**\n",
    "\n",
    "The models showed weak results.\n",
    "Presumably, the models were overfitted by the training sample.\n",
    "    \n",
    "Trees:\n",
    "- 0.505\n",
    "\n",
    "Random forest:\n",
    "- 0.534"
   ]
  },
  {
   "cell_type": "code",
   "execution_count": 26,
   "metadata": {},
   "outputs": [
    {
     "name": "stdout",
     "output_type": "stream",
     "text": [
      "f1_score = 0.5052631578947369\n",
      "--- 0.007035493850708008 seconds ---\n",
      "\n"
     ]
    }
   ],
   "source": [
    "# tree with unbalanced test sample\n",
    "start_time = time.time()\n",
    "\n",
    "prediction = model_tree.predict(features_test)\n",
    "#print(prediction.round())\n",
    "a = f1_score(target_test,prediction.round())\n",
    "print (f'f1_score = {a}')\n",
    "\n",
    "print(\"--- %s seconds ---\" % (time.time() - start_time))\n",
    "print('')   \n",
    "\n"
   ]
  },
  {
   "cell_type": "code",
   "execution_count": 27,
   "metadata": {},
   "outputs": [
    {
     "name": "stdout",
     "output_type": "stream",
     "text": [
      "f1_score = 0.5340909090909091\n",
      "--- 0.010933160781860352 seconds ---\n",
      "\n"
     ]
    }
   ],
   "source": [
    "# random forest with unbalanced test sample\n",
    "start_time = time.time()\n",
    "\n",
    "prediction = model_random_forest.predict(features_test)\n",
    "#print(prediction.round())\n",
    "a = f1_score(target_test,prediction.round())\n",
    "\n",
    "print (f'f1_score = {a}')\n",
    "print(\"--- %s seconds ---\" % (time.time() - start_time))\n",
    "print('')   "
   ]
  },
  {
   "cell_type": "markdown",
   "metadata": {},
   "source": [
    "## Imbalance decision"
   ]
  },
  {
   "cell_type": "markdown",
   "metadata": {},
   "source": [
    "Prepare data for training. It is important to remove unrepresentative features:\n",
    "    \n",
    "- tenure;\n",
    "- HasCrCard;\n",
    "- CustomerId;\n",
    "- Surname;\n",
    "- RowNumber.\n",
    "    \n",
    "At this point, variables were coded for training models using the OHE method. We also balanced our samples using the upsampling method."
   ]
  },
  {
   "cell_type": "code",
   "execution_count": 28,
   "metadata": {},
   "outputs": [],
   "source": [
    "# coded and removed missings in the \"tenure\" column\n",
    "data2 = data.drop(['RowNumber','CustomerId','Surname'], axis=1)\n",
    "data_ohe = pd.get_dummies(data2, drop_first=True)\n",
    "data_ohe = data_ohe.dropna()"
   ]
  },
  {
   "cell_type": "code",
   "execution_count": 29,
   "metadata": {},
   "outputs": [],
   "source": [
    "# creation training, validation and test samples (70/15/15)\n",
    "data_train, data_valid, data_test = np.split(data_ohe, [int(0.7 * len(data)), int(0.85 * len(data))])"
   ]
  },
  {
   "cell_type": "code",
   "execution_count": 30,
   "metadata": {},
   "outputs": [],
   "source": [
    "# creation training sample with features\n",
    "features_train = data_train.drop(['Exited'], axis=1)\n",
    "# creation training sample with target features\n",
    "target_train = data_train['Exited']\n",
    "\n",
    "# creation validation sample with features\n",
    "features_valid = data_valid.drop(['Exited'], axis=1)\n",
    "# creation validation sample with target features\n",
    "target_valid = data_valid['Exited']\n",
    "\n",
    "# creation test sample with features\n",
    "features_test = data_test.drop(['Exited'], axis=1)\n",
    "# creation test sample with target features\n",
    "target_test = data_test['Exited']"
   ]
  },
  {
   "cell_type": "code",
   "execution_count": 31,
   "metadata": {},
   "outputs": [],
   "source": [
    "# let's create a function that will remove the imbalance of classes using the upsampling method.\n",
    "def upsample(features, target, repeat):\n",
    "    features_zeros = features[target == 0]\n",
    "    features_ones = features[target == 1]\n",
    "    target_zeros = target[target == 0]\n",
    "    target_ones = target[target == 1]\n",
    "\n",
    "    features_upsampled = pd.concat([features_zeros] + [features_ones] * repeat)\n",
    "    target_upsampled = pd.concat([target_zeros] + [target_ones] * repeat)\n",
    "    \n",
    "    features_upsampled, target_upsampled = shuffle(\n",
    "        features_upsampled, target_upsampled, random_state=12345)\n",
    "    \n",
    "    return features_upsampled, target_upsampled"
   ]
  },
  {
   "cell_type": "code",
   "execution_count": 32,
   "metadata": {},
   "outputs": [],
   "source": [
    "# no class imbalance\n",
    "features_upsampled,target_upsampled = upsample(features_train,target_train,4)"
   ]
  },
  {
   "cell_type": "markdown",
   "metadata": {},
   "source": [
    "It is necessary to apply other ways to deal with the imbalance is downsampling."
   ]
  },
  {
   "cell_type": "code",
   "execution_count": 33,
   "metadata": {},
   "outputs": [],
   "source": [
    "def downsample(features, target, fraction):\n",
    "    features_zeros = features[target == 0]\n",
    "    features_ones = features[target == 1]\n",
    "    target_zeros = target[target == 0]\n",
    "    target_ones = target[target == 1]\n",
    "\n",
    "    features_downsampled = pd.concat(\n",
    "        [features_zeros.sample(frac=fraction, random_state=12345)] + [features_ones])\n",
    "    target_downsampled = pd.concat(\n",
    "        [target_zeros.sample(frac=fraction, random_state=12345)] + [target_ones])\n",
    "    \n",
    "    features_downsampled, target_downsampled = shuffle(\n",
    "        features_downsampled, target_downsampled, random_state=12345)\n",
    "    \n",
    "    return features_downsampled, target_downsampled"
   ]
  },
  {
   "cell_type": "code",
   "execution_count": 34,
   "metadata": {},
   "outputs": [],
   "source": [
    "features_downsampled, target_downsampled = downsample(features_train, target_train, 0.27)"
   ]
  },
  {
   "cell_type": "markdown",
   "metadata": {},
   "source": [
    "Train models on samples without imbalance\n",
    "    \n",
    "Tree, balanced sampling, upsampling:\n",
    "    \n",
    "- f1 - 0.577\n",
    "- depth - 5\n",
    "- execution time - 0.076 seconds\n",
    "    \n",
    "Tree, balanced sampling, downsampling:\n",
    "    \n",
    "- f1 - 0.565\n",
    "- depth - 4\n",
    "- execution time - 0.03 seconds\n",
    "    \n",
    "Random forest, balanced sampling, upsampling:\n",
    "    \n",
    "- f1 - 0.611\n",
    "- trees - 10,\n",
    "- depth - 9\n",
    "- execution time - 17.6 seconds\n",
    "    \n",
    "  Random forest, balanced sampling, downsampling:\n",
    "    \n",
    "- f1 - 0.606\n",
    "- trees - 11,\n",
    "- depth - 5\n",
    "- execution time - 7.55 seconds\n",
    "\n",
    "`Best model` - model_random_forest_up (Random forest, balanced sampling, upsampling)"
   ]
  },
  {
   "cell_type": "code",
   "execution_count": 35,
   "metadata": {},
   "outputs": [
    {
     "name": "stdout",
     "output_type": "stream",
     "text": [
      "0.5771144278606966\n",
      "depth=5\n",
      "--- 0.07076287269592285 seconds ---\n",
      "\n"
     ]
    }
   ],
   "source": [
    "# tree on balanced sample with upsampling\n",
    "start_time = time.time()\n",
    "a = 0\n",
    "b = 0.57\n",
    "model_tree_up = None\n",
    "for y in range(1,30):\n",
    "    model_tree_up = DecisionTreeClassifier(max_depth=y, random_state=12345)\n",
    "    model_tree_up.fit(features_upsampled, target_upsampled)\n",
    "    model_tree_up = model_tree_up\n",
    "    prediction = model_tree_up.predict(features_valid)\n",
    "    #print(prediction.round())\n",
    "    a = f1_score(target_valid,prediction.round())\n",
    "    if a > b:\n",
    "        print (a)\n",
    "        print(f'depth={y}')\n",
    "        print(\"--- %s seconds ---\" % (time.time() - start_time))\n",
    "        print('')   \n",
    "        break\n"
   ]
  },
  {
   "cell_type": "code",
   "execution_count": 36,
   "metadata": {},
   "outputs": [
    {
     "name": "stdout",
     "output_type": "stream",
     "text": [
      "f1_score = 0.5653798256537983\n",
      "depth=4\n",
      "--- 0.031894683837890625 seconds ---\n",
      "\n"
     ]
    }
   ],
   "source": [
    "# tree on balanced sample with downsampling\n",
    "start_time = time.time()\n",
    "a = 0\n",
    "b = 0.565\n",
    "model_tree_down = None\n",
    "for y in range(1,30):\n",
    "    model_tree_down = DecisionTreeClassifier(max_depth=y, random_state=12345)\n",
    "    model_tree_down = model_tree_down.fit(features_downsampled, target_downsampled)\n",
    "    model_tree_down = model_tree_down\n",
    "    prediction = model_tree_down.predict(features_valid)\n",
    "    a = f1_score(target_valid,prediction.round())\n",
    "    if a > b:\n",
    "        print (f'f1_score = {a}')\n",
    "        print(f'depth={y}')\n",
    "        print(\"--- %s seconds ---\" % (time.time() - start_time))\n",
    "        print('')   \n",
    "        break\n"
   ]
  },
  {
   "cell_type": "code",
   "execution_count": 37,
   "metadata": {},
   "outputs": [
    {
     "name": "stdout",
     "output_type": "stream",
     "text": [
      "f1_score = 0.6129032258064516\n",
      "n_estim=8,depth=9\n",
      "--- 4.268772125244141 seconds ---\n",
      "\n"
     ]
    }
   ],
   "source": [
    "# random forest on balanced sample with upsampling\n",
    "start_time = time.time()\n",
    "model_random_forest_up = None\n",
    "for i in range(1,100): \n",
    "    a = 0\n",
    "    b = 0.61\n",
    "    for y in range(1,20):\n",
    "        model_random_forest_up = RandomForestClassifier(n_estimators=i,max_depth=y, random_state=12345)\n",
    "        model_random_forest_up.fit(features_upsampled, target_upsampled)\n",
    "        model_random_forest_up = model_random_forest_up\n",
    "        prediction = model_random_forest_up.predict(features_valid)\n",
    "        #print(prediction.round())\n",
    "        a = f1_score(target_valid,prediction.round())\n",
    "        if a > b:\n",
    "            break\n",
    "    if a > b:\n",
    "        print (f'f1_score = {a}')\n",
    "        print(f'n_estim={i},depth={y}')\n",
    "        print(\"--- %s seconds ---\" % (time.time() - start_time))\n",
    "        print('')   \n",
    "        break\n",
    "        "
   ]
  },
  {
   "cell_type": "code",
   "execution_count": 38,
   "metadata": {},
   "outputs": [
    {
     "name": "stdout",
     "output_type": "stream",
     "text": [
      "f1_score = 0.6060606060606061\n",
      "n_estim=11,depth=5\n",
      "--- 5.34917950630188 seconds ---\n",
      "\n"
     ]
    }
   ],
   "source": [
    "# random forest on balanced sample with downsampling\n",
    "start_time = time.time()\n",
    "model_random_forest_down = None\n",
    "for i in range(1,100): \n",
    "    a = 0\n",
    "    b = 0.60\n",
    "    for y in range(1,20):\n",
    "        model_random_forest_down = RandomForestRegressor(n_estimators=i,max_depth=y, random_state=12345)\n",
    "        model_random_forest_down.fit(features_downsampled, target_downsampled)\n",
    "        model_random_forest_down = model_random_forest_down\n",
    "        prediction = model_random_forest_down.predict(features_valid)\n",
    "        #print(prediction.round())\n",
    "        a = f1_score(target_valid,prediction.round())\n",
    "        if a > b:\n",
    "            break\n",
    "    if a > b:\n",
    "        print (f'f1_score = {a}')\n",
    "        print(f'n_estim={i},depth={y}')\n",
    "        print(\"--- %s seconds ---\" % (time.time() - start_time))\n",
    "        print('')   \n",
    "        break"
   ]
  },
  {
   "cell_type": "markdown",
   "metadata": {},
   "source": [
    "## Model testing"
   ]
  },
  {
   "cell_type": "markdown",
   "metadata": {},
   "source": [
    "We chek the test sample on the best model (model_random_forest_up (Random forest, balanced sample, upsampling))\n",
    "The model showed relatively good results f1 - 0.5917 . There is no retraining."
   ]
  },
  {
   "cell_type": "code",
   "execution_count": 39,
   "metadata": {},
   "outputs": [
    {
     "name": "stdout",
     "output_type": "stream",
     "text": [
      "f1_score = 0.5991902834008097\n",
      "--- 0.007972002029418945 seconds ---\n"
     ]
    }
   ],
   "source": [
    "# random forest on balanced sample with upsampling\n",
    "start_time = time.time()\n",
    "prediction1 = model_random_forest_up.predict(features_test)\n",
    "#print(prediction.round())\n",
    "a = f1_score(target_test,prediction1.round())\n",
    "print (f'f1_score = {a}')\n",
    "print(\"--- %s seconds ---\" % (time.time() - start_time))        "
   ]
  },
  {
   "cell_type": "code",
   "execution_count": 40,
   "metadata": {},
   "outputs": [
    {
     "data": {
      "image/png": "[encoded data removed]",
      "text/plain": [
       "<Figure size 432x288 with 1 Axes>"
      ]
     },
     "metadata": {
      "needs_background": "light"
     },
     "output_type": "display_data"
    }
   ],
   "source": [
    "probabilities_valid = model_random_forest_up.predict_proba(features_test)\n",
    "\n",
    "probabilities_one_valid = probabilities_valid[:, 1]\n",
    "\n",
    "fpr, tpr, thresholds = roc_curve(target_test, probabilities_one_valid)\n",
    "\n",
    "plt.figure()\n",
    "\n",
    "plt.plot(fpr, tpr, linestyle='-')\n",
    "\n",
    "# ROC-curve of a random model\n",
    "plt.plot([0, 1], [0, 1], linestyle='--')\n",
    "\n",
    "\n",
    "plt.xlim([0,1])\n",
    "plt.ylim([0,1])\n",
    "\n",
    "\n",
    "plt.xlabel(\"False Positive Rate\")\n",
    "plt.ylabel(\"True Positive Rate\")\n",
    "\n",
    "plt.title('ROC-кривая')\n",
    "plt.show()\n"
   ]
  },
  {
   "cell_type": "code",
   "execution_count": 41,
   "metadata": {},
   "outputs": [],
   "source": [
    "auc_roc = roc_auc_score(target_test,probabilities_one_valid)"
   ]
  },
  {
   "cell_type": "code",
   "execution_count": 42,
   "metadata": {},
   "outputs": [
    {
     "name": "stdout",
     "output_type": "stream",
     "text": [
      "0.83040027605245\n"
     ]
    }
   ],
   "source": [
    "print(auc_roc)"
   ]
  },
  {
   "cell_type": "markdown",
   "metadata": {},
   "source": [
    "**`FINAL CONCLUSION`**\n",
    "    \n",
    "Best model - model_random_forest_up (Random forest, balanced sampling, upsampling)\n",
    "    \n",
    "Random forest, balanced sampling, upsampling:\n",
    "    \n",
    "- f1 - 0.611\n",
    "- trees - 10,\n",
    "- depth - 9\n",
    "- execution time - 17.6 seconds\n",
    "    \n",
    "A complete analysis of the data was carried out. The models were tested on balanced and unbalanced data.\n",
    "Balanced data performed better. We also used OHE. Model-check was carried out on a test sample. No overfitting was found on the best model."
   ]
  }
 ],
 "metadata": {
  "ExecuteTimeLog": [
   {
    "duration": 397,
    "start_time": "2022-07-23T12:19:39.661Z"
   },
   {
    "duration": 62,
    "start_time": "2022-07-23T12:21:43.866Z"
   },
   {
    "duration": 2,
    "start_time": "2022-07-23T12:21:45.784Z"
   },
   {
    "duration": 80,
    "start_time": "2022-07-23T12:21:46.533Z"
   },
   {
    "duration": 24,
    "start_time": "2022-07-23T12:21:47.213Z"
   },
   {
    "duration": 11,
    "start_time": "2022-07-23T12:22:21.797Z"
   },
   {
    "duration": 13,
    "start_time": "2022-07-23T12:22:25.837Z"
   },
   {
    "duration": 40,
    "start_time": "2022-07-23T12:23:05.780Z"
   },
   {
    "duration": 7,
    "start_time": "2022-07-23T12:24:10.246Z"
   },
   {
    "duration": 7,
    "start_time": "2022-07-23T12:24:14.350Z"
   },
   {
    "duration": 9,
    "start_time": "2022-07-23T12:24:26.482Z"
   },
   {
    "duration": 7,
    "start_time": "2022-07-23T12:24:29.158Z"
   },
   {
    "duration": 12,
    "start_time": "2022-07-23T12:24:34.638Z"
   },
   {
    "duration": 10,
    "start_time": "2022-07-23T12:24:39.742Z"
   },
   {
    "duration": 7,
    "start_time": "2022-07-23T12:25:24.454Z"
   },
   {
    "duration": 7,
    "start_time": "2022-07-23T12:40:54.084Z"
   },
   {
    "duration": 6,
    "start_time": "2022-07-23T12:42:32.361Z"
   },
   {
    "duration": 4,
    "start_time": "2022-07-23T12:42:37.854Z"
   },
   {
    "duration": 7,
    "start_time": "2022-07-23T12:44:39.908Z"
   },
   {
    "duration": 4,
    "start_time": "2022-07-23T12:50:14.610Z"
   },
   {
    "duration": 12,
    "start_time": "2022-07-23T12:50:15.266Z"
   },
   {
    "duration": 43,
    "start_time": "2022-07-23T12:50:32.674Z"
   },
   {
    "duration": 18,
    "start_time": "2022-07-23T12:50:37.872Z"
   },
   {
    "duration": 3,
    "start_time": "2022-07-23T12:53:58.660Z"
   },
   {
    "duration": 40,
    "start_time": "2022-07-23T12:53:59.101Z"
   },
   {
    "duration": 4,
    "start_time": "2022-07-23T12:53:59.572Z"
   },
   {
    "duration": 11,
    "start_time": "2022-07-23T12:54:00.162Z"
   },
   {
    "duration": 10,
    "start_time": "2022-07-23T12:54:00.977Z"
   },
   {
    "duration": 7,
    "start_time": "2022-07-23T12:59:40.244Z"
   },
   {
    "duration": 5,
    "start_time": "2022-07-23T12:59:49.401Z"
   },
   {
    "duration": 714,
    "start_time": "2022-07-23T13:05:52.735Z"
   },
   {
    "duration": 5,
    "start_time": "2022-07-23T13:14:08.576Z"
   },
   {
    "duration": 7,
    "start_time": "2022-07-23T13:19:27.100Z"
   },
   {
    "duration": 19,
    "start_time": "2022-07-23T13:19:35.105Z"
   },
   {
    "duration": 1088,
    "start_time": "2022-07-23T13:19:54.857Z"
   },
   {
    "duration": 11,
    "start_time": "2022-07-23T13:22:36.415Z"
   },
   {
    "duration": 20,
    "start_time": "2022-07-23T13:28:36.842Z"
   },
   {
    "duration": 23,
    "start_time": "2022-07-23T13:28:39.759Z"
   },
   {
    "duration": 2,
    "start_time": "2022-07-23T13:28:46.801Z"
   },
   {
    "duration": 6,
    "start_time": "2022-07-23T13:28:49.766Z"
   },
   {
    "duration": 21,
    "start_time": "2022-07-23T13:28:51.203Z"
   },
   {
    "duration": 17,
    "start_time": "2022-07-23T13:31:42.534Z"
   },
   {
    "duration": 19,
    "start_time": "2022-07-23T13:31:44.695Z"
   },
   {
    "duration": 17,
    "start_time": "2022-07-23T13:32:34.860Z"
   },
   {
    "duration": 1102,
    "start_time": "2022-07-23T13:32:49.029Z"
   },
   {
    "duration": 43,
    "start_time": "2022-07-23T13:32:50.133Z"
   },
   {
    "duration": 4,
    "start_time": "2022-07-23T13:32:50.178Z"
   },
   {
    "duration": 18,
    "start_time": "2022-07-23T13:32:50.184Z"
   },
   {
    "duration": 12,
    "start_time": "2022-07-23T13:32:50.204Z"
   },
   {
    "duration": 4,
    "start_time": "2022-07-23T13:32:50.217Z"
   },
   {
    "duration": 15,
    "start_time": "2022-07-23T13:32:50.223Z"
   },
   {
    "duration": 5,
    "start_time": "2022-07-23T13:32:50.261Z"
   },
   {
    "duration": 127,
    "start_time": "2022-07-23T13:32:50.268Z"
   },
   {
    "duration": 19,
    "start_time": "2022-07-23T13:33:05.619Z"
   },
   {
    "duration": 6,
    "start_time": "2022-07-23T13:34:01.748Z"
   },
   {
    "duration": 47,
    "start_time": "2022-07-23T13:34:15.937Z"
   },
   {
    "duration": 6,
    "start_time": "2022-07-23T13:34:17.820Z"
   },
   {
    "duration": 18,
    "start_time": "2022-07-23T13:34:31.742Z"
   },
   {
    "duration": 10,
    "start_time": "2022-07-23T13:34:51.425Z"
   },
   {
    "duration": 17,
    "start_time": "2022-07-23T13:35:11.469Z"
   },
   {
    "duration": 10,
    "start_time": "2022-07-23T13:35:48.608Z"
   },
   {
    "duration": 13,
    "start_time": "2022-07-23T13:36:02.846Z"
   },
   {
    "duration": 8,
    "start_time": "2022-07-23T13:36:37.084Z"
   },
   {
    "duration": 63,
    "start_time": "2022-07-23T13:36:46.344Z"
   },
   {
    "duration": 17,
    "start_time": "2022-07-23T13:36:48.948Z"
   },
   {
    "duration": 7,
    "start_time": "2022-07-23T13:38:32.789Z"
   },
   {
    "duration": 18,
    "start_time": "2022-07-23T13:38:57.245Z"
   },
   {
    "duration": 20,
    "start_time": "2022-07-23T13:40:44.306Z"
   },
   {
    "duration": 18,
    "start_time": "2022-07-23T13:40:54.381Z"
   },
   {
    "duration": 51,
    "start_time": "2022-07-23T13:41:45.252Z"
   },
   {
    "duration": 60,
    "start_time": "2022-07-23T13:42:02.318Z"
   },
   {
    "duration": 14,
    "start_time": "2022-07-23T13:42:12.089Z"
   },
   {
    "duration": 10,
    "start_time": "2022-07-23T13:42:13.197Z"
   },
   {
    "duration": 26,
    "start_time": "2022-07-23T13:46:53.412Z"
   },
   {
    "duration": 18,
    "start_time": "2022-07-23T13:47:07.277Z"
   },
   {
    "duration": 13,
    "start_time": "2022-07-23T13:52:06.013Z"
   },
   {
    "duration": 8,
    "start_time": "2022-07-23T13:52:21.642Z"
   },
   {
    "duration": 10,
    "start_time": "2022-07-23T13:52:23.647Z"
   },
   {
    "duration": 25,
    "start_time": "2022-07-23T13:52:27.343Z"
   },
   {
    "duration": 1046,
    "start_time": "2022-07-23T13:52:42.308Z"
   },
   {
    "duration": 54,
    "start_time": "2022-07-23T13:52:43.357Z"
   },
   {
    "duration": 6,
    "start_time": "2022-07-23T13:52:43.413Z"
   },
   {
    "duration": 26,
    "start_time": "2022-07-23T13:52:43.421Z"
   },
   {
    "duration": 19,
    "start_time": "2022-07-23T13:52:43.450Z"
   },
   {
    "duration": 5,
    "start_time": "2022-07-23T13:52:43.471Z"
   },
   {
    "duration": 9,
    "start_time": "2022-07-23T13:52:43.478Z"
   },
   {
    "duration": 26,
    "start_time": "2022-07-23T13:52:43.489Z"
   },
   {
    "duration": 5,
    "start_time": "2022-07-23T13:52:43.517Z"
   },
   {
    "duration": 161,
    "start_time": "2022-07-23T13:52:43.562Z"
   },
   {
    "duration": 62,
    "start_time": "2022-07-23T13:57:18.884Z"
   },
   {
    "duration": 408,
    "start_time": "2022-07-23T13:57:24.607Z"
   },
   {
    "duration": 21,
    "start_time": "2022-07-23T13:57:28.466Z"
   },
   {
    "duration": 459,
    "start_time": "2022-07-23T13:57:40.180Z"
   },
   {
    "duration": 417,
    "start_time": "2022-07-23T13:57:58.861Z"
   },
   {
    "duration": 421,
    "start_time": "2022-07-23T13:58:08.787Z"
   },
   {
    "duration": 374,
    "start_time": "2022-07-23T13:58:18.716Z"
   },
   {
    "duration": 379,
    "start_time": "2022-07-23T13:58:25.018Z"
   },
   {
    "duration": 219,
    "start_time": "2022-07-23T13:58:51.716Z"
   },
   {
    "duration": 395,
    "start_time": "2022-07-23T13:58:55.428Z"
   },
   {
    "duration": 325,
    "start_time": "2022-07-23T13:59:02.384Z"
   },
   {
    "duration": 348,
    "start_time": "2022-07-23T13:59:04.955Z"
   },
   {
    "duration": 152,
    "start_time": "2022-07-23T13:59:30.782Z"
   },
   {
    "duration": 197,
    "start_time": "2022-07-23T13:59:39.341Z"
   },
   {
    "duration": 171,
    "start_time": "2022-07-23T14:00:01.247Z"
   },
   {
    "duration": 13,
    "start_time": "2022-07-23T14:00:12.414Z"
   },
   {
    "duration": 12,
    "start_time": "2022-07-23T14:00:20.294Z"
   },
   {
    "duration": 134,
    "start_time": "2022-07-23T14:02:49.181Z"
   },
   {
    "duration": 151,
    "start_time": "2022-07-23T14:03:27.299Z"
   },
   {
    "duration": 167,
    "start_time": "2022-07-23T14:03:57.736Z"
   },
   {
    "duration": 22,
    "start_time": "2022-07-23T14:04:23.504Z"
   },
   {
    "duration": 188,
    "start_time": "2022-07-23T14:04:33.256Z"
   },
   {
    "duration": 172,
    "start_time": "2022-07-23T14:05:22.754Z"
   },
   {
    "duration": 175,
    "start_time": "2022-07-23T14:05:55.398Z"
   },
   {
    "duration": 194,
    "start_time": "2022-07-23T14:06:31.538Z"
   },
   {
    "duration": 8998,
    "start_time": "2022-07-23T14:07:53.997Z"
   },
   {
    "duration": 21,
    "start_time": "2022-07-23T14:29:41.955Z"
   },
   {
    "duration": 12,
    "start_time": "2022-07-23T14:31:14.783Z"
   },
   {
    "duration": 19,
    "start_time": "2022-07-23T14:35:09.083Z"
   },
   {
    "duration": 12,
    "start_time": "2022-07-23T14:35:15.455Z"
   },
   {
    "duration": 6,
    "start_time": "2022-07-23T14:35:17.861Z"
   },
   {
    "duration": 16,
    "start_time": "2022-07-23T14:36:01.984Z"
   },
   {
    "duration": 15,
    "start_time": "2022-07-23T14:36:07.219Z"
   },
   {
    "duration": 17,
    "start_time": "2022-07-23T14:36:21.273Z"
   },
   {
    "duration": 17,
    "start_time": "2022-07-23T14:36:22.272Z"
   },
   {
    "duration": 14,
    "start_time": "2022-07-23T14:36:26.679Z"
   },
   {
    "duration": 13,
    "start_time": "2022-07-23T14:37:33.574Z"
   },
   {
    "duration": 6,
    "start_time": "2022-07-23T14:37:35.671Z"
   },
   {
    "duration": 13,
    "start_time": "2022-07-23T14:37:44.156Z"
   },
   {
    "duration": 6,
    "start_time": "2022-07-23T14:37:45.085Z"
   },
   {
    "duration": 26,
    "start_time": "2022-07-23T14:38:07.548Z"
   },
   {
    "duration": 30,
    "start_time": "2022-07-23T14:38:45.984Z"
   },
   {
    "duration": 22,
    "start_time": "2022-07-23T14:38:46.872Z"
   },
   {
    "duration": 16,
    "start_time": "2022-07-23T14:38:56.116Z"
   },
   {
    "duration": 9,
    "start_time": "2022-07-23T14:38:56.840Z"
   },
   {
    "duration": 32,
    "start_time": "2022-07-23T14:41:11.465Z"
   },
   {
    "duration": 23,
    "start_time": "2022-07-23T14:41:26.170Z"
   },
   {
    "duration": 4,
    "start_time": "2022-07-23T14:41:48.372Z"
   },
   {
    "duration": 24,
    "start_time": "2022-07-23T14:41:54.987Z"
   },
   {
    "duration": 20,
    "start_time": "2022-07-23T14:42:09.058Z"
   },
   {
    "duration": 18,
    "start_time": "2022-07-23T14:42:21.753Z"
   },
   {
    "duration": 207,
    "start_time": "2022-07-23T14:43:02.465Z"
   },
   {
    "duration": 57,
    "start_time": "2022-07-23T14:43:48.442Z"
   },
   {
    "duration": 15,
    "start_time": "2022-07-23T14:43:50.643Z"
   },
   {
    "duration": 14,
    "start_time": "2022-07-23T14:44:03.983Z"
   },
   {
    "duration": 7,
    "start_time": "2022-07-23T14:44:05.376Z"
   },
   {
    "duration": 16,
    "start_time": "2022-07-23T14:44:14.707Z"
   },
   {
    "duration": 6,
    "start_time": "2022-07-23T14:44:15.638Z"
   },
   {
    "duration": 21,
    "start_time": "2022-07-23T14:44:20.872Z"
   },
   {
    "duration": 12,
    "start_time": "2022-07-23T14:47:20.229Z"
   },
   {
    "duration": 277,
    "start_time": "2022-07-23T14:47:27.827Z"
   },
   {
    "duration": 7,
    "start_time": "2022-07-23T14:47:28.161Z"
   },
   {
    "duration": 260,
    "start_time": "2022-07-23T14:48:52.048Z"
   },
   {
    "duration": 13,
    "start_time": "2022-07-23T14:48:58.492Z"
   },
   {
    "duration": 6,
    "start_time": "2022-07-23T14:48:59.872Z"
   },
   {
    "duration": 6,
    "start_time": "2022-07-23T14:49:05.919Z"
   },
   {
    "duration": 16,
    "start_time": "2022-07-23T14:49:36.377Z"
   },
   {
    "duration": 7,
    "start_time": "2022-07-23T14:49:37.351Z"
   },
   {
    "duration": 3,
    "start_time": "2022-07-23T14:50:54.849Z"
   },
   {
    "duration": 732,
    "start_time": "2022-07-23T14:51:18.780Z"
   },
   {
    "duration": 211,
    "start_time": "2022-07-23T14:51:24.702Z"
   },
   {
    "duration": 314,
    "start_time": "2022-07-23T14:51:49.786Z"
   },
   {
    "duration": 209,
    "start_time": "2022-07-23T14:52:03.451Z"
   },
   {
    "duration": 183,
    "start_time": "2022-07-23T14:52:39.891Z"
   },
   {
    "duration": 135,
    "start_time": "2022-07-23T14:52:54.679Z"
   },
   {
    "duration": 199,
    "start_time": "2022-07-23T14:53:00.249Z"
   },
   {
    "duration": 294,
    "start_time": "2022-07-23T14:53:22.259Z"
   },
   {
    "duration": 258,
    "start_time": "2022-07-23T14:53:41.986Z"
   },
   {
    "duration": 16,
    "start_time": "2022-07-23T14:59:42.843Z"
   },
   {
    "duration": 300,
    "start_time": "2022-07-23T15:00:20.208Z"
   },
   {
    "duration": 277,
    "start_time": "2022-07-23T15:00:48.312Z"
   },
   {
    "duration": 345,
    "start_time": "2022-07-23T15:38:16.137Z"
   },
   {
    "duration": 278,
    "start_time": "2022-07-23T15:38:42.849Z"
   },
   {
    "duration": 445,
    "start_time": "2022-07-23T15:39:29.449Z"
   },
   {
    "duration": 276,
    "start_time": "2022-07-23T15:40:24.815Z"
   },
   {
    "duration": 270,
    "start_time": "2022-07-23T15:40:55.494Z"
   },
   {
    "duration": 265,
    "start_time": "2022-07-23T15:41:23.457Z"
   },
   {
    "duration": 142,
    "start_time": "2022-07-23T15:41:47.645Z"
   },
   {
    "duration": 154,
    "start_time": "2022-07-23T15:42:08.400Z"
   },
   {
    "duration": 253,
    "start_time": "2022-07-23T15:42:15.439Z"
   },
   {
    "duration": 18,
    "start_time": "2022-07-23T15:46:02.658Z"
   },
   {
    "duration": 19,
    "start_time": "2022-07-23T15:47:59.939Z"
   },
   {
    "duration": 21,
    "start_time": "2022-07-23T15:51:10.267Z"
   },
   {
    "duration": 18,
    "start_time": "2022-07-23T15:51:53.037Z"
   },
   {
    "duration": 23,
    "start_time": "2022-07-23T15:52:26.440Z"
   },
   {
    "duration": 15,
    "start_time": "2022-07-23T15:52:40.002Z"
   },
   {
    "duration": 1202,
    "start_time": "2022-07-23T15:54:04.147Z"
   },
   {
    "duration": 15,
    "start_time": "2022-07-23T15:54:30.256Z"
   },
   {
    "duration": 791,
    "start_time": "2022-07-23T15:54:41.287Z"
   },
   {
    "duration": 21,
    "start_time": "2022-07-23T15:54:49.584Z"
   },
   {
    "duration": 56,
    "start_time": "2022-07-23T15:57:25.301Z"
   },
   {
    "duration": 662,
    "start_time": "2022-07-23T15:57:45.574Z"
   },
   {
    "duration": 526,
    "start_time": "2022-07-23T15:57:54.423Z"
   },
   {
    "duration": 508,
    "start_time": "2022-07-23T15:58:09.390Z"
   },
   {
    "duration": 505,
    "start_time": "2022-07-23T15:58:19.642Z"
   },
   {
    "duration": 659,
    "start_time": "2022-07-23T15:58:27.610Z"
   },
   {
    "duration": 542,
    "start_time": "2022-07-23T15:58:35.051Z"
   },
   {
    "duration": 517,
    "start_time": "2022-07-23T15:59:29.241Z"
   },
   {
    "duration": 520,
    "start_time": "2022-07-23T15:59:51.686Z"
   },
   {
    "duration": 752,
    "start_time": "2022-07-23T16:00:17.243Z"
   },
   {
    "duration": 89,
    "start_time": "2022-07-23T16:18:05.453Z"
   },
   {
    "duration": 20,
    "start_time": "2022-07-23T16:18:26.145Z"
   },
   {
    "duration": 18,
    "start_time": "2022-07-23T16:20:42.509Z"
   },
   {
    "duration": 20,
    "start_time": "2022-07-23T16:21:02.145Z"
   },
   {
    "duration": 144,
    "start_time": "2022-07-23T16:26:42.160Z"
   },
   {
    "duration": 142,
    "start_time": "2022-07-23T16:26:55.957Z"
   },
   {
    "duration": 291,
    "start_time": "2022-07-23T16:27:03.351Z"
   },
   {
    "duration": 24,
    "start_time": "2022-07-23T16:27:49.788Z"
   },
   {
    "duration": 192,
    "start_time": "2022-07-23T16:28:12.590Z"
   },
   {
    "duration": 27,
    "start_time": "2022-07-23T16:29:36.990Z"
   },
   {
    "duration": 4,
    "start_time": "2022-07-23T16:30:28.446Z"
   },
   {
    "duration": 9,
    "start_time": "2022-07-23T16:35:35.362Z"
   },
   {
    "duration": 10,
    "start_time": "2022-07-23T16:35:53.318Z"
   },
   {
    "duration": 9,
    "start_time": "2022-07-23T16:36:10.375Z"
   },
   {
    "duration": 1161,
    "start_time": "2022-07-23T16:36:31.360Z"
   },
   {
    "duration": 719,
    "start_time": "2022-07-23T16:36:54.859Z"
   },
   {
    "duration": 807,
    "start_time": "2022-07-23T16:37:11.964Z"
   },
   {
    "duration": 3220,
    "start_time": "2022-07-23T16:37:40.157Z"
   },
   {
    "duration": 28,
    "start_time": "2022-07-23T16:37:49.213Z"
   },
   {
    "duration": 928,
    "start_time": "2022-07-23T16:38:59.390Z"
   },
   {
    "duration": 51,
    "start_time": "2022-07-23T16:42:39.540Z"
   },
   {
    "duration": 43,
    "start_time": "2022-07-23T16:42:47.396Z"
   },
   {
    "duration": 48,
    "start_time": "2022-07-23T16:42:54.019Z"
   },
   {
    "duration": 1101,
    "start_time": "2022-07-23T16:43:14.919Z"
   },
   {
    "duration": 920,
    "start_time": "2022-07-23T16:43:50.505Z"
   },
   {
    "duration": 3,
    "start_time": "2022-07-23T16:44:07.938Z"
   },
   {
    "duration": 5,
    "start_time": "2022-07-23T16:44:19.742Z"
   },
   {
    "duration": 4,
    "start_time": "2022-07-23T16:44:46.746Z"
   },
   {
    "duration": 6,
    "start_time": "2022-07-23T16:44:53.276Z"
   },
   {
    "duration": 2699,
    "start_time": "2022-07-23T16:45:01.519Z"
   },
   {
    "duration": 0,
    "start_time": "2022-07-23T16:45:31.069Z"
   },
   {
    "duration": 5,
    "start_time": "2022-07-23T16:45:34.498Z"
   },
   {
    "duration": 0,
    "start_time": "2022-07-23T16:45:57.184Z"
   },
   {
    "duration": 0,
    "start_time": "2022-07-23T16:45:57.185Z"
   },
   {
    "duration": 0,
    "start_time": "2022-07-23T16:46:12.168Z"
   },
   {
    "duration": 0,
    "start_time": "2022-07-23T16:46:12.170Z"
   },
   {
    "duration": 1323,
    "start_time": "2022-07-23T16:46:20.901Z"
   },
   {
    "duration": 42,
    "start_time": "2022-07-23T16:46:22.226Z"
   },
   {
    "duration": 22,
    "start_time": "2022-07-23T16:46:22.269Z"
   },
   {
    "duration": 10,
    "start_time": "2022-07-23T16:46:22.292Z"
   },
   {
    "duration": 26,
    "start_time": "2022-07-23T16:46:22.304Z"
   },
   {
    "duration": 14,
    "start_time": "2022-07-23T16:46:22.332Z"
   },
   {
    "duration": 200,
    "start_time": "2022-07-23T16:46:22.348Z"
   },
   {
    "duration": 175,
    "start_time": "2022-07-23T16:46:22.549Z"
   },
   {
    "duration": 18,
    "start_time": "2022-07-23T16:46:22.726Z"
   },
   {
    "duration": 409,
    "start_time": "2022-07-23T16:46:22.745Z"
   },
   {
    "duration": 16,
    "start_time": "2022-07-23T16:46:23.160Z"
   },
   {
    "duration": 609,
    "start_time": "2022-07-23T16:46:23.178Z"
   },
   {
    "duration": 18,
    "start_time": "2022-07-23T16:46:23.789Z"
   },
   {
    "duration": 2869,
    "start_time": "2022-07-23T16:46:23.809Z"
   },
   {
    "duration": 0,
    "start_time": "2022-07-23T16:46:26.680Z"
   },
   {
    "duration": 0,
    "start_time": "2022-07-23T16:46:26.681Z"
   },
   {
    "duration": 0,
    "start_time": "2022-07-23T16:46:26.682Z"
   },
   {
    "duration": 0,
    "start_time": "2022-07-23T16:46:26.683Z"
   },
   {
    "duration": 0,
    "start_time": "2022-07-23T16:46:55.923Z"
   },
   {
    "duration": 0,
    "start_time": "2022-07-23T16:46:55.924Z"
   },
   {
    "duration": 5205,
    "start_time": "2022-07-23T16:46:58.248Z"
   },
   {
    "duration": 5241,
    "start_time": "2022-07-23T16:47:16.847Z"
   },
   {
    "duration": 94,
    "start_time": "2022-07-23T16:47:36.160Z"
   },
   {
    "duration": 46,
    "start_time": "2022-07-23T16:48:05.796Z"
   },
   {
    "duration": 5223,
    "start_time": "2022-07-23T16:48:18.181Z"
   },
   {
    "duration": 49,
    "start_time": "2022-07-23T16:48:43.540Z"
   },
   {
    "duration": 49,
    "start_time": "2022-07-23T16:49:09.396Z"
   },
   {
    "duration": 4,
    "start_time": "2022-07-23T16:49:18.245Z"
   },
   {
    "duration": 7,
    "start_time": "2022-07-23T16:49:24.294Z"
   },
   {
    "duration": 10,
    "start_time": "2022-07-23T16:56:01.342Z"
   },
   {
    "duration": 29,
    "start_time": "2022-07-23T16:56:02.404Z"
   },
   {
    "duration": 7,
    "start_time": "2022-07-23T16:57:14.381Z"
   },
   {
    "duration": 28,
    "start_time": "2022-07-23T16:57:23.264Z"
   },
   {
    "duration": 1447,
    "start_time": "2022-07-23T16:57:36.070Z"
   },
   {
    "duration": 41,
    "start_time": "2022-07-23T16:57:37.520Z"
   },
   {
    "duration": 23,
    "start_time": "2022-07-23T16:57:37.563Z"
   },
   {
    "duration": 4,
    "start_time": "2022-07-23T16:57:37.588Z"
   },
   {
    "duration": 14,
    "start_time": "2022-07-23T16:57:37.593Z"
   },
   {
    "duration": 12,
    "start_time": "2022-07-23T16:57:37.608Z"
   },
   {
    "duration": 222,
    "start_time": "2022-07-23T16:57:37.621Z"
   },
   {
    "duration": 172,
    "start_time": "2022-07-23T16:57:37.844Z"
   },
   {
    "duration": 17,
    "start_time": "2022-07-23T16:57:38.018Z"
   },
   {
    "duration": 402,
    "start_time": "2022-07-23T16:57:38.037Z"
   },
   {
    "duration": 27,
    "start_time": "2022-07-23T16:57:38.441Z"
   },
   {
    "duration": 611,
    "start_time": "2022-07-23T16:57:38.470Z"
   },
   {
    "duration": 18,
    "start_time": "2022-07-23T16:57:39.083Z"
   },
   {
    "duration": 7,
    "start_time": "2022-07-23T16:57:39.102Z"
   },
   {
    "duration": 26,
    "start_time": "2022-07-23T16:57:39.110Z"
   },
   {
    "duration": 49,
    "start_time": "2022-07-23T16:57:39.137Z"
   },
   {
    "duration": 19,
    "start_time": "2022-07-23T16:57:39.187Z"
   },
   {
    "duration": 7,
    "start_time": "2022-07-23T16:57:39.208Z"
   },
   {
    "duration": 24,
    "start_time": "2022-07-23T16:58:25.232Z"
   },
   {
    "duration": 7,
    "start_time": "2022-07-23T16:59:28.633Z"
   },
   {
    "duration": 17,
    "start_time": "2022-07-23T16:59:29.016Z"
   },
   {
    "duration": 216,
    "start_time": "2022-07-23T17:01:50.956Z"
   },
   {
    "duration": 117,
    "start_time": "2022-07-23T17:01:56.448Z"
   },
   {
    "duration": 431,
    "start_time": "2022-07-23T17:02:02.743Z"
   },
   {
    "duration": 386,
    "start_time": "2022-07-23T17:03:43.540Z"
   },
   {
    "duration": 7,
    "start_time": "2022-07-23T17:06:04.382Z"
   },
   {
    "duration": 18,
    "start_time": "2022-07-23T17:06:04.944Z"
   },
   {
    "duration": 71,
    "start_time": "2022-07-23T17:07:13.240Z"
   },
   {
    "duration": 319,
    "start_time": "2022-07-23T17:07:17.861Z"
   },
   {
    "duration": 410,
    "start_time": "2022-07-23T17:07:33.863Z"
   },
   {
    "duration": 330,
    "start_time": "2022-07-23T17:07:41.714Z"
   },
   {
    "duration": 540,
    "start_time": "2022-07-23T17:08:01.375Z"
   },
   {
    "duration": 2,
    "start_time": "2022-07-23T17:08:38.153Z"
   },
   {
    "duration": 20,
    "start_time": "2022-07-23T17:13:21.627Z"
   },
   {
    "duration": 559,
    "start_time": "2022-07-23T17:15:05.449Z"
   },
   {
    "duration": 620,
    "start_time": "2022-07-23T17:15:44.144Z"
   },
   {
    "duration": 502,
    "start_time": "2022-07-23T17:18:27.471Z"
   },
   {
    "duration": 534,
    "start_time": "2022-07-23T17:18:38.630Z"
   },
   {
    "duration": 218,
    "start_time": "2022-07-23T17:18:45.261Z"
   },
   {
    "duration": 663,
    "start_time": "2022-07-23T17:18:51.351Z"
   },
   {
    "duration": 54,
    "start_time": "2022-07-23T17:21:24.312Z"
   },
   {
    "duration": 23,
    "start_time": "2022-07-23T17:21:45.673Z"
   },
   {
    "duration": 25,
    "start_time": "2022-07-23T17:22:14.669Z"
   },
   {
    "duration": 4,
    "start_time": "2022-07-23T17:23:41.449Z"
   },
   {
    "duration": 261,
    "start_time": "2022-07-23T17:23:45.890Z"
   },
   {
    "duration": 184,
    "start_time": "2022-07-23T17:24:18.689Z"
   },
   {
    "duration": 215,
    "start_time": "2022-07-23T17:24:46.345Z"
   },
   {
    "duration": 538,
    "start_time": "2022-07-23T17:31:19.680Z"
   },
   {
    "duration": 21,
    "start_time": "2022-07-23T17:32:41.417Z"
   },
   {
    "duration": 151,
    "start_time": "2022-07-23T17:33:21.607Z"
   },
   {
    "duration": 131,
    "start_time": "2022-07-23T17:33:27.242Z"
   },
   {
    "duration": 2175,
    "start_time": "2022-07-23T17:33:43.996Z"
   },
   {
    "duration": 720,
    "start_time": "2022-07-23T17:45:01.001Z"
   },
   {
    "duration": 47,
    "start_time": "2022-07-23T17:45:53.374Z"
   },
   {
    "duration": 47,
    "start_time": "2022-07-23T17:45:58.407Z"
   },
   {
    "duration": 483,
    "start_time": "2022-07-23T17:46:30.584Z"
   },
   {
    "duration": 468,
    "start_time": "2022-07-23T17:46:59.073Z"
   },
   {
    "duration": 7,
    "start_time": "2022-07-23T17:48:21.742Z"
   },
   {
    "duration": 5,
    "start_time": "2022-07-23T17:48:34.995Z"
   },
   {
    "duration": 5,
    "start_time": "2022-07-23T17:48:41.477Z"
   },
   {
    "duration": 5,
    "start_time": "2022-07-23T17:48:54.086Z"
   },
   {
    "duration": 6,
    "start_time": "2022-07-23T17:49:02.748Z"
   },
   {
    "duration": 7,
    "start_time": "2022-07-23T17:49:17.515Z"
   },
   {
    "duration": 10,
    "start_time": "2022-07-23T17:49:32.964Z"
   },
   {
    "duration": 29,
    "start_time": "2022-07-23T17:51:51.873Z"
   },
   {
    "duration": 9,
    "start_time": "2022-07-23T17:52:24.684Z"
   },
   {
    "duration": 20,
    "start_time": "2022-07-23T17:53:57.384Z"
   },
   {
    "duration": 112,
    "start_time": "2022-07-23T17:54:50.593Z"
   },
   {
    "duration": 18,
    "start_time": "2022-07-23T17:56:30.312Z"
   },
   {
    "duration": 49,
    "start_time": "2022-07-23T17:57:35.613Z"
   },
   {
    "duration": 1338,
    "start_time": "2022-07-23T18:19:28.246Z"
   },
   {
    "duration": 41,
    "start_time": "2022-07-23T18:19:29.586Z"
   },
   {
    "duration": 23,
    "start_time": "2022-07-23T18:19:29.628Z"
   },
   {
    "duration": 4,
    "start_time": "2022-07-23T18:19:29.653Z"
   },
   {
    "duration": 24,
    "start_time": "2022-07-23T18:19:29.659Z"
   },
   {
    "duration": 13,
    "start_time": "2022-07-23T18:19:29.685Z"
   },
   {
    "duration": 236,
    "start_time": "2022-07-23T18:19:29.700Z"
   },
   {
    "duration": 187,
    "start_time": "2022-07-23T18:19:29.937Z"
   },
   {
    "duration": 22,
    "start_time": "2022-07-23T18:19:30.125Z"
   },
   {
    "duration": 394,
    "start_time": "2022-07-23T18:19:30.160Z"
   },
   {
    "duration": 18,
    "start_time": "2022-07-23T18:19:30.556Z"
   },
   {
    "duration": 643,
    "start_time": "2022-07-23T18:19:30.576Z"
   },
   {
    "duration": 18,
    "start_time": "2022-07-23T18:19:31.221Z"
   },
   {
    "duration": 19,
    "start_time": "2022-07-23T18:19:31.242Z"
   },
   {
    "duration": 37,
    "start_time": "2022-07-23T18:19:31.263Z"
   },
   {
    "duration": 345,
    "start_time": "2022-07-23T18:19:31.302Z"
   },
   {
    "duration": 511,
    "start_time": "2022-07-23T18:19:31.649Z"
   },
   {
    "duration": 22,
    "start_time": "2022-07-23T18:19:32.162Z"
   },
   {
    "duration": 507,
    "start_time": "2022-07-23T18:19:32.185Z"
   },
   {
    "duration": 20,
    "start_time": "2022-07-23T18:19:32.694Z"
   },
   {
    "duration": 18,
    "start_time": "2022-07-23T18:19:32.716Z"
   },
   {
    "duration": 44,
    "start_time": "2022-07-23T18:19:32.736Z"
   },
   {
    "duration": 46,
    "start_time": "2022-07-23T18:19:32.781Z"
   },
   {
    "duration": 0,
    "start_time": "2022-07-23T18:19:32.828Z"
   },
   {
    "duration": 4,
    "start_time": "2022-07-23T18:25:05.101Z"
   },
   {
    "duration": 113,
    "start_time": "2022-07-23T18:31:34.007Z"
   },
   {
    "duration": 15,
    "start_time": "2022-07-23T18:31:53.818Z"
   },
   {
    "duration": 15,
    "start_time": "2022-07-23T18:32:04.774Z"
   },
   {
    "duration": 23,
    "start_time": "2022-07-23T18:32:38.614Z"
   },
   {
    "duration": 16,
    "start_time": "2022-07-23T18:32:46.053Z"
   },
   {
    "duration": 126,
    "start_time": "2022-07-23T18:32:55.130Z"
   },
   {
    "duration": 9,
    "start_time": "2022-07-23T18:33:05.398Z"
   },
   {
    "duration": 10,
    "start_time": "2022-07-23T18:40:01.293Z"
   },
   {
    "duration": 4,
    "start_time": "2022-07-23T18:40:03.561Z"
   },
   {
    "duration": 19,
    "start_time": "2022-07-23T18:40:04.170Z"
   },
   {
    "duration": 3,
    "start_time": "2022-07-23T18:41:44.441Z"
   },
   {
    "duration": 4,
    "start_time": "2022-07-23T18:41:51.051Z"
   },
   {
    "duration": 12,
    "start_time": "2022-07-23T18:41:53.039Z"
   },
   {
    "duration": 6,
    "start_time": "2022-07-23T18:42:11.985Z"
   },
   {
    "duration": 5,
    "start_time": "2022-07-23T18:42:17.678Z"
   },
   {
    "duration": 16,
    "start_time": "2022-07-23T18:42:18.252Z"
   },
   {
    "duration": 5,
    "start_time": "2022-07-23T18:42:18.792Z"
   },
   {
    "duration": 15,
    "start_time": "2022-07-23T18:42:26.456Z"
   },
   {
    "duration": 7,
    "start_time": "2022-07-23T18:42:27.162Z"
   },
   {
    "duration": 5,
    "start_time": "2022-07-23T18:42:35.817Z"
   },
   {
    "duration": 15,
    "start_time": "2022-07-23T18:42:36.339Z"
   },
   {
    "duration": 5,
    "start_time": "2022-07-23T18:42:36.899Z"
   },
   {
    "duration": 11,
    "start_time": "2022-07-23T18:59:15.009Z"
   },
   {
    "duration": 1397,
    "start_time": "2022-07-23T18:59:24.285Z"
   },
   {
    "duration": 41,
    "start_time": "2022-07-23T18:59:25.685Z"
   },
   {
    "duration": 25,
    "start_time": "2022-07-23T18:59:25.731Z"
   },
   {
    "duration": 13,
    "start_time": "2022-07-23T18:59:25.761Z"
   },
   {
    "duration": 13,
    "start_time": "2022-07-23T18:59:25.776Z"
   },
   {
    "duration": 214,
    "start_time": "2022-07-23T18:59:25.790Z"
   },
   {
    "duration": 204,
    "start_time": "2022-07-23T18:59:26.005Z"
   },
   {
    "duration": 23,
    "start_time": "2022-07-23T18:59:26.211Z"
   },
   {
    "duration": 473,
    "start_time": "2022-07-23T18:59:26.236Z"
   },
   {
    "duration": 18,
    "start_time": "2022-07-23T18:59:26.711Z"
   },
   {
    "duration": 665,
    "start_time": "2022-07-23T18:59:26.731Z"
   },
   {
    "duration": 21,
    "start_time": "2022-07-23T18:59:27.398Z"
   },
   {
    "duration": 3,
    "start_time": "2022-07-23T18:59:27.422Z"
   },
   {
    "duration": 5,
    "start_time": "2022-07-23T18:59:27.427Z"
   },
   {
    "duration": 333,
    "start_time": "2022-07-23T18:59:27.461Z"
   },
   {
    "duration": 537,
    "start_time": "2022-07-23T18:59:27.795Z"
   },
   {
    "duration": 29,
    "start_time": "2022-07-23T18:59:28.334Z"
   },
   {
    "duration": 557,
    "start_time": "2022-07-23T18:59:28.365Z"
   },
   {
    "duration": 20,
    "start_time": "2022-07-23T18:59:28.925Z"
   },
   {
    "duration": 30,
    "start_time": "2022-07-23T18:59:28.947Z"
   },
   {
    "duration": 21,
    "start_time": "2022-07-23T18:59:28.979Z"
   },
   {
    "duration": 12,
    "start_time": "2022-07-23T18:59:29.002Z"
   },
   {
    "duration": 48,
    "start_time": "2022-07-23T18:59:29.016Z"
   },
   {
    "duration": 114,
    "start_time": "2022-07-23T18:59:29.066Z"
   },
   {
    "duration": 14,
    "start_time": "2022-07-23T18:59:29.182Z"
   },
   {
    "duration": 2,
    "start_time": "2022-07-23T18:59:29.198Z"
   },
   {
    "duration": 17,
    "start_time": "2022-07-23T18:59:56.441Z"
   },
   {
    "duration": 4,
    "start_time": "2022-07-23T19:00:20.364Z"
   },
   {
    "duration": 1369,
    "start_time": "2022-07-23T19:00:29.796Z"
   },
   {
    "duration": 44,
    "start_time": "2022-07-23T19:00:31.167Z"
   },
   {
    "duration": 27,
    "start_time": "2022-07-23T19:00:31.213Z"
   },
   {
    "duration": 12,
    "start_time": "2022-07-23T19:00:31.241Z"
   },
   {
    "duration": 14,
    "start_time": "2022-07-23T19:00:31.262Z"
   },
   {
    "duration": 225,
    "start_time": "2022-07-23T19:00:31.278Z"
   },
   {
    "duration": 192,
    "start_time": "2022-07-23T19:00:31.504Z"
   },
   {
    "duration": 18,
    "start_time": "2022-07-23T19:00:31.698Z"
   },
   {
    "duration": 425,
    "start_time": "2022-07-23T19:00:31.718Z"
   },
   {
    "duration": 28,
    "start_time": "2022-07-23T19:00:32.145Z"
   },
   {
    "duration": 669,
    "start_time": "2022-07-23T19:00:32.175Z"
   },
   {
    "duration": 27,
    "start_time": "2022-07-23T19:00:32.846Z"
   },
   {
    "duration": 2,
    "start_time": "2022-07-23T19:00:32.875Z"
   },
   {
    "duration": 3,
    "start_time": "2022-07-23T19:00:32.882Z"
   },
   {
    "duration": 431,
    "start_time": "2022-07-23T19:00:32.887Z"
   },
   {
    "duration": 553,
    "start_time": "2022-07-23T19:00:33.320Z"
   },
   {
    "duration": 20,
    "start_time": "2022-07-23T19:00:33.875Z"
   },
   {
    "duration": 521,
    "start_time": "2022-07-23T19:00:33.898Z"
   },
   {
    "duration": 17,
    "start_time": "2022-07-23T19:00:34.421Z"
   },
   {
    "duration": 32,
    "start_time": "2022-07-23T19:00:34.440Z"
   },
   {
    "duration": 20,
    "start_time": "2022-07-23T19:00:34.473Z"
   },
   {
    "duration": 28,
    "start_time": "2022-07-23T19:00:34.495Z"
   },
   {
    "duration": 22,
    "start_time": "2022-07-23T19:00:34.525Z"
   },
   {
    "duration": 108,
    "start_time": "2022-07-23T19:00:34.549Z"
   },
   {
    "duration": 60,
    "start_time": "2022-07-23T19:00:34.661Z"
   },
   {
    "duration": 39,
    "start_time": "2022-07-23T19:00:34.723Z"
   },
   {
    "duration": 64,
    "start_time": "2022-07-23T19:00:34.764Z"
   },
   {
    "duration": 16,
    "start_time": "2022-07-23T19:00:59.549Z"
   },
   {
    "duration": 10,
    "start_time": "2022-07-23T19:01:14.219Z"
   },
   {
    "duration": 8,
    "start_time": "2022-07-23T19:02:57.948Z"
   },
   {
    "duration": 4,
    "start_time": "2022-07-23T19:02:58.439Z"
   },
   {
    "duration": 14,
    "start_time": "2022-07-23T19:02:59.004Z"
   },
   {
    "duration": 2,
    "start_time": "2022-07-23T19:03:02.277Z"
   },
   {
    "duration": 20,
    "start_time": "2022-07-23T19:03:02.719Z"
   },
   {
    "duration": 4,
    "start_time": "2022-07-23T19:03:23.926Z"
   },
   {
    "duration": 10,
    "start_time": "2022-07-23T19:03:24.681Z"
   },
   {
    "duration": 3,
    "start_time": "2022-07-23T19:03:24.897Z"
   },
   {
    "duration": 12,
    "start_time": "2022-07-23T19:03:25.127Z"
   },
   {
    "duration": 3,
    "start_time": "2022-07-23T19:03:25.503Z"
   },
   {
    "duration": 15,
    "start_time": "2022-07-23T19:03:26.071Z"
   },
   {
    "duration": 110,
    "start_time": "2022-07-23T19:03:49.410Z"
   },
   {
    "duration": 1385,
    "start_time": "2022-07-23T19:04:06.096Z"
   },
   {
    "duration": 42,
    "start_time": "2022-07-23T19:04:07.483Z"
   },
   {
    "duration": 27,
    "start_time": "2022-07-23T19:04:07.526Z"
   },
   {
    "duration": 16,
    "start_time": "2022-07-23T19:04:07.555Z"
   },
   {
    "duration": 14,
    "start_time": "2022-07-23T19:04:07.573Z"
   },
   {
    "duration": 213,
    "start_time": "2022-07-23T19:04:07.589Z"
   },
   {
    "duration": 218,
    "start_time": "2022-07-23T19:04:07.804Z"
   },
   {
    "duration": 21,
    "start_time": "2022-07-23T19:04:08.023Z"
   },
   {
    "duration": 427,
    "start_time": "2022-07-23T19:04:08.046Z"
   },
   {
    "duration": 18,
    "start_time": "2022-07-23T19:04:08.474Z"
   },
   {
    "duration": 665,
    "start_time": "2022-07-23T19:04:08.493Z"
   },
   {
    "duration": 18,
    "start_time": "2022-07-23T19:04:09.160Z"
   },
   {
    "duration": 2,
    "start_time": "2022-07-23T19:04:09.180Z"
   },
   {
    "duration": 4,
    "start_time": "2022-07-23T19:04:09.185Z"
   },
   {
    "duration": 356,
    "start_time": "2022-07-23T19:04:09.190Z"
   },
   {
    "duration": 506,
    "start_time": "2022-07-23T19:04:09.548Z"
   },
   {
    "duration": 20,
    "start_time": "2022-07-23T19:04:10.061Z"
   },
   {
    "duration": 494,
    "start_time": "2022-07-23T19:04:10.082Z"
   },
   {
    "duration": 17,
    "start_time": "2022-07-23T19:04:10.577Z"
   },
   {
    "duration": 14,
    "start_time": "2022-07-23T19:04:10.596Z"
   },
   {
    "duration": 49,
    "start_time": "2022-07-23T19:04:10.612Z"
   },
   {
    "duration": 13,
    "start_time": "2022-07-23T19:04:10.664Z"
   },
   {
    "duration": 8,
    "start_time": "2022-07-23T19:04:10.678Z"
   },
   {
    "duration": 118,
    "start_time": "2022-07-23T19:04:10.688Z"
   },
   {
    "duration": 14,
    "start_time": "2022-07-23T19:04:10.808Z"
   },
   {
    "duration": 2,
    "start_time": "2022-07-23T19:04:10.824Z"
   },
   {
    "duration": 33,
    "start_time": "2022-07-23T19:04:10.828Z"
   },
   {
    "duration": 9,
    "start_time": "2022-07-23T19:05:02.317Z"
   },
   {
    "duration": 17,
    "start_time": "2022-07-23T19:05:14.675Z"
   },
   {
    "duration": 15,
    "start_time": "2022-07-23T19:05:20.684Z"
   },
   {
    "duration": 11,
    "start_time": "2022-07-23T19:06:00.628Z"
   },
   {
    "duration": 7,
    "start_time": "2022-07-23T19:06:01.223Z"
   },
   {
    "duration": 5,
    "start_time": "2022-07-23T19:06:01.444Z"
   },
   {
    "duration": 11,
    "start_time": "2022-07-23T19:06:02.213Z"
   },
   {
    "duration": 3,
    "start_time": "2022-07-23T19:06:02.684Z"
   },
   {
    "duration": 14,
    "start_time": "2022-07-23T19:06:03.051Z"
   },
   {
    "duration": 12,
    "start_time": "2022-07-23T19:06:26.744Z"
   },
   {
    "duration": 8,
    "start_time": "2022-07-23T19:06:27.226Z"
   },
   {
    "duration": 4,
    "start_time": "2022-07-23T19:06:27.466Z"
   },
   {
    "duration": 11,
    "start_time": "2022-07-23T19:06:28.354Z"
   },
   {
    "duration": 2,
    "start_time": "2022-07-23T19:06:29.144Z"
   },
   {
    "duration": 14,
    "start_time": "2022-07-23T19:06:29.812Z"
   },
   {
    "duration": 27,
    "start_time": "2022-07-23T19:14:54.947Z"
   },
   {
    "duration": 4,
    "start_time": "2022-07-23T19:16:56.334Z"
   },
   {
    "duration": 3,
    "start_time": "2022-07-23T19:18:25.357Z"
   },
   {
    "duration": 4,
    "start_time": "2022-07-23T19:20:42.206Z"
   },
   {
    "duration": 121,
    "start_time": "2022-07-23T19:21:09.932Z"
   },
   {
    "duration": 20,
    "start_time": "2022-07-23T19:21:20.210Z"
   },
   {
    "duration": 18,
    "start_time": "2022-07-23T19:22:51.054Z"
   },
   {
    "duration": 5714,
    "start_time": "2022-07-23T19:23:22.299Z"
   },
   {
    "duration": 17,
    "start_time": "2022-07-23T19:23:38.103Z"
   },
   {
    "duration": 4,
    "start_time": "2022-07-23T19:23:53.172Z"
   },
   {
    "duration": 19,
    "start_time": "2022-07-23T19:25:33.349Z"
   },
   {
    "duration": 21,
    "start_time": "2022-07-23T19:26:01.221Z"
   },
   {
    "duration": 6,
    "start_time": "2022-07-23T19:26:09.232Z"
   },
   {
    "duration": 7,
    "start_time": "2022-07-23T19:26:16.310Z"
   },
   {
    "duration": 18,
    "start_time": "2022-07-23T19:26:17.457Z"
   },
   {
    "duration": 4,
    "start_time": "2022-07-23T19:26:27.092Z"
   },
   {
    "duration": 6,
    "start_time": "2022-07-23T19:27:12.846Z"
   },
   {
    "duration": 20,
    "start_time": "2022-07-23T19:27:13.860Z"
   },
   {
    "duration": 20,
    "start_time": "2022-07-23T19:27:16.133Z"
   },
   {
    "duration": 5,
    "start_time": "2022-07-23T19:27:33.980Z"
   },
   {
    "duration": 4,
    "start_time": "2022-07-23T19:27:40.788Z"
   },
   {
    "duration": 3,
    "start_time": "2022-07-23T19:27:49.548Z"
   },
   {
    "duration": 4,
    "start_time": "2022-07-23T19:27:54.801Z"
   },
   {
    "duration": 1344,
    "start_time": "2022-07-23T19:28:38.605Z"
   },
   {
    "duration": 40,
    "start_time": "2022-07-23T19:28:39.952Z"
   },
   {
    "duration": 24,
    "start_time": "2022-07-23T19:28:39.994Z"
   },
   {
    "duration": 11,
    "start_time": "2022-07-23T19:28:40.020Z"
   },
   {
    "duration": 16,
    "start_time": "2022-07-23T19:28:40.033Z"
   },
   {
    "duration": 200,
    "start_time": "2022-07-23T19:28:40.060Z"
   },
   {
    "duration": 172,
    "start_time": "2022-07-23T19:28:40.262Z"
   },
   {
    "duration": 27,
    "start_time": "2022-07-23T19:28:40.436Z"
   },
   {
    "duration": 467,
    "start_time": "2022-07-23T19:28:40.464Z"
   },
   {
    "duration": 29,
    "start_time": "2022-07-23T19:28:40.932Z"
   },
   {
    "duration": 925,
    "start_time": "2022-07-23T19:28:40.963Z"
   },
   {
    "duration": 19,
    "start_time": "2022-07-23T19:28:41.889Z"
   },
   {
    "duration": 333,
    "start_time": "2022-07-23T19:28:41.910Z"
   },
   {
    "duration": 76,
    "start_time": "2022-07-23T19:28:42.246Z"
   },
   {
    "duration": 322,
    "start_time": "2022-07-23T19:28:42.324Z"
   },
   {
    "duration": 527,
    "start_time": "2022-07-23T19:28:42.648Z"
   },
   {
    "duration": 18,
    "start_time": "2022-07-23T19:28:43.177Z"
   },
   {
    "duration": 612,
    "start_time": "2022-07-23T19:28:43.197Z"
   },
   {
    "duration": 19,
    "start_time": "2022-07-23T19:28:43.811Z"
   },
   {
    "duration": 38,
    "start_time": "2022-07-23T19:28:43.831Z"
   },
   {
    "duration": 27,
    "start_time": "2022-07-23T19:28:43.871Z"
   },
   {
    "duration": 14,
    "start_time": "2022-07-23T19:28:43.900Z"
   },
   {
    "duration": 8,
    "start_time": "2022-07-23T19:28:43.916Z"
   },
   {
    "duration": 35,
    "start_time": "2022-07-23T19:28:43.926Z"
   },
   {
    "duration": 10,
    "start_time": "2022-07-23T19:28:43.962Z"
   },
   {
    "duration": 138,
    "start_time": "2022-07-23T19:28:43.974Z"
   },
   {
    "duration": 1,
    "start_time": "2022-07-23T19:28:44.113Z"
   },
   {
    "duration": 0,
    "start_time": "2022-07-23T19:28:44.115Z"
   },
   {
    "duration": 3,
    "start_time": "2022-07-23T19:29:25.981Z"
   },
   {
    "duration": 21,
    "start_time": "2022-07-23T19:29:27.153Z"
   },
   {
    "duration": 7,
    "start_time": "2022-07-23T19:29:32.716Z"
   },
   {
    "duration": 5,
    "start_time": "2022-07-23T19:29:36.159Z"
   },
   {
    "duration": 3,
    "start_time": "2022-07-23T19:30:01.950Z"
   },
   {
    "duration": 19,
    "start_time": "2022-07-23T19:31:31.171Z"
   },
   {
    "duration": 21,
    "start_time": "2022-07-23T19:31:38.256Z"
   },
   {
    "duration": 18,
    "start_time": "2022-07-23T19:31:42.723Z"
   },
   {
    "duration": 20,
    "start_time": "2022-07-23T19:31:50.365Z"
   },
   {
    "duration": 17,
    "start_time": "2022-07-23T19:32:24.309Z"
   },
   {
    "duration": 19,
    "start_time": "2022-07-23T19:33:23.013Z"
   },
   {
    "duration": 6,
    "start_time": "2022-07-23T19:33:47.317Z"
   },
   {
    "duration": 4,
    "start_time": "2022-07-23T19:33:48.780Z"
   },
   {
    "duration": 11,
    "start_time": "2022-07-23T19:34:12.713Z"
   },
   {
    "duration": 1345,
    "start_time": "2022-07-23T19:35:13.104Z"
   },
   {
    "duration": 42,
    "start_time": "2022-07-23T19:35:14.450Z"
   },
   {
    "duration": 24,
    "start_time": "2022-07-23T19:35:14.493Z"
   },
   {
    "duration": 11,
    "start_time": "2022-07-23T19:35:14.518Z"
   },
   {
    "duration": 12,
    "start_time": "2022-07-23T19:35:14.531Z"
   },
   {
    "duration": 217,
    "start_time": "2022-07-23T19:35:14.545Z"
   },
   {
    "duration": 180,
    "start_time": "2022-07-23T19:35:14.764Z"
   },
   {
    "duration": 23,
    "start_time": "2022-07-23T19:35:14.945Z"
   },
   {
    "duration": 508,
    "start_time": "2022-07-23T19:35:14.969Z"
   },
   {
    "duration": 18,
    "start_time": "2022-07-23T19:35:15.479Z"
   },
   {
    "duration": 584,
    "start_time": "2022-07-23T19:35:15.498Z"
   },
   {
    "duration": 18,
    "start_time": "2022-07-23T19:35:16.084Z"
   },
   {
    "duration": 2,
    "start_time": "2022-07-23T19:35:16.104Z"
   },
   {
    "duration": 4,
    "start_time": "2022-07-23T19:35:16.109Z"
   },
   {
    "duration": 463,
    "start_time": "2022-07-23T19:35:16.114Z"
   },
   {
    "duration": 527,
    "start_time": "2022-07-23T19:35:16.578Z"
   },
   {
    "duration": 19,
    "start_time": "2022-07-23T19:35:17.106Z"
   },
   {
    "duration": 634,
    "start_time": "2022-07-23T19:35:17.126Z"
   },
   {
    "duration": 18,
    "start_time": "2022-07-23T19:35:17.762Z"
   },
   {
    "duration": 16,
    "start_time": "2022-07-23T19:35:17.782Z"
   },
   {
    "duration": 21,
    "start_time": "2022-07-23T19:35:17.800Z"
   },
   {
    "duration": 38,
    "start_time": "2022-07-23T19:35:17.823Z"
   },
   {
    "duration": 7,
    "start_time": "2022-07-23T19:35:17.863Z"
   },
   {
    "duration": 5,
    "start_time": "2022-07-23T19:35:17.872Z"
   },
   {
    "duration": 21,
    "start_time": "2022-07-23T19:35:17.878Z"
   },
   {
    "duration": 126,
    "start_time": "2022-07-23T19:35:17.900Z"
   },
   {
    "duration": 0,
    "start_time": "2022-07-23T19:35:18.028Z"
   },
   {
    "duration": 0,
    "start_time": "2022-07-23T19:35:18.029Z"
   },
   {
    "duration": 0,
    "start_time": "2022-07-23T19:35:18.031Z"
   },
   {
    "duration": 0,
    "start_time": "2022-07-23T19:35:18.031Z"
   },
   {
    "duration": 1,
    "start_time": "2022-07-23T19:35:18.032Z"
   },
   {
    "duration": 18,
    "start_time": "2022-07-23T19:36:09.611Z"
   },
   {
    "duration": 4,
    "start_time": "2022-07-23T19:36:13.950Z"
   },
   {
    "duration": 3,
    "start_time": "2022-07-23T19:36:15.052Z"
   },
   {
    "duration": 17,
    "start_time": "2022-07-23T19:36:21.051Z"
   },
   {
    "duration": 1374,
    "start_time": "2022-07-23T19:36:34.371Z"
   },
   {
    "duration": 41,
    "start_time": "2022-07-23T19:36:35.747Z"
   },
   {
    "duration": 23,
    "start_time": "2022-07-23T19:36:35.789Z"
   },
   {
    "duration": 19,
    "start_time": "2022-07-23T19:36:35.814Z"
   },
   {
    "duration": 14,
    "start_time": "2022-07-23T19:36:35.836Z"
   },
   {
    "duration": 202,
    "start_time": "2022-07-23T19:36:35.852Z"
   },
   {
    "duration": 189,
    "start_time": "2022-07-23T19:36:36.056Z"
   },
   {
    "duration": 29,
    "start_time": "2022-07-23T19:36:36.247Z"
   },
   {
    "duration": 529,
    "start_time": "2022-07-23T19:36:36.279Z"
   },
   {
    "duration": 17,
    "start_time": "2022-07-23T19:36:36.810Z"
   },
   {
    "duration": 542,
    "start_time": "2022-07-23T19:36:36.828Z"
   },
   {
    "duration": 19,
    "start_time": "2022-07-23T19:36:37.372Z"
   },
   {
    "duration": 2,
    "start_time": "2022-07-23T19:36:37.393Z"
   },
   {
    "duration": 10,
    "start_time": "2022-07-23T19:36:37.398Z"
   },
   {
    "duration": 339,
    "start_time": "2022-07-23T19:36:37.410Z"
   },
   {
    "duration": 502,
    "start_time": "2022-07-23T19:36:37.751Z"
   },
   {
    "duration": 19,
    "start_time": "2022-07-23T19:36:38.255Z"
   },
   {
    "duration": 585,
    "start_time": "2022-07-23T19:36:38.276Z"
   },
   {
    "duration": 18,
    "start_time": "2022-07-23T19:36:38.863Z"
   },
   {
    "duration": 17,
    "start_time": "2022-07-23T19:36:38.883Z"
   },
   {
    "duration": 23,
    "start_time": "2022-07-23T19:36:38.902Z"
   },
   {
    "duration": 42,
    "start_time": "2022-07-23T19:36:38.927Z"
   },
   {
    "duration": 13,
    "start_time": "2022-07-23T19:36:38.972Z"
   },
   {
    "duration": 10,
    "start_time": "2022-07-23T19:36:38.986Z"
   },
   {
    "duration": 14,
    "start_time": "2022-07-23T19:36:38.998Z"
   },
   {
    "duration": 122,
    "start_time": "2022-07-23T19:36:39.014Z"
   },
   {
    "duration": 0,
    "start_time": "2022-07-23T19:36:39.138Z"
   },
   {
    "duration": 0,
    "start_time": "2022-07-23T19:36:39.139Z"
   },
   {
    "duration": 0,
    "start_time": "2022-07-23T19:36:39.140Z"
   },
   {
    "duration": 0,
    "start_time": "2022-07-23T19:36:39.141Z"
   },
   {
    "duration": 0,
    "start_time": "2022-07-23T19:36:39.142Z"
   },
   {
    "duration": 18,
    "start_time": "2022-07-23T19:39:02.025Z"
   },
   {
    "duration": 11,
    "start_time": "2022-07-23T19:39:50.695Z"
   },
   {
    "duration": 4,
    "start_time": "2022-07-23T19:39:52.962Z"
   },
   {
    "duration": 28,
    "start_time": "2022-07-23T19:42:09.657Z"
   },
   {
    "duration": 20,
    "start_time": "2022-07-23T19:42:24.701Z"
   },
   {
    "duration": 9,
    "start_time": "2022-07-23T19:43:44.128Z"
   },
   {
    "duration": 6,
    "start_time": "2022-07-23T19:44:07.419Z"
   },
   {
    "duration": 20,
    "start_time": "2022-07-23T19:44:27.980Z"
   },
   {
    "duration": 21,
    "start_time": "2022-07-23T19:44:40.149Z"
   },
   {
    "duration": 5,
    "start_time": "2022-07-23T19:44:42.985Z"
   },
   {
    "duration": 10,
    "start_time": "2022-07-23T19:44:45.178Z"
   },
   {
    "duration": 9,
    "start_time": "2022-07-23T19:44:55.426Z"
   },
   {
    "duration": 52,
    "start_time": "2022-07-23T19:44:58.734Z"
   },
   {
    "duration": 12,
    "start_time": "2022-07-23T19:45:02.455Z"
   },
   {
    "duration": 1408,
    "start_time": "2022-07-23T19:45:33.432Z"
   },
   {
    "duration": 41,
    "start_time": "2022-07-23T19:45:34.842Z"
   },
   {
    "duration": 22,
    "start_time": "2022-07-23T19:45:34.885Z"
   },
   {
    "duration": 12,
    "start_time": "2022-07-23T19:45:34.908Z"
   },
   {
    "duration": 11,
    "start_time": "2022-07-23T19:45:34.922Z"
   },
   {
    "duration": 208,
    "start_time": "2022-07-23T19:45:34.935Z"
   },
   {
    "duration": 195,
    "start_time": "2022-07-23T19:45:35.145Z"
   },
   {
    "duration": 27,
    "start_time": "2022-07-23T19:45:35.342Z"
   },
   {
    "duration": 452,
    "start_time": "2022-07-23T19:45:35.370Z"
   },
   {
    "duration": 19,
    "start_time": "2022-07-23T19:45:35.824Z"
   },
   {
    "duration": 621,
    "start_time": "2022-07-23T19:45:35.860Z"
   },
   {
    "duration": 21,
    "start_time": "2022-07-23T19:45:36.483Z"
   },
   {
    "duration": 7,
    "start_time": "2022-07-23T19:45:36.506Z"
   },
   {
    "duration": 3,
    "start_time": "2022-07-23T19:45:36.516Z"
   },
   {
    "duration": 360,
    "start_time": "2022-07-23T19:45:36.521Z"
   },
   {
    "duration": 524,
    "start_time": "2022-07-23T19:45:36.883Z"
   },
   {
    "duration": 18,
    "start_time": "2022-07-23T19:45:37.408Z"
   },
   {
    "duration": 580,
    "start_time": "2022-07-23T19:45:37.428Z"
   },
   {
    "duration": 16,
    "start_time": "2022-07-23T19:45:38.010Z"
   },
   {
    "duration": 33,
    "start_time": "2022-07-23T19:45:38.028Z"
   },
   {
    "duration": 20,
    "start_time": "2022-07-23T19:45:38.063Z"
   },
   {
    "duration": 25,
    "start_time": "2022-07-23T19:45:38.085Z"
   },
   {
    "duration": 20,
    "start_time": "2022-07-23T19:45:38.111Z"
   },
   {
    "duration": 8,
    "start_time": "2022-07-23T19:45:38.133Z"
   },
   {
    "duration": 36,
    "start_time": "2022-07-23T19:45:38.142Z"
   },
   {
    "duration": 124,
    "start_time": "2022-07-23T19:45:38.180Z"
   },
   {
    "duration": 19,
    "start_time": "2022-07-23T19:45:47.694Z"
   },
   {
    "duration": 25,
    "start_time": "2022-07-23T19:45:56.453Z"
   },
   {
    "duration": 14,
    "start_time": "2022-07-23T19:47:42.581Z"
   },
   {
    "duration": 13,
    "start_time": "2022-07-23T19:48:02.594Z"
   },
   {
    "duration": 14,
    "start_time": "2022-07-23T19:48:14.163Z"
   },
   {
    "duration": 13,
    "start_time": "2022-07-23T19:48:25.953Z"
   },
   {
    "duration": 18,
    "start_time": "2022-07-23T19:48:54.003Z"
   },
   {
    "duration": 20,
    "start_time": "2022-07-23T19:49:08.614Z"
   },
   {
    "duration": 18,
    "start_time": "2022-07-23T19:49:13.297Z"
   },
   {
    "duration": 12,
    "start_time": "2022-07-23T19:49:22.092Z"
   },
   {
    "duration": 12,
    "start_time": "2022-07-23T19:50:01.498Z"
   },
   {
    "duration": 20,
    "start_time": "2022-07-23T19:50:10.112Z"
   },
   {
    "duration": 18,
    "start_time": "2022-07-23T19:50:32.782Z"
   },
   {
    "duration": 17,
    "start_time": "2022-07-23T19:52:00.526Z"
   },
   {
    "duration": 1198,
    "start_time": "2022-07-23T19:52:03.830Z"
   },
   {
    "duration": 1171,
    "start_time": "2022-07-23T19:52:06.727Z"
   },
   {
    "duration": 2325,
    "start_time": "2022-07-23T19:52:35.380Z"
   },
   {
    "duration": 2228,
    "start_time": "2022-07-23T19:52:47.839Z"
   },
   {
    "duration": 2276,
    "start_time": "2022-07-23T19:53:56.417Z"
   },
   {
    "duration": 2397,
    "start_time": "2022-07-23T19:55:05.892Z"
   },
   {
    "duration": 2287,
    "start_time": "2022-07-23T19:55:17.496Z"
   },
   {
    "duration": 2234,
    "start_time": "2022-07-23T19:55:48.733Z"
   },
   {
    "duration": 4,
    "start_time": "2022-07-23T19:58:16.776Z"
   },
   {
    "duration": 2187,
    "start_time": "2022-07-23T19:58:50.163Z"
   },
   {
    "duration": 2316,
    "start_time": "2022-07-23T19:59:08.960Z"
   },
   {
    "duration": 2203,
    "start_time": "2022-07-23T19:59:32.271Z"
   },
   {
    "duration": 12,
    "start_time": "2022-07-23T20:00:16.050Z"
   },
   {
    "duration": 12,
    "start_time": "2022-07-23T20:00:27.568Z"
   },
   {
    "duration": 15,
    "start_time": "2022-07-23T20:00:35.511Z"
   },
   {
    "duration": 30,
    "start_time": "2022-07-23T20:01:02.896Z"
   },
   {
    "duration": 5,
    "start_time": "2022-07-23T20:01:54.033Z"
   },
   {
    "duration": 6,
    "start_time": "2022-07-23T20:02:04.638Z"
   },
   {
    "duration": 21,
    "start_time": "2022-07-23T20:02:19.888Z"
   },
   {
    "duration": 14,
    "start_time": "2022-07-23T20:02:35.729Z"
   },
   {
    "duration": 14,
    "start_time": "2022-07-23T20:02:49.903Z"
   },
   {
    "duration": 12,
    "start_time": "2022-07-23T20:03:31.430Z"
   },
   {
    "duration": 15,
    "start_time": "2022-07-23T20:04:21.804Z"
   },
   {
    "duration": 15,
    "start_time": "2022-07-23T20:04:24.931Z"
   },
   {
    "duration": 13,
    "start_time": "2022-07-23T20:04:41.971Z"
   },
   {
    "duration": 22,
    "start_time": "2022-07-23T20:06:19.430Z"
   },
   {
    "duration": 24,
    "start_time": "2022-07-23T20:06:30.759Z"
   },
   {
    "duration": 21,
    "start_time": "2022-07-23T20:07:04.832Z"
   },
   {
    "duration": 16,
    "start_time": "2022-07-23T20:07:15.500Z"
   },
   {
    "duration": 14,
    "start_time": "2022-07-23T20:08:40.274Z"
   },
   {
    "duration": 15,
    "start_time": "2022-07-23T20:08:48.994Z"
   },
   {
    "duration": 26,
    "start_time": "2022-07-23T20:09:56.338Z"
   },
   {
    "duration": 24,
    "start_time": "2022-07-23T20:10:25.509Z"
   },
   {
    "duration": 23,
    "start_time": "2022-07-23T20:10:26.409Z"
   },
   {
    "duration": 18,
    "start_time": "2022-07-23T20:11:02.623Z"
   },
   {
    "duration": 20,
    "start_time": "2022-07-23T20:11:12.068Z"
   },
   {
    "duration": 18,
    "start_time": "2022-07-23T20:11:19.531Z"
   },
   {
    "duration": 1285,
    "start_time": "2022-07-23T20:11:33.600Z"
   },
   {
    "duration": 40,
    "start_time": "2022-07-23T20:11:34.888Z"
   },
   {
    "duration": 21,
    "start_time": "2022-07-23T20:11:34.930Z"
   },
   {
    "duration": 10,
    "start_time": "2022-07-23T20:11:34.953Z"
   },
   {
    "duration": 12,
    "start_time": "2022-07-23T20:11:34.964Z"
   },
   {
    "duration": 196,
    "start_time": "2022-07-23T20:11:34.978Z"
   },
   {
    "duration": 191,
    "start_time": "2022-07-23T20:11:35.176Z"
   },
   {
    "duration": 18,
    "start_time": "2022-07-23T20:11:35.369Z"
   },
   {
    "duration": 476,
    "start_time": "2022-07-23T20:11:35.388Z"
   },
   {
    "duration": 17,
    "start_time": "2022-07-23T20:11:35.867Z"
   },
   {
    "duration": 619,
    "start_time": "2022-07-23T20:11:35.886Z"
   },
   {
    "duration": 19,
    "start_time": "2022-07-23T20:11:36.506Z"
   },
   {
    "duration": 2,
    "start_time": "2022-07-23T20:11:36.526Z"
   },
   {
    "duration": 8,
    "start_time": "2022-07-23T20:11:36.530Z"
   },
   {
    "duration": 357,
    "start_time": "2022-07-23T20:11:36.539Z"
   },
   {
    "duration": 498,
    "start_time": "2022-07-23T20:11:36.897Z"
   },
   {
    "duration": 19,
    "start_time": "2022-07-23T20:11:37.396Z"
   },
   {
    "duration": 580,
    "start_time": "2022-07-23T20:11:37.417Z"
   },
   {
    "duration": 17,
    "start_time": "2022-07-23T20:11:37.998Z"
   },
   {
    "duration": 16,
    "start_time": "2022-07-23T20:11:38.017Z"
   },
   {
    "duration": 40,
    "start_time": "2022-07-23T20:11:38.034Z"
   },
   {
    "duration": 10,
    "start_time": "2022-07-23T20:11:38.076Z"
   },
   {
    "duration": 6,
    "start_time": "2022-07-23T20:11:38.088Z"
   },
   {
    "duration": 4,
    "start_time": "2022-07-23T20:11:38.095Z"
   },
   {
    "duration": 11,
    "start_time": "2022-07-23T20:11:38.101Z"
   },
   {
    "duration": 146,
    "start_time": "2022-07-23T20:11:38.114Z"
   },
   {
    "duration": 0,
    "start_time": "2022-07-23T20:11:38.262Z"
   },
   {
    "duration": 0,
    "start_time": "2022-07-23T20:11:38.262Z"
   },
   {
    "duration": 0,
    "start_time": "2022-07-23T20:11:38.263Z"
   },
   {
    "duration": 18,
    "start_time": "2022-07-23T20:11:45.544Z"
   },
   {
    "duration": 2,
    "start_time": "2022-07-23T20:11:50.614Z"
   },
   {
    "duration": 13,
    "start_time": "2022-07-23T20:11:57.233Z"
   },
   {
    "duration": 13,
    "start_time": "2022-07-23T20:12:03.236Z"
   },
   {
    "duration": 19,
    "start_time": "2022-07-23T20:12:06.828Z"
   },
   {
    "duration": 12,
    "start_time": "2022-07-23T20:12:23.066Z"
   },
   {
    "duration": 13,
    "start_time": "2022-07-23T20:12:28.332Z"
   },
   {
    "duration": 28,
    "start_time": "2022-07-23T20:12:42.190Z"
   },
   {
    "duration": 5,
    "start_time": "2022-07-23T20:12:47.485Z"
   },
   {
    "duration": 11,
    "start_time": "2022-07-23T20:12:59.063Z"
   },
   {
    "duration": 20,
    "start_time": "2022-07-23T20:13:07.364Z"
   },
   {
    "duration": 20,
    "start_time": "2022-07-23T20:13:13.223Z"
   },
   {
    "duration": 20,
    "start_time": "2022-07-23T20:13:14.353Z"
   },
   {
    "duration": 19,
    "start_time": "2022-07-23T20:13:28.053Z"
   },
   {
    "duration": 18,
    "start_time": "2022-07-23T20:13:57.652Z"
   },
   {
    "duration": 19,
    "start_time": "2022-07-23T20:14:13.755Z"
   },
   {
    "duration": 1315,
    "start_time": "2022-07-23T20:14:20.727Z"
   },
   {
    "duration": 45,
    "start_time": "2022-07-23T20:14:22.044Z"
   },
   {
    "duration": 22,
    "start_time": "2022-07-23T20:14:22.091Z"
   },
   {
    "duration": 12,
    "start_time": "2022-07-23T20:14:22.115Z"
   },
   {
    "duration": 11,
    "start_time": "2022-07-23T20:14:22.128Z"
   },
   {
    "duration": 201,
    "start_time": "2022-07-23T20:14:22.161Z"
   },
   {
    "duration": 183,
    "start_time": "2022-07-23T20:14:22.364Z"
   },
   {
    "duration": 27,
    "start_time": "2022-07-23T20:14:22.549Z"
   },
   {
    "duration": 495,
    "start_time": "2022-07-23T20:14:22.578Z"
   },
   {
    "duration": 18,
    "start_time": "2022-07-23T20:14:23.075Z"
   },
   {
    "duration": 585,
    "start_time": "2022-07-23T20:14:23.095Z"
   },
   {
    "duration": 20,
    "start_time": "2022-07-23T20:14:23.682Z"
   },
   {
    "duration": 2,
    "start_time": "2022-07-23T20:14:23.704Z"
   },
   {
    "duration": 26,
    "start_time": "2022-07-23T20:14:23.708Z"
   },
   {
    "duration": 350,
    "start_time": "2022-07-23T20:14:23.739Z"
   },
   {
    "duration": 515,
    "start_time": "2022-07-23T20:14:24.091Z"
   },
   {
    "duration": 20,
    "start_time": "2022-07-23T20:14:24.607Z"
   },
   {
    "duration": 623,
    "start_time": "2022-07-23T20:14:24.628Z"
   },
   {
    "duration": 21,
    "start_time": "2022-07-23T20:14:25.254Z"
   },
   {
    "duration": 25,
    "start_time": "2022-07-23T20:14:25.277Z"
   },
   {
    "duration": 22,
    "start_time": "2022-07-23T20:14:25.304Z"
   },
   {
    "duration": 33,
    "start_time": "2022-07-23T20:14:25.328Z"
   },
   {
    "duration": 6,
    "start_time": "2022-07-23T20:14:25.363Z"
   },
   {
    "duration": 5,
    "start_time": "2022-07-23T20:14:25.371Z"
   },
   {
    "duration": 16,
    "start_time": "2022-07-23T20:14:25.378Z"
   },
   {
    "duration": 152,
    "start_time": "2022-07-23T20:14:25.396Z"
   },
   {
    "duration": 0,
    "start_time": "2022-07-23T20:14:25.549Z"
   },
   {
    "duration": 0,
    "start_time": "2022-07-23T20:14:25.551Z"
   },
   {
    "duration": 0,
    "start_time": "2022-07-23T20:14:25.552Z"
   },
   {
    "duration": 0,
    "start_time": "2022-07-23T20:14:25.553Z"
   },
   {
    "duration": 25,
    "start_time": "2022-07-23T20:14:46.465Z"
   },
   {
    "duration": 21,
    "start_time": "2022-07-23T20:14:57.183Z"
   },
   {
    "duration": 4,
    "start_time": "2022-07-23T20:17:19.927Z"
   },
   {
    "duration": 3,
    "start_time": "2022-07-23T20:17:26.630Z"
   },
   {
    "duration": 4,
    "start_time": "2022-07-23T20:17:34.160Z"
   },
   {
    "duration": 26,
    "start_time": "2022-07-23T20:18:25.797Z"
   },
   {
    "duration": 21,
    "start_time": "2022-07-23T20:18:54.760Z"
   },
   {
    "duration": 18,
    "start_time": "2022-07-23T20:19:01.860Z"
   },
   {
    "duration": 23,
    "start_time": "2022-07-23T20:19:06.697Z"
   },
   {
    "duration": 18,
    "start_time": "2022-07-23T20:19:16.314Z"
   },
   {
    "duration": 21,
    "start_time": "2022-07-23T20:19:29.707Z"
   },
   {
    "duration": 19,
    "start_time": "2022-07-23T20:19:38.382Z"
   },
   {
    "duration": 18,
    "start_time": "2022-07-23T20:19:39.443Z"
   },
   {
    "duration": 49,
    "start_time": "2022-07-23T20:19:42.327Z"
   },
   {
    "duration": 24,
    "start_time": "2022-07-23T20:20:04.143Z"
   },
   {
    "duration": 25,
    "start_time": "2022-07-23T20:20:15.912Z"
   },
   {
    "duration": 24,
    "start_time": "2022-07-23T20:20:19.036Z"
   },
   {
    "duration": 22,
    "start_time": "2022-07-23T20:20:27.518Z"
   },
   {
    "duration": 20,
    "start_time": "2022-07-23T20:20:34.444Z"
   },
   {
    "duration": 26,
    "start_time": "2022-07-23T20:20:36.178Z"
   },
   {
    "duration": 22,
    "start_time": "2022-07-23T20:20:36.643Z"
   },
   {
    "duration": 24,
    "start_time": "2022-07-23T20:20:37.196Z"
   },
   {
    "duration": 22,
    "start_time": "2022-07-23T20:20:37.742Z"
   },
   {
    "duration": 19,
    "start_time": "2022-07-23T20:20:48.027Z"
   },
   {
    "duration": 1350,
    "start_time": "2022-07-23T20:20:56.100Z"
   },
   {
    "duration": 40,
    "start_time": "2022-07-23T20:20:57.452Z"
   },
   {
    "duration": 22,
    "start_time": "2022-07-23T20:20:57.494Z"
   },
   {
    "duration": 11,
    "start_time": "2022-07-23T20:20:57.518Z"
   },
   {
    "duration": 12,
    "start_time": "2022-07-23T20:20:57.530Z"
   },
   {
    "duration": 207,
    "start_time": "2022-07-23T20:20:57.544Z"
   },
   {
    "duration": 173,
    "start_time": "2022-07-23T20:20:57.752Z"
   },
   {
    "duration": 35,
    "start_time": "2022-07-23T20:20:57.926Z"
   },
   {
    "duration": 484,
    "start_time": "2022-07-23T20:20:57.963Z"
   },
   {
    "duration": 27,
    "start_time": "2022-07-23T20:20:58.449Z"
   },
   {
    "duration": 569,
    "start_time": "2022-07-23T20:20:58.478Z"
   },
   {
    "duration": 20,
    "start_time": "2022-07-23T20:20:59.049Z"
   },
   {
    "duration": 3,
    "start_time": "2022-07-23T20:20:59.070Z"
   },
   {
    "duration": 16,
    "start_time": "2022-07-23T20:20:59.076Z"
   },
   {
    "duration": 359,
    "start_time": "2022-07-23T20:20:59.094Z"
   },
   {
    "duration": 508,
    "start_time": "2022-07-23T20:20:59.455Z"
   },
   {
    "duration": 18,
    "start_time": "2022-07-23T20:20:59.965Z"
   },
   {
    "duration": 594,
    "start_time": "2022-07-23T20:20:59.985Z"
   },
   {
    "duration": 16,
    "start_time": "2022-07-23T20:21:00.581Z"
   },
   {
    "duration": 31,
    "start_time": "2022-07-23T20:21:00.599Z"
   },
   {
    "duration": 31,
    "start_time": "2022-07-23T20:21:00.632Z"
   },
   {
    "duration": 28,
    "start_time": "2022-07-23T20:21:00.664Z"
   },
   {
    "duration": 23,
    "start_time": "2022-07-23T20:21:00.695Z"
   },
   {
    "duration": 23,
    "start_time": "2022-07-23T20:21:00.720Z"
   },
   {
    "duration": 17,
    "start_time": "2022-07-23T20:21:00.745Z"
   },
   {
    "duration": 115,
    "start_time": "2022-07-23T20:21:00.764Z"
   },
   {
    "duration": 0,
    "start_time": "2022-07-23T20:21:00.881Z"
   },
   {
    "duration": 0,
    "start_time": "2022-07-23T20:21:00.883Z"
   },
   {
    "duration": 0,
    "start_time": "2022-07-23T20:21:00.884Z"
   },
   {
    "duration": 0,
    "start_time": "2022-07-23T20:21:00.885Z"
   },
   {
    "duration": 0,
    "start_time": "2022-07-23T20:21:00.886Z"
   },
   {
    "duration": 19,
    "start_time": "2022-07-23T20:21:04.805Z"
   },
   {
    "duration": 1349,
    "start_time": "2022-07-23T20:21:14.588Z"
   },
   {
    "duration": 40,
    "start_time": "2022-07-23T20:21:15.939Z"
   },
   {
    "duration": 22,
    "start_time": "2022-07-23T20:21:15.981Z"
   },
   {
    "duration": 11,
    "start_time": "2022-07-23T20:21:16.005Z"
   },
   {
    "duration": 11,
    "start_time": "2022-07-23T20:21:16.018Z"
   },
   {
    "duration": 226,
    "start_time": "2022-07-23T20:21:16.031Z"
   },
   {
    "duration": 246,
    "start_time": "2022-07-23T20:21:16.260Z"
   },
   {
    "duration": 20,
    "start_time": "2022-07-23T20:21:16.508Z"
   },
   {
    "duration": 500,
    "start_time": "2022-07-23T20:21:16.529Z"
   },
   {
    "duration": 30,
    "start_time": "2022-07-23T20:21:17.031Z"
   },
   {
    "duration": 596,
    "start_time": "2022-07-23T20:21:17.063Z"
   },
   {
    "duration": 20,
    "start_time": "2022-07-23T20:21:17.660Z"
   },
   {
    "duration": 3,
    "start_time": "2022-07-23T20:21:17.682Z"
   },
   {
    "duration": 18,
    "start_time": "2022-07-23T20:21:17.687Z"
   },
   {
    "duration": 393,
    "start_time": "2022-07-23T20:21:17.707Z"
   },
   {
    "duration": 550,
    "start_time": "2022-07-23T20:21:18.102Z"
   },
   {
    "duration": 27,
    "start_time": "2022-07-23T20:21:18.654Z"
   },
   {
    "duration": 651,
    "start_time": "2022-07-23T20:21:18.683Z"
   },
   {
    "duration": 33,
    "start_time": "2022-07-23T20:21:19.336Z"
   },
   {
    "duration": 20,
    "start_time": "2022-07-23T20:21:19.371Z"
   },
   {
    "duration": 21,
    "start_time": "2022-07-23T20:21:19.393Z"
   },
   {
    "duration": 48,
    "start_time": "2022-07-23T20:21:19.417Z"
   },
   {
    "duration": 9,
    "start_time": "2022-07-23T20:21:19.467Z"
   },
   {
    "duration": 12,
    "start_time": "2022-07-23T20:21:19.478Z"
   },
   {
    "duration": 21,
    "start_time": "2022-07-23T20:21:19.491Z"
   },
   {
    "duration": 4,
    "start_time": "2022-07-23T20:21:19.513Z"
   },
   {
    "duration": 60,
    "start_time": "2022-07-23T20:21:19.520Z"
   },
   {
    "duration": 0,
    "start_time": "2022-07-23T20:21:19.582Z"
   },
   {
    "duration": 0,
    "start_time": "2022-07-23T20:21:19.584Z"
   },
   {
    "duration": 0,
    "start_time": "2022-07-23T20:21:19.585Z"
   },
   {
    "duration": 0,
    "start_time": "2022-07-23T20:21:19.587Z"
   },
   {
    "duration": 16,
    "start_time": "2022-07-23T20:21:24.742Z"
   },
   {
    "duration": 15,
    "start_time": "2022-07-23T20:21:27.550Z"
   },
   {
    "duration": 21,
    "start_time": "2022-07-23T20:22:17.696Z"
   },
   {
    "duration": 120,
    "start_time": "2022-07-23T20:22:30.661Z"
   },
   {
    "duration": 24,
    "start_time": "2022-07-23T20:22:39.796Z"
   },
   {
    "duration": 1430,
    "start_time": "2022-07-23T20:23:05.489Z"
   },
   {
    "duration": 42,
    "start_time": "2022-07-23T20:23:06.921Z"
   },
   {
    "duration": 23,
    "start_time": "2022-07-23T20:23:06.965Z"
   },
   {
    "duration": 12,
    "start_time": "2022-07-23T20:23:06.989Z"
   },
   {
    "duration": 11,
    "start_time": "2022-07-23T20:23:07.003Z"
   },
   {
    "duration": 234,
    "start_time": "2022-07-23T20:23:07.015Z"
   },
   {
    "duration": 177,
    "start_time": "2022-07-23T20:23:07.250Z"
   },
   {
    "duration": 32,
    "start_time": "2022-07-23T20:23:07.429Z"
   },
   {
    "duration": 461,
    "start_time": "2022-07-23T20:23:07.463Z"
   },
   {
    "duration": 19,
    "start_time": "2022-07-23T20:23:07.925Z"
   },
   {
    "duration": 562,
    "start_time": "2022-07-23T20:23:07.945Z"
   },
   {
    "duration": 20,
    "start_time": "2022-07-23T20:23:08.509Z"
   },
   {
    "duration": 2,
    "start_time": "2022-07-23T20:23:08.531Z"
   },
   {
    "duration": 24,
    "start_time": "2022-07-23T20:23:08.537Z"
   },
   {
    "duration": 373,
    "start_time": "2022-07-23T20:23:08.563Z"
   },
   {
    "duration": 530,
    "start_time": "2022-07-23T20:23:08.938Z"
   },
   {
    "duration": 21,
    "start_time": "2022-07-23T20:23:09.470Z"
   },
   {
    "duration": 612,
    "start_time": "2022-07-23T20:23:09.492Z"
   },
   {
    "duration": 18,
    "start_time": "2022-07-23T20:23:10.105Z"
   },
   {
    "duration": 37,
    "start_time": "2022-07-23T20:23:10.124Z"
   },
   {
    "duration": 21,
    "start_time": "2022-07-23T20:23:10.162Z"
   },
   {
    "duration": 11,
    "start_time": "2022-07-23T20:23:10.184Z"
   },
   {
    "duration": 7,
    "start_time": "2022-07-23T20:23:10.196Z"
   },
   {
    "duration": 6,
    "start_time": "2022-07-23T20:23:10.204Z"
   },
   {
    "duration": 49,
    "start_time": "2022-07-23T20:23:10.212Z"
   },
   {
    "duration": 19,
    "start_time": "2022-07-23T20:23:10.262Z"
   },
   {
    "duration": 13,
    "start_time": "2022-07-23T20:23:10.283Z"
   },
   {
    "duration": 19,
    "start_time": "2022-07-23T20:23:10.298Z"
   },
   {
    "duration": 50,
    "start_time": "2022-07-23T20:23:10.319Z"
   },
   {
    "duration": 4257,
    "start_time": "2022-07-23T20:23:53.142Z"
   },
   {
    "duration": 21,
    "start_time": "2022-07-23T20:25:04.642Z"
   },
   {
    "duration": 5,
    "start_time": "2022-07-23T20:27:13.500Z"
   },
   {
    "duration": 19,
    "start_time": "2022-07-23T20:27:30.041Z"
   },
   {
    "duration": 19,
    "start_time": "2022-07-23T20:27:54.940Z"
   },
   {
    "duration": 20,
    "start_time": "2022-07-23T20:27:57.064Z"
   },
   {
    "duration": 20,
    "start_time": "2022-07-23T20:28:16.561Z"
   },
   {
    "duration": 1319,
    "start_time": "2022-07-23T20:28:28.600Z"
   },
   {
    "duration": 42,
    "start_time": "2022-07-23T20:28:29.921Z"
   },
   {
    "duration": 21,
    "start_time": "2022-07-23T20:28:29.965Z"
   },
   {
    "duration": 11,
    "start_time": "2022-07-23T20:28:29.988Z"
   },
   {
    "duration": 12,
    "start_time": "2022-07-23T20:28:30.001Z"
   },
   {
    "duration": 217,
    "start_time": "2022-07-23T20:28:30.015Z"
   },
   {
    "duration": 167,
    "start_time": "2022-07-23T20:28:30.234Z"
   },
   {
    "duration": 17,
    "start_time": "2022-07-23T20:28:30.403Z"
   },
   {
    "duration": 498,
    "start_time": "2022-07-23T20:28:30.422Z"
   },
   {
    "duration": 20,
    "start_time": "2022-07-23T20:28:30.922Z"
   },
   {
    "duration": 554,
    "start_time": "2022-07-23T20:28:30.943Z"
   },
   {
    "duration": 20,
    "start_time": "2022-07-23T20:28:31.498Z"
   },
   {
    "duration": 13,
    "start_time": "2022-07-23T20:28:31.519Z"
   },
   {
    "duration": 11,
    "start_time": "2022-07-23T20:28:31.534Z"
   },
   {
    "duration": 345,
    "start_time": "2022-07-23T20:28:31.546Z"
   },
   {
    "duration": 499,
    "start_time": "2022-07-23T20:28:31.892Z"
   },
   {
    "duration": 18,
    "start_time": "2022-07-23T20:28:32.393Z"
   },
   {
    "duration": 593,
    "start_time": "2022-07-23T20:28:32.413Z"
   },
   {
    "duration": 17,
    "start_time": "2022-07-23T20:28:33.007Z"
   },
   {
    "duration": 36,
    "start_time": "2022-07-23T20:28:33.026Z"
   },
   {
    "duration": 22,
    "start_time": "2022-07-23T20:28:33.063Z"
   },
   {
    "duration": 14,
    "start_time": "2022-07-23T20:28:33.087Z"
   },
   {
    "duration": 8,
    "start_time": "2022-07-23T20:28:33.103Z"
   },
   {
    "duration": 4,
    "start_time": "2022-07-23T20:28:33.113Z"
   },
   {
    "duration": 43,
    "start_time": "2022-07-23T20:28:33.119Z"
   },
   {
    "duration": 3,
    "start_time": "2022-07-23T20:28:33.164Z"
   },
   {
    "duration": 10,
    "start_time": "2022-07-23T20:28:33.168Z"
   },
   {
    "duration": 17,
    "start_time": "2022-07-23T20:28:33.180Z"
   },
   {
    "duration": 15,
    "start_time": "2022-07-23T20:28:33.198Z"
   },
   {
    "duration": 15,
    "start_time": "2022-07-23T20:28:39.201Z"
   },
   {
    "duration": 14,
    "start_time": "2022-07-23T20:29:06.003Z"
   },
   {
    "duration": 15,
    "start_time": "2022-07-23T20:29:11.967Z"
   },
   {
    "duration": 52,
    "start_time": "2022-07-23T20:29:41.979Z"
   },
   {
    "duration": 15,
    "start_time": "2022-07-23T20:29:47.935Z"
   },
   {
    "duration": 10142,
    "start_time": "2022-07-23T20:29:55.673Z"
   },
   {
    "duration": 19,
    "start_time": "2022-07-23T20:30:19.681Z"
   },
   {
    "duration": 19,
    "start_time": "2022-07-23T20:30:37.896Z"
   },
   {
    "duration": 1327,
    "start_time": "2022-07-23T20:30:53.015Z"
   },
   {
    "duration": 43,
    "start_time": "2022-07-23T20:30:54.344Z"
   },
   {
    "duration": 25,
    "start_time": "2022-07-23T20:30:54.388Z"
   },
   {
    "duration": 12,
    "start_time": "2022-07-23T20:30:54.415Z"
   },
   {
    "duration": 13,
    "start_time": "2022-07-23T20:30:54.429Z"
   },
   {
    "duration": 202,
    "start_time": "2022-07-23T20:30:54.460Z"
   },
   {
    "duration": 189,
    "start_time": "2022-07-23T20:30:54.664Z"
   },
   {
    "duration": 20,
    "start_time": "2022-07-23T20:30:54.855Z"
   },
   {
    "duration": 548,
    "start_time": "2022-07-23T20:30:54.877Z"
   },
   {
    "duration": 33,
    "start_time": "2022-07-23T20:30:55.427Z"
   },
   {
    "duration": 584,
    "start_time": "2022-07-23T20:30:55.463Z"
   },
   {
    "duration": 25,
    "start_time": "2022-07-23T20:30:56.049Z"
   },
   {
    "duration": 2,
    "start_time": "2022-07-23T20:30:56.076Z"
   },
   {
    "duration": 3,
    "start_time": "2022-07-23T20:30:56.082Z"
   },
   {
    "duration": 449,
    "start_time": "2022-07-23T20:30:56.087Z"
   },
   {
    "duration": 518,
    "start_time": "2022-07-23T20:30:56.538Z"
   },
   {
    "duration": 20,
    "start_time": "2022-07-23T20:30:57.058Z"
   },
   {
    "duration": 614,
    "start_time": "2022-07-23T20:30:57.079Z"
   },
   {
    "duration": 19,
    "start_time": "2022-07-23T20:30:57.695Z"
   },
   {
    "duration": 16,
    "start_time": "2022-07-23T20:30:57.715Z"
   },
   {
    "duration": 46,
    "start_time": "2022-07-23T20:30:57.733Z"
   },
   {
    "duration": 11,
    "start_time": "2022-07-23T20:30:57.781Z"
   },
   {
    "duration": 9,
    "start_time": "2022-07-23T20:30:57.793Z"
   },
   {
    "duration": 6,
    "start_time": "2022-07-23T20:30:57.803Z"
   },
   {
    "duration": 13,
    "start_time": "2022-07-23T20:30:57.810Z"
   },
   {
    "duration": 152,
    "start_time": "2022-07-23T20:30:57.825Z"
   },
   {
    "duration": 0,
    "start_time": "2022-07-23T20:30:57.978Z"
   },
   {
    "duration": 0,
    "start_time": "2022-07-23T20:30:57.979Z"
   },
   {
    "duration": 0,
    "start_time": "2022-07-23T20:30:57.980Z"
   },
   {
    "duration": 4,
    "start_time": "2022-07-23T20:31:06.222Z"
   },
   {
    "duration": 1420,
    "start_time": "2022-07-23T20:31:14.458Z"
   },
   {
    "duration": 40,
    "start_time": "2022-07-23T20:31:15.880Z"
   },
   {
    "duration": 25,
    "start_time": "2022-07-23T20:31:15.921Z"
   },
   {
    "duration": 13,
    "start_time": "2022-07-23T20:31:15.948Z"
   },
   {
    "duration": 15,
    "start_time": "2022-07-23T20:31:15.963Z"
   },
   {
    "duration": 219,
    "start_time": "2022-07-23T20:31:15.980Z"
   },
   {
    "duration": 242,
    "start_time": "2022-07-23T20:31:16.201Z"
   },
   {
    "duration": 30,
    "start_time": "2022-07-23T20:31:16.445Z"
   },
   {
    "duration": 490,
    "start_time": "2022-07-23T20:31:16.477Z"
   },
   {
    "duration": 18,
    "start_time": "2022-07-23T20:31:16.970Z"
   },
   {
    "duration": 564,
    "start_time": "2022-07-23T20:31:16.990Z"
   },
   {
    "duration": 19,
    "start_time": "2022-07-23T20:31:17.560Z"
   },
   {
    "duration": 2,
    "start_time": "2022-07-23T20:31:17.580Z"
   },
   {
    "duration": 12,
    "start_time": "2022-07-23T20:31:17.583Z"
   },
   {
    "duration": 350,
    "start_time": "2022-07-23T20:31:17.597Z"
   },
   {
    "duration": 499,
    "start_time": "2022-07-23T20:31:17.949Z"
   },
   {
    "duration": 25,
    "start_time": "2022-07-23T20:31:18.450Z"
   },
   {
    "duration": 603,
    "start_time": "2022-07-23T20:31:18.477Z"
   },
   {
    "duration": 20,
    "start_time": "2022-07-23T20:31:19.081Z"
   },
   {
    "duration": 17,
    "start_time": "2022-07-23T20:31:19.103Z"
   },
   {
    "duration": 46,
    "start_time": "2022-07-23T20:31:19.122Z"
   },
   {
    "duration": 12,
    "start_time": "2022-07-23T20:31:19.170Z"
   },
   {
    "duration": 8,
    "start_time": "2022-07-23T20:31:19.184Z"
   },
   {
    "duration": 4,
    "start_time": "2022-07-23T20:31:19.194Z"
   },
   {
    "duration": 12,
    "start_time": "2022-07-23T20:31:19.200Z"
   },
   {
    "duration": 2,
    "start_time": "2022-07-23T20:31:19.214Z"
   },
   {
    "duration": 46,
    "start_time": "2022-07-23T20:31:19.218Z"
   },
   {
    "duration": 5013,
    "start_time": "2022-07-23T20:31:19.267Z"
   },
   {
    "duration": 1,
    "start_time": "2022-07-23T20:31:24.281Z"
   },
   {
    "duration": 42,
    "start_time": "2022-07-23T20:32:16.263Z"
   },
   {
    "duration": 29,
    "start_time": "2022-07-23T20:32:26.103Z"
   },
   {
    "duration": 9726,
    "start_time": "2022-07-23T20:32:44.589Z"
   },
   {
    "duration": 22,
    "start_time": "2022-07-23T20:33:53.392Z"
   },
   {
    "duration": 25,
    "start_time": "2022-07-23T20:34:03.038Z"
   },
   {
    "duration": 20,
    "start_time": "2022-07-23T20:34:06.649Z"
   },
   {
    "duration": 1298,
    "start_time": "2022-07-23T20:34:19.343Z"
   },
   {
    "duration": 41,
    "start_time": "2022-07-23T20:34:20.642Z"
   },
   {
    "duration": 25,
    "start_time": "2022-07-23T20:34:20.684Z"
   },
   {
    "duration": 13,
    "start_time": "2022-07-23T20:34:20.710Z"
   },
   {
    "duration": 36,
    "start_time": "2022-07-23T20:34:20.726Z"
   },
   {
    "duration": 202,
    "start_time": "2022-07-23T20:34:20.764Z"
   },
   {
    "duration": 174,
    "start_time": "2022-07-23T20:34:20.968Z"
   },
   {
    "duration": 32,
    "start_time": "2022-07-23T20:34:21.144Z"
   },
   {
    "duration": 484,
    "start_time": "2022-07-23T20:34:21.178Z"
   },
   {
    "duration": 17,
    "start_time": "2022-07-23T20:34:21.664Z"
   },
   {
    "duration": 547,
    "start_time": "2022-07-23T20:34:21.683Z"
   },
   {
    "duration": 29,
    "start_time": "2022-07-23T20:34:22.232Z"
   },
   {
    "duration": 3,
    "start_time": "2022-07-23T20:34:22.263Z"
   },
   {
    "duration": 10,
    "start_time": "2022-07-23T20:34:22.269Z"
   },
   {
    "duration": 334,
    "start_time": "2022-07-23T20:34:22.280Z"
   },
   {
    "duration": 513,
    "start_time": "2022-07-23T20:34:22.616Z"
   },
   {
    "duration": 19,
    "start_time": "2022-07-23T20:34:23.130Z"
   },
   {
    "duration": 560,
    "start_time": "2022-07-23T20:34:23.161Z"
   },
   {
    "duration": 18,
    "start_time": "2022-07-23T20:34:23.722Z"
   },
   {
    "duration": 25,
    "start_time": "2022-07-23T20:34:23.741Z"
   },
   {
    "duration": 18,
    "start_time": "2022-07-23T20:34:23.767Z"
   },
   {
    "duration": 12,
    "start_time": "2022-07-23T20:34:23.787Z"
   },
   {
    "duration": 8,
    "start_time": "2022-07-23T20:34:23.800Z"
   },
   {
    "duration": 5,
    "start_time": "2022-07-23T20:34:23.809Z"
   },
   {
    "duration": 47,
    "start_time": "2022-07-23T20:34:23.816Z"
   },
   {
    "duration": 2,
    "start_time": "2022-07-23T20:34:23.866Z"
   },
   {
    "duration": 12,
    "start_time": "2022-07-23T20:34:23.870Z"
   },
   {
    "duration": 80,
    "start_time": "2022-07-23T20:34:23.883Z"
   },
   {
    "duration": 15,
    "start_time": "2022-07-23T20:34:23.964Z"
   },
   {
    "duration": 64,
    "start_time": "2022-07-23T20:34:35.363Z"
   },
   {
    "duration": 125,
    "start_time": "2022-07-23T20:34:45.439Z"
   },
   {
    "duration": 1404,
    "start_time": "2022-07-23T20:35:00.341Z"
   },
   {
    "duration": 43,
    "start_time": "2022-07-23T20:35:01.747Z"
   },
   {
    "duration": 25,
    "start_time": "2022-07-23T20:35:01.791Z"
   },
   {
    "duration": 12,
    "start_time": "2022-07-23T20:35:01.817Z"
   },
   {
    "duration": 17,
    "start_time": "2022-07-23T20:35:01.832Z"
   },
   {
    "duration": 218,
    "start_time": "2022-07-23T20:35:01.850Z"
   },
   {
    "duration": 190,
    "start_time": "2022-07-23T20:35:02.070Z"
   },
   {
    "duration": 20,
    "start_time": "2022-07-23T20:35:02.262Z"
   },
   {
    "duration": 519,
    "start_time": "2022-07-23T20:35:02.283Z"
   },
   {
    "duration": 17,
    "start_time": "2022-07-23T20:35:02.804Z"
   },
   {
    "duration": 576,
    "start_time": "2022-07-23T20:35:02.823Z"
   },
   {
    "duration": 20,
    "start_time": "2022-07-23T20:35:03.400Z"
   },
   {
    "duration": 3,
    "start_time": "2022-07-23T20:35:03.421Z"
   },
   {
    "duration": 5,
    "start_time": "2022-07-23T20:35:03.426Z"
   },
   {
    "duration": 361,
    "start_time": "2022-07-23T20:35:03.432Z"
   },
   {
    "duration": 524,
    "start_time": "2022-07-23T20:35:03.795Z"
   },
   {
    "duration": 19,
    "start_time": "2022-07-23T20:35:04.321Z"
   },
   {
    "duration": 626,
    "start_time": "2022-07-23T20:35:04.342Z"
   },
   {
    "duration": 17,
    "start_time": "2022-07-23T20:35:04.969Z"
   },
   {
    "duration": 16,
    "start_time": "2022-07-23T20:35:04.988Z"
   },
   {
    "duration": 21,
    "start_time": "2022-07-23T20:35:05.006Z"
   },
   {
    "duration": 39,
    "start_time": "2022-07-23T20:35:05.029Z"
   },
   {
    "duration": 6,
    "start_time": "2022-07-23T20:35:05.070Z"
   },
   {
    "duration": 5,
    "start_time": "2022-07-23T20:35:05.077Z"
   },
   {
    "duration": 12,
    "start_time": "2022-07-23T20:35:05.083Z"
   },
   {
    "duration": 2,
    "start_time": "2022-07-23T20:35:05.096Z"
   },
   {
    "duration": 15,
    "start_time": "2022-07-23T20:35:05.100Z"
   },
   {
    "duration": 172,
    "start_time": "2022-07-23T20:35:05.116Z"
   },
   {
    "duration": 0,
    "start_time": "2022-07-23T20:35:05.290Z"
   },
   {
    "duration": 20,
    "start_time": "2022-07-23T20:35:21.775Z"
   },
   {
    "duration": 1389,
    "start_time": "2022-07-23T20:35:55.599Z"
   },
   {
    "duration": 42,
    "start_time": "2022-07-23T20:35:56.990Z"
   },
   {
    "duration": 25,
    "start_time": "2022-07-23T20:35:57.034Z"
   },
   {
    "duration": 12,
    "start_time": "2022-07-23T20:35:57.061Z"
   },
   {
    "duration": 11,
    "start_time": "2022-07-23T20:35:57.076Z"
   },
   {
    "duration": 226,
    "start_time": "2022-07-23T20:35:57.089Z"
   },
   {
    "duration": 184,
    "start_time": "2022-07-23T20:35:57.317Z"
   },
   {
    "duration": 20,
    "start_time": "2022-07-23T20:35:57.503Z"
   },
   {
    "duration": 484,
    "start_time": "2022-07-23T20:35:57.525Z"
   },
   {
    "duration": 20,
    "start_time": "2022-07-23T20:35:58.011Z"
   },
   {
    "duration": 551,
    "start_time": "2022-07-23T20:35:58.033Z"
   },
   {
    "duration": 21,
    "start_time": "2022-07-23T20:35:58.586Z"
   },
   {
    "duration": 2,
    "start_time": "2022-07-23T20:35:58.609Z"
   },
   {
    "duration": 6,
    "start_time": "2022-07-23T20:35:58.614Z"
   },
   {
    "duration": 377,
    "start_time": "2022-07-23T20:35:58.622Z"
   },
   {
    "duration": 501,
    "start_time": "2022-07-23T20:35:59.002Z"
   },
   {
    "duration": 20,
    "start_time": "2022-07-23T20:35:59.505Z"
   },
   {
    "duration": 586,
    "start_time": "2022-07-23T20:35:59.527Z"
   },
   {
    "duration": 18,
    "start_time": "2022-07-23T20:36:00.115Z"
   },
   {
    "duration": 37,
    "start_time": "2022-07-23T20:36:00.135Z"
   },
   {
    "duration": 21,
    "start_time": "2022-07-23T20:36:00.173Z"
   },
   {
    "duration": 31,
    "start_time": "2022-07-23T20:36:00.196Z"
   },
   {
    "duration": 36,
    "start_time": "2022-07-23T20:36:00.229Z"
   },
   {
    "duration": 20,
    "start_time": "2022-07-23T20:36:00.267Z"
   },
   {
    "duration": 31,
    "start_time": "2022-07-23T20:36:00.289Z"
   },
   {
    "duration": 14,
    "start_time": "2022-07-23T20:36:00.321Z"
   },
   {
    "duration": 18,
    "start_time": "2022-07-23T20:36:00.337Z"
   },
   {
    "duration": 79,
    "start_time": "2022-07-23T20:36:00.357Z"
   },
   {
    "duration": 15,
    "start_time": "2022-07-23T20:36:00.438Z"
   },
   {
    "duration": 11633,
    "start_time": "2022-07-23T20:36:18.682Z"
   },
   {
    "duration": 8321,
    "start_time": "2022-07-23T20:36:35.288Z"
   },
   {
    "duration": 22,
    "start_time": "2022-07-23T20:37:14.786Z"
   },
   {
    "duration": 22,
    "start_time": "2022-07-23T20:38:05.169Z"
   },
   {
    "duration": 16,
    "start_time": "2022-07-23T20:38:10.278Z"
   },
   {
    "duration": 71,
    "start_time": "2022-07-23T20:38:21.435Z"
   },
   {
    "duration": 0,
    "start_time": "2022-07-23T20:57:37.182Z"
   },
   {
    "duration": 16,
    "start_time": "2022-07-23T20:58:08.202Z"
   },
   {
    "duration": 74,
    "start_time": "2022-07-23T20:58:17.138Z"
   },
   {
    "duration": 0,
    "start_time": "2022-07-23T21:00:01.895Z"
   },
   {
    "duration": 73,
    "start_time": "2022-07-23T21:00:03.491Z"
   },
   {
    "duration": 16,
    "start_time": "2022-07-23T21:00:08.617Z"
   },
   {
    "duration": 76,
    "start_time": "2022-07-23T21:00:12.232Z"
   },
   {
    "duration": 1367,
    "start_time": "2022-07-23T21:00:15.032Z"
   },
   {
    "duration": 71899,
    "start_time": "2022-07-23T21:00:19.300Z"
   },
   {
    "duration": 0,
    "start_time": "2022-07-23T21:01:31.201Z"
   },
   {
    "duration": 1351,
    "start_time": "2022-07-23T21:01:35.927Z"
   },
   {
    "duration": 9203,
    "start_time": "2022-07-23T21:01:41.275Z"
   },
   {
    "duration": 1265,
    "start_time": "2022-07-23T21:02:31.613Z"
   },
   {
    "duration": 4,
    "start_time": "2022-07-23T21:03:18.666Z"
   },
   {
    "duration": 572,
    "start_time": "2022-07-23T21:04:36.362Z"
   },
   {
    "duration": 12980,
    "start_time": "2022-07-23T21:04:40.489Z"
   },
   {
    "duration": 562,
    "start_time": "2022-07-23T21:04:58.793Z"
   },
   {
    "duration": 1315,
    "start_time": "2022-07-23T21:05:16.540Z"
   },
   {
    "duration": 592,
    "start_time": "2022-07-23T21:05:20.258Z"
   },
   {
    "duration": 949,
    "start_time": "2022-07-23T21:05:26.770Z"
   },
   {
    "duration": 954,
    "start_time": "2022-07-23T21:05:28.946Z"
   },
   {
    "duration": 915,
    "start_time": "2022-07-23T21:05:31.635Z"
   },
   {
    "duration": 932,
    "start_time": "2022-07-23T21:05:35.271Z"
   },
   {
    "duration": 81,
    "start_time": "2022-07-23T21:05:40.734Z"
   },
   {
    "duration": 933,
    "start_time": "2022-07-23T21:05:43.500Z"
   },
   {
    "duration": 80,
    "start_time": "2022-07-23T21:05:46.541Z"
   },
   {
    "duration": 919,
    "start_time": "2022-07-23T21:05:50.938Z"
   },
   {
    "duration": 77,
    "start_time": "2022-07-23T21:05:55.604Z"
   },
   {
    "duration": 83,
    "start_time": "2022-07-23T21:06:01.293Z"
   },
   {
    "duration": 987,
    "start_time": "2022-07-23T21:06:04.895Z"
   },
   {
    "duration": 89,
    "start_time": "2022-07-23T21:06:08.727Z"
   },
   {
    "duration": 1335,
    "start_time": "2022-07-23T21:06:15.288Z"
   },
   {
    "duration": 18484,
    "start_time": "2022-07-23T21:06:29.703Z"
   },
   {
    "duration": 1282,
    "start_time": "2022-07-23T21:06:51.260Z"
   },
   {
    "duration": 3839,
    "start_time": "2022-07-23T21:07:05.344Z"
   },
   {
    "duration": 23256,
    "start_time": "2022-07-23T21:07:12.132Z"
   },
   {
    "duration": 80,
    "start_time": "2022-07-23T21:07:37.796Z"
   },
   {
    "duration": 11,
    "start_time": "2022-07-23T21:08:31.259Z"
   },
   {
    "duration": 7,
    "start_time": "2022-07-23T21:08:33.460Z"
   },
   {
    "duration": 4,
    "start_time": "2022-07-23T21:08:34.943Z"
   },
   {
    "duration": 9,
    "start_time": "2022-07-23T21:08:35.473Z"
   },
   {
    "duration": 64,
    "start_time": "2022-07-23T21:08:40.977Z"
   },
   {
    "duration": 557,
    "start_time": "2022-07-23T21:08:44.258Z"
   },
   {
    "duration": 2868,
    "start_time": "2022-07-23T21:08:56.437Z"
   },
   {
    "duration": 46702,
    "start_time": "2022-07-23T21:09:03.023Z"
   },
   {
    "duration": 0,
    "start_time": "2022-07-23T21:09:49.727Z"
   },
   {
    "duration": 429,
    "start_time": "2022-07-23T21:09:51.228Z"
   },
   {
    "duration": 15,
    "start_time": "2022-07-23T21:10:27.873Z"
   },
   {
    "duration": 15,
    "start_time": "2022-07-23T21:10:56.757Z"
   },
   {
    "duration": 15,
    "start_time": "2022-07-23T21:11:42.726Z"
   },
   {
    "duration": 5,
    "start_time": "2022-07-23T21:11:46.176Z"
   },
   {
    "duration": 393,
    "start_time": "2022-07-23T21:12:27.595Z"
   },
   {
    "duration": 2932,
    "start_time": "2022-07-23T21:12:33.965Z"
   },
   {
    "duration": 11,
    "start_time": "2022-07-23T21:12:43.847Z"
   },
   {
    "duration": 7,
    "start_time": "2022-07-23T21:12:44.290Z"
   },
   {
    "duration": 3,
    "start_time": "2022-07-23T21:12:44.915Z"
   },
   {
    "duration": 10,
    "start_time": "2022-07-23T21:12:45.797Z"
   },
   {
    "duration": 81,
    "start_time": "2022-07-23T21:12:48.508Z"
   },
   {
    "duration": 1286,
    "start_time": "2022-07-23T21:12:52.774Z"
   },
   {
    "duration": 1,
    "start_time": "2022-07-23T21:13:06.969Z"
   },
   {
    "duration": 1348,
    "start_time": "2022-07-23T21:13:07.947Z"
   },
   {
    "duration": 5,
    "start_time": "2022-07-23T21:13:13.071Z"
   },
   {
    "duration": 54696,
    "start_time": "2022-07-23T21:14:00.281Z"
   },
   {
    "duration": 142,
    "start_time": "2022-07-23T21:16:42.559Z"
   },
   {
    "duration": 5,
    "start_time": "2022-07-23T21:18:26.540Z"
   },
   {
    "duration": 3,
    "start_time": "2022-07-23T21:18:34.474Z"
   },
   {
    "duration": 1519,
    "start_time": "2022-07-23T21:26:14.833Z"
   },
   {
    "duration": 44,
    "start_time": "2022-07-23T21:26:16.355Z"
   },
   {
    "duration": 32,
    "start_time": "2022-07-23T21:26:16.401Z"
   },
   {
    "duration": 15,
    "start_time": "2022-07-23T21:26:16.435Z"
   },
   {
    "duration": 14,
    "start_time": "2022-07-23T21:26:16.461Z"
   },
   {
    "duration": 245,
    "start_time": "2022-07-23T21:26:16.478Z"
   },
   {
    "duration": 208,
    "start_time": "2022-07-23T21:26:16.725Z"
   },
   {
    "duration": 30,
    "start_time": "2022-07-23T21:26:16.935Z"
   },
   {
    "duration": 487,
    "start_time": "2022-07-23T21:26:16.967Z"
   },
   {
    "duration": 18,
    "start_time": "2022-07-23T21:26:17.460Z"
   },
   {
    "duration": 606,
    "start_time": "2022-07-23T21:26:17.480Z"
   },
   {
    "duration": 19,
    "start_time": "2022-07-23T21:26:18.088Z"
   },
   {
    "duration": 3,
    "start_time": "2022-07-23T21:26:18.108Z"
   },
   {
    "duration": 5,
    "start_time": "2022-07-23T21:26:18.113Z"
   },
   {
    "duration": 366,
    "start_time": "2022-07-23T21:26:18.120Z"
   },
   {
    "duration": 552,
    "start_time": "2022-07-23T21:26:18.488Z"
   },
   {
    "duration": 30,
    "start_time": "2022-07-23T21:26:19.042Z"
   },
   {
    "duration": 602,
    "start_time": "2022-07-23T21:26:19.073Z"
   },
   {
    "duration": 18,
    "start_time": "2022-07-23T21:26:19.677Z"
   },
   {
    "duration": 23,
    "start_time": "2022-07-23T21:26:19.697Z"
   },
   {
    "duration": 51,
    "start_time": "2022-07-23T21:26:19.722Z"
   },
   {
    "duration": 10,
    "start_time": "2022-07-23T21:26:19.775Z"
   },
   {
    "duration": 8,
    "start_time": "2022-07-23T21:26:19.786Z"
   },
   {
    "duration": 5,
    "start_time": "2022-07-23T21:26:19.796Z"
   },
   {
    "duration": 11,
    "start_time": "2022-07-23T21:26:19.803Z"
   },
   {
    "duration": 124,
    "start_time": "2022-07-23T21:26:19.816Z"
   },
   {
    "duration": 1336,
    "start_time": "2022-07-23T21:26:19.942Z"
   },
   {
    "duration": 5,
    "start_time": "2022-07-23T21:26:21.280Z"
   },
   {
    "duration": 130,
    "start_time": "2022-07-23T21:26:21.287Z"
   },
   {
    "duration": 5,
    "start_time": "2022-07-23T21:26:21.419Z"
   },
   {
    "duration": 6,
    "start_time": "2022-07-23T21:26:21.426Z"
   },
   {
    "duration": 48,
    "start_time": "2022-07-24T09:46:27.226Z"
   },
   {
    "duration": 1550,
    "start_time": "2022-07-24T09:46:49.771Z"
   },
   {
    "duration": 83,
    "start_time": "2022-07-24T09:46:51.323Z"
   },
   {
    "duration": 24,
    "start_time": "2022-07-24T09:46:51.408Z"
   },
   {
    "duration": 11,
    "start_time": "2022-07-24T09:46:51.433Z"
   },
   {
    "duration": 12,
    "start_time": "2022-07-24T09:46:51.446Z"
   },
   {
    "duration": 193,
    "start_time": "2022-07-24T09:46:51.459Z"
   },
   {
    "duration": 172,
    "start_time": "2022-07-24T09:46:51.654Z"
   },
   {
    "duration": 19,
    "start_time": "2022-07-24T09:46:51.828Z"
   },
   {
    "duration": 499,
    "start_time": "2022-07-24T09:46:51.849Z"
   },
   {
    "duration": 26,
    "start_time": "2022-07-24T09:46:52.350Z"
   },
   {
    "duration": 597,
    "start_time": "2022-07-24T09:46:52.378Z"
   },
   {
    "duration": 20,
    "start_time": "2022-07-24T09:46:52.976Z"
   },
   {
    "duration": 2,
    "start_time": "2022-07-24T09:46:52.998Z"
   },
   {
    "duration": 7,
    "start_time": "2022-07-24T09:46:53.002Z"
   },
   {
    "duration": 344,
    "start_time": "2022-07-24T09:46:53.010Z"
   },
   {
    "duration": 513,
    "start_time": "2022-07-24T09:46:53.356Z"
   },
   {
    "duration": 20,
    "start_time": "2022-07-24T09:46:53.870Z"
   },
   {
    "duration": 613,
    "start_time": "2022-07-24T09:46:53.892Z"
   },
   {
    "duration": 18,
    "start_time": "2022-07-24T09:46:54.507Z"
   },
   {
    "duration": 16,
    "start_time": "2022-07-24T09:46:54.526Z"
   },
   {
    "duration": 36,
    "start_time": "2022-07-24T09:46:54.544Z"
   },
   {
    "duration": 5,
    "start_time": "2022-07-24T09:53:08.357Z"
   },
   {
    "duration": 20,
    "start_time": "2022-07-24T09:53:08.984Z"
   },
   {
    "duration": 9,
    "start_time": "2022-07-24T09:53:14.057Z"
   },
   {
    "duration": 109,
    "start_time": "2022-07-24T09:53:50.984Z"
   },
   {
    "duration": 11,
    "start_time": "2022-07-24T09:53:54.244Z"
   },
   {
    "duration": 4,
    "start_time": "2022-07-24T09:54:11.342Z"
   },
   {
    "duration": 28,
    "start_time": "2022-07-24T09:54:12.519Z"
   },
   {
    "duration": 22,
    "start_time": "2022-07-24T09:54:16.742Z"
   },
   {
    "duration": 5,
    "start_time": "2022-07-24T09:54:30.064Z"
   },
   {
    "duration": 7,
    "start_time": "2022-07-24T09:55:05.834Z"
   },
   {
    "duration": 7,
    "start_time": "2022-07-24T10:04:08.785Z"
   },
   {
    "duration": 28,
    "start_time": "2022-07-24T10:04:13.514Z"
   },
   {
    "duration": 12,
    "start_time": "2022-07-24T10:05:34.759Z"
   },
   {
    "duration": 5,
    "start_time": "2022-07-24T10:05:35.246Z"
   },
   {
    "duration": 8,
    "start_time": "2022-07-24T10:05:36.104Z"
   },
   {
    "duration": 5,
    "start_time": "2022-07-24T10:06:01.733Z"
   },
   {
    "duration": 17,
    "start_time": "2022-07-24T10:06:07.656Z"
   },
   {
    "duration": 18,
    "start_time": "2022-07-24T10:06:40.678Z"
   },
   {
    "duration": 25,
    "start_time": "2022-07-24T10:07:01.165Z"
   },
   {
    "duration": 3,
    "start_time": "2022-07-24T10:07:07.352Z"
   },
   {
    "duration": 3,
    "start_time": "2022-07-24T10:07:15.816Z"
   },
   {
    "duration": 3,
    "start_time": "2022-07-24T10:07:27.583Z"
   },
   {
    "duration": 16,
    "start_time": "2022-07-24T10:07:51.738Z"
   },
   {
    "duration": 15,
    "start_time": "2022-07-24T10:09:07.015Z"
   },
   {
    "duration": 15,
    "start_time": "2022-07-24T10:09:27.044Z"
   },
   {
    "duration": 9,
    "start_time": "2022-07-24T10:09:41.622Z"
   },
   {
    "duration": 19,
    "start_time": "2022-07-24T10:09:59.851Z"
   },
   {
    "duration": 17,
    "start_time": "2022-07-24T10:10:40.784Z"
   },
   {
    "duration": 12,
    "start_time": "2022-07-24T10:10:48.709Z"
   },
   {
    "duration": 20,
    "start_time": "2022-07-24T10:11:31.583Z"
   },
   {
    "duration": 22,
    "start_time": "2022-07-24T10:11:43.420Z"
   },
   {
    "duration": 14,
    "start_time": "2022-07-24T10:11:49.494Z"
   },
   {
    "duration": 4,
    "start_time": "2022-07-24T10:11:50.350Z"
   },
   {
    "duration": 8,
    "start_time": "2022-07-24T10:11:54.694Z"
   },
   {
    "duration": 11,
    "start_time": "2022-07-24T10:11:56.269Z"
   },
   {
    "duration": 665,
    "start_time": "2022-07-24T10:12:14.508Z"
   },
   {
    "duration": 41,
    "start_time": "2022-07-24T10:12:21.003Z"
   },
   {
    "duration": 66,
    "start_time": "2022-07-24T10:12:26.813Z"
   },
   {
    "duration": 665,
    "start_time": "2022-07-24T10:12:30.345Z"
   },
   {
    "duration": 110,
    "start_time": "2022-07-24T10:12:37.494Z"
   },
   {
    "duration": 159,
    "start_time": "2022-07-24T10:12:42.759Z"
   },
   {
    "duration": 626,
    "start_time": "2022-07-24T10:12:45.988Z"
   },
   {
    "duration": 632,
    "start_time": "2022-07-24T10:12:48.505Z"
   },
   {
    "duration": 852,
    "start_time": "2022-07-24T10:12:59.775Z"
   },
   {
    "duration": 860,
    "start_time": "2022-07-24T10:13:02.493Z"
   },
   {
    "duration": 155,
    "start_time": "2022-07-24T10:13:05.183Z"
   },
   {
    "duration": 53,
    "start_time": "2022-07-24T10:14:43.419Z"
   },
   {
    "duration": 159,
    "start_time": "2022-07-24T10:23:23.317Z"
   },
   {
    "duration": 21,
    "start_time": "2022-07-24T10:24:47.482Z"
   },
   {
    "duration": 51,
    "start_time": "2022-07-24T10:25:15.418Z"
   },
   {
    "duration": 75,
    "start_time": "2022-07-24T10:25:20.845Z"
   },
   {
    "duration": 3711,
    "start_time": "2022-07-24T10:25:39.712Z"
   },
   {
    "duration": 14965,
    "start_time": "2022-07-24T10:25:51.895Z"
   },
   {
    "duration": 15832,
    "start_time": "2022-07-24T10:26:22.022Z"
   },
   {
    "duration": 18832,
    "start_time": "2022-07-24T10:26:53.071Z"
   },
   {
    "duration": 21138,
    "start_time": "2022-07-24T10:27:54.987Z"
   },
   {
    "duration": 0,
    "start_time": "2022-07-24T10:32:04.687Z"
   },
   {
    "duration": 0,
    "start_time": "2022-07-24T10:32:04.689Z"
   },
   {
    "duration": 19954,
    "start_time": "2022-07-24T10:32:06.308Z"
   },
   {
    "duration": 57,
    "start_time": "2022-07-24T10:39:40.147Z"
   },
   {
    "duration": 11,
    "start_time": "2022-07-24T10:39:44.436Z"
   },
   {
    "duration": 96,
    "start_time": "2022-07-24T10:39:54.977Z"
   },
   {
    "duration": 10,
    "start_time": "2022-07-24T10:39:58.764Z"
   },
   {
    "duration": 11,
    "start_time": "2022-07-24T10:40:00.876Z"
   },
   {
    "duration": 10,
    "start_time": "2022-07-24T10:41:54.861Z"
   },
   {
    "duration": 10,
    "start_time": "2022-07-24T10:41:56.134Z"
   },
   {
    "duration": 14,
    "start_time": "2022-07-24T10:45:09.409Z"
   },
   {
    "duration": 18,
    "start_time": "2022-07-24T10:47:00.703Z"
   },
   {
    "duration": 5,
    "start_time": "2022-07-24T10:47:01.734Z"
   },
   {
    "duration": 7,
    "start_time": "2022-07-24T10:47:02.197Z"
   },
   {
    "duration": 4,
    "start_time": "2022-07-24T10:47:34.941Z"
   },
   {
    "duration": 15,
    "start_time": "2022-07-24T10:47:35.574Z"
   },
   {
    "duration": 15,
    "start_time": "2022-07-24T10:47:41.234Z"
   },
   {
    "duration": 5,
    "start_time": "2022-07-24T10:49:13.690Z"
   },
   {
    "duration": 15,
    "start_time": "2022-07-24T10:49:29.810Z"
   },
   {
    "duration": 12,
    "start_time": "2022-07-24T10:49:34.393Z"
   },
   {
    "duration": 7,
    "start_time": "2022-07-24T10:49:35.434Z"
   },
   {
    "duration": 4,
    "start_time": "2022-07-24T10:58:02.181Z"
   },
   {
    "duration": 14,
    "start_time": "2022-07-24T10:58:02.763Z"
   },
   {
    "duration": 5,
    "start_time": "2022-07-24T10:58:05.187Z"
   },
   {
    "duration": 10,
    "start_time": "2022-07-24T10:58:05.860Z"
   },
   {
    "duration": 813,
    "start_time": "2022-07-24T11:20:17.343Z"
   },
   {
    "duration": 1105,
    "start_time": "2022-07-24T11:20:29.377Z"
   },
   {
    "duration": 1077,
    "start_time": "2022-07-24T11:20:33.197Z"
   },
   {
    "duration": 83,
    "start_time": "2022-07-24T11:20:36.759Z"
   },
   {
    "duration": 284,
    "start_time": "2022-07-24T11:21:51.698Z"
   },
   {
    "duration": 293,
    "start_time": "2022-07-24T11:21:54.329Z"
   },
   {
    "duration": 6,
    "start_time": "2022-07-24T11:22:12.763Z"
   },
   {
    "duration": 12,
    "start_time": "2022-07-24T11:22:22.198Z"
   },
   {
    "duration": 6,
    "start_time": "2022-07-24T11:22:22.698Z"
   },
   {
    "duration": 10,
    "start_time": "2022-07-24T11:22:27.277Z"
   },
   {
    "duration": 16,
    "start_time": "2022-07-24T11:22:32.760Z"
   },
   {
    "duration": 10,
    "start_time": "2022-07-24T11:22:34.936Z"
   },
   {
    "duration": 6,
    "start_time": "2022-07-24T11:22:35.220Z"
   },
   {
    "duration": 12,
    "start_time": "2022-07-24T11:22:37.977Z"
   },
   {
    "duration": 6,
    "start_time": "2022-07-24T11:22:38.525Z"
   },
   {
    "duration": 14,
    "start_time": "2022-07-24T11:22:41.379Z"
   },
   {
    "duration": 5,
    "start_time": "2022-07-24T11:22:41.620Z"
   },
   {
    "duration": 18,
    "start_time": "2022-07-24T11:22:44.255Z"
   },
   {
    "duration": 6,
    "start_time": "2022-07-24T11:22:45.495Z"
   },
   {
    "duration": 10,
    "start_time": "2022-07-24T11:22:49.346Z"
   },
   {
    "duration": 6,
    "start_time": "2022-07-24T11:22:50.392Z"
   },
   {
    "duration": 10,
    "start_time": "2022-07-24T11:22:53.854Z"
   },
   {
    "duration": 5,
    "start_time": "2022-07-24T11:22:54.052Z"
   },
   {
    "duration": 5,
    "start_time": "2022-07-24T11:22:57.809Z"
   },
   {
    "duration": 11,
    "start_time": "2022-07-24T11:22:58.096Z"
   },
   {
    "duration": 15,
    "start_time": "2022-07-24T11:22:58.461Z"
   },
   {
    "duration": 36,
    "start_time": "2022-07-24T11:23:07.470Z"
   },
   {
    "duration": 413,
    "start_time": "2022-07-24T11:23:10.178Z"
   },
   {
    "duration": 409,
    "start_time": "2022-07-24T11:23:14.496Z"
   },
   {
    "duration": 395,
    "start_time": "2022-07-24T11:23:17.534Z"
   },
   {
    "duration": 401,
    "start_time": "2022-07-24T11:23:19.641Z"
   },
   {
    "duration": 35,
    "start_time": "2022-07-24T11:23:21.908Z"
   },
   {
    "duration": 34,
    "start_time": "2022-07-24T11:23:24.382Z"
   },
   {
    "duration": 387,
    "start_time": "2022-07-24T11:23:29.278Z"
   },
   {
    "duration": 34,
    "start_time": "2022-07-24T11:23:32.108Z"
   },
   {
    "duration": 19725,
    "start_time": "2022-07-24T11:27:10.799Z"
   },
   {
    "duration": 0,
    "start_time": "2022-07-24T11:30:36.630Z"
   },
   {
    "duration": 19,
    "start_time": "2022-07-24T11:31:31.388Z"
   },
   {
    "duration": 28,
    "start_time": "2022-07-24T11:31:36.332Z"
   },
   {
    "duration": 10802,
    "start_time": "2022-07-24T11:31:40.397Z"
   },
   {
    "duration": 14083,
    "start_time": "2022-07-24T11:32:00.121Z"
   },
   {
    "duration": 0,
    "start_time": "2022-07-24T11:34:46.339Z"
   },
   {
    "duration": 1365,
    "start_time": "2022-07-24T11:34:56.504Z"
   },
   {
    "duration": 42,
    "start_time": "2022-07-24T11:34:57.871Z"
   },
   {
    "duration": 23,
    "start_time": "2022-07-24T11:34:57.915Z"
   },
   {
    "duration": 11,
    "start_time": "2022-07-24T11:34:57.940Z"
   },
   {
    "duration": 13,
    "start_time": "2022-07-24T11:34:57.953Z"
   },
   {
    "duration": 213,
    "start_time": "2022-07-24T11:34:57.967Z"
   },
   {
    "duration": 167,
    "start_time": "2022-07-24T11:34:58.181Z"
   },
   {
    "duration": 27,
    "start_time": "2022-07-24T11:34:58.349Z"
   },
   {
    "duration": 474,
    "start_time": "2022-07-24T11:34:58.377Z"
   },
   {
    "duration": 24,
    "start_time": "2022-07-24T11:34:58.853Z"
   },
   {
    "duration": 569,
    "start_time": "2022-07-24T11:34:58.878Z"
   },
   {
    "duration": 26,
    "start_time": "2022-07-24T11:34:59.448Z"
   },
   {
    "duration": 2,
    "start_time": "2022-07-24T11:34:59.476Z"
   },
   {
    "duration": 10,
    "start_time": "2022-07-24T11:34:59.481Z"
   },
   {
    "duration": 354,
    "start_time": "2022-07-24T11:34:59.493Z"
   },
   {
    "duration": 518,
    "start_time": "2022-07-24T11:34:59.848Z"
   },
   {
    "duration": 25,
    "start_time": "2022-07-24T11:35:00.368Z"
   },
   {
    "duration": 645,
    "start_time": "2022-07-24T11:35:00.395Z"
   },
   {
    "duration": 28,
    "start_time": "2022-07-24T11:35:01.042Z"
   },
   {
    "duration": 17,
    "start_time": "2022-07-24T11:35:01.072Z"
   },
   {
    "duration": 28,
    "start_time": "2022-07-24T11:35:01.091Z"
   },
   {
    "duration": 34,
    "start_time": "2022-07-24T11:35:01.121Z"
   },
   {
    "duration": 15,
    "start_time": "2022-07-24T11:35:01.157Z"
   },
   {
    "duration": 25,
    "start_time": "2022-07-24T11:35:01.174Z"
   },
   {
    "duration": 165,
    "start_time": "2022-07-24T11:35:01.201Z"
   },
   {
    "duration": 18318,
    "start_time": "2022-07-24T11:35:01.368Z"
   },
   {
    "duration": 7,
    "start_time": "2022-07-24T11:35:19.688Z"
   },
   {
    "duration": 8,
    "start_time": "2022-07-24T11:35:19.697Z"
   },
   {
    "duration": 10,
    "start_time": "2022-07-24T11:35:19.707Z"
   },
   {
    "duration": 16,
    "start_time": "2022-07-24T11:35:19.719Z"
   },
   {
    "duration": 31,
    "start_time": "2022-07-24T11:35:19.737Z"
   },
   {
    "duration": 8,
    "start_time": "2022-07-24T11:35:19.769Z"
   },
   {
    "duration": 5,
    "start_time": "2022-07-24T11:35:19.778Z"
   },
   {
    "duration": 6,
    "start_time": "2022-07-24T11:35:19.784Z"
   },
   {
    "duration": 17,
    "start_time": "2022-07-24T11:35:19.791Z"
   },
   {
    "duration": 4,
    "start_time": "2022-07-24T11:35:19.810Z"
   },
   {
    "duration": 13,
    "start_time": "2022-07-24T11:35:19.816Z"
   },
   {
    "duration": 104,
    "start_time": "2022-07-24T11:35:19.830Z"
   },
   {
    "duration": 44,
    "start_time": "2022-07-24T11:35:19.936Z"
   },
   {
    "duration": 13978,
    "start_time": "2022-07-24T11:35:19.981Z"
   },
   {
    "duration": 16,
    "start_time": "2022-07-24T11:36:24.356Z"
   },
   {
    "duration": 251008,
    "start_time": "2022-07-24T11:36:37.357Z"
   },
   {
    "duration": 16,
    "start_time": "2022-07-24T11:40:49.326Z"
   },
   {
    "duration": 0,
    "start_time": "2022-07-24T11:42:08.145Z"
   },
   {
    "duration": 17,
    "start_time": "2022-07-24T11:42:09.686Z"
   },
   {
    "duration": 1443,
    "start_time": "2022-07-24T11:42:45.144Z"
   },
   {
    "duration": 41,
    "start_time": "2022-07-24T11:42:46.588Z"
   },
   {
    "duration": 22,
    "start_time": "2022-07-24T11:42:46.630Z"
   },
   {
    "duration": 11,
    "start_time": "2022-07-24T11:42:46.653Z"
   },
   {
    "duration": 11,
    "start_time": "2022-07-24T11:42:46.666Z"
   },
   {
    "duration": 196,
    "start_time": "2022-07-24T11:42:46.678Z"
   },
   {
    "duration": 175,
    "start_time": "2022-07-24T11:42:46.876Z"
   },
   {
    "duration": 23,
    "start_time": "2022-07-24T11:42:47.052Z"
   },
   {
    "duration": 465,
    "start_time": "2022-07-24T11:42:47.077Z"
   },
   {
    "duration": 25,
    "start_time": "2022-07-24T11:42:47.544Z"
   },
   {
    "duration": 545,
    "start_time": "2022-07-24T11:42:47.571Z"
   },
   {
    "duration": 17,
    "start_time": "2022-07-24T11:42:48.117Z"
   },
   {
    "duration": 6,
    "start_time": "2022-07-24T11:42:48.136Z"
   },
   {
    "duration": 10,
    "start_time": "2022-07-24T11:42:48.145Z"
   },
   {
    "duration": 335,
    "start_time": "2022-07-24T11:42:48.163Z"
   },
   {
    "duration": 494,
    "start_time": "2022-07-24T11:42:48.500Z"
   },
   {
    "duration": 19,
    "start_time": "2022-07-24T11:42:48.995Z"
   },
   {
    "duration": 588,
    "start_time": "2022-07-24T11:42:49.015Z"
   },
   {
    "duration": 18,
    "start_time": "2022-07-24T11:42:49.605Z"
   },
   {
    "duration": 16,
    "start_time": "2022-07-24T11:42:49.624Z"
   },
   {
    "duration": 39,
    "start_time": "2022-07-24T11:42:49.641Z"
   },
   {
    "duration": 13,
    "start_time": "2022-07-24T11:42:49.681Z"
   },
   {
    "duration": 4,
    "start_time": "2022-07-24T11:42:49.696Z"
   },
   {
    "duration": 7,
    "start_time": "2022-07-24T11:42:49.701Z"
   },
   {
    "duration": 173,
    "start_time": "2022-07-24T11:42:49.710Z"
   },
   {
    "duration": 18150,
    "start_time": "2022-07-24T11:42:49.884Z"
   },
   {
    "duration": 0,
    "start_time": "2022-07-24T11:43:08.036Z"
   },
   {
    "duration": 0,
    "start_time": "2022-07-24T11:43:08.037Z"
   },
   {
    "duration": 0,
    "start_time": "2022-07-24T11:43:08.038Z"
   },
   {
    "duration": 0,
    "start_time": "2022-07-24T11:43:08.039Z"
   },
   {
    "duration": 0,
    "start_time": "2022-07-24T11:43:08.040Z"
   },
   {
    "duration": 0,
    "start_time": "2022-07-24T11:43:08.040Z"
   },
   {
    "duration": 1,
    "start_time": "2022-07-24T11:43:08.041Z"
   },
   {
    "duration": 0,
    "start_time": "2022-07-24T11:43:08.042Z"
   },
   {
    "duration": 0,
    "start_time": "2022-07-24T11:43:08.065Z"
   },
   {
    "duration": 0,
    "start_time": "2022-07-24T11:43:08.066Z"
   },
   {
    "duration": 0,
    "start_time": "2022-07-24T11:43:08.068Z"
   },
   {
    "duration": 0,
    "start_time": "2022-07-24T11:43:08.069Z"
   },
   {
    "duration": 0,
    "start_time": "2022-07-24T11:43:08.070Z"
   },
   {
    "duration": 0,
    "start_time": "2022-07-24T11:43:08.071Z"
   },
   {
    "duration": 0,
    "start_time": "2022-07-24T11:43:08.072Z"
   },
   {
    "duration": 13,
    "start_time": "2022-07-24T11:43:14.054Z"
   },
   {
    "duration": 12,
    "start_time": "2022-07-24T11:43:22.438Z"
   },
   {
    "duration": 9,
    "start_time": "2022-07-24T11:43:36.133Z"
   },
   {
    "duration": 5,
    "start_time": "2022-07-24T11:43:38.787Z"
   },
   {
    "duration": 11,
    "start_time": "2022-07-24T11:43:39.302Z"
   },
   {
    "duration": 7641,
    "start_time": "2022-07-24T11:43:48.907Z"
   },
   {
    "duration": 7566,
    "start_time": "2022-07-24T11:43:57.804Z"
   },
   {
    "duration": 12,
    "start_time": "2022-07-24T11:45:27.848Z"
   },
   {
    "duration": 4,
    "start_time": "2022-07-24T11:45:33.592Z"
   },
   {
    "duration": 11,
    "start_time": "2022-07-24T11:45:33.912Z"
   },
   {
    "duration": 17650,
    "start_time": "2022-07-24T11:45:59.806Z"
   },
   {
    "duration": 88,
    "start_time": "2022-07-24T11:47:03.398Z"
   },
   {
    "duration": 86,
    "start_time": "2022-07-24T11:47:20.776Z"
   },
   {
    "duration": 34,
    "start_time": "2022-07-24T11:47:21.985Z"
   },
   {
    "duration": 81,
    "start_time": "2022-07-24T11:47:36.642Z"
   },
   {
    "duration": 36,
    "start_time": "2022-07-24T11:47:39.274Z"
   },
   {
    "duration": 45,
    "start_time": "2022-07-24T11:49:03.570Z"
   },
   {
    "duration": 53,
    "start_time": "2022-07-24T11:56:00.392Z"
   },
   {
    "duration": 12,
    "start_time": "2022-07-24T11:57:31.356Z"
   },
   {
    "duration": 47,
    "start_time": "2022-07-24T11:58:59.586Z"
   },
   {
    "duration": 13,
    "start_time": "2022-07-24T11:59:14.665Z"
   },
   {
    "duration": 11,
    "start_time": "2022-07-24T11:59:31.770Z"
   },
   {
    "duration": 11,
    "start_time": "2022-07-24T12:10:25.055Z"
   },
   {
    "duration": 11,
    "start_time": "2022-07-24T12:10:40.382Z"
   },
   {
    "duration": 7,
    "start_time": "2022-07-24T12:11:14.289Z"
   },
   {
    "duration": 17,
    "start_time": "2022-07-24T12:11:15.773Z"
   },
   {
    "duration": 11,
    "start_time": "2022-07-24T12:11:16.068Z"
   },
   {
    "duration": 8,
    "start_time": "2022-07-24T12:11:16.341Z"
   },
   {
    "duration": 31,
    "start_time": "2022-07-24T12:11:20.662Z"
   },
   {
    "duration": 10,
    "start_time": "2022-07-24T12:14:31.451Z"
   },
   {
    "duration": 10,
    "start_time": "2022-07-24T12:14:37.812Z"
   },
   {
    "duration": 10,
    "start_time": "2022-07-24T12:14:43.101Z"
   },
   {
    "duration": 10,
    "start_time": "2022-07-24T12:14:45.185Z"
   },
   {
    "duration": 17,
    "start_time": "2022-07-24T12:15:44.257Z"
   },
   {
    "duration": 20,
    "start_time": "2022-07-24T12:16:35.069Z"
   },
   {
    "duration": 5,
    "start_time": "2022-07-24T12:16:59.035Z"
   },
   {
    "duration": 6052,
    "start_time": "2022-07-24T12:17:05.601Z"
   },
   {
    "duration": 7,
    "start_time": "2022-07-24T12:17:20.595Z"
   },
   {
    "duration": 32,
    "start_time": "2022-07-24T12:17:25.945Z"
   },
   {
    "duration": 133,
    "start_time": "2022-07-24T12:17:46.449Z"
   },
   {
    "duration": 6,
    "start_time": "2022-07-24T12:17:54.608Z"
   },
   {
    "duration": 4,
    "start_time": "2022-07-24T12:17:56.338Z"
   },
   {
    "duration": 1341,
    "start_time": "2022-07-24T12:24:33.492Z"
   },
   {
    "duration": 40,
    "start_time": "2022-07-24T12:24:34.835Z"
   },
   {
    "duration": 22,
    "start_time": "2022-07-24T12:24:34.877Z"
   },
   {
    "duration": 10,
    "start_time": "2022-07-24T12:24:34.901Z"
   },
   {
    "duration": 10,
    "start_time": "2022-07-24T12:24:34.913Z"
   },
   {
    "duration": 208,
    "start_time": "2022-07-24T12:24:34.925Z"
   },
   {
    "duration": 171,
    "start_time": "2022-07-24T12:24:35.135Z"
   },
   {
    "duration": 18,
    "start_time": "2022-07-24T12:24:35.308Z"
   },
   {
    "duration": 483,
    "start_time": "2022-07-24T12:24:35.328Z"
   },
   {
    "duration": 18,
    "start_time": "2022-07-24T12:24:35.814Z"
   },
   {
    "duration": 568,
    "start_time": "2022-07-24T12:24:35.834Z"
   },
   {
    "duration": 18,
    "start_time": "2022-07-24T12:24:36.403Z"
   },
   {
    "duration": 2,
    "start_time": "2022-07-24T12:24:36.423Z"
   },
   {
    "duration": 6,
    "start_time": "2022-07-24T12:24:36.427Z"
   },
   {
    "duration": 342,
    "start_time": "2022-07-24T12:24:36.434Z"
   },
   {
    "duration": 522,
    "start_time": "2022-07-24T12:24:36.778Z"
   },
   {
    "duration": 19,
    "start_time": "2022-07-24T12:24:37.302Z"
   },
   {
    "duration": 608,
    "start_time": "2022-07-24T12:24:37.323Z"
   },
   {
    "duration": 17,
    "start_time": "2022-07-24T12:24:37.932Z"
   },
   {
    "duration": 27,
    "start_time": "2022-07-24T12:24:37.951Z"
   },
   {
    "duration": 18,
    "start_time": "2022-07-24T12:24:37.980Z"
   },
   {
    "duration": 14,
    "start_time": "2022-07-24T12:24:37.999Z"
   },
   {
    "duration": 3,
    "start_time": "2022-07-24T12:24:38.015Z"
   },
   {
    "duration": 11,
    "start_time": "2022-07-24T12:24:38.020Z"
   },
   {
    "duration": 177,
    "start_time": "2022-07-24T12:24:38.033Z"
   },
   {
    "duration": 19417,
    "start_time": "2022-07-24T12:24:38.212Z"
   },
   {
    "duration": 8,
    "start_time": "2022-07-24T12:24:57.631Z"
   },
   {
    "duration": 7,
    "start_time": "2022-07-24T12:24:57.643Z"
   },
   {
    "duration": 11,
    "start_time": "2022-07-24T12:24:57.664Z"
   },
   {
    "duration": 19,
    "start_time": "2022-07-24T12:24:57.677Z"
   },
   {
    "duration": 4,
    "start_time": "2022-07-24T12:24:57.698Z"
   },
   {
    "duration": 7,
    "start_time": "2022-07-24T12:24:57.704Z"
   },
   {
    "duration": 8,
    "start_time": "2022-07-24T12:24:57.713Z"
   },
   {
    "duration": 15,
    "start_time": "2022-07-24T12:24:57.723Z"
   },
   {
    "duration": 29,
    "start_time": "2022-07-24T12:24:57.740Z"
   },
   {
    "duration": 5,
    "start_time": "2022-07-24T12:24:57.771Z"
   },
   {
    "duration": 17,
    "start_time": "2022-07-24T12:24:57.777Z"
   },
   {
    "duration": 95,
    "start_time": "2022-07-24T12:24:57.795Z"
   },
   {
    "duration": 34,
    "start_time": "2022-07-24T12:24:57.892Z"
   },
   {
    "duration": 5537,
    "start_time": "2022-07-24T12:24:57.927Z"
   },
   {
    "duration": 6873,
    "start_time": "2022-07-24T12:25:03.466Z"
   },
   {
    "duration": 10,
    "start_time": "2022-07-24T12:25:10.341Z"
   },
   {
    "duration": 29,
    "start_time": "2022-07-24T12:25:10.352Z"
   },
   {
    "duration": 142,
    "start_time": "2022-07-24T12:25:10.382Z"
   },
   {
    "duration": 6,
    "start_time": "2022-07-24T12:25:10.525Z"
   },
   {
    "duration": 6,
    "start_time": "2022-07-24T12:25:10.532Z"
   }
  ],
  "kernelspec": {
   "display_name": "Python 3 (ipykernel)",
   "language": "python",
   "name": "python3"
  },
  "language_info": {
   "codemirror_mode": {
    "name": "ipython",
    "version": 3
   },
   "file_extension": ".py",
   "mimetype": "text/x-python",
   "name": "python",
   "nbconvert_exporter": "python",
   "pygments_lexer": "ipython3",
   "version": "3.9.12"
  },
  "toc": {
   "base_numbering": 1,
   "nav_menu": {},
   "number_sections": true,
   "sideBar": true,
   "skip_h1_title": true,
   "title_cell": "Содержание",
   "title_sidebar": "Contents",
   "toc_cell": true,
   "toc_position": {
    "height": "calc(100% - 180px)",
    "left": "10px",
    "top": "150px",
    "width": "178.844px"
   },
   "toc_section_display": true,
   "toc_window_display": true
  }
 },
 "nbformat": 4,
 "nbformat_minor": 2
}
