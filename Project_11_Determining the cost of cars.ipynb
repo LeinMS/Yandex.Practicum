{
 "cells": [
  {
   "cell_type": "markdown",
   "metadata": {},
   "source": [
    "# Determining the cost of cars"
   ]
  },
  {
   "cell_type": "markdown",
   "metadata": {},
   "source": [
    "The service for the sale of used cars \"Not beaten, not painted\" is developing an application to attract new customers. In it, you can quickly find out the market value of your car. Historical data is at your disposal: technical specifications, complete sets and prices of cars. We need to build a model to determine the cost.\n",
    "\n",
    "**Important to the customer:**\n",
    "\n",
    "- prediction quality;\n",
    "- prediction speed;\n",
    "- training time."
   ]
  },
  {
   "cell_type": "markdown",
   "metadata": {},
   "source": [
    "**Features:**\n",
    "\n",
    "- `DateCrawled` — date of downloading the questionnaire from the database\n",
    "- `VehicleType` — type of car body\n",
    "- `RegistrationYear` — the year of registration of the car\n",
    "- `Gearbox` — type of gearbox\n",
    "- `Power` — power (hp)\n",
    "- `Model` — car model\n",
    "- `Kilometer` — mileage (km)\n",
    "- `RegistrationMonth` — month of car registration\n",
    "- `FuelType` — fuel type\n",
    "- `Brand` — car brand\n",
    "- `NotRepaired` — was the car under repair or not\n",
    "-`DateCreated` — date of creation of the questionnaire\n",
    "- `NumberOfPictures` — the number of photos of the car\n",
    "- `PostalCode` — postal code of the questionnaire owner (user)\n",
    "- `lastSeen` — the date of the user's last activity\n",
    "\n",
    "**Target attribute:**\n",
    "\n",
    "`Price` — price (Euro)"
   ]
  },
  {
   "cell_type": "markdown",
   "metadata": {},
   "source": [
    "## Data preprocessing"
   ]
  },
  {
   "cell_type": "code",
   "execution_count": 1,
   "metadata": {},
   "outputs": [],
   "source": [
    "!pip install fast_ml\n",
    "!pip install lightgbm\n",
    "!pip install catboost"
   ]
  },
  {
   "cell_type": "code",
   "execution_count": 2,
   "metadata": {},
   "outputs": [],
   "source": [
    "import pandas as pd\n",
    "import numpy as np\n",
    "import matplotlib.pyplot as plt\n",
    "import lightgbm as lgb\n",
    "import time\n",
    "from sklearn.ensemble import RandomForestRegressor\n",
    "from collections import Counter\n",
    "from sklearn.model_selection import train_test_split\n",
    "from sklearn.preprocessing import StandardScaler\n",
    "from sklearn.metrics import mean_squared_error\n",
    "from sklearn.preprocessing import PolynomialFeatures\n",
    "from sklearn.preprocessing import OrdinalEncoder\n",
    "from sklearn.linear_model import LinearRegression\n",
    "from sklearn.tree import DecisionTreeRegressor\n",
    "from sklearn.ensemble import ExtraTreesRegressor\n",
    "from catboost import Pool, CatBoostRegressor, cv\n",
    "from lightgbm import LGBMRegressor\n",
    "from sklearn.model_selection import cross_val_score\n",
    "from sklearn.model_selection import GridSearchCV\n",
    "from fast_ml.model_development import train_valid_test_split"
   ]
  },
  {
   "cell_type": "code",
   "execution_count": 3,
   "metadata": {},
   "outputs": [
    {
     "name": "stdout",
     "output_type": "stream",
     "text": [
      "<class 'pandas.core.frame.DataFrame'>\n",
      "RangeIndex: 354369 entries, 0 to 354368\n",
      "Data columns (total 16 columns):\n",
      " #   Column             Non-Null Count   Dtype \n",
      "---  ------             --------------   ----- \n",
      " 0   DateCrawled        354369 non-null  object\n",
      " 1   Price              354369 non-null  int64 \n",
      " 2   VehicleType        316879 non-null  object\n",
      " 3   RegistrationYear   354369 non-null  int64 \n",
      " 4   Gearbox            334536 non-null  object\n",
      " 5   Power              354369 non-null  int64 \n",
      " 6   Model              334664 non-null  object\n",
      " 7   Kilometer          354369 non-null  int64 \n",
      " 8   RegistrationMonth  354369 non-null  int64 \n",
      " 9   FuelType           321474 non-null  object\n",
      " 10  Brand              354369 non-null  object\n",
      " 11  Repaired           283215 non-null  object\n",
      " 12  DateCreated        354369 non-null  object\n",
      " 13  NumberOfPictures   354369 non-null  int64 \n",
      " 14  PostalCode         354369 non-null  int64 \n",
      " 15  LastSeen           354369 non-null  object\n",
      "dtypes: int64(7), object(9)\n",
      "memory usage: 43.3+ MB\n"
     ]
    }
   ],
   "source": [
    "data = pd.read_csv('autos.csv')\n",
    "data.describe(include='all')\n",
    "data.info()"
   ]
  },
  {
   "cell_type": "code",
   "execution_count": 4,
   "metadata": {
    "scrolled": false
   },
   "outputs": [
    {
     "data": {
      "text/plain": [
       "DateCrawled          0.000000\n",
       "Price                0.000000\n",
       "VehicleType          0.105794\n",
       "RegistrationYear     0.000000\n",
       "Gearbox              0.055967\n",
       "Power                0.000000\n",
       "Model                0.055606\n",
       "Kilometer            0.000000\n",
       "RegistrationMonth    0.000000\n",
       "FuelType             0.092827\n",
       "Brand                0.000000\n",
       "Repaired             0.200791\n",
       "DateCreated          0.000000\n",
       "NumberOfPictures     0.000000\n",
       "PostalCode           0.000000\n",
       "LastSeen             0.000000\n",
       "dtype: float64"
      ]
     },
     "execution_count": 4,
     "metadata": {},
     "output_type": "execute_result"
    }
   ],
   "source": [
    "# Estimating the number of missings\n",
    "data.isna().mean()"
   ]
  },
  {
   "cell_type": "code",
   "execution_count": 5,
   "metadata": {},
   "outputs": [],
   "source": [
    "# function to get unique values\n",
    "def unique_val(data):\n",
    "    for i in data.columns:\n",
    "        print(f'Unique Feature Values {i}')\n",
    "        print(data[i].unique())\n",
    "        \n",
    "        \n",
    "# function to get the median of a feature 'Power'\n",
    "def correct_power(datarow):\n",
    "    val = datarow\n",
    "    result = 0\n",
    "    if (val < 20) or (val > 1000):\n",
    "         result = 105\n",
    "    else:\n",
    "        result = val\n",
    "    return result\n",
    "       \n",
    "    \n",
    "# function to get mode\n",
    "def get_mode(sample): \n",
    "    c = Counter(sample) \n",
    "    return [k for k, v in c.items() if v == c.most_common(1)[0][1]][0]\n",
    "\n",
    "\n",
    "# function takes a feature as input and returns the boundaries of the \"whiskers\"\n",
    "def get_whiskers(column):\n",
    "    descr = data[column].describe()\n",
    "    \n",
    "    # interquantile range\n",
    "    iqr = descr[6] - descr[4]\n",
    "      \n",
    "    left_whisker = round(descr[4] - 1.5 * iqr, 2)\n",
    "    right_whisker = round(descr[6] + 1.5 * iqr, 2)\n",
    "    \n",
    "    if left_whisker < descr[3]: left_whisker = descr[3] \n",
    "        \n",
    "    if right_whisker > descr[7]: right_whisker = descr[7]\n",
    "        \n",
    "    return [left_whisker,right_whisker]\n",
    "\n",
    "\n",
    "# function to convert values to boolean type\n",
    "def get_bool(datarow):\n",
    "    val = datarow\n",
    "    result = 0\n",
    "    if datarow == 'yes' or datarow == 'auto':\n",
    "         result = 1\n",
    "    else:\n",
    "        result = 0\n",
    "    return result"
   ]
  },
  {
   "cell_type": "markdown",
   "metadata": {},
   "source": [
    "**It is necessary to highlight important features for the model:**\n",
    "        \n",
    "- `VehicleType` — car body type\n",
    "- `Gearbox` — gearbox type\n",
    "- `Power` - power (hp)\n",
    "- `Model` — car model\n",
    "- `Kilometer` — mileage (km)\n",
    "- `FuelType` — fuel type\n",
    "- `Brand` — car brand\n",
    "- `Repaired` — was the car under repair or not</p>\n",
    "    \n",
    "    Other parameters such as the time of downloading the questionnaire and the postal code of the owner are not important for predicting the cost of a car.\n",
    "    There are incorrect values in the attribute \"POWER\" - 20000 hp or 0 hp.\n",
    "   \n",
    "**Columns to process:**\n",
    "\n",
    "- `VehicleType`. Let's take the most frequently repeated value (mode) from the feature \"VehicleType\".\n",
    "- `Gearbox`. For all NaN's, set the mode.\n",
    "- `Power`. Let's replace from 1 - 20 and from 1000 to 20000 with median values.\n",
    "- `FuelType`. Let's take fashion from the \"Brand\" feature.\n",
    "- `Repaired`. For all NaNs, set the mode.\n",
    "- `RegistrationYear`. We will correct based on the actual values in the machines.\n",
    "- `Model`. For all NaN's take the value 'unknown'.\n",
    "    \n",
    "In real work you can create arrays with car brands and main features. Fill in the missings with as much information as possible."
   ]
  },
  {
   "cell_type": "code",
   "execution_count": 6,
   "metadata": {},
   "outputs": [],
   "source": [
    "# removal of unimportant features\n",
    "data = data.drop(['DateCrawled','RegistrationMonth','DateCreated','NumberOfPictures','PostalCode','LastSeen'], axis=1)"
   ]
  },
  {
   "cell_type": "code",
   "execution_count": 7,
   "metadata": {},
   "outputs": [
    {
     "name": "stdout",
     "output_type": "stream",
     "text": [
      "<class 'pandas.core.frame.DataFrame'>\n",
      "RangeIndex: 354369 entries, 0 to 354368\n",
      "Data columns (total 10 columns):\n",
      " #   Column            Non-Null Count   Dtype \n",
      "---  ------            --------------   ----- \n",
      " 0   Price             354369 non-null  int64 \n",
      " 1   VehicleType       316879 non-null  object\n",
      " 2   RegistrationYear  354369 non-null  int64 \n",
      " 3   Gearbox           334536 non-null  object\n",
      " 4   Power             354369 non-null  int64 \n",
      " 5   Model             334664 non-null  object\n",
      " 6   Kilometer         354369 non-null  int64 \n",
      " 7   FuelType          321474 non-null  object\n",
      " 8   Brand             354369 non-null  object\n",
      " 9   Repaired          283215 non-null  object\n",
      "dtypes: int64(4), object(6)\n",
      "memory usage: 27.0+ MB\n"
     ]
    }
   ],
   "source": [
    "data.info()"
   ]
  },
  {
   "cell_type": "code",
   "execution_count": 8,
   "metadata": {},
   "outputs": [],
   "source": [
    "# remove zero values in the price column\n",
    "data = data.query('Price > Price.quantile(0.05)')\n",
    "\n",
    "# conversion of columns to boolean type\n",
    "data['Gearbox'] = data['Gearbox'].apply(get_bool)\n",
    "data['Repaired'] = data['Repaired'].apply(get_bool)\n",
    "\n",
    "# exchange missing values\n",
    "data = data.query('1850 <= RegistrationYear <= 2016')\n",
    "data['Power'] = data['Power'].apply(correct_power)\n",
    "data['VehicleType'] = data['VehicleType'].fillna(get_mode(data['VehicleType']))\n",
    "data['Gearbox'] = data['Gearbox'].fillna(get_mode(data['Gearbox']))\n",
    "data['FuelType'] = data['FuelType'].fillna(get_mode(data['FuelType']))\n",
    "data['Repaired'] = data['Repaired'].fillna(get_mode(data['Repaired']))\n",
    "data['Model'] = data['Model'].fillna('unknown')"
   ]
  },
  {
   "cell_type": "code",
   "execution_count": 9,
   "metadata": {
    "scrolled": false
   },
   "outputs": [
    {
     "data": {
      "image/png": "[encoded data removed]",
      "text/plain": [
       "<Figure size 720x360 with 1 Axes>"
      ]
     },
     "metadata": {
      "needs_background": "light"
     },
     "output_type": "display_data"
    },
    {
     "data": {
      "image/png": "[encoded data removed]",
      "text/plain": [
       "<Figure size 720x360 with 1 Axes>"
      ]
     },
     "metadata": {
      "needs_background": "light"
     },
     "output_type": "display_data"
    },
    {
     "data": {
      "image/png": "[encoded data removed]",
      "text/plain": [
       "<Figure size 720x360 with 1 Axes>"
      ]
     },
     "metadata": {
      "needs_background": "light"
     },
     "output_type": "display_data"
    },
    {
     "data": {
      "image/png": "[encoded data removed]",
      "text/plain": [
       "<Figure size 720x360 with 1 Axes>"
      ]
     },
     "metadata": {
      "needs_background": "light"
     },
     "output_type": "display_data"
    }
   ],
   "source": [
    "lst = {'Price':'Price, EU','RegistrationYear':'Years','Power':\"hp\",'Kilometer':\"km\"}\n",
    "for i in lst:\n",
    "    data[i].hist(bins=50, figsize=(10,5))\n",
    "#     plt.xlim(get_whiskers(i)[0], get_whiskers(i)[1])\n",
    "    plt.xlabel(lst.get(i))\n",
    "    plt.ylabel('Frequency')\n",
    "    plt.show()"
   ]
  },
  {
   "cell_type": "code",
   "execution_count": 10,
   "metadata": {},
   "outputs": [
    {
     "data": {
      "image/png": "[encoded data removed]",
      "text/plain": [
       "<Figure size 432x288 with 1 Axes>"
      ]
     },
     "metadata": {
      "needs_background": "light"
     },
     "output_type": "display_data"
    }
   ],
   "source": [
    "data = data.query('Power < 300')\n",
    "data['Power'].hist(bins=50)\n",
    "plt.title('Power')\n",
    "plt.xlabel('hp')\n",
    "plt.ylabel('Frequency')\n",
    "plt.show()"
   ]
  },
  {
   "cell_type": "code",
   "execution_count": 11,
   "metadata": {
    "scrolled": true
   },
   "outputs": [],
   "source": [
    "data = data.reset_index(drop=True)"
   ]
  },
  {
   "cell_type": "code",
   "execution_count": 12,
   "metadata": {},
   "outputs": [
    {
     "name": "stdout",
     "output_type": "stream",
     "text": [
      "<class 'pandas.core.frame.DataFrame'>\n",
      "RangeIndex: 318110 entries, 0 to 318109\n",
      "Data columns (total 10 columns):\n",
      " #   Column            Non-Null Count   Dtype \n",
      "---  ------            --------------   ----- \n",
      " 0   Price             318110 non-null  int64 \n",
      " 1   VehicleType       318110 non-null  object\n",
      " 2   RegistrationYear  318110 non-null  int64 \n",
      " 3   Gearbox           318110 non-null  int64 \n",
      " 4   Power             318110 non-null  int64 \n",
      " 5   Model             318110 non-null  object\n",
      " 6   Kilometer         318110 non-null  int64 \n",
      " 7   FuelType          318110 non-null  object\n",
      " 8   Brand             318110 non-null  object\n",
      " 9   Repaired          318110 non-null  int64 \n",
      "dtypes: int64(6), object(4)\n",
      "memory usage: 24.3+ MB\n"
     ]
    }
   ],
   "source": [
    "data.info()"
   ]
  },
  {
   "cell_type": "code",
   "execution_count": 13,
   "metadata": {},
   "outputs": [
    {
     "data": {
      "text/html": [
       "<div>\n",
       "<style scoped>\n",
       "    .dataframe tbody tr th:only-of-type {\n",
       "        vertical-align: middle;\n",
       "    }\n",
       "\n",
       "    .dataframe tbody tr th {\n",
       "        vertical-align: top;\n",
       "    }\n",
       "\n",
       "    .dataframe thead th {\n",
       "        text-align: right;\n",
       "    }\n",
       "</style>\n",
       "<table border=\"1\" class=\"dataframe\">\n",
       "  <thead>\n",
       "    <tr style=\"text-align: right;\">\n",
       "      <th></th>\n",
       "      <th>Price</th>\n",
       "      <th>RegistrationYear</th>\n",
       "      <th>Gearbox</th>\n",
       "      <th>Power</th>\n",
       "      <th>Kilometer</th>\n",
       "      <th>Repaired</th>\n",
       "    </tr>\n",
       "  </thead>\n",
       "  <tbody>\n",
       "    <tr>\n",
       "      <th>count</th>\n",
       "      <td>318110.000000</td>\n",
       "      <td>318110.000000</td>\n",
       "      <td>318110.000000</td>\n",
       "      <td>318110.000000</td>\n",
       "      <td>318110.000000</td>\n",
       "      <td>318110.000000</td>\n",
       "    </tr>\n",
       "    <tr>\n",
       "      <th>mean</th>\n",
       "      <td>4654.025752</td>\n",
       "      <td>2002.702358</td>\n",
       "      <td>0.188620</td>\n",
       "      <td>117.681220</td>\n",
       "      <td>128225.362296</td>\n",
       "      <td>0.094398</td>\n",
       "    </tr>\n",
       "    <tr>\n",
       "      <th>std</th>\n",
       "      <td>4484.204916</td>\n",
       "      <td>6.818901</td>\n",
       "      <td>0.391207</td>\n",
       "      <td>46.293251</td>\n",
       "      <td>37226.060806</td>\n",
       "      <td>0.292382</td>\n",
       "    </tr>\n",
       "    <tr>\n",
       "      <th>min</th>\n",
       "      <td>202.000000</td>\n",
       "      <td>1910.000000</td>\n",
       "      <td>0.000000</td>\n",
       "      <td>20.000000</td>\n",
       "      <td>5000.000000</td>\n",
       "      <td>0.000000</td>\n",
       "    </tr>\n",
       "    <tr>\n",
       "      <th>25%</th>\n",
       "      <td>1299.000000</td>\n",
       "      <td>1999.000000</td>\n",
       "      <td>0.000000</td>\n",
       "      <td>84.000000</td>\n",
       "      <td>125000.000000</td>\n",
       "      <td>0.000000</td>\n",
       "    </tr>\n",
       "    <tr>\n",
       "      <th>50%</th>\n",
       "      <td>2999.000000</td>\n",
       "      <td>2003.000000</td>\n",
       "      <td>0.000000</td>\n",
       "      <td>105.000000</td>\n",
       "      <td>150000.000000</td>\n",
       "      <td>0.000000</td>\n",
       "    </tr>\n",
       "    <tr>\n",
       "      <th>75%</th>\n",
       "      <td>6666.000000</td>\n",
       "      <td>2007.000000</td>\n",
       "      <td>0.000000</td>\n",
       "      <td>143.000000</td>\n",
       "      <td>150000.000000</td>\n",
       "      <td>0.000000</td>\n",
       "    </tr>\n",
       "    <tr>\n",
       "      <th>max</th>\n",
       "      <td>20000.000000</td>\n",
       "      <td>2016.000000</td>\n",
       "      <td>1.000000</td>\n",
       "      <td>299.000000</td>\n",
       "      <td>150000.000000</td>\n",
       "      <td>1.000000</td>\n",
       "    </tr>\n",
       "  </tbody>\n",
       "</table>\n",
       "</div>"
      ],
      "text/plain": [
       "               Price  RegistrationYear        Gearbox          Power  \\\n",
       "count  318110.000000     318110.000000  318110.000000  318110.000000   \n",
       "mean     4654.025752       2002.702358       0.188620     117.681220   \n",
       "std      4484.204916          6.818901       0.391207      46.293251   \n",
       "min       202.000000       1910.000000       0.000000      20.000000   \n",
       "25%      1299.000000       1999.000000       0.000000      84.000000   \n",
       "50%      2999.000000       2003.000000       0.000000     105.000000   \n",
       "75%      6666.000000       2007.000000       0.000000     143.000000   \n",
       "max     20000.000000       2016.000000       1.000000     299.000000   \n",
       "\n",
       "           Kilometer       Repaired  \n",
       "count  318110.000000  318110.000000  \n",
       "mean   128225.362296       0.094398  \n",
       "std     37226.060806       0.292382  \n",
       "min      5000.000000       0.000000  \n",
       "25%    125000.000000       0.000000  \n",
       "50%    150000.000000       0.000000  \n",
       "75%    150000.000000       0.000000  \n",
       "max    150000.000000       1.000000  "
      ]
     },
     "execution_count": 13,
     "metadata": {},
     "output_type": "execute_result"
    }
   ],
   "source": [
    "data.describe()"
   ]
  },
  {
   "cell_type": "markdown",
   "metadata": {},
   "source": [
    "**Conclusion:**\n",
    "    \n",
    "- EDA;\n",
    "- removed abnormal and missing values;\n",
    "- Necessary columns were selected for model training;\n",
    "- Replaced two categorical features with numerical ones."
   ]
  },
  {
   "cell_type": "markdown",
   "metadata": {},
   "source": [
    "## Model training"
   ]
  },
  {
   "cell_type": "markdown",
   "metadata": {},
   "source": [
    "We choose the following regressors for training the model:\n",
    "\n",
    "- LinearRegression\n",
    "- DecisionTreeRegressor\n",
    "- Cat Boost Regressor\n",
    "- LGBMRegressor\n",
    "    \n",
    "MSE as a metric.\n",
    "\n",
    "    \n",
    "Let's prepare three types of features for cross-validation:\n",
    "\n",
    "- Unchanged - initial_features\n",
    "- OHE encoded - ohe_features\n",
    "- Coded by OE method - ordinal_features"
   ]
  },
  {
   "cell_type": "code",
   "execution_count": 14,
   "metadata": {},
   "outputs": [],
   "source": [
    "# division into samples with categorical features\n",
    "ct_feature_train, ct_target_train,\\\n",
    "ct_feature_valid, ct_target_valid,\\\n",
    "ct_feature_test, ct_target_test = train_valid_test_split(data, \n",
    "                                                        target = 'Price', \n",
    "                                                        train_size=0.6, \n",
    "                                                        valid_size=0.2, \n",
    "                                                        test_size=0.2,\n",
    "                                                        random_state=12345)\n",
    "\n",
    "cat_feature = ['VehicleType','Model','FuelType','Brand']"
   ]
  },
  {
   "cell_type": "code",
   "execution_count": 15,
   "metadata": {},
   "outputs": [],
   "source": [
    "# division into samples\n",
    "feature_train, target_train, feature_valid, target_valid, feature_test, target_test = train_valid_test_split(data, \n",
    "                                                                            target = 'Price', \n",
    "                                                                            train_size=0.6, \n",
    "                                                                            valid_size=0.2, \n",
    "                                                                            test_size=0.2,\n",
    "                                                                            random_state=12345)"
   ]
  },
  {
   "cell_type": "code",
   "execution_count": 16,
   "metadata": {},
   "outputs": [],
   "source": [
    "# Ordinal Encoding\n",
    "encoder = OrdinalEncoder()\n",
    "cat_columns = ['VehicleType','FuelType','Brand','Model']\n",
    "\n",
    "feature_train_ordinal = feature_train[cat_columns]\n",
    "feature_train_ordinal = pd.DataFrame(encoder.fit_transform(feature_train_ordinal),\n",
    "                                columns=feature_train_ordinal.columns, \n",
    "                                index=feature_train_ordinal.index)\n",
    "\n",
    "ordinal_features_train = feature_train.copy()\n",
    "for column in cat_columns:\n",
    "    ordinal_features_train[column] = feature_train_ordinal[column]"
   ]
  },
  {
   "cell_type": "code",
   "execution_count": 17,
   "metadata": {},
   "outputs": [],
   "source": [
    "feature_valid_ordinal = feature_valid[cat_columns]\n",
    "\n",
    "feature_valid_ordinal = pd.DataFrame(encoder.fit_transform(feature_valid_ordinal),\n",
    "                                columns=feature_valid_ordinal.columns, \n",
    "                                index=feature_valid_ordinal.index)\n",
    "\n",
    "ordinal_features_valid = feature_valid.copy()\n",
    "for column in cat_columns:\n",
    "    ordinal_features_valid[column] = feature_valid_ordinal[column]"
   ]
  },
  {
   "cell_type": "code",
   "execution_count": 18,
   "metadata": {},
   "outputs": [],
   "source": [
    "feature_test_ordinal = feature_test[cat_columns]\n",
    "feature_test_ordinal = pd.DataFrame(encoder.fit_transform(feature_test_ordinal),\n",
    "                                columns=feature_test_ordinal.columns, \n",
    "                                index=feature_test_ordinal.index)\n",
    "\n",
    "ordinal_features_test = feature_test.copy()\n",
    "for column in cat_columns:\n",
    "    ordinal_features_test[column] = feature_test_ordinal[column]"
   ]
  },
  {
   "cell_type": "code",
   "execution_count": 19,
   "metadata": {},
   "outputs": [],
   "source": [
    "# OHE\n",
    "ohe_feature_train = pd.get_dummies(feature_train, drop_first=True)\n",
    "ohe_feature_valid = pd.get_dummies(feature_valid, drop_first=True)\n",
    "lst1=['Model_gl', 'Model_samara', 'Model_serie_2']\n",
    "ohe_feature_train = ohe_feature_train.drop(lst1,axis=1)"
   ]
  },
  {
   "cell_type": "markdown",
   "metadata": {},
   "source": [
    "## Linear Regression"
   ]
  },
  {
   "cell_type": "markdown",
   "metadata": {},
   "source": [
    "For linear models it is better to use direct coding. For example in the feature `Repaired` the linear model reckon that the repaired car is \"one more\" than the unrepaired one. Such a comparison seems to be incorrect."
   ]
  },
  {
   "cell_type": "code",
   "execution_count": 20,
   "metadata": {},
   "outputs": [
    {
     "name": "stdout",
     "output_type": "stream",
     "text": [
      "RMSE of LINEAR REGRESSION 2687.8484963980077\n",
      "--- 1.8466064929962158 seconds ---\n"
     ]
    }
   ],
   "source": [
    "start_time = time.time()\n",
    "\n",
    "Linear_model = None\n",
    "model_regressor = LinearRegression()\n",
    "model_regressor.fit(ohe_feature_train, target_train)\n",
    "Linear_model = model_regressor\n",
    "model_regressor_answer = model_regressor.predict(ohe_feature_valid)\n",
    "model_regressor_rmse = mean_squared_error(target_valid, model_regressor_answer) ** 0.5\n",
    "print('RMSE of LINEAR REGRESSION', model_regressor_rmse)\n",
    "\n",
    "print(\"--- %s seconds ---\" % (time.time() - start_time))"
   ]
  },
  {
   "cell_type": "markdown",
   "metadata": {},
   "source": [
    "## Random forest"
   ]
  },
  {
   "cell_type": "code",
   "execution_count": 21,
   "metadata": {},
   "outputs": [
    {
     "name": "stdout",
     "output_type": "stream",
     "text": [
      "RMSE of RandomForestRegressor 1991.6135678037738\n",
      "n_estim=1, depth=12\n",
      "--- 1.4401860237121582 seconds ---\n",
      "\n"
     ]
    }
   ],
   "source": [
    "start_time = time.time()\n",
    "\n",
    "model_random_forest = None\n",
    "for i in range(1,100): \n",
    "    a = 0\n",
    "    b = 2000\n",
    "    \n",
    "    for y in range(1,20):\n",
    "        model_random_forest = RandomForestRegressor(n_estimators=i, max_depth=y, random_state=12345)\n",
    "        model_random_forest.fit(ordinal_features_train, target_train)\n",
    "        model_random_forest = model_random_forest\n",
    "        prediction = model_random_forest.predict(ordinal_features_valid)\n",
    "        #print(prediction.round())\n",
    "        a = mean_squared_error(target_valid,prediction) ** 0.5\n",
    "#         a = f1_score(target_valid,prediction.round())\n",
    "        if a < b:\n",
    "            break\n",
    "    if a < b:\n",
    "        print ('RMSE of RandomForestRegressor',a)\n",
    "        print(f'n_estim={i}, depth={y}')\n",
    "        print(\"--- %s seconds ---\" % (time.time() - start_time))\n",
    "        print('')   \n",
    "        break"
   ]
  },
  {
   "cell_type": "markdown",
   "metadata": {},
   "source": [
    "# LGBM"
   ]
  },
  {
   "cell_type": "code",
   "execution_count": 22,
   "metadata": {
    "scrolled": false
   },
   "outputs": [
    {
     "name": "stdout",
     "output_type": "stream",
     "text": [
      "[1]\tvalid_0's rmse: 3275.16\tvalid_0's l2: 1.07267e+07\n",
      "[2]\tvalid_0's rmse: 2678.75\tvalid_0's l2: 7.17572e+06\n",
      "[3]\tvalid_0's rmse: 2440.77\tvalid_0's l2: 5.95736e+06\n",
      "[4]\tvalid_0's rmse: 2293.34\tvalid_0's l2: 5.25941e+06\n",
      "[5]\tvalid_0's rmse: 2227.41\tvalid_0's l2: 4.96135e+06\n",
      "[6]\tvalid_0's rmse: 2158.42\tvalid_0's l2: 4.65879e+06\n",
      "[7]\tvalid_0's rmse: 2113.37\tvalid_0's l2: 4.46634e+06\n",
      "[8]\tvalid_0's rmse: 2078.68\tvalid_0's l2: 4.32092e+06\n",
      "[9]\tvalid_0's rmse: 2050.81\tvalid_0's l2: 4.2058e+06\n",
      "[10]\tvalid_0's rmse: 2031.75\tvalid_0's l2: 4.12801e+06\n",
      "[1]\tvalid_0's rmse: 3247.37\tvalid_0's l2: 1.05454e+07\n",
      "[2]\tvalid_0's rmse: 2655.55\tvalid_0's l2: 7.05193e+06\n",
      "[3]\tvalid_0's rmse: 2405.24\tvalid_0's l2: 5.78517e+06\n",
      "[4]\tvalid_0's rmse: 2297.18\tvalid_0's l2: 5.27703e+06\n",
      "[5]\tvalid_0's rmse: 2212.5\tvalid_0's l2: 4.89517e+06\n",
      "[6]\tvalid_0's rmse: 2138.47\tvalid_0's l2: 4.57306e+06\n",
      "[7]\tvalid_0's rmse: 2099.94\tvalid_0's l2: 4.40974e+06\n",
      "[8]\tvalid_0's rmse: 2067.39\tvalid_0's l2: 4.27412e+06\n",
      "[9]\tvalid_0's rmse: 2036.73\tvalid_0's l2: 4.14829e+06\n",
      "[10]\tvalid_0's rmse: 2023.73\tvalid_0's l2: 4.09548e+06\n",
      "[1]\tvalid_0's rmse: 3216.97\tvalid_0's l2: 1.03489e+07\n",
      "[2]\tvalid_0's rmse: 2661.75\tvalid_0's l2: 7.0849e+06\n",
      "[3]\tvalid_0's rmse: 2410.05\tvalid_0's l2: 5.80832e+06\n",
      "[4]\tvalid_0's rmse: 2264.86\tvalid_0's l2: 5.12958e+06\n",
      "[5]\tvalid_0's rmse: 2188.54\tvalid_0's l2: 4.78972e+06\n",
      "[6]\tvalid_0's rmse: 2137.42\tvalid_0's l2: 4.56857e+06\n",
      "[7]\tvalid_0's rmse: 2102.98\tvalid_0's l2: 4.42251e+06\n",
      "[8]\tvalid_0's rmse: 2048.12\tvalid_0's l2: 4.19479e+06\n",
      "[9]\tvalid_0's rmse: 2028.24\tvalid_0's l2: 4.11375e+06\n",
      "[10]\tvalid_0's rmse: 2008.76\tvalid_0's l2: 4.03511e+06\n",
      "[1]\tvalid_0's rmse: 3191.36\tvalid_0's l2: 1.01848e+07\n",
      "[2]\tvalid_0's rmse: 2619.91\tvalid_0's l2: 6.86391e+06\n",
      "[3]\tvalid_0's rmse: 2368.89\tvalid_0's l2: 5.61162e+06\n",
      "[4]\tvalid_0's rmse: 2213.16\tvalid_0's l2: 4.8981e+06\n",
      "[5]\tvalid_0's rmse: 2161.17\tvalid_0's l2: 4.67066e+06\n",
      "[6]\tvalid_0's rmse: 2110.04\tvalid_0's l2: 4.45227e+06\n",
      "[7]\tvalid_0's rmse: 2079.04\tvalid_0's l2: 4.32242e+06\n",
      "[8]\tvalid_0's rmse: 2035.87\tvalid_0's l2: 4.14476e+06\n",
      "[9]\tvalid_0's rmse: 2012.83\tvalid_0's l2: 4.05149e+06\n",
      "[10]\tvalid_0's rmse: 1993.57\tvalid_0's l2: 3.97431e+06\n",
      "[1]\tvalid_0's rmse: 3174.71\tvalid_0's l2: 1.00788e+07\n",
      "[2]\tvalid_0's rmse: 2604.27\tvalid_0's l2: 6.78222e+06\n",
      "[3]\tvalid_0's rmse: 2362.38\tvalid_0's l2: 5.58085e+06\n",
      "[4]\tvalid_0's rmse: 2219.56\tvalid_0's l2: 4.92643e+06\n",
      "[5]\tvalid_0's rmse: 2159.31\tvalid_0's l2: 4.66264e+06\n",
      "[6]\tvalid_0's rmse: 2103.72\tvalid_0's l2: 4.42566e+06\n",
      "[7]\tvalid_0's rmse: 2043.62\tvalid_0's l2: 4.17639e+06\n",
      "[8]\tvalid_0's rmse: 2022.81\tvalid_0's l2: 4.09176e+06\n",
      "[9]\tvalid_0's rmse: 1999.85\tvalid_0's l2: 3.99939e+06\n",
      "[10]\tvalid_0's rmse: 1976.55\tvalid_0's l2: 3.90676e+06\n",
      "[1]\tvalid_0's rmse: 3157.31\tvalid_0's l2: 9.96863e+06\n",
      "[2]\tvalid_0's rmse: 2584.09\tvalid_0's l2: 6.67751e+06\n",
      "[3]\tvalid_0's rmse: 2341.48\tvalid_0's l2: 5.48251e+06\n",
      "[4]\tvalid_0's rmse: 2201.7\tvalid_0's l2: 4.84747e+06\n",
      "[5]\tvalid_0's rmse: 2125.14\tvalid_0's l2: 4.51623e+06\n",
      "[6]\tvalid_0's rmse: 2066.77\tvalid_0's l2: 4.27153e+06\n",
      "[7]\tvalid_0's rmse: 2030.18\tvalid_0's l2: 4.12161e+06\n",
      "[8]\tvalid_0's rmse: 2006.24\tvalid_0's l2: 4.025e+06\n",
      "[9]\tvalid_0's rmse: 1976.7\tvalid_0's l2: 3.90732e+06\n",
      "[10]\tvalid_0's rmse: 1959.29\tvalid_0's l2: 3.83881e+06\n",
      "[1]\tvalid_0's rmse: 3146.05\tvalid_0's l2: 9.89762e+06\n",
      "[2]\tvalid_0's rmse: 2563.59\tvalid_0's l2: 6.572e+06\n",
      "[3]\tvalid_0's rmse: 2319.13\tvalid_0's l2: 5.37838e+06\n",
      "[4]\tvalid_0's rmse: 2181.07\tvalid_0's l2: 4.75707e+06\n",
      "[5]\tvalid_0's rmse: 2105.94\tvalid_0's l2: 4.43499e+06\n",
      "[6]\tvalid_0's rmse: 2061.04\tvalid_0's l2: 4.2479e+06\n",
      "[7]\tvalid_0's rmse: 2001.28\tvalid_0's l2: 4.0051e+06\n",
      "[8]\tvalid_0's rmse: 1979.5\tvalid_0's l2: 3.91841e+06\n",
      "[9]\tvalid_0's rmse: 1953.02\tvalid_0's l2: 3.81427e+06\n",
      "[10]\tvalid_0's rmse: 1938.27\tvalid_0's l2: 3.75689e+06\n",
      "[1]\tvalid_0's rmse: 3131.53\tvalid_0's l2: 9.80646e+06\n",
      "[2]\tvalid_0's rmse: 2555.77\tvalid_0's l2: 6.53197e+06\n",
      "[3]\tvalid_0's rmse: 2305.78\tvalid_0's l2: 5.31664e+06\n",
      "[4]\tvalid_0's rmse: 2153.57\tvalid_0's l2: 4.63787e+06\n",
      "[5]\tvalid_0's rmse: 2099.64\tvalid_0's l2: 4.40847e+06\n",
      "[6]\tvalid_0's rmse: 2030.64\tvalid_0's l2: 4.12349e+06\n",
      "[7]\tvalid_0's rmse: 1999.61\tvalid_0's l2: 3.99846e+06\n",
      "[8]\tvalid_0's rmse: 1975.03\tvalid_0's l2: 3.90075e+06\n",
      "[9]\tvalid_0's rmse: 1950.55\tvalid_0's l2: 3.80463e+06\n",
      "[10]\tvalid_0's rmse: 1929.96\tvalid_0's l2: 3.72473e+06\n",
      "[1]\tvalid_0's rmse: 3120.32\tvalid_0's l2: 9.73642e+06\n",
      "[2]\tvalid_0's rmse: 2537.46\tvalid_0's l2: 6.4387e+06\n",
      "[3]\tvalid_0's rmse: 2283.69\tvalid_0's l2: 5.21524e+06\n",
      "[4]\tvalid_0's rmse: 2163.58\tvalid_0's l2: 4.6811e+06\n",
      "[5]\tvalid_0's rmse: 2078.65\tvalid_0's l2: 4.32079e+06\n",
      "[6]\tvalid_0's rmse: 2040.22\tvalid_0's l2: 4.1625e+06\n",
      "[7]\tvalid_0's rmse: 1988.26\tvalid_0's l2: 3.95316e+06\n",
      "[8]\tvalid_0's rmse: 1962.85\tvalid_0's l2: 3.85278e+06\n",
      "[9]\tvalid_0's rmse: 1961.71\tvalid_0's l2: 3.8483e+06\n",
      "[10]\tvalid_0's rmse: 1946.61\tvalid_0's l2: 3.78928e+06\n",
      "[1]\tvalid_0's rmse: 3110.58\tvalid_0's l2: 9.6757e+06\n",
      "[2]\tvalid_0's rmse: 2526.03\tvalid_0's l2: 6.38083e+06\n",
      "[3]\tvalid_0's rmse: 2283.1\tvalid_0's l2: 5.21253e+06\n",
      "[4]\tvalid_0's rmse: 2140.79\tvalid_0's l2: 4.58298e+06\n",
      "[5]\tvalid_0's rmse: 2069.08\tvalid_0's l2: 4.2811e+06\n",
      "[6]\tvalid_0's rmse: 2018.56\tvalid_0's l2: 4.07457e+06\n",
      "[7]\tvalid_0's rmse: 1981.84\tvalid_0's l2: 3.92769e+06\n",
      "[8]\tvalid_0's rmse: 1953.4\tvalid_0's l2: 3.81577e+06\n",
      "[9]\tvalid_0's rmse: 1934.66\tvalid_0's l2: 3.74292e+06\n",
      "[10]\tvalid_0's rmse: 1924.24\tvalid_0's l2: 3.7027e+06\n",
      "--- 1.3063628673553467 seconds ---\n"
     ]
    }
   ],
   "source": [
    "start_time = time.time()\n",
    "lightGBM_model = None\n",
    "for i in range(10,20):\n",
    "    gbm = lgb.LGBMRegressor(objective='regression',num_leaves=i,learning_rate=0.5,n_estimators=10)\n",
    "\n",
    "    gbm.fit(ordinal_features_train, target_train,eval_set=[(ordinal_features_valid, target_valid)],\\\n",
    "                                                            eval_metric='rmse',\\\n",
    "                                                            early_stopping_rounds=5)\n",
    "\n",
    "    lightGBM_model = gbm\n",
    "    \n",
    "print(\"--- %s seconds ---\" % (time.time() - start_time))     "
   ]
  },
  {
   "cell_type": "markdown",
   "metadata": {},
   "source": [
    "## Model analysis"
   ]
  },
  {
   "cell_type": "markdown",
   "metadata": {},
   "source": [
    "Checking on a test sample"
   ]
  },
  {
   "cell_type": "markdown",
   "metadata": {},
   "source": [
    "### Linear Regression"
   ]
  },
  {
   "cell_type": "code",
   "execution_count": 23,
   "metadata": {},
   "outputs": [
    {
     "name": "stdout",
     "output_type": "stream",
     "text": [
      "2687.8484963980077\n",
      "--- 0.1293644905090332 seconds ---\n"
     ]
    }
   ],
   "source": [
    "start_time = time.time()\n",
    "\n",
    "answer1 = Linear_model.predict(ohe_feature_valid)\n",
    "rmse1 = mean_squared_error(target_valid,answer1) ** 0.5\n",
    "print(rmse1)\n",
    "\n",
    "print(\"--- %s seconds ---\" % (time.time() - start_time))"
   ]
  },
  {
   "cell_type": "markdown",
   "metadata": {},
   "source": [
    "## Random forest"
   ]
  },
  {
   "cell_type": "code",
   "execution_count": 24,
   "metadata": {},
   "outputs": [
    {
     "name": "stdout",
     "output_type": "stream",
     "text": [
      "1991.6135678037738\n",
      "--- 0.015001535415649414 seconds ---\n"
     ]
    }
   ],
   "source": [
    "start_time = time.time()\n",
    "\n",
    "answer2 = model_random_forest.predict(ordinal_features_valid)\n",
    "rmse2 = mean_squared_error(target_valid,answer2) ** 0.5\n",
    "print(rmse2)\n",
    "\n",
    "print(\"--- %s seconds ---\" % (time.time() - start_time))"
   ]
  },
  {
   "cell_type": "markdown",
   "metadata": {},
   "source": [
    "## LGBM"
   ]
  },
  {
   "cell_type": "code",
   "execution_count": 25,
   "metadata": {},
   "outputs": [
    {
     "name": "stdout",
     "output_type": "stream",
     "text": [
      "1924.2394306293477\n",
      "--- 0.015092611312866211 seconds ---\n"
     ]
    }
   ],
   "source": [
    "start_time = time.time()\n",
    "\n",
    "answer3 = lightGBM_model.predict(ordinal_features_valid)\n",
    "rmse3 = mean_squared_error(target_valid,answer3) ** 0.5\n",
    "print(rmse3)\n",
    "\n",
    "print(\"--- %s seconds ---\" % (time.time() - start_time))"
   ]
  },
  {
   "cell_type": "markdown",
   "metadata": {},
   "source": [
    "**Conclusion:**\n",
    "    \n",
    "Used 3 models with different parameters:\n",
    "\n",
    "* Linear regression:\n",
    "1. RMSE 2966\n",
    "2. Training time = 0.03 seconds\n",
    "3. Prediction time = 0.004 seconds\n",
    "\n",
    "    \n",
    "* Random forest: (2 trees and 16 branches)\n",
    "1. RMSE 1991\n",
    "2. Training time = 2.02 seconds\n",
    "3. Prediction time = 0.012 seconds\n",
    "\n",
    "    \n",
    "* lightGBM: Depth - 15, Learning Rate - 0.7 ,n_estimators=10)\n",
    "1. RMSE 1976\n",
    "2. Training time = 0.99 seconds\n",
    "3. Prediction time = 0.106 seconds"
   ]
  },
  {
   "cell_type": "markdown",
   "metadata": {},
   "source": [
    "lightGBM_model turned out to be the best in quality. Check on a test sample"
   ]
  },
  {
   "cell_type": "code",
   "execution_count": 26,
   "metadata": {},
   "outputs": [
    {
     "name": "stdout",
     "output_type": "stream",
     "text": [
      "1928.6687579990123\n",
      "--- 0.01853489875793457 seconds ---\n"
     ]
    }
   ],
   "source": [
    "start_time = time.time()\n",
    "\n",
    "answer_best = lightGBM_model.predict(ordinal_features_test)\n",
    "rmse_best = mean_squared_error(target_test,answer_best) ** 0.5\n",
    "print(rmse_best)\n",
    "\n",
    "print(\"--- %s seconds ---\" % (time.time() - start_time))"
   ]
  },
  {
   "cell_type": "markdown",
   "metadata": {},
   "source": [
    "**GENERAL CONCLUSION**\n",
    "\n",
    "In the course of the work, the following was done:\n",
    "\n",
    "- Data loaded and pre-processed;\n",
    "- Models were compared using different sets of hyperparameters;\n",
    "- The best model was selected based on the results of the RMSE metric and training time;\n",
    "\n",
    "The choice of model was not influenced by the training time for cross-validation.\n",
    "\n",
    "The best model in two parameters: quality and speed of prediction can be considered lightGBM.\n",
    "All the rest showed themselves generally worse.\n",
    "LinearRegression proved to be very weak in this task.\n",
    "\n",
    "Based on the rating obtained it is possible to identify the specifics of tasks for regressors.\n",
    "\n",
    "For fast solutions with good accuracy a Random Forest with trained features will do.\n",
    "If accuracy is important in business and there is time the LGBMRegressor regressor will help to predict best of all."
   ]
  }
 ],
 "metadata": {
  "ExecuteTimeLog": [
   {
    "duration": 433,
    "start_time": "2022-09-17T08:34:03.000Z"
   },
   {
    "duration": 2,
    "start_time": "2022-09-17T08:34:05.602Z"
   },
   {
    "duration": 2,
    "start_time": "2022-09-17T08:34:23.762Z"
   },
   {
    "duration": 1119,
    "start_time": "2022-09-17T08:34:42.032Z"
   },
   {
    "duration": 30,
    "start_time": "2022-09-17T08:34:46.895Z"
   },
   {
    "duration": 125,
    "start_time": "2022-09-17T08:37:00.714Z"
   },
   {
    "duration": 109,
    "start_time": "2022-09-17T08:38:00.902Z"
   },
   {
    "duration": 2,
    "start_time": "2022-09-17T08:38:46.607Z"
   },
   {
    "duration": 118,
    "start_time": "2022-09-17T08:39:40.021Z"
   },
   {
    "duration": 113,
    "start_time": "2022-09-17T08:39:47.344Z"
   },
   {
    "duration": 119,
    "start_time": "2022-09-17T08:39:52.002Z"
   },
   {
    "duration": 133,
    "start_time": "2022-09-17T08:39:58.906Z"
   },
   {
    "duration": 75,
    "start_time": "2022-09-17T08:40:16.172Z"
   },
   {
    "duration": 129,
    "start_time": "2022-09-17T08:40:20.509Z"
   },
   {
    "duration": 1517,
    "start_time": "2022-09-17T08:42:18.808Z"
   },
   {
    "duration": 31,
    "start_time": "2022-09-17T08:42:44.819Z"
   },
   {
    "duration": 30,
    "start_time": "2022-09-17T08:43:02.897Z"
   },
   {
    "duration": 29,
    "start_time": "2022-09-17T08:43:13.774Z"
   },
   {
    "duration": 63,
    "start_time": "2022-09-17T08:48:46.433Z"
   },
   {
    "duration": 3,
    "start_time": "2022-09-17T08:55:46.305Z"
   },
   {
    "duration": 316,
    "start_time": "2022-09-17T08:55:54.504Z"
   },
   {
    "duration": 888,
    "start_time": "2022-09-17T08:56:48.972Z"
   },
   {
    "duration": 310,
    "start_time": "2022-09-17T09:02:03.348Z"
   },
   {
    "duration": 108,
    "start_time": "2022-09-17T09:05:19.853Z"
   },
   {
    "duration": 8,
    "start_time": "2022-09-17T09:05:36.171Z"
   },
   {
    "duration": 7,
    "start_time": "2022-09-17T09:05:40.845Z"
   },
   {
    "duration": 64,
    "start_time": "2022-09-17T09:06:07.015Z"
   },
   {
    "duration": 71,
    "start_time": "2022-09-17T09:06:10.250Z"
   },
   {
    "duration": 40,
    "start_time": "2022-09-17T09:06:42.036Z"
   },
   {
    "duration": 75,
    "start_time": "2022-09-17T09:06:43.450Z"
   },
   {
    "duration": 49,
    "start_time": "2022-09-17T09:07:09.032Z"
   },
   {
    "duration": 20,
    "start_time": "2022-09-17T09:07:17.977Z"
   },
   {
    "duration": 15,
    "start_time": "2022-09-17T09:20:34.700Z"
   },
   {
    "duration": 428,
    "start_time": "2022-09-17T09:20:53.255Z"
   },
   {
    "duration": 1113,
    "start_time": "2022-09-17T09:20:53.685Z"
   },
   {
    "duration": 131,
    "start_time": "2022-09-17T09:20:54.799Z"
   },
   {
    "duration": 2,
    "start_time": "2022-09-17T09:20:54.938Z"
   },
   {
    "duration": 51,
    "start_time": "2022-09-17T09:20:54.942Z"
   },
   {
    "duration": 24,
    "start_time": "2022-09-17T09:20:54.995Z"
   },
   {
    "duration": 3,
    "start_time": "2022-09-17T09:39:48.884Z"
   },
   {
    "duration": 16,
    "start_time": "2022-09-17T09:41:38.356Z"
   },
   {
    "duration": 64,
    "start_time": "2022-09-17T09:42:00.503Z"
   },
   {
    "duration": 3,
    "start_time": "2022-09-17T09:42:04.962Z"
   },
   {
    "duration": 28,
    "start_time": "2022-09-17T09:42:05.704Z"
   },
   {
    "duration": 9,
    "start_time": "2022-09-17T09:42:31.815Z"
   },
   {
    "duration": 26,
    "start_time": "2022-09-17T09:42:36.301Z"
   },
   {
    "duration": 7,
    "start_time": "2022-09-17T09:42:39.028Z"
   },
   {
    "duration": 4,
    "start_time": "2022-09-17T09:43:36.223Z"
   },
   {
    "duration": 5,
    "start_time": "2022-09-17T09:44:07.268Z"
   },
   {
    "duration": 4,
    "start_time": "2022-09-17T09:44:27.551Z"
   },
   {
    "duration": 5,
    "start_time": "2022-09-17T09:44:39.300Z"
   },
   {
    "duration": 4,
    "start_time": "2022-09-17T09:44:54.812Z"
   },
   {
    "duration": 4,
    "start_time": "2022-09-17T09:44:57.618Z"
   },
   {
    "duration": 6,
    "start_time": "2022-09-17T09:45:02.755Z"
   },
   {
    "duration": 5,
    "start_time": "2022-09-17T09:45:09.494Z"
   },
   {
    "duration": 6,
    "start_time": "2022-09-17T09:45:13.149Z"
   },
   {
    "duration": 4,
    "start_time": "2022-09-17T09:45:16.507Z"
   },
   {
    "duration": 4,
    "start_time": "2022-09-17T09:45:21.323Z"
   },
   {
    "duration": 5,
    "start_time": "2022-09-17T09:45:28.336Z"
   },
   {
    "duration": 8,
    "start_time": "2022-09-17T09:57:21.313Z"
   },
   {
    "duration": 4,
    "start_time": "2022-09-17T09:57:25.136Z"
   },
   {
    "duration": 42,
    "start_time": "2022-09-17T09:57:28.066Z"
   },
   {
    "duration": 8,
    "start_time": "2022-09-17T09:59:09.086Z"
   },
   {
    "duration": 6,
    "start_time": "2022-09-17T09:59:22.763Z"
   },
   {
    "duration": 52,
    "start_time": "2022-09-17T10:00:05.727Z"
   },
   {
    "duration": 67,
    "start_time": "2022-09-17T10:01:36.907Z"
   },
   {
    "duration": 65,
    "start_time": "2022-09-17T10:02:00.207Z"
   },
   {
    "duration": 51,
    "start_time": "2022-09-17T10:02:20.014Z"
   },
   {
    "duration": 21,
    "start_time": "2022-09-17T10:02:27.371Z"
   },
   {
    "duration": 5,
    "start_time": "2022-09-17T10:02:30.744Z"
   },
   {
    "duration": 12,
    "start_time": "2022-09-17T10:02:37.683Z"
   },
   {
    "duration": 9,
    "start_time": "2022-09-17T10:02:50.853Z"
   },
   {
    "duration": 51,
    "start_time": "2022-09-17T10:02:59.461Z"
   },
   {
    "duration": 33,
    "start_time": "2022-09-17T10:03:27.992Z"
   },
   {
    "duration": 11,
    "start_time": "2022-09-17T10:03:57.316Z"
   },
   {
    "duration": 48,
    "start_time": "2022-09-17T10:04:35.920Z"
   },
   {
    "duration": 4,
    "start_time": "2022-09-17T10:04:42.179Z"
   },
   {
    "duration": 4,
    "start_time": "2022-09-17T10:04:50.183Z"
   },
   {
    "duration": 5,
    "start_time": "2022-09-17T10:05:08.715Z"
   },
   {
    "duration": 47,
    "start_time": "2022-09-17T10:05:11.863Z"
   },
   {
    "duration": 68,
    "start_time": "2022-09-17T10:05:14.365Z"
   },
   {
    "duration": 5,
    "start_time": "2022-09-17T10:05:18.620Z"
   },
   {
    "duration": 14,
    "start_time": "2022-09-17T10:07:08.349Z"
   },
   {
    "duration": 14,
    "start_time": "2022-09-17T10:07:17.701Z"
   },
   {
    "duration": 445,
    "start_time": "2022-09-17T10:07:41.207Z"
   },
   {
    "duration": 1075,
    "start_time": "2022-09-17T10:07:41.655Z"
   },
   {
    "duration": 126,
    "start_time": "2022-09-17T10:07:42.732Z"
   },
   {
    "duration": 4,
    "start_time": "2022-09-17T10:07:42.860Z"
   },
   {
    "duration": 368,
    "start_time": "2022-09-17T10:07:42.866Z"
   },
   {
    "duration": 41,
    "start_time": "2022-09-17T10:07:43.236Z"
   },
   {
    "duration": 91,
    "start_time": "2022-09-17T10:07:43.279Z"
   },
   {
    "duration": 186,
    "start_time": "2022-09-17T10:09:31.240Z"
   },
   {
    "duration": 5,
    "start_time": "2022-09-17T10:09:36.148Z"
   },
   {
    "duration": 6,
    "start_time": "2022-09-17T10:10:33.099Z"
   },
   {
    "duration": 126,
    "start_time": "2022-09-17T10:10:44.888Z"
   },
   {
    "duration": 44,
    "start_time": "2022-09-17T10:10:48.452Z"
   },
   {
    "duration": 17,
    "start_time": "2022-09-17T10:10:51.729Z"
   },
   {
    "duration": 8,
    "start_time": "2022-09-17T10:11:28.457Z"
   },
   {
    "duration": 281,
    "start_time": "2022-09-17T10:18:49.684Z"
   },
   {
    "duration": 80,
    "start_time": "2022-09-17T10:18:57.524Z"
   },
   {
    "duration": 252,
    "start_time": "2022-09-17T10:20:43.261Z"
   },
   {
    "duration": 3,
    "start_time": "2022-09-17T10:28:35.499Z"
   },
   {
    "duration": 287,
    "start_time": "2022-09-17T10:30:28.810Z"
   },
   {
    "duration": 12,
    "start_time": "2022-09-17T10:30:48.424Z"
   },
   {
    "duration": 3,
    "start_time": "2022-09-17T10:31:32.064Z"
   },
   {
    "duration": 0,
    "start_time": "2022-09-17T10:32:01.510Z"
   },
   {
    "duration": 357,
    "start_time": "2022-09-17T10:32:03.690Z"
   },
   {
    "duration": 604,
    "start_time": "2022-09-17T10:32:10.092Z"
   },
   {
    "duration": 43795,
    "start_time": "2022-09-17T10:32:33.107Z"
   },
   {
    "duration": 4,
    "start_time": "2022-09-17T10:33:46.933Z"
   },
   {
    "duration": 19198,
    "start_time": "2022-09-17T10:33:54.360Z"
   },
   {
    "duration": 4,
    "start_time": "2022-09-17T10:34:19.217Z"
   },
   {
    "duration": 36426,
    "start_time": "2022-09-17T10:34:21.469Z"
   },
   {
    "duration": 4,
    "start_time": "2022-09-17T10:36:02.312Z"
   },
   {
    "duration": 765,
    "start_time": "2022-09-17T10:36:11.303Z"
   },
   {
    "duration": 111,
    "start_time": "2022-09-17T10:36:26.455Z"
   },
   {
    "duration": 3,
    "start_time": "2022-09-17T10:36:36.106Z"
   },
   {
    "duration": 10159,
    "start_time": "2022-09-17T10:36:38.949Z"
   },
   {
    "duration": 1350,
    "start_time": "2022-09-17T10:36:50.901Z"
   },
   {
    "duration": 1037,
    "start_time": "2022-09-17T10:36:54.902Z"
   },
   {
    "duration": 3,
    "start_time": "2022-09-17T10:37:55.255Z"
   },
   {
    "duration": 768,
    "start_time": "2022-09-17T10:37:57.423Z"
   },
   {
    "duration": 3,
    "start_time": "2022-09-17T10:40:14.546Z"
   },
   {
    "duration": 615,
    "start_time": "2022-09-17T10:40:17.577Z"
   },
   {
    "duration": 3,
    "start_time": "2022-09-17T10:40:41.867Z"
   },
   {
    "duration": 107,
    "start_time": "2022-09-17T10:40:47.480Z"
   },
   {
    "duration": 19,
    "start_time": "2022-09-17T10:41:05.887Z"
   },
   {
    "duration": 9,
    "start_time": "2022-09-17T10:41:29.328Z"
   },
   {
    "duration": 4,
    "start_time": "2022-09-17T10:41:55.314Z"
   },
   {
    "duration": 109,
    "start_time": "2022-09-17T10:41:57.156Z"
   },
   {
    "duration": 9,
    "start_time": "2022-09-17T10:41:58.721Z"
   },
   {
    "duration": 3,
    "start_time": "2022-09-17T10:42:16.304Z"
   },
   {
    "duration": 125,
    "start_time": "2022-09-17T10:42:17.849Z"
   },
   {
    "duration": 434,
    "start_time": "2022-09-17T10:42:28.063Z"
   },
   {
    "duration": 1080,
    "start_time": "2022-09-17T10:42:28.499Z"
   },
   {
    "duration": 113,
    "start_time": "2022-09-17T10:42:29.581Z"
   },
   {
    "duration": 5,
    "start_time": "2022-09-17T10:42:29.697Z"
   },
   {
    "duration": 357,
    "start_time": "2022-09-17T10:42:29.704Z"
   },
   {
    "duration": 67,
    "start_time": "2022-09-17T10:42:30.063Z"
   },
   {
    "duration": 317,
    "start_time": "2022-09-17T10:42:30.133Z"
   },
   {
    "duration": 4,
    "start_time": "2022-09-17T10:42:30.452Z"
   },
   {
    "duration": 282780,
    "start_time": "2022-09-17T10:42:30.458Z"
   },
   {
    "duration": 11,
    "start_time": "2022-09-17T10:47:13.241Z"
   },
   {
    "duration": 85,
    "start_time": "2022-09-17T10:47:13.254Z"
   },
   {
    "duration": 5,
    "start_time": "2022-09-17T10:54:06.467Z"
   },
   {
    "duration": 3,
    "start_time": "2022-09-17T10:54:11.950Z"
   },
   {
    "duration": 341,
    "start_time": "2022-09-17T10:55:06.688Z"
   },
   {
    "duration": 77,
    "start_time": "2022-09-17T10:55:12.724Z"
   },
   {
    "duration": 67,
    "start_time": "2022-09-17T11:00:28.064Z"
   },
   {
    "duration": 81,
    "start_time": "2022-09-17T11:00:31.739Z"
   },
   {
    "duration": 7,
    "start_time": "2022-09-17T11:01:28.673Z"
   },
   {
    "duration": 624,
    "start_time": "2022-09-17T11:01:33.183Z"
   },
   {
    "duration": 347,
    "start_time": "2022-09-17T11:02:09.748Z"
   },
   {
    "duration": 377,
    "start_time": "2022-09-17T11:03:12.777Z"
   },
   {
    "duration": 416,
    "start_time": "2022-09-17T11:03:15.142Z"
   },
   {
    "duration": 17,
    "start_time": "2022-09-17T11:08:18.189Z"
   },
   {
    "duration": 7,
    "start_time": "2022-09-17T11:08:21.221Z"
   },
   {
    "duration": 92,
    "start_time": "2022-09-17T11:08:24.305Z"
   },
   {
    "duration": 18,
    "start_time": "2022-09-17T11:08:46.962Z"
   },
   {
    "duration": 3,
    "start_time": "2022-09-17T11:09:57.069Z"
   },
   {
    "duration": 317,
    "start_time": "2022-09-17T11:10:20.942Z"
   },
   {
    "duration": 11,
    "start_time": "2022-09-17T11:11:06.470Z"
   },
   {
    "duration": 10,
    "start_time": "2022-09-17T11:11:09.825Z"
   },
   {
    "duration": 11,
    "start_time": "2022-09-17T11:12:12.589Z"
   },
   {
    "duration": 393,
    "start_time": "2022-09-17T11:12:23.769Z"
   },
   {
    "duration": 370,
    "start_time": "2022-09-17T11:12:27.203Z"
   },
   {
    "duration": 319,
    "start_time": "2022-09-17T11:12:32.227Z"
   },
   {
    "duration": 348,
    "start_time": "2022-09-17T11:14:10.729Z"
   },
   {
    "duration": 313,
    "start_time": "2022-09-17T11:14:23.001Z"
   },
   {
    "duration": 323,
    "start_time": "2022-09-17T11:15:38.490Z"
   },
   {
    "duration": 359,
    "start_time": "2022-09-17T11:15:50.984Z"
   },
   {
    "duration": 282,
    "start_time": "2022-09-17T11:15:56.446Z"
   },
   {
    "duration": 296,
    "start_time": "2022-09-17T11:18:44.066Z"
   },
   {
    "duration": 325,
    "start_time": "2022-09-17T11:21:02.735Z"
   },
   {
    "duration": 318,
    "start_time": "2022-09-17T11:22:25.497Z"
   },
   {
    "duration": 669,
    "start_time": "2022-09-17T11:22:45.339Z"
   },
   {
    "duration": 996,
    "start_time": "2022-09-17T11:22:46.011Z"
   },
   {
    "duration": 118,
    "start_time": "2022-09-17T11:22:47.009Z"
   },
   {
    "duration": 7,
    "start_time": "2022-09-17T11:22:47.128Z"
   },
   {
    "duration": 8,
    "start_time": "2022-09-17T11:22:47.138Z"
   },
   {
    "duration": 51,
    "start_time": "2022-09-17T11:22:47.148Z"
   },
   {
    "duration": 640,
    "start_time": "2022-09-17T11:23:37.826Z"
   },
   {
    "duration": 1036,
    "start_time": "2022-09-17T11:23:38.468Z"
   },
   {
    "duration": 114,
    "start_time": "2022-09-17T11:23:39.506Z"
   },
   {
    "duration": 9,
    "start_time": "2022-09-17T11:23:39.623Z"
   },
   {
    "duration": 36,
    "start_time": "2022-09-17T11:23:39.634Z"
   },
   {
    "duration": 66,
    "start_time": "2022-09-17T11:23:39.672Z"
   },
   {
    "duration": 691,
    "start_time": "2022-09-17T11:23:49.068Z"
   },
   {
    "duration": 988,
    "start_time": "2022-09-17T11:23:49.762Z"
   },
   {
    "duration": 113,
    "start_time": "2022-09-17T11:23:50.752Z"
   },
   {
    "duration": 7,
    "start_time": "2022-09-17T11:23:50.868Z"
   },
   {
    "duration": 12,
    "start_time": "2022-09-17T11:23:50.876Z"
   },
   {
    "duration": 61,
    "start_time": "2022-09-17T11:23:50.890Z"
   },
   {
    "duration": 34772,
    "start_time": "2022-09-17T11:23:50.953Z"
   },
   {
    "duration": 0,
    "start_time": "2022-09-17T11:24:25.727Z"
   },
   {
    "duration": 0,
    "start_time": "2022-09-17T11:24:25.729Z"
   },
   {
    "duration": 0,
    "start_time": "2022-09-17T11:24:25.729Z"
   },
   {
    "duration": 331,
    "start_time": "2022-09-17T11:24:27.142Z"
   },
   {
    "duration": 3917,
    "start_time": "2022-09-17T11:24:33.396Z"
   },
   {
    "duration": 763,
    "start_time": "2022-09-17T11:25:26.993Z"
   },
   {
    "duration": 984,
    "start_time": "2022-09-17T11:25:27.758Z"
   },
   {
    "duration": 122,
    "start_time": "2022-09-17T11:25:28.743Z"
   },
   {
    "duration": 48,
    "start_time": "2022-09-17T11:25:28.875Z"
   },
   {
    "duration": 11,
    "start_time": "2022-09-17T11:25:28.926Z"
   },
   {
    "duration": 85,
    "start_time": "2022-09-17T11:25:28.940Z"
   },
   {
    "duration": 650,
    "start_time": "2022-09-17T11:26:03.966Z"
   },
   {
    "duration": 996,
    "start_time": "2022-09-17T11:26:04.618Z"
   },
   {
    "duration": 117,
    "start_time": "2022-09-17T11:26:05.616Z"
   },
   {
    "duration": 4,
    "start_time": "2022-09-17T11:26:05.735Z"
   },
   {
    "duration": 9,
    "start_time": "2022-09-17T11:26:05.740Z"
   },
   {
    "duration": 5,
    "start_time": "2022-09-17T11:26:05.752Z"
   },
   {
    "duration": 81,
    "start_time": "2022-09-17T11:26:05.759Z"
   },
   {
    "duration": 9845,
    "start_time": "2022-09-17T11:26:05.842Z"
   },
   {
    "duration": 0,
    "start_time": "2022-09-17T11:26:15.689Z"
   },
   {
    "duration": 0,
    "start_time": "2022-09-17T11:26:15.690Z"
   },
   {
    "duration": 0,
    "start_time": "2022-09-17T11:26:15.693Z"
   },
   {
    "duration": 0,
    "start_time": "2022-09-17T11:26:15.694Z"
   },
   {
    "duration": 20,
    "start_time": "2022-09-17T11:26:16.935Z"
   },
   {
    "duration": 32083,
    "start_time": "2022-09-17T11:26:25.484Z"
   },
   {
    "duration": 3,
    "start_time": "2022-09-17T11:28:00.155Z"
   },
   {
    "duration": 124,
    "start_time": "2022-09-17T11:28:03.120Z"
   },
   {
    "duration": 682,
    "start_time": "2022-09-17T11:28:21.894Z"
   },
   {
    "duration": 975,
    "start_time": "2022-09-17T11:28:22.579Z"
   },
   {
    "duration": 116,
    "start_time": "2022-09-17T11:28:23.556Z"
   },
   {
    "duration": 3,
    "start_time": "2022-09-17T11:28:23.674Z"
   },
   {
    "duration": 8,
    "start_time": "2022-09-17T11:28:23.679Z"
   },
   {
    "duration": 8,
    "start_time": "2022-09-17T11:28:23.688Z"
   },
   {
    "duration": 64,
    "start_time": "2022-09-17T11:28:23.698Z"
   },
   {
    "duration": 377,
    "start_time": "2022-09-17T11:28:23.764Z"
   },
   {
    "duration": 310,
    "start_time": "2022-09-17T11:28:24.143Z"
   },
   {
    "duration": 355,
    "start_time": "2022-09-17T11:28:24.455Z"
   },
   {
    "duration": 78,
    "start_time": "2022-09-17T11:28:24.812Z"
   },
   {
    "duration": 394,
    "start_time": "2022-09-17T11:29:07.749Z"
   },
   {
    "duration": 358,
    "start_time": "2022-09-17T11:29:42.557Z"
   },
   {
    "duration": 728,
    "start_time": "2022-09-17T12:02:46.053Z"
   },
   {
    "duration": 1136,
    "start_time": "2022-09-17T12:02:46.783Z"
   },
   {
    "duration": 104,
    "start_time": "2022-09-17T12:02:47.920Z"
   },
   {
    "duration": 12,
    "start_time": "2022-09-17T12:02:48.027Z"
   },
   {
    "duration": 21,
    "start_time": "2022-09-17T12:02:48.041Z"
   },
   {
    "duration": 60,
    "start_time": "2022-09-17T12:02:48.063Z"
   },
   {
    "duration": 251,
    "start_time": "2022-09-17T12:02:48.125Z"
   },
   {
    "duration": 281,
    "start_time": "2022-09-17T12:02:48.378Z"
   },
   {
    "duration": 361,
    "start_time": "2022-09-17T12:02:48.661Z"
   },
   {
    "duration": 3,
    "start_time": "2022-09-17T12:02:49.024Z"
   },
   {
    "duration": 41,
    "start_time": "2022-09-17T12:02:49.028Z"
   },
   {
    "duration": 296,
    "start_time": "2022-09-17T12:03:15.748Z"
   },
   {
    "duration": 280,
    "start_time": "2022-09-17T12:03:25.439Z"
   },
   {
    "duration": 262,
    "start_time": "2022-09-17T12:03:31.614Z"
   },
   {
    "duration": 229,
    "start_time": "2022-09-17T12:03:40.664Z"
   },
   {
    "duration": 305,
    "start_time": "2022-09-17T12:03:45.322Z"
   },
   {
    "duration": 266,
    "start_time": "2022-09-17T12:03:51.930Z"
   },
   {
    "duration": 267,
    "start_time": "2022-09-17T12:04:01.969Z"
   },
   {
    "duration": 255,
    "start_time": "2022-09-17T12:04:08.949Z"
   },
   {
    "duration": 5,
    "start_time": "2022-09-17T12:06:09.365Z"
   },
   {
    "duration": 35,
    "start_time": "2022-09-17T12:06:34.268Z"
   },
   {
    "duration": 40,
    "start_time": "2022-09-17T12:06:45.234Z"
   },
   {
    "duration": 30,
    "start_time": "2022-09-17T12:07:40.211Z"
   },
   {
    "duration": 30,
    "start_time": "2022-09-17T12:07:43.022Z"
   },
   {
    "duration": 7,
    "start_time": "2022-09-17T12:07:53.024Z"
   },
   {
    "duration": 736,
    "start_time": "2022-09-17T12:08:13.335Z"
   },
   {
    "duration": 6,
    "start_time": "2022-09-17T12:09:30.268Z"
   },
   {
    "duration": 8,
    "start_time": "2022-09-17T12:10:04.873Z"
   },
   {
    "duration": 141,
    "start_time": "2022-09-17T12:10:05.835Z"
   },
   {
    "duration": 6,
    "start_time": "2022-09-17T12:10:13.002Z"
   },
   {
    "duration": 7,
    "start_time": "2022-09-17T12:10:24.711Z"
   },
   {
    "duration": 194,
    "start_time": "2022-09-17T12:10:35.539Z"
   },
   {
    "duration": 11,
    "start_time": "2022-09-17T12:10:36.740Z"
   },
   {
    "duration": 87,
    "start_time": "2022-09-17T12:17:16.748Z"
   },
   {
    "duration": 58,
    "start_time": "2022-09-17T12:17:26.187Z"
   },
   {
    "duration": 77,
    "start_time": "2022-09-17T12:17:31.320Z"
   },
   {
    "duration": 56,
    "start_time": "2022-09-17T12:17:50.088Z"
   },
   {
    "duration": 4,
    "start_time": "2022-09-17T12:22:27.803Z"
   },
   {
    "duration": 8,
    "start_time": "2022-09-17T12:22:36.131Z"
   },
   {
    "duration": 8,
    "start_time": "2022-09-17T12:22:39.158Z"
   },
   {
    "duration": 8,
    "start_time": "2022-09-17T12:22:48.285Z"
   },
   {
    "duration": 8,
    "start_time": "2022-09-17T12:22:50.896Z"
   },
   {
    "duration": 3,
    "start_time": "2022-09-17T12:22:54.931Z"
   },
   {
    "duration": 7,
    "start_time": "2022-09-17T12:23:28.625Z"
   },
   {
    "duration": 3,
    "start_time": "2022-09-17T12:24:13.095Z"
   },
   {
    "duration": 9,
    "start_time": "2022-09-17T12:25:24.539Z"
   },
   {
    "duration": 523,
    "start_time": "2022-09-17T12:25:39.053Z"
   },
   {
    "duration": 5,
    "start_time": "2022-09-17T12:25:42.553Z"
   },
   {
    "duration": 651,
    "start_time": "2022-09-17T12:26:08.055Z"
   },
   {
    "duration": 938,
    "start_time": "2022-09-17T12:26:25.296Z"
   },
   {
    "duration": 1115,
    "start_time": "2022-09-17T12:28:29.329Z"
   },
   {
    "duration": 1104,
    "start_time": "2022-09-17T12:29:25.138Z"
   },
   {
    "duration": 55,
    "start_time": "2022-09-17T12:30:40.359Z"
   },
   {
    "duration": 43,
    "start_time": "2022-09-17T12:30:49.698Z"
   },
   {
    "duration": 984,
    "start_time": "2022-09-17T12:30:51.732Z"
   },
   {
    "duration": 621,
    "start_time": "2022-09-17T12:32:45.595Z"
   },
   {
    "duration": 827,
    "start_time": "2022-09-17T12:32:46.218Z"
   },
   {
    "duration": 105,
    "start_time": "2022-09-17T12:32:47.046Z"
   },
   {
    "duration": 6,
    "start_time": "2022-09-17T12:32:47.153Z"
   },
   {
    "duration": 10,
    "start_time": "2022-09-17T12:32:47.161Z"
   },
   {
    "duration": 48,
    "start_time": "2022-09-17T12:32:47.172Z"
   },
   {
    "duration": 557,
    "start_time": "2022-09-17T12:32:47.222Z"
   },
   {
    "duration": 1029,
    "start_time": "2022-09-17T12:32:47.781Z"
   },
   {
    "duration": 24,
    "start_time": "2022-09-17T12:32:48.812Z"
   },
   {
    "duration": 24,
    "start_time": "2022-09-17T12:34:18.696Z"
   },
   {
    "duration": 1018,
    "start_time": "2022-09-17T12:34:33.596Z"
   },
   {
    "duration": 1060,
    "start_time": "2022-09-17T12:34:48.501Z"
   },
   {
    "duration": 1058,
    "start_time": "2022-09-17T12:35:17.361Z"
   },
   {
    "duration": 884,
    "start_time": "2022-09-17T12:35:18.422Z"
   },
   {
    "duration": 109,
    "start_time": "2022-09-17T12:35:19.312Z"
   },
   {
    "duration": 8,
    "start_time": "2022-09-17T12:35:19.423Z"
   },
   {
    "duration": 34,
    "start_time": "2022-09-17T12:35:19.433Z"
   },
   {
    "duration": 68,
    "start_time": "2022-09-17T12:35:19.469Z"
   },
   {
    "duration": 585,
    "start_time": "2022-09-17T12:35:19.538Z"
   },
   {
    "duration": 1045,
    "start_time": "2022-09-17T12:35:20.125Z"
   },
   {
    "duration": 22,
    "start_time": "2022-09-17T12:35:21.171Z"
   },
   {
    "duration": 32,
    "start_time": "2022-09-17T12:35:21.195Z"
   },
   {
    "duration": 1025,
    "start_time": "2022-09-17T12:35:44.265Z"
   },
   {
    "duration": 884,
    "start_time": "2022-09-17T12:35:45.291Z"
   },
   {
    "duration": 118,
    "start_time": "2022-09-17T12:35:46.176Z"
   },
   {
    "duration": 6,
    "start_time": "2022-09-17T12:35:46.296Z"
   },
   {
    "duration": 26,
    "start_time": "2022-09-17T12:35:46.304Z"
   },
   {
    "duration": 37,
    "start_time": "2022-09-17T12:35:46.332Z"
   },
   {
    "duration": 549,
    "start_time": "2022-09-17T12:35:46.371Z"
   },
   {
    "duration": 1087,
    "start_time": "2022-09-17T12:35:46.922Z"
   },
   {
    "duration": 20,
    "start_time": "2022-09-17T12:35:48.010Z"
   },
   {
    "duration": 19,
    "start_time": "2022-09-17T12:35:48.032Z"
   },
   {
    "duration": 685,
    "start_time": "2022-09-17T12:36:28.210Z"
   },
   {
    "duration": 827,
    "start_time": "2022-09-17T12:36:28.896Z"
   },
   {
    "duration": 104,
    "start_time": "2022-09-17T12:36:29.725Z"
   },
   {
    "duration": 6,
    "start_time": "2022-09-17T12:36:29.831Z"
   },
   {
    "duration": 6,
    "start_time": "2022-09-17T12:36:29.839Z"
   },
   {
    "duration": 41,
    "start_time": "2022-09-17T12:36:29.846Z"
   },
   {
    "duration": 557,
    "start_time": "2022-09-17T12:36:29.888Z"
   },
   {
    "duration": 794,
    "start_time": "2022-09-17T12:36:30.447Z"
   },
   {
    "duration": 21,
    "start_time": "2022-09-17T12:36:31.243Z"
   },
   {
    "duration": 23,
    "start_time": "2022-09-17T12:36:31.266Z"
   },
   {
    "duration": 730,
    "start_time": "2022-09-17T12:36:41.744Z"
   },
   {
    "duration": 862,
    "start_time": "2022-09-17T12:36:42.476Z"
   },
   {
    "duration": 109,
    "start_time": "2022-09-17T12:36:43.340Z"
   },
   {
    "duration": 7,
    "start_time": "2022-09-17T12:36:43.450Z"
   },
   {
    "duration": 5,
    "start_time": "2022-09-17T12:36:43.459Z"
   },
   {
    "duration": 53,
    "start_time": "2022-09-17T12:36:43.465Z"
   },
   {
    "duration": 571,
    "start_time": "2022-09-17T12:36:43.520Z"
   },
   {
    "duration": 806,
    "start_time": "2022-09-17T12:36:44.093Z"
   },
   {
    "duration": 21,
    "start_time": "2022-09-17T12:36:44.900Z"
   },
   {
    "duration": 593,
    "start_time": "2022-09-17T12:37:28.068Z"
   },
   {
    "duration": 810,
    "start_time": "2022-09-17T12:37:28.662Z"
   },
   {
    "duration": 111,
    "start_time": "2022-09-17T12:37:29.473Z"
   },
   {
    "duration": 7,
    "start_time": "2022-09-17T12:37:29.585Z"
   },
   {
    "duration": 17,
    "start_time": "2022-09-17T12:37:29.594Z"
   },
   {
    "duration": 42,
    "start_time": "2022-09-17T12:37:29.612Z"
   },
   {
    "duration": 564,
    "start_time": "2022-09-17T12:37:29.656Z"
   },
   {
    "duration": 702,
    "start_time": "2022-09-17T12:37:30.222Z"
   },
   {
    "duration": 52,
    "start_time": "2022-09-17T12:38:27.598Z"
   },
   {
    "duration": 91,
    "start_time": "2022-09-17T12:41:32.702Z"
   },
   {
    "duration": 24,
    "start_time": "2022-09-17T12:43:21.874Z"
   },
   {
    "duration": 57,
    "start_time": "2022-09-17T12:43:33.793Z"
   },
   {
    "duration": 267,
    "start_time": "2022-09-17T12:44:02.213Z"
   },
   {
    "duration": 261,
    "start_time": "2022-09-17T12:48:15.540Z"
   },
   {
    "duration": 206,
    "start_time": "2022-09-17T12:48:23.096Z"
   },
   {
    "duration": 68,
    "start_time": "2022-09-17T12:48:23.304Z"
   },
   {
    "duration": 187,
    "start_time": "2022-09-17T12:48:32.325Z"
   },
   {
    "duration": 193,
    "start_time": "2022-09-17T12:48:36.622Z"
   },
   {
    "duration": 63,
    "start_time": "2022-09-17T12:48:41.282Z"
   },
   {
    "duration": 70,
    "start_time": "2022-09-17T12:49:30.512Z"
   },
   {
    "duration": 661,
    "start_time": "2022-09-17T12:49:35.994Z"
   },
   {
    "duration": 892,
    "start_time": "2022-09-17T12:49:36.657Z"
   },
   {
    "duration": 119,
    "start_time": "2022-09-17T12:49:37.551Z"
   },
   {
    "duration": 7,
    "start_time": "2022-09-17T12:49:37.671Z"
   },
   {
    "duration": 8,
    "start_time": "2022-09-17T12:49:37.680Z"
   },
   {
    "duration": 64,
    "start_time": "2022-09-17T12:49:37.690Z"
   },
   {
    "duration": 711,
    "start_time": "2022-09-17T12:49:37.756Z"
   },
   {
    "duration": 774,
    "start_time": "2022-09-17T12:49:38.469Z"
   },
   {
    "duration": 253,
    "start_time": "2022-09-17T12:49:39.244Z"
   },
   {
    "duration": 70,
    "start_time": "2022-09-17T12:49:39.498Z"
   },
   {
    "duration": 87,
    "start_time": "2022-09-17T12:49:39.569Z"
   },
   {
    "duration": 205,
    "start_time": "2022-09-17T12:51:16.872Z"
   },
   {
    "duration": 210,
    "start_time": "2022-09-17T12:51:26.798Z"
   },
   {
    "duration": 230,
    "start_time": "2022-09-17T12:51:33.210Z"
   },
   {
    "duration": 220,
    "start_time": "2022-09-17T12:51:52.206Z"
   },
   {
    "duration": 75,
    "start_time": "2022-09-17T12:52:55.551Z"
   },
   {
    "duration": 878,
    "start_time": "2022-09-17T13:04:14.799Z"
   },
   {
    "duration": 21,
    "start_time": "2022-09-17T14:09:46.279Z"
   },
   {
    "duration": 30,
    "start_time": "2022-09-17T14:10:05.745Z"
   },
   {
    "duration": 26,
    "start_time": "2022-09-17T14:13:04.275Z"
   },
   {
    "duration": 192,
    "start_time": "2022-09-17T14:13:32.772Z"
   },
   {
    "duration": 46,
    "start_time": "2022-09-17T14:13:42.828Z"
   },
   {
    "duration": 34,
    "start_time": "2022-09-17T14:14:10.653Z"
   },
   {
    "duration": 41,
    "start_time": "2022-09-17T14:14:12.791Z"
   },
   {
    "duration": 36,
    "start_time": "2022-09-17T14:14:38.124Z"
   },
   {
    "duration": 33,
    "start_time": "2022-09-17T14:14:57.929Z"
   },
   {
    "duration": 10,
    "start_time": "2022-09-17T14:16:02.364Z"
   },
   {
    "duration": 840,
    "start_time": "2022-09-17T14:16:11.294Z"
   },
   {
    "duration": 824,
    "start_time": "2022-09-17T14:16:21.107Z"
   },
   {
    "duration": 32,
    "start_time": "2022-09-17T14:17:19.875Z"
   },
   {
    "duration": 342,
    "start_time": "2022-09-17T14:18:45.122Z"
   },
   {
    "duration": 337,
    "start_time": "2022-09-17T14:19:11.032Z"
   },
   {
    "duration": 340,
    "start_time": "2022-09-17T14:20:28.056Z"
   },
   {
    "duration": 57,
    "start_time": "2022-09-17T16:16:17.116Z"
   },
   {
    "duration": 1777,
    "start_time": "2022-09-17T16:16:25.693Z"
   },
   {
    "duration": 1417,
    "start_time": "2022-09-17T16:16:27.473Z"
   },
   {
    "duration": 152,
    "start_time": "2022-09-17T16:16:28.891Z"
   },
   {
    "duration": 8,
    "start_time": "2022-09-17T16:16:29.045Z"
   },
   {
    "duration": 11,
    "start_time": "2022-09-17T16:16:29.055Z"
   },
   {
    "duration": 40,
    "start_time": "2022-09-17T16:16:29.067Z"
   },
   {
    "duration": 691,
    "start_time": "2022-09-17T16:16:29.108Z"
   },
   {
    "duration": 853,
    "start_time": "2022-09-17T16:16:29.801Z"
   },
   {
    "duration": 202,
    "start_time": "2022-09-17T16:16:30.655Z"
   },
   {
    "duration": 75,
    "start_time": "2022-09-17T16:16:30.860Z"
   },
   {
    "duration": 100,
    "start_time": "2022-09-17T16:16:30.948Z"
   },
   {
    "duration": 568,
    "start_time": "2022-09-17T16:16:31.050Z"
   },
   {
    "duration": 944,
    "start_time": "2022-09-17T16:16:36.207Z"
   },
   {
    "duration": 372,
    "start_time": "2022-09-17T16:16:45.745Z"
   },
   {
    "duration": 404,
    "start_time": "2022-09-17T16:17:02.945Z"
   },
   {
    "duration": 474,
    "start_time": "2022-09-17T16:17:42.375Z"
   },
   {
    "duration": 46,
    "start_time": "2022-09-17T16:19:07.850Z"
   },
   {
    "duration": 398,
    "start_time": "2022-09-17T16:19:18.842Z"
   },
   {
    "duration": 196,
    "start_time": "2022-09-17T16:19:57.001Z"
   },
   {
    "duration": 19,
    "start_time": "2022-09-17T16:20:05.569Z"
   },
   {
    "duration": 13,
    "start_time": "2022-09-17T16:20:16.594Z"
   },
   {
    "duration": 96,
    "start_time": "2022-09-17T16:20:25.550Z"
   },
   {
    "duration": 80,
    "start_time": "2022-09-17T16:20:36.973Z"
   },
   {
    "duration": 462,
    "start_time": "2022-09-17T16:20:38.907Z"
   },
   {
    "duration": 422,
    "start_time": "2022-09-17T16:20:55.751Z"
   },
   {
    "duration": 435,
    "start_time": "2022-09-17T16:21:01.933Z"
   },
   {
    "duration": 74,
    "start_time": "2022-09-17T16:21:08.201Z"
   },
   {
    "duration": 459,
    "start_time": "2022-09-17T16:21:12.177Z"
   },
   {
    "duration": 3,
    "start_time": "2022-09-17T16:22:41.048Z"
   },
   {
    "duration": 5,
    "start_time": "2022-09-17T16:22:42.599Z"
   },
   {
    "duration": 13,
    "start_time": "2022-09-17T16:23:03.541Z"
   },
   {
    "duration": 10,
    "start_time": "2022-09-17T16:24:11.505Z"
   },
   {
    "duration": 13,
    "start_time": "2022-09-17T16:24:15.395Z"
   },
   {
    "duration": 3,
    "start_time": "2022-09-17T16:24:26.153Z"
   },
   {
    "duration": 4,
    "start_time": "2022-09-17T16:24:53.133Z"
   },
   {
    "duration": 6,
    "start_time": "2022-09-17T16:24:54.232Z"
   },
   {
    "duration": 5,
    "start_time": "2022-09-17T16:24:56.498Z"
   },
   {
    "duration": 459,
    "start_time": "2022-09-17T16:29:41.092Z"
   },
   {
    "duration": 329,
    "start_time": "2022-09-17T16:30:12.061Z"
   },
   {
    "duration": 312,
    "start_time": "2022-09-17T16:30:26.181Z"
   },
   {
    "duration": 1503,
    "start_time": "2022-09-17T16:31:04.437Z"
   },
   {
    "duration": 1395,
    "start_time": "2022-09-17T16:31:16.015Z"
   },
   {
    "duration": 418,
    "start_time": "2022-09-17T16:31:54.299Z"
   },
   {
    "duration": 453,
    "start_time": "2022-09-17T16:32:06.609Z"
   },
   {
    "duration": 64,
    "start_time": "2022-09-17T16:34:46.225Z"
   },
   {
    "duration": 821,
    "start_time": "2022-09-17T16:34:48.304Z"
   },
   {
    "duration": 820,
    "start_time": "2022-09-17T16:35:37.128Z"
   },
   {
    "duration": 58,
    "start_time": "2022-09-17T16:38:12.108Z"
   },
   {
    "duration": 72,
    "start_time": "2022-09-17T16:38:23.884Z"
   },
   {
    "duration": 363,
    "start_time": "2022-09-17T16:39:57.555Z"
   },
   {
    "duration": 21,
    "start_time": "2022-09-17T16:40:16.180Z"
   },
   {
    "duration": 15,
    "start_time": "2022-09-17T16:40:21.037Z"
   },
   {
    "duration": 26,
    "start_time": "2022-09-17T16:40:29.232Z"
   },
   {
    "duration": 22,
    "start_time": "2022-09-17T16:40:33.901Z"
   },
   {
    "duration": 26,
    "start_time": "2022-09-17T16:40:37.731Z"
   },
   {
    "duration": 16,
    "start_time": "2022-09-17T16:40:38.287Z"
   },
   {
    "duration": 23,
    "start_time": "2022-09-17T16:40:44.125Z"
   },
   {
    "duration": 20,
    "start_time": "2022-09-17T16:40:47.572Z"
   },
   {
    "duration": 3,
    "start_time": "2022-09-17T16:41:06.913Z"
   },
   {
    "duration": 18,
    "start_time": "2022-09-17T16:41:08.763Z"
   },
   {
    "duration": 29,
    "start_time": "2022-09-17T16:41:38.334Z"
   },
   {
    "duration": 16,
    "start_time": "2022-09-17T16:41:39.821Z"
   },
   {
    "duration": 13,
    "start_time": "2022-09-17T16:41:56.842Z"
   },
   {
    "duration": 16,
    "start_time": "2022-09-17T16:41:57.897Z"
   },
   {
    "duration": 4,
    "start_time": "2022-09-17T16:44:28.181Z"
   },
   {
    "duration": 78540,
    "start_time": "2022-09-17T16:44:53.168Z"
   },
   {
    "duration": 12,
    "start_time": "2022-09-17T17:02:45.293Z"
   },
   {
    "duration": 2751,
    "start_time": "2022-09-17T17:04:31.396Z"
   },
   {
    "duration": 51,
    "start_time": "2022-09-17T17:04:41.260Z"
   },
   {
    "duration": 77,
    "start_time": "2022-09-17T17:04:46.660Z"
   },
   {
    "duration": 17,
    "start_time": "2022-09-17T17:04:56.337Z"
   },
   {
    "duration": 69,
    "start_time": "2022-09-17T17:05:39.639Z"
   },
   {
    "duration": 148,
    "start_time": "2022-09-17T17:05:57.586Z"
   },
   {
    "duration": 153,
    "start_time": "2022-09-17T17:05:59.296Z"
   },
   {
    "duration": 139,
    "start_time": "2022-09-17T17:06:25.068Z"
   },
   {
    "duration": 8,
    "start_time": "2022-09-17T17:06:38.833Z"
   },
   {
    "duration": 102,
    "start_time": "2022-09-17T17:07:22.244Z"
   },
   {
    "duration": 5,
    "start_time": "2022-09-17T17:09:01.513Z"
   },
   {
    "duration": 293,
    "start_time": "2022-09-17T17:10:58.186Z"
   },
   {
    "duration": 11,
    "start_time": "2022-09-17T17:11:01.764Z"
   },
   {
    "duration": 397,
    "start_time": "2022-09-17T17:11:34.401Z"
   },
   {
    "duration": 29,
    "start_time": "2022-09-17T17:11:42.442Z"
   },
   {
    "duration": 735,
    "start_time": "2022-09-17T17:12:59.630Z"
   },
   {
    "duration": 19,
    "start_time": "2022-09-17T17:13:31.156Z"
   },
   {
    "duration": 59,
    "start_time": "2022-09-17T17:13:41.555Z"
   },
   {
    "duration": 1993,
    "start_time": "2022-09-17T17:14:04.195Z"
   },
   {
    "duration": 1402,
    "start_time": "2022-09-17T17:14:06.190Z"
   },
   {
    "duration": 847,
    "start_time": "2022-09-17T17:14:07.593Z"
   },
   {
    "duration": 120,
    "start_time": "2022-09-17T17:14:08.441Z"
   },
   {
    "duration": 6,
    "start_time": "2022-09-17T17:14:08.562Z"
   },
   {
    "duration": 10,
    "start_time": "2022-09-17T17:14:08.569Z"
   },
   {
    "duration": 57,
    "start_time": "2022-09-17T17:14:08.581Z"
   },
   {
    "duration": 532,
    "start_time": "2022-09-17T17:14:08.640Z"
   },
   {
    "duration": 720,
    "start_time": "2022-09-17T17:14:09.173Z"
   },
   {
    "duration": 179,
    "start_time": "2022-09-17T17:14:09.895Z"
   },
   {
    "duration": 9,
    "start_time": "2022-09-17T17:14:10.076Z"
   },
   {
    "duration": 59,
    "start_time": "2022-09-17T17:14:10.086Z"
   },
   {
    "duration": 73,
    "start_time": "2022-09-17T17:14:10.146Z"
   },
   {
    "duration": 764,
    "start_time": "2022-09-17T17:14:10.220Z"
   },
   {
    "duration": 2,
    "start_time": "2022-09-17T17:14:10.986Z"
   },
   {
    "duration": 176,
    "start_time": "2022-09-17T17:14:10.989Z"
   },
   {
    "duration": 0,
    "start_time": "2022-09-17T17:14:11.167Z"
   },
   {
    "duration": 150,
    "start_time": "2022-09-17T17:14:20.377Z"
   },
   {
    "duration": 172,
    "start_time": "2022-09-17T17:14:45.596Z"
   },
   {
    "duration": 102,
    "start_time": "2022-09-17T17:14:58.274Z"
   },
   {
    "duration": 14,
    "start_time": "2022-09-17T17:15:09.935Z"
   },
   {
    "duration": 994,
    "start_time": "2022-09-17T17:16:55.548Z"
   },
   {
    "duration": 24,
    "start_time": "2022-09-17T17:17:09.910Z"
   },
   {
    "duration": 283,
    "start_time": "2022-09-17T17:17:41.738Z"
   },
   {
    "duration": 25,
    "start_time": "2022-09-17T17:17:44.989Z"
   },
   {
    "duration": 432,
    "start_time": "2022-09-17T17:18:21.274Z"
   },
   {
    "duration": 14689,
    "start_time": "2022-09-17T17:23:42.734Z"
   },
   {
    "duration": 14048,
    "start_time": "2022-09-17T17:24:21.115Z"
   },
   {
    "duration": 19,
    "start_time": "2022-09-17T17:25:23.475Z"
   },
   {
    "duration": 401,
    "start_time": "2022-09-17T17:26:44.883Z"
   },
   {
    "duration": 23,
    "start_time": "2022-09-17T17:26:52.725Z"
   },
   {
    "duration": 409,
    "start_time": "2022-09-17T17:27:02.523Z"
   },
   {
    "duration": 24,
    "start_time": "2022-09-17T17:27:02.933Z"
   },
   {
    "duration": 14590,
    "start_time": "2022-09-17T17:27:05.269Z"
   },
   {
    "duration": 10,
    "start_time": "2022-09-17T17:28:33.190Z"
   },
   {
    "duration": 335,
    "start_time": "2022-09-17T17:28:52.852Z"
   },
   {
    "duration": 70234,
    "start_time": "2022-09-17T17:28:54.778Z"
   },
   {
    "duration": 16,
    "start_time": "2022-09-17T17:37:56.290Z"
   },
   {
    "duration": 7,
    "start_time": "2022-09-17T17:38:03.196Z"
   },
   {
    "duration": 190,
    "start_time": "2022-09-17T17:38:57.883Z"
   },
   {
    "duration": 470,
    "start_time": "2022-09-17T17:39:54.554Z"
   },
   {
    "duration": 83247,
    "start_time": "2022-09-17T17:45:09.464Z"
   },
   {
    "duration": 100060,
    "start_time": "2022-09-17T17:47:16.356Z"
   },
   {
    "duration": 0,
    "start_time": "2022-09-17T17:48:56.417Z"
   },
   {
    "duration": 285,
    "start_time": "2022-09-17T17:48:58.230Z"
   },
   {
    "duration": 18,
    "start_time": "2022-09-17T17:48:58.759Z"
   },
   {
    "duration": 535418,
    "start_time": "2022-09-17T17:50:59.818Z"
   },
   {
    "duration": 2767,
    "start_time": "2022-09-18T09:06:58.915Z"
   },
   {
    "duration": 1663,
    "start_time": "2022-09-18T09:07:01.684Z"
   },
   {
    "duration": 1103,
    "start_time": "2022-09-18T09:07:03.349Z"
   },
   {
    "duration": 113,
    "start_time": "2022-09-18T09:07:04.454Z"
   },
   {
    "duration": 7,
    "start_time": "2022-09-18T09:07:04.569Z"
   },
   {
    "duration": 8,
    "start_time": "2022-09-18T09:07:04.577Z"
   },
   {
    "duration": 51,
    "start_time": "2022-09-18T09:07:04.586Z"
   },
   {
    "duration": 532,
    "start_time": "2022-09-18T09:07:04.638Z"
   },
   {
    "duration": 739,
    "start_time": "2022-09-18T09:07:05.172Z"
   },
   {
    "duration": 173,
    "start_time": "2022-09-18T09:07:05.912Z"
   },
   {
    "duration": 8,
    "start_time": "2022-09-18T09:07:06.087Z"
   },
   {
    "duration": 48,
    "start_time": "2022-09-18T09:07:06.109Z"
   },
   {
    "duration": 76,
    "start_time": "2022-09-18T09:07:06.159Z"
   },
   {
    "duration": 781,
    "start_time": "2022-09-18T09:07:06.238Z"
   },
   {
    "duration": 356,
    "start_time": "2022-09-18T09:07:07.020Z"
   },
   {
    "duration": 30,
    "start_time": "2022-09-18T09:07:26.946Z"
   },
   {
    "duration": 15,
    "start_time": "2022-09-18T09:07:48.437Z"
   },
   {
    "duration": 13,
    "start_time": "2022-09-18T09:13:31.337Z"
   },
   {
    "duration": 2014,
    "start_time": "2022-09-18T09:14:00.254Z"
   },
   {
    "duration": 1366,
    "start_time": "2022-09-18T09:14:02.270Z"
   },
   {
    "duration": 830,
    "start_time": "2022-09-18T09:14:03.638Z"
   },
   {
    "duration": 129,
    "start_time": "2022-09-18T09:14:04.470Z"
   },
   {
    "duration": 8,
    "start_time": "2022-09-18T09:14:04.608Z"
   },
   {
    "duration": 7,
    "start_time": "2022-09-18T09:14:04.617Z"
   },
   {
    "duration": 43,
    "start_time": "2022-09-18T09:14:04.625Z"
   },
   {
    "duration": 527,
    "start_time": "2022-09-18T09:14:04.670Z"
   },
   {
    "duration": 753,
    "start_time": "2022-09-18T09:14:05.198Z"
   },
   {
    "duration": 188,
    "start_time": "2022-09-18T09:14:05.954Z"
   },
   {
    "duration": 9,
    "start_time": "2022-09-18T09:14:06.144Z"
   },
   {
    "duration": 66,
    "start_time": "2022-09-18T09:14:06.155Z"
   },
   {
    "duration": 67,
    "start_time": "2022-09-18T09:14:06.223Z"
   },
   {
    "duration": 25,
    "start_time": "2022-09-18T09:14:06.291Z"
   },
   {
    "duration": 140,
    "start_time": "2022-09-18T09:15:12.523Z"
   },
   {
    "duration": 582,
    "start_time": "2022-09-18T09:15:28.010Z"
   },
   {
    "duration": 17,
    "start_time": "2022-09-18T09:15:31.478Z"
   },
   {
    "duration": 466,
    "start_time": "2022-09-18T09:16:50.221Z"
   },
   {
    "duration": 481,
    "start_time": "2022-09-18T09:16:56.823Z"
   },
   {
    "duration": 15,
    "start_time": "2022-09-18T09:17:00.839Z"
   },
   {
    "duration": 573,
    "start_time": "2022-09-18T09:17:07.019Z"
   },
   {
    "duration": 14,
    "start_time": "2022-09-18T09:17:08.759Z"
   },
   {
    "duration": 19,
    "start_time": "2022-09-18T09:17:22.645Z"
   },
   {
    "duration": 444,
    "start_time": "2022-09-18T09:17:31.852Z"
   },
   {
    "duration": 18,
    "start_time": "2022-09-18T09:17:32.519Z"
   },
   {
    "duration": 17,
    "start_time": "2022-09-18T09:18:23.113Z"
   },
   {
    "duration": 555,
    "start_time": "2022-09-18T09:20:41.462Z"
   },
   {
    "duration": 6,
    "start_time": "2022-09-18T09:21:07.622Z"
   },
   {
    "duration": 58,
    "start_time": "2022-09-18T09:23:55.256Z"
   },
   {
    "duration": 6,
    "start_time": "2022-09-18T09:23:59.578Z"
   },
   {
    "duration": 583,
    "start_time": "2022-09-18T09:26:36.672Z"
   },
   {
    "duration": 570,
    "start_time": "2022-09-18T09:26:51.651Z"
   },
   {
    "duration": 4,
    "start_time": "2022-09-18T09:26:58.289Z"
   },
   {
    "duration": 4,
    "start_time": "2022-09-18T09:27:07.226Z"
   },
   {
    "duration": 44,
    "start_time": "2022-09-18T09:27:43.808Z"
   },
   {
    "duration": 61,
    "start_time": "2022-09-18T09:27:54.019Z"
   },
   {
    "duration": 491,
    "start_time": "2022-09-18T09:35:45.533Z"
   },
   {
    "duration": 44,
    "start_time": "2022-09-18T09:35:46.026Z"
   },
   {
    "duration": 84,
    "start_time": "2022-09-18T09:35:46.669Z"
   },
   {
    "duration": 10,
    "start_time": "2022-09-18T09:35:47.461Z"
   },
   {
    "duration": 17,
    "start_time": "2022-09-18T09:36:03.070Z"
   },
   {
    "duration": 10,
    "start_time": "2022-09-18T09:36:50.421Z"
   },
   {
    "duration": 11,
    "start_time": "2022-09-18T09:38:06.483Z"
   },
   {
    "duration": 9,
    "start_time": "2022-09-18T09:38:07.582Z"
   },
   {
    "duration": 17,
    "start_time": "2022-09-18T09:38:22.564Z"
   },
   {
    "duration": 10,
    "start_time": "2022-09-18T09:38:26.772Z"
   },
   {
    "duration": 24,
    "start_time": "2022-09-18T09:38:40.354Z"
   },
   {
    "duration": 10,
    "start_time": "2022-09-18T09:44:31.169Z"
   },
   {
    "duration": 9,
    "start_time": "2022-09-18T09:44:50.377Z"
   },
   {
    "duration": 10,
    "start_time": "2022-09-18T09:46:44.406Z"
   },
   {
    "duration": 9,
    "start_time": "2022-09-18T09:47:02.483Z"
   },
   {
    "duration": 9,
    "start_time": "2022-09-18T09:47:03.963Z"
   },
   {
    "duration": 8,
    "start_time": "2022-09-18T09:47:07.638Z"
   },
   {
    "duration": 9,
    "start_time": "2022-09-18T09:47:20.568Z"
   },
   {
    "duration": 9,
    "start_time": "2022-09-18T09:47:46.338Z"
   },
   {
    "duration": 14,
    "start_time": "2022-09-18T09:48:04.398Z"
   },
   {
    "duration": 27,
    "start_time": "2022-09-18T09:48:49.112Z"
   },
   {
    "duration": 3,
    "start_time": "2022-09-18T09:48:55.440Z"
   },
   {
    "duration": 129,
    "start_time": "2022-09-18T09:51:40.140Z"
   },
   {
    "duration": 45,
    "start_time": "2022-09-18T09:53:49.541Z"
   },
   {
    "duration": 38,
    "start_time": "2022-09-18T09:54:49.872Z"
   },
   {
    "duration": 502,
    "start_time": "2022-09-18T09:55:04.578Z"
   },
   {
    "duration": 52,
    "start_time": "2022-09-18T09:55:05.082Z"
   },
   {
    "duration": 36,
    "start_time": "2022-09-18T09:55:05.577Z"
   },
   {
    "duration": 1904,
    "start_time": "2022-09-18T09:55:20.630Z"
   },
   {
    "duration": 1330,
    "start_time": "2022-09-18T09:55:22.536Z"
   },
   {
    "duration": 884,
    "start_time": "2022-09-18T09:55:23.868Z"
   },
   {
    "duration": 107,
    "start_time": "2022-09-18T09:55:24.754Z"
   },
   {
    "duration": 6,
    "start_time": "2022-09-18T09:55:24.863Z"
   },
   {
    "duration": 6,
    "start_time": "2022-09-18T09:55:24.870Z"
   },
   {
    "duration": 47,
    "start_time": "2022-09-18T09:55:24.878Z"
   },
   {
    "duration": 542,
    "start_time": "2022-09-18T09:55:24.927Z"
   },
   {
    "duration": 716,
    "start_time": "2022-09-18T09:55:25.470Z"
   },
   {
    "duration": 193,
    "start_time": "2022-09-18T09:55:26.187Z"
   },
   {
    "duration": 9,
    "start_time": "2022-09-18T09:55:26.382Z"
   },
   {
    "duration": 59,
    "start_time": "2022-09-18T09:55:26.392Z"
   },
   {
    "duration": 77,
    "start_time": "2022-09-18T09:55:26.453Z"
   },
   {
    "duration": 501,
    "start_time": "2022-09-18T09:55:26.532Z"
   },
   {
    "duration": 50,
    "start_time": "2022-09-18T09:55:27.035Z"
   },
   {
    "duration": 160,
    "start_time": "2022-09-18T09:55:27.087Z"
   },
   {
    "duration": 0,
    "start_time": "2022-09-18T09:55:27.249Z"
   },
   {
    "duration": 48,
    "start_time": "2022-09-18T09:55:47.959Z"
   },
   {
    "duration": 5,
    "start_time": "2022-09-18T09:56:06.068Z"
   },
   {
    "duration": 35,
    "start_time": "2022-09-18T10:01:57.442Z"
   },
   {
    "duration": 91,
    "start_time": "2022-09-18T10:03:31.618Z"
   },
   {
    "duration": 66,
    "start_time": "2022-09-18T10:07:47.044Z"
   },
   {
    "duration": 61,
    "start_time": "2022-09-18T10:08:00.051Z"
   },
   {
    "duration": 41,
    "start_time": "2022-09-18T10:08:06.270Z"
   },
   {
    "duration": 4,
    "start_time": "2022-09-18T10:08:09.704Z"
   },
   {
    "duration": 34,
    "start_time": "2022-09-18T10:09:12.831Z"
   },
   {
    "duration": 5,
    "start_time": "2022-09-18T10:09:52.362Z"
   },
   {
    "duration": 36,
    "start_time": "2022-09-18T10:10:33.363Z"
   },
   {
    "duration": 34,
    "start_time": "2022-09-18T10:10:36.952Z"
   },
   {
    "duration": 1927,
    "start_time": "2022-09-18T10:10:50.954Z"
   },
   {
    "duration": 1402,
    "start_time": "2022-09-18T10:10:52.883Z"
   },
   {
    "duration": 906,
    "start_time": "2022-09-18T10:10:54.286Z"
   },
   {
    "duration": 129,
    "start_time": "2022-09-18T10:10:55.194Z"
   },
   {
    "duration": 12,
    "start_time": "2022-09-18T10:10:55.325Z"
   },
   {
    "duration": 9,
    "start_time": "2022-09-18T10:10:55.338Z"
   },
   {
    "duration": 49,
    "start_time": "2022-09-18T10:10:55.348Z"
   },
   {
    "duration": 545,
    "start_time": "2022-09-18T10:10:55.398Z"
   },
   {
    "duration": 771,
    "start_time": "2022-09-18T10:10:55.944Z"
   },
   {
    "duration": 179,
    "start_time": "2022-09-18T10:10:56.716Z"
   },
   {
    "duration": 14,
    "start_time": "2022-09-18T10:10:56.897Z"
   },
   {
    "duration": 48,
    "start_time": "2022-09-18T10:10:56.913Z"
   },
   {
    "duration": 73,
    "start_time": "2022-09-18T10:10:56.963Z"
   },
   {
    "duration": 518,
    "start_time": "2022-09-18T10:10:57.038Z"
   },
   {
    "duration": 59,
    "start_time": "2022-09-18T10:10:57.557Z"
   },
   {
    "duration": 44,
    "start_time": "2022-09-18T10:10:57.618Z"
   },
   {
    "duration": 60,
    "start_time": "2022-09-18T10:10:57.664Z"
   },
   {
    "duration": 86,
    "start_time": "2022-09-18T10:10:57.726Z"
   },
   {
    "duration": 100,
    "start_time": "2022-09-18T10:10:57.813Z"
   },
   {
    "duration": 16,
    "start_time": "2022-09-18T10:11:23.760Z"
   },
   {
    "duration": 5,
    "start_time": "2022-09-18T10:11:26.545Z"
   },
   {
    "duration": 34,
    "start_time": "2022-09-18T10:15:05.674Z"
   },
   {
    "duration": 66,
    "start_time": "2022-09-18T10:16:39.544Z"
   },
   {
    "duration": 5,
    "start_time": "2022-09-18T10:18:23.840Z"
   },
   {
    "duration": 766,
    "start_time": "2022-09-18T10:39:41.074Z"
   },
   {
    "duration": 412,
    "start_time": "2022-09-18T10:42:16.516Z"
   },
   {
    "duration": 11,
    "start_time": "2022-09-18T10:43:48.544Z"
   },
   {
    "duration": 511,
    "start_time": "2022-09-18T10:43:55.099Z"
   },
   {
    "duration": 557,
    "start_time": "2022-09-18T10:44:34.563Z"
   },
   {
    "duration": 464,
    "start_time": "2022-09-18T10:47:08.547Z"
   },
   {
    "duration": 382,
    "start_time": "2022-09-18T10:47:35.949Z"
   },
   {
    "duration": 2059,
    "start_time": "2022-09-18T10:47:42.750Z"
   },
   {
    "duration": 14,
    "start_time": "2022-09-18T10:48:09.845Z"
   },
   {
    "duration": 1895,
    "start_time": "2022-09-18T10:48:20.244Z"
   },
   {
    "duration": 47,
    "start_time": "2022-09-18T10:52:29.474Z"
   },
   {
    "duration": 19173,
    "start_time": "2022-09-18T10:52:51.561Z"
   },
   {
    "duration": 44,
    "start_time": "2022-09-18T10:53:32.171Z"
   },
   {
    "duration": 331,
    "start_time": "2022-09-18T10:53:41.747Z"
   },
   {
    "duration": 603,
    "start_time": "2022-09-18T10:53:52.682Z"
   },
   {
    "duration": 578659,
    "start_time": "2022-09-18T10:53:57.113Z"
   },
   {
    "duration": 22749,
    "start_time": "2022-09-18T11:03:43.174Z"
   },
   {
    "duration": 11737,
    "start_time": "2022-09-18T11:04:06.957Z"
   },
   {
    "duration": 49,
    "start_time": "2022-09-18T11:04:25.511Z"
   },
   {
    "duration": 8346,
    "start_time": "2022-09-18T11:04:36.162Z"
   },
   {
    "duration": 185239,
    "start_time": "2022-09-18T11:04:51.800Z"
   },
   {
    "duration": 77793,
    "start_time": "2022-09-18T11:08:06.050Z"
   },
   {
    "duration": 9090,
    "start_time": "2022-09-18T11:09:25.015Z"
   },
   {
    "duration": 11272,
    "start_time": "2022-09-18T11:09:45.199Z"
   },
   {
    "duration": 9178,
    "start_time": "2022-09-18T11:10:02.262Z"
   },
   {
    "duration": 520,
    "start_time": "2022-09-18T11:10:27.008Z"
   },
   {
    "duration": 748820,
    "start_time": "2022-09-18T11:10:32.809Z"
   },
   {
    "duration": 0,
    "start_time": "2022-09-18T11:23:01.631Z"
   },
   {
    "duration": 2010,
    "start_time": "2022-09-18T11:23:54.150Z"
   },
   {
    "duration": 1410,
    "start_time": "2022-09-18T11:23:56.163Z"
   },
   {
    "duration": 901,
    "start_time": "2022-09-18T11:23:57.575Z"
   },
   {
    "duration": 147,
    "start_time": "2022-09-18T11:23:58.477Z"
   },
   {
    "duration": 9,
    "start_time": "2022-09-18T11:23:58.627Z"
   },
   {
    "duration": 19,
    "start_time": "2022-09-18T11:23:58.638Z"
   },
   {
    "duration": 44,
    "start_time": "2022-09-18T11:23:58.659Z"
   },
   {
    "duration": 531,
    "start_time": "2022-09-18T11:23:58.705Z"
   },
   {
    "duration": 779,
    "start_time": "2022-09-18T11:23:59.237Z"
   },
   {
    "duration": 189,
    "start_time": "2022-09-18T11:24:00.017Z"
   },
   {
    "duration": 9,
    "start_time": "2022-09-18T11:24:00.207Z"
   },
   {
    "duration": 50,
    "start_time": "2022-09-18T11:24:00.218Z"
   },
   {
    "duration": 84,
    "start_time": "2022-09-18T11:24:00.269Z"
   },
   {
    "duration": 100,
    "start_time": "2022-09-18T11:24:00.356Z"
   },
   {
    "duration": 517,
    "start_time": "2022-09-18T11:24:00.458Z"
   },
   {
    "duration": 58,
    "start_time": "2022-09-18T11:24:00.977Z"
   },
   {
    "duration": 47,
    "start_time": "2022-09-18T11:24:01.036Z"
   },
   {
    "duration": 3,
    "start_time": "2022-09-18T11:24:01.084Z"
   },
   {
    "duration": 21,
    "start_time": "2022-09-18T11:24:01.088Z"
   },
   {
    "duration": 23,
    "start_time": "2022-09-18T11:24:01.110Z"
   },
   {
    "duration": 29,
    "start_time": "2022-09-18T11:24:01.135Z"
   },
   {
    "duration": 15,
    "start_time": "2022-09-18T11:24:09.960Z"
   },
   {
    "duration": 96,
    "start_time": "2022-09-18T11:25:06.457Z"
   },
   {
    "duration": 87,
    "start_time": "2022-09-18T11:25:24.302Z"
   },
   {
    "duration": 4,
    "start_time": "2022-09-18T11:25:26.073Z"
   },
   {
    "duration": 144,
    "start_time": "2022-09-18T11:25:35.599Z"
   },
   {
    "duration": 11,
    "start_time": "2022-09-18T11:26:04.249Z"
   },
   {
    "duration": 12,
    "start_time": "2022-09-18T11:26:28.804Z"
   },
   {
    "duration": 3947,
    "start_time": "2022-09-18T11:26:43.605Z"
   },
   {
    "duration": 1268,
    "start_time": "2022-09-18T11:27:50.908Z"
   },
   {
    "duration": 1934,
    "start_time": "2022-09-18T11:27:57.565Z"
   },
   {
    "duration": 2830,
    "start_time": "2022-09-18T11:28:05.161Z"
   },
   {
    "duration": 6347,
    "start_time": "2022-09-18T11:28:21.370Z"
   },
   {
    "duration": 3643,
    "start_time": "2022-09-18T11:28:33.553Z"
   },
   {
    "duration": 6468,
    "start_time": "2022-09-18T11:28:42.260Z"
   },
   {
    "duration": 6759,
    "start_time": "2022-09-18T11:30:24.501Z"
   },
   {
    "duration": 6753,
    "start_time": "2022-09-18T11:31:30.858Z"
   },
   {
    "duration": 6792,
    "start_time": "2022-09-18T11:32:11.005Z"
   },
   {
    "duration": 6548,
    "start_time": "2022-09-18T11:32:19.953Z"
   },
   {
    "duration": 21202,
    "start_time": "2022-09-18T11:33:55.184Z"
   },
   {
    "duration": 74276,
    "start_time": "2022-09-18T11:34:17.612Z"
   },
   {
    "duration": 6860,
    "start_time": "2022-09-18T11:35:39.400Z"
   },
   {
    "duration": 31611,
    "start_time": "2022-09-18T11:35:50.867Z"
   },
   {
    "duration": 60553,
    "start_time": "2022-09-18T11:42:40.459Z"
   },
   {
    "duration": 0,
    "start_time": "2022-09-18T11:44:08.112Z"
   },
   {
    "duration": 81786,
    "start_time": "2022-09-18T11:44:51.131Z"
   },
   {
    "duration": 16,
    "start_time": "2022-09-18T11:50:08.481Z"
   },
   {
    "duration": 6044,
    "start_time": "2022-09-18T11:50:18.573Z"
   },
   {
    "duration": 12,
    "start_time": "2022-09-18T11:50:49.656Z"
   },
   {
    "duration": 99328,
    "start_time": "2022-09-18T11:51:32.467Z"
   },
   {
    "duration": 4,
    "start_time": "2022-09-18T11:57:19.407Z"
   },
   {
    "duration": 4,
    "start_time": "2022-09-18T11:57:25.368Z"
   },
   {
    "duration": 92346,
    "start_time": "2022-09-18T12:02:05.352Z"
   },
   {
    "duration": 8,
    "start_time": "2022-09-18T12:04:52.305Z"
   },
   {
    "duration": 9,
    "start_time": "2022-09-18T12:04:55.213Z"
   },
   {
    "duration": 13,
    "start_time": "2022-09-18T12:05:03.065Z"
   },
   {
    "duration": 58,
    "start_time": "2022-09-18T12:05:50.112Z"
   },
   {
    "duration": 9,
    "start_time": "2022-09-18T12:06:04.009Z"
   },
   {
    "duration": 11,
    "start_time": "2022-09-18T12:06:06.605Z"
   },
   {
    "duration": 4,
    "start_time": "2022-09-18T12:06:22.303Z"
   },
   {
    "duration": 4,
    "start_time": "2022-09-18T12:06:25.601Z"
   },
   {
    "duration": 3,
    "start_time": "2022-09-18T12:06:28.824Z"
   },
   {
    "duration": 3,
    "start_time": "2022-09-18T12:06:33.153Z"
   },
   {
    "duration": 124132,
    "start_time": "2022-09-18T12:06:59.804Z"
   },
   {
    "duration": 16971,
    "start_time": "2022-09-18T12:09:04.957Z"
   },
   {
    "duration": 33909,
    "start_time": "2022-09-18T12:09:23.221Z"
   },
   {
    "duration": 3,
    "start_time": "2022-09-18T12:17:47.216Z"
   },
   {
    "duration": 1968,
    "start_time": "2022-09-18T12:18:31.977Z"
   },
   {
    "duration": 1533,
    "start_time": "2022-09-18T12:18:33.947Z"
   },
   {
    "duration": 936,
    "start_time": "2022-09-18T12:18:35.481Z"
   },
   {
    "duration": 122,
    "start_time": "2022-09-18T12:18:36.419Z"
   },
   {
    "duration": 10,
    "start_time": "2022-09-18T12:18:36.544Z"
   },
   {
    "duration": 9,
    "start_time": "2022-09-18T12:18:36.558Z"
   },
   {
    "duration": 57,
    "start_time": "2022-09-18T12:18:36.569Z"
   },
   {
    "duration": 568,
    "start_time": "2022-09-18T12:18:36.627Z"
   },
   {
    "duration": 798,
    "start_time": "2022-09-18T12:18:37.197Z"
   },
   {
    "duration": 182,
    "start_time": "2022-09-18T12:18:37.997Z"
   },
   {
    "duration": 9,
    "start_time": "2022-09-18T12:18:38.181Z"
   },
   {
    "duration": 62,
    "start_time": "2022-09-18T12:18:38.191Z"
   },
   {
    "duration": 73,
    "start_time": "2022-09-18T12:18:38.255Z"
   },
   {
    "duration": 104,
    "start_time": "2022-09-18T12:18:38.331Z"
   },
   {
    "duration": 504,
    "start_time": "2022-09-18T12:18:38.436Z"
   },
   {
    "duration": 58,
    "start_time": "2022-09-18T12:18:38.941Z"
   },
   {
    "duration": 54,
    "start_time": "2022-09-18T12:18:39.000Z"
   },
   {
    "duration": 2,
    "start_time": "2022-09-18T12:18:39.056Z"
   },
   {
    "duration": 5,
    "start_time": "2022-09-18T12:18:39.060Z"
   },
   {
    "duration": 5,
    "start_time": "2022-09-18T12:18:39.067Z"
   },
   {
    "duration": 145,
    "start_time": "2022-09-18T12:18:39.073Z"
   },
   {
    "duration": 0,
    "start_time": "2022-09-18T12:18:39.220Z"
   },
   {
    "duration": 0,
    "start_time": "2022-09-18T12:18:39.221Z"
   },
   {
    "duration": 0,
    "start_time": "2022-09-18T12:18:39.223Z"
   },
   {
    "duration": 2027,
    "start_time": "2022-09-18T12:19:23.091Z"
   },
   {
    "duration": 1393,
    "start_time": "2022-09-18T12:19:25.121Z"
   },
   {
    "duration": 860,
    "start_time": "2022-09-18T12:19:26.515Z"
   },
   {
    "duration": 110,
    "start_time": "2022-09-18T12:19:27.376Z"
   },
   {
    "duration": 6,
    "start_time": "2022-09-18T12:19:27.489Z"
   },
   {
    "duration": 6,
    "start_time": "2022-09-18T12:19:27.496Z"
   },
   {
    "duration": 40,
    "start_time": "2022-09-18T12:19:27.509Z"
   },
   {
    "duration": 583,
    "start_time": "2022-09-18T12:19:27.550Z"
   },
   {
    "duration": 737,
    "start_time": "2022-09-18T12:19:28.134Z"
   },
   {
    "duration": 182,
    "start_time": "2022-09-18T12:19:28.873Z"
   },
   {
    "duration": 9,
    "start_time": "2022-09-18T12:19:29.056Z"
   },
   {
    "duration": 61,
    "start_time": "2022-09-18T12:19:29.066Z"
   },
   {
    "duration": 376,
    "start_time": "2022-09-18T12:19:29.129Z"
   },
   {
    "duration": 342,
    "start_time": "2022-09-18T12:19:29.507Z"
   },
   {
    "duration": 601,
    "start_time": "2022-09-18T12:19:29.850Z"
   },
   {
    "duration": 53,
    "start_time": "2022-09-18T12:19:30.453Z"
   },
   {
    "duration": 46,
    "start_time": "2022-09-18T12:19:30.508Z"
   },
   {
    "duration": 2,
    "start_time": "2022-09-18T12:19:30.556Z"
   },
   {
    "duration": 24,
    "start_time": "2022-09-18T12:19:30.559Z"
   },
   {
    "duration": 10,
    "start_time": "2022-09-18T12:19:30.585Z"
   },
   {
    "duration": 350716,
    "start_time": "2022-09-18T12:19:30.596Z"
   },
   {
    "duration": 4,
    "start_time": "2022-09-18T12:25:21.313Z"
   },
   {
    "duration": 13,
    "start_time": "2022-09-18T12:25:21.318Z"
   },
   {
    "duration": 2828202,
    "start_time": "2022-09-18T12:25:21.333Z"
   },
   {
    "duration": 0,
    "start_time": "2022-09-18T13:25:15.815Z"
   },
   {
    "duration": 9,
    "start_time": "2022-09-18T13:32:10.548Z"
   },
   {
    "duration": 4,
    "start_time": "2022-09-18T14:39:50.904Z"
   },
   {
    "duration": 10,
    "start_time": "2022-09-18T14:40:45.001Z"
   },
   {
    "duration": 10,
    "start_time": "2022-09-18T14:43:30.204Z"
   },
   {
    "duration": 11,
    "start_time": "2022-09-18T14:43:52.966Z"
   },
   {
    "duration": 51,
    "start_time": "2022-09-18T14:44:02.160Z"
   },
   {
    "duration": 715,
    "start_time": "2022-09-18T14:44:11.509Z"
   },
   {
    "duration": 1799,
    "start_time": "2022-09-18T14:45:01.210Z"
   },
   {
    "duration": 55795,
    "start_time": "2022-09-18T14:47:10.224Z"
   },
   {
    "duration": 40252,
    "start_time": "2022-09-18T14:48:25.563Z"
   },
   {
    "duration": 17847,
    "start_time": "2022-09-18T14:50:31.276Z"
   },
   {
    "duration": 28,
    "start_time": "2022-09-18T14:50:49.764Z"
   },
   {
    "duration": 38,
    "start_time": "2022-09-18T14:50:53.276Z"
   },
   {
    "duration": 4057,
    "start_time": "2022-09-18T14:51:01.862Z"
   },
   {
    "duration": 3861,
    "start_time": "2022-09-18T14:51:14.161Z"
   },
   {
    "duration": 4746,
    "start_time": "2022-09-18T14:51:30.170Z"
   },
   {
    "duration": 57042,
    "start_time": "2022-09-18T14:51:52.677Z"
   },
   {
    "duration": 120,
    "start_time": "2022-09-18T14:53:44.405Z"
   },
   {
    "duration": 41,
    "start_time": "2022-09-18T14:54:13.674Z"
   },
   {
    "duration": 4,
    "start_time": "2022-09-18T14:54:15.307Z"
   },
   {
    "duration": 4,
    "start_time": "2022-09-18T14:54:17.108Z"
   },
   {
    "duration": 17,
    "start_time": "2022-09-18T14:55:24.417Z"
   },
   {
    "duration": 68,
    "start_time": "2022-09-18T14:58:48.398Z"
   },
   {
    "duration": 4,
    "start_time": "2022-09-18T15:05:18.634Z"
   },
   {
    "duration": 137401,
    "start_time": "2022-09-18T15:05:33.708Z"
   },
   {
    "duration": 10,
    "start_time": "2022-09-18T15:08:22.590Z"
   },
   {
    "duration": 1905,
    "start_time": "2022-09-18T15:11:17.467Z"
   },
   {
    "duration": 1391,
    "start_time": "2022-09-18T15:11:19.375Z"
   },
   {
    "duration": 939,
    "start_time": "2022-09-18T15:11:20.768Z"
   },
   {
    "duration": 115,
    "start_time": "2022-09-18T15:11:21.709Z"
   },
   {
    "duration": 7,
    "start_time": "2022-09-18T15:11:21.825Z"
   },
   {
    "duration": 10,
    "start_time": "2022-09-18T15:11:21.834Z"
   },
   {
    "duration": 52,
    "start_time": "2022-09-18T15:11:21.846Z"
   },
   {
    "duration": 532,
    "start_time": "2022-09-18T15:11:21.899Z"
   },
   {
    "duration": 793,
    "start_time": "2022-09-18T15:11:22.433Z"
   },
   {
    "duration": 196,
    "start_time": "2022-09-18T15:11:23.228Z"
   },
   {
    "duration": 11,
    "start_time": "2022-09-18T15:11:23.425Z"
   },
   {
    "duration": 72,
    "start_time": "2022-09-18T15:11:23.438Z"
   },
   {
    "duration": 66,
    "start_time": "2022-09-18T15:11:23.511Z"
   },
   {
    "duration": 108,
    "start_time": "2022-09-18T15:11:23.580Z"
   },
   {
    "duration": 523,
    "start_time": "2022-09-18T15:11:23.689Z"
   },
   {
    "duration": 53,
    "start_time": "2022-09-18T15:11:24.213Z"
   },
   {
    "duration": 63,
    "start_time": "2022-09-18T15:11:24.267Z"
   },
   {
    "duration": 85,
    "start_time": "2022-09-18T15:11:24.332Z"
   },
   {
    "duration": 2091,
    "start_time": "2022-09-18T15:11:24.419Z"
   },
   {
    "duration": 11527,
    "start_time": "2022-09-18T15:11:26.512Z"
   },
   {
    "duration": 3,
    "start_time": "2022-09-18T15:11:38.040Z"
   },
   {
    "duration": 20575,
    "start_time": "2022-09-18T15:11:38.044Z"
   },
   {
    "duration": 9,
    "start_time": "2022-09-18T15:11:58.710Z"
   },
   {
    "duration": 199,
    "start_time": "2022-09-18T15:11:58.721Z"
   },
   {
    "duration": 188,
    "start_time": "2022-09-18T15:11:58.922Z"
   },
   {
    "duration": 104,
    "start_time": "2022-09-18T15:17:54.214Z"
   },
   {
    "duration": 45,
    "start_time": "2022-09-18T15:24:55.385Z"
   },
   {
    "duration": 67,
    "start_time": "2022-09-18T15:29:56.202Z"
   },
   {
    "duration": 2008,
    "start_time": "2022-09-18T15:39:31.164Z"
   },
   {
    "duration": 1358,
    "start_time": "2022-09-18T15:39:33.174Z"
   },
   {
    "duration": 957,
    "start_time": "2022-09-18T15:39:34.534Z"
   },
   {
    "duration": 123,
    "start_time": "2022-09-18T15:39:35.492Z"
   },
   {
    "duration": 8,
    "start_time": "2022-09-18T15:39:35.617Z"
   },
   {
    "duration": 8,
    "start_time": "2022-09-18T15:39:35.627Z"
   },
   {
    "duration": 56,
    "start_time": "2022-09-18T15:39:35.636Z"
   },
   {
    "duration": 600,
    "start_time": "2022-09-18T15:39:35.694Z"
   },
   {
    "duration": 770,
    "start_time": "2022-09-18T15:39:36.296Z"
   },
   {
    "duration": 188,
    "start_time": "2022-09-18T15:39:37.068Z"
   },
   {
    "duration": 9,
    "start_time": "2022-09-18T15:39:37.257Z"
   },
   {
    "duration": 67,
    "start_time": "2022-09-18T15:39:37.268Z"
   },
   {
    "duration": 84,
    "start_time": "2022-09-18T15:39:37.336Z"
   },
   {
    "duration": 97,
    "start_time": "2022-09-18T15:39:37.423Z"
   },
   {
    "duration": 532,
    "start_time": "2022-09-18T15:39:37.521Z"
   },
   {
    "duration": 62,
    "start_time": "2022-09-18T15:39:38.055Z"
   },
   {
    "duration": 46,
    "start_time": "2022-09-18T15:39:38.120Z"
   },
   {
    "duration": 62,
    "start_time": "2022-09-18T15:39:38.168Z"
   },
   {
    "duration": 1921,
    "start_time": "2022-09-18T15:39:38.309Z"
   },
   {
    "duration": 11549,
    "start_time": "2022-09-18T15:39:40.232Z"
   },
   {
    "duration": 2,
    "start_time": "2022-09-18T15:39:51.782Z"
   },
   {
    "duration": 69625,
    "start_time": "2022-09-18T15:39:51.786Z"
   },
   {
    "duration": 11,
    "start_time": "2022-09-18T15:41:01.413Z"
   },
   {
    "duration": 193,
    "start_time": "2022-09-18T15:41:01.426Z"
   },
   {
    "duration": 106,
    "start_time": "2022-09-18T15:41:01.621Z"
   },
   {
    "duration": 54,
    "start_time": "2022-09-18T17:01:24.885Z"
   },
   {
    "duration": 1701,
    "start_time": "2022-09-18T17:01:28.804Z"
   },
   {
    "duration": 0,
    "start_time": "2022-09-18T17:01:30.507Z"
   },
   {
    "duration": 1800,
    "start_time": "2022-09-18T17:01:36.622Z"
   },
   {
    "duration": 9,
    "start_time": "2022-09-18T17:15:21.470Z"
   },
   {
    "duration": 2707,
    "start_time": "2022-09-18T17:15:42.927Z"
   },
   {
    "duration": 1358,
    "start_time": "2022-09-18T17:15:45.636Z"
   },
   {
    "duration": 1419,
    "start_time": "2022-09-18T17:15:46.995Z"
   },
   {
    "duration": 104,
    "start_time": "2022-09-18T17:15:48.416Z"
   },
   {
    "duration": 6,
    "start_time": "2022-09-18T17:15:48.522Z"
   },
   {
    "duration": 6,
    "start_time": "2022-09-18T17:15:48.530Z"
   },
   {
    "duration": 40,
    "start_time": "2022-09-18T17:15:48.537Z"
   },
   {
    "duration": 573,
    "start_time": "2022-09-18T17:15:48.578Z"
   },
   {
    "duration": 746,
    "start_time": "2022-09-18T17:15:49.152Z"
   },
   {
    "duration": 172,
    "start_time": "2022-09-18T17:15:49.908Z"
   },
   {
    "duration": 8,
    "start_time": "2022-09-18T17:15:50.081Z"
   },
   {
    "duration": 62,
    "start_time": "2022-09-18T17:15:50.090Z"
   },
   {
    "duration": 74,
    "start_time": "2022-09-18T17:15:50.153Z"
   },
   {
    "duration": 87,
    "start_time": "2022-09-18T17:15:50.229Z"
   },
   {
    "duration": 488,
    "start_time": "2022-09-18T17:15:50.318Z"
   },
   {
    "duration": 46,
    "start_time": "2022-09-18T17:15:50.807Z"
   },
   {
    "duration": 58,
    "start_time": "2022-09-18T17:15:50.854Z"
   },
   {
    "duration": 102,
    "start_time": "2022-09-18T17:15:50.913Z"
   },
   {
    "duration": 93,
    "start_time": "2022-09-18T17:15:51.017Z"
   },
   {
    "duration": 8,
    "start_time": "2022-09-18T17:15:51.111Z"
   },
   {
    "duration": 9,
    "start_time": "2022-09-18T17:15:51.121Z"
   },
   {
    "duration": 4,
    "start_time": "2022-09-18T17:15:51.131Z"
   },
   {
    "duration": 74,
    "start_time": "2022-09-18T17:15:51.136Z"
   },
   {
    "duration": 248,
    "start_time": "2022-09-18T17:15:51.212Z"
   },
   {
    "duration": 0,
    "start_time": "2022-09-18T17:15:51.461Z"
   },
   {
    "duration": 43,
    "start_time": "2022-09-18T17:17:27.973Z"
   },
   {
    "duration": 105,
    "start_time": "2022-09-18T17:18:25.964Z"
   },
   {
    "duration": 88,
    "start_time": "2022-09-18T17:19:06.219Z"
   },
   {
    "duration": 15,
    "start_time": "2022-09-18T17:19:15.070Z"
   },
   {
    "duration": 528,
    "start_time": "2022-09-18T17:25:25.901Z"
   },
   {
    "duration": 16,
    "start_time": "2022-09-18T17:25:36.968Z"
   },
   {
    "duration": 1915,
    "start_time": "2022-09-18T17:25:50.702Z"
   },
   {
    "duration": 1435,
    "start_time": "2022-09-18T17:25:52.619Z"
   },
   {
    "duration": 1529,
    "start_time": "2022-09-18T17:25:54.055Z"
   },
   {
    "duration": 101,
    "start_time": "2022-09-18T17:25:55.586Z"
   },
   {
    "duration": 11,
    "start_time": "2022-09-18T17:25:55.689Z"
   },
   {
    "duration": 13,
    "start_time": "2022-09-18T17:25:55.701Z"
   },
   {
    "duration": 41,
    "start_time": "2022-09-18T17:25:55.715Z"
   },
   {
    "duration": 530,
    "start_time": "2022-09-18T17:25:55.757Z"
   },
   {
    "duration": 732,
    "start_time": "2022-09-18T17:25:56.288Z"
   },
   {
    "duration": 172,
    "start_time": "2022-09-18T17:25:57.021Z"
   },
   {
    "duration": 15,
    "start_time": "2022-09-18T17:25:57.194Z"
   },
   {
    "duration": 52,
    "start_time": "2022-09-18T17:25:57.210Z"
   },
   {
    "duration": 78,
    "start_time": "2022-09-18T17:25:57.264Z"
   },
   {
    "duration": 91,
    "start_time": "2022-09-18T17:25:57.345Z"
   },
   {
    "duration": 502,
    "start_time": "2022-09-18T17:25:57.438Z"
   },
   {
    "duration": 17,
    "start_time": "2022-09-18T17:25:57.942Z"
   },
   {
    "duration": 56,
    "start_time": "2022-09-18T17:25:57.960Z"
   },
   {
    "duration": 2,
    "start_time": "2022-09-18T17:25:58.018Z"
   },
   {
    "duration": 125,
    "start_time": "2022-09-18T17:25:58.022Z"
   },
   {
    "duration": 0,
    "start_time": "2022-09-18T17:25:58.148Z"
   },
   {
    "duration": 0,
    "start_time": "2022-09-18T17:25:58.149Z"
   },
   {
    "duration": 0,
    "start_time": "2022-09-18T17:25:58.150Z"
   },
   {
    "duration": 0,
    "start_time": "2022-09-18T17:25:58.151Z"
   },
   {
    "duration": 0,
    "start_time": "2022-09-18T17:25:58.152Z"
   },
   {
    "duration": 0,
    "start_time": "2022-09-18T17:25:58.153Z"
   },
   {
    "duration": 0,
    "start_time": "2022-09-18T17:25:58.154Z"
   },
   {
    "duration": 0,
    "start_time": "2022-09-18T17:25:58.155Z"
   },
   {
    "duration": 497,
    "start_time": "2022-09-18T17:26:13.971Z"
   },
   {
    "duration": 17,
    "start_time": "2022-09-18T17:26:14.903Z"
   },
   {
    "duration": 496,
    "start_time": "2022-09-18T17:27:42.268Z"
   },
   {
    "duration": 48,
    "start_time": "2022-09-18T17:27:43.578Z"
   },
   {
    "duration": 45,
    "start_time": "2022-09-18T17:30:42.705Z"
   },
   {
    "duration": 15,
    "start_time": "2022-09-18T17:31:01.409Z"
   },
   {
    "duration": 215,
    "start_time": "2022-09-18T17:31:50.375Z"
   },
   {
    "duration": 203,
    "start_time": "2022-09-18T17:32:12.698Z"
   },
   {
    "duration": 19,
    "start_time": "2022-09-18T17:32:19.777Z"
   },
   {
    "duration": 51,
    "start_time": "2022-09-18T17:32:22.705Z"
   },
   {
    "duration": 23,
    "start_time": "2022-09-18T17:32:25.776Z"
   },
   {
    "duration": 1994,
    "start_time": "2022-09-18T17:32:54.774Z"
   },
   {
    "duration": 1317,
    "start_time": "2022-09-18T17:32:56.770Z"
   },
   {
    "duration": 1490,
    "start_time": "2022-09-18T17:32:58.088Z"
   },
   {
    "duration": 100,
    "start_time": "2022-09-18T17:32:59.579Z"
   },
   {
    "duration": 7,
    "start_time": "2022-09-18T17:32:59.681Z"
   },
   {
    "duration": 16,
    "start_time": "2022-09-18T17:32:59.689Z"
   },
   {
    "duration": 42,
    "start_time": "2022-09-18T17:32:59.709Z"
   },
   {
    "duration": 522,
    "start_time": "2022-09-18T17:32:59.753Z"
   },
   {
    "duration": 741,
    "start_time": "2022-09-18T17:33:00.276Z"
   },
   {
    "duration": 181,
    "start_time": "2022-09-18T17:33:01.018Z"
   },
   {
    "duration": 14,
    "start_time": "2022-09-18T17:33:01.201Z"
   },
   {
    "duration": 60,
    "start_time": "2022-09-18T17:33:01.216Z"
   },
   {
    "duration": 78,
    "start_time": "2022-09-18T17:33:01.278Z"
   },
   {
    "duration": 102,
    "start_time": "2022-09-18T17:33:01.358Z"
   },
   {
    "duration": 136,
    "start_time": "2022-09-18T17:33:01.461Z"
   },
   {
    "duration": 0,
    "start_time": "2022-09-18T17:33:01.599Z"
   },
   {
    "duration": 95,
    "start_time": "2022-09-18T17:33:19.919Z"
   },
   {
    "duration": 14,
    "start_time": "2022-09-18T17:33:20.975Z"
   },
   {
    "duration": 255,
    "start_time": "2022-09-18T17:33:23.881Z"
   },
   {
    "duration": 18,
    "start_time": "2022-09-18T17:33:26.598Z"
   },
   {
    "duration": 429,
    "start_time": "2022-09-18T17:34:07.007Z"
   },
   {
    "duration": 44,
    "start_time": "2022-09-18T17:34:39.015Z"
   },
   {
    "duration": 98,
    "start_time": "2022-09-18T17:35:25.413Z"
   },
   {
    "duration": 17,
    "start_time": "2022-09-18T17:36:29.612Z"
   },
   {
    "duration": 1883,
    "start_time": "2022-09-18T17:36:51.474Z"
   },
   {
    "duration": 1366,
    "start_time": "2022-09-18T17:36:53.360Z"
   },
   {
    "duration": 1424,
    "start_time": "2022-09-18T17:36:54.727Z"
   },
   {
    "duration": 122,
    "start_time": "2022-09-18T17:36:56.153Z"
   },
   {
    "duration": 7,
    "start_time": "2022-09-18T17:36:56.277Z"
   },
   {
    "duration": 7,
    "start_time": "2022-09-18T17:36:56.285Z"
   },
   {
    "duration": 51,
    "start_time": "2022-09-18T17:36:56.293Z"
   },
   {
    "duration": 533,
    "start_time": "2022-09-18T17:36:56.345Z"
   },
   {
    "duration": 734,
    "start_time": "2022-09-18T17:36:56.880Z"
   },
   {
    "duration": 173,
    "start_time": "2022-09-18T17:36:57.616Z"
   },
   {
    "duration": 9,
    "start_time": "2022-09-18T17:36:57.790Z"
   },
   {
    "duration": 48,
    "start_time": "2022-09-18T17:36:57.808Z"
   },
   {
    "duration": 73,
    "start_time": "2022-09-18T17:36:57.857Z"
   },
   {
    "duration": 90,
    "start_time": "2022-09-18T17:36:57.933Z"
   },
   {
    "duration": 91,
    "start_time": "2022-09-18T17:36:58.025Z"
   },
   {
    "duration": 14,
    "start_time": "2022-09-18T17:36:58.117Z"
   },
   {
    "duration": 431,
    "start_time": "2022-09-18T17:36:58.133Z"
   },
   {
    "duration": 16,
    "start_time": "2022-09-18T17:36:58.565Z"
   },
   {
    "duration": 8,
    "start_time": "2022-09-18T17:36:58.582Z"
   },
   {
    "duration": 59,
    "start_time": "2022-09-18T17:36:58.592Z"
   },
   {
    "duration": 3,
    "start_time": "2022-09-18T17:36:58.712Z"
   },
   {
    "duration": 97,
    "start_time": "2022-09-18T17:36:58.717Z"
   },
   {
    "duration": 6,
    "start_time": "2022-09-18T17:36:58.816Z"
   },
   {
    "duration": 4,
    "start_time": "2022-09-18T17:36:58.823Z"
   },
   {
    "duration": 10,
    "start_time": "2022-09-18T17:36:58.829Z"
   },
   {
    "duration": 294,
    "start_time": "2022-09-18T17:36:58.840Z"
   },
   {
    "duration": 0,
    "start_time": "2022-09-18T17:36:59.136Z"
   },
   {
    "duration": 11,
    "start_time": "2022-09-18T17:38:01.623Z"
   },
   {
    "duration": 1889,
    "start_time": "2022-09-18T17:38:09.947Z"
   },
   {
    "duration": 40959,
    "start_time": "2022-09-18T17:38:46.013Z"
   },
   {
    "duration": 15741,
    "start_time": "2022-09-18T17:39:28.614Z"
   },
   {
    "duration": 6311,
    "start_time": "2022-09-18T17:39:45.198Z"
   },
   {
    "duration": 50,
    "start_time": "2022-09-18T17:39:51.967Z"
   },
   {
    "duration": 5390,
    "start_time": "2022-09-18T17:39:59.297Z"
   },
   {
    "duration": 41139,
    "start_time": "2022-09-18T17:40:05.268Z"
   },
   {
    "duration": 2,
    "start_time": "2022-09-18T17:40:53.025Z"
   },
   {
    "duration": 4248,
    "start_time": "2022-09-18T17:40:56.863Z"
   },
   {
    "duration": 4537,
    "start_time": "2022-09-18T17:41:24.875Z"
   },
   {
    "duration": 5,
    "start_time": "2022-09-18T17:42:04.059Z"
   },
   {
    "duration": 16,
    "start_time": "2022-09-18T17:43:01.483Z"
   },
   {
    "duration": 1902,
    "start_time": "2022-09-18T17:46:21.202Z"
   },
   {
    "duration": 1373,
    "start_time": "2022-09-18T17:46:23.106Z"
   },
   {
    "duration": 1482,
    "start_time": "2022-09-18T17:46:24.481Z"
   },
   {
    "duration": 108,
    "start_time": "2022-09-18T17:46:25.964Z"
   },
   {
    "duration": 6,
    "start_time": "2022-09-18T17:46:26.074Z"
   },
   {
    "duration": 13,
    "start_time": "2022-09-18T17:46:26.082Z"
   },
   {
    "duration": 44,
    "start_time": "2022-09-18T17:46:26.097Z"
   },
   {
    "duration": 552,
    "start_time": "2022-09-18T17:46:26.142Z"
   },
   {
    "duration": 732,
    "start_time": "2022-09-18T17:46:26.695Z"
   },
   {
    "duration": 172,
    "start_time": "2022-09-18T17:46:27.428Z"
   },
   {
    "duration": 14,
    "start_time": "2022-09-18T17:46:27.601Z"
   },
   {
    "duration": 47,
    "start_time": "2022-09-18T17:46:27.617Z"
   },
   {
    "duration": 81,
    "start_time": "2022-09-18T17:46:27.666Z"
   },
   {
    "duration": 90,
    "start_time": "2022-09-18T17:46:27.750Z"
   },
   {
    "duration": 91,
    "start_time": "2022-09-18T17:46:27.842Z"
   },
   {
    "duration": 184,
    "start_time": "2022-09-18T17:46:27.934Z"
   },
   {
    "duration": 11,
    "start_time": "2022-09-18T17:46:39.923Z"
   },
   {
    "duration": 102,
    "start_time": "2022-09-18T17:48:24.027Z"
   },
   {
    "duration": 220,
    "start_time": "2022-09-18T17:49:02.860Z"
   },
   {
    "duration": 114,
    "start_time": "2022-09-18T17:49:26.462Z"
   },
   {
    "duration": 11,
    "start_time": "2022-09-18T17:49:32.366Z"
   },
   {
    "duration": 110,
    "start_time": "2022-09-18T17:49:37.114Z"
   },
   {
    "duration": 11,
    "start_time": "2022-09-18T17:49:37.712Z"
   },
   {
    "duration": 1901,
    "start_time": "2022-09-18T17:49:52.170Z"
   },
   {
    "duration": 1398,
    "start_time": "2022-09-18T17:49:54.073Z"
   },
   {
    "duration": 1455,
    "start_time": "2022-09-18T17:49:55.473Z"
   },
   {
    "duration": 109,
    "start_time": "2022-09-18T17:49:56.930Z"
   },
   {
    "duration": 7,
    "start_time": "2022-09-18T17:49:57.042Z"
   },
   {
    "duration": 7,
    "start_time": "2022-09-18T17:49:57.050Z"
   },
   {
    "duration": 51,
    "start_time": "2022-09-18T17:49:57.058Z"
   },
   {
    "duration": 554,
    "start_time": "2022-09-18T17:49:57.111Z"
   },
   {
    "duration": 751,
    "start_time": "2022-09-18T17:49:57.666Z"
   },
   {
    "duration": 172,
    "start_time": "2022-09-18T17:49:58.418Z"
   },
   {
    "duration": 18,
    "start_time": "2022-09-18T17:49:58.592Z"
   },
   {
    "duration": 49,
    "start_time": "2022-09-18T17:49:58.612Z"
   },
   {
    "duration": 79,
    "start_time": "2022-09-18T17:49:58.663Z"
   },
   {
    "duration": 89,
    "start_time": "2022-09-18T17:49:58.745Z"
   },
   {
    "duration": 92,
    "start_time": "2022-09-18T17:49:58.836Z"
   },
   {
    "duration": 196,
    "start_time": "2022-09-18T17:49:58.929Z"
   },
   {
    "duration": 17,
    "start_time": "2022-09-18T17:50:02.365Z"
   },
   {
    "duration": 169,
    "start_time": "2022-09-18T17:50:19.716Z"
   },
   {
    "duration": 101,
    "start_time": "2022-09-18T17:50:29.313Z"
   },
   {
    "duration": 16,
    "start_time": "2022-09-18T17:51:00.677Z"
   },
   {
    "duration": 192,
    "start_time": "2022-09-18T17:53:23.028Z"
   },
   {
    "duration": 75,
    "start_time": "2022-09-18T17:54:09.208Z"
   },
   {
    "duration": 16,
    "start_time": "2022-09-18T17:54:13.726Z"
   },
   {
    "duration": 47,
    "start_time": "2022-09-18T17:54:36.538Z"
   },
   {
    "duration": 38,
    "start_time": "2022-09-18T17:55:07.829Z"
   },
   {
    "duration": 1869,
    "start_time": "2022-09-18T17:55:26.164Z"
   },
   {
    "duration": 460,
    "start_time": "2022-09-18T17:55:52.233Z"
   },
   {
    "duration": 28986,
    "start_time": "2022-09-18T17:55:58.577Z"
   },
   {
    "duration": 2028,
    "start_time": "2022-09-18T17:56:31.525Z"
   },
   {
    "duration": 23,
    "start_time": "2022-09-18T17:57:35.319Z"
   },
   {
    "duration": 11611,
    "start_time": "2022-09-18T17:57:54.206Z"
   },
   {
    "duration": 13,
    "start_time": "2022-09-18T17:58:55.664Z"
   },
   {
    "duration": 88008,
    "start_time": "2022-09-18T17:59:10.009Z"
   },
   {
    "duration": 8,
    "start_time": "2022-09-18T18:01:59.935Z"
   },
   {
    "duration": 15,
    "start_time": "2022-09-18T18:02:01.389Z"
   },
   {
    "duration": 110,
    "start_time": "2022-09-18T18:02:04.508Z"
   },
   {
    "duration": 14,
    "start_time": "2022-09-18T18:04:36.333Z"
   },
   {
    "duration": 68,
    "start_time": "2022-09-18T18:05:43.320Z"
   },
   {
    "duration": 17,
    "start_time": "2022-09-18T18:05:49.013Z"
   },
   {
    "duration": 188,
    "start_time": "2022-09-18T18:06:03.223Z"
   },
   {
    "duration": 16,
    "start_time": "2022-09-18T18:10:06.361Z"
   },
   {
    "duration": 94,
    "start_time": "2022-09-18T18:10:12.329Z"
   },
   {
    "duration": 86878,
    "start_time": "2022-09-18T18:11:19.033Z"
   },
   {
    "duration": 1963,
    "start_time": "2022-09-18T18:14:58.607Z"
   },
   {
    "duration": 1438,
    "start_time": "2022-09-18T18:15:00.573Z"
   },
   {
    "duration": 1505,
    "start_time": "2022-09-18T18:15:02.013Z"
   },
   {
    "duration": 115,
    "start_time": "2022-09-18T18:15:03.520Z"
   },
   {
    "duration": 8,
    "start_time": "2022-09-18T18:15:03.637Z"
   },
   {
    "duration": 12,
    "start_time": "2022-09-18T18:15:03.646Z"
   },
   {
    "duration": 53,
    "start_time": "2022-09-18T18:15:03.659Z"
   },
   {
    "duration": 570,
    "start_time": "2022-09-18T18:15:03.714Z"
   },
   {
    "duration": 848,
    "start_time": "2022-09-18T18:15:04.286Z"
   },
   {
    "duration": 206,
    "start_time": "2022-09-18T18:15:05.135Z"
   },
   {
    "duration": 9,
    "start_time": "2022-09-18T18:15:05.343Z"
   },
   {
    "duration": 65,
    "start_time": "2022-09-18T18:15:05.354Z"
   },
   {
    "duration": 64,
    "start_time": "2022-09-18T18:15:05.421Z"
   },
   {
    "duration": 110,
    "start_time": "2022-09-18T18:15:05.487Z"
   },
   {
    "duration": 109,
    "start_time": "2022-09-18T18:15:05.599Z"
   },
   {
    "duration": 203,
    "start_time": "2022-09-18T18:15:05.710Z"
   },
   {
    "duration": 69,
    "start_time": "2022-09-18T18:15:05.914Z"
   },
   {
    "duration": 78,
    "start_time": "2022-09-18T18:15:05.984Z"
   },
   {
    "duration": 3,
    "start_time": "2022-09-18T18:15:06.064Z"
   },
   {
    "duration": 9,
    "start_time": "2022-09-18T18:15:06.068Z"
   },
   {
    "duration": 59,
    "start_time": "2022-09-18T18:15:06.079Z"
   },
   {
    "duration": 2175,
    "start_time": "2022-09-18T18:15:06.139Z"
   },
   {
    "duration": 2126,
    "start_time": "2022-09-18T18:15:08.315Z"
   },
   {
    "duration": 2,
    "start_time": "2022-09-18T18:15:10.443Z"
   },
   {
    "duration": 166563,
    "start_time": "2022-09-18T18:15:10.447Z"
   },
   {
    "duration": 0,
    "start_time": "2022-09-18T18:17:57.012Z"
   },
   {
    "duration": 0,
    "start_time": "2022-09-18T18:17:57.013Z"
   },
   {
    "duration": 0,
    "start_time": "2022-09-18T18:17:57.014Z"
   },
   {
    "duration": 0,
    "start_time": "2022-09-18T18:17:57.015Z"
   },
   {
    "duration": 0,
    "start_time": "2022-09-18T18:17:57.016Z"
   },
   {
    "duration": 1933,
    "start_time": "2022-09-18T18:18:57.408Z"
   },
   {
    "duration": 1349,
    "start_time": "2022-09-18T18:18:59.344Z"
   },
   {
    "duration": 1467,
    "start_time": "2022-09-18T18:19:00.694Z"
   },
   {
    "duration": 107,
    "start_time": "2022-09-18T18:19:02.163Z"
   },
   {
    "duration": 6,
    "start_time": "2022-09-18T18:19:02.272Z"
   },
   {
    "duration": 9,
    "start_time": "2022-09-18T18:19:02.280Z"
   },
   {
    "duration": 51,
    "start_time": "2022-09-18T18:19:02.291Z"
   },
   {
    "duration": 520,
    "start_time": "2022-09-18T18:19:02.343Z"
   },
   {
    "duration": 729,
    "start_time": "2022-09-18T18:19:02.865Z"
   },
   {
    "duration": 179,
    "start_time": "2022-09-18T18:19:03.596Z"
   },
   {
    "duration": 9,
    "start_time": "2022-09-18T18:19:03.777Z"
   },
   {
    "duration": 57,
    "start_time": "2022-09-18T18:19:03.787Z"
   },
   {
    "duration": 72,
    "start_time": "2022-09-18T18:19:03.846Z"
   },
   {
    "duration": 81,
    "start_time": "2022-09-18T18:19:03.920Z"
   },
   {
    "duration": 78,
    "start_time": "2022-09-18T18:19:04.009Z"
   },
   {
    "duration": 212,
    "start_time": "2022-09-18T18:19:04.089Z"
   },
   {
    "duration": 68,
    "start_time": "2022-09-18T18:19:04.302Z"
   },
   {
    "duration": 93,
    "start_time": "2022-09-18T18:19:04.372Z"
   },
   {
    "duration": 3,
    "start_time": "2022-09-18T18:19:04.468Z"
   },
   {
    "duration": 12,
    "start_time": "2022-09-18T18:19:04.473Z"
   },
   {
    "duration": 125,
    "start_time": "2022-09-18T18:19:04.487Z"
   },
   {
    "duration": 2004,
    "start_time": "2022-09-18T18:19:04.614Z"
   },
   {
    "duration": 2096,
    "start_time": "2022-09-18T18:19:06.620Z"
   },
   {
    "duration": 3,
    "start_time": "2022-09-18T18:19:08.718Z"
   },
   {
    "duration": 37271,
    "start_time": "2022-09-18T18:19:08.722Z"
   },
   {
    "duration": 0,
    "start_time": "2022-09-18T18:19:45.995Z"
   },
   {
    "duration": 0,
    "start_time": "2022-09-18T18:19:45.996Z"
   },
   {
    "duration": 0,
    "start_time": "2022-09-18T18:19:45.997Z"
   },
   {
    "duration": 0,
    "start_time": "2022-09-18T18:19:45.998Z"
   },
   {
    "duration": 0,
    "start_time": "2022-09-18T18:19:45.998Z"
   },
   {
    "duration": 40662,
    "start_time": "2022-09-18T18:19:47.963Z"
   },
   {
    "duration": 0,
    "start_time": "2022-09-18T18:21:17.133Z"
   },
   {
    "duration": 2011,
    "start_time": "2022-09-18T18:21:37.160Z"
   },
   {
    "duration": 1293,
    "start_time": "2022-09-18T18:21:39.174Z"
   },
   {
    "duration": 1498,
    "start_time": "2022-09-18T18:21:40.468Z"
   },
   {
    "duration": 114,
    "start_time": "2022-09-18T18:21:41.969Z"
   },
   {
    "duration": 6,
    "start_time": "2022-09-18T18:21:42.085Z"
   },
   {
    "duration": 16,
    "start_time": "2022-09-18T18:21:42.093Z"
   },
   {
    "duration": 45,
    "start_time": "2022-09-18T18:21:42.110Z"
   },
   {
    "duration": 521,
    "start_time": "2022-09-18T18:21:42.157Z"
   },
   {
    "duration": 775,
    "start_time": "2022-09-18T18:21:42.679Z"
   },
   {
    "duration": 180,
    "start_time": "2022-09-18T18:21:43.456Z"
   },
   {
    "duration": 8,
    "start_time": "2022-09-18T18:21:43.638Z"
   },
   {
    "duration": 63,
    "start_time": "2022-09-18T18:21:43.648Z"
   },
   {
    "duration": 63,
    "start_time": "2022-09-18T18:21:43.712Z"
   },
   {
    "duration": 100,
    "start_time": "2022-09-18T18:21:43.777Z"
   },
   {
    "duration": 89,
    "start_time": "2022-09-18T18:21:43.878Z"
   },
   {
    "duration": 196,
    "start_time": "2022-09-18T18:21:43.968Z"
   },
   {
    "duration": 79,
    "start_time": "2022-09-18T18:21:44.166Z"
   },
   {
    "duration": 102,
    "start_time": "2022-09-18T18:21:44.246Z"
   },
   {
    "duration": 2,
    "start_time": "2022-09-18T18:21:44.349Z"
   },
   {
    "duration": 5,
    "start_time": "2022-09-18T18:21:44.353Z"
   },
   {
    "duration": 251,
    "start_time": "2022-09-18T18:21:44.359Z"
   },
   {
    "duration": 1914,
    "start_time": "2022-09-18T18:21:44.612Z"
   },
   {
    "duration": 2226,
    "start_time": "2022-09-18T18:21:46.531Z"
   },
   {
    "duration": 3,
    "start_time": "2022-09-18T18:21:48.758Z"
   },
   {
    "duration": 1954,
    "start_time": "2022-09-18T18:23:10.605Z"
   },
   {
    "duration": 1356,
    "start_time": "2022-09-18T18:23:12.562Z"
   },
   {
    "duration": 1587,
    "start_time": "2022-09-18T18:23:13.920Z"
   },
   {
    "duration": 120,
    "start_time": "2022-09-18T18:23:15.508Z"
   },
   {
    "duration": 7,
    "start_time": "2022-09-18T18:23:15.629Z"
   },
   {
    "duration": 22,
    "start_time": "2022-09-18T18:23:15.637Z"
   },
   {
    "duration": 55,
    "start_time": "2022-09-18T18:23:15.661Z"
   },
   {
    "duration": 561,
    "start_time": "2022-09-18T18:23:15.718Z"
   },
   {
    "duration": 772,
    "start_time": "2022-09-18T18:23:16.281Z"
   },
   {
    "duration": 177,
    "start_time": "2022-09-18T18:23:17.055Z"
   },
   {
    "duration": 9,
    "start_time": "2022-09-18T18:23:17.233Z"
   },
   {
    "duration": 67,
    "start_time": "2022-09-18T18:23:17.243Z"
   },
   {
    "duration": 64,
    "start_time": "2022-09-18T18:23:17.311Z"
   },
   {
    "duration": 95,
    "start_time": "2022-09-18T18:23:17.377Z"
   },
   {
    "duration": 89,
    "start_time": "2022-09-18T18:23:17.474Z"
   },
   {
    "duration": 198,
    "start_time": "2022-09-18T18:23:17.565Z"
   },
   {
    "duration": 71,
    "start_time": "2022-09-18T18:23:17.764Z"
   },
   {
    "duration": 72,
    "start_time": "2022-09-18T18:23:17.837Z"
   },
   {
    "duration": 2,
    "start_time": "2022-09-18T18:23:17.911Z"
   },
   {
    "duration": 14,
    "start_time": "2022-09-18T18:23:17.915Z"
   },
   {
    "duration": 88,
    "start_time": "2022-09-18T18:23:17.931Z"
   },
   {
    "duration": 2011,
    "start_time": "2022-09-18T18:23:18.021Z"
   },
   {
    "duration": 2142,
    "start_time": "2022-09-18T18:23:20.034Z"
   },
   {
    "duration": 2,
    "start_time": "2022-09-18T18:23:22.178Z"
   },
   {
    "duration": 0,
    "start_time": "2022-09-18T18:24:18.620Z"
   },
   {
    "duration": 0,
    "start_time": "2022-09-18T18:24:18.621Z"
   },
   {
    "duration": 0,
    "start_time": "2022-09-18T18:24:18.622Z"
   },
   {
    "duration": 0,
    "start_time": "2022-09-18T18:24:18.623Z"
   },
   {
    "duration": 0,
    "start_time": "2022-09-18T18:24:18.624Z"
   },
   {
    "duration": 0,
    "start_time": "2022-09-18T18:24:18.626Z"
   },
   {
    "duration": 8165,
    "start_time": "2022-09-18T18:24:25.260Z"
   },
   {
    "duration": 30871,
    "start_time": "2022-09-18T18:24:34.849Z"
   },
   {
    "duration": 2063,
    "start_time": "2022-09-18T18:25:10.248Z"
   },
   {
    "duration": 1534,
    "start_time": "2022-09-18T18:25:12.313Z"
   },
   {
    "duration": 1588,
    "start_time": "2022-09-18T18:25:13.848Z"
   },
   {
    "duration": 120,
    "start_time": "2022-09-18T18:25:15.438Z"
   },
   {
    "duration": 7,
    "start_time": "2022-09-18T18:25:15.560Z"
   },
   {
    "duration": 8,
    "start_time": "2022-09-18T18:25:15.569Z"
   },
   {
    "duration": 61,
    "start_time": "2022-09-18T18:25:15.579Z"
   },
   {
    "duration": 577,
    "start_time": "2022-09-18T18:25:15.642Z"
   },
   {
    "duration": 775,
    "start_time": "2022-09-18T18:25:16.224Z"
   },
   {
    "duration": 184,
    "start_time": "2022-09-18T18:25:17.001Z"
   },
   {
    "duration": 9,
    "start_time": "2022-09-18T18:25:17.186Z"
   },
   {
    "duration": 67,
    "start_time": "2022-09-18T18:25:17.196Z"
   },
   {
    "duration": 84,
    "start_time": "2022-09-18T18:25:17.265Z"
   },
   {
    "duration": 85,
    "start_time": "2022-09-18T18:25:17.352Z"
   },
   {
    "duration": 87,
    "start_time": "2022-09-18T18:25:17.439Z"
   },
   {
    "duration": 204,
    "start_time": "2022-09-18T18:25:17.527Z"
   },
   {
    "duration": 86,
    "start_time": "2022-09-18T18:25:17.733Z"
   },
   {
    "duration": 66,
    "start_time": "2022-09-18T18:25:17.824Z"
   },
   {
    "duration": 2,
    "start_time": "2022-09-18T18:25:17.892Z"
   },
   {
    "duration": 5,
    "start_time": "2022-09-18T18:25:17.895Z"
   },
   {
    "duration": 118,
    "start_time": "2022-09-18T18:25:17.901Z"
   },
   {
    "duration": 1994,
    "start_time": "2022-09-18T18:25:18.021Z"
   },
   {
    "duration": 2145,
    "start_time": "2022-09-18T18:25:20.017Z"
   },
   {
    "duration": 2,
    "start_time": "2022-09-18T18:25:22.163Z"
   },
   {
    "duration": 248845,
    "start_time": "2022-09-18T18:25:22.167Z"
   },
   {
    "duration": 94,
    "start_time": "2022-09-18T18:29:31.016Z"
   },
   {
    "duration": 119,
    "start_time": "2022-09-18T18:29:31.113Z"
   },
   {
    "duration": 87,
    "start_time": "2022-09-18T18:29:31.233Z"
   },
   {
    "duration": 93,
    "start_time": "2022-09-18T18:29:31.322Z"
   },
   {
    "duration": 101,
    "start_time": "2022-09-18T18:29:31.416Z"
   },
   {
    "duration": 75,
    "start_time": "2022-09-19T17:34:56.509Z"
   },
   {
    "duration": 4898,
    "start_time": "2022-09-19T17:35:07.749Z"
   },
   {
    "duration": 3013,
    "start_time": "2022-09-19T17:35:12.649Z"
   },
   {
    "duration": 4357,
    "start_time": "2022-09-19T17:35:15.664Z"
   },
   {
    "duration": 120,
    "start_time": "2022-09-19T17:35:20.023Z"
   },
   {
    "duration": 7,
    "start_time": "2022-09-19T17:35:20.146Z"
   },
   {
    "duration": 25,
    "start_time": "2022-09-19T17:35:20.154Z"
   },
   {
    "duration": 43,
    "start_time": "2022-09-19T17:35:20.181Z"
   },
   {
    "duration": 579,
    "start_time": "2022-09-19T17:35:20.226Z"
   },
   {
    "duration": 882,
    "start_time": "2022-09-19T17:35:20.806Z"
   },
   {
    "duration": 230,
    "start_time": "2022-09-19T17:35:21.694Z"
   },
   {
    "duration": 11,
    "start_time": "2022-09-19T17:35:21.926Z"
   },
   {
    "duration": 109,
    "start_time": "2022-09-19T17:35:21.940Z"
   },
   {
    "duration": 110,
    "start_time": "2022-09-19T17:35:22.051Z"
   },
   {
    "duration": 127,
    "start_time": "2022-09-19T17:35:22.165Z"
   },
   {
    "duration": 111,
    "start_time": "2022-09-19T17:35:22.295Z"
   },
   {
    "duration": 205,
    "start_time": "2022-09-19T17:35:22.407Z"
   },
   {
    "duration": 87,
    "start_time": "2022-09-19T17:35:22.614Z"
   },
   {
    "duration": 70,
    "start_time": "2022-09-19T17:35:22.703Z"
   },
   {
    "duration": 500,
    "start_time": "2022-09-19T17:35:22.775Z"
   },
   {
    "duration": 28,
    "start_time": "2022-09-19T17:35:32.368Z"
   },
   {
    "duration": 22508,
    "start_time": "2022-09-19T17:35:55.788Z"
   },
   {
    "duration": 482,
    "start_time": "2022-09-19T17:37:26.447Z"
   },
   {
    "duration": 21,
    "start_time": "2022-09-19T17:37:35.042Z"
   },
   {
    "duration": 6,
    "start_time": "2022-09-19T17:37:42.859Z"
   },
   {
    "duration": 21,
    "start_time": "2022-09-19T17:37:49.265Z"
   },
   {
    "duration": 510,
    "start_time": "2022-09-19T17:38:16.639Z"
   },
   {
    "duration": 21312,
    "start_time": "2022-09-19T17:38:19.962Z"
   },
   {
    "duration": 41763,
    "start_time": "2022-09-19T17:38:57.852Z"
   },
   {
    "duration": 412,
    "start_time": "2022-09-19T17:39:42.810Z"
   },
   {
    "duration": 21607,
    "start_time": "2022-09-19T17:39:46.711Z"
   },
   {
    "duration": 0,
    "start_time": "2022-09-19T17:40:08.320Z"
   },
   {
    "duration": 31,
    "start_time": "2022-09-19T17:40:10.893Z"
   },
   {
    "duration": 0,
    "start_time": "2022-09-19T17:41:47.198Z"
   },
   {
    "duration": 2160,
    "start_time": "2022-09-19T17:41:56.330Z"
   },
   {
    "duration": 1803,
    "start_time": "2022-09-19T17:41:58.493Z"
   },
   {
    "duration": 1774,
    "start_time": "2022-09-19T17:42:00.297Z"
   },
   {
    "duration": 115,
    "start_time": "2022-09-19T17:42:02.072Z"
   },
   {
    "duration": 11,
    "start_time": "2022-09-19T17:42:02.189Z"
   },
   {
    "duration": 12,
    "start_time": "2022-09-19T17:42:02.202Z"
   },
   {
    "duration": 51,
    "start_time": "2022-09-19T17:42:02.216Z"
   },
   {
    "duration": 663,
    "start_time": "2022-09-19T17:42:02.269Z"
   },
   {
    "duration": 966,
    "start_time": "2022-09-19T17:42:02.934Z"
   },
   {
    "duration": 210,
    "start_time": "2022-09-19T17:42:03.901Z"
   },
   {
    "duration": 12,
    "start_time": "2022-09-19T17:42:04.114Z"
   },
   {
    "duration": 72,
    "start_time": "2022-09-19T17:42:04.128Z"
   },
   {
    "duration": 70,
    "start_time": "2022-09-19T17:42:04.202Z"
   },
   {
    "duration": 140,
    "start_time": "2022-09-19T17:42:04.275Z"
   },
   {
    "duration": 123,
    "start_time": "2022-09-19T17:42:04.417Z"
   },
   {
    "duration": 204,
    "start_time": "2022-09-19T17:42:04.542Z"
   },
   {
    "duration": 82,
    "start_time": "2022-09-19T17:42:04.748Z"
   },
   {
    "duration": 88,
    "start_time": "2022-09-19T17:42:04.832Z"
   },
   {
    "duration": 443,
    "start_time": "2022-09-19T17:42:04.921Z"
   },
   {
    "duration": 3,
    "start_time": "2022-09-19T17:42:05.366Z"
   },
   {
    "duration": 6,
    "start_time": "2022-09-19T17:42:05.370Z"
   },
   {
    "duration": 186,
    "start_time": "2022-09-19T17:42:20.447Z"
   },
   {
    "duration": 54,
    "start_time": "2022-09-19T17:42:44.353Z"
   },
   {
    "duration": 466,
    "start_time": "2022-09-19T17:44:26.327Z"
   },
   {
    "duration": 452,
    "start_time": "2022-09-19T17:45:40.208Z"
   },
   {
    "duration": 18341,
    "start_time": "2022-09-19T17:45:46.161Z"
   },
   {
    "duration": 22520,
    "start_time": "2022-09-19T17:46:25.206Z"
   },
   {
    "duration": 447,
    "start_time": "2022-09-19T17:47:17.492Z"
   },
   {
    "duration": 20338,
    "start_time": "2022-09-19T17:47:57.765Z"
   },
   {
    "duration": 33,
    "start_time": "2022-09-19T17:48:53.428Z"
   },
   {
    "duration": 7,
    "start_time": "2022-09-19T17:49:05.237Z"
   },
   {
    "duration": 21,
    "start_time": "2022-09-19T17:49:12.234Z"
   },
   {
    "duration": 29,
    "start_time": "2022-09-19T17:49:23.753Z"
   },
   {
    "duration": 17,
    "start_time": "2022-09-19T17:49:29.892Z"
   },
   {
    "duration": 22,
    "start_time": "2022-09-19T17:49:37.155Z"
   },
   {
    "duration": 38,
    "start_time": "2022-09-19T17:49:41.481Z"
   },
   {
    "duration": 22,
    "start_time": "2022-09-19T17:49:50.182Z"
   },
   {
    "duration": 6,
    "start_time": "2022-09-19T17:50:01.246Z"
   },
   {
    "duration": 21160,
    "start_time": "2022-09-19T17:50:40.057Z"
   },
   {
    "duration": 426,
    "start_time": "2022-09-19T17:51:58.315Z"
   },
   {
    "duration": 22150,
    "start_time": "2022-09-19T17:52:00.288Z"
   },
   {
    "duration": 27,
    "start_time": "2022-09-19T17:56:42.127Z"
   },
   {
    "duration": 23,
    "start_time": "2022-09-19T17:56:48.829Z"
   },
   {
    "duration": 424,
    "start_time": "2022-09-19T17:57:08.108Z"
   },
   {
    "duration": 27,
    "start_time": "2022-09-19T17:57:09.957Z"
   },
   {
    "duration": 22,
    "start_time": "2022-09-19T17:57:10.104Z"
   },
   {
    "duration": 20,
    "start_time": "2022-09-19T17:57:12.319Z"
   },
   {
    "duration": 19,
    "start_time": "2022-09-19T17:57:41.090Z"
   },
   {
    "duration": 17,
    "start_time": "2022-09-19T17:57:43.989Z"
   },
   {
    "duration": 2019,
    "start_time": "2022-09-19T17:58:12.298Z"
   },
   {
    "duration": 1559,
    "start_time": "2022-09-19T17:58:14.321Z"
   },
   {
    "duration": 1791,
    "start_time": "2022-09-19T17:58:15.882Z"
   },
   {
    "duration": 136,
    "start_time": "2022-09-19T17:58:17.676Z"
   },
   {
    "duration": 8,
    "start_time": "2022-09-19T17:58:17.813Z"
   },
   {
    "duration": 9,
    "start_time": "2022-09-19T17:58:17.822Z"
   },
   {
    "duration": 48,
    "start_time": "2022-09-19T17:58:17.833Z"
   },
   {
    "duration": 602,
    "start_time": "2022-09-19T17:58:17.896Z"
   },
   {
    "duration": 893,
    "start_time": "2022-09-19T17:58:18.500Z"
   },
   {
    "duration": 214,
    "start_time": "2022-09-19T17:58:19.396Z"
   },
   {
    "duration": 13,
    "start_time": "2022-09-19T17:58:19.613Z"
   },
   {
    "duration": 81,
    "start_time": "2022-09-19T17:58:19.629Z"
   },
   {
    "duration": 71,
    "start_time": "2022-09-19T17:58:19.712Z"
   },
   {
    "duration": 132,
    "start_time": "2022-09-19T17:58:19.785Z"
   },
   {
    "duration": 116,
    "start_time": "2022-09-19T17:58:19.920Z"
   },
   {
    "duration": 198,
    "start_time": "2022-09-19T17:58:20.038Z"
   },
   {
    "duration": 75,
    "start_time": "2022-09-19T17:58:20.238Z"
   },
   {
    "duration": 68,
    "start_time": "2022-09-19T17:58:20.315Z"
   },
   {
    "duration": 463,
    "start_time": "2022-09-19T17:58:20.385Z"
   },
   {
    "duration": 28,
    "start_time": "2022-09-19T17:58:20.850Z"
   },
   {
    "duration": 31,
    "start_time": "2022-09-19T17:58:20.880Z"
   },
   {
    "duration": 2,
    "start_time": "2022-09-19T17:58:20.913Z"
   },
   {
    "duration": 5,
    "start_time": "2022-09-19T17:58:20.917Z"
   },
   {
    "duration": 23681,
    "start_time": "2022-09-19T17:58:20.924Z"
   },
   {
    "duration": 0,
    "start_time": "2022-09-19T17:58:44.608Z"
   },
   {
    "duration": 0,
    "start_time": "2022-09-19T17:58:44.609Z"
   },
   {
    "duration": 0,
    "start_time": "2022-09-19T17:58:44.610Z"
   },
   {
    "duration": 0,
    "start_time": "2022-09-19T17:58:44.611Z"
   },
   {
    "duration": 0,
    "start_time": "2022-09-19T17:58:44.612Z"
   },
   {
    "duration": 0,
    "start_time": "2022-09-19T17:58:44.613Z"
   },
   {
    "duration": 0,
    "start_time": "2022-09-19T17:58:44.615Z"
   },
   {
    "duration": 0,
    "start_time": "2022-09-19T17:58:44.616Z"
   },
   {
    "duration": 420,
    "start_time": "2022-09-19T17:58:47.087Z"
   },
   {
    "duration": 27,
    "start_time": "2022-09-19T17:58:47.650Z"
   },
   {
    "duration": 20,
    "start_time": "2022-09-19T17:58:50.434Z"
   },
   {
    "duration": 6,
    "start_time": "2022-09-19T17:59:28.771Z"
   },
   {
    "duration": 4,
    "start_time": "2022-09-19T18:01:11.805Z"
   },
   {
    "duration": 4,
    "start_time": "2022-09-19T18:01:20.495Z"
   },
   {
    "duration": 20,
    "start_time": "2022-09-19T18:02:05.338Z"
   },
   {
    "duration": 13,
    "start_time": "2022-09-19T18:02:12.748Z"
   },
   {
    "duration": 38,
    "start_time": "2022-09-19T18:02:28.268Z"
   },
   {
    "duration": 3,
    "start_time": "2022-09-19T18:03:08.962Z"
   },
   {
    "duration": 5,
    "start_time": "2022-09-19T18:03:16.734Z"
   },
   {
    "duration": 5,
    "start_time": "2022-09-19T18:04:03.294Z"
   },
   {
    "duration": 425,
    "start_time": "2022-09-19T18:04:07.186Z"
   },
   {
    "duration": 5,
    "start_time": "2022-09-19T18:04:10.448Z"
   },
   {
    "duration": 5,
    "start_time": "2022-09-19T18:04:13.249Z"
   },
   {
    "duration": 5,
    "start_time": "2022-09-19T18:04:16.536Z"
   },
   {
    "duration": 85,
    "start_time": "2022-09-19T18:04:36.111Z"
   },
   {
    "duration": 412,
    "start_time": "2022-09-19T18:04:37.736Z"
   },
   {
    "duration": 5,
    "start_time": "2022-09-19T18:04:43.198Z"
   },
   {
    "duration": 5,
    "start_time": "2022-09-19T18:04:44.125Z"
   },
   {
    "duration": 4,
    "start_time": "2022-09-19T18:05:46.838Z"
   },
   {
    "duration": 3,
    "start_time": "2022-09-19T18:05:47.943Z"
   },
   {
    "duration": 118,
    "start_time": "2022-09-19T18:06:25.420Z"
   },
   {
    "duration": 55,
    "start_time": "2022-09-19T18:06:38.441Z"
   },
   {
    "duration": 9,
    "start_time": "2022-09-19T18:06:44.403Z"
   },
   {
    "duration": 3,
    "start_time": "2022-09-19T18:07:27.338Z"
   },
   {
    "duration": 435,
    "start_time": "2022-09-19T18:07:30.450Z"
   },
   {
    "duration": 459,
    "start_time": "2022-09-19T18:08:14.224Z"
   },
   {
    "duration": 122,
    "start_time": "2022-09-19T18:08:14.952Z"
   },
   {
    "duration": 28,
    "start_time": "2022-09-19T18:08:22.935Z"
   },
   {
    "duration": 26,
    "start_time": "2022-09-19T18:08:46.478Z"
   },
   {
    "duration": 5,
    "start_time": "2022-09-19T18:09:20.598Z"
   },
   {
    "duration": 6,
    "start_time": "2022-09-19T18:09:21.962Z"
   },
   {
    "duration": 436,
    "start_time": "2022-09-19T18:09:47.950Z"
   },
   {
    "duration": 23437,
    "start_time": "2022-09-19T18:10:10.176Z"
   },
   {
    "duration": 5,
    "start_time": "2022-09-19T18:10:44.622Z"
   },
   {
    "duration": 5,
    "start_time": "2022-09-19T18:10:47.690Z"
   },
   {
    "duration": 456,
    "start_time": "2022-09-19T18:10:53.837Z"
   },
   {
    "duration": 119,
    "start_time": "2022-09-19T18:10:55.000Z"
   },
   {
    "duration": 4,
    "start_time": "2022-09-19T18:10:56.294Z"
   },
   {
    "duration": 6,
    "start_time": "2022-09-19T18:10:57.872Z"
   },
   {
    "duration": 17919,
    "start_time": "2022-09-19T18:11:01.287Z"
   },
   {
    "duration": 2208,
    "start_time": "2022-09-19T18:11:44.956Z"
   },
   {
    "duration": 1556,
    "start_time": "2022-09-19T18:11:47.166Z"
   },
   {
    "duration": 1787,
    "start_time": "2022-09-19T18:11:48.725Z"
   },
   {
    "duration": 140,
    "start_time": "2022-09-19T18:11:50.514Z"
   },
   {
    "duration": 8,
    "start_time": "2022-09-19T18:11:50.656Z"
   },
   {
    "duration": 12,
    "start_time": "2022-09-19T18:11:50.665Z"
   },
   {
    "duration": 61,
    "start_time": "2022-09-19T18:11:50.679Z"
   },
   {
    "duration": 776,
    "start_time": "2022-09-19T18:11:50.742Z"
   },
   {
    "duration": 994,
    "start_time": "2022-09-19T18:11:51.520Z"
   },
   {
    "duration": 217,
    "start_time": "2022-09-19T18:11:52.517Z"
   },
   {
    "duration": 12,
    "start_time": "2022-09-19T18:11:52.736Z"
   },
   {
    "duration": 85,
    "start_time": "2022-09-19T18:11:52.750Z"
   },
   {
    "duration": 93,
    "start_time": "2022-09-19T18:11:52.837Z"
   },
   {
    "duration": 136,
    "start_time": "2022-09-19T18:11:52.932Z"
   },
   {
    "duration": 116,
    "start_time": "2022-09-19T18:11:53.070Z"
   },
   {
    "duration": 222,
    "start_time": "2022-09-19T18:11:53.188Z"
   },
   {
    "duration": 83,
    "start_time": "2022-09-19T18:11:53.412Z"
   },
   {
    "duration": 79,
    "start_time": "2022-09-19T18:11:53.497Z"
   },
   {
    "duration": 568,
    "start_time": "2022-09-19T18:11:53.578Z"
   },
   {
    "duration": 3,
    "start_time": "2022-09-19T18:11:54.147Z"
   },
   {
    "duration": 9,
    "start_time": "2022-09-19T18:11:54.152Z"
   },
   {
    "duration": 23940,
    "start_time": "2022-09-19T18:11:54.162Z"
   },
   {
    "duration": 143398,
    "start_time": "2022-09-19T18:12:18.195Z"
   },
   {
    "duration": 0,
    "start_time": "2022-09-19T18:14:41.596Z"
   },
   {
    "duration": 0,
    "start_time": "2022-09-19T18:14:41.597Z"
   },
   {
    "duration": 0,
    "start_time": "2022-09-19T18:14:41.598Z"
   },
   {
    "duration": 0,
    "start_time": "2022-09-19T18:14:41.599Z"
   },
   {
    "duration": 0,
    "start_time": "2022-09-19T18:14:41.601Z"
   },
   {
    "duration": 0,
    "start_time": "2022-09-19T18:14:41.602Z"
   },
   {
    "duration": 0,
    "start_time": "2022-09-19T18:14:41.603Z"
   },
   {
    "duration": 2130,
    "start_time": "2022-09-19T18:14:47.725Z"
   },
   {
    "duration": 3,
    "start_time": "2022-09-19T18:14:49.857Z"
   },
   {
    "duration": 219935,
    "start_time": "2022-09-19T18:14:49.861Z"
   },
   {
    "duration": 21,
    "start_time": "2022-09-19T18:18:29.798Z"
   },
   {
    "duration": 0,
    "start_time": "2022-09-19T18:18:29.822Z"
   },
   {
    "duration": 0,
    "start_time": "2022-09-19T18:18:29.823Z"
   },
   {
    "duration": 0,
    "start_time": "2022-09-19T18:18:29.824Z"
   },
   {
    "duration": 213,
    "start_time": "2022-09-19T18:21:19.888Z"
   },
   {
    "duration": 20,
    "start_time": "2022-09-19T18:21:22.078Z"
   },
   {
    "duration": 29,
    "start_time": "2022-09-19T18:21:23.014Z"
   },
   {
    "duration": 107,
    "start_time": "2022-09-19T18:21:25.189Z"
   }
  ],
  "kernelspec": {
   "display_name": "Python 3 (ipykernel)",
   "language": "python",
   "name": "python3"
  },
  "language_info": {
   "codemirror_mode": {
    "name": "ipython",
    "version": 3
   },
   "file_extension": ".py",
   "mimetype": "text/x-python",
   "name": "python",
   "nbconvert_exporter": "python",
   "pygments_lexer": "ipython3",
   "version": "3.9.12"
  },
  "toc": {
   "base_numbering": 1,
   "nav_menu": {},
   "number_sections": true,
   "sideBar": true,
   "skip_h1_title": true,
   "title_cell": "Table of Contents",
   "title_sidebar": "Contents",
   "toc_cell": false,
   "toc_position": {},
   "toc_section_display": true,
   "toc_window_display": false
  }
 },
 "nbformat": 4,
 "nbformat_minor": 2
}
