{
 "cells": [
  {
   "cell_type": "markdown",
   "metadata": {},
   "source": [
    "# Protection of personal data of clients"
   ]
  },
  {
   "cell_type": "markdown",
   "metadata": {},
   "source": [
    "It is necessary to protect the customer data of the insurance company \"Though the flood\". Develop a method of data transformation so that it is difficult to recover personal information from them. Justify the correctness of his work.\n",
    "\n",
    "It is necessary to protect the data so that the quality of machine learning models does not deteriorate during the conversion. There is no need to select the best model."
   ]
  },
  {
   "cell_type": "markdown",
   "metadata": {},
   "source": [
    "## Data loading"
   ]
  },
  {
   "cell_type": "code",
   "execution_count": 1,
   "metadata": {},
   "outputs": [],
   "source": [
    "import pandas as pd\n",
    "import numpy as np\n",
    "from sklearn.linear_model import LinearRegression"
   ]
  },
  {
   "cell_type": "code",
   "execution_count": 2,
   "metadata": {},
   "outputs": [],
   "source": [
    "data = pd.read_csv('insurance.csv')"
   ]
  },
  {
   "cell_type": "code",
   "execution_count": 3,
   "metadata": {},
   "outputs": [
    {
     "name": "stdout",
     "output_type": "stream",
     "text": [
      "<class 'pandas.core.frame.DataFrame'>\n",
      "RangeIndex: 5000 entries, 0 to 4999\n",
      "Data columns (total 5 columns):\n",
      " #   Column             Non-Null Count  Dtype  \n",
      "---  ------             --------------  -----  \n",
      " 0   Пол                5000 non-null   int64  \n",
      " 1   Возраст            5000 non-null   float64\n",
      " 2   Зарплата           5000 non-null   float64\n",
      " 3   Члены семьи        5000 non-null   int64  \n",
      " 4   Страховые выплаты  5000 non-null   int64  \n",
      "dtypes: float64(2), int64(3)\n",
      "memory usage: 195.4 KB\n"
     ]
    }
   ],
   "source": [
    "data.info()"
   ]
  },
  {
   "cell_type": "code",
   "execution_count": 4,
   "metadata": {
    "scrolled": true
   },
   "outputs": [
    {
     "data": {
      "text/html": [
       "<div>\n",
       "<style scoped>\n",
       "    .dataframe tbody tr th:only-of-type {\n",
       "        vertical-align: middle;\n",
       "    }\n",
       "\n",
       "    .dataframe tbody tr th {\n",
       "        vertical-align: top;\n",
       "    }\n",
       "\n",
       "    .dataframe thead th {\n",
       "        text-align: right;\n",
       "    }\n",
       "</style>\n",
       "<table border=\"1\" class=\"dataframe\">\n",
       "  <thead>\n",
       "    <tr style=\"text-align: right;\">\n",
       "      <th></th>\n",
       "      <th>Пол</th>\n",
       "      <th>Возраст</th>\n",
       "      <th>Зарплата</th>\n",
       "      <th>Члены семьи</th>\n",
       "      <th>Страховые выплаты</th>\n",
       "    </tr>\n",
       "  </thead>\n",
       "  <tbody>\n",
       "    <tr>\n",
       "      <th>0</th>\n",
       "      <td>1</td>\n",
       "      <td>41.0</td>\n",
       "      <td>49600.0</td>\n",
       "      <td>1</td>\n",
       "      <td>0</td>\n",
       "    </tr>\n",
       "    <tr>\n",
       "      <th>1</th>\n",
       "      <td>0</td>\n",
       "      <td>46.0</td>\n",
       "      <td>38000.0</td>\n",
       "      <td>1</td>\n",
       "      <td>1</td>\n",
       "    </tr>\n",
       "    <tr>\n",
       "      <th>2</th>\n",
       "      <td>0</td>\n",
       "      <td>29.0</td>\n",
       "      <td>21000.0</td>\n",
       "      <td>0</td>\n",
       "      <td>0</td>\n",
       "    </tr>\n",
       "    <tr>\n",
       "      <th>3</th>\n",
       "      <td>0</td>\n",
       "      <td>21.0</td>\n",
       "      <td>41700.0</td>\n",
       "      <td>2</td>\n",
       "      <td>0</td>\n",
       "    </tr>\n",
       "    <tr>\n",
       "      <th>4</th>\n",
       "      <td>1</td>\n",
       "      <td>28.0</td>\n",
       "      <td>26100.0</td>\n",
       "      <td>0</td>\n",
       "      <td>0</td>\n",
       "    </tr>\n",
       "  </tbody>\n",
       "</table>\n",
       "</div>"
      ],
      "text/plain": [
       "   Пол  Возраст  Зарплата  Члены семьи  Страховые выплаты\n",
       "0    1     41.0   49600.0            1                  0\n",
       "1    0     46.0   38000.0            1                  1\n",
       "2    0     29.0   21000.0            0                  0\n",
       "3    0     21.0   41700.0            2                  0\n",
       "4    1     28.0   26100.0            0                  0"
      ]
     },
     "execution_count": 4,
     "metadata": {},
     "output_type": "execute_result"
    }
   ],
   "source": [
    "data.head()"
   ]
  },
  {
   "cell_type": "markdown",
   "metadata": {},
   "source": [
    "**Conclusion:**\n",
    "\n",
    "- The data consists of 5 columns and 5 thousand rows.\n",
    "\n",
    "- There are no missing values in the data"
   ]
  },
  {
   "cell_type": "code",
   "execution_count": 5,
   "metadata": {},
   "outputs": [
    {
     "data": {
      "text/plain": [
       "((5000, 4), (5000,))"
      ]
     },
     "execution_count": 5,
     "metadata": {},
     "output_type": "execute_result"
    }
   ],
   "source": [
    "# divide data into features and target\n",
    "X = data.drop(\"Страховые выплаты\", axis=1)\n",
    "y = data[\"Страховые выплаты\"]\n",
    "X.shape, y.shape"
   ]
  },
  {
   "cell_type": "code",
   "execution_count": 6,
   "metadata": {},
   "outputs": [],
   "source": [
    "# function to calculate r2\n",
    "def get_predict_r2(x, y):\n",
    "    model = LinearRegression()\n",
    "    model.fit(x, y)\n",
    "    r2 = model.score(x, y)\n",
    "    return r2"
   ]
  },
  {
   "cell_type": "code",
   "execution_count": 7,
   "metadata": {
    "scrolled": true
   },
   "outputs": [
    {
     "data": {
      "text/plain": [
       "0.4249455028666801"
      ]
     },
     "execution_count": 7,
     "metadata": {},
     "output_type": "execute_result"
    }
   ],
   "source": [
    "# r2 for an ordinary matrix\n",
    "get_predict_r2(X,y)"
   ]
  },
  {
   "cell_type": "code",
   "execution_count": 8,
   "metadata": {
    "scrolled": true
   },
   "outputs": [
    {
     "name": "stdout",
     "output_type": "stream",
     "text": [
      "0.42494550286668\n"
     ]
    }
   ],
   "source": [
    "# r2 after multiplying the features by the matrix inverse to the one\n",
    "# which is obtained by multiplying the transposed feature matrix by the original feature matrix\n",
    "X_inv = X @ np.linalg.inv(np.array(X).T @ np.array(X))\n",
    "print(get_predict_r2(X_inv,y))"
   ]
  },
  {
   "cell_type": "markdown",
   "metadata": {},
   "source": [
    "**Conclusion:**\n",
    "    \n",
    "- Data is loaded and has no anomalies;\n",
    "- There are duplicates but we do not delete them;\n",
    "- The quality of the regression does not change when multiplying a matrix by an invertible matrix."
   ]
  },
  {
   "cell_type": "markdown",
   "metadata": {},
   "source": [
    "## Умножение матриц"
   ]
  },
  {
   "cell_type": "markdown",
   "metadata": {},
   "source": [
    "Designations:\n",
    "\n",
    "- $X$ — feature matrix (zero column consists of ones)\n",
    "\n",
    "- $y$ — target feature vector\n",
    "\n",
    "- $P$ — the matrix by which features are multiplied\n",
    "\n",
    "- $w$ — vector of linear regression weights (zero element equals shift)"
   ]
  },
  {
   "cell_type": "markdown",
   "metadata": {},
   "source": [
    "Predictions:\n",
    "\n",
    "$$\n",
    "a = Xw\n",
    "$$\n",
    "\n",
    "Target function:\n",
    "\n",
    "$$\n",
    "w = \\arg\\min_w MSE(Xw, y)\n",
    "$$\n",
    "\n",
    "Learning formula:\n",
    "\n",
    "$$\n",
    "w = (X^T X)^{-1} X^T y\n",
    "$$"
   ]
  },
  {
   "cell_type": "markdown",
   "metadata": {},
   "source": [
    "**Answer:** The quality of the linear regression will not change\n",
    "\n",
    "**Rationale:**\n",
    "\n",
    "Let's imagine a new feature matrix as the result of multiplying the original feature matrix by some reversible matrix:\n",
    "\n",
    "$$\n",
    "D=XA\n",
    "$$\n",
    "\n",
    "the learning formula becomes: $w_1 = (D^T D)^{-1} D^T y$\n",
    "\n",
    "Substituting the values of $D$ into it, we get: $w_1 = ((XA)^T XA)^{-1} (XA)^T y$\n",
    "\n",
    "\n",
    "Then our formula for calculating the weight vector can be rewritten:\n",
    "$$\n",
    "w_1 = ((XA)^T XA)^{-1} (XA)^T y\n",
    "$$\n",
    "$$\n",
    "w_1 = (A^T (X^T X) A)^{-1} (XA)^T y\n",
    "$$\n",
    "$$\n",
    "w_1 = (A^T (X^T X) A)^{-1} A^T X^T y\n",
    "$$\n",
    "$$\n",
    "w_1 = A^{-1} (X^T X)^{-1} (A^T)^{-1} A^T X^T y\n",
    "$$\n",
    "$$\n",
    "w_1 = A^{-1} (X^T X)^{-1} E X^T y\n",
    "$$\n",
    "$$\n",
    "w_1 = A^{-1}w\n",
    "$$\n",
    "\n",
    "for the prediction formula: $a_1 = Dw_1$, substituting the resulting values $D = XA$ and $w_1 = A^{-1}w$:\n",
    "$$a_1 = XAA^{-1}w $$\n",
    "$$a_1 = Xw$$\n",
    "\n",
    "predictions won't change"
   ]
  },
  {
   "cell_type": "markdown",
   "metadata": {},
   "source": [
    "## Conversion algorithm"
   ]
  },
  {
   "cell_type": "markdown",
   "metadata": {},
   "source": [
    "**Algorithm**\n",
    "\n",
    "- Compilation of matrix $D$;\n",
    "- Checking the matrix for reversibility. Calculation of the determinant of the matrix $D$;\n",
    "- Multiplication by a random invertible matrix A;\n",
    "- Addition to the matrix 499;\n",
    "- Multiplication by 25;\n",
    "- Addition 10;\n",
    "- learning linear regression on the original and encrypted data;\n",
    "- comparison of the resulting metrics R2."
   ]
  },
  {
   "cell_type": "markdown",
   "metadata": {},
   "source": [
    "**Rationale**\n",
    "\n",
    "The matrix $D$ must have the required dimension $(NxN)$, where N is the number of features for regression.\n",
    "Thus the matrix $D$ will have the same dimension as the matrix $X$. The inverse matrix $D$ exists only for square matrices whose determinant is not equal to zero."
   ]
  },
  {
   "cell_type": "markdown",
   "metadata": {},
   "source": [
    "## Algorithm verification"
   ]
  },
  {
   "cell_type": "code",
   "execution_count": 9,
   "metadata": {},
   "outputs": [],
   "source": [
    "# feature matrix transformations\n",
    "def get_cipher_matrix(features):\n",
    "    n = features.shape[1]\n",
    "    alter_matrix = np.random.randint(1, 55, (n,n))\n",
    "    det = np.linalg.det(alter_matrix)\n",
    "    while det == 0:\n",
    "        alter_matrix = np.random.randint(1, 10, (n,n))\n",
    "        det = np.linalg.det(alter_matrix)\n",
    "    crypted_features = features @ alter_matrix\n",
    "    return crypted_features, alter_matrix"
   ]
  },
  {
   "cell_type": "code",
   "execution_count": 10,
   "metadata": {},
   "outputs": [],
   "source": [
    "crypted_features,alter_matrix = get_cipher_matrix(X)"
   ]
  },
  {
   "cell_type": "code",
   "execution_count": 11,
   "metadata": {},
   "outputs": [],
   "source": [
    "# to decode the data, it is necessary to multiply\n",
    "# the encoded \"crypted_features\" matrix by the inverse matrix with which we encoded the original \"alter_matrix\"\n",
    "X_2 = crypted_features @ np.linalg.inv(alter_matrix)"
   ]
  },
  {
   "cell_type": "code",
   "execution_count": 12,
   "metadata": {},
   "outputs": [
    {
     "data": {
      "text/html": [
       "<div>\n",
       "<style scoped>\n",
       "    .dataframe tbody tr th:only-of-type {\n",
       "        vertical-align: middle;\n",
       "    }\n",
       "\n",
       "    .dataframe tbody tr th {\n",
       "        vertical-align: top;\n",
       "    }\n",
       "\n",
       "    .dataframe thead th {\n",
       "        text-align: right;\n",
       "    }\n",
       "</style>\n",
       "<table border=\"1\" class=\"dataframe\">\n",
       "  <thead>\n",
       "    <tr style=\"text-align: right;\">\n",
       "      <th></th>\n",
       "      <th>0</th>\n",
       "      <th>1</th>\n",
       "      <th>2</th>\n",
       "      <th>3</th>\n",
       "    </tr>\n",
       "  </thead>\n",
       "  <tbody>\n",
       "    <tr>\n",
       "      <th>0</th>\n",
       "      <td>1.000000e+00</td>\n",
       "      <td>41.0</td>\n",
       "      <td>49600.0</td>\n",
       "      <td>1.000000e+00</td>\n",
       "    </tr>\n",
       "    <tr>\n",
       "      <th>1</th>\n",
       "      <td>-2.088241e-10</td>\n",
       "      <td>46.0</td>\n",
       "      <td>38000.0</td>\n",
       "      <td>1.000000e+00</td>\n",
       "    </tr>\n",
       "    <tr>\n",
       "      <th>2</th>\n",
       "      <td>4.193090e-12</td>\n",
       "      <td>29.0</td>\n",
       "      <td>21000.0</td>\n",
       "      <td>-1.862484e-10</td>\n",
       "    </tr>\n",
       "    <tr>\n",
       "      <th>3</th>\n",
       "      <td>-1.756648e-10</td>\n",
       "      <td>21.0</td>\n",
       "      <td>41700.0</td>\n",
       "      <td>2.000000e+00</td>\n",
       "    </tr>\n",
       "    <tr>\n",
       "      <th>4</th>\n",
       "      <td>1.000000e+00</td>\n",
       "      <td>28.0</td>\n",
       "      <td>26100.0</td>\n",
       "      <td>-9.507861e-11</td>\n",
       "    </tr>\n",
       "    <tr>\n",
       "      <th>...</th>\n",
       "      <td>...</td>\n",
       "      <td>...</td>\n",
       "      <td>...</td>\n",
       "      <td>...</td>\n",
       "    </tr>\n",
       "    <tr>\n",
       "      <th>4995</th>\n",
       "      <td>1.036735e-10</td>\n",
       "      <td>28.0</td>\n",
       "      <td>35700.0</td>\n",
       "      <td>2.000000e+00</td>\n",
       "    </tr>\n",
       "    <tr>\n",
       "      <th>4996</th>\n",
       "      <td>-9.874324e-11</td>\n",
       "      <td>34.0</td>\n",
       "      <td>52400.0</td>\n",
       "      <td>1.000000e+00</td>\n",
       "    </tr>\n",
       "    <tr>\n",
       "      <th>4997</th>\n",
       "      <td>-3.357492e-11</td>\n",
       "      <td>20.0</td>\n",
       "      <td>33900.0</td>\n",
       "      <td>2.000000e+00</td>\n",
       "    </tr>\n",
       "    <tr>\n",
       "      <th>4998</th>\n",
       "      <td>1.000000e+00</td>\n",
       "      <td>22.0</td>\n",
       "      <td>32700.0</td>\n",
       "      <td>3.000000e+00</td>\n",
       "    </tr>\n",
       "    <tr>\n",
       "      <th>4999</th>\n",
       "      <td>1.000000e+00</td>\n",
       "      <td>28.0</td>\n",
       "      <td>40600.0</td>\n",
       "      <td>1.000000e+00</td>\n",
       "    </tr>\n",
       "  </tbody>\n",
       "</table>\n",
       "<p>5000 rows × 4 columns</p>\n",
       "</div>"
      ],
      "text/plain": [
       "                 0     1        2             3\n",
       "0     1.000000e+00  41.0  49600.0  1.000000e+00\n",
       "1    -2.088241e-10  46.0  38000.0  1.000000e+00\n",
       "2     4.193090e-12  29.0  21000.0 -1.862484e-10\n",
       "3    -1.756648e-10  21.0  41700.0  2.000000e+00\n",
       "4     1.000000e+00  28.0  26100.0 -9.507861e-11\n",
       "...            ...   ...      ...           ...\n",
       "4995  1.036735e-10  28.0  35700.0  2.000000e+00\n",
       "4996 -9.874324e-11  34.0  52400.0  1.000000e+00\n",
       "4997 -3.357492e-11  20.0  33900.0  2.000000e+00\n",
       "4998  1.000000e+00  22.0  32700.0  3.000000e+00\n",
       "4999  1.000000e+00  28.0  40600.0  1.000000e+00\n",
       "\n",
       "[5000 rows x 4 columns]"
      ]
     },
     "execution_count": 12,
     "metadata": {},
     "output_type": "execute_result"
    }
   ],
   "source": [
    "X_2"
   ]
  },
  {
   "cell_type": "code",
   "execution_count": 13,
   "metadata": {},
   "outputs": [
    {
     "name": "stdout",
     "output_type": "stream",
     "text": [
      "0.42494550286615207\n"
     ]
    }
   ],
   "source": [
    "# encryption algorithm\n",
    "X_1 = (((crypted_features) + 499) * 25) + 10\n",
    "# checking r2 after applying the encryption algorithm\n",
    "print(get_predict_r2(X_1,y))"
   ]
  },
  {
   "cell_type": "code",
   "execution_count": 14,
   "metadata": {},
   "outputs": [
    {
     "data": {
      "text/plain": [
       "0.4249455028666801"
      ]
     },
     "execution_count": 14,
     "metadata": {},
     "output_type": "execute_result"
    }
   ],
   "source": [
    "# check r2 WITHOUT algorithm\n",
    "get_predict_r2(X,y)"
   ]
  },
  {
   "cell_type": "markdown",
   "metadata": {},
   "source": [
    "## Conclusion"
   ]
  },
  {
   "cell_type": "markdown",
   "metadata": {},
   "source": [
    "- Downloaded and studied data;\n",
    "- The quality of linear regression has not changed from using the original matrix multiplied by the reversible one;\n",
    "- Created a data conversion algorithm;\n",
    "- Investigated the data transformation algorithm and tested the R2 metric for data without transformation and with it;\n",
    "\n",
    "Based on the results of using matrix operations it can be seen that the data can be encrypted from recognition having the correct matrix."
   ]
  }
 ],
 "metadata": {
  "ExecuteTimeLog": [
   {
    "duration": 434,
    "start_time": "2022-09-03T11:27:52.776Z"
   },
   {
    "duration": 65,
    "start_time": "2022-09-03T11:28:45.378Z"
   },
   {
    "duration": 3,
    "start_time": "2022-09-03T11:28:47.442Z"
   },
   {
    "duration": 93,
    "start_time": "2022-09-03T11:28:47.802Z"
   },
   {
    "duration": 20,
    "start_time": "2022-09-03T11:28:48.868Z"
   },
   {
    "duration": 10,
    "start_time": "2022-09-03T11:29:43.320Z"
   },
   {
    "duration": 15,
    "start_time": "2022-09-03T11:29:46.671Z"
   },
   {
    "duration": 9,
    "start_time": "2022-09-03T11:30:20.477Z"
   },
   {
    "duration": 9,
    "start_time": "2022-09-03T11:30:29.058Z"
   },
   {
    "duration": 22,
    "start_time": "2022-09-03T11:30:49.780Z"
   },
   {
    "duration": 11,
    "start_time": "2022-09-03T11:31:53.252Z"
   },
   {
    "duration": 16486,
    "start_time": "2022-09-03T11:32:19.146Z"
   },
   {
    "duration": 1637,
    "start_time": "2022-09-03T11:32:39.286Z"
   },
   {
    "duration": 5,
    "start_time": "2022-09-03T11:33:15.542Z"
   },
   {
    "duration": 4,
    "start_time": "2022-09-03T11:33:26.576Z"
   },
   {
    "duration": 7832,
    "start_time": "2022-09-03T11:33:55.437Z"
   },
   {
    "duration": 14,
    "start_time": "2022-09-03T12:06:57.353Z"
   },
   {
    "duration": 137,
    "start_time": "2022-09-03T12:12:40.650Z"
   },
   {
    "duration": 2,
    "start_time": "2022-09-03T12:13:07.730Z"
   },
   {
    "duration": 4,
    "start_time": "2022-09-03T12:13:12.164Z"
   },
   {
    "duration": 6,
    "start_time": "2022-09-03T12:13:24.347Z"
   },
   {
    "duration": 14,
    "start_time": "2022-09-03T12:17:00.237Z"
   },
   {
    "duration": 8,
    "start_time": "2022-09-03T12:17:08.096Z"
   },
   {
    "duration": 5,
    "start_time": "2022-09-03T12:18:15.648Z"
   },
   {
    "duration": 3,
    "start_time": "2022-09-03T12:19:55.697Z"
   },
   {
    "duration": 9,
    "start_time": "2022-09-03T12:21:24.830Z"
   },
   {
    "duration": 3,
    "start_time": "2022-09-03T12:21:25.687Z"
   },
   {
    "duration": 20,
    "start_time": "2022-09-03T12:21:37.036Z"
   },
   {
    "duration": 297,
    "start_time": "2022-09-03T12:21:55.874Z"
   },
   {
    "duration": 33,
    "start_time": "2022-09-03T12:21:59.823Z"
   },
   {
    "duration": 155,
    "start_time": "2022-09-03T12:22:36.038Z"
   },
   {
    "duration": 5,
    "start_time": "2022-09-03T12:36:16.228Z"
   },
   {
    "duration": 5,
    "start_time": "2022-09-03T12:36:23.370Z"
   },
   {
    "duration": 3,
    "start_time": "2022-09-03T12:36:24.374Z"
   },
   {
    "duration": 20,
    "start_time": "2022-09-03T12:37:46.238Z"
   },
   {
    "duration": 152,
    "start_time": "2022-09-03T12:40:38.382Z"
   },
   {
    "duration": 123,
    "start_time": "2022-09-03T12:41:00.893Z"
   },
   {
    "duration": 91,
    "start_time": "2022-09-03T12:41:28.157Z"
   },
   {
    "duration": 25,
    "start_time": "2022-09-03T12:41:48.136Z"
   },
   {
    "duration": 17771,
    "start_time": "2022-09-03T12:42:04.382Z"
   },
   {
    "duration": 11,
    "start_time": "2022-09-03T12:46:38.964Z"
   },
   {
    "duration": 107,
    "start_time": "2022-09-03T12:46:42.577Z"
   },
   {
    "duration": 16,
    "start_time": "2022-09-03T12:46:49.304Z"
   },
   {
    "duration": 14,
    "start_time": "2022-09-03T12:47:05.505Z"
   },
   {
    "duration": 6,
    "start_time": "2022-09-03T12:47:08.943Z"
   },
   {
    "duration": 13,
    "start_time": "2022-09-03T12:47:20.216Z"
   },
   {
    "duration": 123,
    "start_time": "2022-09-03T12:47:32.618Z"
   },
   {
    "duration": 6,
    "start_time": "2022-09-03T12:48:35.810Z"
   },
   {
    "duration": 7,
    "start_time": "2022-09-03T12:49:19.410Z"
   },
   {
    "duration": 20,
    "start_time": "2022-09-03T12:49:39.181Z"
   },
   {
    "duration": 5,
    "start_time": "2022-09-03T12:49:54.956Z"
   },
   {
    "duration": 16,
    "start_time": "2022-09-03T12:50:35.917Z"
   },
   {
    "duration": 12,
    "start_time": "2022-09-03T12:50:42.324Z"
   },
   {
    "duration": 5,
    "start_time": "2022-09-03T13:40:46.866Z"
   },
   {
    "duration": 12,
    "start_time": "2022-09-03T13:41:01.321Z"
   },
   {
    "duration": 14,
    "start_time": "2022-09-03T13:41:26.879Z"
   },
   {
    "duration": 5,
    "start_time": "2022-09-03T13:41:47.983Z"
   },
   {
    "duration": 12,
    "start_time": "2022-09-03T13:41:57.797Z"
   },
   {
    "duration": 4,
    "start_time": "2022-09-03T13:41:59.218Z"
   },
   {
    "duration": 11,
    "start_time": "2022-09-03T13:42:00.964Z"
   },
   {
    "duration": 12,
    "start_time": "2022-09-03T13:43:38.994Z"
   },
   {
    "duration": 15,
    "start_time": "2022-09-03T13:43:41.904Z"
   },
   {
    "duration": 13,
    "start_time": "2022-09-03T13:43:42.319Z"
   },
   {
    "duration": 80,
    "start_time": "2022-09-03T13:45:05.720Z"
   },
   {
    "duration": 2985,
    "start_time": "2022-09-03T13:45:29.333Z"
   },
   {
    "duration": 2014,
    "start_time": "2022-09-03T13:45:32.321Z"
   },
   {
    "duration": 31,
    "start_time": "2022-09-03T13:45:34.337Z"
   },
   {
    "duration": 11,
    "start_time": "2022-09-03T13:45:34.370Z"
   },
   {
    "duration": 4,
    "start_time": "2022-09-03T13:45:34.383Z"
   },
   {
    "duration": 7414,
    "start_time": "2022-09-03T13:45:34.388Z"
   },
   {
    "duration": 17,
    "start_time": "2022-09-03T13:45:41.805Z"
   },
   {
    "duration": 14,
    "start_time": "2022-09-03T13:45:41.824Z"
   },
   {
    "duration": 54,
    "start_time": "2022-09-03T13:45:41.839Z"
   },
   {
    "duration": 16,
    "start_time": "2022-09-03T13:45:41.895Z"
   },
   {
    "duration": 190,
    "start_time": "2022-09-03T13:45:41.915Z"
   },
   {
    "duration": 117,
    "start_time": "2022-09-03T13:45:42.193Z"
   },
   {
    "duration": 11,
    "start_time": "2022-09-03T13:45:42.311Z"
   },
   {
    "duration": 176,
    "start_time": "2022-09-03T13:47:04.857Z"
   },
   {
    "duration": 4,
    "start_time": "2022-09-03T13:47:51.649Z"
   },
   {
    "duration": 12,
    "start_time": "2022-09-03T13:47:58.190Z"
   },
   {
    "duration": 3,
    "start_time": "2022-09-03T13:48:17.503Z"
   },
   {
    "duration": 5,
    "start_time": "2022-09-03T13:48:27.819Z"
   },
   {
    "duration": 14,
    "start_time": "2022-09-03T13:49:33.526Z"
   },
   {
    "duration": 28,
    "start_time": "2022-09-03T13:49:35.983Z"
   },
   {
    "duration": 12,
    "start_time": "2022-09-03T13:49:45.203Z"
   },
   {
    "duration": 38,
    "start_time": "2022-09-03T13:49:46.356Z"
   },
   {
    "duration": 11,
    "start_time": "2022-09-03T13:49:48.424Z"
   },
   {
    "duration": 12,
    "start_time": "2022-09-03T13:49:49.619Z"
   },
   {
    "duration": 13448,
    "start_time": "2022-09-03T14:09:49.853Z"
   },
   {
    "duration": 2291,
    "start_time": "2022-09-03T14:10:03.303Z"
   },
   {
    "duration": 79,
    "start_time": "2022-09-03T14:10:05.596Z"
   },
   {
    "duration": 11,
    "start_time": "2022-09-03T14:10:05.676Z"
   },
   {
    "duration": 8,
    "start_time": "2022-09-03T14:10:05.689Z"
   },
   {
    "duration": 6788,
    "start_time": "2022-09-03T14:10:05.698Z"
   },
   {
    "duration": 12,
    "start_time": "2022-09-03T14:10:12.488Z"
   },
   {
    "duration": 23,
    "start_time": "2022-09-03T14:10:12.502Z"
   },
   {
    "duration": 5,
    "start_time": "2022-09-03T14:10:12.527Z"
   },
   {
    "duration": 11,
    "start_time": "2022-09-03T14:10:12.534Z"
   },
   {
    "duration": 103,
    "start_time": "2022-09-03T14:10:12.699Z"
   },
   {
    "duration": 112,
    "start_time": "2022-09-03T14:10:12.804Z"
   },
   {
    "duration": 7,
    "start_time": "2022-09-03T14:10:12.918Z"
   },
   {
    "duration": 18,
    "start_time": "2022-09-03T14:10:12.927Z"
   },
   {
    "duration": 53,
    "start_time": "2022-09-03T14:10:12.947Z"
   },
   {
    "duration": 4,
    "start_time": "2022-09-03T14:49:48.322Z"
   },
   {
    "duration": 3,
    "start_time": "2022-09-03T14:49:53.481Z"
   },
   {
    "duration": 3,
    "start_time": "2022-09-03T14:49:58.121Z"
   },
   {
    "duration": 4,
    "start_time": "2022-09-03T14:49:59.134Z"
   },
   {
    "duration": 4,
    "start_time": "2022-09-03T14:50:04.125Z"
   },
   {
    "duration": 4,
    "start_time": "2022-09-03T14:50:07.321Z"
   },
   {
    "duration": 47,
    "start_time": "2022-09-04T10:08:05.797Z"
   },
   {
    "duration": 44,
    "start_time": "2022-09-04T10:29:02.664Z"
   },
   {
    "duration": 470,
    "start_time": "2022-09-04T10:29:11.129Z"
   },
   {
    "duration": 10,
    "start_time": "2022-09-04T10:29:16.128Z"
   },
   {
    "duration": 10,
    "start_time": "2022-09-04T10:29:35.038Z"
   },
   {
    "duration": 816,
    "start_time": "2022-09-04T10:29:50.471Z"
   },
   {
    "duration": 41,
    "start_time": "2022-09-04T10:30:04.174Z"
   },
   {
    "duration": 4,
    "start_time": "2022-09-04T10:30:12.942Z"
   },
   {
    "duration": 1108,
    "start_time": "2022-09-04T10:30:12.950Z"
   },
   {
    "duration": 85,
    "start_time": "2022-09-04T10:30:14.061Z"
   },
   {
    "duration": 15,
    "start_time": "2022-09-04T10:30:14.147Z"
   },
   {
    "duration": 22,
    "start_time": "2022-09-04T10:30:14.164Z"
   },
   {
    "duration": 9,
    "start_time": "2022-09-04T10:30:14.188Z"
   },
   {
    "duration": 24,
    "start_time": "2022-09-04T10:30:14.199Z"
   },
   {
    "duration": 6,
    "start_time": "2022-09-04T10:30:14.225Z"
   },
   {
    "duration": 6,
    "start_time": "2022-09-04T10:30:14.232Z"
   },
   {
    "duration": 38,
    "start_time": "2022-09-04T10:30:14.239Z"
   },
   {
    "duration": 202,
    "start_time": "2022-09-04T10:30:14.281Z"
   },
   {
    "duration": 3,
    "start_time": "2022-09-04T10:30:14.485Z"
   },
   {
    "duration": 176,
    "start_time": "2022-09-04T10:30:14.489Z"
   },
   {
    "duration": 35,
    "start_time": "2022-09-04T10:30:14.667Z"
   },
   {
    "duration": 153,
    "start_time": "2022-09-04T10:30:14.705Z"
   },
   {
    "duration": 17,
    "start_time": "2022-09-04T10:30:29.980Z"
   },
   {
    "duration": 16,
    "start_time": "2022-09-04T10:31:54.074Z"
   },
   {
    "duration": 119,
    "start_time": "2022-09-04T11:25:59.897Z"
   },
   {
    "duration": 11,
    "start_time": "2022-09-04T11:26:27.343Z"
   },
   {
    "duration": 4,
    "start_time": "2022-09-04T11:27:34.081Z"
   },
   {
    "duration": 4,
    "start_time": "2022-09-04T11:27:42.651Z"
   },
   {
    "duration": 4,
    "start_time": "2022-09-04T11:27:49.149Z"
   },
   {
    "duration": 4,
    "start_time": "2022-09-04T11:27:49.976Z"
   },
   {
    "duration": 4,
    "start_time": "2022-09-04T11:27:50.635Z"
   },
   {
    "duration": 4,
    "start_time": "2022-09-04T11:27:52.751Z"
   },
   {
    "duration": 4,
    "start_time": "2022-09-04T11:27:53.354Z"
   },
   {
    "duration": 4,
    "start_time": "2022-09-04T11:27:53.946Z"
   },
   {
    "duration": 4,
    "start_time": "2022-09-04T11:27:55.451Z"
   },
   {
    "duration": 5,
    "start_time": "2022-09-04T11:27:56.169Z"
   },
   {
    "duration": 4,
    "start_time": "2022-09-04T11:27:57.371Z"
   },
   {
    "duration": 4,
    "start_time": "2022-09-04T11:28:00.043Z"
   },
   {
    "duration": 3,
    "start_time": "2022-09-04T11:28:00.564Z"
   },
   {
    "duration": 4,
    "start_time": "2022-09-04T11:28:01.871Z"
   },
   {
    "duration": 5,
    "start_time": "2022-09-04T11:28:03.143Z"
   },
   {
    "duration": 10,
    "start_time": "2022-09-04T11:29:32.704Z"
   },
   {
    "duration": 4,
    "start_time": "2022-09-04T11:29:59.147Z"
   },
   {
    "duration": 6,
    "start_time": "2022-09-04T11:30:00.642Z"
   },
   {
    "duration": 5,
    "start_time": "2022-09-04T11:30:01.165Z"
   },
   {
    "duration": 5,
    "start_time": "2022-09-04T11:30:03.061Z"
   },
   {
    "duration": 6,
    "start_time": "2022-09-04T11:30:03.681Z"
   },
   {
    "duration": 4,
    "start_time": "2022-09-04T11:30:04.254Z"
   },
   {
    "duration": 5,
    "start_time": "2022-09-04T11:30:04.747Z"
   },
   {
    "duration": 6,
    "start_time": "2022-09-04T11:30:05.303Z"
   },
   {
    "duration": 4,
    "start_time": "2022-09-04T11:30:05.851Z"
   },
   {
    "duration": 7,
    "start_time": "2022-09-04T11:30:06.447Z"
   },
   {
    "duration": 6,
    "start_time": "2022-09-04T11:30:10.311Z"
   },
   {
    "duration": 5,
    "start_time": "2022-09-04T11:30:20.649Z"
   },
   {
    "duration": 5,
    "start_time": "2022-09-04T11:30:22.080Z"
   },
   {
    "duration": 6,
    "start_time": "2022-09-04T11:30:23.458Z"
   },
   {
    "duration": 4,
    "start_time": "2022-09-04T11:31:07.548Z"
   },
   {
    "duration": 5,
    "start_time": "2022-09-04T11:31:32.959Z"
   },
   {
    "duration": 5,
    "start_time": "2022-09-04T11:31:37.310Z"
   },
   {
    "duration": 5,
    "start_time": "2022-09-04T11:31:38.439Z"
   },
   {
    "duration": 6,
    "start_time": "2022-09-04T11:31:39.052Z"
   },
   {
    "duration": 5,
    "start_time": "2022-09-04T11:31:39.555Z"
   },
   {
    "duration": 5,
    "start_time": "2022-09-04T11:31:40.367Z"
   },
   {
    "duration": 5,
    "start_time": "2022-09-04T11:33:01.742Z"
   },
   {
    "duration": 5,
    "start_time": "2022-09-04T11:33:44.052Z"
   },
   {
    "duration": 12,
    "start_time": "2022-09-04T11:35:21.911Z"
   },
   {
    "duration": 53,
    "start_time": "2022-09-04T11:35:35.173Z"
   },
   {
    "duration": 14,
    "start_time": "2022-09-04T11:35:40.281Z"
   },
   {
    "duration": 12,
    "start_time": "2022-09-04T11:35:54.378Z"
   },
   {
    "duration": 4,
    "start_time": "2022-09-04T11:36:06.755Z"
   },
   {
    "duration": 17,
    "start_time": "2022-09-04T11:36:07.360Z"
   },
   {
    "duration": 20,
    "start_time": "2022-09-04T11:36:11.146Z"
   },
   {
    "duration": 20,
    "start_time": "2022-09-04T11:36:25.782Z"
   },
   {
    "duration": 16,
    "start_time": "2022-09-04T11:36:49.641Z"
   },
   {
    "duration": 14,
    "start_time": "2022-09-04T11:37:13.033Z"
   },
   {
    "duration": 25,
    "start_time": "2022-09-04T11:37:19.881Z"
   },
   {
    "duration": 20,
    "start_time": "2022-09-04T11:37:26.643Z"
   },
   {
    "duration": 21,
    "start_time": "2022-09-04T11:37:31.838Z"
   },
   {
    "duration": 3,
    "start_time": "2022-09-04T11:37:47.938Z"
   },
   {
    "duration": 1066,
    "start_time": "2022-09-04T11:37:47.943Z"
   },
   {
    "duration": 29,
    "start_time": "2022-09-04T11:37:49.011Z"
   },
   {
    "duration": 11,
    "start_time": "2022-09-04T11:37:49.042Z"
   },
   {
    "duration": 9,
    "start_time": "2022-09-04T11:37:49.054Z"
   },
   {
    "duration": 6,
    "start_time": "2022-09-04T11:37:49.064Z"
   },
   {
    "duration": 19,
    "start_time": "2022-09-04T11:37:49.072Z"
   },
   {
    "duration": 4,
    "start_time": "2022-09-04T11:37:49.093Z"
   },
   {
    "duration": 4,
    "start_time": "2022-09-04T11:37:49.099Z"
   },
   {
    "duration": 151,
    "start_time": "2022-09-04T11:37:49.106Z"
   },
   {
    "duration": 12,
    "start_time": "2022-09-04T11:37:49.259Z"
   },
   {
    "duration": 92,
    "start_time": "2022-09-04T11:37:49.272Z"
   },
   {
    "duration": 101,
    "start_time": "2022-09-04T11:37:49.366Z"
   },
   {
    "duration": 10,
    "start_time": "2022-09-04T11:37:49.469Z"
   },
   {
    "duration": 181,
    "start_time": "2022-09-04T11:37:49.482Z"
   },
   {
    "duration": 4,
    "start_time": "2022-09-04T11:41:09.483Z"
   },
   {
    "duration": 11,
    "start_time": "2022-09-04T11:41:11.212Z"
   },
   {
    "duration": 15,
    "start_time": "2022-09-04T11:41:13.392Z"
   },
   {
    "duration": 13,
    "start_time": "2022-09-04T11:41:14.989Z"
   },
   {
    "duration": 4,
    "start_time": "2022-09-04T11:41:30.141Z"
   },
   {
    "duration": 15,
    "start_time": "2022-09-04T11:41:31.161Z"
   },
   {
    "duration": 12,
    "start_time": "2022-09-04T11:41:32.086Z"
   },
   {
    "duration": 10,
    "start_time": "2022-09-04T11:41:33.443Z"
   },
   {
    "duration": 4,
    "start_time": "2022-09-04T11:41:49.110Z"
   },
   {
    "duration": 11,
    "start_time": "2022-09-04T11:41:53.098Z"
   },
   {
    "duration": 10,
    "start_time": "2022-09-04T11:41:55.146Z"
   },
   {
    "duration": 10,
    "start_time": "2022-09-04T11:41:56.517Z"
   },
   {
    "duration": 4,
    "start_time": "2022-09-04T11:42:03.655Z"
   },
   {
    "duration": 7048,
    "start_time": "2022-09-04T11:42:04.383Z"
   },
   {
    "duration": 5,
    "start_time": "2022-09-04T11:42:19.743Z"
   },
   {
    "duration": 13,
    "start_time": "2022-09-04T11:42:20.700Z"
   },
   {
    "duration": 21,
    "start_time": "2022-09-04T11:42:22.604Z"
   },
   {
    "duration": 12,
    "start_time": "2022-09-04T11:42:23.473Z"
   },
   {
    "duration": 145,
    "start_time": "2022-09-04T11:44:47.250Z"
   },
   {
    "duration": 54,
    "start_time": "2022-09-04T11:45:14.048Z"
   },
   {
    "duration": 4,
    "start_time": "2022-09-04T12:01:41.380Z"
   },
   {
    "duration": 4,
    "start_time": "2022-09-04T12:02:10.046Z"
   },
   {
    "duration": 91,
    "start_time": "2022-09-04T12:02:31.206Z"
   },
   {
    "duration": 241,
    "start_time": "2022-09-04T12:02:32.958Z"
   },
   {
    "duration": 91,
    "start_time": "2022-09-04T12:02:34.665Z"
   },
   {
    "duration": 4,
    "start_time": "2022-09-04T12:03:21.894Z"
   },
   {
    "duration": 1130,
    "start_time": "2022-09-04T12:03:21.900Z"
   },
   {
    "duration": 0,
    "start_time": "2022-09-04T12:03:23.032Z"
   },
   {
    "duration": 0,
    "start_time": "2022-09-04T12:03:23.033Z"
   },
   {
    "duration": 0,
    "start_time": "2022-09-04T12:03:23.035Z"
   },
   {
    "duration": 0,
    "start_time": "2022-09-04T12:03:23.037Z"
   },
   {
    "duration": 0,
    "start_time": "2022-09-04T12:03:23.039Z"
   },
   {
    "duration": 0,
    "start_time": "2022-09-04T12:03:23.040Z"
   },
   {
    "duration": 0,
    "start_time": "2022-09-04T12:03:23.062Z"
   },
   {
    "duration": 0,
    "start_time": "2022-09-04T12:03:23.063Z"
   },
   {
    "duration": 0,
    "start_time": "2022-09-04T12:03:23.068Z"
   },
   {
    "duration": 0,
    "start_time": "2022-09-04T12:03:23.069Z"
   },
   {
    "duration": 0,
    "start_time": "2022-09-04T12:03:23.070Z"
   },
   {
    "duration": 0,
    "start_time": "2022-09-04T12:03:23.070Z"
   },
   {
    "duration": 13992,
    "start_time": "2022-09-04T13:04:28.377Z"
   },
   {
    "duration": 2014,
    "start_time": "2022-09-04T13:04:42.371Z"
   },
   {
    "duration": 96,
    "start_time": "2022-09-04T13:04:44.386Z"
   },
   {
    "duration": 12,
    "start_time": "2022-09-04T13:04:44.484Z"
   },
   {
    "duration": 5,
    "start_time": "2022-09-04T13:04:44.497Z"
   },
   {
    "duration": 7087,
    "start_time": "2022-09-04T13:04:44.504Z"
   },
   {
    "duration": 13,
    "start_time": "2022-09-04T13:04:51.592Z"
   },
   {
    "duration": 9,
    "start_time": "2022-09-04T13:04:51.607Z"
   },
   {
    "duration": 7,
    "start_time": "2022-09-04T13:04:51.618Z"
   },
   {
    "duration": 85,
    "start_time": "2022-09-04T13:04:51.627Z"
   },
   {
    "duration": 100,
    "start_time": "2022-09-04T13:04:51.714Z"
   },
   {
    "duration": 94,
    "start_time": "2022-09-04T13:04:51.816Z"
   },
   {
    "duration": 101,
    "start_time": "2022-09-04T13:04:51.913Z"
   },
   {
    "duration": 188,
    "start_time": "2022-09-04T13:04:52.019Z"
   },
   {
    "duration": 6,
    "start_time": "2022-09-04T14:10:47.051Z"
   },
   {
    "duration": 5,
    "start_time": "2022-09-04T14:27:04.385Z"
   },
   {
    "duration": 4,
    "start_time": "2022-09-04T14:27:12.898Z"
   },
   {
    "duration": 6,
    "start_time": "2022-09-04T14:31:51.783Z"
   },
   {
    "duration": 4,
    "start_time": "2022-09-04T16:26:39.937Z"
   },
   {
    "duration": 42,
    "start_time": "2022-09-04T17:47:31.208Z"
   },
   {
    "duration": 11768,
    "start_time": "2022-09-04T17:47:42.251Z"
   },
   {
    "duration": 985,
    "start_time": "2022-09-04T17:47:54.021Z"
   },
   {
    "duration": 96,
    "start_time": "2022-09-04T17:47:55.007Z"
   },
   {
    "duration": 9,
    "start_time": "2022-09-04T17:47:55.105Z"
   },
   {
    "duration": 2,
    "start_time": "2022-09-04T17:47:55.117Z"
   },
   {
    "duration": 12,
    "start_time": "2022-09-04T17:47:55.120Z"
   },
   {
    "duration": 20,
    "start_time": "2022-09-04T17:47:55.133Z"
   },
   {
    "duration": 5,
    "start_time": "2022-09-04T17:47:55.154Z"
   },
   {
    "duration": 5,
    "start_time": "2022-09-04T17:47:55.160Z"
   },
   {
    "duration": 88,
    "start_time": "2022-09-04T17:47:55.166Z"
   },
   {
    "duration": 104,
    "start_time": "2022-09-04T17:47:55.257Z"
   },
   {
    "duration": 96,
    "start_time": "2022-09-04T17:47:55.363Z"
   },
   {
    "duration": 103,
    "start_time": "2022-09-04T17:47:55.461Z"
   },
   {
    "duration": 89,
    "start_time": "2022-09-04T17:47:55.567Z"
   },
   {
    "duration": 10,
    "start_time": "2022-09-04T17:47:55.658Z"
   },
   {
    "duration": 93,
    "start_time": "2022-09-04T17:47:55.669Z"
   },
   {
    "duration": 3,
    "start_time": "2022-09-04T17:48:04.559Z"
   },
   {
    "duration": 986,
    "start_time": "2022-09-04T17:48:04.608Z"
   },
   {
    "duration": 29,
    "start_time": "2022-09-04T17:48:05.596Z"
   },
   {
    "duration": 11,
    "start_time": "2022-09-04T17:48:05.627Z"
   },
   {
    "duration": 7,
    "start_time": "2022-09-04T17:48:05.640Z"
   },
   {
    "duration": 9,
    "start_time": "2022-09-04T17:48:05.648Z"
   },
   {
    "duration": 28,
    "start_time": "2022-09-04T17:48:05.658Z"
   },
   {
    "duration": 14,
    "start_time": "2022-09-04T17:48:05.688Z"
   },
   {
    "duration": 13,
    "start_time": "2022-09-04T17:48:05.704Z"
   },
   {
    "duration": 27,
    "start_time": "2022-09-04T17:48:05.718Z"
   },
   {
    "duration": 16,
    "start_time": "2022-09-04T17:48:05.747Z"
   },
   {
    "duration": 101,
    "start_time": "2022-09-04T17:48:05.855Z"
   },
   {
    "duration": 16,
    "start_time": "2022-09-04T17:48:05.957Z"
   },
   {
    "duration": 86,
    "start_time": "2022-09-04T17:48:05.975Z"
   },
   {
    "duration": 9,
    "start_time": "2022-09-04T17:48:06.063Z"
   },
   {
    "duration": 189,
    "start_time": "2022-09-04T17:48:06.074Z"
   },
   {
    "duration": 3,
    "start_time": "2022-09-04T17:50:54.755Z"
   },
   {
    "duration": 8,
    "start_time": "2022-09-04T17:50:57.688Z"
   },
   {
    "duration": 4,
    "start_time": "2022-09-04T17:52:31.709Z"
   },
   {
    "duration": 12,
    "start_time": "2022-09-04T17:52:36.102Z"
   },
   {
    "duration": 8,
    "start_time": "2022-09-04T17:52:59.442Z"
   },
   {
    "duration": 12,
    "start_time": "2022-09-04T17:53:13.012Z"
   },
   {
    "duration": 96,
    "start_time": "2022-09-04T17:54:02.542Z"
   },
   {
    "duration": 10,
    "start_time": "2022-09-04T17:55:02.199Z"
   },
   {
    "duration": 4,
    "start_time": "2022-09-04T17:55:06.832Z"
   },
   {
    "duration": 15,
    "start_time": "2022-09-04T17:55:07.361Z"
   },
   {
    "duration": 4,
    "start_time": "2022-09-04T17:55:09.210Z"
   },
   {
    "duration": 10,
    "start_time": "2022-09-04T17:55:10.904Z"
   },
   {
    "duration": 3,
    "start_time": "2022-09-04T17:55:22.473Z"
   },
   {
    "duration": 10,
    "start_time": "2022-09-04T17:55:33.301Z"
   },
   {
    "duration": 307,
    "start_time": "2022-09-04T17:55:54.006Z"
   },
   {
    "duration": 5,
    "start_time": "2022-09-04T17:56:00.763Z"
   },
   {
    "duration": 21,
    "start_time": "2022-09-04T17:56:03.019Z"
   },
   {
    "duration": 3,
    "start_time": "2022-09-04T17:59:00.718Z"
   },
   {
    "duration": 9,
    "start_time": "2022-09-04T17:59:34.880Z"
   },
   {
    "duration": 92,
    "start_time": "2022-09-04T17:59:44.288Z"
   },
   {
    "duration": 3,
    "start_time": "2022-09-04T18:00:11.883Z"
   },
   {
    "duration": 4,
    "start_time": "2022-09-04T18:00:16.097Z"
   },
   {
    "duration": 4,
    "start_time": "2022-09-04T18:00:42.376Z"
   },
   {
    "duration": 11,
    "start_time": "2022-09-04T18:00:43.561Z"
   },
   {
    "duration": 399,
    "start_time": "2022-09-04T18:01:19.447Z"
   },
   {
    "duration": 5,
    "start_time": "2022-09-04T18:01:27.861Z"
   },
   {
    "duration": 10,
    "start_time": "2022-09-04T18:01:29.378Z"
   },
   {
    "duration": 74,
    "start_time": "2022-09-04T18:01:35.965Z"
   },
   {
    "duration": 73,
    "start_time": "2022-09-04T18:01:47.032Z"
   },
   {
    "duration": 4,
    "start_time": "2022-09-04T18:01:54.564Z"
   },
   {
    "duration": 11,
    "start_time": "2022-09-04T18:01:57.721Z"
   },
   {
    "duration": 3,
    "start_time": "2022-09-04T18:03:36.436Z"
   },
   {
    "duration": 4,
    "start_time": "2022-09-04T18:05:23.960Z"
   },
   {
    "duration": 3,
    "start_time": "2022-09-04T18:05:24.300Z"
   },
   {
    "duration": 13,
    "start_time": "2022-09-04T18:05:24.744Z"
   },
   {
    "duration": 11,
    "start_time": "2022-09-04T18:09:11.296Z"
   },
   {
    "duration": 3,
    "start_time": "2022-09-04T18:09:30.121Z"
   },
   {
    "duration": 1077,
    "start_time": "2022-09-04T18:09:30.126Z"
   },
   {
    "duration": 29,
    "start_time": "2022-09-04T18:09:31.205Z"
   },
   {
    "duration": 10,
    "start_time": "2022-09-04T18:09:31.235Z"
   },
   {
    "duration": 8,
    "start_time": "2022-09-04T18:09:31.247Z"
   },
   {
    "duration": 12,
    "start_time": "2022-09-04T18:09:31.256Z"
   },
   {
    "duration": 23,
    "start_time": "2022-09-04T18:09:31.269Z"
   },
   {
    "duration": 5,
    "start_time": "2022-09-04T18:09:31.294Z"
   },
   {
    "duration": 18,
    "start_time": "2022-09-04T18:09:31.300Z"
   },
   {
    "duration": 38,
    "start_time": "2022-09-04T18:09:31.319Z"
   },
   {
    "duration": 120,
    "start_time": "2022-09-04T18:09:31.358Z"
   },
   {
    "duration": 104,
    "start_time": "2022-09-04T18:09:31.555Z"
   },
   {
    "duration": 4,
    "start_time": "2022-09-04T18:09:31.660Z"
   },
   {
    "duration": 7,
    "start_time": "2022-09-04T18:09:31.666Z"
   },
   {
    "duration": 83,
    "start_time": "2022-09-04T18:09:31.674Z"
   },
   {
    "duration": 17,
    "start_time": "2022-09-04T18:09:31.758Z"
   },
   {
    "duration": 92,
    "start_time": "2022-09-04T18:09:31.776Z"
   },
   {
    "duration": 94,
    "start_time": "2022-09-04T18:09:31.869Z"
   },
   {
    "duration": 3,
    "start_time": "2022-09-05T03:17:46.737Z"
   },
   {
    "duration": 1126,
    "start_time": "2022-09-05T03:17:46.742Z"
   },
   {
    "duration": 98,
    "start_time": "2022-09-05T03:17:47.870Z"
   },
   {
    "duration": 10,
    "start_time": "2022-09-05T03:17:47.970Z"
   },
   {
    "duration": 5,
    "start_time": "2022-09-05T03:17:47.982Z"
   },
   {
    "duration": 5,
    "start_time": "2022-09-05T03:17:47.988Z"
   },
   {
    "duration": 19,
    "start_time": "2022-09-05T03:17:47.994Z"
   },
   {
    "duration": 5,
    "start_time": "2022-09-05T03:17:48.014Z"
   },
   {
    "duration": 5,
    "start_time": "2022-09-05T03:17:48.020Z"
   },
   {
    "duration": 11,
    "start_time": "2022-09-05T03:17:48.026Z"
   },
   {
    "duration": 174,
    "start_time": "2022-09-05T03:17:48.039Z"
   },
   {
    "duration": 102,
    "start_time": "2022-09-05T03:17:48.215Z"
   },
   {
    "duration": 5,
    "start_time": "2022-09-05T03:17:48.319Z"
   },
   {
    "duration": 5,
    "start_time": "2022-09-05T03:17:48.410Z"
   },
   {
    "duration": 8,
    "start_time": "2022-09-05T03:17:48.416Z"
   },
   {
    "duration": 96,
    "start_time": "2022-09-05T03:17:48.426Z"
   },
   {
    "duration": 94,
    "start_time": "2022-09-05T03:17:48.524Z"
   },
   {
    "duration": 193,
    "start_time": "2022-09-05T03:17:48.620Z"
   }
  ],
  "kernelspec": {
   "display_name": "Python 3 (ipykernel)",
   "language": "python",
   "name": "python3"
  },
  "language_info": {
   "codemirror_mode": {
    "name": "ipython",
    "version": 3
   },
   "file_extension": ".py",
   "mimetype": "text/x-python",
   "name": "python",
   "nbconvert_exporter": "python",
   "pygments_lexer": "ipython3",
   "version": "3.9.12"
  },
  "toc": {
   "base_numbering": 1,
   "nav_menu": {},
   "number_sections": true,
   "sideBar": true,
   "skip_h1_title": true,
   "title_cell": "Содержание",
   "title_sidebar": "Contents",
   "toc_cell": true,
   "toc_position": {
    "height": "calc(100% - 180px)",
    "left": "10px",
    "top": "150px",
    "width": "323.865px"
   },
   "toc_section_display": true,
   "toc_window_display": true
  }
 },
 "nbformat": 4,
 "nbformat_minor": 2
}
