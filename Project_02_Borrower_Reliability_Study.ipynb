{
 "cells": [
  {
   "cell_type": "markdown",
   "id": "df12e08a",
   "metadata": {},
   "source": [
    "# Borrower Reliability Study"
   ]
  },
  {
   "cell_type": "markdown",
   "id": "a670d724",
   "metadata": {},
   "source": [
    "**The customer** is the credit department of the bank. It is necessary to find out whether the marital status and the number of children of the client affect the fact of repaying the loan on time. \n",
    "\n",
    "Input bank data - statistics on the solvency of customers."
   ]
  },
  {
   "cell_type": "code",
   "execution_count": 1,
   "id": "423f8a60",
   "metadata": {},
   "outputs": [],
   "source": [
    "import pandas as pd"
   ]
  },
  {
   "cell_type": "code",
   "execution_count": 2,
   "id": "b44932b6",
   "metadata": {},
   "outputs": [],
   "source": [
    "data = pd.read_csv('data.csv')\n"
   ]
  },
  {
   "cell_type": "code",
   "execution_count": 3,
   "id": "f1343c86",
   "metadata": {},
   "outputs": [
    {
     "name": "stdout",
     "output_type": "stream",
     "text": [
      "<class 'pandas.core.frame.DataFrame'>\n",
      "RangeIndex: 21525 entries, 0 to 21524\n",
      "Data columns (total 12 columns):\n",
      " #   Column            Non-Null Count  Dtype  \n",
      "---  ------            --------------  -----  \n",
      " 0   children          21525 non-null  int64  \n",
      " 1   days_employed     19351 non-null  float64\n",
      " 2   dob_years         21525 non-null  int64  \n",
      " 3   education         21525 non-null  object \n",
      " 4   education_id      21525 non-null  int64  \n",
      " 5   family_status     21525 non-null  object \n",
      " 6   family_status_id  21525 non-null  int64  \n",
      " 7   gender            21525 non-null  object \n",
      " 8   income_type       21525 non-null  object \n",
      " 9   debt              21525 non-null  int64  \n",
      " 10  total_income      19351 non-null  float64\n",
      " 11  purpose           21525 non-null  object \n",
      "dtypes: float64(2), int64(5), object(5)\n",
      "memory usage: 2.0+ MB\n"
     ]
    }
   ],
   "source": [
    "data.info() "
   ]
  },
  {
   "cell_type": "code",
   "execution_count": 4,
   "id": "7b38b990",
   "metadata": {},
   "outputs": [
    {
     "data": {
      "text/html": [
       "<div>\n",
       "<style scoped>\n",
       "    .dataframe tbody tr th:only-of-type {\n",
       "        vertical-align: middle;\n",
       "    }\n",
       "\n",
       "    .dataframe tbody tr th {\n",
       "        vertical-align: top;\n",
       "    }\n",
       "\n",
       "    .dataframe thead th {\n",
       "        text-align: right;\n",
       "    }\n",
       "</style>\n",
       "<table border=\"1\" class=\"dataframe\">\n",
       "  <thead>\n",
       "    <tr style=\"text-align: right;\">\n",
       "      <th></th>\n",
       "      <th>children</th>\n",
       "      <th>days_employed</th>\n",
       "      <th>dob_years</th>\n",
       "      <th>education</th>\n",
       "      <th>education_id</th>\n",
       "      <th>family_status</th>\n",
       "      <th>family_status_id</th>\n",
       "      <th>gender</th>\n",
       "      <th>income_type</th>\n",
       "      <th>debt</th>\n",
       "      <th>total_income</th>\n",
       "      <th>purpose</th>\n",
       "    </tr>\n",
       "  </thead>\n",
       "  <tbody>\n",
       "    <tr>\n",
       "      <th>0</th>\n",
       "      <td>1</td>\n",
       "      <td>-8437.673028</td>\n",
       "      <td>42</td>\n",
       "      <td>высшее</td>\n",
       "      <td>0</td>\n",
       "      <td>женат / замужем</td>\n",
       "      <td>0</td>\n",
       "      <td>F</td>\n",
       "      <td>сотрудник</td>\n",
       "      <td>0</td>\n",
       "      <td>253875.639453</td>\n",
       "      <td>покупка жилья</td>\n",
       "    </tr>\n",
       "    <tr>\n",
       "      <th>1</th>\n",
       "      <td>1</td>\n",
       "      <td>-4024.803754</td>\n",
       "      <td>36</td>\n",
       "      <td>среднее</td>\n",
       "      <td>1</td>\n",
       "      <td>женат / замужем</td>\n",
       "      <td>0</td>\n",
       "      <td>F</td>\n",
       "      <td>сотрудник</td>\n",
       "      <td>0</td>\n",
       "      <td>112080.014102</td>\n",
       "      <td>приобретение автомобиля</td>\n",
       "    </tr>\n",
       "    <tr>\n",
       "      <th>2</th>\n",
       "      <td>0</td>\n",
       "      <td>-5623.422610</td>\n",
       "      <td>33</td>\n",
       "      <td>Среднее</td>\n",
       "      <td>1</td>\n",
       "      <td>женат / замужем</td>\n",
       "      <td>0</td>\n",
       "      <td>M</td>\n",
       "      <td>сотрудник</td>\n",
       "      <td>0</td>\n",
       "      <td>145885.952297</td>\n",
       "      <td>покупка жилья</td>\n",
       "    </tr>\n",
       "    <tr>\n",
       "      <th>3</th>\n",
       "      <td>3</td>\n",
       "      <td>-4124.747207</td>\n",
       "      <td>32</td>\n",
       "      <td>среднее</td>\n",
       "      <td>1</td>\n",
       "      <td>женат / замужем</td>\n",
       "      <td>0</td>\n",
       "      <td>M</td>\n",
       "      <td>сотрудник</td>\n",
       "      <td>0</td>\n",
       "      <td>267628.550329</td>\n",
       "      <td>дополнительное образование</td>\n",
       "    </tr>\n",
       "    <tr>\n",
       "      <th>4</th>\n",
       "      <td>0</td>\n",
       "      <td>340266.072047</td>\n",
       "      <td>53</td>\n",
       "      <td>среднее</td>\n",
       "      <td>1</td>\n",
       "      <td>гражданский брак</td>\n",
       "      <td>1</td>\n",
       "      <td>F</td>\n",
       "      <td>пенсионер</td>\n",
       "      <td>0</td>\n",
       "      <td>158616.077870</td>\n",
       "      <td>сыграть свадьбу</td>\n",
       "    </tr>\n",
       "    <tr>\n",
       "      <th>5</th>\n",
       "      <td>0</td>\n",
       "      <td>-926.185831</td>\n",
       "      <td>27</td>\n",
       "      <td>высшее</td>\n",
       "      <td>0</td>\n",
       "      <td>гражданский брак</td>\n",
       "      <td>1</td>\n",
       "      <td>M</td>\n",
       "      <td>компаньон</td>\n",
       "      <td>0</td>\n",
       "      <td>255763.565419</td>\n",
       "      <td>покупка жилья</td>\n",
       "    </tr>\n",
       "    <tr>\n",
       "      <th>6</th>\n",
       "      <td>0</td>\n",
       "      <td>-2879.202052</td>\n",
       "      <td>43</td>\n",
       "      <td>высшее</td>\n",
       "      <td>0</td>\n",
       "      <td>женат / замужем</td>\n",
       "      <td>0</td>\n",
       "      <td>F</td>\n",
       "      <td>компаньон</td>\n",
       "      <td>0</td>\n",
       "      <td>240525.971920</td>\n",
       "      <td>операции с жильем</td>\n",
       "    </tr>\n",
       "    <tr>\n",
       "      <th>7</th>\n",
       "      <td>0</td>\n",
       "      <td>-152.779569</td>\n",
       "      <td>50</td>\n",
       "      <td>СРЕДНЕЕ</td>\n",
       "      <td>1</td>\n",
       "      <td>женат / замужем</td>\n",
       "      <td>0</td>\n",
       "      <td>M</td>\n",
       "      <td>сотрудник</td>\n",
       "      <td>0</td>\n",
       "      <td>135823.934197</td>\n",
       "      <td>образование</td>\n",
       "    </tr>\n",
       "    <tr>\n",
       "      <th>8</th>\n",
       "      <td>2</td>\n",
       "      <td>-6929.865299</td>\n",
       "      <td>35</td>\n",
       "      <td>ВЫСШЕЕ</td>\n",
       "      <td>0</td>\n",
       "      <td>гражданский брак</td>\n",
       "      <td>1</td>\n",
       "      <td>F</td>\n",
       "      <td>сотрудник</td>\n",
       "      <td>0</td>\n",
       "      <td>95856.832424</td>\n",
       "      <td>на проведение свадьбы</td>\n",
       "    </tr>\n",
       "    <tr>\n",
       "      <th>9</th>\n",
       "      <td>0</td>\n",
       "      <td>-2188.756445</td>\n",
       "      <td>41</td>\n",
       "      <td>среднее</td>\n",
       "      <td>1</td>\n",
       "      <td>женат / замужем</td>\n",
       "      <td>0</td>\n",
       "      <td>M</td>\n",
       "      <td>сотрудник</td>\n",
       "      <td>0</td>\n",
       "      <td>144425.938277</td>\n",
       "      <td>покупка жилья для семьи</td>\n",
       "    </tr>\n",
       "  </tbody>\n",
       "</table>\n",
       "</div>"
      ],
      "text/plain": [
       "   children  days_employed  dob_years education  education_id  \\\n",
       "0         1   -8437.673028         42    высшее             0   \n",
       "1         1   -4024.803754         36   среднее             1   \n",
       "2         0   -5623.422610         33   Среднее             1   \n",
       "3         3   -4124.747207         32   среднее             1   \n",
       "4         0  340266.072047         53   среднее             1   \n",
       "5         0    -926.185831         27    высшее             0   \n",
       "6         0   -2879.202052         43    высшее             0   \n",
       "7         0    -152.779569         50   СРЕДНЕЕ             1   \n",
       "8         2   -6929.865299         35    ВЫСШЕЕ             0   \n",
       "9         0   -2188.756445         41   среднее             1   \n",
       "\n",
       "      family_status  family_status_id gender income_type  debt   total_income  \\\n",
       "0   женат / замужем                 0      F   сотрудник     0  253875.639453   \n",
       "1   женат / замужем                 0      F   сотрудник     0  112080.014102   \n",
       "2   женат / замужем                 0      M   сотрудник     0  145885.952297   \n",
       "3   женат / замужем                 0      M   сотрудник     0  267628.550329   \n",
       "4  гражданский брак                 1      F   пенсионер     0  158616.077870   \n",
       "5  гражданский брак                 1      M   компаньон     0  255763.565419   \n",
       "6   женат / замужем                 0      F   компаньон     0  240525.971920   \n",
       "7   женат / замужем                 0      M   сотрудник     0  135823.934197   \n",
       "8  гражданский брак                 1      F   сотрудник     0   95856.832424   \n",
       "9   женат / замужем                 0      M   сотрудник     0  144425.938277   \n",
       "\n",
       "                      purpose  \n",
       "0               покупка жилья  \n",
       "1     приобретение автомобиля  \n",
       "2               покупка жилья  \n",
       "3  дополнительное образование  \n",
       "4             сыграть свадьбу  \n",
       "5               покупка жилья  \n",
       "6           операции с жильем  \n",
       "7                 образование  \n",
       "8       на проведение свадьбы  \n",
       "9     покупка жилья для семьи  "
      ]
     },
     "execution_count": 4,
     "metadata": {},
     "output_type": "execute_result"
    }
   ],
   "source": [
    "data.head(10) "
   ]
  },
  {
   "cell_type": "code",
   "execution_count": 5,
   "id": "15ee98db",
   "metadata": {},
   "outputs": [
    {
     "data": {
      "text/html": [
       "<div>\n",
       "<style scoped>\n",
       "    .dataframe tbody tr th:only-of-type {\n",
       "        vertical-align: middle;\n",
       "    }\n",
       "\n",
       "    .dataframe tbody tr th {\n",
       "        vertical-align: top;\n",
       "    }\n",
       "\n",
       "    .dataframe thead th {\n",
       "        text-align: right;\n",
       "    }\n",
       "</style>\n",
       "<table border=\"1\" class=\"dataframe\">\n",
       "  <thead>\n",
       "    <tr style=\"text-align: right;\">\n",
       "      <th></th>\n",
       "      <th>children</th>\n",
       "      <th>days_employed</th>\n",
       "      <th>dob_years</th>\n",
       "      <th>education_id</th>\n",
       "      <th>family_status_id</th>\n",
       "      <th>debt</th>\n",
       "      <th>total_income</th>\n",
       "    </tr>\n",
       "  </thead>\n",
       "  <tbody>\n",
       "    <tr>\n",
       "      <th>count</th>\n",
       "      <td>21525.000000</td>\n",
       "      <td>19351.000000</td>\n",
       "      <td>21525.000000</td>\n",
       "      <td>21525.000000</td>\n",
       "      <td>21525.000000</td>\n",
       "      <td>21525.000000</td>\n",
       "      <td>1.935100e+04</td>\n",
       "    </tr>\n",
       "    <tr>\n",
       "      <th>mean</th>\n",
       "      <td>0.538908</td>\n",
       "      <td>63046.497661</td>\n",
       "      <td>43.293380</td>\n",
       "      <td>0.817236</td>\n",
       "      <td>0.972544</td>\n",
       "      <td>0.080883</td>\n",
       "      <td>1.674223e+05</td>\n",
       "    </tr>\n",
       "    <tr>\n",
       "      <th>std</th>\n",
       "      <td>1.381587</td>\n",
       "      <td>140827.311974</td>\n",
       "      <td>12.574584</td>\n",
       "      <td>0.548138</td>\n",
       "      <td>1.420324</td>\n",
       "      <td>0.272661</td>\n",
       "      <td>1.029716e+05</td>\n",
       "    </tr>\n",
       "    <tr>\n",
       "      <th>min</th>\n",
       "      <td>-1.000000</td>\n",
       "      <td>-18388.949901</td>\n",
       "      <td>0.000000</td>\n",
       "      <td>0.000000</td>\n",
       "      <td>0.000000</td>\n",
       "      <td>0.000000</td>\n",
       "      <td>2.066726e+04</td>\n",
       "    </tr>\n",
       "    <tr>\n",
       "      <th>25%</th>\n",
       "      <td>0.000000</td>\n",
       "      <td>-2747.423625</td>\n",
       "      <td>33.000000</td>\n",
       "      <td>1.000000</td>\n",
       "      <td>0.000000</td>\n",
       "      <td>0.000000</td>\n",
       "      <td>1.030532e+05</td>\n",
       "    </tr>\n",
       "    <tr>\n",
       "      <th>50%</th>\n",
       "      <td>0.000000</td>\n",
       "      <td>-1203.369529</td>\n",
       "      <td>42.000000</td>\n",
       "      <td>1.000000</td>\n",
       "      <td>0.000000</td>\n",
       "      <td>0.000000</td>\n",
       "      <td>1.450179e+05</td>\n",
       "    </tr>\n",
       "    <tr>\n",
       "      <th>75%</th>\n",
       "      <td>1.000000</td>\n",
       "      <td>-291.095954</td>\n",
       "      <td>53.000000</td>\n",
       "      <td>1.000000</td>\n",
       "      <td>1.000000</td>\n",
       "      <td>0.000000</td>\n",
       "      <td>2.034351e+05</td>\n",
       "    </tr>\n",
       "    <tr>\n",
       "      <th>max</th>\n",
       "      <td>20.000000</td>\n",
       "      <td>401755.400475</td>\n",
       "      <td>75.000000</td>\n",
       "      <td>4.000000</td>\n",
       "      <td>4.000000</td>\n",
       "      <td>1.000000</td>\n",
       "      <td>2.265604e+06</td>\n",
       "    </tr>\n",
       "  </tbody>\n",
       "</table>\n",
       "</div>"
      ],
      "text/plain": [
       "           children  days_employed     dob_years  education_id  \\\n",
       "count  21525.000000   19351.000000  21525.000000  21525.000000   \n",
       "mean       0.538908   63046.497661     43.293380      0.817236   \n",
       "std        1.381587  140827.311974     12.574584      0.548138   \n",
       "min       -1.000000  -18388.949901      0.000000      0.000000   \n",
       "25%        0.000000   -2747.423625     33.000000      1.000000   \n",
       "50%        0.000000   -1203.369529     42.000000      1.000000   \n",
       "75%        1.000000    -291.095954     53.000000      1.000000   \n",
       "max       20.000000  401755.400475     75.000000      4.000000   \n",
       "\n",
       "       family_status_id          debt  total_income  \n",
       "count      21525.000000  21525.000000  1.935100e+04  \n",
       "mean           0.972544      0.080883  1.674223e+05  \n",
       "std            1.420324      0.272661  1.029716e+05  \n",
       "min            0.000000      0.000000  2.066726e+04  \n",
       "25%            0.000000      0.000000  1.030532e+05  \n",
       "50%            0.000000      0.000000  1.450179e+05  \n",
       "75%            1.000000      0.000000  2.034351e+05  \n",
       "max            4.000000      1.000000  2.265604e+06  "
      ]
     },
     "execution_count": 5,
     "metadata": {},
     "output_type": "execute_result"
    }
   ],
   "source": [
    "data.describe() "
   ]
  },
  {
   "cell_type": "markdown",
   "id": "fbfab6b9",
   "metadata": {},
   "source": [
    "Approximately 10 % missings in columns `days_employed` и `total_income`.  "
   ]
  },
  {
   "cell_type": "code",
   "execution_count": 6,
   "id": "dcdb9b8c",
   "metadata": {},
   "outputs": [
    {
     "data": {
      "text/plain": [
       "children            0.000000\n",
       "days_employed       0.100999\n",
       "dob_years           0.000000\n",
       "education           0.000000\n",
       "education_id        0.000000\n",
       "family_status       0.000000\n",
       "family_status_id    0.000000\n",
       "gender              0.000000\n",
       "income_type         0.000000\n",
       "debt                0.000000\n",
       "total_income        0.100999\n",
       "purpose             0.000000\n",
       "dtype: float64"
      ]
     },
     "execution_count": 6,
     "metadata": {},
     "output_type": "execute_result"
    }
   ],
   "source": [
    "data.isna().mean()"
   ]
  },
  {
   "cell_type": "markdown",
   "id": "491caa7c",
   "metadata": {},
   "source": [
    "# EDA"
   ]
  },
  {
   "cell_type": "markdown",
   "id": "97a43b27",
   "metadata": {},
   "source": [
    "Need to check for duplicates"
   ]
  },
  {
   "cell_type": "code",
   "execution_count": 7,
   "id": "a23e3dde",
   "metadata": {
    "scrolled": true
   },
   "outputs": [
    {
     "data": {
      "text/html": [
       "<div>\n",
       "<style scoped>\n",
       "    .dataframe tbody tr th:only-of-type {\n",
       "        vertical-align: middle;\n",
       "    }\n",
       "\n",
       "    .dataframe tbody tr th {\n",
       "        vertical-align: top;\n",
       "    }\n",
       "\n",
       "    .dataframe thead th {\n",
       "        text-align: right;\n",
       "    }\n",
       "</style>\n",
       "<table border=\"1\" class=\"dataframe\">\n",
       "  <thead>\n",
       "    <tr style=\"text-align: right;\">\n",
       "      <th></th>\n",
       "      <th>children</th>\n",
       "      <th>days_employed</th>\n",
       "      <th>dob_years</th>\n",
       "      <th>education</th>\n",
       "      <th>education_id</th>\n",
       "      <th>family_status</th>\n",
       "      <th>family_status_id</th>\n",
       "      <th>gender</th>\n",
       "      <th>income_type</th>\n",
       "      <th>debt</th>\n",
       "      <th>total_income</th>\n",
       "      <th>purpose</th>\n",
       "    </tr>\n",
       "  </thead>\n",
       "  <tbody>\n",
       "    <tr>\n",
       "      <th>2849</th>\n",
       "      <td>0</td>\n",
       "      <td>NaN</td>\n",
       "      <td>41</td>\n",
       "      <td>среднее</td>\n",
       "      <td>1</td>\n",
       "      <td>женат / замужем</td>\n",
       "      <td>0</td>\n",
       "      <td>F</td>\n",
       "      <td>сотрудник</td>\n",
       "      <td>0</td>\n",
       "      <td>NaN</td>\n",
       "      <td>покупка жилья для семьи</td>\n",
       "    </tr>\n",
       "    <tr>\n",
       "      <th>4182</th>\n",
       "      <td>1</td>\n",
       "      <td>NaN</td>\n",
       "      <td>34</td>\n",
       "      <td>ВЫСШЕЕ</td>\n",
       "      <td>0</td>\n",
       "      <td>гражданский брак</td>\n",
       "      <td>1</td>\n",
       "      <td>F</td>\n",
       "      <td>сотрудник</td>\n",
       "      <td>0</td>\n",
       "      <td>NaN</td>\n",
       "      <td>свадьба</td>\n",
       "    </tr>\n",
       "    <tr>\n",
       "      <th>4851</th>\n",
       "      <td>0</td>\n",
       "      <td>NaN</td>\n",
       "      <td>60</td>\n",
       "      <td>среднее</td>\n",
       "      <td>1</td>\n",
       "      <td>гражданский брак</td>\n",
       "      <td>1</td>\n",
       "      <td>F</td>\n",
       "      <td>пенсионер</td>\n",
       "      <td>0</td>\n",
       "      <td>NaN</td>\n",
       "      <td>свадьба</td>\n",
       "    </tr>\n",
       "    <tr>\n",
       "      <th>5557</th>\n",
       "      <td>0</td>\n",
       "      <td>NaN</td>\n",
       "      <td>58</td>\n",
       "      <td>среднее</td>\n",
       "      <td>1</td>\n",
       "      <td>гражданский брак</td>\n",
       "      <td>1</td>\n",
       "      <td>F</td>\n",
       "      <td>пенсионер</td>\n",
       "      <td>0</td>\n",
       "      <td>NaN</td>\n",
       "      <td>сыграть свадьбу</td>\n",
       "    </tr>\n",
       "    <tr>\n",
       "      <th>7808</th>\n",
       "      <td>0</td>\n",
       "      <td>NaN</td>\n",
       "      <td>57</td>\n",
       "      <td>среднее</td>\n",
       "      <td>1</td>\n",
       "      <td>гражданский брак</td>\n",
       "      <td>1</td>\n",
       "      <td>F</td>\n",
       "      <td>пенсионер</td>\n",
       "      <td>0</td>\n",
       "      <td>NaN</td>\n",
       "      <td>на проведение свадьбы</td>\n",
       "    </tr>\n",
       "    <tr>\n",
       "      <th>8583</th>\n",
       "      <td>0</td>\n",
       "      <td>NaN</td>\n",
       "      <td>58</td>\n",
       "      <td>высшее</td>\n",
       "      <td>0</td>\n",
       "      <td>Не женат / не замужем</td>\n",
       "      <td>4</td>\n",
       "      <td>F</td>\n",
       "      <td>пенсионер</td>\n",
       "      <td>0</td>\n",
       "      <td>NaN</td>\n",
       "      <td>дополнительное образование</td>\n",
       "    </tr>\n",
       "    <tr>\n",
       "      <th>9238</th>\n",
       "      <td>2</td>\n",
       "      <td>NaN</td>\n",
       "      <td>34</td>\n",
       "      <td>среднее</td>\n",
       "      <td>1</td>\n",
       "      <td>женат / замужем</td>\n",
       "      <td>0</td>\n",
       "      <td>F</td>\n",
       "      <td>сотрудник</td>\n",
       "      <td>0</td>\n",
       "      <td>NaN</td>\n",
       "      <td>покупка жилья для сдачи</td>\n",
       "    </tr>\n",
       "    <tr>\n",
       "      <th>9528</th>\n",
       "      <td>0</td>\n",
       "      <td>NaN</td>\n",
       "      <td>66</td>\n",
       "      <td>среднее</td>\n",
       "      <td>1</td>\n",
       "      <td>вдовец / вдова</td>\n",
       "      <td>2</td>\n",
       "      <td>F</td>\n",
       "      <td>пенсионер</td>\n",
       "      <td>0</td>\n",
       "      <td>NaN</td>\n",
       "      <td>операции со своей недвижимостью</td>\n",
       "    </tr>\n",
       "    <tr>\n",
       "      <th>9627</th>\n",
       "      <td>0</td>\n",
       "      <td>NaN</td>\n",
       "      <td>56</td>\n",
       "      <td>среднее</td>\n",
       "      <td>1</td>\n",
       "      <td>женат / замужем</td>\n",
       "      <td>0</td>\n",
       "      <td>F</td>\n",
       "      <td>пенсионер</td>\n",
       "      <td>0</td>\n",
       "      <td>NaN</td>\n",
       "      <td>операции со своей недвижимостью</td>\n",
       "    </tr>\n",
       "    <tr>\n",
       "      <th>10462</th>\n",
       "      <td>0</td>\n",
       "      <td>NaN</td>\n",
       "      <td>62</td>\n",
       "      <td>среднее</td>\n",
       "      <td>1</td>\n",
       "      <td>женат / замужем</td>\n",
       "      <td>0</td>\n",
       "      <td>F</td>\n",
       "      <td>пенсионер</td>\n",
       "      <td>0</td>\n",
       "      <td>NaN</td>\n",
       "      <td>покупка коммерческой недвижимости</td>\n",
       "    </tr>\n",
       "    <tr>\n",
       "      <th>10697</th>\n",
       "      <td>0</td>\n",
       "      <td>NaN</td>\n",
       "      <td>40</td>\n",
       "      <td>среднее</td>\n",
       "      <td>1</td>\n",
       "      <td>гражданский брак</td>\n",
       "      <td>1</td>\n",
       "      <td>F</td>\n",
       "      <td>компаньон</td>\n",
       "      <td>0</td>\n",
       "      <td>NaN</td>\n",
       "      <td>сыграть свадьбу</td>\n",
       "    </tr>\n",
       "    <tr>\n",
       "      <th>10864</th>\n",
       "      <td>0</td>\n",
       "      <td>NaN</td>\n",
       "      <td>62</td>\n",
       "      <td>среднее</td>\n",
       "      <td>1</td>\n",
       "      <td>женат / замужем</td>\n",
       "      <td>0</td>\n",
       "      <td>F</td>\n",
       "      <td>пенсионер</td>\n",
       "      <td>0</td>\n",
       "      <td>NaN</td>\n",
       "      <td>ремонт жилью</td>\n",
       "    </tr>\n",
       "    <tr>\n",
       "      <th>10994</th>\n",
       "      <td>0</td>\n",
       "      <td>NaN</td>\n",
       "      <td>62</td>\n",
       "      <td>среднее</td>\n",
       "      <td>1</td>\n",
       "      <td>женат / замужем</td>\n",
       "      <td>0</td>\n",
       "      <td>F</td>\n",
       "      <td>пенсионер</td>\n",
       "      <td>0</td>\n",
       "      <td>NaN</td>\n",
       "      <td>ремонт жилью</td>\n",
       "    </tr>\n",
       "    <tr>\n",
       "      <th>11791</th>\n",
       "      <td>0</td>\n",
       "      <td>NaN</td>\n",
       "      <td>47</td>\n",
       "      <td>среднее</td>\n",
       "      <td>1</td>\n",
       "      <td>женат / замужем</td>\n",
       "      <td>0</td>\n",
       "      <td>F</td>\n",
       "      <td>сотрудник</td>\n",
       "      <td>0</td>\n",
       "      <td>NaN</td>\n",
       "      <td>строительство недвижимости</td>\n",
       "    </tr>\n",
       "    <tr>\n",
       "      <th>12373</th>\n",
       "      <td>0</td>\n",
       "      <td>NaN</td>\n",
       "      <td>58</td>\n",
       "      <td>среднее</td>\n",
       "      <td>1</td>\n",
       "      <td>женат / замужем</td>\n",
       "      <td>0</td>\n",
       "      <td>M</td>\n",
       "      <td>сотрудник</td>\n",
       "      <td>0</td>\n",
       "      <td>NaN</td>\n",
       "      <td>покупка недвижимости</td>\n",
       "    </tr>\n",
       "    <tr>\n",
       "      <th>12375</th>\n",
       "      <td>1</td>\n",
       "      <td>NaN</td>\n",
       "      <td>37</td>\n",
       "      <td>среднее</td>\n",
       "      <td>1</td>\n",
       "      <td>женат / замужем</td>\n",
       "      <td>0</td>\n",
       "      <td>F</td>\n",
       "      <td>сотрудник</td>\n",
       "      <td>0</td>\n",
       "      <td>NaN</td>\n",
       "      <td>покупка недвижимости</td>\n",
       "    </tr>\n",
       "    <tr>\n",
       "      <th>12736</th>\n",
       "      <td>0</td>\n",
       "      <td>NaN</td>\n",
       "      <td>59</td>\n",
       "      <td>среднее</td>\n",
       "      <td>1</td>\n",
       "      <td>женат / замужем</td>\n",
       "      <td>0</td>\n",
       "      <td>F</td>\n",
       "      <td>пенсионер</td>\n",
       "      <td>0</td>\n",
       "      <td>NaN</td>\n",
       "      <td>заняться образованием</td>\n",
       "    </tr>\n",
       "    <tr>\n",
       "      <th>13025</th>\n",
       "      <td>1</td>\n",
       "      <td>NaN</td>\n",
       "      <td>44</td>\n",
       "      <td>среднее</td>\n",
       "      <td>1</td>\n",
       "      <td>женат / замужем</td>\n",
       "      <td>0</td>\n",
       "      <td>F</td>\n",
       "      <td>сотрудник</td>\n",
       "      <td>0</td>\n",
       "      <td>NaN</td>\n",
       "      <td>сделка с подержанным автомобилем</td>\n",
       "    </tr>\n",
       "    <tr>\n",
       "      <th>13639</th>\n",
       "      <td>0</td>\n",
       "      <td>NaN</td>\n",
       "      <td>64</td>\n",
       "      <td>среднее</td>\n",
       "      <td>1</td>\n",
       "      <td>женат / замужем</td>\n",
       "      <td>0</td>\n",
       "      <td>F</td>\n",
       "      <td>пенсионер</td>\n",
       "      <td>0</td>\n",
       "      <td>NaN</td>\n",
       "      <td>автомобиль</td>\n",
       "    </tr>\n",
       "    <tr>\n",
       "      <th>13773</th>\n",
       "      <td>0</td>\n",
       "      <td>NaN</td>\n",
       "      <td>35</td>\n",
       "      <td>среднее</td>\n",
       "      <td>1</td>\n",
       "      <td>гражданский брак</td>\n",
       "      <td>1</td>\n",
       "      <td>F</td>\n",
       "      <td>сотрудник</td>\n",
       "      <td>0</td>\n",
       "      <td>NaN</td>\n",
       "      <td>сыграть свадьбу</td>\n",
       "    </tr>\n",
       "    <tr>\n",
       "      <th>13878</th>\n",
       "      <td>1</td>\n",
       "      <td>NaN</td>\n",
       "      <td>31</td>\n",
       "      <td>среднее</td>\n",
       "      <td>1</td>\n",
       "      <td>женат / замужем</td>\n",
       "      <td>0</td>\n",
       "      <td>F</td>\n",
       "      <td>компаньон</td>\n",
       "      <td>0</td>\n",
       "      <td>NaN</td>\n",
       "      <td>покупка жилья</td>\n",
       "    </tr>\n",
       "    <tr>\n",
       "      <th>13942</th>\n",
       "      <td>0</td>\n",
       "      <td>NaN</td>\n",
       "      <td>44</td>\n",
       "      <td>среднее</td>\n",
       "      <td>1</td>\n",
       "      <td>женат / замужем</td>\n",
       "      <td>0</td>\n",
       "      <td>F</td>\n",
       "      <td>сотрудник</td>\n",
       "      <td>0</td>\n",
       "      <td>NaN</td>\n",
       "      <td>приобретение автомобиля</td>\n",
       "    </tr>\n",
       "    <tr>\n",
       "      <th>14432</th>\n",
       "      <td>2</td>\n",
       "      <td>NaN</td>\n",
       "      <td>36</td>\n",
       "      <td>высшее</td>\n",
       "      <td>0</td>\n",
       "      <td>женат / замужем</td>\n",
       "      <td>0</td>\n",
       "      <td>F</td>\n",
       "      <td>госслужащий</td>\n",
       "      <td>0</td>\n",
       "      <td>NaN</td>\n",
       "      <td>получение образования</td>\n",
       "    </tr>\n",
       "    <tr>\n",
       "      <th>14832</th>\n",
       "      <td>0</td>\n",
       "      <td>NaN</td>\n",
       "      <td>50</td>\n",
       "      <td>среднее</td>\n",
       "      <td>1</td>\n",
       "      <td>Не женат / не замужем</td>\n",
       "      <td>4</td>\n",
       "      <td>F</td>\n",
       "      <td>сотрудник</td>\n",
       "      <td>0</td>\n",
       "      <td>NaN</td>\n",
       "      <td>недвижимость</td>\n",
       "    </tr>\n",
       "    <tr>\n",
       "      <th>15091</th>\n",
       "      <td>0</td>\n",
       "      <td>NaN</td>\n",
       "      <td>58</td>\n",
       "      <td>среднее</td>\n",
       "      <td>1</td>\n",
       "      <td>гражданский брак</td>\n",
       "      <td>1</td>\n",
       "      <td>M</td>\n",
       "      <td>сотрудник</td>\n",
       "      <td>0</td>\n",
       "      <td>NaN</td>\n",
       "      <td>на проведение свадьбы</td>\n",
       "    </tr>\n",
       "    <tr>\n",
       "      <th>15188</th>\n",
       "      <td>0</td>\n",
       "      <td>NaN</td>\n",
       "      <td>60</td>\n",
       "      <td>среднее</td>\n",
       "      <td>1</td>\n",
       "      <td>женат / замужем</td>\n",
       "      <td>0</td>\n",
       "      <td>M</td>\n",
       "      <td>сотрудник</td>\n",
       "      <td>0</td>\n",
       "      <td>NaN</td>\n",
       "      <td>покупка недвижимости</td>\n",
       "    </tr>\n",
       "    <tr>\n",
       "      <th>15273</th>\n",
       "      <td>0</td>\n",
       "      <td>NaN</td>\n",
       "      <td>57</td>\n",
       "      <td>среднее</td>\n",
       "      <td>1</td>\n",
       "      <td>гражданский брак</td>\n",
       "      <td>1</td>\n",
       "      <td>F</td>\n",
       "      <td>пенсионер</td>\n",
       "      <td>0</td>\n",
       "      <td>NaN</td>\n",
       "      <td>свадьба</td>\n",
       "    </tr>\n",
       "    <tr>\n",
       "      <th>16176</th>\n",
       "      <td>0</td>\n",
       "      <td>NaN</td>\n",
       "      <td>47</td>\n",
       "      <td>среднее</td>\n",
       "      <td>1</td>\n",
       "      <td>женат / замужем</td>\n",
       "      <td>0</td>\n",
       "      <td>F</td>\n",
       "      <td>сотрудник</td>\n",
       "      <td>0</td>\n",
       "      <td>NaN</td>\n",
       "      <td>ремонт жилью</td>\n",
       "    </tr>\n",
       "    <tr>\n",
       "      <th>16378</th>\n",
       "      <td>0</td>\n",
       "      <td>NaN</td>\n",
       "      <td>46</td>\n",
       "      <td>среднее</td>\n",
       "      <td>1</td>\n",
       "      <td>женат / замужем</td>\n",
       "      <td>0</td>\n",
       "      <td>F</td>\n",
       "      <td>сотрудник</td>\n",
       "      <td>0</td>\n",
       "      <td>NaN</td>\n",
       "      <td>высшее образование</td>\n",
       "    </tr>\n",
       "    <tr>\n",
       "      <th>16902</th>\n",
       "      <td>2</td>\n",
       "      <td>NaN</td>\n",
       "      <td>39</td>\n",
       "      <td>среднее</td>\n",
       "      <td>1</td>\n",
       "      <td>гражданский брак</td>\n",
       "      <td>1</td>\n",
       "      <td>F</td>\n",
       "      <td>сотрудник</td>\n",
       "      <td>0</td>\n",
       "      <td>NaN</td>\n",
       "      <td>сыграть свадьбу</td>\n",
       "    </tr>\n",
       "    <tr>\n",
       "      <th>16904</th>\n",
       "      <td>1</td>\n",
       "      <td>NaN</td>\n",
       "      <td>32</td>\n",
       "      <td>высшее</td>\n",
       "      <td>0</td>\n",
       "      <td>женат / замужем</td>\n",
       "      <td>0</td>\n",
       "      <td>F</td>\n",
       "      <td>сотрудник</td>\n",
       "      <td>0</td>\n",
       "      <td>NaN</td>\n",
       "      <td>на покупку подержанного автомобиля</td>\n",
       "    </tr>\n",
       "    <tr>\n",
       "      <th>17379</th>\n",
       "      <td>0</td>\n",
       "      <td>NaN</td>\n",
       "      <td>54</td>\n",
       "      <td>высшее</td>\n",
       "      <td>0</td>\n",
       "      <td>женат / замужем</td>\n",
       "      <td>0</td>\n",
       "      <td>M</td>\n",
       "      <td>компаньон</td>\n",
       "      <td>0</td>\n",
       "      <td>NaN</td>\n",
       "      <td>операции с коммерческой недвижимостью</td>\n",
       "    </tr>\n",
       "    <tr>\n",
       "      <th>17755</th>\n",
       "      <td>1</td>\n",
       "      <td>NaN</td>\n",
       "      <td>43</td>\n",
       "      <td>среднее</td>\n",
       "      <td>1</td>\n",
       "      <td>женат / замужем</td>\n",
       "      <td>0</td>\n",
       "      <td>M</td>\n",
       "      <td>сотрудник</td>\n",
       "      <td>0</td>\n",
       "      <td>NaN</td>\n",
       "      <td>заняться образованием</td>\n",
       "    </tr>\n",
       "    <tr>\n",
       "      <th>17774</th>\n",
       "      <td>1</td>\n",
       "      <td>NaN</td>\n",
       "      <td>40</td>\n",
       "      <td>среднее</td>\n",
       "      <td>1</td>\n",
       "      <td>гражданский брак</td>\n",
       "      <td>1</td>\n",
       "      <td>F</td>\n",
       "      <td>компаньон</td>\n",
       "      <td>0</td>\n",
       "      <td>NaN</td>\n",
       "      <td>строительство жилой недвижимости</td>\n",
       "    </tr>\n",
       "    <tr>\n",
       "      <th>18328</th>\n",
       "      <td>0</td>\n",
       "      <td>NaN</td>\n",
       "      <td>29</td>\n",
       "      <td>высшее</td>\n",
       "      <td>0</td>\n",
       "      <td>женат / замужем</td>\n",
       "      <td>0</td>\n",
       "      <td>M</td>\n",
       "      <td>сотрудник</td>\n",
       "      <td>0</td>\n",
       "      <td>NaN</td>\n",
       "      <td>покупка жилой недвижимости</td>\n",
       "    </tr>\n",
       "    <tr>\n",
       "      <th>18349</th>\n",
       "      <td>1</td>\n",
       "      <td>NaN</td>\n",
       "      <td>30</td>\n",
       "      <td>высшее</td>\n",
       "      <td>0</td>\n",
       "      <td>женат / замужем</td>\n",
       "      <td>0</td>\n",
       "      <td>F</td>\n",
       "      <td>госслужащий</td>\n",
       "      <td>0</td>\n",
       "      <td>NaN</td>\n",
       "      <td>покупка жилья для семьи</td>\n",
       "    </tr>\n",
       "    <tr>\n",
       "      <th>18428</th>\n",
       "      <td>0</td>\n",
       "      <td>NaN</td>\n",
       "      <td>64</td>\n",
       "      <td>среднее</td>\n",
       "      <td>1</td>\n",
       "      <td>женат / замужем</td>\n",
       "      <td>0</td>\n",
       "      <td>F</td>\n",
       "      <td>пенсионер</td>\n",
       "      <td>0</td>\n",
       "      <td>NaN</td>\n",
       "      <td>жилье</td>\n",
       "    </tr>\n",
       "    <tr>\n",
       "      <th>18521</th>\n",
       "      <td>0</td>\n",
       "      <td>NaN</td>\n",
       "      <td>56</td>\n",
       "      <td>среднее</td>\n",
       "      <td>1</td>\n",
       "      <td>гражданский брак</td>\n",
       "      <td>1</td>\n",
       "      <td>F</td>\n",
       "      <td>сотрудник</td>\n",
       "      <td>0</td>\n",
       "      <td>NaN</td>\n",
       "      <td>сыграть свадьбу</td>\n",
       "    </tr>\n",
       "    <tr>\n",
       "      <th>18563</th>\n",
       "      <td>0</td>\n",
       "      <td>NaN</td>\n",
       "      <td>54</td>\n",
       "      <td>среднее</td>\n",
       "      <td>1</td>\n",
       "      <td>женат / замужем</td>\n",
       "      <td>0</td>\n",
       "      <td>F</td>\n",
       "      <td>сотрудник</td>\n",
       "      <td>0</td>\n",
       "      <td>NaN</td>\n",
       "      <td>операции со своей недвижимостью</td>\n",
       "    </tr>\n",
       "    <tr>\n",
       "      <th>18755</th>\n",
       "      <td>0</td>\n",
       "      <td>NaN</td>\n",
       "      <td>58</td>\n",
       "      <td>среднее</td>\n",
       "      <td>1</td>\n",
       "      <td>женат / замужем</td>\n",
       "      <td>0</td>\n",
       "      <td>F</td>\n",
       "      <td>пенсионер</td>\n",
       "      <td>0</td>\n",
       "      <td>NaN</td>\n",
       "      <td>заняться образованием</td>\n",
       "    </tr>\n",
       "    <tr>\n",
       "      <th>19041</th>\n",
       "      <td>0</td>\n",
       "      <td>NaN</td>\n",
       "      <td>56</td>\n",
       "      <td>среднее</td>\n",
       "      <td>1</td>\n",
       "      <td>гражданский брак</td>\n",
       "      <td>1</td>\n",
       "      <td>F</td>\n",
       "      <td>сотрудник</td>\n",
       "      <td>0</td>\n",
       "      <td>NaN</td>\n",
       "      <td>на проведение свадьбы</td>\n",
       "    </tr>\n",
       "    <tr>\n",
       "      <th>19184</th>\n",
       "      <td>0</td>\n",
       "      <td>NaN</td>\n",
       "      <td>46</td>\n",
       "      <td>среднее</td>\n",
       "      <td>1</td>\n",
       "      <td>женат / замужем</td>\n",
       "      <td>0</td>\n",
       "      <td>F</td>\n",
       "      <td>сотрудник</td>\n",
       "      <td>0</td>\n",
       "      <td>NaN</td>\n",
       "      <td>свой автомобиль</td>\n",
       "    </tr>\n",
       "    <tr>\n",
       "      <th>19321</th>\n",
       "      <td>0</td>\n",
       "      <td>NaN</td>\n",
       "      <td>23</td>\n",
       "      <td>среднее</td>\n",
       "      <td>1</td>\n",
       "      <td>Не женат / не замужем</td>\n",
       "      <td>4</td>\n",
       "      <td>F</td>\n",
       "      <td>сотрудник</td>\n",
       "      <td>0</td>\n",
       "      <td>NaN</td>\n",
       "      <td>сделка с подержанным автомобилем</td>\n",
       "    </tr>\n",
       "    <tr>\n",
       "      <th>19387</th>\n",
       "      <td>0</td>\n",
       "      <td>NaN</td>\n",
       "      <td>38</td>\n",
       "      <td>высшее</td>\n",
       "      <td>0</td>\n",
       "      <td>гражданский брак</td>\n",
       "      <td>1</td>\n",
       "      <td>F</td>\n",
       "      <td>компаньон</td>\n",
       "      <td>0</td>\n",
       "      <td>NaN</td>\n",
       "      <td>на проведение свадьбы</td>\n",
       "    </tr>\n",
       "    <tr>\n",
       "      <th>19688</th>\n",
       "      <td>0</td>\n",
       "      <td>NaN</td>\n",
       "      <td>61</td>\n",
       "      <td>среднее</td>\n",
       "      <td>1</td>\n",
       "      <td>женат / замужем</td>\n",
       "      <td>0</td>\n",
       "      <td>F</td>\n",
       "      <td>пенсионер</td>\n",
       "      <td>0</td>\n",
       "      <td>NaN</td>\n",
       "      <td>операции с недвижимостью</td>\n",
       "    </tr>\n",
       "    <tr>\n",
       "      <th>19832</th>\n",
       "      <td>0</td>\n",
       "      <td>NaN</td>\n",
       "      <td>48</td>\n",
       "      <td>среднее</td>\n",
       "      <td>1</td>\n",
       "      <td>женат / замужем</td>\n",
       "      <td>0</td>\n",
       "      <td>F</td>\n",
       "      <td>сотрудник</td>\n",
       "      <td>0</td>\n",
       "      <td>NaN</td>\n",
       "      <td>ремонт жилью</td>\n",
       "    </tr>\n",
       "    <tr>\n",
       "      <th>19946</th>\n",
       "      <td>0</td>\n",
       "      <td>NaN</td>\n",
       "      <td>57</td>\n",
       "      <td>среднее</td>\n",
       "      <td>1</td>\n",
       "      <td>женат / замужем</td>\n",
       "      <td>0</td>\n",
       "      <td>F</td>\n",
       "      <td>сотрудник</td>\n",
       "      <td>0</td>\n",
       "      <td>NaN</td>\n",
       "      <td>сделка с подержанным автомобилем</td>\n",
       "    </tr>\n",
       "    <tr>\n",
       "      <th>20116</th>\n",
       "      <td>0</td>\n",
       "      <td>NaN</td>\n",
       "      <td>57</td>\n",
       "      <td>среднее</td>\n",
       "      <td>1</td>\n",
       "      <td>гражданский брак</td>\n",
       "      <td>1</td>\n",
       "      <td>M</td>\n",
       "      <td>пенсионер</td>\n",
       "      <td>0</td>\n",
       "      <td>NaN</td>\n",
       "      <td>свадьба</td>\n",
       "    </tr>\n",
       "    <tr>\n",
       "      <th>20165</th>\n",
       "      <td>0</td>\n",
       "      <td>NaN</td>\n",
       "      <td>42</td>\n",
       "      <td>среднее</td>\n",
       "      <td>1</td>\n",
       "      <td>женат / замужем</td>\n",
       "      <td>0</td>\n",
       "      <td>F</td>\n",
       "      <td>сотрудник</td>\n",
       "      <td>0</td>\n",
       "      <td>NaN</td>\n",
       "      <td>покупка жилья для семьи</td>\n",
       "    </tr>\n",
       "    <tr>\n",
       "      <th>20702</th>\n",
       "      <td>0</td>\n",
       "      <td>NaN</td>\n",
       "      <td>64</td>\n",
       "      <td>среднее</td>\n",
       "      <td>1</td>\n",
       "      <td>женат / замужем</td>\n",
       "      <td>0</td>\n",
       "      <td>F</td>\n",
       "      <td>пенсионер</td>\n",
       "      <td>0</td>\n",
       "      <td>NaN</td>\n",
       "      <td>дополнительное образование</td>\n",
       "    </tr>\n",
       "    <tr>\n",
       "      <th>21032</th>\n",
       "      <td>0</td>\n",
       "      <td>NaN</td>\n",
       "      <td>60</td>\n",
       "      <td>среднее</td>\n",
       "      <td>1</td>\n",
       "      <td>женат / замужем</td>\n",
       "      <td>0</td>\n",
       "      <td>F</td>\n",
       "      <td>пенсионер</td>\n",
       "      <td>0</td>\n",
       "      <td>NaN</td>\n",
       "      <td>заняться образованием</td>\n",
       "    </tr>\n",
       "    <tr>\n",
       "      <th>21132</th>\n",
       "      <td>0</td>\n",
       "      <td>NaN</td>\n",
       "      <td>47</td>\n",
       "      <td>среднее</td>\n",
       "      <td>1</td>\n",
       "      <td>женат / замужем</td>\n",
       "      <td>0</td>\n",
       "      <td>F</td>\n",
       "      <td>сотрудник</td>\n",
       "      <td>0</td>\n",
       "      <td>NaN</td>\n",
       "      <td>ремонт жилью</td>\n",
       "    </tr>\n",
       "    <tr>\n",
       "      <th>21281</th>\n",
       "      <td>1</td>\n",
       "      <td>NaN</td>\n",
       "      <td>30</td>\n",
       "      <td>высшее</td>\n",
       "      <td>0</td>\n",
       "      <td>женат / замужем</td>\n",
       "      <td>0</td>\n",
       "      <td>F</td>\n",
       "      <td>сотрудник</td>\n",
       "      <td>0</td>\n",
       "      <td>NaN</td>\n",
       "      <td>покупка коммерческой недвижимости</td>\n",
       "    </tr>\n",
       "    <tr>\n",
       "      <th>21415</th>\n",
       "      <td>0</td>\n",
       "      <td>NaN</td>\n",
       "      <td>54</td>\n",
       "      <td>среднее</td>\n",
       "      <td>1</td>\n",
       "      <td>женат / замужем</td>\n",
       "      <td>0</td>\n",
       "      <td>F</td>\n",
       "      <td>пенсионер</td>\n",
       "      <td>0</td>\n",
       "      <td>NaN</td>\n",
       "      <td>операции с жильем</td>\n",
       "    </tr>\n",
       "  </tbody>\n",
       "</table>\n",
       "</div>"
      ],
      "text/plain": [
       "       children  days_employed  dob_years education  education_id  \\\n",
       "2849          0            NaN         41   среднее             1   \n",
       "4182          1            NaN         34    ВЫСШЕЕ             0   \n",
       "4851          0            NaN         60   среднее             1   \n",
       "5557          0            NaN         58   среднее             1   \n",
       "7808          0            NaN         57   среднее             1   \n",
       "8583          0            NaN         58    высшее             0   \n",
       "9238          2            NaN         34   среднее             1   \n",
       "9528          0            NaN         66   среднее             1   \n",
       "9627          0            NaN         56   среднее             1   \n",
       "10462         0            NaN         62   среднее             1   \n",
       "10697         0            NaN         40   среднее             1   \n",
       "10864         0            NaN         62   среднее             1   \n",
       "10994         0            NaN         62   среднее             1   \n",
       "11791         0            NaN         47   среднее             1   \n",
       "12373         0            NaN         58   среднее             1   \n",
       "12375         1            NaN         37   среднее             1   \n",
       "12736         0            NaN         59   среднее             1   \n",
       "13025         1            NaN         44   среднее             1   \n",
       "13639         0            NaN         64   среднее             1   \n",
       "13773         0            NaN         35   среднее             1   \n",
       "13878         1            NaN         31   среднее             1   \n",
       "13942         0            NaN         44   среднее             1   \n",
       "14432         2            NaN         36    высшее             0   \n",
       "14832         0            NaN         50   среднее             1   \n",
       "15091         0            NaN         58   среднее             1   \n",
       "15188         0            NaN         60   среднее             1   \n",
       "15273         0            NaN         57   среднее             1   \n",
       "16176         0            NaN         47   среднее             1   \n",
       "16378         0            NaN         46   среднее             1   \n",
       "16902         2            NaN         39   среднее             1   \n",
       "16904         1            NaN         32    высшее             0   \n",
       "17379         0            NaN         54    высшее             0   \n",
       "17755         1            NaN         43   среднее             1   \n",
       "17774         1            NaN         40   среднее             1   \n",
       "18328         0            NaN         29    высшее             0   \n",
       "18349         1            NaN         30    высшее             0   \n",
       "18428         0            NaN         64   среднее             1   \n",
       "18521         0            NaN         56   среднее             1   \n",
       "18563         0            NaN         54   среднее             1   \n",
       "18755         0            NaN         58   среднее             1   \n",
       "19041         0            NaN         56   среднее             1   \n",
       "19184         0            NaN         46   среднее             1   \n",
       "19321         0            NaN         23   среднее             1   \n",
       "19387         0            NaN         38    высшее             0   \n",
       "19688         0            NaN         61   среднее             1   \n",
       "19832         0            NaN         48   среднее             1   \n",
       "19946         0            NaN         57   среднее             1   \n",
       "20116         0            NaN         57   среднее             1   \n",
       "20165         0            NaN         42   среднее             1   \n",
       "20702         0            NaN         64   среднее             1   \n",
       "21032         0            NaN         60   среднее             1   \n",
       "21132         0            NaN         47   среднее             1   \n",
       "21281         1            NaN         30    высшее             0   \n",
       "21415         0            NaN         54   среднее             1   \n",
       "\n",
       "               family_status  family_status_id gender  income_type  debt  \\\n",
       "2849         женат / замужем                 0      F    сотрудник     0   \n",
       "4182        гражданский брак                 1      F    сотрудник     0   \n",
       "4851        гражданский брак                 1      F    пенсионер     0   \n",
       "5557        гражданский брак                 1      F    пенсионер     0   \n",
       "7808        гражданский брак                 1      F    пенсионер     0   \n",
       "8583   Не женат / не замужем                 4      F    пенсионер     0   \n",
       "9238         женат / замужем                 0      F    сотрудник     0   \n",
       "9528          вдовец / вдова                 2      F    пенсионер     0   \n",
       "9627         женат / замужем                 0      F    пенсионер     0   \n",
       "10462        женат / замужем                 0      F    пенсионер     0   \n",
       "10697       гражданский брак                 1      F    компаньон     0   \n",
       "10864        женат / замужем                 0      F    пенсионер     0   \n",
       "10994        женат / замужем                 0      F    пенсионер     0   \n",
       "11791        женат / замужем                 0      F    сотрудник     0   \n",
       "12373        женат / замужем                 0      M    сотрудник     0   \n",
       "12375        женат / замужем                 0      F    сотрудник     0   \n",
       "12736        женат / замужем                 0      F    пенсионер     0   \n",
       "13025        женат / замужем                 0      F    сотрудник     0   \n",
       "13639        женат / замужем                 0      F    пенсионер     0   \n",
       "13773       гражданский брак                 1      F    сотрудник     0   \n",
       "13878        женат / замужем                 0      F    компаньон     0   \n",
       "13942        женат / замужем                 0      F    сотрудник     0   \n",
       "14432        женат / замужем                 0      F  госслужащий     0   \n",
       "14832  Не женат / не замужем                 4      F    сотрудник     0   \n",
       "15091       гражданский брак                 1      M    сотрудник     0   \n",
       "15188        женат / замужем                 0      M    сотрудник     0   \n",
       "15273       гражданский брак                 1      F    пенсионер     0   \n",
       "16176        женат / замужем                 0      F    сотрудник     0   \n",
       "16378        женат / замужем                 0      F    сотрудник     0   \n",
       "16902       гражданский брак                 1      F    сотрудник     0   \n",
       "16904        женат / замужем                 0      F    сотрудник     0   \n",
       "17379        женат / замужем                 0      M    компаньон     0   \n",
       "17755        женат / замужем                 0      M    сотрудник     0   \n",
       "17774       гражданский брак                 1      F    компаньон     0   \n",
       "18328        женат / замужем                 0      M    сотрудник     0   \n",
       "18349        женат / замужем                 0      F  госслужащий     0   \n",
       "18428        женат / замужем                 0      F    пенсионер     0   \n",
       "18521       гражданский брак                 1      F    сотрудник     0   \n",
       "18563        женат / замужем                 0      F    сотрудник     0   \n",
       "18755        женат / замужем                 0      F    пенсионер     0   \n",
       "19041       гражданский брак                 1      F    сотрудник     0   \n",
       "19184        женат / замужем                 0      F    сотрудник     0   \n",
       "19321  Не женат / не замужем                 4      F    сотрудник     0   \n",
       "19387       гражданский брак                 1      F    компаньон     0   \n",
       "19688        женат / замужем                 0      F    пенсионер     0   \n",
       "19832        женат / замужем                 0      F    сотрудник     0   \n",
       "19946        женат / замужем                 0      F    сотрудник     0   \n",
       "20116       гражданский брак                 1      M    пенсионер     0   \n",
       "20165        женат / замужем                 0      F    сотрудник     0   \n",
       "20702        женат / замужем                 0      F    пенсионер     0   \n",
       "21032        женат / замужем                 0      F    пенсионер     0   \n",
       "21132        женат / замужем                 0      F    сотрудник     0   \n",
       "21281        женат / замужем                 0      F    сотрудник     0   \n",
       "21415        женат / замужем                 0      F    пенсионер     0   \n",
       "\n",
       "       total_income                                purpose  \n",
       "2849            NaN                покупка жилья для семьи  \n",
       "4182            NaN                                свадьба  \n",
       "4851            NaN                                свадьба  \n",
       "5557            NaN                        сыграть свадьбу  \n",
       "7808            NaN                  на проведение свадьбы  \n",
       "8583            NaN             дополнительное образование  \n",
       "9238            NaN                покупка жилья для сдачи  \n",
       "9528            NaN        операции со своей недвижимостью  \n",
       "9627            NaN        операции со своей недвижимостью  \n",
       "10462           NaN      покупка коммерческой недвижимости  \n",
       "10697           NaN                        сыграть свадьбу  \n",
       "10864           NaN                           ремонт жилью  \n",
       "10994           NaN                           ремонт жилью  \n",
       "11791           NaN             строительство недвижимости  \n",
       "12373           NaN                   покупка недвижимости  \n",
       "12375           NaN                   покупка недвижимости  \n",
       "12736           NaN                  заняться образованием  \n",
       "13025           NaN       сделка с подержанным автомобилем  \n",
       "13639           NaN                             автомобиль  \n",
       "13773           NaN                        сыграть свадьбу  \n",
       "13878           NaN                          покупка жилья  \n",
       "13942           NaN                приобретение автомобиля  \n",
       "14432           NaN                  получение образования  \n",
       "14832           NaN                           недвижимость  \n",
       "15091           NaN                  на проведение свадьбы  \n",
       "15188           NaN                   покупка недвижимости  \n",
       "15273           NaN                                свадьба  \n",
       "16176           NaN                           ремонт жилью  \n",
       "16378           NaN                     высшее образование  \n",
       "16902           NaN                        сыграть свадьбу  \n",
       "16904           NaN     на покупку подержанного автомобиля  \n",
       "17379           NaN  операции с коммерческой недвижимостью  \n",
       "17755           NaN                  заняться образованием  \n",
       "17774           NaN       строительство жилой недвижимости  \n",
       "18328           NaN             покупка жилой недвижимости  \n",
       "18349           NaN                покупка жилья для семьи  \n",
       "18428           NaN                                  жилье  \n",
       "18521           NaN                        сыграть свадьбу  \n",
       "18563           NaN        операции со своей недвижимостью  \n",
       "18755           NaN                  заняться образованием  \n",
       "19041           NaN                  на проведение свадьбы  \n",
       "19184           NaN                        свой автомобиль  \n",
       "19321           NaN       сделка с подержанным автомобилем  \n",
       "19387           NaN                  на проведение свадьбы  \n",
       "19688           NaN               операции с недвижимостью  \n",
       "19832           NaN                           ремонт жилью  \n",
       "19946           NaN       сделка с подержанным автомобилем  \n",
       "20116           NaN                                свадьба  \n",
       "20165           NaN                покупка жилья для семьи  \n",
       "20702           NaN             дополнительное образование  \n",
       "21032           NaN                  заняться образованием  \n",
       "21132           NaN                           ремонт жилью  \n",
       "21281           NaN      покупка коммерческой недвижимости  \n",
       "21415           NaN                      операции с жильем  "
      ]
     },
     "execution_count": 7,
     "metadata": {},
     "output_type": "execute_result"
    }
   ],
   "source": [
    "data.loc[data.duplicated()==True] "
   ]
  },
  {
   "cell_type": "markdown",
   "id": "64b538c1",
   "metadata": {},
   "source": [
    "Change missing values to median"
   ]
  },
  {
   "cell_type": "code",
   "execution_count": 8,
   "id": "116dfb4c",
   "metadata": {},
   "outputs": [],
   "source": [
    "data['days_employed'] = abs(data['days_employed'])     # Using abs() to remove minus signs in a column 'days_employed'\n",
    "median_days_employed = data['days_employed'].median()  # median parameter value by column days_employed\n",
    "\n",
    "\n",
    "\n",
    "data['days_employed'] = data['days_employed'] \\\n",
    "                        .fillna(median_days_employed)  # fill column with median value 'days_employed'\n",
    "\n",
    "data['total_income'] = data['total_income'] \\\n",
    "                        .fillna(data.groupby(['income_type'])['total_income'] \\\n",
    "                        .transform('median'))          # fill column with median value 'total_income'"
   ]
  },
  {
   "cell_type": "code",
   "execution_count": 9,
   "id": "bdf7c258",
   "metadata": {},
   "outputs": [
    {
     "data": {
      "text/html": [
       "<div>\n",
       "<style scoped>\n",
       "    .dataframe tbody tr th:only-of-type {\n",
       "        vertical-align: middle;\n",
       "    }\n",
       "\n",
       "    .dataframe tbody tr th {\n",
       "        vertical-align: top;\n",
       "    }\n",
       "\n",
       "    .dataframe thead th {\n",
       "        text-align: right;\n",
       "    }\n",
       "</style>\n",
       "<table border=\"1\" class=\"dataframe\">\n",
       "  <thead>\n",
       "    <tr style=\"text-align: right;\">\n",
       "      <th></th>\n",
       "      <th>days_employed</th>\n",
       "      <th>total_income</th>\n",
       "    </tr>\n",
       "  </thead>\n",
       "  <tbody>\n",
       "    <tr>\n",
       "      <th>count</th>\n",
       "      <td>21525.000000</td>\n",
       "      <td>2.152500e+04</td>\n",
       "    </tr>\n",
       "    <tr>\n",
       "      <th>mean</th>\n",
       "      <td>60378.032733</td>\n",
       "      <td>1.652253e+05</td>\n",
       "    </tr>\n",
       "    <tr>\n",
       "      <th>std</th>\n",
       "      <td>133257.558514</td>\n",
       "      <td>9.804367e+04</td>\n",
       "    </tr>\n",
       "    <tr>\n",
       "      <th>min</th>\n",
       "      <td>24.141633</td>\n",
       "      <td>2.066726e+04</td>\n",
       "    </tr>\n",
       "    <tr>\n",
       "      <th>25%</th>\n",
       "      <td>1025.608174</td>\n",
       "      <td>1.077982e+05</td>\n",
       "    </tr>\n",
       "    <tr>\n",
       "      <th>50%</th>\n",
       "      <td>2194.220567</td>\n",
       "      <td>1.425944e+05</td>\n",
       "    </tr>\n",
       "    <tr>\n",
       "      <th>75%</th>\n",
       "      <td>4779.587738</td>\n",
       "      <td>1.955499e+05</td>\n",
       "    </tr>\n",
       "    <tr>\n",
       "      <th>max</th>\n",
       "      <td>401755.400475</td>\n",
       "      <td>2.265604e+06</td>\n",
       "    </tr>\n",
       "  </tbody>\n",
       "</table>\n",
       "</div>"
      ],
      "text/plain": [
       "       days_employed  total_income\n",
       "count   21525.000000  2.152500e+04\n",
       "mean    60378.032733  1.652253e+05\n",
       "std    133257.558514  9.804367e+04\n",
       "min        24.141633  2.066726e+04\n",
       "25%      1025.608174  1.077982e+05\n",
       "50%      2194.220567  1.425944e+05\n",
       "75%      4779.587738  1.955499e+05\n",
       "max    401755.400475  2.265604e+06"
      ]
     },
     "execution_count": 9,
     "metadata": {},
     "output_type": "execute_result"
    }
   ],
   "source": [
    "data[['days_employed','total_income']].describe()"
   ]
  },
  {
   "cell_type": "markdown",
   "id": "a0ff77db",
   "metadata": {},
   "source": [
    "Missing values in columns `'days_employed'` and `total_income'` columns.\n",
    "\n",
    " - Missings are possible if the client did not work and did not have income;\n",
    " - Missings could be formed due to the human factor.\n",
    "\n",
    "We use the median because it outliers independent.\n",
    "\n",
    "Replace the value \"20\" in the column \"children\" with the value \"2\" and \"-1\" with \"1\"."
   ]
  },
  {
   "cell_type": "code",
   "execution_count": 10,
   "id": "b8026c9e",
   "metadata": {},
   "outputs": [],
   "source": [
    "data['total_income'] = data['total_income'].astype(int)   # change data type from float to int\n",
    "data['days_employed'] = data['days_employed'].astype(int) # change data type from float to int\n",
    "\n",
    "data['education'] = data['education'].str.lower()         # remove upper letters\n",
    "# print(data['education'].unique())\n",
    "# print(data['education'].value_counts())\n",
    "\n",
    "data = data.drop_duplicates().reset_index(drop=True)      # remove duplicate lines\n",
    "# print(data.head())\n",
    "\n",
    "data['children'] = data['children'].replace(20, 2)        \n",
    "\n",
    "data['children'] = data['children'].replace(-1, 1)  "
   ]
  },
  {
   "cell_type": "code",
   "execution_count": 11,
   "id": "f1b8d38b",
   "metadata": {},
   "outputs": [
    {
     "data": {
      "text/plain": [
       "array([1, 0, 3, 2, 4, 5], dtype=int64)"
      ]
     },
     "execution_count": 11,
     "metadata": {},
     "output_type": "execute_result"
    }
   ],
   "source": [
    "data['children'].unique()"
   ]
  },
  {
   "cell_type": "markdown",
   "id": "052e9319",
   "metadata": {},
   "source": [
    "Found one line with the gender value - 'XNA' - most likely a missing. I don't know the real gender of the person. We will not use the value in the calculations."
   ]
  },
  {
   "cell_type": "code",
   "execution_count": 12,
   "id": "c752a13b",
   "metadata": {},
   "outputs": [
    {
     "data": {
      "text/plain": [
       "array(['F', 'M', 'XNA'], dtype=object)"
      ]
     },
     "execution_count": 12,
     "metadata": {},
     "output_type": "execute_result"
    }
   ],
   "source": [
    "data['gender'].unique()"
   ]
  },
  {
   "cell_type": "code",
   "execution_count": 13,
   "id": "232255bb",
   "metadata": {},
   "outputs": [],
   "source": [
    "data['debt_id'] = data['debt'].copy"
   ]
  },
  {
   "cell_type": "markdown",
   "id": "09cb2bd7",
   "metadata": {},
   "source": [
    "### Dataframes creation"
   ]
  },
  {
   "cell_type": "code",
   "execution_count": 14,
   "id": "5d5e1fad",
   "metadata": {},
   "outputs": [],
   "source": [
    "data_edu = data[['education_id','education']].copy()                           \n",
    "data_family = data[['family_status_id','family_status']].copy()               \n",
    "\n",
    "data_edu = data_edu.drop_duplicates()                                           # delete duplicates\n",
    "data_family = data_family.drop_duplicates()                                     # delete duplicates\n",
    "data.drop(columns = ['education'], axis = 1, inplace=True)                      # remove column 'education' from data\n",
    "data.drop(columns = ['family_status'], axis = 1, inplace=True)                  # remove column  'family_status' from data\n",
    "#print(data_edu)\n",
    "#print(data_family)"
   ]
  },
  {
   "cell_type": "markdown",
   "id": "6790245a",
   "metadata": {},
   "source": [
    "Creation column `'total_income_category'` with categories"
   ]
  },
  {
   "cell_type": "code",
   "execution_count": 15,
   "id": "8e58f967",
   "metadata": {},
   "outputs": [],
   "source": [
    "def get_total_income_category (total_income):             \n",
    "    if 0 <= total_income <= 30000:\n",
    "        return 'E до 30к'\n",
    "    elif 30001 <= total_income <= 50000:\n",
    "        return 'D до 50к'\n",
    "    elif 50001 <= total_income <= 200000:\n",
    "        return 'C до 200к'\n",
    "    elif 200001 <= total_income <= 1000000:\n",
    "        return 'B до 1кк'\n",
    "    else:\n",
    "        return 'A выше 1кк'\n",
    "\n",
    "data['total_income_category'] = data['total_income'].apply(get_total_income_category)  "
   ]
  },
  {
   "cell_type": "markdown",
   "id": "e3c57601",
   "metadata": {},
   "source": [
    "Creation column 'purpose_category' with categories"
   ]
  },
  {
   "cell_type": "code",
   "execution_count": 16,
   "id": "5a0ebf30",
   "metadata": {},
   "outputs": [],
   "source": [
    "def get_purpose_category(purpose):               # создаю функцию для категоризации столбца \"purpose\"\n",
    "    if 'авто' in purpose:\n",
    "        return 'операции с автомобилем'\n",
    "    elif 'свадь' in purpose:\n",
    "        return 'проведение свадьбы'\n",
    "    elif 'разован' in purpose:\n",
    "        return 'получение образования'\n",
    "    elif 'недвиж' or 'жиль' in purpose:\n",
    "        return 'операции с недвижимостью'\n",
    "    else:\n",
    "        return 'другая категория'\n",
    "\n",
    "data['purpose_category'] = data['purpose'].apply(get_purpose_category)"
   ]
  },
  {
   "cell_type": "markdown",
   "id": "4d285514",
   "metadata": {},
   "source": [
    "### Is there a relationship between the number of children and loan repayment on time?\n",
    "\n",
    "\n",
    "- No relationship was found. \n",
    "\n",
    "Sample is small. \n",
    "\n",
    "People take loans regardless of the number of children. \n",
    "\n",
    "In addition, it can be said for sure that the number of loans taken decreases with the increase in the number of children."
   ]
  },
  {
   "cell_type": "code",
   "execution_count": 17,
   "id": "b0600375",
   "metadata": {},
   "outputs": [
    {
     "name": "stdout",
     "output_type": "stream",
     "text": [
      "debt_id   <bound method NDFrame.copy of 0        0\\n1        0\\n2        0\\n3        0\\n4        0\\n        ..\\n21449    0\\n21450    0\\n21451    1\\n21452    1\\n21453    0\\nName: debt, Length: 21454, dtype: int64>\n",
      "children                                                                                                                                                                                                            \n",
      "0                                                     14091                                                                                                                                                         \n",
      "1                                                      4855                                                                                                                                                         \n",
      "2                                                      2128                                                                                                                                                         \n",
      "3                                                       330                                                                                                                                                         \n",
      "4                                                        41                                                                                                                                                         \n",
      "5                                                         9                                                                                                                                                         \n",
      "\n"
     ]
    },
    {
     "data": {
      "text/html": [
       "<div>\n",
       "<style scoped>\n",
       "    .dataframe tbody tr th:only-of-type {\n",
       "        vertical-align: middle;\n",
       "    }\n",
       "\n",
       "    .dataframe tbody tr th {\n",
       "        vertical-align: top;\n",
       "    }\n",
       "\n",
       "    .dataframe thead th {\n",
       "        text-align: right;\n",
       "    }\n",
       "</style>\n",
       "<table border=\"1\" class=\"dataframe\">\n",
       "  <thead>\n",
       "    <tr style=\"text-align: right;\">\n",
       "      <th></th>\n",
       "      <th>overal_borrower</th>\n",
       "      <th>debtor</th>\n",
       "      <th>%</th>\n",
       "    </tr>\n",
       "    <tr>\n",
       "      <th>children</th>\n",
       "      <th></th>\n",
       "      <th></th>\n",
       "      <th></th>\n",
       "    </tr>\n",
       "  </thead>\n",
       "  <tbody>\n",
       "    <tr>\n",
       "      <th>4</th>\n",
       "      <td>41</td>\n",
       "      <td>4</td>\n",
       "      <td>9.756098</td>\n",
       "    </tr>\n",
       "    <tr>\n",
       "      <th>2</th>\n",
       "      <td>2128</td>\n",
       "      <td>202</td>\n",
       "      <td>9.492481</td>\n",
       "    </tr>\n",
       "    <tr>\n",
       "      <th>1</th>\n",
       "      <td>4855</td>\n",
       "      <td>445</td>\n",
       "      <td>9.165808</td>\n",
       "    </tr>\n",
       "    <tr>\n",
       "      <th>3</th>\n",
       "      <td>330</td>\n",
       "      <td>27</td>\n",
       "      <td>8.181818</td>\n",
       "    </tr>\n",
       "    <tr>\n",
       "      <th>0</th>\n",
       "      <td>14091</td>\n",
       "      <td>1063</td>\n",
       "      <td>7.543822</td>\n",
       "    </tr>\n",
       "    <tr>\n",
       "      <th>5</th>\n",
       "      <td>9</td>\n",
       "      <td>0</td>\n",
       "      <td>0.000000</td>\n",
       "    </tr>\n",
       "  </tbody>\n",
       "</table>\n",
       "</div>"
      ],
      "text/plain": [
       "          overal_borrower  debtor         %\n",
       "children                                   \n",
       "4                      41       4  9.756098\n",
       "2                    2128     202  9.492481\n",
       "1                    4855     445  9.165808\n",
       "3                     330      27  8.181818\n",
       "0                   14091    1063  7.543822\n",
       "5                       9       0  0.000000"
      ]
     },
     "metadata": {},
     "output_type": "display_data"
    }
   ],
   "source": [
    "data_pivot = data.pivot_table(index='children', columns='debt_id', values='debt', aggfunc='count') \n",
    "print(data_pivot)\n",
    "print()\n",
    "children_debt = pd.DataFrame() \n",
    "children_debt['overal_borrower'] = data.groupby('children')['debt'].count() \n",
    "children_debt['debtor'] = data.groupby('children')['debt'].sum() \n",
    "children_debt['%'] = (children_debt['debtor'] / children_debt['overal_borrower'])* 100\n",
    "children_debt = children_debt.sort_values(by='%',ascending=False)\n",
    "\n",
    "display(children_debt[['overal_borrower','debtor','%']])"
   ]
  },
  {
   "cell_type": "code",
   "execution_count": 18,
   "id": "7e483356",
   "metadata": {},
   "outputs": [
    {
     "data": {
      "text/html": [
       "<div>\n",
       "<style scoped>\n",
       "    .dataframe tbody tr th:only-of-type {\n",
       "        vertical-align: middle;\n",
       "    }\n",
       "\n",
       "    .dataframe tbody tr th {\n",
       "        vertical-align: top;\n",
       "    }\n",
       "\n",
       "    .dataframe thead th {\n",
       "        text-align: right;\n",
       "    }\n",
       "</style>\n",
       "<table border=\"1\" class=\"dataframe\">\n",
       "  <thead>\n",
       "    <tr style=\"text-align: right;\">\n",
       "      <th></th>\n",
       "      <th>debt</th>\n",
       "    </tr>\n",
       "    <tr>\n",
       "      <th>children</th>\n",
       "      <th></th>\n",
       "    </tr>\n",
       "  </thead>\n",
       "  <tbody>\n",
       "    <tr>\n",
       "      <th>0</th>\n",
       "      <td>7.543822</td>\n",
       "    </tr>\n",
       "    <tr>\n",
       "      <th>1</th>\n",
       "      <td>9.165808</td>\n",
       "    </tr>\n",
       "    <tr>\n",
       "      <th>2</th>\n",
       "      <td>9.492481</td>\n",
       "    </tr>\n",
       "    <tr>\n",
       "      <th>3</th>\n",
       "      <td>8.181818</td>\n",
       "    </tr>\n",
       "    <tr>\n",
       "      <th>4</th>\n",
       "      <td>9.756098</td>\n",
       "    </tr>\n",
       "    <tr>\n",
       "      <th>5</th>\n",
       "      <td>0.000000</td>\n",
       "    </tr>\n",
       "  </tbody>\n",
       "</table>\n",
       "</div>"
      ],
      "text/plain": [
       "              debt\n",
       "children          \n",
       "0         7.543822\n",
       "1         9.165808\n",
       "2         9.492481\n",
       "3         8.181818\n",
       "4         9.756098\n",
       "5         0.000000"
      ]
     },
     "execution_count": 18,
     "metadata": {},
     "output_type": "execute_result"
    }
   ],
   "source": [
    "data.pivot_table(index='children', values='debt') * 100"
   ]
  },
  {
   "cell_type": "markdown",
   "id": "54cc89b2",
   "metadata": {},
   "source": [
    "### Is there a relationship between marital status and loan repayment on time?\n",
    "\n",
    "In general, yes, there is a dependence. Unmarried people have a higher percentage of late deadlines.\n",
    "\n",
    "But those who are divorced or widowed are more likely to pay on time than people who are married. Also, if we divide people into just two categories \"married\" and \"unmarried\", then we will see that the \"debtor / overal_borrower\" ratio is greater in unmarried people.\n",
    "\n",
    "This means that they remain in debt more often."
   ]
  },
  {
   "cell_type": "code",
   "execution_count": 19,
   "id": "331ff6d0",
   "metadata": {},
   "outputs": [
    {
     "name": "stdout",
     "output_type": "stream",
     "text": [
      "debt_id           <bound method NDFrame.copy of 0        0\\n1        0\\n2        0\\n3        0\\n4        0\\n        ..\\n21449    0\\n21450    0\\n21451    1\\n21452    1\\n21453    0\\nName: debt, Length: 21454, dtype: int64>\n",
      "family_status_id                                                                                                                                                                                                            \n",
      "0                                                             12339                                                                                                                                                         \n",
      "1                                                              4151                                                                                                                                                         \n",
      "2                                                               959                                                                                                                                                         \n",
      "3                                                              1195                                                                                                                                                         \n",
      "4                                                              2810                                                                                                                                                         \n",
      "                  debtor  overal_borrower         %\n",
      "family_status_id                                   \n",
      "0                    931            12339  7.545182\n",
      "1                    388             4151  9.347145\n",
      "2                     63              959  6.569343\n",
      "3                     85             1195  7.112971\n",
      "4                    274             2810  9.750890\n"
     ]
    }
   ],
   "source": [
    "data_pivot1 = data.pivot_table(index='family_status_id', columns='debt_id', values='debt', aggfunc='count')\n",
    "print(data_pivot1)\n",
    "\n",
    "family_debt = pd.DataFrame()\n",
    "family_debt['debtor'] = data.groupby('family_status_id')['debt'].sum() \n",
    "family_debt['overal_borrower'] = data.groupby('family_status_id')['debt'].count() \n",
    "family_debt['%'] = (family_debt['debtor'] / family_debt['overal_borrower']) * 100 \n",
    "\n",
    "print(family_debt[['debtor','overal_borrower','%']])"
   ]
  },
  {
   "cell_type": "code",
   "execution_count": 20,
   "id": "3ab83052",
   "metadata": {},
   "outputs": [
    {
     "data": {
      "text/html": [
       "<div>\n",
       "<style scoped>\n",
       "    .dataframe tbody tr th:only-of-type {\n",
       "        vertical-align: middle;\n",
       "    }\n",
       "\n",
       "    .dataframe tbody tr th {\n",
       "        vertical-align: top;\n",
       "    }\n",
       "\n",
       "    .dataframe thead th {\n",
       "        text-align: right;\n",
       "    }\n",
       "</style>\n",
       "<table border=\"1\" class=\"dataframe\">\n",
       "  <thead>\n",
       "    <tr style=\"text-align: right;\">\n",
       "      <th></th>\n",
       "      <th>debtor</th>\n",
       "      <th>overal_borrower</th>\n",
       "      <th>%</th>\n",
       "    </tr>\n",
       "    <tr>\n",
       "      <th>family_status_id</th>\n",
       "      <th></th>\n",
       "      <th></th>\n",
       "      <th></th>\n",
       "    </tr>\n",
       "  </thead>\n",
       "  <tbody>\n",
       "    <tr>\n",
       "      <th>0</th>\n",
       "      <td>931</td>\n",
       "      <td>12339</td>\n",
       "      <td>7.545182</td>\n",
       "    </tr>\n",
       "    <tr>\n",
       "      <th>1</th>\n",
       "      <td>388</td>\n",
       "      <td>4151</td>\n",
       "      <td>9.347145</td>\n",
       "    </tr>\n",
       "    <tr>\n",
       "      <th>2</th>\n",
       "      <td>63</td>\n",
       "      <td>959</td>\n",
       "      <td>6.569343</td>\n",
       "    </tr>\n",
       "    <tr>\n",
       "      <th>3</th>\n",
       "      <td>85</td>\n",
       "      <td>1195</td>\n",
       "      <td>7.112971</td>\n",
       "    </tr>\n",
       "    <tr>\n",
       "      <th>4</th>\n",
       "      <td>274</td>\n",
       "      <td>2810</td>\n",
       "      <td>9.750890</td>\n",
       "    </tr>\n",
       "  </tbody>\n",
       "</table>\n",
       "</div>"
      ],
      "text/plain": [
       "                  debtor  overal_borrower         %\n",
       "family_status_id                                   \n",
       "0                    931            12339  7.545182\n",
       "1                    388             4151  9.347145\n",
       "2                     63              959  6.569343\n",
       "3                     85             1195  7.112971\n",
       "4                    274             2810  9.750890"
      ]
     },
     "execution_count": 20,
     "metadata": {},
     "output_type": "execute_result"
    }
   ],
   "source": [
    "family_debt"
   ]
  },
  {
   "cell_type": "markdown",
   "id": "3511e30f",
   "metadata": {},
   "source": [
    "### Is there a relationship between income level and loan repayment on time?\n",
    "\n",
    "- No dependency found. \n",
    "\n",
    "People in the category \"C\" and \"B\" take loans more often than others. Repay debts more often people in category \"D\"."
   ]
  },
  {
   "cell_type": "code",
   "execution_count": 21,
   "id": "08b8cac9",
   "metadata": {},
   "outputs": [
    {
     "name": "stdout",
     "output_type": "stream",
     "text": [
      "debt_id                <bound method NDFrame.copy of 0        0\\n1        0\\n2        0\\n3        0\\n4        0\\n        ..\\n21449    0\\n21450    0\\n21451    1\\n21452    1\\n21453    0\\nName: debt, Length: 21454, dtype: int64>\n",
      "total_income_category                                                                                                                                                                                                            \n",
      "A выше 1кк                                                            25                                                                                                                                                         \n",
      "B до 1кк                                                            5042                                                                                                                                                         \n",
      "C до 200к                                                          16015                                                                                                                                                         \n",
      "D до 50к                                                             350                                                                                                                                                         \n",
      "E до 30к                                                              22                                                                                                                                                         \n",
      "\n",
      "                       debtor  overal_borrower         %\n",
      "total_income_category                                   \n",
      "E до 30к                    2               22  9.090909\n",
      "C до 200к                1360            16015  8.492039\n",
      "A выше 1кк                  2               25  8.000000\n",
      "B до 1кк                  356             5042  7.060690\n",
      "D до 50к                   21              350  6.000000\n"
     ]
    }
   ],
   "source": [
    "data_pivot_level_income = data.pivot_table(index='total_income_category', columns='debt_id',values='debt',aggfunc='count')\n",
    "print(data_pivot_level_income)\n",
    "print()\n",
    "\n",
    "income_debt = pd.DataFrame()\n",
    "income_debt['debtor'] = data.groupby('total_income_category')['debt'].sum() \n",
    "income_debt['overal_borrower'] = data.groupby('total_income_category')['debt'].count() \n",
    "income_debt['%'] = (income_debt['debtor'] / income_debt['overal_borrower']) * 100 \n",
    "income_debt = income_debt.sort_values(by='%', ascending=False) \n",
    "\n",
    "print(income_debt[['debtor','overal_borrower','%']])"
   ]
  },
  {
   "cell_type": "code",
   "execution_count": 22,
   "id": "6b139f3f",
   "metadata": {},
   "outputs": [
    {
     "data": {
      "text/html": [
       "<div>\n",
       "<style scoped>\n",
       "    .dataframe tbody tr th:only-of-type {\n",
       "        vertical-align: middle;\n",
       "    }\n",
       "\n",
       "    .dataframe tbody tr th {\n",
       "        vertical-align: top;\n",
       "    }\n",
       "\n",
       "    .dataframe thead th {\n",
       "        text-align: right;\n",
       "    }\n",
       "</style>\n",
       "<table border=\"1\" class=\"dataframe\">\n",
       "  <thead>\n",
       "    <tr style=\"text-align: right;\">\n",
       "      <th></th>\n",
       "      <th>debtor</th>\n",
       "      <th>overal_borrower</th>\n",
       "      <th>%</th>\n",
       "    </tr>\n",
       "    <tr>\n",
       "      <th>total_income_category</th>\n",
       "      <th></th>\n",
       "      <th></th>\n",
       "      <th></th>\n",
       "    </tr>\n",
       "  </thead>\n",
       "  <tbody>\n",
       "    <tr>\n",
       "      <th>E до 30к</th>\n",
       "      <td>2</td>\n",
       "      <td>22</td>\n",
       "      <td>9.090909</td>\n",
       "    </tr>\n",
       "    <tr>\n",
       "      <th>C до 200к</th>\n",
       "      <td>1360</td>\n",
       "      <td>16015</td>\n",
       "      <td>8.492039</td>\n",
       "    </tr>\n",
       "    <tr>\n",
       "      <th>A выше 1кк</th>\n",
       "      <td>2</td>\n",
       "      <td>25</td>\n",
       "      <td>8.000000</td>\n",
       "    </tr>\n",
       "    <tr>\n",
       "      <th>B до 1кк</th>\n",
       "      <td>356</td>\n",
       "      <td>5042</td>\n",
       "      <td>7.060690</td>\n",
       "    </tr>\n",
       "    <tr>\n",
       "      <th>D до 50к</th>\n",
       "      <td>21</td>\n",
       "      <td>350</td>\n",
       "      <td>6.000000</td>\n",
       "    </tr>\n",
       "  </tbody>\n",
       "</table>\n",
       "</div>"
      ],
      "text/plain": [
       "                       debtor  overal_borrower         %\n",
       "total_income_category                                   \n",
       "E до 30к                    2               22  9.090909\n",
       "C до 200к                1360            16015  8.492039\n",
       "A выше 1кк                  2               25  8.000000\n",
       "B до 1кк                  356             5042  7.060690\n",
       "D до 50к                   21              350  6.000000"
      ]
     },
     "execution_count": 22,
     "metadata": {},
     "output_type": "execute_result"
    }
   ],
   "source": [
    "income_debt"
   ]
  },
  {
   "cell_type": "markdown",
   "id": "cda60046",
   "metadata": {},
   "source": [
    "### How do different purposes of a loan affect its repayment on time?\n",
    "\n",
    "- No specific relationship found.\n",
    "\n",
    "People pay on time for the purpose of a loan to buy real estate. Often the debt is overdue for those who need a loan for a car\n",
    "and education. Loans for a wedding overstay less often - about the same as in the case of real estate. "
   ]
  },
  {
   "cell_type": "code",
   "execution_count": 23,
   "id": "9588f585",
   "metadata": {},
   "outputs": [
    {
     "name": "stdout",
     "output_type": "stream",
     "text": [
      "debt_id                   <bound method NDFrame.copy of 0        0\\n1        0\\n2        0\\n3        0\\n4        0\\n        ..\\n21449    0\\n21450    0\\n21451    1\\n21452    1\\n21453    0\\nName: debt, Length: 21454, dtype: int64>\n",
      "purpose_category                                                                                                                                                                                                                    \n",
      "операции с автомобилем                                                 4306                                                                                                                                                         \n",
      "операции с недвижимостью                                              10811                                                                                                                                                         \n",
      "получение образования                                                  4013                                                                                                                                                         \n",
      "проведение свадьбы                                                     2324                                                                                                                                                         \n",
      "                          debtor  overal_borrower         %\n",
      "purpose_category                                           \n",
      "операции с автомобилем       403             4306  9.359034\n",
      "получение образования        370             4013  9.220035\n",
      "проведение свадьбы           186             2324  8.003442\n",
      "операции с недвижимостью     782            10811  7.233373\n"
     ]
    }
   ],
   "source": [
    "data_pivot_purpose = data.pivot_table(index='purpose_category', columns='debt_id',values='debt',aggfunc='count')\n",
    "print(data_pivot_purpose)\n",
    "\n",
    "purpose_debt = pd.DataFrame()\n",
    "purpose_debt['debtor'] = data.groupby('purpose_category')['debt'].sum()\n",
    "purpose_debt['overal_borrower'] = data.groupby('purpose_category')['debt'].count()\n",
    "purpose_debt['%'] = (purpose_debt['debtor'] / purpose_debt['overal_borrower'] ) * 100 \n",
    "purpose_debt = purpose_debt.sort_values(by='%', ascending=False)\n",
    "\n",
    "print(purpose_debt[['debtor','overal_borrower','%']])"
   ]
  },
  {
   "cell_type": "code",
   "execution_count": 24,
   "id": "03453021",
   "metadata": {},
   "outputs": [
    {
     "data": {
      "text/html": [
       "<div>\n",
       "<style scoped>\n",
       "    .dataframe tbody tr th:only-of-type {\n",
       "        vertical-align: middle;\n",
       "    }\n",
       "\n",
       "    .dataframe tbody tr th {\n",
       "        vertical-align: top;\n",
       "    }\n",
       "\n",
       "    .dataframe thead th {\n",
       "        text-align: right;\n",
       "    }\n",
       "</style>\n",
       "<table border=\"1\" class=\"dataframe\">\n",
       "  <thead>\n",
       "    <tr style=\"text-align: right;\">\n",
       "      <th></th>\n",
       "      <th>debtor</th>\n",
       "      <th>overal_borrower</th>\n",
       "      <th>%</th>\n",
       "    </tr>\n",
       "    <tr>\n",
       "      <th>purpose_category</th>\n",
       "      <th></th>\n",
       "      <th></th>\n",
       "      <th></th>\n",
       "    </tr>\n",
       "  </thead>\n",
       "  <tbody>\n",
       "    <tr>\n",
       "      <th>операции с автомобилем</th>\n",
       "      <td>403</td>\n",
       "      <td>4306</td>\n",
       "      <td>9.359034</td>\n",
       "    </tr>\n",
       "    <tr>\n",
       "      <th>получение образования</th>\n",
       "      <td>370</td>\n",
       "      <td>4013</td>\n",
       "      <td>9.220035</td>\n",
       "    </tr>\n",
       "    <tr>\n",
       "      <th>проведение свадьбы</th>\n",
       "      <td>186</td>\n",
       "      <td>2324</td>\n",
       "      <td>8.003442</td>\n",
       "    </tr>\n",
       "    <tr>\n",
       "      <th>операции с недвижимостью</th>\n",
       "      <td>782</td>\n",
       "      <td>10811</td>\n",
       "      <td>7.233373</td>\n",
       "    </tr>\n",
       "  </tbody>\n",
       "</table>\n",
       "</div>"
      ],
      "text/plain": [
       "                          debtor  overal_borrower         %\n",
       "purpose_category                                           \n",
       "операции с автомобилем       403             4306  9.359034\n",
       "получение образования        370             4013  9.220035\n",
       "проведение свадьбы           186             2324  8.003442\n",
       "операции с недвижимостью     782            10811  7.233373"
      ]
     },
     "execution_count": 24,
     "metadata": {},
     "output_type": "execute_result"
    }
   ],
   "source": [
    "purpose_debt"
   ]
  },
  {
   "cell_type": "markdown",
   "id": "6b8bb1c8",
   "metadata": {},
   "source": [
    "# Conclusion\n",
    "\n",
    "\n",
    "\n",
    "The data has been well researched. Duplicate has been removed. The average gaps in the `\"days_employed\"` and `\"total_income\"` columns are about 10%. No missings were found in the rest of the data. From the `'days_employed'` column anomalies in the form of \"-\" signs were excluded and the missings were filled with the median value. Exactly the same operation was done with the data `'total_income'` column. Only the median value was weighted by the `'income_type'` column.\n",
    "\n",
    "\n",
    "\n",
    "- marital status affects the likelihood of loan payments on time. 9,75% of debtors from the \"not married\" category. People who have been married are more likely to dance on time than those who have not been married. Divorced and widowed people pay on time more often than married people. \n",
    "\n",
    "- The more children, the more often they pay late. Childless people are less likely to overpay. Larger number of debtors in the category of having 4 children where 10% of debtors.\n",
    "  \n",
    "- People pay on time for the purpose of a loan to buy real estate. Often the debt is overdue for those who need a loan for a car and education. Loans for a wedding overstay less often - about the same as in the case of real estate. Most debtors take out a car loan.\n",
    "  \n",
    "- People in the category \"C\" and \"B\" take loans more often than others. Repay debts more often people in category \"D\". Most debtors earn up to 30k - 9%."
   ]
  }
 ],
 "metadata": {
  "ExecuteTimeLog": [
   {
    "duration": 518,
    "start_time": "2022-05-21T23:21:45.186Z"
   },
   {
    "duration": 0,
    "start_time": "2022-05-21T23:21:45.706Z"
   },
   {
    "duration": 0,
    "start_time": "2022-05-21T23:21:45.706Z"
   },
   {
    "duration": 0,
    "start_time": "2022-05-21T23:21:45.708Z"
   },
   {
    "duration": 0,
    "start_time": "2022-05-21T23:21:45.708Z"
   },
   {
    "duration": 0,
    "start_time": "2022-05-21T23:21:45.709Z"
   },
   {
    "duration": 0,
    "start_time": "2022-05-21T23:21:45.710Z"
   },
   {
    "duration": 0,
    "start_time": "2022-05-21T23:21:45.711Z"
   },
   {
    "duration": 0,
    "start_time": "2022-05-21T23:21:45.712Z"
   },
   {
    "duration": 0,
    "start_time": "2022-05-21T23:21:45.714Z"
   },
   {
    "duration": 0,
    "start_time": "2022-05-21T23:21:45.714Z"
   },
   {
    "duration": 590,
    "start_time": "2022-05-22T19:53:49.446Z"
   },
   {
    "duration": 77,
    "start_time": "2022-05-22T19:53:51.455Z"
   },
   {
    "duration": 414,
    "start_time": "2022-05-22T19:54:01.479Z"
   },
   {
    "duration": 92,
    "start_time": "2022-05-22T19:54:01.895Z"
   },
   {
    "duration": 0,
    "start_time": "2022-05-22T19:54:01.989Z"
   },
   {
    "duration": 0,
    "start_time": "2022-05-22T19:54:01.990Z"
   },
   {
    "duration": 0,
    "start_time": "2022-05-22T19:54:01.992Z"
   },
   {
    "duration": 0,
    "start_time": "2022-05-22T19:54:01.992Z"
   },
   {
    "duration": 0,
    "start_time": "2022-05-22T19:54:01.993Z"
   },
   {
    "duration": 0,
    "start_time": "2022-05-22T19:54:01.995Z"
   },
   {
    "duration": 0,
    "start_time": "2022-05-22T19:54:01.996Z"
   },
   {
    "duration": 0,
    "start_time": "2022-05-22T19:54:01.997Z"
   },
   {
    "duration": 0,
    "start_time": "2022-05-22T19:54:01.998Z"
   },
   {
    "duration": 0,
    "start_time": "2022-05-22T19:54:01.999Z"
   },
   {
    "duration": 0,
    "start_time": "2022-05-22T19:54:02.000Z"
   },
   {
    "duration": 435,
    "start_time": "2022-05-23T12:40:10.957Z"
   },
   {
    "duration": 37,
    "start_time": "2022-05-25T18:47:01.327Z"
   },
   {
    "duration": 51,
    "start_time": "2022-05-25T18:54:23.840Z"
   },
   {
    "duration": 419,
    "start_time": "2022-05-25T18:54:47.709Z"
   },
   {
    "duration": 56,
    "start_time": "2022-05-25T18:54:48.130Z"
   },
   {
    "duration": 3,
    "start_time": "2022-05-25T18:54:48.188Z"
   },
   {
    "duration": 12,
    "start_time": "2022-05-25T18:54:48.192Z"
   },
   {
    "duration": 3,
    "start_time": "2022-05-25T18:54:48.213Z"
   },
   {
    "duration": 48,
    "start_time": "2022-05-25T18:54:48.217Z"
   },
   {
    "duration": 7,
    "start_time": "2022-05-25T18:54:48.267Z"
   },
   {
    "duration": 15,
    "start_time": "2022-05-25T18:54:48.276Z"
   },
   {
    "duration": 12,
    "start_time": "2022-05-25T18:54:48.293Z"
   },
   {
    "duration": 31,
    "start_time": "2022-05-25T18:54:48.306Z"
   },
   {
    "duration": 27,
    "start_time": "2022-05-25T18:54:48.338Z"
   },
   {
    "duration": 23,
    "start_time": "2022-05-25T18:54:48.366Z"
   },
   {
    "duration": 45,
    "start_time": "2022-05-25T18:54:48.390Z"
   },
   {
    "duration": 61,
    "start_time": "2022-05-25T18:56:36.576Z"
   },
   {
    "duration": 15,
    "start_time": "2022-05-25T19:05:08.437Z"
   },
   {
    "duration": 18,
    "start_time": "2022-05-25T19:05:27.695Z"
   },
   {
    "duration": 38,
    "start_time": "2022-05-25T19:07:31.852Z"
   },
   {
    "duration": 761,
    "start_time": "2022-05-25T19:07:55.481Z"
   },
   {
    "duration": 18,
    "start_time": "2022-05-25T19:08:09.473Z"
   },
   {
    "duration": 17,
    "start_time": "2022-05-25T19:08:57.441Z"
   },
   {
    "duration": 16,
    "start_time": "2022-05-25T19:09:07.478Z"
   },
   {
    "duration": 18,
    "start_time": "2022-05-25T19:09:24.369Z"
   },
   {
    "duration": 15,
    "start_time": "2022-05-25T19:09:31.166Z"
   },
   {
    "duration": 14,
    "start_time": "2022-05-25T19:10:03.184Z"
   },
   {
    "duration": 16,
    "start_time": "2022-05-25T19:10:18.041Z"
   },
   {
    "duration": 6,
    "start_time": "2022-05-25T19:10:34.664Z"
   },
   {
    "duration": 5,
    "start_time": "2022-05-25T19:10:46.529Z"
   },
   {
    "duration": 6,
    "start_time": "2022-05-25T19:10:53.121Z"
   },
   {
    "duration": 6,
    "start_time": "2022-05-25T19:11:05.049Z"
   },
   {
    "duration": 4,
    "start_time": "2022-05-25T19:11:21.802Z"
   },
   {
    "duration": 4,
    "start_time": "2022-05-25T19:11:33.537Z"
   },
   {
    "duration": 6,
    "start_time": "2022-05-25T19:11:36.355Z"
   },
   {
    "duration": 5,
    "start_time": "2022-05-25T19:11:38.929Z"
   },
   {
    "duration": 449,
    "start_time": "2022-05-25T19:12:12.492Z"
   },
   {
    "duration": 59,
    "start_time": "2022-05-25T19:12:12.943Z"
   },
   {
    "duration": 10,
    "start_time": "2022-05-25T19:12:13.003Z"
   },
   {
    "duration": 22,
    "start_time": "2022-05-25T19:12:13.014Z"
   },
   {
    "duration": 21,
    "start_time": "2022-05-25T19:12:13.038Z"
   },
   {
    "duration": 5,
    "start_time": "2022-05-25T19:12:13.060Z"
   },
   {
    "duration": 11,
    "start_time": "2022-05-25T19:12:13.067Z"
   },
   {
    "duration": 41,
    "start_time": "2022-05-25T19:12:13.079Z"
   },
   {
    "duration": 4,
    "start_time": "2022-05-25T19:12:13.121Z"
   },
   {
    "duration": 38,
    "start_time": "2022-05-25T19:12:13.127Z"
   },
   {
    "duration": 12,
    "start_time": "2022-05-25T19:12:13.167Z"
   },
   {
    "duration": 38,
    "start_time": "2022-05-25T19:12:13.181Z"
   },
   {
    "duration": 13,
    "start_time": "2022-05-25T19:12:13.221Z"
   },
   {
    "duration": 30,
    "start_time": "2022-05-25T19:12:13.236Z"
   },
   {
    "duration": 45,
    "start_time": "2022-05-25T19:12:13.268Z"
   },
   {
    "duration": 26,
    "start_time": "2022-05-25T19:12:13.315Z"
   },
   {
    "duration": 28,
    "start_time": "2022-05-25T19:12:13.342Z"
   },
   {
    "duration": 5,
    "start_time": "2022-05-25T19:12:27.495Z"
   },
   {
    "duration": 434,
    "start_time": "2022-05-25T19:12:39.780Z"
   },
   {
    "duration": 60,
    "start_time": "2022-05-25T19:12:40.217Z"
   },
   {
    "duration": 3,
    "start_time": "2022-05-25T19:12:40.279Z"
   },
   {
    "duration": 34,
    "start_time": "2022-05-25T19:12:40.284Z"
   },
   {
    "duration": 26,
    "start_time": "2022-05-25T19:12:40.322Z"
   },
   {
    "duration": 7,
    "start_time": "2022-05-25T19:12:40.350Z"
   },
   {
    "duration": 8,
    "start_time": "2022-05-25T19:12:40.359Z"
   },
   {
    "duration": 43,
    "start_time": "2022-05-25T19:12:40.369Z"
   },
   {
    "duration": 16,
    "start_time": "2022-05-25T19:12:40.414Z"
   },
   {
    "duration": 40,
    "start_time": "2022-05-25T19:12:40.433Z"
   },
   {
    "duration": 7,
    "start_time": "2022-05-25T19:12:40.475Z"
   },
   {
    "duration": 13,
    "start_time": "2022-05-25T19:12:40.483Z"
   },
   {
    "duration": 17,
    "start_time": "2022-05-25T19:12:40.511Z"
   },
   {
    "duration": 52,
    "start_time": "2022-05-25T19:12:40.532Z"
   },
   {
    "duration": 27,
    "start_time": "2022-05-25T19:12:40.585Z"
   },
   {
    "duration": 29,
    "start_time": "2022-05-25T19:12:40.614Z"
   },
   {
    "duration": 34,
    "start_time": "2022-05-25T19:12:40.645Z"
   },
   {
    "duration": 7,
    "start_time": "2022-05-25T19:13:08.426Z"
   },
   {
    "duration": 4,
    "start_time": "2022-05-25T19:13:10.706Z"
   },
   {
    "duration": 462,
    "start_time": "2022-05-25T19:14:08.093Z"
   },
   {
    "duration": 65,
    "start_time": "2022-05-25T19:14:08.557Z"
   },
   {
    "duration": 3,
    "start_time": "2022-05-25T19:14:08.624Z"
   },
   {
    "duration": 20,
    "start_time": "2022-05-25T19:14:08.628Z"
   },
   {
    "duration": 21,
    "start_time": "2022-05-25T19:14:08.650Z"
   },
   {
    "duration": 5,
    "start_time": "2022-05-25T19:14:08.672Z"
   },
   {
    "duration": 38,
    "start_time": "2022-05-25T19:14:08.678Z"
   },
   {
    "duration": 16,
    "start_time": "2022-05-25T19:14:08.717Z"
   },
   {
    "duration": 3,
    "start_time": "2022-05-25T19:14:08.735Z"
   },
   {
    "duration": 37,
    "start_time": "2022-05-25T19:14:08.739Z"
   },
   {
    "duration": 7,
    "start_time": "2022-05-25T19:14:08.813Z"
   },
   {
    "duration": 10,
    "start_time": "2022-05-25T19:14:08.822Z"
   },
   {
    "duration": 10,
    "start_time": "2022-05-25T19:14:08.834Z"
   },
   {
    "duration": 31,
    "start_time": "2022-05-25T19:14:08.846Z"
   },
   {
    "duration": 60,
    "start_time": "2022-05-25T19:14:08.878Z"
   },
   {
    "duration": 27,
    "start_time": "2022-05-25T19:14:08.939Z"
   },
   {
    "duration": 56,
    "start_time": "2022-05-25T19:14:08.968Z"
   },
   {
    "duration": 4,
    "start_time": "2022-05-25T19:14:30.255Z"
   },
   {
    "duration": 5,
    "start_time": "2022-05-25T19:14:44.630Z"
   },
   {
    "duration": 6,
    "start_time": "2022-05-25T19:14:47.895Z"
   },
   {
    "duration": 11,
    "start_time": "2022-05-25T19:15:22.707Z"
   },
   {
    "duration": 430,
    "start_time": "2022-05-25T19:15:33.459Z"
   },
   {
    "duration": 62,
    "start_time": "2022-05-25T19:15:33.890Z"
   },
   {
    "duration": 4,
    "start_time": "2022-05-25T19:15:33.954Z"
   },
   {
    "duration": 18,
    "start_time": "2022-05-25T19:15:33.960Z"
   },
   {
    "duration": 19,
    "start_time": "2022-05-25T19:15:33.979Z"
   },
   {
    "duration": 16,
    "start_time": "2022-05-25T19:15:33.999Z"
   },
   {
    "duration": 7,
    "start_time": "2022-05-25T19:15:34.016Z"
   },
   {
    "duration": 14,
    "start_time": "2022-05-25T19:15:34.025Z"
   },
   {
    "duration": 3,
    "start_time": "2022-05-25T19:15:34.040Z"
   },
   {
    "duration": 69,
    "start_time": "2022-05-25T19:15:34.045Z"
   },
   {
    "duration": 8,
    "start_time": "2022-05-25T19:15:34.115Z"
   },
   {
    "duration": 12,
    "start_time": "2022-05-25T19:15:34.124Z"
   },
   {
    "duration": 29,
    "start_time": "2022-05-25T19:15:34.138Z"
   },
   {
    "duration": 42,
    "start_time": "2022-05-25T19:15:34.170Z"
   },
   {
    "duration": 24,
    "start_time": "2022-05-25T19:15:34.214Z"
   },
   {
    "duration": 31,
    "start_time": "2022-05-25T19:15:34.239Z"
   },
   {
    "duration": 39,
    "start_time": "2022-05-25T19:15:34.272Z"
   },
   {
    "duration": 8,
    "start_time": "2022-05-25T19:18:11.786Z"
   },
   {
    "duration": 14,
    "start_time": "2022-05-25T19:18:16.211Z"
   },
   {
    "duration": 440,
    "start_time": "2022-05-25T19:18:47.385Z"
   },
   {
    "duration": 57,
    "start_time": "2022-05-25T19:18:47.826Z"
   },
   {
    "duration": 3,
    "start_time": "2022-05-25T19:18:47.884Z"
   },
   {
    "duration": 24,
    "start_time": "2022-05-25T19:18:47.889Z"
   },
   {
    "duration": 19,
    "start_time": "2022-05-25T19:18:47.915Z"
   },
   {
    "duration": 8,
    "start_time": "2022-05-25T19:18:47.935Z"
   },
   {
    "duration": 15,
    "start_time": "2022-05-25T19:18:47.945Z"
   },
   {
    "duration": 3,
    "start_time": "2022-05-25T19:18:47.961Z"
   },
   {
    "duration": 70,
    "start_time": "2022-05-25T19:18:47.966Z"
   },
   {
    "duration": 7,
    "start_time": "2022-05-25T19:18:48.038Z"
   },
   {
    "duration": 14,
    "start_time": "2022-05-25T19:18:48.047Z"
   },
   {
    "duration": 13,
    "start_time": "2022-05-25T19:18:48.062Z"
   },
   {
    "duration": 46,
    "start_time": "2022-05-25T19:18:48.077Z"
   },
   {
    "duration": 25,
    "start_time": "2022-05-25T19:18:48.125Z"
   },
   {
    "duration": 25,
    "start_time": "2022-05-25T19:18:48.152Z"
   },
   {
    "duration": 49,
    "start_time": "2022-05-25T19:18:48.178Z"
   },
   {
    "duration": 7,
    "start_time": "2022-05-25T19:19:18.609Z"
   },
   {
    "duration": 14,
    "start_time": "2022-05-25T19:19:20.418Z"
   },
   {
    "duration": 434,
    "start_time": "2022-05-25T19:20:30.927Z"
   },
   {
    "duration": 60,
    "start_time": "2022-05-25T19:20:31.363Z"
   },
   {
    "duration": 3,
    "start_time": "2022-05-25T19:20:31.425Z"
   },
   {
    "duration": 23,
    "start_time": "2022-05-25T19:20:31.430Z"
   },
   {
    "duration": 38,
    "start_time": "2022-05-25T19:20:31.456Z"
   },
   {
    "duration": 21,
    "start_time": "2022-05-25T19:20:31.495Z"
   },
   {
    "duration": 35,
    "start_time": "2022-05-25T19:20:31.518Z"
   },
   {
    "duration": 3,
    "start_time": "2022-05-25T19:20:31.555Z"
   },
   {
    "duration": 52,
    "start_time": "2022-05-25T19:20:31.560Z"
   },
   {
    "duration": 11,
    "start_time": "2022-05-25T19:20:31.614Z"
   },
   {
    "duration": 24,
    "start_time": "2022-05-25T19:20:31.627Z"
   },
   {
    "duration": 17,
    "start_time": "2022-05-25T19:20:31.653Z"
   },
   {
    "duration": 41,
    "start_time": "2022-05-25T19:20:31.672Z"
   },
   {
    "duration": 28,
    "start_time": "2022-05-25T19:20:31.716Z"
   },
   {
    "duration": 27,
    "start_time": "2022-05-25T19:20:31.746Z"
   },
   {
    "duration": 52,
    "start_time": "2022-05-25T19:20:31.775Z"
   },
   {
    "duration": 448,
    "start_time": "2022-05-26T14:32:51.830Z"
   },
   {
    "duration": 85,
    "start_time": "2022-05-26T14:32:52.280Z"
   },
   {
    "duration": 0,
    "start_time": "2022-05-26T14:32:52.367Z"
   },
   {
    "duration": 0,
    "start_time": "2022-05-26T14:32:52.368Z"
   },
   {
    "duration": 0,
    "start_time": "2022-05-26T14:32:52.369Z"
   },
   {
    "duration": 0,
    "start_time": "2022-05-26T14:32:52.371Z"
   },
   {
    "duration": 0,
    "start_time": "2022-05-26T14:32:52.372Z"
   },
   {
    "duration": 0,
    "start_time": "2022-05-26T14:32:52.372Z"
   },
   {
    "duration": 0,
    "start_time": "2022-05-26T14:32:52.373Z"
   },
   {
    "duration": 0,
    "start_time": "2022-05-26T14:32:52.374Z"
   },
   {
    "duration": 0,
    "start_time": "2022-05-26T14:32:52.375Z"
   },
   {
    "duration": 0,
    "start_time": "2022-05-26T14:32:52.376Z"
   },
   {
    "duration": 0,
    "start_time": "2022-05-26T14:32:52.377Z"
   },
   {
    "duration": 0,
    "start_time": "2022-05-26T14:32:52.379Z"
   },
   {
    "duration": 0,
    "start_time": "2022-05-26T14:32:52.380Z"
   },
   {
    "duration": 0,
    "start_time": "2022-05-26T14:32:52.381Z"
   },
   {
    "duration": 335,
    "start_time": "2022-05-26T14:33:37.474Z"
   },
   {
    "duration": 395,
    "start_time": "2022-05-26T14:33:43.699Z"
   },
   {
    "duration": 80,
    "start_time": "2022-05-26T14:33:44.097Z"
   },
   {
    "duration": 3,
    "start_time": "2022-05-26T14:33:44.179Z"
   },
   {
    "duration": 19,
    "start_time": "2022-05-26T14:33:44.183Z"
   },
   {
    "duration": 21,
    "start_time": "2022-05-26T14:33:44.204Z"
   },
   {
    "duration": 25,
    "start_time": "2022-05-26T14:33:44.227Z"
   },
   {
    "duration": 22,
    "start_time": "2022-05-26T14:33:44.256Z"
   },
   {
    "duration": 7,
    "start_time": "2022-05-26T14:33:44.280Z"
   },
   {
    "duration": 39,
    "start_time": "2022-05-26T14:33:44.289Z"
   },
   {
    "duration": 26,
    "start_time": "2022-05-26T14:33:44.330Z"
   },
   {
    "duration": 17,
    "start_time": "2022-05-26T14:33:44.357Z"
   },
   {
    "duration": 14,
    "start_time": "2022-05-26T14:33:44.376Z"
   },
   {
    "duration": 36,
    "start_time": "2022-05-26T14:33:44.392Z"
   },
   {
    "duration": 52,
    "start_time": "2022-05-26T14:33:44.431Z"
   },
   {
    "duration": 25,
    "start_time": "2022-05-26T14:33:44.485Z"
   },
   {
    "duration": 51,
    "start_time": "2022-05-26T14:33:44.512Z"
   },
   {
    "duration": 2,
    "start_time": "2022-05-26T14:37:41.723Z"
   },
   {
    "duration": 14,
    "start_time": "2022-05-26T16:16:35.354Z"
   },
   {
    "duration": 11,
    "start_time": "2022-05-26T16:29:45.230Z"
   },
   {
    "duration": 785,
    "start_time": "2022-05-26T16:32:41.452Z"
   },
   {
    "duration": 437,
    "start_time": "2022-05-26T16:32:47.182Z"
   },
   {
    "duration": 399,
    "start_time": "2022-05-26T16:32:47.621Z"
   },
   {
    "duration": 4,
    "start_time": "2022-05-26T16:32:48.023Z"
   },
   {
    "duration": 32,
    "start_time": "2022-05-26T16:32:48.029Z"
   },
   {
    "duration": 46,
    "start_time": "2022-05-26T16:32:48.064Z"
   },
   {
    "duration": 8,
    "start_time": "2022-05-26T16:32:48.112Z"
   },
   {
    "duration": 28,
    "start_time": "2022-05-26T16:32:48.122Z"
   },
   {
    "duration": 5,
    "start_time": "2022-05-26T16:32:48.153Z"
   },
   {
    "duration": 77,
    "start_time": "2022-05-26T16:32:48.160Z"
   },
   {
    "duration": 9,
    "start_time": "2022-05-26T16:32:48.239Z"
   },
   {
    "duration": 47,
    "start_time": "2022-05-26T16:32:48.250Z"
   },
   {
    "duration": 26,
    "start_time": "2022-05-26T16:32:48.299Z"
   },
   {
    "duration": 18,
    "start_time": "2022-05-26T16:32:48.327Z"
   },
   {
    "duration": 73,
    "start_time": "2022-05-26T16:32:48.348Z"
   },
   {
    "duration": 36,
    "start_time": "2022-05-26T16:32:48.423Z"
   },
   {
    "duration": 69,
    "start_time": "2022-05-26T16:32:48.460Z"
   },
   {
    "duration": 35,
    "start_time": "2022-05-26T16:32:48.531Z"
   },
   {
    "duration": 7,
    "start_time": "2022-05-26T16:39:55.103Z"
   },
   {
    "duration": 9,
    "start_time": "2022-05-26T16:43:06.978Z"
   },
   {
    "duration": 72,
    "start_time": "2022-05-26T16:45:31.714Z"
   },
   {
    "duration": 20,
    "start_time": "2022-05-26T16:46:37.064Z"
   },
   {
    "duration": 15,
    "start_time": "2022-05-26T16:49:51.077Z"
   },
   {
    "duration": 56,
    "start_time": "2022-05-28T06:52:09.265Z"
   },
   {
    "duration": 431,
    "start_time": "2022-05-28T06:52:18.385Z"
   },
   {
    "duration": 325,
    "start_time": "2022-05-28T06:52:18.818Z"
   },
   {
    "duration": 4,
    "start_time": "2022-05-28T06:52:19.145Z"
   },
   {
    "duration": 22,
    "start_time": "2022-05-28T06:52:19.152Z"
   },
   {
    "duration": 30,
    "start_time": "2022-05-28T06:52:19.175Z"
   },
   {
    "duration": 29,
    "start_time": "2022-05-28T06:52:19.207Z"
   },
   {
    "duration": 6,
    "start_time": "2022-05-28T06:52:19.238Z"
   },
   {
    "duration": 14,
    "start_time": "2022-05-28T06:52:19.245Z"
   },
   {
    "duration": 3,
    "start_time": "2022-05-28T06:52:19.260Z"
   },
   {
    "duration": 60,
    "start_time": "2022-05-28T06:52:19.265Z"
   },
   {
    "duration": 7,
    "start_time": "2022-05-28T06:52:19.326Z"
   },
   {
    "duration": 16,
    "start_time": "2022-05-28T06:52:19.335Z"
   },
   {
    "duration": 10,
    "start_time": "2022-05-28T06:52:19.353Z"
   },
   {
    "duration": 41,
    "start_time": "2022-05-28T06:52:19.365Z"
   },
   {
    "duration": 13,
    "start_time": "2022-05-28T06:52:19.408Z"
   },
   {
    "duration": 23,
    "start_time": "2022-05-28T06:52:19.422Z"
   },
   {
    "duration": 22,
    "start_time": "2022-05-28T06:52:19.447Z"
   },
   {
    "duration": 57,
    "start_time": "2022-05-28T06:52:19.470Z"
   },
   {
    "duration": 18,
    "start_time": "2022-05-28T06:55:44.420Z"
   },
   {
    "duration": 23,
    "start_time": "2022-05-28T06:56:32.853Z"
   },
   {
    "duration": 27,
    "start_time": "2022-05-28T06:56:42.048Z"
   },
   {
    "duration": 17,
    "start_time": "2022-05-28T06:56:58.226Z"
   },
   {
    "duration": 22,
    "start_time": "2022-05-28T06:58:59.480Z"
   },
   {
    "duration": 10,
    "start_time": "2022-05-28T07:11:29.221Z"
   },
   {
    "duration": 11,
    "start_time": "2022-05-28T07:40:10.554Z"
   },
   {
    "duration": 17,
    "start_time": "2022-05-28T07:40:20.195Z"
   },
   {
    "duration": 9,
    "start_time": "2022-05-28T07:40:48.626Z"
   },
   {
    "duration": 10,
    "start_time": "2022-05-28T07:40:52.034Z"
   },
   {
    "duration": 21,
    "start_time": "2022-05-28T07:41:04.684Z"
   },
   {
    "duration": 85,
    "start_time": "2022-05-28T07:43:53.513Z"
   },
   {
    "duration": 9,
    "start_time": "2022-05-28T07:44:39.625Z"
   },
   {
    "duration": 7,
    "start_time": "2022-05-28T07:44:41.365Z"
   },
   {
    "duration": 52,
    "start_time": "2022-05-28T07:45:26.925Z"
   },
   {
    "duration": 13,
    "start_time": "2022-05-28T07:45:29.524Z"
   },
   {
    "duration": 22,
    "start_time": "2022-05-28T07:45:51.227Z"
   },
   {
    "duration": 50,
    "start_time": "2022-05-28T07:45:55.784Z"
   },
   {
    "duration": 479,
    "start_time": "2022-05-28T07:46:08.435Z"
   },
   {
    "duration": 488,
    "start_time": "2022-05-28T07:46:21.884Z"
   },
   {
    "duration": 27,
    "start_time": "2022-05-28T07:46:27.637Z"
   },
   {
    "duration": 440,
    "start_time": "2022-05-28T07:46:35.320Z"
   },
   {
    "duration": 7,
    "start_time": "2022-05-28T07:47:02.646Z"
   },
   {
    "duration": 11,
    "start_time": "2022-05-28T07:47:51.817Z"
   },
   {
    "duration": 13,
    "start_time": "2022-05-28T07:47:59.326Z"
   },
   {
    "duration": 14,
    "start_time": "2022-05-28T07:48:12.419Z"
   },
   {
    "duration": 30,
    "start_time": "2022-05-28T07:48:55.020Z"
   },
   {
    "duration": 17,
    "start_time": "2022-05-28T07:49:00.426Z"
   },
   {
    "duration": 15,
    "start_time": "2022-05-28T07:49:03.916Z"
   },
   {
    "duration": 8,
    "start_time": "2022-05-28T07:49:16.187Z"
   },
   {
    "duration": 10,
    "start_time": "2022-05-28T07:50:39.154Z"
   },
   {
    "duration": 16,
    "start_time": "2022-05-28T07:50:49.223Z"
   },
   {
    "duration": 14,
    "start_time": "2022-05-28T07:50:52.345Z"
   },
   {
    "duration": 12,
    "start_time": "2022-05-28T07:51:38.243Z"
   },
   {
    "duration": 14,
    "start_time": "2022-05-28T07:51:46.648Z"
   },
   {
    "duration": 10,
    "start_time": "2022-05-28T07:52:53.344Z"
   },
   {
    "duration": 15,
    "start_time": "2022-05-28T07:53:04.091Z"
   },
   {
    "duration": 6,
    "start_time": "2022-05-28T07:53:28.458Z"
   },
   {
    "duration": 9,
    "start_time": "2022-05-28T07:53:34.253Z"
   },
   {
    "duration": 50,
    "start_time": "2022-05-28T07:55:28.584Z"
   },
   {
    "duration": 11,
    "start_time": "2022-05-28T07:55:34.946Z"
   },
   {
    "duration": 10,
    "start_time": "2022-05-28T07:55:36.426Z"
   },
   {
    "duration": 10,
    "start_time": "2022-05-28T07:58:10.792Z"
   },
   {
    "duration": 9,
    "start_time": "2022-05-28T07:58:44.425Z"
   },
   {
    "duration": 18,
    "start_time": "2022-05-28T07:58:54.486Z"
   },
   {
    "duration": 10,
    "start_time": "2022-05-28T07:59:16.783Z"
   },
   {
    "duration": 16,
    "start_time": "2022-05-28T07:59:21.986Z"
   },
   {
    "duration": 22,
    "start_time": "2022-05-28T07:59:28.466Z"
   },
   {
    "duration": 14,
    "start_time": "2022-05-28T07:59:55.145Z"
   },
   {
    "duration": 13,
    "start_time": "2022-05-28T08:00:05.964Z"
   },
   {
    "duration": 11,
    "start_time": "2022-05-28T08:00:41.165Z"
   },
   {
    "duration": 11,
    "start_time": "2022-05-28T08:00:52.750Z"
   },
   {
    "duration": 10,
    "start_time": "2022-05-28T08:07:18.055Z"
   },
   {
    "duration": 11,
    "start_time": "2022-05-28T08:07:21.534Z"
   },
   {
    "duration": 3,
    "start_time": "2022-05-28T08:07:46.444Z"
   },
   {
    "duration": 20,
    "start_time": "2022-05-28T08:08:44.335Z"
   },
   {
    "duration": 18,
    "start_time": "2022-05-28T08:08:54.904Z"
   },
   {
    "duration": 10,
    "start_time": "2022-05-28T08:08:59.645Z"
   },
   {
    "duration": 11,
    "start_time": "2022-05-28T08:09:05.976Z"
   },
   {
    "duration": 12,
    "start_time": "2022-05-28T08:09:37.145Z"
   },
   {
    "duration": 8,
    "start_time": "2022-05-28T08:18:46.767Z"
   },
   {
    "duration": 8,
    "start_time": "2022-05-28T08:18:54.842Z"
   },
   {
    "duration": 8,
    "start_time": "2022-05-28T08:18:59.385Z"
   },
   {
    "duration": 8,
    "start_time": "2022-05-28T08:19:35.038Z"
   },
   {
    "duration": 8,
    "start_time": "2022-05-28T08:21:38.077Z"
   },
   {
    "duration": 8,
    "start_time": "2022-05-28T08:21:48.004Z"
   },
   {
    "duration": 79,
    "start_time": "2022-05-28T08:22:23.537Z"
   },
   {
    "duration": 410,
    "start_time": "2022-05-28T08:22:32.737Z"
   },
   {
    "duration": 88,
    "start_time": "2022-05-28T08:22:33.149Z"
   },
   {
    "duration": 17,
    "start_time": "2022-05-28T08:22:33.239Z"
   },
   {
    "duration": 20,
    "start_time": "2022-05-28T08:22:33.258Z"
   },
   {
    "duration": 54,
    "start_time": "2022-05-28T08:22:33.280Z"
   },
   {
    "duration": 10,
    "start_time": "2022-05-28T08:22:33.335Z"
   },
   {
    "duration": 17,
    "start_time": "2022-05-28T08:22:33.347Z"
   },
   {
    "duration": 38,
    "start_time": "2022-05-28T08:22:33.366Z"
   },
   {
    "duration": 3,
    "start_time": "2022-05-28T08:22:33.406Z"
   },
   {
    "duration": 118,
    "start_time": "2022-05-28T08:22:33.412Z"
   },
   {
    "duration": 0,
    "start_time": "2022-05-28T08:22:33.532Z"
   },
   {
    "duration": 0,
    "start_time": "2022-05-28T08:22:33.533Z"
   },
   {
    "duration": 0,
    "start_time": "2022-05-28T08:22:33.534Z"
   },
   {
    "duration": 0,
    "start_time": "2022-05-28T08:22:33.535Z"
   },
   {
    "duration": 0,
    "start_time": "2022-05-28T08:22:33.536Z"
   },
   {
    "duration": 0,
    "start_time": "2022-05-28T08:22:33.537Z"
   },
   {
    "duration": 0,
    "start_time": "2022-05-28T08:22:33.538Z"
   },
   {
    "duration": 0,
    "start_time": "2022-05-28T08:22:33.540Z"
   },
   {
    "duration": 0,
    "start_time": "2022-05-28T08:22:33.541Z"
   },
   {
    "duration": 0,
    "start_time": "2022-05-28T08:22:33.542Z"
   },
   {
    "duration": 0,
    "start_time": "2022-05-28T08:22:33.543Z"
   },
   {
    "duration": 27,
    "start_time": "2022-05-28T08:25:07.812Z"
   },
   {
    "duration": 24,
    "start_time": "2022-05-28T08:25:24.544Z"
   },
   {
    "duration": 18,
    "start_time": "2022-05-28T08:26:32.823Z"
   },
   {
    "duration": 21,
    "start_time": "2022-05-28T08:27:02.623Z"
   },
   {
    "duration": 14,
    "start_time": "2022-05-28T08:27:27.963Z"
   },
   {
    "duration": 15,
    "start_time": "2022-05-28T08:27:40.637Z"
   },
   {
    "duration": 157,
    "start_time": "2022-05-28T08:28:11.978Z"
   },
   {
    "duration": 19,
    "start_time": "2022-05-28T08:50:03.251Z"
   },
   {
    "duration": 419,
    "start_time": "2022-05-28T08:50:13.433Z"
   },
   {
    "duration": 81,
    "start_time": "2022-05-28T08:50:13.854Z"
   },
   {
    "duration": 14,
    "start_time": "2022-05-28T08:50:13.937Z"
   },
   {
    "duration": 22,
    "start_time": "2022-05-28T08:50:13.953Z"
   },
   {
    "duration": 49,
    "start_time": "2022-05-28T08:50:13.976Z"
   },
   {
    "duration": 10,
    "start_time": "2022-05-28T08:50:14.027Z"
   },
   {
    "duration": 20,
    "start_time": "2022-05-28T08:50:14.038Z"
   },
   {
    "duration": 38,
    "start_time": "2022-05-28T08:50:14.060Z"
   },
   {
    "duration": 21,
    "start_time": "2022-05-28T08:50:14.100Z"
   },
   {
    "duration": 3,
    "start_time": "2022-05-28T08:50:14.124Z"
   },
   {
    "duration": 22,
    "start_time": "2022-05-28T08:50:14.128Z"
   },
   {
    "duration": 3,
    "start_time": "2022-05-28T08:50:14.152Z"
   },
   {
    "duration": 70,
    "start_time": "2022-05-28T08:50:14.157Z"
   },
   {
    "duration": 9,
    "start_time": "2022-05-28T08:50:14.228Z"
   },
   {
    "duration": 15,
    "start_time": "2022-05-28T08:50:14.238Z"
   },
   {
    "duration": 14,
    "start_time": "2022-05-28T08:50:14.255Z"
   },
   {
    "duration": 15,
    "start_time": "2022-05-28T08:50:14.271Z"
   },
   {
    "duration": 39,
    "start_time": "2022-05-28T08:50:14.287Z"
   },
   {
    "duration": 14,
    "start_time": "2022-05-28T08:50:14.328Z"
   },
   {
    "duration": 25,
    "start_time": "2022-05-28T08:50:14.343Z"
   },
   {
    "duration": 29,
    "start_time": "2022-05-28T08:50:14.399Z"
   },
   {
    "duration": 25,
    "start_time": "2022-05-28T08:50:14.430Z"
   },
   {
    "duration": 18,
    "start_time": "2022-05-28T08:50:14.457Z"
   },
   {
    "duration": 79,
    "start_time": "2022-05-28T08:51:34.451Z"
   },
   {
    "duration": 7,
    "start_time": "2022-05-28T08:56:53.945Z"
   },
   {
    "duration": 12,
    "start_time": "2022-05-28T08:58:54.345Z"
   },
   {
    "duration": 9,
    "start_time": "2022-05-28T08:59:33.480Z"
   },
   {
    "duration": 13,
    "start_time": "2022-05-28T08:59:40.228Z"
   },
   {
    "duration": 462,
    "start_time": "2022-05-28T09:00:30.095Z"
   },
   {
    "duration": 87,
    "start_time": "2022-05-28T09:00:30.559Z"
   },
   {
    "duration": 16,
    "start_time": "2022-05-28T09:00:30.648Z"
   },
   {
    "duration": 31,
    "start_time": "2022-05-28T09:00:30.666Z"
   },
   {
    "duration": 86,
    "start_time": "2022-05-28T09:00:30.701Z"
   },
   {
    "duration": 49,
    "start_time": "2022-05-28T09:00:30.789Z"
   },
   {
    "duration": 49,
    "start_time": "2022-05-28T09:00:30.840Z"
   },
   {
    "duration": 14,
    "start_time": "2022-05-28T09:00:30.891Z"
   },
   {
    "duration": 51,
    "start_time": "2022-05-28T09:00:30.907Z"
   },
   {
    "duration": 33,
    "start_time": "2022-05-28T09:00:30.960Z"
   },
   {
    "duration": 39,
    "start_time": "2022-05-28T09:00:30.997Z"
   },
   {
    "duration": 61,
    "start_time": "2022-05-28T09:00:31.038Z"
   },
   {
    "duration": 15,
    "start_time": "2022-05-28T09:00:31.101Z"
   },
   {
    "duration": 42,
    "start_time": "2022-05-28T09:00:31.119Z"
   },
   {
    "duration": 29,
    "start_time": "2022-05-28T09:00:31.163Z"
   },
   {
    "duration": 36,
    "start_time": "2022-05-28T09:00:31.194Z"
   },
   {
    "duration": 51,
    "start_time": "2022-05-28T09:00:31.233Z"
   },
   {
    "duration": 40,
    "start_time": "2022-05-28T09:00:31.286Z"
   },
   {
    "duration": 45,
    "start_time": "2022-05-28T09:00:31.329Z"
   },
   {
    "duration": 46,
    "start_time": "2022-05-28T09:00:31.376Z"
   },
   {
    "duration": 47,
    "start_time": "2022-05-28T09:00:31.424Z"
   },
   {
    "duration": 109,
    "start_time": "2022-05-28T09:01:42.035Z"
   },
   {
    "duration": 450,
    "start_time": "2022-05-28T09:02:10.211Z"
   },
   {
    "duration": 86,
    "start_time": "2022-05-28T09:02:10.663Z"
   },
   {
    "duration": 15,
    "start_time": "2022-05-28T09:02:10.751Z"
   },
   {
    "duration": 28,
    "start_time": "2022-05-28T09:02:10.768Z"
   },
   {
    "duration": 45,
    "start_time": "2022-05-28T09:02:10.799Z"
   },
   {
    "duration": 9,
    "start_time": "2022-05-28T09:02:10.846Z"
   },
   {
    "duration": 36,
    "start_time": "2022-05-28T09:02:10.857Z"
   },
   {
    "duration": 28,
    "start_time": "2022-05-28T09:02:10.895Z"
   },
   {
    "duration": 20,
    "start_time": "2022-05-28T09:02:10.925Z"
   },
   {
    "duration": 39,
    "start_time": "2022-05-28T09:02:10.947Z"
   },
   {
    "duration": 18,
    "start_time": "2022-05-28T09:02:10.987Z"
   },
   {
    "duration": 69,
    "start_time": "2022-05-28T09:02:11.007Z"
   },
   {
    "duration": 12,
    "start_time": "2022-05-28T09:02:11.077Z"
   },
   {
    "duration": 48,
    "start_time": "2022-05-28T09:02:11.091Z"
   },
   {
    "duration": 36,
    "start_time": "2022-05-28T09:02:11.141Z"
   },
   {
    "duration": 58,
    "start_time": "2022-05-28T09:02:11.179Z"
   },
   {
    "duration": 48,
    "start_time": "2022-05-28T09:02:11.239Z"
   },
   {
    "duration": 33,
    "start_time": "2022-05-28T09:02:11.289Z"
   },
   {
    "duration": 53,
    "start_time": "2022-05-28T09:02:11.324Z"
   },
   {
    "duration": 48,
    "start_time": "2022-05-28T09:02:11.379Z"
   },
   {
    "duration": 32,
    "start_time": "2022-05-28T09:02:11.429Z"
   },
   {
    "duration": 75,
    "start_time": "2022-05-28T09:02:37.923Z"
   },
   {
    "duration": 11,
    "start_time": "2022-05-28T09:02:46.976Z"
   },
   {
    "duration": 16,
    "start_time": "2022-05-28T09:02:58.554Z"
   },
   {
    "duration": 448,
    "start_time": "2022-05-28T09:03:12.244Z"
   },
   {
    "duration": 74,
    "start_time": "2022-05-28T09:03:12.695Z"
   },
   {
    "duration": 14,
    "start_time": "2022-05-28T09:03:12.771Z"
   },
   {
    "duration": 24,
    "start_time": "2022-05-28T09:03:12.787Z"
   },
   {
    "duration": 36,
    "start_time": "2022-05-28T09:03:12.813Z"
   },
   {
    "duration": 10,
    "start_time": "2022-05-28T09:03:12.851Z"
   },
   {
    "duration": 33,
    "start_time": "2022-05-28T09:03:12.862Z"
   },
   {
    "duration": 16,
    "start_time": "2022-05-28T09:03:12.898Z"
   },
   {
    "duration": 18,
    "start_time": "2022-05-28T09:03:12.916Z"
   },
   {
    "duration": 19,
    "start_time": "2022-05-28T09:03:12.937Z"
   },
   {
    "duration": 13,
    "start_time": "2022-05-28T09:03:12.957Z"
   },
   {
    "duration": 59,
    "start_time": "2022-05-28T09:03:12.972Z"
   },
   {
    "duration": 8,
    "start_time": "2022-05-28T09:03:13.033Z"
   },
   {
    "duration": 18,
    "start_time": "2022-05-28T09:03:13.043Z"
   },
   {
    "duration": 10,
    "start_time": "2022-05-28T09:03:13.063Z"
   },
   {
    "duration": 24,
    "start_time": "2022-05-28T09:03:13.075Z"
   },
   {
    "duration": 43,
    "start_time": "2022-05-28T09:03:13.100Z"
   },
   {
    "duration": 13,
    "start_time": "2022-05-28T09:03:13.145Z"
   },
   {
    "duration": 42,
    "start_time": "2022-05-28T09:03:13.159Z"
   },
   {
    "duration": 32,
    "start_time": "2022-05-28T09:03:13.204Z"
   },
   {
    "duration": 28,
    "start_time": "2022-05-28T09:03:13.237Z"
   },
   {
    "duration": 19,
    "start_time": "2022-05-28T09:03:19.142Z"
   },
   {
    "duration": 26,
    "start_time": "2022-05-28T09:03:21.392Z"
   },
   {
    "duration": 17,
    "start_time": "2022-05-28T09:03:46.846Z"
   },
   {
    "duration": 17,
    "start_time": "2022-05-28T09:03:56.807Z"
   },
   {
    "duration": 119,
    "start_time": "2022-05-28T09:08:53.602Z"
   },
   {
    "duration": 25,
    "start_time": "2022-05-28T09:09:16.130Z"
   },
   {
    "duration": 30,
    "start_time": "2022-05-28T09:09:41.210Z"
   },
   {
    "duration": 27,
    "start_time": "2022-05-28T09:12:42.940Z"
   },
   {
    "duration": 35,
    "start_time": "2022-05-28T09:13:00.581Z"
   },
   {
    "duration": 395,
    "start_time": "2022-05-28T09:14:36.044Z"
   },
   {
    "duration": 91,
    "start_time": "2022-05-28T09:14:36.441Z"
   },
   {
    "duration": 17,
    "start_time": "2022-05-28T09:14:36.534Z"
   },
   {
    "duration": 27,
    "start_time": "2022-05-28T09:14:36.553Z"
   },
   {
    "duration": 46,
    "start_time": "2022-05-28T09:14:36.583Z"
   },
   {
    "duration": 15,
    "start_time": "2022-05-28T09:14:36.631Z"
   },
   {
    "duration": 24,
    "start_time": "2022-05-28T09:14:36.648Z"
   },
   {
    "duration": 28,
    "start_time": "2022-05-28T09:14:36.674Z"
   },
   {
    "duration": 32,
    "start_time": "2022-05-28T09:14:36.705Z"
   },
   {
    "duration": 28,
    "start_time": "2022-05-28T09:14:36.739Z"
   },
   {
    "duration": 4,
    "start_time": "2022-05-28T09:14:36.770Z"
   },
   {
    "duration": 62,
    "start_time": "2022-05-28T09:14:36.775Z"
   },
   {
    "duration": 11,
    "start_time": "2022-05-28T09:14:36.839Z"
   },
   {
    "duration": 17,
    "start_time": "2022-05-28T09:14:36.852Z"
   },
   {
    "duration": 25,
    "start_time": "2022-05-28T09:14:36.871Z"
   },
   {
    "duration": 17,
    "start_time": "2022-05-28T09:14:36.898Z"
   },
   {
    "duration": 32,
    "start_time": "2022-05-28T09:14:36.917Z"
   },
   {
    "duration": 12,
    "start_time": "2022-05-28T09:14:36.951Z"
   },
   {
    "duration": 103,
    "start_time": "2022-05-28T09:14:36.965Z"
   },
   {
    "duration": 1,
    "start_time": "2022-05-28T09:14:37.069Z"
   },
   {
    "duration": 0,
    "start_time": "2022-05-28T09:14:37.071Z"
   },
   {
    "duration": 435,
    "start_time": "2022-05-28T09:16:16.413Z"
   },
   {
    "duration": 83,
    "start_time": "2022-05-28T09:16:16.850Z"
   },
   {
    "duration": 16,
    "start_time": "2022-05-28T09:16:16.935Z"
   },
   {
    "duration": 22,
    "start_time": "2022-05-28T09:16:16.953Z"
   },
   {
    "duration": 53,
    "start_time": "2022-05-28T09:16:16.977Z"
   },
   {
    "duration": 10,
    "start_time": "2022-05-28T09:16:17.031Z"
   },
   {
    "duration": 19,
    "start_time": "2022-05-28T09:16:17.042Z"
   },
   {
    "duration": 41,
    "start_time": "2022-05-28T09:16:17.062Z"
   },
   {
    "duration": 11,
    "start_time": "2022-05-28T09:16:17.105Z"
   },
   {
    "duration": 18,
    "start_time": "2022-05-28T09:16:17.118Z"
   },
   {
    "duration": 3,
    "start_time": "2022-05-28T09:16:17.138Z"
   },
   {
    "duration": 44,
    "start_time": "2022-05-28T09:16:17.142Z"
   },
   {
    "duration": 12,
    "start_time": "2022-05-28T09:16:17.193Z"
   },
   {
    "duration": 27,
    "start_time": "2022-05-28T09:16:17.208Z"
   },
   {
    "duration": 12,
    "start_time": "2022-05-28T09:16:17.237Z"
   },
   {
    "duration": 15,
    "start_time": "2022-05-28T09:16:17.251Z"
   },
   {
    "duration": 56,
    "start_time": "2022-05-28T09:16:17.268Z"
   },
   {
    "duration": 13,
    "start_time": "2022-05-28T09:16:17.326Z"
   },
   {
    "duration": 27,
    "start_time": "2022-05-28T09:16:17.341Z"
   },
   {
    "duration": 56,
    "start_time": "2022-05-28T09:16:17.370Z"
   },
   {
    "duration": 27,
    "start_time": "2022-05-28T09:16:17.427Z"
   },
   {
    "duration": 30,
    "start_time": "2022-05-28T09:31:09.877Z"
   },
   {
    "duration": 28,
    "start_time": "2022-05-28T09:31:49.832Z"
   },
   {
    "duration": 35,
    "start_time": "2022-05-28T09:32:10.273Z"
   },
   {
    "duration": 34,
    "start_time": "2022-05-28T09:39:12.895Z"
   },
   {
    "duration": 473,
    "start_time": "2022-05-28T09:40:19.445Z"
   },
   {
    "duration": 71,
    "start_time": "2022-05-28T09:40:19.920Z"
   },
   {
    "duration": 24,
    "start_time": "2022-05-28T09:40:19.993Z"
   },
   {
    "duration": 51,
    "start_time": "2022-05-28T09:40:20.018Z"
   },
   {
    "duration": 54,
    "start_time": "2022-05-28T09:40:20.072Z"
   },
   {
    "duration": 12,
    "start_time": "2022-05-28T09:40:20.127Z"
   },
   {
    "duration": 34,
    "start_time": "2022-05-28T09:40:20.141Z"
   },
   {
    "duration": 10,
    "start_time": "2022-05-28T09:40:20.177Z"
   },
   {
    "duration": 41,
    "start_time": "2022-05-28T09:40:20.188Z"
   },
   {
    "duration": 34,
    "start_time": "2022-05-28T09:40:20.230Z"
   },
   {
    "duration": 11,
    "start_time": "2022-05-28T09:40:20.266Z"
   },
   {
    "duration": 81,
    "start_time": "2022-05-28T09:40:20.279Z"
   },
   {
    "duration": 33,
    "start_time": "2022-05-28T09:40:20.362Z"
   },
   {
    "duration": 39,
    "start_time": "2022-05-28T09:40:20.407Z"
   },
   {
    "duration": 57,
    "start_time": "2022-05-28T09:40:20.448Z"
   },
   {
    "duration": 36,
    "start_time": "2022-05-28T09:40:20.507Z"
   },
   {
    "duration": 60,
    "start_time": "2022-05-28T09:40:20.545Z"
   },
   {
    "duration": 21,
    "start_time": "2022-05-28T09:40:20.608Z"
   },
   {
    "duration": 36,
    "start_time": "2022-05-28T09:40:20.631Z"
   },
   {
    "duration": 41,
    "start_time": "2022-05-28T09:40:20.669Z"
   },
   {
    "duration": 55,
    "start_time": "2022-05-28T09:40:20.712Z"
   },
   {
    "duration": 489,
    "start_time": "2022-05-28T23:11:15.964Z"
   },
   {
    "duration": 315,
    "start_time": "2022-05-28T23:11:16.455Z"
   },
   {
    "duration": 18,
    "start_time": "2022-05-28T23:11:16.771Z"
   },
   {
    "duration": 22,
    "start_time": "2022-05-28T23:11:16.791Z"
   },
   {
    "duration": 52,
    "start_time": "2022-05-28T23:11:16.815Z"
   },
   {
    "duration": 16,
    "start_time": "2022-05-28T23:11:16.869Z"
   },
   {
    "duration": 17,
    "start_time": "2022-05-28T23:11:16.887Z"
   },
   {
    "duration": 28,
    "start_time": "2022-05-28T23:11:16.906Z"
   },
   {
    "duration": 2,
    "start_time": "2022-05-28T23:11:16.936Z"
   },
   {
    "duration": 16,
    "start_time": "2022-05-28T23:11:16.941Z"
   },
   {
    "duration": 3,
    "start_time": "2022-05-28T23:11:16.958Z"
   },
   {
    "duration": 41,
    "start_time": "2022-05-28T23:11:16.963Z"
   },
   {
    "duration": 28,
    "start_time": "2022-05-28T23:11:17.005Z"
   },
   {
    "duration": 24,
    "start_time": "2022-05-28T23:11:17.035Z"
   },
   {
    "duration": 10,
    "start_time": "2022-05-28T23:11:17.061Z"
   },
   {
    "duration": 13,
    "start_time": "2022-05-28T23:11:17.073Z"
   },
   {
    "duration": 44,
    "start_time": "2022-05-28T23:11:17.088Z"
   },
   {
    "duration": 14,
    "start_time": "2022-05-28T23:11:17.134Z"
   },
   {
    "duration": 26,
    "start_time": "2022-05-28T23:11:17.150Z"
   },
   {
    "duration": 51,
    "start_time": "2022-05-28T23:11:17.178Z"
   },
   {
    "duration": 29,
    "start_time": "2022-05-28T23:11:17.231Z"
   },
   {
    "duration": 77,
    "start_time": "2022-05-29T08:24:38.456Z"
   },
   {
    "duration": 6,
    "start_time": "2022-05-29T08:24:58.085Z"
   },
   {
    "duration": 8,
    "start_time": "2022-05-29T08:25:07.429Z"
   },
   {
    "duration": 6,
    "start_time": "2022-05-29T08:25:40.480Z"
   },
   {
    "duration": 463,
    "start_time": "2022-05-29T08:25:50.715Z"
   },
   {
    "duration": 282,
    "start_time": "2022-05-29T08:25:51.180Z"
   },
   {
    "duration": 15,
    "start_time": "2022-05-29T08:25:51.463Z"
   },
   {
    "duration": 19,
    "start_time": "2022-05-29T08:25:51.480Z"
   },
   {
    "duration": 33,
    "start_time": "2022-05-29T08:25:51.501Z"
   },
   {
    "duration": 20,
    "start_time": "2022-05-29T08:25:51.536Z"
   },
   {
    "duration": 16,
    "start_time": "2022-05-29T08:25:51.558Z"
   },
   {
    "duration": 8,
    "start_time": "2022-05-29T08:25:51.576Z"
   },
   {
    "duration": 3,
    "start_time": "2022-05-29T08:25:51.586Z"
   },
   {
    "duration": 19,
    "start_time": "2022-05-29T08:25:51.590Z"
   },
   {
    "duration": 3,
    "start_time": "2022-05-29T08:25:51.611Z"
   },
   {
    "duration": 73,
    "start_time": "2022-05-29T08:25:51.616Z"
   },
   {
    "duration": 12,
    "start_time": "2022-05-29T08:25:51.691Z"
   },
   {
    "duration": 29,
    "start_time": "2022-05-29T08:25:51.707Z"
   },
   {
    "duration": 27,
    "start_time": "2022-05-29T08:25:51.738Z"
   },
   {
    "duration": 20,
    "start_time": "2022-05-29T08:25:51.768Z"
   },
   {
    "duration": 36,
    "start_time": "2022-05-29T08:25:51.790Z"
   },
   {
    "duration": 34,
    "start_time": "2022-05-29T08:25:51.828Z"
   },
   {
    "duration": 100,
    "start_time": "2022-05-29T08:25:51.864Z"
   },
   {
    "duration": 0,
    "start_time": "2022-05-29T08:25:51.966Z"
   },
   {
    "duration": 0,
    "start_time": "2022-05-29T08:25:51.967Z"
   },
   {
    "duration": 18,
    "start_time": "2022-05-29T08:26:15.899Z"
   },
   {
    "duration": 29,
    "start_time": "2022-05-29T08:26:27.453Z"
   },
   {
    "duration": 17,
    "start_time": "2022-05-29T08:26:33.906Z"
   },
   {
    "duration": 21,
    "start_time": "2022-05-29T08:27:34.103Z"
   },
   {
    "duration": 19,
    "start_time": "2022-05-29T08:27:42.735Z"
   },
   {
    "duration": 19,
    "start_time": "2022-05-29T08:28:10.065Z"
   },
   {
    "duration": 10,
    "start_time": "2022-05-29T08:28:42.725Z"
   },
   {
    "duration": 16,
    "start_time": "2022-05-29T08:28:49.311Z"
   },
   {
    "duration": 2,
    "start_time": "2022-05-29T08:28:56.395Z"
   },
   {
    "duration": 65,
    "start_time": "2022-05-29T08:28:56.400Z"
   },
   {
    "duration": 14,
    "start_time": "2022-05-29T08:28:56.467Z"
   },
   {
    "duration": 12,
    "start_time": "2022-05-29T08:28:56.483Z"
   },
   {
    "duration": 33,
    "start_time": "2022-05-29T08:28:56.497Z"
   },
   {
    "duration": 24,
    "start_time": "2022-05-29T08:28:56.531Z"
   },
   {
    "duration": 411,
    "start_time": "2022-05-29T08:29:20.132Z"
   },
   {
    "duration": 67,
    "start_time": "2022-05-29T08:29:20.545Z"
   },
   {
    "duration": 14,
    "start_time": "2022-05-29T08:29:20.613Z"
   },
   {
    "duration": 23,
    "start_time": "2022-05-29T08:29:20.629Z"
   },
   {
    "duration": 31,
    "start_time": "2022-05-29T08:29:20.654Z"
   },
   {
    "duration": 8,
    "start_time": "2022-05-29T08:29:20.687Z"
   },
   {
    "duration": 36,
    "start_time": "2022-05-29T08:29:23.832Z"
   },
   {
    "duration": 17,
    "start_time": "2022-05-29T08:29:51.133Z"
   },
   {
    "duration": 37,
    "start_time": "2022-05-29T08:29:59.132Z"
   },
   {
    "duration": 25,
    "start_time": "2022-05-29T08:32:02.647Z"
   },
   {
    "duration": 75,
    "start_time": "2022-05-29T08:34:46.872Z"
   },
   {
    "duration": 408,
    "start_time": "2022-05-29T08:35:21.273Z"
   },
   {
    "duration": 71,
    "start_time": "2022-05-29T08:35:21.683Z"
   },
   {
    "duration": 14,
    "start_time": "2022-05-29T08:35:21.755Z"
   },
   {
    "duration": 24,
    "start_time": "2022-05-29T08:35:21.771Z"
   },
   {
    "duration": 62,
    "start_time": "2022-05-29T08:35:21.797Z"
   },
   {
    "duration": 9,
    "start_time": "2022-05-29T08:35:21.861Z"
   },
   {
    "duration": 52,
    "start_time": "2022-05-29T08:35:21.872Z"
   },
   {
    "duration": 10,
    "start_time": "2022-05-29T08:35:21.925Z"
   },
   {
    "duration": 24,
    "start_time": "2022-05-29T08:35:21.936Z"
   },
   {
    "duration": 31,
    "start_time": "2022-05-29T08:35:21.962Z"
   },
   {
    "duration": 8,
    "start_time": "2022-05-29T08:35:21.994Z"
   },
   {
    "duration": 80,
    "start_time": "2022-05-29T08:35:22.003Z"
   },
   {
    "duration": 12,
    "start_time": "2022-05-29T08:35:22.085Z"
   },
   {
    "duration": 33,
    "start_time": "2022-05-29T08:35:22.099Z"
   },
   {
    "duration": 46,
    "start_time": "2022-05-29T08:35:22.133Z"
   },
   {
    "duration": 25,
    "start_time": "2022-05-29T08:35:22.180Z"
   },
   {
    "duration": 42,
    "start_time": "2022-05-29T08:35:22.208Z"
   },
   {
    "duration": 15,
    "start_time": "2022-05-29T08:35:22.252Z"
   },
   {
    "duration": 93,
    "start_time": "2022-05-29T08:35:22.269Z"
   },
   {
    "duration": 0,
    "start_time": "2022-05-29T08:35:22.364Z"
   },
   {
    "duration": 0,
    "start_time": "2022-05-29T08:35:22.365Z"
   },
   {
    "duration": 451,
    "start_time": "2022-05-29T08:40:19.774Z"
   },
   {
    "duration": 67,
    "start_time": "2022-05-29T08:40:20.228Z"
   },
   {
    "duration": 15,
    "start_time": "2022-05-29T08:40:20.296Z"
   },
   {
    "duration": 22,
    "start_time": "2022-05-29T08:40:20.312Z"
   },
   {
    "duration": 32,
    "start_time": "2022-05-29T08:40:20.353Z"
   },
   {
    "duration": 9,
    "start_time": "2022-05-29T08:40:20.387Z"
   },
   {
    "duration": 37,
    "start_time": "2022-05-29T08:40:20.397Z"
   },
   {
    "duration": 9,
    "start_time": "2022-05-29T08:40:20.452Z"
   },
   {
    "duration": 5,
    "start_time": "2022-05-29T08:40:20.462Z"
   },
   {
    "duration": 18,
    "start_time": "2022-05-29T08:40:20.468Z"
   },
   {
    "duration": 3,
    "start_time": "2022-05-29T08:40:20.488Z"
   },
   {
    "duration": 60,
    "start_time": "2022-05-29T08:40:20.492Z"
   },
   {
    "duration": 9,
    "start_time": "2022-05-29T08:40:20.553Z"
   },
   {
    "duration": 16,
    "start_time": "2022-05-29T08:40:20.564Z"
   },
   {
    "duration": 9,
    "start_time": "2022-05-29T08:40:20.582Z"
   },
   {
    "duration": 9,
    "start_time": "2022-05-29T08:40:20.593Z"
   },
   {
    "duration": 50,
    "start_time": "2022-05-29T08:40:20.604Z"
   },
   {
    "duration": 11,
    "start_time": "2022-05-29T08:40:20.656Z"
   },
   {
    "duration": 90,
    "start_time": "2022-05-29T08:40:20.669Z"
   },
   {
    "duration": 0,
    "start_time": "2022-05-29T08:40:20.761Z"
   },
   {
    "duration": 0,
    "start_time": "2022-05-29T08:40:20.762Z"
   },
   {
    "duration": 431,
    "start_time": "2022-05-29T08:41:27.533Z"
   },
   {
    "duration": 76,
    "start_time": "2022-05-29T08:41:27.966Z"
   },
   {
    "duration": 18,
    "start_time": "2022-05-29T08:41:28.044Z"
   },
   {
    "duration": 30,
    "start_time": "2022-05-29T08:41:28.064Z"
   },
   {
    "duration": 35,
    "start_time": "2022-05-29T08:41:28.097Z"
   },
   {
    "duration": 27,
    "start_time": "2022-05-29T08:41:28.134Z"
   },
   {
    "duration": 47,
    "start_time": "2022-05-29T08:41:28.163Z"
   },
   {
    "duration": 10,
    "start_time": "2022-05-29T08:41:28.211Z"
   },
   {
    "duration": 14,
    "start_time": "2022-05-29T08:41:28.223Z"
   },
   {
    "duration": 25,
    "start_time": "2022-05-29T08:41:28.238Z"
   },
   {
    "duration": 9,
    "start_time": "2022-05-29T08:41:28.265Z"
   },
   {
    "duration": 47,
    "start_time": "2022-05-29T08:41:28.276Z"
   },
   {
    "duration": 4,
    "start_time": "2022-05-29T08:41:33.203Z"
   },
   {
    "duration": 5,
    "start_time": "2022-05-29T08:41:51.383Z"
   },
   {
    "duration": 81,
    "start_time": "2022-05-29T08:48:16.653Z"
   },
   {
    "duration": 4,
    "start_time": "2022-05-29T08:48:34.296Z"
   },
   {
    "duration": 28,
    "start_time": "2022-05-29T08:51:19.894Z"
   },
   {
    "duration": 385,
    "start_time": "2022-05-29T08:56:08.801Z"
   },
   {
    "duration": 70,
    "start_time": "2022-05-29T08:56:09.187Z"
   },
   {
    "duration": 16,
    "start_time": "2022-05-29T08:56:09.259Z"
   },
   {
    "duration": 28,
    "start_time": "2022-05-29T08:56:09.277Z"
   },
   {
    "duration": 44,
    "start_time": "2022-05-29T08:56:09.306Z"
   },
   {
    "duration": 13,
    "start_time": "2022-05-29T08:56:09.352Z"
   },
   {
    "duration": 38,
    "start_time": "2022-05-29T08:56:09.367Z"
   },
   {
    "duration": 9,
    "start_time": "2022-05-29T08:56:09.407Z"
   },
   {
    "duration": 2,
    "start_time": "2022-05-29T08:56:09.417Z"
   },
   {
    "duration": 38,
    "start_time": "2022-05-29T08:56:09.421Z"
   },
   {
    "duration": 14,
    "start_time": "2022-05-29T08:56:09.461Z"
   },
   {
    "duration": 37,
    "start_time": "2022-05-29T08:56:09.476Z"
   },
   {
    "duration": 5,
    "start_time": "2022-05-29T08:56:09.515Z"
   },
   {
    "duration": 11,
    "start_time": "2022-05-29T08:56:09.522Z"
   },
   {
    "duration": 91,
    "start_time": "2022-05-29T08:56:14.412Z"
   },
   {
    "duration": 423,
    "start_time": "2022-05-29T21:40:23.222Z"
   },
   {
    "duration": 326,
    "start_time": "2022-05-29T21:40:23.648Z"
   },
   {
    "duration": 18,
    "start_time": "2022-05-29T21:40:23.975Z"
   },
   {
    "duration": 20,
    "start_time": "2022-05-29T21:40:23.995Z"
   },
   {
    "duration": 47,
    "start_time": "2022-05-29T21:40:24.018Z"
   },
   {
    "duration": 12,
    "start_time": "2022-05-29T21:40:24.067Z"
   },
   {
    "duration": 38,
    "start_time": "2022-05-29T21:40:24.081Z"
   },
   {
    "duration": 10,
    "start_time": "2022-05-29T21:40:24.121Z"
   },
   {
    "duration": 2,
    "start_time": "2022-05-29T21:40:24.133Z"
   },
   {
    "duration": 15,
    "start_time": "2022-05-29T21:40:24.165Z"
   },
   {
    "duration": 2,
    "start_time": "2022-05-29T21:40:24.182Z"
   },
   {
    "duration": 50,
    "start_time": "2022-05-29T21:40:24.186Z"
   },
   {
    "duration": 27,
    "start_time": "2022-05-29T21:40:24.238Z"
   },
   {
    "duration": 6,
    "start_time": "2022-05-29T21:40:24.268Z"
   },
   {
    "duration": 111,
    "start_time": "2022-05-29T21:40:24.276Z"
   },
   {
    "duration": 0,
    "start_time": "2022-05-29T21:40:24.388Z"
   },
   {
    "duration": 0,
    "start_time": "2022-05-29T21:40:24.390Z"
   },
   {
    "duration": 0,
    "start_time": "2022-05-29T21:40:24.391Z"
   },
   {
    "duration": 0,
    "start_time": "2022-05-29T21:40:24.393Z"
   },
   {
    "duration": 0,
    "start_time": "2022-05-29T21:40:24.394Z"
   },
   {
    "duration": 0,
    "start_time": "2022-05-29T21:40:24.396Z"
   },
   {
    "duration": 0,
    "start_time": "2022-05-29T21:40:24.397Z"
   },
   {
    "duration": 0,
    "start_time": "2022-05-29T21:40:24.399Z"
   },
   {
    "duration": 438,
    "start_time": "2022-05-29T21:41:03.383Z"
   },
   {
    "duration": 80,
    "start_time": "2022-05-29T21:41:03.823Z"
   },
   {
    "duration": 18,
    "start_time": "2022-05-29T21:41:03.904Z"
   },
   {
    "duration": 21,
    "start_time": "2022-05-29T21:41:03.924Z"
   },
   {
    "duration": 34,
    "start_time": "2022-05-29T21:41:03.965Z"
   },
   {
    "duration": 11,
    "start_time": "2022-05-29T21:41:04.000Z"
   },
   {
    "duration": 60,
    "start_time": "2022-05-29T21:41:04.012Z"
   },
   {
    "duration": 11,
    "start_time": "2022-05-29T21:41:04.074Z"
   },
   {
    "duration": 2,
    "start_time": "2022-05-29T21:41:04.087Z"
   },
   {
    "duration": 15,
    "start_time": "2022-05-29T21:41:04.092Z"
   },
   {
    "duration": 3,
    "start_time": "2022-05-29T21:41:04.109Z"
   },
   {
    "duration": 68,
    "start_time": "2022-05-29T21:41:04.113Z"
   },
   {
    "duration": 4,
    "start_time": "2022-05-29T21:41:04.183Z"
   },
   {
    "duration": 8,
    "start_time": "2022-05-29T21:41:04.189Z"
   },
   {
    "duration": 3,
    "start_time": "2022-05-29T21:41:04.198Z"
   },
   {
    "duration": 7,
    "start_time": "2022-05-29T21:41:04.203Z"
   },
   {
    "duration": 0,
    "start_time": "2022-05-29T21:41:04.212Z"
   },
   {
    "duration": 0,
    "start_time": "2022-05-29T21:41:04.213Z"
   },
   {
    "duration": 0,
    "start_time": "2022-05-29T21:41:04.215Z"
   },
   {
    "duration": 0,
    "start_time": "2022-05-29T21:41:04.216Z"
   },
   {
    "duration": 0,
    "start_time": "2022-05-29T21:41:04.217Z"
   },
   {
    "duration": 0,
    "start_time": "2022-05-29T21:41:04.219Z"
   },
   {
    "duration": 0,
    "start_time": "2022-05-29T21:41:04.220Z"
   },
   {
    "duration": 29,
    "start_time": "2022-05-29T21:44:17.853Z"
   },
   {
    "duration": 27,
    "start_time": "2022-05-29T21:44:24.458Z"
   },
   {
    "duration": 443,
    "start_time": "2022-05-29T21:45:19.268Z"
   },
   {
    "duration": 82,
    "start_time": "2022-05-29T21:45:19.713Z"
   },
   {
    "duration": 17,
    "start_time": "2022-05-29T21:45:19.797Z"
   },
   {
    "duration": 22,
    "start_time": "2022-05-29T21:45:19.816Z"
   },
   {
    "duration": 52,
    "start_time": "2022-05-29T21:45:19.841Z"
   },
   {
    "duration": 10,
    "start_time": "2022-05-29T21:45:19.895Z"
   },
   {
    "duration": 59,
    "start_time": "2022-05-29T21:45:19.907Z"
   },
   {
    "duration": 11,
    "start_time": "2022-05-29T21:45:19.968Z"
   },
   {
    "duration": 3,
    "start_time": "2022-05-29T21:45:19.981Z"
   },
   {
    "duration": 22,
    "start_time": "2022-05-29T21:45:19.985Z"
   },
   {
    "duration": 3,
    "start_time": "2022-05-29T21:45:20.009Z"
   },
   {
    "duration": 70,
    "start_time": "2022-05-29T21:45:20.014Z"
   },
   {
    "duration": 5,
    "start_time": "2022-05-29T21:45:20.086Z"
   },
   {
    "duration": 8,
    "start_time": "2022-05-29T21:45:20.094Z"
   },
   {
    "duration": 16,
    "start_time": "2022-05-29T21:45:20.104Z"
   },
   {
    "duration": 7,
    "start_time": "2022-05-29T21:45:20.122Z"
   },
   {
    "duration": 0,
    "start_time": "2022-05-29T21:45:20.132Z"
   },
   {
    "duration": 0,
    "start_time": "2022-05-29T21:45:20.133Z"
   },
   {
    "duration": 0,
    "start_time": "2022-05-29T21:45:20.135Z"
   },
   {
    "duration": 0,
    "start_time": "2022-05-29T21:45:20.137Z"
   },
   {
    "duration": 0,
    "start_time": "2022-05-29T21:45:20.138Z"
   },
   {
    "duration": 0,
    "start_time": "2022-05-29T21:45:20.139Z"
   },
   {
    "duration": 0,
    "start_time": "2022-05-29T21:45:20.140Z"
   },
   {
    "duration": 48,
    "start_time": "2022-05-29T21:48:12.238Z"
   },
   {
    "duration": 31,
    "start_time": "2022-05-29T21:48:38.657Z"
   },
   {
    "duration": 43,
    "start_time": "2022-05-29T21:48:47.297Z"
   },
   {
    "duration": 81,
    "start_time": "2022-05-29T21:49:55.196Z"
   },
   {
    "duration": 30,
    "start_time": "2022-05-29T21:50:16.297Z"
   },
   {
    "duration": 58,
    "start_time": "2022-05-29T21:51:51.138Z"
   },
   {
    "duration": 25,
    "start_time": "2022-05-29T21:52:12.989Z"
   },
   {
    "duration": 48,
    "start_time": "2022-05-29T21:52:26.067Z"
   },
   {
    "duration": 46,
    "start_time": "2022-05-29T21:52:40.672Z"
   },
   {
    "duration": 82,
    "start_time": "2022-05-29T21:54:26.896Z"
   },
   {
    "duration": 547,
    "start_time": "2022-05-29T21:54:39.875Z"
   },
   {
    "duration": 18,
    "start_time": "2022-05-29T21:55:01.634Z"
   },
   {
    "duration": 33,
    "start_time": "2022-05-29T21:55:37.197Z"
   },
   {
    "duration": 57,
    "start_time": "2022-05-30T12:02:55.618Z"
   },
   {
    "duration": 437,
    "start_time": "2022-05-30T12:03:06.336Z"
   },
   {
    "duration": 320,
    "start_time": "2022-05-30T12:03:06.774Z"
   },
   {
    "duration": 16,
    "start_time": "2022-05-30T12:03:07.095Z"
   },
   {
    "duration": 22,
    "start_time": "2022-05-30T12:03:07.113Z"
   },
   {
    "duration": 33,
    "start_time": "2022-05-30T12:03:07.137Z"
   },
   {
    "duration": 10,
    "start_time": "2022-05-30T12:03:07.172Z"
   },
   {
    "duration": 36,
    "start_time": "2022-05-30T12:03:07.183Z"
   },
   {
    "duration": 11,
    "start_time": "2022-05-30T12:03:07.220Z"
   },
   {
    "duration": 21,
    "start_time": "2022-05-30T12:03:07.232Z"
   },
   {
    "duration": 22,
    "start_time": "2022-05-30T12:03:07.258Z"
   },
   {
    "duration": 4,
    "start_time": "2022-05-30T12:03:07.282Z"
   },
   {
    "duration": 49,
    "start_time": "2022-05-30T12:03:07.287Z"
   },
   {
    "duration": 17,
    "start_time": "2022-05-30T12:03:07.338Z"
   },
   {
    "duration": 7,
    "start_time": "2022-05-30T12:03:07.357Z"
   },
   {
    "duration": 8,
    "start_time": "2022-05-30T12:03:07.366Z"
   },
   {
    "duration": 20,
    "start_time": "2022-05-30T12:03:07.376Z"
   },
   {
    "duration": 10,
    "start_time": "2022-05-30T12:03:07.398Z"
   },
   {
    "duration": 12,
    "start_time": "2022-05-30T12:03:07.409Z"
   },
   {
    "duration": 103,
    "start_time": "2022-05-30T12:03:07.422Z"
   },
   {
    "duration": 0,
    "start_time": "2022-05-30T12:03:07.527Z"
   },
   {
    "duration": 0,
    "start_time": "2022-05-30T12:03:07.528Z"
   },
   {
    "duration": 0,
    "start_time": "2022-05-30T12:03:07.529Z"
   },
   {
    "duration": 0,
    "start_time": "2022-05-30T12:03:07.530Z"
   },
   {
    "duration": 15,
    "start_time": "2022-05-30T12:04:18.181Z"
   },
   {
    "duration": 487,
    "start_time": "2022-05-30T12:06:05.153Z"
   },
   {
    "duration": 14,
    "start_time": "2022-05-30T12:06:15.390Z"
   },
   {
    "duration": 11,
    "start_time": "2022-05-30T12:06:16.790Z"
   },
   {
    "duration": 5,
    "start_time": "2022-05-30T12:12:06.624Z"
   },
   {
    "duration": 531,
    "start_time": "2022-05-30T12:12:14.352Z"
   },
   {
    "duration": 99,
    "start_time": "2022-05-30T12:12:14.885Z"
   },
   {
    "duration": 22,
    "start_time": "2022-05-30T12:12:14.986Z"
   },
   {
    "duration": 49,
    "start_time": "2022-05-30T12:12:15.012Z"
   },
   {
    "duration": 39,
    "start_time": "2022-05-30T12:12:15.063Z"
   },
   {
    "duration": 14,
    "start_time": "2022-05-30T12:12:15.104Z"
   },
   {
    "duration": 61,
    "start_time": "2022-05-30T12:12:15.120Z"
   },
   {
    "duration": 13,
    "start_time": "2022-05-30T12:12:15.183Z"
   },
   {
    "duration": 4,
    "start_time": "2022-05-30T12:12:15.198Z"
   },
   {
    "duration": 54,
    "start_time": "2022-05-30T12:12:15.205Z"
   },
   {
    "duration": 3,
    "start_time": "2022-05-30T12:12:15.262Z"
   },
   {
    "duration": 93,
    "start_time": "2022-05-30T12:12:15.267Z"
   },
   {
    "duration": 7,
    "start_time": "2022-05-30T12:12:15.362Z"
   },
   {
    "duration": 19,
    "start_time": "2022-05-30T12:12:15.371Z"
   },
   {
    "duration": 29,
    "start_time": "2022-05-30T12:12:15.392Z"
   },
   {
    "duration": 67,
    "start_time": "2022-05-30T12:12:15.423Z"
   },
   {
    "duration": 66,
    "start_time": "2022-05-30T12:12:15.492Z"
   },
   {
    "duration": 64,
    "start_time": "2022-05-30T12:12:15.560Z"
   },
   {
    "duration": 47,
    "start_time": "2022-05-30T12:12:15.626Z"
   },
   {
    "duration": 18,
    "start_time": "2022-05-30T12:12:15.676Z"
   },
   {
    "duration": 122,
    "start_time": "2022-05-30T12:12:15.696Z"
   },
   {
    "duration": 0,
    "start_time": "2022-05-30T12:12:15.820Z"
   },
   {
    "duration": 0,
    "start_time": "2022-05-30T12:12:15.821Z"
   },
   {
    "duration": 408,
    "start_time": "2022-05-30T21:04:40.068Z"
   },
   {
    "duration": 327,
    "start_time": "2022-05-30T21:04:40.478Z"
   },
   {
    "duration": 15,
    "start_time": "2022-05-30T21:04:40.807Z"
   },
   {
    "duration": 28,
    "start_time": "2022-05-30T21:04:40.824Z"
   },
   {
    "duration": 52,
    "start_time": "2022-05-30T21:04:40.854Z"
   },
   {
    "duration": 11,
    "start_time": "2022-05-30T21:04:40.908Z"
   },
   {
    "duration": 69,
    "start_time": "2022-05-30T21:04:40.920Z"
   },
   {
    "duration": 9,
    "start_time": "2022-05-30T21:04:40.991Z"
   },
   {
    "duration": 3,
    "start_time": "2022-05-30T21:04:41.002Z"
   },
   {
    "duration": 38,
    "start_time": "2022-05-30T21:04:41.006Z"
   },
   {
    "duration": 24,
    "start_time": "2022-05-30T21:04:41.046Z"
   },
   {
    "duration": 74,
    "start_time": "2022-05-30T21:04:41.072Z"
   },
   {
    "duration": 9,
    "start_time": "2022-05-30T21:04:41.148Z"
   },
   {
    "duration": 20,
    "start_time": "2022-05-30T21:04:41.159Z"
   },
   {
    "duration": 18,
    "start_time": "2022-05-30T21:04:41.181Z"
   },
   {
    "duration": 45,
    "start_time": "2022-05-30T21:04:41.201Z"
   },
   {
    "duration": 28,
    "start_time": "2022-05-30T21:04:41.248Z"
   },
   {
    "duration": 13,
    "start_time": "2022-05-30T21:04:41.278Z"
   },
   {
    "duration": 40,
    "start_time": "2022-05-30T21:04:41.293Z"
   },
   {
    "duration": 15,
    "start_time": "2022-05-30T21:04:41.336Z"
   },
   {
    "duration": 104,
    "start_time": "2022-05-30T21:04:41.352Z"
   },
   {
    "duration": 0,
    "start_time": "2022-05-30T21:04:41.458Z"
   },
   {
    "duration": 0,
    "start_time": "2022-05-30T21:04:41.459Z"
   },
   {
    "duration": 84,
    "start_time": "2022-06-06T17:24:44.401Z"
   },
   {
    "duration": 422,
    "start_time": "2022-06-06T17:24:57.962Z"
   },
   {
    "duration": 132,
    "start_time": "2022-06-06T17:24:58.386Z"
   },
   {
    "duration": 16,
    "start_time": "2022-06-06T17:24:58.520Z"
   },
   {
    "duration": 23,
    "start_time": "2022-06-06T17:24:58.539Z"
   },
   {
    "duration": 35,
    "start_time": "2022-06-06T17:24:58.564Z"
   },
   {
    "duration": 33,
    "start_time": "2022-06-06T17:24:58.601Z"
   },
   {
    "duration": 41,
    "start_time": "2022-06-06T17:24:58.636Z"
   },
   {
    "duration": 10,
    "start_time": "2022-06-06T17:24:58.679Z"
   },
   {
    "duration": 3,
    "start_time": "2022-06-06T17:24:58.691Z"
   },
   {
    "duration": 39,
    "start_time": "2022-06-06T17:24:58.696Z"
   },
   {
    "duration": 3,
    "start_time": "2022-06-06T17:24:58.737Z"
   },
   {
    "duration": 38,
    "start_time": "2022-06-06T17:24:58.741Z"
   },
   {
    "duration": 4,
    "start_time": "2022-06-06T17:24:58.781Z"
   },
   {
    "duration": 7,
    "start_time": "2022-06-06T17:24:58.786Z"
   },
   {
    "duration": 32,
    "start_time": "2022-06-06T17:24:58.795Z"
   },
   {
    "duration": 22,
    "start_time": "2022-06-06T17:24:58.828Z"
   },
   {
    "duration": 12,
    "start_time": "2022-06-06T17:24:58.851Z"
   },
   {
    "duration": 13,
    "start_time": "2022-06-06T17:24:58.865Z"
   },
   {
    "duration": 46,
    "start_time": "2022-06-06T17:24:58.880Z"
   },
   {
    "duration": 19,
    "start_time": "2022-06-06T17:24:58.928Z"
   },
   {
    "duration": 112,
    "start_time": "2022-06-06T17:24:58.949Z"
   },
   {
    "duration": 0,
    "start_time": "2022-06-06T17:24:59.063Z"
   },
   {
    "duration": 0,
    "start_time": "2022-06-06T17:24:59.064Z"
   },
   {
    "duration": 25,
    "start_time": "2022-06-06T17:25:10.225Z"
   },
   {
    "duration": 458,
    "start_time": "2022-06-06T17:25:23.210Z"
   },
   {
    "duration": 76,
    "start_time": "2022-06-06T17:25:23.670Z"
   },
   {
    "duration": 15,
    "start_time": "2022-06-06T17:25:23.748Z"
   },
   {
    "duration": 21,
    "start_time": "2022-06-06T17:25:23.765Z"
   },
   {
    "duration": 57,
    "start_time": "2022-06-06T17:25:23.788Z"
   },
   {
    "duration": 11,
    "start_time": "2022-06-06T17:25:23.847Z"
   },
   {
    "duration": 39,
    "start_time": "2022-06-06T17:25:23.860Z"
   },
   {
    "duration": 32,
    "start_time": "2022-06-06T17:25:23.900Z"
   },
   {
    "duration": 2,
    "start_time": "2022-06-06T17:25:23.934Z"
   },
   {
    "duration": 20,
    "start_time": "2022-06-06T17:25:23.937Z"
   },
   {
    "duration": 3,
    "start_time": "2022-06-06T17:25:23.959Z"
   },
   {
    "duration": 73,
    "start_time": "2022-06-06T17:25:23.964Z"
   },
   {
    "duration": 4,
    "start_time": "2022-06-06T17:25:24.039Z"
   },
   {
    "duration": 5,
    "start_time": "2022-06-06T17:25:24.046Z"
   },
   {
    "duration": 8,
    "start_time": "2022-06-06T17:25:24.052Z"
   },
   {
    "duration": 22,
    "start_time": "2022-06-06T17:25:24.061Z"
   },
   {
    "duration": 11,
    "start_time": "2022-06-06T17:25:24.084Z"
   },
   {
    "duration": 32,
    "start_time": "2022-06-06T17:25:24.097Z"
   },
   {
    "duration": 30,
    "start_time": "2022-06-06T17:25:24.131Z"
   },
   {
    "duration": 13,
    "start_time": "2022-06-06T17:25:24.163Z"
   },
   {
    "duration": 24,
    "start_time": "2022-06-06T17:25:24.177Z"
   },
   {
    "duration": 32,
    "start_time": "2022-06-06T17:25:24.225Z"
   },
   {
    "duration": 31,
    "start_time": "2022-06-06T17:25:24.259Z"
   },
   {
    "duration": 517,
    "start_time": "2022-06-07T07:03:19.507Z"
   },
   {
    "duration": 161,
    "start_time": "2022-06-07T07:03:20.027Z"
   },
   {
    "duration": 17,
    "start_time": "2022-06-07T07:03:20.190Z"
   },
   {
    "duration": 29,
    "start_time": "2022-06-07T07:03:20.209Z"
   },
   {
    "duration": 36,
    "start_time": "2022-06-07T07:03:20.242Z"
   },
   {
    "duration": 16,
    "start_time": "2022-06-07T07:03:20.280Z"
   },
   {
    "duration": 82,
    "start_time": "2022-06-07T07:03:20.298Z"
   },
   {
    "duration": 13,
    "start_time": "2022-06-07T07:03:20.383Z"
   },
   {
    "duration": 2,
    "start_time": "2022-06-07T07:03:20.398Z"
   },
   {
    "duration": 48,
    "start_time": "2022-06-07T07:03:20.402Z"
   },
   {
    "duration": 3,
    "start_time": "2022-06-07T07:03:20.452Z"
   },
   {
    "duration": 41,
    "start_time": "2022-06-07T07:03:20.457Z"
   },
   {
    "duration": 5,
    "start_time": "2022-06-07T07:03:20.500Z"
   },
   {
    "duration": 41,
    "start_time": "2022-06-07T07:03:20.507Z"
   },
   {
    "duration": 14,
    "start_time": "2022-06-07T07:03:20.550Z"
   },
   {
    "duration": 36,
    "start_time": "2022-06-07T07:03:20.566Z"
   },
   {
    "duration": 17,
    "start_time": "2022-06-07T07:03:20.604Z"
   },
   {
    "duration": 37,
    "start_time": "2022-06-07T07:03:20.623Z"
   },
   {
    "duration": 38,
    "start_time": "2022-06-07T07:03:20.662Z"
   },
   {
    "duration": 15,
    "start_time": "2022-06-07T07:03:20.702Z"
   },
   {
    "duration": 30,
    "start_time": "2022-06-07T07:03:20.718Z"
   },
   {
    "duration": 40,
    "start_time": "2022-06-07T07:03:20.750Z"
   },
   {
    "duration": 31,
    "start_time": "2022-06-07T07:03:20.792Z"
   },
   {
    "duration": 409,
    "start_time": "2022-06-07T12:41:02.874Z"
   },
   {
    "duration": 109,
    "start_time": "2022-06-07T12:41:03.285Z"
   },
   {
    "duration": 14,
    "start_time": "2022-06-07T12:41:03.397Z"
   },
   {
    "duration": 20,
    "start_time": "2022-06-07T12:41:03.413Z"
   },
   {
    "duration": 26,
    "start_time": "2022-06-07T12:41:03.434Z"
   },
   {
    "duration": 7,
    "start_time": "2022-06-07T12:41:03.462Z"
   },
   {
    "duration": 61,
    "start_time": "2022-06-07T12:41:03.470Z"
   },
   {
    "duration": 8,
    "start_time": "2022-06-07T12:41:03.532Z"
   },
   {
    "duration": 2,
    "start_time": "2022-06-07T12:41:03.541Z"
   },
   {
    "duration": 20,
    "start_time": "2022-06-07T12:41:03.544Z"
   },
   {
    "duration": 5,
    "start_time": "2022-06-07T12:41:03.565Z"
   },
   {
    "duration": 50,
    "start_time": "2022-06-07T12:41:03.571Z"
   },
   {
    "duration": 3,
    "start_time": "2022-06-07T12:41:03.622Z"
   },
   {
    "duration": 13,
    "start_time": "2022-06-07T12:41:03.627Z"
   },
   {
    "duration": 14,
    "start_time": "2022-06-07T12:41:03.641Z"
   },
   {
    "duration": 18,
    "start_time": "2022-06-07T12:41:03.656Z"
   },
   {
    "duration": 9,
    "start_time": "2022-06-07T12:41:03.675Z"
   },
   {
    "duration": 10,
    "start_time": "2022-06-07T12:41:03.685Z"
   },
   {
    "duration": 42,
    "start_time": "2022-06-07T12:41:03.698Z"
   },
   {
    "duration": 11,
    "start_time": "2022-06-07T12:41:03.742Z"
   },
   {
    "duration": 31,
    "start_time": "2022-06-07T12:41:03.754Z"
   },
   {
    "duration": 33,
    "start_time": "2022-06-07T12:41:03.787Z"
   },
   {
    "duration": 28,
    "start_time": "2022-06-07T12:41:03.822Z"
   },
   {
    "duration": 32,
    "start_time": "2022-06-07T12:41:29.194Z"
   },
   {
    "duration": 31,
    "start_time": "2022-06-07T12:41:37.786Z"
   },
   {
    "duration": 25,
    "start_time": "2022-06-07T12:41:43.824Z"
   },
   {
    "duration": 19,
    "start_time": "2022-06-07T12:41:48.755Z"
   },
   {
    "duration": 74,
    "start_time": "2022-06-07T12:42:15.772Z"
   },
   {
    "duration": 8,
    "start_time": "2022-06-07T12:42:26.854Z"
   },
   {
    "duration": 47,
    "start_time": "2022-06-07T12:45:10.617Z"
   },
   {
    "duration": 7,
    "start_time": "2022-06-07T12:47:53.841Z"
   },
   {
    "duration": 6,
    "start_time": "2022-06-07T12:47:57.673Z"
   },
   {
    "duration": 6,
    "start_time": "2022-06-07T12:48:11.969Z"
   },
   {
    "duration": 6,
    "start_time": "2022-06-07T12:48:35.825Z"
   },
   {
    "duration": 6,
    "start_time": "2022-06-07T12:48:49.671Z"
   }
  ],
  "kernelspec": {
   "display_name": "Python 3 (ipykernel)",
   "language": "python",
   "name": "python3"
  },
  "language_info": {
   "codemirror_mode": {
    "name": "ipython",
    "version": 3
   },
   "file_extension": ".py",
   "mimetype": "text/x-python",
   "name": "python",
   "nbconvert_exporter": "python",
   "pygments_lexer": "ipython3",
   "version": "3.9.12"
  },
  "toc": {
   "base_numbering": 1,
   "nav_menu": {},
   "number_sections": true,
   "sideBar": true,
   "skip_h1_title": true,
   "title_cell": "Table of Contents",
   "title_sidebar": "Contents",
   "toc_cell": false,
   "toc_position": {},
   "toc_section_display": true,
   "toc_window_display": false
  }
 },
 "nbformat": 4,
 "nbformat_minor": 5
}
