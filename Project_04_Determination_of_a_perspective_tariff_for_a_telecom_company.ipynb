{
 "cells": [
  {
   "cell_type": "markdown",
   "metadata": {},
   "source": [
    "# Determination of a perspective tariff for a telecom company"
   ]
  },
  {
   "cell_type": "markdown",
   "metadata": {},
   "source": [
    "Customers are offered two tariff plans: \"Smart\" and \"Ultra\". \n",
    "To adjust the advertising budget the commercial department wants to know which tariff brings more money.\n",
    "\n",
    "The project conducted a preliminary analysis of tariffs on a small sample of customers. We have the data of 500 Megalyne users at our disposal: \n",
    "\n",
    "- who they are?\n",
    "- where they come from?\n",
    "- what tariff they use?\n",
    "- how many calls and messages each sent in 2018?\n",
    "\n",
    "An analysis of customer behavior will be conducted and a conclusion will be made — which tariff is better."
   ]
  },
  {
   "cell_type": "markdown",
   "metadata": {},
   "source": [
    "**Description of tariffs**\n",
    "\n",
    "**\"Smart\" tariff:**\n",
    "\n",
    "1) Monthly fee: 550 rubles\n",
    "\n",
    "2) Included 500 minutes of conversation, 50 messages and 15 GB of Internet traffic\n",
    "\n",
    "3) The cost of services in excess of the tariff package:\n",
    "\n",
    "- a minute of conversation: 3 rubles\n",
    "- message: 3 rubles\n",
    "- 1 GB of Internet traffic: 200 rubles \n",
    "\n",
    "**\"Ultra\" tariff**\n",
    "\n",
    "1) Monthly fee: 1950 rubles\n",
    "\n",
    "2) 3000 minutes of conversation, 1000 messages and 30 GB of Internet traffic are included\n",
    "\n",
    "3) The cost of services in excess of the tariff package:\n",
    "\n",
    "- a minute of conversation: 1 ruble\n",
    "- message: 1 ruble\n",
    "- 1 GB of Internet traffic: 150 rubles"
   ]
  },
  {
   "cell_type": "markdown",
   "metadata": {},
   "source": [
    "**Data description:**\n",
    "\n",
    "Users table (information about users):\n",
    "\n",
    "- `user_id` — unique user ID\n",
    "- `first_name` — user name\n",
    "- `last_name` — last name of the user\n",
    "- `age`— user's age (years)\n",
    "- `reg_date` — tariff activation date (day, month, year)\n",
    "- `churn_date` — date of termination of use of the tariff (if the value is omitted, the tariff was still valid at the time of data upload)\n",
    "- `city` — the user's city of residence\n",
    "- `tariff` — name of the tariff plan\n",
    "\n",
    "Calls table (information about calls):\n",
    "\n",
    "- `id` — unique call number\n",
    "- `call_date` — date of the call\n",
    "- `duration` — the duration of the call in minutes\n",
    "- `user_id` — id of the user who made the call\n",
    "\n",
    "Messages table (information about messages):\n",
    "\n",
    "- `id` — unique message number\n",
    "- `message_date` — date of the message\n",
    "- `user_id` — id of the user who sent the message\n",
    "\n",
    "Internet table (information about internet sessions):\n",
    "\n",
    "- `id` — unique session number\n",
    "- `mb_used` — the amount of Internet traffic spent per session (in megabytes)\n",
    "- `session_date` — date of the internet session\n",
    "- `user_id` — user ID\n",
    "\n",
    "Tariffs table (information about tariffs):\n",
    "\n",
    "- `tariff_name` — name of the tariff\n",
    "- `rub_monthly_fee` — monthly subscription fee in rubles\n",
    "- `minutes_included` — the number of minutes of conversation per month included in the subscription fee\n",
    "- `messages_included` — the number of messages per month included in the subscription fee\n",
    "- `mb_per_month_included` — the amount of Internet traffic included in the subscription fee (in megabytes)\n",
    "- `rub_per_minute` — the cost of a minute of conversation over the tariff package (for example, if the tariff has 100 minutes of conversation per month, then a fee will be charged from 101 minutes)\n",
    "- `rub_per_message` — the cost of sending a message over the tariff package\n",
    "- `rub_per_gb` — the cost of an additional gigabyte of Internet traffic over the tariff package (1 gigabyte = 1024 megabytes)"
   ]
  },
  {
   "cell_type": "markdown",
   "metadata": {},
   "source": [
    "# Step 1. Open the data files and study the general information"
   ]
  },
  {
   "cell_type": "code",
   "execution_count": 1,
   "metadata": {},
   "outputs": [],
   "source": [
    "import pandas as pd\n",
    "import math as mt\n",
    "import numpy as np\n",
    "import datetime as dt\n",
    "from functools import reduce\n",
    "import seaborn as sb\n",
    "import matplotlib.pyplot as plt\n",
    "from scipy import stats as st"
   ]
  },
  {
   "cell_type": "code",
   "execution_count": 2,
   "metadata": {},
   "outputs": [],
   "source": [
    "data_calls = pd.read_csv('calls.csv')\n",
    "data_inet = pd.read_csv('internet.csv')\n",
    "data_mes = pd.read_csv('messages.csv')\n",
    "data_trf = pd.read_csv('tariffs.csv')\n",
    "data_user = pd.read_csv('users.csv')"
   ]
  },
  {
   "cell_type": "code",
   "execution_count": 3,
   "metadata": {},
   "outputs": [],
   "source": [
    "# display(data_calls)\n",
    "# display(data_inet)\n",
    "# display(data_mes)\n",
    "# display(data_trf)\n",
    "# display(data_user)"
   ]
  },
  {
   "cell_type": "markdown",
   "metadata": {},
   "source": [
    "# Шаг 2. Подготовьте данные"
   ]
  },
  {
   "cell_type": "markdown",
   "metadata": {},
   "source": [
    "##  \"data_calls\" preprocessing"
   ]
  },
  {
   "cell_type": "code",
   "execution_count": 4,
   "metadata": {
    "scrolled": true
   },
   "outputs": [
    {
     "data": {
      "text/html": [
       "<div>\n",
       "<style scoped>\n",
       "    .dataframe tbody tr th:only-of-type {\n",
       "        vertical-align: middle;\n",
       "    }\n",
       "\n",
       "    .dataframe tbody tr th {\n",
       "        vertical-align: top;\n",
       "    }\n",
       "\n",
       "    .dataframe thead th {\n",
       "        text-align: right;\n",
       "    }\n",
       "</style>\n",
       "<table border=\"1\" class=\"dataframe\">\n",
       "  <thead>\n",
       "    <tr style=\"text-align: right;\">\n",
       "      <th></th>\n",
       "      <th>id</th>\n",
       "      <th>call_date</th>\n",
       "      <th>duration</th>\n",
       "      <th>user_id</th>\n",
       "    </tr>\n",
       "  </thead>\n",
       "  <tbody>\n",
       "    <tr>\n",
       "      <th>0</th>\n",
       "      <td>1000_0</td>\n",
       "      <td>2018-07-25</td>\n",
       "      <td>0.00</td>\n",
       "      <td>1000</td>\n",
       "    </tr>\n",
       "    <tr>\n",
       "      <th>1</th>\n",
       "      <td>1000_1</td>\n",
       "      <td>2018-08-17</td>\n",
       "      <td>0.00</td>\n",
       "      <td>1000</td>\n",
       "    </tr>\n",
       "    <tr>\n",
       "      <th>2</th>\n",
       "      <td>1000_2</td>\n",
       "      <td>2018-06-11</td>\n",
       "      <td>2.85</td>\n",
       "      <td>1000</td>\n",
       "    </tr>\n",
       "    <tr>\n",
       "      <th>3</th>\n",
       "      <td>1000_3</td>\n",
       "      <td>2018-09-21</td>\n",
       "      <td>13.80</td>\n",
       "      <td>1000</td>\n",
       "    </tr>\n",
       "    <tr>\n",
       "      <th>4</th>\n",
       "      <td>1000_4</td>\n",
       "      <td>2018-12-15</td>\n",
       "      <td>5.18</td>\n",
       "      <td>1000</td>\n",
       "    </tr>\n",
       "    <tr>\n",
       "      <th>...</th>\n",
       "      <td>...</td>\n",
       "      <td>...</td>\n",
       "      <td>...</td>\n",
       "      <td>...</td>\n",
       "    </tr>\n",
       "    <tr>\n",
       "      <th>202602</th>\n",
       "      <td>1499_215</td>\n",
       "      <td>2018-12-26</td>\n",
       "      <td>0.76</td>\n",
       "      <td>1499</td>\n",
       "    </tr>\n",
       "    <tr>\n",
       "      <th>202603</th>\n",
       "      <td>1499_216</td>\n",
       "      <td>2018-10-18</td>\n",
       "      <td>18.83</td>\n",
       "      <td>1499</td>\n",
       "    </tr>\n",
       "    <tr>\n",
       "      <th>202604</th>\n",
       "      <td>1499_217</td>\n",
       "      <td>2018-11-10</td>\n",
       "      <td>10.81</td>\n",
       "      <td>1499</td>\n",
       "    </tr>\n",
       "    <tr>\n",
       "      <th>202605</th>\n",
       "      <td>1499_218</td>\n",
       "      <td>2018-10-06</td>\n",
       "      <td>4.27</td>\n",
       "      <td>1499</td>\n",
       "    </tr>\n",
       "    <tr>\n",
       "      <th>202606</th>\n",
       "      <td>1499_219</td>\n",
       "      <td>2018-12-14</td>\n",
       "      <td>19.62</td>\n",
       "      <td>1499</td>\n",
       "    </tr>\n",
       "  </tbody>\n",
       "</table>\n",
       "<p>202607 rows × 4 columns</p>\n",
       "</div>"
      ],
      "text/plain": [
       "              id   call_date  duration  user_id\n",
       "0         1000_0  2018-07-25      0.00     1000\n",
       "1         1000_1  2018-08-17      0.00     1000\n",
       "2         1000_2  2018-06-11      2.85     1000\n",
       "3         1000_3  2018-09-21     13.80     1000\n",
       "4         1000_4  2018-12-15      5.18     1000\n",
       "...          ...         ...       ...      ...\n",
       "202602  1499_215  2018-12-26      0.76     1499\n",
       "202603  1499_216  2018-10-18     18.83     1499\n",
       "202604  1499_217  2018-11-10     10.81     1499\n",
       "202605  1499_218  2018-10-06      4.27     1499\n",
       "202606  1499_219  2018-12-14     19.62     1499\n",
       "\n",
       "[202607 rows x 4 columns]"
      ]
     },
     "metadata": {},
     "output_type": "display_data"
    },
    {
     "name": "stdout",
     "output_type": "stream",
     "text": [
      "<class 'pandas.core.frame.DataFrame'>\n",
      "RangeIndex: 202607 entries, 0 to 202606\n",
      "Data columns (total 4 columns):\n",
      " #   Column     Non-Null Count   Dtype  \n",
      "---  ------     --------------   -----  \n",
      " 0   id         202607 non-null  object \n",
      " 1   call_date  202607 non-null  object \n",
      " 2   duration   202607 non-null  float64\n",
      " 3   user_id    202607 non-null  int64  \n",
      "dtypes: float64(1), int64(1), object(2)\n",
      "memory usage: 6.2+ MB\n"
     ]
    }
   ],
   "source": [
    "display(data_calls)\n",
    "data_calls.info()\n",
    "# DROP DUPLICATES\n",
    "data_calls = data_calls.drop_duplicates()"
   ]
  },
  {
   "cell_type": "code",
   "execution_count": 5,
   "metadata": {},
   "outputs": [
    {
     "name": "stdout",
     "output_type": "stream",
     "text": [
      "               calls_count  sum_duration\n",
      "user_id month                           \n",
      "1000    5               22           159\n",
      "        6               43           172\n",
      "        7               47           340\n",
      "        8               52           408\n",
      "        9               58           466\n",
      "...                    ...           ...\n",
      "1498    10              41           247\n",
      "1499    9                9            70\n",
      "        10              68           449\n",
      "        11              74           612\n",
      "        12              69           492\n",
      "\n",
      "[3174 rows x 2 columns]\n"
     ]
    }
   ],
   "source": [
    "# round the time up according to the tariff condition and convert them to integer to save RAM\n",
    "data_calls['duration'] = np.ceil(data_calls['duration']).astype(int)\n",
    "\n",
    "# Change data type to datetime\n",
    "data_calls['call_date'] = pd.to_datetime(data_calls['call_date'], format='%Y.%m.%d')\n",
    "\n",
    "# add a column with month\n",
    "data_calls['month'] = data_calls['call_date'].dt.month\n",
    "\n",
    "# the number of calls made for each user and spent minutes of conversation by month\n",
    "calls_by_month = data_calls.pivot_table(index=['user_id','month'], values='duration', aggfunc=['count','sum']) \n",
    "calls_by_month.columns = ['calls_count','sum_duration']\n",
    "print(calls_by_month)"
   ]
  },
  {
   "cell_type": "code",
   "execution_count": 6,
   "metadata": {},
   "outputs": [
    {
     "name": "stdout",
     "output_type": "stream",
     "text": [
      "<class 'pandas.core.frame.DataFrame'>\n",
      "Int64Index: 202607 entries, 0 to 202606\n",
      "Data columns (total 5 columns):\n",
      " #   Column     Non-Null Count   Dtype         \n",
      "---  ------     --------------   -----         \n",
      " 0   id         202607 non-null  object        \n",
      " 1   call_date  202607 non-null  datetime64[ns]\n",
      " 2   duration   202607 non-null  int32         \n",
      " 3   user_id    202607 non-null  int64         \n",
      " 4   month      202607 non-null  int64         \n",
      "dtypes: datetime64[ns](1), int32(1), int64(2), object(1)\n",
      "memory usage: 8.5+ MB\n"
     ]
    },
    {
     "data": {
      "text/html": [
       "<div>\n",
       "<style scoped>\n",
       "    .dataframe tbody tr th:only-of-type {\n",
       "        vertical-align: middle;\n",
       "    }\n",
       "\n",
       "    .dataframe tbody tr th {\n",
       "        vertical-align: top;\n",
       "    }\n",
       "\n",
       "    .dataframe thead th {\n",
       "        text-align: right;\n",
       "    }\n",
       "</style>\n",
       "<table border=\"1\" class=\"dataframe\">\n",
       "  <thead>\n",
       "    <tr style=\"text-align: right;\">\n",
       "      <th></th>\n",
       "      <th>id</th>\n",
       "      <th>call_date</th>\n",
       "      <th>duration</th>\n",
       "      <th>user_id</th>\n",
       "      <th>month</th>\n",
       "    </tr>\n",
       "  </thead>\n",
       "  <tbody>\n",
       "    <tr>\n",
       "      <th>0</th>\n",
       "      <td>1000_0</td>\n",
       "      <td>2018-07-25</td>\n",
       "      <td>0</td>\n",
       "      <td>1000</td>\n",
       "      <td>7</td>\n",
       "    </tr>\n",
       "    <tr>\n",
       "      <th>1</th>\n",
       "      <td>1000_1</td>\n",
       "      <td>2018-08-17</td>\n",
       "      <td>0</td>\n",
       "      <td>1000</td>\n",
       "      <td>8</td>\n",
       "    </tr>\n",
       "    <tr>\n",
       "      <th>2</th>\n",
       "      <td>1000_2</td>\n",
       "      <td>2018-06-11</td>\n",
       "      <td>3</td>\n",
       "      <td>1000</td>\n",
       "      <td>6</td>\n",
       "    </tr>\n",
       "    <tr>\n",
       "      <th>3</th>\n",
       "      <td>1000_3</td>\n",
       "      <td>2018-09-21</td>\n",
       "      <td>14</td>\n",
       "      <td>1000</td>\n",
       "      <td>9</td>\n",
       "    </tr>\n",
       "    <tr>\n",
       "      <th>4</th>\n",
       "      <td>1000_4</td>\n",
       "      <td>2018-12-15</td>\n",
       "      <td>6</td>\n",
       "      <td>1000</td>\n",
       "      <td>12</td>\n",
       "    </tr>\n",
       "    <tr>\n",
       "      <th>...</th>\n",
       "      <td>...</td>\n",
       "      <td>...</td>\n",
       "      <td>...</td>\n",
       "      <td>...</td>\n",
       "      <td>...</td>\n",
       "    </tr>\n",
       "    <tr>\n",
       "      <th>202602</th>\n",
       "      <td>1499_215</td>\n",
       "      <td>2018-12-26</td>\n",
       "      <td>1</td>\n",
       "      <td>1499</td>\n",
       "      <td>12</td>\n",
       "    </tr>\n",
       "    <tr>\n",
       "      <th>202603</th>\n",
       "      <td>1499_216</td>\n",
       "      <td>2018-10-18</td>\n",
       "      <td>19</td>\n",
       "      <td>1499</td>\n",
       "      <td>10</td>\n",
       "    </tr>\n",
       "    <tr>\n",
       "      <th>202604</th>\n",
       "      <td>1499_217</td>\n",
       "      <td>2018-11-10</td>\n",
       "      <td>11</td>\n",
       "      <td>1499</td>\n",
       "      <td>11</td>\n",
       "    </tr>\n",
       "    <tr>\n",
       "      <th>202605</th>\n",
       "      <td>1499_218</td>\n",
       "      <td>2018-10-06</td>\n",
       "      <td>5</td>\n",
       "      <td>1499</td>\n",
       "      <td>10</td>\n",
       "    </tr>\n",
       "    <tr>\n",
       "      <th>202606</th>\n",
       "      <td>1499_219</td>\n",
       "      <td>2018-12-14</td>\n",
       "      <td>20</td>\n",
       "      <td>1499</td>\n",
       "      <td>12</td>\n",
       "    </tr>\n",
       "  </tbody>\n",
       "</table>\n",
       "<p>202607 rows × 5 columns</p>\n",
       "</div>"
      ],
      "text/plain": [
       "              id  call_date  duration  user_id  month\n",
       "0         1000_0 2018-07-25         0     1000      7\n",
       "1         1000_1 2018-08-17         0     1000      8\n",
       "2         1000_2 2018-06-11         3     1000      6\n",
       "3         1000_3 2018-09-21        14     1000      9\n",
       "4         1000_4 2018-12-15         6     1000     12\n",
       "...          ...        ...       ...      ...    ...\n",
       "202602  1499_215 2018-12-26         1     1499     12\n",
       "202603  1499_216 2018-10-18        19     1499     10\n",
       "202604  1499_217 2018-11-10        11     1499     11\n",
       "202605  1499_218 2018-10-06         5     1499     10\n",
       "202606  1499_219 2018-12-14        20     1499     12\n",
       "\n",
       "[202607 rows x 5 columns]"
      ]
     },
     "metadata": {},
     "output_type": "display_data"
    }
   ],
   "source": [
    "data_calls.info()\n",
    "display(data_calls)"
   ]
  },
  {
   "cell_type": "markdown",
   "metadata": {},
   "source": [
    "##  \"data_inet\" preprocessing"
   ]
  },
  {
   "cell_type": "code",
   "execution_count": 7,
   "metadata": {},
   "outputs": [
    {
     "data": {
      "text/html": [
       "<div>\n",
       "<style scoped>\n",
       "    .dataframe tbody tr th:only-of-type {\n",
       "        vertical-align: middle;\n",
       "    }\n",
       "\n",
       "    .dataframe tbody tr th {\n",
       "        vertical-align: top;\n",
       "    }\n",
       "\n",
       "    .dataframe thead th {\n",
       "        text-align: right;\n",
       "    }\n",
       "</style>\n",
       "<table border=\"1\" class=\"dataframe\">\n",
       "  <thead>\n",
       "    <tr style=\"text-align: right;\">\n",
       "      <th></th>\n",
       "      <th>Unnamed: 0</th>\n",
       "      <th>id</th>\n",
       "      <th>mb_used</th>\n",
       "      <th>session_date</th>\n",
       "      <th>user_id</th>\n",
       "    </tr>\n",
       "  </thead>\n",
       "  <tbody>\n",
       "    <tr>\n",
       "      <th>0</th>\n",
       "      <td>0</td>\n",
       "      <td>1000_0</td>\n",
       "      <td>112.95</td>\n",
       "      <td>2018-11-25</td>\n",
       "      <td>1000</td>\n",
       "    </tr>\n",
       "    <tr>\n",
       "      <th>1</th>\n",
       "      <td>1</td>\n",
       "      <td>1000_1</td>\n",
       "      <td>1052.81</td>\n",
       "      <td>2018-09-07</td>\n",
       "      <td>1000</td>\n",
       "    </tr>\n",
       "    <tr>\n",
       "      <th>2</th>\n",
       "      <td>2</td>\n",
       "      <td>1000_2</td>\n",
       "      <td>1197.26</td>\n",
       "      <td>2018-06-25</td>\n",
       "      <td>1000</td>\n",
       "    </tr>\n",
       "    <tr>\n",
       "      <th>3</th>\n",
       "      <td>3</td>\n",
       "      <td>1000_3</td>\n",
       "      <td>550.27</td>\n",
       "      <td>2018-08-22</td>\n",
       "      <td>1000</td>\n",
       "    </tr>\n",
       "    <tr>\n",
       "      <th>4</th>\n",
       "      <td>4</td>\n",
       "      <td>1000_4</td>\n",
       "      <td>302.56</td>\n",
       "      <td>2018-09-24</td>\n",
       "      <td>1000</td>\n",
       "    </tr>\n",
       "    <tr>\n",
       "      <th>...</th>\n",
       "      <td>...</td>\n",
       "      <td>...</td>\n",
       "      <td>...</td>\n",
       "      <td>...</td>\n",
       "      <td>...</td>\n",
       "    </tr>\n",
       "    <tr>\n",
       "      <th>149391</th>\n",
       "      <td>149391</td>\n",
       "      <td>1499_152</td>\n",
       "      <td>318.90</td>\n",
       "      <td>2018-10-03</td>\n",
       "      <td>1499</td>\n",
       "    </tr>\n",
       "    <tr>\n",
       "      <th>149392</th>\n",
       "      <td>149392</td>\n",
       "      <td>1499_153</td>\n",
       "      <td>490.13</td>\n",
       "      <td>2018-12-14</td>\n",
       "      <td>1499</td>\n",
       "    </tr>\n",
       "    <tr>\n",
       "      <th>149393</th>\n",
       "      <td>149393</td>\n",
       "      <td>1499_154</td>\n",
       "      <td>0.00</td>\n",
       "      <td>2018-10-27</td>\n",
       "      <td>1499</td>\n",
       "    </tr>\n",
       "    <tr>\n",
       "      <th>149394</th>\n",
       "      <td>149394</td>\n",
       "      <td>1499_155</td>\n",
       "      <td>1246.32</td>\n",
       "      <td>2018-11-26</td>\n",
       "      <td>1499</td>\n",
       "    </tr>\n",
       "    <tr>\n",
       "      <th>149395</th>\n",
       "      <td>149395</td>\n",
       "      <td>1499_156</td>\n",
       "      <td>544.37</td>\n",
       "      <td>2018-10-26</td>\n",
       "      <td>1499</td>\n",
       "    </tr>\n",
       "  </tbody>\n",
       "</table>\n",
       "<p>149396 rows × 5 columns</p>\n",
       "</div>"
      ],
      "text/plain": [
       "        Unnamed: 0        id  mb_used session_date  user_id\n",
       "0                0    1000_0   112.95   2018-11-25     1000\n",
       "1                1    1000_1  1052.81   2018-09-07     1000\n",
       "2                2    1000_2  1197.26   2018-06-25     1000\n",
       "3                3    1000_3   550.27   2018-08-22     1000\n",
       "4                4    1000_4   302.56   2018-09-24     1000\n",
       "...            ...       ...      ...          ...      ...\n",
       "149391      149391  1499_152   318.90   2018-10-03     1499\n",
       "149392      149392  1499_153   490.13   2018-12-14     1499\n",
       "149393      149393  1499_154     0.00   2018-10-27     1499\n",
       "149394      149394  1499_155  1246.32   2018-11-26     1499\n",
       "149395      149395  1499_156   544.37   2018-10-26     1499\n",
       "\n",
       "[149396 rows x 5 columns]"
      ]
     },
     "metadata": {},
     "output_type": "display_data"
    },
    {
     "name": "stdout",
     "output_type": "stream",
     "text": [
      "<class 'pandas.core.frame.DataFrame'>\n",
      "RangeIndex: 149396 entries, 0 to 149395\n",
      "Data columns (total 5 columns):\n",
      " #   Column        Non-Null Count   Dtype  \n",
      "---  ------        --------------   -----  \n",
      " 0   Unnamed: 0    149396 non-null  int64  \n",
      " 1   id            149396 non-null  object \n",
      " 2   mb_used       149396 non-null  float64\n",
      " 3   session_date  149396 non-null  object \n",
      " 4   user_id       149396 non-null  int64  \n",
      "dtypes: float64(1), int64(2), object(2)\n",
      "memory usage: 5.7+ MB\n"
     ]
    }
   ],
   "source": [
    "display(data_inet)\n",
    "data_inet.info()\n",
    "\n",
    "# DROP DUPLICATES \n",
    "data_inet = data_inet.drop_duplicates()"
   ]
  },
  {
   "cell_type": "code",
   "execution_count": 8,
   "metadata": {},
   "outputs": [
    {
     "data": {
      "text/plain": [
       "0              0\n",
       "1              1\n",
       "2              2\n",
       "3              3\n",
       "4              4\n",
       "           ...  \n",
       "149391    149391\n",
       "149392    149392\n",
       "149393    149393\n",
       "149394    149394\n",
       "149395    149395\n",
       "Name: Unnamed: 0, Length: 149396, dtype: int64"
      ]
     },
     "execution_count": 8,
     "metadata": {},
     "output_type": "execute_result"
    }
   ],
   "source": [
    "# Change data type to datetime\n",
    "data_inet['session_date'] = pd.to_datetime(data_inet['session_date'], format='%Y.%m.%d')\n",
    "\n",
    "# create column with months \n",
    "data_inet['month'] = data_inet['session_date'].dt.month\n",
    "\n",
    "# the amount of Internet traffic used by months [GB]\n",
    "spent_inet_mb = data_inet.pivot_table(index=['user_id','month'], values=['mb_used'],aggfunc='sum')\n",
    "#print(spent_inet_mb.head(10))\n",
    "\n",
    "# remove the column \"Unnamed: 0\" which repeats the indexes of \"data_inet\"\n",
    "data_inet.pop('Unnamed: 0')"
   ]
  },
  {
   "cell_type": "code",
   "execution_count": 9,
   "metadata": {},
   "outputs": [
    {
     "data": {
      "text/html": [
       "<div>\n",
       "<style scoped>\n",
       "    .dataframe tbody tr th:only-of-type {\n",
       "        vertical-align: middle;\n",
       "    }\n",
       "\n",
       "    .dataframe tbody tr th {\n",
       "        vertical-align: top;\n",
       "    }\n",
       "\n",
       "    .dataframe thead th {\n",
       "        text-align: right;\n",
       "    }\n",
       "</style>\n",
       "<table border=\"1\" class=\"dataframe\">\n",
       "  <thead>\n",
       "    <tr style=\"text-align: right;\">\n",
       "      <th></th>\n",
       "      <th>id</th>\n",
       "      <th>mb_used</th>\n",
       "      <th>session_date</th>\n",
       "      <th>user_id</th>\n",
       "      <th>month</th>\n",
       "    </tr>\n",
       "  </thead>\n",
       "  <tbody>\n",
       "    <tr>\n",
       "      <th>0</th>\n",
       "      <td>1000_0</td>\n",
       "      <td>112.95</td>\n",
       "      <td>2018-11-25</td>\n",
       "      <td>1000</td>\n",
       "      <td>11</td>\n",
       "    </tr>\n",
       "    <tr>\n",
       "      <th>1</th>\n",
       "      <td>1000_1</td>\n",
       "      <td>1052.81</td>\n",
       "      <td>2018-09-07</td>\n",
       "      <td>1000</td>\n",
       "      <td>9</td>\n",
       "    </tr>\n",
       "    <tr>\n",
       "      <th>2</th>\n",
       "      <td>1000_2</td>\n",
       "      <td>1197.26</td>\n",
       "      <td>2018-06-25</td>\n",
       "      <td>1000</td>\n",
       "      <td>6</td>\n",
       "    </tr>\n",
       "    <tr>\n",
       "      <th>3</th>\n",
       "      <td>1000_3</td>\n",
       "      <td>550.27</td>\n",
       "      <td>2018-08-22</td>\n",
       "      <td>1000</td>\n",
       "      <td>8</td>\n",
       "    </tr>\n",
       "    <tr>\n",
       "      <th>4</th>\n",
       "      <td>1000_4</td>\n",
       "      <td>302.56</td>\n",
       "      <td>2018-09-24</td>\n",
       "      <td>1000</td>\n",
       "      <td>9</td>\n",
       "    </tr>\n",
       "    <tr>\n",
       "      <th>5</th>\n",
       "      <td>1000_5</td>\n",
       "      <td>399.97</td>\n",
       "      <td>2018-10-02</td>\n",
       "      <td>1000</td>\n",
       "      <td>10</td>\n",
       "    </tr>\n",
       "    <tr>\n",
       "      <th>6</th>\n",
       "      <td>1000_6</td>\n",
       "      <td>540.08</td>\n",
       "      <td>2018-09-07</td>\n",
       "      <td>1000</td>\n",
       "      <td>9</td>\n",
       "    </tr>\n",
       "    <tr>\n",
       "      <th>7</th>\n",
       "      <td>1000_7</td>\n",
       "      <td>415.70</td>\n",
       "      <td>2018-07-11</td>\n",
       "      <td>1000</td>\n",
       "      <td>7</td>\n",
       "    </tr>\n",
       "    <tr>\n",
       "      <th>8</th>\n",
       "      <td>1000_8</td>\n",
       "      <td>505.40</td>\n",
       "      <td>2018-10-08</td>\n",
       "      <td>1000</td>\n",
       "      <td>10</td>\n",
       "    </tr>\n",
       "    <tr>\n",
       "      <th>9</th>\n",
       "      <td>1000_9</td>\n",
       "      <td>345.54</td>\n",
       "      <td>2018-09-03</td>\n",
       "      <td>1000</td>\n",
       "      <td>9</td>\n",
       "    </tr>\n",
       "  </tbody>\n",
       "</table>\n",
       "</div>"
      ],
      "text/plain": [
       "       id  mb_used session_date  user_id  month\n",
       "0  1000_0   112.95   2018-11-25     1000     11\n",
       "1  1000_1  1052.81   2018-09-07     1000      9\n",
       "2  1000_2  1197.26   2018-06-25     1000      6\n",
       "3  1000_3   550.27   2018-08-22     1000      8\n",
       "4  1000_4   302.56   2018-09-24     1000      9\n",
       "5  1000_5   399.97   2018-10-02     1000     10\n",
       "6  1000_6   540.08   2018-09-07     1000      9\n",
       "7  1000_7   415.70   2018-07-11     1000      7\n",
       "8  1000_8   505.40   2018-10-08     1000     10\n",
       "9  1000_9   345.54   2018-09-03     1000      9"
      ]
     },
     "metadata": {},
     "output_type": "display_data"
    },
    {
     "name": "stdout",
     "output_type": "stream",
     "text": [
      "<class 'pandas.core.frame.DataFrame'>\n",
      "Int64Index: 149396 entries, 0 to 149395\n",
      "Data columns (total 5 columns):\n",
      " #   Column        Non-Null Count   Dtype         \n",
      "---  ------        --------------   -----         \n",
      " 0   id            149396 non-null  object        \n",
      " 1   mb_used       149396 non-null  float64       \n",
      " 2   session_date  149396 non-null  datetime64[ns]\n",
      " 3   user_id       149396 non-null  int64         \n",
      " 4   month         149396 non-null  int64         \n",
      "dtypes: datetime64[ns](1), float64(1), int64(2), object(1)\n",
      "memory usage: 6.8+ MB\n"
     ]
    }
   ],
   "source": [
    "display(data_inet.head(10))\n",
    "data_inet.info()"
   ]
  },
  {
   "cell_type": "markdown",
   "metadata": {},
   "source": [
    "## \"data_mes\" preprocessing"
   ]
  },
  {
   "cell_type": "code",
   "execution_count": 10,
   "metadata": {},
   "outputs": [
    {
     "data": {
      "text/html": [
       "<div>\n",
       "<style scoped>\n",
       "    .dataframe tbody tr th:only-of-type {\n",
       "        vertical-align: middle;\n",
       "    }\n",
       "\n",
       "    .dataframe tbody tr th {\n",
       "        vertical-align: top;\n",
       "    }\n",
       "\n",
       "    .dataframe thead th {\n",
       "        text-align: right;\n",
       "    }\n",
       "</style>\n",
       "<table border=\"1\" class=\"dataframe\">\n",
       "  <thead>\n",
       "    <tr style=\"text-align: right;\">\n",
       "      <th></th>\n",
       "      <th>id</th>\n",
       "      <th>message_date</th>\n",
       "      <th>user_id</th>\n",
       "    </tr>\n",
       "  </thead>\n",
       "  <tbody>\n",
       "    <tr>\n",
       "      <th>0</th>\n",
       "      <td>1000_0</td>\n",
       "      <td>2018-06-27</td>\n",
       "      <td>1000</td>\n",
       "    </tr>\n",
       "    <tr>\n",
       "      <th>1</th>\n",
       "      <td>1000_1</td>\n",
       "      <td>2018-10-08</td>\n",
       "      <td>1000</td>\n",
       "    </tr>\n",
       "    <tr>\n",
       "      <th>2</th>\n",
       "      <td>1000_2</td>\n",
       "      <td>2018-08-04</td>\n",
       "      <td>1000</td>\n",
       "    </tr>\n",
       "    <tr>\n",
       "      <th>3</th>\n",
       "      <td>1000_3</td>\n",
       "      <td>2018-06-16</td>\n",
       "      <td>1000</td>\n",
       "    </tr>\n",
       "    <tr>\n",
       "      <th>4</th>\n",
       "      <td>1000_4</td>\n",
       "      <td>2018-12-05</td>\n",
       "      <td>1000</td>\n",
       "    </tr>\n",
       "    <tr>\n",
       "      <th>...</th>\n",
       "      <td>...</td>\n",
       "      <td>...</td>\n",
       "      <td>...</td>\n",
       "    </tr>\n",
       "    <tr>\n",
       "      <th>123031</th>\n",
       "      <td>1499_179</td>\n",
       "      <td>2018-12-12</td>\n",
       "      <td>1499</td>\n",
       "    </tr>\n",
       "    <tr>\n",
       "      <th>123032</th>\n",
       "      <td>1499_180</td>\n",
       "      <td>2018-09-28</td>\n",
       "      <td>1499</td>\n",
       "    </tr>\n",
       "    <tr>\n",
       "      <th>123033</th>\n",
       "      <td>1499_181</td>\n",
       "      <td>2018-09-27</td>\n",
       "      <td>1499</td>\n",
       "    </tr>\n",
       "    <tr>\n",
       "      <th>123034</th>\n",
       "      <td>1499_182</td>\n",
       "      <td>2018-11-15</td>\n",
       "      <td>1499</td>\n",
       "    </tr>\n",
       "    <tr>\n",
       "      <th>123035</th>\n",
       "      <td>1499_183</td>\n",
       "      <td>2018-11-16</td>\n",
       "      <td>1499</td>\n",
       "    </tr>\n",
       "  </tbody>\n",
       "</table>\n",
       "<p>123036 rows × 3 columns</p>\n",
       "</div>"
      ],
      "text/plain": [
       "              id message_date  user_id\n",
       "0         1000_0   2018-06-27     1000\n",
       "1         1000_1   2018-10-08     1000\n",
       "2         1000_2   2018-08-04     1000\n",
       "3         1000_3   2018-06-16     1000\n",
       "4         1000_4   2018-12-05     1000\n",
       "...          ...          ...      ...\n",
       "123031  1499_179   2018-12-12     1499\n",
       "123032  1499_180   2018-09-28     1499\n",
       "123033  1499_181   2018-09-27     1499\n",
       "123034  1499_182   2018-11-15     1499\n",
       "123035  1499_183   2018-11-16     1499\n",
       "\n",
       "[123036 rows x 3 columns]"
      ]
     },
     "metadata": {},
     "output_type": "display_data"
    },
    {
     "name": "stdout",
     "output_type": "stream",
     "text": [
      "<class 'pandas.core.frame.DataFrame'>\n",
      "RangeIndex: 123036 entries, 0 to 123035\n",
      "Data columns (total 3 columns):\n",
      " #   Column        Non-Null Count   Dtype \n",
      "---  ------        --------------   ----- \n",
      " 0   id            123036 non-null  object\n",
      " 1   message_date  123036 non-null  object\n",
      " 2   user_id       123036 non-null  int64 \n",
      "dtypes: int64(1), object(2)\n",
      "memory usage: 2.8+ MB\n"
     ]
    }
   ],
   "source": [
    "display(data_mes)\n",
    "data_mes.info()\n",
    "data_mes = data_mes.drop_duplicates()"
   ]
  },
  {
   "cell_type": "code",
   "execution_count": 11,
   "metadata": {},
   "outputs": [
    {
     "data": {
      "text/html": [
       "<div>\n",
       "<style scoped>\n",
       "    .dataframe tbody tr th:only-of-type {\n",
       "        vertical-align: middle;\n",
       "    }\n",
       "\n",
       "    .dataframe tbody tr th {\n",
       "        vertical-align: top;\n",
       "    }\n",
       "\n",
       "    .dataframe thead th {\n",
       "        text-align: right;\n",
       "    }\n",
       "</style>\n",
       "<table border=\"1\" class=\"dataframe\">\n",
       "  <thead>\n",
       "    <tr style=\"text-align: right;\">\n",
       "      <th></th>\n",
       "      <th></th>\n",
       "      <th>message_date</th>\n",
       "    </tr>\n",
       "    <tr>\n",
       "      <th>user_id</th>\n",
       "      <th>month</th>\n",
       "      <th></th>\n",
       "    </tr>\n",
       "  </thead>\n",
       "  <tbody>\n",
       "    <tr>\n",
       "      <th rowspan=\"5\" valign=\"top\">1000</th>\n",
       "      <th>5</th>\n",
       "      <td>22</td>\n",
       "    </tr>\n",
       "    <tr>\n",
       "      <th>6</th>\n",
       "      <td>60</td>\n",
       "    </tr>\n",
       "    <tr>\n",
       "      <th>7</th>\n",
       "      <td>75</td>\n",
       "    </tr>\n",
       "    <tr>\n",
       "      <th>8</th>\n",
       "      <td>81</td>\n",
       "    </tr>\n",
       "    <tr>\n",
       "      <th>9</th>\n",
       "      <td>57</td>\n",
       "    </tr>\n",
       "    <tr>\n",
       "      <th>...</th>\n",
       "      <th>...</th>\n",
       "      <td>...</td>\n",
       "    </tr>\n",
       "    <tr>\n",
       "      <th>1498</th>\n",
       "      <th>10</th>\n",
       "      <td>42</td>\n",
       "    </tr>\n",
       "    <tr>\n",
       "      <th rowspan=\"4\" valign=\"top\">1499</th>\n",
       "      <th>9</th>\n",
       "      <td>11</td>\n",
       "    </tr>\n",
       "    <tr>\n",
       "      <th>10</th>\n",
       "      <td>48</td>\n",
       "    </tr>\n",
       "    <tr>\n",
       "      <th>11</th>\n",
       "      <td>59</td>\n",
       "    </tr>\n",
       "    <tr>\n",
       "      <th>12</th>\n",
       "      <td>66</td>\n",
       "    </tr>\n",
       "  </tbody>\n",
       "</table>\n",
       "<p>2717 rows × 1 columns</p>\n",
       "</div>"
      ],
      "text/plain": [
       "               message_date\n",
       "user_id month              \n",
       "1000    5                22\n",
       "        6                60\n",
       "        7                75\n",
       "        8                81\n",
       "        9                57\n",
       "...                     ...\n",
       "1498    10               42\n",
       "1499    9                11\n",
       "        10               48\n",
       "        11               59\n",
       "        12               66\n",
       "\n",
       "[2717 rows x 1 columns]"
      ]
     },
     "metadata": {},
     "output_type": "display_data"
    }
   ],
   "source": [
    "# Change data type to datetime\n",
    "data_mes['message_date'] = pd.to_datetime(data_mes['message_date'], format='%Y.%m.%d')\n",
    "\n",
    "# DROP DUPLICATES\n",
    "data_mes = data_mes.drop_duplicates()\n",
    "\n",
    "# create months column\n",
    "data_mes['month'] = data_mes['message_date'].dt.month\n",
    "\n",
    "# number of sent messages per month\n",
    "send_mess_by_month = data_mes.pivot_table(index=['user_id','month'],\\\n",
    "                                          values='message_date',aggfunc='count')\n",
    "display(send_mess_by_month)"
   ]
  },
  {
   "cell_type": "code",
   "execution_count": 12,
   "metadata": {},
   "outputs": [
    {
     "data": {
      "text/html": [
       "<div>\n",
       "<style scoped>\n",
       "    .dataframe tbody tr th:only-of-type {\n",
       "        vertical-align: middle;\n",
       "    }\n",
       "\n",
       "    .dataframe tbody tr th {\n",
       "        vertical-align: top;\n",
       "    }\n",
       "\n",
       "    .dataframe thead th {\n",
       "        text-align: right;\n",
       "    }\n",
       "</style>\n",
       "<table border=\"1\" class=\"dataframe\">\n",
       "  <thead>\n",
       "    <tr style=\"text-align: right;\">\n",
       "      <th></th>\n",
       "      <th>id</th>\n",
       "      <th>message_date</th>\n",
       "      <th>user_id</th>\n",
       "      <th>month</th>\n",
       "    </tr>\n",
       "  </thead>\n",
       "  <tbody>\n",
       "    <tr>\n",
       "      <th>0</th>\n",
       "      <td>1000_0</td>\n",
       "      <td>2018-06-27</td>\n",
       "      <td>1000</td>\n",
       "      <td>6</td>\n",
       "    </tr>\n",
       "    <tr>\n",
       "      <th>1</th>\n",
       "      <td>1000_1</td>\n",
       "      <td>2018-10-08</td>\n",
       "      <td>1000</td>\n",
       "      <td>10</td>\n",
       "    </tr>\n",
       "    <tr>\n",
       "      <th>2</th>\n",
       "      <td>1000_2</td>\n",
       "      <td>2018-08-04</td>\n",
       "      <td>1000</td>\n",
       "      <td>8</td>\n",
       "    </tr>\n",
       "    <tr>\n",
       "      <th>3</th>\n",
       "      <td>1000_3</td>\n",
       "      <td>2018-06-16</td>\n",
       "      <td>1000</td>\n",
       "      <td>6</td>\n",
       "    </tr>\n",
       "    <tr>\n",
       "      <th>4</th>\n",
       "      <td>1000_4</td>\n",
       "      <td>2018-12-05</td>\n",
       "      <td>1000</td>\n",
       "      <td>12</td>\n",
       "    </tr>\n",
       "    <tr>\n",
       "      <th>...</th>\n",
       "      <td>...</td>\n",
       "      <td>...</td>\n",
       "      <td>...</td>\n",
       "      <td>...</td>\n",
       "    </tr>\n",
       "    <tr>\n",
       "      <th>123031</th>\n",
       "      <td>1499_179</td>\n",
       "      <td>2018-12-12</td>\n",
       "      <td>1499</td>\n",
       "      <td>12</td>\n",
       "    </tr>\n",
       "    <tr>\n",
       "      <th>123032</th>\n",
       "      <td>1499_180</td>\n",
       "      <td>2018-09-28</td>\n",
       "      <td>1499</td>\n",
       "      <td>9</td>\n",
       "    </tr>\n",
       "    <tr>\n",
       "      <th>123033</th>\n",
       "      <td>1499_181</td>\n",
       "      <td>2018-09-27</td>\n",
       "      <td>1499</td>\n",
       "      <td>9</td>\n",
       "    </tr>\n",
       "    <tr>\n",
       "      <th>123034</th>\n",
       "      <td>1499_182</td>\n",
       "      <td>2018-11-15</td>\n",
       "      <td>1499</td>\n",
       "      <td>11</td>\n",
       "    </tr>\n",
       "    <tr>\n",
       "      <th>123035</th>\n",
       "      <td>1499_183</td>\n",
       "      <td>2018-11-16</td>\n",
       "      <td>1499</td>\n",
       "      <td>11</td>\n",
       "    </tr>\n",
       "  </tbody>\n",
       "</table>\n",
       "<p>123036 rows × 4 columns</p>\n",
       "</div>"
      ],
      "text/plain": [
       "              id message_date  user_id  month\n",
       "0         1000_0   2018-06-27     1000      6\n",
       "1         1000_1   2018-10-08     1000     10\n",
       "2         1000_2   2018-08-04     1000      8\n",
       "3         1000_3   2018-06-16     1000      6\n",
       "4         1000_4   2018-12-05     1000     12\n",
       "...          ...          ...      ...    ...\n",
       "123031  1499_179   2018-12-12     1499     12\n",
       "123032  1499_180   2018-09-28     1499      9\n",
       "123033  1499_181   2018-09-27     1499      9\n",
       "123034  1499_182   2018-11-15     1499     11\n",
       "123035  1499_183   2018-11-16     1499     11\n",
       "\n",
       "[123036 rows x 4 columns]"
      ]
     },
     "metadata": {},
     "output_type": "display_data"
    },
    {
     "name": "stdout",
     "output_type": "stream",
     "text": [
      "<class 'pandas.core.frame.DataFrame'>\n",
      "Int64Index: 123036 entries, 0 to 123035\n",
      "Data columns (total 4 columns):\n",
      " #   Column        Non-Null Count   Dtype         \n",
      "---  ------        --------------   -----         \n",
      " 0   id            123036 non-null  object        \n",
      " 1   message_date  123036 non-null  datetime64[ns]\n",
      " 2   user_id       123036 non-null  int64         \n",
      " 3   month         123036 non-null  int64         \n",
      "dtypes: datetime64[ns](1), int64(2), object(1)\n",
      "memory usage: 4.7+ MB\n"
     ]
    }
   ],
   "source": [
    "display(data_mes)\n",
    "data_mes.info()"
   ]
  },
  {
   "cell_type": "markdown",
   "metadata": {},
   "source": [
    "## \"data_trf\" preprocessing"
   ]
  },
  {
   "cell_type": "code",
   "execution_count": 13,
   "metadata": {},
   "outputs": [
    {
     "data": {
      "text/html": [
       "<div>\n",
       "<style scoped>\n",
       "    .dataframe tbody tr th:only-of-type {\n",
       "        vertical-align: middle;\n",
       "    }\n",
       "\n",
       "    .dataframe tbody tr th {\n",
       "        vertical-align: top;\n",
       "    }\n",
       "\n",
       "    .dataframe thead th {\n",
       "        text-align: right;\n",
       "    }\n",
       "</style>\n",
       "<table border=\"1\" class=\"dataframe\">\n",
       "  <thead>\n",
       "    <tr style=\"text-align: right;\">\n",
       "      <th></th>\n",
       "      <th>messages_included</th>\n",
       "      <th>mb_per_month_included</th>\n",
       "      <th>minutes_included</th>\n",
       "      <th>rub_monthly_fee</th>\n",
       "      <th>rub_per_gb</th>\n",
       "      <th>rub_per_message</th>\n",
       "      <th>rub_per_minute</th>\n",
       "      <th>tariff_name</th>\n",
       "    </tr>\n",
       "  </thead>\n",
       "  <tbody>\n",
       "    <tr>\n",
       "      <th>0</th>\n",
       "      <td>50</td>\n",
       "      <td>15360</td>\n",
       "      <td>500</td>\n",
       "      <td>550</td>\n",
       "      <td>200</td>\n",
       "      <td>3</td>\n",
       "      <td>3</td>\n",
       "      <td>smart</td>\n",
       "    </tr>\n",
       "    <tr>\n",
       "      <th>1</th>\n",
       "      <td>1000</td>\n",
       "      <td>30720</td>\n",
       "      <td>3000</td>\n",
       "      <td>1950</td>\n",
       "      <td>150</td>\n",
       "      <td>1</td>\n",
       "      <td>1</td>\n",
       "      <td>ultra</td>\n",
       "    </tr>\n",
       "  </tbody>\n",
       "</table>\n",
       "</div>"
      ],
      "text/plain": [
       "   messages_included  mb_per_month_included  minutes_included  \\\n",
       "0                 50                  15360               500   \n",
       "1               1000                  30720              3000   \n",
       "\n",
       "   rub_monthly_fee  rub_per_gb  rub_per_message  rub_per_minute tariff_name  \n",
       "0              550         200                3               3       smart  \n",
       "1             1950         150                1               1       ultra  "
      ]
     },
     "metadata": {},
     "output_type": "display_data"
    },
    {
     "name": "stdout",
     "output_type": "stream",
     "text": [
      "<class 'pandas.core.frame.DataFrame'>\n",
      "RangeIndex: 2 entries, 0 to 1\n",
      "Data columns (total 8 columns):\n",
      " #   Column                 Non-Null Count  Dtype \n",
      "---  ------                 --------------  ----- \n",
      " 0   messages_included      2 non-null      int64 \n",
      " 1   mb_per_month_included  2 non-null      int64 \n",
      " 2   minutes_included       2 non-null      int64 \n",
      " 3   rub_monthly_fee        2 non-null      int64 \n",
      " 4   rub_per_gb             2 non-null      int64 \n",
      " 5   rub_per_message        2 non-null      int64 \n",
      " 6   rub_per_minute         2 non-null      int64 \n",
      " 7   tariff_name            2 non-null      object\n",
      "dtypes: int64(7), object(1)\n",
      "memory usage: 256.0+ bytes\n"
     ]
    }
   ],
   "source": [
    "display(data_trf)\n",
    "data_trf.info()"
   ]
  },
  {
   "cell_type": "markdown",
   "metadata": {},
   "source": [
    "## \"data_user\" preprocessing"
   ]
  },
  {
   "cell_type": "code",
   "execution_count": 14,
   "metadata": {},
   "outputs": [],
   "source": [
    "# Change data type to datetime\n",
    "data_user['reg_date'] = pd.to_datetime(data_user['reg_date'], format='%Y.%m.%d')\n",
    "data_user['churn_date'] = pd.to_datetime(data_user['churn_date'], format='%Y.%m.%d')\n",
    "\n",
    "# DROP DUPLICATES\n",
    "data_user = data_user.drop_duplicates()"
   ]
  },
  {
   "cell_type": "code",
   "execution_count": 15,
   "metadata": {},
   "outputs": [
    {
     "data": {
      "text/html": [
       "<div>\n",
       "<style scoped>\n",
       "    .dataframe tbody tr th:only-of-type {\n",
       "        vertical-align: middle;\n",
       "    }\n",
       "\n",
       "    .dataframe tbody tr th {\n",
       "        vertical-align: top;\n",
       "    }\n",
       "\n",
       "    .dataframe thead th {\n",
       "        text-align: right;\n",
       "    }\n",
       "</style>\n",
       "<table border=\"1\" class=\"dataframe\">\n",
       "  <thead>\n",
       "    <tr style=\"text-align: right;\">\n",
       "      <th></th>\n",
       "      <th>user_id</th>\n",
       "      <th>age</th>\n",
       "      <th>churn_date</th>\n",
       "      <th>city</th>\n",
       "      <th>first_name</th>\n",
       "      <th>last_name</th>\n",
       "      <th>reg_date</th>\n",
       "      <th>tariff</th>\n",
       "    </tr>\n",
       "  </thead>\n",
       "  <tbody>\n",
       "    <tr>\n",
       "      <th>0</th>\n",
       "      <td>1000</td>\n",
       "      <td>52</td>\n",
       "      <td>NaT</td>\n",
       "      <td>Краснодар</td>\n",
       "      <td>Рафаил</td>\n",
       "      <td>Верещагин</td>\n",
       "      <td>2018-05-25</td>\n",
       "      <td>ultra</td>\n",
       "    </tr>\n",
       "    <tr>\n",
       "      <th>1</th>\n",
       "      <td>1001</td>\n",
       "      <td>41</td>\n",
       "      <td>NaT</td>\n",
       "      <td>Москва</td>\n",
       "      <td>Иван</td>\n",
       "      <td>Ежов</td>\n",
       "      <td>2018-11-01</td>\n",
       "      <td>smart</td>\n",
       "    </tr>\n",
       "    <tr>\n",
       "      <th>2</th>\n",
       "      <td>1002</td>\n",
       "      <td>59</td>\n",
       "      <td>NaT</td>\n",
       "      <td>Стерлитамак</td>\n",
       "      <td>Евгений</td>\n",
       "      <td>Абрамович</td>\n",
       "      <td>2018-06-17</td>\n",
       "      <td>smart</td>\n",
       "    </tr>\n",
       "    <tr>\n",
       "      <th>3</th>\n",
       "      <td>1003</td>\n",
       "      <td>23</td>\n",
       "      <td>NaT</td>\n",
       "      <td>Москва</td>\n",
       "      <td>Белла</td>\n",
       "      <td>Белякова</td>\n",
       "      <td>2018-08-17</td>\n",
       "      <td>ultra</td>\n",
       "    </tr>\n",
       "    <tr>\n",
       "      <th>4</th>\n",
       "      <td>1004</td>\n",
       "      <td>68</td>\n",
       "      <td>NaT</td>\n",
       "      <td>Новокузнецк</td>\n",
       "      <td>Татьяна</td>\n",
       "      <td>Авдеенко</td>\n",
       "      <td>2018-05-14</td>\n",
       "      <td>ultra</td>\n",
       "    </tr>\n",
       "    <tr>\n",
       "      <th>...</th>\n",
       "      <td>...</td>\n",
       "      <td>...</td>\n",
       "      <td>...</td>\n",
       "      <td>...</td>\n",
       "      <td>...</td>\n",
       "      <td>...</td>\n",
       "      <td>...</td>\n",
       "      <td>...</td>\n",
       "    </tr>\n",
       "    <tr>\n",
       "      <th>495</th>\n",
       "      <td>1495</td>\n",
       "      <td>65</td>\n",
       "      <td>NaT</td>\n",
       "      <td>Иркутск</td>\n",
       "      <td>Авксентий</td>\n",
       "      <td>Фокин</td>\n",
       "      <td>2018-08-28</td>\n",
       "      <td>ultra</td>\n",
       "    </tr>\n",
       "    <tr>\n",
       "      <th>496</th>\n",
       "      <td>1496</td>\n",
       "      <td>36</td>\n",
       "      <td>NaT</td>\n",
       "      <td>Вологда</td>\n",
       "      <td>Трифон</td>\n",
       "      <td>Блохин</td>\n",
       "      <td>2018-01-27</td>\n",
       "      <td>smart</td>\n",
       "    </tr>\n",
       "    <tr>\n",
       "      <th>497</th>\n",
       "      <td>1497</td>\n",
       "      <td>32</td>\n",
       "      <td>NaT</td>\n",
       "      <td>Челябинск</td>\n",
       "      <td>Каролина</td>\n",
       "      <td>Агеева</td>\n",
       "      <td>2018-10-09</td>\n",
       "      <td>smart</td>\n",
       "    </tr>\n",
       "    <tr>\n",
       "      <th>498</th>\n",
       "      <td>1498</td>\n",
       "      <td>68</td>\n",
       "      <td>2018-10-25</td>\n",
       "      <td>Владикавказ</td>\n",
       "      <td>Всеволод</td>\n",
       "      <td>Акимчин</td>\n",
       "      <td>2018-07-19</td>\n",
       "      <td>smart</td>\n",
       "    </tr>\n",
       "    <tr>\n",
       "      <th>499</th>\n",
       "      <td>1499</td>\n",
       "      <td>35</td>\n",
       "      <td>NaT</td>\n",
       "      <td>Пермь</td>\n",
       "      <td>Гектор</td>\n",
       "      <td>Корнилов</td>\n",
       "      <td>2018-09-27</td>\n",
       "      <td>smart</td>\n",
       "    </tr>\n",
       "  </tbody>\n",
       "</table>\n",
       "<p>500 rows × 8 columns</p>\n",
       "</div>"
      ],
      "text/plain": [
       "     user_id  age churn_date         city first_name  last_name   reg_date  \\\n",
       "0       1000   52        NaT    Краснодар     Рафаил  Верещагин 2018-05-25   \n",
       "1       1001   41        NaT       Москва       Иван       Ежов 2018-11-01   \n",
       "2       1002   59        NaT  Стерлитамак    Евгений  Абрамович 2018-06-17   \n",
       "3       1003   23        NaT       Москва      Белла   Белякова 2018-08-17   \n",
       "4       1004   68        NaT  Новокузнецк    Татьяна   Авдеенко 2018-05-14   \n",
       "..       ...  ...        ...          ...        ...        ...        ...   \n",
       "495     1495   65        NaT      Иркутск  Авксентий      Фокин 2018-08-28   \n",
       "496     1496   36        NaT      Вологда     Трифон     Блохин 2018-01-27   \n",
       "497     1497   32        NaT    Челябинск   Каролина     Агеева 2018-10-09   \n",
       "498     1498   68 2018-10-25  Владикавказ   Всеволод    Акимчин 2018-07-19   \n",
       "499     1499   35        NaT        Пермь     Гектор   Корнилов 2018-09-27   \n",
       "\n",
       "    tariff  \n",
       "0    ultra  \n",
       "1    smart  \n",
       "2    smart  \n",
       "3    ultra  \n",
       "4    ultra  \n",
       "..     ...  \n",
       "495  ultra  \n",
       "496  smart  \n",
       "497  smart  \n",
       "498  smart  \n",
       "499  smart  \n",
       "\n",
       "[500 rows x 8 columns]"
      ]
     },
     "metadata": {},
     "output_type": "display_data"
    },
    {
     "name": "stdout",
     "output_type": "stream",
     "text": [
      "<class 'pandas.core.frame.DataFrame'>\n",
      "Int64Index: 500 entries, 0 to 499\n",
      "Data columns (total 8 columns):\n",
      " #   Column      Non-Null Count  Dtype         \n",
      "---  ------      --------------  -----         \n",
      " 0   user_id     500 non-null    int64         \n",
      " 1   age         500 non-null    int64         \n",
      " 2   churn_date  38 non-null     datetime64[ns]\n",
      " 3   city        500 non-null    object        \n",
      " 4   first_name  500 non-null    object        \n",
      " 5   last_name   500 non-null    object        \n",
      " 6   reg_date    500 non-null    datetime64[ns]\n",
      " 7   tariff      500 non-null    object        \n",
      "dtypes: datetime64[ns](2), int64(2), object(4)\n",
      "memory usage: 35.2+ KB\n"
     ]
    }
   ],
   "source": [
    "display(data_user)\n",
    "data_user.info()"
   ]
  },
  {
   "cell_type": "markdown",
   "metadata": {},
   "source": [
    "### Merging pivot tables into one"
   ]
  },
  {
   "cell_type": "code",
   "execution_count": 16,
   "metadata": {},
   "outputs": [],
   "source": [
    "df = [calls_by_month, spent_inet_mb, send_mess_by_month]\n",
    "grouped_data = reduce(lambda x, y: pd.merge(x, y, on=['user_id', 'month'], how ='outer'), df)\n",
    "#grouped_data = grouped_data.reset_index() \n",
    "\n"
   ]
  },
  {
   "cell_type": "code",
   "execution_count": 17,
   "metadata": {},
   "outputs": [],
   "source": [
    "# missing values are replaced by zeros\n",
    "grouped_data = grouped_data.fillna(0)"
   ]
  },
  {
   "cell_type": "code",
   "execution_count": 18,
   "metadata": {},
   "outputs": [
    {
     "data": {
      "text/html": [
       "<div>\n",
       "<style scoped>\n",
       "    .dataframe tbody tr th:only-of-type {\n",
       "        vertical-align: middle;\n",
       "    }\n",
       "\n",
       "    .dataframe tbody tr th {\n",
       "        vertical-align: top;\n",
       "    }\n",
       "\n",
       "    .dataframe thead th {\n",
       "        text-align: right;\n",
       "    }\n",
       "</style>\n",
       "<table border=\"1\" class=\"dataframe\">\n",
       "  <thead>\n",
       "    <tr style=\"text-align: right;\">\n",
       "      <th></th>\n",
       "      <th></th>\n",
       "      <th>calls_count</th>\n",
       "      <th>sum_duration</th>\n",
       "      <th>mb_used</th>\n",
       "      <th>message_date</th>\n",
       "    </tr>\n",
       "    <tr>\n",
       "      <th>user_id</th>\n",
       "      <th>month</th>\n",
       "      <th></th>\n",
       "      <th></th>\n",
       "      <th></th>\n",
       "      <th></th>\n",
       "    </tr>\n",
       "  </thead>\n",
       "  <tbody>\n",
       "    <tr>\n",
       "      <th rowspan=\"8\" valign=\"top\">1000</th>\n",
       "      <th>5</th>\n",
       "      <td>22.0</td>\n",
       "      <td>159.0</td>\n",
       "      <td>2253.49</td>\n",
       "      <td>22.0</td>\n",
       "    </tr>\n",
       "    <tr>\n",
       "      <th>6</th>\n",
       "      <td>43.0</td>\n",
       "      <td>172.0</td>\n",
       "      <td>23233.77</td>\n",
       "      <td>60.0</td>\n",
       "    </tr>\n",
       "    <tr>\n",
       "      <th>7</th>\n",
       "      <td>47.0</td>\n",
       "      <td>340.0</td>\n",
       "      <td>14003.64</td>\n",
       "      <td>75.0</td>\n",
       "    </tr>\n",
       "    <tr>\n",
       "      <th>8</th>\n",
       "      <td>52.0</td>\n",
       "      <td>408.0</td>\n",
       "      <td>14055.93</td>\n",
       "      <td>81.0</td>\n",
       "    </tr>\n",
       "    <tr>\n",
       "      <th>9</th>\n",
       "      <td>58.0</td>\n",
       "      <td>466.0</td>\n",
       "      <td>14568.91</td>\n",
       "      <td>57.0</td>\n",
       "    </tr>\n",
       "    <tr>\n",
       "      <th>10</th>\n",
       "      <td>57.0</td>\n",
       "      <td>350.0</td>\n",
       "      <td>14702.49</td>\n",
       "      <td>73.0</td>\n",
       "    </tr>\n",
       "    <tr>\n",
       "      <th>11</th>\n",
       "      <td>43.0</td>\n",
       "      <td>338.0</td>\n",
       "      <td>14756.47</td>\n",
       "      <td>58.0</td>\n",
       "    </tr>\n",
       "    <tr>\n",
       "      <th>12</th>\n",
       "      <td>46.0</td>\n",
       "      <td>333.0</td>\n",
       "      <td>9817.61</td>\n",
       "      <td>70.0</td>\n",
       "    </tr>\n",
       "    <tr>\n",
       "      <th rowspan=\"2\" valign=\"top\">1001</th>\n",
       "      <th>11</th>\n",
       "      <td>59.0</td>\n",
       "      <td>430.0</td>\n",
       "      <td>18429.34</td>\n",
       "      <td>0.0</td>\n",
       "    </tr>\n",
       "    <tr>\n",
       "      <th>12</th>\n",
       "      <td>63.0</td>\n",
       "      <td>414.0</td>\n",
       "      <td>14036.66</td>\n",
       "      <td>0.0</td>\n",
       "    </tr>\n",
       "  </tbody>\n",
       "</table>\n",
       "</div>"
      ],
      "text/plain": [
       "               calls_count  sum_duration   mb_used  message_date\n",
       "user_id month                                                   \n",
       "1000    5             22.0         159.0   2253.49          22.0\n",
       "        6             43.0         172.0  23233.77          60.0\n",
       "        7             47.0         340.0  14003.64          75.0\n",
       "        8             52.0         408.0  14055.93          81.0\n",
       "        9             58.0         466.0  14568.91          57.0\n",
       "        10            57.0         350.0  14702.49          73.0\n",
       "        11            43.0         338.0  14756.47          58.0\n",
       "        12            46.0         333.0   9817.61          70.0\n",
       "1001    11            59.0         430.0  18429.34           0.0\n",
       "        12            63.0         414.0  14036.66           0.0"
      ]
     },
     "execution_count": 18,
     "metadata": {},
     "output_type": "execute_result"
    }
   ],
   "source": [
    "grouped_data.head(10)"
   ]
  },
  {
   "cell_type": "markdown",
   "metadata": {},
   "source": [
    "## Revenue from each user"
   ]
  },
  {
   "cell_type": "markdown",
   "metadata": {},
   "source": [
    "**Calculate monthly revenue per user:**\n",
    "\n",
    "- subtract the free limit from the total number of calls, messages and internet traffic;\n",
    "- multiply the remainder by the value from the tariff plan;\n",
    "- add the subscription fee corresponding to the tariff plan."
   ]
  },
  {
   "cell_type": "code",
   "execution_count": 19,
   "metadata": {},
   "outputs": [],
   "source": [
    "# add the name of the tariff used for each user\n",
    "\n",
    "for user in grouped_data.index:\n",
    "    grouped_data.loc[user, 'tariff'] = data_user.loc[user[0] - 1000, 'tariff']"
   ]
  },
  {
   "cell_type": "code",
   "execution_count": 20,
   "metadata": {},
   "outputs": [
    {
     "data": {
      "text/html": [
       "<div>\n",
       "<style scoped>\n",
       "    .dataframe tbody tr th:only-of-type {\n",
       "        vertical-align: middle;\n",
       "    }\n",
       "\n",
       "    .dataframe tbody tr th {\n",
       "        vertical-align: top;\n",
       "    }\n",
       "\n",
       "    .dataframe thead th {\n",
       "        text-align: right;\n",
       "    }\n",
       "</style>\n",
       "<table border=\"1\" class=\"dataframe\">\n",
       "  <thead>\n",
       "    <tr style=\"text-align: right;\">\n",
       "      <th></th>\n",
       "      <th></th>\n",
       "      <th>calls_count</th>\n",
       "      <th>sum_duration</th>\n",
       "      <th>mb_used</th>\n",
       "      <th>message_date</th>\n",
       "      <th>tariff</th>\n",
       "    </tr>\n",
       "    <tr>\n",
       "      <th>user_id</th>\n",
       "      <th>month</th>\n",
       "      <th></th>\n",
       "      <th></th>\n",
       "      <th></th>\n",
       "      <th></th>\n",
       "      <th></th>\n",
       "    </tr>\n",
       "  </thead>\n",
       "  <tbody>\n",
       "    <tr>\n",
       "      <th rowspan=\"5\" valign=\"top\">1000</th>\n",
       "      <th>5</th>\n",
       "      <td>22.0</td>\n",
       "      <td>159.0</td>\n",
       "      <td>2253.49</td>\n",
       "      <td>22.0</td>\n",
       "      <td>ultra</td>\n",
       "    </tr>\n",
       "    <tr>\n",
       "      <th>6</th>\n",
       "      <td>43.0</td>\n",
       "      <td>172.0</td>\n",
       "      <td>23233.77</td>\n",
       "      <td>60.0</td>\n",
       "      <td>ultra</td>\n",
       "    </tr>\n",
       "    <tr>\n",
       "      <th>7</th>\n",
       "      <td>47.0</td>\n",
       "      <td>340.0</td>\n",
       "      <td>14003.64</td>\n",
       "      <td>75.0</td>\n",
       "      <td>ultra</td>\n",
       "    </tr>\n",
       "    <tr>\n",
       "      <th>8</th>\n",
       "      <td>52.0</td>\n",
       "      <td>408.0</td>\n",
       "      <td>14055.93</td>\n",
       "      <td>81.0</td>\n",
       "      <td>ultra</td>\n",
       "    </tr>\n",
       "    <tr>\n",
       "      <th>9</th>\n",
       "      <td>58.0</td>\n",
       "      <td>466.0</td>\n",
       "      <td>14568.91</td>\n",
       "      <td>57.0</td>\n",
       "      <td>ultra</td>\n",
       "    </tr>\n",
       "    <tr>\n",
       "      <th>...</th>\n",
       "      <th>...</th>\n",
       "      <td>...</td>\n",
       "      <td>...</td>\n",
       "      <td>...</td>\n",
       "      <td>...</td>\n",
       "      <td>...</td>\n",
       "    </tr>\n",
       "    <tr>\n",
       "      <th rowspan=\"5\" valign=\"top\">1489</th>\n",
       "      <th>8</th>\n",
       "      <td>0.0</td>\n",
       "      <td>0.0</td>\n",
       "      <td>11050.56</td>\n",
       "      <td>17.0</td>\n",
       "      <td>smart</td>\n",
       "    </tr>\n",
       "    <tr>\n",
       "      <th>9</th>\n",
       "      <td>0.0</td>\n",
       "      <td>0.0</td>\n",
       "      <td>17206.30</td>\n",
       "      <td>32.0</td>\n",
       "      <td>smart</td>\n",
       "    </tr>\n",
       "    <tr>\n",
       "      <th>10</th>\n",
       "      <td>0.0</td>\n",
       "      <td>0.0</td>\n",
       "      <td>19559.44</td>\n",
       "      <td>21.0</td>\n",
       "      <td>smart</td>\n",
       "    </tr>\n",
       "    <tr>\n",
       "      <th>11</th>\n",
       "      <td>0.0</td>\n",
       "      <td>0.0</td>\n",
       "      <td>17491.56</td>\n",
       "      <td>20.0</td>\n",
       "      <td>smart</td>\n",
       "    </tr>\n",
       "    <tr>\n",
       "      <th>12</th>\n",
       "      <td>0.0</td>\n",
       "      <td>0.0</td>\n",
       "      <td>17322.51</td>\n",
       "      <td>35.0</td>\n",
       "      <td>smart</td>\n",
       "    </tr>\n",
       "  </tbody>\n",
       "</table>\n",
       "<p>3214 rows × 5 columns</p>\n",
       "</div>"
      ],
      "text/plain": [
       "               calls_count  sum_duration   mb_used  message_date tariff\n",
       "user_id month                                                          \n",
       "1000    5             22.0         159.0   2253.49          22.0  ultra\n",
       "        6             43.0         172.0  23233.77          60.0  ultra\n",
       "        7             47.0         340.0  14003.64          75.0  ultra\n",
       "        8             52.0         408.0  14055.93          81.0  ultra\n",
       "        9             58.0         466.0  14568.91          57.0  ultra\n",
       "...                    ...           ...       ...           ...    ...\n",
       "1489    8              0.0           0.0  11050.56          17.0  smart\n",
       "        9              0.0           0.0  17206.30          32.0  smart\n",
       "        10             0.0           0.0  19559.44          21.0  smart\n",
       "        11             0.0           0.0  17491.56          20.0  smart\n",
       "        12             0.0           0.0  17322.51          35.0  smart\n",
       "\n",
       "[3214 rows x 5 columns]"
      ]
     },
     "execution_count": 20,
     "metadata": {},
     "output_type": "execute_result"
    }
   ],
   "source": [
    "grouped_data"
   ]
  },
  {
   "cell_type": "code",
   "execution_count": 21,
   "metadata": {},
   "outputs": [],
   "source": [
    "def get_revenue (row):\n",
    "    messeges = row['message_date']\n",
    "    calls_duration = row['sum_duration']\n",
    "    mb_used = row['mb_used']\n",
    "    tariff = row['tariff']\n",
    "        \n",
    "    if tariff == 'smart':\n",
    "        extra_duration = calls_duration - data_trf.loc[0,'minutes_included']\n",
    "        extra_mb_used = mb_used  - (data_trf.loc[0,'mb_per_month_included'])\n",
    "        extra_messeges = messeges - data_trf.loc[0,'messages_included']\n",
    "\n",
    "        if extra_duration < 0:\n",
    "            extra_duration = 0\n",
    "        if extra_mb_used < 0:\n",
    "            extra_mb_used = 0\n",
    "        if extra_messeges < 0:\n",
    "            extra_messeges = 0\n",
    "\n",
    "        return (extra_duration * data_trf.loc[0,'rub_per_minute'] + \n",
    "               extra_mb_used * (data_trf.loc[0,'rub_per_gb'] / 1024) + \n",
    "               extra_messeges * data_trf.loc[0,'rub_per_message'] + \n",
    "               data_trf.loc[0,'rub_monthly_fee'])\n",
    "    else:\n",
    "        extra_duration = calls_duration - data_trf.loc[1,'minutes_included']\n",
    "        extra_mb_used = mb_used - (data_trf.loc[1,'mb_per_month_included'])\n",
    "        extra_messeges = messeges - data_trf.loc[1,'messages_included']\n",
    "\n",
    "        if extra_duration < 0:\n",
    "            extra_duration = 0\n",
    "        if extra_mb_used < 0:\n",
    "            extra_mb_used = 0\n",
    "        if extra_messeges < 0:\n",
    "            extra_messeges = 0\n",
    "\n",
    "        return (extra_duration * data_trf.loc[1,'rub_per_minute'] + \n",
    "               extra_mb_used * data_trf.loc[1,'rub_per_gb'] / 1024 + \n",
    "               extra_messeges * data_trf.loc[1,'rub_per_message'] + \n",
    "               data_trf.loc[1,'rub_monthly_fee'])    "
   ]
  },
  {
   "cell_type": "code",
   "execution_count": 22,
   "metadata": {},
   "outputs": [],
   "source": [
    "grouped_data['revenue'] = grouped_data.apply(get_revenue,axis=1)"
   ]
  },
  {
   "cell_type": "code",
   "execution_count": 23,
   "metadata": {},
   "outputs": [
    {
     "data": {
      "text/html": [
       "<div>\n",
       "<style scoped>\n",
       "    .dataframe tbody tr th:only-of-type {\n",
       "        vertical-align: middle;\n",
       "    }\n",
       "\n",
       "    .dataframe tbody tr th {\n",
       "        vertical-align: top;\n",
       "    }\n",
       "\n",
       "    .dataframe thead th {\n",
       "        text-align: right;\n",
       "    }\n",
       "</style>\n",
       "<table border=\"1\" class=\"dataframe\">\n",
       "  <thead>\n",
       "    <tr style=\"text-align: right;\">\n",
       "      <th></th>\n",
       "      <th></th>\n",
       "      <th>calls_count</th>\n",
       "      <th>sum_duration</th>\n",
       "      <th>mb_used</th>\n",
       "      <th>message_date</th>\n",
       "      <th>tariff</th>\n",
       "      <th>revenue</th>\n",
       "    </tr>\n",
       "    <tr>\n",
       "      <th>user_id</th>\n",
       "      <th>month</th>\n",
       "      <th></th>\n",
       "      <th></th>\n",
       "      <th></th>\n",
       "      <th></th>\n",
       "      <th></th>\n",
       "      <th></th>\n",
       "    </tr>\n",
       "  </thead>\n",
       "  <tbody>\n",
       "    <tr>\n",
       "      <th rowspan=\"8\" valign=\"top\">1000</th>\n",
       "      <th>5</th>\n",
       "      <td>22.0</td>\n",
       "      <td>159.0</td>\n",
       "      <td>2253.49</td>\n",
       "      <td>22.0</td>\n",
       "      <td>ultra</td>\n",
       "      <td>1950.000000</td>\n",
       "    </tr>\n",
       "    <tr>\n",
       "      <th>6</th>\n",
       "      <td>43.0</td>\n",
       "      <td>172.0</td>\n",
       "      <td>23233.77</td>\n",
       "      <td>60.0</td>\n",
       "      <td>ultra</td>\n",
       "      <td>1950.000000</td>\n",
       "    </tr>\n",
       "    <tr>\n",
       "      <th>7</th>\n",
       "      <td>47.0</td>\n",
       "      <td>340.0</td>\n",
       "      <td>14003.64</td>\n",
       "      <td>75.0</td>\n",
       "      <td>ultra</td>\n",
       "      <td>1950.000000</td>\n",
       "    </tr>\n",
       "    <tr>\n",
       "      <th>8</th>\n",
       "      <td>52.0</td>\n",
       "      <td>408.0</td>\n",
       "      <td>14055.93</td>\n",
       "      <td>81.0</td>\n",
       "      <td>ultra</td>\n",
       "      <td>1950.000000</td>\n",
       "    </tr>\n",
       "    <tr>\n",
       "      <th>9</th>\n",
       "      <td>58.0</td>\n",
       "      <td>466.0</td>\n",
       "      <td>14568.91</td>\n",
       "      <td>57.0</td>\n",
       "      <td>ultra</td>\n",
       "      <td>1950.000000</td>\n",
       "    </tr>\n",
       "    <tr>\n",
       "      <th>10</th>\n",
       "      <td>57.0</td>\n",
       "      <td>350.0</td>\n",
       "      <td>14702.49</td>\n",
       "      <td>73.0</td>\n",
       "      <td>ultra</td>\n",
       "      <td>1950.000000</td>\n",
       "    </tr>\n",
       "    <tr>\n",
       "      <th>11</th>\n",
       "      <td>43.0</td>\n",
       "      <td>338.0</td>\n",
       "      <td>14756.47</td>\n",
       "      <td>58.0</td>\n",
       "      <td>ultra</td>\n",
       "      <td>1950.000000</td>\n",
       "    </tr>\n",
       "    <tr>\n",
       "      <th>12</th>\n",
       "      <td>46.0</td>\n",
       "      <td>333.0</td>\n",
       "      <td>9817.61</td>\n",
       "      <td>70.0</td>\n",
       "      <td>ultra</td>\n",
       "      <td>1950.000000</td>\n",
       "    </tr>\n",
       "    <tr>\n",
       "      <th rowspan=\"2\" valign=\"top\">1001</th>\n",
       "      <th>11</th>\n",
       "      <td>59.0</td>\n",
       "      <td>430.0</td>\n",
       "      <td>18429.34</td>\n",
       "      <td>0.0</td>\n",
       "      <td>smart</td>\n",
       "      <td>1149.480469</td>\n",
       "    </tr>\n",
       "    <tr>\n",
       "      <th>12</th>\n",
       "      <td>63.0</td>\n",
       "      <td>414.0</td>\n",
       "      <td>14036.66</td>\n",
       "      <td>0.0</td>\n",
       "      <td>smart</td>\n",
       "      <td>550.000000</td>\n",
       "    </tr>\n",
       "  </tbody>\n",
       "</table>\n",
       "</div>"
      ],
      "text/plain": [
       "               calls_count  sum_duration   mb_used  message_date tariff  \\\n",
       "user_id month                                                             \n",
       "1000    5             22.0         159.0   2253.49          22.0  ultra   \n",
       "        6             43.0         172.0  23233.77          60.0  ultra   \n",
       "        7             47.0         340.0  14003.64          75.0  ultra   \n",
       "        8             52.0         408.0  14055.93          81.0  ultra   \n",
       "        9             58.0         466.0  14568.91          57.0  ultra   \n",
       "        10            57.0         350.0  14702.49          73.0  ultra   \n",
       "        11            43.0         338.0  14756.47          58.0  ultra   \n",
       "        12            46.0         333.0   9817.61          70.0  ultra   \n",
       "1001    11            59.0         430.0  18429.34           0.0  smart   \n",
       "        12            63.0         414.0  14036.66           0.0  smart   \n",
       "\n",
       "                   revenue  \n",
       "user_id month               \n",
       "1000    5      1950.000000  \n",
       "        6      1950.000000  \n",
       "        7      1950.000000  \n",
       "        8      1950.000000  \n",
       "        9      1950.000000  \n",
       "        10     1950.000000  \n",
       "        11     1950.000000  \n",
       "        12     1950.000000  \n",
       "1001    11     1149.480469  \n",
       "        12      550.000000  "
      ]
     },
     "metadata": {},
     "output_type": "display_data"
    }
   ],
   "source": [
    "display(grouped_data.head(10))"
   ]
  },
  {
   "cell_type": "markdown",
   "metadata": {},
   "source": [
    "# Step 3: Analyze the data"
   ]
  },
  {
   "cell_type": "markdown",
   "metadata": {},
   "source": [
    "Describe the behavior of the operator's customers based on the sample.\n",
    "- How many minutes of conversation?\n",
    "- how many messages?\n",
    "- how much Internet traffic is required by users of each tariff per month?"
   ]
  },
  {
   "cell_type": "code",
   "execution_count": 24,
   "metadata": {},
   "outputs": [
    {
     "data": {
      "text/html": [
       "<div>\n",
       "<style scoped>\n",
       "    .dataframe tbody tr th:only-of-type {\n",
       "        vertical-align: middle;\n",
       "    }\n",
       "\n",
       "    .dataframe tbody tr th {\n",
       "        vertical-align: top;\n",
       "    }\n",
       "\n",
       "    .dataframe thead th {\n",
       "        text-align: right;\n",
       "    }\n",
       "</style>\n",
       "<table border=\"1\" class=\"dataframe\">\n",
       "  <thead>\n",
       "    <tr style=\"text-align: right;\">\n",
       "      <th></th>\n",
       "      <th>mb_used</th>\n",
       "      <th>message_date</th>\n",
       "      <th>revenue</th>\n",
       "      <th>sum_duration</th>\n",
       "      <th>tariff</th>\n",
       "    </tr>\n",
       "    <tr>\n",
       "      <th>user_id</th>\n",
       "      <th></th>\n",
       "      <th></th>\n",
       "      <th></th>\n",
       "      <th></th>\n",
       "      <th></th>\n",
       "    </tr>\n",
       "  </thead>\n",
       "  <tbody>\n",
       "    <tr>\n",
       "      <th>1000</th>\n",
       "      <td>14312.42</td>\n",
       "      <td>65.0</td>\n",
       "      <td>1950.000000</td>\n",
       "      <td>339.0</td>\n",
       "      <td>ultra</td>\n",
       "    </tr>\n",
       "    <tr>\n",
       "      <th>1001</th>\n",
       "      <td>16233.00</td>\n",
       "      <td>0.0</td>\n",
       "      <td>849.740234</td>\n",
       "      <td>422.0</td>\n",
       "      <td>smart</td>\n",
       "    </tr>\n",
       "    <tr>\n",
       "      <th>1002</th>\n",
       "      <td>17580.10</td>\n",
       "      <td>11.0</td>\n",
       "      <td>983.613281</td>\n",
       "      <td>214.0</td>\n",
       "      <td>smart</td>\n",
       "    </tr>\n",
       "    <tr>\n",
       "      <th>1003</th>\n",
       "      <td>11356.89</td>\n",
       "      <td>83.0</td>\n",
       "      <td>1950.000000</td>\n",
       "      <td>824.0</td>\n",
       "      <td>ultra</td>\n",
       "    </tr>\n",
       "    <tr>\n",
       "      <th>1004</th>\n",
       "      <td>17810.53</td>\n",
       "      <td>154.5</td>\n",
       "      <td>1950.000000</td>\n",
       "      <td>132.5</td>\n",
       "      <td>ultra</td>\n",
       "    </tr>\n",
       "  </tbody>\n",
       "</table>\n",
       "</div>"
      ],
      "text/plain": [
       "          mb_used  message_date      revenue  sum_duration tariff\n",
       "user_id                                                          \n",
       "1000     14312.42          65.0  1950.000000         339.0  ultra\n",
       "1001     16233.00           0.0   849.740234         422.0  smart\n",
       "1002     17580.10          11.0   983.613281         214.0  smart\n",
       "1003     11356.89          83.0  1950.000000         824.0  ultra\n",
       "1004     17810.53         154.5  1950.000000         132.5  ultra"
      ]
     },
     "metadata": {},
     "output_type": "display_data"
    },
    {
     "data": {
      "text/html": [
       "<div>\n",
       "<style scoped>\n",
       "    .dataframe tbody tr th:only-of-type {\n",
       "        vertical-align: middle;\n",
       "    }\n",
       "\n",
       "    .dataframe tbody tr th {\n",
       "        vertical-align: top;\n",
       "    }\n",
       "\n",
       "    .dataframe thead th {\n",
       "        text-align: right;\n",
       "    }\n",
       "</style>\n",
       "<table border=\"1\" class=\"dataframe\">\n",
       "  <thead>\n",
       "    <tr style=\"text-align: right;\">\n",
       "      <th></th>\n",
       "      <th>mb_used</th>\n",
       "      <th>message_date</th>\n",
       "      <th>revenue</th>\n",
       "      <th>sum_duration</th>\n",
       "      <th>tariff</th>\n",
       "    </tr>\n",
       "    <tr>\n",
       "      <th>user_id</th>\n",
       "      <th></th>\n",
       "      <th></th>\n",
       "      <th></th>\n",
       "      <th></th>\n",
       "      <th></th>\n",
       "    </tr>\n",
       "  </thead>\n",
       "  <tbody>\n",
       "    <tr>\n",
       "      <th>1000</th>\n",
       "      <td>13424.038750</td>\n",
       "      <td>62.0</td>\n",
       "      <td>1950.000000</td>\n",
       "      <td>320.750000</td>\n",
       "      <td>ultra</td>\n",
       "    </tr>\n",
       "    <tr>\n",
       "      <th>1001</th>\n",
       "      <td>16233.000000</td>\n",
       "      <td>0.0</td>\n",
       "      <td>849.740234</td>\n",
       "      <td>422.000000</td>\n",
       "      <td>smart</td>\n",
       "    </tr>\n",
       "    <tr>\n",
       "      <th>1002</th>\n",
       "      <td>16576.645714</td>\n",
       "      <td>10.0</td>\n",
       "      <td>954.337333</td>\n",
       "      <td>216.714286</td>\n",
       "      <td>smart</td>\n",
       "    </tr>\n",
       "    <tr>\n",
       "      <th>1003</th>\n",
       "      <td>11456.128000</td>\n",
       "      <td>76.0</td>\n",
       "      <td>1950.000000</td>\n",
       "      <td>764.400000</td>\n",
       "      <td>ultra</td>\n",
       "    </tr>\n",
       "    <tr>\n",
       "      <th>1004</th>\n",
       "      <td>18629.935000</td>\n",
       "      <td>149.0</td>\n",
       "      <td>1950.000000</td>\n",
       "      <td>123.375000</td>\n",
       "      <td>ultra</td>\n",
       "    </tr>\n",
       "  </tbody>\n",
       "</table>\n",
       "</div>"
      ],
      "text/plain": [
       "              mb_used  message_date      revenue  sum_duration tariff\n",
       "user_id                                                              \n",
       "1000     13424.038750          62.0  1950.000000    320.750000  ultra\n",
       "1001     16233.000000           0.0   849.740234    422.000000  smart\n",
       "1002     16576.645714          10.0   954.337333    216.714286  smart\n",
       "1003     11456.128000          76.0  1950.000000    764.400000  ultra\n",
       "1004     18629.935000         149.0  1950.000000    123.375000  ultra"
      ]
     },
     "metadata": {},
     "output_type": "display_data"
    }
   ],
   "source": [
    "# how many minutes, messages, and megabytes for each user per month (MEDIAN)\n",
    "median_data = grouped_data.pivot_table(index='user_id',values=['sum_duration','message_date','revenue','mb_used'], aggfunc=\"median\")\n",
    "\n",
    "for i in data_user['user_id']:\n",
    "    median_data.loc[i, 'tariff'] = data_user.loc[i-1000,'tariff']\n",
    "median_data = median_data.dropna()\n",
    "display(median_data.head())\n",
    "\n",
    "\n",
    "# how many minutes, messages, and megabytes for each user per month (AVERAGE)\n",
    "mean_data = grouped_data.pivot_table(index='user_id',values=['sum_duration','message_date','mb_used','revenue'], aggfunc='mean')\n",
    "\n",
    "for i in data_user['user_id']:\n",
    "    mean_data.loc[i, 'tariff'] = data_user.loc[i-1000,'tariff']\n",
    "mean_data = mean_data.dropna()\n",
    "display(mean_data.head())"
   ]
  },
  {
   "cell_type": "markdown",
   "metadata": {},
   "source": [
    "**mean, variance and standard deviation**"
   ]
  },
  {
   "cell_type": "code",
   "execution_count": 25,
   "metadata": {},
   "outputs": [
    {
     "data": {
      "text/html": [
       "<div>\n",
       "<style scoped>\n",
       "    .dataframe tbody tr th:only-of-type {\n",
       "        vertical-align: middle;\n",
       "    }\n",
       "\n",
       "    .dataframe tbody tr th {\n",
       "        vertical-align: top;\n",
       "    }\n",
       "\n",
       "    .dataframe thead tr th {\n",
       "        text-align: left;\n",
       "    }\n",
       "\n",
       "    .dataframe thead tr:last-of-type th {\n",
       "        text-align: right;\n",
       "    }\n",
       "</style>\n",
       "<table border=\"1\" class=\"dataframe\">\n",
       "  <thead>\n",
       "    <tr>\n",
       "      <th></th>\n",
       "      <th colspan=\"3\" halign=\"left\">mb_used</th>\n",
       "      <th colspan=\"3\" halign=\"left\">message_date</th>\n",
       "      <th colspan=\"3\" halign=\"left\">sum_duration</th>\n",
       "    </tr>\n",
       "    <tr>\n",
       "      <th></th>\n",
       "      <th>median</th>\n",
       "      <th>std</th>\n",
       "      <th>var</th>\n",
       "      <th>median</th>\n",
       "      <th>std</th>\n",
       "      <th>var</th>\n",
       "      <th>median</th>\n",
       "      <th>std</th>\n",
       "      <th>var</th>\n",
       "    </tr>\n",
       "    <tr>\n",
       "      <th>tariff</th>\n",
       "      <th></th>\n",
       "      <th></th>\n",
       "      <th></th>\n",
       "      <th></th>\n",
       "      <th></th>\n",
       "      <th></th>\n",
       "      <th></th>\n",
       "      <th></th>\n",
       "      <th></th>\n",
       "    </tr>\n",
       "  </thead>\n",
       "  <tbody>\n",
       "    <tr>\n",
       "      <th>smart</th>\n",
       "      <td>16506.84</td>\n",
       "      <td>5870.476681</td>\n",
       "      <td>3.446250e+07</td>\n",
       "      <td>28.0</td>\n",
       "      <td>28.227876</td>\n",
       "      <td>796.812958</td>\n",
       "      <td>422.0</td>\n",
       "      <td>190.313730</td>\n",
       "      <td>36219.315784</td>\n",
       "    </tr>\n",
       "    <tr>\n",
       "      <th>ultra</th>\n",
       "      <td>19308.01</td>\n",
       "      <td>10087.170752</td>\n",
       "      <td>1.017510e+08</td>\n",
       "      <td>38.0</td>\n",
       "      <td>47.804457</td>\n",
       "      <td>2285.266143</td>\n",
       "      <td>518.0</td>\n",
       "      <td>317.606098</td>\n",
       "      <td>100873.633397</td>\n",
       "    </tr>\n",
       "  </tbody>\n",
       "</table>\n",
       "</div>"
      ],
      "text/plain": [
       "         mb_used                             message_date             \\\n",
       "          median           std           var       median        std   \n",
       "tariff                                                                 \n",
       "smart   16506.84   5870.476681  3.446250e+07         28.0  28.227876   \n",
       "ultra   19308.01  10087.170752  1.017510e+08         38.0  47.804457   \n",
       "\n",
       "                    sum_duration                             \n",
       "                var       median         std            var  \n",
       "tariff                                                       \n",
       "smart    796.812958        422.0  190.313730   36219.315784  \n",
       "ultra   2285.266143        518.0  317.606098  100873.633397  "
      ]
     },
     "metadata": {},
     "output_type": "display_data"
    }
   ],
   "source": [
    "statistics_data = grouped_data.pivot_table(index=['tariff'],\\\n",
    "                                           values=['sum_duration','message_date','mb_used'],\\\n",
    "                                           aggfunc={'sum_duration':['median',np.var, np.std],\\\n",
    "                                                    'message_date':['median',np.var, np.std],\\\n",
    "                                                    'mb_used':['median',np.var, np.std]})\n",
    "\n",
    "display(statistics_data)"
   ]
  },
  {
   "cell_type": "markdown",
   "metadata": {},
   "source": [
    "- Plot histograms;\n",
    "- Describe distributed."
   ]
  },
  {
   "cell_type": "markdown",
   "metadata": {},
   "source": [
    "The minutes of conversation, the number of messages and the amount of Internet traffic spent on the `'Ultra tariff'` have a greater dispersion compared to the `'Smart tariff'`. The medians for the above characteristics are also shifted upwards. In addition anomalous values under the cheaper tariff are significantly higher."
   ]
  },
  {
   "cell_type": "code",
   "execution_count": 26,
   "metadata": {},
   "outputs": [
    {
     "data": {
      "image/png": "[encoded data removed]",
      "text/plain": [
       "<Figure size 360x360 with 1 Axes>"
      ]
     },
     "metadata": {
      "needs_background": "light"
     },
     "output_type": "display_data"
    },
    {
     "data": {
      "image/png": "[encoded data removed]",
      "text/plain": [
       "<Figure size 360x360 with 1 Axes>"
      ]
     },
     "metadata": {
      "needs_background": "light"
     },
     "output_type": "display_data"
    },
    {
     "data": {
      "image/png": "[encoded data removed]",
      "text/plain": [
       "<Figure size 360x360 with 1 Axes>"
      ]
     },
     "metadata": {
      "needs_background": "light"
     },
     "output_type": "display_data"
    }
   ],
   "source": [
    "for i in ['sum_duration', 'mb_used', 'message_date']:    \n",
    "    sb.catplot(x=\"tariff\", y=i, kind=\"box\", data=median_data, orient='v')"
   ]
  },
  {
   "cell_type": "code",
   "execution_count": 27,
   "metadata": {},
   "outputs": [],
   "source": [
    "def det_whiskers(column):\n",
    "    descr = grouped_data[column].describe()\n",
    "    \n",
    "    iqr = descr[6] - descr[4] \n",
    "    \n",
    "    left_whisker = round(descr[4] - 1.5 * iqr, 2)\n",
    "    right_whisker = round(descr[6] + 1.5 * iqr, 2)\n",
    "    \n",
    "    if left_whisker < descr[3]: left_whisker = descr[3] \n",
    "        \n",
    "    if right_whisker > descr[7]: right_whisker = descr[7]\n",
    "        \n",
    "    #return (f'{column}, Левый ус: {left_whisker}, Правый ус: {right_whisker}')\n",
    "    return [left_whisker,right_whisker]"
   ]
  },
  {
   "cell_type": "markdown",
   "metadata": {},
   "source": [
    "- According to the histograms it is clearly seen that the dispersion for the `\"Smart tariff\"` is less than for users with the `\"Ultra tariff\"` in all indicators: by the duration of the call, the number of messages and the used Internet traffic.\n",
    "\n",
    "- In other words, the behavior of users of the `\"Ultra tariff\"` is more diverse in terms of the consumption of telecommunications services.\n",
    "\n",
    "- Users of an expensive tariff are more free to choose how to use the volumes of the tariff package: perhaps, using an expensive tariff helps them not to think that at some point their Internet will turn off or the package will end by minutes of conversation."
   ]
  },
  {
   "cell_type": "code",
   "execution_count": 28,
   "metadata": {},
   "outputs": [
    {
     "data": {
      "image/png": "[encoded data removed]",
      "text/plain": [
       "<Figure size 432x288 with 1 Axes>"
      ]
     },
     "metadata": {
      "needs_background": "light"
     },
     "output_type": "display_data"
    },
    {
     "data": {
      "image/png": "[encoded data removed]",
      "text/plain": [
       "<Figure size 432x288 with 1 Axes>"
      ]
     },
     "metadata": {
      "needs_background": "light"
     },
     "output_type": "display_data"
    }
   ],
   "source": [
    "# plot a histogram with a column median_data['sum_duration']\n",
    "for i in ['smart', 'ultra']:\n",
    "    median_data.loc[median_data['tariff'] == i].hist('sum_duration',bins=15)\n",
    "    plt.xlim(det_whiskers('sum_duration')[0], det_whiskers('sum_duration')[1])\n",
    "    plt.title('sum_duration '+ i +'')\n",
    "    plt.xlabel('время, минуты')\n",
    "    plt.ylabel('Частота')"
   ]
  },
  {
   "cell_type": "code",
   "execution_count": 29,
   "metadata": {},
   "outputs": [
    {
     "data": {
      "text/plain": [
       "<AxesSubplot:xlabel='month', ylabel='sum_duration'>"
      ]
     },
     "execution_count": 29,
     "metadata": {},
     "output_type": "execute_result"
    },
    {
     "data": {
      "image/png": "[encoded data removed]",
      "text/plain": [
       "<Figure size 432x288 with 1 Axes>"
      ]
     },
     "metadata": {
      "needs_background": "light"
     },
     "output_type": "display_data"
    }
   ],
   "source": [
    "sb.barplot(x=\"month\", y=\"sum_duration\", data=grouped_data.reset_index(), hue = 'tariff')"
   ]
  },
  {
   "cell_type": "code",
   "execution_count": 30,
   "metadata": {},
   "outputs": [
    {
     "data": {
      "image/png": "[encoded data removed]",
      "text/plain": [
       "<Figure size 432x288 with 1 Axes>"
      ]
     },
     "metadata": {
      "needs_background": "light"
     },
     "output_type": "display_data"
    },
    {
     "data": {
      "image/png": "[encoded data removed]",
      "text/plain": [
       "<Figure size 432x288 with 1 Axes>"
      ]
     },
     "metadata": {
      "needs_background": "light"
     },
     "output_type": "display_data"
    }
   ],
   "source": [
    "# plot a histogram with a column median_data['sum_duration']\n",
    "for i in ['smart', 'ultra']:\n",
    "    median_data.loc[median_data['tariff'] == i].hist('mb_used',bins=15)\n",
    "    plt.xlim(det_whiskers('mb_used')[0], det_whiskers('mb_used')[1])\n",
    "    plt.title('mb_used '+ i +'')\n",
    "    plt.xlabel('время, минуты')\n",
    "    plt.ylabel('Частота')"
   ]
  },
  {
   "cell_type": "code",
   "execution_count": 31,
   "metadata": {},
   "outputs": [
    {
     "data": {
      "text/plain": [
       "<AxesSubplot:xlabel='month', ylabel='mb_used'>"
      ]
     },
     "execution_count": 31,
     "metadata": {},
     "output_type": "execute_result"
    },
    {
     "data": {
      "image/png": "[encoded data removed]",
      "text/plain": [
       "<Figure size 432x288 with 1 Axes>"
      ]
     },
     "metadata": {
      "needs_background": "light"
     },
     "output_type": "display_data"
    }
   ],
   "source": [
    "sb.barplot(x=\"month\", y=\"mb_used\", data=grouped_data.reset_index(), hue = 'tariff')"
   ]
  },
  {
   "cell_type": "code",
   "execution_count": 32,
   "metadata": {},
   "outputs": [
    {
     "data": {
      "image/png": "[encoded data removed]",
      "text/plain": [
       "<Figure size 432x288 with 1 Axes>"
      ]
     },
     "metadata": {
      "needs_background": "light"
     },
     "output_type": "display_data"
    },
    {
     "data": {
      "image/png": "[encoded data removed]",
      "text/plain": [
       "<Figure size 432x288 with 1 Axes>"
      ]
     },
     "metadata": {
      "needs_background": "light"
     },
     "output_type": "display_data"
    }
   ],
   "source": [
    "# plot a histogram with a column median_data['message_date']\n",
    "for i in ['smart', 'ultra']:\n",
    "    median_data.loc[median_data['tariff'] == i].hist('message_date',bins=15)\n",
    "    plt.xlim(det_whiskers('message_date')[0], det_whiskers('message_date')[1])\n",
    "    plt.title('message_date '+ i +'')\n",
    "    plt.xlabel('время, минуты')\n",
    "    plt.ylabel('Частота')"
   ]
  },
  {
   "cell_type": "code",
   "execution_count": 33,
   "metadata": {},
   "outputs": [
    {
     "data": {
      "text/plain": [
       "<AxesSubplot:xlabel='month', ylabel='message_date'>"
      ]
     },
     "execution_count": 33,
     "metadata": {},
     "output_type": "execute_result"
    },
    {
     "data": {
      "image/png": "[encoded data removed]",
      "text/plain": [
       "<Figure size 432x288 with 1 Axes>"
      ]
     },
     "metadata": {
      "needs_background": "light"
     },
     "output_type": "display_data"
    }
   ],
   "source": [
    "sb.barplot(x=\"month\", y=\"message_date\", data=grouped_data.reset_index(), hue = 'tariff')"
   ]
  },
  {
   "cell_type": "code",
   "execution_count": 34,
   "metadata": {},
   "outputs": [
    {
     "data": {
      "text/plain": [
       "<AxesSubplot:xlabel='revenue', ylabel='Count'>"
      ]
     },
     "execution_count": 34,
     "metadata": {},
     "output_type": "execute_result"
    },
    {
     "data": {
      "image/png": "[encoded data removed]",
      "text/plain": [
       "<Figure size 432x288 with 1 Axes>"
      ]
     },
     "metadata": {
      "needs_background": "light"
     },
     "output_type": "display_data"
    }
   ],
   "source": [
    "sb.histplot(data = grouped_data.reset_index(),  x = \"revenue\", hue = \"tariff\")"
   ]
  },
  {
   "cell_type": "code",
   "execution_count": 35,
   "metadata": {
    "scrolled": true
   },
   "outputs": [
    {
     "data": {
      "text/plain": [
       "<AxesSubplot:xlabel='month', ylabel='revenue'>"
      ]
     },
     "execution_count": 35,
     "metadata": {},
     "output_type": "execute_result"
    },
    {
     "data": {
      "image/png": "[encoded data removed]",
      "text/plain": [
       "<Figure size 432x288 with 1 Axes>"
      ]
     },
     "metadata": {
      "needs_background": "light"
     },
     "output_type": "display_data"
    }
   ],
   "source": [
    "sb.barplot(x=\"month\", y=\"revenue\", data=grouped_data.reset_index(), hue = 'tariff')"
   ]
  },
  {
   "cell_type": "markdown",
   "metadata": {},
   "source": [
    "# Step 4. Hypothesis testing"
   ]
  },
  {
   "cell_type": "markdown",
   "metadata": {},
   "source": [
    "`H0` — the average revenue of `\"Ultra tariff\"` users is equal to the average revenue of `\"Smart tariff\"` users.\n",
    "\n",
    "`H1` - the average revenue of users of the `\"Ultra tariff\"` and `\"Smart tariffs` are different."
   ]
  },
  {
   "cell_type": "markdown",
   "metadata": {},
   "source": [
    "The average values of revenue by tariffs differ by almost 2 times. If a user has a `\"Smart tariff\"` with a subscription fee of 550 rubles then he will most likely pay much more by the end of the month due to a lack of services within the tariff package.\n",
    "\n",
    "In conclusion, it can be confirmed with 99% certainty that Megaline's revenues per user under the `\"Ultra tariff\"` are really different compared to the revenues from the `\"Smart tariff\"`."
   ]
  },
  {
   "cell_type": "code",
   "execution_count": 36,
   "metadata": {},
   "outputs": [
    {
     "name": "stdout",
     "output_type": "stream",
     "text": [
      "p_value: 1.6264184497192716e-298\n",
      "Отвергаем нулевую гипотезу\n"
     ]
    }
   ],
   "source": [
    "# Testing the hypothesis about the equality of the mean of two general \n",
    "# populations based on samples taken from them\n",
    "ultra = grouped_data.query('tariff == \"ultra\"')['revenue']\n",
    "smart = grouped_data.query('tariff == \"smart\"')['revenue']\n",
    "\n",
    "a = 0.05\n",
    "# equal_var - whether to consider equal to the sample variances the default value is True\n",
    "results = st.ttest_ind(ultra, smart, equal_var=False)\n",
    "\n",
    "print('p_value:', results.pvalue)\n",
    "\n",
    "if (results.pvalue < a):\n",
    "    print(\"Отвергаем нулевую гипотезу\")\n",
    "else:\n",
    "    print(\"Не получилось отвергнуть нулевую гипотезу\")"
   ]
  },
  {
   "cell_type": "code",
   "execution_count": 37,
   "metadata": {},
   "outputs": [
    {
     "data": {
      "text/html": [
       "<div>\n",
       "<style scoped>\n",
       "    .dataframe tbody tr th:only-of-type {\n",
       "        vertical-align: middle;\n",
       "    }\n",
       "\n",
       "    .dataframe tbody tr th {\n",
       "        vertical-align: top;\n",
       "    }\n",
       "\n",
       "    .dataframe thead th {\n",
       "        text-align: right;\n",
       "    }\n",
       "</style>\n",
       "<table border=\"1\" class=\"dataframe\">\n",
       "  <thead>\n",
       "    <tr style=\"text-align: right;\">\n",
       "      <th></th>\n",
       "      <th>revenue</th>\n",
       "    </tr>\n",
       "    <tr>\n",
       "      <th>tariff</th>\n",
       "      <th></th>\n",
       "    </tr>\n",
       "  </thead>\n",
       "  <tbody>\n",
       "    <tr>\n",
       "      <th>smart</th>\n",
       "      <td>957.978516</td>\n",
       "    </tr>\n",
       "    <tr>\n",
       "      <th>ultra</th>\n",
       "      <td>1950.000000</td>\n",
       "    </tr>\n",
       "  </tbody>\n",
       "</table>\n",
       "</div>"
      ],
      "text/plain": [
       "            revenue\n",
       "tariff             \n",
       "smart    957.978516\n",
       "ultra   1950.000000"
      ]
     },
     "execution_count": 37,
     "metadata": {},
     "output_type": "execute_result"
    }
   ],
   "source": [
    "grouped_data.pivot_table(index='tariff', values='revenue', aggfunc='median')"
   ]
  },
  {
   "cell_type": "markdown",
   "metadata": {},
   "source": [
    "\n",
    "`H0` — the average revenue of users from Moscow is equal to the average revenue of users from other regions.\n",
    "\n",
    "`H1` — the average revenue of users from Moscow differs from the average revenue of users from other regions.\n",
    "\n",
    "α=5%"
   ]
  },
  {
   "cell_type": "markdown",
   "metadata": {},
   "source": [
    "This statistical test did not give an opportunity to disprove the initial hypothesis that the income from users from Moscow and from other regions is almost equal.\n",
    "\n",
    "If we rejected the null hypothesis and stated that Megaline's income from each user in Moscow differs from income in other regions we would be wrong with a probability of 50.3%."
   ]
  },
  {
   "cell_type": "code",
   "execution_count": 38,
   "metadata": {},
   "outputs": [
    {
     "name": "stdout",
     "output_type": "stream",
     "text": [
      "p-p_value: 0.45036189303337393\n",
      "Не получилось отвергнуть нулевую гипотезу\n"
     ]
    }
   ],
   "source": [
    "# add the name of the settlement for each user\n",
    "for user in grouped_data.index:\n",
    "    grouped_data.loc[user, 'city'] = data_user.loc[user[0]-1000, 'city']\n",
    "\n",
    "moscow = grouped_data.query('city == \"Москва\"')['revenue']\n",
    "regions = grouped_data.query('city != \"Москва\"')['revenue']\n",
    "\n",
    "a = 0.05\n",
    "\n",
    "results = st.ttest_ind(moscow, regions, equal_var=False)\n",
    "\n",
    "print('p-p_value:', results.pvalue)\n",
    "\n",
    "if (results.pvalue < a):\n",
    "    print(\"Отвергаем нулевую гипотезу\")\n",
    "else:\n",
    "    print(\"Не получилось отвергнуть нулевую гипотезу\")"
   ]
  },
  {
   "cell_type": "code",
   "execution_count": 39,
   "metadata": {},
   "outputs": [
    {
     "data": {
      "text/plain": [
       "user_id  month\n",
       "1001     11       1149.480469\n",
       "         12        550.000000\n",
       "1003     8        1950.000000\n",
       "         9        1950.000000\n",
       "         10       1950.000000\n",
       "                     ...     \n",
       "1490     9         550.000000\n",
       "         10       1586.126953\n",
       "         11       1204.816406\n",
       "         12        633.152344\n",
       "1476     4        1950.000000\n",
       "Name: revenue, Length: 611, dtype: float64"
      ]
     },
     "metadata": {},
     "output_type": "display_data"
    }
   ],
   "source": [
    "display(moscow)"
   ]
  },
  {
   "cell_type": "code",
   "execution_count": 40,
   "metadata": {},
   "outputs": [
    {
     "data": {
      "text/html": [
       "<div>\n",
       "<style scoped>\n",
       "    .dataframe tbody tr th:only-of-type {\n",
       "        vertical-align: middle;\n",
       "    }\n",
       "\n",
       "    .dataframe tbody tr th {\n",
       "        vertical-align: top;\n",
       "    }\n",
       "\n",
       "    .dataframe thead th {\n",
       "        text-align: right;\n",
       "    }\n",
       "</style>\n",
       "<table border=\"1\" class=\"dataframe\">\n",
       "  <thead>\n",
       "    <tr style=\"text-align: right;\">\n",
       "      <th></th>\n",
       "      <th></th>\n",
       "      <th>calls_count</th>\n",
       "      <th>sum_duration</th>\n",
       "      <th>mb_used</th>\n",
       "      <th>message_date</th>\n",
       "      <th>tariff</th>\n",
       "      <th>revenue</th>\n",
       "      <th>city</th>\n",
       "    </tr>\n",
       "    <tr>\n",
       "      <th>user_id</th>\n",
       "      <th>month</th>\n",
       "      <th></th>\n",
       "      <th></th>\n",
       "      <th></th>\n",
       "      <th></th>\n",
       "      <th></th>\n",
       "      <th></th>\n",
       "      <th></th>\n",
       "    </tr>\n",
       "  </thead>\n",
       "  <tbody>\n",
       "    <tr>\n",
       "      <th rowspan=\"5\" valign=\"top\">1000</th>\n",
       "      <th>5</th>\n",
       "      <td>22.0</td>\n",
       "      <td>159.0</td>\n",
       "      <td>2253.49</td>\n",
       "      <td>22.0</td>\n",
       "      <td>ultra</td>\n",
       "      <td>1950.000000</td>\n",
       "      <td>Краснодар</td>\n",
       "    </tr>\n",
       "    <tr>\n",
       "      <th>6</th>\n",
       "      <td>43.0</td>\n",
       "      <td>172.0</td>\n",
       "      <td>23233.77</td>\n",
       "      <td>60.0</td>\n",
       "      <td>ultra</td>\n",
       "      <td>1950.000000</td>\n",
       "      <td>Краснодар</td>\n",
       "    </tr>\n",
       "    <tr>\n",
       "      <th>7</th>\n",
       "      <td>47.0</td>\n",
       "      <td>340.0</td>\n",
       "      <td>14003.64</td>\n",
       "      <td>75.0</td>\n",
       "      <td>ultra</td>\n",
       "      <td>1950.000000</td>\n",
       "      <td>Краснодар</td>\n",
       "    </tr>\n",
       "    <tr>\n",
       "      <th>8</th>\n",
       "      <td>52.0</td>\n",
       "      <td>408.0</td>\n",
       "      <td>14055.93</td>\n",
       "      <td>81.0</td>\n",
       "      <td>ultra</td>\n",
       "      <td>1950.000000</td>\n",
       "      <td>Краснодар</td>\n",
       "    </tr>\n",
       "    <tr>\n",
       "      <th>9</th>\n",
       "      <td>58.0</td>\n",
       "      <td>466.0</td>\n",
       "      <td>14568.91</td>\n",
       "      <td>57.0</td>\n",
       "      <td>ultra</td>\n",
       "      <td>1950.000000</td>\n",
       "      <td>Краснодар</td>\n",
       "    </tr>\n",
       "    <tr>\n",
       "      <th>...</th>\n",
       "      <th>...</th>\n",
       "      <td>...</td>\n",
       "      <td>...</td>\n",
       "      <td>...</td>\n",
       "      <td>...</td>\n",
       "      <td>...</td>\n",
       "      <td>...</td>\n",
       "      <td>...</td>\n",
       "    </tr>\n",
       "    <tr>\n",
       "      <th rowspan=\"5\" valign=\"top\">1489</th>\n",
       "      <th>8</th>\n",
       "      <td>0.0</td>\n",
       "      <td>0.0</td>\n",
       "      <td>11050.56</td>\n",
       "      <td>17.0</td>\n",
       "      <td>smart</td>\n",
       "      <td>550.000000</td>\n",
       "      <td>Санкт-Петербург</td>\n",
       "    </tr>\n",
       "    <tr>\n",
       "      <th>9</th>\n",
       "      <td>0.0</td>\n",
       "      <td>0.0</td>\n",
       "      <td>17206.30</td>\n",
       "      <td>32.0</td>\n",
       "      <td>smart</td>\n",
       "      <td>910.605469</td>\n",
       "      <td>Санкт-Петербург</td>\n",
       "    </tr>\n",
       "    <tr>\n",
       "      <th>10</th>\n",
       "      <td>0.0</td>\n",
       "      <td>0.0</td>\n",
       "      <td>19559.44</td>\n",
       "      <td>21.0</td>\n",
       "      <td>smart</td>\n",
       "      <td>1370.203125</td>\n",
       "      <td>Санкт-Петербург</td>\n",
       "    </tr>\n",
       "    <tr>\n",
       "      <th>11</th>\n",
       "      <td>0.0</td>\n",
       "      <td>0.0</td>\n",
       "      <td>17491.56</td>\n",
       "      <td>20.0</td>\n",
       "      <td>smart</td>\n",
       "      <td>966.320313</td>\n",
       "      <td>Санкт-Петербург</td>\n",
       "    </tr>\n",
       "    <tr>\n",
       "      <th>12</th>\n",
       "      <td>0.0</td>\n",
       "      <td>0.0</td>\n",
       "      <td>17322.51</td>\n",
       "      <td>35.0</td>\n",
       "      <td>smart</td>\n",
       "      <td>933.302734</td>\n",
       "      <td>Санкт-Петербург</td>\n",
       "    </tr>\n",
       "  </tbody>\n",
       "</table>\n",
       "<p>3214 rows × 7 columns</p>\n",
       "</div>"
      ],
      "text/plain": [
       "               calls_count  sum_duration   mb_used  message_date tariff  \\\n",
       "user_id month                                                             \n",
       "1000    5             22.0         159.0   2253.49          22.0  ultra   \n",
       "        6             43.0         172.0  23233.77          60.0  ultra   \n",
       "        7             47.0         340.0  14003.64          75.0  ultra   \n",
       "        8             52.0         408.0  14055.93          81.0  ultra   \n",
       "        9             58.0         466.0  14568.91          57.0  ultra   \n",
       "...                    ...           ...       ...           ...    ...   \n",
       "1489    8              0.0           0.0  11050.56          17.0  smart   \n",
       "        9              0.0           0.0  17206.30          32.0  smart   \n",
       "        10             0.0           0.0  19559.44          21.0  smart   \n",
       "        11             0.0           0.0  17491.56          20.0  smart   \n",
       "        12             0.0           0.0  17322.51          35.0  smart   \n",
       "\n",
       "                   revenue             city  \n",
       "user_id month                                \n",
       "1000    5      1950.000000        Краснодар  \n",
       "        6      1950.000000        Краснодар  \n",
       "        7      1950.000000        Краснодар  \n",
       "        8      1950.000000        Краснодар  \n",
       "        9      1950.000000        Краснодар  \n",
       "...                    ...              ...  \n",
       "1489    8       550.000000  Санкт-Петербург  \n",
       "        9       910.605469  Санкт-Петербург  \n",
       "        10     1370.203125  Санкт-Петербург  \n",
       "        11      966.320313  Санкт-Петербург  \n",
       "        12      933.302734  Санкт-Петербург  \n",
       "\n",
       "[3214 rows x 7 columns]"
      ]
     },
     "metadata": {},
     "output_type": "display_data"
    }
   ],
   "source": [
    "display(grouped_data)"
   ]
  },
  {
   "cell_type": "code",
   "execution_count": 41,
   "metadata": {},
   "outputs": [
    {
     "data": {
      "text/html": [
       "<div>\n",
       "<style scoped>\n",
       "    .dataframe tbody tr th:only-of-type {\n",
       "        vertical-align: middle;\n",
       "    }\n",
       "\n",
       "    .dataframe tbody tr th {\n",
       "        vertical-align: top;\n",
       "    }\n",
       "\n",
       "    .dataframe thead th {\n",
       "        text-align: right;\n",
       "    }\n",
       "</style>\n",
       "<table border=\"1\" class=\"dataframe\">\n",
       "  <thead>\n",
       "    <tr style=\"text-align: right;\">\n",
       "      <th></th>\n",
       "      <th>revenue</th>\n",
       "    </tr>\n",
       "    <tr>\n",
       "      <th>region</th>\n",
       "      <th></th>\n",
       "    </tr>\n",
       "  </thead>\n",
       "  <tbody>\n",
       "    <tr>\n",
       "      <th>Другой регион</th>\n",
       "      <td>1513.873047</td>\n",
       "    </tr>\n",
       "    <tr>\n",
       "      <th>Москва</th>\n",
       "      <td>1699.357422</td>\n",
       "    </tr>\n",
       "  </tbody>\n",
       "</table>\n",
       "</div>"
      ],
      "text/plain": [
       "                   revenue\n",
       "region                    \n",
       "Другой регион  1513.873047\n",
       "Москва         1699.357422"
      ]
     },
     "execution_count": 41,
     "metadata": {},
     "output_type": "execute_result"
    }
   ],
   "source": [
    "def get_region(city):\n",
    "    if city == 'Москва': \n",
    "        return 'Москва'\n",
    "    else: \n",
    "        return 'Другой регион'\n",
    "    \n",
    "grouped_data['region'] = grouped_data['city'].apply(get_region)\n",
    "grouped_data.pivot_table(index='region', values='revenue', aggfunc='median')"
   ]
  },
  {
   "cell_type": "markdown",
   "metadata": {},
   "source": [
    "#  General conclusion"
   ]
  },
  {
   "cell_type": "markdown",
   "metadata": {},
   "source": [
    "According to the results of statistical analysis the income from the `\"Ultra tariff\"` is greater than from the `\"Smart tariff\"`: on average, Megaline receives 1950 rubles and 988 rubles from one user per month.\n",
    "\n",
    "Features of the use of tariffs are as follows:\n",
    "\n",
    "`\"Smart tariff\"` users do not have enough services within the tariff package: in addition to the subscription fee users on average pay more than 400 rubles monthly (~ 75%).\n",
    "Users of the `\"Ultra tariff\"`, on the contrary, do not use the tariff package in full.\n",
    "Average revenues from users in Moscow do not differ from those in other localities: the difference is not statistically significant (p-value: 0.503) and amounts to 186 rubles: 1699 rubles. in Moscow against 1513 rubles in other settlements."
   ]
  }
 ],
 "metadata": {
  "ExecuteTimeLog": [
   {
    "duration": 58,
    "start_time": "2022-06-13T07:56:39.836Z"
   },
   {
    "duration": 390,
    "start_time": "2022-06-13T07:56:43.143Z"
   },
   {
    "duration": 241,
    "start_time": "2022-06-13T07:56:43.608Z"
   },
   {
    "duration": 19,
    "start_time": "2022-06-13T07:56:44.144Z"
   },
   {
    "duration": 39,
    "start_time": "2022-06-13T07:59:13.899Z"
   },
   {
    "duration": 2,
    "start_time": "2022-06-13T07:59:19.075Z"
   },
   {
    "duration": 938,
    "start_time": "2022-06-13T07:59:19.245Z"
   },
   {
    "duration": 56,
    "start_time": "2022-06-13T07:59:20.185Z"
   },
   {
    "duration": 48,
    "start_time": "2022-06-13T08:04:21.338Z"
   },
   {
    "duration": 55,
    "start_time": "2022-06-13T08:04:57.302Z"
   },
   {
    "duration": 3,
    "start_time": "2022-06-13T08:05:07.866Z"
   },
   {
    "duration": 19,
    "start_time": "2022-06-13T08:08:33.461Z"
   },
   {
    "duration": 3,
    "start_time": "2022-06-13T08:08:37.852Z"
   },
   {
    "duration": 476,
    "start_time": "2022-06-13T08:08:38.125Z"
   },
   {
    "duration": 2,
    "start_time": "2022-06-13T08:08:38.603Z"
   },
   {
    "duration": 452,
    "start_time": "2022-06-13T08:08:50.804Z"
   },
   {
    "duration": 499,
    "start_time": "2022-06-13T08:08:51.258Z"
   },
   {
    "duration": 4,
    "start_time": "2022-06-13T08:08:51.759Z"
   },
   {
    "duration": 84,
    "start_time": "2022-06-13T08:08:51.766Z"
   },
   {
    "duration": 92,
    "start_time": "2022-06-13T08:08:51.852Z"
   },
   {
    "duration": 7,
    "start_time": "2022-06-13T08:09:22.651Z"
   },
   {
    "duration": 57,
    "start_time": "2022-06-13T08:13:13.404Z"
   },
   {
    "duration": 3,
    "start_time": "2022-06-13T08:13:32.989Z"
   },
   {
    "duration": 12,
    "start_time": "2022-06-13T08:19:42.620Z"
   },
   {
    "duration": 9,
    "start_time": "2022-06-13T08:20:01.437Z"
   },
   {
    "duration": 9,
    "start_time": "2022-06-13T08:20:04.149Z"
   },
   {
    "duration": 10,
    "start_time": "2022-06-13T08:20:26.238Z"
   },
   {
    "duration": 5,
    "start_time": "2022-06-13T08:20:44.520Z"
   },
   {
    "duration": 143,
    "start_time": "2022-06-13T08:21:14.548Z"
   },
   {
    "duration": 9,
    "start_time": "2022-06-13T08:21:26.619Z"
   },
   {
    "duration": 8,
    "start_time": "2022-06-13T08:22:13.285Z"
   },
   {
    "duration": 399,
    "start_time": "2022-06-13T08:22:19.071Z"
   },
   {
    "duration": 446,
    "start_time": "2022-06-13T08:22:19.472Z"
   },
   {
    "duration": 3,
    "start_time": "2022-06-13T08:22:19.920Z"
   },
   {
    "duration": 24,
    "start_time": "2022-06-13T08:22:19.925Z"
   },
   {
    "duration": 103,
    "start_time": "2022-06-13T08:22:19.952Z"
   },
   {
    "duration": 0,
    "start_time": "2022-06-13T08:22:20.057Z"
   },
   {
    "duration": 8,
    "start_time": "2022-06-13T08:23:58.101Z"
   },
   {
    "duration": 17,
    "start_time": "2022-06-13T08:24:22.161Z"
   },
   {
    "duration": 8,
    "start_time": "2022-06-13T08:24:38.335Z"
   },
   {
    "duration": 6,
    "start_time": "2022-06-13T08:24:45.916Z"
   },
   {
    "duration": 6,
    "start_time": "2022-06-13T08:24:49.207Z"
   },
   {
    "duration": 8,
    "start_time": "2022-06-13T08:26:44.833Z"
   },
   {
    "duration": 3,
    "start_time": "2022-06-13T08:26:48.278Z"
   },
   {
    "duration": 7,
    "start_time": "2022-06-13T08:26:53.565Z"
   },
   {
    "duration": 11,
    "start_time": "2022-06-13T08:30:28.618Z"
   },
   {
    "duration": 47,
    "start_time": "2022-06-13T08:31:11.109Z"
   },
   {
    "duration": 415,
    "start_time": "2022-06-13T08:34:38.780Z"
   },
   {
    "duration": 5,
    "start_time": "2022-06-13T08:34:47.886Z"
   },
   {
    "duration": 250,
    "start_time": "2022-06-13T08:35:01.860Z"
   },
   {
    "duration": 4,
    "start_time": "2022-06-13T08:36:41.797Z"
   },
   {
    "duration": 4,
    "start_time": "2022-06-13T08:36:58.666Z"
   },
   {
    "duration": 3,
    "start_time": "2022-06-13T08:37:07.650Z"
   },
   {
    "duration": 3,
    "start_time": "2022-06-13T08:37:12.104Z"
   },
   {
    "duration": 4,
    "start_time": "2022-06-13T08:37:18.694Z"
   },
   {
    "duration": 4,
    "start_time": "2022-06-13T08:37:32.481Z"
   },
   {
    "duration": 61,
    "start_time": "2022-06-13T08:39:01.621Z"
   },
   {
    "duration": 14,
    "start_time": "2022-06-13T08:40:05.903Z"
   },
   {
    "duration": 399,
    "start_time": "2022-06-13T08:44:08.661Z"
   },
   {
    "duration": 7,
    "start_time": "2022-06-13T08:44:22.441Z"
   },
   {
    "duration": 648,
    "start_time": "2022-06-13T08:44:57.144Z"
   },
   {
    "duration": 5,
    "start_time": "2022-06-13T08:44:57.794Z"
   },
   {
    "duration": 17,
    "start_time": "2022-06-13T08:45:37.699Z"
   },
   {
    "duration": 12,
    "start_time": "2022-06-13T08:45:51.810Z"
   },
   {
    "duration": 19,
    "start_time": "2022-06-13T08:45:57.875Z"
   },
   {
    "duration": 12,
    "start_time": "2022-06-13T08:46:00.240Z"
   },
   {
    "duration": 477,
    "start_time": "2022-06-13T08:46:11.950Z"
   },
   {
    "duration": 588,
    "start_time": "2022-06-13T08:46:12.430Z"
   },
   {
    "duration": 6,
    "start_time": "2022-06-13T08:46:13.020Z"
   },
   {
    "duration": 70,
    "start_time": "2022-06-13T08:46:13.030Z"
   },
   {
    "duration": 644,
    "start_time": "2022-06-13T08:46:13.101Z"
   },
   {
    "duration": 6,
    "start_time": "2022-06-13T08:46:13.747Z"
   },
   {
    "duration": 15,
    "start_time": "2022-06-13T08:46:13.756Z"
   },
   {
    "duration": 489,
    "start_time": "2022-06-13T08:46:35.837Z"
   },
   {
    "duration": 472,
    "start_time": "2022-06-13T08:46:36.337Z"
   },
   {
    "duration": 3,
    "start_time": "2022-06-13T08:46:36.810Z"
   },
   {
    "duration": 60,
    "start_time": "2022-06-13T08:46:36.815Z"
   },
   {
    "duration": 624,
    "start_time": "2022-06-13T08:46:36.877Z"
   },
   {
    "duration": 5,
    "start_time": "2022-06-13T08:46:37.503Z"
   },
   {
    "duration": 14,
    "start_time": "2022-06-13T08:46:37.510Z"
   },
   {
    "duration": 486,
    "start_time": "2022-06-13T08:47:02.602Z"
   },
   {
    "duration": 494,
    "start_time": "2022-06-13T08:47:03.090Z"
   },
   {
    "duration": 2,
    "start_time": "2022-06-13T08:47:03.586Z"
   },
   {
    "duration": 58,
    "start_time": "2022-06-13T08:47:03.590Z"
   },
   {
    "duration": 624,
    "start_time": "2022-06-13T08:47:03.651Z"
   },
   {
    "duration": 6,
    "start_time": "2022-06-13T08:47:04.276Z"
   },
   {
    "duration": 449,
    "start_time": "2022-06-13T08:47:38.591Z"
   },
   {
    "duration": 483,
    "start_time": "2022-06-13T08:47:39.045Z"
   },
   {
    "duration": 2,
    "start_time": "2022-06-13T08:47:39.530Z"
   },
   {
    "duration": 57,
    "start_time": "2022-06-13T08:47:39.534Z"
   },
   {
    "duration": 641,
    "start_time": "2022-06-13T08:47:39.593Z"
   },
   {
    "duration": 6,
    "start_time": "2022-06-13T08:47:40.236Z"
   },
   {
    "duration": 383,
    "start_time": "2022-06-13T08:47:53.349Z"
   },
   {
    "duration": 448,
    "start_time": "2022-06-13T08:47:53.734Z"
   },
   {
    "duration": 3,
    "start_time": "2022-06-13T08:47:54.183Z"
   },
   {
    "duration": 46,
    "start_time": "2022-06-13T08:47:54.188Z"
   },
   {
    "duration": 370,
    "start_time": "2022-06-13T08:47:54.237Z"
   },
   {
    "duration": 6,
    "start_time": "2022-06-13T08:47:54.609Z"
   },
   {
    "duration": 5,
    "start_time": "2022-06-13T08:49:54.240Z"
   },
   {
    "duration": 244,
    "start_time": "2022-06-13T08:50:01.546Z"
   },
   {
    "duration": 7,
    "start_time": "2022-06-13T08:50:04.617Z"
   },
   {
    "duration": 437,
    "start_time": "2022-06-13T08:50:12.241Z"
   },
   {
    "duration": 523,
    "start_time": "2022-06-13T08:50:12.682Z"
   },
   {
    "duration": 4,
    "start_time": "2022-06-13T08:50:13.206Z"
   },
   {
    "duration": 75,
    "start_time": "2022-06-13T08:50:13.212Z"
   },
   {
    "duration": 371,
    "start_time": "2022-06-13T08:50:13.289Z"
   },
   {
    "duration": 6,
    "start_time": "2022-06-13T08:50:13.662Z"
   },
   {
    "duration": 714,
    "start_time": "2022-06-13T08:52:48.981Z"
   },
   {
    "duration": 5,
    "start_time": "2022-06-13T08:52:49.697Z"
   },
   {
    "duration": 79,
    "start_time": "2022-06-13T08:53:05.328Z"
   },
   {
    "duration": 5,
    "start_time": "2022-06-13T08:53:05.780Z"
   },
   {
    "duration": 14,
    "start_time": "2022-06-13T08:53:14.409Z"
   },
   {
    "duration": 436,
    "start_time": "2022-06-13T08:53:19.019Z"
   },
   {
    "duration": 485,
    "start_time": "2022-06-13T08:53:19.458Z"
   },
   {
    "duration": 2,
    "start_time": "2022-06-13T08:53:19.945Z"
   },
   {
    "duration": 46,
    "start_time": "2022-06-13T08:53:19.949Z"
   },
   {
    "duration": 601,
    "start_time": "2022-06-13T08:53:19.998Z"
   },
   {
    "duration": 5,
    "start_time": "2022-06-13T08:53:20.601Z"
   },
   {
    "duration": 7,
    "start_time": "2022-06-13T08:53:44.940Z"
   },
   {
    "duration": 512,
    "start_time": "2022-06-13T08:53:52.395Z"
   },
   {
    "duration": 464,
    "start_time": "2022-06-13T08:53:52.910Z"
   },
   {
    "duration": 3,
    "start_time": "2022-06-13T08:53:53.379Z"
   },
   {
    "duration": 50,
    "start_time": "2022-06-13T08:53:53.385Z"
   },
   {
    "duration": 578,
    "start_time": "2022-06-13T08:53:53.437Z"
   },
   {
    "duration": 11,
    "start_time": "2022-06-13T08:53:54.016Z"
   },
   {
    "duration": 476,
    "start_time": "2022-06-13T08:54:22.880Z"
   },
   {
    "duration": 8,
    "start_time": "2022-06-13T08:54:23.494Z"
   },
   {
    "duration": 405,
    "start_time": "2022-06-13T08:54:29.332Z"
   },
   {
    "duration": 455,
    "start_time": "2022-06-13T08:54:29.739Z"
   },
   {
    "duration": 3,
    "start_time": "2022-06-13T08:54:30.196Z"
   },
   {
    "duration": 50,
    "start_time": "2022-06-13T08:54:30.201Z"
   },
   {
    "duration": 419,
    "start_time": "2022-06-13T08:54:30.253Z"
   },
   {
    "duration": 8,
    "start_time": "2022-06-13T08:54:30.674Z"
   },
   {
    "duration": 83,
    "start_time": "2022-06-13T08:54:50.125Z"
   },
   {
    "duration": 492,
    "start_time": "2022-06-13T08:54:57.892Z"
   },
   {
    "duration": 8,
    "start_time": "2022-06-13T08:54:59.062Z"
   },
   {
    "duration": 373,
    "start_time": "2022-06-13T08:55:57.472Z"
   },
   {
    "duration": 438,
    "start_time": "2022-06-13T08:55:57.847Z"
   },
   {
    "duration": 2,
    "start_time": "2022-06-13T08:55:58.289Z"
   },
   {
    "duration": 44,
    "start_time": "2022-06-13T08:55:58.293Z"
   },
   {
    "duration": 531,
    "start_time": "2022-06-13T08:55:58.339Z"
   },
   {
    "duration": 7,
    "start_time": "2022-06-13T08:55:58.873Z"
   },
   {
    "duration": 417,
    "start_time": "2022-06-13T08:56:08.355Z"
   },
   {
    "duration": 504,
    "start_time": "2022-06-13T08:56:08.774Z"
   },
   {
    "duration": 3,
    "start_time": "2022-06-13T08:56:09.280Z"
   },
   {
    "duration": 62,
    "start_time": "2022-06-13T08:56:09.284Z"
   },
   {
    "duration": 565,
    "start_time": "2022-06-13T08:56:09.349Z"
   },
   {
    "duration": 13,
    "start_time": "2022-06-13T08:56:09.916Z"
   },
   {
    "duration": 410,
    "start_time": "2022-06-13T08:56:26.680Z"
   },
   {
    "duration": 464,
    "start_time": "2022-06-13T08:56:27.091Z"
   },
   {
    "duration": 3,
    "start_time": "2022-06-13T08:56:27.556Z"
   },
   {
    "duration": 43,
    "start_time": "2022-06-13T08:56:27.561Z"
   },
   {
    "duration": 585,
    "start_time": "2022-06-13T08:56:27.605Z"
   },
   {
    "duration": 7,
    "start_time": "2022-06-13T08:56:28.192Z"
   },
   {
    "duration": 452,
    "start_time": "2022-06-13T08:57:40.401Z"
   },
   {
    "duration": 9,
    "start_time": "2022-06-13T08:57:40.855Z"
   },
   {
    "duration": 413,
    "start_time": "2022-06-13T08:57:46.248Z"
   },
   {
    "duration": 461,
    "start_time": "2022-06-13T08:57:46.663Z"
   },
   {
    "duration": 3,
    "start_time": "2022-06-13T08:57:47.126Z"
   },
   {
    "duration": 60,
    "start_time": "2022-06-13T08:57:47.132Z"
   },
   {
    "duration": 593,
    "start_time": "2022-06-13T08:57:47.194Z"
   },
   {
    "duration": 8,
    "start_time": "2022-06-13T08:57:47.789Z"
   },
   {
    "duration": 423,
    "start_time": "2022-06-13T08:58:58.749Z"
   },
   {
    "duration": 488,
    "start_time": "2022-06-13T08:58:59.174Z"
   },
   {
    "duration": 2,
    "start_time": "2022-06-13T08:58:59.664Z"
   },
   {
    "duration": 44,
    "start_time": "2022-06-13T08:58:59.668Z"
   },
   {
    "duration": 1056,
    "start_time": "2022-06-13T08:58:59.715Z"
   },
   {
    "duration": 11,
    "start_time": "2022-06-13T08:59:00.772Z"
   },
   {
    "duration": 469,
    "start_time": "2022-06-13T08:59:22.623Z"
   },
   {
    "duration": 455,
    "start_time": "2022-06-13T08:59:23.095Z"
   },
   {
    "duration": 3,
    "start_time": "2022-06-13T08:59:23.551Z"
   },
   {
    "duration": 44,
    "start_time": "2022-06-13T08:59:23.556Z"
   },
   {
    "duration": 1160,
    "start_time": "2022-06-13T08:59:23.602Z"
   },
   {
    "duration": 10,
    "start_time": "2022-06-13T08:59:24.764Z"
   },
   {
    "duration": 632,
    "start_time": "2022-06-13T09:02:08.927Z"
   },
   {
    "duration": 505,
    "start_time": "2022-06-13T09:02:37.248Z"
   },
   {
    "duration": 472,
    "start_time": "2022-06-13T09:03:12.641Z"
   },
   {
    "duration": 438,
    "start_time": "2022-06-13T09:03:13.117Z"
   },
   {
    "duration": 3,
    "start_time": "2022-06-13T09:03:13.557Z"
   },
   {
    "duration": 56,
    "start_time": "2022-06-13T09:03:13.562Z"
   },
   {
    "duration": 625,
    "start_time": "2022-06-13T09:03:13.621Z"
   },
   {
    "duration": 0,
    "start_time": "2022-06-13T09:03:14.248Z"
   },
   {
    "duration": 580,
    "start_time": "2022-06-13T09:05:31.464Z"
   },
   {
    "duration": 684,
    "start_time": "2022-06-13T09:05:42.749Z"
   },
   {
    "duration": 714,
    "start_time": "2022-06-13T09:05:52.523Z"
   },
   {
    "duration": 599,
    "start_time": "2022-06-13T09:08:26.295Z"
   },
   {
    "duration": 694,
    "start_time": "2022-06-13T09:08:29.874Z"
   },
   {
    "duration": 788,
    "start_time": "2022-06-13T09:08:48.069Z"
   },
   {
    "duration": 723,
    "start_time": "2022-06-13T09:08:59.249Z"
   },
   {
    "duration": 614,
    "start_time": "2022-06-13T09:09:05.236Z"
   },
   {
    "duration": 703,
    "start_time": "2022-06-13T09:09:15.315Z"
   },
   {
    "duration": 420,
    "start_time": "2022-06-13T09:09:24.317Z"
   },
   {
    "duration": 446,
    "start_time": "2022-06-13T09:09:24.739Z"
   },
   {
    "duration": 3,
    "start_time": "2022-06-13T09:09:25.187Z"
   },
   {
    "duration": 61,
    "start_time": "2022-06-13T09:09:25.193Z"
   },
   {
    "duration": 578,
    "start_time": "2022-06-13T09:09:25.256Z"
   },
   {
    "duration": 7,
    "start_time": "2022-06-13T09:09:25.836Z"
   },
   {
    "duration": 507,
    "start_time": "2022-06-13T09:09:45.481Z"
   },
   {
    "duration": 398,
    "start_time": "2022-06-13T09:10:46.542Z"
   },
   {
    "duration": 475,
    "start_time": "2022-06-13T09:10:46.942Z"
   },
   {
    "duration": 3,
    "start_time": "2022-06-13T09:10:47.419Z"
   },
   {
    "duration": 82,
    "start_time": "2022-06-13T09:10:47.424Z"
   },
   {
    "duration": 6,
    "start_time": "2022-06-13T09:10:47.508Z"
   },
   {
    "duration": 53,
    "start_time": "2022-06-13T09:11:06.803Z"
   },
   {
    "duration": 4,
    "start_time": "2022-06-13T09:18:56.818Z"
   },
   {
    "duration": 4,
    "start_time": "2022-06-13T09:19:45.194Z"
   },
   {
    "duration": 3,
    "start_time": "2022-06-13T09:19:51.244Z"
   },
   {
    "duration": 4,
    "start_time": "2022-06-13T09:19:57.564Z"
   },
   {
    "duration": 3,
    "start_time": "2022-06-13T09:20:08.149Z"
   },
   {
    "duration": 8,
    "start_time": "2022-06-13T09:20:21.625Z"
   },
   {
    "duration": 4,
    "start_time": "2022-06-13T09:20:26.444Z"
   },
   {
    "duration": 4,
    "start_time": "2022-06-13T09:21:54.239Z"
   },
   {
    "duration": 18,
    "start_time": "2022-06-13T09:21:59.922Z"
   },
   {
    "duration": 3,
    "start_time": "2022-06-13T09:22:07.481Z"
   },
   {
    "duration": 4,
    "start_time": "2022-06-13T09:22:51.459Z"
   },
   {
    "duration": 5,
    "start_time": "2022-06-13T09:23:09.028Z"
   },
   {
    "duration": 4,
    "start_time": "2022-06-13T09:23:20.561Z"
   },
   {
    "duration": 3,
    "start_time": "2022-06-13T09:23:26.239Z"
   },
   {
    "duration": 3,
    "start_time": "2022-06-13T09:23:32.918Z"
   },
   {
    "duration": 4,
    "start_time": "2022-06-13T09:23:44.793Z"
   },
   {
    "duration": 490,
    "start_time": "2022-06-13T09:28:06.208Z"
   },
   {
    "duration": 592,
    "start_time": "2022-06-13T09:28:06.700Z"
   },
   {
    "duration": 4,
    "start_time": "2022-06-13T09:28:07.294Z"
   },
   {
    "duration": 114,
    "start_time": "2022-06-13T09:28:07.300Z"
   },
   {
    "duration": 11,
    "start_time": "2022-06-13T09:28:07.417Z"
   },
   {
    "duration": 83,
    "start_time": "2022-06-13T09:28:07.434Z"
   },
   {
    "duration": 449,
    "start_time": "2022-06-13T09:28:51.525Z"
   },
   {
    "duration": 513,
    "start_time": "2022-06-13T09:28:51.976Z"
   },
   {
    "duration": 3,
    "start_time": "2022-06-13T09:28:52.491Z"
   },
   {
    "duration": 81,
    "start_time": "2022-06-13T09:28:52.496Z"
   },
   {
    "duration": 7,
    "start_time": "2022-06-13T09:28:52.587Z"
   },
   {
    "duration": 58,
    "start_time": "2022-06-13T09:28:52.597Z"
   },
   {
    "duration": 479,
    "start_time": "2022-06-13T09:30:02.926Z"
   },
   {
    "duration": 602,
    "start_time": "2022-06-13T09:30:03.407Z"
   },
   {
    "duration": 2,
    "start_time": "2022-06-13T09:30:04.011Z"
   },
   {
    "duration": 82,
    "start_time": "2022-06-13T09:30:04.016Z"
   },
   {
    "duration": 6,
    "start_time": "2022-06-13T09:30:04.101Z"
   },
   {
    "duration": 73,
    "start_time": "2022-06-13T09:30:04.109Z"
   },
   {
    "duration": 5,
    "start_time": "2022-06-13T09:30:04.184Z"
   },
   {
    "duration": 85,
    "start_time": "2022-06-13T09:31:02.386Z"
   },
   {
    "duration": 73,
    "start_time": "2022-06-13T09:31:18.061Z"
   },
   {
    "duration": 64,
    "start_time": "2022-06-13T09:31:36.743Z"
   },
   {
    "duration": 67,
    "start_time": "2022-06-13T09:32:43.179Z"
   },
   {
    "duration": 91,
    "start_time": "2022-06-13T09:33:35.717Z"
   },
   {
    "duration": 8,
    "start_time": "2022-06-13T09:35:09.977Z"
   },
   {
    "duration": 68,
    "start_time": "2022-06-13T09:35:15.163Z"
   },
   {
    "duration": 41,
    "start_time": "2022-06-13T09:36:16.447Z"
   },
   {
    "duration": 13,
    "start_time": "2022-06-13T09:36:41.107Z"
   },
   {
    "duration": 9,
    "start_time": "2022-06-13T09:37:06.790Z"
   },
   {
    "duration": 10,
    "start_time": "2022-06-13T09:37:15.888Z"
   },
   {
    "duration": 9,
    "start_time": "2022-06-13T09:37:20.361Z"
   },
   {
    "duration": 14,
    "start_time": "2022-06-13T09:38:10.756Z"
   },
   {
    "duration": 6,
    "start_time": "2022-06-13T09:38:13.466Z"
   },
   {
    "duration": 46,
    "start_time": "2022-06-13T09:38:13.743Z"
   },
   {
    "duration": 139,
    "start_time": "2022-06-13T09:39:08.857Z"
   },
   {
    "duration": 63,
    "start_time": "2022-06-13T09:40:19.557Z"
   },
   {
    "duration": 101,
    "start_time": "2022-06-13T09:41:44.991Z"
   },
   {
    "duration": 142,
    "start_time": "2022-06-13T09:41:46.323Z"
   },
   {
    "duration": 21,
    "start_time": "2022-06-13T09:42:40.518Z"
   },
   {
    "duration": 13,
    "start_time": "2022-06-13T09:42:42.356Z"
   },
   {
    "duration": 14,
    "start_time": "2022-06-13T09:42:42.891Z"
   },
   {
    "duration": 472,
    "start_time": "2022-06-13T09:42:48.548Z"
   },
   {
    "duration": 613,
    "start_time": "2022-06-13T09:42:49.022Z"
   },
   {
    "duration": 5,
    "start_time": "2022-06-13T09:42:49.641Z"
   },
   {
    "duration": 66,
    "start_time": "2022-06-13T09:42:49.651Z"
   },
   {
    "duration": 9,
    "start_time": "2022-06-13T09:42:49.719Z"
   },
   {
    "duration": 76,
    "start_time": "2022-06-13T09:42:49.730Z"
   },
   {
    "duration": 71,
    "start_time": "2022-06-13T09:42:49.808Z"
   },
   {
    "duration": 73,
    "start_time": "2022-06-13T09:42:49.881Z"
   },
   {
    "duration": 48,
    "start_time": "2022-06-13T09:42:49.958Z"
   },
   {
    "duration": 40,
    "start_time": "2022-06-13T09:43:18.754Z"
   },
   {
    "duration": 581,
    "start_time": "2022-06-13T09:43:50.022Z"
   },
   {
    "duration": 86,
    "start_time": "2022-06-13T09:43:52.196Z"
   },
   {
    "duration": 28,
    "start_time": "2022-06-13T09:43:58.273Z"
   },
   {
    "duration": 73,
    "start_time": "2022-06-13T09:44:31.801Z"
   },
   {
    "duration": 15,
    "start_time": "2022-06-13T09:44:32.347Z"
   },
   {
    "duration": 14,
    "start_time": "2022-06-13T09:44:41.753Z"
   },
   {
    "duration": 486,
    "start_time": "2022-06-13T09:45:00.601Z"
   },
   {
    "duration": 580,
    "start_time": "2022-06-13T09:45:01.089Z"
   },
   {
    "duration": 4,
    "start_time": "2022-06-13T09:45:01.671Z"
   },
   {
    "duration": 60,
    "start_time": "2022-06-13T09:45:01.677Z"
   },
   {
    "duration": 7,
    "start_time": "2022-06-13T09:45:01.740Z"
   },
   {
    "duration": 85,
    "start_time": "2022-06-13T09:45:01.755Z"
   },
   {
    "duration": 78,
    "start_time": "2022-06-13T09:45:01.846Z"
   },
   {
    "duration": 113,
    "start_time": "2022-06-13T09:45:01.947Z"
   },
   {
    "duration": 68,
    "start_time": "2022-06-13T09:45:02.062Z"
   },
   {
    "duration": 644,
    "start_time": "2022-06-13T10:09:51.341Z"
   },
   {
    "duration": 501,
    "start_time": "2022-06-13T10:09:58.297Z"
   },
   {
    "duration": 597,
    "start_time": "2022-06-13T10:09:58.801Z"
   },
   {
    "duration": 3,
    "start_time": "2022-06-13T10:09:59.400Z"
   },
   {
    "duration": 89,
    "start_time": "2022-06-13T10:09:59.405Z"
   },
   {
    "duration": 7,
    "start_time": "2022-06-13T10:09:59.496Z"
   },
   {
    "duration": 35,
    "start_time": "2022-06-13T10:09:59.505Z"
   },
   {
    "duration": 39,
    "start_time": "2022-06-13T10:09:59.544Z"
   },
   {
    "duration": 99,
    "start_time": "2022-06-13T10:09:59.585Z"
   },
   {
    "duration": 53,
    "start_time": "2022-06-13T10:09:59.685Z"
   },
   {
    "duration": 537,
    "start_time": "2022-06-13T10:11:28.744Z"
   },
   {
    "duration": 49,
    "start_time": "2022-06-13T10:11:29.923Z"
   },
   {
    "duration": 400,
    "start_time": "2022-06-13T10:11:35.445Z"
   },
   {
    "duration": 541,
    "start_time": "2022-06-13T10:11:35.848Z"
   },
   {
    "duration": 3,
    "start_time": "2022-06-13T10:11:36.392Z"
   },
   {
    "duration": 84,
    "start_time": "2022-06-13T10:11:36.397Z"
   },
   {
    "duration": 6,
    "start_time": "2022-06-13T10:11:36.484Z"
   },
   {
    "duration": 33,
    "start_time": "2022-06-13T10:11:36.492Z"
   },
   {
    "duration": 55,
    "start_time": "2022-06-13T10:11:36.527Z"
   },
   {
    "duration": 71,
    "start_time": "2022-06-13T10:11:36.584Z"
   },
   {
    "duration": 39,
    "start_time": "2022-06-13T10:11:36.657Z"
   },
   {
    "duration": 462,
    "start_time": "2022-06-13T10:12:04.796Z"
   },
   {
    "duration": 496,
    "start_time": "2022-06-13T10:12:05.260Z"
   },
   {
    "duration": 2,
    "start_time": "2022-06-13T10:12:05.758Z"
   },
   {
    "duration": 93,
    "start_time": "2022-06-13T10:12:05.762Z"
   },
   {
    "duration": 7,
    "start_time": "2022-06-13T10:12:05.857Z"
   },
   {
    "duration": 35,
    "start_time": "2022-06-13T10:12:05.866Z"
   },
   {
    "duration": 70,
    "start_time": "2022-06-13T10:12:05.902Z"
   },
   {
    "duration": 100,
    "start_time": "2022-06-13T10:12:05.974Z"
   },
   {
    "duration": 35,
    "start_time": "2022-06-13T10:12:06.076Z"
   },
   {
    "duration": 40,
    "start_time": "2022-06-13T10:13:44.106Z"
   },
   {
    "duration": 16,
    "start_time": "2022-06-13T10:15:49.363Z"
   },
   {
    "duration": 111,
    "start_time": "2022-06-13T10:17:33.694Z"
   },
   {
    "duration": 6,
    "start_time": "2022-06-13T10:17:37.158Z"
   },
   {
    "duration": 30,
    "start_time": "2022-06-13T10:17:53.170Z"
   },
   {
    "duration": 156,
    "start_time": "2022-06-13T10:18:38.144Z"
   },
   {
    "duration": 432,
    "start_time": "2022-06-13T10:18:57.650Z"
   },
   {
    "duration": 524,
    "start_time": "2022-06-13T10:18:58.084Z"
   },
   {
    "duration": 2,
    "start_time": "2022-06-13T10:18:58.610Z"
   },
   {
    "duration": 63,
    "start_time": "2022-06-13T10:18:58.614Z"
   },
   {
    "duration": 7,
    "start_time": "2022-06-13T10:18:58.680Z"
   },
   {
    "duration": 52,
    "start_time": "2022-06-13T10:18:58.689Z"
   },
   {
    "duration": 51,
    "start_time": "2022-06-13T10:18:58.745Z"
   },
   {
    "duration": 87,
    "start_time": "2022-06-13T10:18:58.798Z"
   },
   {
    "duration": 40,
    "start_time": "2022-06-13T10:18:58.887Z"
   },
   {
    "duration": 40,
    "start_time": "2022-06-13T10:18:58.945Z"
   },
   {
    "duration": 18,
    "start_time": "2022-06-13T10:18:58.988Z"
   },
   {
    "duration": 405,
    "start_time": "2022-06-13T10:19:09.162Z"
   },
   {
    "duration": 463,
    "start_time": "2022-06-13T10:19:09.569Z"
   },
   {
    "duration": 2,
    "start_time": "2022-06-13T10:19:10.042Z"
   },
   {
    "duration": 184,
    "start_time": "2022-06-13T10:19:10.049Z"
   },
   {
    "duration": 7,
    "start_time": "2022-06-13T10:19:10.241Z"
   },
   {
    "duration": 40,
    "start_time": "2022-06-13T10:19:10.252Z"
   },
   {
    "duration": 41,
    "start_time": "2022-06-13T10:19:10.294Z"
   },
   {
    "duration": 64,
    "start_time": "2022-06-13T10:19:10.339Z"
   },
   {
    "duration": 51,
    "start_time": "2022-06-13T10:19:10.405Z"
   },
   {
    "duration": 24,
    "start_time": "2022-06-13T10:19:10.458Z"
   },
   {
    "duration": 18,
    "start_time": "2022-06-13T10:19:10.484Z"
   },
   {
    "duration": 409,
    "start_time": "2022-06-13T10:19:57.851Z"
   },
   {
    "duration": 492,
    "start_time": "2022-06-13T10:19:58.262Z"
   },
   {
    "duration": 3,
    "start_time": "2022-06-13T10:19:58.756Z"
   },
   {
    "duration": 196,
    "start_time": "2022-06-13T10:19:58.760Z"
   },
   {
    "duration": 8,
    "start_time": "2022-06-13T10:19:58.961Z"
   },
   {
    "duration": 36,
    "start_time": "2022-06-13T10:19:58.970Z"
   },
   {
    "duration": 131,
    "start_time": "2022-06-13T10:19:59.008Z"
   },
   {
    "duration": 64,
    "start_time": "2022-06-13T10:19:59.145Z"
   },
   {
    "duration": 67,
    "start_time": "2022-06-13T10:19:59.211Z"
   },
   {
    "duration": 106,
    "start_time": "2022-06-13T10:19:59.280Z"
   },
   {
    "duration": 20,
    "start_time": "2022-06-13T10:19:59.388Z"
   },
   {
    "duration": 30,
    "start_time": "2022-06-13T10:23:01.094Z"
   },
   {
    "duration": 94,
    "start_time": "2022-06-13T10:28:06.905Z"
   },
   {
    "duration": 4,
    "start_time": "2022-06-13T10:28:18.339Z"
   },
   {
    "duration": 44,
    "start_time": "2022-06-13T10:28:21.093Z"
   },
   {
    "duration": 21,
    "start_time": "2022-06-13T10:28:24.068Z"
   },
   {
    "duration": 33,
    "start_time": "2022-06-13T10:28:41.207Z"
   },
   {
    "duration": 118,
    "start_time": "2022-06-13T10:29:41.582Z"
   },
   {
    "duration": 641,
    "start_time": "2022-06-13T10:29:43.668Z"
   },
   {
    "duration": 49,
    "start_time": "2022-06-13T10:29:45.944Z"
   },
   {
    "duration": 468,
    "start_time": "2022-06-13T10:30:22.574Z"
   },
   {
    "duration": 542,
    "start_time": "2022-06-13T10:30:23.050Z"
   },
   {
    "duration": 3,
    "start_time": "2022-06-13T10:30:23.593Z"
   },
   {
    "duration": 214,
    "start_time": "2022-06-13T10:30:23.597Z"
   },
   {
    "duration": 62,
    "start_time": "2022-06-13T10:30:23.813Z"
   },
   {
    "duration": 27,
    "start_time": "2022-06-13T10:30:23.877Z"
   },
   {
    "duration": 177,
    "start_time": "2022-06-13T10:30:23.905Z"
   },
   {
    "duration": 114,
    "start_time": "2022-06-13T10:30:24.084Z"
   },
   {
    "duration": 173,
    "start_time": "2022-06-13T10:30:26.724Z"
   },
   {
    "duration": 450,
    "start_time": "2022-06-13T10:30:44.957Z"
   },
   {
    "duration": 596,
    "start_time": "2022-06-13T10:30:45.409Z"
   },
   {
    "duration": 3,
    "start_time": "2022-06-13T10:30:46.007Z"
   },
   {
    "duration": 250,
    "start_time": "2022-06-13T10:30:46.013Z"
   },
   {
    "duration": 38,
    "start_time": "2022-06-13T10:30:46.267Z"
   },
   {
    "duration": 44,
    "start_time": "2022-06-13T10:30:46.307Z"
   },
   {
    "duration": 135,
    "start_time": "2022-06-13T10:30:46.358Z"
   },
   {
    "duration": 109,
    "start_time": "2022-06-13T10:30:46.495Z"
   },
   {
    "duration": 52,
    "start_time": "2022-06-13T10:30:46.606Z"
   },
   {
    "duration": 111,
    "start_time": "2022-06-13T10:30:46.659Z"
   },
   {
    "duration": 16,
    "start_time": "2022-06-13T10:30:46.772Z"
   },
   {
    "duration": 39,
    "start_time": "2022-06-13T10:30:46.789Z"
   },
   {
    "duration": 23,
    "start_time": "2022-06-13T10:32:47.895Z"
   },
   {
    "duration": 89,
    "start_time": "2022-06-13T10:32:49.162Z"
   },
   {
    "duration": 5,
    "start_time": "2022-06-13T10:34:16.115Z"
   },
   {
    "duration": 24,
    "start_time": "2022-06-13T10:34:17.091Z"
   },
   {
    "duration": 407,
    "start_time": "2022-06-13T10:34:26.953Z"
   },
   {
    "duration": 490,
    "start_time": "2022-06-13T10:34:27.362Z"
   },
   {
    "duration": 4,
    "start_time": "2022-06-13T10:34:27.855Z"
   },
   {
    "duration": 196,
    "start_time": "2022-06-13T10:34:27.862Z"
   },
   {
    "duration": 33,
    "start_time": "2022-06-13T10:34:28.060Z"
   },
   {
    "duration": 53,
    "start_time": "2022-06-13T10:34:28.095Z"
   },
   {
    "duration": 136,
    "start_time": "2022-06-13T10:34:28.150Z"
   },
   {
    "duration": 99,
    "start_time": "2022-06-13T10:34:28.288Z"
   },
   {
    "duration": 58,
    "start_time": "2022-06-13T10:34:28.389Z"
   },
   {
    "duration": 29,
    "start_time": "2022-06-13T10:34:28.458Z"
   },
   {
    "duration": 77,
    "start_time": "2022-06-13T10:34:28.488Z"
   },
   {
    "duration": 17,
    "start_time": "2022-06-13T10:34:28.567Z"
   },
   {
    "duration": 5,
    "start_time": "2022-06-13T10:34:28.587Z"
   },
   {
    "duration": 56,
    "start_time": "2022-06-13T10:34:28.594Z"
   },
   {
    "duration": 421,
    "start_time": "2022-06-13T10:36:50.233Z"
   },
   {
    "duration": 479,
    "start_time": "2022-06-13T10:36:50.657Z"
   },
   {
    "duration": 4,
    "start_time": "2022-06-13T10:36:51.137Z"
   },
   {
    "duration": 192,
    "start_time": "2022-06-13T10:36:51.142Z"
   },
   {
    "duration": 45,
    "start_time": "2022-06-13T10:36:51.337Z"
   },
   {
    "duration": 29,
    "start_time": "2022-06-13T10:36:51.384Z"
   },
   {
    "duration": 139,
    "start_time": "2022-06-13T10:36:51.415Z"
   },
   {
    "duration": 102,
    "start_time": "2022-06-13T10:36:51.555Z"
   },
   {
    "duration": 39,
    "start_time": "2022-06-13T10:36:51.659Z"
   },
   {
    "duration": 100,
    "start_time": "2022-06-13T10:36:51.701Z"
   },
   {
    "duration": 87,
    "start_time": "2022-06-13T10:36:51.803Z"
   },
   {
    "duration": 34,
    "start_time": "2022-06-13T10:36:51.892Z"
   },
   {
    "duration": 10,
    "start_time": "2022-06-13T10:36:51.928Z"
   },
   {
    "duration": 32,
    "start_time": "2022-06-13T10:36:51.941Z"
   },
   {
    "duration": 110,
    "start_time": "2022-06-13T10:47:06.884Z"
   },
   {
    "duration": 28,
    "start_time": "2022-06-13T10:48:11.787Z"
   },
   {
    "duration": 28,
    "start_time": "2022-06-13T10:48:37.583Z"
   },
   {
    "duration": 58,
    "start_time": "2022-06-13T10:58:12.017Z"
   },
   {
    "duration": 111,
    "start_time": "2022-06-13T10:58:22.585Z"
   },
   {
    "duration": 42,
    "start_time": "2022-06-13T11:00:48.178Z"
   },
   {
    "duration": 42,
    "start_time": "2022-06-13T11:01:18.246Z"
   },
   {
    "duration": 46,
    "start_time": "2022-06-13T11:02:23.352Z"
   },
   {
    "duration": 44,
    "start_time": "2022-06-13T11:11:07.037Z"
   },
   {
    "duration": 36,
    "start_time": "2022-06-13T11:27:34.000Z"
   },
   {
    "duration": 26,
    "start_time": "2022-06-13T11:27:49.634Z"
   },
   {
    "duration": 74,
    "start_time": "2022-06-13T11:28:04.077Z"
   },
   {
    "duration": 34,
    "start_time": "2022-06-13T11:36:44.744Z"
   },
   {
    "duration": 26,
    "start_time": "2022-06-13T11:38:38.180Z"
   },
   {
    "duration": 49,
    "start_time": "2022-06-13T11:39:07.713Z"
   },
   {
    "duration": 25,
    "start_time": "2022-06-13T11:39:25.567Z"
   },
   {
    "duration": 12,
    "start_time": "2022-06-13T11:47:41.397Z"
   },
   {
    "duration": 50,
    "start_time": "2022-06-13T11:47:42.038Z"
   },
   {
    "duration": 110,
    "start_time": "2022-06-13T11:51:02.854Z"
   },
   {
    "duration": 93,
    "start_time": "2022-06-13T11:51:21.040Z"
   },
   {
    "duration": 92,
    "start_time": "2022-06-13T11:53:56.915Z"
   },
   {
    "duration": 81,
    "start_time": "2022-06-13T11:56:10.962Z"
   },
   {
    "duration": 75,
    "start_time": "2022-06-13T11:56:11.874Z"
   },
   {
    "duration": 399,
    "start_time": "2022-06-13T12:00:14.075Z"
   },
   {
    "duration": 486,
    "start_time": "2022-06-13T12:00:14.478Z"
   },
   {
    "duration": 3,
    "start_time": "2022-06-13T12:00:14.967Z"
   },
   {
    "duration": 215,
    "start_time": "2022-06-13T12:00:14.971Z"
   },
   {
    "duration": 123,
    "start_time": "2022-06-13T12:00:15.188Z"
   },
   {
    "duration": 34,
    "start_time": "2022-06-13T12:00:15.313Z"
   },
   {
    "duration": 134,
    "start_time": "2022-06-13T12:00:15.349Z"
   },
   {
    "duration": 95,
    "start_time": "2022-06-13T12:00:15.485Z"
   },
   {
    "duration": 48,
    "start_time": "2022-06-13T12:00:15.582Z"
   },
   {
    "duration": 116,
    "start_time": "2022-06-13T12:00:15.632Z"
   },
   {
    "duration": 117,
    "start_time": "2022-06-13T12:00:15.750Z"
   },
   {
    "duration": 27,
    "start_time": "2022-06-13T12:00:15.869Z"
   },
   {
    "duration": 37,
    "start_time": "2022-06-13T12:00:15.897Z"
   },
   {
    "duration": 12,
    "start_time": "2022-06-13T12:00:15.937Z"
   },
   {
    "duration": 36,
    "start_time": "2022-06-13T12:00:15.951Z"
   },
   {
    "duration": 4,
    "start_time": "2022-06-13T12:06:56.433Z"
   },
   {
    "duration": 434,
    "start_time": "2022-06-13T12:06:56.439Z"
   },
   {
    "duration": 4,
    "start_time": "2022-06-13T12:06:56.875Z"
   },
   {
    "duration": 181,
    "start_time": "2022-06-13T12:06:56.881Z"
   },
   {
    "duration": 99,
    "start_time": "2022-06-13T12:06:57.064Z"
   },
   {
    "duration": 29,
    "start_time": "2022-06-13T12:06:57.165Z"
   },
   {
    "duration": 133,
    "start_time": "2022-06-13T12:06:57.196Z"
   },
   {
    "duration": 173,
    "start_time": "2022-06-13T12:06:57.330Z"
   },
   {
    "duration": 0,
    "start_time": "2022-06-13T12:06:57.506Z"
   },
   {
    "duration": 0,
    "start_time": "2022-06-13T12:06:57.508Z"
   },
   {
    "duration": 0,
    "start_time": "2022-06-13T12:06:57.509Z"
   },
   {
    "duration": 0,
    "start_time": "2022-06-13T12:06:57.531Z"
   },
   {
    "duration": 0,
    "start_time": "2022-06-13T12:06:57.534Z"
   },
   {
    "duration": 0,
    "start_time": "2022-06-13T12:06:57.535Z"
   },
   {
    "duration": 0,
    "start_time": "2022-06-13T12:06:57.536Z"
   },
   {
    "duration": 452,
    "start_time": "2022-06-13T12:07:03.303Z"
   },
   {
    "duration": 461,
    "start_time": "2022-06-13T12:07:03.757Z"
   },
   {
    "duration": 3,
    "start_time": "2022-06-13T12:07:04.219Z"
   },
   {
    "duration": 207,
    "start_time": "2022-06-13T12:07:04.224Z"
   },
   {
    "duration": 131,
    "start_time": "2022-06-13T12:07:04.434Z"
   },
   {
    "duration": 31,
    "start_time": "2022-06-13T12:07:04.567Z"
   },
   {
    "duration": 136,
    "start_time": "2022-06-13T12:07:04.600Z"
   },
   {
    "duration": 238,
    "start_time": "2022-06-13T12:07:04.738Z"
   },
   {
    "duration": 0,
    "start_time": "2022-06-13T12:07:04.978Z"
   },
   {
    "duration": 0,
    "start_time": "2022-06-13T12:07:04.979Z"
   },
   {
    "duration": 0,
    "start_time": "2022-06-13T12:07:04.981Z"
   },
   {
    "duration": 0,
    "start_time": "2022-06-13T12:07:04.983Z"
   },
   {
    "duration": 0,
    "start_time": "2022-06-13T12:07:04.985Z"
   },
   {
    "duration": 0,
    "start_time": "2022-06-13T12:07:04.986Z"
   },
   {
    "duration": 0,
    "start_time": "2022-06-13T12:07:04.987Z"
   },
   {
    "duration": 425,
    "start_time": "2022-06-13T12:07:20.585Z"
   },
   {
    "duration": 481,
    "start_time": "2022-06-13T12:07:21.012Z"
   },
   {
    "duration": 3,
    "start_time": "2022-06-13T12:07:21.494Z"
   },
   {
    "duration": 185,
    "start_time": "2022-06-13T12:07:21.500Z"
   },
   {
    "duration": 130,
    "start_time": "2022-06-13T12:07:21.687Z"
   },
   {
    "duration": 32,
    "start_time": "2022-06-13T12:07:21.824Z"
   },
   {
    "duration": 182,
    "start_time": "2022-06-13T12:07:21.858Z"
   },
   {
    "duration": 138,
    "start_time": "2022-06-13T12:07:22.042Z"
   },
   {
    "duration": 42,
    "start_time": "2022-06-13T12:07:22.181Z"
   },
   {
    "duration": 105,
    "start_time": "2022-06-13T12:07:22.226Z"
   },
   {
    "duration": 108,
    "start_time": "2022-06-13T12:07:22.332Z"
   },
   {
    "duration": 32,
    "start_time": "2022-06-13T12:07:22.442Z"
   },
   {
    "duration": 16,
    "start_time": "2022-06-13T12:07:22.476Z"
   },
   {
    "duration": 14,
    "start_time": "2022-06-13T12:07:22.522Z"
   },
   {
    "duration": 52,
    "start_time": "2022-06-13T12:07:22.538Z"
   },
   {
    "duration": 35,
    "start_time": "2022-06-13T12:25:57.171Z"
   },
   {
    "duration": 179,
    "start_time": "2022-06-13T12:26:07.768Z"
   },
   {
    "duration": 129,
    "start_time": "2022-06-13T12:26:48.960Z"
   },
   {
    "duration": 453,
    "start_time": "2022-06-13T12:27:43.342Z"
   },
   {
    "duration": 504,
    "start_time": "2022-06-13T12:27:43.797Z"
   },
   {
    "duration": 3,
    "start_time": "2022-06-13T12:27:44.303Z"
   },
   {
    "duration": 235,
    "start_time": "2022-06-13T12:27:44.308Z"
   },
   {
    "duration": 149,
    "start_time": "2022-06-13T12:27:44.546Z"
   },
   {
    "duration": 55,
    "start_time": "2022-06-13T12:27:44.697Z"
   },
   {
    "duration": 186,
    "start_time": "2022-06-13T12:27:44.755Z"
   },
   {
    "duration": 151,
    "start_time": "2022-06-13T12:27:44.944Z"
   },
   {
    "duration": 54,
    "start_time": "2022-06-13T12:27:45.097Z"
   },
   {
    "duration": 131,
    "start_time": "2022-06-13T12:27:45.153Z"
   },
   {
    "duration": 118,
    "start_time": "2022-06-13T12:27:45.286Z"
   },
   {
    "duration": 42,
    "start_time": "2022-06-13T12:27:45.407Z"
   },
   {
    "duration": 20,
    "start_time": "2022-06-13T12:27:45.451Z"
   },
   {
    "duration": 23,
    "start_time": "2022-06-13T12:27:45.475Z"
   },
   {
    "duration": 52,
    "start_time": "2022-06-13T12:27:45.501Z"
   },
   {
    "duration": 391,
    "start_time": "2022-06-13T12:48:24.753Z"
   },
   {
    "duration": 36,
    "start_time": "2022-06-13T12:51:00.875Z"
   },
   {
    "duration": 126,
    "start_time": "2022-06-13T12:51:27.269Z"
   },
   {
    "duration": 9,
    "start_time": "2022-06-13T12:51:49.454Z"
   },
   {
    "duration": 454,
    "start_time": "2022-06-13T12:52:01.500Z"
   },
   {
    "duration": 501,
    "start_time": "2022-06-13T12:52:01.956Z"
   },
   {
    "duration": 3,
    "start_time": "2022-06-13T12:52:02.458Z"
   },
   {
    "duration": 251,
    "start_time": "2022-06-13T12:52:02.464Z"
   },
   {
    "duration": 145,
    "start_time": "2022-06-13T12:52:02.718Z"
   },
   {
    "duration": 35,
    "start_time": "2022-06-13T12:52:02.866Z"
   },
   {
    "duration": 134,
    "start_time": "2022-06-13T12:52:02.903Z"
   },
   {
    "duration": 137,
    "start_time": "2022-06-13T12:52:03.039Z"
   },
   {
    "duration": 29,
    "start_time": "2022-06-13T12:52:03.178Z"
   },
   {
    "duration": 88,
    "start_time": "2022-06-13T12:52:03.226Z"
   },
   {
    "duration": 112,
    "start_time": "2022-06-13T12:52:03.316Z"
   },
   {
    "duration": 35,
    "start_time": "2022-06-13T12:52:03.434Z"
   },
   {
    "duration": 18,
    "start_time": "2022-06-13T12:52:03.471Z"
   },
   {
    "duration": 37,
    "start_time": "2022-06-13T12:52:03.490Z"
   },
   {
    "duration": 29,
    "start_time": "2022-06-13T12:52:03.529Z"
   },
   {
    "duration": 15,
    "start_time": "2022-06-13T12:52:03.560Z"
   },
   {
    "duration": 10,
    "start_time": "2022-06-13T12:52:20.869Z"
   },
   {
    "duration": 8,
    "start_time": "2022-06-13T12:54:40.741Z"
   },
   {
    "duration": 20,
    "start_time": "2022-06-13T13:07:07.984Z"
   },
   {
    "duration": 6,
    "start_time": "2022-06-13T13:07:10.165Z"
   },
   {
    "duration": 462,
    "start_time": "2022-06-13T13:17:16.059Z"
   },
   {
    "duration": 11,
    "start_time": "2022-06-13T13:17:25.965Z"
   },
   {
    "duration": 24,
    "start_time": "2022-06-13T13:17:42.701Z"
   },
   {
    "duration": 11,
    "start_time": "2022-06-13T13:17:54.370Z"
   },
   {
    "duration": 14,
    "start_time": "2022-06-13T13:18:01.159Z"
   },
   {
    "duration": 17,
    "start_time": "2022-06-13T13:22:49.702Z"
   },
   {
    "duration": 15,
    "start_time": "2022-06-13T13:22:51.273Z"
   },
   {
    "duration": 17,
    "start_time": "2022-06-13T13:23:01.251Z"
   },
   {
    "duration": 390,
    "start_time": "2022-06-13T13:23:12.673Z"
   },
   {
    "duration": 453,
    "start_time": "2022-06-13T13:23:13.065Z"
   },
   {
    "duration": 2,
    "start_time": "2022-06-13T13:23:13.520Z"
   },
   {
    "duration": 184,
    "start_time": "2022-06-13T13:23:13.524Z"
   },
   {
    "duration": 127,
    "start_time": "2022-06-13T13:23:13.711Z"
   },
   {
    "duration": 27,
    "start_time": "2022-06-13T13:23:13.842Z"
   },
   {
    "duration": 132,
    "start_time": "2022-06-13T13:23:13.871Z"
   },
   {
    "duration": 146,
    "start_time": "2022-06-13T13:23:14.004Z"
   },
   {
    "duration": 30,
    "start_time": "2022-06-13T13:23:14.151Z"
   },
   {
    "duration": 102,
    "start_time": "2022-06-13T13:23:14.184Z"
   },
   {
    "duration": 114,
    "start_time": "2022-06-13T13:23:14.288Z"
   },
   {
    "duration": 41,
    "start_time": "2022-06-13T13:23:14.404Z"
   },
   {
    "duration": 15,
    "start_time": "2022-06-13T13:23:14.447Z"
   },
   {
    "duration": 13,
    "start_time": "2022-06-13T13:23:14.465Z"
   },
   {
    "duration": 47,
    "start_time": "2022-06-13T13:23:14.479Z"
   },
   {
    "duration": 17,
    "start_time": "2022-06-13T13:23:14.529Z"
   },
   {
    "duration": 3,
    "start_time": "2022-06-13T13:23:14.548Z"
   },
   {
    "duration": 18,
    "start_time": "2022-06-13T13:23:14.553Z"
   },
   {
    "duration": 4,
    "start_time": "2022-06-13T13:23:32.759Z"
   },
   {
    "duration": 9,
    "start_time": "2022-06-13T13:23:33.263Z"
   },
   {
    "duration": 3,
    "start_time": "2022-06-13T13:28:26.503Z"
   },
   {
    "duration": 69,
    "start_time": "2022-06-13T13:29:52.236Z"
   },
   {
    "duration": 411,
    "start_time": "2022-06-13T13:30:01.844Z"
   },
   {
    "duration": 115,
    "start_time": "2022-06-13T13:31:24.094Z"
   },
   {
    "duration": 107,
    "start_time": "2022-06-13T13:31:43.172Z"
   },
   {
    "duration": 5,
    "start_time": "2022-06-13T13:36:07.661Z"
   },
   {
    "duration": 7,
    "start_time": "2022-06-13T13:36:12.404Z"
   },
   {
    "duration": 9,
    "start_time": "2022-06-13T13:38:59.065Z"
   },
   {
    "duration": 8,
    "start_time": "2022-06-13T13:39:07.566Z"
   },
   {
    "duration": 8,
    "start_time": "2022-06-13T13:39:17.673Z"
   },
   {
    "duration": 10,
    "start_time": "2022-06-13T13:39:22.781Z"
   },
   {
    "duration": 344,
    "start_time": "2022-06-13T13:40:26.657Z"
   },
   {
    "duration": 349,
    "start_time": "2022-06-13T13:40:51.702Z"
   },
   {
    "duration": 9,
    "start_time": "2022-06-13T13:41:43.471Z"
   },
   {
    "duration": 14,
    "start_time": "2022-06-13T13:42:00.874Z"
   },
   {
    "duration": 3,
    "start_time": "2022-06-13T13:42:01.281Z"
   },
   {
    "duration": 8,
    "start_time": "2022-06-13T13:42:01.661Z"
   },
   {
    "duration": 1166,
    "start_time": "2022-06-13T13:42:06.495Z"
   },
   {
    "duration": 1106,
    "start_time": "2022-06-13T13:42:08.835Z"
   },
   {
    "duration": 403,
    "start_time": "2022-06-13T13:42:19.450Z"
   },
   {
    "duration": 488,
    "start_time": "2022-06-13T13:42:19.855Z"
   },
   {
    "duration": 2,
    "start_time": "2022-06-13T13:42:20.345Z"
   },
   {
    "duration": 189,
    "start_time": "2022-06-13T13:42:20.348Z"
   },
   {
    "duration": 127,
    "start_time": "2022-06-13T13:42:20.544Z"
   },
   {
    "duration": 24,
    "start_time": "2022-06-13T13:42:20.673Z"
   },
   {
    "duration": 118,
    "start_time": "2022-06-13T13:42:20.699Z"
   },
   {
    "duration": 157,
    "start_time": "2022-06-13T13:42:20.827Z"
   },
   {
    "duration": 41,
    "start_time": "2022-06-13T13:42:20.985Z"
   },
   {
    "duration": 82,
    "start_time": "2022-06-13T13:42:21.030Z"
   },
   {
    "duration": 119,
    "start_time": "2022-06-13T13:42:21.114Z"
   },
   {
    "duration": 24,
    "start_time": "2022-06-13T13:42:21.235Z"
   },
   {
    "duration": 15,
    "start_time": "2022-06-13T13:42:21.261Z"
   },
   {
    "duration": 8,
    "start_time": "2022-06-13T13:42:21.279Z"
   },
   {
    "duration": 66,
    "start_time": "2022-06-13T13:42:21.289Z"
   },
   {
    "duration": 15,
    "start_time": "2022-06-13T13:42:21.356Z"
   },
   {
    "duration": 3,
    "start_time": "2022-06-13T13:42:21.372Z"
   },
   {
    "duration": 12,
    "start_time": "2022-06-13T13:42:21.377Z"
   },
   {
    "duration": 1116,
    "start_time": "2022-06-13T13:42:21.391Z"
   },
   {
    "duration": 12,
    "start_time": "2022-06-13T13:42:34.947Z"
   },
   {
    "duration": 444,
    "start_time": "2022-06-13T13:51:37.317Z"
   },
   {
    "duration": 516,
    "start_time": "2022-06-13T13:51:37.763Z"
   },
   {
    "duration": 3,
    "start_time": "2022-06-13T13:51:38.280Z"
   },
   {
    "duration": 224,
    "start_time": "2022-06-13T13:51:38.284Z"
   },
   {
    "duration": 132,
    "start_time": "2022-06-13T13:51:38.511Z"
   },
   {
    "duration": 30,
    "start_time": "2022-06-13T13:51:38.646Z"
   },
   {
    "duration": 127,
    "start_time": "2022-06-13T13:51:38.678Z"
   },
   {
    "duration": 151,
    "start_time": "2022-06-13T13:51:38.807Z"
   },
   {
    "duration": 28,
    "start_time": "2022-06-13T13:51:38.960Z"
   },
   {
    "duration": 107,
    "start_time": "2022-06-13T13:51:38.990Z"
   },
   {
    "duration": 104,
    "start_time": "2022-06-13T13:51:39.099Z"
   },
   {
    "duration": 49,
    "start_time": "2022-06-13T13:51:39.205Z"
   },
   {
    "duration": 17,
    "start_time": "2022-06-13T13:51:39.257Z"
   },
   {
    "duration": 11,
    "start_time": "2022-06-13T13:51:39.277Z"
   },
   {
    "duration": 54,
    "start_time": "2022-06-13T13:51:39.290Z"
   },
   {
    "duration": 27,
    "start_time": "2022-06-13T13:51:39.345Z"
   },
   {
    "duration": 4,
    "start_time": "2022-06-13T13:51:39.374Z"
   },
   {
    "duration": 9,
    "start_time": "2022-06-13T13:51:39.379Z"
   },
   {
    "duration": 90,
    "start_time": "2022-06-13T13:51:39.390Z"
   },
   {
    "duration": 0,
    "start_time": "2022-06-13T13:51:39.482Z"
   },
   {
    "duration": 11,
    "start_time": "2022-06-13T13:53:04.440Z"
   },
   {
    "duration": 412,
    "start_time": "2022-06-13T13:53:18.492Z"
   },
   {
    "duration": 492,
    "start_time": "2022-06-13T13:53:18.906Z"
   },
   {
    "duration": 2,
    "start_time": "2022-06-13T13:53:19.399Z"
   },
   {
    "duration": 197,
    "start_time": "2022-06-13T13:53:19.403Z"
   },
   {
    "duration": 132,
    "start_time": "2022-06-13T13:53:19.602Z"
   },
   {
    "duration": 33,
    "start_time": "2022-06-13T13:53:19.735Z"
   },
   {
    "duration": 125,
    "start_time": "2022-06-13T13:53:19.770Z"
   },
   {
    "duration": 179,
    "start_time": "2022-06-13T13:53:19.897Z"
   },
   {
    "duration": 27,
    "start_time": "2022-06-13T13:53:20.078Z"
   },
   {
    "duration": 79,
    "start_time": "2022-06-13T13:53:20.122Z"
   },
   {
    "duration": 104,
    "start_time": "2022-06-13T13:53:20.203Z"
   },
   {
    "duration": 43,
    "start_time": "2022-06-13T13:53:20.309Z"
   },
   {
    "duration": 16,
    "start_time": "2022-06-13T13:53:20.354Z"
   },
   {
    "duration": 8,
    "start_time": "2022-06-13T13:53:20.373Z"
   },
   {
    "duration": 66,
    "start_time": "2022-06-13T13:53:20.383Z"
   },
   {
    "duration": 14,
    "start_time": "2022-06-13T13:53:20.451Z"
   },
   {
    "duration": 4,
    "start_time": "2022-06-13T13:53:20.466Z"
   },
   {
    "duration": 15,
    "start_time": "2022-06-13T13:53:20.471Z"
   },
   {
    "duration": 1071,
    "start_time": "2022-06-13T13:53:20.488Z"
   },
   {
    "duration": 12,
    "start_time": "2022-06-13T13:53:21.560Z"
   },
   {
    "duration": 112,
    "start_time": "2022-06-13T13:53:48.907Z"
   },
   {
    "duration": 26,
    "start_time": "2022-06-13T13:54:10.048Z"
   },
   {
    "duration": 1130,
    "start_time": "2022-06-13T13:54:21.041Z"
   },
   {
    "duration": 17,
    "start_time": "2022-06-13T13:55:48.975Z"
   },
   {
    "duration": 432,
    "start_time": "2022-06-13T13:56:09.245Z"
   },
   {
    "duration": 1083,
    "start_time": "2022-06-13T13:56:18.020Z"
   },
   {
    "duration": 14,
    "start_time": "2022-06-13T14:12:42.994Z"
   },
   {
    "duration": 317,
    "start_time": "2022-06-13T14:13:29.573Z"
   },
   {
    "duration": 317,
    "start_time": "2022-06-13T14:13:41.744Z"
   },
   {
    "duration": 429,
    "start_time": "2022-06-13T14:16:18.488Z"
   },
   {
    "duration": 15,
    "start_time": "2022-06-13T14:16:51.335Z"
   },
   {
    "duration": 23,
    "start_time": "2022-06-13T14:16:58.098Z"
   },
   {
    "duration": 16,
    "start_time": "2022-06-13T14:17:13.246Z"
   },
   {
    "duration": 5,
    "start_time": "2022-06-13T14:19:09.945Z"
   },
   {
    "duration": 4,
    "start_time": "2022-06-13T14:19:16.984Z"
   },
   {
    "duration": 254,
    "start_time": "2022-06-13T14:22:15.111Z"
   },
   {
    "duration": 305,
    "start_time": "2022-06-13T14:22:37.041Z"
   },
   {
    "duration": 26,
    "start_time": "2022-06-13T14:23:49.396Z"
   },
   {
    "duration": 3,
    "start_time": "2022-06-13T15:18:05.706Z"
   },
   {
    "duration": 30,
    "start_time": "2022-06-13T15:18:13.443Z"
   },
   {
    "duration": 39,
    "start_time": "2022-06-13T15:56:57.652Z"
   },
   {
    "duration": 27,
    "start_time": "2022-06-13T15:57:51.806Z"
   },
   {
    "duration": 258,
    "start_time": "2022-06-13T15:58:03.947Z"
   },
   {
    "duration": 13,
    "start_time": "2022-06-13T15:58:15.281Z"
   },
   {
    "duration": 32,
    "start_time": "2022-06-13T15:58:22.507Z"
   },
   {
    "duration": 17,
    "start_time": "2022-06-13T15:58:43.904Z"
   },
   {
    "duration": 433,
    "start_time": "2022-06-13T15:59:11.894Z"
   },
   {
    "duration": 582,
    "start_time": "2022-06-13T15:59:12.329Z"
   },
   {
    "duration": 3,
    "start_time": "2022-06-13T15:59:12.914Z"
   },
   {
    "duration": 214,
    "start_time": "2022-06-13T15:59:12.919Z"
   },
   {
    "duration": 152,
    "start_time": "2022-06-13T15:59:13.136Z"
   },
   {
    "duration": 34,
    "start_time": "2022-06-13T15:59:13.290Z"
   },
   {
    "duration": 120,
    "start_time": "2022-06-13T15:59:13.326Z"
   },
   {
    "duration": 128,
    "start_time": "2022-06-13T15:59:13.447Z"
   },
   {
    "duration": 29,
    "start_time": "2022-06-13T15:59:13.576Z"
   },
   {
    "duration": 103,
    "start_time": "2022-06-13T15:59:13.624Z"
   },
   {
    "duration": 105,
    "start_time": "2022-06-13T15:59:13.728Z"
   },
   {
    "duration": 25,
    "start_time": "2022-06-13T15:59:13.835Z"
   },
   {
    "duration": 19,
    "start_time": "2022-06-13T15:59:13.862Z"
   },
   {
    "duration": 45,
    "start_time": "2022-06-13T15:59:13.884Z"
   },
   {
    "duration": 33,
    "start_time": "2022-06-13T15:59:13.932Z"
   },
   {
    "duration": 15,
    "start_time": "2022-06-13T15:59:13.967Z"
   },
   {
    "duration": 4,
    "start_time": "2022-06-13T15:59:13.984Z"
   },
   {
    "duration": 37,
    "start_time": "2022-06-13T15:59:13.989Z"
   },
   {
    "duration": 1092,
    "start_time": "2022-06-13T15:59:14.028Z"
   },
   {
    "duration": 14,
    "start_time": "2022-06-13T15:59:15.122Z"
   },
   {
    "duration": 246,
    "start_time": "2022-06-13T15:59:15.138Z"
   },
   {
    "duration": 13,
    "start_time": "2022-06-13T15:59:15.386Z"
   },
   {
    "duration": 441,
    "start_time": "2022-06-13T17:26:46.830Z"
   },
   {
    "duration": 441,
    "start_time": "2022-06-13T17:26:47.273Z"
   },
   {
    "duration": 2,
    "start_time": "2022-06-13T17:26:47.716Z"
   },
   {
    "duration": 175,
    "start_time": "2022-06-13T17:26:47.720Z"
   },
   {
    "duration": 130,
    "start_time": "2022-06-13T17:26:47.896Z"
   },
   {
    "duration": 28,
    "start_time": "2022-06-13T17:26:48.028Z"
   },
   {
    "duration": 126,
    "start_time": "2022-06-13T17:26:48.058Z"
   },
   {
    "duration": 85,
    "start_time": "2022-06-13T17:26:48.186Z"
   },
   {
    "duration": 60,
    "start_time": "2022-06-13T17:26:48.272Z"
   },
   {
    "duration": 124,
    "start_time": "2022-06-13T17:26:48.336Z"
   },
   {
    "duration": 99,
    "start_time": "2022-06-13T17:26:48.462Z"
   },
   {
    "duration": 32,
    "start_time": "2022-06-13T17:26:48.563Z"
   },
   {
    "duration": 40,
    "start_time": "2022-06-13T17:26:48.597Z"
   },
   {
    "duration": 13,
    "start_time": "2022-06-13T17:26:48.639Z"
   },
   {
    "duration": 31,
    "start_time": "2022-06-13T17:26:48.654Z"
   },
   {
    "duration": 47,
    "start_time": "2022-06-13T17:26:48.687Z"
   },
   {
    "duration": 4,
    "start_time": "2022-06-13T17:26:48.735Z"
   },
   {
    "duration": 15,
    "start_time": "2022-06-13T17:26:48.741Z"
   },
   {
    "duration": 1041,
    "start_time": "2022-06-13T17:26:48.758Z"
   },
   {
    "duration": 10,
    "start_time": "2022-06-13T17:26:49.801Z"
   },
   {
    "duration": 243,
    "start_time": "2022-06-13T17:26:49.823Z"
   },
   {
    "duration": 20,
    "start_time": "2022-06-13T17:26:50.068Z"
   },
   {
    "duration": 452,
    "start_time": "2022-06-13T17:27:20.695Z"
   },
   {
    "duration": 443,
    "start_time": "2022-06-13T17:27:21.149Z"
   },
   {
    "duration": 3,
    "start_time": "2022-06-13T17:27:21.593Z"
   },
   {
    "duration": 187,
    "start_time": "2022-06-13T17:27:21.598Z"
   },
   {
    "duration": 117,
    "start_time": "2022-06-13T17:27:21.787Z"
   },
   {
    "duration": 36,
    "start_time": "2022-06-13T17:27:21.906Z"
   },
   {
    "duration": 132,
    "start_time": "2022-06-13T17:27:21.944Z"
   },
   {
    "duration": 83,
    "start_time": "2022-06-13T17:27:22.079Z"
   },
   {
    "duration": 30,
    "start_time": "2022-06-13T17:27:22.164Z"
   },
   {
    "duration": 103,
    "start_time": "2022-06-13T17:27:22.196Z"
   },
   {
    "duration": 110,
    "start_time": "2022-06-13T17:27:22.301Z"
   },
   {
    "duration": 42,
    "start_time": "2022-06-13T17:27:22.412Z"
   },
   {
    "duration": 20,
    "start_time": "2022-06-13T17:27:22.456Z"
   },
   {
    "duration": 13,
    "start_time": "2022-06-13T17:27:22.478Z"
   },
   {
    "duration": 65,
    "start_time": "2022-06-13T17:27:22.493Z"
   },
   {
    "duration": 21,
    "start_time": "2022-06-13T17:27:22.560Z"
   },
   {
    "duration": 4,
    "start_time": "2022-06-13T17:27:22.584Z"
   },
   {
    "duration": 49,
    "start_time": "2022-06-13T17:27:22.593Z"
   },
   {
    "duration": 1100,
    "start_time": "2022-06-13T17:27:22.643Z"
   },
   {
    "duration": 11,
    "start_time": "2022-06-13T17:27:23.744Z"
   },
   {
    "duration": 255,
    "start_time": "2022-06-13T17:27:23.757Z"
   },
   {
    "duration": 18,
    "start_time": "2022-06-13T17:27:24.014Z"
   },
   {
    "duration": 409,
    "start_time": "2022-06-13T17:28:41.920Z"
   },
   {
    "duration": 496,
    "start_time": "2022-06-13T17:28:42.332Z"
   },
   {
    "duration": 3,
    "start_time": "2022-06-13T17:28:42.830Z"
   },
   {
    "duration": 195,
    "start_time": "2022-06-13T17:28:42.835Z"
   },
   {
    "duration": 121,
    "start_time": "2022-06-13T17:28:43.032Z"
   },
   {
    "duration": 33,
    "start_time": "2022-06-13T17:28:43.155Z"
   },
   {
    "duration": 152,
    "start_time": "2022-06-13T17:28:43.190Z"
   },
   {
    "duration": 88,
    "start_time": "2022-06-13T17:28:43.344Z"
   },
   {
    "duration": 29,
    "start_time": "2022-06-13T17:28:43.434Z"
   },
   {
    "duration": 129,
    "start_time": "2022-06-13T17:28:43.465Z"
   },
   {
    "duration": 96,
    "start_time": "2022-06-13T17:28:43.596Z"
   },
   {
    "duration": 35,
    "start_time": "2022-06-13T17:28:43.694Z"
   },
   {
    "duration": 16,
    "start_time": "2022-06-13T17:28:43.731Z"
   },
   {
    "duration": 10,
    "start_time": "2022-06-13T17:28:43.750Z"
   },
   {
    "duration": 25,
    "start_time": "2022-06-13T17:28:43.762Z"
   },
   {
    "duration": 53,
    "start_time": "2022-06-13T17:28:43.788Z"
   },
   {
    "duration": 4,
    "start_time": "2022-06-13T17:28:43.843Z"
   },
   {
    "duration": 12,
    "start_time": "2022-06-13T17:28:43.848Z"
   },
   {
    "duration": 1104,
    "start_time": "2022-06-13T17:28:43.863Z"
   },
   {
    "duration": 11,
    "start_time": "2022-06-13T17:28:44.969Z"
   },
   {
    "duration": 251,
    "start_time": "2022-06-13T17:28:44.982Z"
   },
   {
    "duration": 15,
    "start_time": "2022-06-13T17:28:45.235Z"
   },
   {
    "duration": 414,
    "start_time": "2022-06-13T17:28:55.143Z"
   },
   {
    "duration": 442,
    "start_time": "2022-06-13T17:28:55.559Z"
   },
   {
    "duration": 4,
    "start_time": "2022-06-13T17:28:56.003Z"
   },
   {
    "duration": 177,
    "start_time": "2022-06-13T17:28:56.009Z"
   },
   {
    "duration": 121,
    "start_time": "2022-06-13T17:28:56.190Z"
   },
   {
    "duration": 27,
    "start_time": "2022-06-13T17:28:56.313Z"
   },
   {
    "duration": 139,
    "start_time": "2022-06-13T17:28:56.342Z"
   },
   {
    "duration": 84,
    "start_time": "2022-06-13T17:28:56.483Z"
   },
   {
    "duration": 30,
    "start_time": "2022-06-13T17:28:56.569Z"
   },
   {
    "duration": 93,
    "start_time": "2022-06-13T17:28:56.600Z"
   },
   {
    "duration": 104,
    "start_time": "2022-06-13T17:28:56.695Z"
   },
   {
    "duration": 33,
    "start_time": "2022-06-13T17:28:56.801Z"
   },
   {
    "duration": 15,
    "start_time": "2022-06-13T17:28:56.837Z"
   },
   {
    "duration": 9,
    "start_time": "2022-06-13T17:28:56.855Z"
   },
   {
    "duration": 27,
    "start_time": "2022-06-13T17:28:56.866Z"
   },
   {
    "duration": 15,
    "start_time": "2022-06-13T17:28:56.923Z"
   },
   {
    "duration": 6,
    "start_time": "2022-06-13T17:28:56.940Z"
   },
   {
    "duration": 10,
    "start_time": "2022-06-13T17:28:56.947Z"
   },
   {
    "duration": 1039,
    "start_time": "2022-06-13T17:28:56.959Z"
   },
   {
    "duration": 10,
    "start_time": "2022-06-13T17:28:58.001Z"
   },
   {
    "duration": 270,
    "start_time": "2022-06-13T17:28:58.022Z"
   },
   {
    "duration": 15,
    "start_time": "2022-06-13T17:28:58.294Z"
   },
   {
    "duration": 378,
    "start_time": "2022-06-13T17:35:23.842Z"
   },
   {
    "duration": 402,
    "start_time": "2022-06-13T17:35:24.222Z"
   },
   {
    "duration": 3,
    "start_time": "2022-06-13T17:35:24.625Z"
   },
   {
    "duration": 199,
    "start_time": "2022-06-13T17:35:24.629Z"
   },
   {
    "duration": 119,
    "start_time": "2022-06-13T17:35:24.831Z"
   },
   {
    "duration": 26,
    "start_time": "2022-06-13T17:35:24.952Z"
   },
   {
    "duration": 129,
    "start_time": "2022-06-13T17:35:24.980Z"
   },
   {
    "duration": 126,
    "start_time": "2022-06-13T17:35:25.111Z"
   },
   {
    "duration": 26,
    "start_time": "2022-06-13T17:35:25.238Z"
   },
   {
    "duration": 95,
    "start_time": "2022-06-13T17:35:25.266Z"
   },
   {
    "duration": 100,
    "start_time": "2022-06-13T17:35:25.363Z"
   },
   {
    "duration": 21,
    "start_time": "2022-06-13T17:35:25.465Z"
   },
   {
    "duration": 36,
    "start_time": "2022-06-13T17:35:25.487Z"
   },
   {
    "duration": 9,
    "start_time": "2022-06-13T17:35:25.525Z"
   },
   {
    "duration": 25,
    "start_time": "2022-06-13T17:35:25.536Z"
   },
   {
    "duration": 14,
    "start_time": "2022-06-13T17:35:25.562Z"
   },
   {
    "duration": 3,
    "start_time": "2022-06-13T17:35:25.578Z"
   },
   {
    "duration": 46,
    "start_time": "2022-06-13T17:35:25.583Z"
   },
   {
    "duration": 1051,
    "start_time": "2022-06-13T17:35:25.630Z"
   },
   {
    "duration": 11,
    "start_time": "2022-06-13T17:35:26.682Z"
   },
   {
    "duration": 247,
    "start_time": "2022-06-13T17:35:26.695Z"
   },
   {
    "duration": 13,
    "start_time": "2022-06-13T17:35:26.944Z"
   },
   {
    "duration": 6,
    "start_time": "2022-06-13T17:37:29.354Z"
   },
   {
    "duration": 13,
    "start_time": "2022-06-13T17:37:29.854Z"
   },
   {
    "duration": 237,
    "start_time": "2022-06-13T17:37:51.602Z"
   },
   {
    "duration": 13,
    "start_time": "2022-06-13T17:37:52.339Z"
   },
   {
    "duration": 6,
    "start_time": "2022-06-13T17:37:54.110Z"
   },
   {
    "duration": 219,
    "start_time": "2022-06-13T17:37:54.362Z"
   },
   {
    "duration": 426,
    "start_time": "2022-06-13T17:38:00.494Z"
   },
   {
    "duration": 436,
    "start_time": "2022-06-13T17:38:00.923Z"
   },
   {
    "duration": 3,
    "start_time": "2022-06-13T17:38:01.361Z"
   },
   {
    "duration": 195,
    "start_time": "2022-06-13T17:38:01.365Z"
   },
   {
    "duration": 127,
    "start_time": "2022-06-13T17:38:01.562Z"
   },
   {
    "duration": 38,
    "start_time": "2022-06-13T17:38:01.690Z"
   },
   {
    "duration": 122,
    "start_time": "2022-06-13T17:38:01.730Z"
   },
   {
    "duration": 145,
    "start_time": "2022-06-13T17:38:01.854Z"
   },
   {
    "duration": 37,
    "start_time": "2022-06-13T17:38:02.001Z"
   },
   {
    "duration": 83,
    "start_time": "2022-06-13T17:38:02.040Z"
   },
   {
    "duration": 107,
    "start_time": "2022-06-13T17:38:02.126Z"
   },
   {
    "duration": 26,
    "start_time": "2022-06-13T17:38:02.235Z"
   },
   {
    "duration": 16,
    "start_time": "2022-06-13T17:38:02.262Z"
   },
   {
    "duration": 43,
    "start_time": "2022-06-13T17:38:02.280Z"
   },
   {
    "duration": 38,
    "start_time": "2022-06-13T17:38:02.326Z"
   },
   {
    "duration": 15,
    "start_time": "2022-06-13T17:38:02.366Z"
   },
   {
    "duration": 8,
    "start_time": "2022-06-13T17:38:02.383Z"
   },
   {
    "duration": 14,
    "start_time": "2022-06-13T17:38:02.392Z"
   },
   {
    "duration": 1039,
    "start_time": "2022-06-13T17:38:02.423Z"
   },
   {
    "duration": 10,
    "start_time": "2022-06-13T17:38:03.464Z"
   },
   {
    "duration": 6,
    "start_time": "2022-06-13T17:38:03.476Z"
   },
   {
    "duration": 241,
    "start_time": "2022-06-13T17:38:03.484Z"
   },
   {
    "duration": 14,
    "start_time": "2022-06-13T17:38:03.727Z"
   },
   {
    "duration": 9,
    "start_time": "2022-06-13T17:38:32.560Z"
   },
   {
    "duration": 378,
    "start_time": "2022-06-13T17:38:46.084Z"
   },
   {
    "duration": 431,
    "start_time": "2022-06-13T17:38:46.464Z"
   },
   {
    "duration": 3,
    "start_time": "2022-06-13T17:38:46.897Z"
   },
   {
    "duration": 171,
    "start_time": "2022-06-13T17:38:46.901Z"
   },
   {
    "duration": 116,
    "start_time": "2022-06-13T17:38:47.074Z"
   },
   {
    "duration": 32,
    "start_time": "2022-06-13T17:38:47.191Z"
   },
   {
    "duration": 110,
    "start_time": "2022-06-13T17:38:47.225Z"
   },
   {
    "duration": 127,
    "start_time": "2022-06-13T17:38:47.337Z"
   },
   {
    "duration": 26,
    "start_time": "2022-06-13T17:38:47.466Z"
   },
   {
    "duration": 86,
    "start_time": "2022-06-13T17:38:47.494Z"
   },
   {
    "duration": 101,
    "start_time": "2022-06-13T17:38:47.582Z"
   },
   {
    "duration": 38,
    "start_time": "2022-06-13T17:38:47.685Z"
   },
   {
    "duration": 15,
    "start_time": "2022-06-13T17:38:47.725Z"
   },
   {
    "duration": 13,
    "start_time": "2022-06-13T17:38:47.743Z"
   },
   {
    "duration": 29,
    "start_time": "2022-06-13T17:38:47.757Z"
   },
   {
    "duration": 35,
    "start_time": "2022-06-13T17:38:47.788Z"
   },
   {
    "duration": 3,
    "start_time": "2022-06-13T17:38:47.825Z"
   },
   {
    "duration": 11,
    "start_time": "2022-06-13T17:38:47.830Z"
   },
   {
    "duration": 1027,
    "start_time": "2022-06-13T17:38:47.843Z"
   },
   {
    "duration": 9,
    "start_time": "2022-06-13T17:38:48.871Z"
   },
   {
    "duration": 7,
    "start_time": "2022-06-13T17:38:48.882Z"
   },
   {
    "duration": 250,
    "start_time": "2022-06-13T17:38:48.890Z"
   },
   {
    "duration": 13,
    "start_time": "2022-06-13T17:38:49.142Z"
   },
   {
    "duration": 417,
    "start_time": "2022-06-13T17:39:26.022Z"
   },
   {
    "duration": 416,
    "start_time": "2022-06-13T17:39:26.441Z"
   },
   {
    "duration": 2,
    "start_time": "2022-06-13T17:39:26.858Z"
   },
   {
    "duration": 172,
    "start_time": "2022-06-13T17:39:26.862Z"
   },
   {
    "duration": 114,
    "start_time": "2022-06-13T17:39:27.037Z"
   },
   {
    "duration": 25,
    "start_time": "2022-06-13T17:39:27.152Z"
   },
   {
    "duration": 132,
    "start_time": "2022-06-13T17:39:27.179Z"
   },
   {
    "duration": 128,
    "start_time": "2022-06-13T17:39:27.312Z"
   },
   {
    "duration": 24,
    "start_time": "2022-06-13T17:39:27.441Z"
   },
   {
    "duration": 90,
    "start_time": "2022-06-13T17:39:27.467Z"
   },
   {
    "duration": 92,
    "start_time": "2022-06-13T17:39:27.559Z"
   },
   {
    "duration": 23,
    "start_time": "2022-06-13T17:39:27.652Z"
   },
   {
    "duration": 15,
    "start_time": "2022-06-13T17:39:27.676Z"
   },
   {
    "duration": 33,
    "start_time": "2022-06-13T17:39:27.693Z"
   },
   {
    "duration": 27,
    "start_time": "2022-06-13T17:39:27.727Z"
   },
   {
    "duration": 15,
    "start_time": "2022-06-13T17:39:27.756Z"
   },
   {
    "duration": 4,
    "start_time": "2022-06-13T17:39:27.773Z"
   },
   {
    "duration": 12,
    "start_time": "2022-06-13T17:39:27.778Z"
   },
   {
    "duration": 1066,
    "start_time": "2022-06-13T17:39:27.792Z"
   },
   {
    "duration": 10,
    "start_time": "2022-06-13T17:39:28.860Z"
   },
   {
    "duration": 7,
    "start_time": "2022-06-13T17:39:28.871Z"
   },
   {
    "duration": 249,
    "start_time": "2022-06-13T17:39:28.880Z"
   },
   {
    "duration": 13,
    "start_time": "2022-06-13T17:39:29.131Z"
   },
   {
    "duration": 370,
    "start_time": "2022-06-13T17:41:24.084Z"
   },
   {
    "duration": 397,
    "start_time": "2022-06-13T17:41:24.456Z"
   },
   {
    "duration": 2,
    "start_time": "2022-06-13T17:41:24.855Z"
   },
   {
    "duration": 166,
    "start_time": "2022-06-13T17:41:24.859Z"
   },
   {
    "duration": 117,
    "start_time": "2022-06-13T17:41:25.027Z"
   },
   {
    "duration": 25,
    "start_time": "2022-06-13T17:41:25.146Z"
   },
   {
    "duration": 118,
    "start_time": "2022-06-13T17:41:25.173Z"
   },
   {
    "duration": 131,
    "start_time": "2022-06-13T17:41:25.293Z"
   },
   {
    "duration": 26,
    "start_time": "2022-06-13T17:41:25.426Z"
   },
   {
    "duration": 88,
    "start_time": "2022-06-13T17:41:25.454Z"
   },
   {
    "duration": 87,
    "start_time": "2022-06-13T17:41:25.544Z"
   },
   {
    "duration": 22,
    "start_time": "2022-06-13T17:41:25.632Z"
   },
   {
    "duration": 13,
    "start_time": "2022-06-13T17:41:25.656Z"
   },
   {
    "duration": 8,
    "start_time": "2022-06-13T17:41:25.671Z"
   },
   {
    "duration": 55,
    "start_time": "2022-06-13T17:41:25.681Z"
   },
   {
    "duration": 14,
    "start_time": "2022-06-13T17:41:25.738Z"
   },
   {
    "duration": 4,
    "start_time": "2022-06-13T17:41:25.753Z"
   },
   {
    "duration": 11,
    "start_time": "2022-06-13T17:41:25.759Z"
   },
   {
    "duration": 995,
    "start_time": "2022-06-13T17:41:25.772Z"
   },
   {
    "duration": 10,
    "start_time": "2022-06-13T17:41:26.768Z"
   },
   {
    "duration": 7,
    "start_time": "2022-06-13T17:41:26.779Z"
   },
   {
    "duration": 233,
    "start_time": "2022-06-13T17:41:26.787Z"
   },
   {
    "duration": 13,
    "start_time": "2022-06-13T17:41:27.022Z"
   },
   {
    "duration": 486,
    "start_time": "2022-06-13T17:42:03.493Z"
   },
   {
    "duration": 443,
    "start_time": "2022-06-13T17:42:03.981Z"
   },
   {
    "duration": 2,
    "start_time": "2022-06-13T17:42:04.426Z"
   },
   {
    "duration": 184,
    "start_time": "2022-06-13T17:42:04.429Z"
   },
   {
    "duration": 122,
    "start_time": "2022-06-13T17:42:04.616Z"
   },
   {
    "duration": 27,
    "start_time": "2022-06-13T17:42:04.739Z"
   },
   {
    "duration": 125,
    "start_time": "2022-06-13T17:42:04.767Z"
   },
   {
    "duration": 131,
    "start_time": "2022-06-13T17:42:04.893Z"
   },
   {
    "duration": 27,
    "start_time": "2022-06-13T17:42:05.026Z"
   },
   {
    "duration": 104,
    "start_time": "2022-06-13T17:42:05.055Z"
   },
   {
    "duration": 103,
    "start_time": "2022-06-13T17:42:05.160Z"
   },
   {
    "duration": 24,
    "start_time": "2022-06-13T17:42:05.265Z"
   },
   {
    "duration": 32,
    "start_time": "2022-06-13T17:42:05.291Z"
   },
   {
    "duration": 10,
    "start_time": "2022-06-13T17:42:05.325Z"
   },
   {
    "duration": 27,
    "start_time": "2022-06-13T17:42:05.336Z"
   },
   {
    "duration": 17,
    "start_time": "2022-06-13T17:42:05.365Z"
   },
   {
    "duration": 8,
    "start_time": "2022-06-13T17:42:05.383Z"
   },
   {
    "duration": 11,
    "start_time": "2022-06-13T17:42:05.393Z"
   },
   {
    "duration": 1048,
    "start_time": "2022-06-13T17:42:05.424Z"
   },
   {
    "duration": 9,
    "start_time": "2022-06-13T17:42:06.474Z"
   },
   {
    "duration": 6,
    "start_time": "2022-06-13T17:42:06.485Z"
   },
   {
    "duration": 235,
    "start_time": "2022-06-13T17:42:06.492Z"
   },
   {
    "duration": 13,
    "start_time": "2022-06-13T17:42:06.729Z"
   },
   {
    "duration": 20,
    "start_time": "2022-06-13T17:42:24.731Z"
   },
   {
    "duration": 383,
    "start_time": "2022-06-14T14:31:20.476Z"
   },
   {
    "duration": 1086,
    "start_time": "2022-06-14T14:31:20.861Z"
   },
   {
    "duration": 2,
    "start_time": "2022-06-14T14:31:21.949Z"
   },
   {
    "duration": 139,
    "start_time": "2022-06-14T14:31:21.952Z"
   },
   {
    "duration": 93,
    "start_time": "2022-06-14T14:31:22.093Z"
   },
   {
    "duration": 22,
    "start_time": "2022-06-14T14:31:22.194Z"
   },
   {
    "duration": 97,
    "start_time": "2022-06-14T14:31:22.217Z"
   },
   {
    "duration": 107,
    "start_time": "2022-06-14T14:31:22.316Z"
   },
   {
    "duration": 23,
    "start_time": "2022-06-14T14:31:22.424Z"
   },
   {
    "duration": 85,
    "start_time": "2022-06-14T14:31:22.449Z"
   },
   {
    "duration": 88,
    "start_time": "2022-06-14T14:31:22.535Z"
   },
   {
    "duration": 22,
    "start_time": "2022-06-14T14:31:22.624Z"
   },
   {
    "duration": 14,
    "start_time": "2022-06-14T14:31:22.648Z"
   },
   {
    "duration": 33,
    "start_time": "2022-06-14T14:31:22.663Z"
   },
   {
    "duration": 21,
    "start_time": "2022-06-14T14:31:22.698Z"
   },
   {
    "duration": 15,
    "start_time": "2022-06-14T14:31:22.721Z"
   },
   {
    "duration": 3,
    "start_time": "2022-06-14T14:31:22.737Z"
   },
   {
    "duration": 8,
    "start_time": "2022-06-14T14:31:22.742Z"
   },
   {
    "duration": 977,
    "start_time": "2022-06-14T14:31:22.751Z"
   },
   {
    "duration": 10,
    "start_time": "2022-06-14T14:31:23.729Z"
   },
   {
    "duration": 6,
    "start_time": "2022-06-14T14:31:23.740Z"
   },
   {
    "duration": 243,
    "start_time": "2022-06-14T14:31:23.747Z"
   },
   {
    "duration": 12,
    "start_time": "2022-06-14T14:31:23.992Z"
   },
   {
    "duration": 21,
    "start_time": "2022-06-14T14:34:23.563Z"
   },
   {
    "duration": 1224,
    "start_time": "2022-06-14T14:35:44.360Z"
   },
   {
    "duration": 383,
    "start_time": "2022-06-14T14:36:08.388Z"
   },
   {
    "duration": 366,
    "start_time": "2022-06-14T14:36:08.773Z"
   },
   {
    "duration": 1,
    "start_time": "2022-06-14T14:36:09.141Z"
   },
   {
    "duration": 142,
    "start_time": "2022-06-14T14:36:09.144Z"
   },
   {
    "duration": 99,
    "start_time": "2022-06-14T14:36:09.287Z"
   },
   {
    "duration": 26,
    "start_time": "2022-06-14T14:36:09.387Z"
   },
   {
    "duration": 100,
    "start_time": "2022-06-14T14:36:09.415Z"
   },
   {
    "duration": 113,
    "start_time": "2022-06-14T14:36:09.516Z"
   },
   {
    "duration": 20,
    "start_time": "2022-06-14T14:36:09.631Z"
   },
   {
    "duration": 84,
    "start_time": "2022-06-14T14:36:09.653Z"
   },
   {
    "duration": 82,
    "start_time": "2022-06-14T14:36:09.738Z"
   },
   {
    "duration": 20,
    "start_time": "2022-06-14T14:36:09.821Z"
   },
   {
    "duration": 12,
    "start_time": "2022-06-14T14:36:09.842Z"
   },
   {
    "duration": 7,
    "start_time": "2022-06-14T14:36:09.856Z"
   },
   {
    "duration": 45,
    "start_time": "2022-06-14T14:36:09.865Z"
   },
   {
    "duration": 12,
    "start_time": "2022-06-14T14:36:09.911Z"
   },
   {
    "duration": 2,
    "start_time": "2022-06-14T14:36:09.925Z"
   },
   {
    "duration": 12,
    "start_time": "2022-06-14T14:36:09.929Z"
   },
   {
    "duration": 898,
    "start_time": "2022-06-14T14:36:09.943Z"
   },
   {
    "duration": 8,
    "start_time": "2022-06-14T14:36:10.842Z"
   },
   {
    "duration": 6,
    "start_time": "2022-06-14T14:36:10.852Z"
   },
   {
    "duration": 220,
    "start_time": "2022-06-14T14:36:10.859Z"
   },
   {
    "duration": 16,
    "start_time": "2022-06-14T14:36:11.081Z"
   },
   {
    "duration": 774,
    "start_time": "2022-06-14T14:41:01.016Z"
   },
   {
    "duration": 496,
    "start_time": "2022-06-14T14:41:28.957Z"
   },
   {
    "duration": 572,
    "start_time": "2022-06-14T14:42:29.868Z"
   },
   {
    "duration": 533,
    "start_time": "2022-06-14T14:43:12.562Z"
   },
   {
    "duration": 79,
    "start_time": "2022-06-14T14:45:32.749Z"
   },
   {
    "duration": 85,
    "start_time": "2022-06-14T14:47:29.050Z"
   },
   {
    "duration": 5,
    "start_time": "2022-06-14T14:48:43.131Z"
   },
   {
    "duration": 77,
    "start_time": "2022-06-14T14:49:03.993Z"
   },
   {
    "duration": 73,
    "start_time": "2022-06-14T14:49:14.945Z"
   },
   {
    "duration": 564,
    "start_time": "2022-06-14T14:51:16.798Z"
   },
   {
    "duration": 378,
    "start_time": "2022-06-14T14:54:06.261Z"
   },
   {
    "duration": 357,
    "start_time": "2022-06-14T14:54:06.641Z"
   },
   {
    "duration": 2,
    "start_time": "2022-06-14T14:54:07.000Z"
   },
   {
    "duration": 144,
    "start_time": "2022-06-14T14:54:07.003Z"
   },
   {
    "duration": 102,
    "start_time": "2022-06-14T14:54:07.149Z"
   },
   {
    "duration": 23,
    "start_time": "2022-06-14T14:54:07.253Z"
   },
   {
    "duration": 93,
    "start_time": "2022-06-14T14:54:07.277Z"
   },
   {
    "duration": 153,
    "start_time": "2022-06-14T14:54:07.372Z"
   },
   {
    "duration": 24,
    "start_time": "2022-06-14T14:54:07.527Z"
   },
   {
    "duration": 83,
    "start_time": "2022-06-14T14:54:07.553Z"
   },
   {
    "duration": 74,
    "start_time": "2022-06-14T14:54:07.638Z"
   },
   {
    "duration": 19,
    "start_time": "2022-06-14T14:54:07.713Z"
   },
   {
    "duration": 13,
    "start_time": "2022-06-14T14:54:07.733Z"
   },
   {
    "duration": 8,
    "start_time": "2022-06-14T14:54:07.748Z"
   },
   {
    "duration": 49,
    "start_time": "2022-06-14T14:54:07.757Z"
   },
   {
    "duration": 13,
    "start_time": "2022-06-14T14:54:07.808Z"
   },
   {
    "duration": 3,
    "start_time": "2022-06-14T14:54:07.823Z"
   },
   {
    "duration": 8,
    "start_time": "2022-06-14T14:54:07.827Z"
   },
   {
    "duration": 932,
    "start_time": "2022-06-14T14:54:07.837Z"
   },
   {
    "duration": 10,
    "start_time": "2022-06-14T14:54:08.770Z"
   },
   {
    "duration": 17,
    "start_time": "2022-06-14T14:54:08.781Z"
   },
   {
    "duration": 213,
    "start_time": "2022-06-14T14:54:08.799Z"
   },
   {
    "duration": 13,
    "start_time": "2022-06-14T14:54:09.013Z"
   },
   {
    "duration": 375,
    "start_time": "2022-06-14T15:00:34.622Z"
   },
   {
    "duration": 396,
    "start_time": "2022-06-14T15:00:34.999Z"
   },
   {
    "duration": 3,
    "start_time": "2022-06-14T15:00:35.396Z"
   },
   {
    "duration": 153,
    "start_time": "2022-06-14T15:00:35.400Z"
   },
   {
    "duration": 107,
    "start_time": "2022-06-14T15:00:35.555Z"
   },
   {
    "duration": 31,
    "start_time": "2022-06-14T15:00:35.664Z"
   },
   {
    "duration": 101,
    "start_time": "2022-06-14T15:00:35.696Z"
   },
   {
    "duration": 115,
    "start_time": "2022-06-14T15:00:35.798Z"
   },
   {
    "duration": 26,
    "start_time": "2022-06-14T15:00:35.915Z"
   },
   {
    "duration": 70,
    "start_time": "2022-06-14T15:00:35.943Z"
   },
   {
    "duration": 87,
    "start_time": "2022-06-14T15:00:36.015Z"
   },
   {
    "duration": 19,
    "start_time": "2022-06-14T15:00:36.103Z"
   },
   {
    "duration": 13,
    "start_time": "2022-06-14T15:00:36.123Z"
   },
   {
    "duration": 7,
    "start_time": "2022-06-14T15:00:36.139Z"
   },
   {
    "duration": 23,
    "start_time": "2022-06-14T15:00:36.148Z"
   },
   {
    "duration": 12,
    "start_time": "2022-06-14T15:00:36.195Z"
   },
   {
    "duration": 2,
    "start_time": "2022-06-14T15:00:36.209Z"
   },
   {
    "duration": 10,
    "start_time": "2022-06-14T15:00:36.212Z"
   },
   {
    "duration": 943,
    "start_time": "2022-06-14T15:00:36.223Z"
   },
   {
    "duration": 10,
    "start_time": "2022-06-14T15:00:37.168Z"
   },
   {
    "duration": 15,
    "start_time": "2022-06-14T15:00:37.179Z"
   },
   {
    "duration": 247,
    "start_time": "2022-06-14T15:00:37.196Z"
   },
   {
    "duration": 17,
    "start_time": "2022-06-14T15:00:37.445Z"
   },
   {
    "duration": 389,
    "start_time": "2022-06-14T15:04:20.368Z"
   },
   {
    "duration": 366,
    "start_time": "2022-06-14T15:04:20.759Z"
   },
   {
    "duration": 2,
    "start_time": "2022-06-14T15:04:21.127Z"
   },
   {
    "duration": 137,
    "start_time": "2022-06-14T15:04:21.130Z"
   },
   {
    "duration": 103,
    "start_time": "2022-06-14T15:04:21.269Z"
   },
   {
    "duration": 28,
    "start_time": "2022-06-14T15:04:21.374Z"
   },
   {
    "duration": 102,
    "start_time": "2022-06-14T15:04:21.403Z"
   },
   {
    "duration": 112,
    "start_time": "2022-06-14T15:04:21.506Z"
   },
   {
    "duration": 19,
    "start_time": "2022-06-14T15:04:21.619Z"
   },
   {
    "duration": 76,
    "start_time": "2022-06-14T15:04:21.640Z"
   },
   {
    "duration": 81,
    "start_time": "2022-06-14T15:04:21.718Z"
   },
   {
    "duration": 18,
    "start_time": "2022-06-14T15:04:21.801Z"
   },
   {
    "duration": 12,
    "start_time": "2022-06-14T15:04:21.821Z"
   },
   {
    "duration": 8,
    "start_time": "2022-06-14T15:04:21.835Z"
   },
   {
    "duration": 22,
    "start_time": "2022-06-14T15:04:21.844Z"
   },
   {
    "duration": 38,
    "start_time": "2022-06-14T15:04:21.867Z"
   },
   {
    "duration": 3,
    "start_time": "2022-06-14T15:04:21.906Z"
   },
   {
    "duration": 11,
    "start_time": "2022-06-14T15:04:21.910Z"
   },
   {
    "duration": 1036,
    "start_time": "2022-06-14T15:04:21.922Z"
   },
   {
    "duration": 11,
    "start_time": "2022-06-14T15:04:22.959Z"
   },
   {
    "duration": 6,
    "start_time": "2022-06-14T15:04:22.971Z"
   },
   {
    "duration": 236,
    "start_time": "2022-06-14T15:04:22.994Z"
   },
   {
    "duration": 14,
    "start_time": "2022-06-14T15:04:23.232Z"
   },
   {
    "duration": 386,
    "start_time": "2022-06-14T16:08:04.665Z"
   },
   {
    "duration": 360,
    "start_time": "2022-06-14T16:08:05.053Z"
   },
   {
    "duration": 3,
    "start_time": "2022-06-14T16:08:05.414Z"
   },
   {
    "duration": 139,
    "start_time": "2022-06-14T16:08:05.418Z"
   },
   {
    "duration": 98,
    "start_time": "2022-06-14T16:08:05.559Z"
   },
   {
    "duration": 20,
    "start_time": "2022-06-14T16:08:05.659Z"
   },
   {
    "duration": 84,
    "start_time": "2022-06-14T16:08:05.694Z"
   },
   {
    "duration": 115,
    "start_time": "2022-06-14T16:08:05.780Z"
   },
   {
    "duration": 19,
    "start_time": "2022-06-14T16:08:05.897Z"
   },
   {
    "duration": 76,
    "start_time": "2022-06-14T16:08:05.918Z"
   },
   {
    "duration": 85,
    "start_time": "2022-06-14T16:08:05.996Z"
   },
   {
    "duration": 19,
    "start_time": "2022-06-14T16:08:06.093Z"
   },
   {
    "duration": 12,
    "start_time": "2022-06-14T16:08:06.114Z"
   },
   {
    "duration": 8,
    "start_time": "2022-06-14T16:08:06.128Z"
   },
   {
    "duration": 24,
    "start_time": "2022-06-14T16:08:06.137Z"
   },
   {
    "duration": 36,
    "start_time": "2022-06-14T16:08:06.163Z"
   },
   {
    "duration": 3,
    "start_time": "2022-06-14T16:08:06.201Z"
   },
   {
    "duration": 10,
    "start_time": "2022-06-14T16:08:06.205Z"
   },
   {
    "duration": 922,
    "start_time": "2022-06-14T16:08:06.216Z"
   },
   {
    "duration": 10,
    "start_time": "2022-06-14T16:08:07.139Z"
   },
   {
    "duration": 6,
    "start_time": "2022-06-14T16:08:07.151Z"
   },
   {
    "duration": 211,
    "start_time": "2022-06-14T16:08:07.158Z"
   },
   {
    "duration": 14,
    "start_time": "2022-06-14T16:08:07.370Z"
   },
   {
    "duration": 6,
    "start_time": "2022-06-14T16:08:07.394Z"
   },
   {
    "duration": 17,
    "start_time": "2022-06-14T16:12:25.900Z"
   },
   {
    "duration": 18,
    "start_time": "2022-06-14T16:13:51.133Z"
   },
   {
    "duration": 18,
    "start_time": "2022-06-14T16:18:00.478Z"
   },
   {
    "duration": 18,
    "start_time": "2022-06-14T16:18:10.300Z"
   },
   {
    "duration": 532,
    "start_time": "2022-06-14T16:20:23.098Z"
   },
   {
    "duration": 450,
    "start_time": "2022-06-14T16:20:52.787Z"
   },
   {
    "duration": 14,
    "start_time": "2022-06-14T16:21:01.651Z"
   },
   {
    "duration": 449,
    "start_time": "2022-06-14T16:23:07.050Z"
   },
   {
    "duration": 450,
    "start_time": "2022-06-14T16:24:25.943Z"
   },
   {
    "duration": 12,
    "start_time": "2022-06-14T16:24:41.712Z"
   },
   {
    "duration": 13,
    "start_time": "2022-06-14T16:24:54.265Z"
   },
   {
    "duration": 233,
    "start_time": "2022-06-14T16:25:41.927Z"
   },
   {
    "duration": 13,
    "start_time": "2022-06-14T16:25:42.383Z"
   },
   {
    "duration": 541,
    "start_time": "2022-06-14T16:26:17.435Z"
   },
   {
    "duration": 447,
    "start_time": "2022-06-14T16:26:24.897Z"
   },
   {
    "duration": 18,
    "start_time": "2022-06-14T16:27:11.828Z"
   },
   {
    "duration": 420,
    "start_time": "2022-06-14T16:27:38.465Z"
   },
   {
    "duration": 442,
    "start_time": "2022-06-14T16:27:45.188Z"
   },
   {
    "duration": 15,
    "start_time": "2022-06-14T16:28:06.673Z"
   },
   {
    "duration": 460,
    "start_time": "2022-06-14T16:28:37.759Z"
   },
   {
    "duration": 428,
    "start_time": "2022-06-14T16:28:54.787Z"
   },
   {
    "duration": 14,
    "start_time": "2022-06-14T16:29:47.600Z"
   },
   {
    "duration": 498,
    "start_time": "2022-06-14T16:30:09.345Z"
   },
   {
    "duration": 414,
    "start_time": "2022-06-14T16:30:48.028Z"
   },
   {
    "duration": 127,
    "start_time": "2022-06-14T16:31:15.416Z"
   },
   {
    "duration": 137,
    "start_time": "2022-06-14T16:33:28.891Z"
   },
   {
    "duration": 459,
    "start_time": "2022-06-14T16:33:54.482Z"
   },
   {
    "duration": 211,
    "start_time": "2022-06-14T16:34:18.855Z"
   },
   {
    "duration": 134,
    "start_time": "2022-06-14T16:34:34.729Z"
   },
   {
    "duration": 130,
    "start_time": "2022-06-14T16:34:50.451Z"
   },
   {
    "duration": 13,
    "start_time": "2022-06-14T16:35:14.058Z"
   },
   {
    "duration": 225,
    "start_time": "2022-06-14T16:35:17.178Z"
   },
   {
    "duration": 13,
    "start_time": "2022-06-14T16:35:17.635Z"
   },
   {
    "duration": 6,
    "start_time": "2022-06-14T16:35:19.646Z"
   },
   {
    "duration": 213,
    "start_time": "2022-06-14T16:35:20.013Z"
   },
   {
    "duration": 13,
    "start_time": "2022-06-14T16:35:20.582Z"
   },
   {
    "duration": 373,
    "start_time": "2022-06-14T16:35:27.156Z"
   },
   {
    "duration": 388,
    "start_time": "2022-06-14T16:35:27.531Z"
   },
   {
    "duration": 3,
    "start_time": "2022-06-14T16:35:27.920Z"
   },
   {
    "duration": 153,
    "start_time": "2022-06-14T16:35:27.925Z"
   },
   {
    "duration": 107,
    "start_time": "2022-06-14T16:35:28.080Z"
   },
   {
    "duration": 22,
    "start_time": "2022-06-14T16:35:28.193Z"
   },
   {
    "duration": 100,
    "start_time": "2022-06-14T16:35:28.216Z"
   },
   {
    "duration": 111,
    "start_time": "2022-06-14T16:35:28.318Z"
   },
   {
    "duration": 19,
    "start_time": "2022-06-14T16:35:28.431Z"
   },
   {
    "duration": 78,
    "start_time": "2022-06-14T16:35:28.453Z"
   },
   {
    "duration": 87,
    "start_time": "2022-06-14T16:35:28.533Z"
   },
   {
    "duration": 21,
    "start_time": "2022-06-14T16:35:28.622Z"
   },
   {
    "duration": 13,
    "start_time": "2022-06-14T16:35:28.645Z"
   },
   {
    "duration": 8,
    "start_time": "2022-06-14T16:35:28.659Z"
   },
   {
    "duration": 44,
    "start_time": "2022-06-14T16:35:28.668Z"
   },
   {
    "duration": 13,
    "start_time": "2022-06-14T16:35:28.714Z"
   },
   {
    "duration": 3,
    "start_time": "2022-06-14T16:35:28.729Z"
   },
   {
    "duration": 7,
    "start_time": "2022-06-14T16:35:28.734Z"
   },
   {
    "duration": 962,
    "start_time": "2022-06-14T16:35:28.743Z"
   },
   {
    "duration": 9,
    "start_time": "2022-06-14T16:35:29.707Z"
   },
   {
    "duration": 7,
    "start_time": "2022-06-14T16:35:29.717Z"
   },
   {
    "duration": 210,
    "start_time": "2022-06-14T16:35:29.725Z"
   },
   {
    "duration": 13,
    "start_time": "2022-06-14T16:35:29.936Z"
   },
   {
    "duration": 150,
    "start_time": "2022-06-14T16:35:29.950Z"
   },
   {
    "duration": 141,
    "start_time": "2022-06-14T16:36:23.833Z"
   },
   {
    "duration": 132,
    "start_time": "2022-06-14T16:37:43.835Z"
   },
   {
    "duration": 138,
    "start_time": "2022-06-14T16:37:57.811Z"
   },
   {
    "duration": 146,
    "start_time": "2022-06-14T16:38:08.687Z"
   },
   {
    "duration": 130,
    "start_time": "2022-06-14T16:40:03.406Z"
   },
   {
    "duration": 149,
    "start_time": "2022-06-14T16:40:19.033Z"
   },
   {
    "duration": 130,
    "start_time": "2022-06-14T16:40:28.946Z"
   },
   {
    "duration": 259,
    "start_time": "2022-06-14T16:41:48.447Z"
   },
   {
    "duration": 253,
    "start_time": "2022-06-14T16:42:19.422Z"
   },
   {
    "duration": 247,
    "start_time": "2022-06-14T16:53:48.309Z"
   },
   {
    "duration": 39,
    "start_time": "2022-06-14T17:02:34.318Z"
   },
   {
    "duration": 58,
    "start_time": "2022-06-14T17:02:39.646Z"
   },
   {
    "duration": 23,
    "start_time": "2022-06-14T17:02:45.046Z"
   },
   {
    "duration": 21,
    "start_time": "2022-06-14T17:03:04.852Z"
   },
   {
    "duration": 26,
    "start_time": "2022-06-14T17:04:33.931Z"
   },
   {
    "duration": 46,
    "start_time": "2022-06-14T17:05:09.248Z"
   },
   {
    "duration": 21,
    "start_time": "2022-06-14T17:05:22.580Z"
   },
   {
    "duration": 21,
    "start_time": "2022-06-14T17:07:32.686Z"
   },
   {
    "duration": 48,
    "start_time": "2022-06-14T17:07:43.471Z"
   },
   {
    "duration": 3,
    "start_time": "2022-06-14T17:08:50.415Z"
   },
   {
    "duration": 2,
    "start_time": "2022-06-14T17:09:01.272Z"
   },
   {
    "duration": 6,
    "start_time": "2022-06-14T17:09:29.175Z"
   },
   {
    "duration": 3,
    "start_time": "2022-06-14T17:09:47.167Z"
   },
   {
    "duration": 3,
    "start_time": "2022-06-14T17:09:49.058Z"
   },
   {
    "duration": 2,
    "start_time": "2022-06-14T17:09:50.483Z"
   },
   {
    "duration": 35,
    "start_time": "2022-06-14T17:13:59.430Z"
   },
   {
    "duration": 8,
    "start_time": "2022-06-14T17:14:02.505Z"
   },
   {
    "duration": 7,
    "start_time": "2022-06-14T17:14:07.783Z"
   },
   {
    "duration": 13,
    "start_time": "2022-06-14T17:14:12.030Z"
   },
   {
    "duration": 24,
    "start_time": "2022-06-14T17:14:26.646Z"
   },
   {
    "duration": 15,
    "start_time": "2022-06-14T17:14:51.240Z"
   },
   {
    "duration": 20,
    "start_time": "2022-06-14T17:17:34.171Z"
   },
   {
    "duration": 27,
    "start_time": "2022-06-14T17:17:52.963Z"
   },
   {
    "duration": 42,
    "start_time": "2022-06-14T17:18:07.382Z"
   },
   {
    "duration": 5,
    "start_time": "2022-06-14T17:18:28.648Z"
   },
   {
    "duration": 5,
    "start_time": "2022-06-14T17:18:34.627Z"
   },
   {
    "duration": 5,
    "start_time": "2022-06-14T17:18:40.166Z"
   },
   {
    "duration": 5,
    "start_time": "2022-06-14T17:18:48.775Z"
   },
   {
    "duration": 31,
    "start_time": "2022-06-14T17:18:51.213Z"
   },
   {
    "duration": 5,
    "start_time": "2022-06-14T17:18:51.302Z"
   },
   {
    "duration": 29,
    "start_time": "2022-06-14T17:19:00.249Z"
   },
   {
    "duration": 33,
    "start_time": "2022-06-14T17:19:15.030Z"
   },
   {
    "duration": 31,
    "start_time": "2022-06-14T17:19:38.347Z"
   },
   {
    "duration": 30,
    "start_time": "2022-06-14T17:19:50.010Z"
   },
   {
    "duration": 25,
    "start_time": "2022-06-14T17:20:25.634Z"
   },
   {
    "duration": 30,
    "start_time": "2022-06-14T17:22:50.658Z"
   },
   {
    "duration": 28,
    "start_time": "2022-06-14T17:23:11.983Z"
   },
   {
    "duration": 29,
    "start_time": "2022-06-14T17:23:21.442Z"
   },
   {
    "duration": 28,
    "start_time": "2022-06-14T17:23:41.630Z"
   },
   {
    "duration": 26,
    "start_time": "2022-06-14T17:24:15.007Z"
   },
   {
    "duration": 20,
    "start_time": "2022-06-14T17:24:19.339Z"
   },
   {
    "duration": 24,
    "start_time": "2022-06-14T17:24:39.773Z"
   },
   {
    "duration": 11,
    "start_time": "2022-06-14T17:24:59.957Z"
   },
   {
    "duration": 9,
    "start_time": "2022-06-14T17:25:19.970Z"
   },
   {
    "duration": 10,
    "start_time": "2022-06-14T17:25:24.799Z"
   },
   {
    "duration": 10,
    "start_time": "2022-06-14T17:25:40.381Z"
   },
   {
    "duration": 10,
    "start_time": "2022-06-14T17:25:46.076Z"
   },
   {
    "duration": 10,
    "start_time": "2022-06-14T17:25:50.832Z"
   },
   {
    "duration": 19,
    "start_time": "2022-06-14T17:26:20.456Z"
   },
   {
    "duration": 16,
    "start_time": "2022-06-14T17:26:24.131Z"
   },
   {
    "duration": 12,
    "start_time": "2022-06-14T17:26:49.298Z"
   },
   {
    "duration": 13,
    "start_time": "2022-06-14T17:26:54.814Z"
   },
   {
    "duration": 13,
    "start_time": "2022-06-14T17:28:20.102Z"
   },
   {
    "duration": 12,
    "start_time": "2022-06-14T17:28:51.913Z"
   },
   {
    "duration": 11,
    "start_time": "2022-06-14T17:28:55.644Z"
   },
   {
    "duration": 18,
    "start_time": "2022-06-14T17:33:32.184Z"
   },
   {
    "duration": 16,
    "start_time": "2022-06-14T17:33:37.931Z"
   },
   {
    "duration": 8,
    "start_time": "2022-06-14T17:34:20.493Z"
   },
   {
    "duration": 9,
    "start_time": "2022-06-14T17:34:22.041Z"
   },
   {
    "duration": 27,
    "start_time": "2022-06-14T17:34:36.603Z"
   },
   {
    "duration": 32,
    "start_time": "2022-06-14T17:34:50.045Z"
   },
   {
    "duration": 7,
    "start_time": "2022-06-14T17:40:58.543Z"
   },
   {
    "duration": 1120,
    "start_time": "2022-06-14T17:41:10.109Z"
   },
   {
    "duration": 365,
    "start_time": "2022-06-14T17:41:11.231Z"
   },
   {
    "duration": 3,
    "start_time": "2022-06-14T17:41:11.597Z"
   },
   {
    "duration": 154,
    "start_time": "2022-06-14T17:41:11.601Z"
   },
   {
    "duration": 102,
    "start_time": "2022-06-14T17:41:11.757Z"
   },
   {
    "duration": 22,
    "start_time": "2022-06-14T17:41:11.861Z"
   },
   {
    "duration": 84,
    "start_time": "2022-06-14T17:41:11.894Z"
   },
   {
    "duration": 129,
    "start_time": "2022-06-14T17:41:11.979Z"
   },
   {
    "duration": 19,
    "start_time": "2022-06-14T17:41:12.109Z"
   },
   {
    "duration": 67,
    "start_time": "2022-06-14T17:41:12.129Z"
   },
   {
    "duration": 72,
    "start_time": "2022-06-14T17:41:12.198Z"
   },
   {
    "duration": 37,
    "start_time": "2022-06-14T17:41:12.271Z"
   },
   {
    "duration": 13,
    "start_time": "2022-06-14T17:41:12.310Z"
   },
   {
    "duration": 9,
    "start_time": "2022-06-14T17:41:12.326Z"
   },
   {
    "duration": 23,
    "start_time": "2022-06-14T17:41:12.336Z"
   },
   {
    "duration": 40,
    "start_time": "2022-06-14T17:41:12.361Z"
   },
   {
    "duration": 4,
    "start_time": "2022-06-14T17:41:12.402Z"
   },
   {
    "duration": 10,
    "start_time": "2022-06-14T17:41:12.408Z"
   },
   {
    "duration": 944,
    "start_time": "2022-06-14T17:41:12.419Z"
   },
   {
    "duration": 9,
    "start_time": "2022-06-14T17:41:13.365Z"
   },
   {
    "duration": 18,
    "start_time": "2022-06-14T17:41:13.376Z"
   },
   {
    "duration": 195,
    "start_time": "2022-06-14T17:41:13.396Z"
   },
   {
    "duration": 13,
    "start_time": "2022-06-14T17:41:13.593Z"
   },
   {
    "duration": 244,
    "start_time": "2022-06-14T17:41:13.608Z"
   },
   {
    "duration": 0,
    "start_time": "2022-06-14T17:41:13.854Z"
   },
   {
    "duration": 0,
    "start_time": "2022-06-14T17:41:13.855Z"
   },
   {
    "duration": 947,
    "start_time": "2022-06-14T17:41:35.947Z"
   },
   {
    "duration": 405,
    "start_time": "2022-06-14T17:41:36.896Z"
   },
   {
    "duration": 2,
    "start_time": "2022-06-14T17:41:37.303Z"
   },
   {
    "duration": 177,
    "start_time": "2022-06-14T17:41:37.308Z"
   },
   {
    "duration": 116,
    "start_time": "2022-06-14T17:41:37.496Z"
   },
   {
    "duration": 27,
    "start_time": "2022-06-14T17:41:37.615Z"
   },
   {
    "duration": 108,
    "start_time": "2022-06-14T17:41:37.644Z"
   },
   {
    "duration": 116,
    "start_time": "2022-06-14T17:41:37.754Z"
   },
   {
    "duration": 31,
    "start_time": "2022-06-14T17:41:37.872Z"
   },
   {
    "duration": 57,
    "start_time": "2022-06-14T17:41:37.905Z"
   },
   {
    "duration": 94,
    "start_time": "2022-06-14T17:41:37.964Z"
   },
   {
    "duration": 20,
    "start_time": "2022-06-14T17:41:38.060Z"
   },
   {
    "duration": 29,
    "start_time": "2022-06-14T17:41:38.094Z"
   },
   {
    "duration": 15,
    "start_time": "2022-06-14T17:41:38.125Z"
   },
   {
    "duration": 49,
    "start_time": "2022-06-14T17:41:38.141Z"
   },
   {
    "duration": 22,
    "start_time": "2022-06-14T17:41:38.192Z"
   },
   {
    "duration": 6,
    "start_time": "2022-06-14T17:41:38.216Z"
   },
   {
    "duration": 29,
    "start_time": "2022-06-14T17:41:38.224Z"
   },
   {
    "duration": 956,
    "start_time": "2022-06-14T17:41:38.254Z"
   },
   {
    "duration": 9,
    "start_time": "2022-06-14T17:41:39.212Z"
   },
   {
    "duration": 9,
    "start_time": "2022-06-14T17:41:39.222Z"
   },
   {
    "duration": 216,
    "start_time": "2022-06-14T17:41:39.232Z"
   },
   {
    "duration": 13,
    "start_time": "2022-06-14T17:41:39.449Z"
   },
   {
    "duration": 254,
    "start_time": "2022-06-14T17:41:39.464Z"
   },
   {
    "duration": 23,
    "start_time": "2022-06-14T17:41:39.720Z"
   },
   {
    "duration": 96,
    "start_time": "2022-06-14T17:41:39.745Z"
   },
   {
    "duration": 1026,
    "start_time": "2022-06-14T17:42:01.478Z"
   },
   {
    "duration": 364,
    "start_time": "2022-06-14T17:42:02.505Z"
   },
   {
    "duration": 2,
    "start_time": "2022-06-14T17:42:02.870Z"
   },
   {
    "duration": 146,
    "start_time": "2022-06-14T17:42:02.874Z"
   },
   {
    "duration": 104,
    "start_time": "2022-06-14T17:42:03.022Z"
   },
   {
    "duration": 23,
    "start_time": "2022-06-14T17:42:03.128Z"
   },
   {
    "duration": 99,
    "start_time": "2022-06-14T17:42:03.152Z"
   },
   {
    "duration": 110,
    "start_time": "2022-06-14T17:42:03.253Z"
   },
   {
    "duration": 31,
    "start_time": "2022-06-14T17:42:03.364Z"
   },
   {
    "duration": 56,
    "start_time": "2022-06-14T17:42:03.396Z"
   },
   {
    "duration": 87,
    "start_time": "2022-06-14T17:42:03.453Z"
   },
   {
    "duration": 19,
    "start_time": "2022-06-14T17:42:03.542Z"
   },
   {
    "duration": 12,
    "start_time": "2022-06-14T17:42:03.562Z"
   },
   {
    "duration": 8,
    "start_time": "2022-06-14T17:42:03.595Z"
   },
   {
    "duration": 22,
    "start_time": "2022-06-14T17:42:03.604Z"
   },
   {
    "duration": 13,
    "start_time": "2022-06-14T17:42:03.627Z"
   },
   {
    "duration": 3,
    "start_time": "2022-06-14T17:42:03.641Z"
   },
   {
    "duration": 14,
    "start_time": "2022-06-14T17:42:03.645Z"
   },
   {
    "duration": 964,
    "start_time": "2022-06-14T17:42:03.660Z"
   },
   {
    "duration": 9,
    "start_time": "2022-06-14T17:42:04.625Z"
   },
   {
    "duration": 5,
    "start_time": "2022-06-14T17:42:04.636Z"
   },
   {
    "duration": 210,
    "start_time": "2022-06-14T17:42:04.643Z"
   },
   {
    "duration": 14,
    "start_time": "2022-06-14T17:42:04.855Z"
   },
   {
    "duration": 254,
    "start_time": "2022-06-14T17:42:04.871Z"
   },
   {
    "duration": 23,
    "start_time": "2022-06-14T17:42:05.127Z"
   },
   {
    "duration": 98,
    "start_time": "2022-06-14T17:42:05.151Z"
   },
   {
    "duration": 13,
    "start_time": "2022-06-14T17:42:28.162Z"
   },
   {
    "duration": 13,
    "start_time": "2022-06-14T17:42:30.485Z"
   },
   {
    "duration": 1030,
    "start_time": "2022-06-14T17:42:34.895Z"
   },
   {
    "duration": 406,
    "start_time": "2022-06-14T17:42:35.928Z"
   },
   {
    "duration": 2,
    "start_time": "2022-06-14T17:42:36.337Z"
   },
   {
    "duration": 148,
    "start_time": "2022-06-14T17:42:36.341Z"
   },
   {
    "duration": 108,
    "start_time": "2022-06-14T17:42:36.491Z"
   },
   {
    "duration": 24,
    "start_time": "2022-06-14T17:42:36.600Z"
   },
   {
    "duration": 112,
    "start_time": "2022-06-14T17:42:36.625Z"
   },
   {
    "duration": 116,
    "start_time": "2022-06-14T17:42:36.738Z"
   },
   {
    "duration": 19,
    "start_time": "2022-06-14T17:42:36.856Z"
   },
   {
    "duration": 68,
    "start_time": "2022-06-14T17:42:36.877Z"
   },
   {
    "duration": 86,
    "start_time": "2022-06-14T17:42:36.947Z"
   },
   {
    "duration": 19,
    "start_time": "2022-06-14T17:42:37.035Z"
   },
   {
    "duration": 12,
    "start_time": "2022-06-14T17:42:37.057Z"
   },
   {
    "duration": 27,
    "start_time": "2022-06-14T17:42:37.070Z"
   },
   {
    "duration": 24,
    "start_time": "2022-06-14T17:42:37.099Z"
   },
   {
    "duration": 12,
    "start_time": "2022-06-14T17:42:37.125Z"
   },
   {
    "duration": 3,
    "start_time": "2022-06-14T17:42:37.138Z"
   },
   {
    "duration": 9,
    "start_time": "2022-06-14T17:42:37.142Z"
   },
   {
    "duration": 1025,
    "start_time": "2022-06-14T17:42:37.152Z"
   },
   {
    "duration": 17,
    "start_time": "2022-06-14T17:42:38.179Z"
   },
   {
    "duration": 6,
    "start_time": "2022-06-14T17:42:38.198Z"
   },
   {
    "duration": 226,
    "start_time": "2022-06-14T17:42:38.206Z"
   },
   {
    "duration": 12,
    "start_time": "2022-06-14T17:42:38.434Z"
   },
   {
    "duration": 270,
    "start_time": "2022-06-14T17:42:38.448Z"
   },
   {
    "duration": 24,
    "start_time": "2022-06-14T17:42:38.719Z"
   },
   {
    "duration": 101,
    "start_time": "2022-06-14T17:42:38.745Z"
   },
   {
    "duration": 256,
    "start_time": "2022-06-14T17:45:54.451Z"
   },
   {
    "duration": 270,
    "start_time": "2022-06-14T17:46:39.997Z"
   },
   {
    "duration": 271,
    "start_time": "2022-06-14T17:46:49.943Z"
   },
   {
    "duration": 1071,
    "start_time": "2022-06-14T17:48:07.029Z"
   },
   {
    "duration": 382,
    "start_time": "2022-06-14T17:48:08.102Z"
   },
   {
    "duration": 3,
    "start_time": "2022-06-14T17:48:08.485Z"
   },
   {
    "duration": 149,
    "start_time": "2022-06-14T17:48:08.489Z"
   },
   {
    "duration": 107,
    "start_time": "2022-06-14T17:48:08.640Z"
   },
   {
    "duration": 24,
    "start_time": "2022-06-14T17:48:08.749Z"
   },
   {
    "duration": 103,
    "start_time": "2022-06-14T17:48:08.774Z"
   },
   {
    "duration": 120,
    "start_time": "2022-06-14T17:48:08.879Z"
   },
   {
    "duration": 22,
    "start_time": "2022-06-14T17:48:09.001Z"
   },
   {
    "duration": 77,
    "start_time": "2022-06-14T17:48:09.024Z"
   },
   {
    "duration": 77,
    "start_time": "2022-06-14T17:48:09.103Z"
   },
   {
    "duration": 32,
    "start_time": "2022-06-14T17:48:09.181Z"
   },
   {
    "duration": 14,
    "start_time": "2022-06-14T17:48:09.215Z"
   },
   {
    "duration": 9,
    "start_time": "2022-06-14T17:48:09.231Z"
   },
   {
    "duration": 28,
    "start_time": "2022-06-14T17:48:09.242Z"
   },
   {
    "duration": 15,
    "start_time": "2022-06-14T17:48:09.294Z"
   },
   {
    "duration": 3,
    "start_time": "2022-06-14T17:48:09.311Z"
   },
   {
    "duration": 12,
    "start_time": "2022-06-14T17:48:09.315Z"
   },
   {
    "duration": 1020,
    "start_time": "2022-06-14T17:48:09.329Z"
   },
   {
    "duration": 9,
    "start_time": "2022-06-14T17:48:10.350Z"
   },
   {
    "duration": 6,
    "start_time": "2022-06-14T17:48:10.361Z"
   },
   {
    "duration": 218,
    "start_time": "2022-06-14T17:48:10.368Z"
   },
   {
    "duration": 16,
    "start_time": "2022-06-14T17:48:10.588Z"
   },
   {
    "duration": 273,
    "start_time": "2022-06-14T17:48:10.606Z"
   },
   {
    "duration": 29,
    "start_time": "2022-06-14T17:48:10.880Z"
   },
   {
    "duration": 94,
    "start_time": "2022-06-14T17:48:10.910Z"
   },
   {
    "duration": 256,
    "start_time": "2022-06-14T17:48:41.953Z"
   },
   {
    "duration": 1028,
    "start_time": "2022-06-14T17:49:07.616Z"
   },
   {
    "duration": 381,
    "start_time": "2022-06-14T17:49:08.646Z"
   },
   {
    "duration": 2,
    "start_time": "2022-06-14T17:49:09.028Z"
   },
   {
    "duration": 186,
    "start_time": "2022-06-14T17:49:09.032Z"
   },
   {
    "duration": 104,
    "start_time": "2022-06-14T17:49:09.220Z"
   },
   {
    "duration": 22,
    "start_time": "2022-06-14T17:49:09.325Z"
   },
   {
    "duration": 103,
    "start_time": "2022-06-14T17:49:09.349Z"
   },
   {
    "duration": 111,
    "start_time": "2022-06-14T17:49:09.454Z"
   },
   {
    "duration": 31,
    "start_time": "2022-06-14T17:49:09.566Z"
   },
   {
    "duration": 57,
    "start_time": "2022-06-14T17:49:09.599Z"
   },
   {
    "duration": 97,
    "start_time": "2022-06-14T17:49:09.658Z"
   },
   {
    "duration": 20,
    "start_time": "2022-06-14T17:49:09.756Z"
   },
   {
    "duration": 33,
    "start_time": "2022-06-14T17:49:09.778Z"
   },
   {
    "duration": 16,
    "start_time": "2022-06-14T17:49:09.813Z"
   },
   {
    "duration": 52,
    "start_time": "2022-06-14T17:49:09.830Z"
   },
   {
    "duration": 23,
    "start_time": "2022-06-14T17:49:09.884Z"
   },
   {
    "duration": 10,
    "start_time": "2022-06-14T17:49:09.909Z"
   },
   {
    "duration": 26,
    "start_time": "2022-06-14T17:49:09.920Z"
   },
   {
    "duration": 922,
    "start_time": "2022-06-14T17:49:09.947Z"
   },
   {
    "duration": 10,
    "start_time": "2022-06-14T17:49:10.871Z"
   },
   {
    "duration": 61,
    "start_time": "2022-06-14T17:49:10.883Z"
   },
   {
    "duration": 240,
    "start_time": "2022-06-14T17:49:10.946Z"
   },
   {
    "duration": 16,
    "start_time": "2022-06-14T17:49:11.187Z"
   },
   {
    "duration": 261,
    "start_time": "2022-06-14T17:49:11.205Z"
   },
   {
    "duration": 28,
    "start_time": "2022-06-14T17:49:11.467Z"
   },
   {
    "duration": 98,
    "start_time": "2022-06-14T17:49:11.497Z"
   },
   {
    "duration": 18,
    "start_time": "2022-06-14T17:49:44.329Z"
   },
   {
    "duration": 16,
    "start_time": "2022-06-14T17:49:56.133Z"
   },
   {
    "duration": 234,
    "start_time": "2022-06-14T17:50:04.324Z"
   },
   {
    "duration": 957,
    "start_time": "2022-06-14T17:50:18.338Z"
   },
   {
    "duration": 381,
    "start_time": "2022-06-14T17:50:19.297Z"
   },
   {
    "duration": 2,
    "start_time": "2022-06-14T17:50:19.680Z"
   },
   {
    "duration": 150,
    "start_time": "2022-06-14T17:50:19.683Z"
   },
   {
    "duration": 107,
    "start_time": "2022-06-14T17:50:19.835Z"
   },
   {
    "duration": 27,
    "start_time": "2022-06-14T17:50:19.944Z"
   },
   {
    "duration": 121,
    "start_time": "2022-06-14T17:50:19.973Z"
   },
   {
    "duration": 111,
    "start_time": "2022-06-14T17:50:20.096Z"
   },
   {
    "duration": 20,
    "start_time": "2022-06-14T17:50:20.209Z"
   },
   {
    "duration": 74,
    "start_time": "2022-06-14T17:50:20.231Z"
   },
   {
    "duration": 75,
    "start_time": "2022-06-14T17:50:20.306Z"
   },
   {
    "duration": 20,
    "start_time": "2022-06-14T17:50:20.394Z"
   },
   {
    "duration": 13,
    "start_time": "2022-06-14T17:50:20.415Z"
   },
   {
    "duration": 12,
    "start_time": "2022-06-14T17:50:20.429Z"
   },
   {
    "duration": 37,
    "start_time": "2022-06-14T17:50:20.443Z"
   },
   {
    "duration": 24,
    "start_time": "2022-06-14T17:50:20.481Z"
   },
   {
    "duration": 10,
    "start_time": "2022-06-14T17:50:20.507Z"
   },
   {
    "duration": 24,
    "start_time": "2022-06-14T17:50:20.518Z"
   },
   {
    "duration": 939,
    "start_time": "2022-06-14T17:50:20.544Z"
   },
   {
    "duration": 12,
    "start_time": "2022-06-14T17:50:21.484Z"
   },
   {
    "duration": 25,
    "start_time": "2022-06-14T17:50:21.497Z"
   },
   {
    "duration": 217,
    "start_time": "2022-06-14T17:50:21.523Z"
   },
   {
    "duration": 12,
    "start_time": "2022-06-14T17:50:21.742Z"
   },
   {
    "duration": 239,
    "start_time": "2022-06-14T17:50:21.756Z"
   },
   {
    "duration": 28,
    "start_time": "2022-06-14T17:50:21.997Z"
   },
   {
    "duration": 106,
    "start_time": "2022-06-14T17:50:22.027Z"
   },
   {
    "duration": 779,
    "start_time": "2022-06-14T17:50:47.229Z"
   },
   {
    "duration": 811,
    "start_time": "2022-06-14T17:52:45.189Z"
   },
   {
    "duration": 760,
    "start_time": "2022-06-14T17:52:58.526Z"
   },
   {
    "duration": 17,
    "start_time": "2022-06-14T17:58:00.093Z"
   },
   {
    "duration": 29,
    "start_time": "2022-06-14T17:58:39.575Z"
   },
   {
    "duration": 995,
    "start_time": "2022-06-14T18:00:01.241Z"
   },
   {
    "duration": 382,
    "start_time": "2022-06-14T18:00:02.238Z"
   },
   {
    "duration": 2,
    "start_time": "2022-06-14T18:00:02.622Z"
   },
   {
    "duration": 150,
    "start_time": "2022-06-14T18:00:02.625Z"
   },
   {
    "duration": 97,
    "start_time": "2022-06-14T18:00:02.776Z"
   },
   {
    "duration": 28,
    "start_time": "2022-06-14T18:00:02.875Z"
   },
   {
    "duration": 99,
    "start_time": "2022-06-14T18:00:02.904Z"
   },
   {
    "duration": 113,
    "start_time": "2022-06-14T18:00:03.005Z"
   },
   {
    "duration": 20,
    "start_time": "2022-06-14T18:00:03.119Z"
   },
   {
    "duration": 83,
    "start_time": "2022-06-14T18:00:03.141Z"
   },
   {
    "duration": 83,
    "start_time": "2022-06-14T18:00:03.225Z"
   },
   {
    "duration": 19,
    "start_time": "2022-06-14T18:00:03.309Z"
   },
   {
    "duration": 16,
    "start_time": "2022-06-14T18:00:03.330Z"
   },
   {
    "duration": 10,
    "start_time": "2022-06-14T18:00:03.347Z"
   },
   {
    "duration": 43,
    "start_time": "2022-06-14T18:00:03.359Z"
   },
   {
    "duration": 14,
    "start_time": "2022-06-14T18:00:03.403Z"
   },
   {
    "duration": 6,
    "start_time": "2022-06-14T18:00:03.418Z"
   },
   {
    "duration": 16,
    "start_time": "2022-06-14T18:00:03.426Z"
   },
   {
    "duration": 980,
    "start_time": "2022-06-14T18:00:03.443Z"
   },
   {
    "duration": 11,
    "start_time": "2022-06-14T18:00:04.425Z"
   },
   {
    "duration": 7,
    "start_time": "2022-06-14T18:00:04.438Z"
   },
   {
    "duration": 215,
    "start_time": "2022-06-14T18:00:04.447Z"
   },
   {
    "duration": 13,
    "start_time": "2022-06-14T18:00:04.664Z"
   },
   {
    "duration": 240,
    "start_time": "2022-06-14T18:00:04.678Z"
   },
   {
    "duration": 24,
    "start_time": "2022-06-14T18:00:04.920Z"
   },
   {
    "duration": 864,
    "start_time": "2022-06-14T18:00:04.946Z"
   },
   {
    "duration": 978,
    "start_time": "2022-06-14T18:04:35.706Z"
   },
   {
    "duration": 372,
    "start_time": "2022-06-14T18:04:36.686Z"
   },
   {
    "duration": 2,
    "start_time": "2022-06-14T18:04:37.060Z"
   },
   {
    "duration": 143,
    "start_time": "2022-06-14T18:04:37.063Z"
   },
   {
    "duration": 116,
    "start_time": "2022-06-14T18:04:37.208Z"
   },
   {
    "duration": 27,
    "start_time": "2022-06-14T18:04:37.326Z"
   },
   {
    "duration": 131,
    "start_time": "2022-06-14T18:04:37.355Z"
   },
   {
    "duration": 138,
    "start_time": "2022-06-14T18:04:37.489Z"
   },
   {
    "duration": 22,
    "start_time": "2022-06-14T18:04:37.628Z"
   },
   {
    "duration": 85,
    "start_time": "2022-06-14T18:04:37.652Z"
   },
   {
    "duration": 86,
    "start_time": "2022-06-14T18:04:37.739Z"
   },
   {
    "duration": 20,
    "start_time": "2022-06-14T18:04:37.826Z"
   },
   {
    "duration": 13,
    "start_time": "2022-06-14T18:04:37.848Z"
   },
   {
    "duration": 32,
    "start_time": "2022-06-14T18:04:37.864Z"
   },
   {
    "duration": 24,
    "start_time": "2022-06-14T18:04:37.898Z"
   },
   {
    "duration": 14,
    "start_time": "2022-06-14T18:04:37.924Z"
   },
   {
    "duration": 3,
    "start_time": "2022-06-14T18:04:37.939Z"
   },
   {
    "duration": 8,
    "start_time": "2022-06-14T18:04:37.944Z"
   },
   {
    "duration": 969,
    "start_time": "2022-06-14T18:04:37.953Z"
   },
   {
    "duration": 8,
    "start_time": "2022-06-14T18:04:38.924Z"
   },
   {
    "duration": 5,
    "start_time": "2022-06-14T18:04:38.934Z"
   },
   {
    "duration": 213,
    "start_time": "2022-06-14T18:04:38.940Z"
   },
   {
    "duration": 12,
    "start_time": "2022-06-14T18:04:39.155Z"
   },
   {
    "duration": 229,
    "start_time": "2022-06-14T18:04:39.168Z"
   },
   {
    "duration": 23,
    "start_time": "2022-06-14T18:04:39.398Z"
   },
   {
    "duration": 757,
    "start_time": "2022-06-14T18:04:39.423Z"
   },
   {
    "duration": 240,
    "start_time": "2022-06-14T18:08:00.201Z"
   },
   {
    "duration": 216,
    "start_time": "2022-06-14T18:08:08.318Z"
   },
   {
    "duration": 87,
    "start_time": "2022-06-14T18:08:28.405Z"
   },
   {
    "duration": 217,
    "start_time": "2022-06-14T18:08:35.248Z"
   },
   {
    "duration": 992,
    "start_time": "2022-06-14T18:09:21.298Z"
   },
   {
    "duration": 426,
    "start_time": "2022-06-14T18:09:22.293Z"
   },
   {
    "duration": 2,
    "start_time": "2022-06-14T18:09:22.721Z"
   },
   {
    "duration": 184,
    "start_time": "2022-06-14T18:09:22.724Z"
   },
   {
    "duration": 115,
    "start_time": "2022-06-14T18:09:22.911Z"
   },
   {
    "duration": 26,
    "start_time": "2022-06-14T18:09:23.028Z"
   },
   {
    "duration": 118,
    "start_time": "2022-06-14T18:09:23.056Z"
   },
   {
    "duration": 130,
    "start_time": "2022-06-14T18:09:23.175Z"
   },
   {
    "duration": 22,
    "start_time": "2022-06-14T18:09:23.306Z"
   },
   {
    "duration": 94,
    "start_time": "2022-06-14T18:09:23.329Z"
   },
   {
    "duration": 100,
    "start_time": "2022-06-14T18:09:23.425Z"
   },
   {
    "duration": 28,
    "start_time": "2022-06-14T18:09:23.527Z"
   },
   {
    "duration": 41,
    "start_time": "2022-06-14T18:09:23.556Z"
   },
   {
    "duration": 16,
    "start_time": "2022-06-14T18:09:23.600Z"
   },
   {
    "duration": 30,
    "start_time": "2022-06-14T18:09:23.617Z"
   },
   {
    "duration": 19,
    "start_time": "2022-06-14T18:09:23.649Z"
   },
   {
    "duration": 3,
    "start_time": "2022-06-14T18:09:23.670Z"
   },
   {
    "duration": 20,
    "start_time": "2022-06-14T18:09:23.675Z"
   },
   {
    "duration": 1011,
    "start_time": "2022-06-14T18:09:23.697Z"
   },
   {
    "duration": 8,
    "start_time": "2022-06-14T18:09:24.710Z"
   },
   {
    "duration": 12,
    "start_time": "2022-06-14T18:09:24.720Z"
   },
   {
    "duration": 234,
    "start_time": "2022-06-14T18:09:24.733Z"
   },
   {
    "duration": 13,
    "start_time": "2022-06-14T18:09:24.969Z"
   },
   {
    "duration": 213,
    "start_time": "2022-06-14T18:09:24.984Z"
   },
   {
    "duration": 23,
    "start_time": "2022-06-14T18:09:25.199Z"
   },
   {
    "duration": 774,
    "start_time": "2022-06-14T18:09:25.224Z"
   },
   {
    "duration": 205,
    "start_time": "2022-06-14T18:10:27.029Z"
   },
   {
    "duration": 252,
    "start_time": "2022-06-14T18:10:37.293Z"
   },
   {
    "duration": 920,
    "start_time": "2022-06-14T18:10:45.649Z"
   },
   {
    "duration": 383,
    "start_time": "2022-06-14T18:10:46.571Z"
   },
   {
    "duration": 3,
    "start_time": "2022-06-14T18:10:46.955Z"
   },
   {
    "duration": 148,
    "start_time": "2022-06-14T18:10:46.960Z"
   },
   {
    "duration": 100,
    "start_time": "2022-06-14T18:10:47.110Z"
   },
   {
    "duration": 24,
    "start_time": "2022-06-14T18:10:47.212Z"
   },
   {
    "duration": 122,
    "start_time": "2022-06-14T18:10:47.237Z"
   },
   {
    "duration": 143,
    "start_time": "2022-06-14T18:10:47.361Z"
   },
   {
    "duration": 25,
    "start_time": "2022-06-14T18:10:47.506Z"
   },
   {
    "duration": 81,
    "start_time": "2022-06-14T18:10:47.534Z"
   },
   {
    "duration": 81,
    "start_time": "2022-06-14T18:10:47.616Z"
   },
   {
    "duration": 19,
    "start_time": "2022-06-14T18:10:47.699Z"
   },
   {
    "duration": 12,
    "start_time": "2022-06-14T18:10:47.719Z"
   },
   {
    "duration": 7,
    "start_time": "2022-06-14T18:10:47.733Z"
   },
   {
    "duration": 22,
    "start_time": "2022-06-14T18:10:47.741Z"
   },
   {
    "duration": 40,
    "start_time": "2022-06-14T18:10:47.764Z"
   },
   {
    "duration": 2,
    "start_time": "2022-06-14T18:10:47.806Z"
   },
   {
    "duration": 9,
    "start_time": "2022-06-14T18:10:47.810Z"
   },
   {
    "duration": 951,
    "start_time": "2022-06-14T18:10:47.820Z"
   },
   {
    "duration": 9,
    "start_time": "2022-06-14T18:10:48.773Z"
   },
   {
    "duration": 13,
    "start_time": "2022-06-14T18:10:48.783Z"
   },
   {
    "duration": 206,
    "start_time": "2022-06-14T18:10:48.797Z"
   },
   {
    "duration": 13,
    "start_time": "2022-06-14T18:10:49.004Z"
   },
   {
    "duration": 209,
    "start_time": "2022-06-14T18:10:49.018Z"
   },
   {
    "duration": 23,
    "start_time": "2022-06-14T18:10:49.228Z"
   },
   {
    "duration": 105,
    "start_time": "2022-06-14T18:10:49.253Z"
   },
   {
    "duration": 976,
    "start_time": "2022-06-14T18:11:26.202Z"
   },
   {
    "duration": 409,
    "start_time": "2022-06-14T18:11:27.180Z"
   },
   {
    "duration": 3,
    "start_time": "2022-06-14T18:11:27.591Z"
   },
   {
    "duration": 163,
    "start_time": "2022-06-14T18:11:27.596Z"
   },
   {
    "duration": 103,
    "start_time": "2022-06-14T18:11:27.761Z"
   },
   {
    "duration": 29,
    "start_time": "2022-06-14T18:11:27.866Z"
   },
   {
    "duration": 97,
    "start_time": "2022-06-14T18:11:27.897Z"
   },
   {
    "duration": 115,
    "start_time": "2022-06-14T18:11:27.996Z"
   },
   {
    "duration": 21,
    "start_time": "2022-06-14T18:11:28.112Z"
   },
   {
    "duration": 81,
    "start_time": "2022-06-14T18:11:28.134Z"
   },
   {
    "duration": 85,
    "start_time": "2022-06-14T18:11:28.217Z"
   },
   {
    "duration": 20,
    "start_time": "2022-06-14T18:11:28.304Z"
   },
   {
    "duration": 12,
    "start_time": "2022-06-14T18:11:28.326Z"
   },
   {
    "duration": 8,
    "start_time": "2022-06-14T18:11:28.340Z"
   },
   {
    "duration": 47,
    "start_time": "2022-06-14T18:11:28.349Z"
   },
   {
    "duration": 13,
    "start_time": "2022-06-14T18:11:28.398Z"
   },
   {
    "duration": 4,
    "start_time": "2022-06-14T18:11:28.413Z"
   },
   {
    "duration": 9,
    "start_time": "2022-06-14T18:11:28.418Z"
   },
   {
    "duration": 938,
    "start_time": "2022-06-14T18:11:28.429Z"
   },
   {
    "duration": 10,
    "start_time": "2022-06-14T18:11:29.369Z"
   },
   {
    "duration": 19,
    "start_time": "2022-06-14T18:11:29.381Z"
   },
   {
    "duration": 213,
    "start_time": "2022-06-14T18:11:29.401Z"
   },
   {
    "duration": 13,
    "start_time": "2022-06-14T18:11:29.616Z"
   },
   {
    "duration": 215,
    "start_time": "2022-06-14T18:11:29.631Z"
   },
   {
    "duration": 26,
    "start_time": "2022-06-14T18:11:29.848Z"
   },
   {
    "duration": 839,
    "start_time": "2022-06-14T18:11:29.876Z"
   },
   {
    "duration": 87,
    "start_time": "2022-06-14T18:24:31.575Z"
   },
   {
    "duration": 308,
    "start_time": "2022-06-14T18:24:39.848Z"
   },
   {
    "duration": 28,
    "start_time": "2022-06-14T18:25:05.649Z"
   },
   {
    "duration": 130,
    "start_time": "2022-06-14T18:25:21.794Z"
   },
   {
    "duration": 125,
    "start_time": "2022-06-14T18:25:34.583Z"
   },
   {
    "duration": 130,
    "start_time": "2022-06-14T18:25:58.029Z"
   },
   {
    "duration": 28,
    "start_time": "2022-06-14T18:26:21.691Z"
   },
   {
    "duration": 150,
    "start_time": "2022-06-14T18:26:26.022Z"
   },
   {
    "duration": 1059,
    "start_time": "2022-06-14T18:26:39.936Z"
   },
   {
    "duration": 0,
    "start_time": "2022-06-14T18:26:40.997Z"
   },
   {
    "duration": 0,
    "start_time": "2022-06-14T18:26:40.998Z"
   },
   {
    "duration": 0,
    "start_time": "2022-06-14T18:26:40.999Z"
   },
   {
    "duration": 0,
    "start_time": "2022-06-14T18:26:41.000Z"
   },
   {
    "duration": 0,
    "start_time": "2022-06-14T18:26:41.001Z"
   },
   {
    "duration": 0,
    "start_time": "2022-06-14T18:26:41.002Z"
   },
   {
    "duration": 0,
    "start_time": "2022-06-14T18:26:41.003Z"
   },
   {
    "duration": 0,
    "start_time": "2022-06-14T18:26:41.004Z"
   },
   {
    "duration": 0,
    "start_time": "2022-06-14T18:26:41.005Z"
   },
   {
    "duration": 0,
    "start_time": "2022-06-14T18:26:41.006Z"
   },
   {
    "duration": 0,
    "start_time": "2022-06-14T18:26:41.007Z"
   },
   {
    "duration": 0,
    "start_time": "2022-06-14T18:26:41.008Z"
   },
   {
    "duration": 0,
    "start_time": "2022-06-14T18:26:41.009Z"
   },
   {
    "duration": 0,
    "start_time": "2022-06-14T18:26:41.010Z"
   },
   {
    "duration": 0,
    "start_time": "2022-06-14T18:26:41.010Z"
   },
   {
    "duration": 0,
    "start_time": "2022-06-14T18:26:41.012Z"
   },
   {
    "duration": 0,
    "start_time": "2022-06-14T18:26:41.012Z"
   },
   {
    "duration": 0,
    "start_time": "2022-06-14T18:26:41.013Z"
   },
   {
    "duration": 0,
    "start_time": "2022-06-14T18:26:41.014Z"
   },
   {
    "duration": 0,
    "start_time": "2022-06-14T18:26:41.015Z"
   },
   {
    "duration": 0,
    "start_time": "2022-06-14T18:26:41.016Z"
   },
   {
    "duration": 0,
    "start_time": "2022-06-14T18:26:41.017Z"
   },
   {
    "duration": 0,
    "start_time": "2022-06-14T18:26:41.018Z"
   },
   {
    "duration": 0,
    "start_time": "2022-06-14T18:26:41.019Z"
   },
   {
    "duration": 0,
    "start_time": "2022-06-14T18:26:41.020Z"
   },
   {
    "duration": 0,
    "start_time": "2022-06-14T18:26:41.021Z"
   },
   {
    "duration": 1059,
    "start_time": "2022-06-14T18:26:57.607Z"
   },
   {
    "duration": 378,
    "start_time": "2022-06-14T18:26:58.668Z"
   },
   {
    "duration": 3,
    "start_time": "2022-06-14T18:26:59.047Z"
   },
   {
    "duration": 162,
    "start_time": "2022-06-14T18:26:59.052Z"
   },
   {
    "duration": 116,
    "start_time": "2022-06-14T18:26:59.217Z"
   },
   {
    "duration": 28,
    "start_time": "2022-06-14T18:26:59.335Z"
   },
   {
    "duration": 115,
    "start_time": "2022-06-14T18:26:59.365Z"
   },
   {
    "duration": 135,
    "start_time": "2022-06-14T18:26:59.482Z"
   },
   {
    "duration": 21,
    "start_time": "2022-06-14T18:26:59.618Z"
   },
   {
    "duration": 85,
    "start_time": "2022-06-14T18:26:59.642Z"
   },
   {
    "duration": 94,
    "start_time": "2022-06-14T18:26:59.729Z"
   },
   {
    "duration": 20,
    "start_time": "2022-06-14T18:26:59.825Z"
   },
   {
    "duration": 25,
    "start_time": "2022-06-14T18:26:59.846Z"
   },
   {
    "duration": 28,
    "start_time": "2022-06-14T18:26:59.873Z"
   },
   {
    "duration": 33,
    "start_time": "2022-06-14T18:26:59.903Z"
   },
   {
    "duration": 15,
    "start_time": "2022-06-14T18:26:59.938Z"
   },
   {
    "duration": 4,
    "start_time": "2022-06-14T18:26:59.955Z"
   },
   {
    "duration": 21,
    "start_time": "2022-06-14T18:26:59.960Z"
   },
   {
    "duration": 1021,
    "start_time": "2022-06-14T18:26:59.982Z"
   },
   {
    "duration": 9,
    "start_time": "2022-06-14T18:27:01.004Z"
   },
   {
    "duration": 5,
    "start_time": "2022-06-14T18:27:01.015Z"
   },
   {
    "duration": 212,
    "start_time": "2022-06-14T18:27:01.022Z"
   },
   {
    "duration": 13,
    "start_time": "2022-06-14T18:27:01.236Z"
   },
   {
    "duration": 215,
    "start_time": "2022-06-14T18:27:01.250Z"
   },
   {
    "duration": 30,
    "start_time": "2022-06-14T18:27:01.466Z"
   },
   {
    "duration": 810,
    "start_time": "2022-06-14T18:27:01.497Z"
   },
   {
    "duration": 95,
    "start_time": "2022-06-14T18:27:02.309Z"
   },
   {
    "duration": 154,
    "start_time": "2022-06-14T18:28:01.582Z"
   },
   {
    "duration": 129,
    "start_time": "2022-06-14T18:28:07.881Z"
   },
   {
    "duration": 126,
    "start_time": "2022-06-14T18:28:14.133Z"
   },
   {
    "duration": 1062,
    "start_time": "2022-06-14T18:28:25.584Z"
   },
   {
    "duration": 363,
    "start_time": "2022-06-14T18:28:26.648Z"
   },
   {
    "duration": 2,
    "start_time": "2022-06-14T18:28:27.014Z"
   },
   {
    "duration": 144,
    "start_time": "2022-06-14T18:28:27.019Z"
   },
   {
    "duration": 97,
    "start_time": "2022-06-14T18:28:27.165Z"
   },
   {
    "duration": 35,
    "start_time": "2022-06-14T18:28:27.263Z"
   },
   {
    "duration": 94,
    "start_time": "2022-06-14T18:28:27.300Z"
   },
   {
    "duration": 140,
    "start_time": "2022-06-14T18:28:27.397Z"
   },
   {
    "duration": 26,
    "start_time": "2022-06-14T18:28:27.539Z"
   },
   {
    "duration": 92,
    "start_time": "2022-06-14T18:28:27.567Z"
   },
   {
    "duration": 89,
    "start_time": "2022-06-14T18:28:27.660Z"
   },
   {
    "duration": 21,
    "start_time": "2022-06-14T18:28:27.751Z"
   },
   {
    "duration": 30,
    "start_time": "2022-06-14T18:28:27.775Z"
   },
   {
    "duration": 9,
    "start_time": "2022-06-14T18:28:27.807Z"
   },
   {
    "duration": 24,
    "start_time": "2022-06-14T18:28:27.817Z"
   },
   {
    "duration": 14,
    "start_time": "2022-06-14T18:28:27.842Z"
   },
   {
    "duration": 3,
    "start_time": "2022-06-14T18:28:27.857Z"
   },
   {
    "duration": 37,
    "start_time": "2022-06-14T18:28:27.861Z"
   },
   {
    "duration": 970,
    "start_time": "2022-06-14T18:28:27.900Z"
   },
   {
    "duration": 10,
    "start_time": "2022-06-14T18:28:28.871Z"
   },
   {
    "duration": 16,
    "start_time": "2022-06-14T18:28:28.882Z"
   },
   {
    "duration": 216,
    "start_time": "2022-06-14T18:28:28.899Z"
   },
   {
    "duration": 13,
    "start_time": "2022-06-14T18:28:29.117Z"
   },
   {
    "duration": 229,
    "start_time": "2022-06-14T18:28:29.132Z"
   },
   {
    "duration": 24,
    "start_time": "2022-06-14T18:28:29.363Z"
   },
   {
    "duration": 822,
    "start_time": "2022-06-14T18:28:29.395Z"
   },
   {
    "duration": 99,
    "start_time": "2022-06-14T18:28:30.219Z"
   },
   {
    "duration": 11,
    "start_time": "2022-06-14T18:29:03.094Z"
   },
   {
    "duration": 132,
    "start_time": "2022-06-14T18:29:39.881Z"
   },
   {
    "duration": 130,
    "start_time": "2022-06-14T18:29:51.103Z"
   },
   {
    "duration": 130,
    "start_time": "2022-06-14T18:30:12.436Z"
   },
   {
    "duration": 1042,
    "start_time": "2022-06-14T18:30:18.950Z"
   },
   {
    "duration": 391,
    "start_time": "2022-06-14T18:30:19.994Z"
   },
   {
    "duration": 2,
    "start_time": "2022-06-14T18:30:20.386Z"
   },
   {
    "duration": 156,
    "start_time": "2022-06-14T18:30:20.390Z"
   },
   {
    "duration": 109,
    "start_time": "2022-06-14T18:30:20.548Z"
   },
   {
    "duration": 23,
    "start_time": "2022-06-14T18:30:20.658Z"
   },
   {
    "duration": 92,
    "start_time": "2022-06-14T18:30:20.693Z"
   },
   {
    "duration": 122,
    "start_time": "2022-06-14T18:30:20.787Z"
   },
   {
    "duration": 21,
    "start_time": "2022-06-14T18:30:20.910Z"
   },
   {
    "duration": 77,
    "start_time": "2022-06-14T18:30:20.932Z"
   },
   {
    "duration": 89,
    "start_time": "2022-06-14T18:30:21.011Z"
   },
   {
    "duration": 21,
    "start_time": "2022-06-14T18:30:21.101Z"
   },
   {
    "duration": 14,
    "start_time": "2022-06-14T18:30:21.124Z"
   },
   {
    "duration": 9,
    "start_time": "2022-06-14T18:30:21.141Z"
   },
   {
    "duration": 47,
    "start_time": "2022-06-14T18:30:21.151Z"
   },
   {
    "duration": 14,
    "start_time": "2022-06-14T18:30:21.199Z"
   },
   {
    "duration": 3,
    "start_time": "2022-06-14T18:30:21.214Z"
   },
   {
    "duration": 8,
    "start_time": "2022-06-14T18:30:21.218Z"
   },
   {
    "duration": 994,
    "start_time": "2022-06-14T18:30:21.228Z"
   },
   {
    "duration": 9,
    "start_time": "2022-06-14T18:30:22.224Z"
   },
   {
    "duration": 7,
    "start_time": "2022-06-14T18:30:22.234Z"
   },
   {
    "duration": 215,
    "start_time": "2022-06-14T18:30:22.242Z"
   },
   {
    "duration": 14,
    "start_time": "2022-06-14T18:30:22.459Z"
   },
   {
    "duration": 290,
    "start_time": "2022-06-14T18:30:22.475Z"
   },
   {
    "duration": 36,
    "start_time": "2022-06-14T18:30:22.767Z"
   },
   {
    "duration": 831,
    "start_time": "2022-06-14T18:30:22.805Z"
   },
   {
    "duration": 287,
    "start_time": "2022-06-14T18:30:23.638Z"
   },
   {
    "duration": 3,
    "start_time": "2022-06-14T18:32:03.294Z"
   },
   {
    "duration": 327,
    "start_time": "2022-06-14T18:32:21.889Z"
   },
   {
    "duration": 9,
    "start_time": "2022-06-14T18:34:45.757Z"
   },
   {
    "duration": 11,
    "start_time": "2022-06-14T18:34:51.060Z"
   },
   {
    "duration": 3,
    "start_time": "2022-06-14T18:35:14.936Z"
   },
   {
    "duration": 199,
    "start_time": "2022-06-14T18:35:59.843Z"
   },
   {
    "duration": 155,
    "start_time": "2022-06-14T18:36:15.888Z"
   },
   {
    "duration": 275,
    "start_time": "2022-06-14T18:36:23.401Z"
   },
   {
    "duration": 110,
    "start_time": "2022-06-14T18:36:50.244Z"
   },
   {
    "duration": 122,
    "start_time": "2022-06-14T18:37:01.958Z"
   },
   {
    "duration": 137,
    "start_time": "2022-06-14T18:37:07.294Z"
   },
   {
    "duration": 140,
    "start_time": "2022-06-14T18:37:15.992Z"
   },
   {
    "duration": 130,
    "start_time": "2022-06-14T18:37:31.087Z"
   },
   {
    "duration": 149,
    "start_time": "2022-06-14T18:37:39.377Z"
   },
   {
    "duration": 125,
    "start_time": "2022-06-14T18:37:56.892Z"
   },
   {
    "duration": 194,
    "start_time": "2022-06-14T18:40:05.798Z"
   },
   {
    "duration": 216,
    "start_time": "2022-06-14T18:40:15.582Z"
   },
   {
    "duration": 244,
    "start_time": "2022-06-14T18:41:31.494Z"
   },
   {
    "duration": 131,
    "start_time": "2022-06-14T18:41:41.346Z"
   },
   {
    "duration": 148,
    "start_time": "2022-06-14T18:41:47.564Z"
   },
   {
    "duration": 35,
    "start_time": "2022-06-14T18:43:26.957Z"
   },
   {
    "duration": 132,
    "start_time": "2022-06-14T18:43:36.779Z"
   },
   {
    "duration": 134,
    "start_time": "2022-06-14T18:43:45.635Z"
   },
   {
    "duration": 119,
    "start_time": "2022-06-14T18:44:08.687Z"
   },
   {
    "duration": 1358,
    "start_time": "2022-06-15T15:25:35.754Z"
   },
   {
    "duration": 1168,
    "start_time": "2022-06-15T15:25:37.114Z"
   },
   {
    "duration": 3,
    "start_time": "2022-06-15T15:25:38.284Z"
   },
   {
    "duration": 182,
    "start_time": "2022-06-15T15:25:38.289Z"
   },
   {
    "duration": 123,
    "start_time": "2022-06-15T15:25:38.473Z"
   },
   {
    "duration": 27,
    "start_time": "2022-06-15T15:25:38.598Z"
   },
   {
    "duration": 131,
    "start_time": "2022-06-15T15:25:38.627Z"
   },
   {
    "duration": 143,
    "start_time": "2022-06-15T15:25:38.760Z"
   },
   {
    "duration": 25,
    "start_time": "2022-06-15T15:25:38.905Z"
   },
   {
    "duration": 92,
    "start_time": "2022-06-15T15:25:38.932Z"
   },
   {
    "duration": 111,
    "start_time": "2022-06-15T15:25:39.027Z"
   },
   {
    "duration": 33,
    "start_time": "2022-06-15T15:25:39.140Z"
   },
   {
    "duration": 17,
    "start_time": "2022-06-15T15:25:39.176Z"
   },
   {
    "duration": 25,
    "start_time": "2022-06-15T15:25:39.197Z"
   },
   {
    "duration": 59,
    "start_time": "2022-06-15T15:25:39.224Z"
   },
   {
    "duration": 19,
    "start_time": "2022-06-15T15:25:39.286Z"
   },
   {
    "duration": 26,
    "start_time": "2022-06-15T15:25:39.307Z"
   },
   {
    "duration": 27,
    "start_time": "2022-06-15T15:25:39.335Z"
   },
   {
    "duration": 1092,
    "start_time": "2022-06-15T15:25:39.364Z"
   },
   {
    "duration": 12,
    "start_time": "2022-06-15T15:25:40.458Z"
   },
   {
    "duration": 7,
    "start_time": "2022-06-15T15:25:40.472Z"
   },
   {
    "duration": 249,
    "start_time": "2022-06-15T15:25:40.481Z"
   },
   {
    "duration": 16,
    "start_time": "2022-06-15T15:25:40.731Z"
   },
   {
    "duration": 245,
    "start_time": "2022-06-15T15:25:40.758Z"
   },
   {
    "duration": 29,
    "start_time": "2022-06-15T15:25:41.005Z"
   },
   {
    "duration": 931,
    "start_time": "2022-06-15T15:25:41.037Z"
   },
   {
    "duration": 212,
    "start_time": "2022-06-15T15:25:41.970Z"
   },
   {
    "duration": 4,
    "start_time": "2022-06-15T15:25:42.184Z"
   },
   {
    "duration": 104,
    "start_time": "2022-06-15T15:30:49.248Z"
   },
   {
    "duration": 11,
    "start_time": "2022-06-15T15:31:24.392Z"
   },
   {
    "duration": 155,
    "start_time": "2022-06-15T15:32:10.480Z"
   },
   {
    "duration": 134,
    "start_time": "2022-06-15T15:33:20.293Z"
   },
   {
    "duration": 155,
    "start_time": "2022-06-15T15:33:26.570Z"
   },
   {
    "duration": 136,
    "start_time": "2022-06-15T15:33:59.769Z"
   },
   {
    "duration": 24,
    "start_time": "2022-06-15T15:36:07.062Z"
   },
   {
    "duration": 36,
    "start_time": "2022-06-15T15:36:36.781Z"
   },
   {
    "duration": 14,
    "start_time": "2022-06-15T15:36:48.977Z"
   },
   {
    "duration": 21,
    "start_time": "2022-06-15T15:38:03.391Z"
   },
   {
    "duration": 37,
    "start_time": "2022-06-15T15:38:50.403Z"
   },
   {
    "duration": 17,
    "start_time": "2022-06-15T15:38:56.438Z"
   },
   {
    "duration": 363,
    "start_time": "2022-06-15T15:39:13.237Z"
   },
   {
    "duration": 30,
    "start_time": "2022-06-15T15:39:20.738Z"
   },
   {
    "duration": 11,
    "start_time": "2022-06-15T15:42:38.847Z"
   },
   {
    "duration": 865,
    "start_time": "2022-06-15T15:42:48.842Z"
   },
   {
    "duration": 184,
    "start_time": "2022-06-15T15:42:52.578Z"
   },
   {
    "duration": 35,
    "start_time": "2022-06-15T15:44:30.709Z"
   },
   {
    "duration": 27,
    "start_time": "2022-06-15T15:44:38.187Z"
   },
   {
    "duration": 475,
    "start_time": "2022-06-15T15:44:45.855Z"
   },
   {
    "duration": 195,
    "start_time": "2022-06-15T15:45:12.241Z"
   },
   {
    "duration": 27,
    "start_time": "2022-06-15T15:46:03.069Z"
   },
   {
    "duration": 375,
    "start_time": "2022-06-15T15:46:08.837Z"
   },
   {
    "duration": 472,
    "start_time": "2022-06-15T15:46:30.212Z"
   },
   {
    "duration": 377,
    "start_time": "2022-06-15T15:46:34.663Z"
   },
   {
    "duration": 336,
    "start_time": "2022-06-15T15:47:07.856Z"
   },
   {
    "duration": 313,
    "start_time": "2022-06-15T15:47:13.238Z"
   },
   {
    "duration": 166,
    "start_time": "2022-06-15T15:49:58.421Z"
   },
   {
    "duration": 3,
    "start_time": "2022-06-15T15:51:07.266Z"
   },
   {
    "duration": 165,
    "start_time": "2022-06-15T15:51:13.090Z"
   },
   {
    "duration": 4,
    "start_time": "2022-06-15T15:51:15.607Z"
   },
   {
    "duration": 346,
    "start_time": "2022-06-15T15:51:16.144Z"
   },
   {
    "duration": 524,
    "start_time": "2022-06-15T15:51:22.855Z"
   },
   {
    "duration": 360,
    "start_time": "2022-06-15T15:52:07.294Z"
   },
   {
    "duration": 376,
    "start_time": "2022-06-15T15:52:14.437Z"
   },
   {
    "duration": 343,
    "start_time": "2022-06-15T15:53:54.169Z"
   },
   {
    "duration": 366,
    "start_time": "2022-06-15T15:54:04.227Z"
   },
   {
    "duration": 478,
    "start_time": "2022-06-15T15:55:39.154Z"
   },
   {
    "duration": 362,
    "start_time": "2022-06-15T15:55:51.431Z"
   },
   {
    "duration": 353,
    "start_time": "2022-06-15T15:58:24.784Z"
   },
   {
    "duration": 26,
    "start_time": "2022-06-15T15:59:05.967Z"
   },
   {
    "duration": 360,
    "start_time": "2022-06-15T15:59:09.746Z"
   },
   {
    "duration": 12,
    "start_time": "2022-06-15T16:00:51.915Z"
   },
   {
    "duration": 177,
    "start_time": "2022-06-15T16:00:57.693Z"
   },
   {
    "duration": 172,
    "start_time": "2022-06-15T16:01:15.740Z"
   },
   {
    "duration": 1128,
    "start_time": "2022-06-15T16:01:28.774Z"
   },
   {
    "duration": 442,
    "start_time": "2022-06-15T16:01:29.904Z"
   },
   {
    "duration": 3,
    "start_time": "2022-06-15T16:01:30.348Z"
   },
   {
    "duration": 249,
    "start_time": "2022-06-15T16:01:30.353Z"
   },
   {
    "duration": 115,
    "start_time": "2022-06-15T16:01:30.607Z"
   },
   {
    "duration": 37,
    "start_time": "2022-06-15T16:01:30.723Z"
   },
   {
    "duration": 114,
    "start_time": "2022-06-15T16:01:30.762Z"
   },
   {
    "duration": 132,
    "start_time": "2022-06-15T16:01:30.878Z"
   },
   {
    "duration": 27,
    "start_time": "2022-06-15T16:01:31.012Z"
   },
   {
    "duration": 76,
    "start_time": "2022-06-15T16:01:31.058Z"
   },
   {
    "duration": 111,
    "start_time": "2022-06-15T16:01:31.136Z"
   },
   {
    "duration": 23,
    "start_time": "2022-06-15T16:01:31.249Z"
   },
   {
    "duration": 24,
    "start_time": "2022-06-15T16:01:31.274Z"
   },
   {
    "duration": 45,
    "start_time": "2022-06-15T16:01:31.300Z"
   },
   {
    "duration": 65,
    "start_time": "2022-06-15T16:01:31.347Z"
   },
   {
    "duration": 32,
    "start_time": "2022-06-15T16:01:31.413Z"
   },
   {
    "duration": 56,
    "start_time": "2022-06-15T16:01:31.447Z"
   },
   {
    "duration": 38,
    "start_time": "2022-06-15T16:01:31.505Z"
   },
   {
    "duration": 1205,
    "start_time": "2022-06-15T16:01:31.545Z"
   },
   {
    "duration": 15,
    "start_time": "2022-06-15T16:01:32.752Z"
   },
   {
    "duration": 6,
    "start_time": "2022-06-15T16:01:32.769Z"
   },
   {
    "duration": 245,
    "start_time": "2022-06-15T16:01:32.776Z"
   },
   {
    "duration": 15,
    "start_time": "2022-06-15T16:01:33.022Z"
   },
   {
    "duration": 264,
    "start_time": "2022-06-15T16:01:33.039Z"
   },
   {
    "duration": 29,
    "start_time": "2022-06-15T16:01:33.305Z"
   },
   {
    "duration": 898,
    "start_time": "2022-06-15T16:01:33.336Z"
   },
   {
    "duration": 5,
    "start_time": "2022-06-15T16:01:34.236Z"
   },
   {
    "duration": 376,
    "start_time": "2022-06-15T16:01:34.243Z"
   },
   {
    "duration": 3,
    "start_time": "2022-06-15T16:01:34.621Z"
   },
   {
    "duration": 210,
    "start_time": "2022-06-15T16:01:34.626Z"
   },
   {
    "duration": 329,
    "start_time": "2022-06-15T16:02:13.050Z"
   },
   {
    "duration": 409,
    "start_time": "2022-06-15T16:02:18.429Z"
   },
   {
    "duration": 307,
    "start_time": "2022-06-15T16:02:34.977Z"
   },
   {
    "duration": 302,
    "start_time": "2022-06-15T16:02:48.077Z"
   },
   {
    "duration": 260,
    "start_time": "2022-06-15T16:03:51.948Z"
   },
   {
    "duration": 289,
    "start_time": "2022-06-15T16:04:34.437Z"
   },
   {
    "duration": 300,
    "start_time": "2022-06-15T16:04:38.785Z"
   },
   {
    "duration": 387,
    "start_time": "2022-06-15T16:04:51.063Z"
   },
   {
    "duration": 167,
    "start_time": "2022-06-15T16:05:06.740Z"
   },
   {
    "duration": 981,
    "start_time": "2022-06-15T16:06:17.452Z"
   },
   {
    "duration": 341,
    "start_time": "2022-06-15T16:06:24.970Z"
   },
   {
    "duration": 302,
    "start_time": "2022-06-15T16:06:58.672Z"
   },
   {
    "duration": 407,
    "start_time": "2022-06-15T16:07:03.482Z"
   },
   {
    "duration": 396,
    "start_time": "2022-06-15T16:07:12.268Z"
   },
   {
    "duration": 329,
    "start_time": "2022-06-15T16:11:45.510Z"
   },
   {
    "duration": 314,
    "start_time": "2022-06-15T16:12:10.011Z"
   },
   {
    "duration": 312,
    "start_time": "2022-06-15T16:12:16.506Z"
   },
   {
    "duration": 297,
    "start_time": "2022-06-15T16:12:22.856Z"
   },
   {
    "duration": 294,
    "start_time": "2022-06-15T16:12:33.299Z"
   },
   {
    "duration": 389,
    "start_time": "2022-06-15T16:12:54.313Z"
   },
   {
    "duration": 326,
    "start_time": "2022-06-15T16:13:00.587Z"
   },
   {
    "duration": 304,
    "start_time": "2022-06-15T16:13:06.918Z"
   },
   {
    "duration": 297,
    "start_time": "2022-06-15T16:13:19.488Z"
   },
   {
    "duration": 295,
    "start_time": "2022-06-15T16:13:58.825Z"
   },
   {
    "duration": 420,
    "start_time": "2022-06-15T16:15:25.071Z"
   },
   {
    "duration": 10,
    "start_time": "2022-06-15T16:41:58.914Z"
   },
   {
    "duration": 7,
    "start_time": "2022-06-15T16:42:01.641Z"
   },
   {
    "duration": 5,
    "start_time": "2022-06-15T16:42:02.244Z"
   },
   {
    "duration": 23,
    "start_time": "2022-06-15T16:46:42.778Z"
   },
   {
    "duration": 1293,
    "start_time": "2022-06-15T16:47:10.837Z"
   },
   {
    "duration": 1239,
    "start_time": "2022-06-15T16:47:12.133Z"
   },
   {
    "duration": 4,
    "start_time": "2022-06-15T16:47:13.375Z"
   },
   {
    "duration": 213,
    "start_time": "2022-06-15T16:47:13.381Z"
   },
   {
    "duration": 138,
    "start_time": "2022-06-15T16:47:13.597Z"
   },
   {
    "duration": 52,
    "start_time": "2022-06-15T16:47:13.738Z"
   },
   {
    "duration": 144,
    "start_time": "2022-06-15T16:47:13.792Z"
   },
   {
    "duration": 167,
    "start_time": "2022-06-15T16:47:13.937Z"
   },
   {
    "duration": 25,
    "start_time": "2022-06-15T16:47:14.105Z"
   },
   {
    "duration": 146,
    "start_time": "2022-06-15T16:47:14.133Z"
   },
   {
    "duration": 118,
    "start_time": "2022-06-15T16:47:14.282Z"
   },
   {
    "duration": 24,
    "start_time": "2022-06-15T16:47:14.402Z"
   },
   {
    "duration": 30,
    "start_time": "2022-06-15T16:47:14.428Z"
   },
   {
    "duration": 10,
    "start_time": "2022-06-15T16:47:14.461Z"
   },
   {
    "duration": 44,
    "start_time": "2022-06-15T16:47:14.473Z"
   },
   {
    "duration": 15,
    "start_time": "2022-06-15T16:47:14.519Z"
   },
   {
    "duration": 25,
    "start_time": "2022-06-15T16:47:14.536Z"
   },
   {
    "duration": 19,
    "start_time": "2022-06-15T16:47:14.564Z"
   },
   {
    "duration": 1318,
    "start_time": "2022-06-15T16:47:14.585Z"
   },
   {
    "duration": 11,
    "start_time": "2022-06-15T16:47:15.906Z"
   },
   {
    "duration": 8,
    "start_time": "2022-06-15T16:47:15.918Z"
   },
   {
    "duration": 284,
    "start_time": "2022-06-15T16:47:15.928Z"
   },
   {
    "duration": 20,
    "start_time": "2022-06-15T16:47:16.214Z"
   },
   {
    "duration": 289,
    "start_time": "2022-06-15T16:47:16.236Z"
   },
   {
    "duration": 39,
    "start_time": "2022-06-15T16:47:16.527Z"
   },
   {
    "duration": 881,
    "start_time": "2022-06-15T16:47:16.570Z"
   },
   {
    "duration": 5,
    "start_time": "2022-06-15T16:47:17.459Z"
   },
   {
    "duration": 346,
    "start_time": "2022-06-15T16:47:17.469Z"
   },
   {
    "duration": 355,
    "start_time": "2022-06-15T16:47:17.817Z"
   },
   {
    "duration": 339,
    "start_time": "2022-06-15T16:47:18.175Z"
   },
   {
    "duration": 20,
    "start_time": "2022-06-15T16:47:18.515Z"
   },
   {
    "duration": 210,
    "start_time": "2022-06-15T16:47:18.537Z"
   },
   {
    "duration": 0,
    "start_time": "2022-06-15T16:47:18.748Z"
   },
   {
    "duration": 9,
    "start_time": "2022-06-15T16:47:29.690Z"
   },
   {
    "duration": 9,
    "start_time": "2022-06-15T16:48:35.840Z"
   },
   {
    "duration": 10,
    "start_time": "2022-06-15T16:49:05.877Z"
   },
   {
    "duration": 12,
    "start_time": "2022-06-15T16:49:07.303Z"
   },
   {
    "duration": 11,
    "start_time": "2022-06-15T16:51:14.261Z"
   },
   {
    "duration": 16,
    "start_time": "2022-06-15T16:51:30.963Z"
   },
   {
    "duration": 10,
    "start_time": "2022-06-15T18:06:53.289Z"
   },
   {
    "duration": 16,
    "start_time": "2022-06-15T18:09:27.428Z"
   },
   {
    "duration": 16,
    "start_time": "2022-06-15T18:09:54.030Z"
   },
   {
    "duration": 594,
    "start_time": "2022-06-15T18:17:07.130Z"
   },
   {
    "duration": 11,
    "start_time": "2022-06-15T18:21:17.041Z"
   },
   {
    "duration": 1196,
    "start_time": "2022-06-15T18:21:45.079Z"
   },
   {
    "duration": 1232,
    "start_time": "2022-06-15T18:21:46.277Z"
   },
   {
    "duration": 3,
    "start_time": "2022-06-15T18:21:47.511Z"
   },
   {
    "duration": 175,
    "start_time": "2022-06-15T18:21:47.515Z"
   },
   {
    "duration": 127,
    "start_time": "2022-06-15T18:21:47.693Z"
   },
   {
    "duration": 39,
    "start_time": "2022-06-15T18:21:47.823Z"
   },
   {
    "duration": 126,
    "start_time": "2022-06-15T18:21:47.864Z"
   },
   {
    "duration": 86,
    "start_time": "2022-06-15T18:21:47.991Z"
   },
   {
    "duration": 29,
    "start_time": "2022-06-15T18:21:48.079Z"
   },
   {
    "duration": 106,
    "start_time": "2022-06-15T18:21:48.111Z"
   },
   {
    "duration": 164,
    "start_time": "2022-06-15T18:21:48.220Z"
   },
   {
    "duration": 25,
    "start_time": "2022-06-15T18:21:48.386Z"
   },
   {
    "duration": 19,
    "start_time": "2022-06-15T18:21:48.413Z"
   },
   {
    "duration": 32,
    "start_time": "2022-06-15T18:21:48.435Z"
   },
   {
    "duration": 63,
    "start_time": "2022-06-15T18:21:48.470Z"
   },
   {
    "duration": 22,
    "start_time": "2022-06-15T18:21:48.536Z"
   },
   {
    "duration": 23,
    "start_time": "2022-06-15T18:21:53.243Z"
   },
   {
    "duration": 26,
    "start_time": "2022-06-15T18:21:55.986Z"
   },
   {
    "duration": 5,
    "start_time": "2022-06-15T18:21:56.459Z"
   },
   {
    "duration": 16,
    "start_time": "2022-06-15T18:21:59.743Z"
   },
   {
    "duration": 5,
    "start_time": "2022-06-15T18:22:00.286Z"
   },
   {
    "duration": 9,
    "start_time": "2022-06-15T18:22:00.719Z"
   },
   {
    "duration": 8,
    "start_time": "2022-06-15T18:23:30.870Z"
   },
   {
    "duration": 672,
    "start_time": "2022-06-15T18:23:32.127Z"
   },
   {
    "duration": 15,
    "start_time": "2022-06-15T18:23:33.074Z"
   },
   {
    "duration": 8,
    "start_time": "2022-06-15T18:24:37.947Z"
   },
   {
    "duration": 2328,
    "start_time": "2022-06-15T18:24:40.322Z"
   },
   {
    "duration": 20,
    "start_time": "2022-06-15T18:24:42.728Z"
   },
   {
    "duration": 1157,
    "start_time": "2022-06-15T18:25:13.192Z"
   },
   {
    "duration": 534,
    "start_time": "2022-06-15T18:25:14.351Z"
   },
   {
    "duration": 3,
    "start_time": "2022-06-15T18:25:14.887Z"
   },
   {
    "duration": 222,
    "start_time": "2022-06-15T18:25:14.893Z"
   },
   {
    "duration": 124,
    "start_time": "2022-06-15T18:25:15.117Z"
   },
   {
    "duration": 39,
    "start_time": "2022-06-15T18:25:15.243Z"
   },
   {
    "duration": 143,
    "start_time": "2022-06-15T18:25:15.285Z"
   },
   {
    "duration": 105,
    "start_time": "2022-06-15T18:25:15.430Z"
   },
   {
    "duration": 58,
    "start_time": "2022-06-15T18:25:15.538Z"
   },
   {
    "duration": 105,
    "start_time": "2022-06-15T18:25:15.599Z"
   },
   {
    "duration": 136,
    "start_time": "2022-06-15T18:25:15.707Z"
   },
   {
    "duration": 34,
    "start_time": "2022-06-15T18:25:15.846Z"
   },
   {
    "duration": 20,
    "start_time": "2022-06-15T18:25:15.882Z"
   },
   {
    "duration": 18,
    "start_time": "2022-06-15T18:25:15.906Z"
   },
   {
    "duration": 85,
    "start_time": "2022-06-15T18:25:15.927Z"
   },
   {
    "duration": 18,
    "start_time": "2022-06-15T18:25:16.013Z"
   },
   {
    "duration": 6,
    "start_time": "2022-06-15T18:25:16.033Z"
   },
   {
    "duration": 13,
    "start_time": "2022-06-15T18:25:16.041Z"
   },
   {
    "duration": 1160,
    "start_time": "2022-06-15T18:25:16.059Z"
   },
   {
    "duration": 10,
    "start_time": "2022-06-15T18:25:17.221Z"
   },
   {
    "duration": 7,
    "start_time": "2022-06-15T18:25:17.233Z"
   },
   {
    "duration": 160,
    "start_time": "2022-06-15T18:25:17.259Z"
   },
   {
    "duration": 0,
    "start_time": "2022-06-15T18:25:17.421Z"
   },
   {
    "duration": 0,
    "start_time": "2022-06-15T18:25:17.422Z"
   },
   {
    "duration": 0,
    "start_time": "2022-06-15T18:25:17.423Z"
   },
   {
    "duration": 0,
    "start_time": "2022-06-15T18:25:17.424Z"
   },
   {
    "duration": 0,
    "start_time": "2022-06-15T18:25:17.426Z"
   },
   {
    "duration": 0,
    "start_time": "2022-06-15T18:25:17.427Z"
   },
   {
    "duration": 0,
    "start_time": "2022-06-15T18:25:17.428Z"
   },
   {
    "duration": 1,
    "start_time": "2022-06-15T18:25:17.429Z"
   },
   {
    "duration": 0,
    "start_time": "2022-06-15T18:25:17.431Z"
   },
   {
    "duration": 0,
    "start_time": "2022-06-15T18:25:17.432Z"
   },
   {
    "duration": 0,
    "start_time": "2022-06-15T18:25:17.458Z"
   },
   {
    "duration": 1214,
    "start_time": "2022-06-15T18:25:44.322Z"
   },
   {
    "duration": 462,
    "start_time": "2022-06-15T18:25:45.538Z"
   },
   {
    "duration": 3,
    "start_time": "2022-06-15T18:25:46.001Z"
   },
   {
    "duration": 200,
    "start_time": "2022-06-15T18:25:46.006Z"
   },
   {
    "duration": 186,
    "start_time": "2022-06-15T18:25:46.209Z"
   },
   {
    "duration": 69,
    "start_time": "2022-06-15T18:25:46.398Z"
   },
   {
    "duration": 140,
    "start_time": "2022-06-15T18:25:46.470Z"
   },
   {
    "duration": 85,
    "start_time": "2022-06-15T18:25:46.612Z"
   },
   {
    "duration": 37,
    "start_time": "2022-06-15T18:25:46.699Z"
   },
   {
    "duration": 83,
    "start_time": "2022-06-15T18:25:46.759Z"
   },
   {
    "duration": 134,
    "start_time": "2022-06-15T18:25:46.844Z"
   },
   {
    "duration": 39,
    "start_time": "2022-06-15T18:25:46.980Z"
   },
   {
    "duration": 48,
    "start_time": "2022-06-15T18:25:47.021Z"
   },
   {
    "duration": 11,
    "start_time": "2022-06-15T18:25:47.071Z"
   },
   {
    "duration": 33,
    "start_time": "2022-06-15T18:25:47.084Z"
   },
   {
    "duration": 51,
    "start_time": "2022-06-15T18:25:47.118Z"
   },
   {
    "duration": 4,
    "start_time": "2022-06-15T18:25:47.172Z"
   },
   {
    "duration": 10,
    "start_time": "2022-06-15T18:25:47.177Z"
   },
   {
    "duration": 1150,
    "start_time": "2022-06-15T18:25:47.189Z"
   },
   {
    "duration": 18,
    "start_time": "2022-06-15T18:25:48.341Z"
   },
   {
    "duration": 9,
    "start_time": "2022-06-15T18:25:48.362Z"
   },
   {
    "duration": 265,
    "start_time": "2022-06-15T18:25:48.373Z"
   },
   {
    "duration": 18,
    "start_time": "2022-06-15T18:25:48.640Z"
   },
   {
    "duration": 111,
    "start_time": "2022-06-15T18:25:48.661Z"
   },
   {
    "duration": 0,
    "start_time": "2022-06-15T18:25:48.774Z"
   },
   {
    "duration": 0,
    "start_time": "2022-06-15T18:25:48.775Z"
   },
   {
    "duration": 0,
    "start_time": "2022-06-15T18:25:48.776Z"
   },
   {
    "duration": 0,
    "start_time": "2022-06-15T18:25:48.778Z"
   },
   {
    "duration": 0,
    "start_time": "2022-06-15T18:25:48.779Z"
   },
   {
    "duration": 0,
    "start_time": "2022-06-15T18:25:48.780Z"
   },
   {
    "duration": 0,
    "start_time": "2022-06-15T18:25:48.782Z"
   },
   {
    "duration": 0,
    "start_time": "2022-06-15T18:25:48.783Z"
   },
   {
    "duration": 0,
    "start_time": "2022-06-15T18:25:48.784Z"
   },
   {
    "duration": 164,
    "start_time": "2022-06-15T18:26:18.510Z"
   },
   {
    "duration": 143,
    "start_time": "2022-06-15T18:26:28.159Z"
   },
   {
    "duration": 157,
    "start_time": "2022-06-15T18:26:31.160Z"
   },
   {
    "duration": 317,
    "start_time": "2022-06-15T18:26:42.588Z"
   },
   {
    "duration": 246,
    "start_time": "2022-06-15T18:27:01.314Z"
   },
   {
    "duration": 39,
    "start_time": "2022-06-15T18:27:07.408Z"
   },
   {
    "duration": 930,
    "start_time": "2022-06-15T18:27:16.035Z"
   },
   {
    "duration": 4,
    "start_time": "2022-06-15T18:27:16.968Z"
   },
   {
    "duration": 1174,
    "start_time": "2022-06-15T18:27:29.284Z"
   },
   {
    "duration": 473,
    "start_time": "2022-06-15T18:27:30.461Z"
   },
   {
    "duration": 3,
    "start_time": "2022-06-15T18:27:30.936Z"
   },
   {
    "duration": 194,
    "start_time": "2022-06-15T18:27:30.941Z"
   },
   {
    "duration": 131,
    "start_time": "2022-06-15T18:27:31.138Z"
   },
   {
    "duration": 29,
    "start_time": "2022-06-15T18:27:31.270Z"
   },
   {
    "duration": 136,
    "start_time": "2022-06-15T18:27:31.301Z"
   },
   {
    "duration": 75,
    "start_time": "2022-06-15T18:27:31.439Z"
   },
   {
    "duration": 53,
    "start_time": "2022-06-15T18:27:31.516Z"
   },
   {
    "duration": 94,
    "start_time": "2022-06-15T18:27:31.571Z"
   },
   {
    "duration": 108,
    "start_time": "2022-06-15T18:27:31.667Z"
   },
   {
    "duration": 32,
    "start_time": "2022-06-15T18:27:31.777Z"
   },
   {
    "duration": 53,
    "start_time": "2022-06-15T18:27:31.812Z"
   },
   {
    "duration": 15,
    "start_time": "2022-06-15T18:27:31.872Z"
   },
   {
    "duration": 69,
    "start_time": "2022-06-15T18:27:31.889Z"
   },
   {
    "duration": 22,
    "start_time": "2022-06-15T18:27:31.961Z"
   },
   {
    "duration": 5,
    "start_time": "2022-06-15T18:27:31.986Z"
   },
   {
    "duration": 27,
    "start_time": "2022-06-15T18:27:31.993Z"
   },
   {
    "duration": 1244,
    "start_time": "2022-06-15T18:27:32.022Z"
   },
   {
    "duration": 12,
    "start_time": "2022-06-15T18:27:33.268Z"
   },
   {
    "duration": 7,
    "start_time": "2022-06-15T18:27:33.282Z"
   },
   {
    "duration": 283,
    "start_time": "2022-06-15T18:27:33.291Z"
   },
   {
    "duration": 15,
    "start_time": "2022-06-15T18:27:33.576Z"
   },
   {
    "duration": 323,
    "start_time": "2022-06-15T18:27:33.592Z"
   },
   {
    "duration": 55,
    "start_time": "2022-06-15T18:27:33.916Z"
   },
   {
    "duration": 877,
    "start_time": "2022-06-15T18:27:33.973Z"
   },
   {
    "duration": 5,
    "start_time": "2022-06-15T18:27:34.859Z"
   },
   {
    "duration": 397,
    "start_time": "2022-06-15T18:27:34.866Z"
   },
   {
    "duration": 354,
    "start_time": "2022-06-15T18:27:35.265Z"
   },
   {
    "duration": 364,
    "start_time": "2022-06-15T18:27:35.621Z"
   },
   {
    "duration": 15,
    "start_time": "2022-06-15T18:27:35.987Z"
   },
   {
    "duration": 17,
    "start_time": "2022-06-15T18:27:36.004Z"
   },
   {
    "duration": 47,
    "start_time": "2022-06-15T18:27:36.024Z"
   },
   {
    "duration": 15,
    "start_time": "2022-06-15T18:31:09.115Z"
   },
   {
    "duration": 15,
    "start_time": "2022-06-15T18:31:35.828Z"
   },
   {
    "duration": 20,
    "start_time": "2022-06-15T18:31:44.208Z"
   },
   {
    "duration": 1708,
    "start_time": "2022-06-15T18:32:30.844Z"
   },
   {
    "duration": 1265,
    "start_time": "2022-06-15T18:34:28.774Z"
   },
   {
    "duration": 185,
    "start_time": "2022-06-15T18:35:26.179Z"
   },
   {
    "duration": 15,
    "start_time": "2022-06-15T18:35:33.112Z"
   },
   {
    "duration": 1311,
    "start_time": "2022-06-15T18:35:41.201Z"
   },
   {
    "duration": 36,
    "start_time": "2022-06-15T18:36:06.321Z"
   },
   {
    "duration": 26,
    "start_time": "2022-06-15T18:37:05.824Z"
   },
   {
    "duration": 1276,
    "start_time": "2022-06-15T19:48:39.561Z"
   },
   {
    "duration": 1089,
    "start_time": "2022-06-15T19:48:40.839Z"
   },
   {
    "duration": 3,
    "start_time": "2022-06-15T19:48:41.931Z"
   },
   {
    "duration": 145,
    "start_time": "2022-06-15T19:48:41.936Z"
   },
   {
    "duration": 102,
    "start_time": "2022-06-15T19:48:42.082Z"
   },
   {
    "duration": 22,
    "start_time": "2022-06-15T19:48:42.185Z"
   },
   {
    "duration": 106,
    "start_time": "2022-06-15T19:48:42.208Z"
   },
   {
    "duration": 64,
    "start_time": "2022-06-15T19:48:42.315Z"
   },
   {
    "duration": 20,
    "start_time": "2022-06-15T19:48:42.380Z"
   },
   {
    "duration": 83,
    "start_time": "2022-06-15T19:48:42.403Z"
   },
   {
    "duration": 73,
    "start_time": "2022-06-15T19:48:42.487Z"
   },
   {
    "duration": 27,
    "start_time": "2022-06-15T19:48:42.562Z"
   },
   {
    "duration": 14,
    "start_time": "2022-06-15T19:48:42.591Z"
   },
   {
    "duration": 8,
    "start_time": "2022-06-15T19:48:42.606Z"
   },
   {
    "duration": 26,
    "start_time": "2022-06-15T19:48:42.616Z"
   },
   {
    "duration": 47,
    "start_time": "2022-06-15T19:48:42.643Z"
   },
   {
    "duration": 3,
    "start_time": "2022-06-15T19:48:42.691Z"
   },
   {
    "duration": 9,
    "start_time": "2022-06-15T19:48:42.696Z"
   },
   {
    "duration": 1033,
    "start_time": "2022-06-15T19:48:42.707Z"
   },
   {
    "duration": 9,
    "start_time": "2022-06-15T19:48:43.741Z"
   },
   {
    "duration": 12,
    "start_time": "2022-06-15T19:48:43.751Z"
   },
   {
    "duration": 226,
    "start_time": "2022-06-15T19:48:43.765Z"
   },
   {
    "duration": 12,
    "start_time": "2022-06-15T19:48:43.992Z"
   },
   {
    "duration": 216,
    "start_time": "2022-06-15T19:48:44.006Z"
   },
   {
    "duration": 24,
    "start_time": "2022-06-15T19:48:44.223Z"
   },
   {
    "duration": 979,
    "start_time": "2022-06-15T19:48:44.249Z"
   },
   {
    "duration": 5,
    "start_time": "2022-06-15T19:48:45.231Z"
   },
   {
    "duration": 298,
    "start_time": "2022-06-15T19:48:45.238Z"
   },
   {
    "duration": 267,
    "start_time": "2022-06-15T19:48:45.538Z"
   },
   {
    "duration": 278,
    "start_time": "2022-06-15T19:48:45.806Z"
   },
   {
    "duration": 11,
    "start_time": "2022-06-15T19:48:46.085Z"
   },
   {
    "duration": 98,
    "start_time": "2022-06-15T19:48:46.098Z"
   },
   {
    "duration": 12,
    "start_time": "2022-06-15T19:48:46.198Z"
   },
   {
    "duration": 1012,
    "start_time": "2022-06-15T19:48:46.211Z"
   },
   {
    "duration": 21,
    "start_time": "2022-06-15T19:48:47.224Z"
   },
   {
    "duration": 31,
    "start_time": "2022-06-15T19:48:47.247Z"
   },
   {
    "duration": 24,
    "start_time": "2022-06-15T19:50:23.538Z"
   },
   {
    "duration": 27,
    "start_time": "2022-06-15T19:50:37.907Z"
   },
   {
    "duration": 12,
    "start_time": "2022-06-15T19:51:00.718Z"
   },
   {
    "duration": 97,
    "start_time": "2022-06-15T19:51:11.242Z"
   },
   {
    "duration": 656,
    "start_time": "2022-06-15T19:51:25.104Z"
   },
   {
    "duration": 47,
    "start_time": "2022-06-16T16:31:39.198Z"
   },
   {
    "duration": 1331,
    "start_time": "2022-06-16T16:31:50.538Z"
   },
   {
    "duration": 1257,
    "start_time": "2022-06-16T16:31:51.872Z"
   },
   {
    "duration": 3,
    "start_time": "2022-06-16T16:31:53.130Z"
   },
   {
    "duration": 202,
    "start_time": "2022-06-16T16:31:53.135Z"
   },
   {
    "duration": 127,
    "start_time": "2022-06-16T16:31:53.339Z"
   },
   {
    "duration": 33,
    "start_time": "2022-06-16T16:31:53.467Z"
   },
   {
    "duration": 113,
    "start_time": "2022-06-16T16:31:53.502Z"
   },
   {
    "duration": 80,
    "start_time": "2022-06-16T16:31:53.616Z"
   },
   {
    "duration": 25,
    "start_time": "2022-06-16T16:31:53.698Z"
   },
   {
    "duration": 86,
    "start_time": "2022-06-16T16:31:53.726Z"
   },
   {
    "duration": 92,
    "start_time": "2022-06-16T16:31:53.814Z"
   },
   {
    "duration": 21,
    "start_time": "2022-06-16T16:31:53.908Z"
   },
   {
    "duration": 21,
    "start_time": "2022-06-16T16:31:53.931Z"
   },
   {
    "duration": 42,
    "start_time": "2022-06-16T16:31:53.954Z"
   },
   {
    "duration": 35,
    "start_time": "2022-06-16T16:31:53.997Z"
   },
   {
    "duration": 20,
    "start_time": "2022-06-16T16:31:54.035Z"
   },
   {
    "duration": 3,
    "start_time": "2022-06-16T16:31:54.057Z"
   },
   {
    "duration": 26,
    "start_time": "2022-06-16T16:31:54.062Z"
   },
   {
    "duration": 1018,
    "start_time": "2022-06-16T16:31:54.090Z"
   },
   {
    "duration": 10,
    "start_time": "2022-06-16T16:31:55.109Z"
   },
   {
    "duration": 13,
    "start_time": "2022-06-16T16:31:55.120Z"
   },
   {
    "duration": 245,
    "start_time": "2022-06-16T16:31:55.135Z"
   },
   {
    "duration": 21,
    "start_time": "2022-06-16T16:31:55.384Z"
   },
   {
    "duration": 259,
    "start_time": "2022-06-16T16:31:55.407Z"
   },
   {
    "duration": 34,
    "start_time": "2022-06-16T16:31:55.668Z"
   },
   {
    "duration": 990,
    "start_time": "2022-06-16T16:31:55.704Z"
   },
   {
    "duration": 8,
    "start_time": "2022-06-16T16:31:56.696Z"
   },
   {
    "duration": 383,
    "start_time": "2022-06-16T16:31:56.710Z"
   },
   {
    "duration": 363,
    "start_time": "2022-06-16T16:31:57.100Z"
   },
   {
    "duration": 405,
    "start_time": "2022-06-16T16:31:57.465Z"
   },
   {
    "duration": 451,
    "start_time": "2022-06-16T16:31:57.874Z"
   },
   {
    "duration": 14,
    "start_time": "2022-06-16T16:31:58.327Z"
   },
   {
    "duration": 24,
    "start_time": "2022-06-16T16:31:58.343Z"
   },
   {
    "duration": 1130,
    "start_time": "2022-06-16T16:31:58.369Z"
   },
   {
    "duration": 22,
    "start_time": "2022-06-16T16:31:59.501Z"
   },
   {
    "duration": 16,
    "start_time": "2022-06-16T16:31:59.525Z"
   },
   {
    "duration": 296,
    "start_time": "2022-06-16T16:32:30.624Z"
   },
   {
    "duration": 273,
    "start_time": "2022-06-16T16:32:37.144Z"
   },
   {
    "duration": 286,
    "start_time": "2022-06-16T16:32:39.557Z"
   },
   {
    "duration": 262,
    "start_time": "2022-06-16T16:32:50.748Z"
   },
   {
    "duration": 383,
    "start_time": "2022-06-16T16:33:01.842Z"
   },
   {
    "duration": 270,
    "start_time": "2022-06-16T16:33:16.195Z"
   },
   {
    "duration": 724,
    "start_time": "2022-06-16T16:36:09.665Z"
   },
   {
    "duration": 162,
    "start_time": "2022-06-16T16:36:17.745Z"
   },
   {
    "duration": 16,
    "start_time": "2022-06-16T16:36:32.349Z"
   },
   {
    "duration": 12,
    "start_time": "2022-06-16T16:37:57.341Z"
   },
   {
    "duration": 707,
    "start_time": "2022-06-16T16:38:06.464Z"
   },
   {
    "duration": 192,
    "start_time": "2022-06-16T16:40:00.242Z"
   },
   {
    "duration": 119,
    "start_time": "2022-06-16T16:40:06.503Z"
   },
   {
    "duration": 827,
    "start_time": "2022-06-16T16:40:13.066Z"
   },
   {
    "duration": 411,
    "start_time": "2022-06-16T16:41:20.900Z"
   },
   {
    "duration": 1183,
    "start_time": "2022-06-16T16:41:28.006Z"
   },
   {
    "duration": 809,
    "start_time": "2022-06-16T16:41:46.937Z"
   },
   {
    "duration": 334,
    "start_time": "2022-06-16T16:41:54.145Z"
   },
   {
    "duration": 13,
    "start_time": "2022-06-16T16:42:19.650Z"
   },
   {
    "duration": 514,
    "start_time": "2022-06-16T16:43:17.655Z"
   },
   {
    "duration": 809,
    "start_time": "2022-06-16T16:43:54.455Z"
   },
   {
    "duration": 927,
    "start_time": "2022-06-16T16:44:18.805Z"
   },
   {
    "duration": 15,
    "start_time": "2022-06-16T16:44:34.698Z"
   },
   {
    "duration": 833,
    "start_time": "2022-06-16T16:47:23.919Z"
   },
   {
    "duration": 870,
    "start_time": "2022-06-16T16:47:43.341Z"
   },
   {
    "duration": 1442,
    "start_time": "2022-06-16T16:58:32.099Z"
   },
   {
    "duration": 500,
    "start_time": "2022-06-16T16:58:33.544Z"
   },
   {
    "duration": 3,
    "start_time": "2022-06-16T16:58:34.046Z"
   },
   {
    "duration": 185,
    "start_time": "2022-06-16T16:58:34.052Z"
   },
   {
    "duration": 113,
    "start_time": "2022-06-16T16:58:34.239Z"
   },
   {
    "duration": 39,
    "start_time": "2022-06-16T16:58:34.354Z"
   },
   {
    "duration": 116,
    "start_time": "2022-06-16T16:58:34.396Z"
   },
   {
    "duration": 79,
    "start_time": "2022-06-16T16:58:34.514Z"
   },
   {
    "duration": 32,
    "start_time": "2022-06-16T16:58:34.594Z"
   },
   {
    "duration": 110,
    "start_time": "2022-06-16T16:58:34.630Z"
   },
   {
    "duration": 107,
    "start_time": "2022-06-16T16:58:34.742Z"
   },
   {
    "duration": 38,
    "start_time": "2022-06-16T16:58:34.850Z"
   },
   {
    "duration": 48,
    "start_time": "2022-06-16T16:58:34.889Z"
   },
   {
    "duration": 13,
    "start_time": "2022-06-16T16:58:34.939Z"
   },
   {
    "duration": 57,
    "start_time": "2022-06-16T16:58:34.954Z"
   },
   {
    "duration": 21,
    "start_time": "2022-06-16T16:58:35.018Z"
   },
   {
    "duration": 5,
    "start_time": "2022-06-16T16:58:35.042Z"
   },
   {
    "duration": 14,
    "start_time": "2022-06-16T16:58:35.049Z"
   },
   {
    "duration": 1688,
    "start_time": "2022-06-16T16:58:35.065Z"
   },
   {
    "duration": 17,
    "start_time": "2022-06-16T16:58:36.756Z"
   },
   {
    "duration": 46,
    "start_time": "2022-06-16T16:58:36.776Z"
   },
   {
    "duration": 395,
    "start_time": "2022-06-16T16:58:36.824Z"
   },
   {
    "duration": 22,
    "start_time": "2022-06-16T16:58:37.221Z"
   },
   {
    "duration": 358,
    "start_time": "2022-06-16T16:58:37.246Z"
   },
   {
    "duration": 60,
    "start_time": "2022-06-16T16:58:37.606Z"
   },
   {
    "duration": 931,
    "start_time": "2022-06-16T16:58:37.669Z"
   },
   {
    "duration": 10,
    "start_time": "2022-06-16T16:58:38.608Z"
   },
   {
    "duration": 361,
    "start_time": "2022-06-16T16:58:38.624Z"
   },
   {
    "duration": 837,
    "start_time": "2022-06-16T16:58:38.986Z"
   },
   {
    "duration": 346,
    "start_time": "2022-06-16T16:58:39.824Z"
   },
   {
    "duration": 882,
    "start_time": "2022-06-16T16:58:40.173Z"
   },
   {
    "duration": 369,
    "start_time": "2022-06-16T16:58:41.057Z"
   },
   {
    "duration": 687,
    "start_time": "2022-06-16T16:58:41.428Z"
   },
   {
    "duration": 303,
    "start_time": "2022-06-16T16:58:42.118Z"
   },
   {
    "duration": 971,
    "start_time": "2022-06-16T16:58:42.425Z"
   },
   {
    "duration": 20,
    "start_time": "2022-06-16T16:58:43.398Z"
   },
   {
    "duration": 28,
    "start_time": "2022-06-16T16:58:43.422Z"
   },
   {
    "duration": 1265,
    "start_time": "2022-06-16T16:58:43.453Z"
   },
   {
    "duration": 28,
    "start_time": "2022-06-16T16:58:44.720Z"
   },
   {
    "duration": 38,
    "start_time": "2022-06-16T16:58:44.750Z"
   },
   {
    "duration": 1320,
    "start_time": "2022-06-16T18:52:56.132Z"
   },
   {
    "duration": 970,
    "start_time": "2022-06-16T18:52:57.454Z"
   },
   {
    "duration": 3,
    "start_time": "2022-06-16T18:52:58.426Z"
   },
   {
    "duration": 168,
    "start_time": "2022-06-16T18:52:58.431Z"
   },
   {
    "duration": 116,
    "start_time": "2022-06-16T18:52:58.602Z"
   },
   {
    "duration": 25,
    "start_time": "2022-06-16T18:52:58.719Z"
   },
   {
    "duration": 133,
    "start_time": "2022-06-16T18:52:58.746Z"
   },
   {
    "duration": 98,
    "start_time": "2022-06-16T18:52:58.882Z"
   },
   {
    "duration": 45,
    "start_time": "2022-06-16T18:52:58.982Z"
   },
   {
    "duration": 128,
    "start_time": "2022-06-16T18:52:59.029Z"
   },
   {
    "duration": 116,
    "start_time": "2022-06-16T18:52:59.159Z"
   },
   {
    "duration": 38,
    "start_time": "2022-06-16T18:52:59.276Z"
   },
   {
    "duration": 16,
    "start_time": "2022-06-16T18:52:59.315Z"
   },
   {
    "duration": 10,
    "start_time": "2022-06-16T18:52:59.333Z"
   },
   {
    "duration": 55,
    "start_time": "2022-06-16T18:52:59.345Z"
   },
   {
    "duration": 17,
    "start_time": "2022-06-16T18:52:59.402Z"
   },
   {
    "duration": 3,
    "start_time": "2022-06-16T18:52:59.421Z"
   },
   {
    "duration": 9,
    "start_time": "2022-06-16T18:52:59.425Z"
   },
   {
    "duration": 129,
    "start_time": "2022-06-16T18:52:59.437Z"
   },
   {
    "duration": 0,
    "start_time": "2022-06-16T18:52:59.568Z"
   },
   {
    "duration": 0,
    "start_time": "2022-06-16T18:52:59.569Z"
   },
   {
    "duration": 0,
    "start_time": "2022-06-16T18:52:59.570Z"
   },
   {
    "duration": 0,
    "start_time": "2022-06-16T18:52:59.571Z"
   },
   {
    "duration": 0,
    "start_time": "2022-06-16T18:52:59.572Z"
   },
   {
    "duration": 0,
    "start_time": "2022-06-16T18:52:59.573Z"
   },
   {
    "duration": 0,
    "start_time": "2022-06-16T18:52:59.574Z"
   },
   {
    "duration": 0,
    "start_time": "2022-06-16T18:52:59.574Z"
   },
   {
    "duration": 0,
    "start_time": "2022-06-16T18:52:59.575Z"
   },
   {
    "duration": 0,
    "start_time": "2022-06-16T18:52:59.595Z"
   },
   {
    "duration": 0,
    "start_time": "2022-06-16T18:52:59.596Z"
   },
   {
    "duration": 0,
    "start_time": "2022-06-16T18:52:59.598Z"
   },
   {
    "duration": 0,
    "start_time": "2022-06-16T18:52:59.600Z"
   },
   {
    "duration": 0,
    "start_time": "2022-06-16T18:52:59.602Z"
   },
   {
    "duration": 1,
    "start_time": "2022-06-16T18:52:59.603Z"
   },
   {
    "duration": 0,
    "start_time": "2022-06-16T18:52:59.605Z"
   },
   {
    "duration": 0,
    "start_time": "2022-06-16T18:52:59.606Z"
   },
   {
    "duration": 0,
    "start_time": "2022-06-16T18:52:59.608Z"
   },
   {
    "duration": 0,
    "start_time": "2022-06-16T18:52:59.611Z"
   },
   {
    "duration": 0,
    "start_time": "2022-06-16T18:52:59.612Z"
   },
   {
    "duration": 0,
    "start_time": "2022-06-16T18:52:59.613Z"
   },
   {
    "duration": 16,
    "start_time": "2022-06-16T18:53:31.747Z"
   },
   {
    "duration": 25,
    "start_time": "2022-06-16T18:54:02.682Z"
   },
   {
    "duration": 404,
    "start_time": "2022-06-16T18:54:31.206Z"
   },
   {
    "duration": 561,
    "start_time": "2022-06-16T18:54:50.107Z"
   },
   {
    "duration": 489,
    "start_time": "2022-06-16T18:57:43.292Z"
   },
   {
    "duration": 446,
    "start_time": "2022-06-16T18:58:03.452Z"
   },
   {
    "duration": 18,
    "start_time": "2022-06-16T19:00:40.050Z"
   },
   {
    "duration": 13,
    "start_time": "2022-06-16T19:01:05.452Z"
   },
   {
    "duration": 14,
    "start_time": "2022-06-16T19:01:13.693Z"
   },
   {
    "duration": 14,
    "start_time": "2022-06-16T19:02:13.087Z"
   },
   {
    "duration": 227,
    "start_time": "2022-06-16T19:02:42.895Z"
   },
   {
    "duration": 248,
    "start_time": "2022-06-16T19:02:54.526Z"
   },
   {
    "duration": 247,
    "start_time": "2022-06-16T19:03:41.734Z"
   },
   {
    "duration": 3882,
    "start_time": "2022-06-16T19:04:37.333Z"
   },
   {
    "duration": 13,
    "start_time": "2022-06-16T19:04:59.494Z"
   },
   {
    "duration": 885,
    "start_time": "2022-06-16T19:05:13.811Z"
   },
   {
    "duration": 2676,
    "start_time": "2022-06-16T19:05:20.069Z"
   },
   {
    "duration": 3806,
    "start_time": "2022-06-16T19:06:36.234Z"
   },
   {
    "duration": 10,
    "start_time": "2022-06-16T19:06:59.661Z"
   },
   {
    "duration": 13,
    "start_time": "2022-06-16T19:07:32.828Z"
   },
   {
    "duration": 10479,
    "start_time": "2022-06-16T19:07:38.003Z"
   },
   {
    "duration": 20,
    "start_time": "2022-06-16T19:07:50.136Z"
   },
   {
    "duration": 2694,
    "start_time": "2022-06-16T19:08:01.428Z"
   },
   {
    "duration": 19,
    "start_time": "2022-06-16T19:08:09.533Z"
   },
   {
    "duration": 1193,
    "start_time": "2022-06-16T19:10:11.191Z"
   },
   {
    "duration": 450,
    "start_time": "2022-06-16T19:10:12.386Z"
   },
   {
    "duration": 3,
    "start_time": "2022-06-16T19:10:12.838Z"
   },
   {
    "duration": 226,
    "start_time": "2022-06-16T19:10:12.843Z"
   },
   {
    "duration": 144,
    "start_time": "2022-06-16T19:10:13.071Z"
   },
   {
    "duration": 36,
    "start_time": "2022-06-16T19:10:13.217Z"
   },
   {
    "duration": 118,
    "start_time": "2022-06-16T19:10:13.255Z"
   },
   {
    "duration": 75,
    "start_time": "2022-06-16T19:10:13.375Z"
   },
   {
    "duration": 24,
    "start_time": "2022-06-16T19:10:13.452Z"
   },
   {
    "duration": 73,
    "start_time": "2022-06-16T19:10:13.493Z"
   },
   {
    "duration": 106,
    "start_time": "2022-06-16T19:10:13.568Z"
   },
   {
    "duration": 31,
    "start_time": "2022-06-16T19:10:13.676Z"
   },
   {
    "duration": 15,
    "start_time": "2022-06-16T19:10:13.708Z"
   },
   {
    "duration": 22,
    "start_time": "2022-06-16T19:10:13.724Z"
   },
   {
    "duration": 50,
    "start_time": "2022-06-16T19:10:13.747Z"
   },
   {
    "duration": 22,
    "start_time": "2022-06-16T19:10:13.799Z"
   },
   {
    "duration": 10,
    "start_time": "2022-06-16T19:10:13.822Z"
   },
   {
    "duration": 20,
    "start_time": "2022-06-16T19:10:13.834Z"
   },
   {
    "duration": 1106,
    "start_time": "2022-06-16T19:10:13.856Z"
   },
   {
    "duration": 10,
    "start_time": "2022-06-16T19:10:14.964Z"
   },
   {
    "duration": 22,
    "start_time": "2022-06-16T19:10:14.975Z"
   },
   {
    "duration": 247,
    "start_time": "2022-06-16T19:10:14.999Z"
   },
   {
    "duration": 14,
    "start_time": "2022-06-16T19:10:15.248Z"
   },
   {
    "duration": 231,
    "start_time": "2022-06-16T19:10:15.264Z"
   },
   {
    "duration": 26,
    "start_time": "2022-06-16T19:10:15.496Z"
   },
   {
    "duration": 1292,
    "start_time": "2022-06-21T18:04:39.973Z"
   },
   {
    "duration": 1094,
    "start_time": "2022-06-21T18:04:41.267Z"
   },
   {
    "duration": 3,
    "start_time": "2022-06-21T18:04:42.363Z"
   },
   {
    "duration": 174,
    "start_time": "2022-06-21T18:04:42.368Z"
   },
   {
    "duration": 115,
    "start_time": "2022-06-21T18:04:42.545Z"
   },
   {
    "duration": 24,
    "start_time": "2022-06-21T18:04:42.661Z"
   },
   {
    "duration": 115,
    "start_time": "2022-06-21T18:04:42.686Z"
   },
   {
    "duration": 83,
    "start_time": "2022-06-21T18:04:42.802Z"
   },
   {
    "duration": 22,
    "start_time": "2022-06-21T18:04:42.886Z"
   },
   {
    "duration": 90,
    "start_time": "2022-06-21T18:04:42.909Z"
   },
   {
    "duration": 97,
    "start_time": "2022-06-21T18:04:43.001Z"
   },
   {
    "duration": 39,
    "start_time": "2022-06-21T18:04:43.100Z"
   },
   {
    "duration": 19,
    "start_time": "2022-06-21T18:04:43.140Z"
   },
   {
    "duration": 9,
    "start_time": "2022-06-21T18:04:43.162Z"
   },
   {
    "duration": 29,
    "start_time": "2022-06-21T18:04:43.173Z"
   },
   {
    "duration": 38,
    "start_time": "2022-06-21T18:04:43.204Z"
   },
   {
    "duration": 6,
    "start_time": "2022-06-21T18:04:43.243Z"
   },
   {
    "duration": 14,
    "start_time": "2022-06-21T18:04:43.250Z"
   },
   {
    "duration": 1046,
    "start_time": "2022-06-21T18:04:43.265Z"
   },
   {
    "duration": 19,
    "start_time": "2022-06-21T18:04:44.313Z"
   },
   {
    "duration": 19,
    "start_time": "2022-06-21T18:04:44.333Z"
   },
   {
    "duration": 245,
    "start_time": "2022-06-21T18:04:44.354Z"
   },
   {
    "duration": 19,
    "start_time": "2022-06-21T18:04:44.601Z"
   },
   {
    "duration": 233,
    "start_time": "2022-06-21T18:04:44.622Z"
   },
   {
    "duration": 24,
    "start_time": "2022-06-21T18:04:44.857Z"
   },
   {
    "duration": 923,
    "start_time": "2022-06-21T18:04:44.883Z"
   },
   {
    "duration": 4,
    "start_time": "2022-06-21T18:04:45.808Z"
   },
   {
    "duration": 303,
    "start_time": "2022-06-21T18:04:45.813Z"
   },
   {
    "duration": 741,
    "start_time": "2022-06-21T18:04:46.117Z"
   },
   {
    "duration": 306,
    "start_time": "2022-06-21T18:04:46.861Z"
   },
   {
    "duration": 810,
    "start_time": "2022-06-21T18:04:47.169Z"
   },
   {
    "duration": 332,
    "start_time": "2022-06-21T18:04:47.981Z"
   },
   {
    "duration": 704,
    "start_time": "2022-06-21T18:04:48.315Z"
   },
   {
    "duration": 268,
    "start_time": "2022-06-21T18:04:49.021Z"
   },
   {
    "duration": 759,
    "start_time": "2022-06-21T18:04:49.290Z"
   },
   {
    "duration": 11,
    "start_time": "2022-06-21T18:04:50.051Z"
   },
   {
    "duration": 21,
    "start_time": "2022-06-21T18:04:50.063Z"
   },
   {
    "duration": 1178,
    "start_time": "2022-06-21T18:04:50.087Z"
   },
   {
    "duration": 21,
    "start_time": "2022-06-21T18:04:51.267Z"
   },
   {
    "duration": 15,
    "start_time": "2022-06-21T18:04:51.289Z"
   },
   {
    "duration": 9,
    "start_time": "2022-06-21T18:04:57.190Z"
   },
   {
    "duration": 7,
    "start_time": "2022-06-21T18:05:21.709Z"
   }
  ],
  "kernelspec": {
   "display_name": "Python 3 (ipykernel)",
   "language": "python",
   "name": "python3"
  },
  "language_info": {
   "codemirror_mode": {
    "name": "ipython",
    "version": 3
   },
   "file_extension": ".py",
   "mimetype": "text/x-python",
   "name": "python",
   "nbconvert_exporter": "python",
   "pygments_lexer": "ipython3",
   "version": "3.9.12"
  },
  "toc": {
   "base_numbering": 1,
   "nav_menu": {},
   "number_sections": true,
   "sideBar": true,
   "skip_h1_title": true,
   "title_cell": "Table of Contents",
   "title_sidebar": "Contents",
   "toc_cell": false,
   "toc_position": {},
   "toc_section_display": true,
   "toc_window_display": false
  }
 },
 "nbformat": 4,
 "nbformat_minor": 2
}
