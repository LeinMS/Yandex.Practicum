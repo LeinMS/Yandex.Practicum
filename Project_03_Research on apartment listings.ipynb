{
 "cells": [
  {
   "cell_type": "markdown",
   "id": "302946f4",
   "metadata": {},
   "source": [
    "# Research on apartment listings"
   ]
  },
  {
   "cell_type": "markdown",
   "id": "a9f0924c",
   "metadata": {},
   "source": [
    "We have at our disposal the data of the Yandex Real Estate service — an archive of ads for the sale of apartments in St. Petersburg and neighboring settlements for several years. We need to learn how to determine the market value of real estate. The main task is to set the parameters. This will allow us to build an automated system: it will track anomalies and fraudulent activity.\n",
    "\n",
    "There are two types of data available for each apartment for sale. The first ones are entered by the user, the second ones are obtained automatically based on cartographic data. For example, the distance to the center, airport, nearest park and reservoir."
   ]
  },
  {
   "cell_type": "markdown",
   "id": "f28c7602",
   "metadata": {},
   "source": [
    "**According to the data documentation:**\n",
    "\n",
    "- `airports_nearest` — distance to the nearest airport in meters (m)\n",
    "- `balcony` — number of balconies\n",
    "- `ceiling_height` — ceiling height (m)\n",
    "- `cityCenters_nearest` — distance to the city center (m)\n",
    "- `days_exposition` — how many days the ad was placed (from publication to removal)\n",
    "- `first_day_exposition` — date of publication\n",
    "- `floor` — floor\n",
    "- `floors_total` — total floors in the house\n",
    "- `is_apartment` — apartments (boolean type)\n",
    "- `kitchen_area` — kitchen area in square meters (m²)\n",
    "- `last_price` — price at the time of withdrawal from publication\n",
    "- `living_area` — living area in square meters (m²)\n",
    "- `locality_name` — name of the locality\n",
    "- `open_plan` — free layout (boolean type)\n",
    "- `parks_around3000` — the number of parks within a 3 km radius\n",
    "- `parks_nearest` — distance to the nearest park (m)\n",
    "- `ponds_around3000` — number of reservoirs within a radius of 3 km\n",
    "- `ponds_nearest` — distance to the nearest reservoir (m)\n",
    "- `rooms` — number of rooms\n",
    "- `studio` — studio apartment (boolean type)\n",
    " -`total_area` — the area of the apartment in square meters (m²)\n",
    "- `total_images` — the number of photos of the apartment in the ad"
   ]
  },
  {
   "cell_type": "markdown",
   "id": "d290e976",
   "metadata": {},
   "source": [
    "## Step 1. Examining data from a file"
   ]
  },
  {
   "cell_type": "code",
   "execution_count": 1,
   "id": "406e2ffb",
   "metadata": {},
   "outputs": [],
   "source": [
    "import pandas as pd\n",
    "import matplotlib.pyplot as plt\n",
    "import seaborn as sb\n",
    "import datetime as dt"
   ]
  },
  {
   "cell_type": "code",
   "execution_count": 2,
   "id": "4d7835ee",
   "metadata": {},
   "outputs": [
    {
     "data": {
      "text/html": [
       "<div>\n",
       "<style scoped>\n",
       "    .dataframe tbody tr th:only-of-type {\n",
       "        vertical-align: middle;\n",
       "    }\n",
       "\n",
       "    .dataframe tbody tr th {\n",
       "        vertical-align: top;\n",
       "    }\n",
       "\n",
       "    .dataframe thead th {\n",
       "        text-align: right;\n",
       "    }\n",
       "</style>\n",
       "<table border=\"1\" class=\"dataframe\">\n",
       "  <thead>\n",
       "    <tr style=\"text-align: right;\">\n",
       "      <th></th>\n",
       "      <th>total_images</th>\n",
       "      <th>last_price</th>\n",
       "      <th>total_area</th>\n",
       "      <th>first_day_exposition</th>\n",
       "      <th>rooms</th>\n",
       "      <th>ceiling_height</th>\n",
       "      <th>floors_total</th>\n",
       "      <th>living_area</th>\n",
       "      <th>floor</th>\n",
       "      <th>is_apartment</th>\n",
       "      <th>...</th>\n",
       "      <th>kitchen_area</th>\n",
       "      <th>balcony</th>\n",
       "      <th>locality_name</th>\n",
       "      <th>airports_nearest</th>\n",
       "      <th>cityCenters_nearest</th>\n",
       "      <th>parks_around3000</th>\n",
       "      <th>parks_nearest</th>\n",
       "      <th>ponds_around3000</th>\n",
       "      <th>ponds_nearest</th>\n",
       "      <th>days_exposition</th>\n",
       "    </tr>\n",
       "  </thead>\n",
       "  <tbody>\n",
       "    <tr>\n",
       "      <th>0</th>\n",
       "      <td>20</td>\n",
       "      <td>13000000.0</td>\n",
       "      <td>108.0</td>\n",
       "      <td>2019-03-07T00:00:00</td>\n",
       "      <td>3</td>\n",
       "      <td>2.70</td>\n",
       "      <td>16.0</td>\n",
       "      <td>51.0</td>\n",
       "      <td>8</td>\n",
       "      <td>NaN</td>\n",
       "      <td>...</td>\n",
       "      <td>25.0</td>\n",
       "      <td>NaN</td>\n",
       "      <td>Санкт-Петербург</td>\n",
       "      <td>18863.0</td>\n",
       "      <td>16028.0</td>\n",
       "      <td>1.0</td>\n",
       "      <td>482.0</td>\n",
       "      <td>2.0</td>\n",
       "      <td>755.0</td>\n",
       "      <td>NaN</td>\n",
       "    </tr>\n",
       "    <tr>\n",
       "      <th>1</th>\n",
       "      <td>7</td>\n",
       "      <td>3350000.0</td>\n",
       "      <td>40.4</td>\n",
       "      <td>2018-12-04T00:00:00</td>\n",
       "      <td>1</td>\n",
       "      <td>NaN</td>\n",
       "      <td>11.0</td>\n",
       "      <td>18.6</td>\n",
       "      <td>1</td>\n",
       "      <td>NaN</td>\n",
       "      <td>...</td>\n",
       "      <td>11.0</td>\n",
       "      <td>2.0</td>\n",
       "      <td>посёлок Шушары</td>\n",
       "      <td>12817.0</td>\n",
       "      <td>18603.0</td>\n",
       "      <td>0.0</td>\n",
       "      <td>NaN</td>\n",
       "      <td>0.0</td>\n",
       "      <td>NaN</td>\n",
       "      <td>81.0</td>\n",
       "    </tr>\n",
       "    <tr>\n",
       "      <th>2</th>\n",
       "      <td>10</td>\n",
       "      <td>5196000.0</td>\n",
       "      <td>56.0</td>\n",
       "      <td>2015-08-20T00:00:00</td>\n",
       "      <td>2</td>\n",
       "      <td>NaN</td>\n",
       "      <td>5.0</td>\n",
       "      <td>34.3</td>\n",
       "      <td>4</td>\n",
       "      <td>NaN</td>\n",
       "      <td>...</td>\n",
       "      <td>8.3</td>\n",
       "      <td>0.0</td>\n",
       "      <td>Санкт-Петербург</td>\n",
       "      <td>21741.0</td>\n",
       "      <td>13933.0</td>\n",
       "      <td>1.0</td>\n",
       "      <td>90.0</td>\n",
       "      <td>2.0</td>\n",
       "      <td>574.0</td>\n",
       "      <td>558.0</td>\n",
       "    </tr>\n",
       "    <tr>\n",
       "      <th>3</th>\n",
       "      <td>0</td>\n",
       "      <td>64900000.0</td>\n",
       "      <td>159.0</td>\n",
       "      <td>2015-07-24T00:00:00</td>\n",
       "      <td>3</td>\n",
       "      <td>NaN</td>\n",
       "      <td>14.0</td>\n",
       "      <td>NaN</td>\n",
       "      <td>9</td>\n",
       "      <td>NaN</td>\n",
       "      <td>...</td>\n",
       "      <td>NaN</td>\n",
       "      <td>0.0</td>\n",
       "      <td>Санкт-Петербург</td>\n",
       "      <td>28098.0</td>\n",
       "      <td>6800.0</td>\n",
       "      <td>2.0</td>\n",
       "      <td>84.0</td>\n",
       "      <td>3.0</td>\n",
       "      <td>234.0</td>\n",
       "      <td>424.0</td>\n",
       "    </tr>\n",
       "    <tr>\n",
       "      <th>4</th>\n",
       "      <td>2</td>\n",
       "      <td>10000000.0</td>\n",
       "      <td>100.0</td>\n",
       "      <td>2018-06-19T00:00:00</td>\n",
       "      <td>2</td>\n",
       "      <td>3.03</td>\n",
       "      <td>14.0</td>\n",
       "      <td>32.0</td>\n",
       "      <td>13</td>\n",
       "      <td>NaN</td>\n",
       "      <td>...</td>\n",
       "      <td>41.0</td>\n",
       "      <td>NaN</td>\n",
       "      <td>Санкт-Петербург</td>\n",
       "      <td>31856.0</td>\n",
       "      <td>8098.0</td>\n",
       "      <td>2.0</td>\n",
       "      <td>112.0</td>\n",
       "      <td>1.0</td>\n",
       "      <td>48.0</td>\n",
       "      <td>121.0</td>\n",
       "    </tr>\n",
       "  </tbody>\n",
       "</table>\n",
       "<p>5 rows × 22 columns</p>\n",
       "</div>"
      ],
      "text/plain": [
       "   total_images  last_price  total_area first_day_exposition  rooms  \\\n",
       "0            20  13000000.0       108.0  2019-03-07T00:00:00      3   \n",
       "1             7   3350000.0        40.4  2018-12-04T00:00:00      1   \n",
       "2            10   5196000.0        56.0  2015-08-20T00:00:00      2   \n",
       "3             0  64900000.0       159.0  2015-07-24T00:00:00      3   \n",
       "4             2  10000000.0       100.0  2018-06-19T00:00:00      2   \n",
       "\n",
       "   ceiling_height  floors_total  living_area  floor is_apartment  ...  \\\n",
       "0            2.70          16.0         51.0      8          NaN  ...   \n",
       "1             NaN          11.0         18.6      1          NaN  ...   \n",
       "2             NaN           5.0         34.3      4          NaN  ...   \n",
       "3             NaN          14.0          NaN      9          NaN  ...   \n",
       "4            3.03          14.0         32.0     13          NaN  ...   \n",
       "\n",
       "   kitchen_area  balcony    locality_name  airports_nearest  \\\n",
       "0          25.0      NaN  Санкт-Петербург           18863.0   \n",
       "1          11.0      2.0   посёлок Шушары           12817.0   \n",
       "2           8.3      0.0  Санкт-Петербург           21741.0   \n",
       "3           NaN      0.0  Санкт-Петербург           28098.0   \n",
       "4          41.0      NaN  Санкт-Петербург           31856.0   \n",
       "\n",
       "  cityCenters_nearest  parks_around3000  parks_nearest  ponds_around3000  \\\n",
       "0             16028.0               1.0          482.0               2.0   \n",
       "1             18603.0               0.0            NaN               0.0   \n",
       "2             13933.0               1.0           90.0               2.0   \n",
       "3              6800.0               2.0           84.0               3.0   \n",
       "4              8098.0               2.0          112.0               1.0   \n",
       "\n",
       "   ponds_nearest  days_exposition  \n",
       "0          755.0              NaN  \n",
       "1            NaN             81.0  \n",
       "2          574.0            558.0  \n",
       "3          234.0            424.0  \n",
       "4           48.0            121.0  \n",
       "\n",
       "[5 rows x 22 columns]"
      ]
     },
     "metadata": {},
     "output_type": "display_data"
    }
   ],
   "source": [
    "data = pd.read_csv('real_estate_data.csv', sep='\\t')\n",
    "display(data.head())"
   ]
  },
  {
   "cell_type": "code",
   "execution_count": 3,
   "id": "803b8203",
   "metadata": {
    "scrolled": false
   },
   "outputs": [
    {
     "name": "stdout",
     "output_type": "stream",
     "text": [
      "<class 'pandas.core.frame.DataFrame'>\n",
      "RangeIndex: 23699 entries, 0 to 23698\n",
      "Data columns (total 22 columns):\n",
      " #   Column                Non-Null Count  Dtype  \n",
      "---  ------                --------------  -----  \n",
      " 0   total_images          23699 non-null  int64  \n",
      " 1   last_price            23699 non-null  float64\n",
      " 2   total_area            23699 non-null  float64\n",
      " 3   first_day_exposition  23699 non-null  object \n",
      " 4   rooms                 23699 non-null  int64  \n",
      " 5   ceiling_height        14504 non-null  float64\n",
      " 6   floors_total          23613 non-null  float64\n",
      " 7   living_area           21796 non-null  float64\n",
      " 8   floor                 23699 non-null  int64  \n",
      " 9   is_apartment          2775 non-null   object \n",
      " 10  studio                23699 non-null  bool   \n",
      " 11  open_plan             23699 non-null  bool   \n",
      " 12  kitchen_area          21421 non-null  float64\n",
      " 13  balcony               12180 non-null  float64\n",
      " 14  locality_name         23650 non-null  object \n",
      " 15  airports_nearest      18157 non-null  float64\n",
      " 16  cityCenters_nearest   18180 non-null  float64\n",
      " 17  parks_around3000      18181 non-null  float64\n",
      " 18  parks_nearest         8079 non-null   float64\n",
      " 19  ponds_around3000      18181 non-null  float64\n",
      " 20  ponds_nearest         9110 non-null   float64\n",
      " 21  days_exposition       20518 non-null  float64\n",
      "dtypes: bool(2), float64(14), int64(3), object(3)\n",
      "memory usage: 3.7+ MB\n"
     ]
    }
   ],
   "source": [
    "data.info()"
   ]
  },
  {
   "cell_type": "code",
   "execution_count": 4,
   "id": "852b95a1",
   "metadata": {},
   "outputs": [
    {
     "data": {
      "text/plain": [
       "total_images                0\n",
       "last_price                  0\n",
       "total_area                  0\n",
       "first_day_exposition        0\n",
       "rooms                       0\n",
       "ceiling_height           9195\n",
       "floors_total               86\n",
       "living_area              1903\n",
       "floor                       0\n",
       "is_apartment            20924\n",
       "studio                      0\n",
       "open_plan                   0\n",
       "kitchen_area             2278\n",
       "balcony                 11519\n",
       "locality_name              49\n",
       "airports_nearest         5542\n",
       "cityCenters_nearest      5519\n",
       "parks_around3000         5518\n",
       "parks_nearest           15620\n",
       "ponds_around3000         5518\n",
       "ponds_nearest           14589\n",
       "days_exposition          3181\n",
       "dtype: int64"
      ]
     },
     "execution_count": 4,
     "metadata": {},
     "output_type": "execute_result"
    }
   ],
   "source": [
    "# Missing number in features\n",
    "data.isna().sum()"
   ]
  },
  {
   "cell_type": "code",
   "execution_count": 5,
   "id": "0287baa6",
   "metadata": {},
   "outputs": [
    {
     "data": {
      "text/html": [
       "<div>\n",
       "<style scoped>\n",
       "    .dataframe tbody tr th:only-of-type {\n",
       "        vertical-align: middle;\n",
       "    }\n",
       "\n",
       "    .dataframe tbody tr th {\n",
       "        vertical-align: top;\n",
       "    }\n",
       "\n",
       "    .dataframe thead th {\n",
       "        text-align: right;\n",
       "    }\n",
       "</style>\n",
       "<table border=\"1\" class=\"dataframe\">\n",
       "  <thead>\n",
       "    <tr style=\"text-align: right;\">\n",
       "      <th></th>\n",
       "      <th>total_images</th>\n",
       "      <th>last_price</th>\n",
       "      <th>total_area</th>\n",
       "      <th>rooms</th>\n",
       "      <th>ceiling_height</th>\n",
       "      <th>floors_total</th>\n",
       "      <th>living_area</th>\n",
       "      <th>floor</th>\n",
       "      <th>kitchen_area</th>\n",
       "      <th>balcony</th>\n",
       "      <th>airports_nearest</th>\n",
       "      <th>cityCenters_nearest</th>\n",
       "      <th>parks_around3000</th>\n",
       "      <th>parks_nearest</th>\n",
       "      <th>ponds_around3000</th>\n",
       "      <th>ponds_nearest</th>\n",
       "      <th>days_exposition</th>\n",
       "    </tr>\n",
       "  </thead>\n",
       "  <tbody>\n",
       "    <tr>\n",
       "      <th>count</th>\n",
       "      <td>23699.000000</td>\n",
       "      <td>2.369900e+04</td>\n",
       "      <td>23699.000000</td>\n",
       "      <td>23699.000000</td>\n",
       "      <td>14504.000000</td>\n",
       "      <td>23613.000000</td>\n",
       "      <td>21796.000000</td>\n",
       "      <td>23699.000000</td>\n",
       "      <td>21421.000000</td>\n",
       "      <td>12180.000000</td>\n",
       "      <td>18157.000000</td>\n",
       "      <td>18180.000000</td>\n",
       "      <td>18181.000000</td>\n",
       "      <td>8079.000000</td>\n",
       "      <td>18181.000000</td>\n",
       "      <td>9110.000000</td>\n",
       "      <td>20518.000000</td>\n",
       "    </tr>\n",
       "    <tr>\n",
       "      <th>mean</th>\n",
       "      <td>9.858475</td>\n",
       "      <td>6.541549e+06</td>\n",
       "      <td>60.348651</td>\n",
       "      <td>2.070636</td>\n",
       "      <td>2.771499</td>\n",
       "      <td>10.673824</td>\n",
       "      <td>34.457852</td>\n",
       "      <td>5.892358</td>\n",
       "      <td>10.569807</td>\n",
       "      <td>1.150082</td>\n",
       "      <td>28793.672193</td>\n",
       "      <td>14191.277833</td>\n",
       "      <td>0.611408</td>\n",
       "      <td>490.804555</td>\n",
       "      <td>0.770255</td>\n",
       "      <td>517.980900</td>\n",
       "      <td>180.888634</td>\n",
       "    </tr>\n",
       "    <tr>\n",
       "      <th>std</th>\n",
       "      <td>5.682529</td>\n",
       "      <td>1.088701e+07</td>\n",
       "      <td>35.654083</td>\n",
       "      <td>1.078405</td>\n",
       "      <td>1.261056</td>\n",
       "      <td>6.597173</td>\n",
       "      <td>22.030445</td>\n",
       "      <td>4.885249</td>\n",
       "      <td>5.905438</td>\n",
       "      <td>1.071300</td>\n",
       "      <td>12630.880622</td>\n",
       "      <td>8608.386210</td>\n",
       "      <td>0.802074</td>\n",
       "      <td>342.317995</td>\n",
       "      <td>0.938346</td>\n",
       "      <td>277.720643</td>\n",
       "      <td>219.727988</td>\n",
       "    </tr>\n",
       "    <tr>\n",
       "      <th>min</th>\n",
       "      <td>0.000000</td>\n",
       "      <td>1.219000e+04</td>\n",
       "      <td>12.000000</td>\n",
       "      <td>0.000000</td>\n",
       "      <td>1.000000</td>\n",
       "      <td>1.000000</td>\n",
       "      <td>2.000000</td>\n",
       "      <td>1.000000</td>\n",
       "      <td>1.300000</td>\n",
       "      <td>0.000000</td>\n",
       "      <td>0.000000</td>\n",
       "      <td>181.000000</td>\n",
       "      <td>0.000000</td>\n",
       "      <td>1.000000</td>\n",
       "      <td>0.000000</td>\n",
       "      <td>13.000000</td>\n",
       "      <td>1.000000</td>\n",
       "    </tr>\n",
       "    <tr>\n",
       "      <th>25%</th>\n",
       "      <td>6.000000</td>\n",
       "      <td>3.400000e+06</td>\n",
       "      <td>40.000000</td>\n",
       "      <td>1.000000</td>\n",
       "      <td>2.520000</td>\n",
       "      <td>5.000000</td>\n",
       "      <td>18.600000</td>\n",
       "      <td>2.000000</td>\n",
       "      <td>7.000000</td>\n",
       "      <td>0.000000</td>\n",
       "      <td>18585.000000</td>\n",
       "      <td>9238.000000</td>\n",
       "      <td>0.000000</td>\n",
       "      <td>288.000000</td>\n",
       "      <td>0.000000</td>\n",
       "      <td>294.000000</td>\n",
       "      <td>45.000000</td>\n",
       "    </tr>\n",
       "    <tr>\n",
       "      <th>50%</th>\n",
       "      <td>9.000000</td>\n",
       "      <td>4.650000e+06</td>\n",
       "      <td>52.000000</td>\n",
       "      <td>2.000000</td>\n",
       "      <td>2.650000</td>\n",
       "      <td>9.000000</td>\n",
       "      <td>30.000000</td>\n",
       "      <td>4.000000</td>\n",
       "      <td>9.100000</td>\n",
       "      <td>1.000000</td>\n",
       "      <td>26726.000000</td>\n",
       "      <td>13098.500000</td>\n",
       "      <td>0.000000</td>\n",
       "      <td>455.000000</td>\n",
       "      <td>1.000000</td>\n",
       "      <td>502.000000</td>\n",
       "      <td>95.000000</td>\n",
       "    </tr>\n",
       "    <tr>\n",
       "      <th>75%</th>\n",
       "      <td>14.000000</td>\n",
       "      <td>6.800000e+06</td>\n",
       "      <td>69.900000</td>\n",
       "      <td>3.000000</td>\n",
       "      <td>2.800000</td>\n",
       "      <td>16.000000</td>\n",
       "      <td>42.300000</td>\n",
       "      <td>8.000000</td>\n",
       "      <td>12.000000</td>\n",
       "      <td>2.000000</td>\n",
       "      <td>37273.000000</td>\n",
       "      <td>16293.000000</td>\n",
       "      <td>1.000000</td>\n",
       "      <td>612.000000</td>\n",
       "      <td>1.000000</td>\n",
       "      <td>729.000000</td>\n",
       "      <td>232.000000</td>\n",
       "    </tr>\n",
       "    <tr>\n",
       "      <th>max</th>\n",
       "      <td>50.000000</td>\n",
       "      <td>7.630000e+08</td>\n",
       "      <td>900.000000</td>\n",
       "      <td>19.000000</td>\n",
       "      <td>100.000000</td>\n",
       "      <td>60.000000</td>\n",
       "      <td>409.700000</td>\n",
       "      <td>33.000000</td>\n",
       "      <td>112.000000</td>\n",
       "      <td>5.000000</td>\n",
       "      <td>84869.000000</td>\n",
       "      <td>65968.000000</td>\n",
       "      <td>3.000000</td>\n",
       "      <td>3190.000000</td>\n",
       "      <td>3.000000</td>\n",
       "      <td>1344.000000</td>\n",
       "      <td>1580.000000</td>\n",
       "    </tr>\n",
       "  </tbody>\n",
       "</table>\n",
       "</div>"
      ],
      "text/plain": [
       "       total_images    last_price    total_area         rooms  ceiling_height  \\\n",
       "count  23699.000000  2.369900e+04  23699.000000  23699.000000    14504.000000   \n",
       "mean       9.858475  6.541549e+06     60.348651      2.070636        2.771499   \n",
       "std        5.682529  1.088701e+07     35.654083      1.078405        1.261056   \n",
       "min        0.000000  1.219000e+04     12.000000      0.000000        1.000000   \n",
       "25%        6.000000  3.400000e+06     40.000000      1.000000        2.520000   \n",
       "50%        9.000000  4.650000e+06     52.000000      2.000000        2.650000   \n",
       "75%       14.000000  6.800000e+06     69.900000      3.000000        2.800000   \n",
       "max       50.000000  7.630000e+08    900.000000     19.000000      100.000000   \n",
       "\n",
       "       floors_total   living_area         floor  kitchen_area       balcony  \\\n",
       "count  23613.000000  21796.000000  23699.000000  21421.000000  12180.000000   \n",
       "mean      10.673824     34.457852      5.892358     10.569807      1.150082   \n",
       "std        6.597173     22.030445      4.885249      5.905438      1.071300   \n",
       "min        1.000000      2.000000      1.000000      1.300000      0.000000   \n",
       "25%        5.000000     18.600000      2.000000      7.000000      0.000000   \n",
       "50%        9.000000     30.000000      4.000000      9.100000      1.000000   \n",
       "75%       16.000000     42.300000      8.000000     12.000000      2.000000   \n",
       "max       60.000000    409.700000     33.000000    112.000000      5.000000   \n",
       "\n",
       "       airports_nearest  cityCenters_nearest  parks_around3000  parks_nearest  \\\n",
       "count      18157.000000         18180.000000      18181.000000    8079.000000   \n",
       "mean       28793.672193         14191.277833          0.611408     490.804555   \n",
       "std        12630.880622          8608.386210          0.802074     342.317995   \n",
       "min            0.000000           181.000000          0.000000       1.000000   \n",
       "25%        18585.000000          9238.000000          0.000000     288.000000   \n",
       "50%        26726.000000         13098.500000          0.000000     455.000000   \n",
       "75%        37273.000000         16293.000000          1.000000     612.000000   \n",
       "max        84869.000000         65968.000000          3.000000    3190.000000   \n",
       "\n",
       "       ponds_around3000  ponds_nearest  days_exposition  \n",
       "count      18181.000000    9110.000000     20518.000000  \n",
       "mean           0.770255     517.980900       180.888634  \n",
       "std            0.938346     277.720643       219.727988  \n",
       "min            0.000000      13.000000         1.000000  \n",
       "25%            0.000000     294.000000        45.000000  \n",
       "50%            1.000000     502.000000        95.000000  \n",
       "75%            1.000000     729.000000       232.000000  \n",
       "max            3.000000    1344.000000      1580.000000  "
      ]
     },
     "execution_count": 5,
     "metadata": {},
     "output_type": "execute_result"
    }
   ],
   "source": [
    "data.describe()"
   ]
  },
  {
   "cell_type": "markdown",
   "id": "b6d01e7a",
   "metadata": {},
   "source": [
    "The dataframe contains `23699 strings` each of which is described by `22 features`:\n",
    "\n",
    "- 17 quantitative;\n",
    "- 4 categorical;\n",
    "- 1 temporary.\n",
    "\n",
    "Some characteristics have missing values need to be processed."
   ]
  },
  {
   "cell_type": "markdown",
   "id": "28f2b138",
   "metadata": {},
   "source": [
    "## Step 2. Data Preprocessing\n",
    "\n",
    "Define the missing and duplicate values in each data column"
   ]
  },
  {
   "cell_type": "code",
   "execution_count": 6,
   "id": "b4c31b13",
   "metadata": {},
   "outputs": [
    {
     "data": {
      "text/plain": [
       "0"
      ]
     },
     "execution_count": 6,
     "metadata": {},
     "output_type": "execute_result"
    }
   ],
   "source": [
    "data.duplicated().sum() "
   ]
  },
  {
   "cell_type": "code",
   "execution_count": 7,
   "id": "5b2a4427",
   "metadata": {},
   "outputs": [
    {
     "data": {
      "text/plain": [
       "total_images             0.00\n",
       "last_price               0.00\n",
       "total_area               0.00\n",
       "first_day_exposition     0.00\n",
       "rooms                    0.00\n",
       "ceiling_height          38.80\n",
       "floors_total             0.36\n",
       "living_area              8.03\n",
       "floor                    0.00\n",
       "is_apartment            88.29\n",
       "studio                   0.00\n",
       "open_plan                0.00\n",
       "kitchen_area             9.61\n",
       "balcony                 48.61\n",
       "locality_name            0.21\n",
       "airports_nearest        23.38\n",
       "cityCenters_nearest     23.29\n",
       "parks_around3000        23.28\n",
       "parks_nearest           65.91\n",
       "ponds_around3000        23.28\n",
       "ponds_nearest           61.56\n",
       "days_exposition         13.42\n",
       "dtype: float64"
      ]
     },
     "execution_count": 7,
     "metadata": {},
     "output_type": "execute_result"
    }
   ],
   "source": [
    "# percentage of missing values calculation in the dataframe\n",
    "round((data.isna().sum() / len(data)) * 100, 2)  "
   ]
  },
  {
   "cell_type": "markdown",
   "id": "fd3bd25b",
   "metadata": {},
   "source": [
    "**Missing values**\n",
    "\n",
    "- ceiling_height: \n",
    "\n",
    "     - missing values is 38.8 %;\n",
    "     - some values were entered manually with an error (27 m instead of 2.7 m, etc.).\n",
    "    \n",
    "Missing values are handled:\n",
    "     - Changed to the median.\n",
    "    \n",
    "Perhaps some do not consider this a mandatory item and therefore have not taken any action to find out the ceilings height.\n",
    "\n",
    "-----------------------------------------------------------------------------------------------------------------------------  \n",
    "- floors_total: \n",
    "\n",
    "   - missing values is 0.36 %;\n",
    "   \n",
    "This feature will be used in the analysis and it is not possible to replace the missing values accurately enough.\n",
    "    \n",
    "----------------------------------------------------------------------------------------------------------------------------- \n",
    "- living_area \n",
    "\n",
    "    - missing values is 0 %.\n",
    "\n",
    "----------------------------------------------------------------------------------------------------------------------------- \n",
    "- balcony: \n",
    "\n",
    "    - missing values is 48.6 %. \n",
    "    \n",
    "It is assumed that the absence of the number of balconies indicates that the number of balconies is zero.\n",
    "\n",
    "-----------------------------------------------------------------------------------------------------------------------------   \n",
    "- locality_name:\n",
    "\n",
    "looks strange when the locality is not indicated. Perhaps many people think that it is enough to indicate the category in the \"St. Petersburg\" section of the site.\n",
    "\n",
    "----------------------------------------------------------------------------------------------------------------------------- \n",
    "- locality_name: \n",
    "\n",
    "    - missing values is 0.21 %. \n",
    "    \n",
    "All objects with missing values are NOT removed because the feature will be used in further analysis. It is necessary to enter a condition on the mandatory filling of this feature in the ad.\n",
    "\n",
    "----------------------------------------------------------------------------------------------------------------------------- \n",
    "- cityCenters_nearest: \n",
    "\n",
    "    - missing values is 23.3 %.\n",
    "    \n",
    "The complexity of filling in such missing values is high. Leave the missing values unchanged.\n",
    "\n",
    "----------------------------------------------------------------------------------------------------------------------------- \n",
    "- is_apartment, airports_nearest, parks_around3000, parks_nearest, ponds_around3000, ponds_nearest: \n",
    "\n",
    "Missing values in these features are left unchanged as they will not be used in the current study.\n",
    "\n",
    "-----------------------------------------------------------------------------------------------------------------------------\n",
    "- kitchen_area:\n",
    "\n",
    "    - missing values is 10 %. \n",
    "    \n",
    "For the following reason:\n",
    "\n",
    "   - studio apartment;\n",
    "   - human error;\n",
    "   - forgot to fill.\n",
    "    \n",
    "-----------------------------------------------------------------------------------------------------------------------------\n",
    "\n",
    "\n",
    "- days_exposition: \n",
    "\n",
    "    - missing values is 13.4 %.\n",
    "    \n",
    "Information may be missing for example due to the fact that it is not known when the sale announcement was closed i.e. in fact, the transaction was completed but was not closed on the online resource. \n",
    "For the same reason we can get results in the form of an apartment sale period of several years. \n",
    "However it is not worth putting down information about the timing of the sale at random. Here \"mean\" and \"median\" will not suitable. \n",
    "It would be possible to see how apartments with the same parameters were sold. Therefore we leave this column alone but change the data type in it."
   ]
  },
  {
   "cell_type": "code",
   "execution_count": 8,
   "id": "e8b83a1e",
   "metadata": {},
   "outputs": [],
   "source": [
    "# in column 'ceiling_height' abnormal values are found. Ceiling heights cannot be double digits (10 - 100 meters), \n",
    "# and less than 2.5 m (in the data there are values of 1.75 m and even 1 m).\n",
    "# Fill in the missings with the median value.\n",
    "data['ceiling_height'] = data['ceiling_height'].where(data['ceiling_height'] <= 9, data['ceiling_height'].median())\n",
    "data['ceiling_height'] = data['ceiling_height'].where(data['ceiling_height'] >= 2.5, data['ceiling_height'].median())\n",
    "#data['ceiling_height'].describe()\n",
    "\n",
    "# Assumed NaN's in columsn 'is_apartment' means that the user has not specified a room type.\n",
    "# Fill in the missing values with \"False\"\n",
    "data['is_apartment'] = data['is_apartment'].fillna(False)\n",
    "\n",
    "# The number of balconies is not specified. In the 'balcony' column of NAN's we replace it with \"0\".\n",
    "data['balcony'] = data['balcony'].fillna(0)\n",
    "\n",
    "# Fill 'floors_total' by meadian\n",
    "data['floors_total'] = data['floors_total'].fillna(data['floors_total'].median())\n",
    "\n",
    "# I divide the column with prices by 1,000,000 (million) for convenience\n",
    "data['last_price'] = data['last_price'] / 1000000"
   ]
  },
  {
   "cell_type": "code",
   "execution_count": 9,
   "id": "0da58823",
   "metadata": {},
   "outputs": [],
   "source": [
    "# change the data type of the 'is_apartment' column to boolean\n",
    "data['is_apartment'] = data['is_apartment'].astype(bool)\n",
    "\n",
    "# Change data type to datetime\n",
    "data['first_day_exposition'] = pd.to_datetime(data['first_day_exposition'], format='%Y.%m.%d')\n",
    "\n",
    "# change the data type float to int to save RAM\n",
    "data['floors_total'] = data['floors_total'].astype(int)\n",
    "\n",
    "# change data type float to int to save RAM\n",
    "data['balcony'] = data['balcony'].astype(int)\n",
    "\n",
    "#change data type float to int to save RAM\n",
    "data['days_exposition'] = data['days_exposition'].astype('float32')\n",
    "    \n",
    "# I delete the objects where the names of locality are missing. \n",
    "# Without this data it is difficult to predict / analyze.\n",
    "data['locality_name_drop'] = data['locality_name'].isna()\n",
    "data = data.query('locality_name_drop == False')\n",
    "data = data.reset_index(drop=True)\n",
    "\n",
    "# change data type float to int to save RAM\n",
    "data[['airports_nearest','cityCenters_nearest','parks_around3000','parks_nearest','ponds_around3000','ponds_nearest']]\\\n",
    "  = data[['airports_nearest','cityCenters_nearest','parks_around3000','parks_nearest','ponds_around3000','ponds_nearest']]\\\n",
    "  .astype('float32')\n"
   ]
  },
  {
   "cell_type": "code",
   "execution_count": 10,
   "id": "44e1798d",
   "metadata": {},
   "outputs": [
    {
     "name": "stdout",
     "output_type": "stream",
     "text": [
      "<class 'pandas.core.frame.DataFrame'>\n",
      "RangeIndex: 23650 entries, 0 to 23649\n",
      "Data columns (total 23 columns):\n",
      " #   Column                Non-Null Count  Dtype         \n",
      "---  ------                --------------  -----         \n",
      " 0   total_images          23650 non-null  int64         \n",
      " 1   last_price            23650 non-null  float64       \n",
      " 2   total_area            23650 non-null  float64       \n",
      " 3   first_day_exposition  23650 non-null  datetime64[ns]\n",
      " 4   rooms                 23650 non-null  int64         \n",
      " 5   ceiling_height        23650 non-null  float64       \n",
      " 6   floors_total          23650 non-null  int32         \n",
      " 7   living_area           21752 non-null  float64       \n",
      " 8   floor                 23650 non-null  int64         \n",
      " 9   is_apartment          23650 non-null  bool          \n",
      " 10  studio                23650 non-null  bool          \n",
      " 11  open_plan             23650 non-null  bool          \n",
      " 12  kitchen_area          21381 non-null  float64       \n",
      " 13  balcony               23650 non-null  int32         \n",
      " 14  locality_name         23650 non-null  object        \n",
      " 15  airports_nearest      18116 non-null  float32       \n",
      " 16  cityCenters_nearest   18139 non-null  float32       \n",
      " 17  parks_around3000      18140 non-null  float32       \n",
      " 18  parks_nearest         8064 non-null   float32       \n",
      " 19  ponds_around3000      18140 non-null  float32       \n",
      " 20  ponds_nearest         9085 non-null   float32       \n",
      " 21  days_exposition       20470 non-null  float32       \n",
      " 22  locality_name_drop    23650 non-null  bool          \n",
      "dtypes: bool(4), datetime64[ns](1), float32(7), float64(5), int32(2), int64(3), object(1)\n",
      "memory usage: 2.7+ MB\n"
     ]
    }
   ],
   "source": [
    "data.info()"
   ]
  },
  {
   "cell_type": "markdown",
   "id": "1eb9a515",
   "metadata": {},
   "source": [
    "## Step 3. Calculate and add to the table"
   ]
  },
  {
   "cell_type": "markdown",
   "id": "1e33a92a",
   "metadata": {},
   "source": [
    "**Price per square meter**"
   ]
  },
  {
   "cell_type": "code",
   "execution_count": 11,
   "id": "9c439812",
   "metadata": {},
   "outputs": [],
   "source": [
    "data['sqrm_price'] = round(((data['last_price'] / data['total_area']) * 1000000), 1)"
   ]
  },
  {
   "cell_type": "markdown",
   "id": "b65150c3",
   "metadata": {},
   "source": [
    "**Day of the week, month and year of publication of the announcement**"
   ]
  },
  {
   "cell_type": "code",
   "execution_count": 12,
   "id": "d0ccf833",
   "metadata": {},
   "outputs": [],
   "source": [
    "data['weekday'] = data['first_day_exposition'].dt.weekday\n",
    "data['month'] = data['first_day_exposition'].dt.month\n",
    "data['year'] = data['first_day_exposition'].dt.year"
   ]
  },
  {
   "cell_type": "markdown",
   "id": "352e1a9f",
   "metadata": {},
   "source": [
    "**Floor:**\n",
    "- the first;\n",
    "- last;\n",
    "- another."
   ]
  },
  {
   "cell_type": "code",
   "execution_count": 13,
   "id": "0690ade4",
   "metadata": {},
   "outputs": [],
   "source": [
    "data.loc[data['floor'] == 1, 'floor_category'] = 'первый'\n",
    "data.loc[data['floor'] == data['floors_total'], 'floor_category'] = 'последний'\n",
    "data['floor_category'] = data['floor_category'].fillna('другой')\n",
    "\n",
    "#data['floor_category'].value_counts()"
   ]
  },
  {
   "cell_type": "markdown",
   "id": "3ef9168b",
   "metadata": {},
   "source": [
    "**The ratio of living and total area, as well as the ratio of kitchen area to total**"
   ]
  },
  {
   "cell_type": "code",
   "execution_count": 14,
   "id": "99ee763d",
   "metadata": {},
   "outputs": [],
   "source": [
    "data['liv_total_relation'] = data['living_area'] / data['total_area']\n",
    "data['kitch_total_relation'] = data['kitchen_area'] / data['total_area']"
   ]
  },
  {
   "cell_type": "markdown",
   "id": "a9187dfb",
   "metadata": {},
   "source": [
    "## Step 4. EDA"
   ]
  },
  {
   "cell_type": "markdown",
   "id": "b16f0cfa",
   "metadata": {},
   "source": [
    "**Plot histograms for area, price, number of rooms, ceiling heights.**"
   ]
  },
  {
   "cell_type": "code",
   "execution_count": 15,
   "id": "e81c1946",
   "metadata": {},
   "outputs": [],
   "source": [
    "data_analysis = pd.Series(['total_area','last_price','rooms', 'ceiling_height'])\n",
    "\n",
    "\n",
    "def det_whiskers(column):\n",
    "    descr = data[column].describe()\n",
    "    \n",
    "    # interquartile range\n",
    "    iqr = descr[6] - descr[4]\n",
    "    \n",
    "    left_whisker = round(descr[4] - 1.5 * iqr, 2)\n",
    "    right_whisker = round(descr[6] + 1.5 * iqr, 2)\n",
    "\n",
    "    if left_whisker < descr[3]: left_whisker = descr[3] \n",
    "    if right_whisker > descr[7]: right_whisker = descr[7]\n",
    "        \n",
    "    return [left_whisker,right_whisker]\n",
    "\n",
    "\n",
    "\n",
    "# define a function calculates the proportion of anomalous values\n",
    "def print_anomalies_ratio(column):\n",
    "    print(f'Аномальные значения составляют \\\n",
    "{round(len(data.loc[data[column] > det_whiskers(column)[1]]) / len(data[column])*100), 2}\\\n",
    "% от всей выборки.')\n"
   ]
  },
  {
   "cell_type": "markdown",
   "id": "d24a3265",
   "metadata": {},
   "source": [
    "**Square**"
   ]
  },
  {
   "cell_type": "code",
   "execution_count": 16,
   "id": "6817a1fb",
   "metadata": {},
   "outputs": [
    {
     "data": {
      "text/plain": [
       "[12.0, 114.25]"
      ]
     },
     "execution_count": 16,
     "metadata": {},
     "output_type": "execute_result"
    }
   ],
   "source": [
    "det_whiskers('total_area')"
   ]
  },
  {
   "cell_type": "code",
   "execution_count": 17,
   "id": "08427456",
   "metadata": {},
   "outputs": [
    {
     "data": {
      "text/plain": [
       "count    23650.000000\n",
       "mean        60.329069\n",
       "std         35.661808\n",
       "min         12.000000\n",
       "25%         40.000000\n",
       "50%         52.000000\n",
       "75%         69.700000\n",
       "max        900.000000\n",
       "Name: total_area, dtype: float64"
      ]
     },
     "execution_count": 17,
     "metadata": {},
     "output_type": "execute_result"
    }
   ],
   "source": [
    "data['total_area'].describe()"
   ]
  },
  {
   "cell_type": "code",
   "execution_count": 18,
   "id": "59b63809",
   "metadata": {},
   "outputs": [
    {
     "data": {
      "text/plain": [
       "Text(0, 0.5, 'Частота')"
      ]
     },
     "execution_count": 18,
     "metadata": {},
     "output_type": "execute_result"
    },
    {
     "data": {
      "image/png": "[encoded data removed]",
      "text/plain": [
       "<Figure size 432x288 with 1 Axes>"
      ]
     },
     "metadata": {
      "needs_background": "light"
     },
     "output_type": "display_data"
    },
    {
     "data": {
      "image/png": "[encoded data removed]",
      "text/plain": [
       "<Figure size 432x288 with 1 Axes>"
      ]
     },
     "metadata": {
      "needs_background": "light"
     },
     "output_type": "display_data"
    }
   ],
   "source": [
    "# Plot whisker limiting the area to 160 sq.m\n",
    "data.boxplot(column='total_area')\n",
    "plt.title('Диаграмма размаха')\n",
    "plt.ylabel('Общая площадь, кв.м')\n",
    "plt.ylim(0, 150)\n",
    "\n",
    "# Plot HIST limiting the area to 160 sq.m\n",
    "# data.hist('total_area',bins=100,range=(0,160))\n",
    "data.hist('total_area',bins=125)\n",
    "plt.xlim(det_whiskers('total_area')[0], det_whiskers('total_area')[1])\n",
    "plt.title('Гистограмма общей площади')\n",
    "plt.xlabel('Общая площадь, кв.м')\n",
    "plt.ylabel('Частота')"
   ]
  },
  {
   "cell_type": "code",
   "execution_count": 19,
   "id": "a3da77e3",
   "metadata": {},
   "outputs": [
    {
     "name": "stdout",
     "output_type": "stream",
     "text": [
      "Аномальные значения составляют (5, 2)% от всей выборки.\n"
     ]
    }
   ],
   "source": [
    "print_anomalies_ratio('total_area')"
   ]
  },
  {
   "cell_type": "code",
   "execution_count": 20,
   "id": "3b3428a8",
   "metadata": {},
   "outputs": [],
   "source": [
    "# I add a column with a feature that describes an abnormally large area of real estate.\n",
    "data['too_large_area'] = data['total_area'] > det_whiskers('total_area')[1]"
   ]
  },
  {
   "cell_type": "markdown",
   "id": "0a6c1c35",
   "metadata": {},
   "source": [
    "**Price**"
   ]
  },
  {
   "cell_type": "code",
   "execution_count": 21,
   "id": "65e39963",
   "metadata": {},
   "outputs": [
    {
     "data": {
      "text/plain": [
       "[0.01219, 11.9]"
      ]
     },
     "execution_count": 21,
     "metadata": {},
     "output_type": "execute_result"
    }
   ],
   "source": [
    "det_whiskers('last_price')"
   ]
  },
  {
   "cell_type": "code",
   "execution_count": 22,
   "id": "bbca8699",
   "metadata": {},
   "outputs": [
    {
     "data": {
      "text/plain": [
       "count    23650.000000\n",
       "mean         6.541127\n",
       "std         10.896399\n",
       "min          0.012190\n",
       "25%          3.400000\n",
       "50%          4.650000\n",
       "75%          6.799000\n",
       "max        763.000000\n",
       "Name: last_price, dtype: float64"
      ]
     },
     "execution_count": 22,
     "metadata": {},
     "output_type": "execute_result"
    }
   ],
   "source": [
    "data['last_price'].describe()"
   ]
  },
  {
   "cell_type": "code",
   "execution_count": 23,
   "id": "dbfe163d",
   "metadata": {},
   "outputs": [
    {
     "data": {
      "text/plain": [
       "Text(0, 0.5, 'Частота')"
      ]
     },
     "execution_count": 23,
     "metadata": {},
     "output_type": "execute_result"
    },
    {
     "data": {
      "image/png": "[encoded data removed]",
      "text/plain": [
       "<Figure size 432x288 with 1 Axes>"
      ]
     },
     "metadata": {
      "needs_background": "light"
     },
     "output_type": "display_data"
    },
    {
     "data": {
      "image/png": "[encoded data removed]",
      "text/plain": [
       "<Figure size 432x288 with 1 Axes>"
      ]
     },
     "metadata": {
      "needs_background": "light"
     },
     "output_type": "display_data"
    }
   ],
   "source": [
    "# Plot whisker\n",
    "data.boxplot(column='last_price')\n",
    "plt.title('Диаграмма размаха')\n",
    "plt.ylabel('Цена, млн.р')\n",
    "plt.ylim(0, 15)\n",
    "\n",
    "# Plot hist\n",
    "# data.hist('last_price',bins=100,range=(0,20))\n",
    "data.hist('last_price',bins=500)\n",
    "plt.xlim(det_whiskers('last_price')[0], det_whiskers('last_price')[1])\n",
    "plt.title('Гистограмма цен')\n",
    "plt.xlabel('Цена, млн.р')\n",
    "plt.ylabel('Частота')"
   ]
  },
  {
   "cell_type": "code",
   "execution_count": 24,
   "id": "74cfbf99",
   "metadata": {},
   "outputs": [
    {
     "name": "stdout",
     "output_type": "stream",
     "text": [
      "Аномальные значения составляют (9, 2)% от всей выборки.\n"
     ]
    }
   ],
   "source": [
    "print_anomalies_ratio('last_price')"
   ]
  },
  {
   "cell_type": "code",
   "execution_count": 25,
   "id": "ceca6783",
   "metadata": {},
   "outputs": [],
   "source": [
    "# I add a column with a feature that describes an abnormally large area of real estate.\n",
    "data['too_large_price'] = data['last_price'] > det_whiskers('last_price')[1]\n"
   ]
  },
  {
   "cell_type": "markdown",
   "id": "c9738eee",
   "metadata": {},
   "source": [
    "**Room number**"
   ]
  },
  {
   "cell_type": "code",
   "execution_count": 26,
   "id": "67b2ecbf",
   "metadata": {},
   "outputs": [
    {
     "data": {
      "text/plain": [
       "[0.0, 6.0]"
      ]
     },
     "execution_count": 26,
     "metadata": {},
     "output_type": "execute_result"
    }
   ],
   "source": [
    "det_whiskers('rooms')"
   ]
  },
  {
   "cell_type": "code",
   "execution_count": 27,
   "id": "2c4cfeb5",
   "metadata": {},
   "outputs": [
    {
     "data": {
      "text/plain": [
       "count    23650.000000\n",
       "mean         2.070106\n",
       "std          1.078620\n",
       "min          0.000000\n",
       "25%          1.000000\n",
       "50%          2.000000\n",
       "75%          3.000000\n",
       "max         19.000000\n",
       "Name: rooms, dtype: float64"
      ]
     },
     "execution_count": 27,
     "metadata": {},
     "output_type": "execute_result"
    }
   ],
   "source": [
    "data['rooms'].describe()"
   ]
  },
  {
   "cell_type": "code",
   "execution_count": 28,
   "id": "34d41227",
   "metadata": {},
   "outputs": [
    {
     "data": {
      "text/plain": [
       "Text(0, 0.5, 'Частота')"
      ]
     },
     "execution_count": 28,
     "metadata": {},
     "output_type": "execute_result"
    },
    {
     "data": {
      "image/png": "[encoded data removed]",
      "text/plain": [
       "<Figure size 432x288 with 1 Axes>"
      ]
     },
     "metadata": {
      "needs_background": "light"
     },
     "output_type": "display_data"
    },
    {
     "data": {
      "image/png": "[encoded data removed]",
      "text/plain": [
       "<Figure size 432x288 with 1 Axes>"
      ]
     },
     "metadata": {
      "needs_background": "light"
     },
     "output_type": "display_data"
    }
   ],
   "source": [
    "# Whisker plot\n",
    "data.boxplot(column='rooms')\n",
    "plt.title('Диаграмма размаха')\n",
    "plt.ylabel('Количество комнат, шт')\n",
    "plt.ylim(0, 19)\n",
    "\n",
    "# Plot histogram\n",
    "# data.hist('rooms',bins=30,range=(0,19))\n",
    "data.hist('rooms',bins=40)\n",
    "plt.xlim(det_whiskers('rooms')[0], det_whiskers('rooms')[1])\n",
    "plt.title('Гистограмма количества комнат')\n",
    "plt.xlabel('Количество комнат, шт')\n",
    "plt.ylabel('Частота')"
   ]
  },
  {
   "cell_type": "code",
   "execution_count": 29,
   "id": "c7ff9dad",
   "metadata": {},
   "outputs": [
    {
     "name": "stdout",
     "output_type": "stream",
     "text": [
      "Аномальные значения составляют (0, 2)% от всей выборки.\n"
     ]
    }
   ],
   "source": [
    "print_anomalies_ratio('rooms')"
   ]
  },
  {
   "cell_type": "code",
   "execution_count": 30,
   "id": "33e394dc",
   "metadata": {},
   "outputs": [],
   "source": [
    "data['too_large_rooms'] = data['rooms'] > det_whiskers('rooms')[1]"
   ]
  },
  {
   "cell_type": "markdown",
   "id": "48640121",
   "metadata": {},
   "source": [
    "**Ceiling height**"
   ]
  },
  {
   "cell_type": "code",
   "execution_count": 31,
   "id": "54a8812f",
   "metadata": {},
   "outputs": [
    {
     "data": {
      "text/plain": [
       "[2.5, 2.85]"
      ]
     },
     "execution_count": 31,
     "metadata": {},
     "output_type": "execute_result"
    }
   ],
   "source": [
    "det_whiskers('ceiling_height')"
   ]
  },
  {
   "cell_type": "code",
   "execution_count": 32,
   "id": "517a299c",
   "metadata": {},
   "outputs": [
    {
     "data": {
      "text/plain": [
       "count    23650.000000\n",
       "mean         2.698592\n",
       "std          0.230798\n",
       "min          2.500000\n",
       "25%          2.600000\n",
       "50%          2.650000\n",
       "75%          2.700000\n",
       "max          8.300000\n",
       "Name: ceiling_height, dtype: float64"
      ]
     },
     "execution_count": 32,
     "metadata": {},
     "output_type": "execute_result"
    }
   ],
   "source": [
    "data['ceiling_height'].describe()"
   ]
  },
  {
   "cell_type": "code",
   "execution_count": 33,
   "id": "72aca1ce",
   "metadata": {},
   "outputs": [
    {
     "data": {
      "text/plain": [
       "Text(0, 0.5, 'Частота')"
      ]
     },
     "execution_count": 33,
     "metadata": {},
     "output_type": "execute_result"
    },
    {
     "data": {
      "image/png": "[encoded data removed]",
      "text/plain": [
       "<Figure size 432x288 with 1 Axes>"
      ]
     },
     "metadata": {
      "needs_background": "light"
     },
     "output_type": "display_data"
    },
    {
     "data": {
      "image/png": "[encoded data removed]",
      "text/plain": [
       "<Figure size 432x288 with 1 Axes>"
      ]
     },
     "metadata": {
      "needs_background": "light"
     },
     "output_type": "display_data"
    }
   ],
   "source": [
    "# Whisker plot\n",
    "data.boxplot(column='ceiling_height')\n",
    "plt.title('Диаграмма размаха')\n",
    "plt.ylabel('Высота потолка, м')\n",
    "plt.ylim(2.4, 3)\n",
    "\n",
    "# Plot histogram\n",
    "# data.hist('ceiling_height',bins=30,range=(2.4,3))\n",
    "data.hist('ceiling_height',bins=125)\n",
    "plt.xlim(det_whiskers('ceiling_height')[0], det_whiskers('ceiling_height')[1])\n",
    "plt.title('Гистограмма высоты потолка')\n",
    "plt.xlabel('Высота потолка, м')\n",
    "plt.ylabel('Частота')"
   ]
  },
  {
   "cell_type": "code",
   "execution_count": 34,
   "id": "1d7c249a",
   "metadata": {},
   "outputs": [
    {
     "name": "stdout",
     "output_type": "stream",
     "text": [
      "Аномальные значения составляют (12, 2)% от всей выборки.\n"
     ]
    }
   ],
   "source": [
    "print_anomalies_ratio('ceiling_height')"
   ]
  },
  {
   "cell_type": "code",
   "execution_count": 35,
   "id": "c313af0c",
   "metadata": {},
   "outputs": [],
   "source": [
    "data['large_ceiling_height'] = data['ceiling_height'] > det_whiskers('ceiling_height')[1]"
   ]
  },
  {
   "cell_type": "markdown",
   "id": "32b4443a",
   "metadata": {},
   "source": [
    "**To study the time of sale of the apartment.**\n",
    " \n",
    "- Plot a histogram;\n",
    "- Calculate the mean and median;\n",
    "- Describe how long a sale usually takes?\n",
    "- When can we assume sales were very fast and when unusually long?"
   ]
  },
  {
   "cell_type": "code",
   "execution_count": 36,
   "id": "f2323cf6",
   "metadata": {},
   "outputs": [
    {
     "data": {
      "text/plain": [
       "[1.0, 510.0]"
      ]
     },
     "execution_count": 36,
     "metadata": {},
     "output_type": "execute_result"
    }
   ],
   "source": [
    "det_whiskers('days_exposition')"
   ]
  },
  {
   "cell_type": "code",
   "execution_count": 37,
   "id": "97ec1862",
   "metadata": {},
   "outputs": [
    {
     "data": {
      "text/plain": [
       "count    20470.000000\n",
       "mean       180.753204\n",
       "std        219.778961\n",
       "min          1.000000\n",
       "25%         45.000000\n",
       "50%         95.000000\n",
       "75%        231.000000\n",
       "max       1580.000000\n",
       "Name: days_exposition, dtype: float64"
      ]
     },
     "execution_count": 37,
     "metadata": {},
     "output_type": "execute_result"
    }
   ],
   "source": [
    "data['days_exposition'].describe()"
   ]
  },
  {
   "cell_type": "code",
   "execution_count": 38,
   "id": "2481ff98",
   "metadata": {},
   "outputs": [
    {
     "data": {
      "text/plain": [
       "Text(0, 0.5, 'Частота')"
      ]
     },
     "execution_count": 38,
     "metadata": {},
     "output_type": "execute_result"
    },
    {
     "data": {
      "image/png": "[encoded data removed]",
      "text/plain": [
       "<Figure size 432x288 with 1 Axes>"
      ]
     },
     "metadata": {
      "needs_background": "light"
     },
     "output_type": "display_data"
    },
    {
     "data": {
      "image/png": "[encoded data removed]",
      "text/plain": [
       "<Figure size 432x288 with 1 Axes>"
      ]
     },
     "metadata": {
      "needs_background": "light"
     },
     "output_type": "display_data"
    }
   ],
   "source": [
    "# Plot whisker\n",
    "data.boxplot(column='days_exposition')\n",
    "plt.title('Диаграмма размаха')\n",
    "plt.ylabel('Срок продажи, день')\n",
    "plt.ylim(-10, 600)\n",
    "\n",
    "# Plot hist\n",
    "#data.hist('days_exposition',bins=50,range=(0,1500))\n",
    "data.hist('days_exposition',bins=60)\n",
    "plt.xlim(det_whiskers('days_exposition')[0], det_whiskers('days_exposition')[1])\n",
    "plt.title('Гистограмма срока продажи')\n",
    "plt.xlabel('Срок продажи, день')\n",
    "plt.ylabel('Частота')"
   ]
  },
  {
   "cell_type": "code",
   "execution_count": 39,
   "id": "62d51702",
   "metadata": {},
   "outputs": [],
   "source": [
    "data['too_slow'] = data['days_exposition'] > det_whiskers('days_exposition')[1]\n",
    "data['too_fast'] = data['days_exposition'] < 30"
   ]
  },
  {
   "cell_type": "markdown",
   "id": "375733de",
   "metadata": {},
   "source": [
    "- The sale takes 80-105 days. At the same time a quarter of all properties are sold within 45 days from the date of publication.\n",
    "- If the object was sold within a month it is necessary to check this transaction for fraud.\n",
    "- If the object was sold only after 430 days from the date of publication is an abnormally long sale."
   ]
  },
  {
   "cell_type": "markdown",
   "id": "0a9a69d5",
   "metadata": {},
   "source": [
    "**Remove rare and outliers**\n",
    "\n",
    "- What features did you find?"
   ]
  },
  {
   "cell_type": "code",
   "execution_count": 40,
   "id": "8fd9a9c4",
   "metadata": {},
   "outputs": [
    {
     "name": "stdout",
     "output_type": "stream",
     "text": [
      " Репрезентативные данные составляют (64, 2)% от общего числа\n"
     ]
    }
   ],
   "source": [
    "good_data = data.query('(too_large_area == False)  and \\\n",
    "                        (too_large_price == False) and \\\n",
    "                        (too_large_rooms == False) and \\\n",
    "                        (large_ceiling_height == False) and\\\n",
    "                        (too_slow == False) and \\\n",
    "                        (too_fast == False)').reset_index(drop=True)\n",
    "print(f' Репрезентативные данные составляют {round((len(good_data) / len(data)) * 100),2}% от общего числа')"
   ]
  },
  {
   "cell_type": "markdown",
   "id": "2b89ea7a",
   "metadata": {},
   "source": [
    "Anomalous characteristics of apartments from the presented dataset:\n",
    "\n",
    "- 7-room apartment or more\n",
    "- over 120 sq. m\n",
    "- with ceilings less than 2.25 m or more than 3 m\n",
    "- at a price of more than 12 million rubles\n",
    "- sold for 14 months or more"
   ]
  },
  {
   "cell_type": "markdown",
   "id": "4dda363c",
   "metadata": {},
   "source": [
    "**What factors most affect the value of an apartment?**\n",
    "\n",
    "Learn if the price depends on the area, number of rooms, distance from the center"
   ]
  },
  {
   "cell_type": "markdown",
   "id": "575c4670",
   "metadata": {},
   "source": [
    "- High correlation between the area of the apartment and its cost (correlation coefficient 0.674).\n",
    "- The distance to the city center affects the cost of the apartment but inversely and not so much (correlation coefficient -0.4).\n",
    "- The cost of an apartment also directly depends on the number of rooms - the more rooms the more expensive the apartment.\n",
    "- Apartments on the first or last floor are usually sold at a lower price than apartments on other floors.\n",
    "- The day of the week and month of publication of the announcement do not play a significant role in the price at which the property will be sold. \n",
    "- The study showed that on average, apartments were sold at higher prices in 2014"
   ]
  },
  {
   "cell_type": "code",
   "execution_count": 41,
   "id": "925846e4",
   "metadata": {},
   "outputs": [
    {
     "data": {
      "text/plain": [
       "Text(7, 105, 'Корреляция: 0.676')"
      ]
     },
     "execution_count": 41,
     "metadata": {},
     "output_type": "execute_result"
    },
    {
     "data": {
      "image/png": "[encoded data removed]",
      "text/plain": [
       "<Figure size 432x288 with 2 Axes>"
      ]
     },
     "metadata": {
      "needs_background": "light"
     },
     "output_type": "display_data"
    }
   ],
   "source": [
    "# Hexbin plot\n",
    "good_data.plot(x='last_price', y='total_area', kind='hexbin', gridsize=30)\n",
    "plt.title('Цена vs Площадь')\n",
    "plt.xlabel('Цена')\n",
    "plt.ylabel('Площадь')\n",
    "plt.text(7,105,'Корреляция: ' + str(round(good_data['last_price'].corr(good_data['total_area']),3)))"
   ]
  },
  {
   "cell_type": "code",
   "execution_count": 42,
   "id": "fc528893",
   "metadata": {},
   "outputs": [
    {
     "data": {
      "text/plain": [
       "Text(7, 5, 'Корреляция: 0.403')"
      ]
     },
     "execution_count": 42,
     "metadata": {},
     "output_type": "execute_result"
    },
    {
     "data": {
      "image/png": "[encoded data removed]",
      "text/plain": [
       "<Figure size 432x288 with 2 Axes>"
      ]
     },
     "metadata": {
      "needs_background": "light"
     },
     "output_type": "display_data"
    }
   ],
   "source": [
    "# Hexbin plot\n",
    "good_data.plot(x='last_price', y='rooms', kind='hexbin', gridsize=20)\n",
    "plt.title('Цена vs Количество комнат')\n",
    "plt.xlabel('Цена')\n",
    "plt.ylabel('Количество комнат')\n",
    "plt.text(7,5,'Корреляция: ' + str(round(good_data['last_price'].corr(good_data['rooms']),3)))"
   ]
  },
  {
   "cell_type": "code",
   "execution_count": 43,
   "id": "f17891e9",
   "metadata": {},
   "outputs": [
    {
     "data": {
      "text/plain": [
       "Text(7, 60000, 'Корреляция: -0.305')"
      ]
     },
     "execution_count": 43,
     "metadata": {},
     "output_type": "execute_result"
    },
    {
     "data": {
      "image/png": "[encoded data removed]",
      "text/plain": [
       "<Figure size 432x288 with 2 Axes>"
      ]
     },
     "metadata": {
      "needs_background": "light"
     },
     "output_type": "display_data"
    }
   ],
   "source": [
    "# Hexbin plot\n",
    "good_data.plot(x='last_price', y='cityCenters_nearest', kind='hexbin', gridsize=25)\n",
    "plt.title('Цена vs Близость к центру')\n",
    "plt.xlabel('Цена')\n",
    "plt.ylabel('Близость к центру')\n",
    "plt.text(7,60000,'Корреляция: ' + str(round(good_data['last_price'].corr(good_data['cityCenters_nearest']),3)))\n"
   ]
  },
  {
   "cell_type": "markdown",
   "id": "bd223762",
   "metadata": {},
   "source": [
    "**Study the dependence of the price on which floor the apartment is located on**\n",
    "- first;\n",
    "- last;\n",
    "- another."
   ]
  },
  {
   "cell_type": "code",
   "execution_count": 44,
   "id": "4772a135",
   "metadata": {
    "scrolled": false
   },
   "outputs": [
    {
     "data": {
      "image/png": "[encoded data removed]",
      "text/plain": [
       "<Figure size 360x360 with 1 Axes>"
      ]
     },
     "metadata": {
      "needs_background": "light"
     },
     "output_type": "display_data"
    },
    {
     "data": {
      "image/png": "[encoded data removed]",
      "text/plain": [
       "<Figure size 360x360 with 1 Axes>"
      ]
     },
     "metadata": {
      "needs_background": "light"
     },
     "output_type": "display_data"
    },
    {
     "data": {
      "image/png": "[encoded data removed]",
      "text/plain": [
       "<Figure size 360x360 with 1 Axes>"
      ]
     },
     "metadata": {
      "needs_background": "light"
     },
     "output_type": "display_data"
    },
    {
     "data": {
      "image/png": "[encoded data removed]",
      "text/plain": [
       "<Figure size 360x360 with 1 Axes>"
      ]
     },
     "metadata": {
      "needs_background": "light"
     },
     "output_type": "display_data"
    },
    {
     "data": {
      "image/png": "[encoded data removed]",
      "text/plain": [
       "<Figure size 360x360 with 1 Axes>"
      ]
     },
     "metadata": {
      "needs_background": "light"
     },
     "output_type": "display_data"
    }
   ],
   "source": [
    "for i in ['rooms', 'floor_category', 'weekday', 'month', 'year']:\n",
    "    sb.catplot(x=i, y=\"last_price\", kind=\"box\", data=good_data)"
   ]
  },
  {
   "cell_type": "markdown",
   "id": "3bd58c0d",
   "metadata": {},
   "source": [
    "1) Select the 10 locations with the most ads. \n",
    "\n",
    "2) Calculate the average price per square meter in these settlements.\n",
    "\n",
    "3) Select among them the locations with the highest and lowest cost of housing. (This data can be found by name in the locality_name column.)"
   ]
  },
  {
   "cell_type": "code",
   "execution_count": 45,
   "id": "ec0d2c71",
   "metadata": {},
   "outputs": [
    {
     "name": "stdout",
     "output_type": "stream",
     "text": [
      "       locality_name  count  median_price\n",
      "0    Санкт-Петербург   9178     101675.45\n",
      "1     посёлок Мурино    374      85714.30\n",
      "2     посёлок Шушары    348      76220.40\n",
      "3         Всеволожск    315      65789.50\n",
      "4  посёлок Парголово    260      91337.30\n",
      "5            Колпино    237      74657.50\n",
      "6             Пушкин    237      98051.90\n",
      "7            Гатчина    224      66666.70\n",
      "8    деревня Кудрово    216      92225.05\n",
      "9             Выборг    173      56818.20\n"
     ]
    }
   ],
   "source": [
    "many_ads = good_data.pivot_table(index='locality_name', values='sqrm_price', aggfunc=['count','median'])\n",
    "many_ads.columns = ['count', 'median_price']\n",
    "many_ads = many_ads.sort_values(by='count', ascending=False)\\\n",
    "                   .reset_index()\\\n",
    "                   .truncate(before=0, after=9)\n",
    "print(many_ads)"
   ]
  },
  {
   "cell_type": "markdown",
   "id": "eea8827a",
   "metadata": {},
   "source": [
    "From the 10 locations with the largest number of ads the leaders in terms of average price per square meter are:\n",
    "    \n",
    "- St. Petersburg, Murino, Shushary, Vsevolozhsk.\n",
    "- On average the cheapest square meters are in Vyborg and the village of Kudrovo"
   ]
  },
  {
   "cell_type": "code",
   "execution_count": 46,
   "id": "547ba72d",
   "metadata": {},
   "outputs": [
    {
     "data": {
      "text/plain": [
       "<AxesSubplot:xlabel='median_price', ylabel='locality_name'>"
      ]
     },
     "execution_count": 46,
     "metadata": {},
     "output_type": "execute_result"
    },
    {
     "data": {
      "image/png": "[encoded data removed]",
      "text/plain": [
       "<Figure size 432x288 with 1 Axes>"
      ]
     },
     "metadata": {
      "needs_background": "light"
     },
     "output_type": "display_data"
    }
   ],
   "source": [
    "sb.barplot(y='locality_name', x='median_price', data=many_ads.sort_values(ascending=False,by='median_price'))"
   ]
  },
  {
   "cell_type": "markdown",
   "id": "a2a0518c",
   "metadata": {},
   "source": [
    "**Study the offers of apartments:**\n",
    "\n",
    "- For each apartment there is information about the distance to the center;\n",
    "- Select apartments in St. Petersburg (locality_name).\n",
    "\n",
    "**The task is to find out which area is included in the center.**\n",
    "\n",
    "- Create a column with the distance to the center in kilometers: round to whole numbers;\n",
    "- calculate the average price for each kilometer;\n",
    "- Build a graph: it should show how the price depends on the distance from the center;\n",
    "- Define the border where the graph changes a lot - this will be the central zone."
   ]
  },
  {
   "cell_type": "code",
   "execution_count": 47,
   "id": "b6e096cf",
   "metadata": {},
   "outputs": [],
   "source": [
    "# create a table with data about Peter\n",
    "saintp = good_data.query('locality_name == \"Санкт-Петербург\"')\\\n",
    "                  .reset_index(drop=True)"
   ]
  },
  {
   "cell_type": "code",
   "execution_count": 48,
   "id": "08ffa842",
   "metadata": {},
   "outputs": [],
   "source": [
    "# column with the distance to the center in kilometers\n",
    "saintp['cityCenters_km'] = round(saintp['cityCenters_nearest'] / 1000,0)\n"
   ]
  },
  {
   "cell_type": "code",
   "execution_count": 49,
   "id": "8e500490",
   "metadata": {},
   "outputs": [],
   "source": [
    "# column last_price - data in million rubles\n",
    "saintp_radius = saintp.pivot_table(index='cityCenters_km', values=['last_price','sqrm_price'], aggfunc='mean')\n",
    "saintp_radius = saintp_radius.reset_index()"
   ]
  },
  {
   "cell_type": "markdown",
   "id": "fd4a4cd3",
   "metadata": {},
   "source": [
    "We will consider the center of St. Petersburg to be a circle with a radius of 8 km"
   ]
  },
  {
   "cell_type": "code",
   "execution_count": 50,
   "id": "2db599e3",
   "metadata": {},
   "outputs": [
    {
     "data": {
      "text/plain": [
       "Text(6, 25, 'Корреляция: 0.403')"
      ]
     },
     "execution_count": 50,
     "metadata": {},
     "output_type": "execute_result"
    },
    {
     "data": {
      "image/png": "[encoded data removed]",
      "text/plain": [
       "<Figure size 432x288 with 1 Axes>"
      ]
     },
     "metadata": {
      "needs_background": "light"
     },
     "output_type": "display_data"
    }
   ],
   "source": [
    "# Hexbin plot\n",
    "saintp_radius.plot(x='last_price', y='cityCenters_km', kind='scatter', grid=True)\n",
    "plt.title('Цена vs Удаленность от центра')\n",
    "plt.xlabel('Цена, млн р')\n",
    "plt.ylabel('Удаленность от центра')\n",
    "plt.text(6,25,'Корреляция: ' + str(round(good_data['last_price'].corr(good_data['rooms']),3)))"
   ]
  },
  {
   "cell_type": "markdown",
   "id": "fdfeacfc",
   "metadata": {},
   "source": [
    "**Select a segment of apartments in the center.**\n",
    "\n",
    "Analyze this territory and study the following parameters:\n",
    "\n",
    "- square;\n",
    "- price;\n",
    "- number of rooms;\n",
    "- ceiling height.\n",
    "\n",
    "The average apartment in the center of St. Petersburg is:\n",
    "a `2-room apartment` with an area of ~ `60 sq. m` with `ceilings 2.75 m`, at a `price of ~ 7 million rubles`"
   ]
  },
  {
   "cell_type": "code",
   "execution_count": 51,
   "id": "b01cec0d",
   "metadata": {},
   "outputs": [],
   "source": [
    "saintp_center = saintp.loc[(saintp['cityCenters_km'] <= 8)]\n",
    "saintp_center = saintp_center.reset_index(drop=True)"
   ]
  },
  {
   "cell_type": "markdown",
   "id": "6f9c7dfd",
   "metadata": {},
   "source": [
    "**Square**"
   ]
  },
  {
   "cell_type": "code",
   "execution_count": 52,
   "id": "b615d386",
   "metadata": {},
   "outputs": [
    {
     "name": "stdout",
     "output_type": "stream",
     "text": [
      "count    1212.000000\n",
      "mean       60.367863\n",
      "std        20.091215\n",
      "min        12.000000\n",
      "25%        44.000000\n",
      "50%        58.545000\n",
      "75%        73.000000\n",
      "max       114.200000\n",
      "Name: total_area, dtype: float64\n"
     ]
    },
    {
     "data": {
      "image/png": "[encoded data removed]",
      "text/plain": [
       "<Figure size 432x288 with 1 Axes>"
      ]
     },
     "metadata": {
      "needs_background": "light"
     },
     "output_type": "display_data"
    },
    {
     "data": {
      "image/png": "[encoded data removed]",
      "text/plain": [
       "<Figure size 432x288 with 1 Axes>"
      ]
     },
     "metadata": {
      "needs_background": "light"
     },
     "output_type": "display_data"
    }
   ],
   "source": [
    "# Whisker plot\n",
    "saintp_center.boxplot(column='total_area')\n",
    "plt.title('Диаграмма размаха')\n",
    "plt.ylabel('Площадь')\n",
    "plt.ylim(0, 150)\n",
    "\n",
    "# Plot hist\n",
    "# data.hist('last_price',bins=100,range=(0,20))\n",
    "saintp_center.hist('total_area',bins=55)\n",
    "plt.xlim(det_whiskers('total_area')[0], det_whiskers('total_area')[1])\n",
    "plt.title('Гистограмма')\n",
    "plt.xlabel('Площадь')\n",
    "plt.ylabel('Частота')\n",
    "\n",
    "print(saintp_center['total_area'].describe())"
   ]
  },
  {
   "cell_type": "markdown",
   "id": "9c564237",
   "metadata": {},
   "source": [
    "**Price**"
   ]
  },
  {
   "cell_type": "code",
   "execution_count": 53,
   "id": "d34c8575",
   "metadata": {},
   "outputs": [
    {
     "name": "stdout",
     "output_type": "stream",
     "text": [
      "count    1212.000000\n",
      "mean        7.018184\n",
      "std         2.225418\n",
      "min         2.400000\n",
      "25%         5.257750\n",
      "50%         6.800000\n",
      "75%         8.639511\n",
      "max        11.900000\n",
      "Name: last_price, dtype: float64\n"
     ]
    },
    {
     "data": {
      "image/png": "[encoded data removed]",
      "text/plain": [
       "<Figure size 432x288 with 1 Axes>"
      ]
     },
     "metadata": {
      "needs_background": "light"
     },
     "output_type": "display_data"
    },
    {
     "data": {
      "image/png": "[encoded data removed]",
      "text/plain": [
       "<Figure size 432x288 with 1 Axes>"
      ]
     },
     "metadata": {
      "needs_background": "light"
     },
     "output_type": "display_data"
    }
   ],
   "source": [
    "# строю диаграмму размаха\n",
    "saintp_center.boxplot(column='last_price')\n",
    "plt.title('Диаграмма размаха')\n",
    "plt.ylabel('Цена')\n",
    "plt.ylim(0, 15)\n",
    "\n",
    "# строю гистограмму\n",
    "# data.hist('last_price',bins=100,range=(0,20))\n",
    "saintp_center.hist('last_price',bins=50)\n",
    "plt.xlim(det_whiskers('last_price')[0], det_whiskers('last_price')[1])\n",
    "plt.title('Гистограмма цен')\n",
    "plt.xlabel('Цена, млн.р')\n",
    "plt.ylabel('Частота')\n",
    "\n",
    "print(saintp_center['last_price'].describe())"
   ]
  },
  {
   "cell_type": "markdown",
   "id": "ae4882ff",
   "metadata": {},
   "source": [
    "Room numbers"
   ]
  },
  {
   "cell_type": "code",
   "execution_count": 54,
   "id": "ddc8487f",
   "metadata": {},
   "outputs": [
    {
     "name": "stdout",
     "output_type": "stream",
     "text": [
      "count    1212.000000\n",
      "mean        2.090759\n",
      "std         0.909631\n",
      "min         0.000000\n",
      "25%         1.000000\n",
      "50%         2.000000\n",
      "75%         3.000000\n",
      "max         6.000000\n",
      "Name: rooms, dtype: float64\n"
     ]
    },
    {
     "data": {
      "image/png": "[encoded data removed]",
      "text/plain": [
       "<Figure size 432x288 with 1 Axes>"
      ]
     },
     "metadata": {
      "needs_background": "light"
     },
     "output_type": "display_data"
    },
    {
     "data": {
      "image/png": "[encoded data removed]",
      "text/plain": [
       "<Figure size 432x288 with 1 Axes>"
      ]
     },
     "metadata": {
      "needs_background": "light"
     },
     "output_type": "display_data"
    }
   ],
   "source": [
    "# Plot whisker\n",
    "saintp_center.boxplot(column='rooms')\n",
    "plt.title('Диаграмма размаха')\n",
    "plt.ylabel('Число комнат')\n",
    "plt.ylim(-1, 7)\n",
    "\n",
    "# Plot hist\n",
    "# data.hist('last_price',bins=100,range=(0,20))\n",
    "saintp_center.hist('rooms',bins=10)\n",
    "plt.xlim(det_whiskers('rooms')[0], det_whiskers('rooms')[1])\n",
    "plt.title('Гистограмма')\n",
    "plt.xlabel('Число комнат')\n",
    "plt.ylabel('Частота')\n",
    "\n",
    "print(saintp_center['rooms'].describe())"
   ]
  },
  {
   "cell_type": "markdown",
   "id": "27f65a8c",
   "metadata": {},
   "source": [
    "**Ceiling height**"
   ]
  },
  {
   "cell_type": "code",
   "execution_count": 55,
   "id": "200a0525",
   "metadata": {},
   "outputs": [
    {
     "name": "stdout",
     "output_type": "stream",
     "text": [
      "count    1212.000000\n",
      "mean        2.654686\n",
      "std         0.077460\n",
      "min         2.500000\n",
      "25%         2.650000\n",
      "50%         2.650000\n",
      "75%         2.650000\n",
      "max         2.850000\n",
      "Name: ceiling_height, dtype: float64\n"
     ]
    },
    {
     "data": {
      "image/png": "[encoded data removed]",
      "text/plain": [
       "<Figure size 432x288 with 1 Axes>"
      ]
     },
     "metadata": {
      "needs_background": "light"
     },
     "output_type": "display_data"
    },
    {
     "data": {
      "image/png": "[encoded data removed]",
      "text/plain": [
       "<Figure size 432x288 with 1 Axes>"
      ]
     },
     "metadata": {
      "needs_background": "light"
     },
     "output_type": "display_data"
    }
   ],
   "source": [
    "# Plot whisker\n",
    "saintp_center.boxplot(column='ceiling_height')\n",
    "plt.title('Диаграмма размаха')\n",
    "plt.ylabel('Высота потолков')\n",
    "plt.ylim(2.4, 3)\n",
    "\n",
    "# Plot hist\n",
    "# data.hist('last_price',bins=100,range=(0,20))\n",
    "saintp_center.hist('ceiling_height',bins=10)\n",
    "plt.xlim(det_whiskers('ceiling_height')[0], det_whiskers('ceiling_height')[1])\n",
    "plt.title('Гистограмма')\n",
    "plt.xlabel('Высота потолков')\n",
    "plt.ylabel('Частота')\n",
    "\n",
    "print(saintp_center['ceiling_height'].describe())"
   ]
  },
  {
   "cell_type": "markdown",
   "id": "49d144fe",
   "metadata": {},
   "source": [
    "**Also highlight the factors that affect the cost of an apartment:**\n",
    "  - number of rooms\n",
    "  - floor\n",
    "  - distance from the center\n",
    "  - date of placement of the ad.\n",
    "  \n",
    "Do they differ from the general conclusions throughout the database?"
   ]
  },
  {
   "cell_type": "markdown",
   "id": "e0f7acbe",
   "metadata": {},
   "source": [
    "- The dependence of the cost of an apartment on the number of rooms in the center of St. Petersburg is strong: there is more demand for 5-room apartments which leads to a directly proportional dependence of the price on the number of rooms. 5-room apartments in the center of St. Petersburg as a rule will be sold more expensive than 4-room\n",
    "    \n",
    "-------------------------------------------------- ----------------------------------------------------------------------------\n",
    "    \n",
    "- in the city center there is dependence on the floor of the apartment: an apartment on the top floor will cost more on average than on the first floor.\n",
    "-------------------------------------------------------------------------------------------------------------------------------\n",
    "    \n",
    "- The farther from the city center the cheaper the apartment will cost on average: on average the difference in cost between the first and eighth kilometers from the center reach 3 million rubles.\n",
    "-------------------------------------------------------------------------------------------------------------------------------\n",
    "    \n",
    "- Strangely, apartments advertised for sale on Sundays sold on average at a higher price. The same is true for announcements published in early spring and early autumn (in March and September respectively) during the period 2015-2019. on average such apartments were sold more expensive.\n"
   ]
  },
  {
   "cell_type": "code",
   "execution_count": 56,
   "id": "c7f1b3bf",
   "metadata": {
    "scrolled": false
   },
   "outputs": [
    {
     "data": {
      "image/png": "[encoded data removed]",
      "text/plain": [
       "<Figure size 360x360 with 1 Axes>"
      ]
     },
     "metadata": {
      "needs_background": "light"
     },
     "output_type": "display_data"
    },
    {
     "data": {
      "image/png": "[encoded data removed]",
      "text/plain": [
       "<Figure size 360x360 with 1 Axes>"
      ]
     },
     "metadata": {
      "needs_background": "light"
     },
     "output_type": "display_data"
    },
    {
     "data": {
      "image/png": "[encoded data removed]",
      "text/plain": [
       "<Figure size 360x360 with 1 Axes>"
      ]
     },
     "metadata": {
      "needs_background": "light"
     },
     "output_type": "display_data"
    },
    {
     "data": {
      "image/png": "[encoded data removed]",
      "text/plain": [
       "<Figure size 360x360 with 1 Axes>"
      ]
     },
     "metadata": {
      "needs_background": "light"
     },
     "output_type": "display_data"
    },
    {
     "data": {
      "image/png": "[encoded data removed]",
      "text/plain": [
       "<Figure size 360x360 with 1 Axes>"
      ]
     },
     "metadata": {
      "needs_background": "light"
     },
     "output_type": "display_data"
    },
    {
     "data": {
      "image/png": "[encoded data removed]",
      "text/plain": [
       "<Figure size 360x360 with 1 Axes>"
      ]
     },
     "metadata": {
      "needs_background": "light"
     },
     "output_type": "display_data"
    }
   ],
   "source": [
    "for i in ['rooms', 'floor_category', 'cityCenters_km', 'weekday', 'month', 'year']:\n",
    "    sb.catplot(x=i, y=\"last_price\", kind=\"box\", data=saintp_center)"
   ]
  },
  {
   "cell_type": "markdown",
   "id": "cda67e26",
   "metadata": {},
   "source": [
    "To determine the market value of real estate the following parameters are important:\n",
    "\n",
    "- total area of the apartment;\n",
    "- distance to city center;\n",
    "- number of rooms and floor of the apartment;\n",
    "- term of sale of the apartment."
   ]
  }
 ],
 "metadata": {
  "ExecuteTimeLog": [
   {
    "duration": 38,
    "start_time": "2022-05-31T16:34:47.955Z"
   },
   {
    "duration": 23,
    "start_time": "2022-05-31T16:45:37.329Z"
   },
   {
    "duration": 1486,
    "start_time": "2022-06-01T16:35:19.291Z"
   },
   {
    "duration": 121,
    "start_time": "2022-06-01T16:35:20.780Z"
   },
   {
    "duration": 0,
    "start_time": "2022-06-01T16:35:20.903Z"
   },
   {
    "duration": 1,
    "start_time": "2022-06-01T16:35:20.904Z"
   },
   {
    "duration": 0,
    "start_time": "2022-06-01T16:35:20.906Z"
   },
   {
    "duration": 0,
    "start_time": "2022-06-01T16:35:20.907Z"
   },
   {
    "duration": 0,
    "start_time": "2022-06-01T16:35:20.909Z"
   },
   {
    "duration": 0,
    "start_time": "2022-06-01T16:35:20.927Z"
   },
   {
    "duration": 13,
    "start_time": "2022-06-01T16:35:32.243Z"
   },
   {
    "duration": 3,
    "start_time": "2022-06-01T16:35:37.744Z"
   },
   {
    "duration": 25,
    "start_time": "2022-06-01T16:35:37.754Z"
   },
   {
    "duration": 0,
    "start_time": "2022-06-01T16:35:37.782Z"
   },
   {
    "duration": 0,
    "start_time": "2022-06-01T16:35:37.784Z"
   },
   {
    "duration": 0,
    "start_time": "2022-06-01T16:35:37.786Z"
   },
   {
    "duration": 0,
    "start_time": "2022-06-01T16:35:37.787Z"
   },
   {
    "duration": 0,
    "start_time": "2022-06-01T16:35:37.789Z"
   },
   {
    "duration": 0,
    "start_time": "2022-06-01T16:35:37.791Z"
   },
   {
    "duration": 14,
    "start_time": "2022-06-01T16:35:43.108Z"
   },
   {
    "duration": 1298,
    "start_time": "2022-06-01T16:35:57.131Z"
   },
   {
    "duration": 128,
    "start_time": "2022-06-01T16:35:58.431Z"
   },
   {
    "duration": 0,
    "start_time": "2022-06-01T16:35:58.565Z"
   },
   {
    "duration": 0,
    "start_time": "2022-06-01T16:35:58.567Z"
   },
   {
    "duration": 0,
    "start_time": "2022-06-01T16:35:58.569Z"
   },
   {
    "duration": 0,
    "start_time": "2022-06-01T16:35:58.571Z"
   },
   {
    "duration": 0,
    "start_time": "2022-06-01T16:35:58.573Z"
   },
   {
    "duration": 0,
    "start_time": "2022-06-01T16:35:58.575Z"
   },
   {
    "duration": 0,
    "start_time": "2022-06-01T16:35:58.577Z"
   },
   {
    "duration": 0,
    "start_time": "2022-06-01T16:35:58.578Z"
   },
   {
    "duration": 0,
    "start_time": "2022-06-01T16:35:58.579Z"
   },
   {
    "duration": 0,
    "start_time": "2022-06-01T16:35:58.581Z"
   },
   {
    "duration": 0,
    "start_time": "2022-06-01T16:35:58.582Z"
   },
   {
    "duration": 0,
    "start_time": "2022-06-01T16:35:58.584Z"
   },
   {
    "duration": 0,
    "start_time": "2022-06-01T16:35:58.585Z"
   },
   {
    "duration": 0,
    "start_time": "2022-06-01T16:35:58.586Z"
   },
   {
    "duration": 0,
    "start_time": "2022-06-01T16:35:58.626Z"
   },
   {
    "duration": 0,
    "start_time": "2022-06-01T16:35:58.627Z"
   },
   {
    "duration": 0,
    "start_time": "2022-06-01T16:35:58.629Z"
   },
   {
    "duration": 0,
    "start_time": "2022-06-01T16:35:58.630Z"
   },
   {
    "duration": 0,
    "start_time": "2022-06-01T16:35:58.631Z"
   },
   {
    "duration": 0,
    "start_time": "2022-06-01T16:35:58.634Z"
   },
   {
    "duration": 0,
    "start_time": "2022-06-01T16:35:58.636Z"
   },
   {
    "duration": 0,
    "start_time": "2022-06-01T16:35:58.637Z"
   },
   {
    "duration": 0,
    "start_time": "2022-06-01T16:35:58.639Z"
   },
   {
    "duration": 0,
    "start_time": "2022-06-01T16:35:58.640Z"
   },
   {
    "duration": 0,
    "start_time": "2022-06-01T16:35:58.641Z"
   },
   {
    "duration": 0,
    "start_time": "2022-06-01T16:35:58.643Z"
   },
   {
    "duration": 0,
    "start_time": "2022-06-01T16:35:58.645Z"
   },
   {
    "duration": 0,
    "start_time": "2022-06-01T16:35:58.646Z"
   },
   {
    "duration": 0,
    "start_time": "2022-06-01T16:35:58.648Z"
   },
   {
    "duration": 0,
    "start_time": "2022-06-01T16:35:58.649Z"
   },
   {
    "duration": 0,
    "start_time": "2022-06-01T16:35:58.651Z"
   },
   {
    "duration": 0,
    "start_time": "2022-06-01T16:35:58.652Z"
   },
   {
    "duration": 0,
    "start_time": "2022-06-01T16:35:58.654Z"
   },
   {
    "duration": 0,
    "start_time": "2022-06-01T16:35:58.655Z"
   },
   {
    "duration": 0,
    "start_time": "2022-06-01T16:35:58.657Z"
   },
   {
    "duration": 0,
    "start_time": "2022-06-01T16:35:58.658Z"
   },
   {
    "duration": 0,
    "start_time": "2022-06-01T16:35:58.660Z"
   },
   {
    "duration": 0,
    "start_time": "2022-06-01T16:35:58.661Z"
   },
   {
    "duration": 0,
    "start_time": "2022-06-01T16:35:58.663Z"
   },
   {
    "duration": 0,
    "start_time": "2022-06-01T16:35:58.664Z"
   },
   {
    "duration": 0,
    "start_time": "2022-06-01T16:35:58.665Z"
   },
   {
    "duration": 0,
    "start_time": "2022-06-01T16:35:58.666Z"
   },
   {
    "duration": 1,
    "start_time": "2022-06-01T16:35:58.727Z"
   },
   {
    "duration": 0,
    "start_time": "2022-06-01T16:35:58.729Z"
   },
   {
    "duration": 0,
    "start_time": "2022-06-01T16:35:58.731Z"
   },
   {
    "duration": 0,
    "start_time": "2022-06-01T16:35:58.732Z"
   },
   {
    "duration": 0,
    "start_time": "2022-06-01T16:35:58.733Z"
   },
   {
    "duration": 0,
    "start_time": "2022-06-01T16:35:58.735Z"
   },
   {
    "duration": 0,
    "start_time": "2022-06-01T16:35:58.736Z"
   },
   {
    "duration": 0,
    "start_time": "2022-06-01T16:35:58.738Z"
   },
   {
    "duration": 0,
    "start_time": "2022-06-01T16:35:58.739Z"
   },
   {
    "duration": 0,
    "start_time": "2022-06-01T16:35:58.741Z"
   },
   {
    "duration": 0,
    "start_time": "2022-06-01T16:35:58.742Z"
   },
   {
    "duration": 59,
    "start_time": "2022-06-01T16:36:31.514Z"
   },
   {
    "duration": 46,
    "start_time": "2022-06-01T17:07:38.481Z"
   },
   {
    "duration": 3,
    "start_time": "2022-06-01T17:09:15.475Z"
   },
   {
    "duration": 47,
    "start_time": "2022-06-01T17:09:16.556Z"
   },
   {
    "duration": 348,
    "start_time": "2022-06-01T17:11:43.022Z"
   },
   {
    "duration": 3,
    "start_time": "2022-06-01T17:12:14.542Z"
   },
   {
    "duration": 121,
    "start_time": "2022-06-01T17:12:14.546Z"
   },
   {
    "duration": 20,
    "start_time": "2022-06-01T17:12:14.669Z"
   },
   {
    "duration": 80,
    "start_time": "2022-06-01T17:12:14.690Z"
   },
   {
    "duration": 20,
    "start_time": "2022-06-01T17:12:14.772Z"
   },
   {
    "duration": 836,
    "start_time": "2022-06-01T17:12:14.793Z"
   },
   {
    "duration": 14,
    "start_time": "2022-06-01T17:12:15.631Z"
   },
   {
    "duration": 54,
    "start_time": "2022-06-01T17:12:15.647Z"
   },
   {
    "duration": 14,
    "start_time": "2022-06-01T17:12:18.820Z"
   },
   {
    "duration": 4,
    "start_time": "2022-06-01T17:12:42.731Z"
   },
   {
    "duration": 17,
    "start_time": "2022-06-01T17:13:01.804Z"
   },
   {
    "duration": 20,
    "start_time": "2022-06-01T17:14:44.889Z"
   },
   {
    "duration": 167,
    "start_time": "2022-06-01T17:14:49.374Z"
   },
   {
    "duration": 125,
    "start_time": "2022-06-01T17:14:57.983Z"
   },
   {
    "duration": 119,
    "start_time": "2022-06-01T17:15:32.452Z"
   },
   {
    "duration": 196,
    "start_time": "2022-06-01T17:15:46.744Z"
   },
   {
    "duration": 17,
    "start_time": "2022-06-01T17:16:02.982Z"
   },
   {
    "duration": 22,
    "start_time": "2022-06-01T17:16:11.316Z"
   },
   {
    "duration": 19,
    "start_time": "2022-06-01T17:16:20.586Z"
   },
   {
    "duration": 5,
    "start_time": "2022-06-01T17:16:22.033Z"
   },
   {
    "duration": 6,
    "start_time": "2022-06-01T17:16:39.192Z"
   },
   {
    "duration": 4,
    "start_time": "2022-06-01T17:16:49.432Z"
   },
   {
    "duration": 4,
    "start_time": "2022-06-01T17:17:00.663Z"
   },
   {
    "duration": 6,
    "start_time": "2022-06-01T17:18:05.701Z"
   },
   {
    "duration": 4,
    "start_time": "2022-06-01T17:18:16.951Z"
   },
   {
    "duration": 6,
    "start_time": "2022-06-01T17:18:32.265Z"
   },
   {
    "duration": 13,
    "start_time": "2022-06-01T17:19:03.255Z"
   },
   {
    "duration": 6,
    "start_time": "2022-06-01T17:19:03.643Z"
   },
   {
    "duration": 5,
    "start_time": "2022-06-01T17:19:12.905Z"
   },
   {
    "duration": 6,
    "start_time": "2022-06-01T17:19:23.053Z"
   },
   {
    "duration": 9,
    "start_time": "2022-06-01T17:19:29.425Z"
   },
   {
    "duration": 5,
    "start_time": "2022-06-01T17:19:45.018Z"
   },
   {
    "duration": 13,
    "start_time": "2022-06-01T17:19:54.803Z"
   },
   {
    "duration": 1171,
    "start_time": "2022-06-01T17:20:50.553Z"
   },
   {
    "duration": 124,
    "start_time": "2022-06-01T17:20:51.726Z"
   },
   {
    "duration": 20,
    "start_time": "2022-06-01T17:20:51.852Z"
   },
   {
    "duration": 86,
    "start_time": "2022-06-01T17:20:51.874Z"
   },
   {
    "duration": 22,
    "start_time": "2022-06-01T17:20:51.962Z"
   },
   {
    "duration": 11,
    "start_time": "2022-06-01T17:20:51.985Z"
   },
   {
    "duration": 36,
    "start_time": "2022-06-01T17:20:51.997Z"
   },
   {
    "duration": 2,
    "start_time": "2022-06-01T17:20:52.035Z"
   },
   {
    "duration": 15,
    "start_time": "2022-06-01T17:20:52.038Z"
   },
   {
    "duration": 5,
    "start_time": "2022-06-01T17:20:52.056Z"
   },
   {
    "duration": 17,
    "start_time": "2022-06-01T17:20:52.062Z"
   },
   {
    "duration": 4,
    "start_time": "2022-06-01T17:20:52.081Z"
   },
   {
    "duration": 16,
    "start_time": "2022-06-01T17:20:52.087Z"
   },
   {
    "duration": 28,
    "start_time": "2022-06-01T17:20:52.104Z"
   },
   {
    "duration": 5,
    "start_time": "2022-06-01T17:20:52.134Z"
   },
   {
    "duration": 6,
    "start_time": "2022-06-01T17:20:52.140Z"
   },
   {
    "duration": 9,
    "start_time": "2022-06-01T17:20:52.148Z"
   },
   {
    "duration": 9,
    "start_time": "2022-06-01T17:20:52.158Z"
   },
   {
    "duration": 530,
    "start_time": "2022-06-01T17:20:52.169Z"
   },
   {
    "duration": 9,
    "start_time": "2022-06-01T17:20:52.701Z"
   },
   {
    "duration": 20,
    "start_time": "2022-06-01T17:20:52.712Z"
   },
   {
    "duration": 8,
    "start_time": "2022-06-01T17:20:52.734Z"
   },
   {
    "duration": 10,
    "start_time": "2022-06-01T17:20:52.744Z"
   },
   {
    "duration": 841,
    "start_time": "2022-06-01T17:20:52.756Z"
   },
   {
    "duration": 9,
    "start_time": "2022-06-01T17:20:53.600Z"
   },
   {
    "duration": 23,
    "start_time": "2022-06-01T17:20:53.610Z"
   },
   {
    "duration": 7,
    "start_time": "2022-06-01T17:20:53.634Z"
   },
   {
    "duration": 8,
    "start_time": "2022-06-01T17:20:53.644Z"
   },
   {
    "duration": 328,
    "start_time": "2022-06-01T17:20:53.653Z"
   },
   {
    "duration": 7,
    "start_time": "2022-06-01T17:20:53.983Z"
   },
   {
    "duration": 8,
    "start_time": "2022-06-01T17:20:53.992Z"
   },
   {
    "duration": 28,
    "start_time": "2022-06-01T17:20:54.001Z"
   },
   {
    "duration": 9,
    "start_time": "2022-06-01T17:20:54.030Z"
   },
   {
    "duration": 527,
    "start_time": "2022-06-01T17:20:54.040Z"
   },
   {
    "duration": 9,
    "start_time": "2022-06-01T17:20:54.568Z"
   },
   {
    "duration": 7,
    "start_time": "2022-06-01T17:20:54.578Z"
   },
   {
    "duration": 7,
    "start_time": "2022-06-01T17:20:54.587Z"
   },
   {
    "duration": 40,
    "start_time": "2022-06-01T17:20:54.596Z"
   },
   {
    "duration": 347,
    "start_time": "2022-06-01T17:20:54.638Z"
   },
   {
    "duration": 10,
    "start_time": "2022-06-01T17:20:54.987Z"
   },
   {
    "duration": 33,
    "start_time": "2022-06-01T17:20:54.999Z"
   },
   {
    "duration": 233,
    "start_time": "2022-06-01T17:20:55.034Z"
   },
   {
    "duration": 233,
    "start_time": "2022-06-01T17:20:55.269Z"
   },
   {
    "duration": 262,
    "start_time": "2022-06-01T17:20:55.504Z"
   },
   {
    "duration": 2209,
    "start_time": "2022-06-01T17:20:55.769Z"
   },
   {
    "duration": 20,
    "start_time": "2022-06-01T17:20:57.979Z"
   },
   {
    "duration": 9,
    "start_time": "2022-06-01T17:20:58.001Z"
   },
   {
    "duration": 17,
    "start_time": "2022-06-01T17:20:58.012Z"
   },
   {
    "duration": 11,
    "start_time": "2022-06-01T17:20:58.030Z"
   },
   {
    "duration": 167,
    "start_time": "2022-06-01T17:20:58.042Z"
   },
   {
    "duration": 5,
    "start_time": "2022-06-01T17:20:58.211Z"
   },
   {
    "duration": 459,
    "start_time": "2022-06-01T17:20:58.227Z"
   },
   {
    "duration": 338,
    "start_time": "2022-06-01T17:20:58.688Z"
   },
   {
    "duration": 257,
    "start_time": "2022-06-01T17:20:59.028Z"
   },
   {
    "duration": 285,
    "start_time": "2022-06-01T17:20:59.287Z"
   },
   {
    "duration": 2549,
    "start_time": "2022-06-01T17:20:59.574Z"
   },
   {
    "duration": 1138,
    "start_time": "2022-06-01T17:21:58.224Z"
   },
   {
    "duration": 139,
    "start_time": "2022-06-01T17:21:59.364Z"
   },
   {
    "duration": 22,
    "start_time": "2022-06-01T17:21:59.505Z"
   },
   {
    "duration": 83,
    "start_time": "2022-06-01T17:21:59.529Z"
   },
   {
    "duration": 32,
    "start_time": "2022-06-01T17:21:59.614Z"
   },
   {
    "duration": 10,
    "start_time": "2022-06-01T17:21:59.647Z"
   },
   {
    "duration": 23,
    "start_time": "2022-06-01T17:21:59.659Z"
   },
   {
    "duration": 22,
    "start_time": "2022-06-01T17:21:59.684Z"
   },
   {
    "duration": 26,
    "start_time": "2022-06-01T17:21:59.708Z"
   },
   {
    "duration": 17,
    "start_time": "2022-06-01T17:21:59.736Z"
   },
   {
    "duration": 19,
    "start_time": "2022-06-01T17:23:05.205Z"
   },
   {
    "duration": 8,
    "start_time": "2022-06-01T17:23:06.560Z"
   },
   {
    "duration": 4,
    "start_time": "2022-06-01T17:23:12.136Z"
   },
   {
    "duration": 15,
    "start_time": "2022-06-01T17:23:20.844Z"
   },
   {
    "duration": 88,
    "start_time": "2022-06-01T17:31:13.466Z"
   },
   {
    "duration": 1142,
    "start_time": "2022-06-01T17:32:03.746Z"
   },
   {
    "duration": 157,
    "start_time": "2022-06-01T17:32:04.890Z"
   },
   {
    "duration": 26,
    "start_time": "2022-06-01T17:32:05.048Z"
   },
   {
    "duration": 100,
    "start_time": "2022-06-01T17:32:05.076Z"
   },
   {
    "duration": 33,
    "start_time": "2022-06-01T17:32:05.179Z"
   },
   {
    "duration": 22,
    "start_time": "2022-06-01T17:32:05.214Z"
   },
   {
    "duration": 26,
    "start_time": "2022-06-01T17:32:05.238Z"
   },
   {
    "duration": 3,
    "start_time": "2022-06-01T17:32:05.266Z"
   },
   {
    "duration": 40,
    "start_time": "2022-06-01T17:32:05.271Z"
   },
   {
    "duration": 22,
    "start_time": "2022-06-01T17:32:05.313Z"
   },
   {
    "duration": 9,
    "start_time": "2022-06-01T17:32:16.768Z"
   },
   {
    "duration": 6,
    "start_time": "2022-06-01T17:32:32.775Z"
   },
   {
    "duration": 8,
    "start_time": "2022-06-01T17:33:07.615Z"
   },
   {
    "duration": 124,
    "start_time": "2022-06-01T17:34:28.190Z"
   },
   {
    "duration": 40,
    "start_time": "2022-06-01T17:34:43.897Z"
   },
   {
    "duration": 49,
    "start_time": "2022-06-01T17:34:54.936Z"
   },
   {
    "duration": 50,
    "start_time": "2022-06-01T17:35:24.237Z"
   },
   {
    "duration": 64,
    "start_time": "2022-06-01T17:36:03.169Z"
   },
   {
    "duration": 49,
    "start_time": "2022-06-01T17:36:15.365Z"
   },
   {
    "duration": 7,
    "start_time": "2022-06-01T17:36:42.196Z"
   },
   {
    "duration": 14,
    "start_time": "2022-06-01T17:37:05.917Z"
   },
   {
    "duration": 1111,
    "start_time": "2022-06-01T17:37:54.449Z"
   },
   {
    "duration": 125,
    "start_time": "2022-06-01T17:37:55.562Z"
   },
   {
    "duration": 23,
    "start_time": "2022-06-01T17:37:55.689Z"
   },
   {
    "duration": 87,
    "start_time": "2022-06-01T17:37:55.714Z"
   },
   {
    "duration": 36,
    "start_time": "2022-06-01T17:37:55.802Z"
   },
   {
    "duration": 11,
    "start_time": "2022-06-01T17:37:55.840Z"
   },
   {
    "duration": 13,
    "start_time": "2022-06-01T17:37:55.852Z"
   },
   {
    "duration": 3,
    "start_time": "2022-06-01T17:37:55.866Z"
   },
   {
    "duration": 15,
    "start_time": "2022-06-01T17:37:55.870Z"
   },
   {
    "duration": 7,
    "start_time": "2022-06-01T17:37:57.371Z"
   },
   {
    "duration": 13,
    "start_time": "2022-06-01T17:39:25.909Z"
   },
   {
    "duration": 13,
    "start_time": "2022-06-01T17:39:30.040Z"
   },
   {
    "duration": 15,
    "start_time": "2022-06-01T17:40:07.580Z"
   },
   {
    "duration": 31,
    "start_time": "2022-06-01T17:40:15.444Z"
   },
   {
    "duration": 15,
    "start_time": "2022-06-01T17:40:24.899Z"
   },
   {
    "duration": 32,
    "start_time": "2022-06-01T17:46:13.869Z"
   },
   {
    "duration": 8,
    "start_time": "2022-06-01T17:56:42.694Z"
   },
   {
    "duration": 14,
    "start_time": "2022-06-01T17:56:47.354Z"
   },
   {
    "duration": 115,
    "start_time": "2022-06-01T17:57:00.286Z"
   },
   {
    "duration": 6,
    "start_time": "2022-06-01T17:57:06.833Z"
   },
   {
    "duration": 26,
    "start_time": "2022-06-01T17:57:51.015Z"
   },
   {
    "duration": 1077,
    "start_time": "2022-06-01T17:58:03.384Z"
   },
   {
    "duration": 126,
    "start_time": "2022-06-01T17:58:04.463Z"
   },
   {
    "duration": 23,
    "start_time": "2022-06-01T17:58:04.591Z"
   },
   {
    "duration": 86,
    "start_time": "2022-06-01T17:58:04.616Z"
   },
   {
    "duration": 34,
    "start_time": "2022-06-01T17:58:04.705Z"
   },
   {
    "duration": 11,
    "start_time": "2022-06-01T17:58:04.741Z"
   },
   {
    "duration": 13,
    "start_time": "2022-06-01T17:58:04.754Z"
   },
   {
    "duration": 2,
    "start_time": "2022-06-01T17:58:04.769Z"
   },
   {
    "duration": 54,
    "start_time": "2022-06-01T17:58:04.773Z"
   },
   {
    "duration": 14,
    "start_time": "2022-06-01T17:58:04.828Z"
   },
   {
    "duration": 5,
    "start_time": "2022-06-01T17:58:04.843Z"
   },
   {
    "duration": 13,
    "start_time": "2022-06-01T17:58:04.849Z"
   },
   {
    "duration": 8,
    "start_time": "2022-06-01T17:58:04.864Z"
   },
   {
    "duration": 4,
    "start_time": "2022-06-01T17:58:04.875Z"
   },
   {
    "duration": 6,
    "start_time": "2022-06-01T17:58:04.881Z"
   },
   {
    "duration": 39,
    "start_time": "2022-06-01T17:58:04.889Z"
   },
   {
    "duration": 8,
    "start_time": "2022-06-01T17:58:04.929Z"
   },
   {
    "duration": 501,
    "start_time": "2022-06-01T17:58:04.939Z"
   },
   {
    "duration": 10,
    "start_time": "2022-06-01T17:58:05.441Z"
   },
   {
    "duration": 10,
    "start_time": "2022-06-01T17:58:05.452Z"
   },
   {
    "duration": 8,
    "start_time": "2022-06-01T17:58:05.464Z"
   },
   {
    "duration": 9,
    "start_time": "2022-06-01T17:58:05.474Z"
   },
   {
    "duration": 931,
    "start_time": "2022-06-01T17:58:05.484Z"
   },
   {
    "duration": 11,
    "start_time": "2022-06-01T17:58:06.417Z"
   },
   {
    "duration": 8,
    "start_time": "2022-06-01T17:58:06.429Z"
   },
   {
    "duration": 9,
    "start_time": "2022-06-01T17:58:06.438Z"
   },
   {
    "duration": 12,
    "start_time": "2022-06-01T17:58:06.449Z"
   },
   {
    "duration": 383,
    "start_time": "2022-06-01T17:58:06.463Z"
   },
   {
    "duration": 8,
    "start_time": "2022-06-01T17:58:06.848Z"
   },
   {
    "duration": 22,
    "start_time": "2022-06-01T17:58:06.858Z"
   },
   {
    "duration": 8,
    "start_time": "2022-06-01T17:58:06.883Z"
   },
   {
    "duration": 10,
    "start_time": "2022-06-01T17:58:06.892Z"
   },
   {
    "duration": 530,
    "start_time": "2022-06-01T17:58:06.904Z"
   },
   {
    "duration": 9,
    "start_time": "2022-06-01T17:58:07.436Z"
   },
   {
    "duration": 10,
    "start_time": "2022-06-01T17:58:07.446Z"
   },
   {
    "duration": 128,
    "start_time": "2022-06-01T17:58:07.458Z"
   },
   {
    "duration": 0,
    "start_time": "2022-06-01T17:58:07.588Z"
   },
   {
    "duration": 0,
    "start_time": "2022-06-01T17:58:07.589Z"
   },
   {
    "duration": 0,
    "start_time": "2022-06-01T17:58:07.591Z"
   },
   {
    "duration": 0,
    "start_time": "2022-06-01T17:58:07.592Z"
   },
   {
    "duration": 0,
    "start_time": "2022-06-01T17:58:07.593Z"
   },
   {
    "duration": 0,
    "start_time": "2022-06-01T17:58:07.595Z"
   },
   {
    "duration": 0,
    "start_time": "2022-06-01T17:58:07.597Z"
   },
   {
    "duration": 0,
    "start_time": "2022-06-01T17:58:07.598Z"
   },
   {
    "duration": 0,
    "start_time": "2022-06-01T17:58:07.599Z"
   },
   {
    "duration": 0,
    "start_time": "2022-06-01T17:58:07.600Z"
   },
   {
    "duration": 0,
    "start_time": "2022-06-01T17:58:07.602Z"
   },
   {
    "duration": 0,
    "start_time": "2022-06-01T17:58:07.603Z"
   },
   {
    "duration": 0,
    "start_time": "2022-06-01T17:58:07.626Z"
   },
   {
    "duration": 0,
    "start_time": "2022-06-01T17:58:07.627Z"
   },
   {
    "duration": 0,
    "start_time": "2022-06-01T17:58:07.629Z"
   },
   {
    "duration": 0,
    "start_time": "2022-06-01T17:58:07.630Z"
   },
   {
    "duration": 0,
    "start_time": "2022-06-01T17:58:07.632Z"
   },
   {
    "duration": 0,
    "start_time": "2022-06-01T17:58:07.633Z"
   },
   {
    "duration": 0,
    "start_time": "2022-06-01T17:58:07.635Z"
   },
   {
    "duration": 12,
    "start_time": "2022-06-01T17:59:35.286Z"
   },
   {
    "duration": 1152,
    "start_time": "2022-06-01T18:00:47.115Z"
   },
   {
    "duration": 130,
    "start_time": "2022-06-01T18:00:48.268Z"
   },
   {
    "duration": 28,
    "start_time": "2022-06-01T18:00:48.399Z"
   },
   {
    "duration": 74,
    "start_time": "2022-06-01T18:00:48.429Z"
   },
   {
    "duration": 37,
    "start_time": "2022-06-01T18:00:48.506Z"
   },
   {
    "duration": 11,
    "start_time": "2022-06-01T18:00:48.545Z"
   },
   {
    "duration": 13,
    "start_time": "2022-06-01T18:00:48.558Z"
   },
   {
    "duration": 3,
    "start_time": "2022-06-01T18:00:48.572Z"
   },
   {
    "duration": 131,
    "start_time": "2022-06-01T18:00:51.356Z"
   },
   {
    "duration": 31,
    "start_time": "2022-06-01T18:01:07.077Z"
   },
   {
    "duration": 13,
    "start_time": "2022-06-01T18:01:14.917Z"
   },
   {
    "duration": 1147,
    "start_time": "2022-06-01T18:02:04.034Z"
   },
   {
    "duration": 131,
    "start_time": "2022-06-01T18:02:05.183Z"
   },
   {
    "duration": 27,
    "start_time": "2022-06-01T18:02:05.316Z"
   },
   {
    "duration": 83,
    "start_time": "2022-06-01T18:02:05.345Z"
   },
   {
    "duration": 24,
    "start_time": "2022-06-01T18:02:05.431Z"
   },
   {
    "duration": 12,
    "start_time": "2022-06-01T18:02:05.457Z"
   },
   {
    "duration": 13,
    "start_time": "2022-06-01T18:02:05.470Z"
   },
   {
    "duration": 3,
    "start_time": "2022-06-01T18:02:05.485Z"
   },
   {
    "duration": 58,
    "start_time": "2022-06-01T18:02:05.489Z"
   },
   {
    "duration": 14,
    "start_time": "2022-06-01T18:02:05.548Z"
   },
   {
    "duration": 5,
    "start_time": "2022-06-01T18:02:05.563Z"
   },
   {
    "duration": 21,
    "start_time": "2022-06-01T18:02:05.569Z"
   },
   {
    "duration": 10,
    "start_time": "2022-06-01T18:02:05.591Z"
   },
   {
    "duration": 5,
    "start_time": "2022-06-01T18:02:05.627Z"
   },
   {
    "duration": 9,
    "start_time": "2022-06-01T18:02:05.634Z"
   },
   {
    "duration": 15,
    "start_time": "2022-06-01T18:02:05.645Z"
   },
   {
    "duration": 10,
    "start_time": "2022-06-01T18:02:05.662Z"
   },
   {
    "duration": 566,
    "start_time": "2022-06-01T18:02:05.673Z"
   },
   {
    "duration": 9,
    "start_time": "2022-06-01T18:02:06.241Z"
   },
   {
    "duration": 8,
    "start_time": "2022-06-01T18:02:06.252Z"
   },
   {
    "duration": 8,
    "start_time": "2022-06-01T18:02:06.262Z"
   },
   {
    "duration": 9,
    "start_time": "2022-06-01T18:02:06.272Z"
   },
   {
    "duration": 833,
    "start_time": "2022-06-01T18:02:06.282Z"
   },
   {
    "duration": 15,
    "start_time": "2022-06-01T18:02:07.117Z"
   },
   {
    "duration": 7,
    "start_time": "2022-06-01T18:02:07.134Z"
   },
   {
    "duration": 8,
    "start_time": "2022-06-01T18:02:07.142Z"
   },
   {
    "duration": 10,
    "start_time": "2022-06-01T18:02:07.151Z"
   },
   {
    "duration": 347,
    "start_time": "2022-06-01T18:02:07.163Z"
   },
   {
    "duration": 14,
    "start_time": "2022-06-01T18:02:07.512Z"
   },
   {
    "duration": 7,
    "start_time": "2022-06-01T18:02:07.528Z"
   },
   {
    "duration": 8,
    "start_time": "2022-06-01T18:02:07.536Z"
   },
   {
    "duration": 9,
    "start_time": "2022-06-01T18:02:07.546Z"
   },
   {
    "duration": 523,
    "start_time": "2022-06-01T18:02:07.556Z"
   },
   {
    "duration": 10,
    "start_time": "2022-06-01T18:02:08.080Z"
   },
   {
    "duration": 7,
    "start_time": "2022-06-01T18:02:08.092Z"
   },
   {
    "duration": 8,
    "start_time": "2022-06-01T18:02:08.100Z"
   },
   {
    "duration": 9,
    "start_time": "2022-06-01T18:02:08.127Z"
   },
   {
    "duration": 352,
    "start_time": "2022-06-01T18:02:08.137Z"
   },
   {
    "duration": 16,
    "start_time": "2022-06-01T18:02:08.492Z"
   },
   {
    "duration": 24,
    "start_time": "2022-06-01T18:02:08.517Z"
   },
   {
    "duration": 253,
    "start_time": "2022-06-01T18:02:08.548Z"
   },
   {
    "duration": 224,
    "start_time": "2022-06-01T18:02:08.803Z"
   },
   {
    "duration": 236,
    "start_time": "2022-06-01T18:02:09.029Z"
   },
   {
    "duration": 2314,
    "start_time": "2022-06-01T18:02:09.267Z"
   },
   {
    "duration": 23,
    "start_time": "2022-06-01T18:02:11.583Z"
   },
   {
    "duration": 41,
    "start_time": "2022-06-01T18:02:11.608Z"
   },
   {
    "duration": 28,
    "start_time": "2022-06-01T18:02:11.651Z"
   },
   {
    "duration": 42,
    "start_time": "2022-06-01T18:02:11.684Z"
   },
   {
    "duration": 173,
    "start_time": "2022-06-01T18:02:11.728Z"
   },
   {
    "duration": 5,
    "start_time": "2022-06-01T18:02:11.902Z"
   },
   {
    "duration": 464,
    "start_time": "2022-06-01T18:02:11.908Z"
   },
   {
    "duration": 350,
    "start_time": "2022-06-01T18:02:12.374Z"
   },
   {
    "duration": 293,
    "start_time": "2022-06-01T18:02:12.726Z"
   },
   {
    "duration": 292,
    "start_time": "2022-06-01T18:02:13.027Z"
   },
   {
    "duration": 2270,
    "start_time": "2022-06-01T18:02:13.326Z"
   },
   {
    "duration": 33,
    "start_time": "2022-06-01T18:03:08.785Z"
   },
   {
    "duration": 49,
    "start_time": "2022-06-01T18:05:19.923Z"
   },
   {
    "duration": 33,
    "start_time": "2022-06-01T18:07:41.167Z"
   },
   {
    "duration": 115,
    "start_time": "2022-06-01T18:11:04.624Z"
   },
   {
    "duration": 159,
    "start_time": "2022-06-01T18:11:41.895Z"
   },
   {
    "duration": 13,
    "start_time": "2022-06-01T18:15:19.424Z"
   },
   {
    "duration": 13,
    "start_time": "2022-06-01T18:15:22.147Z"
   },
   {
    "duration": 161,
    "start_time": "2022-06-01T18:15:25.714Z"
   },
   {
    "duration": 165,
    "start_time": "2022-06-01T18:15:42.724Z"
   },
   {
    "duration": 21,
    "start_time": "2022-06-01T18:16:04.684Z"
   },
   {
    "duration": 13,
    "start_time": "2022-06-01T18:16:06.983Z"
   },
   {
    "duration": 189,
    "start_time": "2022-06-01T18:16:15.704Z"
   },
   {
    "duration": 1121,
    "start_time": "2022-06-01T18:22:12.134Z"
   },
   {
    "duration": 126,
    "start_time": "2022-06-01T18:22:13.257Z"
   },
   {
    "duration": 20,
    "start_time": "2022-06-01T18:22:13.385Z"
   },
   {
    "duration": 86,
    "start_time": "2022-06-01T18:22:13.406Z"
   },
   {
    "duration": 48,
    "start_time": "2022-06-01T18:22:13.495Z"
   },
   {
    "duration": 16,
    "start_time": "2022-06-01T18:22:13.545Z"
   },
   {
    "duration": 18,
    "start_time": "2022-06-01T18:22:13.563Z"
   },
   {
    "duration": 3,
    "start_time": "2022-06-01T18:22:13.582Z"
   },
   {
    "duration": 60,
    "start_time": "2022-06-01T18:22:13.587Z"
   },
   {
    "duration": 19,
    "start_time": "2022-06-01T18:22:13.649Z"
   },
   {
    "duration": 5,
    "start_time": "2022-06-01T18:22:13.670Z"
   },
   {
    "duration": 15,
    "start_time": "2022-06-01T18:22:13.676Z"
   },
   {
    "duration": 33,
    "start_time": "2022-06-01T18:22:13.693Z"
   },
   {
    "duration": 6,
    "start_time": "2022-06-01T18:22:13.729Z"
   },
   {
    "duration": 6,
    "start_time": "2022-06-01T18:22:13.736Z"
   },
   {
    "duration": 13,
    "start_time": "2022-06-01T18:22:13.744Z"
   },
   {
    "duration": 14,
    "start_time": "2022-06-01T18:22:13.759Z"
   },
   {
    "duration": 533,
    "start_time": "2022-06-01T18:22:13.774Z"
   },
   {
    "duration": 17,
    "start_time": "2022-06-01T18:22:14.310Z"
   },
   {
    "duration": 8,
    "start_time": "2022-06-01T18:22:14.329Z"
   },
   {
    "duration": 17,
    "start_time": "2022-06-01T18:22:14.339Z"
   },
   {
    "duration": 11,
    "start_time": "2022-06-01T18:22:14.358Z"
   },
   {
    "duration": 860,
    "start_time": "2022-06-01T18:22:14.371Z"
   },
   {
    "duration": 10,
    "start_time": "2022-06-01T18:22:15.233Z"
   },
   {
    "duration": 11,
    "start_time": "2022-06-01T18:22:15.245Z"
   },
   {
    "duration": 11,
    "start_time": "2022-06-01T18:22:15.258Z"
   },
   {
    "duration": 11,
    "start_time": "2022-06-01T18:22:15.271Z"
   },
   {
    "duration": 371,
    "start_time": "2022-06-01T18:22:15.284Z"
   },
   {
    "duration": 8,
    "start_time": "2022-06-01T18:22:15.657Z"
   },
   {
    "duration": 12,
    "start_time": "2022-06-01T18:22:15.667Z"
   },
   {
    "duration": 12,
    "start_time": "2022-06-01T18:22:15.681Z"
   },
   {
    "duration": 11,
    "start_time": "2022-06-01T18:22:15.694Z"
   },
   {
    "duration": 537,
    "start_time": "2022-06-01T18:22:15.729Z"
   },
   {
    "duration": 9,
    "start_time": "2022-06-01T18:22:16.268Z"
   },
   {
    "duration": 7,
    "start_time": "2022-06-01T18:22:16.278Z"
   },
   {
    "duration": 8,
    "start_time": "2022-06-01T18:22:16.287Z"
   },
   {
    "duration": 38,
    "start_time": "2022-06-01T18:22:16.296Z"
   },
   {
    "duration": 354,
    "start_time": "2022-06-01T18:22:16.335Z"
   },
   {
    "duration": 10,
    "start_time": "2022-06-01T18:22:16.690Z"
   },
   {
    "duration": 30,
    "start_time": "2022-06-01T18:22:16.702Z"
   },
   {
    "duration": 223,
    "start_time": "2022-06-01T18:22:16.735Z"
   },
   {
    "duration": 219,
    "start_time": "2022-06-01T18:22:16.961Z"
   },
   {
    "duration": 226,
    "start_time": "2022-06-01T18:22:17.182Z"
   },
   {
    "duration": 2269,
    "start_time": "2022-06-01T18:22:17.410Z"
   },
   {
    "duration": 22,
    "start_time": "2022-06-01T18:22:19.680Z"
   },
   {
    "duration": 193,
    "start_time": "2022-06-01T18:22:19.704Z"
   },
   {
    "duration": 13,
    "start_time": "2022-06-01T18:22:19.899Z"
   },
   {
    "duration": 8,
    "start_time": "2022-06-01T18:22:19.928Z"
   },
   {
    "duration": 166,
    "start_time": "2022-06-01T18:22:19.939Z"
   },
   {
    "duration": 167,
    "start_time": "2022-06-01T18:22:20.107Z"
   },
   {
    "duration": 5,
    "start_time": "2022-06-01T18:22:20.276Z"
   },
   {
    "duration": 419,
    "start_time": "2022-06-01T18:22:20.283Z"
   },
   {
    "duration": 314,
    "start_time": "2022-06-01T18:22:20.704Z"
   },
   {
    "duration": 282,
    "start_time": "2022-06-01T18:22:21.027Z"
   },
   {
    "duration": 365,
    "start_time": "2022-06-01T18:22:21.311Z"
   },
   {
    "duration": 2555,
    "start_time": "2022-06-01T18:22:21.678Z"
   },
   {
    "duration": 1186,
    "start_time": "2022-06-01T19:14:59.916Z"
   },
   {
    "duration": 126,
    "start_time": "2022-06-01T19:15:01.104Z"
   },
   {
    "duration": 20,
    "start_time": "2022-06-01T19:15:01.232Z"
   },
   {
    "duration": 83,
    "start_time": "2022-06-01T19:15:01.253Z"
   },
   {
    "duration": 23,
    "start_time": "2022-06-01T19:15:01.338Z"
   },
   {
    "duration": 11,
    "start_time": "2022-06-01T19:15:01.363Z"
   },
   {
    "duration": 29,
    "start_time": "2022-06-01T19:15:01.376Z"
   },
   {
    "duration": 26,
    "start_time": "2022-06-01T19:15:01.406Z"
   },
   {
    "duration": 46,
    "start_time": "2022-06-01T19:15:01.434Z"
   },
   {
    "duration": 34,
    "start_time": "2022-06-01T19:15:01.482Z"
   },
   {
    "duration": 32,
    "start_time": "2022-06-01T19:15:01.518Z"
   },
   {
    "duration": 41,
    "start_time": "2022-06-01T19:15:01.555Z"
   },
   {
    "duration": 15,
    "start_time": "2022-06-01T19:15:01.598Z"
   },
   {
    "duration": 17,
    "start_time": "2022-06-01T19:15:01.617Z"
   },
   {
    "duration": 24,
    "start_time": "2022-06-01T19:15:01.636Z"
   },
   {
    "duration": 47,
    "start_time": "2022-06-01T19:15:01.662Z"
   },
   {
    "duration": 33,
    "start_time": "2022-06-01T19:15:01.711Z"
   },
   {
    "duration": 537,
    "start_time": "2022-06-01T19:15:01.747Z"
   },
   {
    "duration": 9,
    "start_time": "2022-06-01T19:15:02.285Z"
   },
   {
    "duration": 31,
    "start_time": "2022-06-01T19:15:02.295Z"
   },
   {
    "duration": 12,
    "start_time": "2022-06-01T19:15:02.328Z"
   },
   {
    "duration": 12,
    "start_time": "2022-06-01T19:15:02.342Z"
   },
   {
    "duration": 827,
    "start_time": "2022-06-01T19:15:02.356Z"
   },
   {
    "duration": 9,
    "start_time": "2022-06-01T19:15:03.185Z"
   },
   {
    "duration": 43,
    "start_time": "2022-06-01T19:15:03.195Z"
   },
   {
    "duration": 19,
    "start_time": "2022-06-01T19:15:03.239Z"
   },
   {
    "duration": 30,
    "start_time": "2022-06-01T19:15:03.259Z"
   },
   {
    "duration": 336,
    "start_time": "2022-06-01T19:15:03.291Z"
   },
   {
    "duration": 9,
    "start_time": "2022-06-01T19:15:03.628Z"
   },
   {
    "duration": 23,
    "start_time": "2022-06-01T19:15:03.638Z"
   },
   {
    "duration": 23,
    "start_time": "2022-06-01T19:15:03.663Z"
   },
   {
    "duration": 17,
    "start_time": "2022-06-01T19:15:03.688Z"
   },
   {
    "duration": 475,
    "start_time": "2022-06-01T19:15:03.707Z"
   },
   {
    "duration": 9,
    "start_time": "2022-06-01T19:15:04.184Z"
   },
   {
    "duration": 22,
    "start_time": "2022-06-01T19:15:04.194Z"
   },
   {
    "duration": 17,
    "start_time": "2022-06-01T19:15:04.217Z"
   },
   {
    "duration": 33,
    "start_time": "2022-06-01T19:15:04.235Z"
   },
   {
    "duration": 327,
    "start_time": "2022-06-01T19:15:04.269Z"
   },
   {
    "duration": 8,
    "start_time": "2022-06-01T19:15:04.598Z"
   },
   {
    "duration": 31,
    "start_time": "2022-06-01T19:15:04.608Z"
   },
   {
    "duration": 225,
    "start_time": "2022-06-01T19:15:04.644Z"
   },
   {
    "duration": 221,
    "start_time": "2022-06-01T19:15:04.871Z"
   },
   {
    "duration": 225,
    "start_time": "2022-06-01T19:15:05.094Z"
   },
   {
    "duration": 2128,
    "start_time": "2022-06-01T19:15:05.326Z"
   },
   {
    "duration": 21,
    "start_time": "2022-06-01T19:15:07.455Z"
   },
   {
    "duration": 176,
    "start_time": "2022-06-01T19:15:07.477Z"
   },
   {
    "duration": 10,
    "start_time": "2022-06-01T19:15:07.656Z"
   },
   {
    "duration": 5,
    "start_time": "2022-06-01T19:15:07.667Z"
   },
   {
    "duration": 164,
    "start_time": "2022-06-01T19:15:07.673Z"
   },
   {
    "duration": 161,
    "start_time": "2022-06-01T19:15:07.838Z"
   },
   {
    "duration": 5,
    "start_time": "2022-06-01T19:15:08.001Z"
   },
   {
    "duration": 329,
    "start_time": "2022-06-01T19:15:08.008Z"
   },
   {
    "duration": 299,
    "start_time": "2022-06-01T19:15:08.339Z"
   },
   {
    "duration": 251,
    "start_time": "2022-06-01T19:15:08.640Z"
   },
   {
    "duration": 269,
    "start_time": "2022-06-01T19:15:08.893Z"
   },
   {
    "duration": 2329,
    "start_time": "2022-06-01T19:15:09.164Z"
   },
   {
    "duration": 48,
    "start_time": "2022-07-23T14:48:08.175Z"
   }
  ],
  "kernelspec": {
   "display_name": "Python 3 (ipykernel)",
   "language": "python",
   "name": "python3"
  },
  "language_info": {
   "codemirror_mode": {
    "name": "ipython",
    "version": 3
   },
   "file_extension": ".py",
   "mimetype": "text/x-python",
   "name": "python",
   "nbconvert_exporter": "python",
   "pygments_lexer": "ipython3",
   "version": "3.9.12"
  },
  "toc": {
   "base_numbering": 1,
   "nav_menu": {},
   "number_sections": true,
   "sideBar": true,
   "skip_h1_title": true,
   "title_cell": "Table of Contents",
   "title_sidebar": "Contents",
   "toc_cell": false,
   "toc_position": {},
   "toc_section_display": true,
   "toc_window_display": false
  }
 },
 "nbformat": 4,
 "nbformat_minor": 5
}
