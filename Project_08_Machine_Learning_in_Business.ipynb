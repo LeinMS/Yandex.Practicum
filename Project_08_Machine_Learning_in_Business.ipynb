{
 "cells": [
  {
   "cell_type": "markdown",
   "metadata": {},
   "source": [
    "# Selection of well location"
   ]
  },
  {
   "cell_type": "markdown",
   "metadata": {},
   "source": [
    "Glavrosgosneft oil company needs to decide where to drill a new well.\n",
    "\n",
    "The steps for choosing a location are usually as follows:\n",
    "\n",
    "- In the selected region, characteristics for wells are collected: the quality of oil and the volume of its reserves;\n",
    "- Build a model to predict the volume of reserves in new wells;\n",
    "- Select wells with the highest value estimates;\n",
    "- Determine the region with the maximum total profit of the selected wells.\n",
    "\n",
    "We have been provided with oil samples in three regions. The characteristics for each well in the region are already known. It is necessary to build a model to determine the region where mining will bring the greatest profit and analyze the possible profits and risks with Bootstrap technology."
   ]
  },
  {
   "cell_type": "markdown",
   "metadata": {},
   "source": [
    "## Data description\n",
    "\n",
    "The exploration data of the three regions are in the files:\n",
    "\n",
    "- /datasets/geo_data_0.cs;\n",
    "- /datasets/geo_data_1.csv;\n",
    "- /datasets/geo_data_2.csv;\n",
    "- id — unique well ID;\n",
    "- f0, f1, f2 — three signs of dots (it doesn't matter what they mean, but the signs themselves are significant);\n",
    "- product — the volume of reserves in the well (thousand barrels)."
   ]
  },
  {
   "cell_type": "markdown",
   "metadata": {},
   "source": [
    "## Task conditions:\n",
    "\n",
    "- Only linear regression is suitable for training the model (the rest are not predictable enough).\n",
    "\n",
    "- During the exploration of the region, 500 points are explored, from which 200 best ones are selected for development using machine learning.\n",
    "\n",
    "- The budget for the development of wells in the region is 10 billion rubles.\n",
    "\n",
    "- At current prices, one barrel of raw materials brings 450 rubles of income. The income from each unit of the product is 450 thousand rubles, since the volume is indicated in thousands of barrels.\n",
    "\n",
    "- After the risk assessment, you need to leave only those regions in which the probability of losses is less than 2.5%. Among them, the region with the highest average profit is chosen.\n",
    "\n",
    "Synthetic data: details of contracts and characteristics of deposits are not disclosed."
   ]
  },
  {
   "cell_type": "markdown",
   "metadata": {},
   "source": [
    "## Loading and preparing data"
   ]
  },
  {
   "cell_type": "code",
   "execution_count": 1,
   "metadata": {},
   "outputs": [],
   "source": [
    "import pandas as pd\n",
    "import numpy as np\n",
    "import matplotlib.pyplot as plt\n",
    "from sklearn.model_selection import train_test_split\n",
    "from sklearn.linear_model import LinearRegression\n",
    "from sklearn.linear_model import LogisticRegression\n",
    "from sklearn.metrics import mean_squared_error "
   ]
  },
  {
   "cell_type": "code",
   "execution_count": 2,
   "metadata": {},
   "outputs": [],
   "source": [
    "data_1 = pd.read_csv('geo_data_0.csv')\n",
    "data_2 = pd.read_csv('geo_data_1.csv')\n",
    "data_3 = pd.read_csv('geo_data_2.csv')"
   ]
  },
  {
   "cell_type": "code",
   "execution_count": 3,
   "metadata": {},
   "outputs": [
    {
     "name": "stdout",
     "output_type": "stream",
     "text": [
      "<class 'pandas.core.frame.DataFrame'>\n",
      "RangeIndex: 100000 entries, 0 to 99999\n",
      "Data columns (total 5 columns):\n",
      " #   Column   Non-Null Count   Dtype  \n",
      "---  ------   --------------   -----  \n",
      " 0   id       100000 non-null  object \n",
      " 1   f0       100000 non-null  float64\n",
      " 2   f1       100000 non-null  float64\n",
      " 3   f2       100000 non-null  float64\n",
      " 4   product  100000 non-null  float64\n",
      "dtypes: float64(4), object(1)\n",
      "memory usage: 3.8+ MB\n",
      "None\n",
      "<class 'pandas.core.frame.DataFrame'>\n",
      "RangeIndex: 100000 entries, 0 to 99999\n",
      "Data columns (total 5 columns):\n",
      " #   Column   Non-Null Count   Dtype  \n",
      "---  ------   --------------   -----  \n",
      " 0   id       100000 non-null  object \n",
      " 1   f0       100000 non-null  float64\n",
      " 2   f1       100000 non-null  float64\n",
      " 3   f2       100000 non-null  float64\n",
      " 4   product  100000 non-null  float64\n",
      "dtypes: float64(4), object(1)\n",
      "memory usage: 3.8+ MB\n",
      "None\n",
      "<class 'pandas.core.frame.DataFrame'>\n",
      "RangeIndex: 100000 entries, 0 to 99999\n",
      "Data columns (total 5 columns):\n",
      " #   Column   Non-Null Count   Dtype  \n",
      "---  ------   --------------   -----  \n",
      " 0   id       100000 non-null  object \n",
      " 1   f0       100000 non-null  float64\n",
      " 2   f1       100000 non-null  float64\n",
      " 3   f2       100000 non-null  float64\n",
      " 4   product  100000 non-null  float64\n",
      "dtypes: float64(4), object(1)\n",
      "memory usage: 3.8+ MB\n",
      "None\n"
     ]
    }
   ],
   "source": [
    "# checking a table for missings and data types\n",
    "data = [data_1,data_2,data_3]\n",
    "for i in data:\n",
    "    print(i.info())"
   ]
  },
  {
   "cell_type": "code",
   "execution_count": 4,
   "metadata": {},
   "outputs": [
    {
     "name": "stdout",
     "output_type": "stream",
     "text": [
      "Region 1\n"
     ]
    },
    {
     "data": {
      "image/png": "[encoded data removed]",
      "text/plain": [
       "<Figure size 432x288 with 1 Axes>"
      ]
     },
     "metadata": {
      "needs_background": "light"
     },
     "output_type": "display_data"
    },
    {
     "name": "stdout",
     "output_type": "stream",
     "text": [
      "Region 2\n"
     ]
    },
    {
     "data": {
      "image/png": "[encoded data removed]",
      "text/plain": [
       "<Figure size 432x288 with 1 Axes>"
      ]
     },
     "metadata": {
      "needs_background": "light"
     },
     "output_type": "display_data"
    },
    {
     "name": "stdout",
     "output_type": "stream",
     "text": [
      "Region 3\n"
     ]
    },
    {
     "data": {
      "image/png": "[encoded data removed]",
      "text/plain": [
       "<Figure size 432x288 with 1 Axes>"
      ]
     },
     "metadata": {
      "needs_background": "light"
     },
     "output_type": "display_data"
    }
   ],
   "source": [
    "for i,x in enumerate(data):\n",
    "    print(f'Region {i+1}')\n",
    "    x['product'].hist()\n",
    "    plt.show()  "
   ]
  },
  {
   "cell_type": "code",
   "execution_count": 5,
   "metadata": {
    "scrolled": true
   },
   "outputs": [
    {
     "data": {
      "text/html": [
       "<div>\n",
       "<style scoped>\n",
       "    .dataframe tbody tr th:only-of-type {\n",
       "        vertical-align: middle;\n",
       "    }\n",
       "\n",
       "    .dataframe tbody tr th {\n",
       "        vertical-align: top;\n",
       "    }\n",
       "\n",
       "    .dataframe thead th {\n",
       "        text-align: right;\n",
       "    }\n",
       "</style>\n",
       "<table border=\"1\" class=\"dataframe\">\n",
       "  <thead>\n",
       "    <tr style=\"text-align: right;\">\n",
       "      <th></th>\n",
       "      <th>f0</th>\n",
       "      <th>f1</th>\n",
       "      <th>f2</th>\n",
       "      <th>product</th>\n",
       "    </tr>\n",
       "  </thead>\n",
       "  <tbody>\n",
       "    <tr>\n",
       "      <th>count</th>\n",
       "      <td>100000.000000</td>\n",
       "      <td>100000.000000</td>\n",
       "      <td>100000.000000</td>\n",
       "      <td>100000.000000</td>\n",
       "    </tr>\n",
       "    <tr>\n",
       "      <th>mean</th>\n",
       "      <td>1.141296</td>\n",
       "      <td>-4.796579</td>\n",
       "      <td>2.494541</td>\n",
       "      <td>68.825000</td>\n",
       "    </tr>\n",
       "    <tr>\n",
       "      <th>std</th>\n",
       "      <td>8.965932</td>\n",
       "      <td>5.119872</td>\n",
       "      <td>1.703572</td>\n",
       "      <td>45.944423</td>\n",
       "    </tr>\n",
       "    <tr>\n",
       "      <th>min</th>\n",
       "      <td>-31.609576</td>\n",
       "      <td>-26.358598</td>\n",
       "      <td>-0.018144</td>\n",
       "      <td>0.000000</td>\n",
       "    </tr>\n",
       "    <tr>\n",
       "      <th>25%</th>\n",
       "      <td>-6.298551</td>\n",
       "      <td>-8.267985</td>\n",
       "      <td>1.000021</td>\n",
       "      <td>26.953261</td>\n",
       "    </tr>\n",
       "    <tr>\n",
       "      <th>50%</th>\n",
       "      <td>1.153055</td>\n",
       "      <td>-4.813172</td>\n",
       "      <td>2.011479</td>\n",
       "      <td>57.085625</td>\n",
       "    </tr>\n",
       "    <tr>\n",
       "      <th>75%</th>\n",
       "      <td>8.621015</td>\n",
       "      <td>-1.332816</td>\n",
       "      <td>3.999904</td>\n",
       "      <td>107.813044</td>\n",
       "    </tr>\n",
       "    <tr>\n",
       "      <th>max</th>\n",
       "      <td>29.421755</td>\n",
       "      <td>18.734063</td>\n",
       "      <td>5.019721</td>\n",
       "      <td>137.945408</td>\n",
       "    </tr>\n",
       "  </tbody>\n",
       "</table>\n",
       "</div>"
      ],
      "text/plain": [
       "                  f0             f1             f2        product\n",
       "count  100000.000000  100000.000000  100000.000000  100000.000000\n",
       "mean        1.141296      -4.796579       2.494541      68.825000\n",
       "std         8.965932       5.119872       1.703572      45.944423\n",
       "min       -31.609576     -26.358598      -0.018144       0.000000\n",
       "25%        -6.298551      -8.267985       1.000021      26.953261\n",
       "50%         1.153055      -4.813172       2.011479      57.085625\n",
       "75%         8.621015      -1.332816       3.999904     107.813044\n",
       "max        29.421755      18.734063       5.019721     137.945408"
      ]
     },
     "execution_count": 5,
     "metadata": {},
     "output_type": "execute_result"
    }
   ],
   "source": [
    "# basic statistical parameters\n",
    "data_2.describe()"
   ]
  },
  {
   "cell_type": "code",
   "execution_count": 6,
   "metadata": {},
   "outputs": [
    {
     "data": {
      "text/plain": [
       "53.906522     8472\n",
       "26.953261     8468\n",
       "84.038886     8431\n",
       "57.085625     8390\n",
       "3.179103      8337\n",
       "80.859783     8320\n",
       "30.132364     8306\n",
       "134.766305    8304\n",
       "110.992147    8303\n",
       "0.000000      8235\n",
       "137.945408    8233\n",
       "107.813044    8201\n",
       "Name: product, dtype: int64"
      ]
     },
     "execution_count": 6,
     "metadata": {},
     "output_type": "execute_result"
    }
   ],
   "source": [
    "# unique values\n",
    "data_2['product'].value_counts()"
   ]
  },
  {
   "cell_type": "code",
   "execution_count": 7,
   "metadata": {},
   "outputs": [
    {
     "name": "stdout",
     "output_type": "stream",
     "text": [
      "Средние добыча со скважины в 1 таблице = 92.49999999999974\n",
      "Средние добыча со скважины в 2 таблице = 68.82500000002561\n",
      "Средние добыча со скважины в 3 таблице = 95.00000000000041\n"
     ]
    }
   ],
   "source": [
    "for i,x in enumerate(data):\n",
    "    print(f'Средние добыча со скважины в {i+1} таблице =',x['product'].mean())\n",
    "    #print(x['product'].mean())"
   ]
  },
  {
   "cell_type": "code",
   "execution_count": 8,
   "metadata": {},
   "outputs": [
    {
     "name": "stdout",
     "output_type": "stream",
     "text": [
      "Количество дубликатов в 1 таблице = 0\n",
      "Количество дубликатов в 2 таблице = 0\n",
      "Количество дубликатов в 3 таблице = 0\n"
     ]
    }
   ],
   "source": [
    "for i,x in enumerate(data):\n",
    "    print(f'Количество дубликатов в {i+1} таблице = {x.duplicated().sum()}')"
   ]
  },
  {
   "cell_type": "code",
   "execution_count": 9,
   "metadata": {},
   "outputs": [
    {
     "name": "stdout",
     "output_type": "stream",
     "text": [
      "Количество дубликатов в 1 таблице в столбце id = 10\n",
      "Количество дубликатов в 2 таблице в столбце id = 4\n",
      "Количество дубликатов в 3 таблице в столбце id = 4\n"
     ]
    }
   ],
   "source": [
    "for i,x in enumerate(data):\n",
    "    print(f'Количество дубликатов в {i+1} таблице в столбце id =', x['id'].duplicated().sum())"
   ]
  },
  {
   "cell_type": "code",
   "execution_count": 10,
   "metadata": {},
   "outputs": [],
   "source": [
    "# deleting a column with a well index\n",
    "data_1 = data_1.drop(['id'], axis=1)\n",
    "data_2 = data_2.drop(['id'], axis=1)\n",
    "data_3 = data_3.drop(['id'], axis=1)"
   ]
  },
  {
   "cell_type": "markdown",
   "metadata": {},
   "source": [
    "**Conclusion**\n",
    "\n",
    "The data has been verified and is ready for further processing"
   ]
  },
  {
   "cell_type": "markdown",
   "metadata": {},
   "source": [
    "## Train and validate the model"
   ]
  },
  {
   "cell_type": "code",
   "execution_count": 11,
   "metadata": {},
   "outputs": [],
   "source": [
    "# Calculation of RMSE and the average value of predicted reserves\n",
    "def rmse(dat):\n",
    "      for i in data:\n",
    "        features = dat.drop(['product'], axis = 1)\n",
    "        target = dat['product']\n",
    "\n",
    "        features_train, features_valid, target_train, target_valid = train_test_split(features,\\\n",
    "                                                                                      target,\\\n",
    "                                                                                      test_size=0.25,\\\n",
    "                                                                                      random_state = 12345)\n",
    "        model = LinearRegression()\n",
    "        model = model.fit(features_train, target_train)\n",
    "        prediction = model.predict(features_valid)\n",
    "        prediction = pd.Series(prediction)   \n",
    "        rmse = mean_squared_error(target_valid, prediction) ** 0.5\n",
    "        \n",
    "        return prediction.sum(), rmse"
   ]
  },
  {
   "cell_type": "code",
   "execution_count": 12,
   "metadata": {},
   "outputs": [
    {
     "name": "stdout",
     "output_type": "stream",
     "text": [
      "Таблица_1 (2314814.194609509, 37.5794217150813)\n",
      "Таблица_2 (1718213.6723861499, 0.8930992867756168)\n",
      "Таблица_3 (2374126.1492001223, 40.02970873393434)\n"
     ]
    }
   ],
   "source": [
    "dat = [data_1, data_2, data_3]\n",
    "\n",
    "for i,x in enumerate(dat):\n",
    "    print(f'Таблица_{i+1}',rmse(x))"
   ]
  },
  {
   "cell_type": "markdown",
   "metadata": {},
   "source": [
    "The smaller the rmse the better the regression model.\n",
    "The second region has the smallest standard deviation. \n",
    "There is an assumption that this is an overfitting due to the unusual distribution of flow rates in the second region."
   ]
  },
  {
   "cell_type": "markdown",
   "metadata": {},
   "source": [
    "## Preprocessing for profit calculation"
   ]
  },
  {
   "cell_type": "code",
   "execution_count": 13,
   "metadata": {},
   "outputs": [],
   "source": [
    "budget = 10_000_000 # total budget\n",
    "chosen_points = 500\n",
    "best_points = 200\n",
    "price_per_barrel = 450 # RuR for barrel"
   ]
  },
  {
   "cell_type": "code",
   "execution_count": 14,
   "metadata": {},
   "outputs": [
    {
     "name": "stdout",
     "output_type": "stream",
     "text": [
      "Profit for 1 well - 50000.0 ru\n",
      "Volume of oil per well - 111.1  10^3 barrels\n",
      "Average volume of oil per region - 22222.2  10^3 barrels\n"
     ]
    }
   ],
   "source": [
    "profit_per_point = budget / best_points\n",
    "print('Profit for 1 well -',  round(profit_per_point, 1), 'ru')\n",
    "\n",
    "barrels_per_point = (profit_per_point  / price_per_barrel)\n",
    "print('Volume of oil per well -',  round(barrels_per_point,1), ' 10^3 barrels')\n",
    "\n",
    "barrels = (budget / price_per_barrel) \n",
    "print('Average volume of oil per region -', round(barrels,1), ' 10^3 barrels')"
   ]
  },
  {
   "cell_type": "code",
   "execution_count": 15,
   "metadata": {},
   "outputs": [
    {
     "name": "stdout",
     "output_type": "stream",
     "text": [
      "Average production from a well in 1 table = 92.5  10^3 barrels\n",
      "Average production from a well in 2 table = 68.8  10^3 barrels\n",
      "Average production from a well in 3 table = 95.0  10^3 barrels\n"
     ]
    }
   ],
   "source": [
    "for i,x in enumerate(data):\n",
    "    print(f'Average production from a well in {i+1} table =', round(x['product'].mean(),1) ,' 10^3 barrels')"
   ]
  },
  {
   "cell_type": "code",
   "execution_count": 16,
   "metadata": {},
   "outputs": [],
   "source": [
    "def get_prediction(dat):\n",
    "      for i in data:\n",
    "        features = dat.drop(['product'], axis = 1)\n",
    "        target = dat['product']\n",
    "\n",
    "        features_train,features_valid,target_train,target_valid = train_test_split(features, target, test_size=0.25,\n",
    "                                                                                   random_state = 12345)\n",
    "        model = LinearRegression()\n",
    "        model = model.fit(features_train,target_train)\n",
    "        prediction = model.predict(features_valid)\n",
    "        prediction = pd.Series(prediction) \n",
    "        \n",
    "        return prediction"
   ]
  },
  {
   "cell_type": "code",
   "execution_count": 17,
   "metadata": {},
   "outputs": [
    {
     "data": {
      "image/png": "[encoded data removed]",
      "text/plain": [
       "<Figure size 432x288 with 1 Axes>"
      ]
     },
     "metadata": {
      "needs_background": "light"
     },
     "output_type": "display_data"
    },
    {
     "data": {
      "image/png": "[encoded data removed]",
      "text/plain": [
       "<Figure size 432x288 with 1 Axes>"
      ]
     },
     "metadata": {
      "needs_background": "light"
     },
     "output_type": "display_data"
    },
    {
     "data": {
      "image/png": "[encoded data removed]",
      "text/plain": [
       "<Figure size 432x288 with 1 Axes>"
      ]
     },
     "metadata": {
      "needs_background": "light"
     },
     "output_type": "display_data"
    }
   ],
   "source": [
    "for i in dat:    \n",
    "    get_prediction(i).hist(bins=200)\n",
    "    plt.xlabel(\"Volume of oil per well, 10^3 barrels\")\n",
    "    plt.ylabel(\"Number of wells\")\n",
    "    plt.title(\"Distribution histogram by well production volume\")\n",
    "    plt.show()"
   ]
  },
  {
   "cell_type": "markdown",
   "metadata": {},
   "source": [
    "The average actual stocks have been studied. For the first and third regions, the high probability will pay off. The spread of values around the average is 92.5 and 95. This means that the stocks are more than necessary.\n",
    "\n",
    "In the second region, there are a lot of values ​​more than 111, so there is a high probability of paying off."
   ]
  },
  {
   "cell_type": "markdown",
   "metadata": {},
   "source": [
    "## Function to calculate profit from selected wells and model predictions"
   ]
  },
  {
   "cell_type": "code",
   "execution_count": 18,
   "metadata": {},
   "outputs": [],
   "source": [
    "# profit calculation function\n",
    "def get_hydrocarbon_profit(target, probabilities, count):\n",
    "    probs_sorted = probabilities.sort_values(ascending=False)\n",
    "    selected = target[probs_sorted.index][:count]\n",
    "    return price_per_barrel * selected.sum() - budget"
   ]
  },
  {
   "cell_type": "markdown",
   "metadata": {},
   "source": [
    "## Calculation of profit and risks"
   ]
  },
  {
   "cell_type": "code",
   "execution_count": 19,
   "metadata": {},
   "outputs": [],
   "source": [
    "state = np.random.RandomState(12345)"
   ]
  },
  {
   "cell_type": "code",
   "execution_count": 20,
   "metadata": {},
   "outputs": [],
   "source": [
    "# predictions and answers\n",
    "def get_prediction_and_target(dat):\n",
    "      for i in data:\n",
    "        features = dat.drop(['product'], axis = 1)\n",
    "        target = dat['product']\n",
    "\n",
    "        features_train, features_valid, target_train, target_valid = train_test_split(features, target, test_size=0.25,\n",
    "                                                                                   random_state = 12345)\n",
    "        model = LinearRegression()\n",
    "        model = model.fit(features_train, target_train)\n",
    "        prediction = model.predict(features_valid)\n",
    "        prediction = pd.Series(prediction)\n",
    "        target_valid = target_valid.reset_index(drop=True)\n",
    "        return target_valid, prediction"
   ]
  },
  {
   "cell_type": "code",
   "execution_count": 21,
   "metadata": {},
   "outputs": [],
   "source": [
    "def bootstrap(target, probabilities):\n",
    "    values = []\n",
    "    expenditure = 0\n",
    "    for i in range(1000):\n",
    "        target_sample = target.sample(n=500, replace=True, random_state=state)\n",
    "        probs_sample = probabilities[target_sample.index]\n",
    "        profit = get_hydrocarbon_profit(target, probs_sample, 200)\n",
    "        if profit < 0:\n",
    "            expenditure +=1\n",
    "        values.append(profit)\n",
    "    \n",
    "    values = pd.Series(values)\n",
    "    lower = values.quantile(0.025)\n",
    "    upper = values.quantile(0.975)\n",
    "    average = values.mean()\n",
    "    risk = expenditure / 1000\n",
    "    return average, lower, upper, risk"
   ]
  },
  {
   "cell_type": "code",
   "execution_count": 22,
   "metadata": {},
   "outputs": [
    {
     "name": "stdout",
     "output_type": "stream",
     "text": [
      "First region\n",
      "Average profit:396165.0\n",
      "95% confidence interval: from -111215.5 [10^3 ru] to 909766.9[10^3 ru]\n",
      "Percent Risk 7.000000000000001\n"
     ]
    }
   ],
   "source": [
    "target_1, prediction_1 = get_prediction_and_target(data_1)\n",
    "average_1, low_1, upp_1, risk_1 = bootstrap(target_1, prediction_1)\n",
    "print('First region')\n",
    "print(f\"Average profit:{round(average_1, 1)}\")\n",
    "print(f'95% confidence interval: from {round(low_1, 1)} [10^3 ru] to {round(upp_1, 1)}[10^3 ru]')\n",
    "print(f'Percent Risk {round(risk_1, 2) * 100}')"
   ]
  },
  {
   "cell_type": "code",
   "execution_count": 23,
   "metadata": {},
   "outputs": [
    {
     "name": "stdout",
     "output_type": "stream",
     "text": [
      "Second region\n",
      "Average profit:461155.8\n",
      "95% confidence interval: from 78050.8 [10^3 ru] to 862952.1[10^3 ru]\n",
      "Percent Risk 1.0\n"
     ]
    }
   ],
   "source": [
    "target_2, prediction_2 = get_prediction_and_target(data_2)\n",
    "average_2, low_2, up_2, risk_2 = bootstrap(target_2, prediction_2)\n",
    "print('Second region')\n",
    "print(f\"Average profit:{round(average_2, 1)}\")\n",
    "print(f'95% confidence interval: from {round(low_2, 1)} [10^3 ru] to {round(up_2, 1)}[10^3 ru]')\n",
    "print(f'Percent Risk {round(risk_2, 2) * 100}')"
   ]
  },
  {
   "cell_type": "code",
   "execution_count": 24,
   "metadata": {},
   "outputs": [
    {
     "name": "stdout",
     "output_type": "stream",
     "text": [
      "Second region\n",
      "Average profit:392950.47517060395\n",
      "95% confidence interval: from -112227.62537857569 [10^3 ru] to 934562.914551164[10^3 ru]\n",
      "Percent Risk 7.000000000000001\n"
     ]
    }
   ],
   "source": [
    "target_3, prediction_3 = get_prediction_and_target(data_3)\n",
    "average_3, low_3, up_3, risk_3 = bootstrap(target_3, prediction_3)\n",
    "print('Second region')\n",
    "print(f\"Average profit:{average_3}\")\n",
    "print(f'95% confidence interval: from {low_3} [10^3 ru] to {up_3}[10^3 ru]')\n",
    "print(f'Percent Risk {round(risk_3, 2) * 100}')"
   ]
  },
  {
   "cell_type": "markdown",
   "metadata": {},
   "source": [
    "Profit, interval and risks are calculated.\n",
    "The second region was chosen as the most profitable. It has the least risk of not paying off, and with minimal production, we will remain in the black."
   ]
  },
  {
   "cell_type": "markdown",
   "metadata": {},
   "source": [
    "**Final conclusion:**\n",
    "    \n",
    "- Preprocessing and EDA have been made.\n",
    "- Trained model for each region on linear regression\n",
    "- Compiled a function for calculating profits in the region.\n",
    "- The profit and risks for each region were calculated and the choice of the region was justified.\n",
    "\n",
    "    \n",
    "The second region turned out to be one of the best in terms of prediction indicators."
   ]
  }
 ],
 "metadata": {
  "ExecuteTimeLog": [
   {
    "duration": 55,
    "start_time": "2022-08-06T09:39:36.035Z"
   },
   {
    "duration": 456,
    "start_time": "2022-08-06T09:39:38.074Z"
   },
   {
    "duration": 1663,
    "start_time": "2022-08-06T09:39:38.532Z"
   },
   {
    "duration": 26,
    "start_time": "2022-08-06T09:39:40.198Z"
   },
   {
    "duration": 13,
    "start_time": "2022-08-06T09:58:11.252Z"
   },
   {
    "duration": 9,
    "start_time": "2022-08-06T09:58:28.202Z"
   },
   {
    "duration": 19,
    "start_time": "2022-08-06T09:58:32.014Z"
   },
   {
    "duration": 16,
    "start_time": "2022-08-06T09:58:36.098Z"
   },
   {
    "duration": 16,
    "start_time": "2022-08-06T09:58:38.788Z"
   },
   {
    "duration": 16,
    "start_time": "2022-08-06T09:58:44.244Z"
   },
   {
    "duration": 16,
    "start_time": "2022-08-06T09:58:48.369Z"
   },
   {
    "duration": 76,
    "start_time": "2022-08-06T09:58:52.516Z"
   },
   {
    "duration": 17,
    "start_time": "2022-08-06T09:58:56.624Z"
   },
   {
    "duration": 16,
    "start_time": "2022-08-06T09:59:01.563Z"
   },
   {
    "duration": 13,
    "start_time": "2022-08-06T09:59:13.662Z"
   },
   {
    "duration": 38,
    "start_time": "2022-08-06T10:00:22.717Z"
   },
   {
    "duration": 17,
    "start_time": "2022-08-06T10:01:25.096Z"
   },
   {
    "duration": 45,
    "start_time": "2022-08-06T10:02:02.753Z"
   },
   {
    "duration": 12,
    "start_time": "2022-08-06T10:02:22.028Z"
   },
   {
    "duration": 150,
    "start_time": "2022-08-06T10:02:29.176Z"
   },
   {
    "duration": 95,
    "start_time": "2022-08-06T10:03:24.455Z"
   },
   {
    "duration": 78,
    "start_time": "2022-08-06T10:04:19.129Z"
   },
   {
    "duration": 161,
    "start_time": "2022-08-06T10:04:32.275Z"
   },
   {
    "duration": 152,
    "start_time": "2022-08-06T10:04:42.543Z"
   },
   {
    "duration": 145,
    "start_time": "2022-08-06T10:05:44.857Z"
   },
   {
    "duration": 148,
    "start_time": "2022-08-06T10:06:07.757Z"
   },
   {
    "duration": 92,
    "start_time": "2022-08-06T10:14:38.117Z"
   },
   {
    "duration": 6,
    "start_time": "2022-08-06T10:15:47.343Z"
   },
   {
    "duration": 6,
    "start_time": "2022-08-06T10:16:46.794Z"
   },
   {
    "duration": 7,
    "start_time": "2022-08-06T10:17:20.036Z"
   },
   {
    "duration": 728,
    "start_time": "2022-08-06T10:55:50.530Z"
   },
   {
    "duration": 73,
    "start_time": "2022-08-06T10:59:25.198Z"
   },
   {
    "duration": 12,
    "start_time": "2022-08-06T10:59:34.187Z"
   },
   {
    "duration": 12,
    "start_time": "2022-08-06T10:59:42.136Z"
   },
   {
    "duration": 12,
    "start_time": "2022-08-06T11:00:09.066Z"
   },
   {
    "duration": 4,
    "start_time": "2022-08-06T11:08:44.114Z"
   },
   {
    "duration": 32,
    "start_time": "2022-08-06T11:09:03.400Z"
   },
   {
    "duration": 36,
    "start_time": "2022-08-06T11:09:34.564Z"
   },
   {
    "duration": 35,
    "start_time": "2022-08-06T11:15:16.500Z"
   },
   {
    "duration": 3,
    "start_time": "2022-08-06T11:19:51.508Z"
   },
   {
    "duration": 38,
    "start_time": "2022-08-06T11:52:20.128Z"
   },
   {
    "duration": 39,
    "start_time": "2022-08-06T11:52:52.006Z"
   },
   {
    "duration": 57,
    "start_time": "2022-08-06T11:53:05.736Z"
   },
   {
    "duration": 41,
    "start_time": "2022-08-06T11:54:57.097Z"
   },
   {
    "duration": 26,
    "start_time": "2022-08-06T11:55:28.728Z"
   },
   {
    "duration": 43,
    "start_time": "2022-08-06T11:55:38.213Z"
   },
   {
    "duration": 27,
    "start_time": "2022-08-06T11:55:58.017Z"
   },
   {
    "duration": 35,
    "start_time": "2022-08-06T11:55:58.184Z"
   },
   {
    "duration": 17,
    "start_time": "2022-08-06T11:56:14.718Z"
   },
   {
    "duration": 35,
    "start_time": "2022-08-06T11:56:16.684Z"
   },
   {
    "duration": 14,
    "start_time": "2022-08-06T11:57:31.821Z"
   },
   {
    "duration": 23,
    "start_time": "2022-08-06T11:57:37.400Z"
   },
   {
    "duration": 5,
    "start_time": "2022-08-06T11:57:39.896Z"
   },
   {
    "duration": 80,
    "start_time": "2022-08-06T11:57:40.447Z"
   },
   {
    "duration": 32,
    "start_time": "2022-08-06T11:57:43.994Z"
   },
   {
    "duration": 101,
    "start_time": "2022-08-06T11:58:07.590Z"
   },
   {
    "duration": 33,
    "start_time": "2022-08-06T11:58:24.570Z"
   },
   {
    "duration": 32,
    "start_time": "2022-08-06T11:58:28.265Z"
   },
   {
    "duration": 4,
    "start_time": "2022-08-06T12:01:43.759Z"
   },
   {
    "duration": 33,
    "start_time": "2022-08-06T12:02:55.356Z"
   },
   {
    "duration": 3,
    "start_time": "2022-08-06T12:04:12.216Z"
   },
   {
    "duration": 29,
    "start_time": "2022-08-06T12:04:24.687Z"
   },
   {
    "duration": 90,
    "start_time": "2022-08-06T12:04:48.001Z"
   },
   {
    "duration": 31,
    "start_time": "2022-08-06T12:05:27.701Z"
   },
   {
    "duration": 30,
    "start_time": "2022-08-06T12:05:44.129Z"
   },
   {
    "duration": 36,
    "start_time": "2022-08-06T12:05:51.801Z"
   },
   {
    "duration": 31,
    "start_time": "2022-08-06T12:06:04.211Z"
   },
   {
    "duration": 32,
    "start_time": "2022-08-06T12:06:21.279Z"
   },
   {
    "duration": 35,
    "start_time": "2022-08-06T12:06:40.879Z"
   },
   {
    "duration": 31,
    "start_time": "2022-08-06T12:07:04.251Z"
   },
   {
    "duration": 1222,
    "start_time": "2022-08-06T12:07:31.069Z"
   },
   {
    "duration": 396,
    "start_time": "2022-08-06T12:07:32.293Z"
   },
   {
    "duration": 17,
    "start_time": "2022-08-06T12:07:32.691Z"
   },
   {
    "duration": 35,
    "start_time": "2022-08-06T12:07:32.710Z"
   },
   {
    "duration": 6,
    "start_time": "2022-08-06T12:07:32.747Z"
   },
   {
    "duration": 92,
    "start_time": "2022-08-06T12:07:32.754Z"
   },
   {
    "duration": 115,
    "start_time": "2022-08-06T12:07:32.848Z"
   },
   {
    "duration": 0,
    "start_time": "2022-08-06T12:07:32.965Z"
   },
   {
    "duration": 32,
    "start_time": "2022-08-06T12:07:48.287Z"
   },
   {
    "duration": 23,
    "start_time": "2022-08-06T12:13:52.352Z"
   },
   {
    "duration": 434,
    "start_time": "2022-08-06T12:14:10.479Z"
   },
   {
    "duration": 1100,
    "start_time": "2022-08-06T12:14:35.142Z"
   },
   {
    "duration": 401,
    "start_time": "2022-08-06T12:14:36.244Z"
   },
   {
    "duration": 21,
    "start_time": "2022-08-06T12:14:36.647Z"
   },
   {
    "duration": 38,
    "start_time": "2022-08-06T12:14:36.670Z"
   },
   {
    "duration": 6,
    "start_time": "2022-08-06T12:14:36.711Z"
   },
   {
    "duration": 100,
    "start_time": "2022-08-06T12:14:36.720Z"
   },
   {
    "duration": 69,
    "start_time": "2022-08-06T12:14:36.822Z"
   },
   {
    "duration": 520,
    "start_time": "2022-08-06T12:14:36.893Z"
   },
   {
    "duration": 428,
    "start_time": "2022-08-06T12:15:06.773Z"
   },
   {
    "duration": 368,
    "start_time": "2022-08-06T12:15:39.245Z"
   },
   {
    "duration": 452,
    "start_time": "2022-08-06T12:15:44.455Z"
   },
   {
    "duration": 5,
    "start_time": "2022-08-06T12:18:58.369Z"
   },
   {
    "duration": 423,
    "start_time": "2022-08-06T12:19:00.484Z"
   },
   {
    "duration": 18,
    "start_time": "2022-08-06T12:27:48.584Z"
   },
   {
    "duration": 4,
    "start_time": "2022-08-06T12:28:59.675Z"
   },
   {
    "duration": 401,
    "start_time": "2022-08-06T12:29:01.801Z"
   },
   {
    "duration": 412,
    "start_time": "2022-08-06T12:32:59.552Z"
   },
   {
    "duration": 19,
    "start_time": "2022-08-06T12:32:59.966Z"
   },
   {
    "duration": 993,
    "start_time": "2022-08-06T12:33:01.136Z"
   },
   {
    "duration": 161,
    "start_time": "2022-08-06T12:33:17.599Z"
   },
   {
    "duration": 158,
    "start_time": "2022-08-06T12:33:24.659Z"
   },
   {
    "duration": 259,
    "start_time": "2022-08-06T12:33:44.355Z"
   },
   {
    "duration": 163,
    "start_time": "2022-08-06T12:33:52.221Z"
   },
   {
    "duration": 316,
    "start_time": "2022-08-06T12:36:14.844Z"
   },
   {
    "duration": 34,
    "start_time": "2022-08-06T12:36:32.196Z"
   },
   {
    "duration": 186,
    "start_time": "2022-08-06T12:36:34.436Z"
   },
   {
    "duration": 206,
    "start_time": "2022-08-06T12:36:43.718Z"
   },
   {
    "duration": 4,
    "start_time": "2022-08-06T12:37:25.207Z"
   },
   {
    "duration": 436,
    "start_time": "2022-08-06T12:37:32.331Z"
   },
   {
    "duration": 465,
    "start_time": "2022-08-06T12:38:06.156Z"
   },
   {
    "duration": 39,
    "start_time": "2022-08-06T12:39:55.879Z"
   },
   {
    "duration": 5,
    "start_time": "2022-08-06T12:41:43.112Z"
   },
   {
    "duration": 74,
    "start_time": "2022-08-06T12:44:22.918Z"
   },
   {
    "duration": 12,
    "start_time": "2022-08-06T12:44:25.402Z"
   },
   {
    "duration": 12,
    "start_time": "2022-08-06T12:44:44.817Z"
   },
   {
    "duration": 5,
    "start_time": "2022-08-06T12:44:58.431Z"
   },
   {
    "duration": 11,
    "start_time": "2022-08-06T12:45:13.888Z"
   },
   {
    "duration": 8,
    "start_time": "2022-08-06T12:45:17.852Z"
   },
   {
    "duration": 15,
    "start_time": "2022-08-06T12:45:49.856Z"
   },
   {
    "duration": 7,
    "start_time": "2022-08-06T12:45:53.933Z"
   },
   {
    "duration": 9,
    "start_time": "2022-08-06T12:46:28.854Z"
   },
   {
    "duration": 9,
    "start_time": "2022-08-06T12:48:01.991Z"
   },
   {
    "duration": 11,
    "start_time": "2022-08-06T12:48:27.756Z"
   },
   {
    "duration": 11,
    "start_time": "2022-08-06T12:48:36.460Z"
   },
   {
    "duration": 7,
    "start_time": "2022-08-06T12:48:45.982Z"
   },
   {
    "duration": 8,
    "start_time": "2022-08-06T12:49:03.803Z"
   },
   {
    "duration": 7,
    "start_time": "2022-08-06T12:49:06.997Z"
   },
   {
    "duration": 7,
    "start_time": "2022-08-06T12:49:08.175Z"
   },
   {
    "duration": 9,
    "start_time": "2022-08-06T12:49:21.609Z"
   },
   {
    "duration": 11,
    "start_time": "2022-08-06T12:49:28.492Z"
   },
   {
    "duration": 9,
    "start_time": "2022-08-06T12:49:33.614Z"
   },
   {
    "duration": 17,
    "start_time": "2022-08-06T12:49:37.389Z"
   },
   {
    "duration": 7,
    "start_time": "2022-08-06T12:49:42.384Z"
   },
   {
    "duration": 71,
    "start_time": "2022-08-06T12:51:12.112Z"
   },
   {
    "duration": 1476,
    "start_time": "2022-08-06T12:57:01.388Z"
   },
   {
    "duration": 407,
    "start_time": "2022-08-06T12:57:03.991Z"
   },
   {
    "duration": 9,
    "start_time": "2022-08-06T12:57:28.228Z"
   },
   {
    "duration": 121,
    "start_time": "2022-08-06T12:57:35.747Z"
   },
   {
    "duration": 84,
    "start_time": "2022-08-06T12:57:45.801Z"
   },
   {
    "duration": 73,
    "start_time": "2022-08-06T12:57:53.646Z"
   },
   {
    "duration": 113,
    "start_time": "2022-08-06T12:58:35.931Z"
   },
   {
    "duration": 4,
    "start_time": "2022-08-06T12:58:40.373Z"
   },
   {
    "duration": 373,
    "start_time": "2022-08-06T12:58:40.734Z"
   },
   {
    "duration": 9,
    "start_time": "2022-08-06T12:58:41.287Z"
   },
   {
    "duration": 13,
    "start_time": "2022-08-06T12:58:53.147Z"
   },
   {
    "duration": 30,
    "start_time": "2022-08-06T12:58:53.727Z"
   },
   {
    "duration": 494,
    "start_time": "2022-08-06T12:58:57.540Z"
   },
   {
    "duration": 55,
    "start_time": "2022-08-06T12:58:58.036Z"
   },
   {
    "duration": 7,
    "start_time": "2022-08-06T12:58:58.184Z"
   },
   {
    "duration": 6,
    "start_time": "2022-08-06T12:59:00.743Z"
   },
   {
    "duration": 82,
    "start_time": "2022-08-06T12:59:01.327Z"
   },
   {
    "duration": 181,
    "start_time": "2022-08-06T12:59:51.223Z"
   },
   {
    "duration": 77,
    "start_time": "2022-08-06T13:00:04.716Z"
   },
   {
    "duration": 85,
    "start_time": "2022-08-06T13:00:24.930Z"
   },
   {
    "duration": 12,
    "start_time": "2022-08-06T13:00:28.511Z"
   },
   {
    "duration": 86,
    "start_time": "2022-08-06T13:00:43.848Z"
   },
   {
    "duration": 10,
    "start_time": "2022-08-06T13:00:46.772Z"
   },
   {
    "duration": 10,
    "start_time": "2022-08-06T13:00:52.347Z"
   },
   {
    "duration": 1141,
    "start_time": "2022-08-06T13:00:57.792Z"
   },
   {
    "duration": 1368,
    "start_time": "2022-08-06T13:01:43.720Z"
   },
   {
    "duration": 414,
    "start_time": "2022-08-06T13:01:45.090Z"
   },
   {
    "duration": 3,
    "start_time": "2022-08-06T13:01:45.505Z"
   },
   {
    "duration": 55,
    "start_time": "2022-08-06T13:01:45.510Z"
   },
   {
    "duration": 469,
    "start_time": "2022-08-06T13:01:45.567Z"
   },
   {
    "duration": 58,
    "start_time": "2022-08-06T13:01:46.038Z"
   },
   {
    "duration": 7,
    "start_time": "2022-08-06T13:01:46.097Z"
   },
   {
    "duration": 6,
    "start_time": "2022-08-06T13:01:46.106Z"
   },
   {
    "duration": 167,
    "start_time": "2022-08-06T13:01:46.113Z"
   },
   {
    "duration": 52,
    "start_time": "2022-08-06T13:01:46.291Z"
   },
   {
    "duration": 38,
    "start_time": "2022-08-06T13:01:55.740Z"
   },
   {
    "duration": 36,
    "start_time": "2022-08-06T13:02:09.718Z"
   },
   {
    "duration": 1399,
    "start_time": "2022-08-06T13:03:18.923Z"
   },
   {
    "duration": 81,
    "start_time": "2022-08-06T13:03:29.669Z"
   },
   {
    "duration": 81,
    "start_time": "2022-08-06T13:03:33.881Z"
   },
   {
    "duration": 79,
    "start_time": "2022-08-06T13:03:41.325Z"
   },
   {
    "duration": 93,
    "start_time": "2022-08-06T13:03:44.677Z"
   },
   {
    "duration": 81,
    "start_time": "2022-08-06T13:03:47.718Z"
   },
   {
    "duration": 52,
    "start_time": "2022-08-06T13:04:31.918Z"
   },
   {
    "duration": 13,
    "start_time": "2022-08-06T13:04:58.522Z"
   },
   {
    "duration": 6,
    "start_time": "2022-08-06T13:05:28.045Z"
   },
   {
    "duration": 6,
    "start_time": "2022-08-06T13:05:46.622Z"
   },
   {
    "duration": 45,
    "start_time": "2022-08-06T17:38:16.454Z"
   },
   {
    "duration": 3,
    "start_time": "2022-08-06T17:38:25.108Z"
   },
   {
    "duration": 4,
    "start_time": "2022-08-06T17:38:25.463Z"
   },
   {
    "duration": 4,
    "start_time": "2022-08-06T17:44:13.952Z"
   },
   {
    "duration": 4,
    "start_time": "2022-08-06T17:46:11.325Z"
   },
   {
    "duration": 5,
    "start_time": "2022-08-06T17:49:49.012Z"
   },
   {
    "duration": 4,
    "start_time": "2022-08-06T17:49:55.081Z"
   },
   {
    "duration": 4,
    "start_time": "2022-08-06T17:50:14.074Z"
   },
   {
    "duration": 3,
    "start_time": "2022-08-06T17:54:54.497Z"
   },
   {
    "duration": 4,
    "start_time": "2022-08-06T17:55:04.703Z"
   },
   {
    "duration": 4,
    "start_time": "2022-08-06T17:55:51.306Z"
   },
   {
    "duration": 5,
    "start_time": "2022-08-06T17:55:52.313Z"
   },
   {
    "duration": 1320,
    "start_time": "2022-08-06T17:56:03.449Z"
   },
   {
    "duration": 1423,
    "start_time": "2022-08-06T17:56:04.771Z"
   },
   {
    "duration": 43,
    "start_time": "2022-08-06T17:56:06.195Z"
   },
   {
    "duration": 477,
    "start_time": "2022-08-06T17:56:06.240Z"
   },
   {
    "duration": 48,
    "start_time": "2022-08-06T17:56:06.721Z"
   },
   {
    "duration": 7,
    "start_time": "2022-08-06T17:56:06.771Z"
   },
   {
    "duration": 12,
    "start_time": "2022-08-06T17:56:06.780Z"
   },
   {
    "duration": 134,
    "start_time": "2022-08-06T17:56:06.795Z"
   },
   {
    "duration": 46,
    "start_time": "2022-08-06T17:56:06.930Z"
   },
   {
    "duration": 10,
    "start_time": "2022-08-06T17:56:06.978Z"
   },
   {
    "duration": 9,
    "start_time": "2022-08-06T17:56:06.990Z"
   },
   {
    "duration": 145,
    "start_time": "2022-08-06T17:56:07.001Z"
   },
   {
    "duration": 0,
    "start_time": "2022-08-06T17:56:07.148Z"
   },
   {
    "duration": 0,
    "start_time": "2022-08-06T17:56:07.155Z"
   },
   {
    "duration": 20,
    "start_time": "2022-08-06T17:56:18.066Z"
   },
   {
    "duration": 1216,
    "start_time": "2022-08-06T17:56:47.789Z"
   },
   {
    "duration": 337,
    "start_time": "2022-08-06T17:56:49.008Z"
   },
   {
    "duration": 33,
    "start_time": "2022-08-06T17:56:49.347Z"
   },
   {
    "duration": 416,
    "start_time": "2022-08-06T17:56:49.382Z"
   },
   {
    "duration": 37,
    "start_time": "2022-08-06T17:56:49.800Z"
   },
   {
    "duration": 18,
    "start_time": "2022-08-06T17:56:49.838Z"
   },
   {
    "duration": 6,
    "start_time": "2022-08-06T17:56:49.858Z"
   },
   {
    "duration": 136,
    "start_time": "2022-08-06T17:56:49.865Z"
   },
   {
    "duration": 58,
    "start_time": "2022-08-06T17:56:50.002Z"
   },
   {
    "duration": 10,
    "start_time": "2022-08-06T17:56:50.062Z"
   },
   {
    "duration": 13,
    "start_time": "2022-08-06T17:56:50.074Z"
   },
   {
    "duration": 144,
    "start_time": "2022-08-06T17:56:50.088Z"
   },
   {
    "duration": 0,
    "start_time": "2022-08-06T17:56:50.233Z"
   },
   {
    "duration": 0,
    "start_time": "2022-08-06T17:56:50.234Z"
   },
   {
    "duration": 1455,
    "start_time": "2022-08-06T17:57:36.835Z"
   },
   {
    "duration": 448,
    "start_time": "2022-08-06T17:57:38.293Z"
   },
   {
    "duration": 43,
    "start_time": "2022-08-06T17:57:38.743Z"
   },
   {
    "duration": 599,
    "start_time": "2022-08-06T17:57:38.787Z"
   },
   {
    "duration": 56,
    "start_time": "2022-08-06T17:57:39.389Z"
   },
   {
    "duration": 14,
    "start_time": "2022-08-06T17:57:39.447Z"
   },
   {
    "duration": 9,
    "start_time": "2022-08-06T17:57:39.463Z"
   },
   {
    "duration": 159,
    "start_time": "2022-08-06T17:57:39.474Z"
   },
   {
    "duration": 50,
    "start_time": "2022-08-06T17:57:39.635Z"
   },
   {
    "duration": 10,
    "start_time": "2022-08-06T17:57:39.687Z"
   },
   {
    "duration": 7,
    "start_time": "2022-08-06T17:57:39.699Z"
   },
   {
    "duration": 159,
    "start_time": "2022-08-06T17:57:39.708Z"
   },
   {
    "duration": 0,
    "start_time": "2022-08-06T17:57:39.868Z"
   },
   {
    "duration": 0,
    "start_time": "2022-08-06T17:57:39.870Z"
   },
   {
    "duration": 11,
    "start_time": "2022-08-06T17:58:02.728Z"
   },
   {
    "duration": 48,
    "start_time": "2022-08-06T17:58:09.304Z"
   },
   {
    "duration": 10,
    "start_time": "2022-08-06T17:59:16.592Z"
   },
   {
    "duration": 11,
    "start_time": "2022-08-06T17:59:20.457Z"
   },
   {
    "duration": 3,
    "start_time": "2022-08-06T17:59:26.336Z"
   },
   {
    "duration": 45,
    "start_time": "2022-08-06T17:59:27.903Z"
   },
   {
    "duration": 29,
    "start_time": "2022-08-06T18:00:20.418Z"
   },
   {
    "duration": 49,
    "start_time": "2022-08-06T18:00:27.899Z"
   },
   {
    "duration": 22,
    "start_time": "2022-08-06T18:00:33.878Z"
   },
   {
    "duration": 34,
    "start_time": "2022-08-06T18:00:37.349Z"
   },
   {
    "duration": 435,
    "start_time": "2022-08-06T18:01:15.941Z"
   },
   {
    "duration": 3,
    "start_time": "2022-08-06T18:01:50.030Z"
   },
   {
    "duration": 9,
    "start_time": "2022-08-06T18:01:50.386Z"
   },
   {
    "duration": 4,
    "start_time": "2022-08-06T18:02:09.948Z"
   },
   {
    "duration": 6,
    "start_time": "2022-08-06T18:06:40.398Z"
   },
   {
    "duration": 6,
    "start_time": "2022-08-06T18:07:24.920Z"
   },
   {
    "duration": 6,
    "start_time": "2022-08-06T18:15:05.429Z"
   },
   {
    "duration": 9,
    "start_time": "2022-08-06T18:15:56.498Z"
   },
   {
    "duration": 6,
    "start_time": "2022-08-06T18:16:07.571Z"
   },
   {
    "duration": 4,
    "start_time": "2022-08-06T18:17:48.602Z"
   },
   {
    "duration": 5,
    "start_time": "2022-08-06T18:17:54.368Z"
   },
   {
    "duration": 6,
    "start_time": "2022-08-06T18:18:17.874Z"
   },
   {
    "duration": 5,
    "start_time": "2022-08-06T18:18:32.607Z"
   },
   {
    "duration": 6,
    "start_time": "2022-08-06T18:18:37.658Z"
   },
   {
    "duration": 6,
    "start_time": "2022-08-06T18:19:13.305Z"
   },
   {
    "duration": 7,
    "start_time": "2022-08-06T18:19:21.982Z"
   },
   {
    "duration": 2,
    "start_time": "2022-08-06T18:29:59.963Z"
   },
   {
    "duration": 3,
    "start_time": "2022-08-06T18:30:04.203Z"
   },
   {
    "duration": 3,
    "start_time": "2022-08-06T18:30:04.801Z"
   },
   {
    "duration": 6,
    "start_time": "2022-08-06T18:30:23.076Z"
   },
   {
    "duration": 1205,
    "start_time": "2022-08-06T18:30:28.584Z"
   },
   {
    "duration": 321,
    "start_time": "2022-08-06T18:30:29.791Z"
   },
   {
    "duration": 30,
    "start_time": "2022-08-06T18:30:30.114Z"
   },
   {
    "duration": 409,
    "start_time": "2022-08-06T18:30:30.146Z"
   },
   {
    "duration": 35,
    "start_time": "2022-08-06T18:30:30.557Z"
   },
   {
    "duration": 5,
    "start_time": "2022-08-06T18:30:30.594Z"
   },
   {
    "duration": 13,
    "start_time": "2022-08-06T18:30:30.601Z"
   },
   {
    "duration": 144,
    "start_time": "2022-08-06T18:30:30.615Z"
   },
   {
    "duration": 40,
    "start_time": "2022-08-06T18:30:30.761Z"
   },
   {
    "duration": 10,
    "start_time": "2022-08-06T18:30:30.803Z"
   },
   {
    "duration": 11,
    "start_time": "2022-08-06T18:30:30.815Z"
   },
   {
    "duration": 335,
    "start_time": "2022-08-06T18:30:30.828Z"
   },
   {
    "duration": 3,
    "start_time": "2022-08-06T18:30:31.165Z"
   },
   {
    "duration": 122,
    "start_time": "2022-08-06T18:30:31.256Z"
   },
   {
    "duration": 14,
    "start_time": "2022-08-06T18:30:31.379Z"
   },
   {
    "duration": 15,
    "start_time": "2022-08-06T18:30:31.395Z"
   },
   {
    "duration": 31,
    "start_time": "2022-08-06T18:30:31.411Z"
   },
   {
    "duration": 7,
    "start_time": "2022-08-06T18:30:31.444Z"
   },
   {
    "duration": 89,
    "start_time": "2022-08-06T18:30:42.687Z"
   },
   {
    "duration": 25,
    "start_time": "2022-08-06T18:31:05.886Z"
   },
   {
    "duration": 29,
    "start_time": "2022-08-06T18:31:12.762Z"
   },
   {
    "duration": 321,
    "start_time": "2022-08-06T18:31:31.045Z"
   },
   {
    "duration": 325,
    "start_time": "2022-08-06T18:31:55.257Z"
   },
   {
    "duration": 513,
    "start_time": "2022-08-06T18:32:01.201Z"
   },
   {
    "duration": 299,
    "start_time": "2022-08-06T18:32:04.410Z"
   },
   {
    "duration": 332,
    "start_time": "2022-08-06T18:32:09.167Z"
   },
   {
    "duration": 353,
    "start_time": "2022-08-06T18:34:09.449Z"
   },
   {
    "duration": 275,
    "start_time": "2022-08-06T18:34:22.401Z"
   },
   {
    "duration": 496,
    "start_time": "2022-08-06T18:34:42.153Z"
   },
   {
    "duration": 1572,
    "start_time": "2022-08-06T18:35:59.291Z"
   },
   {
    "duration": 1637,
    "start_time": "2022-08-06T18:38:48.418Z"
   },
   {
    "duration": 2,
    "start_time": "2022-08-06T18:43:32.605Z"
   },
   {
    "duration": 4,
    "start_time": "2022-08-06T18:43:38.553Z"
   },
   {
    "duration": 4,
    "start_time": "2022-08-06T18:53:50.390Z"
   },
   {
    "duration": 8,
    "start_time": "2022-08-06T18:53:51.077Z"
   },
   {
    "duration": 9,
    "start_time": "2022-08-06T18:55:02.652Z"
   },
   {
    "duration": 34,
    "start_time": "2022-08-06T18:55:07.402Z"
   },
   {
    "duration": 79,
    "start_time": "2022-08-06T18:55:41.977Z"
   },
   {
    "duration": 25,
    "start_time": "2022-08-06T18:55:54.014Z"
   },
   {
    "duration": 3,
    "start_time": "2022-08-06T18:56:21.186Z"
   },
   {
    "duration": 74,
    "start_time": "2022-08-06T18:56:29.382Z"
   },
   {
    "duration": 23,
    "start_time": "2022-08-06T18:56:50.327Z"
   },
   {
    "duration": 9,
    "start_time": "2022-08-06T18:56:57.102Z"
   },
   {
    "duration": 19,
    "start_time": "2022-08-06T18:56:59.129Z"
   },
   {
    "duration": 5,
    "start_time": "2022-08-06T18:56:59.789Z"
   },
   {
    "duration": 6,
    "start_time": "2022-08-06T18:57:09.185Z"
   },
   {
    "duration": 19,
    "start_time": "2022-08-06T18:57:21.571Z"
   },
   {
    "duration": 4,
    "start_time": "2022-08-06T18:57:23.145Z"
   },
   {
    "duration": 3,
    "start_time": "2022-08-06T18:57:26.823Z"
   },
   {
    "duration": 17,
    "start_time": "2022-08-06T18:57:27.714Z"
   },
   {
    "duration": 3,
    "start_time": "2022-08-06T18:58:37.364Z"
   },
   {
    "duration": 3,
    "start_time": "2022-08-06T18:58:38.291Z"
   },
   {
    "duration": 23,
    "start_time": "2022-08-06T18:58:40.953Z"
   },
   {
    "duration": 5,
    "start_time": "2022-08-06T18:58:43.136Z"
   },
   {
    "duration": 16,
    "start_time": "2022-08-06T18:58:44.640Z"
   },
   {
    "duration": 1221,
    "start_time": "2022-08-06T18:58:50.636Z"
   },
   {
    "duration": 318,
    "start_time": "2022-08-06T18:58:51.859Z"
   },
   {
    "duration": 30,
    "start_time": "2022-08-06T18:58:52.179Z"
   },
   {
    "duration": 390,
    "start_time": "2022-08-06T18:58:52.210Z"
   },
   {
    "duration": 36,
    "start_time": "2022-08-06T18:58:52.601Z"
   },
   {
    "duration": 21,
    "start_time": "2022-08-06T18:58:52.638Z"
   },
   {
    "duration": 4,
    "start_time": "2022-08-06T18:58:52.660Z"
   },
   {
    "duration": 126,
    "start_time": "2022-08-06T18:58:52.666Z"
   },
   {
    "duration": 36,
    "start_time": "2022-08-06T18:58:52.794Z"
   },
   {
    "duration": 26,
    "start_time": "2022-08-06T18:58:52.833Z"
   },
   {
    "duration": 7,
    "start_time": "2022-08-06T18:58:52.860Z"
   },
   {
    "duration": 388,
    "start_time": "2022-08-06T18:58:52.868Z"
   },
   {
    "duration": 3,
    "start_time": "2022-08-06T18:58:53.257Z"
   },
   {
    "duration": 113,
    "start_time": "2022-08-06T18:58:53.261Z"
   },
   {
    "duration": 14,
    "start_time": "2022-08-06T18:58:53.376Z"
   },
   {
    "duration": 14,
    "start_time": "2022-08-06T18:58:53.391Z"
   },
   {
    "duration": 1672,
    "start_time": "2022-08-06T18:58:53.406Z"
   },
   {
    "duration": 3,
    "start_time": "2022-08-06T18:58:55.080Z"
   },
   {
    "duration": 8,
    "start_time": "2022-08-06T18:58:55.085Z"
   },
   {
    "duration": 6,
    "start_time": "2022-08-06T18:58:55.094Z"
   },
   {
    "duration": 54,
    "start_time": "2022-08-06T18:58:55.101Z"
   },
   {
    "duration": 5,
    "start_time": "2022-08-06T18:58:55.157Z"
   },
   {
    "duration": 194,
    "start_time": "2022-08-06T18:58:55.164Z"
   },
   {
    "duration": 5,
    "start_time": "2022-08-06T18:59:12.827Z"
   },
   {
    "duration": 6,
    "start_time": "2022-08-06T18:59:17.270Z"
   },
   {
    "duration": 5,
    "start_time": "2022-08-06T18:59:24.018Z"
   },
   {
    "duration": 2,
    "start_time": "2022-08-06T19:00:12.725Z"
   },
   {
    "duration": 5,
    "start_time": "2022-08-06T19:00:19.198Z"
   },
   {
    "duration": 815,
    "start_time": "2022-08-06T19:00:28.010Z"
   },
   {
    "duration": 4,
    "start_time": "2022-08-06T19:00:37.676Z"
   },
   {
    "duration": 3,
    "start_time": "2022-08-06T19:02:12.663Z"
   },
   {
    "duration": 2,
    "start_time": "2022-08-06T19:02:15.810Z"
   },
   {
    "duration": 4,
    "start_time": "2022-08-06T19:02:16.152Z"
   },
   {
    "duration": 5,
    "start_time": "2022-08-06T19:02:16.555Z"
   },
   {
    "duration": 3,
    "start_time": "2022-08-06T19:02:17.189Z"
   },
   {
    "duration": 1470,
    "start_time": "2022-08-06T19:02:18.399Z"
   },
   {
    "duration": 3,
    "start_time": "2022-08-06T19:02:21.968Z"
   },
   {
    "duration": 4,
    "start_time": "2022-08-06T19:02:24.893Z"
   },
   {
    "duration": 24,
    "start_time": "2022-08-06T19:02:25.289Z"
   },
   {
    "duration": 3,
    "start_time": "2022-08-06T19:02:25.766Z"
   },
   {
    "duration": 5,
    "start_time": "2022-08-06T19:02:28.766Z"
   },
   {
    "duration": 4,
    "start_time": "2022-08-06T19:02:29.731Z"
   },
   {
    "duration": 818,
    "start_time": "2022-08-06T19:02:30.511Z"
   },
   {
    "duration": 3,
    "start_time": "2022-08-06T19:02:31.331Z"
   },
   {
    "duration": 2,
    "start_time": "2022-08-06T19:02:56.300Z"
   },
   {
    "duration": 4,
    "start_time": "2022-08-06T19:03:02.455Z"
   },
   {
    "duration": 4,
    "start_time": "2022-08-06T19:03:02.813Z"
   },
   {
    "duration": 27,
    "start_time": "2022-08-06T19:03:03.345Z"
   },
   {
    "duration": 4,
    "start_time": "2022-08-06T19:03:03.639Z"
   },
   {
    "duration": 5,
    "start_time": "2022-08-06T19:03:04.133Z"
   },
   {
    "duration": 4,
    "start_time": "2022-08-06T19:03:05.225Z"
   },
   {
    "duration": 863,
    "start_time": "2022-08-06T19:03:06.111Z"
   },
   {
    "duration": 4,
    "start_time": "2022-08-06T19:03:06.975Z"
   },
   {
    "duration": 177,
    "start_time": "2022-08-06T19:06:34.178Z"
   },
   {
    "duration": 38,
    "start_time": "2022-08-06T19:06:42.918Z"
   },
   {
    "duration": 166,
    "start_time": "2022-08-06T19:08:42.590Z"
   },
   {
    "duration": 4,
    "start_time": "2022-08-06T19:08:48.787Z"
   },
   {
    "duration": 4,
    "start_time": "2022-08-06T19:08:49.685Z"
   },
   {
    "duration": 927,
    "start_time": "2022-08-06T19:08:51.208Z"
   },
   {
    "duration": 965,
    "start_time": "2022-08-06T19:09:20.074Z"
   },
   {
    "duration": 3,
    "start_time": "2022-08-06T19:09:28.826Z"
   },
   {
    "duration": 4,
    "start_time": "2022-08-06T19:09:29.162Z"
   },
   {
    "duration": 4,
    "start_time": "2022-08-06T19:09:29.574Z"
   },
   {
    "duration": 949,
    "start_time": "2022-08-06T19:09:30.706Z"
   },
   {
    "duration": 3,
    "start_time": "2022-08-06T19:09:35.136Z"
   },
   {
    "duration": 4,
    "start_time": "2022-08-06T19:09:35.605Z"
   },
   {
    "duration": 4,
    "start_time": "2022-08-06T19:09:36.127Z"
   },
   {
    "duration": 1080,
    "start_time": "2022-08-06T19:09:37.031Z"
   },
   {
    "duration": 3,
    "start_time": "2022-08-06T19:09:45.178Z"
   },
   {
    "duration": 4,
    "start_time": "2022-08-06T19:09:45.534Z"
   },
   {
    "duration": 4,
    "start_time": "2022-08-06T19:09:46.866Z"
   },
   {
    "duration": 953,
    "start_time": "2022-08-06T19:09:47.792Z"
   },
   {
    "duration": 1108,
    "start_time": "2022-08-06T19:13:41.016Z"
   },
   {
    "duration": 950,
    "start_time": "2022-08-06T19:14:54.281Z"
   },
   {
    "duration": 987,
    "start_time": "2022-08-06T19:22:44.918Z"
   },
   {
    "duration": 965,
    "start_time": "2022-08-06T19:29:34.573Z"
   },
   {
    "duration": 1094,
    "start_time": "2022-08-06T19:29:36.979Z"
   },
   {
    "duration": 954,
    "start_time": "2022-08-06T19:29:45.271Z"
   },
   {
    "duration": 991,
    "start_time": "2022-08-06T19:29:47.288Z"
   },
   {
    "duration": 996,
    "start_time": "2022-08-06T19:29:54.827Z"
   },
   {
    "duration": 986,
    "start_time": "2022-08-06T19:30:04.380Z"
   },
   {
    "duration": 992,
    "start_time": "2022-08-06T19:30:05.368Z"
   },
   {
    "duration": 997,
    "start_time": "2022-08-06T19:30:20.419Z"
   },
   {
    "duration": 1000,
    "start_time": "2022-08-06T19:30:21.418Z"
   },
   {
    "duration": 976,
    "start_time": "2022-08-06T19:30:22.420Z"
   },
   {
    "duration": 962,
    "start_time": "2022-08-06T19:30:30.176Z"
   },
   {
    "duration": 1002,
    "start_time": "2022-08-06T19:30:31.140Z"
   },
   {
    "duration": 973,
    "start_time": "2022-08-06T19:30:32.144Z"
   },
   {
    "duration": 998,
    "start_time": "2022-08-06T19:31:50.032Z"
   },
   {
    "duration": 1053,
    "start_time": "2022-08-06T19:31:51.032Z"
   },
   {
    "duration": 948,
    "start_time": "2022-08-06T19:31:52.087Z"
   },
   {
    "duration": 1237,
    "start_time": "2022-08-06T19:41:45.941Z"
   },
   {
    "duration": 377,
    "start_time": "2022-08-06T19:41:47.180Z"
   },
   {
    "duration": 30,
    "start_time": "2022-08-06T19:41:47.559Z"
   },
   {
    "duration": 390,
    "start_time": "2022-08-06T19:41:47.591Z"
   },
   {
    "duration": 34,
    "start_time": "2022-08-06T19:41:47.983Z"
   },
   {
    "duration": 5,
    "start_time": "2022-08-06T19:41:48.018Z"
   },
   {
    "duration": 4,
    "start_time": "2022-08-06T19:41:48.025Z"
   },
   {
    "duration": 135,
    "start_time": "2022-08-06T19:41:48.031Z"
   },
   {
    "duration": 35,
    "start_time": "2022-08-06T19:41:48.168Z"
   },
   {
    "duration": 9,
    "start_time": "2022-08-06T19:41:48.205Z"
   },
   {
    "duration": 6,
    "start_time": "2022-08-06T19:41:48.216Z"
   },
   {
    "duration": 432,
    "start_time": "2022-08-06T19:41:48.223Z"
   },
   {
    "duration": 3,
    "start_time": "2022-08-06T19:41:48.658Z"
   },
   {
    "duration": 94,
    "start_time": "2022-08-06T19:41:48.663Z"
   },
   {
    "duration": 8,
    "start_time": "2022-08-06T19:41:48.759Z"
   },
   {
    "duration": 3,
    "start_time": "2022-08-06T19:41:48.769Z"
   },
   {
    "duration": 1593,
    "start_time": "2022-08-06T19:41:48.774Z"
   },
   {
    "duration": 3,
    "start_time": "2022-08-06T19:41:50.369Z"
   },
   {
    "duration": 5,
    "start_time": "2022-08-06T19:41:50.373Z"
   },
   {
    "duration": 5,
    "start_time": "2022-08-06T19:41:50.379Z"
   },
   {
    "duration": 5,
    "start_time": "2022-08-06T19:41:50.385Z"
   },
   {
    "duration": 1023,
    "start_time": "2022-08-06T19:41:50.391Z"
   },
   {
    "duration": 0,
    "start_time": "2022-08-06T19:41:51.415Z"
   },
   {
    "duration": 0,
    "start_time": "2022-08-06T19:41:51.416Z"
   },
   {
    "duration": 1214,
    "start_time": "2022-08-06T19:42:12.635Z"
   },
   {
    "duration": 317,
    "start_time": "2022-08-06T19:42:13.851Z"
   },
   {
    "duration": 30,
    "start_time": "2022-08-06T19:42:14.170Z"
   },
   {
    "duration": 382,
    "start_time": "2022-08-06T19:42:14.201Z"
   },
   {
    "duration": 34,
    "start_time": "2022-08-06T19:42:14.585Z"
   },
   {
    "duration": 5,
    "start_time": "2022-08-06T19:42:14.620Z"
   },
   {
    "duration": 5,
    "start_time": "2022-08-06T19:42:14.627Z"
   },
   {
    "duration": 132,
    "start_time": "2022-08-06T19:42:14.633Z"
   },
   {
    "duration": 36,
    "start_time": "2022-08-06T19:42:14.766Z"
   },
   {
    "duration": 11,
    "start_time": "2022-08-06T19:42:14.803Z"
   },
   {
    "duration": 6,
    "start_time": "2022-08-06T19:42:14.815Z"
   },
   {
    "duration": 347,
    "start_time": "2022-08-06T19:42:14.822Z"
   },
   {
    "duration": 3,
    "start_time": "2022-08-06T19:42:15.255Z"
   },
   {
    "duration": 108,
    "start_time": "2022-08-06T19:42:15.262Z"
   },
   {
    "duration": 19,
    "start_time": "2022-08-06T19:42:15.372Z"
   },
   {
    "duration": 13,
    "start_time": "2022-08-06T19:42:15.392Z"
   },
   {
    "duration": 1657,
    "start_time": "2022-08-06T19:42:15.406Z"
   },
   {
    "duration": 3,
    "start_time": "2022-08-06T19:42:17.065Z"
   },
   {
    "duration": 6,
    "start_time": "2022-08-06T19:42:17.069Z"
   },
   {
    "duration": 4,
    "start_time": "2022-08-06T19:42:17.076Z"
   },
   {
    "duration": 6,
    "start_time": "2022-08-06T19:42:17.082Z"
   },
   {
    "duration": 1018,
    "start_time": "2022-08-06T19:42:17.090Z"
   },
   {
    "duration": 952,
    "start_time": "2022-08-06T19:42:18.109Z"
   },
   {
    "duration": 961,
    "start_time": "2022-08-06T19:42:19.062Z"
   },
   {
    "duration": 445,
    "start_time": "2022-08-08T17:51:04.333Z"
   },
   {
    "duration": 8,
    "start_time": "2022-08-08T17:51:42.340Z"
   },
   {
    "duration": 7,
    "start_time": "2022-08-08T17:51:45.568Z"
   },
   {
    "duration": 13692,
    "start_time": "2022-08-08T17:52:03.299Z"
   },
   {
    "duration": 4,
    "start_time": "2022-08-08T17:52:18.636Z"
   },
   {
    "duration": 88,
    "start_time": "2022-08-08T17:54:05.467Z"
   },
   {
    "duration": 4,
    "start_time": "2022-08-08T17:54:09.255Z"
   },
   {
    "duration": 1576,
    "start_time": "2022-08-08T17:54:09.662Z"
   },
   {
    "duration": 9271,
    "start_time": "2022-08-08T17:54:11.239Z"
   },
   {
    "duration": 4074,
    "start_time": "2022-08-08T18:02:53.317Z"
   },
   {
    "duration": 18,
    "start_time": "2022-08-08T18:03:20.445Z"
   },
   {
    "duration": 24,
    "start_time": "2022-08-08T18:04:09.459Z"
   },
   {
    "duration": 3691,
    "start_time": "2022-08-08T18:04:15.028Z"
   },
   {
    "duration": 3711,
    "start_time": "2022-08-08T18:05:12.453Z"
   },
   {
    "duration": 3812,
    "start_time": "2022-08-08T18:06:00.665Z"
   }
  ],
  "kernelspec": {
   "display_name": "Python 3 (ipykernel)",
   "language": "python",
   "name": "python3"
  },
  "language_info": {
   "codemirror_mode": {
    "name": "ipython",
    "version": 3
   },
   "file_extension": ".py",
   "mimetype": "text/x-python",
   "name": "python",
   "nbconvert_exporter": "python",
   "pygments_lexer": "ipython3",
   "version": "3.9.12"
  },
  "toc": {
   "base_numbering": 1,
   "nav_menu": {},
   "number_sections": true,
   "sideBar": true,
   "skip_h1_title": true,
   "title_cell": "Table of Contents",
   "title_sidebar": "Contents",
   "toc_cell": false,
   "toc_position": {},
   "toc_section_display": true,
   "toc_window_display": false
  }
 },
 "nbformat": 4,
 "nbformat_minor": 2
}
